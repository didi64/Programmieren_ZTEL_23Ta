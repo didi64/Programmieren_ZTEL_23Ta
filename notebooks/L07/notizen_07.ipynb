{
 "cells": [
  {
   "cell_type": "code",
   "execution_count": 19,
   "id": "5ca10c4d-2d4e-4869-9014-31c226d59c68",
   "metadata": {},
   "outputs": [
    {
     "name": "stdout",
     "output_type": "stream",
     "text": [
      "0 x\n",
      "1 y\n",
      "2 z\n"
     ]
    }
   ],
   "source": [
    "s = 'xyz'\n",
    "tuple(enumerate(s))\n",
    "for i, c in enumerate(s):\n",
    "    print(i, c)"
   ]
  },
  {
   "cell_type": "code",
   "execution_count": null,
   "id": "ed2fbc83-f1a6-42ef-99ed-f72f765cbe15",
   "metadata": {},
   "outputs": [],
   "source": []
  },
  {
   "cell_type": "code",
   "execution_count": 21,
   "id": "01829d15-1b07-48be-94a6-d2ad5aa0398a",
   "metadata": {},
   "outputs": [
    {
     "name": "stdout",
     "output_type": "stream",
     "text": [
      "a x\n",
      "b y\n",
      "c z\n"
     ]
    }
   ],
   "source": [
    "r = 'abc'\n",
    "s = 'xyz'\n",
    "tuple(zip(r, s))\n",
    "for x, y in zip(r, s):\n",
    "    print(x, y)"
   ]
  },
  {
   "cell_type": "code",
   "execution_count": 23,
   "id": "cf2fcbe0-c5ce-4745-8657-ac6d12fd4bf7",
   "metadata": {},
   "outputs": [
    {
     "name": "stdout",
     "output_type": "stream",
     "text": [
      "0,1,2,kein break!\n"
     ]
    }
   ],
   "source": [
    "for i in range(3):\n",
    "    print(i, end=',')\n",
    "    # break\n",
    "else:\n",
    "    print('kein break!')"
   ]
  },
  {
   "cell_type": "code",
   "execution_count": 7,
   "id": "de27c3aa-21f1-4b3e-b8f4-88bb097d8e12",
   "metadata": {},
   "outputs": [
    {
     "data": {
      "text/plain": [
       "'\\nfor, bar ,\\n\\nbaz\\n'"
      ]
     },
     "execution_count": 7,
     "metadata": {},
     "output_type": "execute_result"
    }
   ],
   "source": [
    "text = '''\n",
    "for, bar ,\n",
    "\n",
    "baz\n",
    "'''\n",
    "text"
   ]
  },
  {
   "cell_type": "code",
   "execution_count": null,
   "id": "35a7507c-9e96-487e-9385-bf7506ce9075",
   "metadata": {},
   "outputs": [],
   "source": []
  },
  {
   "cell_type": "code",
   "execution_count": 6,
   "id": "a34390b9-ce72-4edc-909e-8afe669f0d73",
   "metadata": {},
   "outputs": [
    {
     "data": {
      "text/plain": [
       "['\\nfor', ' bar', '\\n\\nbaz\\n']"
      ]
     },
     "execution_count": 6,
     "metadata": {},
     "output_type": "execute_result"
    }
   ],
   "source": [
    "words = text.split(',')\n",
    "words"
   ]
  },
  {
   "cell_type": "code",
   "execution_count": 8,
   "id": "21a02c4b-4b4f-4f84-9386-7b4f411a7c7e",
   "metadata": {},
   "outputs": [
    {
     "data": {
      "text/plain": [
       "['for', 'bar', 'baz']"
      ]
     },
     "execution_count": 8,
     "metadata": {},
     "output_type": "execute_result"
    }
   ],
   "source": [
    "clean_words = []\n",
    "for word in words:\n",
    "    word = word.strip()\n",
    "    clean_words.append(word)\n",
    "clean_words"
   ]
  },
  {
   "cell_type": "code",
   "execution_count": 9,
   "id": "f17a283b-f74d-4e70-8e0f-cb4fb2299460",
   "metadata": {},
   "outputs": [
    {
     "data": {
      "text/plain": [
       "['for', 'bar', 'baz']"
      ]
     },
     "execution_count": 9,
     "metadata": {},
     "output_type": "execute_result"
    }
   ],
   "source": [
    "[word.strip() for word in words]"
   ]
  },
  {
   "cell_type": "code",
   "execution_count": 10,
   "id": "213a5258-86bd-48e8-85f6-d23c9404d100",
   "metadata": {},
   "outputs": [
    {
     "data": {
      "text/plain": [
       "['bar', 'baz']"
      ]
     },
     "execution_count": 10,
     "metadata": {},
     "output_type": "execute_result"
    }
   ],
   "source": [
    "[word.strip() for word in words if 'f' not in word]"
   ]
  },
  {
   "cell_type": "code",
   "execution_count": 35,
   "id": "ca886b6b-e5f0-4f24-87cd-da7ddda76d72",
   "metadata": {},
   "outputs": [
    {
     "data": {
      "text/plain": [
       "['dann', 'bald', 'ende', 'aber']"
      ]
     },
     "execution_count": 35,
     "metadata": {},
     "output_type": "execute_result"
    }
   ],
   "source": [
    "words = ['dann', 'bald','aber', 'ende', 'dann']\n",
    "words_sorted = sorted(words)\n",
    "list(set(words_sorted))"
   ]
  },
  {
   "cell_type": "code",
   "execution_count": 36,
   "id": "7e2ede6a-4f9a-4584-9b0a-9fda346ccf59",
   "metadata": {},
   "outputs": [
    {
     "data": {
      "text/plain": [
       "['aber', 'bald', 'dann', 'ende']"
      ]
     },
     "execution_count": 36,
     "metadata": {},
     "output_type": "execute_result"
    }
   ],
   "source": [
    "sorted(set(words))"
   ]
  },
  {
   "cell_type": "code",
   "execution_count": null,
   "id": "b66b0476-abfe-4000-adfd-aa1970000e5d",
   "metadata": {},
   "outputs": [],
   "source": [
    "lines = '''\\\n",
    "blab\\\n",
    "blab\n",
    "bla\n",
    "'''\n",
    "\n",
    "fn = 'test.txt'\n",
    "with open(fn, 'w') as f:\n",
    "    f.writelines(lines)"
   ]
  },
  {
   "cell_type": "code",
   "execution_count": null,
   "id": "fd2b5000-5875-4009-b987-930310939e32",
   "metadata": {},
   "outputs": [],
   "source": [
    "with open(fn, 'r') as f:\n",
    "    lines = f.readlines()\n",
    "lines"
   ]
  },
  {
   "cell_type": "code",
   "execution_count": null,
   "id": "6715bfe8-5a1f-4c23-ad47-b8830408bac9",
   "metadata": {},
   "outputs": [],
   "source": [
    "lines = ['1.Zeile', '2.Zeile']\n",
    "with open(fn, 'w') as f:\n",
    "    for line in lines:\n",
    "        f.write(line + '\\n')"
   ]
  },
  {
   "cell_type": "code",
   "execution_count": 24,
   "id": "9b95a6b5-ceed-4b06-be41-987725eca7be",
   "metadata": {},
   "outputs": [],
   "source": [
    "with open('superleague21_22.txt', 'r') as f:\n",
    "    lines1 = f.readlines()\n",
    "\n",
    "with open('superleague21_22.txt', 'r') as f:\n",
    "    lines2 = []\n",
    "    for line in f:\n",
    "        lines2.append(line)"
   ]
  },
  {
   "cell_type": "code",
   "execution_count": 28,
   "id": "0abfa4e3-60c4-4d32-a985-fb23df920fc9",
   "metadata": {},
   "outputs": [
    {
     "data": {
      "text/plain": [
       "True"
      ]
     },
     "execution_count": 28,
     "metadata": {},
     "output_type": "execute_result"
    }
   ],
   "source": []
  },
  {
   "cell_type": "code",
   "execution_count": 37,
   "id": "28a3ae6c-8c01-4329-b3cc-d7e2207b0e3f",
   "metadata": {},
   "outputs": [],
   "source": [
    "from scrabble import buchstabenwert\n",
    "\n",
    "def wortwert(word):\n",
    "    tot = 0\n",
    "    for b in word:\n",
    "        tot += buchstabenwert(b)\n",
    "    return tot"
   ]
  },
  {
   "cell_type": "code",
   "execution_count": 38,
   "id": "c43336f1-2214-4a87-9f26-5347e643a0b1",
   "metadata": {},
   "outputs": [
    {
     "data": {
      "text/plain": [
       "23"
      ]
     },
     "execution_count": 38,
     "metadata": {},
     "output_type": "execute_result"
    }
   ],
   "source": [
    "wortwert('Query')"
   ]
  },
  {
   "cell_type": "code",
   "execution_count": 15,
   "id": "7da39f86-4d5d-4e20-9f96-f068bcd7de3c",
   "metadata": {},
   "outputs": [
    {
     "data": {
      "text/plain": [
       "[7, 7, 23]"
      ]
     },
     "execution_count": 15,
     "metadata": {},
     "output_type": "execute_result"
    }
   ],
   "source": [
    "words = ['Baaar', 'Zoo', 'Query']\n",
    "[wortwert(word) for word in words]"
   ]
  },
  {
   "cell_type": "code",
   "execution_count": 13,
   "id": "19c5e904-6686-4c63-bd63-0fa5514e58da",
   "metadata": {},
   "outputs": [
    {
     "data": {
      "text/plain": [
       "['Query', 'Zoo', 'Baaar']"
      ]
     },
     "execution_count": 13,
     "metadata": {},
     "output_type": "execute_result"
    }
   ],
   "source": [
    "sorted(words, key=wortwert, reverse=True)"
   ]
  },
  {
   "cell_type": "code",
   "execution_count": 16,
   "id": "e3cdd861-302a-46d4-afcb-f4f1608736e9",
   "metadata": {},
   "outputs": [
    {
     "data": {
      "text/plain": [
       "['Query', 'Zoo', 'Baaar']"
      ]
     },
     "execution_count": 16,
     "metadata": {},
     "output_type": "execute_result"
    }
   ],
   "source": [
    "sorted(words, key=lambda word: (wortwert(word), word), reverse=True)"
   ]
  },
  {
   "cell_type": "code",
   "execution_count": 19,
   "id": "d96d3b9d-0e43-495d-8ab9-77f6bc173ac6",
   "metadata": {},
   "outputs": [
    {
     "data": {
      "text/plain": [
       "['Query', 'Baaar', 'Zoo']"
      ]
     },
     "execution_count": 19,
     "metadata": {},
     "output_type": "execute_result"
    }
   ],
   "source": [
    "words_ = sorted(words)\n",
    "sorted(words_, key=wortwert, reverse=True)"
   ]
  },
  {
   "cell_type": "code",
   "execution_count": null,
   "id": "47a767ea-4f9b-4bfb-805f-5e56b2126cd3",
   "metadata": {},
   "outputs": [],
   "source": [
    "def get_consonants(word):\n",
    "    vowel = 'aeiou'\n",
    "    consonants = [c for c in word if c.lower() not in vowel]\n",
    "    return consonants"
   ]
  },
  {
   "cell_type": "code",
   "execution_count": null,
   "id": "1c87c0d8-cb71-497f-bd79-e02e0e4656fc",
   "metadata": {},
   "outputs": [],
   "source": [
    "get_consonants('foobar')"
   ]
  },
  {
   "cell_type": "code",
   "execution_count": null,
   "id": "e0764223-83df-4263-bfd0-04eec513dd64",
   "metadata": {},
   "outputs": [],
   "source": [
    "digits = '0123456789'\n",
    "text = 'foo23, ba2r'\n",
    "\n",
    "letters = []\n",
    "for c in text:\n",
    "    if c not in digits:\n",
    "        letters.append(c)\n",
    "\n",
    "''.join(letters)"
   ]
  },
  {
   "cell_type": "code",
   "execution_count": null,
   "id": "fbabbbf8-421d-486b-9048-f9613a63220a",
   "metadata": {},
   "outputs": [],
   "source": [
    "numbers = [1, 13, 26, 30]\n",
    "distn_pairs = []\n",
    "\n",
    "for n in numbers:\n",
    "    dist = abs(n - 20)\n",
    "    distn_pairs.append((dist, n))\n",
    "\n",
    "min(distn_pairs)[1]"
   ]
  }
 ],
 "metadata": {
  "kernelspec": {
   "display_name": "Python 3 (ipykernel)",
   "language": "python",
   "name": "python3"
  },
  "language_info": {
   "codemirror_mode": {
    "name": "ipython",
    "version": 3
   },
   "file_extension": ".py",
   "mimetype": "text/x-python",
   "name": "python",
   "nbconvert_exporter": "python",
   "pygments_lexer": "ipython3",
   "version": "3.13.0"
  }
 },
 "nbformat": 4,
 "nbformat_minor": 5
}
