{
 "cells": [
  {
   "cell_type": "markdown",
   "id": "d91d92a9-4569-41b5-89f6-30696616e1a9",
   "metadata": {},
   "source": [
    "### Kontrollfragen zur Lektion 7 mit L&ouml;sungen\n",
    "1. Benutze Listcomprehesion um ausgehend von einer Liste mit W&ouml;rtern eine\n",
    "Liste mit den umgedrehten W&ouml;rtern zu erstellen.\n",
    "Drehe nun nur die W&ouml;rter um, die nicht mit einem Grossbuchstaben beginnen (verwende eine passenden Stringmethode).\n",
    "1. Bestimme die L&auml;nge des l&auml;ngsten Wortes in einer Wortliste und\n",
    "   erstelle eine Liste mit den W&ouml;rtern maximaler L&auml;nge.\n",
    "   Schreibe eine Funktion `maxlen_words(words)` die dies tut.\n",
    "1. Erstelle mit Comprehesion und der Stringmetode `join` einen String   \n",
    "   `'1-Mal,2-Mal,3-Mal,4-Mal,5-Mal,6-Mal,7-Mal,8-Mal,9-Mal'`.\n",
    "1. Erstelle auf analoge Weise einen String mit\n",
    "   kommaseparierten Werten der $7$er-Reihe\n",
    "   `'7,14,21,28,35,42,49,56,63'` und schreibe eine Funktion `reihe(n)`, die einen String mit kommaseparierten Werten der $n$er-Reihe zur&uuml;ckgibt.\n",
    "5. Erstelle eine Liste von Strings, die wie folgt aussieht und schreibe\n",
    "   dann diese Strings als Zeilen in ein File.\n",
    "   \n",
    "   ```python\n",
    " \n",
    "   ['1-Mal,2-Mal,3-Mal,4-Mal,5-Mal,6-Mal,7-Mal,8-Mal,9-Mal\\n',\n",
    "    '2,4,6,8,10,12,14,16,18\\n',\n",
    "    '3,6,9,12,15,18,21,24,27\\n',\n",
    "    '4,8,12,16,20,24,28,32,36\\n',\n",
    "    '5,10,15,20,25,30,35,40,45\\n',\n",
    "    '6,12,18,24,30,36,42,48,54\\n',\n",
    "    '7,14,21,28,35,42,49,56,63\\n',\n",
    "    '8,16,24,32,40,48,56,64,72\\n',\n",
    "    '9,18,27,36,45,54,63,72,81\\n',\n",
    "   ]\n",
    "   ```\n",
    "1. &Ouml;ffne dieses File. Lies die Zeilen in eine Liste und entferne\n",
    "   jeweils den Newline-Charakter `\\n`.\n",
    "1. Benutze einen geeigneten Platzhalterstring mit Formatierung um\n",
    "   die Multiplikationstabelle auszugeben.\n",
    "\n",
    "```\n",
    " 1-Mal 2-Mal 3-Mal 4-Mal 5-Mal 6-Mal 7-Mal 8-Mal 9-Mal\n",
    "------------------------------------------------------\n",
    "     2     4     6     8    10    12    14    16    18\n",
    "     3     6     9    12    15    18    21    24    27\n",
    "     4     8    12    16    20    24    28    32    36\n",
    "     5    10    15    20    25    30    35    40    45\n",
    "     6    12    18    24    30    36    42    48    54\n",
    "     7    14    21    28    35    42    49    56    63\n",
    "     8    16    24    32    40    48    56    64    72\n",
    "     9    18    27    36    45    54    63    72    81\n",
    "\n",
    "```\n"
   ]
  },
  {
   "cell_type": "code",
   "execution_count": null,
   "id": "6b5a2f23-e463-43da-b4ef-d730a32feb3f",
   "metadata": {},
   "outputs": [],
   "source": [
    "# 1)\n",
    "words = ['foo', 'sugus', 'bar']\n",
    "words_rev = [word[::-1] for word in words if not word[0].isupper()]\n",
    "words_rev"
   ]
  },
  {
   "cell_type": "code",
   "execution_count": null,
   "id": "5e9dfa18-1b78-4e4b-9ef1-81beed08db55",
   "metadata": {},
   "outputs": [],
   "source": [
    "# 2)\n",
    "# Bestimme die L&auml;nge des l&aungsten Wortes.\n",
    "max_len = max(len(word) for word in words)\n",
    "[word for word in words if len(word) == max_len]"
   ]
  },
  {
   "cell_type": "code",
   "execution_count": null,
   "id": "f9dd6ae9-84b3-40c0-82f2-118f8d8e11a2",
   "metadata": {},
   "outputs": [],
   "source": [
    "def maxlen_words(words):\n",
    "    max_len = max(len(word) for word in words)\n",
    "    return [word for word in words if len(word) == max_len]"
   ]
  },
  {
   "cell_type": "code",
   "execution_count": null,
   "id": "0a0982fa-70e0-4ca5-b213-07ca28ac1103",
   "metadata": {},
   "outputs": [],
   "source": [
    "maxlen_words(words)"
   ]
  },
  {
   "cell_type": "code",
   "execution_count": null,
   "id": "bcc6a4c8-63ae-43db-9ba1-3008d79ed9bf",
   "metadata": {},
   "outputs": [],
   "source": [
    "# 3)\n",
    "header = ','.join('{}-Mal'.format(str(i)) for i in range(1, 10))\n",
    "header"
   ]
  },
  {
   "cell_type": "code",
   "execution_count": null,
   "id": "bea00a92-f9e4-4ded-9a36-6deb85bb3b79",
   "metadata": {},
   "outputs": [],
   "source": [
    "# 4\n",
    "row_7 = ','.join(str(i*7) for i in range(1, 10))\n",
    "row_7"
   ]
  },
  {
   "cell_type": "code",
   "execution_count": null,
   "id": "a976584e-ac42-4f54-9335-f49c2bd9612a",
   "metadata": {},
   "outputs": [],
   "source": [
    "def reihe(n):\n",
    "    return ','.join(str(i*n) for i in range(1, 10))"
   ]
  },
  {
   "cell_type": "code",
   "execution_count": null,
   "id": "8310c545-b4e3-4bae-8f91-696408a23e92",
   "metadata": {},
   "outputs": [],
   "source": [
    "make_row(3)"
   ]
  },
  {
   "cell_type": "code",
   "execution_count": null,
   "id": "1b106cee-3c30-4acb-9f2f-ca91b929a1a4",
   "metadata": {},
   "outputs": [],
   "source": [
    "# 5)\n",
    "rows = [reihe(n) for n in range(2, 10)]\n",
    "rows"
   ]
  },
  {
   "cell_type": "code",
   "execution_count": null,
   "id": "6af2ffa9-7d9b-4432-b8c5-ae7d304e03ed",
   "metadata": {},
   "outputs": [],
   "source": [
    "table = [row + '\\n' for row in [header] + rows]\n",
    "table"
   ]
  },
  {
   "cell_type": "code",
   "execution_count": null,
   "id": "7991c4ca-2624-4da2-a5a4-d50a556341a2",
   "metadata": {},
   "outputs": [],
   "source": [
    "fn = 'mult_table.csv'\n",
    "with open(fn, 'w') as f:\n",
    "    f.writelines(table)    "
   ]
  },
  {
   "cell_type": "code",
   "execution_count": null,
   "id": "37536ee3-5ad7-4386-a5ee-1b413c2f8eaa",
   "metadata": {},
   "outputs": [],
   "source": [
    "# 6\n",
    "fn = 'mult_table.csv'\n",
    "with open(fn, 'r') as f:\n",
    "    lines = [line.strip() for line in f]\n",
    "\n",
    "lines"
   ]
  },
  {
   "cell_type": "code",
   "execution_count": null,
   "id": "b437b566-b65d-4bab-9939-627188e2fe81",
   "metadata": {},
   "outputs": [],
   "source": [
    "# 7)\n",
    "fmt = '{:>6}' * 9\n",
    "header = fmt.format(*lines[0].split(','))\n",
    "print(header)\n",
    "print('-' * len(header))\n",
    "for line in lines[1:]:\n",
    "    print(fmt.format(*line.split(',')))"
   ]
  },
  {
   "cell_type": "code",
   "execution_count": null,
   "id": "0debacc9-d3d3-4809-8dfa-7aac8fc4eef5",
   "metadata": {},
   "outputs": [],
   "source": []
  }
 ],
 "metadata": {
  "kernelspec": {
   "display_name": "Python 3 (ipykernel)",
   "language": "python",
   "name": "python3"
  },
  "language_info": {
   "codemirror_mode": {
    "name": "ipython",
    "version": 3
   },
   "file_extension": ".py",
   "mimetype": "text/x-python",
   "name": "python",
   "nbconvert_exporter": "python",
   "pygments_lexer": "ipython3",
   "version": "3.13.0"
  }
 },
 "nbformat": 4,
 "nbformat_minor": 5
}
