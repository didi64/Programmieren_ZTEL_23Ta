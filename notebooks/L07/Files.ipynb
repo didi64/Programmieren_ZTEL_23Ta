{
 "cells": [
  {
   "cell_type": "markdown",
   "id": "40dd8772-0589-4bfd-b6e4-e1fe690c7170",
   "metadata": {},
   "source": [
    "### Arbeiten mit Textfiles\n",
    "\n",
    "Ein Textfile enth&auml;lt Zeilen (Strings). Der Newline-Charater  `\\n` markiert dabei das Zeilenende.\n",
    "\n",
    "- Werden Zeilen in ein Textfile geschreiben, sollte jede Zeile mit `\\n` enden.\n",
    "  Andernfalls ist der geschriebene String Teil einer l&auml;ngeren Zeile.\n",
    "- Wird eine Zeile gelesen, so ist das letzte Zeichen ein `\\n` (ausser ev. bei der letzten Zeile).\n",
    "\n",
    "\n",
    "\n",
    "\n",
    "Python stellt folgendes Konstrukt zur Bearbeitung von Files zur Verf&uuml;gung:\n",
    "\n",
    "```python\n",
    "with open(<filename>, mode = <mode>) as f:\n",
    "    <Anweisungen>\n",
    "```\n",
    "**Erl&auml;uterungen**:  `with  open(<filename>, mode = <mode>) as f:`  \n",
    "&ouml;ffnet/erstellt ein File und kreiert ein Fileobjekt, welches in der Variable  `f` gespeichert wird. **In jedem Fall**, nach Abarbeitung der `<Anweisungen>` \n",
    "oder falls  eines der `<Anweisungen>` einen Fehler verursacht,\n",
    "wird das **File wieder geschlossen**.\n",
    "    \n",
    "- `<mode>`: **'w'**, **'r'** oder **'a'** (write, read, append)  \n",
    "i.e. ((&uuml;ber)schreiben, lesen, anh&auml;ngen)\n",
    "  \n",
    "Das Fileobjekt `f` hat u.a. folgende Methoden:\n",
    "  - `f.read() -> str`:\n",
    "     gibt Inhalt des Files als String zur&uuml;ck\n",
    "  - `f.readlines() -> list[str]`: \n",
    "    liest File zeilenweise\n",
    "  - `f.write(text: str)`:\n",
    "     schreibt `text` in File\n",
    "  - `f.writelines(lines: list[str])`:\n",
    "    jeder String in `lines` sollte mit `\\n` enden. Gleicher Effekt wie  \n",
    "    ```python\n",
    "    for line in lines:\n",
    "        f.write(line)\n",
    "    ```\n",
    " \n",
    "Wurde ein File mit \n",
    "> `with open('some_file.txt', mode='r') as f:` \n",
    "\n",
    "zum Lesen ge&ouml;ffnet, so kann man ie folgt \n",
    "&uuml;ber die Zeilen (Strings) des Fileobjekts `f` iterieren.\n",
    "\n",
    "```python\n",
    "for line in f:\n",
    "    <Anweisungen>\n",
    "\n",
    "# gleicher Effekt wie\n",
    "for line in f.readlines():\n",
    "    <Anweisungen>\n",
    "```"
   ]
  },
  {
   "cell_type": "code",
   "execution_count": null,
   "id": "c81e22da-eedd-48eb-9e5e-cbc0d0fe4cba",
   "metadata": {},
   "outputs": [],
   "source": [
    "# Zeilen ohne \\n am Ende\n",
    "lines = ['1. Zeile', '2.Zeile']\n",
    "len(lines), lines"
   ]
  },
  {
   "cell_type": "code",
   "execution_count": null,
   "id": "107d765a-1a80-4357-930d-a58e0a8be6e0",
   "metadata": {},
   "outputs": [],
   "source": [
    "# File schreiben\n",
    "with open('text.txt', 'w') as f:\n",
    "    f.writelines(lines)"
   ]
  },
  {
   "cell_type": "code",
   "execution_count": null,
   "id": "6f4c8b2e-aec3-4c3f-bed0-8ad2705a2ded",
   "metadata": {},
   "outputs": [],
   "source": [
    "# File enthaelt nur 1 Zeile\n",
    "with open('text.txt', 'r') as f:\n",
    "    lines = f.readlines()\n",
    "len(lines), lines"
   ]
  },
  {
   "cell_type": "markdown",
   "id": "beb248b4-473d-4421-bac3-27997d566816",
   "metadata": {
    "collapsed": true,
    "jupyter": {
     "outputs_hidden": true
    },
    "tags": []
   },
   "source": [
    "***\n",
    "**Lesen/Schreiben**: Alles auf einmal \n",
    "***"
   ]
  },
  {
   "cell_type": "code",
   "execution_count": null,
   "id": "76923dd6-fec5-41ef-a2df-5ad8b57a5539",
   "metadata": {},
   "outputs": [],
   "source": [
    "# File erstellen/ueberschreiben\n",
    "text = '''\\\n",
    "1. Zeile\n",
    "2. Zeile\\\n",
    "'''\n",
    "with open('test.txt', mode='w') as f:\n",
    "    f.write(text)"
   ]
  },
  {
   "cell_type": "code",
   "execution_count": null,
   "id": "af4e3c87-331c-40ad-9c9f-6ec3e94d5990",
   "metadata": {},
   "outputs": [],
   "source": [
    "# an File anhaengen\n",
    "more_text = '''\\\n",
    "blabla\n",
    "blabla\n",
    "'''\n",
    "\n",
    "with open('test.txt', mode='a') as f:\n",
    "    f.write(more_text)"
   ]
  },
  {
   "cell_type": "code",
   "execution_count": null,
   "id": "1772e578-0526-4b53-8dfc-f7ad9e6dc1c3",
   "metadata": {},
   "outputs": [],
   "source": [
    "# File lesen\n",
    "with open('test.txt', mode='r') as f:\n",
    "    content = f.read()\n",
    "content"
   ]
  },
  {
   "cell_type": "markdown",
   "id": "eadb64aa-9033-4708-9f48-678fe0e63567",
   "metadata": {},
   "source": [
    "***\n",
    "**Zeilenweise Lesen/Schreiben**: \n",
    "***"
   ]
  },
  {
   "cell_type": "code",
   "execution_count": null,
   "id": "ea62b600-cb51-43fa-8251-da31a3f902b0",
   "metadata": {},
   "outputs": [],
   "source": [
    "lines = (text + more_text).split('\\n')\n",
    "lines = [line + '\\n' for line in lines]\n",
    "with open('test.txt', mode='w') as f:\n",
    "    f.writelines(lines)"
   ]
  },
  {
   "cell_type": "code",
   "execution_count": null,
   "id": "e41d8715-522a-4c91-900d-116094390901",
   "metadata": {},
   "outputs": [],
   "source": [
    "with open('test.txt', mode='r') as f:\n",
    "    lines = f.readlines()\n",
    "lines"
   ]
  },
  {
   "cell_type": "markdown",
   "id": "a4145cb7-c3d3-4941-98c7-613c02eb47fa",
   "metadata": {},
   "source": [
    "***\n",
    "**&uuml;ber Zeilen des Files iterieren**: \n",
    "***"
   ]
  },
  {
   "cell_type": "code",
   "execution_count": null,
   "id": "3d89b385-c5af-4bae-a8ef-5f80da0f04d0",
   "metadata": {},
   "outputs": [],
   "source": [
    "with open('test.txt', mode='r') as f:\n",
    "    lines = []\n",
    "    for line in f:\n",
    "        lines.append(line.strip())\n",
    "lines"
   ]
  },
  {
   "cell_type": "markdown",
   "id": "17755cde-e3af-44f5-a0a4-55b80038f294",
   "metadata": {},
   "source": [
    "### Anwendungsbeispiel\n",
    "Das File `superleague21_22.txt` enth&auml;lt die Abschlusstabelle der Fussball Super League 2021/2022.\n",
    "\n",
    "- Zeilen die mit `#` sind Kommentare.\n",
    "- Die anderen Zeilen bestehen aus Komma-separierten Strings,\n",
    "  umgebender Space geh&ouml;rt nicht zum String.\n",
    "- Die erste Zeile, die kein Kommentar ist, enth&auml;lt die Spaltenheaders.\n",
    "\n",
    "Ziel ist es, die Abschlusstabelle aus dem File zu lesen und formatiert auszugeben.\n",
    "\n",
    "**Lesen und putzen der Daten**:\n",
    "- File im *read-mode* &ouml;ffnen.\n",
    "- &Uuml;ber die Zeilen des Files iterieren, dabei mit `#` beginnende Zeilen   ignorieren. Die anderen Zeilen beim Komma in eine Liste trennen und die Strings in der Liste von umgebendem Space befreien.  \n",
    "  \n",
    "**Formatiertes Ausgeben der Daten**:\n",
    "\n",
    "- Hilfsfunktion `max_colwidth(rows, col)` bereitstellen, die\n",
    "  die maximale L&auml;nge der Strings in der Spalte `col` zur&uuml;ckgibt.\n",
    "- Platzhalterstring mit Formatierung erstellen.\n",
    "  Die ersten beiden Spalten sollen linksb&uuml;ndig, die andern rechstb&uuml;ndig\n",
    "  ausgegeben werden. Aus\n",
    "  ```python\n",
    "  \n",
    "  alignments = '<<>>>>>>'\n",
    "  col_widths = [10, 3, 2, 2, 2, 5, 5, 3]  # berechnet mit max_colwidth\n",
    "  ```\n",
    "  <br>\n",
    "  \n",
    "  erstellen wir dann den Platzhalterstring  \n",
    "  `'{:<11}{:<4}{:>3}{:>3}{:>3}{:>6}{:>6}{:>4}'`,  \n",
    "  den wir zur Ausgabe der Zeilen nutzen."
   ]
  },
  {
   "cell_type": "code",
   "execution_count": null,
   "id": "92a8a8d5-f7de-4f9f-b21a-2137f5ae8820",
   "metadata": {},
   "outputs": [],
   "source": [
    "path = '/home/studi/work/data/'\n",
    "fn = path + 'superleague21_22.txt'\n",
    "sep = ','\n",
    "comment = '#'\n",
    "\n",
    "with open(fn, mode='r') as f:\n",
    "    rows = []\n",
    "    for line in f:\n",
    "        if line.startswith(comment):\n",
    "            continue\n",
    "        row = line.split(sep)\n",
    "        row = [item.strip() for item in row]\n",
    "        rows.append(row)\n",
    "rows"
   ]
  },
  {
   "cell_type": "code",
   "execution_count": null,
   "id": "a1c16d63-b538-40b2-af1c-e290b99dbc58",
   "metadata": {},
   "outputs": [],
   "source": [
    "def max_colwidth(rows, col):\n",
    "    return max(len(row[col]) for row in rows)"
   ]
  },
  {
   "cell_type": "code",
   "execution_count": null,
   "id": "f6472a5f-3de6-4180-8e04-3fcce13aea04",
   "metadata": {},
   "outputs": [],
   "source": [
    "ncols = len(rows[0])  # Anzahl Spalten\n",
    "col_widths = [max_colwidth(rows, i) for i in range(ncols)]\n",
    "col_widths"
   ]
  },
  {
   "cell_type": "code",
   "execution_count": null,
   "id": "cdd23d0a-d347-4bdc-9fe8-7137098e2785",
   "metadata": {},
   "outputs": [],
   "source": [
    "alignments = '<<>>>>>>'\n",
    "fstring = ''\n",
    "for i, a in zip(col_widths, alignments):\n",
    "    fstring += '{:' + a + str(i+1) + '}'\n",
    "fstring"
   ]
  },
  {
   "cell_type": "code",
   "execution_count": null,
   "id": "e4fefe12-7b65-4777-8cf6-1425ca80967f",
   "metadata": {},
   "outputs": [],
   "source": [
    "for row in rows:\n",
    "    print(fstring.format(*row))"
   ]
  },
  {
   "cell_type": "markdown",
   "id": "2bf79423-f550-428e-b07d-10c99e2dab6e",
   "metadata": {},
   "source": [
    "### Aufgaben  \n",
    "1. Schreibe mit `writelines` Zeilen in ein File. Manche Zeilen enden mit `\\n`, manche nicht. Inspiziere das geschriebene File. Lies dann die Zeilen dieses Files mit `readlines`. Wieviele Zeilen werden gelesen? Wieviele geschreiben? Wie h&auml;ngt das mit den Zeilenenden zusammen?\n",
    "2. Schreibe die Zeilen `lines = ['1.Zeile', '2.Zeile']` in ein File, so dass\n",
    "   das File tats&auml;chlich 2 Zeilen enth&auml;lt."
   ]
  },
  {
   "cell_type": "code",
   "execution_count": null,
   "id": "f3c9fd66-6c19-414e-b2d8-8d7e322a316b",
   "metadata": {},
   "outputs": [],
   "source": []
  }
 ],
 "metadata": {
  "author": "dieter.probst@gmail.com",
  "kernelspec": {
   "display_name": "Python 3 (ipykernel)",
   "language": "python",
   "name": "python3"
  },
  "language_info": {
   "codemirror_mode": {
    "name": "ipython",
    "version": 3
   },
   "file_extension": ".py",
   "mimetype": "text/x-python",
   "name": "python",
   "nbconvert_exporter": "python",
   "pygments_lexer": "ipython3",
   "version": "3.13.0"
  }
 },
 "nbformat": 4,
 "nbformat_minor": 5
}
