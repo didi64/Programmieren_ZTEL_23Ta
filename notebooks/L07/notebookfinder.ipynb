{
 "cells": [
  {
   "cell_type": "markdown",
   "id": "61d44420-f395-4439-9498-8277da92dd28",
   "metadata": {},
   "source": [
    "### Notebooks suchen\n",
    "Die Zellen-Magic\n",
    ">%run -m nbf  \n",
    "\n",
    "startet den Notebook-Finder.  \n",
    "Links kann der Ordner ausgew&auml;hlt werden, der nach\n",
    "Notebooks und Pythonfiles (`.ipynb` und `.py` Files) durchsucht werden soll, welche die\n",
    "auf der rechten Seite angegebenen Stichworte enthalten.  \n",
    "Verschiedene Stichworte werden mit `' '` getrennt.\n",
    "`\\ ` wird als zum Stickwort geh&ouml;rendes Leerzeichen interpretiert.\n",
    "\n",
    "- *Alle*: Alle Stickworte m&uuml;ssen vorkommen.\n",
    "- *Manche*: Mind. eines der Stichworte muss vorkommen.\n",
    "- *Case egal*: Gross- und Kleinschreibung wird ignoriert.\n",
    "- *Resultate*: Maximale Anzahl angezeigter Resultate.\n",
    "- *Regex*: Die Eingabe wird als [regul&auml;rer Ausdruck](https://docs.python.org/3/library/re.html) interpretiert.\n",
    "\n",
    "**Beispiele**:\n",
    "- *Alle:* gleich `eval_guess` findet alle Notebooks/Pythonfiles, die `eval_guess` enthalten.\n",
    "- *Alle:* gleich `def\\ eval_guess` findet alle Notebooks/Pythonfiles, wo eine Funktion\n",
    "  `eval_guess` definiert wird. \n",
    "- *Alle:* gleich `max min len`, Case egal unchecked"
   ]
  },
  {
   "cell_type": "code",
   "execution_count": 1,
   "id": "99fbf12c-d1c0-48fc-b63a-c8b31ac87f01",
   "metadata": {},
   "outputs": [
    {
     "data": {
      "application/vnd.jupyter.widget-view+json": {
       "model_id": "17e83851212b4c158d86c248a9848e5b",
       "version_major": 2,
       "version_minor": 0
      },
      "text/plain": [
       "VBox(children=(HBox(children=(Select(options=('⬆️ .', '  📁 Abgaben24', '  📁 CanvasGames', '  📁 Canvas__Lessons…"
      ]
     },
     "metadata": {},
     "output_type": "display_data"
    },
    {
     "data": {
      "application/vnd.jupyter.widget-view+json": {
       "model_id": "4399e53a3df247abbf8e7cf91f7e4aab",
       "version_major": 2,
       "version_minor": 0
      },
      "text/plain": [
       "Output(layout=Layout(border_bottom='1px solid black', border_left='1px solid black', border_right='1px solid b…"
      ]
     },
     "metadata": {},
     "output_type": "display_data"
    }
   ],
   "source": [
    "%run -m nbf"
   ]
  },
  {
   "cell_type": "code",
   "execution_count": null,
   "id": "0a220ba6-c95d-4339-82e9-752b1804fb93",
   "metadata": {},
   "outputs": [],
   "source": []
  },
  {
   "cell_type": "code",
   "execution_count": 24,
   "id": "68a1b38f-e5b4-4690-a272-770aaa723c27",
   "metadata": {},
   "outputs": [],
   "source": []
  },
  {
   "cell_type": "code",
   "execution_count": 10,
   "id": "4e472292-70eb-41ca-af8b-f6e379bf4fb0",
   "metadata": {},
   "outputs": [],
   "source": [
    "import re\n",
    "pat = re.compile(r'(?:^|[ @,;:\\(\\[{=<>\\n])(foo)(?:[ ,;:\\)\\]}\\n]|$)')"
   ]
  },
  {
   "cell_type": "code",
   "execution_count": 11,
   "id": "46ed0228-1d4d-49cd-893e-28be869292a7",
   "metadata": {},
   "outputs": [
    {
     "data": {
      "text/plain": [
       "'foo'"
      ]
     },
     "execution_count": 11,
     "metadata": {},
     "output_type": "execute_result"
    }
   ],
   "source": [
    "pat.search('\\nfoo\\n]').group(1)"
   ]
  },
  {
   "cell_type": "code",
   "execution_count": 2,
   "id": "93076fc5-aedf-44ed-beb8-a1645194b6da",
   "metadata": {},
   "outputs": [],
   "source": [
    "p = '\\nfoo'"
   ]
  },
  {
   "cell_type": "code",
   "execution_count": 3,
   "id": "9e3a739e-b351-4ad9-a80b-9ccbfbbc96d1",
   "metadata": {},
   "outputs": [
    {
     "data": {
      "text/plain": [
       "'(^|[ @,;:\\\\(\\\\[{=<>])(\\nfoo)([ ,;:\\\\)\\\\]}]|$)'"
      ]
     },
     "execution_count": 3,
     "metadata": {},
     "output_type": "execute_result"
    }
   ],
   "source": [
    "rf'(^|[ @,;:\\(\\[{{=<>])({p})([ ,;:\\)\\]}}]|$)'"
   ]
  },
  {
   "cell_type": "code",
   "execution_count": null,
   "id": "203b9a25-150d-4583-8799-bea36252fd8f",
   "metadata": {},
   "outputs": [],
   "source": [
    "str.isalpha"
   ]
  }
 ],
 "metadata": {
  "kernelspec": {
   "display_name": "Python 3 (ipykernel)",
   "language": "python",
   "name": "python3"
  },
  "language_info": {
   "codemirror_mode": {
    "name": "ipython",
    "version": 3
   },
   "file_extension": ".py",
   "mimetype": "text/x-python",
   "name": "python",
   "nbconvert_exporter": "python",
   "pygments_lexer": "ipython3",
   "version": "3.13.0"
  }
 },
 "nbformat": 4,
 "nbformat_minor": 5
}
