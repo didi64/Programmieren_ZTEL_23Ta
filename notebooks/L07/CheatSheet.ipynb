{
 "cells": [
  {
   "cell_type": "markdown",
   "id": "b82dec56-6c10-441a-aba1-391180efead6",
   "metadata": {},
   "source": [
    "### Cheatsheet"
   ]
  },
  {
   "cell_type": "markdown",
   "id": "493451ab-4ef0-474d-a4e7-f15d18250ef3",
   "metadata": {},
   "source": [
    "**int**: Integer/ ganze Zahlen.   \n",
    "Operationen: `+, -, *, /, **, //, %` (plus, minus, mal, durch, hoch, Ganzahldivision,\n",
    "  modulo).  \n",
    "**float**: Floats/Fliesskommazahlen  \n",
    "Operationen: `+, -, *, /, **, //, %`.  \n",
    "Funktionen: `abs(x), min(x, y), max(x, y), round(x, anzahl_stellen)`  \n",
    "**str**: String.  \n",
    "Operationen: `+` Multiplikation mit pos. Integer.  \n",
    "Funktionen: `len`.  \n",
    "Methoden: `format`, `split`, `join`, `index`, `find`, `replace`, `lstrip`, `rstrip`, `strip`.  \n",
    "**bool**: `True` und `False`.  \n",
    "Operationen: `and`, `or`, `not`.  \n",
    "**tuple**: Tuple `x = ('Max', 'Muster')`.  \n",
    "Operationen: `+`, Multiplikation mit pos. Integer.  \n",
    "Funktionen: `len`.  \n",
    "**list**: Liste `x = ['Max', 'Muster']`.  \n",
    "Operationen: `+`, Multiplikation mit pos. Integer.  \n",
    "Funktionen: `len`.  \n",
    "Methoden: `append`, `extend`, `insert`, `remove`, `pop`"
   ]
  },
  {
   "cell_type": "code",
   "execution_count": 1,
   "id": "b8d82208-cb0c-4a97-8abf-d9dc5101232f",
   "metadata": {},
   "outputs": [
    {
     "data": {
      "text/plain": [
       "[1, 3, 4, 5]"
      ]
     },
     "execution_count": 1,
     "metadata": {},
     "output_type": "execute_result"
    }
   ],
   "source": [
    "numbers = [1, 3, 4]\n",
    "numbers.append(5)\n",
    "numbers"
   ]
  },
  {
   "cell_type": "code",
   "execution_count": 113,
   "id": "c66e3a75-10c7-48fd-92a8-f37d6ddcaf11",
   "metadata": {},
   "outputs": [
    {
     "data": {
      "text/plain": [
       "[1, 3, 4, 5, 6, 7]"
      ]
     },
     "execution_count": 113,
     "metadata": {},
     "output_type": "execute_result"
    }
   ],
   "source": [
    "numbers.extend([6, 7])\n",
    "numbers"
   ]
  },
  {
   "cell_type": "code",
   "execution_count": 114,
   "id": "16b0b3aa-d5e7-4a12-8983-b4ff5dd5433b",
   "metadata": {},
   "outputs": [
    {
     "data": {
      "text/plain": [
       "(2, [1, 2, 3, 4, 5, 6, 7])"
      ]
     },
     "execution_count": 114,
     "metadata": {},
     "output_type": "execute_result"
    }
   ],
   "source": [
    "numbers.insert(1, 2)  # nach insert: numbers[1] == 2\n",
    "numbers[1], numbers"
   ]
  },
  {
   "cell_type": "code",
   "execution_count": 116,
   "id": "2408d3c7-6e5d-4889-80e9-6b9eade0cb2d",
   "metadata": {},
   "outputs": [
    {
     "data": {
      "text/plain": [
       "(6, [1, 2, 3, 4, 5])"
      ]
     },
     "execution_count": 116,
     "metadata": {},
     "output_type": "execute_result"
    }
   ],
   "source": [
    "x = numbers.pop()\n",
    "x, numbers"
   ]
  },
  {
   "cell_type": "code",
   "execution_count": 118,
   "id": "d4b73010-62a2-407e-ab19-1ea3ddfa1a18",
   "metadata": {},
   "outputs": [
    {
     "data": {
      "text/plain": [
       "(4, [1, 2, 5])"
      ]
     },
     "execution_count": 118,
     "metadata": {},
     "output_type": "execute_result"
    }
   ],
   "source": [
    "x = numbers.pop(2)  # x = numbers[2]\n",
    "x, numbers"
   ]
  }
 ],
 "metadata": {
  "kernelspec": {
   "display_name": "Python 3 (ipykernel)",
   "language": "python",
   "name": "python3"
  },
  "language_info": {
   "codemirror_mode": {
    "name": "ipython",
    "version": 3
   },
   "file_extension": ".py",
   "mimetype": "text/x-python",
   "name": "python",
   "nbconvert_exporter": "python",
   "pygments_lexer": "ipython3",
   "version": "3.13.0"
  }
 },
 "nbformat": 4,
 "nbformat_minor": 5
}
