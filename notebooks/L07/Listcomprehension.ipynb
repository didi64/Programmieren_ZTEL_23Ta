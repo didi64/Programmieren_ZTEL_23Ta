{
 "cells": [
  {
   "cell_type": "markdown",
   "id": "b3c3c12e-7d03-4f6b-a55f-63161681d37e",
   "metadata": {},
   "source": [
    "### List-Comprehension\n",
    "Folgende Muster zum Erstellen von Listen kommen in Python sehr h&auml;ufig vor.  \n",
    "Python stellt deshalb sog. **Listcomprehension** zur Verf&uuml;gung, welche eine kompaktere Formulierung solchen Codes erlaubt.  \n",
    "Nachstehende 2 typische Anwendungsbeispiele, wie Listen erstellet werden, jeweils einmal mit einem expliziten For-Loop und dann mit Listcomprehsion."
   ]
  },
  {
   "cell_type": "markdown",
   "id": "2a08cc6e-e3f5-46b5-85be-fec65f74669e",
   "metadata": {},
   "source": [
    "***\n",
    "Umgebender White-Space entfernen. Mit For-Loop:\n",
    "***"
   ]
  },
  {
   "cell_type": "code",
   "execution_count": null,
   "id": "07e45602-a9d9-49ef-ab4a-f0fda6c73f55",
   "metadata": {},
   "outputs": [],
   "source": [
    "words = [' foo ', '\\nbar', 'baz ']\n",
    "\n",
    "clean_words = []\n",
    "for word in words:\n",
    "    clean_words.append(word.strip())\n",
    "\n",
    "clean_words"
   ]
  },
  {
   "cell_type": "markdown",
   "id": "9e528402-de26-4231-9a20-10bf2b9229cc",
   "metadata": {},
   "source": [
    "***\n",
    "Umgebender White-Space entfernen. Mit Listcomprehension:\n",
    "***"
   ]
  },
  {
   "cell_type": "code",
   "execution_count": null,
   "id": "8f0dd73c-6d51-434d-8e27-9142ed155590",
   "metadata": {},
   "outputs": [],
   "source": [
    "clean_words = [word.strip() for word in words]\n",
    "clean_words"
   ]
  },
  {
   "cell_type": "markdown",
   "id": "e78f11c3-8527-4a56-bbe1-382db7397cdf",
   "metadata": {},
   "source": [
    "***\n",
    "Liste mit Positionen der Auftreten von 'a' in einem Wort erstellen. Mit For-Loop:\n",
    "***"
   ]
  },
  {
   "cell_type": "code",
   "execution_count": null,
   "id": "2e7f4ed6-5811-4b63-9423-04df279d38b5",
   "metadata": {},
   "outputs": [],
   "source": [
    "word = 'abakadabra'\n",
    "indices_of_a = []\n",
    "\n",
    "for i, c in enumerate(word):\n",
    "    if c == 'a':\n",
    "        indices_of_a.append(i)\n",
    "\n",
    "indices_of_a"
   ]
  },
  {
   "cell_type": "markdown",
   "id": "2e7bbd48-260d-4372-ade1-c263f12ad31d",
   "metadata": {},
   "source": [
    "***\n",
    "Liste mit Positionen der Auftreten von 'a' in einem Wort erstellen. Mit Listcomrehension:\n",
    "***"
   ]
  },
  {
   "cell_type": "code",
   "execution_count": null,
   "id": "716f3fa5-e3a4-4ad8-a875-ed7bac329fc9",
   "metadata": {},
   "outputs": [],
   "source": [
    "word = 'abakadabra'\n",
    "indices_of_a = [i for i, c in enumerate(word) if c == 'a']\n",
    "indices_of_a"
   ]
  },
  {
   "cell_type": "markdown",
   "id": "f8add1a8-16f2-402e-a88b-108990c28948",
   "metadata": {},
   "source": [
    "### List-Comprehesion, allgemeine Form\n",
    "\n",
    "```python\n",
    "lst = [<Ausdruck mit x> for x in <iterable>]\n",
    "\n",
    "# Kurzform fuer\n",
    "lst = []\n",
    "for x in <iterable>:\n",
    "    item = <Ausdruck mit x>\n",
    "    lst.append(item)\n",
    "\n",
    "\n",
    "lst = [<Ausdruck mit x> for x in <iterable> if <expression>]\n",
    "\n",
    "# Kurzform fuer\n",
    "lst = []\n",
    "for x in <iterable>:\n",
    "    if <Bedingung>:\n",
    "        item = <Ausdruck mit x>\n",
    "        lst.append(item)\n",
    "```"
   ]
  },
  {
   "cell_type": "code",
   "execution_count": null,
   "id": "a47c8420-9c8e-4d3f-b038-8094c9c56ef8",
   "metadata": {},
   "outputs": [],
   "source": [
    "# Sammle alle Vokale, die in einem Wort vorkommen\n",
    "vokale = 'AEIOU'\n",
    "word = 'hallo'\n",
    "\n",
    "[c for c in word if c.upper() in vokale]"
   ]
  },
  {
   "cell_type": "markdown",
   "id": "ca70d8d5-8f24-47a0-93ab-c289a5942eae",
   "metadata": {},
   "source": [
    "### Unterschiede zwischen expliziter Verwendung eines For-Loops und Listcomprehesion  \n",
    "- Wird ein expliziter For-Loop verwendet, ist die Schleifenvariable eine **globale** Variable.  \n",
    "  Die **Schleifenvariable  beh&auml;lt ihren Wert**.  \n",
    "\n",
    "- Wird Listcomprehesion verwendet, so ist die Schleifenvariable  eine **lokale** Variable und ist nur innerhalb der Listcomprehesion sichtbar. \n",
    "  **Ausserhalb der Listcomprehesion ist die Schleifenvariable nicht definiert**.\n"
   ]
  },
  {
   "cell_type": "code",
   "execution_count": null,
   "id": "f003f8d2-3a59-4865-9764-e67c6d11448d",
   "metadata": {},
   "outputs": [],
   "source": [
    "%reset -f\n",
    "squares = []\n",
    "for n in range(1,6):\n",
    "    squares.append(n**2)\n",
    "n, squares"
   ]
  },
  {
   "cell_type": "code",
   "execution_count": null,
   "id": "5f4cca38-e3dd-494e-a5a1-0ff5e3c89cc0",
   "metadata": {},
   "outputs": [],
   "source": [
    "%reset -f\n",
    "squares = [n**2 for n in range(1, 6)]\n",
    "'n' in vars(), squares"
   ]
  },
  {
   "cell_type": "markdown",
   "id": "62a4fdba-c10f-49fa-8327-97363dfe5e7a",
   "metadata": {},
   "source": [
    "### Tuple-Comprehension\n",
    "Tuple-Comprehension funktioniert analog zu List-Comprehension.\n",
    "Dabei ist `[...]` durch `tuple(...)` zu ersetzen. Wird `tuple` weggelassen, wird **kein** Tuple erzeugt, sondern ein **Generator**, \n",
    "der **1-Mal** in einem For-Loop verwendet werden kann oder\n",
    "in eine Liste/Tuple umgewandelt werden kann."
   ]
  },
  {
   "cell_type": "code",
   "execution_count": null,
   "id": "b8ad52b9-5cf9-4f6c-8e1e-76ea6902442f",
   "metadata": {},
   "outputs": [],
   "source": [
    "nbrs = tuple(n**2 for n in range(1, 6))\n",
    "nbrs"
   ]
  },
  {
   "cell_type": "code",
   "execution_count": null,
   "id": "cc0f9434-9386-4cbc-85c0-4346a2165e4a",
   "metadata": {},
   "outputs": [],
   "source": [
    "nbrs = (n**2 for n in range(1, 6))\n",
    "nbrs"
   ]
  },
  {
   "cell_type": "code",
   "execution_count": null,
   "id": "55ed1810-2ca0-403a-8295-d9eac2f0ea37",
   "metadata": {},
   "outputs": [],
   "source": [
    "# beim 2. ausfuehren wird nichts mehr ausgegeben!\n",
    "for n in nbrs:\n",
    "    print(n)"
   ]
  },
  {
   "cell_type": "markdown",
   "id": "2e16c76d-16a7-4185-9f83-3d502a95a146",
   "metadata": {},
   "source": [
    "### Aufgaben  \n",
    "1. Schreibe Code, der eine Liste mit allen in einem Wort auftretenden Konsonanten erstellt.\n",
    "1. Schreibe den Code in den folgenden beiden Zellen ohne Listcomprehension.\n",
    "1. Schreibe den Code in den letzten beiden Zellem mit Listcomprehension."
   ]
  },
  {
   "cell_type": "code",
   "execution_count": null,
   "id": "708ffe8d-93f0-44fb-a9fd-6636d314b0fc",
   "metadata": {},
   "outputs": [],
   "source": [
    "# entferne alle Ziffern aus einem String\n",
    "digits = '0123456789'\n",
    "text = 'foo23, ba2r'\n",
    "\n",
    "letters = [c for c in text if c not in digits]\n",
    "''.join(letters)"
   ]
  },
  {
   "cell_type": "code",
   "execution_count": null,
   "id": "65d0033f-f103-41c0-9c91-e16c13896227",
   "metadata": {},
   "outputs": [],
   "source": [
    "# Welche Zahl liegt am naechsten bei 20?\n",
    "numbers = [1, 13, 26, 30]\n",
    "dists = [abs(n - 20) for n in numbers]\n",
    "least_dist = min(dists)\n",
    "i = dists.index(least_dist)\n",
    "numbers[i]"
   ]
  },
  {
   "cell_type": "code",
   "execution_count": null,
   "id": "ab33763f-046b-479f-b87d-baeeb338c9a1",
   "metadata": {},
   "outputs": [],
   "source": [
    "words = ['abcde', 'ab', 'abcd']\n",
    "max([len(word) for word in words])"
   ]
  },
  {
   "cell_type": "code",
   "execution_count": null,
   "id": "83246a20-6964-4c3d-804f-6312b69d0cb0",
   "metadata": {},
   "outputs": [],
   "source": [
    "words = ['abcde', '', 'xyz']\n",
    "firsts = [word[0].upper() for word in words if word]\n",
    "firsts"
   ]
  },
  {
   "cell_type": "code",
   "execution_count": null,
   "id": "bb58cad6-cd64-41e5-857a-e4b9d59c11cb",
   "metadata": {},
   "outputs": [],
   "source": [
    "# Loesung 1)\n",
    "vowel = 'aeiou'\n",
    "word = 'Foobar'\n",
    "\n",
    "[c for c in word if c.lower() not in vowel]"
   ]
  },
  {
   "cell_type": "code",
   "execution_count": null,
   "id": "74d2886f-8966-4da6-98c0-c0fe3690b05e",
   "metadata": {},
   "outputs": [],
   "source": [
    "# Loesung 2a\n",
    "digits = '0123456789'\n",
    "text = 'foo23, ba2r'\n",
    "letters = []\n",
    "for c in text:\n",
    "    if c not in digits:\n",
    "        letters.append(c)\n",
    "        \n",
    "''.join(letters)"
   ]
  },
  {
   "cell_type": "code",
   "execution_count": null,
   "id": "8cfc69b9-70f1-49fa-b74b-7f4926949b13",
   "metadata": {},
   "outputs": [],
   "source": [
    "# Loesung 2b\n",
    "numbers = [1, 13, 26, 30]\n",
    "dists = []\n",
    "for n in numbers:\n",
    "    dist = abs(n - 20)\n",
    "    dists.append(dist)\n",
    "\n",
    "least_dist = min(dists)\n",
    "i = dists.index(least_dist)\n",
    "numbers[i]"
   ]
  },
  {
   "cell_type": "code",
   "execution_count": null,
   "id": "e896144e-06a7-4987-bd66-c4d94ba7f8bf",
   "metadata": {},
   "outputs": [],
   "source": [
    "words = ['abcde', 'ab', 'abcd']\n",
    "lengths = []\n",
    "for word in words:\n",
    "    n = len(word)\n",
    "    lengths.append(n)\n",
    "    \n",
    "max(lengths)"
   ]
  },
  {
   "cell_type": "code",
   "execution_count": null,
   "id": "dcb03bcc-50dd-4441-acc1-4570b02f7d13",
   "metadata": {},
   "outputs": [],
   "source": [
    "words = ['abcde', '', 'xyz']\n",
    "letters = []\n",
    "for word in words:\n",
    "    if word:\n",
    "        c = word[0].upper()\n",
    "        letters.append(c)\n",
    "\n",
    "letters"
   ]
  },
  {
   "cell_type": "code",
   "execution_count": null,
   "id": "250ddcff-4869-4cf8-9b6e-fd973f4b10a1",
   "metadata": {},
   "outputs": [],
   "source": []
  }
 ],
 "metadata": {
  "author": "dieter.probst@gmail.com",
  "kernelspec": {
   "display_name": "Python 3 (ipykernel)",
   "language": "python",
   "name": "python3"
  },
  "language_info": {
   "codemirror_mode": {
    "name": "ipython",
    "version": 3
   },
   "file_extension": ".py",
   "mimetype": "text/x-python",
   "name": "python",
   "nbconvert_exporter": "python",
   "pygments_lexer": "ipython3",
   "version": "3.13.0"
  }
 },
 "nbformat": 4,
 "nbformat_minor": 5
}
