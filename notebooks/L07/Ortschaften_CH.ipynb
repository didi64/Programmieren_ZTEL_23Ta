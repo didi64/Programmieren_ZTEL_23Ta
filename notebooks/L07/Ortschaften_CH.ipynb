{
 "cells": [
  {
   "cell_type": "markdown",
   "id": "1c996f4a-c594-4d48-bc74-2c67d10a914d",
   "metadata": {},
   "source": [
    "### Ortschaften der Schweiz\n",
    "Das File `PLZO_CSV_LV95.csv` enth&auml;lt eine Tabelle mit Angaben zu Ortschaften in der Schweiz. Wir wollen uns einen ersten &Uuml;berblick &uuml;ber diesen Datensatz verschaffen."
   ]
  },
  {
   "cell_type": "code",
   "execution_count": null,
   "id": "e2a7e043-c9ba-447c-b008-f0d2fdccc668",
   "metadata": {},
   "outputs": [],
   "source": [
    "# File oeffnen, Zeilen von umgebendem Whitespace befreien und in Liste einlesen\n",
    "# Anzahl Zeilen ausgeben\n",
    "PATH = '/home/studi/work/data'\n",
    "FILENAME = PATH + 'PLZO_CSV_LV95.csv'\n",
    "\n",
    "with open(FILENAME, 'r') as f:\n",
    "    lines = [line.strip() for line in f]\n",
    "len(lines)"
   ]
  },
  {
   "cell_type": "code",
   "execution_count": null,
   "id": "e53dea65-9895-4e7c-b0dd-ea812592a928",
   "metadata": {},
   "outputs": [],
   "source": [
    "# 1., 2. und letzte Zeile ausgeben\n",
    "for i in (0, 1, -1):\n",
    "    print(lines[i])"
   ]
  },
  {
   "cell_type": "code",
   "execution_count": null,
   "id": "56e2f66a-9550-418e-a068-613149806c1f",
   "metadata": {},
   "outputs": [],
   "source": [
    "# Spaltenindex und Spaltenname ausgeben\n",
    "SEP = ';'\n",
    "header = lines[0].split(SEP)\n",
    "for i, col in enumerate(header):\n",
    "    print(i, col)"
   ]
  },
  {
   "cell_type": "code",
   "execution_count": null,
   "id": "e6ca9284-cbc1-4ce0-949b-90a69d2e86c8",
   "metadata": {},
   "outputs": [],
   "source": [
    "# Die Koordinaten interessieren uns im Moment nicht.\n",
    "# Um nicht im Kopf behalten zu muessen, welche Spalte welche Info enthaelt,\n",
    "# definieren wir entsprechende Konstanten\n",
    "ORT = 0\n",
    "PLZ = 1\n",
    "ZZ = 2\n",
    "GDE = 3\n",
    "KT = 4\n",
    "LG = 5\n",
    "cols = (0, 1, 2, 3, 5, 8)\n",
    "\n",
    "spalten = tuple(header[i] for i in cols)\n",
    "spalten"
   ]
  },
  {
   "cell_type": "code",
   "execution_count": null,
   "id": "7323b54f-7a2b-4512-8652-813659f5c79f",
   "metadata": {},
   "outputs": [],
   "source": [
    "# Datenzeilen erstellen mit ausgewaehlten Spalten\n",
    "rows = []\n",
    "for line in lines[1:]:\n",
    "    row = line.split(SEP)\n",
    "    row = [row[i] for i in cols]\n",
    "    rows.append(row)\n",
    "rows[0]   "
   ]
  },
  {
   "cell_type": "code",
   "execution_count": null,
   "id": "c223335d-8672-4f7f-a2f1-e22ae902d963",
   "metadata": {},
   "outputs": [],
   "source": [
    "rows[1000][ORT], rows[1000][ZZ], rows[1000][LG]"
   ]
  },
  {
   "cell_type": "code",
   "execution_count": null,
   "id": "67746996-41c2-41b1-ba9b-88c262d9c64a",
   "metadata": {},
   "outputs": [],
   "source": [
    "# Zeilen mit fehlenden Angaben\n",
    "incomplete_rows = []\n",
    "for row in rows:\n",
    "    for item in row:\n",
    "        if item == '':\n",
    "            incomplete_rows.append(row)\n",
    "incomplete_rows"
   ]
  },
  {
   "cell_type": "code",
   "execution_count": null,
   "id": "80295b3d-be53-4d6f-a1b3-e8ec816f9c2f",
   "metadata": {},
   "outputs": [],
   "source": [
    "# Erstelle eine sortierte Liste mit den Ortsnamen\n",
    "orte = sorted(set(row[ORT] for row in rows))\n",
    "orte[:3], orte[-3:]"
   ]
  },
  {
   "cell_type": "code",
   "execution_count": null,
   "id": "ae468838-6726-4c06-ae03-71ad724c22c9",
   "metadata": {},
   "outputs": [],
   "source": [
    "# Welche Zeichen kommen in den Ortsnamen vor?\n",
    "alphabet = set()\n",
    "for row in rows:\n",
    "    alphabet |= set(row[1])\n",
    "''.join(sorted(alphabet))"
   ]
  },
  {
   "cell_type": "code",
   "execution_count": null,
   "id": "779232b6-2235-426b-87e4-e63213ae966e",
   "metadata": {},
   "outputs": [],
   "source": [
    "# Liste der Ortsname, die Ziffern enthalten\n",
    "digits = '0123456789'\n",
    "orte_mit_ziffern = []\n",
    "for ort in orte:\n",
    "    for d in digits:\n",
    "        if d in ort:\n",
    "            orte_mit_ziffern.append(ort)\n",
    "            break\n",
    "orte_mit_ziffern"
   ]
  },
  {
   "cell_type": "code",
   "execution_count": null,
   "id": "48e47b5a-b98e-40a2-a8a9-2d7aea4d74e9",
   "metadata": {},
   "outputs": [],
   "source": [
    "# Zeilen ausgeben, wo Ortsname in orte_mit_ziffern\n",
    "print(spalten)\n",
    "[row for row in rows if row[ORT] in orte_mit_ziffern]"
   ]
  },
  {
   "cell_type": "markdown",
   "id": "f6f8942c-9da7-482c-8cd4-bdf197c5ccc8",
   "metadata": {},
   "source": [
    "### Aufgaben\n",
    "Erstelle eine Liste  aller Ortsnamen, die das \n",
    "Zeichen `.` enth&auml;lt. Gib einige davon aus.\n",
    "Mache das gleich mit  `/` und `(`.\n",
    "Erstelle eine Liste mit den Ortsnamen, die berg oder Berg enthalten."
   ]
  },
  {
   "cell_type": "code",
   "execution_count": null,
   "id": "e6df8897-d875-46f4-b737-3518859a1cd5",
   "metadata": {},
   "outputs": [],
   "source": []
  }
 ],
 "metadata": {
  "author": "dieter.probst@gmail.com",
  "kernelspec": {
   "display_name": "Python 3 (ipykernel)",
   "language": "python",
   "name": "python3"
  },
  "language_info": {
   "codemirror_mode": {
    "name": "ipython",
    "version": 3
   },
   "file_extension": ".py",
   "mimetype": "text/x-python",
   "name": "python",
   "nbconvert_exporter": "python",
   "pygments_lexer": "ipython3",
   "version": "3.13.0"
  }
 },
 "nbformat": 4,
 "nbformat_minor": 5
}
