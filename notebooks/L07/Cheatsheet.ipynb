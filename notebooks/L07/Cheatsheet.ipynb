{
 "cells": [
  {
   "cell_type": "markdown",
   "id": "b82dec56-6c10-441a-aba1-391180efead6",
   "metadata": {},
   "source": [
    "### Cheatsheet"
   ]
  },
  {
   "cell_type": "markdown",
   "id": "493451ab-4ef0-474d-a4e7-f15d18250ef3",
   "metadata": {},
   "source": [
    "**int**: Integer/ ganze Zahlen.   \n",
    "Operationen: `+, -, *, /, **, //, %` (plus, minus, mal, durch, hoch, Ganzahldivision,\n",
    "  modulo)  \n",
    "**float**: Floats/Fliesskommazahlen  \n",
    "Operationen: `+, -, *, /, **, //, %`.  \n",
    "Funktionen: `abs(x), min(x, y), max(x, y), round(x, anzahl_stellen)`  \n",
    "**str**: String  \n",
    "Operationen: `+` Multiplikation mit pos. Integer.  \n",
    "Funktionen: `len`.  \n",
    "Methoden: `format`, `split`, `join`, `index`, `find`, `replace`, `lstrip`, `rstrip`, `strip`  \n",
    "**bool**: `True` und `False`  \n",
    "Operationen: `and`, `or`, `not`  \n",
    "**tuple**: Tuple `x = ('Max', 'Muster')`.  \n",
    "Operationen: `+`, Multiplikation mit pos. Integer.  \n",
    "Funktionen: `len`  \n",
    "**list**: Liste `x = ['Max', 'Muster']`.  \n",
    "Operationen: `+`, Multiplikation mit pos. Integer.  \n",
    "Funktionen: `len`  \n",
    "Methoden: `append`, `extend`, `insert`, `remove`, `pop`  \n",
    "**set**: Menge `x = set()`, `x = set(iterable)`\n",
    "Operationen: `|` (Verein), `&` (Schnitt), `-` \n",
    "Funktionen: `len`     \n",
    "Methoden: `add`, `remove`, `pop` (liefert und entfernt ein Element)\n",
    "\n",
    "\n",
    "Auf Iterables anwendbare Funktionen:  \n",
    "- `sorted(iterable, key=lambda x: x, reverse=False)`: sortiert das Iterable.\n",
    "`key` ist eine Funktion, sortiert wird nach dem Sortierwert `key(item)`, aufsteigend oder absteiend falls `reverse=True`"
   ]
  },
  {
   "cell_type": "code",
   "execution_count": null,
   "id": "812cef97-d808-4375-a8a7-6a0114687368",
   "metadata": {},
   "outputs": [],
   "source": []
  }
 ],
 "metadata": {
  "kernelspec": {
   "display_name": "Python 3 (ipykernel)",
   "language": "python",
   "name": "python3"
  },
  "language_info": {
   "codemirror_mode": {
    "name": "ipython",
    "version": 3
   },
   "file_extension": ".py",
   "mimetype": "text/x-python",
   "name": "python",
   "nbconvert_exporter": "python",
   "pygments_lexer": "ipython3",
   "version": "3.13.0"
  }
 },
 "nbformat": 4,
 "nbformat_minor": 5
}
