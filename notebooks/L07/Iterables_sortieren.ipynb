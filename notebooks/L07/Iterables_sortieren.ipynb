{
 "cells": [
  {
   "cell_type": "markdown",
   "id": "2fc7f247-6ac6-4842-9c65-be2496b11dfa",
   "metadata": {},
   "source": [
    "***\n",
    "Kleiner Relation auf Strings und Tuple\n",
    "***"
   ]
  },
  {
   "cell_type": "code",
   "execution_count": null,
   "id": "8a2535bb-32c7-414d-8361-6774b787ae5e",
   "metadata": {},
   "outputs": [],
   "source": [
    "'Ab' < 'Abend' < 'Aber'"
   ]
  },
  {
   "cell_type": "code",
   "execution_count": null,
   "id": "c48341ae-873a-4da5-af65-2ffa9487e63b",
   "metadata": {},
   "outputs": [],
   "source": [
    "('a',) < ('a', 9) < ('b', 2) < ('b', 3) < ('c',)"
   ]
  },
  {
   "cell_type": "markdown",
   "id": "fcf04c43-04de-4fb6-bb6f-48446369d5c8",
   "metadata": {},
   "source": [
    "***\n",
    "Iterables sortieren (aufsteigend)\n",
    "***"
   ]
  },
  {
   "cell_type": "code",
   "execution_count": null,
   "id": "48bb7b24-14c4-4ed6-ab96-afbd6e28df2d",
   "metadata": {},
   "outputs": [],
   "source": [
    "s = 'hallo'\n",
    "sorted(s)"
   ]
  },
  {
   "cell_type": "code",
   "execution_count": null,
   "id": "2d1e2a81-d0b3-4e38-ab67-41f5156d5b0b",
   "metadata": {},
   "outputs": [],
   "source": [
    "numbers = (2, 5, 7, 1, 2)\n",
    "sorted(numbers)"
   ]
  },
  {
   "cell_type": "markdown",
   "id": "91fdf3a7-876b-4ca5-bd85-fe12dcdb21ee",
   "metadata": {},
   "source": [
    "***\n",
    "Iterables sortieren (absteigend, gr&ouml;sstes Element zuerst):  \n",
    "Die Liste `sorted(iterable, reverse=True)` enth&auml;lt die Elemente des Iterables in **absteigender Ordnung**.\n",
    "***\n"
   ]
  },
  {
   "cell_type": "code",
   "execution_count": null,
   "id": "e246e364-b3a3-4349-aaa3-3d0069397e74",
   "metadata": {},
   "outputs": [],
   "source": [
    "s = 'hallo'\n",
    "sorted(s, reverse=True)"
   ]
  },
  {
   "cell_type": "code",
   "execution_count": null,
   "id": "2574e1e5-7f55-422f-b332-12594da4ce33",
   "metadata": {},
   "outputs": [],
   "source": [
    "numbers = (2, 5, 7, 1, 2)\n",
    "sorted(numbers, reverse=True)"
   ]
  },
  {
   "cell_type": "markdown",
   "id": "3ddd9e3c-60c9-47f7-880a-762168403890",
   "metadata": {},
   "source": [
    "***\n",
    "In Python sind nicht alle Objekte vergleichbar, auch sind Objekte verschiedenen Types nicht vergleichbar. Z.B.:\n",
    "- None ist mit keinem anderen Objekt vergleichbar,\n",
    "- Integers und Strings sind nicht vergleichbar\n",
    "- Dictionaries sind nicht vergleichbar\n",
    "***"
   ]
  },
  {
   "cell_type": "code",
   "execution_count": null,
   "id": "99f05532-d752-49e7-91a1-03a350238665",
   "metadata": {},
   "outputs": [],
   "source": [
    "1 < '1'"
   ]
  },
  {
   "cell_type": "code",
   "execution_count": null,
   "id": "b5cae676-47bc-4eaf-80f2-952f0c53cc85",
   "metadata": {},
   "outputs": [],
   "source": [
    "None < 1"
   ]
  },
  {
   "cell_type": "markdown",
   "id": "c5aa5247-d8d4-4f0c-8417-27e37c446561",
   "metadata": {},
   "source": [
    "***\n",
    "Sortierwert berechnen:  \n",
    "Der Funktion `sorted` kann als zus&auml;tzliches Argument eine Funktion `f` &uuml;bergeben werden,\n",
    "welche jedem Listenelement eine Wert zuordnet, nach dem sortiert wird.  \n",
    "Diese Funktion muss dem Keyword-Argument `key` zugewiesen werden.\n",
    "\n",
    "`sorted(iterable, key=f)`  \n",
    "***"
   ]
  },
  {
   "cell_type": "code",
   "execution_count": null,
   "id": "4a3099ea-3cd8-48ae-8f5d-938da30638ce",
   "metadata": {},
   "outputs": [],
   "source": [
    "# Tuple (name, rang) nach rang sortieren\n",
    "personen = [('Bob', 2), ('Sara', 1), ('Dave', 3), ('Alice', 3)]"
   ]
  },
  {
   "cell_type": "code",
   "execution_count": 3,
   "id": "5986e0a8-5c08-44e9-b546-18a560099d1c",
   "metadata": {},
   "outputs": [],
   "source": [
    "def rang(item):\n",
    "    '''gibt rang eines (name, rang) Tupels zurueck'''\n",
    "    return item[1]"
   ]
  },
  {
   "cell_type": "code",
   "execution_count": null,
   "id": "a61791c7-1b37-4e7c-84e6-069a9efd6ab6",
   "metadata": {},
   "outputs": [],
   "source": [
    "# Funktion rang testen\n",
    "[rang(p) for p in personen]"
   ]
  },
  {
   "cell_type": "code",
   "execution_count": null,
   "id": "555a938d-e6e4-40d3-919f-09278ac3842b",
   "metadata": {},
   "outputs": [],
   "source": [
    "sorted(personen, key=rang)"
   ]
  },
  {
   "cell_type": "markdown",
   "id": "ded7a64e-6b1c-434e-8112-178c2f3391b0",
   "metadata": {},
   "source": [
    "***\n",
    "**$\\lambda$-Funktionen** ($\\lambda$ ist der griechische Buchstabe lambda)  \n",
    "Eine ganz einfache Funktion wie `rang`, \n",
    "\n",
    "```python\n",
    "def rang(x):\n",
    "    return x[1]\n",
    "```\n",
    "\n",
    "die nur einen Ausdruck zur&uuml;ck gibt, kann auch so definiert werden:\n",
    "\n",
    "```python\n",
    "rang = lambda x: x[1]\n",
    "```\n",
    "Diese Form wird typischerweise benutzt, wenn einer Funktion eine andere\n",
    "Funktion als Argument &uuml;bergeben  wird.\n",
    "***"
   ]
  },
  {
   "cell_type": "code",
   "execution_count": null,
   "id": "78d11abe-16ed-4a00-90ec-60b7185bbb2c",
   "metadata": {},
   "outputs": [],
   "source": [
    "sorted(personen, key=lambda person: person[1])"
   ]
  },
  {
   "cell_type": "markdown",
   "id": "18901fa5-03a6-44d1-be0e-7ed4ab595b34",
   "metadata": {},
   "source": [
    "***\n",
    "**Name als Tiebreaker verwenden**:  \n",
    "Haben Listenelemente den gleichen Sortierwert, wird die urspr&uuml;ngliche Reihenfolge beibehalten. Deshalb kommt in obigem Beispiel\n",
    "Dave vor Alice.\n",
    "In nachfolgendem Beispiel wollen wir den Namen als Tiebreaker verwenden.  \n",
    "Als Sortierwert benutzen wir deshalb ein Tuple `(<rang>, <name>)`.  \n",
    "Da Tuple lexikographisch sortiert werden, wird zuerst nach dem Rang sortiert, \n",
    "und bei gleichem Rang gibt der Name den Ausschlag.\n",
    "***"
   ]
  },
  {
   "cell_type": "code",
   "execution_count": null,
   "id": "ca3c4f6c-49b6-4d12-8501-af75f2076d2b",
   "metadata": {},
   "outputs": [],
   "source": [
    "sorted(personen, key=lambda p: (p[1], p[0]))"
   ]
  },
  {
   "cell_type": "markdown",
   "id": "0756ad45-2c43-4f2b-88a3-628ec6413454",
   "metadata": {},
   "source": [
    "### Aufgaben\n",
    "Beim Spiel Scrabble hat jeder Buchstabe einen bestimmten Buchstabenwert. Der Wortwert ist die Summe aller Buchstabenwerte. Die Funktion `buchstabenwert(letter)` im Modul `scrabble` liefert den Buchstabenwert. Importiere und benutze diese Funktion.\n",
    "\n",
    "1. Schreibe eine Funktion `wortwert(word)`, welche den Wortwert von `word` zur&uuml;ck gibt.\n",
    "2. Erstelle eine Liste von W&ouml;rtern und\n",
    "   erstelle mit Hilfe der Funktion `wortwert(word)` eine Liste mit den entsprechenden Wortwerten.\n",
    "   Modifiziere die W&ouml;rter in der Liste, bis\n",
    "   diese verschiedene W&ouml;rter mit dem gleichen Wortwert enth&auml;lt.\n",
    "3. Sortiere eine Liste von W&ouml;rter nach ihrem Wortwert. Ist der Wortwert gleich, kommt das lexikographisch kleinere Wort zuerst."
   ]
  },
  {
   "cell_type": "code",
   "execution_count": null,
   "id": "1e795a6d-a2fa-4b1d-9d6f-57b163c1cc33",
   "metadata": {},
   "outputs": [],
   "source": []
  }
 ],
 "metadata": {
  "author": "dieter.probst@gmail.com",
  "kernelspec": {
   "display_name": "Python 3 (ipykernel)",
   "language": "python",
   "name": "python3"
  },
  "language_info": {
   "codemirror_mode": {
    "name": "ipython",
    "version": 3
   },
   "file_extension": ".py",
   "mimetype": "text/x-python",
   "name": "python",
   "nbconvert_exporter": "python",
   "pygments_lexer": "ipython3",
   "version": "3.13.0"
  }
 },
 "nbformat": 4,
 "nbformat_minor": 5
}
