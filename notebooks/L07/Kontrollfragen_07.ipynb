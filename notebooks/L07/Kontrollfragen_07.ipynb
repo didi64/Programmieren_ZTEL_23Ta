{
 "cells": [
  {
   "cell_type": "markdown",
   "id": "d91d92a9-4569-41b5-89f6-30696616e1a9",
   "metadata": {},
   "source": [
    "### Kontrollfragen Lektion 7\n",
    "1. Benutze Listcomprehesion um ausgehend von einer Liste mit W&ouml;rtern eine\n",
    "Liste mit den umgedrehten W&ouml;rtern zu erstellen.\n",
    "Drehe nun nur die W&ouml;rter um, die nicht mit einem Grossbuchstaben beginnen (verwende eine passenden Stringmethode).\n",
    "1. Bestimme die L&auml;nge des l&auml;ngsten Wortes in einer Wortliste und\n",
    "   erstelle eine Liste mit den W&ouml;rtern maximaler L&auml;nge.\n",
    "   Schreibe eine Funktion `longest_words(words)` die dies tut.\n",
    "1. Erstelle mit Comprehesion und der Stringmethode `join` einen String   \n",
    "   `'1-Mal,2-Mal,3-Mal,4-Mal,5-Mal,6-Mal,7-Mal,8-Mal,9-Mal'`.\n",
    "1. Erstelle auf analoge Weise einen String mit\n",
    "   kommaseparierten Werten der $7$er-Reihe\n",
    "   `'7,14,21,28,35,42,49,56,63'` und schreibe eine Funktion `make_row(n)`, die einen String mit kommaseparierten Werten der $n$er-Reihe zur&uuml;ckgibt.\n",
    "5. Erstelle eine Liste von Strings, die wie folgt aussieht und schreibe\n",
    "   dann diese Strings als Zeilen in ein File.\n",
    "   \n",
    "   ```python\n",
    " \n",
    "   ['1-Mal,2-Mal,3-Mal,4-Mal,5-Mal,6-Mal,7-Mal,8-Mal,9-Mal\\n',\n",
    "    '2,4,6,8,10,12,14,16,18\\n',\n",
    "    '3,6,9,12,15,18,21,24,27\\n',\n",
    "    '4,8,12,16,20,24,28,32,36\\n',\n",
    "    '5,10,15,20,25,30,35,40,45\\n',\n",
    "    '6,12,18,24,30,36,42,48,54\\n',\n",
    "    '7,14,21,28,35,42,49,56,63\\n',\n",
    "    '8,16,24,32,40,48,56,64,72\\n',\n",
    "    '9,18,27,36,45,54,63,72,81\\n',\n",
    "   ]\n",
    "   ```\n",
    "1. &Ouml;ffne dieses File. Lies die Zeilen in eine Liste und entferne\n",
    "   jeweils den Newline-Characre `\\n`.\n",
    "1. Benutze einen geeigneten Platzhalterstring mit Formatierung um\n",
    "   die Multiplikationstabelle auszugeben.\n",
    "\n",
    "```\n",
    " 1-Mal 2-Mal 3-Mal 4-Mal 5-Mal 6-Mal 7-Mal 8-Mal 9-Mal\n",
    "------------------------------------------------------\n",
    "     2     4     6     8    10    12    14    16    18\n",
    "     3     6     9    12    15    18    21    24    27\n",
    "     4     8    12    16    20    24    28    32    36\n",
    "     5    10    15    20    25    30    35    40    45\n",
    "     6    12    18    24    30    36    42    48    54\n",
    "     7    14    21    28    35    42    49    56    63\n",
    "     8    16    24    32    40    48    56    64    72\n",
    "     9    18    27    36    45    54    63    72    81\n",
    "\n",
    "```\n"
   ]
  },
  {
   "cell_type": "code",
   "execution_count": null,
   "id": "4dfdaf6c-fd4c-42e3-8bfc-1cec609b9304",
   "metadata": {},
   "outputs": [],
   "source": []
  }
 ],
 "metadata": {
  "kernelspec": {
   "display_name": "Python 3 (ipykernel)",
   "language": "python",
   "name": "python3"
  },
  "language_info": {
   "codemirror_mode": {
    "name": "ipython",
    "version": 3
   },
   "file_extension": ".py",
   "mimetype": "text/x-python",
   "name": "python",
   "nbconvert_exporter": "python",
   "pygments_lexer": "ipython3",
   "version": "3.13.0"
  }
 },
 "nbformat": 4,
 "nbformat_minor": 5
}
