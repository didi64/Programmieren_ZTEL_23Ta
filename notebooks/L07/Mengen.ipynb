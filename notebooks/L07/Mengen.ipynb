{
 "cells": [
  {
   "cell_type": "markdown",
   "id": "2aab9b77-8549-40eb-a1a7-4fc1fe47d668",
   "metadata": {},
   "source": [
    "### Der Typ `set` (Menge)\n",
    "Eine Menge kann ein Element max. einmal enthalten.\n",
    "Die Elemente einer Menge sind nicht geordnet. Es gibt z.B. kein erstes Element.\n",
    "Denoch kann man mit einem For-Loop &uuml;ber die Elemente einer Menge iterieren,\n",
    "allerdings ist die Reihenfolge nicht definiert.  \n",
    "Eine Menge kann nur sog. hashable Objekte enthalten, wie Zahlen, Strings und Tuple, aber keine Listen oder Mengen.\n",
    "\n",
    "**Menge** erstellen: `set()` leere Menge, `set(iterable)` iterable (str, tuple oder list) in Menge umwandeln.\n",
    "**Operationen**: `&` (Schnitt) `|` (Verein) und `-` (Differenz)  \n",
    "**Methoden**: `add(item)` (Element aufnehmen), `remove(item)` (Element entfernen), `pop`: irgendein Element aus der Menge entfernen und zur&uuml;ckgeben."
   ]
  },
  {
   "cell_type": "code",
   "execution_count": null,
   "id": "5dac2510-d72c-4e33-96e5-124b1e6d5bf5",
   "metadata": {},
   "outputs": [],
   "source": [
    "# leere Menge erzeugen\n",
    "elements = set()\n",
    "elements"
   ]
  },
  {
   "cell_type": "code",
   "execution_count": null,
   "id": "8db636b6-5c83-434b-91d4-2f43168eea1e",
   "metadata": {},
   "outputs": [],
   "source": [
    "# Elemente hinzufuegen\n",
    "elements.add(3)\n",
    "elements.add(3)\n",
    "elements.add(4)\n",
    "elements"
   ]
  },
  {
   "cell_type": "code",
   "execution_count": null,
   "id": "0434982f-b6c9-4c54-b6c3-f0db657c191e",
   "metadata": {},
   "outputs": [],
   "source": [
    "len(elements)"
   ]
  },
  {
   "cell_type": "code",
   "execution_count": null,
   "id": "8d923dde-ee63-40f5-b034-8559e29bc7da",
   "metadata": {},
   "outputs": [],
   "source": [
    "for el in elements:\n",
    "    print(el, end=', ')"
   ]
  },
  {
   "cell_type": "code",
   "execution_count": null,
   "id": "14c7189d-59fd-44f5-8d3e-4eec9c94bbdc",
   "metadata": {},
   "outputs": [],
   "source": [
    "x = elements.remove(4)\n",
    "print(x)\n",
    "elements"
   ]
  },
  {
   "cell_type": "code",
   "execution_count": null,
   "id": "19d6b134-e0c7-4781-afa1-3f26c8340a3e",
   "metadata": {},
   "outputs": [],
   "source": [
    "# Menge erstellen\n",
    "numbers = (1, 2, 3, 1)\n",
    "nbrs = set(numbers)\n",
    "nbrs"
   ]
  },
  {
   "cell_type": "code",
   "execution_count": null,
   "id": "ddf22c50-7ed5-4e2b-9233-8882bf462131",
   "metadata": {},
   "outputs": [],
   "source": [
    "# irgendein Element entfernen\n",
    "n = nbrs.pop()\n",
    "n, nbrs"
   ]
  },
  {
   "cell_type": "code",
   "execution_count": null,
   "id": "eb957afc-62ff-429b-a380-ad0aeb4c4247",
   "metadata": {},
   "outputs": [],
   "source": [
    "# Verein, Schnitt und Differenz bilden\n",
    "x = set((1, 2, 3))\n",
    "y = set((3, 4, 5))\n",
    "\n",
    "vereinigung = x | y\n",
    "schnitt = x & y\n",
    "differenz = x - y\n",
    "schnitt, vereinigung, differenz"
   ]
  }
 ],
 "metadata": {
  "kernelspec": {
   "display_name": "Python 3 (ipykernel)",
   "language": "python",
   "name": "python3"
  },
  "language_info": {
   "codemirror_mode": {
    "name": "ipython",
    "version": 3
   },
   "file_extension": ".py",
   "mimetype": "text/x-python",
   "name": "python",
   "nbconvert_exporter": "python",
   "pygments_lexer": "ipython3",
   "version": "3.13.0"
  }
 },
 "nbformat": 4,
 "nbformat_minor": 5
}
