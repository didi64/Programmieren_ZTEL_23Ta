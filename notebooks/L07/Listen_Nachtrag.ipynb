{
 "cells": [
  {
   "cell_type": "markdown",
   "id": "c741b093-655a-4cba-8bf0-7399ad40f4ee",
   "metadata": {},
   "source": [
    "### Mehr zu Listen\n",
    "1. Zwei Variabeln `x` und `y` k&ouml;nnen  die Adresse der gleichen Liste speichern.\n",
    "In diesem Fall haben z.B. `x.append(1)` und `y.append(1)` den gleichen Effekt.\n",
    "Wir sagen, `x` und `y` sind identisch. Das l&auml;sst sich mit `x is y` testen.  \n",
    "\n",
    "2. Zwei Variabeln `x` und `y` k&ouml;nnen zwei verschiedene Listen speichern,\n",
    "die aber die gleichen Elementen enthalten. Das l&auml;sst sich mit `x == y` testen.  \n",
    "\n",
    "3. Sei `x` eine Liste. Nach der Zuweisung `y = x` gilt `x is y` .\n",
    "Nach dem Kopieren `y = x.copy()` gilt dagegen nur `x == y`, d.h. beide Listen haben die gleichen Elemente.\n",
    "Hat `x` ein Element `x[i]`, dann gilt sogar `x[i] is y[i]`. Mit `x.copy()` wird also eine flache (shallow) Kopie von `x` erstellt.\n",
    "\n",
    "\n",
    "Die folgenden Codezellen illustieren diese Sachverhalte.\n",
    "Visualisiere sie alle auf [Pythontutor](https://pythontutor.com/visualize.html#mode=edit)."
   ]
  },
  {
   "cell_type": "code",
   "execution_count": null,
   "id": "64593f63-d733-457f-afcf-7404eed68b5a",
   "metadata": {},
   "outputs": [],
   "source": [
    "# 2 verschiedene Listen mit den gleichen Elementen\n",
    "x = [1, 2, 3]\n",
    "y = [1, 2, 3]\n",
    "eqs = (x == y, x is y)\n",
    "eqs"
   ]
  },
  {
   "cell_type": "code",
   "execution_count": null,
   "id": "fa637c0c-23d4-4813-8df2-83082eba2dff",
   "metadata": {},
   "outputs": [],
   "source": [
    "# 2 mal die gleiche/identische Liste\n",
    "x = [1, 2, 3]\n",
    "y = x\n",
    "eqs = (x == y, x is y)\n",
    "eqs"
   ]
  },
  {
   "cell_type": "code",
   "execution_count": null,
   "id": "67f498b6-89c8-43f0-a428-9a6ce3c31315",
   "metadata": {},
   "outputs": [],
   "source": [
    "# Das Tupel xy enthaelt 2 verschiedene Listen x und y\n",
    "# Beide Listen haben aber die gleichen Elemente.\n",
    "x = [1, 2, 3]\n",
    "y = x.copy()\n",
    "xy = (x, y)"
   ]
  },
  {
   "cell_type": "code",
   "execution_count": null,
   "id": "f21de2ba-4cd4-46e2-8ba6-f355b91a6515",
   "metadata": {},
   "outputs": [],
   "source": [
    "# Das Tupel xz enthaelt 2 identische Listen, d.h. x is z\n",
    "x = [1, 2, 3]\n",
    "z = x\n",
    "xz = (x, z)"
   ]
  },
  {
   "cell_type": "code",
   "execution_count": null,
   "id": "3642a30c-c5e7-42f0-91db-7578cd849b43",
   "metadata": {},
   "outputs": [],
   "source": [
    "# Listen koennen sich selbst enthalten\n",
    "x = [1, 2, 3]\n",
    "x.append(x)\n",
    "y = x[3]\n",
    "y is x"
   ]
  },
  {
   "cell_type": "code",
   "execution_count": null,
   "id": "d40f5854-2ce9-4d53-b5fb-2e369d843477",
   "metadata": {},
   "outputs": [],
   "source": [
    "# Listen kopieren: normale, shallow (=flache) Kopie\n",
    "def copy(items):\n",
    "    new_items = []\n",
    "    for x in items:\n",
    "        new_items.append(x)\n",
    "    return new_items\n",
    "\n",
    "\n",
    "# deep/tiefe Kopie.\n",
    "# Ist ein Element selber eine Liste,\n",
    "# wird ebenfalls eine tiefe Kopie davon erstellt\n",
    "def deepcopy(items):\n",
    "    new_items = []\n",
    "    for x in items:\n",
    "        if type(x) is list:\n",
    "            x = deepcopy(x)\n",
    "        new_items.append(x)\n",
    "    return new_items\n",
    "\n",
    "\n",
    "x = [1, 2, 3]\n",
    "y = [x]\n",
    "y_copy = copy(y)\n",
    "y_deepcopy = deepcopy(y)"
   ]
  },
  {
   "cell_type": "code",
   "execution_count": null,
   "id": "58b9ba05-ec0e-404d-8762-4868d12e165f",
   "metadata": {},
   "outputs": [],
   "source": [
    "x is y_copy[0], x is y_deepcopy[0]"
   ]
  },
  {
   "cell_type": "code",
   "execution_count": null,
   "id": "06488365-c67c-4093-a3b1-106cfcc64d71",
   "metadata": {},
   "outputs": [],
   "source": [
    "# 4 Varianten einer Liste mit Listen\n",
    "# Welcher dieser Listen taugt zur Speicherung eines 4-gewinnt Spielfelds?\n",
    "row = [' '] * 7\n",
    "board1 = [row] * 6\n",
    "\n",
    "board2 = []\n",
    "for _ in range(6):\n",
    "    row = [' '] * 7\n",
    "    board2.append(row)\n",
    "\n",
    "board3 = [[' '] * 7] * 6\n",
    "board4 = [[' '] * 7 for _ in range(6)]"
   ]
  },
  {
   "cell_type": "markdown",
   "id": "7dc7e8d0-6743-46e0-ae6d-8d424ae3addf",
   "metadata": {},
   "source": [
    "### Aufgabe\n",
    "In den darauf folgenden Zellen wird versucht, ein Spielzustand zu speichern und sp&auml;ter auszugeben. Was geht schief und wie l&auml;sst sich das korrigieren?"
   ]
  },
  {
   "cell_type": "code",
   "execution_count": null,
   "id": "2d23093a-1209-4e77-bb01-73d20f08e843",
   "metadata": {},
   "outputs": [],
   "source": [
    "# Spielfeld mit Position\n",
    "board = [[' '] * 7 for _ in range(6)]\n",
    "for i in range(3):\n",
    "    board[5-i][3] = 'X'\n",
    "    board[5-i][4] = 'O'\n",
    "board"
   ]
  },
  {
   "cell_type": "code",
   "execution_count": null,
   "id": "c2af7b47-e825-48c5-8244-afef4a5babfa",
   "metadata": {},
   "outputs": [],
   "source": [
    "# Spielzustand sichern und weiter spielen\n",
    "board_saved = board.copy() \n",
    "board[2][3] = 'X'\n",
    "board"
   ]
  },
  {
   "cell_type": "code",
   "execution_count": null,
   "id": "b3e79e65-af03-4e14-a4c5-5f67076dbb6f",
   "metadata": {},
   "outputs": [],
   "source": [
    "# gesicherter Spielzustand?\n",
    "board_saved"
   ]
  },
  {
   "cell_type": "code",
   "execution_count": null,
   "id": "c03ca599-c0d5-4c2a-a497-65d946b3090f",
   "metadata": {},
   "outputs": [],
   "source": []
  },
  {
   "cell_type": "code",
   "execution_count": null,
   "id": "8af56c2c-52a3-4d8d-b866-82b05d58f729",
   "metadata": {},
   "outputs": [],
   "source": []
  }
 ],
 "metadata": {
  "kernelspec": {
   "display_name": "Python 3 (ipykernel)",
   "language": "python",
   "name": "python3"
  },
  "language_info": {
   "codemirror_mode": {
    "name": "ipython",
    "version": 3
   },
   "file_extension": ".py",
   "mimetype": "text/x-python",
   "name": "python",
   "nbconvert_exporter": "python",
   "pygments_lexer": "ipython3",
   "version": "3.13.0"
  }
 },
 "nbformat": 4,
 "nbformat_minor": 5
}
