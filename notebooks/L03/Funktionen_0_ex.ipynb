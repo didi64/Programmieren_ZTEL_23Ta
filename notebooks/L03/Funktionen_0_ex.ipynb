{
 "cells": [
  {
   "cell_type": "markdown",
   "id": "87794d8d-07ac-4fe7-9514-c378e8efce2a",
   "metadata": {},
   "source": [
    "### Vorgehen zum Schreiben einer Funktion\n",
    "Code ist schnell geschrieben, die Fehlersuche dagegen ist oft sher zeitintensiv.\n",
    "Deshalb versucht man oft, den **Funktionsbody** aus bereits **getesteten** Codefragmenten zusammenzusetzen.  \n",
    "\n",
    "Exemplarisch erstellen wir eine Funktion\n",
    "```python\n",
    "def reverse_word(word):\n",
    "    '''returns the reversed word\n",
    "       word: str\n",
    "    '''\n",
    "    ...\n",
    "```"
   ]
  },
  {
   "cell_type": "markdown",
   "id": "93d9df8b-a87b-4d43-8221-e25c26e2bc0a",
   "metadata": {},
   "source": [
    "**1. Schritt**: Ein kurzes Wort umdrehen. "
   ]
  },
  {
   "cell_type": "code",
   "execution_count": 1,
   "id": "c2bea3cb-5546-4200-a3f4-96af8a9b720b",
   "metadata": {},
   "outputs": [
    {
     "data": {
      "text/plain": [
       "''"
      ]
     },
     "execution_count": 1,
     "metadata": {},
     "output_type": "execute_result"
    }
   ],
   "source": [
    "word = 'abc'\n",
    "\n",
    "\n",
    "drow = ''  # reverse word\n",
    "drow"
   ]
  },
  {
   "cell_type": "code",
   "execution_count": 2,
   "id": "a4dc7c16-7712-4b0b-9709-cb5b41754eb2",
   "metadata": {},
   "outputs": [
    {
     "data": {
      "text/plain": [
       "'a'"
      ]
     },
     "execution_count": 2,
     "metadata": {},
     "output_type": "execute_result"
    }
   ],
   "source": [
    "drow = word[0] + drow\n",
    "drow"
   ]
  },
  {
   "cell_type": "code",
   "execution_count": 3,
   "id": "e28b9367-6a77-4b89-9177-a8611e466ff6",
   "metadata": {},
   "outputs": [
    {
     "data": {
      "text/plain": [
       "'ba'"
      ]
     },
     "execution_count": 3,
     "metadata": {},
     "output_type": "execute_result"
    }
   ],
   "source": [
    "drow = word[1] + drow\n",
    "drow"
   ]
  },
  {
   "cell_type": "code",
   "execution_count": 4,
   "id": "9553df8b-faba-4deb-9f7d-359320e57a34",
   "metadata": {},
   "outputs": [
    {
     "data": {
      "text/plain": [
       "'cba'"
      ]
     },
     "execution_count": 4,
     "metadata": {},
     "output_type": "execute_result"
    }
   ],
   "source": [
    "drow = word[2] + drow\n",
    "drow"
   ]
  },
  {
   "cell_type": "markdown",
   "id": "63827fa4-0730-4d19-b193-d2d1673f3c25",
   "metadata": {},
   "source": [
    "**2. Schritt**: Mit einer For-Schleife &uuml;ber Buchstaben des Worts iterieren"
   ]
  },
  {
   "cell_type": "code",
   "execution_count": 7,
   "id": "9f6acae8-06e8-4499-a89c-2c9adcdbabd4",
   "metadata": {},
   "outputs": [
    {
     "data": {
      "text/plain": [
       "'raboof'"
      ]
     },
     "execution_count": 7,
     "metadata": {},
     "output_type": "execute_result"
    }
   ],
   "source": [
    "word = 'foobar'\n",
    "\n",
    "drow = ''\n",
    "for c in word:\n",
    "    drow = c + drow\n",
    "drow"
   ]
  },
  {
   "cell_type": "markdown",
   "id": "a6b40c29-cede-4388-bcda-4c5817c17832",
   "metadata": {},
   "source": [
    "**3. Schritt**: Code als Funktionsboy verwenden"
   ]
  },
  {
   "cell_type": "code",
   "execution_count": 19,
   "id": "56e922a8-968f-4392-a85d-b86afb37202d",
   "metadata": {},
   "outputs": [],
   "source": [
    "def reverse_word(word):\n",
    "    '''returns the reversed word\n",
    "       word: str\n",
    "    '''\n",
    "    drow = ''\n",
    "    for c in word:\n",
    "        drow = c + drow\n",
    "    return drow"
   ]
  },
  {
   "cell_type": "markdown",
   "id": "484345a0-1b21-4aef-8fed-bc9a2888dba0",
   "metadata": {},
   "source": [
    "**4. Schritt**: Funktion testen"
   ]
  },
  {
   "cell_type": "code",
   "execution_count": 16,
   "id": "46649749-7a59-48cc-aa2d-ceda45b9a0d2",
   "metadata": {},
   "outputs": [
    {
     "data": {
      "text/plain": [
       "'sugus'"
      ]
     },
     "execution_count": 16,
     "metadata": {},
     "output_type": "execute_result"
    }
   ],
   "source": [
    "word = 'sugus'\n",
    "reverse_word(word)"
   ]
  },
  {
   "cell_type": "code",
   "execution_count": 17,
   "id": "dd952aad-df74-4143-8ed5-e6b34e3c251c",
   "metadata": {},
   "outputs": [
    {
     "name": "stdout",
     "output_type": "stream",
     "text": [
      "Sugus | suguS\n",
      "foo | oof\n",
      "@234 | 432@\n",
      "blabla | albalb\n"
     ]
    }
   ],
   "source": [
    "words = ('Sugus', 'foo', '@234', 'blabla')\n",
    "for word in words:\n",
    "    drow = reverse_word(word)\n",
    "    print(word, drow, sep=' | ')"
   ]
  },
  {
   "cell_type": "markdown",
   "id": "2e87b820-7d3e-4564-b689-d4a9129de2e0",
   "metadata": {},
   "source": [
    "**5. Schritt**: Funktions in.py File speichern  \n",
    "Wir wollen einige unserer Funktionen in einem File\n",
    "`my_functions.py` im Verzeichnis `notebooks` speichern,\n",
    "damit wir die Funktion sp&auml;ter wiederverwenden k&ouml;nnen.\n",
    "\n"
   ]
  },
  {
   "cell_type": "code",
   "execution_count": 3,
   "id": "c21986ca-f151-44f1-9356-a3167426c694",
   "metadata": {},
   "outputs": [
    {
     "name": "stdout",
     "output_type": "stream",
     "text": [
      "Overwriting my_functions.py\n"
     ]
    }
   ],
   "source": [
    "%%file my_functions.py\n",
    "def reverse_word(word):\n",
    "    '''returns the reversed word\n",
    "       word: str\n",
    "    '''\n",
    "    drow = ''\n",
    "    for c in word:\n",
    "        drow = c + drow\n",
    "    return drow"
   ]
  },
  {
   "cell_type": "code",
   "execution_count": null,
   "id": "0e3c0486-a7d9-4133-bc29-10704dd87944",
   "metadata": {},
   "outputs": [],
   "source": []
  },
  {
   "cell_type": "code",
   "execution_count": 40,
   "id": "e273d1e3-1688-4278-b2b0-1f6d490c6f15",
   "metadata": {},
   "outputs": [
    {
     "name": "stdout",
     "output_type": "stream",
     "text": [
      "foo\n",
      "\n",
      "\n",
      "bar\n"
     ]
    }
   ],
   "source": [
    "# Text in einzelne Woerter splitten\n",
    "text = 'foo   bar baz'\n",
    "\n",
    "word = ''\n",
    "for c in text:\n",
    "    if c ==  ' ':\n",
    "        print(word)\n",
    "        word = ''\n",
    "    else:\n",
    "        word = word + c"
   ]
  },
  {
   "cell_type": "code",
   "execution_count": 42,
   "id": "9fe9c468-68f1-4127-81e4-698af3a7704b",
   "metadata": {},
   "outputs": [
    {
     "name": "stdout",
     "output_type": "stream",
     "text": [
      "foo\n",
      "bar\n",
      "baz\n"
     ]
    }
   ],
   "source": [
    "text = 'foo   bar baz'\n",
    "\n",
    "word = ''\n",
    "text = text + ' '  # to get the last word\n",
    "for c in text:\n",
    "    if c ==  ' ':\n",
    "        if word:\n",
    "            print(word)\n",
    "        word = ''\n",
    "    else:\n",
    "        word = word + c"
   ]
  },
  {
   "cell_type": "code",
   "execution_count": 44,
   "id": "e98a15f2-8b34-4c24-8c61-a97ca0343368",
   "metadata": {},
   "outputs": [
    {
     "data": {
      "text/plain": [
       "('foo', 'bar', 'baz')"
      ]
     },
     "execution_count": 44,
     "metadata": {},
     "output_type": "execute_result"
    }
   ],
   "source": [
    "text = 'foo   bar   baz'\n",
    "\n",
    "words = ()\n",
    "word = ''\n",
    "text = text + ' '  # to get the last word\n",
    "for c in text:\n",
    "    if c ==  ' ':\n",
    "        if word:\n",
    "            words = words + (word,)\n",
    "            word = ''\n",
    "    else:\n",
    "        word = word + c\n",
    "words"
   ]
  },
  {
   "cell_type": "code",
   "execution_count": 45,
   "id": "532df22f-8134-49a8-af90-2fa022602642",
   "metadata": {},
   "outputs": [],
   "source": [
    "def split_text(text):\n",
    "    '''returns a tuple with the word in text\n",
    "       text: str\n",
    "    '''\n",
    "    words = ()\n",
    "    word = ''\n",
    "    text = text + ' '  # to get the last word\n",
    "    for c in text:\n",
    "        if c ==  ' ':\n",
    "            if word:\n",
    "                words = words + (word,)\n",
    "                word = ''\n",
    "        else:\n",
    "            word = word + c\n",
    "    return words"
   ]
  },
  {
   "cell_type": "code",
   "execution_count": 46,
   "id": "36e7b2ce-57ce-4667-8aa4-1ad00b16c751",
   "metadata": {},
   "outputs": [
    {
     "data": {
      "text/plain": [
       "('foo', 'bar', 'baz')"
      ]
     },
     "execution_count": 46,
     "metadata": {},
     "output_type": "execute_result"
    }
   ],
   "source": [
    "text = 'foo   bar   baz'\n",
    "split_text(text)"
   ]
  },
  {
   "cell_type": "code",
   "execution_count": 31,
   "id": "d7ef261e-70ad-4bec-bc10-e277e0b26e6a",
   "metadata": {},
   "outputs": [
    {
     "data": {
      "text/plain": [
       "('oof', 'rab', 'zab')"
      ]
     },
     "execution_count": 31,
     "metadata": {},
     "output_type": "execute_result"
    }
   ],
   "source": [
    "text = 'foo bar baz'\n",
    "\n",
    "sdrow = ()\n",
    "word = ''\n",
    "text = text + ' '  # to get the last word\n",
    "for c in text:\n",
    "    if c ==  ' ':\n",
    "        drow = reverse_word(word)\n",
    "        sdrow = sdrow + (drow,)\n",
    "        word = ''\n",
    "    else:\n",
    "        word = word + c\n",
    "sdrow"
   ]
  },
  {
   "cell_type": "code",
   "execution_count": 32,
   "id": "e6bb04cc-dcc5-4d29-aedf-24298b9b0ad5",
   "metadata": {},
   "outputs": [],
   "source": [
    "def reverse_words(text):\n",
    "    '''return a tuple with the reversed words of text\n",
    "       text: str\n",
    "    '''\n",
    "    sdrow = ()\n",
    "    word = ''\n",
    "    text = text + ' '  # to get the last word\n",
    "    for c in text:\n",
    "        if c ==  ' ':\n",
    "            drow = reverse_word(word)\n",
    "            sdrow = sdrow + (drow,)\n",
    "            word = ''\n",
    "        else:\n",
    "            word = word + c\n",
    "    return sdrow     "
   ]
  },
  {
   "cell_type": "code",
   "execution_count": 33,
   "id": "f63642b3-c5e2-40b4-bf82-98588b841351",
   "metadata": {},
   "outputs": [
    {
     "data": {
      "text/plain": [
       "('oof', 'rab', '', '', 'zab')"
      ]
     },
     "execution_count": 33,
     "metadata": {},
     "output_type": "execute_result"
    }
   ],
   "source": [
    "text = 'foo bar   baz'\n",
    "reverse_words(text)"
   ]
  },
  {
   "cell_type": "code",
   "execution_count": null,
   "id": "ab555439-9b32-4d41-bb5a-ddbfb10981ec",
   "metadata": {},
   "outputs": [],
   "source": []
  },
  {
   "cell_type": "code",
   "execution_count": 36,
   "id": "3e882591-e625-41b1-bd00-9aea9aae94d8",
   "metadata": {},
   "outputs": [],
   "source": [
    "def reverse_words(text):\n",
    "    '''return a tuple with the reversed words of text\n",
    "       text: str\n",
    "    '''\n",
    "    sdrow = ()\n",
    "    word = ''\n",
    "    text = text + ' '  # to get the last word\n",
    "    for c in text:\n",
    "        if c ==  ' ':\n",
    "            drow = reverse_word(word)\n",
    "            if drow:  # draw != ''\n",
    "                sdrow = sdrow + (drow,)\n",
    "            word = ''\n",
    "        else:\n",
    "            word = word + c\n",
    "    return sdrow     "
   ]
  },
  {
   "cell_type": "code",
   "execution_count": 37,
   "id": "40eb57c4-3007-4f08-94ca-0bf00d4ce483",
   "metadata": {},
   "outputs": [
    {
     "data": {
      "text/plain": [
       "('oof', 'rab', 'zab')"
      ]
     },
     "execution_count": 37,
     "metadata": {},
     "output_type": "execute_result"
    }
   ],
   "source": [
    "text = 'foo bar   baz'\n",
    "reverse_words(text)"
   ]
  },
  {
   "cell_type": "code",
   "execution_count": 38,
   "id": "bb7e8999-8256-4924-b6c1-cd1af9bbc53e",
   "metadata": {},
   "outputs": [],
   "source": [
    "def join_words(words):\n",
    "    '''returns the words as a space-separated string\n",
    "       words: tuple[str]\n",
    "    '''\n",
    "    text = ''\n",
    "    sep = ' '\n",
    "    for word in words:\n",
    "        if text:  # text != ''\n",
    "            text = text + sep\n",
    "        text = text + word\n",
    "    return text"
   ]
  },
  {
   "cell_type": "code",
   "execution_count": 22,
   "id": "ac1307af-8ba8-4b82-a5e7-8a1cb49d6c3e",
   "metadata": {},
   "outputs": [
    {
     "data": {
      "text/plain": [
       "'oof rab zab'"
      ]
     },
     "execution_count": 22,
     "metadata": {},
     "output_type": "execute_result"
    }
   ],
   "source": [
    "words = ('oof', 'rab', 'zab')\n",
    "join_words(words)"
   ]
  },
  {
   "cell_type": "code",
   "execution_count": 23,
   "id": "401c06e6-1673-4e90-89bc-bb58dfb8844c",
   "metadata": {},
   "outputs": [
    {
     "data": {
      "text/plain": [
       "'oof rab zab'"
      ]
     },
     "execution_count": 23,
     "metadata": {},
     "output_type": "execute_result"
    }
   ],
   "source": [
    "text = 'foo bar   baz'\n",
    "words = reverse_words(text)\n",
    "join_words(words)"
   ]
  },
  {
   "cell_type": "code",
   "execution_count": 25,
   "id": "b28d248c-3f51-4369-840d-5eff2f81f87a",
   "metadata": {},
   "outputs": [],
   "source": [
    "def reverse_text(text):\n",
    "    '''reverses each word in the text and returns it\n",
    "       text: str\n",
    "    '''\n",
    "    words = reverse_words(text)\n",
    "    txet = join_words(words)\n",
    "    return txet"
   ]
  },
  {
   "cell_type": "code",
   "execution_count": 26,
   "id": "5f37996e-5fab-4528-a80d-22586a959efc",
   "metadata": {},
   "outputs": [
    {
     "data": {
      "text/plain": [
       "'oof rab zab'"
      ]
     },
     "execution_count": 26,
     "metadata": {},
     "output_type": "execute_result"
    }
   ],
   "source": [
    "text = '  foo bar   baz'\n",
    "reverse_text(text)"
   ]
  },
  {
   "cell_type": "code",
   "execution_count": null,
   "id": "f1666468-2a9a-4682-92ad-d560c65d25da",
   "metadata": {},
   "outputs": [],
   "source": []
  }
 ],
 "metadata": {
  "kernelspec": {
   "display_name": "Python 3 (ipykernel)",
   "language": "python",
   "name": "python3"
  },
  "language_info": {
   "codemirror_mode": {
    "name": "ipython",
    "version": 3
   },
   "file_extension": ".py",
   "mimetype": "text/x-python",
   "name": "python",
   "nbconvert_exporter": "python",
   "pygments_lexer": "ipython3",
   "version": "3.13.0"
  }
 },
 "nbformat": 4,
 "nbformat_minor": 5
}
