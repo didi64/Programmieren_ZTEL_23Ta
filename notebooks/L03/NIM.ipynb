{
 "cells": [
  {
   "cell_type": "markdown",
   "id": "3266ca56-a35c-456c-a196-9a9a299f4a24",
   "metadata": {},
   "source": [
    "### Das Spiel **NIM**:\n",
    "Gegeben sind Haufen mit Steinen.\n",
    "- 2 Spieler entfernen abwechselnd ein oder mehrere Steine von einem der Haufen.\n",
    "- Wer den letzten Haufen abr&auml;umt hat gewonnen."
   ]
  },
  {
   "cell_type": "code",
   "execution_count": null,
   "id": "1cc9c589-7ae7-4a4e-acfb-c5b580e4dbbd",
   "metadata": {},
   "outputs": [],
   "source": [
    "# Off by one-error"
   ]
  },
  {
   "cell_type": "code",
   "execution_count": 1,
   "id": "a4ffea2c-c6db-45e4-be17-fbafcf437d00",
   "metadata": {},
   "outputs": [],
   "source": [
    "def show(heaps):\n",
    "    i = 0\n",
    "    for head in heaps:\n",
    "        i = i + 1\n",
    "        line = '*' * head\n",
    "        mark = str(i) + ') '\n",
    "        print(mark + line)"
   ]
  },
  {
   "cell_type": "code",
   "execution_count": 15,
   "id": "5d0b09d5-4da9-4727-812c-c2cf6ed0a2a8",
   "metadata": {},
   "outputs": [
    {
     "name": "stdout",
     "output_type": "stream",
     "text": [
      "1) ***\n",
      "2) ****\n",
      "3) *****\n",
      "4) ******\n"
     ]
    }
   ],
   "source": [
    "heaps = [3, 4, 5, 6]\n",
    "show(heaps)"
   ]
  },
  {
   "cell_type": "code",
   "execution_count": 2,
   "id": "fa8e5ade-07d0-4f0c-8431-26b7689f8cd1",
   "metadata": {},
   "outputs": [],
   "source": [
    "def nim(heap, n):\n",
    "    m = heaps[heap]\n",
    "    r = max(0, m - n)\n",
    "    heaps[heap] = r"
   ]
  },
  {
   "cell_type": "code",
   "execution_count": 17,
   "id": "e47a3614-533a-436f-91cc-3f0f5b80c57f",
   "metadata": {},
   "outputs": [
    {
     "data": {
      "text/plain": [
       "[3, 4, 2, 6]"
      ]
     },
     "execution_count": 17,
     "metadata": {},
     "output_type": "execute_result"
    }
   ],
   "source": [
    "heaps = [3, 4, 5, 6]\n",
    "nim(2, 3)\n",
    "heaps"
   ]
  },
  {
   "cell_type": "code",
   "execution_count": 3,
   "id": "cf19a76f-9913-4b01-901e-0de55d279ff5",
   "metadata": {},
   "outputs": [],
   "source": [
    "def count(heaps):\n",
    "    tot = 0\n",
    "    for heap in heaps:\n",
    "        tot = tot + heap\n",
    "    return tot"
   ]
  },
  {
   "cell_type": "code",
   "execution_count": 20,
   "id": "0c761986-ffe4-4bbf-8a11-eaa9cfed4b08",
   "metadata": {},
   "outputs": [
    {
     "data": {
      "text/plain": [
       "18"
      ]
     },
     "execution_count": 20,
     "metadata": {},
     "output_type": "execute_result"
    }
   ],
   "source": [
    "heaps = [3, 4, 5, 6]\n",
    "count(heaps)"
   ]
  },
  {
   "cell_type": "code",
   "execution_count": 4,
   "id": "e33f4535-6d0a-4f55-b2a8-5e84117efe7b",
   "metadata": {},
   "outputs": [],
   "source": [
    "def ask_player(heaps):\n",
    "    heap = input('Von welchem Haufen?')\n",
    "    n = input('Wieviele?')\n",
    "    move = (int(heap) - 1, int(n))\n",
    "    return move"
   ]
  },
  {
   "cell_type": "code",
   "execution_count": 23,
   "id": "fa00b099-c253-48a4-86c5-47ca070ddab9",
   "metadata": {},
   "outputs": [
    {
     "name": "stdin",
     "output_type": "stream",
     "text": [
      "Von welchem Haufen? 1\n",
      "Wieviele? 1\n"
     ]
    },
    {
     "data": {
      "text/plain": [
       "(0, 1)"
      ]
     },
     "execution_count": 23,
     "metadata": {},
     "output_type": "execute_result"
    }
   ],
   "source": [
    "ask_player(None)"
   ]
  },
  {
   "cell_type": "code",
   "execution_count": 5,
   "id": "a2050f88-f02b-4062-93e2-35ac760d6b7c",
   "metadata": {},
   "outputs": [],
   "source": [
    "def make_move(move):\n",
    "    heap = move[0]\n",
    "    n = move[1]\n",
    "    nim(heap, n)"
   ]
  },
  {
   "cell_type": "code",
   "execution_count": 25,
   "id": "74a6b1af-775d-4a30-905d-d1eb3de0a702",
   "metadata": {},
   "outputs": [
    {
     "name": "stdout",
     "output_type": "stream",
     "text": [
      "[3, 4, 5, 6]\n"
     ]
    },
    {
     "data": {
      "text/plain": [
       "[3, 4, 2, 6]"
      ]
     },
     "execution_count": 25,
     "metadata": {},
     "output_type": "execute_result"
    }
   ],
   "source": [
    "heaps = [3, 4, 5, 6]\n",
    "move = (2, 3)\n",
    "print(heaps)\n",
    "make_move(move)\n",
    "heaps"
   ]
  },
  {
   "cell_type": "code",
   "execution_count": 6,
   "id": "cec36024-9ecb-481d-90e7-e1e3aee03d40",
   "metadata": {},
   "outputs": [
    {
     "name": "stdout",
     "output_type": "stream",
     "text": [
      "1) ***\n",
      "2) ****\n",
      "3) *****\n",
      "4) ******\n",
      "Dieter:\n"
     ]
    },
    {
     "name": "stdin",
     "output_type": "stream",
     "text": [
      "Von welchem Haufen? 1\n",
      "Wieviele? 1\n"
     ]
    },
    {
     "name": "stdout",
     "output_type": "stream",
     "text": [
      "1) **\n",
      "2) ****\n",
      "3) *****\n",
      "4) ******\n",
      "------------------------------------------------------------\n",
      "Compi:\n",
      "Von welchem Haufen? 2\n",
      "Wieviele? 3\n",
      "1) **\n",
      "2) *\n",
      "3) *****\n",
      "4) ******\n",
      "------------------------------------------------------------\n",
      "Dieter:\n"
     ]
    },
    {
     "name": "stdin",
     "output_type": "stream",
     "text": [
      "Von welchem Haufen? 4\n",
      "Wieviele? 4\n"
     ]
    },
    {
     "name": "stdout",
     "output_type": "stream",
     "text": [
      "1) **\n",
      "2) *\n",
      "3) *****\n",
      "4) **\n",
      "------------------------------------------------------------\n",
      "Compi:\n",
      "Von welchem Haufen? 3\n",
      "Wieviele? 4\n",
      "1) **\n",
      "2) *\n",
      "3) *\n",
      "4) **\n",
      "------------------------------------------------------------\n",
      "Dieter:\n"
     ]
    },
    {
     "name": "stdin",
     "output_type": "stream",
     "text": [
      "Von welchem Haufen? 4\n",
      "Wieviele? 2\n"
     ]
    },
    {
     "name": "stdout",
     "output_type": "stream",
     "text": [
      "1) **\n",
      "2) *\n",
      "3) *\n",
      "4) \n",
      "------------------------------------------------------------\n",
      "Compi:\n",
      "Von welchem Haufen? 1\n",
      "Wieviele? 2\n",
      "1) \n",
      "2) *\n",
      "3) *\n",
      "4) \n",
      "------------------------------------------------------------\n",
      "Dieter:\n"
     ]
    },
    {
     "name": "stdin",
     "output_type": "stream",
     "text": [
      "Von welchem Haufen? 2\n",
      "Wieviele? 1\n"
     ]
    },
    {
     "name": "stdout",
     "output_type": "stream",
     "text": [
      "1) \n",
      "2) \n",
      "3) *\n",
      "4) \n",
      "------------------------------------------------------------\n",
      "Compi:\n",
      "Von welchem Haufen? 3\n",
      "Wieviele? 1\n",
      "1) \n",
      "2) \n",
      "3) \n",
      "4) \n",
      "------------------------------------------------------------\n",
      "Compi ist der Gewinner!\n"
     ]
    }
   ],
   "source": [
    "from strategies import ask_compi\n",
    "\n",
    "\n",
    "heaps = [3, 4, 5, 6]\n",
    "ptm = 0  # Player to move 0 oder 1\n",
    "players = ['Dieter', 'Compi']\n",
    "strategies = [ask_player, ask_compi]\n",
    "\n",
    "show(heaps)\n",
    "while count(heaps) != 0:\n",
    "    strategy = strategies[ptm]\n",
    "    print(players[ptm] + ':')\n",
    "    move = strategy(heaps)\n",
    "    make_move(move)\n",
    "    show(heaps)\n",
    "    ptm = 1 - ptm\n",
    "    print(60 * '-')\n",
    "print(players[1-ptm], 'ist der Gewinner!')"
   ]
  },
  {
   "cell_type": "code",
   "execution_count": null,
   "id": "6c11aeb4-374b-4861-8361-1b8dc6bc6993",
   "metadata": {},
   "outputs": [],
   "source": []
  }
 ],
 "metadata": {
  "kernelspec": {
   "display_name": "Python 3 (ipykernel)",
   "language": "python",
   "name": "python3"
  },
  "language_info": {
   "codemirror_mode": {
    "name": "ipython",
    "version": 3
   },
   "file_extension": ".py",
   "mimetype": "text/x-python",
   "name": "python",
   "nbconvert_exporter": "python",
   "pygments_lexer": "ipython3",
   "version": "3.13.0"
  }
 },
 "nbformat": 4,
 "nbformat_minor": 5
}
