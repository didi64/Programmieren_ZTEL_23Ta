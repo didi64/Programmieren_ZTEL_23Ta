{
 "cells": [
  {
   "cell_type": "markdown",
   "id": "687c06f4-af55-4f95-ac1b-82f21a0fb35a",
   "metadata": {},
   "source": [
    "### Vorgehen zum Schreiben einer Funktion II\n",
    "Wir haben bereits eine Funktion\n",
    "`reverse_word(word)`, die ein Wort, und eine \n",
    "Funktion `join_words(words)`, die ein Tuple von W&ouml;rter zu\n",
    "einen String zusammensetzt. \n",
    "Nun wollen wir eine Funktion, die jedes Wort eines Texts umdreht.\n",
    "\n",
    "```python\n",
    "\n",
    "def reverse_text(text):\n",
    "    '''reverses each word in text\n",
    "       text: str\n",
    "       Bsp. \n",
    "       reverse_text('foo bar baz')  # 'oof rab zab'\n",
    "    '''\n",
    "    ...\n",
    "```"
   ]
  },
  {
   "cell_type": "code",
   "execution_count": 1,
   "id": "279b107b-2cbf-471e-826b-37fa129a7daf",
   "metadata": {},
   "outputs": [
    {
     "name": "stdout",
     "output_type": "stream",
     "text": [
      "tseT\n"
     ]
    },
    {
     "data": {
      "text/plain": [
       "'foo bar baz'"
      ]
     },
     "execution_count": 1,
     "metadata": {},
     "output_type": "execute_result"
    }
   ],
   "source": [
    "from my_functions import reverse_word, join_words\n",
    "\n",
    "\n",
    "print(reverse_word('Test'))\n",
    "join_words(('foo', 'bar', 'baz'))"
   ]
  },
  {
   "cell_type": "code",
   "execution_count": null,
   "id": "64c4a8ff-b8e9-4e38-95fe-846ec2b1c5bf",
   "metadata": {},
   "outputs": [],
   "source": [
    "# Text in einzelne Woerter splitten\n",
    "text = 'foo bar baz'\n",
    "\n",
    "word = ''\n",
    "for c in text:\n",
    "    if c ==  ' ':\n",
    "        print(word)\n",
    "        word = ''\n",
    "    else:\n",
    "        word = word + c"
   ]
  },
  {
   "cell_type": "code",
   "execution_count": null,
   "id": "a3438b1d-62d9-4137-b964-b75d13a77992",
   "metadata": {},
   "outputs": [],
   "source": [
    "text = 'foo bar baz'\n",
    "\n",
    "word = ''\n",
    "for c in text:\n",
    "    if c ==  ' ':\n",
    "        print(word)\n",
    "        word = ''\n",
    "    else:\n",
    "        word = word + c\n",
    "print(word)"
   ]
  },
  {
   "cell_type": "code",
   "execution_count": 4,
   "id": "d7f52d80-055c-4734-bca1-11e14c5207e0",
   "metadata": {},
   "outputs": [
    {
     "name": "stdout",
     "output_type": "stream",
     "text": [
      "oof\n",
      "rab\n",
      "zab\n"
     ]
    }
   ],
   "source": [
    "# Woerter umgedreht ausgeben\n",
    "text = 'foo bar baz'\n",
    "\n",
    "word = ''\n",
    "for c in text:\n",
    "    if c ==  ' ':\n",
    "        drow = reverse_word(word)\n",
    "        print(drow)\n",
    "        word = ''\n",
    "    else:\n",
    "        word = word + c\n",
    "drow = reverse_word(word)\n",
    "print(drow) "
   ]
  },
  {
   "cell_type": "code",
   "execution_count": 5,
   "id": "947a2434-1cb6-46c4-a6d4-759219a59e7f",
   "metadata": {},
   "outputs": [
    {
     "data": {
      "text/plain": [
       "('oof', 'rab', 'zab')"
      ]
     },
     "execution_count": 5,
     "metadata": {},
     "output_type": "execute_result"
    }
   ],
   "source": [
    "# umgedrehte Woerter in Tuple speichern\n",
    "text = 'foo bar baz'\n",
    "\n",
    "sdrow = ()\n",
    "word = ''\n",
    "for c in text:\n",
    "    if c ==  ' ':\n",
    "        drow = reverse_word(word)\n",
    "        sdrow = sdrow + (drow,)\n",
    "        word = ''\n",
    "    else:\n",
    "        word = word + c\n",
    "drow = reverse_word(word)\n",
    "sdrow = sdrow + (drow,)        \n",
    "sdrow"
   ]
  },
  {
   "cell_type": "code",
   "execution_count": null,
   "id": "b335bd09-d1e4-4a81-ad6f-692f535b28d1",
   "metadata": {},
   "outputs": [],
   "source": []
  }
 ],
 "metadata": {
  "kernelspec": {
   "display_name": "Python 3 (ipykernel)",
   "language": "python",
   "name": "python3"
  },
  "language_info": {
   "codemirror_mode": {
    "name": "ipython",
    "version": 3
   },
   "file_extension": ".py",
   "mimetype": "text/x-python",
   "name": "python",
   "nbconvert_exporter": "python",
   "pygments_lexer": "ipython3",
   "version": "3.13.0"
  }
 },
 "nbformat": 4,
 "nbformat_minor": 5
}
