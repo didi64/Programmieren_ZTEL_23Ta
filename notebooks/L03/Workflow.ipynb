{
 "cells": [
  {
   "cell_type": "markdown",
   "id": "28fb748a-0176-4379-8488-7e0fcb89c5c4",
   "metadata": {},
   "source": [
    "### Workflow\n",
    "doker container starten\n",
    "falls damit etwas nicht gut ist,\n",
    "image verwenden, musss dann nochmals \n",
    "port host und sharepfad eingeben.\n",
    "\n",
    "aufraeumen:\n",
    "Ordner L01 (bew der letzen Lektion erstelen, und files dorhin verschieben\n",
    "update 2 (bez. Nummer der Lektion)\n",
    "\n",
    "update kopiert Files files ins NOtebookberzeichnis.\n",
    "Sind ist dort schon ein FIle mit gleichem Namen, wird gefragt, ob das ueberschreiben werden soll\n",
    "\n",
    "update nn bringt die original Files dieser Lektino ins Veraeichnis NOtebook.\n",
    "\n",
    "notebookfinder should skip hidden directories!\n",
    "\n",
    "\n",
    "\n"
   ]
  }
 ],
 "metadata": {
  "author": "dieter.probst@gmail.com",
  "kernelspec": {
   "display_name": "Python 3 (ipykernel)",
   "language": "python",
   "name": "python3"
  },
  "language_info": {
   "codemirror_mode": {
    "name": "ipython",
    "version": 3
   },
   "file_extension": ".py",
   "mimetype": "text/x-python",
   "name": "python",
   "nbconvert_exporter": "python",
   "pygments_lexer": "ipython3",
   "version": "3.13.0"
  }
 },
 "nbformat": 4,
 "nbformat_minor": 5
}
