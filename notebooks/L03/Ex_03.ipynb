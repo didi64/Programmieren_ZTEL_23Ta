{
 "cells": [
  {
   "cell_type": "code",
   "execution_count": null,
   "id": "4db24ce6-fd0b-4f7e-9745-98d28d600671",
   "metadata": {},
   "outputs": [],
   "source": [
    "def count(heaps):\n",
    "    '''gibt die Summe der Listenelemente von heaps\n",
    "       zuruck\n",
    "       heaps: list[int]\n",
    "    '''\n",
    "    tot = 0\n",
    "    for heap in heaps:\n",
    "        tot = tot + heap\n",
    "    return tot"
   ]
  },
  {
   "cell_type": "code",
   "execution_count": null,
   "id": "c6a68cb8-9a27-401b-bb1e-89851f9b8843",
   "metadata": {},
   "outputs": [],
   "source": [
    "heaps = (3, 4, 5, 6)\n",
    "count(heaps)"
   ]
  },
  {
   "cell_type": "code",
   "execution_count": null,
   "id": "57a57d10-b665-4aef-ab6f-f3a0c432d4b7",
   "metadata": {},
   "outputs": [],
   "source": [
    "def show(heaps):\n",
    "    '''heaps: list (Liste mit Anzahl Steinen)\n",
    "       stellt die Anzahl Steine textlich dar\n",
    "       z.B. heap([2, 1, 4]) gibt Folgendes aus:\n",
    "       1) **\n",
    "       2) *\n",
    "       3) ****\n",
    "    '''\n",
    "    i = 0\n",
    "    for head in heaps:\n",
    "        i = i + 1\n",
    "        line = '*' * head\n",
    "        mark = str(i) + ') '\n",
    "        print(mark + line)"
   ]
  },
  {
   "cell_type": "code",
   "execution_count": null,
   "id": "0054556e-c2aa-4f8c-8ba2-654cea7bea2a",
   "metadata": {},
   "outputs": [],
   "source": [
    "heaps = (3, 4, 5, 6)\n",
    "show(heaps)"
   ]
  },
  {
   "cell_type": "code",
   "execution_count": null,
   "id": "09c4bcef-1e58-4a1e-8cf8-d6aa0e83c9c8",
   "metadata": {},
   "outputs": [],
   "source": [
    "def ask_for_move():\n",
    "    '''fragt von welchem Haufer  wieviele Steine\n",
    "       weggenommen werden sollen\n",
    "       gibt ein Tuple move = (Haufen, Anzahl Steine zurueck)\n",
    "    '''\n",
    "    heap = input('Von welchem Haufen?')\n",
    "    n = input('Wieviele?')\n",
    "    move = (int(heap) - 1, int(n))\n",
    "    return move"
   ]
  }
 ],
 "metadata": {
  "kernelspec": {
   "display_name": "Python 3 (ipykernel)",
   "language": "python",
   "name": "python3"
  },
  "language_info": {
   "codemirror_mode": {
    "name": "ipython",
    "version": 3
   },
   "file_extension": ".py",
   "mimetype": "text/x-python",
   "name": "python",
   "nbconvert_exporter": "python",
   "pygments_lexer": "ipython3",
   "version": "3.13.0"
  }
 },
 "nbformat": 4,
 "nbformat_minor": 5
}
