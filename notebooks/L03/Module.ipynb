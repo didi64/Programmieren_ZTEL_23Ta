{
 "cells": [
  {
   "cell_type": "markdown",
   "id": "de1578f2-982e-4aaa-a5dc-121f298c9b88",
   "metadata": {},
   "source": [
    "###  Module\n",
    "\n",
    "In Python kann man einfach bestehenden und getesteten Programmcode wiederverwenden.  \n",
    "Dazu speichert man diese Code in einem .py File. So ein File nennt man dann auch **Modul**. Der **Modulname** ist der Filename ohne die `.py` Endung.  \n",
    "\n",
    "**Modul als Ganzes importieren**:  \n",
    "```python\n",
    "import <Modulname>\n",
    "```\n",
    "Dieses Kommando importiert das Modul `<Modulname>`. Dabei geschieht Folgendes:\n",
    "- Das File `<Modulname>.py` wird ausgef&uuml;hrt. Dabei wird ein eigenes Variabelverzeichnis verwendet.\n",
    "Auf diese Verzeichnis kann mit `<Modulname>.<Variabelnamen>` zugegriffen werden.\n",
    "Das File wird **nur beim seinem ersten Import** ausgef&uuml;hrt.\n",
    "Soll das File ein weiters Mal ausgef&uuml;hrt werden, z.B. weil es modifiziert wurde, muss entweder  \n",
    "  - der **Kernel neu gestartet werden**,  \n",
    "  - mit `%reset -f --aggressive` das Variabelverzeichnis komplet gel&ouml;scht werden.  \n",
    "\n",
    "\n",
    "**Einzelne Funktionen/Objekte aus Module importieren**:\n",
    "```python\n",
    "from <Modulname> import <Objektname1>, ...\n",
    "```\n",
    "Dieses Kommande importiert die aufgelisteten Namen.\n",
    "Obige Anweisung hat den gleichen Effekt wie\n",
    "\n",
    "```python\n",
    "import <Modulname>\n",
    "<Objektname1> = <Modulname>.<Objektname1>\n",
    "...\n",
    "del <Modulname>\n",
    "```\n",
    "\n",
    "Die **Python Standard Library** besteht aus einer Vielzahl von Modulen, wie z.B. das Modul `random`, welches\n",
    "Funktionen zum Arbeiten mit zuf&auml;lligen Werten enth&auml;lt.\n",
    "\n",
    "Typischerweise speichert man in einem Modul Programmcode, welchen man wiederverwenden will.\n",
    "In einem File `table_tools.py` k&ouml;nnte man z.B. Funktionen zum Generieren und Ausgeben von Tabellen\n",
    "speichern.\n",
    "\n",
    "\n",
    "    \n",
    "Alternativ kann mit\n",
    "```python\n",
    "from <Modulname> import <Objektname>\n",
    "```\n",
    "ein Objekt direkt import werden. Obige Anweisung hat den gleichen Effekt wie\n",
    "\n",
    "```python\n",
    "import <Modulname>\n",
    "<Objektname> = <Modulname>.<Objektname>\n",
    "```\n",
    "Allerdings ist `<Modulname>` in diesem Fall nicht definiert."
   ]
  },
  {
   "cell_type": "markdown",
   "id": "62245ede-ed3e-4f5a-8507-c111d3590729",
   "metadata": {},
   "source": [
    "***\n",
    "Modul `random` importieren (dieses Modul ist Teil der Python Standard Library)  \n",
    "Funktion `randint` mit dot-Notation aufrufen\n",
    "***"
   ]
  },
  {
   "cell_type": "code",
   "execution_count": null,
   "id": "e840907e-bb47-430b-b9b7-6f6ec4f4c2ad",
   "metadata": {},
   "outputs": [],
   "source": [
    "%reset -f --aggressive\n",
    "import random\n",
    "random.randint(1, 6)"
   ]
  },
  {
   "cell_type": "code",
   "execution_count": null,
   "id": "6f788c38-55c4-4120-98a5-658299c7ed1b",
   "metadata": {},
   "outputs": [],
   "source": [
    "%reset -f --aggressive\n",
    "from random import randint\n",
    "randint(1, 6)"
   ]
  },
  {
   "cell_type": "code",
   "execution_count": 6,
   "id": "0180d04e-39fe-41b5-92bc-8f5122f928aa",
   "metadata": {},
   "outputs": [
    {
     "name": "stdout",
     "output_type": "stream",
     "text": [
      "culling sys module...\n"
     ]
    },
    {
     "data": {
      "text/plain": [
       "3"
      ]
     },
     "execution_count": 6,
     "metadata": {},
     "output_type": "execute_result"
    }
   ],
   "source": [
    "%reset -f --aggressive\n",
    "from random import randint as zufallszahl\n",
    "zufallszahl(1, 6)"
   ]
  },
  {
   "cell_type": "code",
   "execution_count": 10,
   "id": "14ca6437-68f7-49c9-a08c-da94674fea79",
   "metadata": {},
   "outputs": [
    {
     "name": "stdout",
     "output_type": "stream",
     "text": [
      "Writing my_things.py\n"
     ]
    }
   ],
   "source": [
    "%%file my_things.py\n",
    "PIN = 123\n",
    "\n",
    "def reverse_number(n):\n",
    "    drow = ''\n",
    "    for c in str(n):\n",
    "        drow = c + drow\n",
    "    return int(drow)"
   ]
  },
  {
   "cell_type": "code",
   "execution_count": 13,
   "id": "2ce9578e-5fa7-4fa7-a1e0-611142dd3655",
   "metadata": {},
   "outputs": [
    {
     "name": "stdout",
     "output_type": "stream",
     "text": [
      "culling sys module...\n"
     ]
    },
    {
     "data": {
      "text/plain": [
       "123"
      ]
     },
     "execution_count": 13,
     "metadata": {},
     "output_type": "execute_result"
    }
   ],
   "source": [
    "%reset -f --aggressive\n",
    "import my_things\n",
    "pin = my_things.PIN\n",
    "my_things.reverse_number(pin)"
   ]
  },
  {
   "cell_type": "code",
   "execution_count": 16,
   "id": "17e23e5b-c2c2-478d-8a73-2eab6368fcf5",
   "metadata": {},
   "outputs": [
    {
     "name": "stdout",
     "output_type": "stream",
     "text": [
      "culling sys module...\n"
     ]
    },
    {
     "data": {
      "text/plain": [
       "523"
      ]
     },
     "execution_count": 16,
     "metadata": {},
     "output_type": "execute_result"
    }
   ],
   "source": [
    "%reset -f --aggressive\n",
    "from my_things import reverse_number\n",
    "reverse_number(325)"
   ]
  },
  {
   "cell_type": "markdown",
   "id": "ab7fb90e-50b0-4ef7-8133-f851b6120463",
   "metadata": {},
   "source": [
    "### Wo wird nach Modulen gesucht?\n",
    "Die Variable `path` des Moduls `sys` ist eine Liste mit Verzeichnissen, in denen \n",
    "nach dem zu importierende Modul gesucht wird.\n",
    "Der leere String `''` steht f&uuml;r den das aktuelle Arbeitsverzeichnis.\n",
    "\n",
    "Die Suche beginnt beim ersten Verzeichnis. Das erste Modul, das gefunden wird, wird importiert.\n",
    "Wird das Modul nicht gefunden wird ein `ModuleNotFoundError` erzeugt."
   ]
  },
  {
   "cell_type": "code",
   "execution_count": 1,
   "id": "ae6d7dad-637f-4358-a38c-b4bfb7a767c4",
   "metadata": {},
   "outputs": [
    {
     "data": {
      "text/plain": [
       "['/home/probst/Projects/JupyterNotebooks/modules',\n",
       " '/usr/lib/python312.zip',\n",
       " '/usr/lib/python3.12',\n",
       " '/usr/lib/python3.12/lib-dynload',\n",
       " '',\n",
       " '/home/probst/python_venvs/mypy/lib/python3.12/site-packages']"
      ]
     },
     "execution_count": 1,
     "metadata": {},
     "output_type": "execute_result"
    }
   ],
   "source": [
    "import sys\n",
    "sys.path"
   ]
  },
  {
   "cell_type": "markdown",
   "id": "acc63dcc-d7d7-41bc-b770-963debbabd41",
   "metadata": {},
   "source": [
    "***\n",
    "Beim Import eines Moduls wird der volle Filename des Moduls def Variable\n",
    "`<Modulname>.__file__` zugewiesen.  \n",
    "\n",
    "Z.B. kann mit `%$<Modulname>.__file__` dieses File in eine Codezelle geladen werden.  \n",
    "***"
   ]
  },
  {
   "cell_type": "code",
   "execution_count": 7,
   "id": "926fc5a9-5b5e-4daf-9195-ed85e905ac36",
   "metadata": {},
   "outputs": [
    {
     "data": {
      "text/plain": [
       "'/usr/lib/python3.13/random.py'"
      ]
     },
     "execution_count": 7,
     "metadata": {},
     "output_type": "execute_result"
    }
   ],
   "source": [
    "import my_examples\n",
    "my_examples.__file__"
   ]
  },
  {
   "cell_type": "code",
   "execution_count": 9,
   "id": "e5d06d19-d330-4b68-8b7c-d0548f70d869",
   "metadata": {},
   "outputs": [],
   "source": [
    "%load $my_examples.__file__"
   ]
  },
  {
   "cell_type": "markdown",
   "id": "3be2371f-bbf3-441e-8c50-80d37e41f5ea",
   "metadata": {},
   "source": [
    "### Pfad zur Liste `sys.path` hinzuf&uuml;gen  \n",
    "Wir wollen Module mit n&uuml;tzlichen Funktionen, die wir geschrieben haben, im Ordner\n",
    "`/home/tistel/work/modules/` ablegen. \n",
    "\n",
    "Dazu muss `/home/tistel/work/modules/` zur Liste `sys.path` hinzugef&uuml;gt werden."
   ]
  },
  {
   "cell_type": "code",
   "execution_count": 13,
   "id": "e01297d3-ce11-4ab8-b02e-4767d201ef78",
   "metadata": {},
   "outputs": [],
   "source": [
    "# Modulverzeichnis an 1. Stelle in die Liste sys.path aufnehmen\n",
    "import sys\n",
    "\n",
    "\n",
    "def add_modulpath(path):\n",
    "    if path not in sys.path:\n",
    "        sys.path = [path] + sys.path\n",
    "        print(path, ' zu sys.path hinzugefuegt')\n",
    "    else:\n",
    "        print(path, ' ist bereits in sys.path')\n",
    "\n",
    "\n",
    "def remove_modulpath(path):\n",
    "    # early return if there is nothing to do\n",
    "    if path not in sys.path:\n",
    "        print(path, 'not found in sys.path!')\n",
    "        return\n",
    "\n",
    "    syspath = []\n",
    "    for p in sys.path:\n",
    "        if p != path:\n",
    "            syspath = syspath + [p]\n",
    "    sys.path = syspath\n",
    "    print(path, 'removed from sys.path!')"
   ]
  },
  {
   "cell_type": "code",
   "execution_count": null,
   "id": "c448ccdb-04e5-4189-9f10-a924cf8c8b5e",
   "metadata": {},
   "outputs": [],
   "source": []
  },
  {
   "cell_type": "markdown",
   "id": "ea7afba2-98fe-48bd-a454-61bc7c21cb42",
   "metadata": {},
   "source": [
    "### Aufgaben 1\n",
    "1. Kopiere `my_things` ins Verzeichnis  `/home/studi/work/modules`.  \n",
    "   Importiere nun `my_things`. Aus welchem Verzeichnis wurde\n",
    "   `my_things` importiert? Wie l&auml;sst sich das &uuml;berpr&uuml;fen?\n",
    "1. F&uuml;ge `''` zuvorderst in die Liste `sys.path` ein, damit `table_tools` aus dem aktuellen Verzeichnis importiert wird.  \n",
    "  Entferne dann diesen Eintrag wieder, damit `table_tools` aus\n",
    "`/home/tistel/work/modules` importiert wird (ev. muss dieses Verzeichnis noch in `sys.path` aufgenommen werden).  \n",
    "\n",
    "1. Modifizere un importiere erneut. Teste, dass\n",
    "   das module tats&auml;chlich reimportiert wurde."
   ]
  },
  {
   "cell_type": "code",
   "execution_count": null,
   "id": "a4f5164c-ae15-4444-aed5-dfcda16136d1",
   "metadata": {},
   "outputs": [],
   "source": []
  },
  {
   "cell_type": "markdown",
   "id": "39d62b3e-87ef-46e8-bb5a-9d68dd770956",
   "metadata": {},
   "source": [
    "### Aufgaben 2\n",
    "Wir wollen als n&auml;chstes ein einfaches Spiel programmieren\n",
    "(Siehe Notebook NIM.ipynb).  \n",
    "Erstelle ein File `nim.py`. Speichere in diesem File nachstehende Funktionen.\n",
    "Vervollst&auml;dige den Code.\n",
    "\n",
    "```python\n",
    "def ask_for_move():\n",
    "    '''fragt von welchem Haufer  wieviele Steine\n",
    "       weggenommen werden sollen\n",
    "       gibt ein Tuple move = (Haufen, Anzahl Steine zurueck)\n",
    "    '''\n",
    "    ...\n",
    "\n",
    "def show(heaps):\n",
    "    '''heaps: list (Liste mit Anzahl Steinen)\n",
    "       stellt die Anzahl Steine textlich dar\n",
    "       z.B. heap([2, 1, 4]) gibt Folgendes aus:\n",
    "       1) **\n",
    "       2) *\n",
    "       3) ****\n",
    "    '''\n",
    "    ...\n",
    "\n",
    "def count(heaps):\n",
    "    '''gibt die Summe der Listenelemente von heaps\n",
    "       zuruck\n",
    "       heaps: list[int]\n",
    "    '''\n",
    "    ...\n",
    "```"
   ]
  },
  {
   "cell_type": "code",
   "execution_count": null,
   "id": "7076d028-1213-4939-aab3-0410b304ff31",
   "metadata": {},
   "outputs": [],
   "source": []
  }
 ],
 "metadata": {
  "author": "dieter.probst@gmail.com",
  "kernelspec": {
   "display_name": "Python 3 (ipykernel)",
   "language": "python",
   "name": "python3"
  },
  "language_info": {
   "codemirror_mode": {
    "name": "ipython",
    "version": 3
   },
   "file_extension": ".py",
   "mimetype": "text/x-python",
   "name": "python",
   "nbconvert_exporter": "python",
   "pygments_lexer": "ipython3",
   "version": "3.13.0"
  }
 },
 "nbformat": 4,
 "nbformat_minor": 5
}
