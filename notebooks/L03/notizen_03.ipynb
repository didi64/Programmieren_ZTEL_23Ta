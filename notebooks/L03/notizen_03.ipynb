{
 "cells": [
  {
   "cell_type": "code",
   "execution_count": 23,
   "id": "b7504700-528c-48f5-ae64-0c368f1b85b7",
   "metadata": {},
   "outputs": [
    {
     "data": {
      "text/plain": [
       "246"
      ]
     },
     "execution_count": 23,
     "metadata": {},
     "output_type": "execute_result"
    }
   ],
   "source": [
    "# Kontrollfragen factorial(n), sum_upto(n), xo_rect(n)\n",
    "n = 123\n",
    "s = '123'\n",
    "n + n\n",
    "# s + s"
   ]
  },
  {
   "cell_type": "code",
   "execution_count": 21,
   "id": "45e394c2-0e8c-4eae-89ae-d68f0abd9231",
   "metadata": {},
   "outputs": [
    {
     "data": {
      "text/plain": [
       "'11'"
      ]
     },
     "execution_count": 21,
     "metadata": {},
     "output_type": "execute_result"
    }
   ],
   "source": [
    "# str(n) + str(n)\n",
    "int(s) + int(s)"
   ]
  },
  {
   "cell_type": "code",
   "execution_count": 15,
   "id": "a3999d99-96ad-4da9-823b-bed0e5c4ab53",
   "metadata": {},
   "outputs": [
    {
     "name": "stdout",
     "output_type": "stream",
     "text": [
      "11, 21, 31, "
     ]
    }
   ],
   "source": [
    "for c in '123':\n",
    "    print(c + '1', end = ', ')"
   ]
  },
  {
   "cell_type": "code",
   "execution_count": 17,
   "id": "49ee1405-9db8-4b72-913f-ec31384de44b",
   "metadata": {},
   "outputs": [
    {
     "name": "stdout",
     "output_type": "stream",
     "text": [
      "2, 3, 4, "
     ]
    }
   ],
   "source": [
    "for c in '123':\n",
    "    n = int(c)\n",
    "    print(n + 1, end=', ')"
   ]
  },
  {
   "cell_type": "code",
   "execution_count": 19,
   "id": "23cc6920-1ba2-4ba3-921c-cc3ac2139e9c",
   "metadata": {},
   "outputs": [
    {
     "name": "stdout",
     "output_type": "stream",
     "text": [
      "1, 2, 3, 4, 5, "
     ]
    }
   ],
   "source": [
    "# zaehlen\n",
    "i = 0\n",
    "for _ in ' ' * 5:\n",
    "    i = i + 1\n",
    "    print(i, end=', ')"
   ]
  },
  {
   "cell_type": "code",
   "execution_count": null,
   "id": "0012d95d-7318-44e8-93a8-17aa9c7057aa",
   "metadata": {},
   "outputs": [],
   "source": [
    "# factorial, copy past zaehlen, modify\n",
    "# n = 4\n",
    "\n",
    "# resultat = 1\n",
    "i = 0\n",
    "for _ in ' ' * n:\n",
    "    i = i + 1\n",
    "    resultat = resultat * i\n",
    "resultat"
   ]
  },
  {
   "cell_type": "code",
   "execution_count": null,
   "id": "1404d237-7349-42cc-b012-0585ee91b428",
   "metadata": {},
   "outputs": [],
   "source": [
    "def factorial(n):\n",
    "    resultat = 1\n",
    "    i = 0\n",
    "    for _ in ' ' * n:\n",
    "        i = i + 1\n",
    "        resultat = resultat * i\n",
    "    return resultat"
   ]
  },
  {
   "cell_type": "code",
   "execution_count": null,
   "id": "0d20917a-b728-41b9-be42-54b3e468af87",
   "metadata": {},
   "outputs": [],
   "source": [
    "# sumup_to, wieder von zaehlen\n",
    "n = 0\n",
    "\n",
    "# tot = 0\n",
    "i = 0\n",
    "for _ in ' ' * n:\n",
    "    i = i + 1\n",
    "    tot = tot + i\n",
    "tot"
   ]
  },
  {
   "cell_type": "code",
   "execution_count": null,
   "id": "f9d91562-6d5a-4fe1-981c-cc4bcc19edb3",
   "metadata": {},
   "outputs": [],
   "source": [
    "# xo_rect\n",
    "n = 4\n",
    "\n",
    "i = 0\n",
    "for _ in ' ' * n:\n",
    "    i = i + 1\n",
    "    os = 'O' * i\n",
    "    xs = 'X' * (n + 1 - i)\n",
    "    line = os + xs\n",
    "    print(line)"
   ]
  }
 ],
 "metadata": {
  "kernelspec": {
   "display_name": "Python 3 (ipykernel)",
   "language": "python",
   "name": "python3"
  },
  "language_info": {
   "codemirror_mode": {
    "name": "ipython",
    "version": 3
   },
   "file_extension": ".py",
   "mimetype": "text/x-python",
   "name": "python",
   "nbconvert_exporter": "python",
   "pygments_lexer": "ipython3",
   "version": "3.13.0"
  }
 },
 "nbformat": 4,
 "nbformat_minor": 5
}
