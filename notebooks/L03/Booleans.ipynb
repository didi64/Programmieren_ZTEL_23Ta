{
 "cells": [
  {
   "cell_type": "code",
   "execution_count": null,
   "id": "60e586f4-ee57-4812-98ce-f041916497ba",
   "metadata": {},
   "outputs": [],
   "source": [
    "### Booleans (Wahrheitswerte)\n"
   ]
  },
  {
   "cell_type": "code",
   "execution_count": null,
   "id": "d4238da2-992b-406c-88bb-5e2097a36647",
   "metadata": {},
   "outputs": [],
   "source": [
    "\n",
    "- Nur die Objekte `True` und `False` geh&ouml;ren sind vom Typ `bool`\n",
    "(Wahrheitswerte).  \n",
    "- Jedes Objekt `obj` kann mit `bool(obj)` in einen Wahrheitswert verwandelt werden:  \n",
    "  Zu `False` wird: 0, leere Strings (`''`), leere Listen `[]`, ... \n",
    "- Vergleiche 2er Objekte mit `<`, `<=`, `==`, `!=` (ungleich), `>=`, `>` liefern ebenfalls jeweils `True` oder `False`  \n",
    "- Mit den Operatoren `in` und `not in` kann man auf Mitgliedschaft testen.\n",
    "  Die Anwort ist  ebenfalls `True` oder `False`:  \n",
    "  `'ll' in 'hello'` (`True`)    \n",
    "  `'bar' in ['foo', bar']` (`False`)  \n",
    "  `0 not in [1,2,3]` (`True`)"
   ]
  },
  {
   "cell_type": "markdown",
   "id": "520f7b4b-1c5b-4982-a877-7a1ecb1c99a5",
   "metadata": {},
   "source": [
    "## Logische Operatoren: `or, and, not`  \n",
    "Verhalten der logischen Operatoren auf Objekten vom Typ `bool` (`True, False)`:\n",
    "- `x and y` ist `True` falls `x` und `y` `True` sind, sonst ```False```\n",
    "- `x or y` ist `False` falls `x` und  `y` `True` ist, sonst `False`\n",
    "- `not True` ist `False` und `not False` ist `True`    \n",
    "    \n",
    "Verhalten der logischen Operatoren auf beliebigen Objekten:\n",
    "- `x and y` gibt den ersten Operand  zur&uuml;ck, dessen Wahrheitswert `False` ist, oder\n",
    "  den letzten.\n",
    "- `x and y` gibt den ersten Operand zur&uuml;ck, dessen Wahrheitswert `True` ist, oder\n",
    "  den letzten.\n",
    "- `not x` gibt die Negation des Wahrheitswerts von `x` zur&uuml;ck.\n",
    "        \n",
    "**Aufgabe**: Verifiziere, dass die 2. Definition von `and, or, not` \n",
    "auf Objekten vom Typ `bool` die gleichen Resultate produziert wie die 1. Definition."
   ]
  },
  {
   "cell_type": "code",
   "execution_count": null,
   "id": "f10f9a94-c499-4592-b7e5-c86027449ff3",
   "metadata": {},
   "outputs": [],
   "source": [
    "name = name or 'Alice'\n",
    "nbr = nbr or 42\n",
    "options = options or ('A', 'B', 'C')\n"
   ]
  },
  {
   "cell_type": "code",
   "execution_count": 1,
   "id": "d1cb8973-7f0a-48ec-90cf-a4c6eff049ab",
   "metadata": {},
   "outputs": [],
   "source": [
    "def not_x(x):\n",
    "    return not bool(x)\n",
    "\n",
    "def x_and_y(x, y):\n",
    "    if bool(x) is True:\n",
    "        return y\n",
    "    if bool(x) is False:\n",
    "        return x\n",
    "\n",
    "def x_or_y(x, y):\n",
    "    if bool(x) is True:\n",
    "        return x\n",
    "    if bool(x) is False:\n",
    "        return y"
   ]
  },
  {
   "cell_type": "code",
   "execution_count": 18,
   "id": "3432a3e1-072e-4cce-941a-07f898f82e13",
   "metadata": {},
   "outputs": [],
   "source": [
    "def quote(s):\n",
    "    if type(s) is str:\n",
    "        return \"'\" + s + \"'\"\n",
    "    else:\n",
    "        return str(s)\n",
    "        \n",
    "def evalute_and_or(left, right, offset=40):\n",
    "    for x in (left, right):\n",
    "        for y in (left, right):\n",
    "            msg1 = quote(x) + ' and ' + quote(y) + ' is ' + quote(x_and_y(x, y))\n",
    "            msg2 = quote(x) + ' or ' + quote(y) + ' is ' + quote(x_and_y(x, y))\n",
    "            msg = msg1 + ' ' * (40-len(msg1)) + msg2\n",
    "            print(msg)"
   ]
  },
  {
   "cell_type": "code",
   "execution_count": 19,
   "id": "34cd63d8-41cb-4fc6-99ea-265bfe8dd7ea",
   "metadata": {},
   "outputs": [
    {
     "name": "stdout",
     "output_type": "stream",
     "text": [
      "True and True is True                   True or True is True\n",
      "True and False is False                 True or False is False\n",
      "False and True is False                 False or True is False\n",
      "False and False is False                False or False is False\n"
     ]
    }
   ],
   "source": [
    "evalute_and_or(True, False)"
   ]
  },
  {
   "cell_type": "code",
   "execution_count": 20,
   "id": "759e4f2c-16ef-4f7c-89e5-60d23159e7a2",
   "metadata": {},
   "outputs": [
    {
     "name": "stdout",
     "output_type": "stream",
     "text": [
      "'foo' and 'foo' is 'foo'                'foo' or 'foo' is 'foo'\n",
      "'foo' and '' is ''                      'foo' or '' is ''\n",
      "'' and 'foo' is ''                      '' or 'foo' is ''\n",
      "'' and '' is ''                         '' or '' is ''\n"
     ]
    }
   ],
   "source": [
    "evalute_and_or('foo', '')                          "
   ]
  },
  {
   "cell_type": "markdown",
   "id": "8e0ae2f8-7035-46b8-8eae-8c6b7a8e72ab",
   "metadata": {},
   "source": [
    "                "
   ]
  }
 ],
 "metadata": {
  "kernelspec": {
   "display_name": "Python 3 (ipykernel)",
   "language": "python",
   "name": "python3"
  },
  "language_info": {
   "codemirror_mode": {
    "name": "ipython",
    "version": 3
   },
   "file_extension": ".py",
   "mimetype": "text/x-python",
   "name": "python",
   "nbconvert_exporter": "python",
   "pygments_lexer": "ipython3",
   "version": "3.13.0"
  }
 },
 "nbformat": 4,
 "nbformat_minor": 5
}
