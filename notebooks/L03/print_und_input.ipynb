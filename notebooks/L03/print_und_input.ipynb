{
 "cells": [
  {
   "cell_type": "markdown",
   "id": "712a266d-80bd-4d95-a01f-c7bf5dbf37fc",
   "metadata": {},
   "source": [
    "### Die Funktionen print und input  \n",
    "\n",
    "Wie alle anderen Funktionen unterst&uuml;tzen print und input \n",
    "**Tab-Completion** und **Signatur**- und/oder **Docstring** Anzeige. \n",
    "Wir werfen einen ersten Blick auf die Signatur. Mehr dazu sp&auml;ter.  \n",
    "- Platziert man den Cursor am Ende des Wortes `prin` in der n&auml;chsten Zelle und dr&uuml;ckt **tab**, werden Vorschl&auml;ge zur Vervollst&auml;ndigung angezeigt.\n",
    "- Klickt man auf `print` und dr&uuml;ckt **shift-tab**, wird der Docstring angezeigt."
   ]
  },
  {
   "cell_type": "code",
   "execution_count": null,
   "id": "3b402820-8663-4c72-8957-71f46d53bd7e",
   "metadata": {},
   "outputs": [],
   "source": [
    "print"
   ]
  },
  {
   "cell_type": "code",
   "execution_count": null,
   "id": "1d86993b-ae42-48f0-a7ca-5073082ead7d",
   "metadata": {},
   "outputs": [],
   "source": [
    "print(print)"
   ]
  },
  {
   "cell_type": "markdown",
   "id": "9347d3b5-2f40-4f1f-86c0-9f8cf03910c9",
   "metadata": {},
   "source": [
    "### Der Hilfstext zu `print`\n",
    "```\n",
    "Signature: print(*args, sep=' ', end='\\n', file=None, flush=False)\n",
    "Docstring:\n",
    "Prints the values to a stream, or to sys.stdout by default.\n",
    "\n",
    "sep\n",
    "  string inserted between values, default a space.\n",
    "end\n",
    "  string appended after the last value, default a newline.\n",
    "file\n",
    "  a file-like object (stream); defaults to the current sys.stdout.\n",
    "flush\n",
    "  whether to forcibly flush the stream.\n",
    "Type:      builtin_function_or_method\n",
    "```\n",
    "\n",
    "**Signatur**: Die Signatur gibt an, mit was f&uuml;r Argumenten die Funktion aufgerufen werden kann. \n",
    "- `*args` bedeutet, dass der Funktion keine oder mehrere Argumente **by position** &uuml;bergeben werden k&ouml;nnen.\n",
    "  *By position* bedeutet, dass die Reihenfolge wesentlich ist.\n",
    "- `sep=' ', end='\\n', file=None, flush=False` sind Argumente mit **Defaultwerten**.  \n",
    "  **Nach** den Argumenten, die **by position** &uuml;bergeben werden,\n",
    "  k&ouml;nnen noch die Defaultargumente &uuml;berschrieben werden. Die Argumente `file` und `flush` werden wir nicht brauchen.  "
   ]
  },
  {
   "cell_type": "code",
   "execution_count": null,
   "id": "f1efe492-6d30-4419-a676-fbb805a5c474",
   "metadata": {},
   "outputs": [],
   "source": [
    "print(1, 2, 3)\n",
    "print(3, 2, 1, sep=', ', end='; ')\n",
    "print(1, 2, 3, end='\\n\\n', sep=', ')\n",
    "print(4, 5, 6, sep='', end='\\n---Ende der Ausgabe---\\n')"
   ]
  },
  {
   "cell_type": "markdown",
   "id": "c6e7cb49-3813-484b-8020-d6740d8ea68e",
   "metadata": {},
   "source": [
    "### Der Hilfstext zu `input`\n",
    "```\n",
    "Signature: input(prompt='') (der Hilfstext sagt  input(prompt='', /), aber das ist falsch)\n",
    "Docstring:\n",
    "Read a string from standard input.  The trailing newline is stripped.\n",
    "\n",
    "The prompt string, if given, is printed to standard output without a\n",
    "trailing newline before reading input.\n",
    "```\n",
    "\n",
    "\n",
    "Die Signatur  input(prompt='')  zeigt an, dass die Funktion ein Argument mit Defaultwert `''` hat (leerer String).\n",
    "Dieses Argument kann &uuml;berschrieben werden.\n",
    "Der Wert  f&uuml;r prompt kann *by position* oder als *Keyword-Argument* &uuml;bergeben werden. \n",
    "Alle 3 Varianten sind ok.\n",
    "```python\n",
    "input()\n",
    "input('Name?')\n",
    "input(prompt='Name?')\n",
    "```\n",
    "\n",
    "**Wichtig**: input() fordert den Benutzer zur Eingabe eines Texts auf. Das Ausf&uuml;hren weitere Zellen ist bockiert, bis die Eingabe erfolgt ist. Dies wird mit folgender Mitteilung klar gemacht:\n",
    "\n",
    ">Cell not executed due to pending input\n",
    "The cell has not been executed to avoid kernel deadlock as there is another pending input! Submit your pending input and try again.\n"
   ]
  },
  {
   "cell_type": "code",
   "execution_count": null,
   "id": "c20e84bf-8599-4b74-8fd3-f4e747343a2c",
   "metadata": {},
   "outputs": [],
   "source": [
    "name = input('Name:')\n",
    "name"
   ]
  },
  {
   "cell_type": "code",
   "execution_count": null,
   "id": "e5ed49a4-c6b2-4c6c-926e-225c03d503d6",
   "metadata": {},
   "outputs": [],
   "source": [
    "# wandle die Eingabe in eine Zahl (int) um\n",
    "number = int(input(prompt='Enter a number:'))\n",
    "number"
   ]
  },
  {
   "cell_type": "code",
   "execution_count": null,
   "id": "d26335ef-3dfe-42ba-afb6-9a55867a4e50",
   "metadata": {},
   "outputs": [],
   "source": [
    "name = input('Dein Name:')\n",
    "jahrgang = input('Dein Jahrgang:')\n",
    "msg = 'Hallo ' + name + ', dein Jahrgang ist ' + jahrgang\n",
    "print(msg)"
   ]
  },
  {
   "cell_type": "markdown",
   "id": "e4be6aa0-e5ba-4ef3-b05e-9a9f949b2bed",
   "metadata": {},
   "source": [
    "### Aufgaben\n",
    "1. Schreibe Code, der nach Name und Jahrgang fragt, und\n",
    "dann ausgibt: `Hallo ..., du bist ... Jahre alt.` \n",
    "2. Mache aus diesem Code eine Funktion.\n",
    "3. Modifiziere die Funktion, so dass anstelle einer Ausgabe das Alter zur&uuml;ckgebeben wird."
   ]
  },
  {
   "cell_type": "code",
   "execution_count": null,
   "id": "537763ef-7ae4-4937-9380-1a5d9478c096",
   "metadata": {},
   "outputs": [],
   "source": []
  }
 ],
 "metadata": {
  "author": "dieter.probst@gmail.com",
  "kernelspec": {
   "display_name": "Python 3 (ipykernel)",
   "language": "python",
   "name": "python3"
  },
  "language_info": {
   "codemirror_mode": {
    "name": "ipython",
    "version": 3
   },
   "file_extension": ".py",
   "mimetype": "text/x-python",
   "name": "python",
   "nbconvert_exporter": "python",
   "pygments_lexer": "ipython3",
   "version": "3.13.0"
  }
 },
 "nbformat": 4,
 "nbformat_minor": 5
}
