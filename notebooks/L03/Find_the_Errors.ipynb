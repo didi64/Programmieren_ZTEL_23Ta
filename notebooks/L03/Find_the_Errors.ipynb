{
 "cells": [
  {
   "cell_type": "code",
   "execution_count": null,
   "id": "7cdadef9-b496-4148-b8dc-2cfc5187dc52",
   "metadata": {},
   "outputs": [],
   "source": []
  },
  {
   "cell_type": "code",
   "execution_count": null,
   "id": "b354369e-4b37-4787-a9d5-5c477580b341",
   "metadata": {},
   "outputs": [],
   "source": [
    "authors = [('Jane', 'Austin'),\n",
    "           ('Friedrich', 'Duerrenmatt')\n",
    "           ('Joanne', 'Rowling'),\n",
    "          ]\n"
   ]
  },
  {
   "cell_type": "code",
   "execution_count": null,
   "id": "37b90b92-ebf0-4148-9324-a0edc450f6e3",
   "metadata": {},
   "outputs": [],
   "source": []
  }
 ],
 "metadata": {
  "kernelspec": {
   "display_name": "Python 3 (ipykernel)",
   "language": "python",
   "name": "python3"
  },
  "language_info": {
   "codemirror_mode": {
    "name": "ipython",
    "version": 3
   },
   "file_extension": ".py",
   "mimetype": "text/x-python",
   "name": "python",
   "nbconvert_exporter": "python",
   "pygments_lexer": "ipython3",
   "version": "3.13.0"
  }
 },
 "nbformat": 4,
 "nbformat_minor": 5
}
