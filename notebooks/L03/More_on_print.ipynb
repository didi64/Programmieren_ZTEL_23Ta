{
 "cells": [
  {
   "cell_type": "markdown",
   "id": "8187e71b-8cad-4e32-851d-dea860a693ce",
   "metadata": {},
   "source": [
    "### More on `print`"
   ]
  },
  {
   "cell_type": "code",
   "execution_count": 41,
   "id": "e92574fa-b8e4-4158-bf04-35b10181bbea",
   "metadata": {},
   "outputs": [
    {
     "ename": "NameError",
     "evalue": "name 'foo' is not defined",
     "output_type": "error",
     "traceback": [
      "\u001b[0;31m---------------------------------------------------------------------------\u001b[0m",
      "\u001b[0;31mNameError\u001b[0m                                 Traceback (most recent call last)",
      "Cell \u001b[0;32mIn[41], line 1\u001b[0m\n\u001b[0;32m----> 1\u001b[0m \u001b[43mfoo\u001b[49m\n",
      "\u001b[0;31mNameError\u001b[0m: name 'foo' is not defined"
     ]
    }
   ],
   "source": [
    "# Fehlermeldung provozieren\n",
    "foo"
   ]
  },
  {
   "cell_type": "code",
   "execution_count": 3,
   "id": "e3339346-da14-4b93-8f56-c7da296aa491",
   "metadata": {},
   "outputs": [
    {
     "name": "stderr",
     "output_type": "stream",
     "text": [
      "Eine Fehlermeldung!\n"
     ]
    }
   ],
   "source": [
    "import sys\n",
    "print('Eine Fehlermeldung!', file=sys.stderr)"
   ]
  },
  {
   "cell_type": "markdown",
   "id": "326d8402-64eb-4411-98fe-e74960fe4fa1",
   "metadata": {},
   "source": [
    "**Ansi Color Escape Sequences**  \n",
    "See e.g. https://stackoverflow.com/a/33206814"
   ]
  },
  {
   "cell_type": "code",
   "execution_count": 63,
   "id": "5bd9e4c2-7498-409e-95e1-7e82a9ed6ac8",
   "metadata": {},
   "outputs": [
    {
     "name": "stdout",
     "output_type": "stream",
     "text": [
      "Writing ansi_color_esc_seqs.py\n"
     ]
    }
   ],
   "source": [
    "%%file ansi_color_esc_seqs.py\n",
    "_ESC = chr(27)\n",
    "_fmt = '[22;{}m'\n",
    "_colors = ['black', 'red', 'green', 'yellow', \n",
    "          'blue', 'magenta', 'cyan', 'silver',\n",
    "          ]\n",
    "_variants = [(30, ''), (90, '_bright')]\n",
    "reset = _ESC + '[0m'\n",
    "\n",
    "\n",
    "def _make_colordicts():\n",
    "    fg = {}\n",
    "    bg = {}\n",
    "    for i, color in enumerate(_colors):\n",
    "        for code, suffix in _variants:\n",
    "            fg[color+suffix] = _ESC + _fmt.format(code+i)\n",
    "            bg[color+suffix] = _ESC + _fmt.format(code+10+i)\n",
    "    return fg, bg\n",
    "\n",
    "\n",
    "fgcolor_ANSIesc, bgcolor_ANSIesc = _make_colordicts()"
   ]
  },
  {
   "cell_type": "code",
   "execution_count": 59,
   "id": "03a439c7-ef66-4ea0-ab6b-d1b1092bda5e",
   "metadata": {},
   "outputs": [],
   "source": [
    "fg, bg = make_colordicts()"
   ]
  },
  {
   "cell_type": "code",
   "execution_count": 66,
   "id": "9395d363-1450-45c2-9b5a-29b07ac3f389",
   "metadata": {},
   "outputs": [
    {
     "name": "stdout",
     "output_type": "stream",
     "text": [
      "\u001b[22;40mblack\u001b[0m\n",
      "\u001b[22;100mblack_bright\u001b[0m\n",
      "\u001b[22;41mred\u001b[0m\n",
      "\u001b[22;101mred_bright\u001b[0m\n",
      "\u001b[22;42mgreen\u001b[0m\n",
      "\u001b[22;102mgreen_bright\u001b[0m\n",
      "\u001b[22;43myellow\u001b[0m\n",
      "\u001b[22;103myellow_bright\u001b[0m\n",
      "\u001b[22;44mblue\u001b[0m\n",
      "\u001b[22;104mblue_bright\u001b[0m\n",
      "\u001b[22;45mmagenta\u001b[0m\n",
      "\u001b[22;105mmagenta_bright\u001b[0m\n",
      "\u001b[22;46mcyan\u001b[0m\n",
      "\u001b[22;106mcyan_bright\u001b[0m\n",
      "\u001b[22;47msilver\u001b[0m\n",
      "\u001b[22;107msilver_bright\u001b[0m\n",
      "\u001b[22;30mblack\u001b[0m\n",
      "\u001b[22;90mblack_bright\u001b[0m\n",
      "\u001b[22;31mred\u001b[0m\n",
      "\u001b[22;91mred_bright\u001b[0m\n",
      "\u001b[22;32mgreen\u001b[0m\n",
      "\u001b[22;92mgreen_bright\u001b[0m\n",
      "\u001b[22;33myellow\u001b[0m\n",
      "\u001b[22;93myellow_bright\u001b[0m\n",
      "\u001b[22;34mblue\u001b[0m\n",
      "\u001b[22;94mblue_bright\u001b[0m\n",
      "\u001b[22;35mmagenta\u001b[0m\n",
      "\u001b[22;95mmagenta_bright\u001b[0m\n",
      "\u001b[22;36mcyan\u001b[0m\n",
      "\u001b[22;96mcyan_bright\u001b[0m\n",
      "\u001b[22;37msilver\u001b[0m\n",
      "\u001b[22;97msilver_bright\u001b[0m\n"
     ]
    }
   ],
   "source": [
    "for k, v in bg.items():\n",
    "    print(f'{v}{k}{reset}')\n",
    "for k, v in fg.items():\n",
    "    print(f'{v}{k}{reset}')"
   ]
  },
  {
   "cell_type": "code",
   "execution_count": null,
   "id": "01c8a4ef-6b4c-4e97-8cb8-1f7f1b96a63f",
   "metadata": {},
   "outputs": [],
   "source": []
  },
  {
   "cell_type": "code",
   "execution_count": 61,
   "id": "799689ae-8ea8-4bf8-a4a1-78ba44ca99fe",
   "metadata": {},
   "outputs": [
    {
     "name": "stderr",
     "output_type": "stream",
     "text": [
      "\u001b[22;31m---------------------------------------------------------------------------\n",
      "NameError\u001b[0m                                 Traceback (most recent call last)\n",
      "Cell\u001b[22;32m In[14], line 1\n",
      "----> 1\u001b[0m \u001b[22;43mfoo\u001b[0m\n",
      "\n",
      "\u001b[22;31mNameError\u001b[0m: name 'foo' ist not defined\n"
     ]
    }
   ],
   "source": [
    "err_msg = f'''{fg['red']}\\\n",
    "---------------------------------------------------------------------------\n",
    "NameError{reset}                                 Traceback (most recent call last)\n",
    "Cell{green} In[14], line 1\n",
    "----> 1{reset} {bg['yellow']}foo{reset}\n",
    "\n",
    "{fg['red']}NameError{reset}: name 'foo' ist not defined\\\n",
    "'''\n",
    "\n",
    "print(err_msg, file=sys.stderr)"
   ]
  },
  {
   "cell_type": "code",
   "execution_count": 52,
   "id": "f0a0bfb3-8ed1-4fd2-a5c3-9429fdaaacfc",
   "metadata": {},
   "outputs": [
    {
     "name": "stdout",
     "output_type": "stream",
     "text": [
      "  *** HALLO, WELT! ***                                                  \r"
     ]
    }
   ],
   "source": [
    "# soll Einfluss von flush illustrieren\n",
    "# flush=False heisst, dass die Ausgabe zuerst in einem Buffer aggregiert wird, \n",
    "# und bei Gelegenheit ausgegeben wird.\n",
    "\n",
    "import time\n",
    "flush = True  # setze flush = False, was aendert?\n",
    "lauttext = '*** HALLO, WELT! ***'\n",
    "text = ' {} '.format(lauttext)\n",
    "\n",
    "for _ in range(5):\n",
    "    for i in range(50):\n",
    "        print(text, end='', flush=flush)\n",
    "        time.sleep(1/25)\n",
    "        print('\\r{}'.format(' ' * i), end='')\n",
    "\n",
    "    for i in range(50, -1, -1):\n",
    "        print(text, end='', flush=flush)\n",
    "        time.sleep(1/25)\n",
    "        print('\\r{}'.format(' ' * i), end='')"
   ]
  },
  {
   "cell_type": "code",
   "execution_count": null,
   "id": "de822974-d3c4-4268-b70a-a9aca3f3646d",
   "metadata": {},
   "outputs": [],
   "source": []
  },
  {
   "cell_type": "code",
   "execution_count": 19,
   "id": "5bb9e274-52db-409c-aff9-8e98f59883dc",
   "metadata": {},
   "outputs": [
    {
     "name": "stdout",
     "output_type": "stream",
     "text": [
      "hallo"
     ]
    }
   ],
   "source": [
    "import time\n",
    "#print('action!')\n",
    "print('hallo', end='', flush=False)\n",
    "time.sleep(3)"
   ]
  },
  {
   "cell_type": "code",
   "execution_count": null,
   "id": "516658d2-c5ae-44c3-ad74-0ac1e882d621",
   "metadata": {},
   "outputs": [],
   "source": []
  }
 ],
 "metadata": {
  "author": "dieter.probst@gmail.com",
  "kernelspec": {
   "display_name": "Python 3 (ipykernel)",
   "language": "python",
   "name": "python3"
  },
  "language_info": {
   "codemirror_mode": {
    "name": "ipython",
    "version": 3
   },
   "file_extension": ".py",
   "mimetype": "text/x-python",
   "name": "python",
   "nbconvert_exporter": "python",
   "pygments_lexer": "ipython3",
   "version": "3.13.0"
  }
 },
 "nbformat": 4,
 "nbformat_minor": 5
}
