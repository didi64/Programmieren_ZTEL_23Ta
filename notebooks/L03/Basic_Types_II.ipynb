{
 "cells": [
  {
   "cell_type": "markdown",
   "id": "09ce5952-361b-4c65-bef3-133a470c4b1e",
   "metadata": {},
   "source": [
    "### Aufgaben 1\n",
    "- Erstellen einen String. Wandle diesen in Tuple um, dann das Tuple in eine Liste, und die Liste in einen String. Gib alle Zwischenresultate aus.\n",
    "- Die Umwandlung der Liste in einen String ergibt nicht den urspr&uuml;nglichen String.\n",
    "  Schreibe eine Funktion `letters2str`, so dass f&uuml;r jeden String `s` gilt:  \n",
    "  `s == letters2str(list(s))`."
   ]
  },
  {
   "cell_type": "markdown",
   "id": "24eab642-687f-490d-9876-0b457734b59c",
   "metadata": {},
   "source": [
    "s = 'abcd'\n",
    "chars = tuple(s)\n",
    "chars"
   ]
  },
  {
   "cell_type": "code",
   "execution_count": null,
   "id": "92c15563-bccd-4fda-b893-109cc1449f8d",
   "metadata": {},
   "outputs": [],
   "source": [
    "letters = list(chars)\n",
    "letters"
   ]
  },
  {
   "cell_type": "code",
   "execution_count": null,
   "id": "80fd9406-9b9d-4c22-8651-d8ec11665122",
   "metadata": {},
   "outputs": [],
   "source": [
    "s1 = str(letters)\n",
    "s1"
   ]
  },
  {
   "cell_type": "code",
   "execution_count": null,
   "id": "7e121644-df81-410f-b56f-868b1efb8cc1",
   "metadata": {},
   "outputs": [],
   "source": [
    "def lst2str(letters):\n",
    "    s = ''\n",
    "    for c in letters:\n",
    "        s = s + c\n",
    "    return s"
   ]
  },
  {
   "cell_type": "code",
   "execution_count": null,
   "id": "081b8e0f-7f39-4e2b-8054-717c36892443",
   "metadata": {},
   "outputs": [],
   "source": [
    "word = 'asfasdf'\n",
    "word == lst2str(list(word))"
   ]
  },
  {
   "cell_type": "markdown",
   "id": "47f2ed9f-1737-4c40-9122-f0dda826b511",
   "metadata": {},
   "source": [
    "### Aufgaben 2\n",
    "1. Wie kann man testen, ob eine Zahl ohne Rest durch 17 teilbar ist?\n",
    "1. Wie pr&uuml;ft man, ob zwei floats (fast) gleich sind?\n",
    "1. Welche Werte sind *falsy*. &Uuml;berpr&uuml;fe das, durch Umwandeln des Wertes in einen Boolean.\n",
    "1. Erzeuge einen String. Ermittle seine L&auml;nge mit `len` und gib den letzten Buchstaben des Strings aus.\n",
    "1. Erzeuge in einelementiges Tuple.\n",
    "1. Erzeuge 2 Listen und h&auml;nge sie aneinander.\n",
    "1. Sei `person = ('Max', Muster')`. Speichere Vor- und Nachname in den Variabeln `fname` und `lname`, einmal mit und einmal ohne Unpacking.\n",
    "1. F&uuml;hre folgenden Code aus und erkl&auml;re den Output.\n",
    "```python\n",
    "n = None\n",
    "cities = ()\n",
    "names = ('Alice', 'Bob', 'Cathy')\n",
    "\n",
    "print(n or 2)\n",
    "print(cities and cities[0])\n",
    "print(names and names[0])\n",
    "```"
   ]
  },
  {
   "cell_type": "code",
   "execution_count": null,
   "id": "c8c355d3-6f03-448c-968e-27813e81d8e7",
   "metadata": {},
   "outputs": [],
   "source": [
    "68 % 17 == 0"
   ]
  },
  {
   "cell_type": "code",
   "execution_count": null,
   "id": "222ac2e8-ab58-42df-ac6c-42f0d31f3b00",
   "metadata": {},
   "outputs": [],
   "source": [
    "x = 1/3\n",
    "y = 0.333333333\n",
    "epsilon = 0.001\n",
    "abs(x - y) < epsilon"
   ]
  },
  {
   "cell_type": "code",
   "execution_count": null,
   "id": "8f6e2a43-10b9-4b0f-9936-08ae0d608951",
   "metadata": {},
   "outputs": [],
   "source": [
    "falsy_values = (0, 0.0, '', (), [], False)\n",
    "for x in falsy_values:\n",
    "    print(bool(x))"
   ]
  },
  {
   "cell_type": "code",
   "execution_count": null,
   "id": "a6167a55-e6c9-439b-a14d-10a05025d581",
   "metadata": {},
   "outputs": [],
   "source": [
    "s = 'asfsadfasdx'\n",
    "n = len(s)\n",
    "print(n, s[n-1])"
   ]
  },
  {
   "cell_type": "code",
   "execution_count": null,
   "id": "bd723438-dedf-480c-b693-93a1c3c3df07",
   "metadata": {},
   "outputs": [],
   "source": [
    "tp = ('test',)\n",
    "tp"
   ]
  },
  {
   "cell_type": "code",
   "execution_count": null,
   "id": "22414fa1-951e-490c-a194-4bc78f088df0",
   "metadata": {},
   "outputs": [],
   "source": [
    "numbers = [1, 2, 3]\n",
    "more_numbers = [4, 5]\n",
    "all_numbers = numbers + more_numbers\n",
    "all_numbers"
   ]
  },
  {
   "cell_type": "code",
   "execution_count": null,
   "id": "bf5326d5-e283-4a5e-acfc-b253c295bb1b",
   "metadata": {},
   "outputs": [],
   "source": [
    "person = ('Max', 'Muster')\n",
    "fname, lname = person\n",
    "print('Vorname:', fname)\n",
    "print('Nachname:', lname)"
   ]
  },
  {
   "cell_type": "code",
   "execution_count": null,
   "id": "3cddd568-9031-44b4-8653-819bc59a22e1",
   "metadata": {},
   "outputs": [],
   "source": [
    "person = ('Max', 'Muster')\n",
    "fname = person[0]\n",
    "lname = person[1]\n",
    "print('Vorname:', fname)\n",
    "print('Nachname:', lname)"
   ]
  },
  {
   "cell_type": "code",
   "execution_count": null,
   "id": "ec3f60b3-5d71-424e-b380-65a5dcec1edd",
   "metadata": {},
   "outputs": [],
   "source": [
    "n = None\n",
    "cities = ()\n",
    "names = ('Alice', 'Bob', 'Cathy')\n",
    "\n",
    "# None ist falsy, somit ist n or 2 gleich 2\n",
    "print(n or 2)\n",
    "\n",
    "# cities ist ein leerer Tuple und somit falsy,\n",
    "# somit ist cities and cities[0] gleich cities\n",
    "print(cities and cities[0])\n",
    "\n",
    "# names ist nicht leer, also nicht falsy\n",
    "# somit ist names and names[0] gleich names[0]\n",
    "print(names and names[0])"
   ]
  }
 ],
 "metadata": {
  "kernelspec": {
   "display_name": "Python 3 (ipykernel)",
   "language": "python",
   "name": "python3"
  },
  "language_info": {
   "codemirror_mode": {
    "name": "ipython",
    "version": 3
   },
   "file_extension": ".py",
   "mimetype": "text/x-python",
   "name": "python",
   "nbconvert_exporter": "python",
   "pygments_lexer": "ipython3",
   "version": "3.13.0"
  }
 },
 "nbformat": 4,
 "nbformat_minor": 5
}
