{
 "cells": [
  {
   "cell_type": "markdown",
   "id": "fd40ea8f-8a86-4027-a335-3b0e6b9248ce",
   "metadata": {},
   "source": [
    "### Die Typen *int*, *float*, *string*, *bool*, *tuple* und *list*\n",
    "\n",
    "- Objekte vom Typ `int`, `float`, `string`, `bool` und `tuple` sind **immutable** (nicht modifizierbar).\n",
    "Der Wert eine Objekts eines immutable Typs kann nicht ge&auml;ndert werden.\n",
    "Es kann nur ein neues Objekt von diesem Typ mit einem neuen Wert erstellt werden.  \n",
    "- Objekte vom Typ `list` sind **mutable** (modifizierbar).    \n",
    "- Die Typen `str`, `tuple` und `list` sind **`iterable`**, das heisst, man kann z.B. mit einem For-Loop &uuml;ber die Elemente des Objekts iterieren.\n",
    "- Die Typen  `str`, `tuple` und `list` sind auch **`sequences`**. Ist `seq` eine *sequence*, so\n",
    "  kann man mit  `seq[i]` auf das $i$te Element zugreifen ($i$ muss ein Integer sein).\n",
    "- **Typenumwandlung/Cast**:  \n",
    "  Ein Objekt `x` kann unter Umst&auml;nden \n",
    "  mit `<type>(x)` in ein Objekt vom Type `<type>` umgewandelt werden.\n",
    "  Z.B. `int(2.3)`, `float(2)`, `list('abc')`"
   ]
  },
  {
   "cell_type": "markdown",
   "id": "f6ec247b-0647-4750-8862-f9f060e26b7e",
   "metadata": {},
   "source": [
    "### Integer (`int`)\n",
    "- immutable\n",
    "- Operationen: `+, -, *, /, //, %, **`\n",
    "  \n",
    "**Bemerkungen**:\n",
    "- `x / y` normale Division liefert **immer** ein `float`\n",
    "- `x // y` Ganzahldivision, liefert **immer** ein `int`\n",
    "- `x % y` liefert den Rest der Ganzahldivision\n",
    "- `x ** y` rechnet `x` hoch `y`\n",
    "- Division durch 0 erzeugt einen `ZeroDivisionError`\n",
    "- Python kann mit sehr grossen Integern rechnen\n",
    "- in ein Integer- (und auch Float-) Literals d&uuml;rfen `_` zur Verbesseung der Lesbarkeit eingestreut werden:\n",
    "  `1_000_000`"
   ]
  },
  {
   "cell_type": "code",
   "execution_count": null,
   "id": "4c8ee7cc-147d-490d-9af8-08812dbc69c7",
   "metadata": {},
   "outputs": [],
   "source": [
    "1_000_000_000"
   ]
  },
  {
   "cell_type": "code",
   "execution_count": null,
   "id": "b2b366cb-4003-4500-a77b-b5417782bc7a",
   "metadata": {},
   "outputs": [],
   "source": [
    "print(abs(-2))\n",
    "print(2 / 1, type(2/1))\n",
    "print(2 ** 10)\n",
    "print(2 ** (2 ** 10))  # Python Integer duerfen sehr gross sein"
   ]
  },
  {
   "cell_type": "code",
   "execution_count": null,
   "id": "34a6af8e-da04-4a90-ac47-d10b2ae4b6d6",
   "metadata": {},
   "outputs": [],
   "source": []
  },
  {
   "cell_type": "markdown",
   "id": "fc63adfc-0445-49c0-a022-449ad2a3f503",
   "metadata": {},
   "source": [
    "### Fliesskommazahlen (`float`)\n",
    "- immutable\n",
    "- Operatonen: `+, -, *, /, //, %, **`\n",
    "- Ein `float` kann nur Zahlen in einem bestimmten Intervall mit limitierter Genauigkeit abspeichern.\n",
    "  Die Details sind abh&auml;ngig von der Architektur des Computers auf dem der Python Interpreter l&auml;uft.\n",
    "  Typischerweise stehen 64 Bits zur Verf&uuml;gung um einen `float` zu speichern.\n",
    "  Siehe z.B. <a href = 'https://en.wikipedia.org/wiki/Double-precision_floating-point_format#IEEE_754_double-precision_binary_floating-point_format:_binary64'>hier.</a>  \n",
    "- Fliesskommazahlen werden intern als Bin&auml;rzahlen gespeichert.\n",
    "So wie sich $\\frac{1}{3}$ nicht exakt als Dezimalzahl darstellen l&auml;sst, kann man\n",
    "$0.1$ nicht exakt als Bin&auml;rzahlen darstellen. Deshalb ist `False` das Resultat des Vergleichs `0.1 + 0.1 + 0.1 == 0.3` (Rundungsfehler).   \n",
    "Anstatt auf Gleicheit zu testen, sollte man pr&uuml;fen, ob die **absolute Differenz klein** ist:\n",
    "```python\n",
    "epsilon = 0.000_000_000_1\n",
    "abs(0.1 + 0.1 + 0.1 - 0.3) < epsilon  # abs(x) = |x| (z.B. |-2| = 2)\n",
    "```"
   ]
  },
  {
   "cell_type": "code",
   "execution_count": null,
   "id": "998d9da8-eae6-438a-b2ec-3881e3a58aa5",
   "metadata": {},
   "outputs": [],
   "source": [
    "0.1 + 0.1 + 0.1 == 0.3  # teste auf Gleichheit"
   ]
  },
  {
   "cell_type": "code",
   "execution_count": null,
   "id": "a60b01b7-1f49-4dd7-a19e-bf1afd77a1de",
   "metadata": {},
   "outputs": [],
   "source": [
    "0.3 - (0.1 + 0.1 + 0.1)"
   ]
  },
  {
   "cell_type": "code",
   "execution_count": null,
   "id": "346dace9-c2d0-4985-9baa-c4c79e0b6d37",
   "metadata": {},
   "outputs": [],
   "source": [
    "epsilon = 0.000_000_000_1\n",
    "abs(0.1 + 0.1 + 0.1 - 0.3) < epsilon"
   ]
  },
  {
   "cell_type": "code",
   "execution_count": null,
   "id": "491c5f9f-4da5-44b0-aae9-ad3139f995b9",
   "metadata": {},
   "outputs": [],
   "source": []
  },
  {
   "cell_type": "markdown",
   "id": "7af4cabc-1660-4de0-bf7e-a38dc4dfa0b8",
   "metadata": {},
   "source": [
    "### Booleans (`bool`)\n",
    "- Es gibt nur 2 Objekte von Typ `bool`: `True` und `False`.  \n",
    "  `bool` ist ein Subtyp von `int`. Deshalb verh&auml;lt sich `True` wie $1$ und `False` wie $0$.\n",
    "  ```python\n",
    "  0 == False  # True\n",
    "  1 == True  # True\n",
    "  ```\n",
    "  \n",
    "\n",
    "- **jedes** Objekt kann in den Typ `bool` umgewandelt werden.\n",
    "  Man nennt `bool(x)` auch den Wahrheitswert von `x`.\n",
    "  Ist der Wahrheitswert von `x` True, so nennt man `x` auch **truthy**, ist\n",
    " er False, so nennt man `x` **falsy**.\n",
    "  \n",
    "   - nur `0`, `0.0`, `None` und alle Iterables ohne Elemente ('', (), [], ...) sind *falsy*\n",
    "   - alle anderen Werte sind *truthy*"
   ]
  },
  {
   "cell_type": "code",
   "execution_count": null,
   "id": "18e26fe2-ccb2-4959-9b93-ac3e6ca3d097",
   "metadata": {},
   "outputs": [],
   "source": []
  },
  {
   "cell_type": "markdown",
   "id": "75ece31f-b42a-4e88-87ee-2612c0645d89",
   "metadata": {},
   "source": [
    "### Strings (`str`)\n",
    "- Strings sind **immutable** und **iterable**\n",
    "- Ist `s` ein String, liefert `s[0]` und `s[1]` das $0$te (oder je nach Z&auml;hlart erste) bez. 1. Zeichen, oder einen **IndexError**.\n",
    "- Strings lassen sich mit Integers multiplizieren (vervielfachen) und mit Strings addieren (zusammenh&auml;ngen)."
   ]
  },
  {
   "cell_type": "code",
   "execution_count": null,
   "id": "e456dcce-bf41-4eb0-8f30-5c571d58b697",
   "metadata": {},
   "outputs": [],
   "source": []
  },
  {
   "cell_type": "markdown",
   "id": "1a17f669-faac-40c1-b715-c9ecf60b0be9",
   "metadata": {},
   "source": [
    "### Tuples (`tuple`)\n",
    "- Tuples sind **immutable** und **iterable**\n",
    "- Ist `tp` ein Tuple, liefert `tp[0]` und `tp[1]` das $0$te (oder je nach Z&auml;hlart erste) bez. 1. Zeichen, oder einen **IndexError**.\n",
    "- Tuple lassen sich mit Integers multiplizieren (vervielfachen) und mit Tuple addieren (zusammenh&auml;ngen).\n",
    "  \n",
    "Ein Tuple wird wie folgt erzeugt: \n",
    "Sind $a_1,\\ldots,a_n$ Ausdr&uuml;cke, so auch  \n",
    "`(` $a_1,\\ldots,a_n$ `)` (Tuple mit Elementen $a_1,\\ldots,a_n$).\n",
    "Insbesondere\n",
    "\n",
    "\n",
    "```python\n",
    "()  # leeres Tuple  \n",
    "(<Ausdruck>,)  # Tuple mit einem Element, beachte das Komma!  \n",
    "(<Ausdruck1>, <Ausdruck2>, ...) # Tuple mit mehreren Elementen\n",
    "```\n",
    "\n",
    "**Achtung** Tuple mit nur einem Element werden so kreiert:  `t = ('a', )`, `t = (1, )`  \n",
    "`t = ('a')` und `t = (1)`  liefert einen String, bew. einen Integer\n",
    "\n",
    "**Besonderheitvon Tuple**:  \n",
    "Die Klammern des Tuple-Ausdrucks sind fakultativ.\n",
    "Das ist manchmal praktisch, kann aber zu schwer zu findenden Fehlern f&uuml;hren.  \n",
    "```python\n",
    "x = 1, 2  # x = (1, 2)\n",
    "x = 1,   # x = (1,)  Tupel mit einem Element, nicht die Zahl 1!\n",
    "```"
   ]
  },
  {
   "cell_type": "code",
   "execution_count": null,
   "id": "34cb4499-fd20-4fad-ad9f-cd96c6ddcafd",
   "metadata": {},
   "outputs": [],
   "source": []
  },
  {
   "cell_type": "markdown",
   "id": "10d86a60-8e5f-4a19-a943-942d1606118d",
   "metadata": {},
   "source": [
    "### Listen\n",
    "Listen sind ver&auml;nderbare (mutable) Tuples.  \n",
    "Eine Liste wird wie folgt erzeugt:\n",
    "```python\n",
    "[]  # leere Liste\n",
    "[<Ausdruck>]  # Liste mit einem Element\n",
    "[<Ausdruck1>, <Ausdruck2>, ...]  # Liste mit mehreren Elementen\n",
    "```\n",
    "\n",
    "Ist `lst` eine Liste mit einem Element `lst[i]`, so l&auml;sst sich dieses Element mit `lst[i] = <Ausdruck>` &auml;ndern."
   ]
  },
  {
   "cell_type": "code",
   "execution_count": null,
   "id": "74a75b33-5b5e-4d3c-a267-5b67a531b473",
   "metadata": {},
   "outputs": [],
   "source": []
  },
  {
   "cell_type": "markdown",
   "id": "a66e9ad5-eb8e-4cac-9703-1d553d8ba247",
   "metadata": {},
   "source": [
    "### Unpacking \n",
    "Besonderheit von Iterables (iterierbaren Objekten wie Stings , Tuples, Listen,...):  \n",
    "Steht bei einer Zuweisung rechts vom Gleicheitszeichen ein Iterable\n",
    "(iterierbares Objekt, z.B. ein Sting oder ein Tuple) mit der\n",
    "**passenden** Anzahl Elemente, so werden diese den entsprechenden Variablen auf der linken Seite zugewiesen. \n",
    "Passt die Anzahl nicht, wird ein ValueError erzeugt.\n",
    "\n",
    "```python\n",
    "a, b, c = 'abc'\n",
    "x, y, z = [2.3, 3.5, 1.0]\n",
    "vorname, name = ('Hans', 'Muster')\n",
    "```\n",
    "\n",
    "Eine h&auml;ufige Verwendung ist sog. **Multiassignment**:  \n",
    "```python\n",
    "x, y = 1, 2  # x, y = (1, 2)\n",
    "```"
   ]
  },
  {
   "cell_type": "code",
   "execution_count": null,
   "id": "5646e167-3256-4355-9637-5ed790f6466a",
   "metadata": {},
   "outputs": [],
   "source": []
  },
  {
   "cell_type": "markdown",
   "id": "d00e45c3-58bc-489a-8ad3-0f50c2465a25",
   "metadata": {},
   "source": [
    "## Logische Operatoren: `or, and, not`  \n",
    "Verhalten der logischen Operatoren auf Objekten vom Typ `bool` (`True, False)`:\n",
    "- `x and y` ist `True` falls `x` und `y` `True` sind, sonst ```False```\n",
    "- `x or y` ist `False` falls `x` und  `y` `True` ist, sonst `False`\n",
    "- `not True` ist `False` und `not False` ist `True`    \n",
    "    \n",
    "Verhalten der logischen Operatoren auf beliebigen Objekten:\n",
    "- `x and y` gibt den ersten Operand  zur&uuml;ck, dessen Wahrheitswert `False` ist, oder\n",
    "  den letzten.\n",
    "- `x and y` gibt den ersten Operand zur&uuml;ck, dessen Wahrheitswert `True` ist, oder\n",
    "  den letzten.\n",
    "- `not x` gibt die Negation des Wahrheitswerts von `x` zur&uuml;ck.\n",
    "        \n",
    "**Aufgabe**: Verifiziere, dass die 2. Definition von `and, or, not` \n",
    "auf Objekten vom Typ `bool` die gleichen Resultate produziert wie die 1. Definition."
   ]
  },
  {
   "cell_type": "code",
   "execution_count": null,
   "id": "0829a85e-388d-44a8-b959-30bf0cae5a3e",
   "metadata": {},
   "outputs": [],
   "source": []
  },
  {
   "cell_type": "markdown",
   "id": "660d9ad8-845f-406e-a420-8db42fac6ef2",
   "metadata": {},
   "source": [
    "### Der Funktion `len`\n",
    "Die Funktion `len` l&auml;sst sich auf iterable Objekte wie Strings, Tuples und Listen anwenden und gibt die L&auml;nge (Anzahl Elemente) zur&uuml;ck."
   ]
  },
  {
   "cell_type": "markdown",
   "id": "47f2ed9f-1737-4c40-9122-f0dda826b511",
   "metadata": {},
   "source": [
    "### Aufgaben\n",
    "1. Wie kann man testen, ob eine Zahl ohne Rest durch 17 teilbar ist?\n",
    "1. Wie pr&uuml;ft man, ob zwei floats (fast) gleich sind?\n",
    "1. Welche Werte sind *falsy*. &Uuml;berpr&uuml;fe das, durch Umwandeln des Wertes in einen Boolean.\n",
    "1. Erzeuge einen String. Ermittle seine L&auml;nge mit `len` und gib den letzten Buchstaben des Strings aus.\n",
    "1. Erzeuge in einelementiges Tuple.\n",
    "1. Erzeuge 2 Listen und h&auml;nge sie aneinander.\n",
    "1. Sei `person = ('Max', Muster')`. Speichere Vor- und Nachname in den Variabeln `fname` und `lname`, einmal mit und einmal ohne Unpacking.\n",
    "1. F&uuml;hre folgenden Code aus und erkl&auml;re den Output.\n",
    "```python\n",
    "n = None\n",
    "cities = ()\n",
    "names = ('Alice', 'Bob', 'Cathy')\n",
    "\n",
    "print(n or 2)\n",
    "print(cities and cities[0])\n",
    "print(names and names[0])\n",
    "```"
   ]
  },
  {
   "cell_type": "code",
   "execution_count": null,
   "id": "9c55d44e-cb98-4585-b144-695c132bf8ed",
   "metadata": {},
   "outputs": [],
   "source": [
    "# Basic Types 1"
   ]
  },
  {
   "cell_type": "code",
   "execution_count": null,
   "id": "6be411b4-8050-459b-8b41-6bc096e7c32f",
   "metadata": {},
   "outputs": [],
   "source": [
    "s = 'abcd'\n",
    "chars = tuple(s)\n",
    "chars"
   ]
  },
  {
   "cell_type": "code",
   "execution_count": null,
   "id": "f90c0458-f215-44b8-abae-6b76e29edf30",
   "metadata": {},
   "outputs": [],
   "source": [
    "letters = list(chars)\n",
    "letters"
   ]
  },
  {
   "cell_type": "code",
   "execution_count": null,
   "id": "289f42e3-5123-44ae-9ab2-47040e3a8a01",
   "metadata": {},
   "outputs": [],
   "source": [
    "s1 = str(letters)\n",
    "s1"
   ]
  },
  {
   "cell_type": "code",
   "execution_count": null,
   "id": "caf27f99-336e-4597-a063-71f70a89bdc5",
   "metadata": {},
   "outputs": [],
   "source": [
    "def lst2str(letters):\n",
    "    s = ''\n",
    "    for c in letters:\n",
    "        s = s + c\n",
    "    return s"
   ]
  },
  {
   "cell_type": "code",
   "execution_count": null,
   "id": "093dae9d-8ad3-4810-b9c3-701f3e25d5ba",
   "metadata": {},
   "outputs": [],
   "source": [
    "word = 'asfasdf'\n",
    "word == lst2str(list(word))"
   ]
  },
  {
   "cell_type": "code",
   "execution_count": null,
   "id": "6b80e70f-fbb5-4898-a2b6-26194ffd00aa",
   "metadata": {},
   "outputs": [],
   "source": [
    "# Basic Types II"
   ]
  },
  {
   "cell_type": "code",
   "execution_count": null,
   "id": "c8c355d3-6f03-448c-968e-27813e81d8e7",
   "metadata": {},
   "outputs": [],
   "source": [
    "68 % 17 == 0"
   ]
  },
  {
   "cell_type": "code",
   "execution_count": null,
   "id": "222ac2e8-ab58-42df-ac6c-42f0d31f3b00",
   "metadata": {},
   "outputs": [],
   "source": [
    "x = 1/3\n",
    "y = 0.333333333\n",
    "epsilon = 0.001\n",
    "abs(x - y) < epsilon"
   ]
  },
  {
   "cell_type": "code",
   "execution_count": null,
   "id": "8f6e2a43-10b9-4b0f-9936-08ae0d608951",
   "metadata": {},
   "outputs": [],
   "source": [
    "falsy_values = (0, 0.0, '', (), [], False)\n",
    "for x in falsy_values:\n",
    "    print(bool(x))"
   ]
  },
  {
   "cell_type": "code",
   "execution_count": null,
   "id": "a6167a55-e6c9-439b-a14d-10a05025d581",
   "metadata": {},
   "outputs": [],
   "source": [
    "s = 'asfsadfasdx'\n",
    "n = len(s)\n",
    "print(n, s[n-1])"
   ]
  },
  {
   "cell_type": "code",
   "execution_count": null,
   "id": "bd723438-dedf-480c-b693-93a1c3c3df07",
   "metadata": {},
   "outputs": [],
   "source": [
    "tp = ('test',)\n",
    "tp"
   ]
  },
  {
   "cell_type": "code",
   "execution_count": null,
   "id": "22414fa1-951e-490c-a194-4bc78f088df0",
   "metadata": {},
   "outputs": [],
   "source": [
    "numbers = [1, 2, 3]\n",
    "more_numbers = [4, 5]\n",
    "all_numbers = numbers + more_numbers\n",
    "all_numbers"
   ]
  },
  {
   "cell_type": "code",
   "execution_count": null,
   "id": "bf5326d5-e283-4a5e-acfc-b253c295bb1b",
   "metadata": {},
   "outputs": [],
   "source": [
    "person = ('Max', 'Muster')\n",
    "fname, lname = person\n",
    "print('Vorname:', fname)\n",
    "print('Nachname:', lname)"
   ]
  },
  {
   "cell_type": "code",
   "execution_count": null,
   "id": "3cddd568-9031-44b4-8653-819bc59a22e1",
   "metadata": {},
   "outputs": [],
   "source": [
    "person = ('Max', 'Muster')\n",
    "fname = person[0]\n",
    "lname = person[1]\n",
    "print('Vorname:', fname)\n",
    "print('Nachname:', lname)"
   ]
  },
  {
   "cell_type": "code",
   "execution_count": null,
   "id": "ec3f60b3-5d71-424e-b380-65a5dcec1edd",
   "metadata": {},
   "outputs": [],
   "source": [
    "n = None\n",
    "cities = ()\n",
    "names = ('Alice', 'Bob', 'Cathy')\n",
    "\n",
    "# None ist falsy, somit ist n or 2 gleich 2\n",
    "print(n or 2)\n",
    "\n",
    "# cities ist ein leerer Tuple und somit falsy,\n",
    "# somit ist cities and cities[0] gleich cities\n",
    "print(cities and cities[0])\n",
    "\n",
    "# names ist nicht leer, also nicht falsy\n",
    "# somit ist names and names[0] gleich names[0]\n",
    "print(names and names[0])"
   ]
  },
  {
   "cell_type": "code",
   "execution_count": null,
   "id": "fd93e23a-7d75-4caf-9415-0af09893f82c",
   "metadata": {},
   "outputs": [],
   "source": []
  }
 ],
 "metadata": {
  "kernelspec": {
   "display_name": "Python 3 (ipykernel)",
   "language": "python",
   "name": "python3"
  },
  "language_info": {
   "codemirror_mode": {
    "name": "ipython",
    "version": 3
   },
   "file_extension": ".py",
   "mimetype": "text/x-python",
   "name": "python",
   "nbconvert_exporter": "python",
   "pygments_lexer": "ipython3",
   "version": "3.13.0"
  }
 },
 "nbformat": 4,
 "nbformat_minor": 5
}
