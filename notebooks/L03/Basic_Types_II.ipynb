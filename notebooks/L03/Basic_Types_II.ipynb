{
 "cells": [
  {
   "cell_type": "markdown",
   "id": "fd40ea8f-8a86-4027-a335-3b0e6b9248ce",
   "metadata": {},
   "source": [
    "### Mehr zu Typen\n",
    "\n",
    "- Die Typen `int`, `float`, `string`, `bool` und `tuple` sind\n",
    "  **immutable** (nicht modifizierbar). Ihr Wert kann nicht ge&auml;ndert werden. Es kann nur ein\n",
    "  neues Objekt von diesem Typ mit einem neuen Wert erstellt werden.  - Der Typ `list` ist **mutable** modifizierbar.    \n",
    " \n",
    "- Die Typen `str`, `tuple` und `list` sind **`iterable`**, das heisst, man kann z.B. in einem For-Loop\n",
    "  &uuml;ber die Elemente des Objekts iterieren:\n",
    "  ```python\n",
    "  for x in 'abce':\n",
    "         print(x)\n",
    "\n",
    "  for x in (0, 1, 'foo', 3.0, None, (True, False)):\n",
    "      print(x)\n",
    "  ```       \n",
    "- **Typenumwandlung/Cast**:  \n",
    "  Ein Objekt `x` kann unter Umst&auml;nden \n",
    "  mit `<type>(x)` in ein Objekt vom Type `<type>` umgewandelt werden.  \n",
    "  Z.B. `int(2.3)`, `float(2)`, `list('abc')`\n",
    "\n",
    "\n",
    "Nachstehend stellen wir die Typen  `int`, `float`, `string`, `bool`, `tuple` und `list` kurz vor."
   ]
  },
  {
   "cell_type": "code",
   "execution_count": null,
   "id": "39b448e9-09b4-424d-9b3f-6a0fc43b44e6",
   "metadata": {},
   "outputs": [],
   "source": []
  },
  {
   "cell_type": "code",
   "execution_count": null,
   "id": "0f9b3c84-d9b4-46b2-a353-070b4f85f9d7",
   "metadata": {},
   "outputs": [],
   "source": []
  },
  {
   "cell_type": "markdown",
   "id": "f6ec247b-0647-4750-8862-f9f060e26b7e",
   "metadata": {},
   "source": [
    "### Integer (`int`)\n",
    "- immutable\n",
    "- Operationen: `+, -, *, /, //, %, **`\n",
    "- Auf Integer anwendbare Funktionen: `abs(x)` (Betrag von `x`, $abs(-2) = |-2| =2$)\n",
    "  \n",
    "**Bemerkungen**:\n",
    "- `x / y` normale Division liefert **immer** ein `float`\n",
    "- `x // y` Ganzahldivision, liefert **immer** ein `int`\n",
    "- `x % y` liefert den Rest der Ganzahldivision\n",
    "- `x ** y` rechnet `x` hoch `y`\n",
    "- Division durch 0 erzeugt einen `ZeroDivisionError`\n",
    "- Python kann mit sehr grossen Integern rechnen\n",
    "- in ein Integer- (und auch Float-) Literals d&uuml;rfen `_` zur Verbesseung der Lesbarkeit eingestreut werden:\n",
    "  `1_000_000`"
   ]
  },
  {
   "cell_type": "code",
   "execution_count": null,
   "id": "4c8ee7cc-147d-490d-9af8-08812dbc69c7",
   "metadata": {},
   "outputs": [],
   "source": [
    "1_000_000_000"
   ]
  },
  {
   "cell_type": "code",
   "execution_count": null,
   "id": "b2b366cb-4003-4500-a77b-b5417782bc7a",
   "metadata": {},
   "outputs": [],
   "source": [
    "print(abs(-2))\n",
    "print(2 / 1, type(2 /1 ))\n",
    "print(2 ** 10)\n",
    "print(2 ** (2 ** 10)) # Python Integer duerfen sehr gross sein"
   ]
  },
  {
   "cell_type": "markdown",
   "id": "fc63adfc-0445-49c0-a022-449ad2a3f503",
   "metadata": {},
   "source": [
    "### Fliesskommazahlen (`float`)\n",
    "- immutable\n",
    "- Operatonen: `+, -, *, /, //, %, **`\n",
    "- Ein `float` kann nur Zahlen in einem bestimmten Intervall mit limitierter Genauigkeit abspeichern.\n",
    "  Die Details sind abh&auml;ngig von der Architektur des Computers auf dem der Python Interpreter l&auml;uft.\n",
    "  Typischerweise stehen 64 Bits zur Verf&uuml;gung um einen `float` zu speichern.\n",
    "  Siehe z.B. <a href = 'https://en.wikipedia.org/wiki/Double-precision_floating-point_format#IEEE_754_double-precision_binary_floating-point_format:_binary64'>hier.</a>  \n",
    "- Fliesskommazahlen werden intern als Bin&auml;rzahlen gespeichert.\n",
    "So wie sich $\\frac{1}{3}$ nicht exakt als Dezimalzahl darstellen l&auml;sst, kann man\n",
    "$0.1$ nicht exakt als Bin&auml;rzahlen darstellen. Deshalb ist `False` das Resultat des Vergleichs `0.1 + 0.1 + 0.1 == 0.3` (Rundungsfehler).   \n",
    "Anstatt auf Gleicheit zu testen, sollte man pr&uuml;fen, ob die **absolute Differenz klein** ist:\n",
    "```python\n",
    "epsilon = 0.000_000_000_1\n",
    "abs(0.1 + 0.1 + 0.1 - 0.3) < epsilon\n",
    "```"
   ]
  },
  {
   "cell_type": "code",
   "execution_count": null,
   "id": "998d9da8-eae6-438a-b2ec-3881e3a58aa5",
   "metadata": {},
   "outputs": [],
   "source": [
    "0.1 + 0.1 + 0.1 == 0.3 # teste auf Gleichheit"
   ]
  },
  {
   "cell_type": "code",
   "execution_count": null,
   "id": "a60b01b7-1f49-4dd7-a19e-bf1afd77a1de",
   "metadata": {},
   "outputs": [],
   "source": [
    "0.3 - (0.1 + 0.1 + 0.1)"
   ]
  },
  {
   "cell_type": "code",
   "execution_count": null,
   "id": "346dace9-c2d0-4985-9baa-c4c79e0b6d37",
   "metadata": {},
   "outputs": [],
   "source": [
    "epsilon = 0.000_000_000_1\n",
    "abs(0.1 + 0.1 + 0.1 - 0.3) < epsilon"
   ]
  },
  {
   "cell_type": "markdown",
   "id": "7af4cabc-1660-4de0-bf7e-a38dc4dfa0b8",
   "metadata": {},
   "source": [
    "### Booleans (`bool`)\n",
    "- Es gibt nur 2 Objekte von Typ `bool`: `True` und `False`.  \n",
    "  `bool` ist ein Subtyp von `int`. Deshalb verh&auml;lt sich `True` wie $1$ und `False` wie $0$.\n",
    "  ```python\n",
    "  0 == False  # True\n",
    "  1 == True  # True\n",
    "  ```\n",
    "  \n",
    "\n",
    "- **jedes** Objekt kann in den Typ `bool` umgewandelt werden:   \n",
    "   - `0`, `0.0`, `None` und alle Iterables ohne Elemente werden zu `False`  \n",
    "   - alle anderen werden zu `True`"
   ]
  },
  {
   "cell_type": "markdown",
   "id": "75ece31f-b42a-4e88-87ee-2612c0645d89",
   "metadata": {},
   "source": [
    "### Strings (`str`)\n",
    "- Strings sind **immutable** und **iterable**\n",
    "- Ist `s` ein String, liefert `s[0]` und `s[1]` das $0$te (oder je nach Z&auml;hlart erste) bez. 1. Zeichen, oder einen **IndexError**.\n",
    "- Strings lassen sich mit Integers multiplizieren (vervielfachen) und mit Strings addieren (zusammenh&auml;ngen)."
   ]
  },
  {
   "cell_type": "markdown",
   "id": "1a17f669-faac-40c1-b715-c9ecf60b0be9",
   "metadata": {},
   "source": [
    "### Tuples (`tuple`)\n",
    "- Tuples sind **immutable** und **iterable**\n",
    "- Ist `tp` ein Tuple, liefert `tp[0]` und `tp[1]` das $0$te (oder je nach Z&auml;hlart erste) bez. 1. Zeichen, oder einen **IndexError**.\n",
    "- Tuple lassen sich mit Integers multiplizieren (vervielfachen) und mit Tuple addieren (zusammenh&auml;ngen).\n",
    "  \n",
    "Ein Tuple wird wie folgt erzeugt:\n",
    "```python\n",
    "()  # leeres Tuple  \n",
    "(<Ausdruck>,)  # Tuple mit einem Element, beachte das Komma!  \n",
    "(<Ausdruck1>, <Ausdruck2>, ...) # Tuple mit mehreren Elementen\n",
    "```\n",
    "\n",
    "**Achtung** Tuple mit nur einem Element werden so kreiert:  `t = ('a', )`, `t = (1, )`  \n",
    "`t = ('a')` und `t = (1)`  liefert einen String, bew. einen Integer\n",
    "\n",
    "**Besonderheitvon Tuple**:  \n",
    "Die Klammern des Tuple-Konstruktors sind fakultativ.\n",
    "Das ist manchmal praktisch, kann aber zu schwer zu findenden Fehlern f&uuml;hren.  \n",
    "```python\n",
    "x = 1, 2  # x = (1, 2)\n",
    "x = 1,   # x = (1,)  Tupel mit einem Element, nicht die Zahl 1!\n",
    "```"
   ]
  },
  {
   "cell_type": "markdown",
   "id": "10d86a60-8e5f-4a19-a943-942d1606118d",
   "metadata": {},
   "source": [
    "### Listen\n",
    "Listen sind ver&auml;nderbare (mutable) Tuples.  \n",
    "Eine Liste wird wie folgt erzeugt:\n",
    "```python\n",
    "[]  # leere Liste  \n",
    "[<Ausdruck1>, <Ausdruck2>, ...] # Liste mit mehreren Elementen\n",
    "```\n",
    "\n",
    "Ist `lst` eine Liste mit einem Element `lst[i]`, so l&auml;sst sich\n",
    "  dieses Element mit `lst[i] = <Ausdruck>` &auml;ndern."
   ]
  },
  {
   "cell_type": "markdown",
   "id": "8cbabacf-2e6d-4e49-aa38-b0db57e2e959",
   "metadata": {},
   "source": [
    "### Dictionaries\n",
    "Eine __Zuordnungstabelle__ oder **assoziierte Liste**, auf Englisch ein __Dictionary__, ist eine der wichtigsten und n&uuml;tzlichsten Datenstrukturen &uuml;berhaupt.\n",
    "- Dictionaires sind **mutable** und **iterable**\n",
    "- Dictionaries enthalten sog. Key-Value (Schl&uuml;ssel-Wert)  Paare:    \n",
    "  jedes [**hashable**](https://docs.python.org/3/glossary.html#term-hashable) Objekt, insbesondere jedes immutable Objekt ist ein g&uuml;ltiger Key,  \n",
    "  **jedes** Objekt ist ein g&uuml;ltiger Value\n",
    "- Derselbe `Key` kann **nur einmal** im Dictionary vorkommen \n",
    "- Seit der Version 3.8 sind Dictionaries geordnet:\n",
    "  Die Schl&uuml;ssel bleiben immer in der Reihenfolge, in welcher sie in den Dictionary eingef&uuml;gt wurden.\n",
    "\n",
    "\n",
    "Ein Dictionary wird wir folgt erstellt:\n",
    "```python\n",
    "{}  # leerer Dictionary\n",
    "{<Key>: <Value>, ...}\n",
    "```\n",
    "\n",
    "\n",
    "Ist `d` ein Dictionary, dann\n",
    "- `d[k]` liefert den zugeh&ouml;rigen Wert oder einen KeyError\n",
    "- `d[k] = v` ordnet dem Key `k` den Wert `v` zu.\n",
    "- `list(d)` liefert eine Liste mit den **Keys** von `d`."
   ]
  },
  {
   "cell_type": "markdown",
   "id": "a66e9ad5-eb8e-4cac-9703-1d553d8ba247",
   "metadata": {},
   "source": [
    "### Unpacking \n",
    "Besonderheit von Iterables (iterierbaren Objekten wie Stings , Tuples, Listen, Dicts,...):  \n",
    "Steht bei einer Zuweisung rechts vom Gleicheitszeichen ein Iterable\n",
    "(iterierbares Objekt, z.B. ein Sting oder ein Tuple) mit der\n",
    "**passenden** Anzahl Elemente, so werden diese den entsprechenden Variablen auf der linken Seite zugewiesen. \n",
    "Passt die Anzahl nicht, wird ein ValueError erzeugt.\n",
    "\n",
    "```python\n",
    "a, b, c = 'abc'\n",
    "x, y, z = [2.3, 3.5, 1.0]\n",
    "vorname, name = ('Hans', 'Muster')\n",
    "```\n",
    "\n",
    "Eine h&auml;ufige Verwendung ist sog. **Multiassignment**:  \n",
    "```python\n",
    "x, y = 1, 2  # x, y = (1, 2)\n",
    "```"
   ]
  },
  {
   "cell_type": "code",
   "execution_count": 1,
   "id": "a0f85e31-a093-458e-9e81-72d84321182a",
   "metadata": {},
   "outputs": [],
   "source": [
    "en_de = {'example': 'beispiel', \n",
    "         'house':   'Haus',    \n",
    "         'three':   'drei',     # Komma optional\n",
    "         }"
   ]
  },
  {
   "cell_type": "code",
   "execution_count": 4,
   "id": "14e6f19e-66f6-4f00-a50d-45b7e21df824",
   "metadata": {},
   "outputs": [
    {
     "name": "stdout",
     "output_type": "stream",
     "text": [
      "example\n",
      "house\n",
      "three\n"
     ]
    }
   ],
   "source": [
    "for k in en_de:\n",
    "    print(k)"
   ]
  },
  {
   "cell_type": "code",
   "execution_count": 2,
   "id": "b116e832-1c09-4d76-af2a-0ebaeb9d6a25",
   "metadata": {},
   "outputs": [
    {
     "data": {
      "text/plain": [
       "'beispiel'"
      ]
     },
     "execution_count": 2,
     "metadata": {},
     "output_type": "execute_result"
    }
   ],
   "source": [
    "en_de['example']"
   ]
  },
  {
   "cell_type": "code",
   "execution_count": 3,
   "id": "0981e23b-5070-4e06-b0d3-ba2a1a1377be",
   "metadata": {},
   "outputs": [
    {
     "ename": "KeyError",
     "evalue": "'cat'",
     "output_type": "error",
     "traceback": [
      "\u001b[0;31m---------------------------------------------------------------------------\u001b[0m",
      "\u001b[0;31mKeyError\u001b[0m                                  Traceback (most recent call last)",
      "Cell \u001b[0;32mIn[3], line 1\u001b[0m\n\u001b[0;32m----> 1\u001b[0m \u001b[43men_de\u001b[49m\u001b[43m[\u001b[49m\u001b[38;5;124;43m'\u001b[39;49m\u001b[38;5;124;43mcat\u001b[39;49m\u001b[38;5;124;43m'\u001b[39;49m\u001b[43m]\u001b[49m\n",
      "\u001b[0;31mKeyError\u001b[0m: 'cat'"
     ]
    }
   ],
   "source": [
    "en_de['cat']"
   ]
  },
  {
   "cell_type": "code",
   "execution_count": null,
   "id": "aaf7d267-0589-4643-906f-d0e850480d88",
   "metadata": {},
   "outputs": [],
   "source": [
    "en_de['example'] = 'Beispiel'  # Wert updaten\n",
    "en_de['cat'] = 'Katze'         # neues Key-Value Paar hinzufuegen "
   ]
  },
  {
   "cell_type": "code",
   "execution_count": null,
   "id": "927f53ef-030e-4434-a82f-5b84054bb72f",
   "metadata": {},
   "outputs": [],
   "source": []
  }
 ],
 "metadata": {
  "kernelspec": {
   "display_name": "Python 3 (ipykernel)",
   "language": "python",
   "name": "python3"
  },
  "language_info": {
   "codemirror_mode": {
    "name": "ipython",
    "version": 3
   },
   "file_extension": ".py",
   "mimetype": "text/x-python",
   "name": "python",
   "nbconvert_exporter": "python",
   "pygments_lexer": "ipython3",
   "version": "3.13.0"
  }
 },
 "nbformat": 4,
 "nbformat_minor": 5
}
