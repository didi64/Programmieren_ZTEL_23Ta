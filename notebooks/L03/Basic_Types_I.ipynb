{
 "cells": [
  {
   "cell_type": "markdown",
   "id": "ce57a1ec-f1dd-4bf6-b3da-33558f887085",
   "metadata": {},
   "source": [
    "### Die (builtin) Typen\n",
    "In Python ist der Wert jedes Ausdrucks (jede Zahl, String, usw.) ein sog. **Objekt**.\n",
    "Jedes Objekt hat einen sog. **Typ**, bez. auf Englisch **type**. Der Typ bestimmt unter anderem, was Operationen wie \n",
    "`+`,`*`, `==`, $\\ldots$ tun.  \n",
    "\n",
    "Der Begriff Typ hat historische Wurzeln. \n",
    "Seit Python 3.0 sind Typen als **Klassen** implementiert.\n",
    "Statt \n",
    ">`0` hat Typ `int`\n",
    "\n",
    "sagt man auch\n",
    "\n",
    "> `0` ist Instanz der Klasse `int`\n",
    "\n",
    "Mit `type(<Ausdruck>)` erh&auml;lt man den Typ von `<Ausdruck>`.  \n",
    "Der Typ eines Objekts ist selber ein Objekt vom Typ `type`.  \n",
    "\n",
    "**Der Operator `is`**  \n",
    "Der Vergleichsoperator `==` testet, ob 2 Objekte den gleichen Wert haben. \n",
    "Der Operator `is` testet, ob es sich um das selbe Objekt handelt.\n",
    "Es gibt nur ein Objekt `None` und jeweils nur ein Exemplar von den\n",
    "Objekten `int`, `float`, `str`, `bool`,...  \n",
    "Ob z.B. `x` den Wert `None` hat testet man deshalb mit `x is None`, und ob\n",
    "`n` vom Typ `int` ist, testet man mit `type(x) is int`\n",
    "```python\n",
    "x is None\n",
    "x == None # liefert das selbe Resultat, aber schlecher Stiel\n",
    "\n",
    "type(n) is int\n",
    "type(n) == int  # schlecher Stiel\n",
    "```\n",
    "\n",
    "**Objekt eines (built-in) Typs erzeugen**\n",
    "1. Ein Ausdruck erzeut automatisch ein Objekt mit dem entsprechenden Typ.\n",
    "   Z.B. `2+2` erzeugt einen Integer mit Wert 4.\n",
    "   Sind $a_1,\\ldots,a_n$ Ausdr&uuml;cke, so auch  \n",
    "   - `(` $a_1,\\ldots,a_n$ `)` (Tuple mit Elementen $a_1,\\ldots,a_n$, nicht modifizierbar),\n",
    "   - `[` $a_1,\\ldots,a_n$ `]` (Liste mit Elementen $a_1,\\ldots,a_n$, modifizierbar).\n",
    "   \n",
    "   &Uuml;ber die Elemente eines Tuples oder einer Liste kann man mit einem For-Loop iterieren.  \n",
    "   **Achtung**: Die Klammern des Tuple-Ausdrucks sind fakultativ. Das ist manchmal\n",
    "      praktisch, kann aber zu schwer zu findenden Fehlern führen.\n",
    "    ```python\n",
    "    x = 1, 2  # x = (1, 2)\n",
    "    x = 1,   # x = (1,)  Tupel mit einem Element, nicht die Zahl 1!\n",
    "    ```\n",
    "    <br>\n",
    "2. Die Typen `int`, `str`, `bool`, ... verhalten sich wie Funktionen.\n",
    "So versucht z.B. `int(x)` aus dem Argument `x` in einen Integer zu machen.\n",
    "Im Erfolgsfall wird dieser Integer zur&uuml;ckgeben, andenfalls ein Fehler erzeugt."
   ]
  },
  {
   "cell_type": "code",
   "execution_count": null,
   "id": "23e6299b-226e-4821-82f7-4ef34557a0ac",
   "metadata": {},
   "outputs": [],
   "source": [
    "# type(None)\n",
    "# type(1)\n",
    "# type('1')\n",
    "# type(True)\n",
    "# type(False)\n",
    "type(int)"
   ]
  },
  {
   "cell_type": "code",
   "execution_count": null,
   "id": "6e0b2fdd-170f-4e30-82bb-67d0cfb4f939",
   "metadata": {},
   "outputs": [],
   "source": [
    "# Ein Tuple\n",
    "objs = (None, 1, '1', True, False, int)\n",
    "for obj in objs:\n",
    "    print(quote(obj), 'hat Typ', type(obj))"
   ]
  },
  {
   "cell_type": "code",
   "execution_count": null,
   "id": "8855d1b1-4edb-4316-bde2-5686b1172714",
   "metadata": {},
   "outputs": [],
   "source": [
    "# Der Typ bestimmt, wie sich + und * verhalten\n",
    "x = 2 + 2\n",
    "s = '-' * 80\n",
    "# type(x)\n",
    "type(s)"
   ]
  },
  {
   "cell_type": "code",
   "execution_count": null,
   "id": "e82fd069-a0ab-4560-a026-244a7cf23f45",
   "metadata": {},
   "outputs": [],
   "source": [
    "# Typen erzeugen/umwandeln\n",
    "x = int(2)\n",
    "y = int(2.0)\n",
    "z = int('2')\n",
    "s = str(2)\n",
    "# x\n",
    "# y\n",
    "# z\n",
    "s"
   ]
  },
  {
   "cell_type": "code",
   "execution_count": null,
   "id": "958c9fb6-e3cb-4850-9248-d6045d394247",
   "metadata": {},
   "outputs": [],
   "source": [
    "for c in 'abc':\n",
    "    print(c, end=', ')"
   ]
  },
  {
   "cell_type": "code",
   "execution_count": null,
   "id": "bd651335-9929-48a9-8e44-f0a357e6f5b2",
   "metadata": {},
   "outputs": [],
   "source": [
    "for name in ('Alice', 'Bob', 'Cathy'):\n",
    "    print(name, end=', ')"
   ]
  },
  {
   "cell_type": "code",
   "execution_count": null,
   "id": "0ec82373-34e8-472a-baf4-de15e10bc2c4",
   "metadata": {},
   "outputs": [],
   "source": [
    "for nbr in [0, 1 ,2]:\n",
    "    print(nbr, end=', ')"
   ]
  },
  {
   "cell_type": "markdown",
   "id": "3101f279-3e23-49f8-b73b-809cddacd4d4",
   "metadata": {},
   "source": [
    "**Aufgabe**  \n",
    "- Erstellen einen String. Wandle diesen in Tuple um, dann das Tuple in eine Liste, und die Liste in einen String. Gib alle Zwischenresultate aus.\n",
    "- Die Umwandlung der Liste in einen String ergibt nicht den urspr&uuml;chen String.\n",
    "  Schreibe eine Funktion `letters2str`, so dass f&uuml;r jeden String `s` gilt:  \n",
    "  `s == letters2str(list(s))`."
   ]
  },
  {
   "cell_type": "code",
   "execution_count": null,
   "id": "553cf892-92a3-4e74-8db1-0a6e89f3b8a2",
   "metadata": {},
   "outputs": [],
   "source": [
    "s = 'abcd'\n",
    "chars = tuple(s)\n",
    "chars"
   ]
  }
 ],
 "metadata": {
  "kernelspec": {
   "display_name": "Python 3 (ipykernel)",
   "language": "python",
   "name": "python3"
  },
  "language_info": {
   "codemirror_mode": {
    "name": "ipython",
    "version": 3
   },
   "file_extension": ".py",
   "mimetype": "text/x-python",
   "name": "python",
   "nbconvert_exporter": "python",
   "pygments_lexer": "ipython3",
   "version": "3.13.0"
  }
 },
 "nbformat": 4,
 "nbformat_minor": 5
}
