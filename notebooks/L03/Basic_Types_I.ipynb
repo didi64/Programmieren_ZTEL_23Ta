{
 "cells": [
  {
   "cell_type": "markdown",
   "id": "3f1378b0-c999-46b7-bc81-68df0506f4c6",
   "metadata": {},
   "source": [
    "### Die built-in Typen `int`,  `str`, `bool` und `float` und der Operator `is`\n",
    "\n",
    "Die Typen `int` (ganze Zahlen) `str` (Strings/Text) und `bool` (die Wahrheitswerte `True` und `False`)\n",
    "haben wir bereits angetroffen. Der Typ `float` umfasst Fliesskommazahlen wie $1.0$, $3.1415926535$.  \n",
    "\n",
    "In Python ist der Wert jedes Ausdrucks (jede Zahl, String, usw.) ein sog. **Objekt**.\n",
    "Jedes Objekt hat einen sog. **Typ**. Der Typ bestimmt unter anderem, was Operationen wie $+$ und $*$ tun, wie sich der Vergleichsoperator `==` verh&auml;lt und welche Methoden man auf Objekte dieses Types anwenden kann.\n",
    "\n",
    "\n",
    "Der Begriff Typ hat historische Wurzeln. \n",
    "Seit Python 3.0 sind Typen als **Klassen** implementiert.\n",
    "Statt \n",
    ">`1` hat Typ `int`\n",
    "\n",
    "sagt man auch\n",
    "\n",
    "> `1` ist Instanz der Klasse `int`\n",
    "\n",
    "Mit `type(<Ausdruck>)` erh&auml;lt man den Typ von `<Ausdruck>`.\n",
    "Der Typ eines Objekts ist selber ein Objekt vom Typ `type`.  \n",
    "`isinstance(<Ausdruck>, <type>)` testet, ob <Ausdruck> Instanz der Klasse <type> ist.  \n",
    "\n",
    "\n",
    "**Der Operator `is`**  \n",
    "Der Vergleichsoperator `==` testet, ob 2 Objekte den gleichen Wert haben. \n",
    "Der Operator `is` testet, ob es sich um das selbe Objekt handelt.\n",
    "Es gibt nur ein Objekt `None`, ebenso gibt es jeweils nur ein Exemplar \n",
    "der Objekte vom Typ `type` (`int`, `float`, `str`, $\\ldots$).\n",
    "Ob z.B. `x` den Wert `None` enth&auml;lt oder ob\n",
    "`x` vom Typ `int` ist, testet man deshalb mit de, **is** Operator.  \n",
    "```python\n",
    "x is None\n",
    "x == None # liefert das selbe Resultat, aber schlecher Stiel\n",
    "\n",
    "type(x) is int\n",
    "type(x) == int # liefert das selbe Resultat, aber schlecher Stiel\n",
    "\n",
    "isinstance(x, int) # auch liefert das selbe Resultat\n",
    "```\n",
    "\n",
    "\n",
    "**Objekt eines built-in Typs erzeugen**\n",
    "1. Ein Ausdruck erzeut automatisch ein Objekt mit dem entsprechenden Typ:\n",
    "```python\n",
    "2\n",
    "2 + 2\n",
    "'foo' + 'bar'\n",
    "```   \n",
    "2. Typ auf typ-artiges Objekt anweden: falls m&ouml;glich wird aus dem Argument ein Objekt des entsprechenden Types erzeugt, andernfalls ein ValueError erzeugt.\n",
    "```python\n",
    "int(2)\n",
    "int(2.0)\n",
    "int('2)\n",
    "str(2)\n",
    "```\n",
    "\n",
    "Um zu sehen, welche Methoden z.B. der Typ `str` zur Verf&uuml;gung stellt, tippt man\n",
    "`str.` in eine Code-Zelle, klickt darauf und dr&uuml;cke **shift-tab**.\n",
    "Mit `str.capitalize('foo')` kann man z.B. die String-Methode `capitalize` anwenden.\n",
    "\n",
    "Viele Typen stellen auch Operationen wie $+$ und $*$ bereit.  \n",
    "Tippt man `str.__add` in eine Code-Zelle und  dr&uuml;ckt **shift-tab**, so sieht man,\n",
    "dass der Typ `str` eine Methode `str.__add__` hat.\n",
    "`str.__add__` verh&auml;lt sich wie eine Funktion.\n",
    "`str.__add__('foo', 'bar')` addiert bez. konkateniert die Strings `'foo'` und `'bar'`.\n",
    "`foo` + `bar` ist die Kurzform (Syntaktic Sugar) f&uuml;r `str.__add__('foo', 'bar')`."
   ]
  },
  {
   "cell_type": "code",
   "execution_count": 67,
   "id": "26b0e88a-fda2-4581-945c-8bdf061df9c9",
   "metadata": {},
   "outputs": [],
   "source": [
    "n = 2\n",
    "x = 2.0\n",
    "s = '2.0'"
   ]
  },
  {
   "cell_type": "markdown",
   "id": "3101f279-3e23-49f8-b73b-809cddacd4d4",
   "metadata": {},
   "source": [
    "**Aufgaben**  \n",
    "1. Gib den Typ oben definierter Variabeln aus (z.B. `type(n)` und `print(type(n))`).\n",
    "2. Teste, welcher dieser Werte sich in einen `int`, `float` bez. `str` umwandeln l&auml;sst."
   ]
  },
  {
   "cell_type": "code",
   "execution_count": null,
   "id": "335e1cad-ef99-403b-bec5-e706609fb7ea",
   "metadata": {},
   "outputs": [],
   "source": [
    "type(2.0)"
   ]
  },
  {
   "cell_type": "code",
   "execution_count": null,
   "id": "f1c73676-bb19-415a-bfc2-206024627f63",
   "metadata": {},
   "outputs": [],
   "source": [
    "typ_von_1 = type(1)\n",
    "print(typ_von_1)\n",
    "typ_von_1"
   ]
  }
 ],
 "metadata": {
  "kernelspec": {
   "display_name": "Python 3 (ipykernel)",
   "language": "python",
   "name": "python3"
  },
  "language_info": {
   "codemirror_mode": {
    "name": "ipython",
    "version": 3
   },
   "file_extension": ".py",
   "mimetype": "text/x-python",
   "name": "python",
   "nbconvert_exporter": "python",
   "pygments_lexer": "ipython3",
   "version": "3.13.0"
  }
 },
 "nbformat": 4,
 "nbformat_minor": 5
}
