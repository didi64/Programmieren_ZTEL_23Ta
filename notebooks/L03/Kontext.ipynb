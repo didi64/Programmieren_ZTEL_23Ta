{
 "cells": [
  {
   "cell_type": "markdown",
   "id": "e60f4da3-d5a9-42f7-a4a8-3ab5ab12adec",
   "metadata": {},
   "source": [
    "### Der Kontext eines Programms bez. einer Folge von Anweisungen\n",
    "\n",
    "Sehen wir von Ein- und Ausgabe ab, so  ver&auml;ndert die Ausf&uuml;hrung von Code im Wesentlichen nur das\n",
    "aktuelle Variabelverzeichnis.\n",
    "Das Variabelverzeichnis legt fest, auf welche Werte die Anweisungen zugreifen k&ouml;nnen, insbesondere, welche\n",
    "Funktionen aufgerufen werden k&ouml;nnen.\n",
    "Wann nennt das Variabelverzeichnis auch den **Kontext**, in dem die Anweisungen ausgef&uuml;hrt werden. \n",
    "\n",
    "\n",
    "Im allgemeinen besteht der Kontext aus **zwei** Variabelverzeichnissen, einem **globalen**, welches wir $G$ nennen und ein **lokales**, welches wir $L$ nennen.\n",
    "\n",
    "Die Funktion `exec(code, G, L)` erlaubt es, Python-Code in einem bestimmten Kontext auszuf&uuml;hren.\n",
    "`code` ist dabei ein String mit Python-Code, $G$ das globale Variabelverzeichnis und $L$ das lokale Variabelverzeichnis.\n",
    "- Wird versucht, auf einen Name zuzugreifen, wird zuerst im lokalen Verzeichnis gesucht,\n",
    "  dann im globalen Verzeichnis (und dann in `vars(G[__builtins__])`).\n",
    "- Wird einer Variable ein Wert zugewiesen oder ge&auml;ndert, wird  der Variabelname und zugeh&ouml;rige Wert **immer** ins lokale Verzeichnis augenommen, auch wenn der Variabelname bereits im globalen Verzeichnis ist.\n",
    "  **Es sei denn**, die erste Zeile das Codes deklariere diese Variable als **global**.\n",
    "\n",
    "```python\n",
    "globals x, y, z  # Deklariert die Variablen x, y, z als global.\n",
    "                 # Diese Variabeln werden nun nur im globalen Verzeichnis gesucht und\n",
    "                 # nur im globalen Verzeichnis geaendert\n",
    "...\n",
    "```\n",
    "\n",
    "**Bemerkung**: Die Funktion `exec` sollte nicht in normalen Programmcode verwendet werden.\n",
    "Wir f&uuml;hren hier diese Funktion nur ein, um gewisse Vorg&auml;nge die normalerweise im Hintergrund ablaufen\n",
    "emulieren und erkl&auml;ren zu k&ouml;nnen."
   ]
  },
  {
   "cell_type": "code",
   "execution_count": null,
   "id": "7ab64867-47af-444c-8bda-31aef7fd428f",
   "metadata": {},
   "outputs": [],
   "source": [
    "%reset -f\n",
    "G = {}\n",
    "L = {}\n",
    "exec('', G, L)  # leeres Programm (Programm mit 0 Anweisungen) ausfuehren\n",
    "\n",
    "print(list(G)) # Names in G ausgeben\n",
    "print(list(L)) # Namen in L ausgeben"
   ]
  },
  {
   "cell_type": "code",
   "execution_count": null,
   "id": "8ce84e87-b390-4936-8051-c15bcf4034d9",
   "metadata": {},
   "outputs": [],
   "source": [
    "type(G['__builtins__'])  # Verzeichnis mit den Variabeln des Moduls builtins"
   ]
  },
  {
   "cell_type": "code",
   "execution_count": null,
   "id": "5895f5a7-b3e8-4b06-9bf3-3d253e828572",
   "metadata": {},
   "outputs": [],
   "source": [
    "# G['__builtins__'] ist das Variabelverzeichnis des Moduls builtins\n",
    "# und wurde offenbar automatisch noch ins globale Verzeichnis aufgenommen.\n",
    "\n",
    "import builtins\n",
    "vars(builtins) == G['__builtins__']"
   ]
  },
  {
   "cell_type": "code",
   "execution_count": null,
   "id": "aa4b475e-ab1f-49ad-a1b0-dd1a6611c6d4",
   "metadata": {},
   "outputs": [],
   "source": [
    "%reset -f\n",
    "x = 0  # x ins aktuelle Verzeichnis aufnehmen\n",
    "\n",
    "code = '''\\\n",
    "print('lokales x:', end='; ')\n",
    "x = 42\n",
    "print(x)  # 0 oder 42? Haengt vom Kontext ab!\n",
    "'''\n",
    "\n",
    "G = vars()\n",
    "L = {}\n",
    "exec(code, G, L)\n",
    "\n",
    "print('globales x:', x)  # x im globalen Verzeichnis immer noch 0\n",
    "'x' in L # x wurde ins lokale Verzeichnis aufgenommen"
   ]
  },
  {
   "cell_type": "code",
   "execution_count": null,
   "id": "05913bc3-028f-45fc-8f21-2cf7f6fc7f40",
   "metadata": {},
   "outputs": [],
   "source": [
    "x = 0  \n",
    "G = {}\n",
    "L = {}\n",
    "exec('print(x)', G, L)  # x ist weder in L noch in G. -> NameError"
   ]
  },
  {
   "cell_type": "code",
   "execution_count": null,
   "id": "d16571a0-2458-4ac8-a25e-fe981d6c4290",
   "metadata": {},
   "outputs": [],
   "source": [
    "%reset -f\n",
    "\n",
    "code = '''\\\n",
    "global x\n",
    "print(x, end='; ')\n",
    "x = 42\n",
    "print(x)\n",
    "'''\n",
    "\n",
    "x = 0\n",
    "G = vars()\n",
    "L = {}\n",
    "exec(code, G, L)\n",
    "print(x)  # x wurde im globalen Verzeichnis G/vars() geaendert\n",
    "'x' in L  # x wurde nicht ins lokale Verzeichnis aufgenomen"
   ]
  },
  {
   "cell_type": "code",
   "execution_count": null,
   "id": "592a368c-cfba-4ed1-bd0f-23bc8235015f",
   "metadata": {},
   "outputs": [],
   "source": [
    "%reset -f\n",
    "code = '''\\\n",
    "global x, y\n",
    "print(x)\n",
    "y = 2\n",
    "z = 3\n",
    "'''\n",
    "\n",
    "G = {'x': 2}\n",
    "L = {'x': 0}\n",
    "exec(code, G, L)\n",
    "'y' in L, L['z']"
   ]
  },
  {
   "cell_type": "code",
   "execution_count": null,
   "id": "005bf92c-d0f7-4582-a1e4-2edc6483cc42",
   "metadata": {},
   "outputs": [],
   "source": [
    "%reset -f\n",
    "code = '''\\\n",
    "print('geheime Botschaft')\n",
    "'''\n",
    "\n",
    "G = {'x': 2, '__builtins__': {}}\n",
    "L = {'x': 0}\n",
    "exec(code, G, L)\n",
    "list(G)"
   ]
  },
  {
   "cell_type": "code",
   "execution_count": null,
   "id": "d45e2892-1bde-4a63-b10f-f57830e6c1d6",
   "metadata": {},
   "outputs": [],
   "source": [
    "from sys import stderr\n",
    "\n",
    "def my_print(s):\n",
    "    print(len(s) * '*')\n",
    "\n",
    "def no_print(s):\n",
    "    print('You\\'re not allowed to print!', file=stderr)"
   ]
  },
  {
   "cell_type": "code",
   "execution_count": null,
   "id": "7fba99fa-8e20-44ec-8e9c-c106ed5033c7",
   "metadata": {},
   "outputs": [],
   "source": [
    "G = {'x': 2, '__builtins__': {'print': my_print}}\n",
    "L = {'x': 0}\n",
    "exec(code, G, L)"
   ]
  },
  {
   "cell_type": "code",
   "execution_count": null,
   "id": "fe593ba5-9e1b-432e-b62c-2fca3ec37e2d",
   "metadata": {},
   "outputs": [],
   "source": [
    "G = {'x': 2, '__builtins__': {'print': no_print}}\n",
    "L = {'x': 0}\n",
    "exec(code, G, L)"
   ]
  },
  {
   "cell_type": "code",
   "execution_count": null,
   "id": "56e78711-f6e7-4a1e-a80a-c572081aaa45",
   "metadata": {},
   "outputs": [],
   "source": []
  }
 ],
 "metadata": {
  "author": "dieter.probst@gmail.com",
  "kernelspec": {
   "display_name": "Python 3 (ipykernel)",
   "language": "python",
   "name": "python3"
  },
  "language_info": {
   "codemirror_mode": {
    "name": "ipython",
    "version": 3
   },
   "file_extension": ".py",
   "mimetype": "text/x-python",
   "name": "python",
   "nbconvert_exporter": "python",
   "pygments_lexer": "ipython3",
   "version": "3.13.0"
  }
 },
 "nbformat": 4,
 "nbformat_minor": 5
}
