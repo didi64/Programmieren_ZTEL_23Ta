{
 "cells": [
  {
   "cell_type": "markdown",
   "id": "abd636b6-8208-42d4-9bcf-2854b3009d82",
   "metadata": {},
   "source": [
    "### Reservierte W&ouml;rter, Builtins und Variable Shadowing\n",
    "- **Reservierte W&ouml;rter**:  Schl&uuml;sselw&ouml;rter der Programmiersprache Python, die f&uuml;r den\n",
    "Interpreter eine konkrete Bedeutung haben wie `True`, `None`, `if`, `else`, `for`. Weist man einem reservierten Wort einen Wert zu, wird ein SyntaxError erzeugt.\n",
    "- **Builtins**: `builtins` ist ein Modul, in welchem Funktionen wie print, input, abs, max, sum, usw.\n",
    "  zu finden sind. Normalerweise muss man ein Modul zuerst importieren und kann dann\n",
    "  mit `<Modulname>.<Variabelname>` auf eine in diesem Modul definierte Variable zugreifen:\n",
    "\n",
    "  ```python\n",
    "  import builtins\n",
    "  builtins.print('Hello!')\n",
    "  ```\n",
    "  &nbsp;\n",
    "  \n",
    "  Da die Funktionen aus dem Modul `builtins` eigentlich immer gebraucht werden,\n",
    "  l&auml;dt der Python-Interpreter dieses Modul automatisch und\n",
    "  speichert es in der Variable `__builtins__`. \n",
    "  Und **wenn der Interpreter eine Variable nicht im aktuellen Variabelverzeichnis findet, sucht er automatisch im Verzeichnis des Moduls builtins**.\n",
    "  Erst wenn auch dort die Variable nicht gefunden wird, wird ein NameError erzeut.  \n",
    "  **Bsp.**:\n",
    "  Trifft der Interpreter auf die Anweisung `print('test')`, sucht er nach `print` im aktuellenVariableverzeichnis.\n",
    "  Da er dort nichts findet, wird  `__builtins__.print('test')` aufgerufen.\n",
    "    \n",
    "- **Variable Shadowing**:  Wird `print` ein Wert zugewiesen, wird `print` ins aktuelle Variabelverzeichnis aufgenommen.\n",
    "    Trifft nun der Interpreter auf die Anweisung `print('test')`, findet er `print` im Variableverzeichnis. Es wird also nicht mehr nach `print` im Modul builtins gesucht. Das richtige `print` wird nicht mehr gefunden, da es vom `print` in aktuellen Verzeichnis verdeckt wird.\n",
    "   Man sagt auch, das `print` im aktuellen Verzeichnis liegt nun im Schatten vom `print` im Verzeichnis des Moduls.\n",
    "   \n",
    "- **Gef&auml;rbte W&ouml;rter**:  \n",
    "  Jupyterlab f&auml;rbt W&ouml;rter mit einer speziellen Bedeutung ein.\n",
    "  Grunds&auml;tzlich sollte man gef&auml;rbten W&ouml;rtern keine Werte zuweisen.\n",
    "\n",
    "- **Nachtrag zur Funktion `vars`**:  Wie auch print, ist vars eine Funktion aus dem Module builtins.\n",
    "```python\n",
    "aktuelles_verz = vars()  # liefert das aktuelle Variabelverzeichnis\n",
    "verz_von_builtins = vars(__builtins__)  # liefert das Variabelverzeichnis des Moduls __builtins__\n",
    "```"
   ]
  },
  {
   "cell_type": "code",
   "execution_count": null,
   "id": "1e677d94-12f9-4309-8592-bd8ac1678d1c",
   "metadata": {},
   "outputs": [],
   "source": [
    "#  gibt alle reservierten Woerter aus\n",
    "import keyword\n",
    "for reserved_word in keyword.kwlist:\n",
    "    print(reserved_word, end=', ')"
   ]
  },
  {
   "cell_type": "code",
   "execution_count": null,
   "id": "7c19e58e-4805-488e-b526-da687d307481",
   "metadata": {},
   "outputs": [],
   "source": [
    "if = 2  # SyntaxError"
   ]
  },
  {
   "cell_type": "code",
   "execution_count": null,
   "id": "34892ef4-b352-4649-85cd-1b8cedb1b8c8",
   "metadata": {},
   "outputs": [],
   "source": [
    "'__builtins__' in vars()  # modul builtins als __builtins__ gespeichert"
   ]
  },
  {
   "cell_type": "code",
   "execution_count": null,
   "id": "2c37bdf1-f231-46d0-a9d6-fef28ee7949b",
   "metadata": {},
   "outputs": [],
   "source": [
    "'vars' in vars(__builtins__)  # vars ist aus dem Modul builtins"
   ]
  },
  {
   "cell_type": "code",
   "execution_count": null,
   "id": "7b22eace-8d61-4aa6-96a4-4e1d6c1d93e7",
   "metadata": {},
   "outputs": [],
   "source": [
    "__builtins__.print('Test')  # direkt auf die Funktion print zugreifen"
   ]
  },
  {
   "cell_type": "code",
   "execution_count": null,
   "id": "39ce45e0-2574-459f-8a71-e6d9af1345a7",
   "metadata": {},
   "outputs": [],
   "source": [
    "# gibt die ersten 43 im Module builtin definierten Variabeln aus\n",
    "vbi = [v for v in vars(__builtins__) if not v.startswith('_')]\n",
    "', '.join(vbi[:43])"
   ]
  },
  {
   "cell_type": "markdown",
   "id": "3e5dfcee-5b17-487f-88ce-8c00c007b086",
   "metadata": {},
   "source": [
    "**Aufgabe**:\n",
    "- Weise `print` einen Wert zu und teste, ob nun `print` in `vars()` ist.\n",
    "- Versuche, mit `print` etwas auszugeben. Macht die Fehlermeldung Sinn?\n",
    "- Entferne `print` mit `del print` wieder aus `vars()` und teste, ob sich mit `print` wieder\n",
    "  etwas ausgeben l&auml;sst."
   ]
  }
 ],
 "metadata": {
  "author": "dieter.probst@gmail.com",
  "kernelspec": {
   "display_name": "Python 3 (ipykernel)",
   "language": "python",
   "name": "python3"
  },
  "language_info": {
   "codemirror_mode": {
    "name": "ipython",
    "version": 3
   },
   "file_extension": ".py",
   "mimetype": "text/x-python",
   "name": "python",
   "nbconvert_exporter": "python",
   "pygments_lexer": "ipython3",
   "version": "3.13.0"
  }
 },
 "nbformat": 4,
 "nbformat_minor": 5
}
