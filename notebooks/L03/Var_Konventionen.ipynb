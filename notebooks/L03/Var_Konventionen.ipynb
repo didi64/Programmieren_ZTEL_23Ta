{
 "cells": [
  {
   "cell_type": "markdown",
   "id": "4354e458-0da4-4307-b8e6-0574684a88cc",
   "metadata": {},
   "source": [
    "### Einige Konventionen zur Wahl von Variabelnamen  \n",
    "Siehe auch [PEP8](https://peps.python.org/pep-0008/#naming-conventions) \n",
    "(offizieller Python Styleguide)\n",
    "\n",
    "Das Einhalten von Konventionen erleichtert das Lesen von Code und hilft, **unbeabsichtigtes &Uuml;berschreiben von \n",
    "bereits definierten Variabeln** zu vermeiden.\n",
    "\n",
    "- **nicht** mit **`__`** beginnen!  \n",
    "Variabelnamen, die mit `__` beginnen, sind **f&uuml;r spezielle Zwecke reserviert**\n",
    "- nicht mit '_' beginnen, ausser man will eine Variable als **privat** markieren.\n",
    "  Dies ist nur eine Konvention, der Python-Interpreter unterscheidet nicht zw.\n",
    "  privaten und normalen Variabeln.\n",
    "- (normale) Variabeln: **beschreibend**, klein, snake_case.  \n",
    "  `books, author, is_even, ... `\n",
    "- Laufvariablen: F&uuml;r Integers: `i,j,k,n,...`, f&uuml;r Floats: `x,y,z,...`, f&uuml;r Zeichen: `c` (character)\n",
    "- Konstanten, d.h. Variablen, deren Wert nicht modifiziert wird: GROSS, SNAKE_CASE:  \n",
    "  `PI = 3.1415926535`, `MAX_LEN = 20`, `WINDOW_SIZE = (300, 200)`\n",
    "- Modulnamen: klein, snake_case.  \n",
    "  `turtle, some_module, ...`\n",
    "- Klassen: Gross, CamelCase.  \n",
    "  `Turtle, SyntaxError, MyClass, ...`"
   ]
  },
  {
   "cell_type": "code",
   "execution_count": null,
   "id": "8c704c77-9fd6-4cc6-aa53-a1651c627ffa",
   "metadata": {},
   "outputs": [],
   "source": []
  }
 ],
 "metadata": {
  "kernelspec": {
   "display_name": "Python 3 (ipykernel)",
   "language": "python",
   "name": "python3"
  },
  "language_info": {
   "codemirror_mode": {
    "name": "ipython",
    "version": 3
   },
   "file_extension": ".py",
   "mimetype": "text/x-python",
   "name": "python",
   "nbconvert_exporter": "python",
   "pygments_lexer": "ipython3",
   "version": "3.13.0"
  }
 },
 "nbformat": 4,
 "nbformat_minor": 5
}
