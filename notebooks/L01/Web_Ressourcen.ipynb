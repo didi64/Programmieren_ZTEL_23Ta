{
 "cells": [
  {
   "cell_type": "markdown",
   "id": "d4417a42-03cf-4603-bc17-e1675e6c4b4a",
   "metadata": {},
   "source": [
    "### Python: Einige Web-Ressourcen\n",
    "\n",
    "\n",
    "- [www.w3schools.com/python](https://www.w3schools.com/python/default.asp)  \n",
    "- [www.programiz.com/python-programming](https://www.programiz.com/python-programming)\n",
    "- [pynative.com/python-exercises-with-solutions](https://www.pynative.com/python-exercises-with-solutions)  \n",
    "  Viele &Uuml;bungen mit L&ouml;sungen\n",
    "- [docs.python.org/3/tutorial](https://docs.python.org/3/tutorial)  \n",
    "  Offizielles Tutorial. Deckt alles ab! Sehr zu empfehlen\n",
    "- [docs.python.org/3/](https://docs.python.org/3/)  \n",
    "  Offizielle Dokumentation.\n",
    "  Pr&auml;zise, die ganze Wahrheit (eher zuviel Information)  \n",
    "- [stackoverflow.com](https://stackoverflow.com),\n",
    "  [stackoverflow.com](https://stackexchange.com)  \n",
    "  Wie Programmierer es tats&auml;chlich machen"
   ]
  }
 ],
 "metadata": {
  "author": "dieter.probst@gmail.com",
  "kernelspec": {
   "display_name": "Python 3 (ipykernel)",
   "language": "python",
   "name": "python3"
  },
  "language_info": {
   "codemirror_mode": {
    "name": "ipython",
    "version": 3
   },
   "file_extension": ".py",
   "mimetype": "text/x-python",
   "name": "python",
   "nbconvert_exporter": "python",
   "pygments_lexer": "ipython3",
   "version": "3.13.0"
  }
 },
 "nbformat": 4,
 "nbformat_minor": 5
}
