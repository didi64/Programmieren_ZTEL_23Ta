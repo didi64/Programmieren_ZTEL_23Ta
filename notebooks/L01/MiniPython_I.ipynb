{
 "cells": [
  {
   "cell_type": "markdown",
   "id": "b731a7a3-5baf-42be-9b1b-f4b9a4448ccd",
   "metadata": {},
   "source": [
    "### Mini-Python\n",
    "Was ein Programm tut muss exakt definiert sein.\n",
    "Undefiniertes Verhalten kann zu gef&auml;hrlichen Situationen f&uuml;hren, denken wir z.B. an\n",
    "Software zur Steuerung von Flugzeugen oder medizinischen Ger&auml;ten. \n",
    "Insbesondere muss klar sein, was jede einzelne Anweisung eines Programms bewirkt. \n",
    "Um das zu beschreiben, brauchen wir geeignetes Vokabular.  \n",
    "\n",
    "\n",
    "Im Folgenden beschr&auml;nken wir uns auf einen winzigen Teil von Python."
   ]
  },
  {
   "cell_type": "markdown",
   "id": "83ffa364-5fab-480f-9e8f-7a5fd3addac7",
   "metadata": {},
   "source": [
    "<!-- Falls die letzte nicht-leere Zeile einer Code-Zelle ein **Ausdruck/Expression** ist, \n",
    "wird dieser ausgewertet und das Resultat ausgegeben. \n",
    "Doch was ist &uuml;berhaupt ein Ausdruck?  \n",
    " -->\n",
    "\n",
    "**Ausdruck**:  \n",
    "Anstatt direkt zu definieren was ein Ausdruck ist, beschreiben wir, wie jeder Ausdruck erzeugt werden kann.\n",
    "- Jeder **Variabelname**, jede nicht-negative ganze **Zahl**,\n",
    "  `None`, `True`, `False` und jedes **Stringliteral** (jeder in Anf&uuml;hrungszeichen gesetzter Text wie 'hallo' oder \"hallo\", der das Anf&uuml;hrungszeichen nicht enth&auml;lt), ist ein Ausdruck, ein sog. **Literal**$^{\\dagger}$.\n",
    "- Sind $x$ und $y$ Ausdr&uuml;cke, so auch\n",
    "- `(` $x$ `+` $y$ `)`,  `(` $x$ `*` $y$ `)`, `(` $x$ `==` $y$ `)`  und `(` $x$ `!=` $y$ `)`.\n",
    "\n",
    "\n",
    "Die &auml;ussersten runden Klammern eines Ausdruckes k&ouml;nnen weggelassen werden.  \n",
    "$\\dagger$ Ein  Literal ist eine Zeichenfolge, die die direkten Darstellung eines Wertes ist.   \n",
    "\n",
    "**Beispiele**:  \n",
    "- `1 + 1`\n",
    "- `2 * number`\n",
    "- `(2 + 3) * (3 - 2)`\n",
    "- `x * y`\n",
    "- `'hello, ' + \"world!\"`\n",
    "-  `'-' * 80`\n",
    "- `'foo' * 'bar'`\n",
    "- `2 == 3`\n",
    "- `'foo' != 'bar`\n",
    "- `2 + True`\n",
    "- `10 - False`\n",
    "- `10 * False`\n",
    "- `True + False`\n",
    "- `1 == True`\n",
    "- `0 == False`\n",
    "- `None == False`\n",
    "  \n",
    "**Aufgabe:**  \n",
    "- Kopiere jeden der obigen Beispielausdr&uuml;cke in eine eigene Code-Zelle und f&uuml;hre sie aus.  \n",
    "  Der Wert des Ausdrucks wird ausgegeben.  \n",
    "- Was machen die Operatoren `==` und `!=` ?\n",
    "- Welche Typen lassen sich miteinander addieren bez. multiplizieren.\n",
    "  Was macht $+$ und $*$ in diesen F&auml;llen?\n",
    "\n",
    "\n",
    "\n",
    "Ein **Syntax Error** zeigt an, dass der Ausdruck kein wohlgeformter Ausdruck der Programmiersprache Python ist. In diesem Fall wurde der Ausdruck nicht richtig kopiert. Aber nicht jeder syntaktisch korrekter Ausdruck kann auch ausgewertet werden.\n",
    "Ev. enth&auml;lt er eine nicht definierte Variable (NameError) oder es wird z.B. versucht\n",
    "2 Strings zu multipliziert, eine Operation, die nicht definiert ist (TypeError).\n",
    "***"
   ]
  },
  {
   "cell_type": "code",
   "execution_count": null,
   "id": "2a206cbd-950f-4292-833e-ea2d02ae6c52",
   "metadata": {},
   "outputs": [],
   "source": []
  },
  {
   "cell_type": "code",
   "execution_count": null,
   "id": "556cb880-b8e3-4863-b481-a8cb6474c7b2",
   "metadata": {},
   "outputs": [],
   "source": []
  },
  {
   "cell_type": "markdown",
   "id": "c685f0fc-7138-46a5-993e-c2948b00fa02",
   "metadata": {},
   "source": [
    "### Wert eines Ausdrucks\n",
    "- der Wert einer definierten Variable ist der darin gespeicherte Wert,\n",
    "- der Wert eines Literals (Stringliteral, Zahl, `True`, `False`, `None`) ist dieses Literal.\n",
    "\n",
    "Das Resultat eines Vergleichs ist immer `True` oder `False`:  \n",
    "- 0 == False ist True,\n",
    "- 1 == True ist True,\n",
    "- in allen anderen F&auml;llen: x == y ist True falls x und y den gleichen Wert haben,\n",
    "- x != y ist True falls x = y False ist.\n",
    "\n",
    "Verhalten von $x+y$ und $x*y$ wenn $x$ oder $y$ keine Zahl ist:\n",
    "- mit None kann man werde addieren noch multiplizieren,\n",
    "- True verh&auml;lt sich wie $1$, False wie $0$,\n",
    "- Strings k&ouml;nnen nur mit Strings addiert und nur mit Zahlen multipliziert werden\n",
    "  (Aneinanderreihung bew. Vervielfachung).\n",
    "\n",
    "***"
   ]
  }
 ],
 "metadata": {
  "author": "dieter.probst@gmail.com",
  "kernelspec": {
   "display_name": "Python 3 (ipykernel)",
   "language": "python",
   "name": "python3"
  },
  "language_info": {
   "codemirror_mode": {
    "name": "ipython",
    "version": 3
   },
   "file_extension": ".py",
   "mimetype": "text/x-python",
   "name": "python",
   "nbconvert_exporter": "python",
   "pygments_lexer": "ipython3",
   "version": "3.13.0"
  }
 },
 "nbformat": 4,
 "nbformat_minor": 5
}
