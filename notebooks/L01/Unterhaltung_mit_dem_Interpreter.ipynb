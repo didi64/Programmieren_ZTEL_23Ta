{
 "cells": [
  {
   "cell_type": "markdown",
   "id": "abd636b6-8208-42d4-9bcf-2854b3009d82",
   "metadata": {},
   "source": [
    "### Unterhaltung mit dem Python-Interpreter I\n",
    "\n",
    "Es gibt kompilierte und interpretierte Sprachen.  \n",
    "\n",
    "**[Kompilierte Sprachen](https://en.wikipedia.org/wiki/Compiled_language)**:  \n",
    "Ein Programm ist im wesentlichen eine Folge von Symbolen, sagen wir ein Text, der nach bestimmten Regeln geformt ist.\n",
    "Ein &Uuml;bersetzungsprogramm, der Kompiler, produziert aus diesem Text eine Folge von Nullen und Einsen, \n",
    "ein Binary File, welches Anweisungen enth&auml;lt, die direkt vom Prozessor/Bertiebssystem ausgef&uuml;hrt werden k&ouml;nnen.\n",
    "\n",
    "Beispiele: C, C++.\n",
    "\n",
    "**[Interpretierte Sprachen](https://en.wikipedia.org/wiki/Interpreter_(computing))**:  \n",
    "Hier wird der Programmcode nicht in ein Binary &uuml;bersetzt. \n",
    "Stattdessen f&uuml;hrt der Interpreter (auch ein Programm) Anweisung um Anweisung des Programmcodes aus.  \n",
    "\n",
    "Beipiele: Python, JavaScript.\n",
    "\n",
    "**Kompilierte Programme** sind **schneller** als interpretierter Code. \n",
    "Das kompilierte Programm ist optimiert auf eine bestimmte Prozessorarchitektur und Betriebssystem.\n",
    "**Interpretierte Sprachen** sind daf&uuml;r **plattformunabh&auml;ngig**, da der Interpreter die Anweisungen des Programms selber ausf&uuml;hrt.\n",
    "\n",
    "Die n&auml;chste Zelle erstellt eine Datei `hello_world.py`."
   ]
  },
  {
   "cell_type": "code",
   "execution_count": null,
   "id": "f3a60b36-356b-4c3a-9f8b-6567aeaeed99",
   "metadata": {},
   "outputs": [],
   "source": [
    "%%file hello_word.py \n",
    "print('Hello, World')"
   ]
  },
  {
   "cell_type": "markdown",
   "id": "5fb38171-f35a-4f9c-899a-3bac81c272e0",
   "metadata": {},
   "source": [
    "### Programm mit Hilfe des Interpreters ausf&uuml;hren  \n",
    "Gib **im Jupyterlab Terminal** folgenden Befehl ein.\n",
    ">$ `python hello_word.py`"
   ]
  },
  {
   "cell_type": "markdown",
   "id": "7cc8efee-7970-47b1-8ef0-bb503d4cbdf3",
   "metadata": {},
   "source": [
    "### Pythons Read-Evaluate-Print Loop (REPL)\n",
    "Lassen wir bei obigem Befehl den Filenamen des Pythonprogramms weg, \n",
    "startet das den Python-Interpreter im interaktiven Modus.\n",
    "Er liest und evaluiert die Eingabe und produziert entsprechenden Output. \n",
    "Versteht der Interpreter die Anweisung nicht oder kann er diese nicht ausf&uuml;hren, wird eine Fehlermeldung angezeigt.  \n",
    "Der REPL kann mit **ctr-d**  oder dem Befehl **exit** verlassen werden.\n",
    ">$ `python`\n",
    "```python\n",
    "# Python 3.13.0 (main, Oct  8 2024, 08:51:27) [GCC 9.4.0] on linux\n",
    "# Type \"help\", \"copyright\", \"credits\" or \"license\" for more information.\n",
    ">>> 2 + 3\n",
    "5\n",
    ">>> print('hallo')\n",
    "hallo\n",
    ">>> for buchstabe in 'abc':\n",
    "...     print(buchstabe)\n",
    "...     \n",
    "a\n",
    "b\n",
    "c\n",
    ">>> exit\n",
    "```\n",
    "\n",
    "Jupyterlab erleichter die Unterhaltung mit dem Interpreter.\n",
    "Der Inhalt einer Codezelle wird durch Dr&uuml;cken von **shift-Enter** an den\n",
    "Interpreter weitergereicht. Der Output des Interpreters wird dann in geeigneter Form dargestellt."
   ]
  }
 ],
 "metadata": {
  "author": "dieter.probst@gmail.com",
  "kernelspec": {
   "display_name": "Python 3 (ipykernel)",
   "language": "python",
   "name": "python3"
  },
  "language_info": {
   "codemirror_mode": {
    "name": "ipython",
    "version": 3
   },
   "file_extension": ".py",
   "mimetype": "text/x-python",
   "name": "python",
   "nbconvert_exporter": "python",
   "pygments_lexer": "ipython3",
   "version": "3.13.0"
  }
 },
 "nbformat": 4,
 "nbformat_minor": 5
}
