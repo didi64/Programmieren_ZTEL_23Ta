{
 "cells": [
  {
   "cell_type": "markdown",
   "id": "afd47d38-c664-4680-89cf-df51d7816d6e",
   "metadata": {},
   "source": [
    "### Die wichtigsten Handgriffe im Notebook\n",
    "[Offizielle Dokumentation](https://jupyterlab.readthedocs.io/en/4.2.x/index.html)"
   ]
  },
  {
   "cell_type": "markdown",
   "id": "d2b76a27-b668-4326-b14d-52cde372dc1e",
   "metadata": {
    "tags": []
   },
   "source": [
    "### Allgemeines\n",
    "  - Upload Pfeil: File in den im File-Window rechts ge&ouml;ffneten Ordner uploaden\n",
    "  - Blaues <span style=\"background-color:blue; color:white\">&nbsp;&nbsp;+&nbsp;&nbsp;</span> (Launcher): neues Notebook, Python File, Terminal, ... &ouml;ffnen   \n",
    "  - Dr&uuml;cke **Ctrl-B** um das File-Window zu &ouml;ffnen/schliessen\n",
    "  - Rechtsklick in File-Window: &ouml;ffnet Kontextmenu (neuer Ordner, neues File, ...)  \n",
    "  - Rechtsklick auf File im File-Window: &ouml;ffnet Kontextmenu (Umbenennen, L&ouml;schen, Copy + Paste, ...)  \n",
    "  - Dr&uuml;cke **Ctrl-S** um das Notebook zu speichern (passiert automatisch alle 2')\n",
    "  \n",
    "**Aufgabe**:  \n",
    "- Erstelle eine neuen Ordner `Foo`.\n",
    "- Navigiere in diesen Ordner und erstelle ein neues Notebook `Bar.ipynb`.\n",
    "- L&ouml;sche den Ordner `Foo`.\n",
    "- Erstelle ein neues Notebook `Jupyterlab_Intro_A.ipynb`.  \n",
    "  L&ouml;se die nachfolgenden Aufgaben in diesem Notebook."
   ]
  },
  {
   "cell_type": "markdown",
   "id": "f020e20f-dbee-404f-835a-24b093f0d312",
   "metadata": {},
   "source": [
    "### Die Zellen\n",
    "Ein Notebook besteht aus Zellen. Es gibt 3 Arten von Zellen.\n",
    "Der default Zellentyp ist Code. Der Zellentyp kann im Toolbar dieses Fensters ausgew&auml;hlt werden (klicke auf ⌄ neben dem Wort Markdown).\n",
    "- Code  \n",
    "- Markdown \n",
    "- Raw"
   ]
  },
  {
   "cell_type": "markdown",
   "id": "21101317-25a9-4445-9767-ced3f54ae1a1",
   "metadata": {},
   "source": [
    "### Code Zellen  \n",
    "\n",
    "- Neue Code-Zelle erstellen: Klicke oben in diesem Fenster rechts auf `+`.   \n",
    "\n",
    "- Der Inhalt einer Code-Zellen wird als Python-Code interpretiert,  \n",
    "  **ausser** was nach `#` steht (Kommentar).  \n",
    "  Dr&uuml;cken von **shift-Enter** in der Code-Zelle f&uuml;hrt den Code aus.  \n",
    "\n",
    "\n",
    "**Aufgabe**:\n",
    "- Erstellen eine Code-Zelle mit dem Inhalt\n",
    "```python\n",
    "# gibt Hello, World! aus\n",
    "print('Hello, World!')\n",
    "```  \n",
    "und f&uuml;hre den Code aus.  \n",
    "- Tippe `1 + 1` in eine Code-Zelle und f&uuml;hre den Code aus. "
   ]
  },
  {
   "cell_type": "markdown",
   "id": "4a5abff6-cfad-430e-a688-f206703aea18",
   "metadata": {},
   "source": [
    "### Markdown Zellen\n",
    "- Diese Zelle ist eine Markdown-Zelle.  \n",
    "- Neue Markdown Zelle erstellen: Klicke oben in diesem Fenster rechts auf `+`  \n",
    "  Klicke dann oben links auf  &#8964; und w&auml;hle Markdown.\n",
    "- Der Inhalt einer Markdown-Zellen wird als Markdown-Code interpretiert.  \n",
    "  Dr&uuml;cken von **shift-Enter** in der Markdown-Zelle produziert Markdown-Text.\n",
    "- Doppelklick in einer Markdown Zelle zeigt den Markdown-Code.\n",
    "\n",
    "\n",
    "**Aufgabe**:  \n",
    "- Doppelklicke in diese Zelle. Wirf einen Blick auf den Code und f&uuml;hre ihn dann aus.\n",
    "- Klicke auf `Help -> Markdown Reference` und absolviere das 10' Markdown Tutorial.  \n",
    "- Erstelle eine Markdown Zelle mit einer &Uuml;berschrift und einer Liste."
   ]
  },
  {
   "cell_type": "markdown",
   "id": "db68550a-60cd-468f-bce8-e48df2b16be5",
   "metadata": {},
   "source": [
    "### Codebl&ouml;cke einr&uuml;cken und auskommentieren, Zeilennummen anzeigen\n",
    "- **Ctrl-/**: Selektierter Codeblock wird kommentiert/auskommentiert.\n",
    "- **tab/shift-tab**:  Selektierter Codeblock wird einger&uuml;ckt/zur&uuml;ckger&uuml;ckt\n",
    "- Klicke neben einen Zelle. Dr&uuml;cke **shift-L** um Zeilennummern anzuzeigen/auszuschalten.\n",
    "- **Fat-Cursor**: dr&uuml;cke **Alt** und ziehe den Cursor nach unten.  \n",
    "  Der Cursor wird lang. Es lassen sich nun mehrere Zeilen simultan schreiben.  \n",
    "  \n",
    "**Aufgabe**:  \n",
    "Selectiere den Code in nachstehendem Codeblock und benutze *Ctrl-/*, *shift-tab* und *Fat-Cursor*\n",
    "um das Kommentarsymbol `#` zu  entfernen, den Codeblock ganz nach links zu schieben und die\n",
    "Klammern zu schliessen. \n",
    "F&uuml;hre dann den Code aus."
   ]
  },
  {
   "cell_type": "code",
   "execution_count": null,
   "id": "b0cc440b-02c2-4822-bdec-a7e37cf1338c",
   "metadata": {},
   "outputs": [],
   "source": [
    "    # print('foo'\n",
    "    # print('bar'\n",
    "    # print('bza'"
   ]
  },
  {
   "cell_type": "markdown",
   "id": "d0966146-6d83-4ada-a9f1-f394768beb6a",
   "metadata": {},
   "source": [
    "### Kernel unterbrechen und neu starten, allen Output l&ouml;schen\n",
    "- Wird in einer Zelle Code ausgef&uuml;hrt kann nicht gleichzeitig in einer anderen Zelle\n",
    "  Code ausgef&uuml;hrt werden.  \n",
    "- Die Ausf&uuml;hrung von Code stoppen:  \n",
    "  Klicke oben im diesem Fenster auf `Interrupt Kernel` (&#9209;).    \n",
    "  Falls das nicht hilft, klicke auf `Restart Kernel` (&#10227;).  \n",
    "- Verh&auml;lt sich das Notebook merkw&uuml;dig, versuche `Restart Kernel` (&#10227;) oder  \n",
    "  klicke `Kernel ->  Restart Kernel and Clear All Outputs...`\n",
    "- Rechtsklick in eine Zelle &ouml;ffnet ein Kontextmenu, welches erlaubt,\n",
    "  allen Output zu l&ouml;schen (Clear Outputs of all Cells) oder\n",
    "  nur den Output der Zelle zu  l&ouml;schen (Clear Cell Outputs).\n",
    "  \n",
    "**Aufgabe:**\n",
    "F&uuml;hre folgenden Code in einer Code Zelle aus (Endlosschleife).  \n",
    "```python\n",
    "while True:\n",
    "    pass\n",
    "```\n",
    "\n",
    "Das `[*]` zeigt an, dass Code ausgef&uuml;hrt wird.  \n",
    "Das Ausf&uuml;hren von weiterem Code ist **blockiert**.  \n",
    "Tippe `1 + 1` in eine Code Zelle um das zu testen.  \n",
    "**Unterbrich** dann die Ausf&uuml;hrung.  \n",
    "\n",
    "Rechtsklicke dann auf die rote Fehlermeldung und w&auml;hle `Clear Outputs` um diese zu l&ouml;schen."
   ]
  },
  {
   "cell_type": "code",
   "execution_count": null,
   "id": "32086f60-eb32-42fe-8ff9-689113aafb0d",
   "metadata": {},
   "outputs": [],
   "source": [
    "while True:\n",
    "    pass"
   ]
  },
  {
   "cell_type": "markdown",
   "id": "ed3be8f3-2ac5-4a24-8f93-9a842182f45b",
   "metadata": {},
   "source": [
    "### Zellen verschieben und l&ouml;schen\n",
    "- Dr&uuml;cke **x** neben einer Zelle, um sie zu l&ouml;schen.\n",
    "- Dr&uuml;cke **z** neben der Zelle, um das r&uuml;ckg&auml;ngig zu machen   \n",
    "  (**Ctrl-z** macht &Auml;nderungen **in der Zelle**  r&uuml;ckg&auml;ngig).\n",
    "- Klicke in eine Zelle, dann `Edit -> Move Cells Up` um die Zelle nach oben zu schieben."
   ]
  },
  {
   "cell_type": "markdown",
   "id": "25b9a5cc-a687-4450-b850-ecaa0ccd7f21",
   "metadata": {},
   "source": [
    "### Cell Magic und Zeilen Magic (siehe auch <a href='https://ipython.readthedocs.io/en/stable/interactive/magics.html'>Jupyterlab Dokumentation</a>)\n",
    "- Cell-Magic: Befehle der Form `%%Befehl` in der ersten Zeile der Zelle.  \n",
    "  Cell-Magic macht etwas mit dem Zelleninhalt. Z.B.  \n",
    "  `%%file hello.py` schreibt den Inhalt der Zelle in das File `hello.py`.\n",
    "- Line-Magic: Befehle der Form `%Befehl`.  \n",
    "  Line-Magic macht etwas mit der Zeile.  Z.B.  \n",
    "  `%load hello.py` kopiert den Inhalt des Files `hello.py` in die Zelle."
   ]
  },
  {
   "cell_type": "code",
   "execution_count": null,
   "id": "c135a614-1f65-4469-ac9e-1e47347c3b36",
   "metadata": {},
   "outputs": [],
   "source": [
    "%%file hello.py \n",
    "# Pythoncode, der den Text 'hello' ausgibt\n",
    "print('hello')"
   ]
  },
  {
   "cell_type": "code",
   "execution_count": null,
   "id": "1df6b143-97ae-433a-ae53-9bd8d1a0b82f",
   "metadata": {},
   "outputs": [],
   "source": [
    "%load hello.py"
   ]
  },
  {
   "cell_type": "markdown",
   "id": "d662ca5c-ed9d-4846-a322-de6ec3028f85",
   "metadata": {},
   "source": [
    "### Shell Commands mit ```!command``` ausf&uuml;hren  \n",
    "- `!command` hat bei nicht-interaktiven Befehlen den gleichen Effekt, wie wenn dieser Befehl in einem Jupyterlab Terminal ausgef&uuml;hrt wird.   \n",
    "- **Achtung**: Funktioniert nicht, falls der Befehl auf Userinput wartet."
   ]
  },
  {
   "cell_type": "code",
   "execution_count": null,
   "id": "0099b8ce-3b91-463e-99c0-a39190dd9bf5",
   "metadata": {},
   "outputs": [],
   "source": [
    "!cat hello.py # bash shell Befehl: gibt Inhalt von hello.py aus"
   ]
  },
  {
   "cell_type": "code",
   "execution_count": null,
   "id": "91f1fdcc-673e-4d28-9f0e-23981a033f0f",
   "metadata": {},
   "outputs": [],
   "source": [
    "!rm -i hello.py # bleibt haengen (wartet auf Userinput) Interrupt Kernel!"
   ]
  },
  {
   "cell_type": "code",
   "execution_count": null,
   "id": "825430f8-cb2b-4ff2-91b7-336c63a65273",
   "metadata": {},
   "outputs": [],
   "source": [
    "!rm -f hello.py # file hello.py loeschen"
   ]
  }
 ],
 "metadata": {
  "author": "dieter.probst@gmail.com",
  "kernelspec": {
   "display_name": "Python 3 (ipykernel)",
   "language": "python",
   "name": "python3"
  },
  "language_info": {
   "codemirror_mode": {
    "name": "ipython",
    "version": 3
   },
   "file_extension": ".py",
   "mimetype": "text/x-python",
   "name": "python",
   "nbconvert_exporter": "python",
   "pygments_lexer": "ipython3",
   "version": "3.13.0"
  }
 },
 "nbformat": 4,
 "nbformat_minor": 5
}
