{
 "cells": [
  {
   "cell_type": "markdown",
   "id": "ed7a43b2-4470-4c3f-b05a-b1c340278038",
   "metadata": {},
   "source": [
    "### Syntax von Mini-Python\n",
    "Nachstehend beschreiben wir, wie ein syntaxtisch korrektes Mini-Python Programm aussieht.\n",
    "Dies garantiert nicht, dass das Programm tats&auml;chlich l&auml;uft oder gar etwas sinnvolles tut.\n",
    "Wie beim Ausdruck beschreiben wir, wie jedes Programm erzeugt werden kann.  \n",
    "Ein Programm ist eine Liste von Anweisungen (Zuweisung, Print-Anweisung oder For-Schleife).\n",
    "\n",
    "**Programm**  \n",
    "Jede Anweisung/Statement ist ein Programm.  \n",
    "Ist $a$ eine Anweisung und $P$ ein Programm, so ist auch  \n",
    "`a`  \n",
    "`P`  \n",
    "ein Programm\n",
    "\n",
    "**Anweisung**   \n",
    "Jede Zuweisung, Print-Anweisung und For-Schleife ist eine Anweisung.\n",
    "\n",
    "**Zuweisung/Assignment**  \n",
    "Ist $v$ ein Variabenamen und $x$ ein Ausdruck, so ist \n",
    "$v$ `=` $x$ eine Zuweisung.\n",
    "\n",
    "**Print-Anweisung**  \n",
    "Sind $x_1,\\ldots,x_n$ Ausdr&uuml;cke, so ist  \n",
    "`print(` $x_1$ `,` $\\ldots$ `,` $x_n$ `)` eine Print-Anweisung.\n",
    "\n",
    "**For-Schleife**  \n",
    "Ist $i$ ein Variabelname, $x$ ein Ausdruck und $P$ ein Programm, so ist  \n",
    "`for` $i$ `in` $x$ `:`  \n",
    "`    ` $P$   \n",
    "eine For-Schleife. Wir nennen $i$ die Laufvariable und $P$ den Body der For-Schleife.  \n",
    "Beachte: $P$ ist einger&uuml;ckt!\n",
    "\n",
    "\n",
    "Was ein Mini-Python Programm ist kann wie folgt in (Backus-Nauer Form) zusammengefasst werden.  \n",
    "\n",
    "\n",
    "Programm ::= Anweisung | Anweisung Programm  \n",
    "Anweisung ::= Zuweisung | Print-Anweisung | For-Schleife  \n",
    "Zuweisung ::= Variabelnamen = Ausdruck \n",
    "Ausdruck ::= Literal | Variabelname | Ausdruck Operator Ausdruck  \n",
    "Literal ::= None | True | False | nicht-negative Zahl | Stringliteral  \n",
    "Stringliteral ::= `\"`Text`\"` | `'`Text`'`  \n",
    "Operator ::= `+` | `-` | `==` | `!=`  \n",
    "\n",
    "**Aufgabe**:  \n",
    "Versuche folgende Programme auszuf&uuml;hren. \n",
    "Formuliere ein Hypothese, was die For-Schleife tut.  \n",
    "**Bemerkung**: Text nach dem `#` Zeichen wird vom Python-Interpreter ignoriert (Kommentar).\n",
    "\n",
    "```python\n",
    "# Programm 1\n",
    "for c in 'abc':\n",
    "    print(c)\n",
    "\n",
    "# Programm 2\n",
    "for i in 3:\n",
    "    print(i)\n",
    "```\n",
    "***"
   ]
  },
  {
   "cell_type": "code",
   "execution_count": null,
   "id": "9e888451-1314-4dba-a6ff-1f8d81071a85",
   "metadata": {},
   "outputs": [],
   "source": []
  },
  {
   "cell_type": "markdown",
   "id": "ebcf8f14-1237-4232-b744-7c5755ec5dcf",
   "metadata": {},
   "source": [
    "### Semantik von Mini-Python\n",
    "Die Semantik beschreibt was ein Programm, bez. eine Folge von Anweisungen tut.\n",
    "Falls wir  Ausgaben ignorieren, &auml;ndert ein Programm ausschliesslich Variabeln. Unsere Programmsemantik beschreibt also, wie ein Programm die Werte der Variabeln &auml;ndert.\n",
    "\n",
    "Wir stellen uns vor, dass die Werte aller definierten Variabeln in einem Variabelverzeichnis\n",
    "$V$ gespeichert sind. Was ein Programm $P$ tut kann dann mit  eine Funktion $[P]$ beschrieben werden, die\n",
    "jedem Variabelverzeichnis $V_0$ ein Variabelverzeichnis $V_1$ oder den Wert **Error** zuordnet.  \n",
    "Dabei gibt $V_0$ die Variabelbelegung vor dem Programmstart an,\n",
    "und $[P](V_0)$ ist *Error* falls die Ausf&uuml;hrung des Programms einen Fehler verursacht,\n",
    "anderfalls das Verzeichnis wie es nach Programmende aussieht.\n",
    "\n",
    "\n",
    "**Zuweisung** $v$ = $a$:  \n",
    "Ist der Ausdruck $a$ undefiniert, wird ein Fehler erzeugt,\n",
    "andernfalls wird im Variabelverzeichnis dem Variabelnamen $v$ der Wert von $a$ zugeordnet.\n",
    "\n",
    "\n",
    "**For-Schleife**: \n",
    "\n",
    "```python\n",
    "for i in a:\n",
    "    P\n",
    "```\n",
    "\n",
    "Ist der Wert der Ausdrucks $a$ kein String, so wird ein Error \n",
    "erzeugt. Ist der Wert der Ausdrucks $a$ \n",
    "ein String '$c1\\ldots cn$' bestehend aus den Zeichen\n",
    "$c1,\\ldots,cn$, dann ist die For-Schleife equivalent zum Programm\n",
    "\n",
    "\n",
    "```pyton\n",
    "i = 'c1'\n",
    "P\n",
    "⋮\n",
    "i = 'cn'\n",
    "P\n",
    "```"
   ]
  },
  {
   "cell_type": "code",
   "execution_count": null,
   "id": "76088141-391e-4858-ba36-2dc90902c5e0",
   "metadata": {},
   "outputs": [],
   "source": []
  },
  {
   "cell_type": "code",
   "execution_count": null,
   "id": "56900acc-e164-4b3e-a875-ff12db3244ce",
   "metadata": {},
   "outputs": [],
   "source": []
  },
  {
   "cell_type": "markdown",
   "id": "532b843f-0353-4784-b637-b34224a7400a",
   "metadata": {},
   "source": [
    "### Aufgabe\n",
    "Nachstehend stehen einige Mini-Python Programme. \n",
    "Die ersten paar Zeilen initialisieren jeweils das Variabelverzeichnis, dann\n",
    "folgt das eigentliche Programm.  \n",
    "\n",
    "F&uuml;r welche Werte erzeugen die Programme keinen Fehler? \n",
    "Was machen die Programme? Wie &auml;ndert das Variableverzeichnis?  \n",
    "Experimentiere und finde es heraus!  \n",
    "\n",
    "**Beachte**: Eine For-Schleife **muss** eine Laufvariable haben.  \n",
    "Es ist Konvention, f&uuml;r Laufvariablen die im Schleifenbody nicht gebraucht\n",
    "werden, den Namen `_` zu  w&auml;hlen."
   ]
  },
  {
   "cell_type": "code",
   "execution_count": null,
   "id": "fb00b631-2374-4243-85d2-cc83e476304d",
   "metadata": {},
   "outputs": [],
   "source": [
    "# importiert die Funktion myvars(G). Filtert Verzeichnis vars()\n",
    "from variables import myvars\n",
    "myvars(vars())"
   ]
  },
  {
   "cell_type": "code",
   "execution_count": null,
   "id": "74aeb8e1-1892-41d4-b019-dd8549ef8aee",
   "metadata": {},
   "outputs": [],
   "source": [
    "# print('test') 3 Mal ausfuehren\n",
    "for _ in ' ' * 3:\n",
    "    print('test')"
   ]
  },
  {
   "cell_type": "code",
   "execution_count": null,
   "id": "e13580b6-b314-4d18-ace4-73a1f592f616",
   "metadata": {},
   "outputs": [],
   "source": [
    "n = 2\n",
    "\n",
    "\n",
    "# print('test') n Mal ausfuehren\n",
    "for _ in ' ' * n:\n",
    "    print('test')"
   ]
  },
  {
   "cell_type": "code",
   "execution_count": null,
   "id": "071f30c4-7999-4152-a797-7b0bdde74b31",
   "metadata": {},
   "outputs": [],
   "source": [
    "wort = 'hallo'\n",
    "\n",
    "# Buchstaben von wort mit Position ausgeben\n",
    "i = 0\n",
    "for c in wort:\n",
    "    i = i + 1\n",
    "    print(i, c)"
   ]
  },
  {
   "cell_type": "code",
   "execution_count": null,
   "id": "0818144a-d5a9-4187-b1a9-de16d34d104f",
   "metadata": {},
   "outputs": [],
   "source": [
    "char = 'o'\n",
    "word = 'foobar'\n",
    "\n",
    "# kommt oft kommt Character char  im Wort word vor?\n",
    "n = 0\n",
    "for i in word:\n",
    "    n = n + (i == char)\n",
    "n"
   ]
  },
  {
   "cell_type": "code",
   "execution_count": null,
   "id": "bdf8090f-4c79-4957-9d52-0d2f9495a720",
   "metadata": {},
   "outputs": [],
   "source": [
    "char = 'x'\n",
    "word = 'foobar'\n",
    "\n",
    "# kommt Character char  im Wort word vor?\n",
    "n = 0\n",
    "for i in word:\n",
    "    n = n + (i == char)\n",
    "n != 0"
   ]
  },
  {
   "cell_type": "code",
   "execution_count": null,
   "id": "6c2b8a75-411a-4b04-b30c-4be2d8a46e77",
   "metadata": {},
   "outputs": [],
   "source": [
    "word = 'foobar'\n",
    "\n",
    "# Wort word spiegeln\n",
    "drow = ''\n",
    "for c in word:\n",
    "    drow = c + drow\n",
    "word + '|' + drow"
   ]
  },
  {
   "cell_type": "code",
   "execution_count": null,
   "id": "1fca4e63-3ee8-4cf3-bc2b-fcde655f5a03",
   "metadata": {},
   "outputs": [],
   "source": [
    "n = 7\n",
    "\n",
    "# 1 + 2 + ... + n berechnen\n",
    "result = 0\n",
    "i = 1\n",
    "for _ in ' ' * n:\n",
    "    result = result + i\n",
    "    i = i + 1\n",
    "result"
   ]
  },
  {
   "cell_type": "code",
   "execution_count": null,
   "id": "5af6c035-06b3-406b-955f-893c16386f54",
   "metadata": {},
   "outputs": [],
   "source": [
    "n = 4\n",
    "\n",
    "# 1 * 2 * 3 * ... * n berechnen (Fakultaet)\n",
    "result = 1\n",
    "i = 1\n",
    "for _ in ' ' * n:\n",
    "    result = result * i\n",
    "    i = i + 1\n",
    "result"
   ]
  },
  {
   "cell_type": "code",
   "execution_count": null,
   "id": "589a33b7-0fcb-4835-bd05-427fba6404df",
   "metadata": {},
   "outputs": [],
   "source": [
    "n = 10\n",
    "\n",
    "# die ersten n Fibonnacci-Zahlen ausgeben\n",
    "# 1, 1, 2, 3, 5, 8, 13, 21, ... jede Zahl (ab der 3.) is Summe ihrer beiden Vorgaenger\n",
    "x = 1\n",
    "y = 1\n",
    "for _ in ' ' * n:\n",
    "    print(x)\n",
    "    z = x + y\n",
    "    x = y\n",
    "    y = z"
   ]
  },
  {
   "cell_type": "code",
   "execution_count": null,
   "id": "cf3c3e0c-d906-4ef7-9560-8d8fde71f742",
   "metadata": {},
   "outputs": [],
   "source": [
    "x = 5\n",
    "y = 4\n",
    "\n",
    "#  Fallunterscheidung\n",
    "x_equals_y = x == y\n",
    "for _ in ' ' * x_equals_y:\n",
    "    print(x, 'ist gleich', y)\n",
    "x_not_equals_y = x != y\n",
    "for _ in ' ' * x_not_equals_y:\n",
    "    print(x, 'ist ungleich', y)"
   ]
  }
 ],
 "metadata": {
  "author": "dieter.probst@gmail.com",
  "kernelspec": {
   "display_name": "Python 3 (ipykernel)",
   "language": "python",
   "name": "python3"
  },
  "language_info": {
   "codemirror_mode": {
    "name": "ipython",
    "version": 3
   },
   "file_extension": ".py",
   "mimetype": "text/x-python",
   "name": "python",
   "nbconvert_exporter": "python",
   "pygments_lexer": "ipython3",
   "version": "3.13.0"
  }
 },
 "nbformat": 4,
 "nbformat_minor": 5
}
