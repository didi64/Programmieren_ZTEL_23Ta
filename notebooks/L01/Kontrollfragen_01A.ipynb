{
 "cells": [
  {
   "cell_type": "markdown",
   "id": "73418a04-1a49-443d-baa3-f95eb188ac03",
   "metadata": {},
   "source": [
    "### Kontrollfragen zur Lektion 1 mit Antworten\n",
    "1. Was ist speziell an der Syntax der Programmiersprache Python?  \n",
    "   Einr&uuml;cken ist Teil der Syntax der Sprache.\n",
    "   Der Code wird mit Einr&uuml;cken strukturiert, anstelle geschweifter Klammern.\n",
    "1. Was sind Line- und Cell-Magic Befehle? Demonstriere jeweils an einen kurzen Beispiel was `%%file`, `%load` und `%reset` tun.  \n",
    "   Line- und Cell-Magic Befehle sind Anweisungen f&uuml;r Jupyterlab.\n",
    "   Diese Befehle m&uuml;ssen in der ersten Zeile einer Code-Zelle stehen.\n",
    "   Line-Magic Befehle haben die Form `%Befehl` und machen etwas mit der Zeile,\n",
    "   Cell-Magic Befehle haben die Form `%%Befehl` und machen etwas mit der Zelle.  \n",
    "   `%%file filename` schreibt den Zelleninhalt in ein File, `%load filename` l&auml;dt das File in die Zelle\n",
    "   und `%reset -f` l&ouml;scht das Varibelverzeichnis.\n",
    "1. Auf welche Typkombinationen lassen sich die Operationen `+` und `*` anwenden?  \n",
    "   Was ist jeweils das Resultat der Operation?\n",
    "   - Zahlen lassen sich mit Zahlen und Booleans multiplizieren und addieren,\n",
    "     True verh&auml;lt sich dabei wie 1, False wie 0.\n",
    "   - String lassen sich mit Strings addieren (aneinanderh&auml;ngen).\n",
    "   - Strings lassen sich mit ganzen Zahlen multiplizieren (vervielfachen).\n",
    "1. Welches sind g&uuml;tige Variabelnamen?\n",
    "   `_1_`, `print` und `___`\n",
    "1. Was sind Ausdr&uuml;cke von Mini-Python?  \n",
    "   Ausdr&uuml;cke sind Literale (Zahlen, Booleans, Strings, None) und\n",
    "   daraus mit $+$ und $*$ geformte sinnvolle Kombinationen.\n",
    "1. Welche 3 Anweisungen haben wir kennengelernt?  \n",
    "   Zuweisungen, For-Loops, print-Anweisungen.\n",
    "1. Erl&auml;utere das Verhalten nachstehenden Codes.  \n",
    "   Welcher Wert haben die Variabeln `c` und `word` nach der Ausf&uuml;hrung?\n",
    "   \n",
    "   ```python\n",
    "    word = '123'\n",
    "    for c in word:\n",
    "        word = '456'\n",
    "        print(c)\n",
    "   \n",
    "   ```\n",
    "   <br>\n",
    "   \n",
    "1. Schreibe Mini-Python Code, der die L&auml;nge eines Wortes bestimmt.\n",
    "   ```python\n",
    "   word = 'foo'\n",
    "   length = 0\n",
    "   for ...\n",
    "   ...\n",
    "   length \n",
    "   ```\n",
    "   <br>\n",
    "1. Schreibe Mini-Python Code, der ein Wort umdreht.\n",
    "1. Schreibe Mini-Python Code, der testet, ob ein Wort ein Palindrom ist."
   ]
  },
  {
   "cell_type": "code",
   "execution_count": null,
   "id": "29939e40-5c31-46d0-b2eb-db39ebf85473",
   "metadata": {},
   "outputs": [],
   "source": [
    "%%file meine_notiz.txt\n",
    "Line- und Cell-Magic Befehle sind Anweisungen für Jupyterlab."
   ]
  },
  {
   "cell_type": "code",
   "execution_count": null,
   "id": "0768ba54-704d-42ae-a948-51e0c6a3673c",
   "metadata": {},
   "outputs": [],
   "source": [
    "%load meine_notiz.txt"
   ]
  },
  {
   "cell_type": "code",
   "execution_count": null,
   "id": "cfe56942-767f-4b96-8ea6-2e82c625a3f9",
   "metadata": {},
   "outputs": [],
   "source": [
    "x = 42\n",
    "'x' in vars()"
   ]
  },
  {
   "cell_type": "code",
   "execution_count": null,
   "id": "0bc12836-4e1b-4744-ad04-f1918a82a3bd",
   "metadata": {},
   "outputs": [],
   "source": [
    "%reset -f"
   ]
  },
  {
   "cell_type": "code",
   "execution_count": null,
   "id": "873c2ce0-25d9-422b-9528-b6aed5b7376d",
   "metadata": {},
   "outputs": [],
   "source": [
    "'x' in vars()"
   ]
  },
  {
   "cell_type": "code",
   "execution_count": null,
   "id": "4878a3c0-9bb7-42fe-b65d-32fdd167ec41",
   "metadata": {},
   "outputs": [],
   "source": []
  },
  {
   "cell_type": "code",
   "execution_count": null,
   "id": "5f25d66e-86bf-4bf3-b404-b9aedb3b8579",
   "metadata": {},
   "outputs": [],
   "source": [
    "#  7) Das Programm ist aequivalent zu folgedem Code:\n",
    "# die Werte von c und word sind '3' und '456'\n",
    "word = '123'\n",
    "c = '1'\n",
    "word = '456'\n",
    "print(c)\n",
    "\n",
    "c = '2'\n",
    "word = '456'\n",
    "print(c)\n",
    "\n",
    "c = '3'\n",
    "word = '456'\n",
    "print(c)"
   ]
  },
  {
   "cell_type": "code",
   "execution_count": null,
   "id": "6b60c54a-3be9-44e3-baba-ebaae18a2a94",
   "metadata": {},
   "outputs": [],
   "source": [
    "print(c, word)\n",
    "type(c)"
   ]
  },
  {
   "cell_type": "code",
   "execution_count": null,
   "id": "62c4eb09-e3d0-4b81-98c5-8cd575fc241b",
   "metadata": {},
   "outputs": [],
   "source": [
    "# 8\n",
    "word = 'test'\n",
    "length = 0\n",
    "for _ in word:\n",
    "    length = length + 1\n",
    "length"
   ]
  },
  {
   "cell_type": "code",
   "execution_count": null,
   "id": "13073492-42ff-4a8c-bf6a-acf091ac28e9",
   "metadata": {},
   "outputs": [],
   "source": [
    "# 9\n",
    "word = 'test'\n",
    "drow = ''\n",
    "for c in word:\n",
    "    drow = c + drow\n",
    "drow"
   ]
  },
  {
   "cell_type": "code",
   "execution_count": null,
   "id": "534dc3e9-f60c-44cf-ba9f-2d6cda5b760b",
   "metadata": {},
   "outputs": [],
   "source": [
    "# 10\n",
    "word = 'ROTOR'\n",
    "# word = 'test'\n",
    "drow = ''\n",
    "for c in word:\n",
    "    drow = c + drow\n",
    "word == drow"
   ]
  }
 ],
 "metadata": {
  "author": "dieter.probst@gmail.com",
  "kernelspec": {
   "display_name": "Python 3 (ipykernel)",
   "language": "python",
   "name": "python3"
  },
  "language_info": {
   "codemirror_mode": {
    "name": "ipython",
    "version": 3
   },
   "file_extension": ".py",
   "mimetype": "text/x-python",
   "name": "python",
   "nbconvert_exporter": "python",
   "pygments_lexer": "ipython3",
   "version": "3.13.0"
  }
 },
 "nbformat": 4,
 "nbformat_minor": 5
}
