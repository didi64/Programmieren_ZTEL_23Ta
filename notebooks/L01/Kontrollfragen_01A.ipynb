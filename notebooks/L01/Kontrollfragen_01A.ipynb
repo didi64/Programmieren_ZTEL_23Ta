{
    "cells": [
        {
            "cell_type": "markdown",
            "id": "73418a04-1a49-443d-baa3-f95eb188ac03",
            "metadata": {},
            "source": [
                "### Kontrollfragen zur Lektion 1\n",
                "1. Welche (Werte)-Typen haben wir kennengelernt?\n",
                "2. Auf welche Typkombinationen lassen sich die Operationen `+` und `*` anwenden?  \n",
                "   Was ist jeweils das Resultat der Operation?\n",
                "1. Was sind Ausdr&uuml;cke?\n",
                "2. Wie werden Ausdr&uuml;cke ausgewertet?\n",
                "3. Was sind Anweisungen?\n",
                "4. Welche 3 Anweisungen haben wir kennengelernt.\n",
                "5. Erl&auml;utere das Verhalten nachstehenden Codes.  \n",
                "   Welcher Wert haben die Variabeln `c` und `word` nach der Ausf&uuml;hrung?\n",
                "   \n",
                "   ```python\n",
                "    word = '123'\n",
                "    for c in word:\n",
                "        word = '456'\n",
                "        print(c)\n",
                "   \n",
                "   ```\n",
                "   <br>\n",
                "   \n",
                "6. Schreibe Micro-Python Code, der die L&auml;nge eines Wortes bestimmt.\n",
                "   ```python\n",
                "   word = 'foo'\n",
                "   length = 0\n",
                "   for ...\n",
                "   ...\n",
                "   length \n",
                "   ```\n",
                "   <br>\n",
                "7. Schreibe Micro-Python Code, der ein Wort umdreht.\n",
                "8. Schreibe Micro-Python Code, der testet, ob ein Wort ein Palindrom ist."
            ]
        },
        {
            "cell_type": "code",
            "execution_count": 13,
            "id": "62c4eb09-e3d0-4b81-98c5-8cd575fc241b",
            "metadata": {},
            "outputs": [
                {
                    "data": {
                        "text/plain": [
                            "4"
                        ]
                    },
                    "execution_count": 13,
                    "metadata": {},
                    "output_type": "execute_result"
                }
            ],
            "source": [
                "word = 'test'\n",
                "length = 0\n",
                "for _ in word:\n",
                "    length = length + 1\n",
                "length"
            ]
        },
        {
            "cell_type": "code",
            "execution_count": 14,
            "id": "13073492-42ff-4a8c-bf6a-acf091ac28e9",
            "metadata": {},
            "outputs": [
                {
                    "data": {
                        "text/plain": [
                            "'tset'"
                        ]
                    },
                    "execution_count": 14,
                    "metadata": {},
                    "output_type": "execute_result"
                }
            ],
            "source": [
                "word = 'test'\n",
                "drow = ''\n",
                "for c in word:\n",
                "    drow = c + drow\n",
                "drow"
            ]
        },
        {
            "cell_type": "code",
            "execution_count": 17,
            "id": "534dc3e9-f60c-44cf-ba9f-2d6cda5b760b",
            "metadata": {},
            "outputs": [
                {
                    "data": {
                        "text/plain": [
                            "True"
                        ]
                    },
                    "execution_count": 17,
                    "metadata": {},
                    "output_type": "execute_result"
                }
            ],
            "source": [
                "word = 'ROTOR'\n",
                "# word = 'test'\n",
                "drow = ''\n",
                "for c in word:\n",
                "    drow = c + drow\n",
                "word == drow"
            ]
        },
        {
            "cell_type": "code",
            "execution_count": null,
            "id": "6a504360-1b43-45f0-ab31-22367e2dc489",
            "metadata": {},
            "outputs": [],
            "source": []
        }
    ],
    "metadata": {
        "author": "dieter.probst@gmail.com",
        "kernelspec": {
            "display_name": "Python 3 (ipykernel)",
            "language": "python",
            "name": "python3"
        },
        "language_info": {
            "codemirror_mode": {
                "name": "ipython",
                "version": 3
            },
            "file_extension": ".py",
            "mimetype": "text/x-python",
            "name": "python",
            "nbconvert_exporter": "python",
            "pygments_lexer": "ipython3",
            "version": "3.12.4"
        }
    },
    "nbformat": 4,
    "nbformat_minor": 5
}