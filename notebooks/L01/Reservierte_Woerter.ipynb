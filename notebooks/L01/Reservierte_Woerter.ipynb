{
 "cells": [
  {
   "cell_type": "markdown",
   "id": "abd636b6-8208-42d4-9bcf-2854b3009d82",
   "metadata": {},
   "source": [
    "### Reservierte W&ouml;rter und Builtins  \n",
    "- **Reservierte W&ouml;rter**:  Schl&uuml;sselw&ouml;rter der Programmiersprache Python, die f&uuml;r den\n",
    "Interpreter eine konkrete Bedeutung haben wie `True`, `None`, `if`, `else`, `for`. Weist man einem reservierten Wort einen Wert zu, wird ein SyntaxError erzeugt.\n",
    "- **Builtins**: Beim start l&auml;dt (importiert) der Python-Interpreter automatisch das Modul `builtin`.\n",
    "  Beim Laden diese Moduls werden verschiedene Variabeln definiert, nicht im globalen Verzeichnis `vars()`, sonder im\n",
    "  Verzeichins `vars(__builtins__)`.\n",
    "\n",
    "  Falls der Interpreter eine Variable nicht im Varzeichnis `vars()` findet, sucht er noch im Verzeichnis\n",
    "  `vars(__builtins__)`. Erst wenn auch dort die Variable nicht gefunden wird, wird ein NameError erzeut.\n",
    "  \n",
    "- **Gef&auml;rbte W&ouml;rter**:  \n",
    " Jupyterlab f&auml;rbt W&ouml;rter mit einer speziellen Bedeutung ein.\n",
    " Grunds&auml;tzlich sollte man gef&auml;rbten W&ouml;rtern keine Werte zuweisen.  \n",
    " \n",
    "\n",
    "**Aufgabe**:\n",
    "- Weise `print` einen Wert zu und teste, ob nun `print` in `vars()` ist.\n",
    "- Versuche, mit `print` etwas auszugeben. Macht die Fehlermeldung Sinn?\n",
    "- Entferne `print` mit `del print` wieder aus `vars()`. Steht nun die Funktion `print` aus dem Modul builtin wieder aur Verf&uuml;gung?"
   ]
  },
  {
   "cell_type": "code",
   "execution_count": null,
   "id": "1e677d94-12f9-4309-8592-bd8ac1678d1c",
   "metadata": {},
   "outputs": [],
   "source": [
    "#  gibt alle reservierten Woerter aus\n",
    "import keyword\n",
    "for reserved_word in keyword.kwlist:\n",
    "    print(reserved_word, end=', ')"
   ]
  },
  {
   "cell_type": "code",
   "execution_count": null,
   "id": "c529419d-3886-4683-8e1e-0b614f763417",
   "metadata": {},
   "outputs": [],
   "source": [
    "if = 2"
   ]
  },
  {
   "cell_type": "code",
   "execution_count": null,
   "id": "875d8987-9aa6-462e-8f14-e49d274b7c26",
   "metadata": {},
   "outputs": [],
   "source": [
    "# gibt die ersten 43 im Module builtin definierten Variabeln aus\n",
    "bi = [v for v in vars(__builtin__) if not v.startswith('_')]\n",
    "', '.join(bi[:43])"
   ]
  },
  {
   "cell_type": "code",
   "execution_count": null,
   "id": "dcc5b8f3-70c5-4298-93a4-d40d49efd742",
   "metadata": {},
   "outputs": [],
   "source": [
    "'print' in vars()"
   ]
  },
  {
   "cell_type": "code",
   "execution_count": null,
   "id": "3315525a-e348-4198-a615-a94775d3d243",
   "metadata": {},
   "outputs": [],
   "source": [
    "'print' in vars(__builtin__)"
   ]
  },
  {
   "cell_type": "code",
   "execution_count": null,
   "id": "e8cd9526-5961-4696-8f03-51aa10f3466b",
   "metadata": {},
   "outputs": [],
   "source": []
  }
 ],
 "metadata": {
  "author": "dieter.probst@gmail.com", "kernelspec": {
   "display_name": "Python 3 (ipykernel)",
   "language": "python",
   "name": "python3"
  },
  "language_info": {
   "codemirror_mode": {
    "name": "ipython",
    "version": 3
   },
   "file_extension": ".py",
   "mimetype": "text/x-python",
   "name": "python",
   "nbconvert_exporter": "python",
   "pygments_lexer": "ipython3",
   "version": "3.13.0"
  }
 },
 "nbformat": 4,
 "nbformat_minor": 5
}
