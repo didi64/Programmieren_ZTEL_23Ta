{
 "cells": [
  {
   "cell_type": "markdown",
   "id": "73418a04-1a49-443d-baa3-f95eb188ac03",
   "metadata": {},
   "source": [
    "### Kontrollfragen zur Lektion 1\n",
    "1. Was ist speziell an der Syntax der Programmiersprache Python?\n",
    "1. Was sind Line- und Cell-Magic Befehle? Demonstriere jeweils an einen kurzen Beispiel was `%%file`, `%load` und `%reset` tun.   \n",
    "1. Auf welche Kombinationen (Zahl, String, True, False, None) lassen sich die Operationen `+` und `*` anwenden?  \n",
    "   Was ist jeweils das Resultat der Operation?\n",
    "1. Welches sind keine g&uuml;tigen Variabelnamen?  \n",
    "   `foo-bar`, `2nd`, `_1_`, `await`, `print`, `@x`, `$y`, `___`, `XXX`, `#z` \n",
    "1. Was sind Ausdr&uuml;cke von Mini-Python?\n",
    "1. Welche 3 Mini-Python Anweisungen haben wir kennengelernt.\n",
    "1. Erl&auml;utere das Verhalten nachstehenden Codes.  \n",
    "   Welcher Wert haben die Variabeln `c` und `word` nach der Ausf&uuml;hrung?\n",
    "   \n",
    "   ```python\n",
    "    word = '123'\n",
    "    for c in word:\n",
    "        word = '456'\n",
    "        print(c)\n",
    "   \n",
    "   ```\n",
    "   <br>\n",
    "   \n",
    "1. Schreibe Mini-Python Code, der die L&auml;nge eines Wortes bestimmt.\n",
    "   ```python\n",
    "   word = 'foo'\n",
    "   length = 0\n",
    "   for ...\n",
    "   ...\n",
    "   length \n",
    "   ```\n",
    "   <br>\n",
    "1. Schreibe Mini-Python Code, der ein Wort umdreht.\n",
    "1. Schreibe Mini-Python Code, der testet, ob ein Wort ein Palindrom ist."
   ]
  }
 ],
 "metadata": {
  "author": "dieter.probst@gmail.com",
  "kernelspec": {
   "display_name": "Python 3 (ipykernel)",
   "language": "python",
   "name": "python3"
  },
  "language_info": {
   "codemirror_mode": {
    "name": "ipython",
    "version": 3
   },
   "file_extension": ".py",
   "mimetype": "text/x-python",
   "name": "python",
   "nbconvert_exporter": "python",
   "pygments_lexer": "ipython3",
   "version": "3.13.0"
  }
 },
 "nbformat": 4,
 "nbformat_minor": 5
}
