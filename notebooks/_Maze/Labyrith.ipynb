{
 "cells": [
  {
   "cell_type": "markdown",
   "id": "67d275a0-70a0-4e14-8760-e49d01ab91dd",
   "metadata": {},
   "source": [
    "### Ein 1-2-3-Labyrinth\n",
    "\n",
    "```python\n",
    "    0    1    2    3    4    5\n",
    "0[['S', ' ', ' ', ' ', ' ', ' '],\n",
    "1 ['X', 'X', 'X', 'X', 'X', 'X'],\n",
    "2 ['X', ' ', 'X', ' ', ' ', 'X'],\n",
    "3 ['X', ' ', 'X', 'X', 'X', 'X'],\n",
    "4 ['X', ' ', 'X', ' ', ' ', 'X'],\n",
    "5 ['X', ' ', ' ', ' ', ' ', 'Z'],\n",
    "6 ['X', ' ', ' ', ' ', ' ', 'X'],\n",
    "7 ['X', 'X', 'X', 'X', 'X', 'X']]\n",
    " ```\n",
    "\n",
    "Ziel ist es, vom Start ('S') ins Ziel ('Z') zu gelangen.\n",
    "Dabei sind folgende Regeln einzuhalten:\n",
    "\n",
    "- Man darf sich nur auf den markierten Feldern 'S', 'X' und 'Z' bewegen.\n",
    "- Im 1. Zug bewegt man sich 1 Feld weit, im 2. Zug 2, im 3. Zug 3, im 4. Zug wieder 1 Feld weit, u.s.w.  \n",
    "- W&auml;hrend eines Zuges darf man sich nur in **eine Richtung** bewegen."
   ]
  },
  {
   "cell_type": "code",
   "execution_count": 4,
   "id": "b01e90d3-4152-4d5c-a50a-7c98983c3a1d",
   "metadata": {},
   "outputs": [
    {
     "data": {
      "application/vnd.jupyter.widget-view+json": {
       "model_id": "3c34c116b09b4f7ca286e51139317cc1",
       "version_major": 2,
       "version_minor": 0
      },
      "text/plain": [
       "VBox(children=(HBox(children=(MultiCanvas(height=200, layout=Layout(border_bottom='1px solid black', border_le…"
      ]
     },
     "metadata": {},
     "output_type": "display_data"
    }
   ],
   "source": [
    "%run -m maze_123"
   ]
  },
  {
   "cell_type": "markdown",
   "id": "a36d8e76-beaa-4b73-841c-161832342874",
   "metadata": {},
   "source": [
    "### Weg zum Ziel suchen\n",
    "- Wir nummeriern die markierten Felder von links nach rechts und von oben nach unten:  \n",
    "  S ist Feld 0, Z ist Feld 19, das Feld in Reihe 2, Spalte 0 ist Feld 7, das Feld in Reihe 3, Spalte 0 ist Feld 10. Oft sagen wir auch, Feld 10 ist auf Position (0, 3). Die x-Koordinate ist die Spalte, die y-Koordinate die Zeile.\n",
    "- F&uuml;r jedes  der markierten 28 Feld gibt es 3 Zust&auml;nde, je nach dem, ob man sich gerade\n",
    "  1, 2 oder 3 Felder bewegen darf. Das macht $28\\cdot 3 = 84$ Zust&auml;nde $S:=\\{0,1,\\ldots,83\\}$.\n",
    "  Dabei interpretieren wir Zustand $n\\in S$ als \"Spieler ist auf Feld\n",
    "  `n //  3` und muss sich `n%3 + 1` Felder bewegen\". Im Zustand 4 ist der Spieler auf dem 1. Feld und muss sich 2 Felder bewegen.\n",
    "\n",
    "  \n",
    "- Ein Dictionary `delta` legt die legalen Z&uuml;ge fest. F&uuml;r jeden Zustand geben wir die Menge der erreichbaren Zust&auml;nde an.\n",
    "  ```python\n",
    "    0: {4},\n",
    "    1: {23},\n",
    "    2: {30},\n",
    "    3: {1, 7, 22},\n",
    "    4: {11, 32},\n",
    "    5: {12, 45},\n",
    "    ...\n",
    "   }\n",
    "  ```\n",
    "<img src=\"../../images/labyrith_states.svg\">  \n",
    "<br>\n",
    "\n",
    "Wie man den Dictionary `delta` erstellen kann ist im Notebook `Labyrinth_Details.ipynb` erkl&auml;rt. "
   ]
  },
  {
   "cell_type": "code",
   "execution_count": 5,
   "id": "64bed259-af1e-483e-ad58-837c770dc308",
   "metadata": {},
   "outputs": [],
   "source": [
    "from labyrinth import delta\n",
    "from dict_helpers import peek"
   ]
  },
  {
   "cell_type": "code",
   "execution_count": 106,
   "id": "79d300ef-4588-4fa2-a593-b91f3660b7d7",
   "metadata": {},
   "outputs": [
    {
     "data": {
      "text/plain": [
       "{0: {4}, 1: {23}, 2: {30}}"
      ]
     },
     "execution_count": 106,
     "metadata": {},
     "output_type": "execute_result"
    }
   ],
   "source": [
    "peek(delta, 3)"
   ]
  },
  {
   "cell_type": "markdown",
   "id": "9e5d2967-da92-4c71-afbb-0c6ea500f034",
   "metadata": {},
   "source": [
    "### Erreichbare Zust&auml;nde erkunden\n",
    "Wir wollen herausfinden, welche Zust&auml;nde in $0,1,2,\\ldots$ Z&uuml;gen erreichbar sind und via welche Zust&auml;nde man diese erreicht.\n",
    "\n",
    "Dazu erstellen wir eine Liste `frontiers = [states0, states1, states2, ...]`.\n",
    "`states0 = {0}` ist der Ausgangszustand, `states1 = {4}` die in 1 Zug und\n",
    " `states2 = {11,32}` die in 2 Z&uuml;gen (aber nicht mit weniger) erreichbaren Zust&auml;nde.\n",
    "Gleichzeitig erstellen wir einen Dictionary `state_path`, der zu jedem erreichbare Zustand angibt, wie an dorthin kommt, z.B. `state_path[11]=[0, 4, 11]` und\n",
    "`state_path[32]=[0, 4, 32]`.  \n",
    "\n",
    "Die Funktion `explore(delta, state_path, frontier)` gibt eine Liste mit neuen Zust&auml;nden zur&uuml;ck, die von einem Zustand in der Menge `frontier` erreichbar sind und nimmt diese Zust&auml;nde in den Dictionary `state_path` auf. Die Idee ist, dass `frontier` jeweils \n",
    "der letzte Eintrag der Liste  `frontiers` ist."
   ]
  },
  {
   "cell_type": "code",
   "execution_count": null,
   "id": "4b8cd54f-2034-4dc5-a7e7-707947107dcb",
   "metadata": {},
   "outputs": [],
   "source": [
    "def explore(delta, state_path, frontier):\n",
    "    new_frontier = set()\n",
    "    for state in frontier:\n",
    "        new_states = (s for s in delta[state] if s not in state_path)\n",
    "        for s in new_states:\n",
    "            new_path = state_path[state].copy()\n",
    "            new_path.append(s)\n",
    "            state_path[s] = new_path\n",
    "            new_frontier.add(s)\n",
    "    return new_frontier"
   ]
  },
  {
   "cell_type": "code",
   "execution_count": null,
   "id": "138e8717-2b9b-4f43-8492-52413008cacc",
   "metadata": {},
   "outputs": [],
   "source": [
    "S = 0\n",
    "frontier = {S}  \n",
    "state_path = {S: [S]}"
   ]
  },
  {
   "cell_type": "code",
   "execution_count": null,
   "id": "99b536d7-634a-40f3-807e-2fcb568606af",
   "metadata": {},
   "outputs": [],
   "source": [
    "# Mit jedem Ausfuehren dieser Zelle wird die Menge \n",
    "# frontier der entferntesten Zustaenden bestimmt und\n",
    "# der Weg dorthin im Dict state_path gespeichert\n",
    "frontier = explore(delta, state_path, frontier)\n",
    "state_path, frontier"
   ]
  },
  {
   "cell_type": "code",
   "execution_count": null,
   "id": "a0177c11-6b1e-49c3-a8f9-f42bb36c9db9",
   "metadata": {},
   "outputs": [],
   "source": [
    "S = 0\n",
    "frontier = {S}\n",
    "state_path = {S: [S]}\n",
    "\n",
    "frontiers = []\n",
    "while frontier:\n",
    "    frontiers.append(frontier)\n",
    "    frontier = explore(delta, state_path, frontier)"
   ]
  },
  {
   "cell_type": "code",
   "execution_count": null,
   "id": "0e4b9013-5121-4490-bf02-2e0b914d7b70",
   "metadata": {},
   "outputs": [],
   "source": [
    "Z = 19\n",
    "[s for s in state_path if s // 3 == Z]  # Zustaende mit Zielfeld"
   ]
  },
  {
   "cell_type": "code",
   "execution_count": null,
   "id": "4b12274c-6ba9-494c-90b6-b0041f9a5d91",
   "metadata": {},
   "outputs": [],
   "source": [
    "path = state_path[57]  # via welche Zustaende Ziel erreicht wird\n",
    "path"
   ]
  },
  {
   "cell_type": "code",
   "execution_count": null,
   "id": "907d50ea-7a99-4df4-a8f0-a50f5cbbf623",
   "metadata": {},
   "outputs": [],
   "source": [
    "[field_pos[state//3] for state in path]  # via welche Pos Ziel erreicht wird"
   ]
  },
  {
   "cell_type": "code",
   "execution_count": null,
   "id": "aaee6110-0ab9-461f-861c-e93990335df4",
   "metadata": {},
   "outputs": [],
   "source": []
  }
 ],
 "metadata": {
  "author": "dieter.probst@gmail.com",
  "kernelspec": {
   "display_name": "Python 3 (ipykernel)",
   "language": "python",
   "name": "python3"
  },
  "language_info": {
   "codemirror_mode": {
    "name": "ipython",
    "version": 3
   },
   "file_extension": ".py",
   "mimetype": "text/x-python",
   "name": "python",
   "nbconvert_exporter": "python",
   "pygments_lexer": "ipython3",
   "version": "3.13.0"
  }
 },
 "nbformat": 4,
 "nbformat_minor": 5
}
