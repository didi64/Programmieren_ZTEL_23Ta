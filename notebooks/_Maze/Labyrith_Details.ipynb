{
 "cells": [
  {
   "cell_type": "markdown",
   "id": "67d275a0-70a0-4e14-8760-e49d01ab91dd",
   "metadata": {},
   "source": [
    "### Ein 1-2-3-Labyrinth\n",
    "\n",
    "```python\n",
    "    0    1    2    3    4    5\n",
    "0[['S', ' ', ' ', ' ', ' ', ' '],\n",
    "1 ['X', 'X', 'X', 'X', 'X', 'X'],\n",
    "2 ['X', ' ', 'X', ' ', ' ', 'X'],\n",
    "3 ['X', ' ', 'X', 'X', 'X', 'X'],\n",
    "4 ['X', ' ', 'X', ' ', ' ', 'X'],\n",
    "5 ['X', ' ', ' ', ' ', ' ', 'Z'],\n",
    "6 ['X', ' ', ' ', ' ', ' ', 'X'],\n",
    "7 ['X', 'X', 'X', 'X', 'X', 'X']]\n",
    " ```\n",
    "\n",
    "Ziel ist es, vom Start ('S') ins Ziel ('Z') zu gelangen.\n",
    "Dabei sind folgende Regeln einzuhalten:\n",
    "\n",
    "- Man darf sich nur auf den markierten Feldern 'S', 'X' und 'Z' bewegen.\n",
    "- Im 1. Zug bewegt man sich 1 Feld weit, im 2. Zug 2, im 3. Zug 3, im 4. Zug wieder 1 Feld weit, u.s.w.  \n",
    "- W&auml;hrend eines Zuges darf man sich nur in **eine Richtung** bewegen."
   ]
  },
  {
   "cell_type": "markdown",
   "id": "a36d8e76-beaa-4b73-841c-161832342874",
   "metadata": {},
   "source": [
    "### Weg zum Ziel suchen\n",
    "- Wir nummeriern die markierten Felder von links nach rechts und von oben nach unten:  \n",
    "  S ist Feld 0, Z ist Feld 19, das Feld in Reihe 2, Spalte 0 ist Feld 7, das Feld in Reihe 3, Spalte 0 ist Feld 10.\n",
    "- F&uuml;r jedes  der markierten 28 Feld gibt es 3 Zust&auml;nde, je nach dem, ob man sich gerade\n",
    "  1, 2 oder 3 Felder bewegen darf. Das macht $28\\cdot 3 = 84$ Zust&auml;nde $S:=\\{0,1,\\ldots,83\\}$.\n",
    "  Dabei interpretieren wir Zustand $n\\in S$ als \"Spieler ist auf Feld\n",
    "  `n //  3` und muss sich `n%3 + 1` Felder bewegen\". Im Zustand 4 ist der Spieler auf dem 1. Feld und muss sich 2 Felder bewegen.\n",
    "\n",
    "  \n",
    "- Ein Dictionary `delta` legt die legalen Z&uuml;ge fest. F&uuml;r jeden Zustand geben wir die Menge der erreichbaren Zust&auml;nde an.\n",
    "  ```python\n",
    "    0: {4},\n",
    "    1: {23},\n",
    "    2: {30},\n",
    "    3: {1, 7, 22},\n",
    "    4: {11, 32},\n",
    "    5: {12, 45},\n",
    "    ...\n",
    "   }\n",
    "  ```\n",
    "<img src=\"../../images/labyrith_states.svg\">"
   ]
  },
  {
   "cell_type": "code",
   "execution_count": 1,
   "id": "831eee33-8712-4257-85fe-bc09c72f4017",
   "metadata": {},
   "outputs": [],
   "source": [
    "from dict_helpers import peek\n",
    "\n",
    "\n",
    "labyrinth = [\n",
    "  ['S', ' ', ' ', ' ', ' ', ' '],\n",
    "  ['X', 'X', 'X', 'X', 'X', 'X'],\n",
    "  ['X', ' ', 'X', ' ', ' ', 'X'],\n",
    "  ['X', ' ', 'X', 'X', 'X', 'X'],\n",
    "  ['X', ' ', 'X', ' ', ' ', 'X'],\n",
    "  ['X', ' ', ' ', ' ', ' ', 'Z'],\n",
    "  ['X', ' ', ' ', ' ', ' ', 'X'],\n",
    "  ['X', 'X', 'X', 'X', 'X', 'X'],\n",
    "]"
   ]
  },
  {
   "cell_type": "code",
   "execution_count": 2,
   "id": "86bd0c69-58ee-4d92-ba0f-a699eee29025",
   "metadata": {},
   "outputs": [
    {
     "data": {
      "text/plain": [
       "([(0, 0), (0, 1), (1, 1), (2, 1)], 28)"
      ]
     },
     "execution_count": 2,
     "metadata": {},
     "output_type": "execute_result"
    }
   ],
   "source": [
    "NCOLS = 6\n",
    "NROWS = 8\n",
    "\n",
    "positions = []\n",
    "for y in range(NROWS):\n",
    "    for x in range(NCOLS):\n",
    "        if labyrinth[y][x] != ' ':\n",
    "            positions.append((x, y))\n",
    "positions[:4], len(positions)"
   ]
  },
  {
   "cell_type": "code",
   "execution_count": null,
   "id": "64bed259-af1e-483e-ad58-837c770dc308",
   "metadata": {},
   "outputs": [],
   "source": []
  },
  {
   "cell_type": "code",
   "execution_count": null,
   "id": "79d300ef-4588-4fa2-a593-b91f3660b7d7",
   "metadata": {},
   "outputs": [],
   "source": [
    "field_pos = {k: v for k, v in enumerate(positions)}\n",
    "pos_field = {v: k for k, v in field_pos.items()}\n",
    "peek(field_pos, 2), peek(pos_field, 2)"
   ]
  },
  {
   "cell_type": "code",
   "execution_count": null,
   "id": "e65b293b-ed01-422d-b152-a3abe4a1eeac",
   "metadata": {},
   "outputs": [],
   "source": [
    "nstates = len(field_pos) * 3\n",
    "nstates"
   ]
  },
  {
   "cell_type": "code",
   "execution_count": null,
   "id": "f1c2e490-47c7-42e6-90bd-67425532f008",
   "metadata": {},
   "outputs": [],
   "source": [
    "def is_position(pos):\n",
    "    x, y = pos\n",
    "    return (0 <= x < NCOLS and\n",
    "            0 <= y < NROWS and\n",
    "            labyrinth[y][x] != ' ')"
   ]
  },
  {
   "cell_type": "code",
   "execution_count": null,
   "id": "0d4cb660-18dc-4d73-aba3-44f2fdf582d3",
   "metadata": {},
   "outputs": [],
   "source": [
    "def get_path(pos1, pos2):\n",
    "    x1, y1 = pos1\n",
    "    x2, y2 = pos2\n",
    "    dx = abs(x2-x1)\n",
    "    dy = abs(y2-y1)\n",
    "    \n",
    "    if dx == 0:\n",
    "        y = min(y1, y2)\n",
    "        return [(x1, y+i) for i in range(dy+1)]\n",
    "        \n",
    "    if dy == 0:\n",
    "        x = min(x1, x2)\n",
    "        return [(x+i, y1) for i in range(dx+1)]"
   ]
  },
  {
   "cell_type": "code",
   "execution_count": null,
   "id": "3a56cf53-5193-464d-a262-d2b5b8733b46",
   "metadata": {},
   "outputs": [],
   "source": [
    "def is_connected(pos1, pos2):\n",
    "    path = get_path(pos1, pos2)\n",
    "    return all(is_position(pos) for pos in path)"
   ]
  },
  {
   "cell_type": "code",
   "execution_count": null,
   "id": "f470330c-501b-4e84-a28e-f3005153ca02",
   "metadata": {},
   "outputs": [],
   "source": [
    "def options(field, n):\n",
    "    pos = field_pos[field]\n",
    "    x, y = pos\n",
    "    positions = [(x+n, y),\n",
    "                 (x-n, y),\n",
    "                 (x, y+n),\n",
    "                 (x, y-n),\n",
    "                 ]\n",
    "    fields = [pos_field[p] for p in positions if is_connected(pos, p)]\n",
    "    return fields"
   ]
  },
  {
   "cell_type": "code",
   "execution_count": null,
   "id": "ec7573b8-9d0d-480c-879e-c2815c1adf2e",
   "metadata": {},
   "outputs": [],
   "source": [
    "def reachable_states(state):\n",
    "    field = state//3\n",
    "    r = state%3 \n",
    "    fields = options(field, r+1)\n",
    "    r = (r+1) % 3\n",
    "    return set(3*field + r for field in fields)"
   ]
  },
  {
   "cell_type": "code",
   "execution_count": null,
   "id": "c652e40f-0eb7-4714-be88-e218b825f2a2",
   "metadata": {},
   "outputs": [],
   "source": [
    "reachable_states(74)"
   ]
  },
  {
   "cell_type": "code",
   "execution_count": null,
   "id": "a295a5aa-e758-4302-a5ce-67db7b0fba7e",
   "metadata": {},
   "outputs": [],
   "source": [
    "delta = {}\n",
    "for state in range(nstates):\n",
    "    delta[state] = reachable_states(state)\n",
    "delta"
   ]
  },
  {
   "cell_type": "code",
   "execution_count": null,
   "id": "ef85d99f-2c38-4282-b968-775e68501e76",
   "metadata": {},
   "outputs": [],
   "source": []
  },
  {
   "cell_type": "code",
   "execution_count": 62,
   "id": "4b8cd54f-2034-4dc5-a7e7-707947107dcb",
   "metadata": {},
   "outputs": [],
   "source": [
    "def explore(delta, state_path, frontier):\n",
    "    new_frontier = set()\n",
    "    for state in frontier:\n",
    "        new_states = (s for s in delta[state] if s not in state_path)\n",
    "        for s in new_states:\n",
    "            new_path = state_path[state].copy()\n",
    "            new_path.append(s)\n",
    "            state_path[s] = new_path\n",
    "            new_frontier.add(s)\n",
    "    return new_frontier"
   ]
  },
  {
   "cell_type": "code",
   "execution_count": 63,
   "id": "138e8717-2b9b-4f43-8492-52413008cacc",
   "metadata": {},
   "outputs": [],
   "source": [
    "start = 0\n",
    "frontier = {start}\n",
    "frontiers = [frontier]\n",
    "state_path = {start: [start]}"
   ]
  },
  {
   "cell_type": "code",
   "execution_count": 64,
   "id": "99b536d7-634a-40f3-807e-2fcb568606af",
   "metadata": {},
   "outputs": [
    {
     "data": {
      "text/plain": [
       "({0: [0], 4: [0, 4]}, {4})"
      ]
     },
     "execution_count": 64,
     "metadata": {},
     "output_type": "execute_result"
    }
   ],
   "source": [
    "frontier = explore(delta, state_path, frontier)\n",
    "state_path, frontier"
   ]
  },
  {
   "cell_type": "code",
   "execution_count": 65,
   "id": "a0177c11-6b1e-49c3-a8f9-f42bb36c9db9",
   "metadata": {},
   "outputs": [],
   "source": [
    "S = 0\n",
    "frontier = {S}\n",
    "frontiers = [frontier]\n",
    "state_path = {S: [S]}\n",
    "\n",
    "while frontier:\n",
    "    frontier = explore(delta, state_path, frontier)"
   ]
  },
  {
   "cell_type": "code",
   "execution_count": 66,
   "id": "0e4b9013-5121-4490-bf02-2e0b914d7b70",
   "metadata": {},
   "outputs": [
    {
     "data": {
      "text/plain": [
       "[57]"
      ]
     },
     "execution_count": 66,
     "metadata": {},
     "output_type": "execute_result"
    }
   ],
   "source": [
    "Z = 19\n",
    "[s for s in state_path if s // 3 == Z]"
   ]
  },
  {
   "cell_type": "code",
   "execution_count": 68,
   "id": "4b12274c-6ba9-494c-90b6-b0041f9a5d91",
   "metadata": {},
   "outputs": [
    {
     "data": {
      "text/plain": [
       "[0, 4, 32, 60, 67, 56, 21, 31, 5, 12, 10, 35, 42, 52, 29, 57]"
      ]
     },
     "execution_count": 68,
     "metadata": {},
     "output_type": "execute_result"
    }
   ],
   "source": [
    "path = state_path[57]\n",
    "path"
   ]
  },
  {
   "cell_type": "code",
   "execution_count": 72,
   "id": "907d50ea-7a99-4df4-a8f0-a50f5cbbf623",
   "metadata": {},
   "outputs": [
    {
     "data": {
      "text/plain": [
       "[(0, 0),\n",
       " (0, 1),\n",
       " (0, 3),\n",
       " (0, 6),\n",
       " (0, 7),\n",
       " (0, 5),\n",
       " (0, 2),\n",
       " (0, 3),\n",
       " (0, 1),\n",
       " (3, 1),\n",
       " (2, 1),\n",
       " (2, 3),\n",
       " (5, 3),\n",
       " (5, 4),\n",
       " (5, 2),\n",
       " (5, 5)]"
      ]
     },
     "execution_count": 72,
     "metadata": {},
     "output_type": "execute_result"
    }
   ],
   "source": [
    "[field_pos[state//3] for state in path]"
   ]
  },
  {
   "cell_type": "code",
   "execution_count": null,
   "id": "a11f1495-f4f3-4041-9105-0a4b87e42ab3",
   "metadata": {},
   "outputs": [],
   "source": []
  }
 ],
 "metadata": {
  "author": "dieter.probst@gmail.com",
  "kernelspec": {
   "display_name": "Python 3 (ipykernel)",
   "language": "python",
   "name": "python3"
  },
  "language_info": {
   "codemirror_mode": {
    "name": "ipython",
    "version": 3
   },
   "file_extension": ".py",
   "mimetype": "text/x-python",
   "name": "python",
   "nbconvert_exporter": "python",
   "pygments_lexer": "ipython3",
   "version": "3.13.0"
  }
 },
 "nbformat": 4,
 "nbformat_minor": 5
}
