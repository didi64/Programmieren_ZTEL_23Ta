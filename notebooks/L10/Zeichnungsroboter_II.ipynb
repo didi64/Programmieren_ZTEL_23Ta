{
 "cells": [
  {
   "cell_type": "markdown",
   "id": "ff7475ea-fdd8-42df-8534-f13b606476d4",
   "metadata": {},
   "source": [
    "### Zeichnungsroboter\n"
   ]
  },
  {
   "cell_type": "code",
   "execution_count": 8,
   "id": "3ff61956-f631-4eb5-822d-2b1d7216c136",
   "metadata": {},
   "outputs": [],
   "source": [
    "from generate_cmds import draw_grid, clear_field, place_stone\n",
    "\n",
    "\n",
    "def add_stone(pos, color):\n",
    "    x, y = pos\n",
    "    pos = x-1, 6-y\n",
    "    cmds = place_stone(**grid, pos=pos, fill=color)\n",
    "    automat.read(cmds)\n",
    "\n",
    "\n",
    "def remove_stone(pos):\n",
    "    x, y = pos\n",
    "    pos = x-1, 6-y\n",
    "    cmds = clear_field(**grid, pos=pos)\n",
    "    automat.read(cmds)"
   ]
  },
  {
   "cell_type": "code",
   "execution_count": 4,
   "id": "64741ee3-09ac-4357-b0c8-bec69f88a3ae",
   "metadata": {},
   "outputs": [],
   "source": [
    "grid = {\n",
    "    'ncol': 7,\n",
    "    'nrow': 6,\n",
    "    'lw': 2,\n",
    "    'color': 'blue',\n",
    "    'position': (40, 10),\n",
    "    'width': 210,\n",
    "    'height': 180,\n",
    "}"
   ]
  },
  {
   "cell_type": "code",
   "execution_count": 5,
   "id": "175a3e40-d952-4dcc-bdcd-45b15fceaca0",
   "metadata": {},
   "outputs": [
    {
     "data": {
      "text/plain": [
       "'l2;sblue;ug40,10.0;dG210,0;ug40,40.0;dG210,0;ug40,70.0;dG210,0;ug40,100.0;dG210,0;ug40,130.0;dG210,0;ug40,160.0;dG210,0;ug40,190.0;dG210,0;ug40.0,10;dG0,180;ug70.0,10;dG0,180;ug100.0,10;dG0,180;ug130.0,10;dG0,180;ug160.0,10;dG0,180;ug190.0,10;dG0,180;ug220.0,10;dG0,180;ug250.0,10;dG0,180;'"
      ]
     },
     "execution_count": 5,
     "metadata": {},
     "output_type": "execute_result"
    }
   ],
   "source": [
    "cmds_grid = draw_grid(**grid)\n",
    "cmds_grid"
   ]
  },
  {
   "cell_type": "code",
   "execution_count": 6,
   "id": "9906c3cb-8f43-453d-99b3-37e37094fec2",
   "metadata": {},
   "outputs": [
    {
     "data": {
      "text/plain": [
       "'forange;ug40,10;G75.0,105.0;dC13.0;'"
      ]
     },
     "execution_count": 6,
     "metadata": {},
     "output_type": "execute_result"
    }
   ],
   "source": [
    "stone_2_3_o = place_stone(**grid, pos=(2, 3), fill='orange')\n",
    "stone_2_3_o"
   ]
  },
  {
   "cell_type": "code",
   "execution_count": 7,
   "id": "f96ffccb-2ce9-4f98-b125-29e9692195db",
   "metadata": {},
   "outputs": [
    {
     "data": {
      "text/plain": [
       "'ug40,10;G62.0,92.0;e26.0,26.0;'"
      ]
     },
     "execution_count": 7,
     "metadata": {},
     "output_type": "execute_result"
    }
   ],
   "source": [
    "clear_2_3 = clear_field(**grid, pos=(2, 3))\n",
    "clear_2_3"
   ]
  },
  {
   "cell_type": "code",
   "execution_count": 1,
   "id": "d57e078f-1209-4d0a-963b-553843b59ffa",
   "metadata": {},
   "outputs": [
    {
     "data": {
      "application/vnd.jupyter.widget-view+json": {
       "model_id": "c44d6dc564044497b71e6b98397be73b",
       "version_major": 2,
       "version_minor": 0
      },
      "text/plain": [
       "Canvas(height=200, layout=Layout(border_bottom='1px solid black', border_left='1px solid black', border_right=…"
      ]
     },
     "metadata": {},
     "output_type": "display_data"
    }
   ],
   "source": [
    "import zeichnungsautomat as ZA\n",
    "\n",
    "\n",
    "WIDTH = 300\n",
    "HEIGHT = 200\n",
    "automat, canvas = ZA.get_automat_and_canvas(width=WIDTH, height=HEIGHT)\n",
    "canvas"
   ]
  },
  {
   "cell_type": "code",
   "execution_count": 14,
   "id": "5f7f578e-4506-44ec-9721-18c91f2fc8e8",
   "metadata": {},
   "outputs": [],
   "source": [
    "canvas.reset()  # clear canvas and buffer, set state of automat to 0\n",
    "automat.read(cmds_grid)  # feed input to the automaton"
   ]
  },
  {
   "cell_type": "code",
   "execution_count": 15,
   "id": "843b2bca-18f5-403c-9026-01b3a8d4cda0",
   "metadata": {},
   "outputs": [],
   "source": [
    "automat.read(stone_2_3_o)"
   ]
  },
  {
   "cell_type": "code",
   "execution_count": 16,
   "id": "6e04933c-cfa9-446b-8bff-a0d32f8a46e3",
   "metadata": {},
   "outputs": [],
   "source": [
    "automat.read(clear_2_3)"
   ]
  },
  {
   "cell_type": "code",
   "execution_count": 17,
   "id": "9b9761e6-02fe-4eb3-9331-4a0cdef2385c",
   "metadata": {},
   "outputs": [],
   "source": [
    "add_stone((5, 2), 'red')"
   ]
  },
  {
   "cell_type": "code",
   "execution_count": 18,
   "id": "21df6524-78bc-4179-8ef6-fc5935c68015",
   "metadata": {},
   "outputs": [],
   "source": [
    "add_stone((5, 1), 'blue')"
   ]
  },
  {
   "cell_type": "code",
   "execution_count": 19,
   "id": "5a1d39ec-0ef6-4c11-b53f-4494b4d10dc6",
   "metadata": {},
   "outputs": [],
   "source": [
    "remove_stone((5, 1))"
   ]
  },
  {
   "cell_type": "code",
   "execution_count": null,
   "id": "5f68490a-6682-4e41-a6c1-18f98a88f3fb",
   "metadata": {},
   "outputs": [],
   "source": []
  }
 ],
 "metadata": {
  "kernelspec": {
   "display_name": "Python 3 (ipykernel)",
   "language": "python",
   "name": "python3"
  },
  "language_info": {
   "codemirror_mode": {
    "name": "ipython",
    "version": 3
   },
   "file_extension": ".py",
   "mimetype": "text/x-python",
   "name": "python",
   "nbconvert_exporter": "python",
   "pygments_lexer": "ipython3",
   "version": "3.13.0"
  }
 },
 "nbformat": 4,
 "nbformat_minor": 5
}
