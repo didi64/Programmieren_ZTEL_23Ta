{
 "cells": [
  {
   "cell_type": "markdown",
   "id": "ff7475ea-fdd8-42df-8534-f13b606476d4",
   "metadata": {},
   "source": [
    "### Zeichnungsroboter 2\n",
    "\n",
    "Wir benutzen wieder den im Notebook [Automaten](Automaten.ipynb) beschriebenen Zeichnungsautomat um einen Zeichnungsrobotor zu steuern.  \n",
    "\n",
    "Direkt Code f&uuml;r unseren Zeichnungsrobotor zu schreiben ist \n",
    "m&uuml;hsam. Deshalb schreiben wir Python-Code, der\n",
    "Robotercode erstellt. Die Funktionen `draw_grid`, `place_stone`, und `clear_field` dienen diesem Zweck.\n",
    "\n",
    "- `draw_grid(kwargs)` liefert Robotercode, der ein Gitter zeichnet.\n",
    "   Die erwarteten Keywords sind `ncol`, `nrow`, `lw`, `color`, `position`, `width` und `height`.\n",
    "\n",
    "- `place_stone(pos, fill, **kwargs)` liefert Robotercode, der an `pos=(<Spalte>, <Zeile>)` einen\n",
    "  Kreis in der Farbe `fill` zeichnet. Die Keyword Argumente sind die selben wie f&uuml;r `draw_grid`.\n",
    "\n",
    "- `clear_field(pos, **grid)`  liefert Robotercode, der den Stein an Position `pos` wieder entfernt.\n",
    "\n",
    "Mit Hilfe obiger Funktionen lassen sich dann leicht die Funktionen `add_stone(pos, color, grid)` und\n",
    "`remove_stone(pos, grid)` schreiben, welche einen farbigen Stein in ein Gitterfeld zeichnet, bez. wieder l&ouml;scht. `grid` ist ein Dictionary, der die Keyword Argumente zum Zeichnen des Gitters enth&auml;lt.\n"
   ]
  },
  {
   "cell_type": "code",
   "execution_count": null,
   "id": "3ff61956-f631-4eb5-822d-2b1d7216c136",
   "metadata": {},
   "outputs": [],
   "source": [
    "from generate_cmds import draw_grid, clear_field, place_stone\n",
    "\n",
    "\n",
    "def add_stone(pos, color, grid):\n",
    "    x, y = pos\n",
    "    pos = x-1, 6-y\n",
    "    cmds = place_stone(**grid, pos=pos, fill=color)\n",
    "    automat.read(cmds)\n",
    "\n",
    "\n",
    "def remove_stone(pos, grid):\n",
    "    x, y = pos\n",
    "    pos = x-1, 6-y\n",
    "    cmds = clear_field(**grid, pos=pos)\n",
    "    automat.read(cmds)"
   ]
  },
  {
   "cell_type": "code",
   "execution_count": null,
   "id": "64741ee3-09ac-4357-b0c8-bec69f88a3ae",
   "metadata": {},
   "outputs": [],
   "source": [
    "grid = {\n",
    "    'ncol': 7,\n",
    "    'nrow': 6,\n",
    "    'lw': 2,\n",
    "    'color': 'blue',\n",
    "    'position': (40, 10),\n",
    "    'width': 210,\n",
    "    'height': 180,\n",
    "}"
   ]
  },
  {
   "cell_type": "code",
   "execution_count": null,
   "id": "175a3e40-d952-4dcc-bdcd-45b15fceaca0",
   "metadata": {},
   "outputs": [],
   "source": [
    "cmds_grid = draw_grid(**grid)\n",
    "cmds_grid"
   ]
  },
  {
   "cell_type": "code",
   "execution_count": null,
   "id": "9906c3cb-8f43-453d-99b3-37e37094fec2",
   "metadata": {},
   "outputs": [],
   "source": [
    "stone_2_3_o = place_stone(pos=(2, 3), fill='orange', **grid)\n",
    "stone_2_3_o"
   ]
  },
  {
   "cell_type": "code",
   "execution_count": null,
   "id": "f96ffccb-2ce9-4f98-b125-29e9692195db",
   "metadata": {},
   "outputs": [],
   "source": [
    "clear_2_3 = clear_field(pos=(2, 3), **grid)\n",
    "clear_2_3"
   ]
  },
  {
   "cell_type": "code",
   "execution_count": null,
   "id": "d57e078f-1209-4d0a-963b-553843b59ffa",
   "metadata": {},
   "outputs": [],
   "source": [
    "import zeichnungsautomat as ZA\n",
    "\n",
    "\n",
    "WIDTH = 300\n",
    "HEIGHT = 200\n",
    "automat, canvas = ZA.get_automat_and_canvas(width=WIDTH, height=HEIGHT)\n",
    "canvas"
   ]
  },
  {
   "cell_type": "code",
   "execution_count": null,
   "id": "5f7f578e-4506-44ec-9721-18c91f2fc8e8",
   "metadata": {},
   "outputs": [],
   "source": [
    "canvas.reset()  # clear canvas and buffer, set state of automat to 0\n",
    "automat.read(cmds_grid)  # feed input to the automaton"
   ]
  },
  {
   "cell_type": "code",
   "execution_count": null,
   "id": "843b2bca-18f5-403c-9026-01b3a8d4cda0",
   "metadata": {},
   "outputs": [],
   "source": [
    "automat.read(stone_2_3_o)"
   ]
  },
  {
   "cell_type": "code",
   "execution_count": null,
   "id": "6e04933c-cfa9-446b-8bff-a0d32f8a46e3",
   "metadata": {},
   "outputs": [],
   "source": [
    "automat.read(clear_2_3)"
   ]
  },
  {
   "cell_type": "code",
   "execution_count": null,
   "id": "9b9761e6-02fe-4eb3-9331-4a0cdef2385c",
   "metadata": {},
   "outputs": [],
   "source": [
    "add_stone((5, 2), 'red', grid)"
   ]
  },
  {
   "cell_type": "code",
   "execution_count": null,
   "id": "21df6524-78bc-4179-8ef6-fc5935c68015",
   "metadata": {},
   "outputs": [],
   "source": [
    "add_stone((5, 1), 'blue', grid)"
   ]
  },
  {
   "cell_type": "code",
   "execution_count": null,
   "id": "5a1d39ec-0ef6-4c11-b53f-4494b4d10dc6",
   "metadata": {},
   "outputs": [],
   "source": [
    "remove_stone((5, 1), grid)"
   ]
  },
  {
   "cell_type": "code",
   "execution_count": null,
   "id": "5f68490a-6682-4e41-a6c1-18f98a88f3fb",
   "metadata": {},
   "outputs": [],
   "source": []
  }
 ],
 "metadata": {
  "kernelspec": {
   "display_name": "Python 3 (ipykernel)",
   "language": "python",
   "name": "python3"
  },
  "language_info": {
   "codemirror_mode": {
    "name": "ipython",
    "version": 3
   },
   "file_extension": ".py",
   "mimetype": "text/x-python",
   "name": "python",
   "nbconvert_exporter": "python",
   "pygments_lexer": "ipython3",
   "version": "3.13.0"
  }
 },
 "nbformat": 4,
 "nbformat_minor": 5
}
