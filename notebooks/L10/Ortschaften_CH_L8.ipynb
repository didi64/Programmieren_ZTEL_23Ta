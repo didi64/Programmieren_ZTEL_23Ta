{
 "cells": [
  {
   "cell_type": "markdown",
   "id": "1c996f4a-c594-4d48-bc74-2c67d10a914d",
   "metadata": {},
   "source": [
    "### Ortschaften der Schweiz\n",
    "Das File `PLZO_CSV_LV95.csv` enth&auml;lt eine Tabelle mit Angaben zu Ortschaften in der Schweiz. Wir wollen uns einen &Uuml;berblick &uuml;ber diesen Datensatz verschaffen. Wir werfen einen genaueren Blick auf ie Ortschaftsnamen. "
   ]
  },
  {
   "cell_type": "code",
   "execution_count": null,
   "id": "e2a7e043-c9ba-447c-b008-f0d2fdccc668",
   "metadata": {},
   "outputs": [],
   "source": [
    "# File oeffnen, Zeilen von umgebendem Whitespace befreien und in Liste einlesen\n",
    "# Anzahl Zeilen ausgeben\n",
    "#PATH = '/home/studi/work/data/'\n",
    "#FILENAME = PATH + 'PLZO_CSV_LV95.csv'\n",
    "FILENAME = '../../data/PLZO_CSV_LV95.csv'\n",
    "with open(FILENAME, 'r') as f:\n",
    "    lines = [line.strip() for line in f]\n",
    "len(lines)"
   ]
  },
  {
   "cell_type": "code",
   "execution_count": null,
   "id": "e53dea65-9895-4e7c-b0dd-ea812592a928",
   "metadata": {},
   "outputs": [],
   "source": [
    "# 1., 2. und letzte Zeile ausgeben\n",
    "for i in (0, 1, -1):\n",
    "    print(lines[i])"
   ]
  },
  {
   "cell_type": "code",
   "execution_count": null,
   "id": "56e2f66a-9550-418e-a068-613149806c1f",
   "metadata": {},
   "outputs": [],
   "source": [
    "# Spaltenindex und Spaltenname ausgeben\n",
    "SEP = ';'\n",
    "header = lines[0].split(SEP)\n",
    "for i, col in enumerate(header):\n",
    "    print(i, col)"
   ]
  },
  {
   "cell_type": "code",
   "execution_count": null,
   "id": "e6ca9284-cbc1-4ce0-949b-90a69d2e86c8",
   "metadata": {},
   "outputs": [],
   "source": [
    "# Die Koordinaten interessieren uns im Moment nicht.\n",
    "# Um nicht im Kopf behalten zu muessen, welche Spalte welche Info enthaelt,\n",
    "# definieren wir entsprechende Konstanten\n",
    "ORT = 0\n",
    "PLZ = 1\n",
    "ZZ = 2\n",
    "GDE = 3\n",
    "KT = 4\n",
    "LG = 5\n",
    "cols = (0, 1, 2, 3, 5, 8)\n",
    "\n",
    "spalten = tuple(header[i] for i in cols)\n",
    "spalten"
   ]
  },
  {
   "cell_type": "code",
   "execution_count": null,
   "id": "7323b54f-7a2b-4512-8652-813659f5c79f",
   "metadata": {},
   "outputs": [],
   "source": [
    "# Datenzeilen erstellen mit ausgewaehlten Spalten\n",
    "rows = []\n",
    "for line in lines[1:]:\n",
    "    row = line.split(SEP)\n",
    "    row = [row[i] for i in cols]\n",
    "    rows.append(row)\n",
    "rows[0]"
   ]
  },
  {
   "cell_type": "code",
   "execution_count": null,
   "id": "c223335d-8672-4f7f-a2f1-e22ae902d963",
   "metadata": {},
   "outputs": [],
   "source": [
    "rows[1000][ORT], rows[1000][ZZ], rows[1000][LG]"
   ]
  },
  {
   "cell_type": "code",
   "execution_count": null,
   "id": "67746996-41c2-41b1-ba9b-88c262d9c64a",
   "metadata": {},
   "outputs": [],
   "source": [
    "# Zeilen mit fehlenden Angaben\n",
    "incomplete_rows = []\n",
    "for row in rows:\n",
    "    for item in row:\n",
    "        if item == '':\n",
    "            incomplete_rows.append(row)\n",
    "incomplete_rows"
   ]
  },
  {
   "cell_type": "code",
   "execution_count": null,
   "id": "80295b3d-be53-4d6f-a1b3-e8ec816f9c2f",
   "metadata": {},
   "outputs": [],
   "source": [
    "# Erstelle eine sortierte Liste mit den Ortsnamen\n",
    "orte = sorted(set(row[ORT] for row in rows))\n",
    "len(orte), orte[:3], orte[-3:]"
   ]
  },
  {
   "cell_type": "code",
   "execution_count": null,
   "id": "ae468838-6726-4c06-ae03-71ad724c22c9",
   "metadata": {},
   "outputs": [],
   "source": [
    "# Welche Zeichen kommen in den Ortsnamen vor?\n",
    "alphabet = set()\n",
    "for row in rows:\n",
    "    alphabet |= set(row[ORT])\n",
    "''.join(sorted(alphabet))"
   ]
  },
  {
   "cell_type": "code",
   "execution_count": null,
   "id": "779232b6-2235-426b-87e4-e63213ae966e",
   "metadata": {},
   "outputs": [],
   "source": [
    "# Liste der Ortsname, die Ziffern enthalten\n",
    "digits = '0123456789'\n",
    "orte_mit_ziffern = []\n",
    "for ort in orte:\n",
    "    for d in digits:\n",
    "        if d in ort:\n",
    "            orte_mit_ziffern.append(ort)\n",
    "            break\n",
    "orte_mit_ziffern"
   ]
  },
  {
   "cell_type": "code",
   "execution_count": null,
   "id": "48e47b5a-b98e-40a2-a8a9-2d7aea4d74e9",
   "metadata": {},
   "outputs": [],
   "source": [
    "# Zeilen ausgeben, wo Ortsname Ziffern enthaelt\n",
    "print(spalten)\n",
    "[row for row in rows if row[ORT] in orte_mit_ziffern]"
   ]
  },
  {
   "cell_type": "code",
   "execution_count": null,
   "id": "278091d7-c716-4566-9520-ba793433cb4a",
   "metadata": {},
   "outputs": [],
   "source": [
    "# Orte mit Ziffern aussondern (mit Ausnahme von Root D4)\n",
    "orte = [ort for ort in orte if not ort.split()[-1].isdigit()]\n",
    "len(orte)"
   ]
  },
  {
   "cell_type": "code",
   "execution_count": null,
   "id": "e6df8897-d875-46f4-b737-3518859a1cd5",
   "metadata": {},
   "outputs": [],
   "source": [
    "# Ortschaftsnamen mit 2 aufeinanderfolgenden Grossbuchstaben\n",
    "ORte = []\n",
    "for ort in orte:\n",
    "    n = len(ort)\n",
    "    for i in range(n-1):\n",
    "        if ort[i:i+2].isalpha() and ort[i:i+2].isupper():\n",
    "            ORte.append(ort)\n",
    "            break\n",
    "len(ORte), ORte[:5]"
   ]
  },
  {
   "cell_type": "code",
   "execution_count": null,
   "id": "a49a7fbc-f827-4cde-a437-2681ffeb71cf",
   "metadata": {},
   "outputs": [],
   "source": [
    "# Dictionary {<Kantonskuerzel>: <Kanton>, ...} importieren\n",
    "from kz_kt import d as kz_kt\n",
    "kz_kt"
   ]
  },
  {
   "cell_type": "code",
   "execution_count": null,
   "id": "2b3cdc9a-1748-4017-b27a-9ed0647a86e9",
   "metadata": {},
   "outputs": [],
   "source": [
    "# Ortsnamen mit einem Kantonskuerzel\n",
    "orte_kz = [ort for ort in orte if any(kz in ort for kz in kz_kt)]\n",
    "len(orte_kz), orte_kz[:2]"
   ]
  },
  {
   "cell_type": "code",
   "execution_count": null,
   "id": "168384e5-db4c-4cfc-9be9-b094c099922f",
   "metadata": {},
   "outputs": [],
   "source": [
    "# Hmmm, ORte und orte_kz sind nicht gleich\n",
    "set(ORte) - set(orte_kz)"
   ]
  },
  {
   "cell_type": "code",
   "execution_count": null,
   "id": "021f1b86-254b-484e-8a02-24c1e665ce13",
   "metadata": {},
   "outputs": [],
   "source": [
    "# FL wie ein Kantonskuerzel behandeln\n",
    "kz_kt['FL'] = 'Liechtenstein'"
   ]
  },
  {
   "cell_type": "code",
   "execution_count": null,
   "id": "3dfa8351-0d73-48ba-b0d9-c17e75d4537f",
   "metadata": {},
   "outputs": [],
   "source": [
    "# Ortsnamen mit Praezisierung in Klammern\n",
    "orte_bra = [ort for ort in orte if all(c in ort for c in '()')]\n",
    "orte_bra[:5]"
   ]
  },
  {
   "cell_type": "code",
   "execution_count": null,
   "id": "7161e06d-10fc-44c7-a145-2447f717c523",
   "metadata": {},
   "outputs": [],
   "source": [
    "from orte_helpers import remove_extraspace\n",
    "from orte_helpers import remove_bracket\n",
    "from orte_helpers import remove\n",
    "from orte_helpers import removes\n",
    "\n",
    "\n",
    "print(remove('abcdefgh', 'cde'))\n",
    "print(remove_extraspace(' foo  bar  bax '))\n",
    "print(remove_bracket('Foo (Bar) AG'))"
   ]
  },
  {
   "cell_type": "code",
   "execution_count": null,
   "id": "2e3d131a-92af-4840-a829-51a20826304e",
   "metadata": {},
   "outputs": [],
   "source": [
    "# ortsnamen: Klammern und Kt.kz entfernen\n",
    "orte_ = [remove_bracket(ort) for ort in orte]\n",
    "ortsnamen = [removes(ort, kz_kt) for ort in orte_]\n",
    "ortsnamen[:10]"
   ]
  },
  {
   "cell_type": "code",
   "execution_count": null,
   "id": "a90c17e0-386f-43cf-a691-f409c67d6d69",
   "metadata": {},
   "outputs": [],
   "source": [
    "# Ortsnamen mit 4 oder mehr Woertern\n",
    "orte_3s = [ort for ort in ortsnamen if ort.count(' ') >= 3]\n",
    "orte_3s"
   ]
  },
  {
   "cell_type": "code",
   "execution_count": null,
   "id": "3bb463ef-5bb8-4f97-8312-d2cbdaba1ec8",
   "metadata": {},
   "outputs": [],
   "source": [
    "# Ortsnamen mit 3 Woertern\n",
    "orte_2s = [ort for ort in ortsnamen if ort.count(' ') == 2]\n",
    "orte_2s"
   ]
  },
  {
   "cell_type": "code",
   "execution_count": null,
   "id": "9e55fd8c-9f34-4fd2-a73d-45d0c4b970fa",
   "metadata": {},
   "outputs": [],
   "source": [
    "len(ortsnamen)"
   ]
  },
  {
   "cell_type": "code",
   "execution_count": null,
   "id": "cbf4ef6c-bafc-448b-8d81-3adab6eb04d1",
   "metadata": {},
   "outputs": [],
   "source": [
    "ortsnamen[:10]"
   ]
  },
  {
   "cell_type": "code",
   "execution_count": null,
   "id": "fc7517b0-bd41-402e-9707-dfec9e8ac787",
   "metadata": {},
   "outputs": [],
   "source": []
  },
  {
   "cell_type": "code",
   "execution_count": null,
   "id": "13aecf64-ab53-4981-aaa3-52142852423c",
   "metadata": {},
   "outputs": [],
   "source": []
  }
 ],
 "metadata": {
  "author": "dieter.probst@gmail.com",
  "kernelspec": {
   "display_name": "Python 3 (ipykernel)",
   "language": "python",
   "name": "python3"
  },
  "language_info": {
   "codemirror_mode": {
    "name": "ipython",
    "version": 3
   },
   "file_extension": ".py",
   "mimetype": "text/x-python",
   "name": "python",
   "nbconvert_exporter": "python",
   "pygments_lexer": "ipython3",
   "version": "3.13.0"
  }
 },
 "nbformat": 4,
 "nbformat_minor": 5
}
