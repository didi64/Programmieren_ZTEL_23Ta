{
 "cells": [
  {
   "cell_type": "code",
   "execution_count": 6,
   "id": "1d02c000-14ba-4076-8c64-f20a45eda411",
   "metadata": {},
   "outputs": [
    {
     "data": {
      "text/plain": [
       "([1, 2, 3], [1, 2, 3])"
      ]
     },
     "execution_count": 6,
     "metadata": {},
     "output_type": "execute_result"
    }
   ],
   "source": [
    "xs = [1, 2, 3]\n",
    "ys = []\n",
    "\n",
    "for x in xs:\n",
    "    ys.append(x)\n",
    "\n",
    "xs, ys"
   ]
  },
  {
   "cell_type": "code",
   "execution_count": 10,
   "id": "3c69b5ac-36f9-48f3-ba72-2197302008a3",
   "metadata": {},
   "outputs": [
    {
     "data": {
      "text/plain": [
       "([2, 3], [1, 3])"
      ]
     },
     "execution_count": 10,
     "metadata": {},
     "output_type": "execute_result"
    }
   ],
   "source": [
    "xs = [1, 2, 3]\n",
    "ys = []\n",
    "\n",
    "for x in xs:\n",
    "    ys.append(x)\n",
    "    if x == 1:\n",
    "        xs.remove(x)\n",
    "\n",
    "xs, ys"
   ]
  },
  {
   "cell_type": "code",
   "execution_count": 16,
   "id": "3a77dbfe-0821-45ed-a3f3-5535b82df55a",
   "metadata": {},
   "outputs": [],
   "source": [
    "def xy2idx(x, y, ncols):\n",
    "    return y*ncols + x\n",
    "\n",
    "\n",
    "def idx2xy(idx, ncols):\n",
    "    x = idx % ncols\n",
    "    y = idx // ncols\n",
    "    return x, y"
   ]
  },
  {
   "cell_type": "code",
   "execution_count": 18,
   "id": "df5a0ff3-7380-4aa6-b168-5ef33b2c5a13",
   "metadata": {},
   "outputs": [
    {
     "data": {
      "text/plain": [
       "[[0, 0, 0, 0, 0, 0, 0, 0],\n",
       " [0, 0, 0, 0, 0, 0, 0, 0],\n",
       " [0, 0, 0, 0, 0, 0, 0, 0],\n",
       " [0, 0, 0, 0, 0, 0, 0, 0],\n",
       " [0, 0, 0, 0, 0, 0, 0, 0]]"
      ]
     },
     "execution_count": 18,
     "metadata": {},
     "output_type": "execute_result"
    }
   ],
   "source": [
    "ncols = 8\n",
    "nrows = 5\n",
    "\n",
    "table = [[0] * ncols for _ in range(nrows)]\n",
    "table"
   ]
  },
  {
   "cell_type": "code",
   "execution_count": 19,
   "id": "464367a8-f6ab-4cd9-9d81-5d1688c528c8",
   "metadata": {},
   "outputs": [
    {
     "data": {
      "text/plain": [
       "[[0, 0, 0, 0, 0, 0, 0, 0],\n",
       " [0, 0, 0, 0, 0, 0, 0, 0],\n",
       " [0, 0, 0, 0, 0, 0, 0, 0],\n",
       " [0, 0, 0, 0, 0, 0, 0, 0],\n",
       " [0, 0, 0, 0, 0, 0, 0, 0]]"
      ]
     },
     "execution_count": 19,
     "metadata": {},
     "output_type": "execute_result"
    }
   ],
   "source": [
    "table = []\n",
    "for _ in range(nrows):\n",
    "    row = [0] * ncols\n",
    "    table.append(row)\n",
    "\n",
    "table"
   ]
  },
  {
   "cell_type": "code",
   "execution_count": 20,
   "id": "b45a8e5a-54bd-49c7-8c52-73335b8ff9a8",
   "metadata": {},
   "outputs": [
    {
     "data": {
      "text/plain": [
       "[[0, 1, 2, 3, 4, 5, 6, 7],\n",
       " [8, 9, 10, 11, 12, 13, 14, 15],\n",
       " [16, 17, 18, 19, 20, 21, 22, 23],\n",
       " [24, 25, 26, 27, 28, 29, 30, 31],\n",
       " [32, 33, 34, 35, 36, 37, 38, 39]]"
      ]
     },
     "execution_count": 20,
     "metadata": {},
     "output_type": "execute_result"
    }
   ],
   "source": [
    "for i in range(ncols*nrows):\n",
    "    x, y = idx2xy(i, ncols)\n",
    "    table[y][x] = i\n",
    "table"
   ]
  },
  {
   "cell_type": "code",
   "execution_count": 21,
   "id": "db26c1cc-fc4c-419d-a8c4-eae2fc47e894",
   "metadata": {},
   "outputs": [
    {
     "data": {
      "text/plain": [
       "[(0, 8, 16, 24, 32),\n",
       " (1, 9, 17, 25, 33),\n",
       " (2, 10, 18, 26, 34),\n",
       " (3, 11, 19, 27, 35),\n",
       " (4, 12, 20, 28, 36),\n",
       " (5, 13, 21, 29, 37),\n",
       " (6, 14, 22, 30, 38),\n",
       " (7, 15, 23, 31, 39)]"
      ]
     },
     "execution_count": 21,
     "metadata": {},
     "output_type": "execute_result"
    }
   ],
   "source": [
    "# NB\n",
    "list(zip(*table))"
   ]
  },
  {
   "cell_type": "code",
   "execution_count": 27,
   "id": "9bae07ce-9004-496d-a568-1d34b99b1874",
   "metadata": {},
   "outputs": [
    {
     "data": {
      "text/plain": [
       "[[' 0', ' 1', ' 2', ' 3', ' 4', ' 5', ' 6', ' 7'],\n",
       " [' 8', ' 9', '10', '11', '12', '13', '14', '15'],\n",
       " ['16', '17', '18', '19', '20', '21', '22', '23'],\n",
       " ['24', '25', '26', '27', '28', '29', '30', '31'],\n",
       " ['32', '33', '34', '35', '36', '37', '38', '39']]"
      ]
     },
     "execution_count": 27,
     "metadata": {},
     "output_type": "execute_result"
    }
   ],
   "source": [
    "fmt = '{:>2}'\n",
    "for i in range(ncols*nrows):\n",
    "    x, y = idx2xy(i, ncols)\n",
    "    table[y][x] = fmt.format(i)\n",
    "table"
   ]
  },
  {
   "cell_type": "code",
   "execution_count": 25,
   "id": "f7a1bf06-aaf9-4b5b-8d62-48809036f4d8",
   "metadata": {},
   "outputs": [
    {
     "data": {
      "text/plain": [
       "[(' 0', ' 8', '16', '24', '32'),\n",
       " (' 1', ' 9', '17', '25', '33'),\n",
       " (' 2', '10', '18', '26', '34'),\n",
       " (' 3', '11', '19', '27', '35'),\n",
       " (' 4', '12', '20', '28', '36'),\n",
       " (' 5', '13', '21', '29', '37'),\n",
       " (' 6', '14', '22', '30', '38'),\n",
       " (' 7', '15', '23', '31', '39')]"
      ]
     },
     "execution_count": 25,
     "metadata": {},
     "output_type": "execute_result"
    }
   ],
   "source": [
    "table_t = list(zip(*table))\n",
    "table_t"
   ]
  },
  {
   "cell_type": "code",
   "execution_count": 26,
   "id": "042d94f2-5d50-488e-8f24-fc8e9b249b7d",
   "metadata": {},
   "outputs": [
    {
     "data": {
      "text/plain": [
       "[(' 0', ' 1', ' 2', ' 3', ' 4', ' 5', ' 6', ' 7'),\n",
       " (' 8', ' 9', '10', '11', '12', '13', '14', '15'),\n",
       " ('16', '17', '18', '19', '20', '21', '22', '23'),\n",
       " ('24', '25', '26', '27', '28', '29', '30', '31'),\n",
       " ('32', '33', '34', '35', '36', '37', '38', '39')]"
      ]
     },
     "execution_count": 26,
     "metadata": {},
     "output_type": "execute_result"
    }
   ],
   "source": [
    "table_tt = list(zip(*table_t))\n",
    "table_tt"
   ]
  },
  {
   "cell_type": "code",
   "execution_count": 62,
   "id": "f09bf402-6f77-4860-85a4-e3b912ad92ae",
   "metadata": {},
   "outputs": [
    {
     "data": {
      "text/plain": [
       "[' 0  1  2  3  4  5  6  7',\n",
       " ' 8  9 10 11 12 13 14 15',\n",
       " '16 17 18 19 20 21 22 23',\n",
       " '24 25 26 27 28 29 30 31',\n",
       " '32 33 34 35 36 37 38 39']"
      ]
     },
     "execution_count": 62,
     "metadata": {},
     "output_type": "execute_result"
    }
   ],
   "source": [
    "lines = [' '.join(table[i]) for i in range(nrows)]\n",
    "lines"
   ]
  },
  {
   "cell_type": "code",
   "execution_count": 64,
   "id": "e5a85766-e427-4643-a376-19cdcc3c9c27",
   "metadata": {},
   "outputs": [
    {
     "name": "stdout",
     "output_type": "stream",
     "text": [
      " 0  1  2  3  4  5  6  7\n",
      " 8  9 10 11 12 13 14 15\n",
      "16 17 18 19 20 21 22 23\n",
      "24 25 26 27 28 29 30 31\n",
      "32 33 34 35 36 37 38 39\n"
     ]
    }
   ],
   "source": [
    "s = '\\n'.join(lines)\n",
    "print(s)"
   ]
  },
  {
   "cell_type": "code",
   "execution_count": 18,
   "id": "014e332f-3b92-47af-8ebf-d9f67ec8c253",
   "metadata": {},
   "outputs": [
    {
     "name": "stdout",
     "output_type": "stream",
     "text": [
      "3.142\n",
      "3.142\n"
     ]
    }
   ],
   "source": [
    "# float\n",
    "x = 3.14159\n",
    "print('{:5.3f}'.format(x))\n",
    "print(round(x, 3))"
   ]
  },
  {
   "cell_type": "code",
   "execution_count": 19,
   "id": "3539e697-80d3-49c5-8ab1-f29fd2f880b2",
   "metadata": {},
   "outputs": [
    {
     "data": {
      "text/plain": [
       "'foo       '"
      ]
     },
     "execution_count": 19,
     "metadata": {},
     "output_type": "execute_result"
    }
   ],
   "source": [
    "# str\n",
    "s = 'foo'\n",
    "s.ljust(10)  # linksbuendig, Laenge mind. 10"
   ]
  },
  {
   "cell_type": "code",
   "execution_count": 20,
   "id": "8d1d635c-1065-4bc2-901a-3769c05e08b2",
   "metadata": {},
   "outputs": [
    {
     "data": {
      "text/plain": [
       "'       foo'"
      ]
     },
     "execution_count": 20,
     "metadata": {},
     "output_type": "execute_result"
    }
   ],
   "source": [
    "s.rjust(10)  # rechtsbuendig, Laenge mind. 10"
   ]
  },
  {
   "cell_type": "code",
   "execution_count": 21,
   "id": "f974f24b-c317-4513-bb6f-4c1e37907515",
   "metadata": {},
   "outputs": [],
   "source": [
    "def sorted_dict(d, key=None, reverse=False):\n",
    "    return dict(sorted(d.items(), key=key, reverse=reverse))"
   ]
  },
  {
   "cell_type": "code",
   "execution_count": 25,
   "id": "d12cd5aa-4eef-440f-a425-150c1f975751",
   "metadata": {},
   "outputs": [
    {
     "data": {
      "text/plain": [
       "{'c': 1, 'a': 2, 'b': 3}"
      ]
     },
     "execution_count": 25,
     "metadata": {},
     "output_type": "execute_result"
    }
   ],
   "source": [
    "d = dict(zip('cab', range(1, 4)))\n",
    "d"
   ]
  },
  {
   "cell_type": "code",
   "execution_count": 26,
   "id": "7e10ecbe-3d76-413c-8833-eca5143aa241",
   "metadata": {},
   "outputs": [
    {
     "data": {
      "text/plain": [
       "{'c': 1, 'a': 2, 'b': 3}"
      ]
     },
     "execution_count": 26,
     "metadata": {},
     "output_type": "execute_result"
    }
   ],
   "source": [
    "# nach Werten aufsteigend\n",
    "sorted_dict(d, key=lambda x: x[1])"
   ]
  },
  {
   "cell_type": "code",
   "execution_count": 27,
   "id": "22f5d94b-7700-462c-9b47-01cc3af95753",
   "metadata": {},
   "outputs": [
    {
     "data": {
      "text/plain": [
       "{'b': 3, 'a': 2, 'c': 1}"
      ]
     },
     "execution_count": 27,
     "metadata": {},
     "output_type": "execute_result"
    }
   ],
   "source": [
    "# nach Werten absteigend\n",
    "sorted_dict(d, key=lambda x: x[1], reverse=True)"
   ]
  }
 ],
 "metadata": {
  "kernelspec": {
   "display_name": "Python 3 (ipykernel)",
   "language": "python",
   "name": "python3"
  },
  "language_info": {
   "codemirror_mode": {
    "name": "ipython",
    "version": 3
   },
   "file_extension": ".py",
   "mimetype": "text/x-python",
   "name": "python",
   "nbconvert_exporter": "python",
   "pygments_lexer": "ipython3",
   "version": "3.13.0"
  }
 },
 "nbformat": 4,
 "nbformat_minor": 5
}
