{
 "cells": [
  {
   "cell_type": "code",
   "execution_count": 4,
   "id": "9c70e395-b86f-431d-9850-2c75e71fda70",
   "metadata": {},
   "outputs": [],
   "source": [
    "import solutions"
   ]
  },
  {
   "cell_type": "markdown",
   "id": "fba46fbd-2588-4139-9d75-2515219713fd",
   "metadata": {},
   "source": [
    "### Test Pr&uuml;fungsablauf\n",
    "1. F&uuml;hre die oberste Codezelle aus.\n",
    "  Alle zu programmierenden Funktionen sind im Modul\n",
    "  `solutions`. Das erlaubt, die Funktionen auszuf&uuml;hren.\n",
    "  Das Modul ist kompiliert, also ein bin&auml;res File. Ein Blick auf diese File liefert keine brauchbaren Informationen.\n",
    "2. Erstelle ev. ein Notebook um Sachen auszuprobieren.\n",
    "3. L&ouml;se/ kopiere deine L&ouml;sungen in dieses Notebook.\n",
    "4. Abgabe: Kopiere dieses Notebook in den Ordner Share.\n",
    "   Tippe dann  \n",
    "   `!sync_share` in einer Code-Zelle und f&uuml;hre diese aus."
   ]
  },
  {
   "cell_type": "code",
   "execution_count": 16,
   "id": "c75832a7-153f-41b8-9a5e-3f6cd3d7237c",
   "metadata": {},
   "outputs": [
    {
     "name": "stdout",
     "output_type": "stream",
     "text": [
      "M-s^M^M$\n",
      "^@^@^@^@M-B(ygM-=^C^@^@M-c^@^@^@^@^@^@^@^@^@^@^@^@^D^@^@^@^@^@^@^@M-s4^@^@^@M-^U^@S^@S^AK^@r^@S^B^Z^@r^AS^C^Z^@r^BS^D^Z^@r^CS^E^Z^@r^DS^FS^GS^HS^I.^Cr^E0^@r^Fg^A)$\n",
      "M-i^@^@^@^@Nc^C^@^@^@^@^@^@^@^@^@^@^@^B^@^@^@^C^@^@^@M-s^P^@^@^@M-^U^@X^R-^E^@^@U^@-^@^@^@$^@M-)^ANM-)^@)^CM-Z^AxM-Z^AyM-Z^Encolss^C^@^@^@   M-Z^Lsolutions.pyM-Z^Fxy2idxr$\n",
      "^@^@^@^D^@^@^@s^N^@^@^@M-^@^@M-X^K^LM-^I7M-^PQM-^I;M-P^D^VM-s^@^@^@^@c^B^@^@^@^@^@^@^@^@^@^@^@^B^@^@^@^C^@^@^@M-s^X^@^@^@M-^U^@X^A-^F^@^@n^BX^A-^B^@^@n^CX#4^B$^@r^D^@^@^@r^E^@^@^@)^DM-Z^Cidxr^H^@^@^@r^F^@^@^@r^G^@^@^@s^D^@^@^@    r^I^@^@^@M-Z^Fidx2xyr^N^@^@^@^H^@^@^@s^W^@^@^@M-^@^@M-X^H^KM-^I^KM-^@AM-X^H^KM-^I^LM-^@AM-X^K^LM-^H4M-^@Kr^K^@^@^@c^A^@^@^@^@^@^@^@^@^@^@^@^D^@^@^@^C^@^@^@M-st^@^@^@M-^U^@U^@[^A^@^@^@^@^@^@^@^@U^@5^A^@^@^@^@^@^@:X^@^@a^K^@^@[^A^@^@^@^@^@^@^@^@U^@5^A^@^@^@^@^@^@$^@U^@S^A:M-^T^@^@a^N^@^@[^A^@^@^@^@^@^@^@^@U^@5^A^@^@^@^@^@^@S^B-^@^@^@$^@[^A^@^@^@^@^@^@^@^@U^@5^A^@^@^@^@^@^@$^@)^CNr^B^@^@^@M-i^A^@^@^@)^AM-Z^Cint)^Ar^F^@^@^@s^A^@^@^@ r^I^@^@^@M-Z^Dceilr^R^@^@^@^N^@^@^@s4^@^@^@M-^@^@M-X^G^HM-^LCM-^P^AM-^KFM-^C{M-\\^O^RM-^P1M-^KvM-^H^MM-X^G^HM-^H1M-^CuM-\\^O^RM-^P1M-^KvM-^X^AM-^IzM-P^H^YM-d^O^RM-^P1M-^KvM-^H^Mr^K^@^@^@c^B^@^@^@^@^@^@^@^@^@^@^@^G^@^@^@^C^@^@^@M-s^P^A^@^@M-^U^@U^@[^@^@^@^@^@^@^@^@^@;^@^@^@a^Y^@^@[^@^@^@^@^@^@^@^@^@U^@^E^@^@^@u^B^@^@p#[^C^@^@^@^@^@^@^@^@5^@^@^@^@^@^@^@U^@^E^@^@^@n^DONU^@[^D^@^@^@^@^@^@^@^@;^@^@^@a9^@^@S^A[^D^@^@^@^@^@^@^@^@U^@^E^@^@^@p2[^C^@^@^@^@^@^@^@^@5^@^@^@^@^@^@^@U^@^E^@^@^@n^D[^C^@^@^@^@^@^@^@^@5^@^@^@^@^@^@^@U^@S^B-^@^@^@^E^@^@^@n^EU^E\"^@U^A5^A^@^@^@^@^@^@n^AU^E\"^@U^DS^C5^B^@^@^@^@^@^@n^DO^K[^G^@^@^@^@^@^@^@^@S^D5^A^@^@^@^@^@^@e^A[^H^@^@^@^@^@^@^@^@R^H^@^@^@^@^@^@^@^@^@^@^@^@^@^@^@^@^@^@\"^@X^SXBS^E9^D ^@g^@)^FNM-Z^DbothM-Z^E_wrapTz^LNo such test)^AM-Z^Echeck)^EM-Z^EtestsM-Z^GglobalsM-Z^Psideeffect_testsM-Z$\n",
      "ValueErrorM-Z^Gtesting)^FM-Z^Hfun_nameM-Z^Afr^V^@^@^@M-Z^BxsM-Z^Ef_refM-Z^Dwraps^F^@^@^@      r^I^@^@^@M-Z^Gdo_testr!^@^@^@^W^@^@^@sM-^B^@^@^@M-^@^@M-X^G^OM-^T5M-S^G^XM-\\^T^YM-^X(M-^QOM-^I^IM-^H^EM-\\^P^WM-^S^IM-^X(M-Q^P#M-^I^EM-X^I^QM-T^U%M-S^I%M-X^T^ZM-T^\\,M-(XM-Q^\\6M-^HrM-\\^P^WM-^S^IM-^X(M-Q^P#M-^H^EM-\\^O^VM-^KyM-^X^XM- GM-Q^Y+M-Q^O,M-^H^DM-Y^L^PM-^P^QM-^KGM-^H^AM-Y^P^TM-^PUM-^XDM-S^P!M-^I^EM-d^N^XM-^X^^M-S^N(M-P^H(M-\\^D^KM-^GOM-^BOM-^PAM-^X5M-S^D.r^K^@^@^@)^Br^T^@^@^@)^C)^CM-i^D^@^@^@r^B^@^@^@M-i^E^@^@^@)^CM-i^C^@^@^@M-i^L^@^@^@M-i^G^@^@^@)^Cr^B^@^@^@r$^@^@^@r#^@^@^@)^Br^T^@^@^@)^C)^Br\"^@^@^@r#^@^@^@)^BM-iW^@^@^@r&^@^@^@)^BM-i^O^@^@^@r#^@^@^@)^Br^T^@^@^@)^HgffffffM-~M-?gM-MM-LM-LM-LM-LM-LM-lM-?gM-^ZM-^YM-^YM-^YM-^YM-^YM-9M-?r^B^@^@^@g^@^@^@^@^@^@^@^@gM-^ZM-^YM-^YM-^YM-^YM-^YM-9?gM-^ZM-^YM-^YM-^YM-^YM-^YM-q?gffffffM-~?)^Cr$\n",
      "^@^@^@r^N^@^@^@r^R^@^@^@)^Gr^[^@^@^@r$\n",
      "^@^@^@r^N^@^@^@r^R^@^@^@r!^@^@^@r^W^@^@^@r^Y^@^@^@r^E^@^@^@r^K^@^@^@r^I^@^@^@M-Z^H<module>r)^@^@^@^A^@^@^@s7^@^@^@M-p^C^A^A^AM-[^@^NM-r^F^A^A^WM-r^H^C^A^PM-r^L^F^A^VM-r^R^L^A/M-p^^^@^T@^AM-X^S7M-X^QDM-q^E^C^I^KM-^@^EM-p$\n",
      "^@^T^VM-Q^@^Pr^K^@^@^@"
     ]
    }
   ],
   "source": [
    "# Kompiliertes Modul solutions anzeigen\n",
    "!cat -A solutions.pyc"
   ]
  },
  {
   "cell_type": "markdown",
   "id": "8af8d0e8-4176-4041-b1bf-3e9416ec4534",
   "metadata": {},
   "source": [
    "### Kurzaufgaben\n",
    "Die Kurzaufgaben lassen sich mit 2-3 Zeilen Code l&ouml;sen.\n",
    "1. Finde die Position des Leerzeichen im String\n",
    "   `'foo bar'`. Verwende keine Stringmethoden.\n",
    "1. Ersetze im String `'foo bar'` das Leerzeichen durch\n",
    "   einen Bindestrich  (`'foo-bar'`). Verwende keine Stringmethoden."
   ]
  },
  {
   "cell_type": "code",
   "execution_count": 33,
   "id": "14c1d500-d599-48be-b7e6-d14bc8875e8b",
   "metadata": {},
   "outputs": [],
   "source": [
    "# definiere relevante Variabeln\n",
    "s = 'foo bar'\n",
    "SPACE = ' '"
   ]
  },
  {
   "cell_type": "code",
   "execution_count": 39,
   "id": "53134633-f9c2-4ba8-ae00-697c61ca0900",
   "metadata": {},
   "outputs": [
    {
     "data": {
      "text/plain": [
       "3"
      ]
     },
     "execution_count": 39,
     "metadata": {},
     "output_type": "execute_result"
    }
   ],
   "source": [
    "# 1a\n",
    "n = len(s)\n",
    "positions = [i for i in range(n) if s[i] == SPACE]\n",
    "positions[0]"
   ]
  },
  {
   "cell_type": "code",
   "execution_count": 38,
   "id": "bf4a5b39-955f-47fa-ac6e-715b59ac205c",
   "metadata": {},
   "outputs": [
    {
     "data": {
      "text/plain": [
       "3"
      ]
     },
     "execution_count": 38,
     "metadata": {},
     "output_type": "execute_result"
    }
   ],
   "source": [
    "# 1b)\n",
    "[i for i, c in enumerate(s) if c == ' '][0]"
   ]
  },
  {
   "cell_type": "code",
   "execution_count": 37,
   "id": "309d8e2e-22da-460d-9546-3a6344673d1e",
   "metadata": {},
   "outputs": [
    {
     "data": {
      "text/plain": [
       "3"
      ]
     },
     "execution_count": 37,
     "metadata": {},
     "output_type": "execute_result"
    }
   ],
   "source": [
    "# 1c)\n",
    "i = 0\n",
    "for c in s:\n",
    "    if c == ' ':\n",
    "        break\n",
    "    i += 1\n",
    "\n",
    "i"
   ]
  },
  {
   "cell_type": "code",
   "execution_count": 36,
   "id": "d214cd20-1bf5-4233-a73a-a65254893c86",
   "metadata": {},
   "outputs": [
    {
     "data": {
      "text/plain": [
       "3"
      ]
     },
     "execution_count": 36,
     "metadata": {},
     "output_type": "execute_result"
    }
   ],
   "source": [
    "# 1d)\n",
    "for i, c in enumerate(s):\n",
    "    if c == ' ':\n",
    "        break\n",
    "i"
   ]
  },
  {
   "cell_type": "code",
   "execution_count": null,
   "id": "872f29c1-c840-47f5-8167-15b28bf0dfe1",
   "metadata": {},
   "outputs": [],
   "source": [
    "# Aufgabe 2)\n",
    "# definiere relevante Variabeln\n",
    "s = 'foo bar'\n",
    "i = 3  # Position von ' '"
   ]
  },
  {
   "cell_type": "code",
   "execution_count": 40,
   "id": "fa2adebe-db6f-49d2-9f13-daac846a7649",
   "metadata": {},
   "outputs": [
    {
     "data": {
      "text/plain": [
       "'foo-bar'"
      ]
     },
     "execution_count": 40,
     "metadata": {},
     "output_type": "execute_result"
    }
   ],
   "source": [
    "# 2a)\n",
    "s[:i] + '-' + s[i+1:]"
   ]
  },
  {
   "cell_type": "code",
   "execution_count": 41,
   "id": "ec43de17-2b7f-49b7-8308-62fc74252204",
   "metadata": {},
   "outputs": [
    {
     "data": {
      "text/plain": [
       "'foo bar'"
      ]
     },
     "execution_count": 41,
     "metadata": {},
     "output_type": "execute_result"
    }
   ],
   "source": [
    "# 2b)\n",
    "letters = [c if c != '-' else c for c in s]\n",
    "''.join(letters)"
   ]
  },
  {
   "cell_type": "code",
   "execution_count": null,
   "id": "9bc91645-040c-4705-b1ec-0a8eed3f571b",
   "metadata": {},
   "outputs": [],
   "source": []
  },
  {
   "cell_type": "markdown",
   "id": "9cdaea2e-2bfb-4273-bcef-c3f0a210fbbe",
   "metadata": {},
   "source": [
    "### Aufgaben  \n",
    "Bei den (normalen) Aufgaben ist eine Funktion zu schreiben. \n",
    "\n",
    "\n",
    "1. Schreibe eine Funktion `xy2idx(x, y, ncols)`, die\n",
    "den Index des Feldes in Spalte `x`, Zeile `y` einer Tabelle mit\n",
    "`ncols` Spalten berechnet.\n",
    "1. Schreibe eine Funktion `idx2xy(idx, ncols)`, die\n",
    "die Spalte und Zeile des Feldes mit Index `idx` einer Tabelle mit\n",
    "`ncols` Spalten berechnet.\n",
    "1. Implementiere eine Funktion `ceil(x)` welche einen **int** zur&uuml;ckgibt, und zwar die kleinste ganze Zahl, die **gr&ouml;sser gleich** x ist."
   ]
  },
  {
   "cell_type": "code",
   "execution_count": 7,
   "id": "ad129c4f-78f7-4347-aef8-5d87d43853e3",
   "metadata": {},
   "outputs": [],
   "source": [
    "def xy2idx(x, y, ncols):\n",
    "    ..."
   ]
  },
  {
   "cell_type": "code",
   "execution_count": null,
   "id": "55307bb3-ca64-44b7-b16b-d639621533ad",
   "metadata": {},
   "outputs": [],
   "source": []
  },
  {
   "cell_type": "code",
   "execution_count": 6,
   "id": "79b3e135-117f-4d42-a3ee-9dbdfd2026f9",
   "metadata": {},
   "outputs": [
    {
     "name": "stderr",
     "output_type": "stream",
     "text": [
      "\u001b[22;31m3/3 tests failed.\u001b[0m\n",
      "\u001b[22;94mtest|args      |got |expected\u001b[0m\n",
      "\u001b[22;94m-----------------------------\u001b[0m\n",
      "\u001b[22;94m1   |(4, 0, 5) |None|4       \u001b[0m\n",
      "\u001b[22;94m2   |(3, 12, 7)|None|87      \u001b[0m\n",
      "\u001b[22;94m3   |(0, 3, 5) |None|15      \u001b[0m\n"
     ]
    }
   ],
   "source": [
    "solutions.do_test('xy2idx', xy2idx)"
   ]
  },
  {
   "cell_type": "code",
   "execution_count": 4,
   "id": "08af8569-18f6-4f4b-8e3d-b3d76331960f",
   "metadata": {},
   "outputs": [],
   "source": [
    "def idx2xy(idx, ncols):\n",
    "    ..."
   ]
  },
  {
   "cell_type": "code",
   "execution_count": null,
   "id": "4dd8a316-a2b2-41cf-aaad-76c1c535111a",
   "metadata": {},
   "outputs": [],
   "source": []
  },
  {
   "cell_type": "code",
   "execution_count": 5,
   "id": "b2e255e8-3427-4630-bbca-0c4e7c6a521b",
   "metadata": {},
   "outputs": [
    {
     "name": "stderr",
     "output_type": "stream",
     "text": [
      "\u001b[22;31m3/3 tests failed.\u001b[0m\n",
      "\u001b[22;94mtest|args   |got |expected\u001b[0m\n",
      "\u001b[22;94m--------------------------\u001b[0m\n",
      "\u001b[22;94m1   |(4, 5) |None|(4, 0)  \u001b[0m\n",
      "\u001b[22;94m2   |(87, 7)|None|(3, 12) \u001b[0m\n",
      "\u001b[22;94m3   |(10, 5)|None|(0, 2)  \u001b[0m\n"
     ]
    }
   ],
   "source": [
    "solutions.do_test('idx2xy', idx2xy)"
   ]
  },
  {
   "cell_type": "code",
   "execution_count": 8,
   "id": "4a9f1ca8-2804-4c28-bf84-8b3987e9fa3a",
   "metadata": {},
   "outputs": [],
   "source": [
    "def ceil(x):\n",
    "    ..."
   ]
  },
  {
   "cell_type": "code",
   "execution_count": null,
   "id": "070a7993-c6af-46ff-a2cf-b9dee40f0a1a",
   "metadata": {},
   "outputs": [],
   "source": []
  },
  {
   "cell_type": "code",
   "execution_count": 9,
   "id": "68904476-f0f5-4732-ae86-f3d16c102695",
   "metadata": {},
   "outputs": [
    {
     "name": "stderr",
     "output_type": "stream",
     "text": [
      "\u001b[22;31m8/8 tests failed.\u001b[0m\n",
      "\u001b[22;94mtest|args|got |expected\u001b[0m\n",
      "\u001b[22;94m-----------------------\u001b[0m\n",
      "\u001b[22;94m1   |-1.9|None|-1      \u001b[0m\n",
      "\u001b[22;94m2   |-0.9|None|0       \u001b[0m\n",
      "\u001b[22;94m3   |-0.1|None|0       \u001b[0m\n",
      "\u001b[22;94m4   |0   |None|0       \u001b[0m\n",
      "\u001b[22;94m5   |0.0 |None|0       \u001b[0m\n",
      "\u001b[22;94m6   |0.1 |None|1       \u001b[0m\n",
      "\u001b[22;94m7   |1.1 |None|2       \u001b[0m\n",
      "\u001b[22;94m8   |1.9 |None|2       \u001b[0m\n"
     ]
    }
   ],
   "source": [
    "solutions.do_test('ceil', ceil)"
   ]
  },
  {
   "cell_type": "code",
   "execution_count": null,
   "id": "383882db-b2cd-472d-9130-9d7f08c96eb0",
   "metadata": {},
   "outputs": [],
   "source": []
  }
 ],
 "metadata": {
  "kernelspec": {
   "display_name": "Python 3 (ipykernel)",
   "language": "python",
   "name": "python3"
  },
  "language_info": {
   "codemirror_mode": {
    "name": "ipython",
    "version": 3
   },
   "file_extension": ".py",
   "mimetype": "text/x-python",
   "name": "python",
   "nbconvert_exporter": "python",
   "pygments_lexer": "ipython3",
   "version": "3.13.0"
  }
 },
 "nbformat": 4,
 "nbformat_minor": 5
}
