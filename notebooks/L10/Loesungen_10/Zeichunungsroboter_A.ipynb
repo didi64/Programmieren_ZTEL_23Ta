{
 "cells": [
  {
   "cell_type": "code",
   "execution_count": null,
   "id": "b640841a-36f2-42cb-a6be-fd65eb1c69e6",
   "metadata": {},
   "outputs": [],
   "source": [
    "import zeichnungsautomat as ZA\n",
    "WIDTH = 300\n",
    "HEIGHT = 200\n",
    "automat, canvas = ZA.get_automat_and_canvas(width=WIDTH, height=HEIGHT)\n",
    "canvas"
   ]
  },
  {
   "cell_type": "code",
   "execution_count": null,
   "id": "f4b7d20d-711d-43eb-aaff-b7db69082b10",
   "metadata": {},
   "outputs": [],
   "source": [
    "minus = 'l12;sblue;g100,100;dg200,100;'\n",
    "T = minus + 'uG-50,0;dG0,75;'\n",
    "div_sign = minus + 'fblue;ug150,125;C10;g150,75;C10;'"
   ]
  },
  {
   "cell_type": "code",
   "execution_count": null,
   "id": "673a764f-2feb-4e8f-bebe-d121ccaec081",
   "metadata": {},
   "outputs": [],
   "source": [
    "colors = ['red', 'blue', 'yellow', 'teal', 'orange', 'pink']\n",
    "size = 25\n",
    "fmt = 'f{color};R{size},{size};G{size},0;'\n",
    "cmds = [fmt.format(color=color, size=size) for color in colors]\n",
    "colored_rects = ''.join(cmds)"
   ]
  },
  {
   "cell_type": "code",
   "execution_count": null,
   "id": "87732db9-5f2f-4495-9f74-33a630cff75c",
   "metadata": {},
   "outputs": [],
   "source": [
    "canvas.reset()\n",
    "automat.read(T)"
   ]
  },
  {
   "cell_type": "code",
   "execution_count": null,
   "id": "634161e5-4297-4ac1-8c61-d4008293310f",
   "metadata": {},
   "outputs": [],
   "source": [
    "canvas.reset()\n",
    "automat.read(div_sign)"
   ]
  },
  {
   "cell_type": "code",
   "execution_count": null,
   "id": "b4cc3ccd-b9af-42d9-96e5-973ea2618074",
   "metadata": {},
   "outputs": [],
   "source": [
    "canvas.reset()\n",
    "automat.read(colored_rects)"
   ]
  },
  {
   "cell_type": "code",
   "execution_count": null,
   "id": "4238475d-821d-4ae1-920b-e0270960f6d2",
   "metadata": {},
   "outputs": [],
   "source": []
  }
 ],
 "metadata": {
  "kernelspec": {
   "display_name": "Python 3 (ipykernel)",
   "language": "python",
   "name": "python3"
  },
  "language_info": {
   "codemirror_mode": {
    "name": "ipython",
    "version": 3
   },
   "file_extension": ".py",
   "mimetype": "text/x-python",
   "name": "python",
   "nbconvert_exporter": "python",
   "pygments_lexer": "ipython3",
   "version": "3.13.0"
  }
 },
 "nbformat": 4,
 "nbformat_minor": 5
}
