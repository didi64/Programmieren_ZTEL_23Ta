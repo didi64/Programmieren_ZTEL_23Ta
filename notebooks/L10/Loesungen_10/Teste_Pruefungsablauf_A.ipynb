{
 "cells": [
  {
   "cell_type": "code",
   "execution_count": null,
   "id": "9c70e395-b86f-431d-9850-2c75e71fda70",
   "metadata": {},
   "outputs": [],
   "source": [
    "import solutions"
   ]
  },
  {
   "cell_type": "markdown",
   "id": "8af8d0e8-4176-4041-b1bf-3e9416ec4534",
   "metadata": {},
   "source": [
    "### Kurzaufgaben\n",
    "Die Kurzaufgaben lassen sich mit 2-3 Zeilen Code l&ouml;sen. Beispiele:\n",
    "1. Finde die Position des Leerzeichens im String\n",
    "   `'foo bar'`. Verwende keine Stringmethoden.\n",
    "1. Ersetze im String `'foo bar'` das Leerzeichen durch\n",
    "   einen Bindestrich  (`'foo-bar'`). Verwende keine Stringmethoden."
   ]
  },
  {
   "cell_type": "code",
   "execution_count": null,
   "id": "14c1d500-d599-48be-b7e6-d14bc8875e8b",
   "metadata": {},
   "outputs": [],
   "source": [
    "# Aufgabe 1\n",
    "# definiere relevante Variabeln\n",
    "s = 'foo bar'\n",
    "SPACE = ' '"
   ]
  },
  {
   "cell_type": "code",
   "execution_count": null,
   "id": "53134633-f9c2-4ba8-ae00-697c61ca0900",
   "metadata": {},
   "outputs": [],
   "source": [
    "# 1a\n",
    "n = len(s)\n",
    "positions = [i for i in range(n) if s[i] == SPACE]\n",
    "positions[0]"
   ]
  },
  {
   "cell_type": "code",
   "execution_count": null,
   "id": "bf4a5b39-955f-47fa-ac6e-715b59ac205c",
   "metadata": {},
   "outputs": [],
   "source": [
    "# 1b)\n",
    "[i for i, c in enumerate(s) if c == ' '][0]"
   ]
  },
  {
   "cell_type": "code",
   "execution_count": null,
   "id": "309d8e2e-22da-460d-9546-3a6344673d1e",
   "metadata": {},
   "outputs": [],
   "source": [
    "# 1c)\n",
    "i = 0\n",
    "for c in s:\n",
    "    if c == ' ':\n",
    "        break\n",
    "    i += 1\n",
    "\n",
    "i"
   ]
  },
  {
   "cell_type": "code",
   "execution_count": null,
   "id": "d214cd20-1bf5-4233-a73a-a65254893c86",
   "metadata": {},
   "outputs": [],
   "source": [
    "# 1d)\n",
    "for i, c in enumerate(s):\n",
    "    if c == ' ':\n",
    "        break\n",
    "i"
   ]
  },
  {
   "cell_type": "code",
   "execution_count": null,
   "id": "872f29c1-c840-47f5-8167-15b28bf0dfe1",
   "metadata": {},
   "outputs": [],
   "source": [
    "# Aufgabe 2)\n",
    "# definiere relevante Variabeln\n",
    "s = 'foo bar'\n",
    "i = 3  # Position von ' '"
   ]
  },
  {
   "cell_type": "code",
   "execution_count": null,
   "id": "fa2adebe-db6f-49d2-9f13-daac846a7649",
   "metadata": {},
   "outputs": [],
   "source": [
    "# 2a)\n",
    "s[:i] + '-' + s[i+1:]"
   ]
  },
  {
   "cell_type": "code",
   "execution_count": 66,
   "id": "ec43de17-2b7f-49b7-8308-62fc74252204",
   "metadata": {},
   "outputs": [
    {
     "data": {
      "text/plain": [
       "'foo-bar'"
      ]
     },
     "execution_count": 66,
     "metadata": {},
     "output_type": "execute_result"
    }
   ],
   "source": [
    "# 2b)\n",
    "letters = [c if c != ' ' else '-' for c in s]\n",
    "''.join(letters)"
   ]
  },
  {
   "cell_type": "code",
   "execution_count": null,
   "id": "b911565b-2f5f-476d-a8ba-71c32775b13b",
   "metadata": {},
   "outputs": [],
   "source": []
  },
  {
   "cell_type": "markdown",
   "id": "186c2730-89c4-4ab1-99dd-a4ddb0199fbf",
   "metadata": {},
   "source": [
    "### Tabelle: Feldnummer in Spalte, Zeile umrechnen\n",
    "Nachstehend eine Tabelle mit 8 Spalten und 5 Zeilen und\n",
    "Feldern 0 bis 39.  \n",
    "\n",
    "```\n",
    "    0  1  2  3  4  5  6  7\n",
    "    ------------------------\n",
    "0|  0  1  2  3  4  5  6  7\n",
    "1|  8  9 10 11 12 13 14 15\n",
    "2| 16 17 18 19 20 21 22 23\n",
    "3| 24 25 26 27 28 29 30 31\n",
    "4| 32 33 34 35 36 37 38 39\n",
    "```\n",
    "\n",
    "\n",
    "1. Schreibe eine Funktion `xy2idx(x, y, ncols)`, die aus Spalte,\n",
    "Zeile und Anzahl Spalten der Tabelle\n",
    "den Index des Feldes berechnet.\n",
    "   - `xy2idx(4, 3, 8)` -> `28`,\n",
    "   - `xy2idx(0, 4, 8)` -> `32`,\n",
    "   - `xy2idx(4, 3, 6)` -> `22`.\n",
    "\n",
    "<br>\n",
    "\n",
    "2. Schreibe eine Funktion `idx2xy(idx, ncols)`, die\n",
    "die Spalte und Zeile des Feldes mit Index `idx` in einer Tabelle mit\n",
    "`ncols` Spalten berechnet.  \n",
    "   - `idx2xy(28, 8)` -> `(4, 3)`,\n",
    "   - `idx2xy(32, 8)` -> `(0, 4)`,\n",
    "   - `idx2xy(22, 6)` -> `(4, 3)`."
   ]
  },
  {
   "cell_type": "code",
   "execution_count": null,
   "id": "683c060f-3c82-4fee-b262-3fdf24c17c1d",
   "metadata": {},
   "outputs": [],
   "source": [
    "# Aufgabe 1"
   ]
  },
  {
   "cell_type": "code",
   "execution_count": null,
   "id": "009c6860-5a5c-4c0e-82e3-2a72b9fb5a07",
   "metadata": {},
   "outputs": [],
   "source": [
    "# x, y, ncols = 4, 3, 8\n",
    "# x, y, ncols = 0, 4, 8\n",
    "x, y, ncols = 4, 3, 6\n",
    "\n",
    "res = y*ncols + x\n",
    "res"
   ]
  },
  {
   "cell_type": "code",
   "execution_count": null,
   "id": "ad129c4f-78f7-4347-aef8-5d87d43853e3",
   "metadata": {},
   "outputs": [],
   "source": [
    "def xy2idx(x, y, ncols):\n",
    "    res = y*ncols + x\n",
    "    return res"
   ]
  },
  {
   "cell_type": "code",
   "execution_count": null,
   "id": "79b3e135-117f-4d42-a3ee-9dbdfd2026f9",
   "metadata": {},
   "outputs": [],
   "source": [
    "solutions.do_test('xy2idx', xy2idx)"
   ]
  },
  {
   "cell_type": "code",
   "execution_count": null,
   "id": "9946e28a-47de-4010-a29b-66074fd72d7f",
   "metadata": {},
   "outputs": [],
   "source": []
  },
  {
   "cell_type": "code",
   "execution_count": null,
   "id": "eb015ac7-7064-455a-b456-b89fa2ec332a",
   "metadata": {},
   "outputs": [],
   "source": [
    "# Aufgabe 2"
   ]
  },
  {
   "cell_type": "code",
   "execution_count": null,
   "id": "6888d82e-ac74-44a8-8d49-671a7d38a39e",
   "metadata": {},
   "outputs": [],
   "source": [
    "# idx, ncols = 28, 8\n",
    "# idx, ncols = 32, 8\n",
    "idx, ncols = 22, 6\n",
    "\n",
    "x = idx % ncols\n",
    "y = idx // ncols\n",
    "x, y"
   ]
  },
  {
   "cell_type": "code",
   "execution_count": null,
   "id": "08af8569-18f6-4f4b-8e3d-b3d76331960f",
   "metadata": {},
   "outputs": [],
   "source": [
    "def idx2xy(idx, ncols):\n",
    "    x = idx % ncols\n",
    "    y = idx // ncols\n",
    "    return x, y"
   ]
  },
  {
   "cell_type": "code",
   "execution_count": null,
   "id": "b2e255e8-3427-4630-bbca-0c4e7c6a521b",
   "metadata": {},
   "outputs": [],
   "source": [
    "solutions.do_test('idx2xy', idx2xy)"
   ]
  },
  {
   "cell_type": "code",
   "execution_count": null,
   "id": "8b151cd3-371f-41ff-a632-e58b05dadc3a",
   "metadata": {},
   "outputs": [],
   "source": []
  },
  {
   "cell_type": "markdown",
   "id": "9445999e-db1f-4907-a007-27129a0ef69b",
   "metadata": {},
   "source": [
    "### Kleinster Integer oberhalb einer Zahl\n",
    "Implementiere eine Funktion `ceil(x)`, die einen **int** zur&uuml;ckgibt, und zwar die kleinste ganze Zahl, die **gr&ouml;sser gleich** x ist.\n",
    "   - `ceil(1.0)` -> `1`\n",
    "   - `ceil(-0.2)` -> `0`\n",
    "   - `ceil(1.2)` -> `2`"
   ]
  },
  {
   "cell_type": "code",
   "execution_count": null,
   "id": "0b7a8132-0b1b-4718-b6c2-54ea42acdbba",
   "metadata": {},
   "outputs": [],
   "source": [
    "# x = 1.0\n",
    "# x = -0.2\n",
    "x = 1.2\n",
    "\n",
    "if x == int(x):\n",
    "    res = int(x)\n",
    "elif x > 0:\n",
    "    res = int(x) + 1\n",
    "else:\n",
    "    res = int(x)\n",
    "\n",
    "res"
   ]
  },
  {
   "cell_type": "code",
   "execution_count": null,
   "id": "14f86aad-1885-43ce-b35e-b5dfcada5918",
   "metadata": {},
   "outputs": [],
   "source": [
    "def ceil(x):\n",
    "    if x == int(x):\n",
    "        res = int(x)\n",
    "    elif x > 0:\n",
    "        res = int(x) + 1\n",
    "    else:\n",
    "        res = int(x)\n",
    "\n",
    "    return res"
   ]
  },
  {
   "cell_type": "code",
   "execution_count": null,
   "id": "941a588c-fd0e-4bbe-946c-eb1348351a5c",
   "metadata": {},
   "outputs": [],
   "source": [
    "solutions.do_test('ceil', ceil)"
   ]
  },
  {
   "cell_type": "code",
   "execution_count": null,
   "id": "2df36952-7214-4552-ab94-3fb0f48810e3",
   "metadata": {},
   "outputs": [],
   "source": []
  }
 ],
 "metadata": {
  "kernelspec": {
   "display_name": "Python 3 (ipykernel)",
   "language": "python",
   "name": "python3"
  },
  "language_info": {
   "codemirror_mode": {
    "name": "ipython",
    "version": 3
   },
   "file_extension": ".py",
   "mimetype": "text/x-python",
   "name": "python",
   "nbconvert_exporter": "python",
   "pygments_lexer": "ipython3",
   "version": "3.13.0"
  }
 },
 "nbformat": 4,
 "nbformat_minor": 5
}
