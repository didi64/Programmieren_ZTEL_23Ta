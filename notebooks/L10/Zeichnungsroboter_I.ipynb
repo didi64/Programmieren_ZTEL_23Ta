{
 "cells": [
  {
   "cell_type": "markdown",
   "id": "ff7475ea-fdd8-42df-8534-f13b606476d4",
   "metadata": {},
   "source": [
    "### Zeichnungsroboter\n",
    "\n",
    "Wir benutzen den im Notebook [Automaten](Automaten.ipynb) beschriebenen Zeichnungsautomat um einen Zeichnungsrobotor zu steuern. \n",
    "Hier nochmals der Transitionsgraph des Automaten und der Befehlssatz des Roboters\n",
    "<br>\n",
    "<img src=\"/files/images/zeichnungsautomat.svg\">  \n",
    "\n",
    "**Kurzbefehle**:\n",
    "- `u`: hebt Stift vom Blatt (up)\n",
    "- `d`: setzt Stift aufs Blatt (down)\n",
    "- `E`: l&ouml;scht Zeichnung (Erase)\n",
    "\n",
    "**Befehle mit Argument(en)**:\n",
    "- `e<width>,<height>`: l&ouml;scht ein Rechteck mit den ang. Massen.\n",
    "- `l<number>`: setzt die Linienbreite des Stifts (linewidth).\n",
    "- `s<html-colorname>`: setzt die Farbe des Stifts (stroke-color).\n",
    "- `g<x>,<y>`: bewegt den Stift nach (x,y). Ist der Stift auf dem Blatt wird eine Linie gezeichnet (goto).\n",
    "- `G<dx>,<dy>`: bewegt den Stift um dx nach oben und dy nach unten (goto, relativ).\n",
    "- `r<width>,<height>`: zeichnet die Umrandung eines Rechtecks. Die aktuelle Position ist die linke obere Ecke (rectangle).\n",
    "- `c<radius>`: zeichnet einen Kreis mit der aktuellen Position als Mittelpunkt (circle).\n",
    "- `f<html-colorname>`: setzt die F&uuml;llfarbe (fill-color).\n",
    "- `R<width>,<height>`: zeichnet Rechteck in F&uuml;llfarbe (Rectangle).\n",
    "- `C<radius>`: zeichnet Kreisscheibe in F&uuml;llfarbe (Circle)."
   ]
  },
  {
   "cell_type": "markdown",
   "id": "54242297-821a-4d4b-8a4c-62625ef6a752",
   "metadata": {},
   "source": [
    "### Leinwand, Automat\n",
    "Nachstehender Code erstellt ein canvas-Objekt mit Breite WIDTH und H&ouml;he HEIGHT. Auf dies Leinwand wird gezeichnet.\n",
    "Die Leinwand kann mit `canvas.reset()` gel&ouml;scht werden.\n",
    "Dies setzt gleichzeitig den Automaten in seinen initialen Zustand.  \n",
    "\n",
    "Mit `automa.read(word)` wir dem Automaten eine Zeichenkette gef&uuml;ttert.\n",
    "Der Automat verh&auml;lt sich, wie sein Transitionsgraph es beschreibt. \n",
    "\n",
    "Nachstehend ist ein blaues Minus gezeichnet.\n",
    "\n",
    "**Aufgabe**:  \n",
    "1. &Auml;ndere das Eingabewort, so dass ein  \"T\" und ein \"÷\" gezeichnet wird.\n",
    "2. Teste, welche Farben der Zeichnungsroboter kennt.\n",
    "   Benutze Python, um aus einer Liste von Farben  \n",
    "   (`colors = ['red', 'blue', 'yellow', 'teal', 'orange', 'pink']`)\n",
    "   ein Eingabewort zu erstellen, dass den Roboter veranlasst,\n",
    "   25 x 25 Quadrate in diesen Farben zu zeichnen.\n",
    "   (`'fred;R25,25;G25,0;fblue;R25,25;G25,0;fyellow;R25,25;G25,0;fteal;R25,25;G25,0;forange;R25,25;G25,0;fpink;R25,25;G25,0;'`)\n",
    "   "
   ]
  },
  {
   "cell_type": "code",
   "execution_count": null,
   "id": "d57e078f-1209-4d0a-963b-553843b59ffa",
   "metadata": {},
   "outputs": [],
   "source": [
    "import zeichnungsautomat as ZA\n",
    "WIDTH = 300\n",
    "HEIGHT = 200\n",
    "automat, canvas = ZA.get_automat_and_canvas(width=WIDTH, height=HEIGHT)\n",
    "canvas"
   ]
  },
  {
   "cell_type": "code",
   "execution_count": null,
   "id": "5f7f578e-4506-44ec-9721-18c91f2fc8e8",
   "metadata": {},
   "outputs": [],
   "source": [
    "canvas.reset()  # clears canvas and buffer, resets automat to its initial state\n",
    "eingabewort = 'l12;sblue;g100,100;dg200,100;'\n",
    "automat.read(eingabewort)  # feed input to the automaton"
   ]
  },
  {
   "cell_type": "code",
   "execution_count": null,
   "id": "917375d3-707e-473b-91af-11ee2bcbebdb",
   "metadata": {},
   "outputs": [],
   "source": []
  }
 ],
 "metadata": {
  "kernelspec": {
   "display_name": "Python 3 (ipykernel)",
   "language": "python",
   "name": "python3"
  },
  "language_info": {
   "codemirror_mode": {
    "name": "ipython",
    "version": 3
   },
   "file_extension": ".py",
   "mimetype": "text/x-python",
   "name": "python",
   "nbconvert_exporter": "python",
   "pygments_lexer": "ipython3",
   "version": "3.13.0"
  }
 },
 "nbformat": 4,
 "nbformat_minor": 5
}
