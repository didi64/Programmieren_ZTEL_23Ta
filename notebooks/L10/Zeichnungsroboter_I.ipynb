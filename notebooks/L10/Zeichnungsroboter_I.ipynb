{
 "cells": [
  {
   "cell_type": "markdown",
   "id": "ff7475ea-fdd8-42df-8534-f13b606476d4",
   "metadata": {},
   "source": [
    "### Zeichnungsroboter\n",
    "\n",
    "Wir benutzen den im Notebook [Automaten](Automaten.ipynb) beschriebenen Zeichnungsautomat um einen Zeichnungsrobotor zu steuern. \n",
    "Hier nochmals der Transitionsgraph des Automaten und der Befehlssatz des Roboters\n",
    "<br>\n",
    "<img src=\"/files/images/zeichnungsautomat.svg\">  \n",
    "\n",
    "**Kurzbefehle**:\n",
    "- `u`: hebt Stift vom Blatt (up)\n",
    "- `d`: setzt Stift aufs Blatt (down)\n",
    "- `E`: l&ouml;scht Zeichnung (Erase)\n",
    "\n",
    "**Befehle mit Argument(en)**:\n",
    "- `e<width>,<height>`: l&ouml;scht ein Rechteck mit den ang. Massen.\n",
    "- `l<number>`: setzt die Linienbreite des Stifts (linewidth).\n",
    "- `s<html-colorname>`: setzt die Farbe des Stifts (stroke-color).\n",
    "- `g<x>,<y>`: bewegt den Stift nach (x,y). Ist der Stift auf dem Blatt wird eine Linie gezeichnet (goto).\n",
    "- `G<dx>,<dy>`: bewegt den Stift um dx nach oben und dy nach unten (goto, relativ).\n",
    "- `r<width>,<height>`: zeichnet die Umrandung eines Rechtecks. Die aktuelle Position ist die linke obere Ecke (rectangle).\n",
    "- `c<radius>`: zeichnet einen Kreis mit der aktuellen Position als Mittelpunkt (circle).\n",
    "- `f<html-colorname>`: setzt die F&uuml;llfarbe (fill-color).\n",
    "- `R<width>,<height>`: zeichnet Rechteck in F&uuml;llfarbe (Rectangle).\n",
    "- `C<radius>`: zeichnet Kreisscheibe in F&uuml;llfarbe (Circle)."
   ]
  },
  {
   "cell_type": "code",
   "execution_count": 2,
   "id": "d57e078f-1209-4d0a-963b-553843b59ffa",
   "metadata": {},
   "outputs": [
    {
     "data": {
      "application/vnd.jupyter.widget-view+json": {
       "model_id": "945a251020c54e47b42bf3f2065e7d2e",
       "version_major": 2,
       "version_minor": 0
      },
      "text/plain": [
       "Canvas(height=200, layout=Layout(border_bottom='1px solid black', border_left='1px solid black', border_right=…"
      ]
     },
     "metadata": {},
     "output_type": "display_data"
    }
   ],
   "source": [
    "import zeichnungsautomat as ZA\n",
    "WIDTH = 300\n",
    "HEIGHT = 200\n",
    "automat, canvas = ZA.get_automat_and_canvas(width=WIDTH, height=HEIGHT)\n",
    "canvas"
   ]
  },
  {
   "cell_type": "code",
   "execution_count": 23,
   "id": "5f7f578e-4506-44ec-9721-18c91f2fc8e8",
   "metadata": {},
   "outputs": [],
   "source": [
    "canvas.reset()  # clear canvas and buffer, set state of automat to 0\n",
    "eingabewort = 'l12;sblue;g100,100;dg200,100;'\n",
    "automat.read(eingabewort)  # feed input to the automaton"
   ]
  }
 ],
 "metadata": {
  "kernelspec": {
   "display_name": "Python 3 (ipykernel)",
   "language": "python",
   "name": "python3"
  },
  "language_info": {
   "codemirror_mode": {
    "name": "ipython",
    "version": 3
   },
   "file_extension": ".py",
   "mimetype": "text/x-python",
   "name": "python",
   "nbconvert_exporter": "python",
   "pygments_lexer": "ipython3",
   "version": "3.13.0"
  }
 },
 "nbformat": 4,
 "nbformat_minor": 5
}
