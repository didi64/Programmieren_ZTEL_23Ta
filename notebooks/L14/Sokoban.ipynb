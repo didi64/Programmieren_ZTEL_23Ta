{
 "cells": [
  {
   "cell_type": "markdown",
   "id": "42e4f78b-116b-45d1-bc8b-2b834da57b9e",
   "metadata": {},
   "source": [
    "### Sokoban (Prototype)\n",
    "Wir wollen einen Prototype des Spiels [Sokoban](https://www.mathsisfun.com/games/sokoban.html) erstellen.\n",
    "\n",
    "Beim Prototyp geht es uns nur darum, die Spiellogik zu implementieren.\n",
    "Wir speichern das Spielfeld als eine Matrix, eine\n",
    "Liste von Listen. Die Eintr&auml;ge in dieser Matrx haben folgende Bedeutung:\n",
    "\n",
    "- `'X'`: blockiertes Feld\n",
    "- `' '`: leeres Feld\n",
    "- `'.'`: Zielfeld f&uuml;r Box\n",
    "- `'b'`: Box\n",
    "- `'B'`: Box auf einem Zielfeld\n",
    "- `'p'`: Spieler\n",
    "- `'P'`: Spieler auf einem Zielfeld\n",
    "\n",
    "Wenn eine neues Spiel gestartet oder ein Zug gemacht wird\n",
    "(durch Aufruf der Methoden `new_game` und `move`), wird\n",
    "die Funktion `game.event_handler(event, data)` aufgerufen.\n",
    "Die Idee ist, dass dem Attribut `game.event_handler` sp&auml;ter eine Funktion zugewiesen wird, welche die Darstellung des Spielzustandes aktuallisiert. \n",
    "Im Moment wir nur `event` und `data` geprintet.\n",
    "\n",
    "Die Methoden `new_pos`, `get_field`, `set_field`, `move_piece`, `move_player` und `move_box` sind Hilfsmethoden. Damit lassen sich die Hautmethoden `new_game` und `move` dann bequem programmieren."
   ]
  },
  {
   "cell_type": "code",
   "execution_count": null,
   "id": "c75c9967-4cd2-4c07-9c68-7a2819cf3bf7",
   "metadata": {},
   "outputs": [],
   "source": [
    "class Sokoban:\n",
    "    board = [['X', 'X', 'X', 'X', 'X', 'X', 'X', 'X'],\n",
    "             ['X', 'X', 'X', ' ', ' ', ' ', 'X', 'X'],\n",
    "             ['X', '.', ' ', 'b', ' ', ' ', 'X', 'X'],\n",
    "             ['X', 'X', 'X', ' ', 'b', '.', 'X', 'X'],\n",
    "             ['X', '.', 'X', 'X', 'b', ' ', 'X', 'X'],\n",
    "             ['X', ' ', 'X', ' ', '.', ' ', 'X', 'X'],\n",
    "             ['X', 'b', ' ', 'B', 'b', 'b', '.', 'X'],\n",
    "             ['X', ' ', ' ', ' ', '.', ' ', ' ', 'X'],\n",
    "             ['X', 'X', 'X', 'X', 'X', 'X', 'X', 'X'],\n",
    "             ]\n",
    "    start_pos = (2, 2)\n",
    "\n",
    "    directions = {'up': (0, -1),\n",
    "                  'down': (0, 1),\n",
    "                  'right': (1, 0),\n",
    "                  'left': (-1, 0),\n",
    "                  }\n",
    "\n",
    "    BOX = 'b'\n",
    "    PLAYER = 'p'\n",
    "    MARK = '.'\n",
    "    EMPTY = ' '\n",
    "    FREE = (EMPTY, MARK)\n",
    "\n",
    "    def __init__(self):\n",
    "        self.event_handler = print\n",
    "        self.new_game()\n",
    "\n",
    "    def new_game(self):\n",
    "        self.board = [row.copy() for row in Sokoban.board]\n",
    "        self.pos = Sokoban.start_pos\n",
    "        self.set_field(self.pos, Sokoban.PLAYER)\n",
    "        self.event_handler('new game', None)\n",
    "\n",
    "    def new_pos(self, pos, direction):\n",
    "        dx, dy = self.directions[direction]\n",
    "        return pos[0]+dx, pos[1]+dy\n",
    "\n",
    "    def get_field(self, pos):\n",
    "        col, row = pos\n",
    "        return self.board[row][col]\n",
    "\n",
    "    def set_field(self, pos, char):\n",
    "        col, row = pos\n",
    "        current = self.board[row][col]\n",
    "        self.board[row][col] = char.upper() if current == Sokoban.MARK else char.lower()\n",
    "\n",
    "    def move_piece(self, old_pos, new_pos):\n",
    "        char = self.get_field(old_pos)\n",
    "        self.set_field(new_pos, char)\n",
    "        self.set_field(old_pos, Sokoban.MARK if char.isupper() else Sokoban.EMPTY)\n",
    "\n",
    "    def move_player_to(self, pos):\n",
    "        self.move_piece(self.pos, pos)\n",
    "        self.pos = pos\n",
    "\n",
    "    def push_box(self, old_pos, move):\n",
    "        '''laesst sich die Box an Position old_pos in Richtung move\n",
    "           verschieben, wir dies getan und True zurueckgegen\n",
    "        '''\n",
    "        new_pos = self.new_pos(old_pos, move)\n",
    "        if self.get_field(new_pos) in Sokoban.FREE:\n",
    "            self.move_piece(old_pos, new_pos)\n",
    "            return True\n",
    "\n",
    "    def move(self, move):\n",
    "        new_pos = self.new_pos(self.pos, move)\n",
    "        char = self.get_field(new_pos).lower()\n",
    "        if char in Sokoban.FREE or (char == Sokoban.BOX and self.push_box(new_pos, move)):\n",
    "            self.move_player_to(new_pos)\n",
    "        self.event_handler('move', move)\n",
    "\n",
    "    def __repr__(self):\n",
    "        return '\\n'.join(str(row) for row in self.board)"
   ]
  },
  {
   "cell_type": "code",
   "execution_count": null,
   "id": "0d73f522-a547-437b-9153-8d6ee9793c81",
   "metadata": {},
   "outputs": [],
   "source": [
    "game = Sokoban()\n",
    "game"
   ]
  },
  {
   "cell_type": "code",
   "execution_count": null,
   "id": "3f136200-4fab-4ab5-96b5-a97275e04550",
   "metadata": {},
   "outputs": [],
   "source": []
  },
  {
   "cell_type": "code",
   "execution_count": null,
   "id": "132851bf-de3a-4bde-91a5-f6562c0c421b",
   "metadata": {},
   "outputs": [],
   "source": [
    "game.move('left')\n",
    "game"
   ]
  },
  {
   "cell_type": "code",
   "execution_count": null,
   "id": "6cad2f80-1dbb-4e1c-8bc6-e0f6b64158e6",
   "metadata": {},
   "outputs": [],
   "source": [
    "game.move('right')\n",
    "game"
   ]
  },
  {
   "cell_type": "code",
   "execution_count": null,
   "id": "5af1ab23-03c5-4945-a579-2d01b0d0c1a7",
   "metadata": {},
   "outputs": [],
   "source": [
    "game.new_game()\n",
    "game"
   ]
  },
  {
   "cell_type": "code",
   "execution_count": null,
   "id": "21ea4649-6d42-4443-a3cc-e8f0ba874924",
   "metadata": {},
   "outputs": [],
   "source": []
  }
 ],
 "metadata": {
  "kernelspec": {
   "display_name": "Python 3 (ipykernel)",
   "language": "python",
   "name": "python3"
  },
  "language_info": {
   "codemirror_mode": {
    "name": "ipython",
    "version": 3
   },
   "file_extension": ".py",
   "mimetype": "text/x-python",
   "name": "python",
   "nbconvert_exporter": "python",
   "pygments_lexer": "ipython3",
   "version": "3.13.0"
  }
 },
 "nbformat": 4,
 "nbformat_minor": 5
}
