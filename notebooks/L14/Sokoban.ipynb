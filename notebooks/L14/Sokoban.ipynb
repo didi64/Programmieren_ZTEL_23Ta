{
 "cells": [
  {
   "cell_type": "markdown",
   "id": "42e4f78b-116b-45d1-bc8b-2b834da57b9e",
   "metadata": {},
   "source": [
    "### Sokoban (Prototype)\n",
    "Wir wollen einen Prototype des Spiels [Sokoban](https://www.mathsisfun.com/games/sokoban.html) erstellen.\n",
    "\n",
    "Beim Prototyp geht es uns nur darum, die Spiellogik zu implementieren.\n",
    "Sielzustand Matrix, liste von Listen\n",
    "\n",
    "set_field und get_field (wollen nicht staendig x und y verweschseln\n",
    "\n",
    "Hilfsfunktionen erlauben besser lesbaren Code.\n",
    "Einfacher au testen,\n",
    "\n",
    "und\n",
    "\n",
    "Spielzustand:\n",
    "Matrix, bez. Liste von Listen.\n",
    "X: unzug&angliches Feld\n",
    ".: Zielfeld\n",
    "b/B: Box (Buchstabe ist gross, falls auf Zielfeld)\n",
    "p/P: Spieler (Buchstabe ist gross, falls auf Zielfeld)"
   ]
  },
  {
   "cell_type": "code",
   "execution_count": 128,
   "id": "c75c9967-4cd2-4c07-9c68-7a2819cf3bf7",
   "metadata": {},
   "outputs": [],
   "source": [
    "class Sokoban:\n",
    "    level_1 = ([['X', 'X', 'X', 'X', 'X', 'X', 'X', 'X'],\n",
    "               ['X', 'X', 'X', ' ', ' ', ' ', 'X', 'X'],\n",
    "               ['X', '.', ' ', 'b', ' ', ' ', 'X', 'X'],\n",
    "               ['X', 'X', 'X', ' ', 'b', '.', 'X', 'X'],\n",
    "               ['X', '.', 'X', 'X', 'b', ' ', 'X', 'X'],\n",
    "               ['X', ' ', 'X', ' ', '.', ' ', 'X', 'X'],\n",
    "               ['X', 'b', ' ', 'B', 'b', 'b', '.', 'X'],\n",
    "               ['X', ' ', ' ', ' ', '.', ' ', ' ', 'X'],\n",
    "               ['X', 'X', 'X', 'X', 'X', 'X', 'X', 'X'],\n",
    "              ], (2,2))\n",
    "    directions = {'up': (0, -1),\n",
    "                  'down': (0, 1),\n",
    "                  'right': (1, 0),\n",
    "                  'left': (-1, 0),\n",
    "                 }\n",
    "\n",
    "    def __init__(self):\n",
    "        self.board = None\n",
    "        self.pos = None\n",
    "        \n",
    "    def new_pos(self, pos, move):\n",
    "        dx, dy = self.directions[move]\n",
    "        return pos[0]+dx, pos[1]+dy\n",
    "\n",
    "    def get_field(self, pos):\n",
    "        x, y = pos\n",
    "        return self.board[y][x]\n",
    "        \n",
    "    def set_field(self, pos, char):\n",
    "        x, y = pos\n",
    "        current = self.board[y][x]\n",
    "        self.board[y][x] = char.upper() if current == '.' else char.lower()\n",
    "    \n",
    "    def move_player_to(self, pos):\n",
    "        self.move_stone(self.pos, pos)\n",
    "        self.pos = pos\n",
    "\n",
    "    def move_stone(self, old_pos, new_pos):\n",
    "        char = self.get_field(old_pos)\n",
    "        self.set_field(new_pos, char)\n",
    "        self.set_field(old_pos, ' ')\n",
    "      \n",
    "    def push_box(self, old_pos, move):\n",
    "        new_pos = self.new_pos(old_pos, move)\n",
    "        if self.get_field(new_pos) in ' .':\n",
    "            self.move_stone(old_pos, new_pos)\n",
    "            return True\n",
    "    \n",
    "    def new_game(self):\n",
    "        self.board, self.pos = Sokoban.level_1\n",
    "        self.set_field(self.pos, 'P')\n",
    "       \n",
    "    def move(self, move):\n",
    "        new_pos = self.new_pos(self.pos, move)\n",
    "        char = self.get_field(new_pos).lower()\n",
    "        if char in ' .' or (char == 'b' and self.push_box(new_pos, move)):\n",
    "            self.move_player_to(new_pos) \n",
    "           \n",
    "    def __repr__(self):\n",
    "        return '\\n'.join(str(row) for row in self.board)"
   ]
  },
  {
   "cell_type": "code",
   "execution_count": 129,
   "id": "0d73f522-a547-437b-9153-8d6ee9793c81",
   "metadata": {},
   "outputs": [
    {
     "ename": "TypeError",
     "evalue": "'NoneType' object is not iterable",
     "output_type": "error",
     "traceback": [
      "\u001b[0;31m---------------------------------------------------------------------------\u001b[0m",
      "\u001b[0;31mTypeError\u001b[0m                                 Traceback (most recent call last)",
      "File \u001b[0;32m~/python_venvs/jlab13/lib/python3.13/site-packages/IPython/core/formatters.py:711\u001b[0m, in \u001b[0;36mPlainTextFormatter.__call__\u001b[0;34m(self, obj)\u001b[0m\n\u001b[1;32m    704\u001b[0m stream \u001b[38;5;241m=\u001b[39m StringIO()\n\u001b[1;32m    705\u001b[0m printer \u001b[38;5;241m=\u001b[39m pretty\u001b[38;5;241m.\u001b[39mRepresentationPrinter(stream, \u001b[38;5;28mself\u001b[39m\u001b[38;5;241m.\u001b[39mverbose,\n\u001b[1;32m    706\u001b[0m     \u001b[38;5;28mself\u001b[39m\u001b[38;5;241m.\u001b[39mmax_width, \u001b[38;5;28mself\u001b[39m\u001b[38;5;241m.\u001b[39mnewline,\n\u001b[1;32m    707\u001b[0m     max_seq_length\u001b[38;5;241m=\u001b[39m\u001b[38;5;28mself\u001b[39m\u001b[38;5;241m.\u001b[39mmax_seq_length,\n\u001b[1;32m    708\u001b[0m     singleton_pprinters\u001b[38;5;241m=\u001b[39m\u001b[38;5;28mself\u001b[39m\u001b[38;5;241m.\u001b[39msingleton_printers,\n\u001b[1;32m    709\u001b[0m     type_pprinters\u001b[38;5;241m=\u001b[39m\u001b[38;5;28mself\u001b[39m\u001b[38;5;241m.\u001b[39mtype_printers,\n\u001b[1;32m    710\u001b[0m     deferred_pprinters\u001b[38;5;241m=\u001b[39m\u001b[38;5;28mself\u001b[39m\u001b[38;5;241m.\u001b[39mdeferred_printers)\n\u001b[0;32m--> 711\u001b[0m \u001b[43mprinter\u001b[49m\u001b[38;5;241;43m.\u001b[39;49m\u001b[43mpretty\u001b[49m\u001b[43m(\u001b[49m\u001b[43mobj\u001b[49m\u001b[43m)\u001b[49m\n\u001b[1;32m    712\u001b[0m printer\u001b[38;5;241m.\u001b[39mflush()\n\u001b[1;32m    713\u001b[0m \u001b[38;5;28;01mreturn\u001b[39;00m stream\u001b[38;5;241m.\u001b[39mgetvalue()\n",
      "File \u001b[0;32m~/python_venvs/jlab13/lib/python3.13/site-packages/IPython/lib/pretty.py:419\u001b[0m, in \u001b[0;36mRepresentationPrinter.pretty\u001b[0;34m(self, obj)\u001b[0m\n\u001b[1;32m    408\u001b[0m                         \u001b[38;5;28;01mreturn\u001b[39;00m meth(obj, \u001b[38;5;28mself\u001b[39m, cycle)\n\u001b[1;32m    409\u001b[0m                 \u001b[38;5;28;01mif\u001b[39;00m (\n\u001b[1;32m    410\u001b[0m                     \u001b[38;5;28mcls\u001b[39m \u001b[38;5;129;01mis\u001b[39;00m \u001b[38;5;129;01mnot\u001b[39;00m \u001b[38;5;28mobject\u001b[39m\n\u001b[1;32m    411\u001b[0m                     \u001b[38;5;66;03m# check if cls defines __repr__\u001b[39;00m\n\u001b[0;32m   (...)\u001b[0m\n\u001b[1;32m    417\u001b[0m                     \u001b[38;5;129;01mand\u001b[39;00m \u001b[38;5;28mcallable\u001b[39m(_safe_getattr(\u001b[38;5;28mcls\u001b[39m, \u001b[38;5;124m\"\u001b[39m\u001b[38;5;124m__repr__\u001b[39m\u001b[38;5;124m\"\u001b[39m, \u001b[38;5;28;01mNone\u001b[39;00m))\n\u001b[1;32m    418\u001b[0m                 ):\n\u001b[0;32m--> 419\u001b[0m                     \u001b[38;5;28;01mreturn\u001b[39;00m \u001b[43m_repr_pprint\u001b[49m\u001b[43m(\u001b[49m\u001b[43mobj\u001b[49m\u001b[43m,\u001b[49m\u001b[43m \u001b[49m\u001b[38;5;28;43mself\u001b[39;49m\u001b[43m,\u001b[49m\u001b[43m \u001b[49m\u001b[43mcycle\u001b[49m\u001b[43m)\u001b[49m\n\u001b[1;32m    421\u001b[0m     \u001b[38;5;28;01mreturn\u001b[39;00m _default_pprint(obj, \u001b[38;5;28mself\u001b[39m, cycle)\n\u001b[1;32m    422\u001b[0m \u001b[38;5;28;01mfinally\u001b[39;00m:\n",
      "File \u001b[0;32m~/python_venvs/jlab13/lib/python3.13/site-packages/IPython/lib/pretty.py:787\u001b[0m, in \u001b[0;36m_repr_pprint\u001b[0;34m(obj, p, cycle)\u001b[0m\n\u001b[1;32m    785\u001b[0m \u001b[38;5;250m\u001b[39m\u001b[38;5;124;03m\"\"\"A pprint that just redirects to the normal repr function.\"\"\"\u001b[39;00m\n\u001b[1;32m    786\u001b[0m \u001b[38;5;66;03m# Find newlines and replace them with p.break_()\u001b[39;00m\n\u001b[0;32m--> 787\u001b[0m output \u001b[38;5;241m=\u001b[39m \u001b[38;5;28;43mrepr\u001b[39;49m\u001b[43m(\u001b[49m\u001b[43mobj\u001b[49m\u001b[43m)\u001b[49m\n\u001b[1;32m    788\u001b[0m lines \u001b[38;5;241m=\u001b[39m output\u001b[38;5;241m.\u001b[39msplitlines()\n\u001b[1;32m    789\u001b[0m \u001b[38;5;28;01mwith\u001b[39;00m p\u001b[38;5;241m.\u001b[39mgroup():\n",
      "Cell \u001b[0;32mIn[128], line 61\u001b[0m, in \u001b[0;36mSokoban.__repr__\u001b[0;34m(self)\u001b[0m\n\u001b[1;32m     60\u001b[0m \u001b[38;5;28;01mdef\u001b[39;00m \u001b[38;5;21m__repr__\u001b[39m(\u001b[38;5;28mself\u001b[39m):\n\u001b[0;32m---> 61\u001b[0m     \u001b[38;5;28;01mreturn\u001b[39;00m \u001b[38;5;124m'\u001b[39m\u001b[38;5;130;01m\\n\u001b[39;00m\u001b[38;5;124m'\u001b[39m\u001b[38;5;241m.\u001b[39mjoin(\u001b[38;5;28mstr\u001b[39m(row) \u001b[38;5;28;01mfor\u001b[39;00m row \u001b[38;5;129;01min\u001b[39;00m \u001b[38;5;28mself\u001b[39m\u001b[38;5;241m.\u001b[39mboard)\n",
      "\u001b[0;31mTypeError\u001b[0m: 'NoneType' object is not iterable"
     ]
    }
   ],
   "source": [
    "game = Sokoban()\n",
    "game"
   ]
  },
  {
   "cell_type": "code",
   "execution_count": 115,
   "id": "789f7fd1-7e3b-4208-909d-06e95dedecf6",
   "metadata": {},
   "outputs": [
    {
     "data": {
      "text/plain": [
       "['X', 'X', 'X', 'X', 'X', 'X', 'X', 'X']\n",
       "['X', 'X', 'X', ' ', ' ', ' ', 'X', 'X']\n",
       "['X', '.', 'p', 'b', ' ', ' ', 'X', 'X']\n",
       "['X', 'X', 'X', ' ', 'b', '.', 'X', 'X']\n",
       "['X', '.', 'X', 'X', 'b', ' ', 'X', 'X']\n",
       "['X', ' ', 'X', ' ', '.', ' ', 'X', 'X']\n",
       "['X', 'b', ' ', 'B', 'b', 'b', '.', 'X']\n",
       "['X', ' ', ' ', ' ', '.', ' ', ' ', 'X']\n",
       "['X', 'X', 'X', 'X', 'X', 'X', 'X', 'X']"
      ]
     },
     "execution_count": 115,
     "metadata": {},
     "output_type": "execute_result"
    }
   ],
   "source": [
    "game.new_game()\n",
    "game"
   ]
  },
  {
   "cell_type": "code",
   "execution_count": 116,
   "id": "3f136200-4fab-4ab5-96b5-a97275e04550",
   "metadata": {},
   "outputs": [
    {
     "data": {
      "text/plain": [
       "(3, 2)"
      ]
     },
     "execution_count": 116,
     "metadata": {},
     "output_type": "execute_result"
    }
   ],
   "source": [
    "game.new_pos(game.pos, 'right')"
   ]
  },
  {
   "cell_type": "code",
   "execution_count": 117,
   "id": "132851bf-de3a-4bde-91a5-f6562c0c421b",
   "metadata": {},
   "outputs": [],
   "source": [
    "game.move('right')"
   ]
  },
  {
   "cell_type": "code",
   "execution_count": 118,
   "id": "6cad2f80-1dbb-4e1c-8bc6-e0f6b64158e6",
   "metadata": {},
   "outputs": [
    {
     "data": {
      "text/plain": [
       "['X', 'X', 'X', 'X', 'X', 'X', 'X', 'X']\n",
       "['X', 'X', 'X', ' ', ' ', ' ', 'X', 'X']\n",
       "['X', '.', ' ', 'p', 'b', ' ', 'X', 'X']\n",
       "['X', 'X', 'X', ' ', 'b', '.', 'X', 'X']\n",
       "['X', '.', 'X', 'X', 'b', ' ', 'X', 'X']\n",
       "['X', ' ', 'X', ' ', '.', ' ', 'X', 'X']\n",
       "['X', 'b', ' ', 'B', 'b', 'b', '.', 'X']\n",
       "['X', ' ', ' ', ' ', '.', ' ', ' ', 'X']\n",
       "['X', 'X', 'X', 'X', 'X', 'X', 'X', 'X']"
      ]
     },
     "execution_count": 118,
     "metadata": {},
     "output_type": "execute_result"
    }
   ],
   "source": [
    "\n",
    "game"
   ]
  },
  {
   "cell_type": "code",
   "execution_count": 119,
   "id": "58883195-884c-4dea-9233-8a088e6660af",
   "metadata": {},
   "outputs": [
    {
     "data": {
      "text/plain": [
       "['X', 'X', 'X', 'X', 'X', 'X', 'X', 'X']\n",
       "['X', 'X', 'X', ' ', ' ', ' ', 'X', 'X']\n",
       "['X', '.', ' ', 'p', 'b', ' ', 'X', 'X']\n",
       "['X', 'X', 'X', ' ', 'b', '.', 'X', 'X']\n",
       "['X', '.', 'X', 'X', 'b', ' ', 'X', 'X']\n",
       "['X', ' ', 'X', ' ', '.', ' ', 'X', 'X']\n",
       "['X', 'b', ' ', 'B', 'b', 'b', '.', 'X']\n",
       "['X', ' ', ' ', ' ', '.', ' ', ' ', 'X']\n",
       "['X', 'X', 'X', 'X', 'X', 'X', 'X', 'X']"
      ]
     },
     "execution_count": 119,
     "metadata": {},
     "output_type": "execute_result"
    }
   ],
   "source": [
    "game.new_pos(game.pos, 'right')\n",
    "game"
   ]
  },
  {
   "cell_type": "code",
   "execution_count": 120,
   "id": "2c96e9c5-d392-440c-a6b7-cdbf6504fe44",
   "metadata": {},
   "outputs": [
    {
     "data": {
      "text/plain": [
       "['X', 'X', 'X', 'X', 'X', 'X', 'X', 'X']\n",
       "['X', 'X', 'X', ' ', ' ', ' ', 'X', 'X']\n",
       "['X', '.', ' ', ' ', 'b', ' ', 'X', 'X']\n",
       "['X', 'X', 'X', ' ', 'b', '.', 'X', 'X']\n",
       "['X', '.', 'X', 'X', 'b', ' ', 'X', 'X']\n",
       "['X', ' ', 'X', 'p', '.', ' ', 'X', 'X']\n",
       "['X', 'b', ' ', 'B', 'b', 'b', '.', 'X']\n",
       "['X', ' ', ' ', ' ', '.', ' ', ' ', 'X']\n",
       "['X', 'X', 'X', 'X', 'X', 'X', 'X', 'X']"
      ]
     },
     "execution_count": 120,
     "metadata": {},
     "output_type": "execute_result"
    }
   ],
   "source": [
    "game.move_player_to((3, 5))\n",
    "game"
   ]
  },
  {
   "cell_type": "code",
   "execution_count": 121,
   "id": "8343fcae-7f26-4ec0-a630-1e67b05cbcc2",
   "metadata": {},
   "outputs": [
    {
     "data": {
      "text/plain": [
       "['X', 'X', 'X', 'X', 'X', 'X', 'X', 'X']\n",
       "['X', 'X', 'X', ' ', ' ', ' ', 'X', 'X']\n",
       "['X', '.', ' ', ' ', 'b', ' ', 'X', 'X']\n",
       "['X', 'X', 'X', ' ', 'b', '.', 'X', 'X']\n",
       "['X', '.', 'X', 'X', 'b', ' ', 'X', 'X']\n",
       "['X', ' ', 'X', ' ', '.', ' ', 'X', 'X']\n",
       "['X', 'b', ' ', 'P', 'b', 'b', '.', 'X']\n",
       "['X', ' ', ' ', 'b', '.', ' ', ' ', 'X']\n",
       "['X', 'X', 'X', 'X', 'X', 'X', 'X', 'X']"
      ]
     },
     "execution_count": 121,
     "metadata": {},
     "output_type": "execute_result"
    }
   ],
   "source": [
    "game.move('down')\n",
    "game"
   ]
  },
  {
   "cell_type": "code",
   "execution_count": 122,
   "id": "8b75f99d-3d31-49a9-89e2-7f489525433d",
   "metadata": {},
   "outputs": [
    {
     "data": {
      "text/plain": [
       "['X', 'X', 'X', 'X', 'X', 'X', 'X', 'X']\n",
       "['X', 'X', 'X', ' ', ' ', ' ', 'X', 'X']\n",
       "['X', '.', ' ', ' ', 'b', ' ', 'X', 'X']\n",
       "['X', 'X', 'X', ' ', 'b', '.', 'X', 'X']\n",
       "['X', '.', 'X', 'X', 'b', ' ', 'X', 'X']\n",
       "['X', ' ', 'X', 'p', '.', ' ', 'X', 'X']\n",
       "['X', 'b', ' ', '.', 'b', 'b', '.', 'X']\n",
       "['X', ' ', ' ', 'b', '.', ' ', ' ', 'X']\n",
       "['X', 'X', 'X', 'X', 'X', 'X', 'X', 'X']"
      ]
     },
     "execution_count": 122,
     "metadata": {},
     "output_type": "execute_result"
    }
   ],
   "source": [
    "game.move('up')\n",
    "game"
   ]
  },
  {
   "cell_type": "code",
   "execution_count": 123,
   "id": "96659583-259b-4788-92c8-300a5ae5c9f6",
   "metadata": {},
   "outputs": [
    {
     "data": {
      "text/plain": [
       "['X', 'X', 'X', 'X', 'X', 'X', 'X', 'X']\n",
       "['X', 'X', 'X', ' ', ' ', ' ', 'X', 'X']\n",
       "['X', '.', ' ', ' ', 'b', ' ', 'X', 'X']\n",
       "['X', 'X', 'X', ' ', 'b', '.', 'X', 'X']\n",
       "['X', '.', 'X', 'X', 'b', ' ', 'X', 'X']\n",
       "['X', ' ', 'X', 'p', '.', ' ', 'X', 'X']\n",
       "['X', 'b', ' ', '.', 'b', 'b', '.', 'X']\n",
       "['X', ' ', ' ', 'b', '.', ' ', ' ', 'X']\n",
       "['X', 'X', 'X', 'X', 'X', 'X', 'X', 'X']"
      ]
     },
     "execution_count": 123,
     "metadata": {},
     "output_type": "execute_result"
    }
   ],
   "source": [
    "game.move('up')\n",
    "game"
   ]
  },
  {
   "cell_type": "code",
   "execution_count": 124,
   "id": "9b434151-ea22-4004-ac75-1769c0349a2c",
   "metadata": {},
   "outputs": [
    {
     "data": {
      "text/plain": [
       "['X', 'X', 'X', 'X', 'X', 'X', 'X', 'X']\n",
       "['X', 'X', 'X', ' ', ' ', ' ', 'X', 'X']\n",
       "['X', '.', ' ', ' ', 'b', ' ', 'X', 'X']\n",
       "['X', 'X', 'X', ' ', 'b', '.', 'X', 'X']\n",
       "['X', '.', 'X', 'X', 'b', ' ', 'X', 'X']\n",
       "['X', ' ', 'X', ' ', 'P', ' ', 'X', 'X']\n",
       "['X', 'b', ' ', '.', 'b', 'b', '.', 'X']\n",
       "['X', ' ', ' ', 'b', '.', ' ', ' ', 'X']\n",
       "['X', 'X', 'X', 'X', 'X', 'X', 'X', 'X']"
      ]
     },
     "execution_count": 124,
     "metadata": {},
     "output_type": "execute_result"
    }
   ],
   "source": [
    "game.move('right')\n",
    "game"
   ]
  },
  {
   "cell_type": "code",
   "execution_count": 125,
   "id": "5af1ab23-03c5-4945-a579-2d01b0d0c1a7",
   "metadata": {},
   "outputs": [
    {
     "data": {
      "text/plain": [
       "['X', 'X', 'X', 'X', 'X', 'X', 'X', 'X']\n",
       "['X', 'X', 'X', ' ', ' ', ' ', 'X', 'X']\n",
       "['X', '.', ' ', ' ', 'b', ' ', 'X', 'X']\n",
       "['X', 'X', 'X', ' ', 'b', '.', 'X', 'X']\n",
       "['X', '.', 'X', 'X', 'b', ' ', 'X', 'X']\n",
       "['X', ' ', 'X', ' ', '.', ' ', 'X', 'X']\n",
       "['X', 'b', ' ', '.', 'p', 'b', '.', 'X']\n",
       "['X', ' ', ' ', 'b', 'B', ' ', ' ', 'X']\n",
       "['X', 'X', 'X', 'X', 'X', 'X', 'X', 'X']"
      ]
     },
     "execution_count": 125,
     "metadata": {},
     "output_type": "execute_result"
    }
   ],
   "source": [
    "game.move('down')\n",
    "game"
   ]
  },
  {
   "cell_type": "code",
   "execution_count": null,
   "id": "21ea4649-6d42-4443-a3cc-e8f0ba874924",
   "metadata": {},
   "outputs": [],
   "source": []
  }
 ],
 "metadata": {
  "kernelspec": {
   "display_name": "Python 3 (ipykernel)",
   "language": "python",
   "name": "python3"
  },
  "language_info": {
   "codemirror_mode": {
    "name": "ipython",
    "version": 3
   },
   "file_extension": ".py",
   "mimetype": "text/x-python",
   "name": "python",
   "nbconvert_exporter": "python",
   "pygments_lexer": "ipython3",
   "version": "3.13.0"
  }
 },
 "nbformat": 4,
 "nbformat_minor": 5
}
