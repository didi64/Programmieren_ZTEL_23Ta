{
 "cells": [
  {
   "cell_type": "code",
   "execution_count": null,
   "id": "889019d4-2f85-4dc1-9071-97d5b23c6e89",
   "metadata": {},
   "outputs": [],
   "source": []
  },
  {
   "cell_type": "code",
   "execution_count": 3,
   "id": "78e04cc1-943a-452c-8cb5-d1a138938fa5",
   "metadata": {},
   "outputs": [
    {
     "data": {
      "application/vnd.jupyter.widget-view+json": {
       "model_id": "8b7925c39b214479b515c21ec8055231",
       "version_major": 2,
       "version_minor": 0
      },
      "text/plain": [
       "Output(layout=Layout(border_bottom='1px solid black', border_left='1px solid black', border_right='1px solid b…"
      ]
     },
     "metadata": {},
     "output_type": "display_data"
    },
    {
     "data": {
      "application/vnd.jupyter.widget-view+json": {
       "model_id": "53eef0d5d37d4a1cbfd2a292d947d642",
       "version_major": 2,
       "version_minor": 0
      },
      "text/plain": [
       "Text(value=\"'n' (new game), '12' (Disk von 1 nach 2): \", layout=Layout(width='300px'))"
      ]
     },
     "metadata": {},
     "output_type": "display_data"
    },
    {
     "data": {
      "application/vnd.jupyter.widget-view+json": {
       "model_id": "1464e65d51344038abce9415f6b4e2a5",
       "version_major": 2,
       "version_minor": 0
      },
      "text/plain": [
       "Output(layout=Layout(border_bottom='1px solid black', border_left='1px solid black', border_right='1px solid b…"
      ]
     },
     "metadata": {},
     "output_type": "display_data"
    }
   ],
   "source": [
    "from game import Game\n",
    "import views\n",
    "import controllers\n",
    "from IPython.display import display\n",
    "\n",
    "\n",
    "prompt = \"'n' (new game), '12' (Disk von 1 nach 2): \"\n",
    "game = Game()\n",
    "# view = views.DebugView(game)\n",
    "view = views.TextView(game)\n",
    "controller = controllers.TextController(game, prompt=prompt, width=300)\n",
    "display(view, controller)"
   ]
  },
  {
   "cell_type": "code",
   "execution_count": 6,
   "id": "2845ac18-dcd8-42f5-8047-5414a686b132",
   "metadata": {},
   "outputs": [],
   "source": [
    "view.out.clear_output()"
   ]
  },
  {
   "cell_type": "code",
   "execution_count": 10,
   "id": "0597a843-b319-47fb-bc32-e85c36749c9c",
   "metadata": {},
   "outputs": [],
   "source": [
    "controller.err_out.clear_output()"
   ]
  },
  {
   "cell_type": "code",
   "execution_count": null,
   "id": "f1f8cc3e-c110-4126-a97e-544e15b7a139",
   "metadata": {},
   "outputs": [],
   "source": []
  }
 ],
 "metadata": {
  "kernelspec": {
   "display_name": "Python 3 (ipykernel)",
   "language": "python",
   "name": "python3"
  },
  "language_info": {
   "codemirror_mode": {
    "name": "ipython",
    "version": 3
   },
   "file_extension": ".py",
   "mimetype": "text/x-python",
   "name": "python",
   "nbconvert_exporter": "python",
   "pygments_lexer": "ipython3",
   "version": "3.13.0"
  }
 },
 "nbformat": 4,
 "nbformat_minor": 5
}
