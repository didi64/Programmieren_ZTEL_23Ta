{
 "cells": [
  {
   "cell_type": "markdown",
   "id": "cc9482fe-f6e5-4696-af89-65a294552e1e",
   "metadata": {},
   "source": [
    "### Hanoi mit Klassen\n",
    "Vergleiche mit dem Notebook `Tuerme_von_Hanoi.ipynb` der Lektion 12.  \n",
    "Beachte: `event_handler` ist ein Attribut der Instanz. Dieses Attribut speichert eine Funktion, die\n",
    "von den Methoden `new_game` und `move_disk` aufgerufen wird. \n",
    "Diese Funktion soll den aktuellen Spielzustand darstellen, hier die 3 Stapel. \n",
    "\n",
    "Der Default Eventhandler ist die Funktion `print`.\n",
    "Wir geben einfach die Argumente aus, mit denen die Funktion `event_handler` aufgerufen wird."
   ]
  },
  {
   "cell_type": "code",
   "execution_count": 1,
   "id": "1a70d9b7-a5db-49fa-bbe0-bfcd011d467d",
   "metadata": {},
   "outputs": [],
   "source": [
    "#%%file game.py\n",
    "class Game:\n",
    "    def __init__(self):\n",
    "        self.ndisks = 4\n",
    "        self.stacks = None\n",
    "        self.event_handler = print\n",
    "\n",
    "    def new_game(self):\n",
    "        self.stacks = [list(range(self.ndisks))[::-1], [], []]\n",
    "        self.event_handler('new_game', self.stacks)\n",
    "\n",
    "    def move_disk(self, src, dst):\n",
    "        if (not self.stacks[src] or\n",
    "           (self.stacks[dst] and self.stacks[dst][-1] < self.stacks[src][-1])):\n",
    "            return\n",
    "        disk = self.stacks[src].pop()\n",
    "        self.stacks[dst].append(disk)\n",
    "        self.event_handler('update_stacks', self.stacks)\n",
    "\n",
    "    def __repr__(self):\n",
    "        return str(self.stacks)"
   ]
  },
  {
   "cell_type": "code",
   "execution_count": 2,
   "id": "43a3494a-ac8e-450d-8f36-5c21605cc9aa",
   "metadata": {},
   "outputs": [
    {
     "data": {
      "text/plain": [
       "None"
      ]
     },
     "execution_count": 2,
     "metadata": {},
     "output_type": "execute_result"
    }
   ],
   "source": [
    "game = Game()\n",
    "game"
   ]
  },
  {
   "cell_type": "code",
   "execution_count": 3,
   "id": "b07944d4-6fba-464f-afc1-7de93f0ad29c",
   "metadata": {},
   "outputs": [
    {
     "name": "stdout",
     "output_type": "stream",
     "text": [
      "new_game [[3, 2, 1, 0], [], []]\n"
     ]
    }
   ],
   "source": [
    "game.new_game()"
   ]
  },
  {
   "cell_type": "code",
   "execution_count": 4,
   "id": "19f5cddf-9280-4e9f-8267-da1c7fdfba02",
   "metadata": {},
   "outputs": [
    {
     "name": "stdout",
     "output_type": "stream",
     "text": [
      "update_stacks [[3, 2, 1], [], [0]]\n"
     ]
    }
   ],
   "source": [
    "game.move_disk(0, 2)"
   ]
  },
  {
   "cell_type": "code",
   "execution_count": 5,
   "id": "cce4da58-5d69-435c-80a7-30dc9c72cade",
   "metadata": {},
   "outputs": [
    {
     "data": {
      "text/plain": [
       "[[3, 2, 1], [], [0]]"
      ]
     },
     "execution_count": 5,
     "metadata": {},
     "output_type": "execute_result"
    }
   ],
   "source": [
    "game"
   ]
  },
  {
   "cell_type": "code",
   "execution_count": 6,
   "id": "b60d52ee-2c8e-4bda-ae7b-f5f748bd97d2",
   "metadata": {},
   "outputs": [],
   "source": [
    "#%%file view.py\n",
    "import widgets_helpers\n",
    "from ipycanvas import Canvas\n",
    "from IPython.display import display\n",
    "\n",
    "\n",
    "class CanvasView:\n",
    "    positions = [50, 150, 250]\n",
    "    disk_widths = [30, 50, 70, 90]\n",
    "    disk_height = 10\n",
    "    colors = ['brown', 'teal', 'blue', 'purple']\n",
    "\n",
    "    def __init__(self, game):\n",
    "        self.game = game\n",
    "        self.canvas = widgets_helpers.new_canvas()\n",
    "        self.game.event_handler = self.callback\n",
    "\n",
    "    def draw_stack(self, stack, pos):\n",
    "        h = self.disk_height\n",
    "        for i, disk in enumerate(stack):\n",
    "            self.canvas.fill_style = self.colors[disk]\n",
    "            w = self.disk_widths[disk]\n",
    "            self.canvas.fill_rect(pos - w/2,\n",
    "                                  self.canvas.height-(i+1)*h,\n",
    "                                  w,\n",
    "                                  h)\n",
    "\n",
    "    def draw_stacks(self, stacks):\n",
    "        self.canvas.clear()\n",
    "        for pos, stack in zip(self.positions, stacks):\n",
    "            self.draw_stack(stack, pos)\n",
    "\n",
    "    def callback(self, event, data):\n",
    "        self.draw_stacks(data)\n",
    "\n",
    "    def _ipython_display_(self):\n",
    "        display(self.canvas)"
   ]
  },
  {
   "cell_type": "code",
   "execution_count": 7,
   "id": "61b3fb6c-c6e1-4fb9-b0c2-d478876fe02f",
   "metadata": {},
   "outputs": [
    {
     "data": {
      "application/vnd.jupyter.widget-view+json": {
       "model_id": "e3f98d9f3c28486989e17035139be8df",
       "version_major": 2,
       "version_minor": 0
      },
      "text/plain": [
       "Canvas(height=200, layout=Layout(border_bottom='1px solid black', border_left='1px solid black', border_right=…"
      ]
     },
     "metadata": {},
     "output_type": "display_data"
    }
   ],
   "source": [
    "view = CanvasView(game)\n",
    "view"
   ]
  },
  {
   "cell_type": "code",
   "execution_count": 8,
   "id": "c95738e3-88a0-4ccd-9a19-38f64aed66c2",
   "metadata": {},
   "outputs": [],
   "source": [
    "# Methode draw_stacks testen\n",
    "stacks = [[2, 1], [3, 2, 1], [1, 2, 3]]\n",
    "view.draw_stacks(stacks)"
   ]
  },
  {
   "cell_type": "code",
   "execution_count": 9,
   "id": "b9fe0f27-ad11-470f-a4a0-f297223be78d",
   "metadata": {},
   "outputs": [],
   "source": [
    "game.new_game()"
   ]
  },
  {
   "cell_type": "code",
   "execution_count": 10,
   "id": "3ed4c49d-1254-4ea1-8ca6-2556c35ea90e",
   "metadata": {},
   "outputs": [],
   "source": [
    "game.move_disk(0, 1)"
   ]
  },
  {
   "cell_type": "code",
   "execution_count": null,
   "id": "b9dbf928-4b8d-4a11-80bb-d6e7ae313a0d",
   "metadata": {},
   "outputs": [],
   "source": []
  },
  {
   "cell_type": "markdown",
   "id": "4ee36e4a-51fd-478a-b158-d8834367b18e",
   "metadata": {},
   "source": []
  },
  {
   "cell_type": "code",
   "execution_count": 29,
   "id": "13dcca4a-80aa-4318-8745-9333f23456d7",
   "metadata": {},
   "outputs": [
    {
     "name": "stdout",
     "output_type": "stream",
     "text": [
      "Overwriting controller.py\n"
     ]
    }
   ],
   "source": [
    "#%%file controller.py\n",
    "from IPython.display import display\n",
    "from canvas_callbacks import remove_all_callbacks\n",
    "from widgets_helpers import new_output\n",
    "\n",
    "\n",
    "class Controller:\n",
    "    def __init__(self, game, canvas, remove_callbacks=True, debug=True):\n",
    "        self.game = game\n",
    "        self.canvas = canvas\n",
    "        if debug:\n",
    "            self.out = new_output()\n",
    "\n",
    "        self.src = None\n",
    "        self.dst = None\n",
    "\n",
    "        if remove_all_callbacks:\n",
    "            remove_all_callbacks(self.canvas)\n",
    "        if debug:\n",
    "            self.on_key_down = self.out.capture()(self.on_key_down)\n",
    "\n",
    "        self.canvas.on_key_down(self.on_key_down)\n",
    "\n",
    "    def on_key_down(self, key, *flags):\n",
    "        if key in '123' and self.src is None:\n",
    "            self.src = int(key) - 1\n",
    "            return\n",
    "        elif key in '123':\n",
    "            self.dst = int(key) - 1\n",
    "            self.game.move_disk(self.src, self.dst)\n",
    "        if key == 'n':\n",
    "            self.game.new_game()\n",
    "        self.src = None\n",
    "\n",
    "    def _ipython_display_(self):\n",
    "        display(self.canvas, self.out)"
   ]
  },
  {
   "cell_type": "code",
   "execution_count": 20,
   "id": "d7841eba-ca5c-4eff-adb4-d70134a4f5d3",
   "metadata": {},
   "outputs": [
    {
     "data": {
      "application/vnd.jupyter.widget-view+json": {
       "model_id": "82bf601f48394c6b8bcc6721636f2f59",
       "version_major": 2,
       "version_minor": 0
      },
      "text/plain": [
       "Canvas(height=200, layout=Layout(border_bottom='1px solid black', border_left='1px solid black', border_right=…"
      ]
     },
     "metadata": {},
     "output_type": "display_data"
    },
    {
     "data": {
      "application/vnd.jupyter.widget-view+json": {
       "model_id": "141e91a91f444465a60aaff6cc6c18a5",
       "version_major": 2,
       "version_minor": 0
      },
      "text/plain": [
       "Output(layout=Layout(border_bottom='1px solid black', border_left='1px solid black', border_right='1px solid b…"
      ]
     },
     "metadata": {},
     "output_type": "display_data"
    }
   ],
   "source": [
    "controller = Controller(game, view.canvas)\n",
    "controller"
   ]
  },
  {
   "cell_type": "code",
   "execution_count": 21,
   "id": "9f59521a-69af-4e2f-8574-a89d1aafe8d6",
   "metadata": {},
   "outputs": [],
   "source": [
    "game.new_game()"
   ]
  },
  {
   "cell_type": "code",
   "execution_count": null,
   "id": "46304439-be8a-417e-8108-2ef0156c949f",
   "metadata": {},
   "outputs": [],
   "source": []
  },
  {
   "cell_type": "code",
   "execution_count": 15,
   "id": "2eac211e-0f00-4995-95f7-7db02383cf9c",
   "metadata": {},
   "outputs": [],
   "source": [
    "game.move_disk(0, 1)"
   ]
  },
  {
   "cell_type": "code",
   "execution_count": 16,
   "id": "f3988fe9-1088-4cd8-94c2-70bf666f7a13",
   "metadata": {},
   "outputs": [],
   "source": [
    "controller.game.new_game()"
   ]
  },
  {
   "cell_type": "code",
   "execution_count": 17,
   "id": "d031acd6-0b12-4e7e-9abc-c1dbe281d8bb",
   "metadata": {},
   "outputs": [],
   "source": [
    "controller.game.move_disk(0, 1)"
   ]
  },
  {
   "cell_type": "code",
   "execution_count": 22,
   "id": "b1f54f53-5f9c-404b-bf47-207b823a198f",
   "metadata": {},
   "outputs": [],
   "source": [
    "controller.on_key_down()"
   ]
  },
  {
   "cell_type": "code",
   "execution_count": 23,
   "id": "7bdb2fb3-6eae-4628-8b05-2f8d4690078a",
   "metadata": {},
   "outputs": [],
   "source": [
    "controller.out.clear_output()"
   ]
  },
  {
   "cell_type": "markdown",
   "id": "6401e89e-93cc-4618-b159-a713175d8fcf",
   "metadata": {},
   "source": [
    "### Aufgabe\n",
    "Erweitere die Klasse `Controller` um Methoden\n",
    "`on_mouse_down` und `on_mouse_up`, welche das Verschieben der Scheiben mit der Maus \n",
    "m&ouml;glich machen sollen. Orientiere dich an der Maussteuerung im Notebook `Tuerme_von_Hanoi.ipynb` der Lektion 12.\n",
    "Passe dann die `__init__`-Methode entsprechend an.\n",
    "\n",
    "\n",
    "\n",
    "```python\n",
    "\n",
    "    def __init__(self, game, canvas, remove_callbacks=True, debug=True):\n",
    "        ...\n",
    "        if debug:\n",
    "            self.on_key_down = self.out.capture()(self.on_key_down)\n",
    "            self.on_mouse_down = self.out.capture()(self.on_mouse_down)\n",
    "            self.on_mouse_up = self.out.capture()(self.on_mouse_up)\n",
    "        \n",
    "        self.canvas.on_key_down(self.on_key_down)\n",
    "        self.canvas.on_mouse_down(self.on_mouse_down)\n",
    "        self.canvas.on_mouse_up(self.on_mouse_up)\n",
    "        ...\n",
    "\n",
    "    def on_mouse_down(self, x, y):\n",
    "        ...\n",
    "    \n",
    "    def on_mouse_up(self, x, y):\n",
    "        ...\n",
    "```"
   ]
  },
  {
   "cell_type": "code",
   "execution_count": null,
   "id": "f4ad6a13-6194-4bcc-a2c5-c19b95ba47da",
   "metadata": {},
   "outputs": [],
   "source": []
  }
 ],
 "metadata": {
  "kernelspec": {
   "display_name": "Python 3 (ipykernel)",
   "language": "python",
   "name": "python3"
  },
  "language_info": {
   "codemirror_mode": {
    "name": "ipython",
    "version": 3
   },
   "file_extension": ".py",
   "mimetype": "text/x-python",
   "name": "python",
   "nbconvert_exporter": "python",
   "pygments_lexer": "ipython3",
   "version": "3.13.0"
  }
 },
 "nbformat": 4,
 "nbformat_minor": 5
}
