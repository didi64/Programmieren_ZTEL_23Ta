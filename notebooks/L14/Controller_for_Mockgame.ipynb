{
 "cells": [
  {
   "cell_type": "markdown",
   "id": "07005da3-f981-4b66-9ea0-590395cfaef6",
   "metadata": {},
   "source": [
    "### Ein einfacher Controller f&uuml;r einen Spiel-Prototyp\n",
    "Nehmen wir an, wir haben einen Prototyp eines einfachen Spiels\n",
    "programmiert (siehe n&auml;chste Zelle). Das Spiel habe die Methoden `new_game` (neues Spiel starten) und `move(move)` \n",
    "(macht den Zug move). Weiter haben wir eine textliche Darstellung des Spielzustands.  \n",
    "\n",
    "Um den Controller testen zu k&ouml;nnen, erstellen wir eine\n",
    "sog. Mock-Variante des Spiels, welche die gleichen Methoden wie\n",
    "das eigentliche Spiel bereitstellt. \n",
    "Um zu sehen, dass sich etwas &auml;ndert, z&auml;hlen wir die\n",
    "Anzahl der gemachten Z&uuml;ge.  \n",
    "\n",
    "**Beachte**: Machen wir einen Zug, bevor wir `new_game()` aufgerufen haben, wird ein\n",
    "Fehler erzeugt, da wir nicht zu `None` addieren k&ouml;nnen.\n"
   ]
  },
  {
   "cell_type": "code",
   "execution_count": null,
   "id": "bc9f3d9f-5397-45a5-972d-d8d0d8b39f2c",
   "metadata": {},
   "outputs": [],
   "source": [
    "class Game:\n",
    "    def __init__(self):\n",
    "        self.move_count = None\n",
    "\n",
    "    def new_game(self):\n",
    "        self.move_count = 0\n",
    "        print('starting a new game')\n",
    "\n",
    "    def move(self, move):\n",
    "        self.move_count += 1\n",
    "        print('moving', move)\n",
    "\n",
    "    def __repr__(self):\n",
    "        return 'Mock game object\\nmove count: {}'.format(self.move_count)"
   ]
  },
  {
   "cell_type": "code",
   "execution_count": null,
   "id": "e0c82920-fe0e-4155-8872-8a821c8a02cd",
   "metadata": {},
   "outputs": [],
   "source": [
    "game = Game()\n",
    "print(game)  # gibt Rueckgabewert von game.__repr__() aus"
   ]
  },
  {
   "cell_type": "code",
   "execution_count": null,
   "id": "08bb856c-f353-40ed-9557-9a01790a72cb",
   "metadata": {},
   "outputs": [],
   "source": [
    "# Mock Game Objekt testen\n",
    "game.new_game()\n",
    "game.move('left')\n",
    "game  #zeigt den Rueckgabewert von game.__repr__() an"
   ]
  },
  {
   "cell_type": "code",
   "execution_count": null,
   "id": "a07a9fd5-cfce-4305-bdc0-0b5679f492d4",
   "metadata": {},
   "outputs": [],
   "source": [
    "game.move('left')\n",
    "game"
   ]
  },
  {
   "cell_type": "code",
   "execution_count": null,
   "id": "b277cca2-3bfc-4e86-b8e6-5332bf6d40e5",
   "metadata": {},
   "outputs": [],
   "source": []
  },
  {
   "cell_type": "markdown",
   "id": "3f750b26-a093-4071-a71b-03c148d7c506",
   "metadata": {},
   "source": [
    "### Der Controller\n",
    "Um den Prototyp bequem testen zu k&ouml;nnen, \n",
    "programmieren wir einen einfachen Controller, der\n",
    "mit Hilfe des Canvas-Widgets auf Tasteneingaben h&ouml;rt und dann,\n",
    "je nach Taste, eine Methode des Spiels aufruft.  \n",
    "\n",
    "- 'n': ruft `game.newgame()` auf,\n",
    "- Pfeiltaste: ruft `game.move(<Richtung>)` auf.\n",
    "  \n",
    "Das Aufrufen dieser Methode wird von einer Funktion\n",
    "erledigt, welche wir als Eventhandler f&uuml;r das Event `on_key_down` f&uuml;r ein Canvas-Objekt registrieren.\n",
    "\n",
    "```python\n",
    "canvas.on_key_down(<Funktion die Spielmethoden aufruft>)\n",
    "```\n",
    "\n",
    "Damit wir eventuelle Fehlermeldungen dieser Funktion sehen k&ouml;nnen,\n",
    "leiten wir allen Output dieser Funktion in ein Output-Widget um. \n",
    "Das Output-Widget muss ein **Klassenattribut** sein, damit\n",
    "wir Klassenmethoden damit dekorieren k&ouml;nnen.\n",
    "\n",
    "Das ist nicht weiter schlimm, da das Output-Widget nur zum Debuggen w&auml;hrend der Entwicklungsphase genutzen wird.\n",
    "\n",
    "Hier missbrauchen wir dieses Output-Widget f&uuml;r die Darstellung des Spielzustandes\n",
    "(eine ganz einfache Viewklasse schreiben wir dann im Notebook `View_for_Mockgame.ipynb`).\n",
    "Nachdem der Controller eine Game-Methode aufgerufen hat, geben wir\n",
    "die Game-Instanz mit `print` aus.  \n",
    "\n",
    "Eine Controller Objekt f&uuml;r ein Spielobjekt `game` wird mit dem\n",
    "Aufruf `controller(game)` erstellt.\n",
    "Zeigen wir das Controller Objekt an, sehen wir eine Leinwand mit dem Text\n",
    "'Listing for keys'. Klicken wir nun auf die Leinwand und dr&uuml;cken dann eine Taste, wird eine entsprechende Methode von `game` aufgerufen und\n",
    "eine textliche Darstellung des Spielzustandes angezeigt."
   ]
  },
  {
   "cell_type": "code",
   "execution_count": null,
   "id": "813e371a-a703-4a2c-ad62-83a616a324cf",
   "metadata": {},
   "outputs": [],
   "source": [
    "import widgets_helpers\n",
    "from IPython.display import display\n",
    "\n",
    "\n",
    "class Controller:\n",
    "\n",
    "    # gehoert der Klasse, alle Instanzen benutzen das gleiche err_out\n",
    "    err_out = widgets_helpers.new_output()\n",
    "\n",
    "    def __init__(self, game):\n",
    "        self.game = game\n",
    "        self.canvas = widgets_helpers.new_canvas(200, 30)\n",
    "        self.canvas.font = '20px sans-serif'\n",
    "        self.canvas.fill_text('Listening for keys', 10, 22)\n",
    "        self.canvas.on_key_down(self.on_key_down)\n",
    "\n",
    "    @err_out.capture(clear_output=True)\n",
    "    def on_key_down(self, key, *flags):\n",
    "        if key == 'n':\n",
    "            self.game.new_game()\n",
    "\n",
    "        if key.startswith('Arrow'):\n",
    "            move = key.removeprefix('Arrow').lower()\n",
    "            self.game.move(move)\n",
    "\n",
    "        # nicht in basic_controller.py (nur fuer behelfsmaessige Ausgabe)\n",
    "        print(self.game)\n",
    "\n",
    "    def _ipython_display_(self):\n",
    "        display(self.canvas, self.err_out)"
   ]
  },
  {
   "cell_type": "code",
   "execution_count": null,
   "id": "f69e4e3f-6a5e-42c2-a933-b1d1f6d013be",
   "metadata": {},
   "outputs": [],
   "source": [
    "# Controller mit Mock-Game testen\n",
    "game = Game()\n",
    "controller = Controller(game)\n",
    "controller"
   ]
  },
  {
   "cell_type": "code",
   "execution_count": null,
   "id": "111744f2-7b24-4754-883a-e1cae58723a9",
   "metadata": {},
   "outputs": [],
   "source": []
  },
  {
   "cell_type": "code",
   "execution_count": null,
   "id": "1c7ac79d-abb8-4b74-990d-1dcac07720e5",
   "metadata": {},
   "outputs": [],
   "source": [
    "# View mit Spiel Sokoban testen\n",
    "from sokoban import Sokoban\n",
    "\n",
    "\n",
    "game = Sokoban()\n",
    "game"
   ]
  },
  {
   "cell_type": "code",
   "execution_count": null,
   "id": "a862df20-55b8-4643-83f5-d5f3a7369f9f",
   "metadata": {},
   "outputs": [],
   "source": []
  },
  {
   "cell_type": "code",
   "execution_count": null,
   "id": "e5cda022-4ceb-4937-af88-bac8834046f9",
   "metadata": {},
   "outputs": [],
   "source": [
    "# entferne obiges Output-Widget\n",
    "# nachstehende Controllerinstanz schreibt auch dorthin\n",
    "controller = Controller(game)\n",
    "controller"
   ]
  },
  {
   "cell_type": "code",
   "execution_count": null,
   "id": "062f9fde-7dbd-4f88-a969-89fc7db95bf4",
   "metadata": {},
   "outputs": [],
   "source": []
  }
 ],
 "metadata": {
  "kernelspec": {
   "display_name": "Python 3 (ipykernel)",
   "language": "python",
   "name": "python3"
  },
  "language_info": {
   "codemirror_mode": {
    "name": "ipython",
    "version": 3
   },
   "file_extension": ".py",
   "mimetype": "text/x-python",
   "name": "python",
   "nbconvert_exporter": "python",
   "pygments_lexer": "ipython3",
   "version": "3.13.0"
  }
 },
 "nbformat": 4,
 "nbformat_minor": 5
}
