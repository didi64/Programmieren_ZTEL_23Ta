{
 "cells": [
  {
   "cell_type": "markdown",
   "id": "07005da3-f981-4b66-9ea0-590395cfaef6",
   "metadata": {},
   "source": [
    "### Eine einfache View zur textlichen Dartellung des Spielzustandes in einem Output-Widget\n",
    "\n",
    "Wir nehmen an, unsere Spielinstanz hat ein Attribut\n",
    "`event_handler`, welche eine Funktion speichert, die\n",
    "nach jeder Aktion (`new_game`, `move`) mit den Argumenten `event` und `data` aufgerufen wird. Die Idee ist, dass eine \n",
    "f&uuml;r die Darstellung zust&auml;ndige Komponente diesem Attribut eine Funktion zuweist,\n",
    "welche die Darstellung des Spielzustandes aktuallisiert."
   ]
  },
  {
   "cell_type": "code",
   "execution_count": null,
   "id": "207061bc-5e29-4b7d-aa2f-1539f71f1477",
   "metadata": {},
   "outputs": [],
   "source": [
    "class Game:\n",
    "    def __init__(self):\n",
    "        self.move_count = None\n",
    "        self.event_handler = print\n",
    "\n",
    "    def new_game(self):\n",
    "        self.move_count = 0\n",
    "        self.event_handler('new game', None)\n",
    "\n",
    "    def move(self, move):\n",
    "        self.move_count += 1\n",
    "        self.event_handler('move', move)\n",
    "\n",
    "    def __repr__(self):\n",
    "        return 'Mock game object\\nmove count: {}'.format(self.move_count)"
   ]
  },
  {
   "cell_type": "code",
   "execution_count": null,
   "id": "e0c82920-fe0e-4155-8872-8a821c8a02cd",
   "metadata": {},
   "outputs": [],
   "source": [
    "# Mock Game Objekt erstellen\n",
    "game = Game()\n",
    "game"
   ]
  },
  {
   "cell_type": "code",
   "execution_count": null,
   "id": "08bb856c-f353-40ed-9557-9a01790a72cb",
   "metadata": {},
   "outputs": [],
   "source": [
    "# Mock Game Objekt testen\n",
    "game.new_game()\n",
    "game.move('left')"
   ]
  },
  {
   "cell_type": "markdown",
   "id": "50c8f03a-be0c-4305-b053-1bffab549663",
   "metadata": {},
   "source": [
    "### Die Klasse View  \n",
    "Wird eine Viewinstanz `view` angezeigt, sehen wir ein\n",
    "Output-Widget.\n",
    "Die Funktion `view(event, data)` zeigt dann\n",
    "eine Nachricht (letzter Zug) und \n",
    "eine textliche Darstellung des Spielzustandes darin an. \n",
    "Sobald wir die Funktion `view(event, data)` dem Attribut\n",
    "`event_handler` der Spielinstanz zugewiesen haben,\n",
    "wird der Spielzustand im Output-Widget der View angezeigt.\n"
   ]
  },
  {
   "cell_type": "code",
   "execution_count": null,
   "id": "f6ea4526-d84c-45ca-af9d-343ea819f8d9",
   "metadata": {},
   "outputs": [],
   "source": [
    "import widgets_helpers\n",
    "\n",
    "\n",
    "class View:\n",
    "    def __init__(self, game, height=None):\n",
    "        self.game = game\n",
    "        layout = {'border': '1px solid black',\n",
    "                  'height': '{}px'.format(height) if height else None,\n",
    "                  }\n",
    "        self.out = widgets_helpers.new_output(layout=layout)\n",
    "\n",
    "    def game_event_handler(self, event, data):\n",
    "        fmt = 'Event: {}\\ndata: {}'\n",
    "        msg = fmt.format(event, data)\n",
    "\n",
    "        with self.out:\n",
    "            self.out.clear_output()\n",
    "            print(msg)\n",
    "            print(game)\n",
    "\n",
    "    def _ipython_display_(self):\n",
    "        display(self.out)"
   ]
  },
  {
   "cell_type": "code",
   "execution_count": null,
   "id": "f292728c-4a47-4104-ab9d-8c35c500e863",
   "metadata": {},
   "outputs": [],
   "source": [
    "view = View(game, height=50)\n",
    "view"
   ]
  },
  {
   "cell_type": "code",
   "execution_count": null,
   "id": "08c68bf7-bfd5-4e48-865d-30c9a2a0dfb0",
   "metadata": {},
   "outputs": [],
   "source": [
    "# event_handler aufrufen, zum testen\n",
    "view.game_event_handler(event='testevent', data=5)"
   ]
  },
  {
   "cell_type": "code",
   "execution_count": null,
   "id": "436de598-bd98-4267-a253-98a8aaf7f17c",
   "metadata": {},
   "outputs": [],
   "source": []
  },
  {
   "cell_type": "code",
   "execution_count": null,
   "id": "540d2f7b-615f-46a0-bb26-f7ca06256cd7",
   "metadata": {},
   "outputs": [],
   "source": [
    "# event_handler fuer game verwenden\n",
    "game.event_handler = view.game_event_handler\n",
    "game.new_game()"
   ]
  },
  {
   "cell_type": "code",
   "execution_count": null,
   "id": "eae0375c-0d13-4692-a903-507863765b56",
   "metadata": {},
   "outputs": [],
   "source": [
    "game.move('up')"
   ]
  },
  {
   "cell_type": "code",
   "execution_count": null,
   "id": "652bddad-fc23-4036-b177-43ca04a5d85b",
   "metadata": {},
   "outputs": [],
   "source": []
  },
  {
   "cell_type": "code",
   "execution_count": null,
   "id": "7af51dda-b4f9-43a0-a4a4-cfba23759351",
   "metadata": {},
   "outputs": [],
   "source": [
    "from sokoban import Sokoban\n",
    "\n",
    "\n",
    "game = Sokoban()\n",
    "game"
   ]
  },
  {
   "cell_type": "code",
   "execution_count": null,
   "id": "a7c9e8db-6484-486b-85d4-5b918140f657",
   "metadata": {},
   "outputs": [],
   "source": [
    "view = View(game, 200)\n",
    "game.event_handler = view.game_event_handler\n",
    "game.new_game()\n",
    "view"
   ]
  },
  {
   "cell_type": "code",
   "execution_count": null,
   "id": "f387a468-b3ef-4c57-aac7-326200828740",
   "metadata": {},
   "outputs": [],
   "source": [
    "game.move('right')"
   ]
  },
  {
   "cell_type": "code",
   "execution_count": null,
   "id": "11adb17d-7813-4da5-bd47-0b2a16f4d4e4",
   "metadata": {},
   "outputs": [],
   "source": [
    "game.new_game()"
   ]
  },
  {
   "cell_type": "code",
   "execution_count": null,
   "id": "d05aea91-55b5-40ea-a147-5c27a221ad44",
   "metadata": {},
   "outputs": [],
   "source": [
    "# View testen, Loesung vorspielen\n",
    "import time\n",
    "tt = {'r': 'right', 'l': 'left', 'u': 'up', 'd': 'down'}\n",
    "solution = 'rurrdlllrrrdddldrlldlluuddrruurruuulldrdrddlldllur'\n",
    "game.new_game()\n",
    "for m in solution:\n",
    "    time.sleep(1)\n",
    "    game.move(tt[m])"
   ]
  },
  {
   "cell_type": "code",
   "execution_count": null,
   "id": "0d6dedfe-c8a7-4620-bb41-a88029ac2843",
   "metadata": {},
   "outputs": [],
   "source": []
  },
  {
   "cell_type": "markdown",
   "id": "b1e46e56-328d-45f8-a6c1-30cca03ac2f5",
   "metadata": {},
   "source": [
    "***\n",
    "Statt das Spiel mit Methodenaufrufen zu steuern, k&ouml;nnen wir nat&uuml;rlich auch unseren Kontroller (`basic_controller.py`) verwenden.\n",
    "***"
   ]
  },
  {
   "cell_type": "code",
   "execution_count": null,
   "id": "8c8c3e77-ddcb-4506-b2e0-549fe0aea271",
   "metadata": {},
   "outputs": [],
   "source": [
    "from basic_controller import Controller\n",
    "from IPython.display import display\n",
    "\n",
    "\n",
    "view = View(game, 200)\n",
    "game.event_handler = view.game_event_handler\n",
    "\n",
    "controller = Controller(game)\n",
    "display(controller, view)"
   ]
  },
  {
   "cell_type": "code",
   "execution_count": null,
   "id": "68e23474-8a79-456e-b714-f17763bb35c7",
   "metadata": {},
   "outputs": [],
   "source": []
  }
 ],
 "metadata": {
  "kernelspec": {
   "display_name": "Python 3 (ipykernel)",
   "language": "python",
   "name": "python3"
  },
  "language_info": {
   "codemirror_mode": {
    "name": "ipython",
    "version": 3
   },
   "file_extension": ".py",
   "mimetype": "text/x-python",
   "name": "python",
   "nbconvert_exporter": "python",
   "pygments_lexer": "ipython3",
   "version": "3.13.0"
  }
 },
 "nbformat": 4,
 "nbformat_minor": 5
}
