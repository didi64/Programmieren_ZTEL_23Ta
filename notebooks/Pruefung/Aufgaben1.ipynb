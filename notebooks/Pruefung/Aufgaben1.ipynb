{
 "cells": [
  {
   "cell_type": "code",
   "execution_count": null,
   "id": "7a12c482-2a22-4d1b-8175-21dc1711b946",
   "metadata": {},
   "outputs": [],
   "source": [
    "import loesungen"
   ]
  },
  {
   "cell_type": "markdown",
   "id": "2640cb81-495f-4af2-ab70-757b46e38b48",
   "metadata": {},
   "source": [
    "### Aufgaben 1 (2+2+2=6 Punkte)\n",
    "1. Erstelle mit Hilfe von `range` eine Liste mit den Zahlen von 1 bis und mit 100.\n",
    "   Gib zur Kontrolle die ersten und letzten beiden Elemente dieser Liste aus.\n",
    "   Berechne dann $(1+2+\\ldots+100)^2$ ($25\\,502\\,500$). Hinweis: Benutze die Funktion `sum`.\n",
    "\n",
    "1. Erstelle mit Hilfe einer For-Schleife eine Liste mit den ersten 100 Kubikzahlen\n",
    "   ($1^3, 2^3, \\ldots, 100^3$).\n",
    "   Berechen dann die Summe der ersten 100 Kubikzahlen (mit `sum`) ($25\\,502\\,500$).\n",
    "\n",
    "1. Erstelle nun die gleiche Liste mit List-Comprehension.Gib zur Kontrolle ebenfalls die Summe\n",
    "   aus."
   ]
  },
  {
   "cell_type": "code",
   "execution_count": null,
   "id": "7a613451-d967-4293-b172-03e11c6bbb5a",
   "metadata": {},
   "outputs": [],
   "source": []
  },
  {
   "cell_type": "code",
   "execution_count": null,
   "id": "70027ce5-4b5f-4e2a-a036-59fb2fd5bfa5",
   "metadata": {},
   "outputs": [],
   "source": []
  },
  {
   "cell_type": "markdown",
   "id": "2bd0b41e-5415-4d10-9663-b739265e93ee",
   "metadata": {},
   "source": [
    "### Aufgabe 2 (1+2+3=6 Punkte)\n",
    "1. Erstelle aus dem String `abc` (siehe unten) einen Strings `am` mit den\n",
    " ersten 13 Buchstaben des Alphabets und einen String `nz` mit letzten 13 Buchstaben des Alphabets.\n",
    "1. H&auml;nge die Strings `nz` und `am` aneinander (neuer String `nz_am`) und\n",
    "   erstelle aus `abc` und `nz_am` eine  Liste  \n",
    "   `pairs = [('a', 'n'), ..., ('m','z'), ('n', 'a'), ..., ('z', 'm')]`  \n",
    "   mit den Paaren entsprechender Buchstaben der Strings `abc` und  `nz_am`.  \n",
    "   Benutze eine For-Schleife, um das erste, 13., 14. und letzte\n",
    "Element von `pairs` mit `print` auszugeben  \n",
    "( Diese Elemente: `('a', 'n'), ('n', 'a'), ('o', 'b'), ('z', 'm')`).\n",
    "1. Erstelle aus den Schl&uuml;ssel-Wert Paaren `pairs` einen Dictionary `rot13 = {'a': 'n', ..., 'z': 'm'}`. Benutze eine For-Schleife, um zur Kontrolle die Werte zu den  Schl&uuml;sseln a,b,y und z wie folgt auszugeben:\n",
    "```\n",
    "Schlüssel: a, Wert: n\n",
    "Schlüssel: b, Wert: o\n",
    "Schlüssel: y, Wert: l\n",
    "Schlüssel: z, Wert: m\n",
    "```"
   ]
  },
  {
   "cell_type": "code",
   "execution_count": null,
   "id": "d97e3d2b-b9c2-472c-95b0-750321602722",
   "metadata": {},
   "outputs": [],
   "source": [
    "abc = 'abcdefghijklmnopqrstuvwxyz'"
   ]
  },
  {
   "cell_type": "code",
   "execution_count": null,
   "id": "bde56bb5-2561-4a5e-87e8-7e89951e6489",
   "metadata": {},
   "outputs": [],
   "source": [
    "# loesungen.am, loesungen.nz, loesungen.nz_am"
   ]
  },
  {
   "cell_type": "code",
   "execution_count": null,
   "id": "b8a48824-90e5-4466-ad92-054db6d17e25",
   "metadata": {},
   "outputs": [],
   "source": [
    "# loesungen.pairs"
   ]
  },
  {
   "cell_type": "code",
   "execution_count": null,
   "id": "77f1850b-9fb5-4231-88f7-34e343b02961",
   "metadata": {},
   "outputs": [],
   "source": [
    "# loesungen.rot13"
   ]
  },
  {
   "cell_type": "code",
   "execution_count": null,
   "id": "f614037f-05ef-4c71-a685-bbf96d26deda",
   "metadata": {},
   "outputs": [],
   "source": []
  },
  {
   "cell_type": "code",
   "execution_count": null,
   "id": "dd92de10-9a9b-49fd-8fd6-2bf669aff99f",
   "metadata": {},
   "outputs": [],
   "source": []
  },
  {
   "cell_type": "markdown",
   "id": "734e412b-d46a-48f9-84ed-10705fe0507f",
   "metadata": {},
   "source": [
    "### Aufgabe 3 (3+3=6 Punkte)\n",
    "1. Sei `s = 'klartext'`. Erstelle eine Liste\n",
    "mit den Buchstaben, welche der Dictionary `rot13` den Buchstaben in `s` zuordnet, und\n",
    "forme dann aus diesen Buchstaben einen String (`'xynegrkg'`).\n",
    "2. Schreibe eine Funktion `encode(klartext)`, die\n",
    "   einen String `klartext` auf diese Art verschl&uuml;sselt und das verschl&uuml;sselte Wort zur&uuml;ck gibt. Zeichen im Argumet `klartext`, die nicht Schl&uuml;ssel im Dictionary `rot13` sind \n",
    "sollen nicht ver&auml;ndert werden. Z.B.\n",
    "- `encode('hallo')` -> `'unyyb'`,\n",
    "- `encode('Hallo!')` -> `'Hnyyb!'`."
   ]
  },
  {
   "cell_type": "code",
   "execution_count": 5,
   "id": "a5e2726b-c5dd-4b08-91ca-18305daaf415",
   "metadata": {},
   "outputs": [],
   "source": [
    "s = 'klartext'"
   ]
  },
  {
   "cell_type": "code",
   "execution_count": null,
   "id": "d62c401f-4948-427b-afb2-b100d8a87671",
   "metadata": {},
   "outputs": [],
   "source": []
  },
  {
   "cell_type": "code",
   "execution_count": null,
   "id": "e3f1cfa7-d60d-4d7d-9a93-49d1652a8938",
   "metadata": {},
   "outputs": [],
   "source": []
  },
  {
   "cell_type": "code",
   "execution_count": null,
   "id": "2a64979b-aa85-4980-a91f-1257645c9049",
   "metadata": {},
   "outputs": [],
   "source": []
  },
  {
   "cell_type": "code",
   "execution_count": 4,
   "id": "c023ca5a-cea2-4916-971d-ba4592be70a4",
   "metadata": {},
   "outputs": [
    {
     "data": {
      "text/plain": [
       "('unyyb', 'Hnyyb!')"
      ]
     },
     "execution_count": 4,
     "metadata": {},
     "output_type": "execute_result"
    }
   ],
   "source": [
    "loesungen.encode('hallo'), loesungen.encode('Hallo!')"
   ]
  },
  {
   "cell_type": "code",
   "execution_count": null,
   "id": "f46227da-3b37-45f5-8826-797e918e62f0",
   "metadata": {},
   "outputs": [],
   "source": [
    "def encode(klartext):\n",
    "    ..."
   ]
  },
  {
   "cell_type": "code",
   "execution_count": null,
   "id": "eb7ac4ff-1bde-405e-bcc2-829c5e151935",
   "metadata": {},
   "outputs": [],
   "source": []
  },
  {
   "cell_type": "code",
   "execution_count": null,
   "id": "d17c9736-b930-426d-8a74-800a6e16ef61",
   "metadata": {},
   "outputs": [],
   "source": []
  }
 ],
 "metadata": {
  "kernelspec": {
   "display_name": "Python 3 (ipykernel)",
   "language": "python",
   "name": "python3"
  },
  "language_info": {
   "codemirror_mode": {
    "name": "ipython",
    "version": 3
   },
   "file_extension": ".py",
   "mimetype": "text/x-python",
   "name": "python",
   "nbconvert_exporter": "python",
   "pygments_lexer": "ipython3",
   "version": "3.13.0"
  }
 },
 "nbformat": 4,
 "nbformat_minor": 5
}
