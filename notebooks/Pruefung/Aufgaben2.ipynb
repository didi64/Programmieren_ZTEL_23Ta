{
 "cells": [
  {
   "cell_type": "code",
   "execution_count": 2,
   "id": "d29a7e90-82d6-4cbe-b5b0-9f9c1b24c126",
   "metadata": {},
   "outputs": [],
   "source": [
    "import loesungen"
   ]
  },
  {
   "cell_type": "markdown",
   "id": "a5e9c245-c4bd-4c83-96b0-afb937edfdfe",
   "metadata": {},
   "source": [
    "### Aufgabe 1 (6 Punkte)\n",
    "Schreibe eine Funktion `rumpelstilz()`, die solange  fragt \"Wie heisse ich?\",\n",
    "bis **Dein Vorname** eingegeben wird, und dann gratuliert und ausgibt, wieviele Versuche gebraucht wurden.  \n",
    "```\n",
    "Gratuliere, du hast meinen Namen in 3 Versuchen erraten.\n",
    "```"
   ]
  },
  {
   "cell_type": "code",
   "execution_count": null,
   "id": "0d0afbcd-bacf-4b13-9b0a-10ca6f6b053c",
   "metadata": {},
   "outputs": [],
   "source": [
    "# Loesung fuer jemanden mit Name 'rumpelstilz'\n",
    "loesungen.rumpelstilz()"
   ]
  },
  {
   "cell_type": "code",
   "execution_count": null,
   "id": "0d67ae18-927c-45c3-9668-32208be9d6bd",
   "metadata": {},
   "outputs": [],
   "source": []
  },
  {
   "cell_type": "code",
   "execution_count": null,
   "id": "f855c8fa-0826-4ef1-80b1-4e3930262da8",
   "metadata": {},
   "outputs": [],
   "source": [
    "def rumpelstilz():\n",
    "    ..."
   ]
  },
  {
   "cell_type": "code",
   "execution_count": null,
   "id": "4dae2738-2f12-4951-845c-1885b282b694",
   "metadata": {},
   "outputs": [],
   "source": []
  },
  {
   "cell_type": "code",
   "execution_count": null,
   "id": "bb18afb1-f9ef-4ad9-ae4a-a2ca179e6b0b",
   "metadata": {},
   "outputs": [],
   "source": []
  },
  {
   "cell_type": "markdown",
   "id": "b0627093-15bf-4d98-91b6-82c93d8d3cfb",
   "metadata": {},
   "source": [
    "### Aufgabe 2 (8 Punkte)\n",
    "\n",
    "Wirf einen Blick auf das File `lines.txt`.\n",
    "Jede Zeile enth&auml;lt durch Kommas getrennte W&ouml;rter. Ev. ist vor und noch dem Komma noch Whitespace.\n",
    "\n",
    "Schreibe eine Funktion `file2list(filename)`, die\n",
    "aus jeder Zeile des Files mit Namen `filename`  ein Tuple mit den\n",
    "einzelnen Eintr&auml;gen der Zeile macht, und\n",
    "eine Liste mit diesen Tupeln zur&uuml;ck gibt.\n",
    "**Whitepace am Anfang und Ende** der Strings in den Tupeln ist zu entfernen."
   ]
  },
  {
   "cell_type": "code",
   "execution_count": null,
   "id": "2f6cc0ed-decf-4694-985a-ed7faba19bf0",
   "metadata": {},
   "outputs": [],
   "source": [
    "filename = 'lines.txt'"
   ]
  },
  {
   "cell_type": "code",
   "execution_count": 3,
   "id": "ef441489-676f-460b-bc85-7a7d98204a97",
   "metadata": {},
   "outputs": [
    {
     "data": {
      "text/plain": [
       "[('foo', 'bar', 'baz'), ('foo', 'bar')]"
      ]
     },
     "execution_count": 3,
     "metadata": {},
     "output_type": "execute_result"
    }
   ],
   "source": [
    "# Liste fuer File lines.txt\n",
    "loesungen.file2list('lines.txt')"
   ]
  },
  {
   "cell_type": "code",
   "execution_count": null,
   "id": "3d4fcdd6-c7f0-42cf-b748-179ceafe2eef",
   "metadata": {},
   "outputs": [],
   "source": []
  },
  {
   "cell_type": "code",
   "execution_count": null,
   "id": "091a35d5-2a57-44eb-a230-23dbf9eb7f50",
   "metadata": {},
   "outputs": [],
   "source": []
  },
  {
   "cell_type": "markdown",
   "id": "e81bd16e-cb30-4741-b1ba-8d4bdab5fbe7",
   "metadata": {},
   "source": [
    "### Aufgabe 3 (2+2+2=6 Punkte)\n",
    "\n",
    "1. Implementiere zum w&uuml;rfeln eine  Funktion `wuerfle(n)`, die eine Liste mit $n$\n",
    "Zufallszahlen zwischen 1 und 6 zur&uuml;ck gibt (benutze `randint` aus dem Modul `random`). \n",
    "\n",
    "1. Schreibe eine Funktion `count_dict(numbers)`, die aus der Liste mit den gew&uuml;rfelten Zahlen einen\n",
    "Dictionary erstellt, der angibt, wie oft jede Zahl gew&uuml;rfelt wurde.\n",
    "\n",
    "1. Schreibe eine Funktion `has_quads(numbers)`,\n",
    "die `True` zur&uuml;ckgibt, falls in der Liste `numbers` eine Zahl genau 4 Mal vorkommt."
   ]
  },
  {
   "cell_type": "code",
   "execution_count": 4,
   "id": "571d7e34-2f07-47d8-b700-133946f09ea2",
   "metadata": {},
   "outputs": [
    {
     "data": {
      "text/plain": [
       "[1, 2, 2]"
      ]
     },
     "execution_count": 4,
     "metadata": {},
     "output_type": "execute_result"
    }
   ],
   "source": [
    "loesungen.wuerfle(3)"
   ]
  },
  {
   "cell_type": "code",
   "execution_count": 5,
   "id": "7f5b9830-bbed-4a1c-898f-8e9b9c530912",
   "metadata": {},
   "outputs": [
    {
     "data": {
      "text/plain": [
       "{1: 2, 2: 4, 3: 2}"
      ]
     },
     "execution_count": 5,
     "metadata": {},
     "output_type": "execute_result"
    }
   ],
   "source": [
    "numbers = [1, 2, 1,  2, 2, 3, 3, 2]\n",
    "loesungen.count_dict(numbers)"
   ]
  },
  {
   "cell_type": "code",
   "execution_count": 6,
   "id": "81b9678b-f29b-486b-858c-31d45c77113f",
   "metadata": {},
   "outputs": [
    {
     "data": {
      "text/plain": [
       "True"
      ]
     },
     "execution_count": 6,
     "metadata": {},
     "output_type": "execute_result"
    }
   ],
   "source": [
    "loesungen.has_quads(numbers)"
   ]
  },
  {
   "cell_type": "code",
   "execution_count": null,
   "id": "a14adae3-d472-4c9a-84cf-fd1a25fb194e",
   "metadata": {},
   "outputs": [],
   "source": []
  },
  {
   "cell_type": "code",
   "execution_count": null,
   "id": "8c9be983-350f-4d11-91e4-e894deac2e69",
   "metadata": {},
   "outputs": [],
   "source": []
  },
  {
   "cell_type": "code",
   "execution_count": null,
   "id": "fa93f60c-d793-4c0b-b2fc-3556df881378",
   "metadata": {},
   "outputs": [],
   "source": [
    "def wuerfle(n):\n",
    "    ..."
   ]
  },
  {
   "cell_type": "code",
   "execution_count": null,
   "id": "54d986cc-c73e-4526-9f4a-f1ff9a62ef7c",
   "metadata": {},
   "outputs": [],
   "source": []
  },
  {
   "cell_type": "code",
   "execution_count": null,
   "id": "200a045b-a99f-4a36-988d-2c8aebaf935d",
   "metadata": {},
   "outputs": [],
   "source": []
  },
  {
   "cell_type": "code",
   "execution_count": null,
   "id": "cf8e82cd-491e-4405-8a97-02b5148323c8",
   "metadata": {},
   "outputs": [],
   "source": [
    "def count_dict(numbers):\n",
    "    ...\n",
    "\n"
   ]
  },
  {
   "cell_type": "code",
   "execution_count": null,
   "id": "1ac56be5-e8a2-4375-96a2-a32e53d63d6c",
   "metadata": {},
   "outputs": [],
   "source": []
  },
  {
   "cell_type": "code",
   "execution_count": null,
   "id": "ab2a7be8-f7b6-4adf-bcb4-6640d4acf7bb",
   "metadata": {},
   "outputs": [],
   "source": []
  },
  {
   "cell_type": "code",
   "execution_count": null,
   "id": "82721b1e-c303-4980-aceb-944e533bc6e9",
   "metadata": {},
   "outputs": [],
   "source": [
    "def has_quads(numbers):\n",
    "    ..."
   ]
  },
  {
   "cell_type": "code",
   "execution_count": null,
   "id": "5cd22a70-4611-4ec8-afd6-e51042e4d845",
   "metadata": {},
   "outputs": [],
   "source": []
  },
  {
   "cell_type": "code",
   "execution_count": null,
   "id": "47314366-8f51-4d27-8f55-170c8d434380",
   "metadata": {},
   "outputs": [],
   "source": []
  },
  {
   "cell_type": "code",
   "execution_count": null,
   "id": "31902573-4f7e-4548-bcc5-9fb8bb68a729",
   "metadata": {},
   "outputs": [],
   "source": []
  },
  {
   "cell_type": "markdown",
   "id": "14f394cb-f1b5-4cb1-a81c-485da7f5188c",
   "metadata": {},
   "source": [
    "### Aufgabe (6 Punkte)\n",
    "Jemand schl&auml;gt dir ein Spiel vor. Der Einsatz betr&auml;gt 1 Franken.  \n",
    "Du bekommst 50 Franken, falls du mit 5 Würfeln genau 4 gleiche Zahlen w&uuml;rfelst.\n",
    "\n",
    "Simuliere 100'000 mal spielen. Wie gross ist der durchschnittliche Gewinn?\n",
    "(Sollte zwischen -10 Rappen und 3 Rappen liegen. Erwarteter durchschnittlicher Gewinn: -3.5 Rappen)"
   ]
  },
  {
   "cell_type": "code",
   "execution_count": null,
   "id": "c132b0ae-3575-46c6-92f9-803ff20d5267",
   "metadata": {},
   "outputs": [],
   "source": [
    "N = 100_000\n",
    "nwuerfel = 5\n",
    "einsatz = 1\n",
    "auszahlung = 50"
   ]
  },
  {
   "cell_type": "code",
   "execution_count": null,
   "id": "cd32e30d-c008-40b6-aa7e-e1de477ae674",
   "metadata": {},
   "outputs": [],
   "source": []
  }
 ],
 "metadata": {
  "kernelspec": {
   "display_name": "Python 3 (ipykernel)",
   "language": "python",
   "name": "python3"
  },
  "language_info": {
   "codemirror_mode": {
    "name": "ipython",
    "version": 3
   },
   "file_extension": ".py",
   "mimetype": "text/x-python",
   "name": "python",
   "nbconvert_exporter": "python",
   "pygments_lexer": "ipython3",
   "version": "3.13.0"
  }
 },
 "nbformat": 4,
 "nbformat_minor": 5
}
