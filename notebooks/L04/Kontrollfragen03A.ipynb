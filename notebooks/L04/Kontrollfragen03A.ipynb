{
 "cells": [
  {
   "cell_type": "markdown",
   "id": "583317e4-a086-4f66-83b8-88c8ede02270",
   "metadata": {},
   "source": [
    "### Kontrollfragen Lektion 03\n",
    "1. Welche Typen (int, str, ...) haben wir kennengelernt?\n",
    "  Erstelle in Objekt von jedem dieser Typen und speichere es in einer Variable.\n",
    "  Demonstriere, wie sich die Addition auf diesem Typ verh&auml;lt.\n",
    "  \n",
    "1. Erstelle eine Tabelle, die zeigt, welche Typen sich in welche anderen Typen umwandeln lassen.\n",
    "  Ein **I** in einer Zeile zeigt an, dass die Umwandlung immer,  m&ouml;glich ist,\n",
    "ein **M** steht f&uuml;r  manchmal und ein **N** f&uuml;r nie.\n",
    "\n",
    "|         |int|float|str|bool|tuple|list| \n",
    "| :-:     |:-:|:-:  |:-:|:-: |:-:  |:-: |\n",
    "|**int**  |*    |?  |?   |?  |?    |?   |\n",
    "|**float**|?    |*  |?   |?  |?    |?   |  \n",
    "|**str**  |M    |M  |*   |?  |?    |?   |  \n",
    "|**bool** |?    |?  |?   |*  |?    |?   |   \n",
    "|**tuple**|?    |?  |?   |?  |*    |?   |  \n",
    "|**list** |?    |?  |?   |?  |?    |*   |  \n",
    "\n",
    "3. Was ist der wichtigste Unterschied der Typen *tuple* und *list*?\n",
    "  Demonstriere diesen Unterschied anhand eines Beispiels.\n",
    "1. Folgender Code erzeugt einen Fehler. Erkl&auml;re den Fehler.\n",
    "   Repariere den Code durch\n",
    "   1. eine kleine &Auml;nderung der 1. Zeile,\n",
    "   1. eine kleine &Auml;nderung der 2. Zeile,\n",
    "   1. eine kleine &Auml;nderung der 3. Zeile.\n",
    "      \n",
    "  \n",
    "   ```python\n",
    "   \n",
    "    x = 2\n",
    "    y = 3,\n",
    "    print(x + y)\n",
    "    ```\n",
    "    <br>  \n",
    "    \n",
    "1. Definiere eine Funktion und eine Konstante in einem File `stuff.py`.\n",
    "   Importiere dann das Modul `stuff` und zeige, wie sich die darin gespeicherten\n",
    "   Variabeln verwenden lassen k&ouml;nnen.\n",
    "1. Sammle die Funktionen aus den Notebooks `Funktionen_schreiben` (L02) und `Kontrollfragen_A02` und speichere diese in einem File `some_functions.py` im Ordner `modules`. F&uuml;ge sinnvolle DocStrings ein.\n",
    "1. Erstelle ein Tuple mit W&ouml;rtern.\n",
    "   Schreibe Code, der 2 Tuples erstellt, eines mit den W&ouml;rtern, die den Buchstaben `a`\n",
    "   enthalten, und eines mit den W&ouml;rtern ohne `a`.\n",
    "1. Schreibe Code, der eine Zufallszahl zwischen 0 und 10 erzeugt, den Benuter auffordert, diese Zahl zu erraten und ausgibt, ob zu klein, zu gross oder richtig geraten wurde.\n",
    "\n",
    "1. Implementiere folgende Funktion:\n",
    "   ```python\n",
    "   def get_and_eval_guess(secret):\n",
    "       '''fragt nach einer Zahl und gibt True zurueck, falls richtig geraten wurde.\n",
    "          gibt zudem aus, ob zu klein, zu gross oder richtig geraten wurde.\n",
    "          secret: int (Geheimzahl)\n",
    "       '''\n",
    "       ...\n",
    "   ```\n",
    " \n",
    "   \n",
    "1. Schreibe Code, der eine Zufallszahl zwischen 0 und 10 erzeugt, und dann\n",
    "   mit einem While-Loop *get_and_eval_guess* solange aufruft, bis die Zahl erraten wurde.\n",
    "   Die Anzahl Versuche wird ausgegeben."
   ]
  },
  {
   "cell_type": "code",
   "execution_count": null,
   "id": "7f1c18ba-ec95-4886-bef1-b6229f09e114",
   "metadata": {},
   "outputs": [],
   "source": [
    "x = 123\n",
    "s = str(x)\n",
    "tp = tuple(s)\n",
    "lst = list(s)\n",
    "print(x, s, tp, lst, sep=', ')\n",
    "print((x // 10) % 10, s[1], tp[1], lst[1], sep=', ')\n",
    "print(x+x, s+s, tp+tp, lst+lst, sep=', ')"
   ]
  },
  {
   "cell_type": "code",
   "execution_count": null,
   "id": "42ea97ba-1a3f-4975-a67d-041fff9457d9",
   "metadata": {},
   "outputs": [],
   "source": []
  },
  {
   "cell_type": "code",
   "execution_count": null,
   "id": "c2b1ea00-50d6-4ed9-8a6d-589179fc8355",
   "metadata": {},
   "outputs": [],
   "source": [
    "s[1] = 'x'\n",
    "tp[1] = 'x'\n",
    "lst[1] = 'x'"
   ]
  },
  {
   "cell_type": "code",
   "execution_count": null,
   "id": "483b650e-cba8-48a9-9e10-69cf9f94ba5a",
   "metadata": {},
   "outputs": [],
   "source": [
    "x = 2\n",
    "y = 3,\n",
    "print(x + y)"
   ]
  },
  {
   "cell_type": "code",
   "execution_count": null,
   "id": "200c198d-1eac-476c-b025-757d9801958a",
   "metadata": {},
   "outputs": [],
   "source": [
    "import random\n",
    "nbr = random.randint(1, 10)\n",
    "guess = int(input('Errate Zufallszahl zw. 1 und 10:'))\n",
    "if guess < nbr:\n",
    "    print('zu klein!')\n",
    "elif guess == nbr:\n",
    "    print('korrekt!')\n",
    "else:\n",
    "    print('zu gross!')"
   ]
  },
  {
   "cell_type": "code",
   "execution_count": null,
   "id": "cd9b29f1-6625-4bd2-8e25-3a73c2f371ae",
   "metadata": {},
   "outputs": [],
   "source": [
    "def get_and_eval_guess(secret):\n",
    "    guess = int(input('Errate Zufallszahl zw. 1 und 10:'))\n",
    "    if guess < secret:\n",
    "        print('zu klein!')\n",
    "    elif guess == secret:\n",
    "        print('korrekt!')\n",
    "        return True\n",
    "    else:\n",
    "        print('zu gross!')"
   ]
  },
  {
   "cell_type": "code",
   "execution_count": null,
   "id": "f2ddda06-aa30-4bf0-8e60-0037d07c4a62",
   "metadata": {},
   "outputs": [],
   "source": [
    "nbr = random.randint(1, 10)\n",
    "attempts = 1\n",
    "\n",
    "while not get_and_eval_guess(nbr):\n",
    "    attempts = attempts + 1\n",
    "print('Anzahl Versuche:', attempts)"
   ]
  },
  {
   "cell_type": "code",
   "execution_count": null,
   "id": "5d8ba091-f9a8-487c-8295-56a0c9925c03",
   "metadata": {},
   "outputs": [],
   "source": [
    "words = ['abde', 'asfxasd','asfas','asfasf','asfxas','asdfas']\n",
    "\n",
    "words_with_x = []\n",
    "words_without_x = []\n",
    "for word in words:\n",
    "    if 'x' in word:\n",
    "        words_with_x += [word]\n",
    "    else:\n",
    "        words_without_x += [word]\n",
    "        \n",
    "words_with_x, words_without_x"
   ]
  },
  {
   "cell_type": "code",
   "execution_count": null,
   "id": "cba4c128-c3df-4f4d-be42-ad197a3c866d",
   "metadata": {},
   "outputs": [],
   "source": [
    "i = 0\n",
    "while True:\n",
    "    i = i + 1\n",
    "    print(i)\n",
    "    if i > 3:\n",
    "        break"
   ]
  },
  {
   "cell_type": "code",
   "execution_count": null,
   "id": "637c4fd7-d4f6-4bbb-919f-cd460387aab7",
   "metadata": {},
   "outputs": [],
   "source": [
    "i = 0\n",
    "while True:\n",
    "    i = i + 1\n",
    "    if i > 100:\n",
    "        break\n",
    "    if i % 13 == 0:\n",
    "        print(i, end=', ')"
   ]
  },
  {
   "cell_type": "code",
   "execution_count": 20,
   "id": "3ccb6d38-8dcd-4e46-a7a1-5de0e35ccdb4",
   "metadata": {},
   "outputs": [
    {
     "name": "stdout",
     "output_type": "stream",
     "text": [
      "Words with x: ('sxdf', 'trux')\n",
      "Words without x: ('abc', 'dfg')\n"
     ]
    }
   ],
   "source": [
    "words = ('abc', 'sxdf', 'dfg', 'trux')\n",
    "words_with_x = ()\n",
    "words_without_x = ()\n",
    "\n",
    "for word in words:\n",
    "    if 'x' in word:\n",
    "        words_with_x =  words_with_x + (word,)\n",
    "    else:\n",
    "        words_without_x =  words_without_x + (word,)\n",
    "\n",
    "print('Words with x:', words_with_x)\n",
    "print('Words without x:', words_without_x)"
   ]
  },
  {
   "cell_type": "code",
   "execution_count": null,
   "id": "36956fce-0519-4465-b765-628f9f2d3496",
   "metadata": {},
   "outputs": [],
   "source": []
  },
  {
   "cell_type": "code",
   "execution_count": null,
   "id": "69a6285a-4ff9-480c-9a35-2f2ef4f4cba4",
   "metadata": {},
   "outputs": [],
   "source": []
  }
 ],
 "metadata": {
  "kernelspec": {
   "display_name": "Python 3 (ipykernel)",
   "language": "python",
   "name": "python3"
  },
  "language_info": {
   "codemirror_mode": {
    "name": "ipython",
    "version": 3
   },
   "file_extension": ".py",
   "mimetype": "text/x-python",
   "name": "python",
   "nbconvert_exporter": "python",
   "pygments_lexer": "ipython3",
   "version": "3.13.0"
  }
 },
 "nbformat": 4,
 "nbformat_minor": 5
}
