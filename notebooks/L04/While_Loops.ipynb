{
 "cells": [
  {
   "cell_type": "markdown",
   "id": "15f73f92-5efb-4822-9277-effc5fbe7538",
   "metadata": {},
   "source": [
    "### While-Schleifen\n",
    "Eine While-Schleife ist eine Anweisung der Form  \n",
    "```python\n",
    "while <Ausdruck>:\n",
    "    <Anweisungen>\n",
    "```\n",
    "Die `<Anweisungen>` im im einger&uuml;ckten Codeblock werden wiederholt, solange der Wahrheitswert von `<Ausdruck>` wahr ist. Mit der Anweisung `break` im Schleifenbody kann die Schleife vorzeitig verlassen werden.\n",
    "\n",
    "**Bemerkungen**: While-Schleifen k&ouml;nnen (oft unbeabsichtigt) **Endlosschleifen** sein!  \n",
    "Mit Interrupt Kernel im Kernel Menu ist die Zelle zu stoppen.  \n",
    "\n",
    "While-Schleifen treten in folgenden Varianten auf:\n",
    "- nach `while` steht explizit eine Bedinung,\n",
    "- nach `while` steht eine Hilfsvariable, mit dem Wert `False`, die dann im `While`-Body auf `True` gesetzt wird, sobald die Schleife nicht mehr durchlaufen werden soll.\n",
    "- man startet die Schleife mit `while True` und bricht dann mit `break` aus."
   ]
  },
  {
   "cell_type": "code",
   "execution_count": null,
   "id": "3fed437f-a6c5-4664-889b-79fc751fd5bb",
   "metadata": {},
   "outputs": [],
   "source": [
    "# direkte Bedingung\n",
    "\n",
    "counter = 3\n",
    "while counter >= 0:\n",
    "    print(counter, end=', ')\n",
    "    counter = counter - 1"
   ]
  },
  {
   "cell_type": "code",
   "execution_count": null,
   "id": "fea2d2e9-6337-44c1-a5f0-5b2949e948c6",
   "metadata": {},
   "outputs": [],
   "source": [
    "# Hilfsvariable\n",
    "\n",
    "counter = 3\n",
    "done = False\n",
    "\n",
    "while not done:\n",
    "    print(counter, end=', ')\n",
    "    counter = counter - 1\n",
    "    if counter < 0:\n",
    "        done = True"
   ]
  },
  {
   "cell_type": "code",
   "execution_count": null,
   "id": "043424e0-db8b-4519-be76-91eb6e755f8c",
   "metadata": {},
   "outputs": [],
   "source": [
    "# Ausbrechen\n",
    "\n",
    "counter = 3\n",
    "while True:\n",
    "    print(counter, end=', ')\n",
    "    counter = counter - 1\n",
    "    if counter < 0:\n",
    "        break"
   ]
  },
  {
   "cell_type": "code",
   "execution_count": null,
   "id": "8720e512-bd0a-4751-b2b2-75c4cd553f24",
   "metadata": {},
   "outputs": [],
   "source": [
    "# direkte Bedingung\n",
    "\n",
    "CODE = 'ABC'\n",
    "code = input('Code:')\n",
    "\n",
    "while CODE != code:\n",
    "    print('falscher Code')\n",
    "    code = input('Code:')\n",
    "print('Your now logged in')    "
   ]
  },
  {
   "cell_type": "code",
   "execution_count": null,
   "id": "16c6b357-2b05-4aee-904b-dc3caf66533e",
   "metadata": {},
   "outputs": [],
   "source": [
    "# Hilfsvariable\n",
    "\n",
    "CODE = 'ABC'\n",
    "done = False\n",
    "\n",
    "while not done:\n",
    "    code = input('Code:')\n",
    "    if code != CODE:\n",
    "        print('falscher Code')   \n",
    "    else:\n",
    "        done = True\n",
    "print('Your now logged in')    "
   ]
  },
  {
   "cell_type": "code",
   "execution_count": null,
   "id": "3ae76d7c-8a9b-4d2b-b3b1-cd1ab5b4d10d",
   "metadata": {},
   "outputs": [],
   "source": [
    "# Ausbrechen\n",
    "CODE = 'ABC'\n",
    "\n",
    "while True:\n",
    "    code = input('Code:')\n",
    "    if code == CODE:\n",
    "        break\n",
    "    print('falscher Code')   \n",
    "print('Your now logged in')    "
   ]
  },
  {
   "cell_type": "markdown",
   "id": "8ebd5c83-46e9-4235-8263-62863eaa4d61",
   "metadata": {},
   "source": [
    "### Aufgabe\n",
    "Benutze die Funktion *randint* aus dem Modul *random*, um 2 Zufallszahlen $x$ und $y$ zu erzeugen. Frage dann mit einem While-Loop solange nach dem Produkt dieser Zahlen, bis\n",
    "die richtige Antwort gebeben wird.  \n",
    "L&ouml;se das Problem mit einer direkten Bedingung, einer Hilfsvariable und mit Ausbrechen."
   ]
  },
  {
   "cell_type": "code",
   "execution_count": null,
   "id": "9615ebec-1c86-4351-b786-6520b2f74bd5",
   "metadata": {},
   "outputs": [],
   "source": [
    "# Frage nach Produkt zweier kleiner Zufallszahlen\n",
    "import random\n",
    "x = random.randint(1, 10)\n",
    "y = random.randint(1, 10)\n",
    "question = 'Wieviel ist ' + str(x) + ' Mal ' + str(y) + '?'\n",
    "question"
   ]
  },
  {
   "cell_type": "code",
   "execution_count": 3,
   "id": "852db4d9-1233-4bd0-b6e8-c767e6e8fe9e",
   "metadata": {},
   "outputs": [
    {
     "data": {
      "application/vnd.jupyter.widget-view+json": {
       "model_id": "dbdb84dc3d2145729dd6e73da02860a3",
       "version_major": 2,
       "version_minor": 0
      },
      "text/plain": [
       "VBox(children=(HBox(children=(Select(options=('⬆️ .', '  📁 Abgaben24', '  📁 CanvasGames', '  📁 Canvas__Lessons…"
      ]
     },
     "metadata": {},
     "output_type": "display_data"
    },
    {
     "data": {
      "application/vnd.jupyter.widget-view+json": {
       "model_id": "1b246f5fc4254e09b8d2829759715363",
       "version_major": 2,
       "version_minor": 0
      },
      "text/plain": [
       "Output(layout=Layout(border_bottom='1px solid black', border_left='1px solid black', border_right='1px solid b…"
      ]
     },
     "metadata": {},
     "output_type": "display_data"
    }
   ],
   "source": [
    "%run -m nbf"
   ]
  },
  {
   "cell_type": "code",
   "execution_count": null,
   "id": "95d94db9-fb79-4b31-9128-f7e818e22d55",
   "metadata": {},
   "outputs": [],
   "source": []
  }
 ],
 "metadata": {
  "author": "dieter.probst@gmail.com",
  "kernelspec": {
   "display_name": "Python 3 (ipykernel)",
   "language": "python",
   "name": "python3"
  },
  "language_info": {
   "codemirror_mode": {
    "name": "ipython",
    "version": 3
   },
   "file_extension": ".py",
   "mimetype": "text/x-python",
   "name": "python",
   "nbconvert_exporter": "python",
   "pygments_lexer": "ipython3",
   "version": "3.13.0"
  }
 },
 "nbformat": 4,
 "nbformat_minor": 5
}
