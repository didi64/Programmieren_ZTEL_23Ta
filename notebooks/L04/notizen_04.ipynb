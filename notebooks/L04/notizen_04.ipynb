{
 "cells": [
  {
   "cell_type": "code",
   "execution_count": null,
   "id": "0df7ddf8-b3d7-419e-8fd8-d179ec3a1f72",
   "metadata": {},
   "outputs": [],
   "source": []
  },
  {
   "cell_type": "code",
   "execution_count": null,
   "id": "ca54b09c-fdef-49ca-8e3e-077c992b623f",
   "metadata": {},
   "outputs": [],
   "source": [
    "n = 2\n",
    "x = 3.14159265359\n",
    "s = 'hallo'\n",
    "artist = ('Amy', 'Winehous')\n",
    "artists = [('Bob', 'Dylan'),  ('Amy', 'Winehous')]\n",
    "items = (n, x, s, artist, artists)"
   ]
  },
  {
   "cell_type": "code",
   "execution_count": null,
   "id": "dec1d2b4-1664-4012-b849-ddcdd03293cd",
   "metadata": {},
   "outputs": [],
   "source": [
    "artists[1]"
   ]
  },
  {
   "cell_type": "code",
   "execution_count": null,
   "id": "86c0fd9b-3564-489b-b253-dd2192b78f32",
   "metadata": {},
   "outputs": [],
   "source": [
    "artists[1][0]"
   ]
  },
  {
   "cell_type": "code",
   "execution_count": null,
   "id": "17aa6bb2-2be4-4a39-97f9-364cdb0329b2",
   "metadata": {},
   "outputs": [],
   "source": [
    "for item in items:\n",
    "    print(type(item), item)"
   ]
  },
  {
   "cell_type": "code",
   "execution_count": null,
   "id": "4d8a88f3-4ccd-4465-84a8-979011d312e3",
   "metadata": {},
   "outputs": [],
   "source": [
    "1/10 + 2/10 == 3/10"
   ]
  },
  {
   "cell_type": "code",
   "execution_count": null,
   "id": "51b94971-8632-431b-83f9-370e69f1786b",
   "metadata": {},
   "outputs": [],
   "source": [
    "epsilon = 10 ** -10\n",
    "epsilon"
   ]
  },
  {
   "cell_type": "code",
   "execution_count": null,
   "id": "0b5fe2e3-aead-482c-bdea-520b4cc71440",
   "metadata": {},
   "outputs": [],
   "source": [
    "abs(1/10 + 2/10 - 3/10)"
   ]
  },
  {
   "cell_type": "code",
   "execution_count": null,
   "id": "68116b4f-c47d-4e82-8daf-5960d4f1cd66",
   "metadata": {},
   "outputs": [],
   "source": [
    "abs(1/10 + 2/10 - 3/10) < epsilon  # 1/10 + 2/10 ist (fast) gleich 3/10"
   ]
  },
  {
   "cell_type": "code",
   "execution_count": null,
   "id": "4f31a3cc-b350-47f4-86ad-6ac4657a55db",
   "metadata": {},
   "outputs": [],
   "source": []
  },
  {
   "cell_type": "code",
   "execution_count": null,
   "id": "a272aa27-93c8-4362-b658-a38ab2a989dd",
   "metadata": {},
   "outputs": [],
   "source": [
    "import random"
   ]
  },
  {
   "cell_type": "code",
   "execution_count": null,
   "id": "fdd16ad9-2abe-4413-9ff3-2ce25e32d3b5",
   "metadata": {},
   "outputs": [],
   "source": [
    "x = random.randint(1, 10)\n",
    "y = random.randint(1, 10)\n",
    "x, y"
   ]
  },
  {
   "cell_type": "code",
   "execution_count": null,
   "id": "182b518f-f045-4db9-9087-f07a7bfe4619",
   "metadata": {},
   "outputs": [],
   "source": [
    "question = 'Wieviel ist ' + str(x) + ' Mal ' + str(y) + '?'\n",
    "ans = input(question)\n",
    "n = int(ans)\n",
    "n == x * y"
   ]
  },
  {
   "cell_type": "code",
   "execution_count": null,
   "id": "5e9ad81e-463b-4624-a5fe-80af8c416dc4",
   "metadata": {},
   "outputs": [],
   "source": []
  },
  {
   "cell_type": "code",
   "execution_count": null,
   "id": "b9dff36c-c284-4825-80d8-3118e1238640",
   "metadata": {},
   "outputs": [],
   "source": [
    "secret = random.randint(1, 10)\n",
    "secret"
   ]
  },
  {
   "cell_type": "code",
   "execution_count": null,
   "id": "e0e765b5-8fb0-4fed-bb56-46ba37e49ab4",
   "metadata": {},
   "outputs": [],
   "source": [
    "guess = 9\n",
    "if guess == secret:\n",
    "    print('richtig')\n",
    "else:\n",
    "    print('falsch')"
   ]
  },
  {
   "cell_type": "code",
   "execution_count": null,
   "id": "ef2027b3-6a7c-4221-8ec3-b4e2f4d626de",
   "metadata": {},
   "outputs": [],
   "source": [
    "guess = 9\n",
    "if guess == secret:\n",
    "    print('richtig')\n",
    "elif guess < secret:\n",
    "    print('zu klein')\n",
    "else:\n",
    "    print('zu gross')"
   ]
  },
  {
   "cell_type": "code",
   "execution_count": null,
   "id": "0ee81be9-e0e7-4983-b17c-fa98d96b64e8",
   "metadata": {},
   "outputs": [],
   "source": [
    "def eval_guess(guess, secret):\n",
    "    if guess == secret:\n",
    "        print('richtig')\n",
    "    elif guess < secret:\n",
    "        print('zu klein')\n",
    "    else:\n",
    "        print('zu gross')\n",
    "    return guess == secret"
   ]
  },
  {
   "cell_type": "code",
   "execution_count": null,
   "id": "70440131-9f7e-4784-9764-f386e7cf3302",
   "metadata": {},
   "outputs": [],
   "source": [
    "secret = random.randint(1, 10)\n",
    "guess = int(input('Rate!'))\n",
    "while eval_guess(guess, secret):\n",
    "    guess = int(input('Rate!'))"
   ]
  },
  {
   "cell_type": "code",
   "execution_count": null,
   "id": "3ad7c138-8e71-4942-9c4d-7266bc727bce",
   "metadata": {},
   "outputs": [],
   "source": []
  },
  {
   "cell_type": "code",
   "execution_count": null,
   "id": "1833757d-dde8-4a67-8370-e97df92dafd3",
   "metadata": {},
   "outputs": [],
   "source": [
    "def sign(n):\n",
    "    '''returns -1 if n < 0, 1 falls n > 0 und 0 sonst'''\n",
    "    if n < 0:\n",
    "        return -1\n",
    "    elif n > 0:\n",
    "        return 1\n",
    "    else:\n",
    "        return 0  "
   ]
  },
  {
   "cell_type": "code",
   "execution_count": null,
   "id": "21122e82-8974-47d3-b277-dd9365f04c9c",
   "metadata": {},
   "outputs": [],
   "source": [
    "values = (-2, 3, 0, 5)\n",
    "for n in values:\n",
    "    print(n, sign(n))"
   ]
  },
  {
   "cell_type": "code",
   "execution_count": null,
   "id": "f0d68f51-da79-49b5-b9d4-fba9b3d958f4",
   "metadata": {},
   "outputs": [],
   "source": [
    "def sign(n):\n",
    "    '''returns -1 if n < 0, 1 falls n > 0 und 0 sonst'''\n",
    "    if n < 0:\n",
    "        return -1\n",
    "    if n > 0:\n",
    "        return 1\n",
    "    return 0  "
   ]
  },
  {
   "cell_type": "code",
   "execution_count": null,
   "id": "6d1d04bf-824b-4ee8-91eb-ecfd3a6fefd0",
   "metadata": {},
   "outputs": [],
   "source": [
    "for n in values:\n",
    "    print(n, sign(n))"
   ]
  },
  {
   "cell_type": "code",
   "execution_count": null,
   "id": "83c9f56c-8dc2-4675-9531-c2ad4e699fbe",
   "metadata": {},
   "outputs": [],
   "source": [
    "def fizzbuzz(n):\n",
    "    '''gib richtige Antwort als String zurueck'''\n",
    "    if  n % 5 == 0 and n % 3 ==0:\n",
    "        return 'fizzbuzz'\n",
    "    elif n % 5 == 0:\n",
    "        return 'buzz'\n",
    "    elif n % 3 == 0:\n",
    "        return 'fizz'\n",
    "    else:\n",
    "        return str(n)"
   ]
  },
  {
   "cell_type": "code",
   "execution_count": null,
   "id": "fc37b9f4-1ec9-4bc3-bcff-027e353b46b7",
   "metadata": {},
   "outputs": [],
   "source": [
    "numbers = ()\n",
    "i = 0\n",
    "for _ in ' ' * 30:\n",
    "    i = i + 1\n",
    "    numbers = numbers + (i,)\n",
    "# numbers    "
   ]
  },
  {
   "cell_type": "code",
   "execution_count": null,
   "id": "c64e4f20-8bd0-475e-8459-88177a875ac3",
   "metadata": {},
   "outputs": [],
   "source": [
    "s = ''\n",
    "for n in numbers:\n",
    "    s = s + fizzbuzz(n) + ','\n",
    "s"
   ]
  },
  {
   "cell_type": "code",
   "execution_count": null,
   "id": "aac5194a-9bd5-4167-83ed-00d24f34089a",
   "metadata": {},
   "outputs": [],
   "source": [
    "def fizzbuzz(n):\n",
    "    '''gib richtige Antwort als String zurueck'''\n",
    "    if  n % 5 == 0 and n % 3 ==0:\n",
    "        return 'fizzbuzz'\n",
    "    if n % 5 == 0:\n",
    "        return 'buzz'\n",
    "    if n % 3 == 0:\n",
    "        return 'fizz'\n",
    "    return str(n)"
   ]
  },
  {
   "cell_type": "code",
   "execution_count": null,
   "id": "71b45c6d-7b41-4f81-9bdc-a183694b3d5b",
   "metadata": {},
   "outputs": [],
   "source": [
    "s = ''\n",
    "for n in numbers:\n",
    "    s = s + fizzbuzz(n) + ','\n",
    "s"
   ]
  },
  {
   "cell_type": "code",
   "execution_count": null,
   "id": "b1c96b72-9e20-4fb7-9c84-daa0d63afcf6",
   "metadata": {},
   "outputs": [],
   "source": []
  },
  {
   "cell_type": "code",
   "execution_count": null,
   "id": "ece1e27e-7058-4998-8659-b743146d72a1",
   "metadata": {},
   "outputs": [],
   "source": [
    "i = 0\n",
    "n = 3\n",
    "\n",
    "while i < n:\n",
    "    print(i)\n",
    "    i = i + 1"
   ]
  },
  {
   "cell_type": "code",
   "execution_count": null,
   "id": "f13b5899-2703-41c7-940a-26cc3f728702",
   "metadata": {},
   "outputs": [],
   "source": [
    "i = 0\n",
    "n = 3\n",
    "\n",
    "while True:\n",
    "    print(i)\n",
    "    i = i + 1\n",
    "    if i >= n:\n",
    "        break"
   ]
  },
  {
   "cell_type": "code",
   "execution_count": null,
   "id": "5c180dc7-953e-4a49-b129-ff866095e7ec",
   "metadata": {},
   "outputs": [],
   "source": [
    "i = 0\n",
    "n = 3\n",
    "\n",
    "done = False\n",
    "while not done:\n",
    "    print(i)\n",
    "    i = i + 1\n",
    "    if i >= n:\n",
    "        done = True"
   ]
  },
  {
   "cell_type": "code",
   "execution_count": null,
   "id": "dd286dc5-4b3d-4594-a637-28e0ef58d0ba",
   "metadata": {},
   "outputs": [],
   "source": []
  },
  {
   "cell_type": "code",
   "execution_count": null,
   "id": "7e8e97f6-b727-4fc7-9371-f4d9391a2b55",
   "metadata": {},
   "outputs": [],
   "source": [
    "%reset -f --aggressive\n",
    "import students\n",
    "students.students[0]\n"
   ]
  },
  {
   "cell_type": "code",
   "execution_count": null,
   "id": "3fa33412-cac8-41b9-8921-6ca013bd1ac5",
   "metadata": {},
   "outputs": [],
   "source": [
    "import sys\n",
    "sys.path"
   ]
  },
  {
   "cell_type": "code",
   "execution_count": null,
   "id": "5b25123f-868a-4ab1-a8b8-bd05bb15e5f7",
   "metadata": {},
   "outputs": [],
   "source": [
    "students.__file__"
   ]
  },
  {
   "cell_type": "code",
   "execution_count": null,
   "id": "e98255cc-fba0-4448-890a-5dfc17b0de3e",
   "metadata": {},
   "outputs": [],
   "source": [
    "%load $students.__file__"
   ]
  },
  {
   "cell_type": "code",
   "execution_count": 139,
   "id": "6e577902-fa1e-472d-9439-39d86d7fc03c",
   "metadata": {},
   "outputs": [
    {
     "name": "stdout",
     "output_type": "stream",
     "text": [
      "Overwriting somefunctions.py\n"
     ]
    }
   ],
   "source": [
    "#%%file somefunctions.py\n",
    "\n",
    "def length(s):\n",
    "    '''gibt die Laenge des Wortes s zurueck\n",
    "       s: str\n",
    "    '''\n",
    "    i = 0\n",
    "    for _ in s:\n",
    "        i = i + 1\n",
    "    return i\n",
    "\n",
    "\n",
    "def reverse_word(word):\n",
    "    '''returns the reversed word\n",
    "       word: str\n",
    "    '''\n",
    "    drow = ''\n",
    "    for c in word:\n",
    "        drow = c + drow\n",
    "    return drow\n",
    "\n",
    "\n",
    "def factorial(n):\n",
    "    '''returns n!\n",
    "       n: int\n",
    "    '''   \n",
    "    resultat = 1\n",
    "    i = 0\n",
    "    for _ in ' ' * n:\n",
    "        i = i + 1\n",
    "        resultat = resultat * i\n",
    "    return resultat\n",
    "\n",
    "\n",
    "def sum_upto(n):\n",
    "    '''returns 0+1+...+n\n",
    "       n: int\n",
    "    '''\n",
    "    tot = 0\n",
    "    i = 0\n",
    "    for _ in ' ' * n:\n",
    "        i = i + 1\n",
    "        tot = tot + i\n",
    "    return tot\n",
    "\n",
    "\n",
    "def ox_rect(n):\n",
    "    '''prints a n x n+1 rectangle with Os and Xs \n",
    "       n: int\n",
    "    '''\n",
    "    i = 0\n",
    "    for _ in ' ' * n:\n",
    "        i = i + 1\n",
    "        os = 'O' * i\n",
    "        xs = 'X' * (n + 1 - i)\n",
    "        line = os + xs\n",
    "        print(line)"
   ]
  },
  {
   "cell_type": "code",
   "execution_count": null,
   "id": "e13bba2a-c3a0-4c3f-9766-82f75cf15560",
   "metadata": {},
   "outputs": [],
   "source": []
  }
 ],
 "metadata": {
  "kernelspec": {
   "display_name": "Python 3 (ipykernel)",
   "language": "python",
   "name": "python3"
  },
  "language_info": {
   "codemirror_mode": {
    "name": "ipython",
    "version": 3
   },
   "file_extension": ".py",
   "mimetype": "text/x-python",
   "name": "python",
   "nbconvert_exporter": "python",
   "pygments_lexer": "ipython3",
   "version": "3.13.0"
  }
 },
 "nbformat": 4,
 "nbformat_minor": 5
}
