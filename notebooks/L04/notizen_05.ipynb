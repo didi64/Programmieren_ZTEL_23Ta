{
 "cells": [
  {
   "cell_type": "code",
   "execution_count": null,
   "id": "558f54b6-4f0c-4174-9245-dbeb184e96d6",
   "metadata": {},
   "outputs": [],
   "source": []
  },
  {
   "cell_type": "code",
   "execution_count": null,
   "id": "529b2a01-af9e-4c0a-8aa9-f0d69fa33e2b",
   "metadata": {},
   "outputs": [],
   "source": []
  },
  {
   "cell_type": "code",
   "execution_count": 1,
   "id": "128ad86e-54d4-4e8c-9ac6-65bfd7a26835",
   "metadata": {},
   "outputs": [],
   "source": [
    "def make_tuple(n):\n",
    "    '''returns a tuple (0,...,n-1)\n",
    "       n: int\n",
    "    '''\n",
    "    tp = ()\n",
    "    i = 0\n",
    "    for _ in ' ' * n:\n",
    "        tp = tp + (i,)\n",
    "        i = i + 1\n",
    "    return tp"
   ]
  },
  {
   "cell_type": "code",
   "execution_count": 2,
   "id": "ccdf069e-7e3a-40d3-9c79-a7b2e7892e69",
   "metadata": {},
   "outputs": [
    {
     "data": {
      "text/plain": [
       "(0, 1, 2, 3, 4)"
      ]
     },
     "execution_count": 2,
     "metadata": {},
     "output_type": "execute_result"
    }
   ],
   "source": [
    "make_tuple1(5)"
   ]
  },
  {
   "cell_type": "code",
   "execution_count": 3,
   "id": "2f10669a-ce63-4f1f-8fb9-83bcdf1bd571",
   "metadata": {},
   "outputs": [],
   "source": [
    "def make_tuple_asc(start, stop, step):\n",
    "    '''returns a tuple with the elements\n",
    "       (start, start+step,...) that are smaller than stop\n",
    "       start: int\n",
    "       stop: int\n",
    "       step: int, positive\n",
    "    '''\n",
    "    items = ()\n",
    "    i = start\n",
    "    while i < stop:\n",
    "        items = items + (i,)\n",
    "        i = i + step\n",
    "    return items"
   ]
  },
  {
   "cell_type": "code",
   "execution_count": 5,
   "id": "1ecda7b3-f091-418d-908c-11abe91a0616",
   "metadata": {},
   "outputs": [
    {
     "data": {
      "text/plain": [
       "(2, 12, 22, 32, 42, 52)"
      ]
     },
     "execution_count": 5,
     "metadata": {},
     "output_type": "execute_result"
    }
   ],
   "source": [
    "make_tuple_asc(2,60,10)"
   ]
  },
  {
   "cell_type": "code",
   "execution_count": 7,
   "id": "499564c3-4fd7-4b13-a694-170f02e2a257",
   "metadata": {},
   "outputs": [],
   "source": [
    "def make_tuple_dsc(start, stop, step):\n",
    "    '''returns a tuple with the elements\n",
    "       (start, start+step,...) that are bigger than stop\n",
    "       start: int\n",
    "       stop: int\n",
    "       step: int, negative\n",
    "    '''\n",
    "    items = ()\n",
    "    i = start\n",
    "    while i > stop:\n",
    "        items = items + (i,)\n",
    "        i = i + step\n",
    "    return items"
   ]
  },
  {
   "cell_type": "code",
   "execution_count": 8,
   "id": "8a09d523-553f-4001-a1f5-4b1c6a8178f9",
   "metadata": {},
   "outputs": [
    {
     "data": {
      "text/plain": [
       "(60, 50, 40, 30, 20, 10)"
      ]
     },
     "execution_count": 8,
     "metadata": {},
     "output_type": "execute_result"
    }
   ],
   "source": [
    "make_tuple_dsc(60,2,-10)"
   ]
  },
  {
   "cell_type": "code",
   "execution_count": 13,
   "id": "e30142a4-368a-42e0-9178-83d25320ea6b",
   "metadata": {},
   "outputs": [],
   "source": [
    "def make_tuple(start, stop=None, step=1):\n",
    "    if stop is None:\n",
    "        stop = start\n",
    "        start = 0\n",
    "    if step < 0:\n",
    "        items = make_tuple_dsc(start, stop, step)\n",
    "    else:\n",
    "        items = make_tuple_asc(start, stop, step)\n",
    "    return items"
   ]
  },
  {
   "cell_type": "code",
   "execution_count": 16,
   "id": "dfb4d8c4-9065-4caa-a07c-3a68bab3243b",
   "metadata": {},
   "outputs": [
    {
     "data": {
      "text/plain": [
       "(2, 9, 16, 23, 30, 37, 44)"
      ]
     },
     "execution_count": 16,
     "metadata": {},
     "output_type": "execute_result"
    }
   ],
   "source": [
    "make_tuple(2, 50, 7)"
   ]
  },
  {
   "cell_type": "code",
   "execution_count": null,
   "id": "b25e38ef-f5ad-4695-a59a-2b17f6bb3661",
   "metadata": {},
   "outputs": [],
   "source": []
  },
  {
   "cell_type": "code",
   "execution_count": 18,
   "id": "c9291fe7-9df3-47b4-8362-815539cdbedc",
   "metadata": {},
   "outputs": [
    {
     "name": "stdout",
     "output_type": "stream",
     "text": [
      "0ter Buchstabe: a\n",
      "1ter Buchstabe: b\n",
      "2ter Buchstabe: c\n",
      "3ter Buchstabe: d\n",
      "4ter Buchstabe: e\n"
     ]
    }
   ],
   "source": [
    "letters = list('abcde')\n",
    "n = len(letters)\n",
    "for i in range(n):\n",
    "    letter = letters[i]\n",
    "    print('{}ter Buchstabe: {}'.format(i, letter))"
   ]
  },
  {
   "cell_type": "code",
   "execution_count": 17,
   "id": "585d6c83-cfec-4514-823c-1bc59ab8ceca",
   "metadata": {},
   "outputs": [
    {
     "name": "stdout",
     "output_type": "stream",
     "text": [
      "0ter Buchstabe: a\n",
      "1ter Buchstabe: b\n",
      "2ter Buchstabe: c\n",
      "3ter Buchstabe: d\n",
      "4ter Buchstabe: e\n"
     ]
    }
   ],
   "source": [
    "letters = list('abcde')\n",
    "i = 0\n",
    "for letter in letters:\n",
    "    print('{}ter Buchstabe: {}'.format(i, letter))\n",
    "    i = i + 1"
   ]
  },
  {
   "cell_type": "code",
   "execution_count": 21,
   "id": "4650b1cc-e2ab-4815-bb3e-e3ddbfc54cd8",
   "metadata": {},
   "outputs": [],
   "source": [
    "def enumeration(letters):\n",
    "    items = ()\n",
    "    i = 0 \n",
    "    for letter in letters:\n",
    "        item = (i, letter)\n",
    "        items = items + (item,)\n",
    "        i = i + 1\n",
    "    return items"
   ]
  },
  {
   "cell_type": "code",
   "execution_count": 22,
   "id": "db48467d-0de0-40fd-a236-a35ac4f47245",
   "metadata": {},
   "outputs": [
    {
     "name": "stdout",
     "output_type": "stream",
     "text": [
      "0ter Buchstabe: e\n",
      "1ter Buchstabe: e\n",
      "2ter Buchstabe: e\n",
      "3ter Buchstabe: e\n"
     ]
    }
   ],
   "source": [
    "letters = list('abce')\n",
    "items = enumeration(letters)\n",
    "for (i, c) in items:\n",
    "    print('{}ter Buchstabe: {}'.format(i, letter))"
   ]
  },
  {
   "cell_type": "code",
   "execution_count": null,
   "id": "20db2d0d-7e30-43eb-82d6-c1f16d044a5c",
   "metadata": {},
   "outputs": [],
   "source": [
    "numbers = [1031, 769, 503, 2045]\n",
    "names = ('ALice', 'Bob', 'Cathy')\n",
    "\n",
    "n = min(len(numbers), len(names))\n",
    "\n",
    "for i in range(n):\n",
    "    number  = numbers[i]\n",
    "    letter = letters[i]\n",
    "    print('Zahl: {}, Buchstabe: {}'.format(number, letter))"
   ]
  },
  {
   "cell_type": "code",
   "execution_count": 25,
   "id": "02fb30f5-ffd5-4a8d-beab-7c80fbc6b4a2",
   "metadata": {},
   "outputs": [],
   "source": [
    "def make_pairs(items1, items2):\n",
    "    pairs = ()\n",
    "    n = min(len(items1), len(items2))\n",
    "    for i in range(n):\n",
    "        pair = (items1[i], items2[i])\n",
    "        pairs = pairs + (pair,)\n",
    "    return pairs"
   ]
  },
  {
   "cell_type": "code",
   "execution_count": 28,
   "id": "ab173677-19e6-44a3-a91b-7079ea7e7ff2",
   "metadata": {},
   "outputs": [
    {
     "name": "stdout",
     "output_type": "stream",
     "text": [
      "Startnummer: 1031, Name: ALice\n",
      "Startnummer:  769, Name: Bob\n",
      "Startnummer:  503, Name: Cathy\n"
     ]
    }
   ],
   "source": [
    "numbers = [1031, 769, 503, 2045]\n",
    "names = ('ALice', 'Bob', 'Cathy')\n",
    "\n",
    "for n, name in make_pairs(numbers, names):\n",
    "    print('Startnummer: {:4d}, Name: {}'.format(n, name))"
   ]
  },
  {
   "cell_type": "code",
   "execution_count": null,
   "id": "da669426-a586-48c2-ba8e-54d39f9a254b",
   "metadata": {},
   "outputs": [],
   "source": []
  }
 ],
 "metadata": {
  "kernelspec": {
   "display_name": "Python 3 (ipykernel)",
   "language": "python",
   "name": "python3"
  },
  "language_info": {
   "codemirror_mode": {
    "name": "ipython",
    "version": 3
   },
   "file_extension": ".py",
   "mimetype": "text/x-python",
   "name": "python",
   "nbconvert_exporter": "python",
   "pygments_lexer": "ipython3",
   "version": "3.13.0"
  }
 },
 "nbformat": 4,
 "nbformat_minor": 5
}
