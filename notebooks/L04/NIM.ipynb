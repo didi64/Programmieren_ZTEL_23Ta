{
 "cells": [
  {
   "cell_type": "markdown",
   "id": "3266ca56-a35c-456c-a196-9a9a299f4a24",
   "metadata": {},
   "source": [
    "<img style=\"float: right\" src=\"/files/images/nim.png\">\n",
    "\n",
    "### Das Spiel **NIM**:\n",
    "Gegeben sind Haufen mit Steinen.\n",
    "- 2 Spieler entfernen abwechselnd ein oder mehrere Steine von einem der Haufen.\n",
    "- Wer den letzten Haufen abr&auml;umt hat gewonnen.\n",
    "***"
   ]
  },
  {
   "cell_type": "markdown",
   "id": "80eee8e7-7968-4d59-b2bc-13b87d0d525b",
   "metadata": {},
   "source": [
    "### NIM programmieren\n",
    "Der **Spielzustand** wird in einer Liste\n",
    "```python\n",
    "heaps = [3, 4, 5, 6]\n",
    "```\n",
    "gespeichert. $3,4,5$ und $6$ sind die Anzahl Steine auf den Haufen.  \n",
    "Ein **Zug** wird als Tuple `(Haufen, Anzahl)` gespeichert. (2, 3) bedeutet, dass\n",
    "vom 2. Haufen 3 Steine entfernt werden sollen. Unser NIM-Programm soll Folgendes tun:\n",
    "\n",
    "- Solange noch Steine da sind, fragt das Programm abwechselnd die Spieler nach ihrem Zug.\n",
    "Der Spielzustand wird aktuallisiert und dargestellt, das Zugrecht wird weitergegeben.\n",
    "- Sind alle Steine weg, wird der Gewinner ausgegeben.\n",
    "\n",
    "***\n",
    "Eine erste Version unseres Programms k&ouml;nnte etwa so aussehen.\n",
    "```python\n",
    "heaps = [3, 4, 5, 6]  # Spielzustand/Anzahl Steine auf Haufen\n",
    "players = ['Alice', 'Bob']\n",
    "ptm = 0  # Player to move, 0 oder 1\n",
    "\n",
    "# Zeige Spielzustand an\n",
    "while <Spielsteine zum Wegnehmen>:\n",
    "    # gib Name des Spielers am Zug aus\n",
    "    # Frage nach Zug -> (Haufen, Anzahl) \n",
    "    # Update Spielzustand\n",
    "    # Zeige Spielzustand an\n",
    "    # Gib Zugrecht an naechsten Spieler weiter\n",
    "   \n",
    "# gib Gewinner aus\n",
    "```"
   ]
  },
  {
   "cell_type": "code",
   "execution_count": null,
   "id": "d76c16b3-7116-4bd7-8618-8447ccf41d32",
   "metadata": {},
   "outputs": [],
   "source": [
    "def update_state(move):\n",
    "    '''updated die Liste heaps gemaess move\n",
    "       move: tuple der Form (Haufen, Anzahl)\n",
    "    '''\n",
    "    i = move[0]\n",
    "    n = move[1]\n",
    "    old = heaps[i]\n",
    "    new = old - n\n",
    "    heaps[i] = max(new, 0)  # Anzahl darf nicht kleiner Null sein"
   ]
  },
  {
   "cell_type": "code",
   "execution_count": null,
   "id": "b43c914f-6150-48b1-a5b1-25393ee2e593",
   "metadata": {},
   "outputs": [],
   "source": [
    "# update_state testen\n",
    "heaps = [3, 4, 5, 6]\n",
    "move = (2, 3)\n",
    "print(heaps)\n",
    "update_state(move)\n",
    "heaps"
   ]
  },
  {
   "cell_type": "code",
   "execution_count": null,
   "id": "a4ffea2c-c6db-45e4-be17-fbafcf437d00",
   "metadata": {},
   "outputs": [],
   "source": [
    "from nim import show, count, ask_for_move"
   ]
  },
  {
   "cell_type": "code",
   "execution_count": null,
   "id": "5d0b09d5-4da9-4727-812c-c2cf6ed0a2a8",
   "metadata": {},
   "outputs": [],
   "source": [
    "# count und show testen\n",
    "heaps = [3, 4, 5, 6]\n",
    "anzahl = count(heaps)\n",
    "print('Anzahl:', anzahl)\n",
    "show(heaps)"
   ]
  },
  {
   "cell_type": "code",
   "execution_count": null,
   "id": "0c761986-ffe4-4bbf-8a11-eaa9cfed4b08",
   "metadata": {},
   "outputs": [],
   "source": [
    "# ask_for_move testen\n",
    "move = ask_for_move()\n",
    "move"
   ]
  },
  {
   "cell_type": "markdown",
   "id": "fd0fa071-4c02-4dd4-ab57-c1eb2cb21835",
   "metadata": {},
   "source": [
    "***\n",
    "Obigen Code ausformulieren:\n",
    "***"
   ]
  },
  {
   "cell_type": "code",
   "execution_count": null,
   "id": "c0c38acb-a466-460e-bf9b-89593ac61a0c",
   "metadata": {},
   "outputs": [],
   "source": [
    "heaps = [1, 2, 3]  # Spielzustand\n",
    "players = ['Alice', 'Bob']\n",
    "ptm = 0  # Player to move, 0 oder 1\n",
    "\n",
    "show(heaps)\n",
    "while count(heaps) != 0:\n",
    "    player = players[ptm]\n",
    "    print(player)\n",
    "    move = ask_for_move()\n",
    "    update_state(move)\n",
    "    show(heaps)\n",
    "    ptm = 1 - ptm\n",
    "winner = players[1-ptm]\n",
    "print(winner, 'ist der Gewinner!')"
   ]
  },
  {
   "cell_type": "code",
   "execution_count": null,
   "id": "1383ec01-1105-4a11-883a-942237485ee4",
   "metadata": {},
   "outputs": [],
   "source": []
  },
  {
   "cell_type": "markdown",
   "id": "38b49304-c2b7-42c0-89f6-b48d6694dbf8",
   "metadata": {},
   "source": [
    "### Variante mit Computergegner  \n",
    "Die Liste  \n",
    "```python\n",
    "strategies = [ask_player, ask_compi]\n",
    "```\n",
    "\n",
    "enth&auml;lt die Funktionen `ask_player` und `ask_compi`.\n",
    "Ist der Computer am Zug, rufen wir `ask_compi(heaps)` auf.\n",
    "Diese Funktion gibt einen Zug zur&uuml;ck, also ein Tuple (Haufen, Anzahl).\n",
    "Wie diese Funktion im Detail ausschaut braucht uns dabei nicht zu k&uuml;mmern.  \n",
    "\n",
    "Ist der Spieler am Zug, rufen wir `ask_player(heaps)` auf.\n",
    "Diese Funktion ignoriert das Argument heaps\n",
    "und fragt den Spieler nach seinem Zug durch Aufruf von `ask_for_move()`."
   ]
  },
  {
   "cell_type": "code",
   "execution_count": null,
   "id": "cec36024-9ecb-481d-90e7-e1e3aee03d40",
   "metadata": {},
   "outputs": [],
   "source": [
    "from nim_strategies import ask_compi\n",
    "\n",
    "\n",
    "def ask_player(heaps):\n",
    "    return ask_for_move()\n",
    "\n",
    "\n",
    "heaps = [3, 4, 5, 6]\n",
    "ptm = 0  # Player to move 0 oder 1\n",
    "players = ['You', 'Compi']\n",
    "strategies = [ask_player, ask_compi]\n",
    "\n",
    "show(heaps)\n",
    "while count(heaps) != 0:\n",
    "    strategy = strategies[ptm]\n",
    "    print(players[ptm] + ':')\n",
    "    move = strategy(heaps)\n",
    "    update_state(move)\n",
    "    show(heaps)\n",
    "    ptm = 1 - ptm\n",
    "    print(60 * '-')\n",
    "print(players[1-ptm], 'ist der Gewinner!')"
   ]
  },
  {
   "cell_type": "code",
   "execution_count": null,
   "id": "93985392-06ce-4b6a-a24b-8f1e92f4621d",
   "metadata": {},
   "outputs": [],
   "source": []
  }
 ],
 "metadata": {
  "kernelspec": {
   "display_name": "Python 3 (ipykernel)",
   "language": "python",
   "name": "python3"
  },
  "language_info": {
   "codemirror_mode": {
    "name": "ipython",
    "version": 3
   },
   "file_extension": ".py",
   "mimetype": "text/x-python",
   "name": "python",
   "nbconvert_exporter": "python",
   "pygments_lexer": "ipython3",
   "version": "3.13.0"
  }
 },
 "nbformat": 4,
 "nbformat_minor": 5
}
