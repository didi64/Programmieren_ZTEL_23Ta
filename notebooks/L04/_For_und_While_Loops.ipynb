{
 "cells": [
  {
   "cell_type": "markdown",
   "id": "d5bc4549-62b8-4981-8cc6-f2e0b8496865",
   "metadata": {},
   "source": [
    "### For-Schleifen  \n",
    "**Bemerkungen**:\n",
    "- For-Schleifen **terminieren** immer\n",
    "- Die Schleifenvariablen **sollten** im Body des For-Loops **nicht** modifiziert werden \n",
    "(undefiniertes Verhalten!)\n",
    "- Die Schleifenvariablen behalten ihren Wert nach beenden oder vorzeitigem verlassen der Schleife.\n",
    "\n",
    "Einfachster Fall:\n",
    "\n",
    "```python\n",
    "for <Variable> in <Liste>:\n",
    "    <Anweisungen>\n",
    "```\n",
    "**Erl&auml;uterung**:  \n",
    "Beim 1. Schleifendurchlauf wird das 1. Element der Liste der\n",
    "Schleifenvariable zugewiesen, beim 2. Schleifendurchlauf wird das 2. Element der Liste  den Schleifenvariablen  zugewiesen, u.s.w. \n",
    "\n",
    "\n",
    "Allgemeiner Fall:\n",
    "\n",
    "```python\n",
    "for <Variabel(n)> in <Iterable>:\n",
    "    <Anweisungen>\n",
    "```\n",
    "**Erl&auml;uterung**:  \n",
    "Ein Iterable ist ein Objekt &uuml;ber welches man Iterieren kann,\n",
    "zum Beispiel eine Liste, ein String oder auch `range(5)`, \n",
    "`enumerate(obj)`, `zip(obj)`, ...  \n",
    "Das Iterable produziert bei jedem Schleifendurchlauf ein Objekte, welches selber z.B. ein Tuple sein kann.\n",
    "Steht links von `in` nur ein Variable, so wird diese Objekt/Tuple der Variable zugewiesen.  \n",
    "Stehen links von `in` gleich viele Variablen wie das Tuple Elemente hat, so \n",
    "werden diese den entsprechenden Variabeln zugewiesen.\n",
    "\n",
    "**zip** und **enumerate**:  \n",
    "Mittels **`enumerate`** kann man aus einem `<Iterable>` ein neues `<Iterable>` kreiern.\n",
    "Mit **`zip`** kann man aus mehreren `<Iterable>` ein neues `<Iterable>` kreiern.\n",
    "Siehe Notebook `zip_und_enumerate.ipynb`"
   ]
  },
  {
   "cell_type": "code",
   "execution_count": null,
   "id": "d4584abb-68ad-4c5a-a419-d5c13eb29f6c",
   "metadata": {},
   "outputs": [],
   "source": [
    "# i laueft ueber 1,2,3\n",
    "for i in [1, 2, 3]:\n",
    "    print(i, end = ', ')"
   ]
  },
  {
   "cell_type": "code",
   "execution_count": null,
   "id": "46582ec6-11be-4bba-9936-8f59d86a2ad5",
   "metadata": {},
   "outputs": [],
   "source": [
    "# i laueft ueber 1,2,3\n",
    "for i in range(3):\n",
    "    print(i, end = ', ')"
   ]
  },
  {
   "cell_type": "code",
   "execution_count": null,
   "id": "82fd1e20-2c57-42c8-acbf-73926b40eaf3",
   "metadata": {},
   "outputs": [],
   "source": [
    "# x laeuft ueber Tuple (0, 'A'), (1, 'B')\n",
    "for x in enumerate(['A' ,'B']):\n",
    "    print(x, end = ', ')"
   ]
  },
  {
   "cell_type": "code",
   "execution_count": null,
   "id": "00c1dd1b-420b-4e4f-ac9b-2022d2e2bfc0",
   "metadata": {},
   "outputs": [],
   "source": [
    "# i laeuft ueber 0,1,\n",
    "# ch ueber 'A' ,'B'\n",
    "for i, ch in enumerate(['A' ,'B']):\n",
    "    print(i, ch, sep = ' -> ', end = ', ')"
   ]
  },
  {
   "cell_type": "code",
   "execution_count": null,
   "id": "cdec129e-a1d1-4c9d-8fbc-2c9acf4792c9",
   "metadata": {},
   "outputs": [],
   "source": [
    "# x laeuft ueber Tuple ('a', 'A'), ('b', 'B')\n",
    "for x in zip(['a', 'b'], ['A' ,'B']):\n",
    "    print(x, end = ', ')"
   ]
  },
  {
   "cell_type": "code",
   "execution_count": null,
   "id": "13685a82-66c0-4831-89c6-458e391d0759",
   "metadata": {},
   "outputs": [],
   "source": [
    "# x laeuft ueber ['a', 'b']\n",
    "# y laeuft ueber  ['A' ,'B']\n",
    "for x, y in zip(['a', 'b'], ['A' ,'B']):\n",
    "    print(x, y, sep = ' -> ', end = ', ')"
   ]
  },
  {
   "cell_type": "markdown",
   "id": "15f73f92-5efb-4822-9277-effc5fbe7538",
   "metadata": {},
   "source": [
    "### While-Schleifen\n",
    "\n",
    "**Bemerkungen**:\n",
    "- While-Schleifen k&ouml;nnen (oft unbeabsichtigt) **Endlosschleifen** sein!  \n",
    "  (Mit Interrupt Kernel im Kernel Menu ist die Zelle zu stoppen)  \n",
    "\n",
    "```python\n",
    "while <Ausdruck>:\n",
    "    <Anweisungen>\n",
    "```\n",
    "**Erl&auml;uterung**:  \n",
    "Die `<Anweisungen>` im Codeblock werden wiederholt, solange `<Ausdruck>` wahr ist.  \n",
    "Genauer, solange `bool(<Ausdruck>) == True`.\n"
   ]
  },
  {
   "cell_type": "markdown",
   "id": "7109e25d-def8-40b5-83b8-8a1c1921366f",
   "metadata": {},
   "source": [
    "### Schleife **vorzeitig verlassen** oder **wiederholen**\n",
    "For- und While-Schleifen kann man \n",
    "- mit `break` vorzeitig verlassen,\n",
    "- mit `continue` sofort den n&auml;chsten Schleifendurchlauf starten"
   ]
  },
  {
   "cell_type": "markdown",
   "id": "8e841d19-0229-4a95-a382-b84db7638d11",
   "metadata": {},
   "source": [
    "***\n",
    "Beispiele zu `break` und `continue`\n",
    "***"
   ]
  },
  {
   "cell_type": "code",
   "execution_count": null,
   "id": "affea8ba-0943-4eeb-a518-ca2dc1449831",
   "metadata": {},
   "outputs": [],
   "source": [
    "# Zeichen ';' in einem String suchen und seine Position ausgeben\n",
    "word = 'fooXbar'\n",
    "for i, ch in enumerate(word):\n",
    "    if ch == 'X':\n",
    "        break\n",
    "        \n",
    "print(i)        "
   ]
  },
  {
   "cell_type": "code",
   "execution_count": null,
   "id": "b5f776d9-711c-4d2d-a8b3-1e5ffa4574db",
   "metadata": {},
   "outputs": [],
   "source": [
    "# Alle Zahlen aus einem String s entfernen\n",
    "# Das Strings immutable sind, muss ein neuer String erstellt werden\n",
    "\n",
    "s = 'fo1o b2ar3'\n",
    "res = ''\n",
    "for ch in s:\n",
    "    # falls ch eine Zahl, gehe zum naechsten Zeichen\n",
    "    if ch in '0123456789':\n",
    "        continue\n",
    "        \n",
    "    # verlaengere den String res um das Zeichen ch    \n",
    "    res = res + ch\n",
    "        \n",
    "print(res)   "
   ]
  },
  {
   "cell_type": "markdown",
   "id": "7d15eb02-ec16-4b13-9a9b-e9e08a2ed427",
   "metadata": {},
   "source": [
    "***\n",
    "While-Schleifen treten in folgenden Varianten auf:\n",
    "- nach `while` steht explizit eine Bedinung,\n",
    "- nach `while` steht eine Hilfsvariable, mit dem Wert `False`, die dann im `While`-Body auf `True` gesetzt wird,\n",
    "  sobald die Schleife nicht mehr durchlaufen werden soll.\n",
    "- man startet die Schleife mit `while True` und bricht dann mit `brake` aus.\n",
    "\n",
    "***"
   ]
  },
  {
   "cell_type": "code",
   "execution_count": null,
   "id": "3fed437f-a6c5-4664-889b-79fc751fd5bb",
   "metadata": {},
   "outputs": [],
   "source": [
    "counter = 3\n",
    "# direkte Bedingung\n",
    "while counter >= 0:\n",
    "    print(counter, end=', ')\n",
    "    counter -= 1"
   ]
  },
  {
   "cell_type": "code",
   "execution_count": null,
   "id": "fea2d2e9-6337-44c1-a5f0-5b2949e948c6",
   "metadata": {},
   "outputs": [],
   "source": [
    "counter = 3\n",
    "done = False # Hilfsvariable\n",
    "\n",
    "# Hilfsvariable explizit auf True setzen\n",
    "while not done:\n",
    "    print(counter, end=', ')\n",
    "    counter -= 1\n",
    "    if counter < 0:\n",
    "        done = True"
   ]
  },
  {
   "cell_type": "code",
   "execution_count": null,
   "id": "043424e0-db8b-4519-be76-91eb6e755f8c",
   "metadata": {},
   "outputs": [],
   "source": [
    "# Ausbrechen\n",
    "counter = 3\n",
    "while True:\n",
    "    print(counter, end=', ')\n",
    "    counter -= 1\n",
    "    \n",
    "    if counter < 0:\n",
    "        break"
   ]
  },
  {
   "cell_type": "code",
   "execution_count": null,
   "id": "8720e512-bd0a-4751-b2b2-75c4cd553f24",
   "metadata": {},
   "outputs": [],
   "source": []
  }
 ],
 "metadata": {
  "author": "dieter.probst@gmail.com",
  "kernelspec": {
   "display_name": "Python 3 (ipykernel)",
   "language": "python",
   "name": "python3"
  },
  "language_info": {
   "codemirror_mode": {
    "name": "ipython",
    "version": 3
   },
   "file_extension": ".py",
   "mimetype": "text/x-python",
   "name": "python",
   "nbconvert_exporter": "python",
   "pygments_lexer": "ipython3",
   "version": "3.12.2"
  }
 },
 "nbformat": 4,
 "nbformat_minor": 5
}
