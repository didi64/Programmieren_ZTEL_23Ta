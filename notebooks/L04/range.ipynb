{
 "cells": [
  {
   "cell_type": "markdown",
   "id": "98168b2b-af4d-4dc5-b6e0-e748eb9157bc",
   "metadata": {
    "tags": []
   },
   "source": [
    "### Die Funktion `range`\n",
    "Die Funktion kreiert ein **Iterable/iterierbares Objekt**\n",
    "dessen Elemente **erst bei Bedarf erzeugt** werden.\n",
    "\n",
    "\n",
    "- `range(100)` kreiert ein iterierbares Objekt mit \n",
    "  den Elemenen $0,1,\\ldots,99$.\n",
    "- `range(-5, 6)` kreiert ein iterierbares Objekt mit \n",
    "  den Elemenen $-5,-4,\\ldots,5$.\n",
    "- `range(10, 20, 3)` kreiert ein iterierbares Objekt mit \n",
    "  den Elemenen $10,13,16,19$.  \n",
    "\n",
    "\n",
    "Die Funktion `range` kann mit 1 bis 3 Argumenten aufgerufen werden.\n",
    "Alle Argumente m&uuml;ssen von Typ `int` sein.\n",
    "- `range(stop)` erzeugt die Elemente $0,1,\\ldots, \\texttt{stop}-1$,\n",
    "- `range(start, stop)` erzeugt die Elemente\n",
    " $\\texttt{start},\\texttt{start}+1,\\ldots, \\texttt{stop}-1$,\n",
    "- `range(start, stop, step)` erzeugt die Elemente\n",
    " $\\texttt{start},\\texttt{start}+\\texttt{step},\\ldots$, die kleiner als `stop` sind.\n",
    "\n",
    "Typische Verwendungsweisen:\n",
    "```python\n",
    "numbers = tuple(range(-5, 6)) # erzeugt Tuple (-5,-4,...,5)\n",
    "\n",
    "for i in range(5):  # for i in (0, 1, 2, 3, 4):\n",
    "    ...\n",
    "```\n",
    "***"
   ]
  },
  {
   "cell_type": "markdown",
   "id": "35f6d5ae-8206-43b4-b174-427b4619cff6",
   "metadata": {},
   "source": [
    "### Eine Funktion `myrange`  \n",
    "`myrange(*args)` liefert das gleiche Tuple wie\n",
    "`tuple(range(*args))`."
   ]
  },
  {
   "cell_type": "code",
   "execution_count": null,
   "id": "82f232c4-c578-45f2-b4dc-85637599e85c",
   "metadata": {},
   "outputs": [],
   "source": [
    "def myrange(start, stop=None, step=1):\n",
    "    if stop is None:\n",
    "        stop = start\n",
    "        start = 0\n",
    "    print('start = ' + str(start), \n",
    "          'stop = ' + str(stop), \n",
    "          'step = ' + str(step), \n",
    "          )    \n",
    "    items = ()\n",
    "    i = start\n",
    "\n",
    "    if step > 0:\n",
    "        while i < stop:\n",
    "            items = items + (i,)\n",
    "            i = i + step\n",
    "    elif step < 0:\n",
    "        while i > stop:\n",
    "            items = items + (i,)\n",
    "            i = i + step\n",
    "    return items"
   ]
  },
  {
   "cell_type": "code",
   "execution_count": null,
   "id": "94b094dc-84ca-494b-ae8d-795ae852c21d",
   "metadata": {},
   "outputs": [],
   "source": [
    "myrange(3)"
   ]
  },
  {
   "cell_type": "code",
   "execution_count": null,
   "id": "c0b77e91-38bc-4d36-9e7a-7224e24290aa",
   "metadata": {},
   "outputs": [],
   "source": [
    "myrange(-5, 6)"
   ]
  },
  {
   "cell_type": "code",
   "execution_count": null,
   "id": "4c8f9af3-89bf-492d-ad2b-5f9a0b7470dc",
   "metadata": {},
   "outputs": [],
   "source": [
    "myrange(10, 5, -2)"
   ]
  },
  {
   "cell_type": "code",
   "execution_count": null,
   "id": "edd433a1-5599-42e0-82c1-deda63b7932a",
   "metadata": {},
   "outputs": [],
   "source": [
    "myrange(3) == tuple(range(3))"
   ]
  },
  {
   "cell_type": "markdown",
   "id": "bfa32b03-00c6-4fee-95bc-0a1b2c0f186d",
   "metadata": {},
   "source": [
    "### Aufgabe:\n",
    "- Erzeuge ein Tuple mit allen geraden Zahlen von 2 bis und mit 100.\n",
    "- Erzeuge ein Tuple mit allen ungeraden Zahlen von 1 bis und mit 99.\n",
    "- Schreibe eine Funktion `total(numbers)`, welche die\n",
    "  Summe aller Zahlen im Tupel/Liste `numbers` zur&uuml;ck gibt.\n",
    "- &Uuml;berpr&uuml;fe dein Resultat mit Hilfe der Funktion `sum`:  \n",
    " `sum(<iterable>)` berechnet die Summe aller Elemente von `<iterable>`, falls `<iterable>` nur Zahlen enth&auml;lt."
   ]
  },
  {
   "cell_type": "code",
   "execution_count": null,
   "id": "f0ac865e-801d-4bbd-ae58-4b66d37caacd",
   "metadata": {},
   "outputs": [],
   "source": [
    "nbrs = (1, 5, 9)\n",
    "sum(nbrs)"
   ]
  },
  {
   "cell_type": "code",
   "execution_count": null,
   "id": "14b852da-ddb0-477e-9da3-f44c127a8603",
   "metadata": {},
   "outputs": [],
   "source": [
    "even_nbrs = tuple(range(2, 101, 2))\n",
    "sum(even_nbrs)"
   ]
  },
  {
   "cell_type": "code",
   "execution_count": null,
   "id": "c622f177-8cb1-4eea-ae0d-b08cfb2dd488",
   "metadata": {},
   "outputs": [],
   "source": [
    "odd_nbrs = tuple(range(1, 100, 2))\n",
    "sum(odd_nbrs)"
   ]
  },
  {
   "cell_type": "code",
   "execution_count": null,
   "id": "a6cfa28e-a3e0-4555-82da-b696884b8ecf",
   "metadata": {},
   "outputs": [],
   "source": [
    "def total(numbers):\n",
    "    tot = 0\n",
    "    for n in numbers:\n",
    "        tot = tot + n\n",
    "    return tot"
   ]
  },
  {
   "cell_type": "code",
   "execution_count": null,
   "id": "b8e37244-62e4-4901-906a-a64191680c28",
   "metadata": {},
   "outputs": [],
   "source": [
    "total (even_nbrs)"
   ]
  },
  {
   "cell_type": "code",
   "execution_count": null,
   "id": "c4e6d194-5d82-44ab-b465-5687ec2a895a",
   "metadata": {},
   "outputs": [],
   "source": [
    "total (odd_nbrs)"
   ]
  },
  {
   "cell_type": "code",
   "execution_count": null,
   "id": "24fb74c4-4b15-4e23-84cd-dfc63d37331a",
   "metadata": {},
   "outputs": [],
   "source": []
  }
 ],
 "metadata": {
  "author": "dieter.probst@gmail.com",
  "kernelspec": {
   "display_name": "Python 3 (ipykernel)",
   "language": "python",
   "name": "python3"
  },
  "language_info": {
   "codemirror_mode": {
    "name": "ipython",
    "version": 3
   },
   "file_extension": ".py",
   "mimetype": "text/x-python",
   "name": "python",
   "nbconvert_exporter": "python",
   "pygments_lexer": "ipython3",
   "version": "3.13.0"
  }
 },
 "nbformat": 4,
 "nbformat_minor": 5
}
