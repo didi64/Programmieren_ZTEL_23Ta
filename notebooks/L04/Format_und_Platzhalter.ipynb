{
 "cells": [
  {
   "cell_type": "markdown",
   "id": "b56682bf-25b0-49e3-a8b6-a0f8018f627d",
   "metadata": {},
   "source": [
    "### Platzhalter-Strings\n",
    "Strings der Form\n",
    "```python\n",
    "fstring = 'Vorname: {}, Name {}'\n",
    "```\n",
    "nennen wir Platzhalter-Strings. `{}` fungiert dabei als Platzhalter. Obiger String enth&auml;lt zwei Platzhalter.  \n",
    "Mittels der Funktion `str.format` k&ouml;nnen die Platzhalter ersetzt werden.   \n",
    "\n",
    "```python\n",
    "str.format(fstring, 'Betty', 'Bossi')\n",
    "```\n",
    "\n",
    "Das kompaktere  \n",
    "```python\n",
    "fstring.format('Betty', 'Bossi')\n",
    "```\n",
    "\n",
    "hat den gleichen Effekt."
   ]
  },
  {
   "cell_type": "code",
   "execution_count": null,
   "id": "46e9bde1-72fb-4985-bc0e-1aef009c689d",
   "metadata": {},
   "outputs": [],
   "source": [
    "fstring = 'Vorname: {}, Name: {}'\n",
    "str.format(fstring, 'Betty', 'Bossi')"
   ]
  },
  {
   "cell_type": "code",
   "execution_count": null,
   "id": "004f0286-b97d-445f-a7f0-ab3d25ce57bb",
   "metadata": {},
   "outputs": [],
   "source": [
    "fstring.format('Betty', 'Bossi')"
   ]
  },
  {
   "cell_type": "code",
   "execution_count": null,
   "id": "46c18c25-edee-43f7-a8c4-3d1b02fcb194",
   "metadata": {},
   "outputs": [],
   "source": [
    "Im Platzhalter kann man Formatierungscodes platzieren. Z.B.\n",
    "- `'{:<10}'` (eingef&uuml;llter Text wird zu einem linksb&uuml;ndigen String mit Mindestl&auml;nge 10 gemacht.\n",
    "- `'{:>10}'` (eingef&uuml;llter Text wird zu einem rechtsb&uuml;ndigen String mit Mindestl&auml;nge 10 gemacht."
   ]
  },
  {
   "cell_type": "code",
   "execution_count": null,
   "id": "0cb7d272-f7ac-4f36-befd-e56032568e1c",
   "metadata": {},
   "outputs": [],
   "source": [
    "https://docs.python.org/3/library/string.html#format-specification-mini-language"
   ]
  },
  {
   "cell_type": "code",
   "execution_count": 26,
   "id": "10e5897b-b65b-4840-b55d-051fe342e530",
   "metadata": {},
   "outputs": [],
   "source": [
    "float_fstr = 'float: {:5.2f}'\n",
    "float_fstr = 'float: {:05.2f}'\n",
    "int_fstring = 'int: {:2d}'\n",
    "int_fstring = 'int: {:2d}'\n",
    "str_fstring = 'str: {:<10}'\n",
    "str_fstring = 'str: {:^10}'\n",
    "str_fstring = 'str: {:>10}'"
   ]
  },
  {
   "cell_type": "code",
   "execution_count": 25,
   "id": "e1f0b216-55b4-40a1-ab2d-fe91d095d000",
   "metadata": {},
   "outputs": [
    {
     "data": {
      "text/plain": [
       "'abc       '"
      ]
     },
     "execution_count": 25,
     "metadata": {},
     "output_type": "execute_result"
    }
   ],
   "source": []
  },
  {
   "cell_type": "code",
   "execution_count": null,
   "id": "22efee0f-994d-4ee9-bfc8-e7f7e19f0299",
   "metadata": {},
   "outputs": [],
   "source": [
    "fstring.format(*['Betty', 'Bossi'])"
   ]
  },
  {
   "cell_type": "markdown",
   "id": "dda23065-8b29-488d-8228-6b8b049fc50a",
   "metadata": {},
   "source": [
    "### Tablelle formatiert ausgeben\n",
    "Eine Tabelle der Form\n",
    "\n",
    "| Vorname | Name | Email |  \n",
    "| --- | --- | --- |  \n",
    "| Max | Mueller | max.mueller@gmail.com |  \n",
    "| Betty | Bossi | betty.bossi@gmail.com |  \n",
    "\n",
    "k&ouml;nnen wir als Liste von Zeilen auffassen."
   ]
  },
  {
   "cell_type": "code",
   "execution_count": 13,
   "id": "dc1eaaf1-049a-4c73-8efc-2fecda9b122d",
   "metadata": {},
   "outputs": [],
   "source": [
    "cols = ['Vorname', 'Name', 'Email']\n",
    "rows = [['Max', 'Mueller', 'max.mueller@gmail.com'],\n",
    "        ['Betty', 'Bossi', 'betty.bossi@gmail.com'],\n",
    "       ] \n",
    "\n",
    "fstring= '|{:<12}|{:<12}|{:<30}|'"
   ]
  },
  {
   "cell_type": "code",
   "execution_count": 14,
   "id": "d87a7f6c-0118-41ac-8e17-00816f593bc2",
   "metadata": {},
   "outputs": [
    {
     "data": {
      "text/plain": [
       "'|Vorname     |Name        |Email                         |'"
      ]
     },
     "execution_count": 14,
     "metadata": {},
     "output_type": "execute_result"
    }
   ],
   "source": [
    "header = fstring.format(*cols)\n",
    "header"
   ]
  },
  {
   "cell_type": "code",
   "execution_count": 15,
   "id": "a164bddd-7c07-4973-955f-a18ad36649d5",
   "metadata": {},
   "outputs": [],
   "source": [
    "from students import students"
   ]
  },
  {
   "cell_type": "code",
   "execution_count": 16,
   "id": "59bc70ac-40cd-4aee-8c4e-a6bc9f82b896",
   "metadata": {},
   "outputs": [
    {
     "name": "stdout",
     "output_type": "stream",
     "text": [
      "|Vorname     |Name        |Email                         |\n",
      "----------------------------------------------------------\n",
      "|Mike        |Blättler    |mike.blaettler@edu.teko.ch    |\n",
      "|Antonio     |Fernandes   |antonio.fernandes@edu.teko.ch |\n",
      "|Steve       |Kluser      |steve.kluser@edu.teko.ch      |\n",
      "|Eric        |Lechmann    |eric.lechmann@edu.teko.ch     |\n",
      "|Jean        |Leutwyler   |jean.leutwyler@edu.teko.ch    |\n",
      "|Steve       |Kluser      |steve.kluser@edu.teko.ch      |\n",
      "|Marko       |Stamenkovic |marko.stamenkovic@edu.teko.ch |\n"
     ]
    }
   ],
   "source": [
    "from students import students\n",
    "\n",
    "header = fstring.format(*cols)\n",
    "len_header = len(header)\n",
    "\n",
    "print(fstring.format(*cols))\n",
    "print('-' * len_header)\n",
    "\n",
    "for student in students:\n",
    "    print(fstring.format(*student))"
   ]
  },
  {
   "cell_type": "code",
   "execution_count": null,
   "id": "8ff00897-c977-41d9-8dc0-ecc259b6bf91",
   "metadata": {},
   "outputs": [],
   "source": []
  }
 ],
 "metadata": {
  "author": "dieter.probst@gmail.com",
  "kernelspec": {
   "display_name": "Python 3 (ipykernel)",
   "language": "python",
   "name": "python3"
  },
  "language_info": {
   "codemirror_mode": {
    "name": "ipython",
    "version": 3
   },
   "file_extension": ".py",
   "mimetype": "text/x-python",
   "name": "python",
   "nbconvert_exporter": "python",
   "pygments_lexer": "ipython3",
   "version": "3.13.0"
  }
 },
 "nbformat": 4,
 "nbformat_minor": 5
}
