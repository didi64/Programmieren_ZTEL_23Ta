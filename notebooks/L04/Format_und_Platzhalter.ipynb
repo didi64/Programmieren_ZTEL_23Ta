{
 "cells": [
  {
   "cell_type": "markdown",
   "id": "b56682bf-25b0-49e3-a8b6-a0f8018f627d",
   "metadata": {},
   "source": [
    "### Platzhalter-Strings\n",
    "Einen String der Form\n",
    "```python\n",
    "fstring = 'Artikel: {}, Preis {}'\n",
    "```\n",
    "nennen wir Platzhalter-String oder fstring (das f steht f&uuml;r Formatierung. `{}` fungiert dabei als Platzhalter. Obiger String enth&auml;lt zwei Platzhalter. Mittels der Funktion `str.format` k&ouml;nnen die Platzhalter ersetzt werden.   \n",
    "\n",
    "```python\n",
    "str.format(fstring, 'Bleistift', 1.95)\n",
    "```\n",
    "\n",
    "gibt den String\n",
    "\n",
    "```python\n",
    "'Artikel: Bleistift, Preis: 1.95'\n",
    "```\n",
    "Beachte, dass die Fliesskommazahl `1.95` automatisch in einen String umgewandelt wurde.  \n",
    "\n",
    "Innerhalb des Platzhalters kann eine sog. **Format-Spezifikation** stehen,\n",
    "die beschreibt, wie der einzusetzende Wert formatiert werden soll. \n",
    "Diese Format-Spezifikationen sind ihn einer eigenen\n",
    "[format-specification-mini-language](\n",
    "https://docs.python.org/3/library/string.html#format-specification-mini-language) abgefasst. Wir beschr&auml;nken uns darauf, Format-Spezifikationen\n",
    "f&uuml;r die h&auml;ufigsten Anwendungsf&auml;lle anzugeben.  \n",
    "\n",
    "**String, Float, Integer**: \n",
    "- `'{:<10}'` linksb&uuml;ndig, mind. 10 Zeichen lang, Padding mit `' '`,\n",
    "- `'{:^10}'` zentriert, mind. 10 Zeichen lang, Padding mit `' '`,\n",
    "- `'{:>10}'` rechtsb&uuml;ndig, mind. 10 Zeichen lang, Padding mit `' '`.\n",
    "  \n",
    "**Integers**: (das d steht f&uuml;r digit)\n",
    "- `'{:4d}'` rechtsb&uuml;ndig, mind. 4 Zeichen lang, Padding mit `' '`,\n",
    "- `'{:04d}'` rechtsb&uuml;ndig, mind. 4 Zeichen lang, Padding mit `'0'`.\n",
    "\n",
    "**Floats**: (das f steht f&uuml;r float)\n",
    "- `'{:5.2f}'` rechtsb&uuml;ndig, mind. 5 Zeichen lang, auf 2 Stellen gerundet,\n",
    "- `'{:05.2f}'` rechtsb&uuml;ndig, mind. 5 Zeichen lang, Padding mit `'0'`,\n"
   ]
  },
  {
   "cell_type": "code",
   "execution_count": null,
   "id": "46e9bde1-72fb-4985-bc0e-1aef009c689d",
   "metadata": {},
   "outputs": [],
   "source": [
    "links = '|{:<10}|'\n",
    "mittig = '|{:^10}|'\n",
    "rechts = '|{:>10}|'\n",
    "\n",
    "msg = 'hallo'\n",
    "print(str.format(links, msg))\n",
    "print(str.format(mittig, msg))\n",
    "print(str.format(rechts, msg))\n",
    "print(str.format(rechts, 42))\n",
    "print(str.format(mittig, 1.95))"
   ]
  },
  {
   "cell_type": "code",
   "execution_count": null,
   "id": "e69fab52-5007-40c3-afda-3613f26f85ac",
   "metadata": {},
   "outputs": [],
   "source": [
    "rbuendig = '{:4d}'\n",
    "rbuendig_0padding = '{:04d}'\n",
    "\n",
    "print(str.format(rbuendig, 2))\n",
    "print(str.format(rbuendig_0padding, 20))"
   ]
  },
  {
   "cell_type": "code",
   "execution_count": null,
   "id": "10e5897b-b65b-4840-b55d-051fe342e530",
   "metadata": {},
   "outputs": [],
   "source": [
    "print(str.format('{:5.2f}', 1.995))\n",
    "print(str.format('{:05.3f}', 1.995))"
   ]
  },
  {
   "cell_type": "markdown",
   "id": "a575ada5-6846-4ef1-adb1-9cc7a6085d0c",
   "metadata": {},
   "source": [
    "**Aufgabe**: Schreibe in die Platzhalter des fstrings in der &uuml;bern&auml;chsten Zelle Format-Spezifikationen, so dass\n",
    "beim Ausf&uuml;hren der Zelle folgender Output produziert wird (Artikelname linkb&uuml;ndig, Preis rechtsb&uuml;ndig, auf 10 Rappen gerundet).\n",
    "\n",
    "\n",
    "```python\n",
    "|Artikelbez.    |Preis |\n",
    "------------------------\n",
    "|Bleistift      |  2.00|\n",
    "|Kugelschreiber |  2.20|\n",
    "|Whiteboard     |175.80|\n",
    "```"
   ]
  },
  {
   "cell_type": "code",
   "execution_count": 72,
   "id": "6bef30a5-2d36-4749-b14c-8bf50255b336",
   "metadata": {},
   "outputs": [
    {
     "name": "stdout",
     "output_type": "stream",
     "text": [
      "|Artikelbez.    |Preis |\n"
     ]
    }
   ],
   "source": [
    "articles = [\n",
    "    ('Bleistift', 1.99),\n",
    "    ('Kugelschreiber', 2.17),\n",
    "    ('Whiteboard', 175.75),\n",
    "]\n",
    "fheader = '|{:<15}|{:<6}|'\n",
    "header = str.format(fheader, 'Artikelbez.', 'Preis')\n",
    "print(header)"
   ]
  },
  {
   "cell_type": "code",
   "execution_count": 73,
   "id": "fdcff07c-5e92-4148-9b75-9d564dd3d5d9",
   "metadata": {},
   "outputs": [
    {
     "name": "stdout",
     "output_type": "stream",
     "text": [
      "|Artikelbez.    |Preis |\n",
      "------------------------\n",
      "|Bleistift|1.99|\n",
      "|Kugelschreiber|2.17|\n",
      "|Whiteboard|175.75|\n"
     ]
    }
   ],
   "source": [
    "fstring = '|{}|{}|'  # fix\n",
    "print(header)\n",
    "print('-' * len(header))\n",
    "for article in articles:\n",
    "    name, price = article\n",
    "    print(str.format(fstring, name, price))"
   ]
  },
  {
   "cell_type": "code",
   "execution_count": null,
   "id": "891d8910-d555-4ef6-bc90-fea11fb7a2f2",
   "metadata": {},
   "outputs": [],
   "source": []
  },
  {
   "cell_type": "code",
   "execution_count": null,
   "id": "dc1eaaf1-049a-4c73-8efc-2fecda9b122d",
   "metadata": {},
   "outputs": [],
   "source": [
    "cols = ['Vorname', 'Name', 'Email']\n",
    "rows = [['Max', 'Mueller', 'max.mueller@gmail.com'],\n",
    "        ['Betty', 'Bossi', 'betty.bossi@gmail.com'],\n",
    "       ] \n",
    "\n",
    "fstring= '|{:<12}|{:<12}|{:<30}|'"
   ]
  },
  {
   "cell_type": "code",
   "execution_count": null,
   "id": "d87a7f6c-0118-41ac-8e17-00816f593bc2",
   "metadata": {},
   "outputs": [],
   "source": [
    "header = fstring.format(*cols)\n",
    "header"
   ]
  },
  {
   "cell_type": "code",
   "execution_count": null,
   "id": "a164bddd-7c07-4973-955f-a18ad36649d5",
   "metadata": {},
   "outputs": [],
   "source": [
    "from students import students"
   ]
  },
  {
   "cell_type": "code",
   "execution_count": null,
   "id": "59bc70ac-40cd-4aee-8c4e-a6bc9f82b896",
   "metadata": {},
   "outputs": [],
   "source": [
    "from students import students\n",
    "\n",
    "header = fstring.format(*cols)\n",
    "len_header = len(header)\n",
    "\n",
    "print(fstring.format(*cols))\n",
    "print('-' * len_header)\n",
    "\n",
    "for student in students:\n",
    "    print(fstring.format(*student))"
   ]
  },
  {
   "cell_type": "code",
   "execution_count": null,
   "id": "8ff00897-c977-41d9-8dc0-ecc259b6bf91",
   "metadata": {},
   "outputs": [],
   "source": []
  }
 ],
 "metadata": {
  "author": "dieter.probst@gmail.com",
  "kernelspec": {
   "display_name": "Python 3 (ipykernel)",
   "language": "python",
   "name": "python3"
  },
  "language_info": {
   "codemirror_mode": {
    "name": "ipython",
    "version": 3
   },
   "file_extension": ".py",
   "mimetype": "text/x-python",
   "name": "python",
   "nbconvert_exporter": "python",
   "pygments_lexer": "ipython3",
   "version": "3.13.0"
  }
 },
 "nbformat": 4,
 "nbformat_minor": 5
}
