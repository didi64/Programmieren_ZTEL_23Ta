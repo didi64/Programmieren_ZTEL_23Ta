{
 "cells": [
  {
   "cell_type": "markdown",
   "id": "20b56db1-676a-4db4-ae01-3e907830467b",
   "metadata": {},
   "source": [
    "### Der unpacking Operator `*`  \n",
    "Haben wir eine Funktion wie `print`, \n",
    "welche mit einer variablen Anzahl Argumente ayfgerufen werden kann,\n",
    "kann dies auf 2 Arten geschehen:  \n",
    "```python\n",
    "print(x, y, z)  # Argumente explizit &uuml;gergeben\n",
    "\n",
    "argumente = (x, y, z)  #Argumente in Tuple/Liste speichern\n",
    "print(*argumente)  # Liste auspacken\n",
    "```\n",
    "\n",
    "\n",
    "Sind z.B. Vorname und Name in einer Liste `['Betty', 'Bossi']` gespeichert,\n",
    "so k&ouml;nnen wir auch\n",
    "```python\n",
    "fstring.format(*['Betty', 'Bossi'])\n",
    "```\n",
    "statt\n",
    "```python\n",
    "fstring.format('Betty', 'Bossi')\n",
    "```\n",
    "schreiben. Der unpacking Operator `*` packt die Liste aus. "
   ]
  },
  {
   "cell_type": "code",
   "execution_count": null,
   "id": "872bd377-1713-49eb-a21e-5a49932323de",
   "metadata": {},
   "outputs": [],
   "source": [
    "def f(*args)"
   ]
  },
  {
   "cell_type": "markdown",
   "id": "43ea1055-f0c4-4bc1-bbd2-57ed7591a248",
   "metadata": {},
   "source": [
    "### Tablelle formatiert ausgeben\n",
    "Eine Tabelle der Form\n",
    "\n",
    "| Vorname | Name | Email |  \n",
    "| --- | --- | --- |  \n",
    "| Max | Mueller | max.mueller@gmail.com |  \n",
    "| Betty | Bossi | betty.bossi@gmail.com |  \n",
    "\n",
    "k&ouml;nnen wir als Liste von Zeilen auffassen."
   ]
  },
  {
   "cell_type": "code",
   "execution_count": 1,
   "id": "0608c877-25c1-46d3-89b1-33a045c44afd",
   "metadata": {},
   "outputs": [],
   "source": [
    "cols = ['Vorname', 'Name', 'Email']\n",
    "rows = [['Max', 'Mueller', 'max.mueller@gmail.com'],\n",
    "        ['Betty', 'Bossi', 'betty.bossi@gmail.com'],\n",
    "       ] \n",
    "\n",
    "fstring= '|{:<10}|{:<10}|{:<30}|'"
   ]
  },
  {
   "cell_type": "code",
   "execution_count": 2,
   "id": "90832e54-1eda-405e-8e1f-6522472f7580",
   "metadata": {},
   "outputs": [
    {
     "data": {
      "text/plain": [
       "'|Vorname   |Name      |Email                         |'"
      ]
     },
     "execution_count": 2,
     "metadata": {},
     "output_type": "execute_result"
    }
   ],
   "source": [
    "header = fstring.format(*cols)\n",
    "header"
   ]
  },
  {
   "cell_type": "code",
   "execution_count": null,
   "id": "cc53b87e-cae3-43ee-b406-8dcd712ae917",
   "metadata": {},
   "outputs": [],
   "source": []
  },
  {
   "cell_type": "code",
   "execution_count": 3,
   "id": "74d865b7-74b5-4fda-a1ab-8d79ffc17099",
   "metadata": {},
   "outputs": [
    {
     "name": "stdout",
     "output_type": "stream",
     "text": [
      "|Vorname   |Name      |Email                         |\n",
      "------------------------------------------------------\n"
     ]
    },
    {
     "ename": "NameError",
     "evalue": "name 'lines' is not defined",
     "output_type": "error",
     "traceback": [
      "\u001b[0;31m---------------------------------------------------------------------------\u001b[0m",
      "\u001b[0;31mNameError\u001b[0m                                 Traceback (most recent call last)",
      "Cell \u001b[0;32mIn[3], line 7\u001b[0m\n\u001b[1;32m      4\u001b[0m \u001b[38;5;28mprint\u001b[39m(fstring\u001b[38;5;241m.\u001b[39mformat(\u001b[38;5;241m*\u001b[39mcols))\n\u001b[1;32m      5\u001b[0m \u001b[38;5;28mprint\u001b[39m(\u001b[38;5;124m'\u001b[39m\u001b[38;5;124m-\u001b[39m\u001b[38;5;124m'\u001b[39m \u001b[38;5;241m*\u001b[39m len_header)\n\u001b[0;32m----> 7\u001b[0m \u001b[38;5;28;01mfor\u001b[39;00m line \u001b[38;5;129;01min\u001b[39;00m \u001b[43mlines\u001b[49m:\n\u001b[1;32m      8\u001b[0m     \u001b[38;5;28mprint\u001b[39m(fstring\u001b[38;5;241m.\u001b[39mformat(\u001b[38;5;241m*\u001b[39mline))\n",
      "\u001b[0;31mNameError\u001b[0m: name 'lines' is not defined"
     ]
    }
   ],
   "source": [
    "header = fstring.format(*cols)\n",
    "len_header = len(header)\n",
    "\n",
    "print(fstring.format(*cols))\n",
    "print('-' * len_header)\n",
    "\n",
    "for line in lines:\n",
    "    print(fstring.format(*line))"
   ]
  },
  {
   "cell_type": "code",
   "execution_count": null,
   "id": "1ee039eb-faed-4d6d-8c3d-9409167e5271",
   "metadata": {},
   "outputs": [],
   "source": []
  }
 ],
 "metadata": {
  "kernelspec": {
   "display_name": "Python 3 (ipykernel)",
   "language": "python",
   "name": "python3"
  },
  "language_info": {
   "codemirror_mode": {
    "name": "ipython",
    "version": 3
   },
   "file_extension": ".py",
   "mimetype": "text/x-python",
   "name": "python",
   "nbconvert_exporter": "python",
   "pygments_lexer": "ipython3",
   "version": "3.13.0"
  }
 },
 "nbformat": 4,
 "nbformat_minor": 5
}
