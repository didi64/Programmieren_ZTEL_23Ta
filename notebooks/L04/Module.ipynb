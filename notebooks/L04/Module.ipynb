{
 "cells": [
  {
   "cell_type": "markdown",
   "id": "de1578f2-982e-4aaa-a5dc-121f298c9b88",
   "metadata": {},
   "source": [
    "###  Module\n",
    "\n",
    "In Python kann man bestehenden und getesteten Programmcode einfach wiederverwenden.  \n",
    "Dazu speichert man den Code in einem .py File. So ein File nennt man dann auch **Modul**. Der **Modulname** ist der Filename ohne die `.py` Endung.  \n",
    "\n",
    "**Modul als Ganzes importieren**:  \n",
    "```python\n",
    "import <Modulname>\n",
    "```\n",
    "Dieses Kommando importiert das Modul `<Modulname>`. Dabei geschieht Folgendes:  \n",
    "Das File `<Modulname>.py` wird ausgef&uuml;hrt. Dabei wird ein eigenes Variabelverzeichnis verwendet. Alle Variabeln und Funktionen, die\n",
    "definiert werden, werden in diesem Verzeichnis gespeichert.\n",
    "Auf Variabeln in diesem Verzeichnis kann mit `<Modulname>.<Variabelname>` zugegriffen werden.\n",
    "\n",
    "Das File wird **nur beim ersten Import** ausgef&uuml;hrt.\n",
    "Soll das File ein weiteres Mal ausgef&uuml;hrt werden, z.B. weil es modifiziert wurde, muss entweder  \n",
    "  - der **Kernel neu gestartet werden**,  \n",
    "  - mit `%reset -f --aggressive` das Variabelverzeichnis komplet gel&ouml;scht werden.  \n",
    "\n",
    "\n",
    "**Einzelne Funktion(en)/Objekt(e) aus Modul importieren**:\n",
    "```python\n",
    "from <Modulname> import <Objektname>\n",
    "from <Modulname> import <Objektname_1>, ..., <Objektname_n>\n",
    "```\n",
    "Dieses Kommando importiert die aufgelisteten Namen.\n",
    "Obige Anweisung hat den gleichen Effekt wie\n",
    "\n",
    "```python\n",
    "import <Modulname>\n",
    "<Objektname_1> = <Modulname>.<Objektname_1>\n",
    "...\n",
    "del <Modulname>\n",
    "```\n",
    "\n",
    "Die **Python Standard Library** besteht aus einer Vielzahl von Modulen, wie z.B. das Modul `random`, welches\n",
    "Funktionen zum Arbeiten mit zuf&auml;lligen Werten enth&auml;lt.\n",
    "\n",
    "Typischerweise speichert man in einem Modul Programmcode, welchen man wiederverwenden will.\n",
    "In einem File `table_tools.py` k&ouml;nnte man z.B. Funktionen zum Generieren und Ausgeben von Tabellen speichern."
   ]
  },
  {
   "cell_type": "markdown",
   "id": "62245ede-ed3e-4f5a-8507-c111d3590729",
   "metadata": {},
   "source": [
    "***\n",
    "Modul `random` importieren (dieses Modul ist Teil der Python Standard Library)  \n",
    "Funktion `randint` mit dot-Notation aufrufen\n",
    "***"
   ]
  },
  {
   "cell_type": "code",
   "execution_count": null,
   "id": "e840907e-bb47-430b-b9b7-6f6ec4f4c2ad",
   "metadata": {},
   "outputs": [],
   "source": [
    "%reset -f --aggressive\n",
    "import mythings\n",
    "mythings"
   ]
  },
  {
   "cell_type": "code",
   "execution_count": null,
   "id": "6f788c38-55c4-4120-98a5-658299c7ed1b",
   "metadata": {},
   "outputs": [],
   "source": [
    "%reset -f --aggressive\n",
    "from mythings import length\n",
    "length('hallo')"
   ]
  },
  {
   "cell_type": "code",
   "execution_count": null,
   "id": "0180d04e-39fe-41b5-92bc-8f5122f928aa",
   "metadata": {},
   "outputs": [],
   "source": [
    "%reset -f --aggressive\n",
    "from random import randint as zufallszahl\n",
    "zufallszahl(1, 6)"
   ]
  },
  {
   "cell_type": "markdown",
   "id": "ab7fb90e-50b0-4ef7-8133-f851b6120463",
   "metadata": {},
   "source": [
    "### Wo wird nach Modulen gesucht?\n",
    "Die Variable `path` des Moduls `sys` ist eine Liste mit Verzeichnissen, in denen \n",
    "nach dem zu importierende Modul gesucht wird.\n",
    "Der leere String `''` steht f&uuml;r den das aktuelle Arbeitsverzeichnis.\n",
    "\n",
    "Die Suche beginnt beim ersten Verzeichnis. Das erste Modul, das gefunden wird, wird importiert.\n",
    "Wird das Modul nicht gefunden wird ein `ModuleNotFoundError` erzeugt."
   ]
  },
  {
   "cell_type": "code",
   "execution_count": null,
   "id": "ae6d7dad-637f-4358-a38c-b4bfb7a767c4",
   "metadata": {},
   "outputs": [],
   "source": [
    "import sys\n",
    "sys.path"
   ]
  },
  {
   "cell_type": "markdown",
   "id": "acc63dcc-d7d7-41bc-b770-963debbabd41",
   "metadata": {},
   "source": [
    "***\n",
    "Beim Import eines Moduls wird der volle Filename des Moduls def Variable\n",
    "`<Modulname>.__file__` zugewiesen.  \n",
    "\n",
    "Z.B. kann mit `%$<Modulname>.__file__` dieses File in eine Codezelle geladen werden (enth&auml;lt ein Linemagic Befehl einen\n",
    "Ausdruck der Form `$<Variabelname>`, dann wird dieser\n",
    "mit dem in dieser Variable gespeicherten Wert ersetzt).\n",
    "***"
   ]
  },
  {
   "cell_type": "code",
   "execution_count": null,
   "id": "926fc5a9-5b5e-4daf-9195-ed85e905ac36",
   "metadata": {},
   "outputs": [],
   "source": [
    "import mythings\n",
    "mythings.__file__"
   ]
  },
  {
   "cell_type": "code",
   "execution_count": null,
   "id": "e5d06d19-d330-4b68-8b7c-d0548f70d869",
   "metadata": {},
   "outputs": [],
   "source": [
    "%load $mythings.__file__"
   ]
  },
  {
   "cell_type": "markdown",
   "id": "3be2371f-bbf3-441e-8c50-80d37e41f5ea",
   "metadata": {},
   "source": [
    "### Pfad zur Liste `sys.path` hinzuf&uuml;gen  \n",
    "Wir werden Module im Ordner `/home/studi/work/modules/` ablegen. \n",
    "Beachte: Der Pfad `/home/studi/work/modules/` wurde bereits zur Liste `sys.path` hinzugef&uuml;gt.\n",
    "\n",
    "Beachte die Funktionen add und remove im File `import_tools.py`."
   ]
  },
  {
   "cell_type": "code",
   "execution_count": null,
   "id": "e01297d3-ce11-4ab8-b02e-4767d201ef78",
   "metadata": {},
   "outputs": [],
   "source": [
    "from import_tools import add, remove\n",
    "add('/home/studi/work/foo')\n",
    "remove('/home/studi/work/foo')"
   ]
  },
  {
   "cell_type": "markdown",
   "id": "ea7afba2-98fe-48bd-a454-61bc7c21cb42",
   "metadata": {},
   "source": [
    "### Aufgaben 1\n",
    "1. Kopiere `mythings` ins Verzeichnis  `/home/studi/work/modules`.\n",
    "   L&ouml;sche das Variabelverzeichnis und \n",
    "   (re)importiere `mythings`. Aus welchem Verzeichnis wurde\n",
    "   `mythings` importiert? Wie l&auml;sst sich das &uuml;berpr&uuml;fen?\n",
    "1. Erstelle einen Ordner `foo` in `/home/studi/work`,\n",
    "   kopiere `mythings` in diesen Ordner und benutze die Funktion `add` aus dem Modul `import_tools` um den Pfad zu `foo` zu `sys.path` hinzuzuf&uuml;gen.\n",
    "   (Re)importiere `mythings` und pr&uuml;fe, dass\n",
    "   tats&auml;chlich aus diesem Ordner importiert wurde.\n",
    "   L&ouml;sche den Ordner `foo` wieder und entferne den entsprechenden Eintrag aus `sys.path`."
   ]
  },
  {
   "cell_type": "code",
   "execution_count": null,
   "id": "a4f5164c-ae15-4444-aed5-dfcda16136d1",
   "metadata": {},
   "outputs": [],
   "source": []
  },
  {
   "cell_type": "markdown",
   "id": "39d62b3e-87ef-46e8-bb5a-9d68dd770956",
   "metadata": {},
   "source": [
    "### Aufgaben 2\n",
    "Wir wollen als n&auml;chstes ein einfaches Spiel programmieren\n",
    "(siehe Notebook NIM.ipynb) und einige dabei ben&ouml;tigte Funktionen in einem Modul speichern.  \n",
    "Erstelle ein File `nim.py`. Speichere in diesem File nachstehende Funktionen.\n",
    "Vervollst&auml;ndige den Code.\n",
    "\n",
    "```python\n",
    "def ask_for_move():\n",
    "    '''fragt von welchem Haufen  wieviele Steine\n",
    "       weggenommen werden sollen\n",
    "       gibt ein Tuple move = (Haufen, Anzahl Steine) zurueck\n",
    "    '''\n",
    "    ...\n",
    "\n",
    "def show(heaps):\n",
    "    '''heaps: list (Liste mit Anzahl Steinen)\n",
    "       stellt die Anzahl Steine textlich dar\n",
    "       z.B. heap([2, 1, 4]) gibt Folgendes aus:\n",
    "       1) **\n",
    "       2) *\n",
    "       3) ****\n",
    "    '''\n",
    "    ...\n",
    "\n",
    "def count(heaps):\n",
    "    '''gibt die Summe der Listenelemente von heaps\n",
    "       zurueck\n",
    "       heaps: list[int]\n",
    "    '''\n",
    "    ...\n",
    "```"
   ]
  },
  {
   "cell_type": "code",
   "execution_count": null,
   "id": "7076d028-1213-4939-aab3-0410b304ff31",
   "metadata": {},
   "outputs": [],
   "source": []
  }
 ],
 "metadata": {
  "author": "dieter.probst@gmail.com",
  "kernelspec": {
   "display_name": "Python 3 (ipykernel)",
   "language": "python",
   "name": "python3"
  },
  "language_info": {
   "codemirror_mode": {
    "name": "ipython",
    "version": 3
   },
   "file_extension": ".py",
   "mimetype": "text/x-python",
   "name": "python",
   "nbconvert_exporter": "python",
   "pygments_lexer": "ipython3",
   "version": "3.13.0"
  }
 },
 "nbformat": 4,
 "nbformat_minor": 5
}
