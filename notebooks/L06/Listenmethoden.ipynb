{
 "cells": [
  {
   "cell_type": "markdown",
   "id": "b82dec56-6c10-441a-aba1-391180efead6",
   "metadata": {},
   "source": [
    "### Eigene Implementation einiger Listenmethoden\n",
    "Im Unterschied zu den entsprechenden Methoden des Typs `list`\n",
    "geben nachstehende Funktionen immer eine neue Liste zur&uuml;ck.\n",
    "Die alte Liste wird nie modifiziert."
   ]
  },
  {
   "cell_type": "code",
   "execution_count": null,
   "id": "acebe9f1-4ae1-4dd8-ae41-28d1eee579b4",
   "metadata": {},
   "outputs": [],
   "source": [
    "def append(items, item):\n",
    "    '''kreiert eine neue Liste, die\n",
    "       items um item verlaengert\n",
    "    '''\n",
    "    new_items = items + [item]\n",
    "    return new_items"
   ]
  },
  {
   "cell_type": "code",
   "execution_count": null,
   "id": "9789b28e-77ec-4977-b7da-9822f7ffa1ea",
   "metadata": {},
   "outputs": [],
   "source": [
    "numbers = [2, 3, 4]\n",
    "numbers.append(5)\n",
    "numbers"
   ]
  },
  {
   "cell_type": "code",
   "execution_count": null,
   "id": "0faef4d2-f3a3-4ccb-a307-04b81e07a332",
   "metadata": {},
   "outputs": [],
   "source": [
    "def extend(items, more_items):\n",
    "    '''kreiert eine neue Liste, die\n",
    "       items um more_items verlaengert\n",
    "    '''\n",
    "    new_items = items + more_items\n",
    "    return new_items"
   ]
  },
  {
   "cell_type": "code",
   "execution_count": null,
   "id": "763b5994-5afe-4bbc-aac7-02f3dfb7ac6f",
   "metadata": {},
   "outputs": [],
   "source": [
    "numbers = [2, 3, 4]\n",
    "more_numbers = [5, 6]\n",
    "numbers.extend(more_numbers)\n",
    "numbers"
   ]
  },
  {
   "cell_type": "code",
   "execution_count": null,
   "id": "4daf14ff-596c-4ae9-a71c-c48eee651d22",
   "metadata": {},
   "outputs": [],
   "source": [
    "def index(items, item):\n",
    "    '''returns the index of the first occurrence\n",
    "       of item in items or raises a ValueError\n",
    "       items: list\n",
    "       item: any\n",
    "    '''\n",
    "    for i, x in enumerate(items):\n",
    "        if x == item:\n",
    "            return i\n",
    "    raise ValueError('item not found')"
   ]
  },
  {
   "cell_type": "code",
   "execution_count": null,
   "id": "a92660bf-5095-45f4-b3fd-09e5e7445c5c",
   "metadata": {},
   "outputs": [],
   "source": [
    "numbers = [2, 3, 4]\n",
    "index(numbers, 3)"
   ]
  },
  {
   "cell_type": "code",
   "execution_count": null,
   "id": "c7e9b925-bf33-4f66-8b35-081aa949467e",
   "metadata": {},
   "outputs": [],
   "source": [
    "def insert(items, item, i):\n",
    "    '''kreiert und liefert eine neue Liste durch einfuegen\n",
    "       von item an Index i\n",
    "    '''\n",
    "    new_items = items[:i] + [item] + items[i+1:]\n",
    "    return new_items"
   ]
  },
  {
   "cell_type": "code",
   "execution_count": null,
   "id": "33e34854-0889-48a5-a737-48c870bb0c70",
   "metadata": {},
   "outputs": [],
   "source": [
    "numbers = [2, 3, 4]\n",
    "insert(numbers, 10, 2)"
   ]
  },
  {
   "cell_type": "code",
   "execution_count": null,
   "id": "5a239bb6-8f46-4f1a-9cfa-10a4dd3182de",
   "metadata": {},
   "outputs": [],
   "source": [
    "def remove(items, item):\n",
    "    '''liefert eine neue Liste, aus der\n",
    "       das erste Auftreten von item entfert wurde\n",
    "    '''\n",
    "    i = index(items, item)\n",
    "    new_items = items[:i] + items[i+1:]\n",
    "    return new_items"
   ]
  },
  {
   "cell_type": "code",
   "execution_count": null,
   "id": "ca2a2aa7-6fa9-4bd0-9bbd-0c680424c09d",
   "metadata": {},
   "outputs": [],
   "source": [
    "items = [1, 2, 3, 4]\n",
    "remove(items, 3)"
   ]
  },
  {
   "cell_type": "code",
   "execution_count": null,
   "id": "6ec75b3b-0013-486a-9f6d-e63f57661df2",
   "metadata": {},
   "outputs": [],
   "source": [
    "def pop(items, index=-1):\n",
    "    '''liefert ein Tuple bestehend aus\n",
    "       items[index] und der Liste ohne dieses Element\n",
    "       items: list\n",
    "    '''\n",
    "    if not items:\n",
    "        raise IndexError('pop from empty list')\n",
    "    if index < 0:\n",
    "        index = len(items) + index\n",
    "    new_items = items[:index] + items[index+1:]\n",
    "    return items[index], new_items"
   ]
  },
  {
   "cell_type": "code",
   "execution_count": null,
   "id": "d513c360-2d0a-4b14-9dff-ea30a00b287c",
   "metadata": {},
   "outputs": [],
   "source": [
    "items = [1, 2, 3, 4]\n",
    "pop(items, index=-1)"
   ]
  },
  {
   "cell_type": "code",
   "execution_count": null,
   "id": "7b3c6dee-edd0-4d48-ae74-052357fbb906",
   "metadata": {},
   "outputs": [],
   "source": [
    "pop(items, index=2)"
   ]
  },
  {
   "cell_type": "code",
   "execution_count": null,
   "id": "6e22a792-c34b-48a9-8fb2-1eee3b235f80",
   "metadata": {},
   "outputs": [],
   "source": []
  }
 ],
 "metadata": {
  "kernelspec": {
   "display_name": "Python 3 (ipykernel)",
   "language": "python",
   "name": "python3"
  },
  "language_info": {
   "codemirror_mode": {
    "name": "ipython",
    "version": 3
   },
   "file_extension": ".py",
   "mimetype": "text/x-python",
   "name": "python",
   "nbconvert_exporter": "python",
   "pygments_lexer": "ipython3",
   "version": "3.13.0"
  }
 },
 "nbformat": 4,
 "nbformat_minor": 5
}
