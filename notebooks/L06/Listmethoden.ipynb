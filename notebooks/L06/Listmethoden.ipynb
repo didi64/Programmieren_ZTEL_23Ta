{
 "cells": [
  {
   "cell_type": "markdown",
   "id": "704d68b3-aab2-4089-a68f-30f09726e4b3",
   "metadata": {},
   "source": [
    "### Die wichtigsten Methoden des Typs `list`  \n",
    "- append"
   ]
  },
  {
   "cell_type": "code",
   "execution_count": null,
   "id": "549f7800-15ca-46d0-9842-819b5a9877d3",
   "metadata": {},
   "outputs": [],
   "source": []
  }
 ],
 "metadata": {
  "kernelspec": {
   "display_name": "Python 3 (ipykernel)",
   "language": "python",
   "name": "python3"
  },
  "language_info": {
   "codemirror_mode": {
    "name": "ipython",
    "version": 3
   },
   "file_extension": ".py",
   "mimetype": "text/x-python",
   "name": "python",
   "nbconvert_exporter": "python",
   "pygments_lexer": "ipython3",
   "version": "3.13.0"
  }
 },
 "nbformat": 4,
 "nbformat_minor": 5
}
