{
 "cells": [
  {
   "cell_type": "markdown",
   "id": "b82dec56-6c10-441a-aba1-391180efead6",
   "metadata": {},
   "source": [
    "### Cheatsheet"
   ]
  },
  {
   "cell_type": "markdown",
   "id": "493451ab-4ef0-474d-a4e7-f15d18250ef3",
   "metadata": {},
   "source": [
    "**int**: Integer/ ganze Zahlen.   \n",
    "Operationen: `+, -, *, /, **, //, %` (plus, minus, mal, durch, hoch, Ganzahldivision,\n",
    "  modulo).  \n",
    "**float**: Floats/Fliesskommazahlen  \n",
    "Operationen: `+, -, *, /, **, //, %`.  \n",
    "Funktionen: `abs(x), min(x, y), max(x, y), round(x, anzahl_stellen)`  \n",
    "**str**: String.  \n",
    "Operationen: `+` Multiplikation mit pos. Integer.  \n",
    "Funktionen: `len`.  \n",
    "Methoden: `format`, `split`, `join`, `index`, `find`, `replace`, `lstrip`, `rstrip`, `strip`.  \n",
    "**bool**: `True` und `False`.  \n",
    "Operationen: `and`, `or`, `not`.  \n",
    "**tuple**: Tuple `x = ('Max', 'Muster')`.  \n",
    "Operationen: `+`, Multiplikation mit pos. Integer.  \n",
    "Funktionen: `len`.  \n",
    "**list**: Liste `x = ['Max', 'Muster']`.  \n",
    "Operationen: `+`, Multiplikation mit pos. Integer.  \n",
    "Funktionen: `len`.  \n",
    "Methoden: `append`, `extend`, `insert`, `remove`, `pop`\n",
    "\n",
    "\n",
    "  "
   ]
  },
  {
   "cell_type": "code",
   "execution_count": 7,
   "id": "b8d82208-cb0c-4a97-8abf-d9dc5101232f",
   "metadata": {},
   "outputs": [],
   "source": []
  },
  {
   "cell_type": "code",
   "execution_count": 10,
   "id": "d592c13f-6ab9-4e45-b34d-125ef5396e38",
   "metadata": {},
   "outputs": [],
   "source": [
    "def mysplit(s, sep=','):\n",
    "    words = []\n",
    "    word = ''\n",
    "    for c in s:\n",
    "        if c == sep:\n",
    "            words.append(word)\n",
    "            word = ''\n",
    "        else:\n",
    "            word += c\n",
    "    return words"
   ]
  },
  {
   "cell_type": "code",
   "execution_count": 11,
   "id": "1de67ff8-ba5d-4e98-be3e-3cdafae04180",
   "metadata": {},
   "outputs": [
    {
     "data": {
      "text/plain": [
       "['foo', ' bar', ' 1', ' 2', '3', '', '4']"
      ]
     },
     "execution_count": 11,
     "metadata": {},
     "output_type": "execute_result"
    }
   ],
   "source": [
    "s = 'foo, bar, 1, 2,3,,4,'\n",
    "mysplit(s, sep=',')"
   ]
  },
  {
   "cell_type": "code",
   "execution_count": 18,
   "id": "552bb21c-97c8-4d4d-bb97-64f3bf0fcac0",
   "metadata": {},
   "outputs": [],
   "source": [
    "def myjoin(words, sep=', '):\n",
    "    res = ''\n",
    "    for word in words:\n",
    "        res = res + sep + word\n",
    "    return res[len(sep):]"
   ]
  },
  {
   "cell_type": "code",
   "execution_count": 19,
   "id": "5b8139ee-488f-44f1-b393-89dacd32dc0e",
   "metadata": {},
   "outputs": [
    {
     "data": {
      "text/plain": [
       "'foo, bar, baz'"
      ]
     },
     "execution_count": 19,
     "metadata": {},
     "output_type": "execute_result"
    }
   ],
   "source": [
    "words = ['foo', 'bar', 'baz']\n",
    "myjoin(words, sep=', ')"
   ]
  },
  {
   "cell_type": "code",
   "execution_count": 22,
   "id": "4afd223c-b564-4443-8ab3-9248c09c2a55",
   "metadata": {},
   "outputs": [],
   "source": [
    "def myindex(s, word):\n",
    "    n = len(word)\n",
    "    for i in range(n):\n",
    "        if s[i:] == word:\n",
    "            return i\n",
    "    raise ValueError('substring not found')"
   ]
  },
  {
   "cell_type": "code",
   "execution_count": 24,
   "id": "a84c8a27-0c2c-4897-abd1-5939e69f2eae",
   "metadata": {},
   "outputs": [
    {
     "ename": "ValueError",
     "evalue": "substring not found",
     "output_type": "error",
     "traceback": [
      "\u001b[0;31m---------------------------------------------------------------------------\u001b[0m",
      "\u001b[0;31mValueError\u001b[0m                                Traceback (most recent call last)",
      "Cell \u001b[0;32mIn[24], line 3\u001b[0m\n\u001b[1;32m      1\u001b[0m s \u001b[38;5;241m=\u001b[39m \u001b[38;5;124m'\u001b[39m\u001b[38;5;124mfoo\u001b[39m\u001b[38;5;124m'\u001b[39m\n\u001b[1;32m      2\u001b[0m word \u001b[38;5;241m=\u001b[39m \u001b[38;5;124m'\u001b[39m\u001b[38;5;124mooo\u001b[39m\u001b[38;5;124m'\u001b[39m\n\u001b[0;32m----> 3\u001b[0m \u001b[43mmyindex\u001b[49m\u001b[43m(\u001b[49m\u001b[43ms\u001b[49m\u001b[43m,\u001b[49m\u001b[43m \u001b[49m\u001b[43mword\u001b[49m\u001b[43m)\u001b[49m\n",
      "Cell \u001b[0;32mIn[22], line 6\u001b[0m, in \u001b[0;36mmyindex\u001b[0;34m(s, word)\u001b[0m\n\u001b[1;32m      4\u001b[0m     \u001b[38;5;28;01mif\u001b[39;00m s[i:] \u001b[38;5;241m==\u001b[39m word:\n\u001b[1;32m      5\u001b[0m         \u001b[38;5;28;01mreturn\u001b[39;00m i\n\u001b[0;32m----> 6\u001b[0m \u001b[38;5;28;01mraise\u001b[39;00m \u001b[38;5;167;01mValueError\u001b[39;00m(\u001b[38;5;124m'\u001b[39m\u001b[38;5;124msubstring not found\u001b[39m\u001b[38;5;124m'\u001b[39m)\n",
      "\u001b[0;31mValueError\u001b[0m: substring not found"
     ]
    }
   ],
   "source": [
    "s = 'foo'\n",
    "word = 'ooo'\n",
    "myindex(s, word)"
   ]
  },
  {
   "cell_type": "code",
   "execution_count": 40,
   "id": "16398fcf-aee0-45b1-83f7-1fc01b496e1d",
   "metadata": {},
   "outputs": [],
   "source": [
    "def find(s, word, start=0):\n",
    "    n = len(s)\n",
    "    m = len(word)\n",
    "    for i in range(start, n):\n",
    "        if s[i:i+m] == word:\n",
    "            return i\n",
    "    return -1"
   ]
  },
  {
   "cell_type": "code",
   "execution_count": 45,
   "id": "9bdd1d9c-c91a-48e3-8513-ac3778899e38",
   "metadata": {},
   "outputs": [
    {
     "data": {
      "text/plain": [
       "0"
      ]
     },
     "execution_count": 45,
     "metadata": {},
     "output_type": "execute_result"
    }
   ],
   "source": [
    "s = 'abcd'\n",
    "word = 'ab'\n",
    "find(s, word)"
   ]
  },
  {
   "cell_type": "code",
   "execution_count": 46,
   "id": "bb7e3184-eac5-4222-b206-f1fc0f36da2d",
   "metadata": {},
   "outputs": [],
   "source": [
    "def find_all(s, word):\n",
    "    indices = []\n",
    "    n = len(s)\n",
    "    m = len(word)\n",
    "    i = myfind(s, word)\n",
    "    while i != -1:\n",
    "        indices.append(i)\n",
    "        i = myfind(s, word, start=i+m)\n",
    "    return indices"
   ]
  },
  {
   "cell_type": "code",
   "execution_count": 47,
   "id": "19270d1d-40a5-49f1-8d33-05076e3e50ab",
   "metadata": {},
   "outputs": [
    {
     "data": {
      "text/plain": [
       "[0, 6]"
      ]
     },
     "execution_count": 47,
     "metadata": {},
     "output_type": "execute_result"
    }
   ],
   "source": [
    "s = 'abakadabra'\n",
    "find_all(s, 'ab')"
   ]
  },
  {
   "cell_type": "code",
   "execution_count": 70,
   "id": "03b894ba-f929-440e-a486-e737e81db13f",
   "metadata": {},
   "outputs": [],
   "source": [
    "def replace(s, old, new):\n",
    "    res = ''\n",
    "    m = len(old)\n",
    "    i = myfind(s, old)\n",
    "    while i != -1:\n",
    "        j = i + m\n",
    "        res += s[:i] + subst\n",
    "        s = s[j:]\n",
    "        i = myfind(s, old)\n",
    "    res = res + s\n",
    "    return res        "
   ]
  },
  {
   "cell_type": "code",
   "execution_count": 80,
   "id": "8598e989-c779-44ef-9061-240f39eb84e5",
   "metadata": {},
   "outputs": [
    {
     "data": {
      "text/plain": [
       "'fooB_a_rB_a_r'"
      ]
     },
     "execution_count": 80,
     "metadata": {},
     "output_type": "execute_result"
    }
   ],
   "source": [
    "text = 'foobarbar'\n",
    "word ='bar'\n",
    "subst = 'B_a_r'\n",
    "replace(text, word, subst)"
   ]
  },
  {
   "cell_type": "code",
   "execution_count": 96,
   "id": "ba8216d6-8459-4a16-ace0-49c3213ddd4d",
   "metadata": {},
   "outputs": [],
   "source": [
    "def lstrip(s):\n",
    "    for i, c in enumerate(s):\n",
    "        if c != ' ':\n",
    "            return s[i:]"
   ]
  },
  {
   "cell_type": "code",
   "execution_count": 97,
   "id": "d4f8fedb-898b-4215-868a-b3054a63468a",
   "metadata": {},
   "outputs": [
    {
     "data": {
      "text/plain": [
       "'afasf  agfa  '"
      ]
     },
     "execution_count": 97,
     "metadata": {},
     "output_type": "execute_result"
    }
   ],
   "source": [
    "s = ' afasf  agfa  '\n",
    "lstrip(s)"
   ]
  },
  {
   "cell_type": "code",
   "execution_count": 98,
   "id": "2caa5df5-3220-4876-be5f-635697d38faf",
   "metadata": {},
   "outputs": [],
   "source": [
    "def rstrip(s):\n",
    "    n = len(s)\n",
    "    for i, c in enumerate(reversed(s)):\n",
    "        if c != ' ':\n",
    "            return s[:n-i]"
   ]
  },
  {
   "cell_type": "code",
   "execution_count": 99,
   "id": "e595c95e-cac5-4729-a8eb-1ba6e23c0feb",
   "metadata": {},
   "outputs": [
    {
     "data": {
      "text/plain": [
       "' afasf  agfa'"
      ]
     },
     "execution_count": 99,
     "metadata": {},
     "output_type": "execute_result"
    }
   ],
   "source": [
    "s = ' afasf  agfa  '\n",
    "rstrip(s)"
   ]
  },
  {
   "cell_type": "code",
   "execution_count": 102,
   "id": "44e24a3c-8d9d-49d9-916a-d271bc714500",
   "metadata": {},
   "outputs": [],
   "source": [
    "def strip(s):\n",
    "    s = lstrip(s)\n",
    "    s = rstrip(s)\n",
    "    return s"
   ]
  },
  {
   "cell_type": "code",
   "execution_count": 103,
   "id": "202c3195-3fcf-475e-8c12-4e349383dbc7",
   "metadata": {},
   "outputs": [
    {
     "data": {
      "text/plain": [
       "'afasf  agfa'"
      ]
     },
     "execution_count": 103,
     "metadata": {},
     "output_type": "execute_result"
    }
   ],
   "source": [
    "s = ' afasf  agfa  '\n",
    "strip(s)"
   ]
  },
  {
   "cell_type": "code",
   "execution_count": null,
   "id": "acebe9f1-4ae1-4dd8-ae41-28d1eee579b4",
   "metadata": {},
   "outputs": [],
   "source": [
    "def append(items, item):\n",
    "    new_items = items + [item]\n",
    "    return new_items"
   ]
  },
  {
   "cell_type": "code",
   "execution_count": null,
   "id": "9789b28e-77ec-4977-b7da-9822f7ffa1ea",
   "metadata": {},
   "outputs": [],
   "source": []
  },
  {
   "cell_type": "code",
   "execution_count": null,
   "id": "0faef4d2-f3a3-4ccb-a307-04b81e07a332",
   "metadata": {},
   "outputs": [],
   "source": [
    "def extend(items, more_items):\n",
    "    new_items = items + more_items\n",
    "    return new_items"
   ]
  },
  {
   "cell_type": "code",
   "execution_count": null,
   "id": "763b5994-5afe-4bbc-aac7-02f3dfb7ac6f",
   "metadata": {},
   "outputs": [],
   "source": []
  },
  {
   "cell_type": "code",
   "execution_count": null,
   "id": "c7e9b925-bf33-4f66-8b35-081aa949467e",
   "metadata": {},
   "outputs": [],
   "source": [
    "def insert(items, new_item, i):\n",
    "    i = index(items, item)\n",
    "    new_items = items[:i] + [new_item] + items[i+1:]\n",
    "    return new_items"
   ]
  },
  {
   "cell_type": "code",
   "execution_count": 104,
   "id": "5a239bb6-8f46-4f1a-9cfa-10a4dd3182de",
   "metadata": {},
   "outputs": [],
   "source": [
    "def remove(items,  item):\n",
    "    i = index(items, item)\n",
    "    new_items = items[:i] + items[i+1:]\n",
    "    return new_items"
   ]
  },
  {
   "cell_type": "code",
   "execution_count": 105,
   "id": "ca2a2aa7-6fa9-4bd0-9bbd-0c680424c09d",
   "metadata": {},
   "outputs": [
    {
     "ename": "NameError",
     "evalue": "name 'index' is not defined",
     "output_type": "error",
     "traceback": [
      "\u001b[0;31m---------------------------------------------------------------------------\u001b[0m",
      "\u001b[0;31mNameError\u001b[0m                                 Traceback (most recent call last)",
      "Cell \u001b[0;32mIn[105], line 2\u001b[0m\n\u001b[1;32m      1\u001b[0m items \u001b[38;5;241m=\u001b[39m [\u001b[38;5;241m1\u001b[39m,\u001b[38;5;241m2\u001b[39m,\u001b[38;5;241m3\u001b[39m,\u001b[38;5;241m4\u001b[39m]\n\u001b[0;32m----> 2\u001b[0m \u001b[43mremove\u001b[49m\u001b[43m(\u001b[49m\u001b[43mitems\u001b[49m\u001b[43m,\u001b[49m\u001b[43m  \u001b[49m\u001b[38;5;241;43m3\u001b[39;49m\u001b[43m)\u001b[49m\n",
      "Cell \u001b[0;32mIn[104], line 2\u001b[0m, in \u001b[0;36mremove\u001b[0;34m(items, item)\u001b[0m\n\u001b[1;32m      1\u001b[0m \u001b[38;5;28;01mdef\u001b[39;00m \u001b[38;5;21mremove\u001b[39m(items,  item):\n\u001b[0;32m----> 2\u001b[0m     i \u001b[38;5;241m=\u001b[39m \u001b[43mindex\u001b[49m(items, item)\n\u001b[1;32m      3\u001b[0m     \u001b[38;5;28;01mreturn\u001b[39;00m items[:i] \u001b[38;5;241m+\u001b[39m items[i\u001b[38;5;241m+\u001b[39m\u001b[38;5;241m1\u001b[39m:]\n",
      "\u001b[0;31mNameError\u001b[0m: name 'index' is not defined"
     ]
    }
   ],
   "source": [
    "items = [1,2,3,4]\n",
    "remove(items,  3)"
   ]
  },
  {
   "cell_type": "code",
   "execution_count": 107,
   "id": "6ec75b3b-0013-486a-9f6d-e63f57661df2",
   "metadata": {},
   "outputs": [],
   "source": [
    "def pop(items):\n",
    "    if not items:\n",
    "        raise IndexError('pop from empty list')\n",
    "    new_items = items[:-1]\n",
    "    return new_items"
   ]
  },
  {
   "cell_type": "code",
   "execution_count": null,
   "id": "d513c360-2d0a-4b14-9dff-ea30a00b287c",
   "metadata": {},
   "outputs": [],
   "source": []
  }
 ],
 "metadata": {
  "kernelspec": {
   "display_name": "Python 3 (ipykernel)",
   "language": "python",
   "name": "python3"
  },
  "language_info": {
   "codemirror_mode": {
    "name": "ipython",
    "version": 3
   },
   "file_extension": ".py",
   "mimetype": "text/x-python",
   "name": "python",
   "nbconvert_exporter": "python",
   "pygments_lexer": "ipython3",
   "version": "3.13.0"
  }
 },
 "nbformat": 4,
 "nbformat_minor": 5
}
