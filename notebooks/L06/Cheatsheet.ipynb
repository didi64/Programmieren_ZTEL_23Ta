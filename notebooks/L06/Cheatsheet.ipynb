{
 "cells": [
  {
   "cell_type": "markdown",
   "id": "b82dec56-6c10-441a-aba1-391180efead6",
   "metadata": {},
   "source": [
    "### Cheatsheet"
   ]
  },
  {
   "cell_type": "markdown",
   "id": "493451ab-4ef0-474d-a4e7-f15d18250ef3",
   "metadata": {},
   "source": [
    "**int**: Integer/ ganze Zahlen.   \n",
    "Operationen: `+, -, *, /, **, //, %` (plus, minus, mal, durch, hoch, Ganzahldivision,\n",
    "  modulo).  \n",
    "**float**: Floats/Fliesskommazahlen  \n",
    "Operationen: `+, -, *, /, **, //, %`.  \n",
    "Funktionen: `abs(x), min(x, y), max(x, y), round(x, anzahl_stellen)`  \n",
    "**str**: String.  \n",
    "Operationen: `+` Multiplikation mit pos. Integer.  \n",
    "Funktionen: `len`.  \n",
    "Methoden: `format`, `split`, `join`, `index`, `find`, `replace`, `lstrip`, `rstrip`, `strip`.  \n",
    "**bool**: `True` und `False`.  \n",
    "Operationen: `and`, `or`, `not`.  \n",
    "**tuple**: Tuple `x = ('Max', 'Muster')`.  \n",
    "Operationen: `+`, Multiplikation mit pos. Integer.  \n",
    "Funktionen: `len`.  \n",
    "**list**: Liste `x = ['Max', 'Muster']`.  \n",
    "Operationen: `+`, Multiplikation mit pos. Integer.  \n",
    "Funktionen: `len`.  \n",
    "Methoden: `append`, `extend`, `insert`, `remove`, `pop`\n",
    "\n",
    "\n",
    "  "
   ]
  },
  {
   "cell_type": "code",
   "execution_count": 112,
   "id": "b8d82208-cb0c-4a97-8abf-d9dc5101232f",
   "metadata": {},
   "outputs": [
    {
     "data": {
      "text/plain": [
       "[1, 3, 4, 5]"
      ]
     },
     "execution_count": 112,
     "metadata": {},
     "output_type": "execute_result"
    }
   ],
   "source": [
    "numbers = [1,3,4]\n",
    "numbers.append(5)\n",
    "numbers"
   ]
  },
  {
   "cell_type": "code",
   "execution_count": 113,
   "id": "c66e3a75-10c7-48fd-92a8-f37d6ddcaf11",
   "metadata": {},
   "outputs": [
    {
     "data": {
      "text/plain": [
       "[1, 3, 4, 5, 6, 7]"
      ]
     },
     "execution_count": 113,
     "metadata": {},
     "output_type": "execute_result"
    }
   ],
   "source": [
    "numbers.extend([6, 7])\n",
    "numbers"
   ]
  },
  {
   "cell_type": "code",
   "execution_count": 114,
   "id": "16b0b3aa-d5e7-4a12-8983-b4ff5dd5433b",
   "metadata": {},
   "outputs": [
    {
     "data": {
      "text/plain": [
       "(2, [1, 2, 3, 4, 5, 6, 7])"
      ]
     },
     "execution_count": 114,
     "metadata": {},
     "output_type": "execute_result"
    }
   ],
   "source": [
    "numbers.insert(1, 2)  # nach insert: numbers[1] == 2\n",
    "numbers[1], numbers"
   ]
  },
  {
   "cell_type": "code",
   "execution_count": 116,
   "id": "2408d3c7-6e5d-4889-80e9-6b9eade0cb2d",
   "metadata": {},
   "outputs": [
    {
     "data": {
      "text/plain": [
       "(6, [1, 2, 3, 4, 5])"
      ]
     },
     "execution_count": 116,
     "metadata": {},
     "output_type": "execute_result"
    }
   ],
   "source": [
    "x = numbers.pop()\n",
    "x, numbers"
   ]
  },
  {
   "cell_type": "code",
   "execution_count": 118,
   "id": "d4b73010-62a2-407e-ab19-1ea3ddfa1a18",
   "metadata": {},
   "outputs": [
    {
     "data": {
      "text/plain": [
       "(4, [1, 2, 5])"
      ]
     },
     "execution_count": 118,
     "metadata": {},
     "output_type": "execute_result"
    }
   ],
   "source": [
    "x = numbers.pop(2)  # x = numbers[2]\n",
    "x, numbers"
   ]
  },
  {
   "cell_type": "code",
   "execution_count": null,
   "id": "acebe9f1-4ae1-4dd8-ae41-28d1eee579b4",
   "metadata": {},
   "outputs": [],
   "source": [
    "def append(items, item):\n",
    "    new_items = items + [item]\n",
    "    return new_items"
   ]
  },
  {
   "cell_type": "code",
   "execution_count": null,
   "id": "9789b28e-77ec-4977-b7da-9822f7ffa1ea",
   "metadata": {},
   "outputs": [],
   "source": []
  },
  {
   "cell_type": "code",
   "execution_count": null,
   "id": "0faef4d2-f3a3-4ccb-a307-04b81e07a332",
   "metadata": {},
   "outputs": [],
   "source": [
    "def extend(items, more_items):\n",
    "    new_items = items + more_items\n",
    "    return new_items"
   ]
  },
  {
   "cell_type": "code",
   "execution_count": null,
   "id": "763b5994-5afe-4bbc-aac7-02f3dfb7ac6f",
   "metadata": {},
   "outputs": [],
   "source": []
  },
  {
   "cell_type": "code",
   "execution_count": null,
   "id": "c7e9b925-bf33-4f66-8b35-081aa949467e",
   "metadata": {},
   "outputs": [],
   "source": [
    "def insert(items, new_item, i):\n",
    "    i = index(items, item)\n",
    "    new_items = items[:i] + [new_item] + items[i+1:]\n",
    "    return new_items"
   ]
  },
  {
   "cell_type": "code",
   "execution_count": 104,
   "id": "5a239bb6-8f46-4f1a-9cfa-10a4dd3182de",
   "metadata": {},
   "outputs": [],
   "source": [
    "def remove(items,  item):\n",
    "    i = index(items, item)\n",
    "    new_items = items[:i] + items[i+1:]\n",
    "    return new_items"
   ]
  },
  {
   "cell_type": "code",
   "execution_count": 105,
   "id": "ca2a2aa7-6fa9-4bd0-9bbd-0c680424c09d",
   "metadata": {},
   "outputs": [
    {
     "ename": "NameError",
     "evalue": "name 'index' is not defined",
     "output_type": "error",
     "traceback": [
      "\u001b[0;31m---------------------------------------------------------------------------\u001b[0m",
      "\u001b[0;31mNameError\u001b[0m                                 Traceback (most recent call last)",
      "Cell \u001b[0;32mIn[105], line 2\u001b[0m\n\u001b[1;32m      1\u001b[0m items \u001b[38;5;241m=\u001b[39m [\u001b[38;5;241m1\u001b[39m,\u001b[38;5;241m2\u001b[39m,\u001b[38;5;241m3\u001b[39m,\u001b[38;5;241m4\u001b[39m]\n\u001b[0;32m----> 2\u001b[0m \u001b[43mremove\u001b[49m\u001b[43m(\u001b[49m\u001b[43mitems\u001b[49m\u001b[43m,\u001b[49m\u001b[43m  \u001b[49m\u001b[38;5;241;43m3\u001b[39;49m\u001b[43m)\u001b[49m\n",
      "Cell \u001b[0;32mIn[104], line 2\u001b[0m, in \u001b[0;36mremove\u001b[0;34m(items, item)\u001b[0m\n\u001b[1;32m      1\u001b[0m \u001b[38;5;28;01mdef\u001b[39;00m \u001b[38;5;21mremove\u001b[39m(items,  item):\n\u001b[0;32m----> 2\u001b[0m     i \u001b[38;5;241m=\u001b[39m \u001b[43mindex\u001b[49m(items, item)\n\u001b[1;32m      3\u001b[0m     \u001b[38;5;28;01mreturn\u001b[39;00m items[:i] \u001b[38;5;241m+\u001b[39m items[i\u001b[38;5;241m+\u001b[39m\u001b[38;5;241m1\u001b[39m:]\n",
      "\u001b[0;31mNameError\u001b[0m: name 'index' is not defined"
     ]
    }
   ],
   "source": [
    "items = [1,2,3,4]\n",
    "remove(items,  3)"
   ]
  },
  {
   "cell_type": "code",
   "execution_count": 107,
   "id": "6ec75b3b-0013-486a-9f6d-e63f57661df2",
   "metadata": {},
   "outputs": [],
   "source": [
    "def pop(items):\n",
    "    if not items:\n",
    "        raise IndexError('pop from empty list')\n",
    "    new_items = items[:-1]\n",
    "    return new_items"
   ]
  },
  {
   "cell_type": "code",
   "execution_count": null,
   "id": "d513c360-2d0a-4b14-9dff-ea30a00b287c",
   "metadata": {},
   "outputs": [],
   "source": []
  }
 ],
 "metadata": {
  "kernelspec": {
   "display_name": "Python 3 (ipykernel)",
   "language": "python",
   "name": "python3"
  },
  "language_info": {
   "codemirror_mode": {
    "name": "ipython",
    "version": 3
   },
   "file_extension": ".py",
   "mimetype": "text/x-python",
   "name": "python",
   "nbconvert_exporter": "python",
   "pygments_lexer": "ipython3",
   "version": "3.13.0"
  }
 },
 "nbformat": 4,
 "nbformat_minor": 5
}
