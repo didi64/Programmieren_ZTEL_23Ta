{
 "cells": [
  {
   "cell_type": "markdown",
   "id": "ffb8453c-61f2-4447-a8f2-1c6e1c30b871",
   "metadata": {},
   "source": [
    "### Kontrollfragen Lektion 6\n",
    "1. Schreibe verschiedene Varianten einer Funktion `copy(items)`, welche eine Kopie der Liste `items` zur&uuml;ckgibt. Vergleiche das Original und die Kopie mit den Operatoren `==` und `is`.\n",
    "1. Schreibe eine Funktion `words2capwords(words)`, welche auf jedes Wort in der\n",
    "   Liste words die Methode `capitalize` anwendet und das Resultat als neue Liste zur&uuml;ckgibt. Die originale Liste `words` soll nicht modifiziert werden.\n",
    "1. Schreibe eine Funktion `lower(words)`, welche die Liste `words` modifiziert, indem sie auf jedes Wort in der Liste `words` die Methode `lower` anwendet.\n",
    "1. Was ist der Output folgenden Codefragments? Erkl&auml;re den Zustand der Liste `words` nach der Ausf&uuml;hrung.\n",
    "   \n",
    "   ```python\n",
    "   def append(words, word):\n",
    "       words += [word]\n",
    "       return words\n",
    "    \n",
    "   words = ['alpha', 'beta', 'gamma']\n",
    "   more_words = append(words, 'delta')\n",
    "   more_words.pop(0)\n",
    "   words\n",
    "   ```\n",
    "   \n",
    "1. Was ist der Output folgenden Codefragments? Erkl&auml;re den Zustand der Liste `words` nach der Ausf&uuml;hrung.\n",
    "   \n",
    "   ```python\n",
    "   def append(words, word):\n",
    "       words += (word,)\n",
    "       return words\n",
    "    \n",
    "   words = ('alpha', 'beta', 'gamma')\n",
    "   more_words = append(words, 'delta')\n",
    "   words\n",
    "\n",
    "1. Der String `data` enth&auml;lt kommaseparierte Zahlen.\n",
    "\n",
    "   ```python\n",
    "   data = '''\\\n",
    "   1.11 , 2.22,3.33,  4.44 ,\\\n",
    "   5.55,,7.77'''\n",
    "   ```\n",
    "\n",
    "    Schreibe Code, der aus diesem String folgende Liste von Floats und `None` erstellt:\n",
    "   \n",
    "   ```python\n",
    "   [1.11, 2.22, 3.33, 4.44, 5.55, None, 7.77]\n",
    "   ```\n",
    "1. Schreibe eine Funktion, welche aus einem String mit durch\n",
    "    Whitespace (ein oder mehrere Leerschl&auml;ge, Tab, Newline) getrennter W&ouml;rter eine String macht, wo zwischen zwei W&ouml;rtern genau ein Leerschlag ist.\n",
    "1. Gegeben sei eine Liste mit Codes und eine entsprechende Liste mit\n",
    "   den Bedeutungen.\n",
    "   ```python\n",
    "   codes = [22, 45, 99]\n",
    "   words = ['enemy', 'tank', 'missile']\n",
    "   ```\n",
    "\n",
    "   Schreibe eine Funktion, `decode(code)`, welche das zum Code passende Wort ausgibt oder einen Fehler ausl&ouml;st.\n",
    "   Programmiere eine Variante, welche die Methode `list.index` benutzt, und eine mit Hilfe der Funktion `zip`. "
   ]
  },
  {
   "cell_type": "code",
   "execution_count": null,
   "id": "48b72b79-42fc-4a94-ba2c-1abd14e24738",
   "metadata": {},
   "outputs": [],
   "source": []
  }
 ],
 "metadata": {
  "kernelspec": {
   "display_name": "Python 3 (ipykernel)",
   "language": "python",
   "name": "python3"
  },
  "language_info": {
   "codemirror_mode": {
    "name": "ipython",
    "version": 3
   },
   "file_extension": ".py",
   "mimetype": "text/x-python",
   "name": "python",
   "nbconvert_exporter": "python",
   "pygments_lexer": "ipython3",
   "version": "3.13.0"
  }
 },
 "nbformat": 4,
 "nbformat_minor": 5
}
