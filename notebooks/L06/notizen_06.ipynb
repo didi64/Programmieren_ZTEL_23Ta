{
 "cells": [
  {
   "cell_type": "code",
   "execution_count": null,
   "id": "23cf8da0-ea5a-4221-9f04-2c506d1af5df",
   "metadata": {},
   "outputs": [],
   "source": []
  },
  {
   "cell_type": "code",
   "execution_count": 5,
   "id": "2edbc2df-eb8d-42cd-9058-3aa60d408fab",
   "metadata": {},
   "outputs": [
    {
     "data": {
      "text/plain": [
       "'3/7'"
      ]
     },
     "execution_count": 5,
     "metadata": {},
     "output_type": "execute_result"
    }
   ],
   "source": [
    "bruch = str.format('{}/{}', 3, 7)\n",
    "bruch"
   ]
  },
  {
   "cell_type": "code",
   "execution_count": 7,
   "id": "f2c3ef9d-5328-47d6-928f-953c0f8c7da6",
   "metadata": {},
   "outputs": [
    {
     "data": {
      "text/plain": [
       "'3/7 = 0.42857142857142855'"
      ]
     },
     "execution_count": 7,
     "metadata": {},
     "output_type": "execute_result"
    }
   ],
   "source": [
    "fstring = '{} = {}'\n",
    "str.format(fstring, bruch, 3/7)"
   ]
  },
  {
   "cell_type": "code",
   "execution_count": null,
   "id": "fa766395-7799-4647-accf-74246056e716",
   "metadata": {},
   "outputs": [],
   "source": [
    "fstring = '{:<4} = {:6.3f}'\n",
    "str.format(fstring, bruch, 3/7)"
   ]
  },
  {
   "cell_type": "code",
   "execution_count": 1,
   "id": "052bb2da-47b6-4d78-98ef-777329b97c1e",
   "metadata": {},
   "outputs": [
    {
     "ename": "ModuleNotFoundError",
     "evalue": "No module named 'students'",
     "output_type": "error",
     "traceback": [
      "\u001b[0;31m---------------------------------------------------------------------------\u001b[0m",
      "\u001b[0;31mModuleNotFoundError\u001b[0m                       Traceback (most recent call last)",
      "Cell \u001b[0;32mIn[1], line 1\u001b[0m\n\u001b[0;32m----> 1\u001b[0m \u001b[38;5;28;01mfrom\u001b[39;00m \u001b[38;5;21;01mstudents\u001b[39;00m \u001b[38;5;28;01mimport\u001b[39;00m students\n\u001b[1;32m      3\u001b[0m names \u001b[38;5;241m=\u001b[39m []\n\u001b[1;32m      4\u001b[0m \u001b[38;5;28;01mfor\u001b[39;00m fname, lname, email \u001b[38;5;129;01min\u001b[39;00m students:\n",
      "\u001b[0;31mModuleNotFoundError\u001b[0m: No module named 'students'"
     ]
    }
   ],
   "source": [
    "from students import students\n",
    "\n",
    "names = []\n",
    "for fname, lname, email in students:\n",
    "    names = names + [(lname)]\n",
    "\n",
    "\n",
    "names[0], names[-1], maxlen(names)"
   ]
  },
  {
   "cell_type": "code",
   "execution_count": 1,
   "id": "4ec90fb9-280c-405e-b23d-36d47cb46f97",
   "metadata": {},
   "outputs": [],
   "source": [
    "def eval_guess(guess, secret):\n",
    "    if guess == secret:\n",
    "        return (True, 0)\n",
    "    if guess < secret:\n",
    "        return (False, -1)\n",
    "    if guess > secret:\n",
    "       return (False, 1)"
   ]
  },
  {
   "cell_type": "code",
   "execution_count": 2,
   "id": "712c4df7-9083-4ba7-8112-c71b0c8bb445",
   "metadata": {},
   "outputs": [
    {
     "data": {
      "text/plain": [
       "(False, 'zu klein')"
      ]
     },
     "execution_count": 2,
     "metadata": {},
     "output_type": "execute_result"
    }
   ],
   "source": [
    "secret = 3\n",
    "guess = 1\n",
    "comments = ['richtig', 'zu gross', 'zu klein']\n",
    "ok, i = eval_guess(guess, secret)\n",
    "ok, comments[i]"
   ]
  },
  {
   "cell_type": "code",
   "execution_count": 3,
   "id": "41b0fad2-bd5f-4961-a2c4-87fb29924f3a",
   "metadata": {},
   "outputs": [],
   "source": [
    "def next_guess(guess, evaluation, lower, upper):\n",
    "    ''' returns a triple (next_guess, lower, upper)\n",
    "            so that lower <= secret <= upper\n",
    "        guess: int\n",
    "        evaluation: -1 (too small) or 1 (too big)\n",
    "        lower: int (lower <= secret)\n",
    "        upper: int (secret <= upper)\n",
    "    '''\n",
    "    # neue Grenzen bestimmen\n",
    "    if evaluation == 1:\n",
    "        upper = guess - 1\n",
    "    else:\n",
    "        lower = guess + 1\n",
    "    # neuer Guess in der Mitte von lower und upper\n",
    "    n = (lower + upper) // 2\n",
    "    return n, lower, upper"
   ]
  },
  {
   "cell_type": "code",
   "execution_count": 8,
   "id": "a7e80fa0-6956-4fd4-8099-04ebb8a89f75",
   "metadata": {},
   "outputs": [],
   "source": [
    "lower, upper = 0, 10\n",
    "secret = 4\n",
    "guess = 7\n",
    "e = 1  # guess zu gross"
   ]
  },
  {
   "cell_type": "code",
   "execution_count": 11,
   "id": "e95ab34b-5d34-4b4b-b69a-3af41d2aed55",
   "metadata": {},
   "outputs": [
    {
     "data": {
      "text/plain": [
       "'guess=4, eval=richtig, lower=4, upper=4'"
      ]
     },
     "execution_count": 11,
     "metadata": {},
     "output_type": "execute_result"
    }
   ],
   "source": [
    "# fuehre die Zelle mehrmals aus und\n",
    "# beobachte, wie sich guess zum secret konvergiert.\n",
    "guess, lower, upper = next_guess(guess, e, lower, upper)\n",
    "ok, e = eval_guess(guess, secret)\n",
    "\n",
    "str.format('guess={}, eval={}, lower={}, upper={}',\n",
    "           guess, comments[e], lower, upper)"
   ]
  },
  {
   "cell_type": "code",
   "execution_count": 14,
   "id": "6ec01661-6aab-42ca-88e6-dc9075fdf2a6",
   "metadata": {},
   "outputs": [],
   "source": [
    "def f(*args):\n",
    "    print('Anzahl Argumente: {}'.format(len(args)))\n",
    "    print(*args)"
   ]
  },
  {
   "cell_type": "code",
   "execution_count": 15,
   "id": "2f4ed0fe-0568-446e-94c5-5fd251da56f8",
   "metadata": {},
   "outputs": [
    {
     "name": "stdout",
     "output_type": "stream",
     "text": [
      "Anzahl Argumente: 3\n",
      "1 2 3\n"
     ]
    }
   ],
   "source": [
    "f(1, 2, 3)"
   ]
  },
  {
   "cell_type": "code",
   "execution_count": 22,
   "id": "f48a1abf-3668-4085-9efd-92d7be7ec27b",
   "metadata": {},
   "outputs": [],
   "source": [
    "def f(*args, x):\n",
    "    print('Anzahl Argumente: {}'.format(len(args)))\n",
    "    print(*args)\n",
    "    print('x = {}'.format(x))"
   ]
  },
  {
   "cell_type": "code",
   "execution_count": 23,
   "id": "65b3e9a9-022c-4f02-8667-1eb7832aa0f9",
   "metadata": {},
   "outputs": [
    {
     "ename": "TypeError",
     "evalue": "f() missing 1 required keyword-only argument: 'x'",
     "output_type": "error",
     "traceback": [
      "\u001b[0;31m---------------------------------------------------------------------------\u001b[0m",
      "\u001b[0;31mTypeError\u001b[0m                                 Traceback (most recent call last)",
      "Cell \u001b[0;32mIn[23], line 1\u001b[0m\n\u001b[0;32m----> 1\u001b[0m \u001b[43mf\u001b[49m\u001b[43m(\u001b[49m\u001b[43m)\u001b[49m\n",
      "\u001b[0;31mTypeError\u001b[0m: f() missing 1 required keyword-only argument: 'x'"
     ]
    }
   ],
   "source": [
    "# muss x als Keyword-Argument uebergeben,\n",
    "#  alle Argumente vor dem ersten Keyword-Argument werden in ein Tuple gepackt\n",
    "f()"
   ]
  },
  {
   "cell_type": "code",
   "execution_count": 24,
   "id": "903fd93e-12c7-4cb0-b1b8-3fe3a71aded2",
   "metadata": {},
   "outputs": [
    {
     "name": "stdout",
     "output_type": "stream",
     "text": [
      "Anzahl Argumente: 0\n",
      "\n",
      "x=1\n"
     ]
    }
   ],
   "source": [
    "f(x=1)"
   ]
  },
  {
   "cell_type": "code",
   "execution_count": 25,
   "id": "6215dd3d-5210-4039-b51f-fefcd73fdb5d",
   "metadata": {},
   "outputs": [
    {
     "name": "stdout",
     "output_type": "stream",
     "text": [
      "Anzahl Argumente: 2\n",
      "1 2\n",
      "x=x\n"
     ]
    }
   ],
   "source": [
    "f(1, 2, x='x')"
   ]
  },
  {
   "cell_type": "code",
   "execution_count": 6,
   "id": "7304f8c9-3b9b-4099-a643-bf8fe14ba435",
   "metadata": {},
   "outputs": [],
   "source": [
    "def f(*args, x):\n",
    "    print('Anzahl Argumente: {}'.format(len(args)))\n",
    "    print(*args)\n",
    "    print(x)"
   ]
  },
  {
   "cell_type": "code",
   "execution_count": 7,
   "id": "2b00dc16-e22e-4629-a0a9-1752da513dd6",
   "metadata": {},
   "outputs": [
    {
     "name": "stdout",
     "output_type": "stream",
     "text": [
      "Anzahl Argumente: 2\n",
      "1 2\n",
      "3\n"
     ]
    }
   ],
   "source": [
    "f(1,2,x=3)"
   ]
  },
  {
   "cell_type": "code",
   "execution_count": null,
   "id": "37aa825a-64d4-422e-8782-cc04c16f9435",
   "metadata": {},
   "outputs": [],
   "source": [
    "def f(*args):\n",
    "    start = 0\n",
    "    step = 1\n",
    "    if len(args) == 1:\n",
    "        stop, = args\n",
    "    elif len(args) == 2:\n",
    "        ...\n",
    "    elif len(args) == 3:\n",
    "        ...\n",
    "    else:\n",
    "        raise Exception('at most 3 arguments expected')\n",
    "    # Ausgabe von start, stop, step"
   ]
  },
  {
   "cell_type": "code",
   "execution_count": 32,
   "id": "1d791746-8cc5-4c2a-abaa-1da99fa6fb64",
   "metadata": {},
   "outputs": [],
   "source": [
    "def f(*args):\n",
    "    start = 0\n",
    "    step = 1\n",
    "    if len(args) == 1:\n",
    "        stop, = args\n",
    "    elif len(args) == 2:\n",
    "        start, stop = args\n",
    "    elif len(args) == 3:\n",
    "        start, stop, step = args\n",
    "    else:\n",
    "        raise Exception('at most 3 arguments expected')\n",
    "    fmsg = 'start={}, stop={}, step={}'\n",
    "    msg = str.format(fmsg, start, stop, step)\n",
    "    print(msg)"
   ]
  },
  {
   "cell_type": "code",
   "execution_count": 35,
   "id": "f7e84837-b346-4db5-a052-6e2fc87fa90c",
   "metadata": {},
   "outputs": [
    {
     "name": "stdout",
     "output_type": "stream",
     "text": [
      "start=0, stop=15, step=1\n"
     ]
    }
   ],
   "source": [
    "f(15)"
   ]
  },
  {
   "cell_type": "code",
   "execution_count": 71,
   "id": "a3d91587-2d65-45f2-b159-f1e87569c093",
   "metadata": {},
   "outputs": [
    {
     "data": {
      "text/plain": [
       "'Haus und Hof und Kind'"
      ]
     },
     "execution_count": 71,
     "metadata": {},
     "output_type": "execute_result"
    }
   ],
   "source": [
    "s = ' und '\n",
    "words = ['Haus', 'Hof', 'Kind']\n",
    "s.join(words)"
   ]
  },
  {
   "cell_type": "code",
   "execution_count": null,
   "id": "a8e76f3d-c9c8-49b0-851a-25fdfbeb4582",
   "metadata": {},
   "outputs": [],
   "source": []
  },
  {
   "cell_type": "code",
   "execution_count": 63,
   "id": "3df387e5-fbef-4725-83dc-e6037e1a390c",
   "metadata": {},
   "outputs": [
    {
     "data": {
      "text/plain": [
       "<enumerate at 0x7fe6dff7a6b0>"
      ]
     },
     "execution_count": 63,
     "metadata": {},
     "output_type": "execute_result"
    }
   ],
   "source": [
    "word = 'abc'\n",
    "enumerate(word)"
   ]
  },
  {
   "cell_type": "code",
   "execution_count": null,
   "id": "2642f5af-6f21-4f3b-8427-2b200be0b41b",
   "metadata": {},
   "outputs": [],
   "source": [
    "tuple(enumerate(word))"
   ]
  },
  {
   "cell_type": "code",
   "execution_count": 69,
   "id": "401de9c6-a866-43ca-b4f0-7919fca12bf5",
   "metadata": {},
   "outputs": [
    {
     "data": {
      "text/plain": [
       "<zip at 0x7fe6dfe357c0>"
      ]
     },
     "execution_count": 69,
     "metadata": {},
     "output_type": "execute_result"
    }
   ],
   "source": [
    "nbrs = (1, 2, 3)\n",
    "zip(nbrs, word)"
   ]
  },
  {
   "cell_type": "code",
   "execution_count": 70,
   "id": "21a2c18b-0ba8-431d-9a5c-afce70848e9e",
   "metadata": {},
   "outputs": [
    {
     "data": {
      "text/plain": [
       "((1, 'a'), (2, 'b'), (3, 'c'))"
      ]
     },
     "execution_count": 70,
     "metadata": {},
     "output_type": "execute_result"
    }
   ],
   "source": [
    "tuple(zip(nbrs, word))"
   ]
  },
  {
   "cell_type": "code",
   "execution_count": null,
   "id": "6ca3d086-9e80-4441-bd6c-7467e32f72d0",
   "metadata": {},
   "outputs": [],
   "source": [
    "def find_first(word, char):\n",
    "    '''returns the position of the first occurrence of\n",
    "       the letter char in word.\n",
    "       returns -1 if char does not occur in word\n",
    "       word: str\n",
    "       char: str of length 1\n",
    "    '''\n",
    "    i = 0\n",
    "    for c in word:\n",
    "        if c == char:\n",
    "            break\n",
    "        i = i + 1\n",
    "\n",
    "    if i == len(word):\n",
    "        i = -1\n",
    "    return i"
   ]
  },
  {
   "cell_type": "code",
   "execution_count": 54,
   "id": "af188541-d7cc-4aea-adec-377b036e3803",
   "metadata": {},
   "outputs": [],
   "source": [
    "def find_first(word, char):\n",
    "    '''returns the position of the first occurrence of\n",
    "       the letter char in word.\n",
    "       returns -1 if char does not occur in word\n",
    "       word: str\n",
    "       char: str of length 1\n",
    "    '''\n",
    "    for i, c in enumerate(word):\n",
    "        if c == char:\n",
    "            break\n",
    "    else:\n",
    "        i = -1\n",
    "    return i"
   ]
  },
  {
   "cell_type": "code",
   "execution_count": 55,
   "id": "a8b8db24-7432-4e92-98a1-4a66cf805052",
   "metadata": {},
   "outputs": [
    {
     "data": {
      "text/plain": [
       "4"
      ]
     },
     "execution_count": 55,
     "metadata": {},
     "output_type": "execute_result"
    }
   ],
   "source": [
    "find_first('asdfg', 'g')"
   ]
  },
  {
   "cell_type": "code",
   "execution_count": 53,
   "id": "d5efaafb-5ae9-48ae-9a22-5f8a6930025b",
   "metadata": {},
   "outputs": [
    {
     "name": "stdout",
     "output_type": "stream",
     "text": [
      "0\n",
      "1\n",
      "2\n",
      "no break\n"
     ]
    }
   ],
   "source": []
  },
  {
   "cell_type": "code",
   "execution_count": null,
   "id": "b291e169-5039-46ab-857b-dfbe0a52993d",
   "metadata": {},
   "outputs": [],
   "source": [
    "def find_all(word, char):\n",
    "    '''returns the position of the first occurrence of\n",
    "       the letter char in word.\n",
    "       returns -1 if char does not occur in word\n",
    "       word: str\n",
    "       char: str of length 1\n",
    "    '''\n",
    "    indices = ()\n",
    "    i = -1\n",
    "    for c in word:\n",
    "        i = i + 1\n",
    "        if c != char:\n",
    "            continue\n",
    "        indices = indices + (i,)\n",
    "    return indices"
   ]
  },
  {
   "cell_type": "code",
   "execution_count": 57,
   "id": "99f5556e-3cfc-4478-95ad-1b94282c8f88",
   "metadata": {},
   "outputs": [],
   "source": [
    "def find_all(word, char):\n",
    "    '''returns the position of the first occurrence of\n",
    "       the letter char in word.\n",
    "       returns -1 if char does not occur in word\n",
    "       word: str\n",
    "       char: str of length 1\n",
    "    '''\n",
    "    indices = ()\n",
    "    for i, c in enumerate(word):\n",
    "        if c != char:\n",
    "            continue\n",
    "        indices = indices + (i,)\n",
    "    return indices"
   ]
  },
  {
   "cell_type": "code",
   "execution_count": 59,
   "id": "4ed004bc-1b2a-4fc8-b64c-46338e19b521",
   "metadata": {},
   "outputs": [
    {
     "data": {
      "text/plain": [
       "(1, 3, 5)"
      ]
     },
     "execution_count": 59,
     "metadata": {},
     "output_type": "execute_result"
    }
   ],
   "source": [
    "find_all('afafafa', 'f')"
   ]
  },
  {
   "cell_type": "code",
   "execution_count": 8,
   "id": "c740f5e5-d7d5-4e14-a25f-56524cdabb2e",
   "metadata": {},
   "outputs": [],
   "source": [
    "nbrs = [1, 2, 3]\n",
    "x = [nbrs]\n",
    "y = x.copy()"
   ]
  },
  {
   "cell_type": "code",
   "execution_count": 11,
   "id": "4d606cb4-c4a2-4380-abbb-1ad8ebc65d2a",
   "metadata": {},
   "outputs": [
    {
     "data": {
      "text/plain": [
       "(False, True)"
      ]
     },
     "execution_count": 11,
     "metadata": {},
     "output_type": "execute_result"
    }
   ],
   "source": [
    "x is y, x == y"
   ]
  },
  {
   "cell_type": "code",
   "execution_count": 14,
   "id": "b6f881b0-0e56-43cd-a875-3fe20bf3dbca",
   "metadata": {},
   "outputs": [
    {
     "data": {
      "text/plain": [
       "True"
      ]
     },
     "execution_count": 14,
     "metadata": {},
     "output_type": "execute_result"
    }
   ],
   "source": [
    "x[0] is y[0]"
   ]
  },
  {
   "cell_type": "code",
   "execution_count": 13,
   "id": "f0199eaa-cf6d-4eeb-8773-4c5b9c176c42",
   "metadata": {},
   "outputs": [
    {
     "data": {
      "text/plain": [
       "([[10, 20, 3]], [[10, 20, 3]])"
      ]
     },
     "execution_count": 13,
     "metadata": {},
     "output_type": "execute_result"
    }
   ],
   "source": [
    "x[0][0] = 10\n",
    "y[0][1] = 20\n",
    "x, y"
   ]
  },
  {
   "cell_type": "code",
   "execution_count": null,
   "id": "eb08ea62-726e-4bf6-a6a5-d386a240e107",
   "metadata": {},
   "outputs": [],
   "source": []
  }
 ],
 "metadata": {
  "kernelspec": {
   "display_name": "Python 3 (ipykernel)",
   "language": "python",
   "name": "python3"
  },
  "language_info": {
   "codemirror_mode": {
    "name": "ipython",
    "version": 3
   },
   "file_extension": ".py",
   "mimetype": "text/x-python",
   "name": "python",
   "nbconvert_exporter": "python",
   "pygments_lexer": "ipython3",
   "version": "3.13.0"
  }
 },
 "nbformat": 4,
 "nbformat_minor": 5
}
