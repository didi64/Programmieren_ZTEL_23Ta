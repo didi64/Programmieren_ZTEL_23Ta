{
 "cells": [
  {
   "cell_type": "code",
   "execution_count": null,
   "id": "23cf8da0-ea5a-4221-9f04-2c506d1af5df",
   "metadata": {},
   "outputs": [],
   "source": []
  },
  {
   "cell_type": "code",
   "execution_count": 1,
   "id": "4ec90fb9-280c-405e-b23d-36d47cb46f97",
   "metadata": {},
   "outputs": [],
   "source": [
    "def eval_guess(guess, secret):\n",
    "    if guess == secret:\n",
    "        return (True, 0)\n",
    "    if guess < secret:\n",
    "        return (False, -1)\n",
    "    if guess > secret:\n",
    "       return (False, 1)"
   ]
  },
  {
   "cell_type": "code",
   "execution_count": 2,
   "id": "712c4df7-9083-4ba7-8112-c71b0c8bb445",
   "metadata": {},
   "outputs": [
    {
     "data": {
      "text/plain": [
       "(False, 'zu klein')"
      ]
     },
     "execution_count": 2,
     "metadata": {},
     "output_type": "execute_result"
    }
   ],
   "source": [
    "secret = 3\n",
    "guess = 1\n",
    "comments = ['richtig', 'zu gross', 'zu klein']\n",
    "ok, i = eval_guess(guess, secret)\n",
    "ok, comments[i]"
   ]
  },
  {
   "cell_type": "code",
   "execution_count": 3,
   "id": "41b0fad2-bd5f-4961-a2c4-87fb29924f3a",
   "metadata": {},
   "outputs": [],
   "source": [
    "def next_guess(guess, evaluation, lower, upper):\n",
    "    ''' returns a triple (next_guess, lower, upper)\n",
    "            so that lower <= secret <= upper\n",
    "        guess: int\n",
    "        evaluation: -1 (too small) or 1 (too big)\n",
    "        lower: int (lower <= secret)\n",
    "        upper: int (secret <= upper)\n",
    "    '''\n",
    "    # neue Grenzen bestimmen\n",
    "    if evaluation == 1:\n",
    "        upper = guess - 1\n",
    "    else:\n",
    "        lower = guess + 1\n",
    "    # neuer Guess in der Mitte von lower und upper\n",
    "    n = (lower + upper) // 2\n",
    "    return n, lower, upper"
   ]
  },
  {
   "cell_type": "code",
   "execution_count": 8,
   "id": "a7e80fa0-6956-4fd4-8099-04ebb8a89f75",
   "metadata": {},
   "outputs": [],
   "source": [
    "lower, upper = 0, 10\n",
    "secret = 4\n",
    "guess = 7\n",
    "e = 1  # guess zu gross"
   ]
  },
  {
   "cell_type": "code",
   "execution_count": 11,
   "id": "e95ab34b-5d34-4b4b-b69a-3af41d2aed55",
   "metadata": {},
   "outputs": [
    {
     "data": {
      "text/plain": [
       "'guess=4, eval=richtig, lower=4, upper=4'"
      ]
     },
     "execution_count": 11,
     "metadata": {},
     "output_type": "execute_result"
    }
   ],
   "source": [
    "# fuehre die Zelle mehrmals aus und\n",
    "# beobachte, wie sich guess zum secret konvergiert.\n",
    "guess, lower, upper = next_guess(guess, e, lower, upper)\n",
    "ok, e = eval_guess(guess, secret)\n",
    "\n",
    "str.format('guess={}, eval={}, lower={}, upper={}',\n",
    "           guess, comments[e], lower, upper)"
   ]
  },
  {
   "cell_type": "code",
   "execution_count": 14,
   "id": "6ec01661-6aab-42ca-88e6-dc9075fdf2a6",
   "metadata": {},
   "outputs": [],
   "source": [
    "def f(*args):\n",
    "    print('Anzahl Argumente: {}'.format(len(args)))\n",
    "    print(*args)"
   ]
  },
  {
   "cell_type": "code",
   "execution_count": 15,
   "id": "2f4ed0fe-0568-446e-94c5-5fd251da56f8",
   "metadata": {},
   "outputs": [
    {
     "name": "stdout",
     "output_type": "stream",
     "text": [
      "Anzahl Argumente: 3\n",
      "1 2 3\n"
     ]
    }
   ],
   "source": [
    "f(1, 2, 3)"
   ]
  },
  {
   "cell_type": "code",
   "execution_count": 22,
   "id": "f48a1abf-3668-4085-9efd-92d7be7ec27b",
   "metadata": {},
   "outputs": [],
   "source": [
    "def f(*args, x):\n",
    "    print('Anzahl Argumente: {}'.format(len(args)))\n",
    "    print(*args)\n",
    "    print('x = {}'.format(x))"
   ]
  },
  {
   "cell_type": "code",
   "execution_count": 23,
   "id": "65b3e9a9-022c-4f02-8667-1eb7832aa0f9",
   "metadata": {},
   "outputs": [
    {
     "ename": "TypeError",
     "evalue": "f() missing 1 required keyword-only argument: 'x'",
     "output_type": "error",
     "traceback": [
      "\u001b[0;31m---------------------------------------------------------------------------\u001b[0m",
      "\u001b[0;31mTypeError\u001b[0m                                 Traceback (most recent call last)",
      "Cell \u001b[0;32mIn[23], line 1\u001b[0m\n\u001b[0;32m----> 1\u001b[0m \u001b[43mf\u001b[49m\u001b[43m(\u001b[49m\u001b[43m)\u001b[49m\n",
      "\u001b[0;31mTypeError\u001b[0m: f() missing 1 required keyword-only argument: 'x'"
     ]
    }
   ],
   "source": [
    "# muss x als Keyword-Argument uebergeben,\n",
    "#  alle Argumente vor dem ersten Keyword-Argument werden in ein Tuple gepackt\n",
    "f()"
   ]
  },
  {
   "cell_type": "code",
   "execution_count": 24,
   "id": "903fd93e-12c7-4cb0-b1b8-3fe3a71aded2",
   "metadata": {},
   "outputs": [
    {
     "name": "stdout",
     "output_type": "stream",
     "text": [
      "Anzahl Argumente: 0\n",
      "\n",
      "x=1\n"
     ]
    }
   ],
   "source": [
    "f(x=1)"
   ]
  },
  {
   "cell_type": "code",
   "execution_count": 25,
   "id": "6215dd3d-5210-4039-b51f-fefcd73fdb5d",
   "metadata": {},
   "outputs": [
    {
     "name": "stdout",
     "output_type": "stream",
     "text": [
      "Anzahl Argumente: 2\n",
      "1 2\n",
      "x=x\n"
     ]
    }
   ],
   "source": [
    "f(1, 2, x='x')"
   ]
  },
  {
   "cell_type": "code",
   "execution_count": null,
   "id": "37aa825a-64d4-422e-8782-cc04c16f9435",
   "metadata": {},
   "outputs": [],
   "source": [
    "def f(*args):\n",
    "    start = 0\n",
    "    step = 1\n",
    "    if len(args) == 1:\n",
    "        stop, = args\n",
    "    elif len(args) == 2:\n",
    "        ...\n",
    "    elif len(args) == 3:  \n",
    "        ...\n",
    "    else:\n",
    "        raise Exception('at most 3 arguments expected')"
   ]
  },
  {
   "cell_type": "code",
   "execution_count": null,
   "id": "1d791746-8cc5-4c2a-abaa-1da99fa6fb64",
   "metadata": {},
   "outputs": [],
   "source": [
    "def f(*args):\n",
    "    start = 0\n",
    "    step = 1\n",
    "    if len(args) == 1:\n",
    "        stop, = args\n",
    "    elif len(args) == 2:\n",
    "        start, stop =  args\n",
    "    elif len(args) == 3:  \n",
    "        start, stop, step =  args\n",
    "    else:\n",
    "        raise Exception('at most 3 arguments expected')"
   ]
  }
 ],
 "metadata": {
  "kernelspec": {
   "display_name": "Python 3 (ipykernel)",
   "language": "python",
   "name": "python3"
  },
  "language_info": {
   "codemirror_mode": {
    "name": "ipython",
    "version": 3
   },
   "file_extension": ".py",
   "mimetype": "text/x-python",
   "name": "python",
   "nbconvert_exporter": "python",
   "pygments_lexer": "ipython3",
   "version": "3.13.0"
  }
 },
 "nbformat": 4,
 "nbformat_minor": 5
}
