{
 "cells": [
  {
   "cell_type": "code",
   "execution_count": null,
   "id": "23cf8da0-ea5a-4221-9f04-2c506d1af5df",
   "metadata": {},
   "outputs": [],
   "source": []
  },
  {
   "cell_type": "code",
   "execution_count": 1,
   "id": "065b19dc-45d0-4c4d-b75e-6530e7a00bed",
   "metadata": {},
   "outputs": [],
   "source": [
    "def find_first(word, char):\n",
    "    '''returns the position of the first occurrence of\n",
    "       the letter char in word.\n",
    "       returns -1 if char does not occur in word\n",
    "       word: str\n",
    "       char: str of length 1\n",
    "    '''\n",
    "    for i, c in enumerate(word):\n",
    "        if c == char:\n",
    "            break\n",
    "    if i == len(word):\n",
    "        i = -1\n",
    "    return i\n",
    "\n",
    "\n",
    "def find_all(word, char):\n",
    "    '''returns the position of the first occurrence of\n",
    "       the letter char in word.\n",
    "       returns -1 if char does not occur in word\n",
    "       word: str\n",
    "       char: str of length 1\n",
    "    '''\n",
    "    indices = ()\n",
    "    for i, c in enumerate(word):\n",
    "        i = i + 1  \n",
    "        if c != char:\n",
    "            continue\n",
    "        indices = indices + (i,)\n",
    "    return indices"
   ]
  },
  {
   "cell_type": "code",
   "execution_count": 3,
   "id": "988f457a-1104-4a11-a7e8-4670e3e37d05",
   "metadata": {},
   "outputs": [
    {
     "data": {
      "text/plain": [
       "(3, (1, 3, 5, 7, 10))"
      ]
     },
     "execution_count": 3,
     "metadata": {},
     "output_type": "execute_result"
    }
   ],
   "source": [
    "word = 'abakadabra'\n",
    "find_first(word, 'k'), find_all(word, 'a')"
   ]
  },
  {
   "cell_type": "code",
   "execution_count": 5,
   "id": "5497b249-a005-4790-a2bc-428c5a5290a8",
   "metadata": {},
   "outputs": [
    {
     "data": {
      "text/plain": [
       "[(1, 'a'),\n",
       " (2, 'b'),\n",
       " (3, 'c'),\n",
       " (4, 'd'),\n",
       " (5, 'e'),\n",
       " (6, 'f'),\n",
       " (7, 'g'),\n",
       " (8, 'h')]"
      ]
     },
     "execution_count": 5,
     "metadata": {},
     "output_type": "execute_result"
    }
   ],
   "source": [
    "s= 'abcdefgh'\n",
    "list(zip(range(1, len(s)+1), s))"
   ]
  },
  {
   "cell_type": "code",
   "execution_count": null,
   "id": "4ec90fb9-280c-405e-b23d-36d47cb46f97",
   "metadata": {},
   "outputs": [],
   "source": []
  }
 ],
 "metadata": {
  "kernelspec": {
   "display_name": "Python 3 (ipykernel)",
   "language": "python",
   "name": "python3"
  },
  "language_info": {
   "codemirror_mode": {
    "name": "ipython",
    "version": 3
   },
   "file_extension": ".py",
   "mimetype": "text/x-python",
   "name": "python",
   "nbconvert_exporter": "python",
   "pygments_lexer": "ipython3",
   "version": "3.13.0"
  }
 },
 "nbformat": 4,
 "nbformat_minor": 5
}
