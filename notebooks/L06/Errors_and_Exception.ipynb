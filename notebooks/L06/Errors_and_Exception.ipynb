{
 "cells": [
  {
   "cell_type": "markdown",
   "id": "0b609f1e-0bfd-4d49-89f6-991e53b51f22",
   "metadata": {},
   "source": [
    "### Errors und Exception  \n",
    "Syntaxfehler werden bereits vor dem Ausf&uuml;hren des Codes entdeckt.\n",
    "Andere Fehler treten erst w&auml;rend der Laufzeit des Programms auf.\n",
    "Solche Fehler nennt man auch **Exceptions**.  \n",
    "Exceptions werden weiter ein Errors eingeteilt, die das Problem genauer benennen.\n",
    "Wir beschreiben einige dieser Execptions etwas genauer:  \n",
    "- **NameError**: Wird ausgel&ouml;st, wenn auf einen undefinierte Variable zugegriffen wird.\n",
    "- **TypeError**: Wird ausgel&ouml;st, wenn eine Operation oder Funktion auf einen\n",
    "  unpassenden Typ angewendet wird.\n",
    "- **ValueError**: Wird ausgel&ouml;st, wenn eine Operation oder Funktion auf einen\n",
    "  passenden Typ aber unpassenden Wert angewendet wird.\n",
    "- **IndexError**: Wird ausgel&ouml;st, wenn versucht wird, mit der Indexnotation auf ein nicht vorhandenes Element zuzugreifen."
   ]
  },
  {
   "cell_type": "code",
   "execution_count": null,
   "id": "2bffd1eb-96a2-4d41-9749-5ee6eb8f41bd",
   "metadata": {},
   "outputs": [],
   "source": [
    "foo"
   ]
  },
  {
   "cell_type": "code",
   "execution_count": null,
   "id": "3a1a5e2e-6e22-4ae2-8983-e520fff60b5b",
   "metadata": {},
   "outputs": [],
   "source": [
    "x = '1'\n",
    "x = x + 1"
   ]
  },
  {
   "cell_type": "code",
   "execution_count": null,
   "id": "e72f6bcd-60da-4c5a-b195-fad2a0efa64e",
   "metadata": {},
   "outputs": [],
   "source": [
    "# int('10') # kann int auf einen String anwenden\n",
    "int('ff')  # aber nicht auch 'ff'\n",
    "# int('ff', base=16)"
   ]
  },
  {
   "cell_type": "code",
   "execution_count": null,
   "id": "37c73868-8e5b-4509-b0f3-a55b6cfd1797",
   "metadata": {},
   "outputs": [],
   "source": [
    "numbers = [1, 2, 3]\n",
    "numbers[3]"
   ]
  },
  {
   "cell_type": "markdown",
   "id": "02c50b6c-f8a0-4a33-8ab4-4320d13b8039",
   "metadata": {},
   "source": [
    "### Prophylaktisch Fehler ausl&ouml;sen  \n",
    "F&uuml;r den Programmierer ist es hilfreich, Fehler m&ouml;gichst fr&uuml;h zu erkennen und undefiniertes Verhalten zu vermeiden.\n",
    "Und f&uuml;r einen Anwender einer Funktion ist es hilfreich,\n",
    "sofort zu merken, dass die Funktion nicht wie gedacht verwendet wird. \n",
    "Dies sind Gr&uuml;nde, selber einen Fehler auszul&ouml;sen.  \n",
    "Ist der Fehler ein NameError, TypeError, ... so sollte so ein Error ausgel&ouml;st werden, andernfalls kann einfach eine Exception ausgel&ouml;st werden.  \n",
    "```python\n",
    "raise Exception('Etwas ging schief')\n",
    "\n",
    "raise TypeError('Integer als Argument  erwartet')\n",
    "```\n"
   ]
  },
  {
   "cell_type": "code",
   "execution_count": null,
   "id": "b5a47297-7ffc-4923-87f7-334b1702c79c",
   "metadata": {},
   "outputs": [],
   "source": [
    "def get_email(name):\n",
    "    '''returns the emailaddress of name'''\n",
    "    if type(name) is not str:\n",
    "        fmsg = 'str expected for argument \"name\", got {}'\n",
    "        msg = str.format(fmsg.format(type(name)))\n",
    "        raise TypeError(msg)\n",
    "    print('Searching for email of', name)"
   ]
  },
  {
   "cell_type": "code",
   "execution_count": null,
   "id": "96b6dca3-6810-4b2c-9a54-26dc371eef09",
   "metadata": {},
   "outputs": [],
   "source": [
    "arg = ('Max', 'Muster')\n",
    "get_email(arg)"
   ]
  },
  {
   "cell_type": "code",
   "execution_count": null,
   "id": "40e69cb3-6cde-47ac-accc-dd68bf1ac53e",
   "metadata": {},
   "outputs": [],
   "source": [
    "def f(*args):\n",
    "    if not 1 <= len(args) <= 3:\n",
    "        raise Exception('1 bis 3 Argumente erwartet, erhielt', len(args))\n",
    "    args += (None,) * (3-len(args))\n",
    "    msg = str.format('1. Arg.: {}\\n2. Arg.: {}\\n3. Arg.: {}', *args)\n",
    "    print(msg)"
   ]
  },
  {
   "cell_type": "code",
   "execution_count": null,
   "id": "1b77b7f7-ba71-4810-a904-790873623729",
   "metadata": {},
   "outputs": [],
   "source": [
    "f(1, 2, 3, 4)"
   ]
  },
  {
   "cell_type": "code",
   "execution_count": null,
   "id": "ba6323be-fa86-4105-9a22-1d5996f0ee00",
   "metadata": {},
   "outputs": [],
   "source": [
    "f(1, 2)"
   ]
  },
  {
   "cell_type": "code",
   "execution_count": null,
   "id": "47f93325-7322-41f9-9b57-a82ab9e0d092",
   "metadata": {},
   "outputs": [],
   "source": []
  }
 ],
 "metadata": {
  "kernelspec": {
   "display_name": "Python 3 (ipykernel)",
   "language": "python",
   "name": "python3"
  },
  "language_info": {
   "codemirror_mode": {
    "name": "ipython",
    "version": 3
   },
   "file_extension": ".py",
   "mimetype": "text/x-python",
   "name": "python",
   "nbconvert_exporter": "python",
   "pygments_lexer": "ipython3",
   "version": "3.13.0"
  }
 },
 "nbformat": 4,
 "nbformat_minor": 5
}
