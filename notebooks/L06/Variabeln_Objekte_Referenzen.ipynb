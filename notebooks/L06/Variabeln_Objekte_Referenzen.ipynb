{
 "cells": [
  {
   "cell_type": "markdown",
   "id": "ad5cb0bb-a5b1-4b6d-9121-d0411caefaf8",
   "metadata": {},
   "source": [
    "### Objekte und Typen\n",
    "\n",
    "In Python ist alles (Integer, String, Listen, Funktionen, ...) ein sogenanntes **Objekte** eines bestimmten **Typs**.  \n",
    "Sieht der Python-Interpreter z.B. den Ausdruck  \n",
    "\n",
    "```python\n",
    "'foo'\n",
    "```\n",
    "\n",
    "dann erzeugt er ein Objekt vom Type `str` (String) und legt es irgendwo im Speicher ab.\n",
    "Wird das Objekt nicht mehr ben&ouml;tig, wird es automatisch gel&ouml;scht (Garbage Collection, siehe weiter unten).\n",
    "\n"
   ]
  },
  {
   "cell_type": "markdown",
   "id": "c0c6cff5-2bcc-4ae4-9043-0678274201c7",
   "metadata": {},
   "source": [
    "***"
   ]
  },
  {
   "cell_type": "markdown",
   "id": "bb89cd43-f1b5-41f3-ac5b-b47d9015b48e",
   "metadata": {},
   "source": [
    "### Variabeln speichern Referenzen auf Objekte\n",
    "In Variablen werden **ausschliesslich** Referenzen auf Objekte gespeichert (die Speicheradresse des Objekts).\n",
    "Sieht der Python Interpreter eine Anweisung (statement) der Form  \n",
    "\n",
    "> `x = 'Ein String'`  \n",
    "\n",
    "so kreiert er ein Objekt vom Typ `str` und legt dies an einer bestimmten Adresse im \n",
    "Speicher ab. Diese Adresse (Referenz) wird in der Variable mit Namen `x` gespeichert. \n",
    "Mit diesem Namen kann man auf das Objekt zugreifen.\n",
    "\n",
    "Nach der Anweisung \n",
    "\n",
    "> ```python y = x```\n",
    "\n",
    "verweisen (referenzieren) dann `x` und `y` auf das gleiche Objekt.\n",
    "\n",
    "Nach den weiteren Anweisungen\n",
    "\n",
    "> `x = 0`  \n",
    "  `y = 2`\n",
    "  \n",
    "verweisen `x` und `y` auf die Integer `0` und `2`.  \n",
    "Das Objekt ein `'Ein String'` ist nun nicht mehr erreichbar:  \n",
    "Keine Variable speichert eine Referenz auf dieses Objekt.  \n",
    "Nicht mehr erreichbare Objekte werden automatisch gel&ouml;scht (**garbage collection**).\n",
    "\n",
    "\n",
    "Die Speicheradresse eines Objektes `obj` kann mit `id(obj)` ermittelt werden.  \n",
    "Speicheradressen werden &uuml;blicherweise als Hexadeximalzahlen angegeben.  \n",
    "Z.B. `hex(255)` gibt den String `'0xff'` zur&uuml;ck, die Hexadezimaldarstellung der Zahl 255.\n",
    "\n",
    "**Situation** nach\n",
    "```python\n",
    "x = 'Ein String'\n",
    "y = x\n",
    "a = [1, 2, 3]\n",
    "b = a\n",
    "```\n",
    "\n",
    "<img src='../../images/variabeln_ref.png'>\n",
    "\n",
    "Die Anweisungen `a[0] = 10` und `b[0] = 10` haben den **gleichen Effekt**.  \n",
    "Beide &auml;ndern der Wert des ersten Listenelements von 1 auf 10."
   ]
  },
  {
   "cell_type": "code",
   "execution_count": null,
   "id": "fbb0d89e-ba4b-4642-b748-39ad35f12a78",
   "metadata": {},
   "outputs": [],
   "source": [
    "# x und y verweisen auf das gleiche Objekt\n",
    "# Implementationsdetail, koennte auch anders sein.\n",
    "x = 'foo'\n",
    "y = 'foo'\n",
    "x is y"
   ]
  },
  {
   "cell_type": "code",
   "execution_count": null,
   "id": "9add6d85-d5c9-46d5-8439-e6626c73ee25",
   "metadata": {},
   "outputs": [],
   "source": [
    "print(f'Adresse von x: {hex(id(x))}')\n",
    "print(f'Adresse von y: {hex(id(y))}')"
   ]
  },
  {
   "cell_type": "code",
   "execution_count": null,
   "id": "17669fa7-2a96-4d73-80b1-4b344642e1e1",
   "metadata": {},
   "outputs": [],
   "source": [
    "# lange Strings werden im gegensatz zu kurzen Strings\n",
    "# nicht wiederverwendet\n",
    "x = 'Wird dieser String wiederverwendet?'\n",
    "y = 'Wird dieser String wiederverwendet?'\n",
    "x is y  # True falls x und y das selbe Objekt ist"
   ]
  },
  {
   "cell_type": "markdown",
   "id": "812dd6a5-e817-43f8-b650-e63604bff547",
   "metadata": {},
   "source": [
    "**Listen**"
   ]
  },
  {
   "cell_type": "code",
   "execution_count": null,
   "id": "f1d935f7-b9ce-42d2-bdf8-520d83fc1170",
   "metadata": {},
   "outputs": [],
   "source": [
    "# eine Liste, 2 Referenzen\n",
    "x = [1, 2, 3]\n",
    "y = x  # x und y referenzieren die gleiche Liste\n",
    "y[0] = 10  # gleicher Effekt wie x[0] = 10\n",
    "x"
   ]
  },
  {
   "cell_type": "code",
   "execution_count": null,
   "id": "edb4a34f-399a-476e-aaa2-67d0403796c5",
   "metadata": {},
   "outputs": [],
   "source": [
    "x is y  # True"
   ]
  },
  {
   "cell_type": "code",
   "execution_count": null,
   "id": "fe0881c8-81e7-4253-b441-f9d9a894fbba",
   "metadata": {},
   "outputs": [],
   "source": [
    "# 2 Listen\n",
    "x = [1, 2, 3]\n",
    "y = x[:]  # y ist eine neue Liste mit den gleichen Elementen wie x"
   ]
  },
  {
   "cell_type": "code",
   "execution_count": null,
   "id": "837a7d24-0277-49dd-8140-aee3521b4874",
   "metadata": {},
   "outputs": [],
   "source": [
    "x == y, x is y"
   ]
  },
  {
   "cell_type": "markdown",
   "id": "6fa19016-9518-4f17-8e10-01a7a9e4faaf",
   "metadata": {},
   "source": [
    "### Aufgabe  \n",
    "Kopiere jeweils den Code obiger Zellen ins\n",
    "Codefeld auf [Pythontutor](https://pythontutor.com/visualize.html#mode=edit)\n",
    "und klicke dann *Visualize Execution*."
   ]
  },
  {
   "cell_type": "markdown",
   "id": "4ffe2883-f4a9-41d9-9db0-3651d3a73cb3",
   "metadata": {},
   "source": [
    "***"
   ]
  },
  {
   "cell_type": "markdown",
   "id": "2a471f5a-6af9-4ffb-b5b8-14e978703a1b",
   "metadata": {},
   "source": [
    "### Garbage Collection\n",
    "Wie der Code in nachfolgender Zelle funktioniert interessiert uns im Moment nicht.  \n",
    "Der Punkt ist, dass wir mit `MyString(<str>)` einen String erzeugen k&ouml;nnen, der uns benachrichtigt, wenn er gel&ouml;scht wird.    "
   ]
  },
  {
   "cell_type": "code",
   "execution_count": null,
   "id": "b656e9a7-8918-462f-b695-f110a2ee5b4d",
   "metadata": {},
   "outputs": [],
   "source": [
    "class MyString(str):\n",
    "    def __del__(self):\n",
    "        fmsg = 'String \"{}\" at {}: got garbage collected'\n",
    "        msg = str.format(fmsg, self, hex(id(self)))\n",
    "        print(msg)"
   ]
  },
  {
   "cell_type": "code",
   "execution_count": null,
   "id": "cd2aeb6a-d051-4654-b898-1677edf1d191",
   "metadata": {},
   "outputs": [],
   "source": [
    "x = MyString('foo')\n",
    "print(x, hex(id(x)))"
   ]
  },
  {
   "cell_type": "code",
   "execution_count": null,
   "id": "8c39193a-69fc-4bc9-bf53-491e7b195d5c",
   "metadata": {},
   "outputs": [],
   "source": [
    "# MyString('foo') wird unerreichbar und wird geloescht\n",
    "x = 2"
   ]
  },
  {
   "cell_type": "code",
   "execution_count": null,
   "id": "350bc5d8-77ac-40a8-804a-eedc14682814",
   "metadata": {},
   "outputs": [],
   "source": [
    "# nichts verweist auf das gerade erzeugte Objekt\n",
    "# wird ausgegeben und dann garbage collected\n",
    "print(MyString('bar'))"
   ]
  },
  {
   "cell_type": "code",
   "execution_count": null,
   "id": "b3002717-b135-4a60-a6dc-b06693b7dd56",
   "metadata": {},
   "outputs": [],
   "source": [
    "# Jupyterlab speichert die Ausgabe der letzten Codezelle\n",
    "# unter anderem in der Variable '_' und an weiteren Orten\n",
    "# Deshalb wird es nicht garbage collected\n",
    "MyString('foobar')"
   ]
  },
  {
   "cell_type": "code",
   "execution_count": null,
   "id": "b60cdec3-0832-49fc-9f62-a7fdd845892c",
   "metadata": {},
   "outputs": [],
   "source": [
    "print(_)"
   ]
  },
  {
   "cell_type": "code",
   "execution_count": null,
   "id": "e5a734bf-e132-41e2-92ae-7bcc841bbe8c",
   "metadata": {},
   "outputs": [],
   "source": []
  }
 ],
 "metadata": {
  "author": "dieter.probst@gmail.com",
  "kernelspec": {
   "display_name": "Python 3 (ipykernel)",
   "language": "python",
   "name": "python3"
  },
  "language_info": {
   "codemirror_mode": {
    "name": "ipython",
    "version": 3
   },
   "file_extension": ".py",
   "mimetype": "text/x-python",
   "name": "python",
   "nbconvert_exporter": "python",
   "pygments_lexer": "ipython3",
   "version": "3.13.0"
  }
 },
 "nbformat": 4,
 "nbformat_minor": 5
}
