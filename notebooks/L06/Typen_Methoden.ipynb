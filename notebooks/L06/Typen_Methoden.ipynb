{
 "cells": [
  {
   "cell_type": "markdown",
   "id": "ea77ae3e-eb55-4655-8d67-773478bfcc20",
   "metadata": {},
   "source": [
    "### Typen und ihre Methoden\n",
    "\n",
    "In Python hat jedes Objekt `x` einen bestimmten Typ, welcher sich mit `type(x)` bestimmen l&auml;sst.\n",
    "Jeder Typ stellt Funktionen zur Verf&uuml;gung, mit welchen sich die Objekte\n",
    "dieses Typs manipulieren lassen.  \n",
    "Exemplarisch betrachten wir hier einige Funktionen des Typs `str` (String).  \n",
    "- Der Typ `str` stellt Funktionen zur Verf&uuml;gung, die man auf Strings anwenden kann.  \n",
    "  z.B. `str.upper('foo')`.\n",
    "  Python erlaubt, diese Funktion bequemer mit der Syntax  \n",
    "  `'foo'.upper()` anzuwenden.\n",
    "  Man kann `'foo'.upper()` als Kurzform f&uuml;r\n",
    " `str.upper('foo')` ansehen. Im Falle von `'foo'.upper()` nennt man\n",
    " `upper` auch eine Methode des Strings `'foo'`.\n",
    "  \n",
    "- Tippe `str.` und dann `tab` in einer Codezelle, um die Methoden von `str` anzuzeigen.\n",
    "<img src='../../images/stringmethoden.png'>\n",
    "- Der Typ `str` definiert auch die Operationen  \n",
    "  `len('foo')`, `'foo'+'foo'` und `'foo' *3`, `3 * 'foo'`.  \n",
    "  Das ist bequeme Pythons-Syntax (Syntactic sugar) f&uuml;r  \n",
    "```python  \n",
    "str.__len__('foo')\n",
    "str.__add__('foo', 'foo')\n",
    "str.__mul__('foo', 3)\n",
    "```\n",
    "\n",
    "- **Methodchaining**: Die Methode `str.upper` gibt ein Objekt vom Typ `str` zur&uuml;ck, auf das mit der **dot**-Notation direkt eine weitere Methode angewendet werden kann z.B.\n",
    "  - `'foo'.upper().center(10)`\n",
    "  - `str.center(str.upper('foo'), 10)`"
   ]
  },
  {
   "cell_type": "code",
   "execution_count": null,
   "id": "b444d95c-3303-4226-9f17-635033b12cbd",
   "metadata": {},
   "outputs": [],
   "source": [
    "'foo'.upper().center(10)"
   ]
  },
  {
   "cell_type": "code",
   "execution_count": null,
   "id": "50f52ab3-bf1b-4a5f-a5d0-506920cad833",
   "metadata": {},
   "outputs": [],
   "source": [
    "str.center(str.upper('foo'), 10)"
   ]
  },
  {
   "cell_type": "code",
   "execution_count": null,
   "id": "4efc3d20-7b54-4c83-96bb-815a7fba15ca",
   "metadata": {},
   "outputs": [],
   "source": [
    "x = 'foo'\n",
    "x.upper()"
   ]
  },
  {
   "cell_type": "code",
   "execution_count": null,
   "id": "6e72a0e1-baf7-48ca-90d0-b5722ec5e7f1",
   "metadata": {},
   "outputs": [],
   "source": [
    "x = 'foo'\n",
    "str.upper(x)"
   ]
  },
  {
   "cell_type": "code",
   "execution_count": null,
   "id": "4e78b540-4172-4cc0-af10-18390ef42eff",
   "metadata": {},
   "outputs": [],
   "source": [
    "x = 'foo'\n",
    "type(x).upper(x)"
   ]
  },
  {
   "cell_type": "code",
   "execution_count": null,
   "id": "fca27144-18c5-43c2-9e87-0d51c9111db5",
   "metadata": {},
   "outputs": [],
   "source": [
    "x = 'foo'\n",
    "type(x) is str"
   ]
  },
  {
   "cell_type": "markdown",
   "id": "fa152b3e-3feb-4c71-8bf2-28ab2716b8d0",
   "metadata": {},
   "source": [
    "### 25 Stringmethoden\n",
    "- W&auml;hle eine Methode und mache 2 Beispiele, die illustrieren was die Methode tut.\n",
    "  Frage ggf. Chat-GPT. \n",
    "- In welcher  Situation ist diese Methode n&uuml;tzlich?  \n",
    "```\n",
    "['capitalize',\n",
    "  'center',\n",
    "  'count',\n",
    "  'expandtabs',\n",
    "  'isalnum',\n",
    "  'isalpha',\n",
    "  'isdigit',\n",
    "  'isidentifier',\n",
    "  'islower',\n",
    "  'isnumeric',\n",
    "  'isprintable',\n",
    "  'isspace',\n",
    "  'isupper',\n",
    "  'ljust',\n",
    "  'lower',\n",
    "  'lstrip',\n",
    "  'removeprefix',\n",
    "  'removesuffix',\n",
    "  'replace',\n",
    "  'rstrip',\n",
    "  'split',\n",
    "  'splitlines',\n",
    "  'startswith',\n",
    "  'strip',\n",
    "  'swapcase',\n",
    "  'upper',\n",
    "  'zfill']```"
   ]
  },
  {
   "cell_type": "code",
   "execution_count": null,
   "id": "022cd1af-0138-480d-b983-749e76180923",
   "metadata": {},
   "outputs": [],
   "source": []
  }
 ],
 "metadata": {
  "author": "dieter.probst@gmail.com",
  "kernelspec": {
   "display_name": "Python 3 (ipykernel)",
   "language": "python",
   "name": "python3"
  },
  "language_info": {
   "codemirror_mode": {
    "name": "ipython",
    "version": 3
   },
   "file_extension": ".py",
   "mimetype": "text/x-python",
   "name": "python",
   "nbconvert_exporter": "python",
   "pygments_lexer": "ipython3",
   "version": "3.13.0"
  }
 },
 "nbformat": 4,
 "nbformat_minor": 5
}
