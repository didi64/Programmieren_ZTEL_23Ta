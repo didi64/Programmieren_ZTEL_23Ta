{
 "cells": [
  {
   "cell_type": "code",
   "execution_count": null,
   "id": "c65ca7b3-b075-48d2-9325-65af48f0c89e",
   "metadata": {},
   "outputs": [],
   "source": []
  },
  {
   "cell_type": "code",
   "execution_count": null,
   "id": "7e10f2b0-d9eb-4ba4-aa72-b572dda59e4a",
   "metadata": {},
   "outputs": [],
   "source": [
    "- Objekte von Typ String sind **immutable** (nicht modifizierbar).  \n",
    "  Eine Stringmethode erzeugt **immer einen neuen String** und gibt diesen zur&uuml;ck."
   ]
  },
  {
   "cell_type": "markdown",
   "id": "ea77ae3e-eb55-4655-8d67-773478bfcc20",
   "metadata": {},
   "source": [
    "### Typen und ihre Methoden\n",
    "\n",
    "In Python hat jedes Objekt `x` einen bestimmten Typ, welcher sich mit `type(x)` bestimmen l&auml;sst.\n",
    "Jeder Typ stellt Methoden zur Verf&uuml;gung, mit welchen sich die Objekte\n",
    "dieses Typs manipulieren lassen.  \n",
    "Methoden sind Funktionen, die\n",
    "\n",
    "\n",
    "Exemplarisch betrachten wir hier einige Methoden des Typs `str` (String).  \n",
    "\n",
    "\n",
    "\n",
    "- Der Typ `str` stellt Methoden zur Verf&uuml;gung, die man auf Strings anwenden kann.  \n",
    "  z.B. `str.upper('foo')`.\n",
    "  Python erlaubt, diese Methode bequemer mit der Syntax  \n",
    "  `'foo'.upper()` anzuwenden.  \n",
    "  Diese Syntax erm&ouml;glicht **Method Chaining**:  \n",
    "  `'foo'.capitalize().ljust(10)`  \n",
    "   `('foo' + 'foo'.upper()).center(15)`  \n",
    "  \n",
    "- Tippe `str.` und dann `tab` in einer Codezelle, um die Methoden von `str` anzuzeigen.\n",
    "<img src='../../images/stringmethoden.png'>\n",
    "- Der Typ `str` definiert auch die Operationen  \n",
    "  `len('foo')`, `'foo'+'foo'` und `'foo' *3`, `3 * 'foo'`.  \n",
    "  Das ist bequeme Pythons-Syntax (Syntactic sugar) f&uuml;r  \n",
    "```python  \n",
    "str.__len__('foo')\n",
    "str.__add__('foo', 'foo')\n",
    "str.__mul__('foo', 3)\n",
    "```\n",
    "\n",
    "- **Methodchaining**: Die Methode `str.upper` gibt ein Objekt vom Typ `str` zur&uuml;ck, auf das mit der **dot**-Notation direkt eine weitere Methode angewendet werden kann z.B. `'foo'.upper().center(10)`.\n",
    "`str.center(str.upper('foo'), 10)`"
   ]
  },
  {
   "cell_type": "code",
   "execution_count": 9,
   "id": "b444d95c-3303-4226-9f17-635033b12cbd",
   "metadata": {},
   "outputs": [
    {
     "data": {
      "text/plain": [
       "'   FOO    '"
      ]
     },
     "execution_count": 9,
     "metadata": {},
     "output_type": "execute_result"
    }
   ],
   "source": [
    "'foo'.upper().center(10)"
   ]
  },
  {
   "cell_type": "code",
   "execution_count": 11,
   "id": "50f52ab3-bf1b-4a5f-a5d0-506920cad833",
   "metadata": {},
   "outputs": [
    {
     "data": {
      "text/plain": [
       "'   FOO    '"
      ]
     },
     "execution_count": 11,
     "metadata": {},
     "output_type": "execute_result"
    }
   ],
   "source": [
    "str.center(str.upper('foo'), 10)"
   ]
  },
  {
   "cell_type": "code",
   "execution_count": 12,
   "id": "ea6269a4-63a5-4d42-b909-e5ebbee9a46c",
   "metadata": {},
   "outputs": [
    {
     "data": {
      "text/plain": [
       "<method 'upper' of 'str' objects>"
      ]
     },
     "execution_count": 12,
     "metadata": {},
     "output_type": "execute_result"
    }
   ],
   "source": [
    "str.upper"
   ]
  },
  {
   "cell_type": "markdown",
   "id": "53e276d3-a1a6-43fc-b2cf-56eb8cbbd9a2",
   "metadata": {},
   "source": [
    "```python\n",
    "Signature: str.upper(self, /)\n",
    "Docstring: Return a copy of the string converted to uppercase.\n",
    "Type:      method_descriptor\n",
    "```"
   ]
  },
  {
   "cell_type": "code",
   "execution_count": null,
   "id": "2cff1377-0db1-43d8-b550-1e3498de9736",
   "metadata": {},
   "outputs": [],
   "source": [
    "# type(obj) liefert den Typ von obj\n",
    "type(str), type('foo')"
   ]
  },
  {
   "cell_type": "code",
   "execution_count": 4,
   "id": "4efc3d20-7b54-4c83-96bb-815a7fba15ca",
   "metadata": {},
   "outputs": [
    {
     "data": {
      "text/plain": [
       "'FOO'"
      ]
     },
     "execution_count": 4,
     "metadata": {},
     "output_type": "execute_result"
    }
   ],
   "source": [
    "x = 'foo'\n",
    "x.upper()"
   ]
  },
  {
   "cell_type": "code",
   "execution_count": 5,
   "id": "6e72a0e1-baf7-48ca-90d0-b5722ec5e7f1",
   "metadata": {},
   "outputs": [
    {
     "data": {
      "text/plain": [
       "'FOO'"
      ]
     },
     "execution_count": 5,
     "metadata": {},
     "output_type": "execute_result"
    }
   ],
   "source": [
    "x = 'foo'\n",
    "str.upper(x)"
   ]
  },
  {
   "cell_type": "code",
   "execution_count": 6,
   "id": "4e78b540-4172-4cc0-af10-18390ef42eff",
   "metadata": {},
   "outputs": [
    {
     "data": {
      "text/plain": [
       "'FOO'"
      ]
     },
     "execution_count": 6,
     "metadata": {},
     "output_type": "execute_result"
    }
   ],
   "source": [
    "x = 'foo'\n",
    "type(x).upper(x)"
   ]
  },
  {
   "cell_type": "code",
   "execution_count": 7,
   "id": "fca27144-18c5-43c2-9e87-0d51c9111db5",
   "metadata": {},
   "outputs": [
    {
     "data": {
      "text/plain": [
       "True"
      ]
     },
     "execution_count": 7,
     "metadata": {},
     "output_type": "execute_result"
    }
   ],
   "source": [
    "x = 'foo'\n",
    "type(x) is str"
   ]
  },
  {
   "cell_type": "markdown",
   "id": "fa152b3e-3feb-4c71-8bf2-28ab2716b8d0",
   "metadata": {},
   "source": [
    "### 25 Stringmethoden\n",
    "- W&auml;hle eine Methode und mache 2 Beispiele, die illustrieren was die Methode tut.\n",
    "  Frage ggf. Chat-GPT. \n",
    "- In welcher  Situation ist diese Methode n&uuml;tzlich?  \n",
    "```\n",
    "['capitalize',\n",
    "  'center',\n",
    "  'count',\n",
    "  'expandtabs',\n",
    "  'isalnum',\n",
    "  'isalpha',\n",
    "  'isdigit',\n",
    "  'isidentifier',\n",
    "  'islower',\n",
    "  'isnumeric',\n",
    "  'isprintable',\n",
    "  'isspace',\n",
    "  'isupper',\n",
    "  'ljust',\n",
    "  'lower',\n",
    "  'lstrip',\n",
    "  'removeprefix',\n",
    "  'removesuffix',\n",
    "  'replace',\n",
    "  'rstrip',\n",
    "  'split',\n",
    "  'splitlines',\n",
    "  'startswith',\n",
    "  'strip',\n",
    "  'swapcase',\n",
    "  'upper',\n",
    "  'zfill']```"
   ]
  }
 ],
 "metadata": {
  "author": "dieter.probst@gmail.com",
  "kernelspec": {
   "display_name": "Python 3 (ipykernel)",
   "language": "python",
   "name": "python3"
  },
  "language_info": {
   "codemirror_mode": {
    "name": "ipython",
    "version": 3
   },
   "file_extension": ".py",
   "mimetype": "text/x-python",
   "name": "python",
   "nbconvert_exporter": "python",
   "pygments_lexer": "ipython3",
   "version": "3.13.0"
  }
 },
 "nbformat": 4,
 "nbformat_minor": 5
}
