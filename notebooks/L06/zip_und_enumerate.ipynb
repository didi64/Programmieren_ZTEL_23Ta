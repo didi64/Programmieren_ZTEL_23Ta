{
 "cells": [
  {
   "cell_type": "markdown",
   "id": "2713f052-8b02-4423-a8c7-615f2a80db14",
   "metadata": {},
   "source": [
    "### `enumerate` , `zip` und `else` f&uuml;r `for`/`while`\n",
    "Oft kommt es vor, dass man beim Iterieren &uuml;ber eine Liste sowohl das Element braucht, wie auch die Position, an welcher das Element in der Liste auftritt. Oft will man auch &uuml;ber entsprechende Elemente zweier oder mehrerer Listen iterieren. \n",
    "Python stellt f&uuml;r diese Zwecke die Funktionen \n",
    "`enumerate` und `zip` zur Verf&uuml;gung.  \n",
    "\n",
    "\n",
    "Manchmal will man auch wissen, ob eine For- oder Whileschleife vorzeitig mit `break` verlassen wurde. In Python kann man das mit einem `else` mit der gleichen Einr&uuml;cktiefe wie das `for` oder `while` erreichen.\n",
    "\n",
    "```python\n",
    "while <Ausdruck>:\n",
    "    <Code>\n",
    "else:\n",
    "    <Code>  #  wird nur ausgefuehrt,\n",
    "            # falls Schleife nicht mit break verlassen wurde\n",
    "\n",
    "\n",
    "for <Variabeln> in <Iteralbe>:\n",
    "    <Code>\n",
    "else:\n",
    "    <Code>  # wird nur ausgefuehrt,\n",
    "            # falls Schleife nicht mit break verlassen wurde\n",
    "\n",
    "```"
   ]
  },
  {
   "cell_type": "markdown",
   "id": "a6b8a362-d0a9-4bc7-b9b5-5abca844900c",
   "metadata": {},
   "source": [
    "***\n",
    "&Uuml;ber Index und Element iterieren.  \n",
    "In vielen Sprachen macht man das so:\n",
    "***"
   ]
  },
  {
   "cell_type": "code",
   "execution_count": null,
   "id": "8483aeb9-a970-4fc3-8bbb-3554e18ba4f5",
   "metadata": {},
   "outputs": [],
   "source": [
    "letters = 'abcde'\n",
    "\n",
    "\n",
    "n = len(letters)\n",
    "for i in range(n):\n",
    "    letter = letters[i]\n",
    "    print('{}ter Buchstabe: {}'.format(i, letter))"
   ]
  },
  {
   "cell_type": "markdown",
   "id": "be00cf96-103d-4b22-992f-a741594f7142",
   "metadata": {},
   "source": [
    "***\n",
    "In **Python** macht man das **besser** mit Hilfe von `enumerate`:\n",
    "***"
   ]
  },
  {
   "cell_type": "code",
   "execution_count": null,
   "id": "e6e42fa5-e727-4184-8b06-b4656d75d912",
   "metadata": {},
   "outputs": [],
   "source": [
    "letters = 'abcde'\n",
    "for i, letter in enumerate(letters):\n",
    "    print('{}ter Buchstabe: {}'.format(i, letter))"
   ]
  },
  {
   "cell_type": "markdown",
   "id": "e48caafc-068c-45ef-a31f-c59d28c712a1",
   "metadata": {},
   "source": [
    "***\n",
    "Oft muss man simultan &uuml;ber mehrere Iterables iterieren.  \n",
    "In vielen Sprachen macht man das so:\n",
    "***"
   ]
  },
  {
   "cell_type": "code",
   "execution_count": null,
   "id": "a6649fb6-181f-45f5-a7a5-8957da5ca848",
   "metadata": {},
   "outputs": [],
   "source": [
    "numbers = (1, 2, 3, 4, 5)\n",
    "letters = 'abcd'\n",
    "\n",
    "\n",
    "n = min(len(numbers), len(letters))\n",
    "for i in range(n):\n",
    "    number = numbers[i]\n",
    "    letter = letters[i]\n",
    "    print('Zahl: {}, Buchstabe: {}'.format(number, letter))"
   ]
  },
  {
   "cell_type": "markdown",
   "id": "96c1069c-9ef3-4d7e-be3d-2cdcf5587a90",
   "metadata": {},
   "source": [
    "***\n",
    "In **Python** macht man das **besser** mit Hilfe von `zip`:  \n",
    "(zip = mit Reissverschlussverfahren zusammenf&uuml;gen)\n",
    "***"
   ]
  },
  {
   "cell_type": "code",
   "execution_count": null,
   "id": "4afc84e5-5100-48bc-bc7e-8f85169fa97a",
   "metadata": {},
   "outputs": [],
   "source": [
    "numbers = (1, 2, 3, 4, 5)\n",
    "letters = 'abcd'\n",
    "\n",
    "\n",
    "for number, letter in zip(numbers, letters):\n",
    "    print('Zahl: {}, Buchstabe: {}'.format(number, letter))"
   ]
  },
  {
   "cell_type": "markdown",
   "id": "f9bcdbfa-708e-408a-b059-eccfebfeeb6e",
   "metadata": {},
   "source": [
    "***\n",
    "Das geht auch f&uuml;r mehr als zwei Listen:\n",
    "***"
   ]
  },
  {
   "cell_type": "code",
   "execution_count": null,
   "id": "5406f2b2-949e-46e5-acbe-c0d5aabb6968",
   "metadata": {},
   "outputs": [],
   "source": [
    "numbers = (1, 2, 3, 4)\n",
    "letters = 'abcd'\n",
    "LETTERS = 'ABCD'\n",
    "\n",
    "\n",
    "for number, letter, LETTER in zip(numbers, letters, LETTERS): \n",
    "    print('Zahl: {}, Buchstabe: {}, BUCHSTABE: {}'\\\n",
    "          .format(number, letter, LETTER))"
   ]
  },
  {
   "cell_type": "markdown",
   "id": "7d2a445e-3dfc-429a-8a0e-073b30107d76",
   "metadata": {},
   "source": [
    "***\n",
    "zip und enumerate lassen sich kombinieren:\n",
    "***"
   ]
  },
  {
   "cell_type": "code",
   "execution_count": null,
   "id": "db8f3b82-c997-4dc4-a584-daa3cf2aef8d",
   "metadata": {},
   "outputs": [],
   "source": [
    "vornamen = ('Max', 'Bossy')\n",
    "namen = ('Muster', 'Betty')\n",
    "\n",
    "\n",
    "for i, (vorname, name) in enumerate(zip(vornamen, namen)):\n",
    "    print('{}. {} {}'.format(i+1, vorname, name))"
   ]
  },
  {
   "cell_type": "markdown",
   "id": "85e54401-e7be-45fb-8819-9591d4ba279d",
   "metadata": {},
   "source": [
    "***\n",
    "Das *else* f&uuml;r *for* bez. *while*\n",
    "***"
   ]
  },
  {
   "cell_type": "code",
   "execution_count": null,
   "id": "791261db-3e33-413d-bed4-ce7ae7a7591f",
   "metadata": {},
   "outputs": [],
   "source": [
    "n = 3\n",
    "for i in range(3):\n",
    "    print(i)\n",
    "    if i == n:\n",
    "        break\n",
    "else:\n",
    "    print('Schleife wurde  NICHT vorzeitig verlassen')"
   ]
  },
  {
   "cell_type": "code",
   "execution_count": null,
   "id": "eb3f57a8-9ea6-4b31-89a7-9e4bc89eceb0",
   "metadata": {},
   "outputs": [],
   "source": [
    "n = 2\n",
    "\n",
    "i = 0\n",
    "while i < 3:\n",
    "    print(i)\n",
    "    if i == n:\n",
    "        break\n",
    "    i = i + 1\n",
    "else:\n",
    "    print('Schleife wurde  NICHT vorzeitig verlassen')"
   ]
  },
  {
   "cell_type": "markdown",
   "id": "8289de49-ef89-446f-9a7f-5ffd03135fd7",
   "metadata": {},
   "source": [
    "### Aufgabe\n",
    "1. Vereinfache die Funktionen `find_first` und `find_all` \n",
    "im File `L05/L05_functions.py` durch die Verwendung von `enumerate` und allenfalls `else`.\n",
    "1. Gegeben sei der String `s = 'abcdefgh'`. Erstelle unter Verwendung von\n",
    "   `list`, `zip` , `len` und `range` folgende Liste:\n",
    "```python\n",
    "[(1, 'a'),\n",
    " (2, 'b'),\n",
    " (3, 'c'),\n",
    " (4, 'd'),\n",
    " (5, 'e'),\n",
    " (6, 'f'),\n",
    " (7, 'g'),\n",
    " (8, 'h'),\n",
    "]\n",
    "```"
   ]
  },
  {
   "cell_type": "code",
   "execution_count": null,
   "id": "4455b929-4187-4322-9d0c-3be78e5a1cd8",
   "metadata": {},
   "outputs": [],
   "source": []
  }
 ],
 "metadata": {
  "author": "dieter.probst@gmail.com",
  "kernelspec": {
   "display_name": "Python 3 (ipykernel)",
   "language": "python",
   "name": "python3"
  },
  "language_info": {
   "codemirror_mode": {
    "name": "ipython",
    "version": 3
   },
   "file_extension": ".py",
   "mimetype": "text/x-python",
   "name": "python",
   "nbconvert_exporter": "python",
   "pygments_lexer": "ipython3",
   "version": "3.13.0"
  }
 },
 "nbformat": 4,
 "nbformat_minor": 5
}
