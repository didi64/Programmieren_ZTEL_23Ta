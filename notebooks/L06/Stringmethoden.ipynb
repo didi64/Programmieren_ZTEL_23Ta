{
 "cells": [
  {
   "cell_type": "markdown",
   "id": "ed00a2c3-d3ed-43cd-b06c-baa107054fb0",
   "metadata": {},
   "source": [
    "### Eigene Implementationen einiger Stringmethoden"
   ]
  },
  {
   "cell_type": "code",
   "execution_count": null,
   "id": "2a63f1aa-c468-4111-b3a7-70a8674a9be6",
   "metadata": {},
   "outputs": [],
   "source": []
  }
 ],
 "metadata": {
  "kernelspec": {
   "display_name": "Python 3 (ipykernel)",
   "language": "python",
   "name": "python3"
  },
  "language_info": {
   "codemirror_mode": {
    "name": "ipython",
    "version": 3
   },
   "file_extension": ".py",
   "mimetype": "text/x-python",
   "name": "python",
   "nbconvert_exporter": "python",
   "pygments_lexer": "ipython3",
   "version": "3.13.0"
  }
 },
 "nbformat": 4,
 "nbformat_minor": 5
}
