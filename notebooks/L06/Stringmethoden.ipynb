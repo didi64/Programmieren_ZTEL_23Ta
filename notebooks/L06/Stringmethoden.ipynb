{
 "cells": [
  {
   "cell_type": "markdown",
   "id": "b82dec56-6c10-441a-aba1-391180efead6",
   "metadata": {},
   "source": [
    "### Eigene Implementationen der g&auml;nigsten Stringmethoden"
   ]
  },
  {
   "cell_type": "code",
   "execution_count": null,
   "id": "d592c13f-6ab9-4e45-b34d-125ef5396e38",
   "metadata": {},
   "outputs": [],
   "source": [
    "def split(s, sep=','):\n",
    "    '''Return a list of the substrings in the string, \n",
    "       using sep as the separator string.\n",
    "       s: str\n",
    "       sep: str of length 1\n",
    "    '''\n",
    "    words = []\n",
    "    word = ''\n",
    "    for c in s:\n",
    "        if c == sep:\n",
    "            words.append(word)\n",
    "            word = ''\n",
    "        else:\n",
    "            word += c\n",
    "    return words"
   ]
  },
  {
   "cell_type": "code",
   "execution_count": null,
   "id": "1de67ff8-ba5d-4e98-be3e-3cdafae04180",
   "metadata": {},
   "outputs": [],
   "source": [
    "s = 'foo, bar, 1, 2,3,,4,'\n",
    "split(s, sep=',')"
   ]
  },
  {
   "cell_type": "code",
   "execution_count": null,
   "id": "5407622c-7c2b-43ec-8ff2-dbfb72b61239",
   "metadata": {},
   "outputs": [],
   "source": [
    "s = ' und '\n",
    "words = ['Haus', 'Hof', 'Kind']\n",
    "s.join(words)"
   ]
  },
  {
   "cell_type": "code",
   "execution_count": null,
   "id": "552bb21c-97c8-4d4d-bb97-64f3bf0fcac0",
   "metadata": {},
   "outputs": [],
   "source": [
    "def join(words, sep=', '):\n",
    "    '''joins the strings in words\n",
    "       using sep as the separator\n",
    "       and returns this string\n",
    "       words: list[str]\n",
    "       sep: str\n",
    "    '''\n",
    "    res = ''\n",
    "    for word in words:\n",
    "        res = res + sep + word\n",
    "    return res[len(sep):]"
   ]
  },
  {
   "cell_type": "code",
   "execution_count": null,
   "id": "5b8139ee-488f-44f1-b393-89dacd32dc0e",
   "metadata": {},
   "outputs": [],
   "source": [
    "sep = ' und '\n",
    "words = ['Haus', 'Hof', 'Kind']\n",
    "join(words, sep)"
   ]
  },
  {
   "cell_type": "code",
   "execution_count": null,
   "id": "4afd223c-b564-4443-8ab3-9248c09c2a55",
   "metadata": {},
   "outputs": [],
   "source": [
    "def index(s, word):\n",
    "    '''returns the index of the first occurrence\n",
    "       of word in s or raises a ValueError\n",
    "       s: str\n",
    "       word: str\n",
    "    '''\n",
    "    n = len(s)\n",
    "    m = len(word)\n",
    "    for i in range(n - m + 1):\n",
    "        if s[i:i+m] == word:\n",
    "            return i\n",
    "    raise ValueError('substring not found')"
   ]
  },
  {
   "cell_type": "code",
   "execution_count": null,
   "id": "a84c8a27-0c2c-4897-abd1-5939e69f2eae",
   "metadata": {},
   "outputs": [],
   "source": [
    "s = 'fooba'\n",
    "word = 'bar'\n",
    "index(s, word)"
   ]
  },
  {
   "cell_type": "code",
   "execution_count": null,
   "id": "16398fcf-aee0-45b1-83f7-1fc01b496e1d",
   "metadata": {},
   "outputs": [],
   "source": [
    "def find(s, word, start=0):\n",
    "    '''returns the index of the first occurrence\n",
    "       of word in s[start:] or -1\n",
    "       s: str\n",
    "       word: str\n",
    "       start: int\n",
    "    '''\n",
    "    n = len(s)\n",
    "    m = len(word)\n",
    "    for i in range(start, n - m + 1):\n",
    "        if s[i:i+m] == word:\n",
    "            return i\n",
    "    return -1"
   ]
  },
  {
   "cell_type": "code",
   "execution_count": null,
   "id": "9bdd1d9c-c91a-48e3-8513-ac3778899e38",
   "metadata": {},
   "outputs": [],
   "source": [
    "s = 'abcd'\n",
    "word = 'bc'\n",
    "find(s, word)"
   ]
  },
  {
   "cell_type": "code",
   "execution_count": null,
   "id": "bb7e3184-eac5-4222-b206-f1fc0f36da2d",
   "metadata": {},
   "outputs": [],
   "source": [
    "def find_all(s, word):\n",
    "    '''returns a list of indices of\n",
    "       non-overlapping occurrences of word\n",
    "       s: str\n",
    "       word: str\n",
    "    '''\n",
    "    indices = []\n",
    "    m = len(word)\n",
    "    i = find(s, word)\n",
    "    while i != -1:\n",
    "        indices.append(i)\n",
    "        i = find(s, word, start=i+m)\n",
    "    return indices"
   ]
  },
  {
   "cell_type": "code",
   "execution_count": null,
   "id": "19270d1d-40a5-49f1-8d33-05076e3e50ab",
   "metadata": {},
   "outputs": [],
   "source": [
    "s = 'abakadabra'\n",
    "find_all(s, 'ab')"
   ]
  },
  {
   "cell_type": "code",
   "execution_count": null,
   "id": "03b894ba-f929-440e-a486-e737e81db13f",
   "metadata": {},
   "outputs": [],
   "source": [
    "def replace(s, old, new):\n",
    "    '''replaced all non-overlapping occurrences of\n",
    "       old in s by new\n",
    "    '''\n",
    "    res = ''\n",
    "    m = len(old)\n",
    "    i = find(s, old)\n",
    "    while i != -1:\n",
    "        j = i + m\n",
    "        res += s[:i] + subst\n",
    "        s = s[j:]\n",
    "        i = find(s, old)\n",
    "    res = res + s\n",
    "    return res"
   ]
  },
  {
   "cell_type": "code",
   "execution_count": null,
   "id": "8598e989-c779-44ef-9061-240f39eb84e5",
   "metadata": {},
   "outputs": [],
   "source": [
    "text = 'foobarbar'\n",
    "word ='bar'\n",
    "subst = 'B_a_r'\n",
    "replace(text, word, subst)"
   ]
  },
  {
   "cell_type": "code",
   "execution_count": null,
   "id": "ba8216d6-8459-4a16-ace0-49c3213ddd4d",
   "metadata": {},
   "outputs": [],
   "source": [
    "def lstrip(s):\n",
    "    '''removes extra space on the left'''\n",
    "    for i, c in enumerate(s):\n",
    "        if c != ' ':\n",
    "            return s[i:]\n",
    "\n",
    "\n",
    "def rstrip(s):\n",
    "    '''removes extra space on the right'''\n",
    "    n = len(s)\n",
    "    for i, c in enumerate(reversed(s)):\n",
    "        if c != ' ':\n",
    "            return s[:n-i]\n",
    "\n",
    "\n",
    "def strip(s):\n",
    "    '''removes extra space from both sides'''\n",
    "    s = lstrip(s)\n",
    "    s = rstrip(s)\n",
    "    return s"
   ]
  },
  {
   "cell_type": "code",
   "execution_count": null,
   "id": "d4f8fedb-898b-4215-868a-b3054a63468a",
   "metadata": {},
   "outputs": [],
   "source": [
    "s = ' afasf  agfa  '\n",
    "lstrip(s)"
   ]
  },
  {
   "cell_type": "code",
   "execution_count": null,
   "id": "202c3195-3fcf-475e-8c12-4e349383dbc7",
   "metadata": {},
   "outputs": [],
   "source": [
    "rstrip(s)"
   ]
  },
  {
   "cell_type": "code",
   "execution_count": null,
   "id": "ce490ed9-43e0-4796-81fe-1f017afc5837",
   "metadata": {},
   "outputs": [],
   "source": [
    "strip(s)"
   ]
  }
 ],
 "metadata": {
  "kernelspec": {
   "display_name": "Python 3 (ipykernel)",
   "language": "python",
   "name": "python3"
  },
  "language_info": {
   "codemirror_mode": {
    "name": "ipython",
    "version": 3
   },
   "file_extension": ".py",
   "mimetype": "text/x-python",
   "name": "python",
   "nbconvert_exporter": "python",
   "pygments_lexer": "ipython3",
   "version": "3.13.0"
  }
 },
 "nbformat": 4,
 "nbformat_minor": 5
}
