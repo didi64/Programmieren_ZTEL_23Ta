{
 "cells": [
  {
   "cell_type": "markdown",
   "id": "0c667dce-f41b-4de9-9e9e-8c60afaac594",
   "metadata": {},
   "source": [
    "### Liste mit Listen  \n",
    "Eine Reihe eines 4-gewinnt Spielfelds kann z.B. als\n",
    "Liste der L&auml;nge 7 repr&auml;sentiert werden.\n",
    "Ein leeres Feld enth&auml;lt den String `' '`, ein besetztes Feld `'X'` oder `'O'`.\n",
    "\n",
    "1. Erstelle auf verschiedene Arten eine Liste `row` mit 7 leeren Feldern  \n",
    "   (`[' ', ' ', ' ', ' ', ' ', ' ']`).\n",
    "1. Markiere die Felder am Rand und in der Mitte mit einem `'X'`  \n",
    "   (`['X', ' ', ' ', 'X', ' ', ' ', 'X']`).\n",
    "1. Erstelle ein leeres 4-gewinnt Spielfeld, bez. eine Liste `board` mit 6 Listen wie die oben erstellte Liste `row`. **Hint**: Erstelle eine leere Liste `board`. Benutze eine For-Schleife, um 6-Mal eine leere Reihe zu erstellen und an die Liste `board` anzuh&auml;ngen.\n",
    " \n",
    "   ```python\n",
    "   \n",
    "   [[' ', ' ', ' ', ' ', ' ', ' ', ' '],\n",
    "    [' ', ' ', ' ', ' ', ' ', ' ', ' '],\n",
    "    [' ', ' ', ' ', ' ', ' ', ' ', ' '],\n",
    "    [' ', ' ', ' ', ' ', ' ', ' ', ' '],\n",
    "    [' ', ' ', ' ', ' ', ' ', ' ', ' '],\n",
    "    [' ', ' ', ' ', ' ', ' ', ' ', ' '],\n",
    "   ]\n",
    "   \n",
    "   ```\n",
    "\n",
    "1. Markiere die Felder wie folgt:  \n",
    "   ```python\n",
    "   \n",
    "   [[' ', ' ', ' ', 'X', ' ', ' ', ' '],\n",
    "    [' ', ' ', ' ', 'X', ' ', ' ', ' '],\n",
    "    [' ', ' ', ' ', 'X', ' ', ' ', ' '],\n",
    "    [' ', ' ', ' ', 'X', ' ', ' ', ' '],\n",
    "    [' ', ' ', ' ', ' ', ' ', ' ', ' '],\n",
    "    [' ', ' ', ' ', ' ', ' ', ' ', ' '],\n",
    "   ]\n",
    "   \n",
    "   ```\n",
    "\n",
    "1. Schreibe eine Funktion `clear_board(board)`, welche das Spielfeld `board` leert.\n",
    "   \n",
    "   ```python\n",
    "   def clear_board(board):\n",
    "       '''weise jedem Element board[row][col] den Wert ' ' zu\n",
    "          board: list[list[str]]\n",
    "       '''\n",
    "       ... \n",
    "   ```\n",
    "   \n",
    "1. Markiere die Felder wie folgt:\n",
    "   ```python\n",
    "\n",
    "   [[' ', ' ', ' ', 'X', ' ', ' ', ' '],\n",
    "    [' ', ' ', ' ', ' ', 'X', ' ', ' '],\n",
    "    [' ', ' ', ' ', ' ', ' ', 'X', ' '],\n",
    "    [' ', ' ', ' ', ' ', ' ', ' ', 'X'],\n",
    "    [' ', ' ', ' ', ' ', ' ', ' ', ' '],\n",
    "    [' ', ' ', ' ', ' ', ' ', ' ', ' '],\n",
    "   ]\n",
    "\n",
    "    ```\n",
    "\n",
    "1. Markiere die Felder wie folgt:\n",
    "   ```python\n",
    "\n",
    "   [[' ', ' ', ' ', ' ', ' ', ' ', ' '],\n",
    "    [' ', ' ', ' ', ' ', ' ', ' ', ' '],\n",
    "    [' ', ' ', ' ', ' ', ' ', ' ', 'O'],\n",
    "    [' ', ' ', ' ', ' ', ' ', 'O', ' '],\n",
    "    [' ', ' ', ' ', ' ', 'O', ' ', ' '],\n",
    "    [' ', ' ', ' ', 'O', ' ', ' ', ' '],\n",
    "   ]\n",
    "\n",
    "    ```   "
   ]
  },
  {
   "cell_type": "code",
   "execution_count": null,
   "id": "619b4a31-a5c8-4204-aa27-c0002dd0239a",
   "metadata": {},
   "outputs": [],
   "source": [
    "# 1a)\n",
    "row = [' ', ' ', ' ', ' ', ' ', ' ']\n",
    "row"
   ]
  },
  {
   "cell_type": "code",
   "execution_count": null,
   "id": "6bcabc3a-936a-4bd2-b169-5f93959267d0",
   "metadata": {},
   "outputs": [],
   "source": [
    "# 1b)\n",
    "row = [' '] * 7\n",
    "row"
   ]
  },
  {
   "cell_type": "code",
   "execution_count": null,
   "id": "c42b9fc5-7365-4bbb-b64d-6fff3a454c40",
   "metadata": {},
   "outputs": [],
   "source": [
    "# 1c)\n",
    "row = []\n",
    "for _ in range(7):\n",
    "    row.append(' ')\n",
    "row"
   ]
  },
  {
   "cell_type": "code",
   "execution_count": null,
   "id": "156b7572-c11a-4895-a092-71541bcd9a04",
   "metadata": {},
   "outputs": [],
   "source": [
    "# 2)\n",
    "row[0] = 'X'\n",
    "row[3] = 'X'\n",
    "row[-1] = 'X'\n",
    "row"
   ]
  },
  {
   "cell_type": "code",
   "execution_count": null,
   "id": "eba4548d-f547-4c3d-85d0-04c5c0250d83",
   "metadata": {},
   "outputs": [],
   "source": [
    "# 3)\n",
    "board = []\n",
    "for _ in range(6):\n",
    "    row = [' '] * 7\n",
    "    board.append(row)\n",
    "board"
   ]
  },
  {
   "cell_type": "code",
   "execution_count": null,
   "id": "55959c18-8ec8-4ef3-99ab-a3bbcf1f9bca",
   "metadata": {},
   "outputs": [],
   "source": [
    "# 4)\n",
    "for i in range(4):\n",
    "    board[i][3] = 'X'\n",
    "board"
   ]
  },
  {
   "cell_type": "code",
   "execution_count": null,
   "id": "2544f4c4-9c7a-4a11-857e-ca636d3463da",
   "metadata": {},
   "outputs": [],
   "source": [
    "# 5)\n",
    "def clear_board(board):\n",
    "    for row in board:\n",
    "        for i, _ in enumerate(row):\n",
    "            row[i] = ' '"
   ]
  },
  {
   "cell_type": "code",
   "execution_count": null,
   "id": "cda41488-6e09-44da-accc-ae2117432191",
   "metadata": {},
   "outputs": [],
   "source": []
  },
  {
   "cell_type": "code",
   "execution_count": null,
   "id": "5c6f246b-db94-4544-848e-e7e85f6b9b84",
   "metadata": {},
   "outputs": [],
   "source": [
    "# 6)\n",
    "clear_board(board)\n",
    "for i in range(4):\n",
    "    board[i][3+i] = 'X'\n",
    "board"
   ]
  },
  {
   "cell_type": "code",
   "execution_count": null,
   "id": "20653c21-0ce2-4f13-9622-bdab6b63d603",
   "metadata": {},
   "outputs": [],
   "source": [
    "# 7)\n",
    "clear_board(board)\n",
    "for i in range(4):\n",
    "    board[5-i][3+i] = 'O'\n",
    "board"
   ]
  },
  {
   "cell_type": "code",
   "execution_count": null,
   "id": "b91d44db-13fa-456f-9627-5e053d044b33",
   "metadata": {},
   "outputs": [],
   "source": []
  }
 ],
 "metadata": {
  "author": "dieter.probst@gmail.com",
  "kernelspec": {
   "display_name": "Python 3 (ipykernel)",
   "language": "python",
   "name": "python3"
  },
  "language_info": {
   "codemirror_mode": {
    "name": "ipython",
    "version": 3
   },
   "file_extension": ".py",
   "mimetype": "text/x-python",
   "name": "python",
   "nbconvert_exporter": "python",
   "pygments_lexer": "ipython3",
   "version": "3.13.0"
  }
 },
 "nbformat": 4,
 "nbformat_minor": 5
}
