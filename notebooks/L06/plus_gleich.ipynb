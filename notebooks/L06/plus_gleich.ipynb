{
 "cells": [
  {
   "cell_type": "markdown",
   "id": "bf67eda0-3551-4c66-9e42-2e52e51b0f3a",
   "metadata": {},
   "source": [
    "### Die Operatoren `+=` und `*=`\n",
    "Oft will man den Wert einer Variable erh&ouml;hen oder z.B. verdoppeln.\n",
    "```python\n",
    "x = x + 5\n",
    "y = y * 2\n",
    "```\n",
    "Dies kann kompakter wie folgt ausgedr&uuml;ckt werden:\n",
    "```python\n",
    "x  += 5\n",
    "y  *= 2\n",
    "```\n",
    "\n",
    "**Achtung**: Ist `x` **mutable** (z.B. eine Liste), dann macht `x = x + y` **nicht** \n",
    "das Selbe wie `x += y`!  \n",
    "- `x + y` gibt eine neue Liste zur&uuml;ck.\n",
    "- x += y verl&auml;ngert die Liste `x`."
   ]
  },
  {
   "cell_type": "code",
   "execution_count": 2,
   "id": "b0055057-9ada-4e4c-87df-fd7847614658",
   "metadata": {},
   "outputs": [
    {
     "data": {
      "text/plain": [
       "([1, 2], [1, 2, 3, 4])"
      ]
     },
     "execution_count": 2,
     "metadata": {},
     "output_type": "execute_result"
    }
   ],
   "source": [
    "x = [1, 2]\n",
    "x_old = x\n",
    "y = [3, 4]\n",
    "x = x + y\n",
    "\n",
    "x_old, x"
   ]
  },
  {
   "cell_type": "code",
   "execution_count": 3,
   "id": "625a554d-6b95-426c-bce6-507fea204bfd",
   "metadata": {},
   "outputs": [
    {
     "data": {
      "text/plain": [
       "([1, 2, 3, 4], [1, 2, 3, 4])"
      ]
     },
     "execution_count": 3,
     "metadata": {},
     "output_type": "execute_result"
    }
   ],
   "source": [
    "x = [1, 2]\n",
    "x_old = x\n",
    "y = [3, 4]\n",
    "x += y\n",
    "\n",
    "x_old, x"
   ]
  },
  {
   "cell_type": "code",
   "execution_count": 4,
   "id": "04ee332a-d016-4656-82f1-1e88045ae222",
   "metadata": {},
   "outputs": [
    {
     "data": {
      "text/plain": [
       "True"
      ]
     },
     "execution_count": 4,
     "metadata": {},
     "output_type": "execute_result"
    }
   ],
   "source": [
    "x_old is x"
   ]
  },
  {
   "cell_type": "markdown",
   "id": "d9e3f055-3c31-40d9-87e5-ad036209f78f",
   "metadata": {},
   "source": [
    "### Aufgabe\n",
    "Was machen die Funktionen `f` und `g`?  \n",
    "Illustriere anhand von Beispielen, dass die Funktionen `f` und `g` unterschiedliche Dinge tun.\n",
    "Visuallisiere di\n",
    "auf [Pythontutor](https://pythontutor.com/render.html#mode=display).\n",
    "\n",
    "\n",
    "```python\n",
    "def f(items):\n",
    "    '''gibt eine neue Liste zurueck, mit\n",
    "       zusaetzlichem Element 'neues Element'\n",
    "       items: list\n",
    "    ''' \n",
    "    return items\n",
    "\n",
    "def g(items):\n",
    "    '''verlaengert die Liste items um das Element 'neues Element'\n",
    "       gibt None zurueck.\n",
    "       items: list\n",
    "    '''\n",
    "    items += ['neues Element']\n",
    "   \n",
    "```\n",
    "Visuallisiere die Ausf&uuml;hrung dieser Funktionen\n",
    "auf [Pythontutor](https://pythontutor.com/render.html#mode=display)  \n",
    "(Copy-Paste folgenden Code und klicke `Visualize Execution`)."
   ]
  },
  {
   "cell_type": "code",
   "execution_count": null,
   "id": "e5b44489-c1d7-4856-85c2-b62e41c009ad",
   "metadata": {},
   "outputs": [],
   "source": []
  }
 ],
 "metadata": {
  "author": "dieter.probst@gmail.com",
  "kernelspec": {
   "display_name": "Python 3 (ipykernel)",
   "language": "python",
   "name": "python3"
  },
  "language_info": {
   "codemirror_mode": {
    "name": "ipython",
    "version": 3
   },
   "file_extension": ".py",
   "mimetype": "text/x-python",
   "name": "python",
   "nbconvert_exporter": "python",
   "pygments_lexer": "ipython3",
   "version": "3.13.0"
  }
 },
 "nbformat": 4,
 "nbformat_minor": 5
}
