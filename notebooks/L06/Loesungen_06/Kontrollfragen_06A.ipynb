{
 "cells": [
  {
   "cell_type": "markdown",
   "id": "ffb8453c-61f2-4447-a8f2-1c6e1c30b871",
   "metadata": {},
   "source": [
    "### Kontrollfragen Lektion 6\n",
    "1. Schreibe verschiedene Varianten einer Funktion `copy(items)`, welche eine Kopie der Liste `items` zur&uuml;ckgibt. Vergleiche das Original und die Kopie mit den Operatoren `==` und `is`.\n",
    "1. Schreibe eine Funktion `words2capwords(words)`, welche auf jedes Wort in der\n",
    "   Liste words die Methode `capitalize` anwendet und das Resultat als neue Liste zur&uuml;ckgibt. Die originale Liste `words` soll nicht modifiziert werden.\n",
    "1. Schreibe eine Funktion `lower(words)`, welche die Liste `words` modifiziert, indem sie auf jedes Wort in der Liste `words` die Methode `lower` anwendet.\n",
    "1. Was ist der Output folgenden Codefragments? Erkl&auml;re den Zustand der Liste `words` nach der Ausf&uuml;hrung.\n",
    "   \n",
    "   ```python\n",
    "   def append(words, word):\n",
    "       words += [word]\n",
    "       return words\n",
    "    \n",
    "   words = ['alpha', 'beta', 'gamma']\n",
    "   more_words = append(words, 'delta')\n",
    "   more_words.pop(0)\n",
    "   words\n",
    "   ```\n",
    "   \n",
    "1. Was ist der Output folgenden Codefragments? Erkl&auml;re den Zustand der Liste `words` nach der Ausf&uuml;hrung.\n",
    "   \n",
    "   ```python\n",
    "   def append(words, word):\n",
    "       words += (word,)\n",
    "       return words\n",
    "    \n",
    "   words = ('alpha', 'beta', 'gamma')\n",
    "   more_words = append(words, 'delta')\n",
    "   words\n",
    "\n",
    "1. Der String `data` enth&auml;lt kommaseparierte Zahlen.\n",
    "\n",
    "   ```python\n",
    "   data = '''\\\n",
    "   1.11 , 2.22,3.33,  4.44 ,\\\n",
    "   5.55,,7.77'''\n",
    "   ```\n",
    "\n",
    "    Schreibe Code, der aus diesem String folgende Liste von Floats und `None` erstellt:\n",
    "   \n",
    "   ```python\n",
    "   [1.11, 2.22, 3.33, 4.44, 5.55, None, 7.77]\n",
    "   ```\n",
    "1. Schreibe eine Funktion, welche aus einem String mit durch\n",
    "    Whitespace (ein oder mehrere Leerschl&auml;ge, Tab, Newline) getrennter W&ouml;rter eine String macht, wo zwischen zwei W&ouml;rtern genau ein Leerschlag ist.\n",
    "1. Gegeben sei eine Liste mit Codes und eine entsprechende Liste mit\n",
    "   den Bedeutungen.\n",
    "   ```python\n",
    "   codes = [22, 45, 99]\n",
    "   words = ['enemy', 'tank', 'missile']\n",
    "   ```\n",
    "\n",
    "   Schreibe eine Funktion, `decode(code)`, welche das zum Code passende Wort ausgibt oder einen Fehler ausl&ouml;st.\n",
    "   Programmiere eine Variante, welche die Methode `list.index` benutzt, und eine mit Hilfe der Funktion `zip`. "
   ]
  },
  {
   "cell_type": "code",
   "execution_count": null,
   "id": "68abd4c3-a5d8-4ce5-957e-d57e7cd06b7f",
   "metadata": {},
   "outputs": [],
   "source": []
  },
  {
   "cell_type": "code",
   "execution_count": null,
   "id": "8bf44bfc-6151-4040-942c-b2c01aa4e834",
   "metadata": {},
   "outputs": [],
   "source": [
    "# 1)\n",
    "def copy1(items):\n",
    "    return items.copy()\n",
    "\n",
    "\n",
    "def copy2(items):\n",
    "    return items[:]\n",
    "\n",
    "\n",
    "def copy3(items):\n",
    "    items_copy = []\n",
    "    for item in items:\n",
    "        items_copy.append(item)\n",
    "    return items_copy"
   ]
  },
  {
   "cell_type": "code",
   "execution_count": null,
   "id": "8c783954-7d1d-4807-8337-86b7d5079f34",
   "metadata": {},
   "outputs": [],
   "source": [
    "words = ['alpha', 'beta', 'gamma']\n",
    "words_copy = copy1(words)\n",
    "words == words_copy, words is words_copy"
   ]
  },
  {
   "cell_type": "code",
   "execution_count": null,
   "id": "d7412222-8156-4b59-861f-27b140ca3173",
   "metadata": {},
   "outputs": [],
   "source": [
    "# 2)\n",
    "def words2capwords(words):\n",
    "    capwords = []\n",
    "    for word in words:\n",
    "        capwords.append(word.capitalize())\n",
    "    return capwords"
   ]
  },
  {
   "cell_type": "code",
   "execution_count": null,
   "id": "0c457760-11e3-49d2-ad74-b2dc0ef2d895",
   "metadata": {},
   "outputs": [],
   "source": [
    "words = ['alpha', 'beta', 'gamma']\n",
    "Words = words2capwords(words)\n",
    "words, Words"
   ]
  },
  {
   "cell_type": "code",
   "execution_count": null,
   "id": "e33e48dd-feeb-494b-b4e0-0265e175f95c",
   "metadata": {},
   "outputs": [],
   "source": [
    "# 3)\n",
    "def lower(words):\n",
    "    for i, word in enumerate(words):\n",
    "        words[i] = word.lower()\n",
    "\n",
    "\n",
    "def lower1(words):\n",
    "    n = len(words)\n",
    "    for i in range(n):\n",
    "        word = words[i]\n",
    "        words[i] = word.lower()"
   ]
  },
  {
   "cell_type": "code",
   "execution_count": null,
   "id": "ce4c6b7a-150e-4f71-a17f-df2ed48daa5b",
   "metadata": {},
   "outputs": [],
   "source": [
    "words = ['Alpha', 'Beta', 'Gamma']\n",
    "lower1(words)\n",
    "words"
   ]
  },
  {
   "cell_type": "code",
   "execution_count": null,
   "id": "6faeb817-0b21-4a16-9e00-867535c4f10d",
   "metadata": {},
   "outputs": [],
   "source": [
    "# 4)\n",
    "def append(words, word):\n",
    "    words += [word]\n",
    "    return words\n",
    "\n",
    "\n",
    "words = ['alpha', 'beta', 'gamma']\n",
    "# Die Funktion append verlaengert die Liste Words um das Wort 'delta'\n",
    "# more_words und words referenzieren beide die gleiche Liste\n",
    "more_words = append(words, 'delta')\n",
    "# gleicher Effekt wie words.pop(0) (erstes Element wird entfernt)\n",
    "more_words.pop(0)\n",
    "words"
   ]
  },
  {
   "cell_type": "code",
   "execution_count": null,
   "id": "e6da8a24-473c-4ee3-8a39-8fd6452f997f",
   "metadata": {},
   "outputs": [],
   "source": [
    "# 5)\n",
    "def append(words, word):\n",
    "    words += (word,)\n",
    "    return words\n",
    "\n",
    "\n",
    "words = ('alpha', 'beta', 'gamma')\n",
    "# Tuple sind immutalbe, append gibt ein neues Tuple zurueck\n",
    "# words ist immer noch das urspruengliche Tuple\n",
    "more_words = append(words, 'delta')\n",
    "words"
   ]
  },
  {
   "cell_type": "code",
   "execution_count": null,
   "id": "10c9e841-ad1b-4aba-b545-4f1fcbf61c9f",
   "metadata": {},
   "outputs": [],
   "source": [
    "# 6)\n",
    "data = '''\\\n",
    "1.11 , 2.22,3.33,  4.44 ,\\\n",
    "5.55,,7.77'''\n",
    "\n",
    "\n",
    "nbrs = data.split(',')\n",
    "for i, s in enumerate(nbrs):\n",
    "    s = s.strip()\n",
    "    if not s:\n",
    "        value = None\n",
    "    else:\n",
    "        value = float(s)\n",
    "    nbrs[i] = value\n",
    "\n",
    "nbrs"
   ]
  },
  {
   "cell_type": "code",
   "execution_count": null,
   "id": "0b79eb3c-a560-4ad3-9c0c-4dd7d6967072",
   "metadata": {},
   "outputs": [],
   "source": [
    "# 7)\n",
    "def reduce_space(s):\n",
    "    items = s.split()\n",
    "    s = ' '.join(items)\n",
    "    return s"
   ]
  },
  {
   "cell_type": "code",
   "execution_count": null,
   "id": "696894d6-688b-4b37-b2cb-afdb39541e4b",
   "metadata": {},
   "outputs": [],
   "source": [
    "s = '''foo   bar  baz\n",
    "baz bar\n",
    "foo\n",
    "'''\n",
    "\n",
    "print(s)"
   ]
  },
  {
   "cell_type": "code",
   "execution_count": null,
   "id": "2a7253ce-663a-4ce2-8549-b1814fba2d05",
   "metadata": {},
   "outputs": [],
   "source": [
    "reduce_space(s)"
   ]
  },
  {
   "cell_type": "code",
   "execution_count": null,
   "id": "30d81434-81f6-4a85-85bc-aba0a5321ded",
   "metadata": {},
   "outputs": [],
   "source": [
    "# 8)\n",
    "codes = [22, 45, 99]\n",
    "words = ['enemy', 'tank', 'missile']\n",
    "\n",
    "\n",
    "def zip_decode(code):\n",
    "    for c, w in zip(codes, words):\n",
    "        if c == code:\n",
    "            return w\n",
    "    raise ValueError('Code not found in codebook')\n",
    "\n",
    "\n",
    "def index_decode(code):\n",
    "    i = codes.index(code)\n",
    "    return words[i]"
   ]
  },
  {
   "cell_type": "code",
   "execution_count": null,
   "id": "f6c92520-6cc9-4513-b363-3f58e6e77db3",
   "metadata": {},
   "outputs": [],
   "source": [
    "zip_decode(22)"
   ]
  },
  {
   "cell_type": "code",
   "execution_count": null,
   "id": "98f6cc84-0268-4639-9424-964a862dd4a7",
   "metadata": {},
   "outputs": [],
   "source": [
    "zip_decode(22)"
   ]
  },
  {
   "cell_type": "code",
   "execution_count": null,
   "id": "2e90b8d0-7ea3-472d-b0e2-67416a72d038",
   "metadata": {},
   "outputs": [],
   "source": [
    "index_decode(99)"
   ]
  },
  {
   "cell_type": "code",
   "execution_count": null,
   "id": "84933005-cde6-43c4-b0e0-df5fb97b46d9",
   "metadata": {},
   "outputs": [],
   "source": [
    "index_decode(100)"
   ]
  }
 ],
 "metadata": {
  "kernelspec": {
   "display_name": "Python 3 (ipykernel)",
   "language": "python",
   "name": "python3"
  },
  "language_info": {
   "codemirror_mode": {
    "name": "ipython",
    "version": 3
   },
   "file_extension": ".py",
   "mimetype": "text/x-python",
   "name": "python",
   "nbconvert_exporter": "python",
   "pygments_lexer": "ipython3",
   "version": "3.13.0"
  }
 },
 "nbformat": 4,
 "nbformat_minor": 5
}
