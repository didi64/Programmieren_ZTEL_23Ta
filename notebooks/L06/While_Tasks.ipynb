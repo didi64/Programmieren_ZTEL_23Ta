{
 "cells": [
  {
   "cell_type": "code",
   "execution_count": null,
   "id": "4611aa73-ef72-49aa-8e31-b048a456b576",
   "metadata": {},
   "outputs": [],
   "source": []
  },
  {
   "cell_type": "code",
   "execution_count": 26,
   "id": "c354b299-f9be-40e9-b519-c773a2cdf4b6",
   "metadata": {},
   "outputs": [],
   "source": [
    "def is_teko_email(email):\n",
    "    symbs = 'abcdefghijklmnopqrstuvwxyz01234567890'\n",
    "    fname = ''\n",
    "    lname = ''\n",
    "    dname = '' \n",
    "    n = len(email)\n",
    "\n",
    "    # fname\n",
    "    for i in range(n):\n",
    "        c = email[i]z\n",
    "        if c in symbs:\n",
    "            fname = fname + c\n",
    "        elif c == '.':\n",
    "            break\n",
    "        else:\n",
    "            return False\n",
    "    # lname  \n",
    "    for i in range(i+1, n):\n",
    "        c = email[i]\n",
    "        if c in symbs:\n",
    "            lname = lname + c\n",
    "        elif c == '@':\n",
    "            break\n",
    "        else:\n",
    "            return False   \n",
    "    # dname        \n",
    "    for i in range(i+1, n):\n",
    "        dname = dname + email[i]\n",
    "    return dname == 'edu.teko.ch'"
   ]
  },
  {
   "cell_type": "code",
   "execution_count": 31,
   "id": "82876be8-a13b-463f-abee-1c2af539b87e",
   "metadata": {},
   "outputs": [
    {
     "data": {
      "text/plain": [
       "True"
      ]
     },
     "execution_count": 31,
     "metadata": {},
     "output_type": "execute_result"
    }
   ],
   "source": [
    "email = 'max.mus3ter@edu.teko.ch'\n",
    "is_teko_email(email)"
   ]
  },
  {
   "cell_type": "code",
   "execution_count": null,
   "id": "ff40007a-84e1-4556-b363-d9a4ca509e33",
   "metadata": {},
   "outputs": [],
   "source": [
    "import random\n",
    "import somefunc\n",
    "\n",
    "secret = random.randint(1, 10)\n",
    "guess = int(input('Geheminzahl?'))\n",
    "attempts = 0\n",
    "while eval_guess(guess, secret):\n",
    "    attempts = attempts = 1\n",
    "\n",
    "fstring = 'Du hast die Geheimzahl {} in {} Versuchen erraten.'\n",
    "print(str.format(fstring, secret, attempts))"
   ]
  },
  {
   "cell_type": "code",
   "execution_count": null,
   "id": "5a8a7ba4-3853-4dd4-9337-f407b8da1c8c",
   "metadata": {},
   "outputs": [],
   "source": []
  },
  {
   "cell_type": "code",
   "execution_count": null,
   "id": "1b4308f9-f5e7-49ac-822d-46427e7fe167",
   "metadata": {},
   "outputs": [],
   "source": [
    "while True:\n",
    "    email = input('Email')\n",
    "    if is_teko_email(email):\n",
    "        break\n",
    "    print('keine gueltige Email!')\n",
    "\n",
    "print('validierte Email:', email)    "
   ]
  },
  {
   "cell_type": "code",
   "execution_count": null,
   "id": "f0f251cb-f3f2-4800-a013-1d6a2b7cf636",
   "metadata": {},
   "outputs": [],
   "source": [
    "import random\n",
    "import somefunc\n",
    "\n",
    "heaps = [3, 4, 5, 6]\n",
    "ptm = 0  # Player to move 0 oder 1\n",
    "players = ['You', 'Compi']\n",
    "strategies = [ask_player, ask_compi]\n",
    "\n",
    "show(heaps)\n",
    "while count(heaps) != 0:\n",
    "    strategy = strategies[ptm]\n",
    "    print(players[ptm] + ':')\n",
    "    move = strategy(heaps)\n",
    "    update_state(move)\n",
    "    show(heaps)\n",
    "    ptm = 1 - ptm\n",
    "    print(60 * '-')\n",
    "print(players[1-ptm], 'ist der Gewinner!')"
   ]
  }
 ],
 "metadata": {
  "kernelspec": {
   "display_name": "Python 3 (ipykernel)",
   "language": "python",
   "name": "python3"
  },
  "language_info": {
   "codemirror_mode": {
    "name": "ipython",
    "version": 3
   },
   "file_extension": ".py",
   "mimetype": "text/x-python",
   "name": "python",
   "nbconvert_exporter": "python",
   "pygments_lexer": "ipython3",
   "version": "3.13.0"
  }
 },
 "nbformat": 4,
 "nbformat_minor": 5
}
