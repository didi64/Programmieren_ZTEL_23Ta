{
 "cells": [
  {
   "cell_type": "markdown",
   "id": "52bd2184-b538-48d6-b12a-bf54c002a83f",
   "metadata": {},
   "source": [
    "### Black Jack (Eric)\n",
    "- ev. card als String statt Tuple\n",
    "- handvalue ev. Hilfsfunktion score(values)\n",
    "- is_blackjack\n",
    "- draw_or_stay(hand) fuer dealer\n",
    "- is_soft(hand)\n",
    "soft or hard 16  "
   ]
  },
  {
   "cell_type": "code",
   "execution_count": 151,
   "id": "12953b08-2e48-4c36-942a-599942d4ee90",
   "metadata": {},
   "outputs": [],
   "source": [
    "import random\n",
    "\n",
    "SUITS = '♥♠♦♣'\n",
    "VALUES = '23456789TJQKA'\n",
    "rank_points = {k: int(k) if k in '223456789' else 10 for k in VALUES}\n",
    "deck = [value+suit for suit in SUITS for value in VALUES]\n",
    "hand_type = {True: 'soft', False: 'hard'}"
   ]
  },
  {
   "cell_type": "code",
   "execution_count": 166,
   "id": "1c05a69f-fc19-49b3-8af5-792e6627884e",
   "metadata": {},
   "outputs": [],
   "source": [
    "def get_points(hand):\n",
    "    return [rank_points[card[:-1]] for card in hand]\n",
    "\n",
    "\n",
    "def score(values):\n",
    "    value = sum(values)\n",
    "    while value > 21 and 11 in values:\n",
    "        idx = values.index(11)\n",
    "        values[idx] -= 10\n",
    "        value -= 10\n",
    "    return value, hand_type[11 in values]\n",
    "\n",
    "\n",
    "def handvalue(hand):\n",
    "    return score(get_points(hand))\n",
    "\n",
    "\n",
    "def add_card(hand):\n",
    "    hand.append(deck.pop())\n",
    "\n",
    "\n",
    "def is_black_jack(hand):\n",
    "    return len(hand) == 2 and handvalue(hand) == 21\n",
    "\n",
    "\n",
    "def is_a_draw(handvalue):\n",
    "    value, kind = handvalue\n",
    "    return value < 16 or value == 16 and kind == 'soft'"
   ]
  },
  {
   "cell_type": "code",
   "execution_count": 160,
   "id": "45d75f5c-6a0f-4c57-9fd5-02c8a2169dcb",
   "metadata": {},
   "outputs": [],
   "source": [
    "random.shuffle(deck)\n",
    "hand = [deck.pop() for i in range(2)]"
   ]
  },
  {
   "cell_type": "code",
   "execution_count": 161,
   "id": "78702542-b438-4eda-ad93-48c098e17907",
   "metadata": {},
   "outputs": [
    {
     "data": {
      "text/plain": [
       "(20, 'hard')"
      ]
     },
     "execution_count": 161,
     "metadata": {},
     "output_type": "execute_result"
    }
   ],
   "source": [
    "handvalue(hand)"
   ]
  },
  {
   "cell_type": "code",
   "execution_count": 162,
   "id": "38e95f4b-a569-4a78-95a7-8f155f59bbf3",
   "metadata": {},
   "outputs": [
    {
     "data": {
      "text/plain": [
       "(28, 'hard')"
      ]
     },
     "execution_count": 162,
     "metadata": {},
     "output_type": "execute_result"
    }
   ],
   "source": [
    "add_card(hand)\n",
    "handvalue(hand)"
   ]
  },
  {
   "cell_type": "code",
   "execution_count": 163,
   "id": "100002eb-81d9-4bca-a3c9-00a7d1b01169",
   "metadata": {},
   "outputs": [
    {
     "data": {
      "text/plain": [
       "(21, 'soft')"
      ]
     },
     "execution_count": 163,
     "metadata": {},
     "output_type": "execute_result"
    }
   ],
   "source": [
    "score([11, 10])"
   ]
  },
  {
   "cell_type": "code",
   "execution_count": 164,
   "id": "bc45ef42-40e7-4c4e-9f11-ec3bf7e3e3fc",
   "metadata": {},
   "outputs": [
    {
     "data": {
      "text/plain": [
       "(21, 'soft')"
      ]
     },
     "execution_count": 164,
     "metadata": {},
     "output_type": "execute_result"
    }
   ],
   "source": [
    "score([11, 5, 11, 3, 11])"
   ]
  },
  {
   "cell_type": "code",
   "execution_count": 170,
   "id": "ffa70966-4bf7-413a-884f-67219bcd19b8",
   "metadata": {},
   "outputs": [
    {
     "data": {
      "text/plain": [
       "True"
      ]
     },
     "execution_count": 170,
     "metadata": {},
     "output_type": "execute_result"
    }
   ],
   "source": [
    "is_a_draw((16, 'soft'))"
   ]
  },
  {
   "cell_type": "code",
   "execution_count": null,
   "id": "807415e9-dfa3-40c8-8f1f-a19461575c42",
   "metadata": {},
   "outputs": [],
   "source": []
  }
 ],
 "metadata": {
  "kernelspec": {
   "display_name": "Python 3 (ipykernel)",
   "language": "python",
   "name": "python3"
  },
  "language_info": {
   "codemirror_mode": {
    "name": "ipython",
    "version": 3
   },
   "file_extension": ".py",
   "mimetype": "text/x-python",
   "name": "python",
   "nbconvert_exporter": "python",
   "pygments_lexer": "ipython3",
   "version": "3.13.0"
  }
 },
 "nbformat": 4,
 "nbformat_minor": 5
}
