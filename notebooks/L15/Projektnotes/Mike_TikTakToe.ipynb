{
 "cells": [
  {
   "cell_type": "code",
   "execution_count": null,
   "id": "cda05252-e676-47b5-a8ca-17b25ac63e16",
   "metadata": {},
   "outputs": [],
   "source": [
    "### TikTakToe (Mike)\n",
    "- ptm, winner, moves_played\n",
    "- setters, gettes\n",
    "- clear_board\n",
    "- result\n",
    "- show_state"
   ]
  },
  {
   "cell_type": "code",
   "execution_count": null,
   "id": "e4b653e7-baca-4f80-aeaa-33d9c3a44772",
   "metadata": {},
   "outputs": [],
   "source": [
    "\n",
    "\n"
   ]
  },
  {
   "cell_type": "code",
   "execution_count": null,
   "id": "7321b9a7-3116-4489-9676-e08234e321b3",
   "metadata": {},
   "outputs": [],
   "source": []
  },
  {
   "cell_type": "code",
   "execution_count": 82,
   "id": "359ede80-8c2b-41cd-b3e3-1048ce0f4294",
   "metadata": {},
   "outputs": [],
   "source": [
    "board = [[' ', ' ', ' '],\n",
    "         [' ', ' ', ' '],\n",
    "         [' ', ' ', ' '],\n",
    "         ]\n",
    "\n",
    "tiktaks = [((0, 0), (1, 1), (2, 2)),\n",
    "           ((0, 2), (1, 1), (0, 2)),\n",
    "           ((0, 0), (0, 1), (0, 2)),\n",
    "           ((1, 0), (1, 1), (1, 2)),\n",
    "           ((2, 0), (2, 1), (2, 2)),\n",
    "           ((0, 0), (1, 0), (2, 0)),\n",
    "           ((0, 1), (1, 1), (2, 1)),\n",
    "           ((0, 2), (1, 2), (2, 2)),\n",
    "           ]\n",
    "\n",
    "EMPTY = '.'\n",
    "players = ['X', 'O']\n",
    "moves_played = 0\n",
    "ptm = 0\n",
    "winner = None\n",
    "\n",
    "\n",
    "def get_field(pos):\n",
    "    col, row = pos\n",
    "    return board[row][col]\n",
    "\n",
    "\n",
    "def set_field(pos, val):\n",
    "    col, row = pos\n",
    "    board[row][col] = val\n",
    "\n",
    "\n",
    "def clear_board():\n",
    "    for row in range(3):\n",
    "        for col in range(3):\n",
    "            set_field((col, row), EMPTY)\n",
    "\n",
    "\n",
    "def is_tiktak(fields):\n",
    "    s = ''.join(get_field(pos) for pos in fields)\n",
    "    char = players[ptm]\n",
    "    return s == char*3\n",
    "\n",
    "\n",
    "def result():\n",
    "    for tiktak in tiktaks:\n",
    "        if is_tiktak(tiktak):\n",
    "            return ptm\n",
    "    if moves_played == 9:\n",
    "        return 2\n",
    "\n",
    "\n",
    "def make_move(pos):\n",
    "    global moves_played, ptm, winner\n",
    "    if get_field(pos) != EMPTY:\n",
    "        return\n",
    "\n",
    "    char = players[ptm]\n",
    "    set_field(pos, char)\n",
    "    moves_played += 1\n",
    "    winner = result()\n",
    "    if winner is None:\n",
    "        ptm = 1 - ptm\n",
    "\n",
    "\n",
    "def computer_move():\n",
    "    for row in range(3):\n",
    "        for col in range(3):\n",
    "            pos = (col, row)\n",
    "            char = get_field(pos)\n",
    "            if char == EMPTY:\n",
    "                return pos\n",
    "\n",
    "\n",
    "def new_game(player=0):\n",
    "    global ptm, moves_played\n",
    "    ptm = player\n",
    "    moves_played = 0\n",
    "    clear_board()\n",
    "\n",
    "\n",
    "def show_state():\n",
    "    print('Winner:', winner)\n",
    "    if winner is None:\n",
    "        print('Spieler am Zug:', ptm)\n",
    "    print('\\n'.join(''.join(row) for row in board))"
   ]
  },
  {
   "cell_type": "code",
   "execution_count": 83,
   "id": "6cc22dfe-7cf7-48ed-b45d-30cdead13186",
   "metadata": {},
   "outputs": [
    {
     "name": "stdout",
     "output_type": "stream",
     "text": [
      "Winner: None\n",
      "Spieler am Zug: 0\n",
      "...\n",
      "...\n",
      "...\n"
     ]
    }
   ],
   "source": [
    "new_game()\n",
    "show_state()"
   ]
  },
  {
   "cell_type": "code",
   "execution_count": 84,
   "id": "9c6eb5a2-af39-498d-9dc8-ccc1852478e6",
   "metadata": {},
   "outputs": [
    {
     "name": "stdout",
     "output_type": "stream",
     "text": [
      "Winner: None\n",
      "Spieler am Zug: 1\n",
      "...\n",
      ".X.\n",
      "...\n"
     ]
    }
   ],
   "source": [
    "make_move((1, 1))\n",
    "show_state()"
   ]
  },
  {
   "cell_type": "code",
   "execution_count": 85,
   "id": "ad1d2059-395a-4fdd-aeae-5ee5e456d99d",
   "metadata": {},
   "outputs": [
    {
     "name": "stdout",
     "output_type": "stream",
     "text": [
      "Winner: None\n",
      "Spieler am Zug: 0\n",
      "O..\n",
      ".X.\n",
      "...\n"
     ]
    }
   ],
   "source": [
    "pos = computer_move()\n",
    "make_move(pos)\n",
    "show_state()"
   ]
  },
  {
   "cell_type": "code",
   "execution_count": 86,
   "id": "bf31f9c8-27bb-44b0-85d9-8b1657cc6d09",
   "metadata": {},
   "outputs": [
    {
     "name": "stdout",
     "output_type": "stream",
     "text": [
      "Winner: None\n",
      "Spieler am Zug: 1\n",
      "OX.\n",
      ".X.\n",
      "...\n"
     ]
    }
   ],
   "source": [
    "make_move((1, 0))\n",
    "show_state()"
   ]
  },
  {
   "cell_type": "code",
   "execution_count": 87,
   "id": "e5770b75-05d9-495f-a20f-3a14b6e8b848",
   "metadata": {},
   "outputs": [
    {
     "name": "stdout",
     "output_type": "stream",
     "text": [
      "Winner: None\n",
      "Spieler am Zug: 0\n",
      "OXO\n",
      ".X.\n",
      "...\n"
     ]
    }
   ],
   "source": [
    "pos = computer_move()\n",
    "make_move(pos)\n",
    "show_state()"
   ]
  },
  {
   "cell_type": "code",
   "execution_count": 88,
   "id": "9d2e0405-8c11-4cf8-a879-8a75dce81477",
   "metadata": {},
   "outputs": [
    {
     "name": "stdout",
     "output_type": "stream",
     "text": [
      "Winner: 0\n",
      "OXO\n",
      ".X.\n",
      ".X.\n"
     ]
    }
   ],
   "source": [
    "make_move((1, 2))\n",
    "show_state()"
   ]
  },
  {
   "cell_type": "code",
   "execution_count": null,
   "id": "c756976b-bc1f-4fe0-93ce-806f68f950c1",
   "metadata": {},
   "outputs": [],
   "source": []
  },
  {
   "cell_type": "code",
   "execution_count": null,
   "id": "78702542-b438-4eda-ad93-48c098e17907",
   "metadata": {},
   "outputs": [],
   "source": []
  },
  {
   "cell_type": "code",
   "execution_count": null,
   "id": "38e95f4b-a569-4a78-95a7-8f155f59bbf3",
   "metadata": {},
   "outputs": [],
   "source": []
  }
 ],
 "metadata": {
  "kernelspec": {
   "display_name": "Python 3 (ipykernel)",
   "language": "python",
   "name": "python3"
  },
  "language_info": {
   "codemirror_mode": {
    "name": "ipython",
    "version": 3
   },
   "file_extension": ".py",
   "mimetype": "text/x-python",
   "name": "python",
   "nbconvert_exporter": "python",
   "pygments_lexer": "ipython3",
   "version": "3.13.0"
  }
 },
 "nbformat": 4,
 "nbformat_minor": 5
}
