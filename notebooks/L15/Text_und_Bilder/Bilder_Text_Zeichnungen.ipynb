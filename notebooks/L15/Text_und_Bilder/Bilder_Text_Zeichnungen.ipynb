{
 "cells": [
  {
   "cell_type": "markdown",
   "id": "079f021e-fbdf-415a-b1d3-fe211c6a9a4b",
   "metadata": {},
   "source": [
    "### Bilder auf der Leinwand platzieren  \n",
    "\n",
    "Nach dem Import\n",
    "\n",
    "```python\n",
    "from ipywidgets import Image\n",
    "```\n",
    "\n",
    "kann wie folgt ein Bild geladen und auf einem Leinwandobjekt `canvas` platziert werden.\n",
    "```python\n",
    "img = Image.from_file(<filename>)\n",
    "canvas.draw_image(img, x, y, width, height)\n",
    "```\n",
    "`(x,y)` sind dabei die Koordinaten der rechten oberen Ecke, und\n",
    "`width` und `height` sind H&ouml;he und Breite des Rechtecks in welches das Bild \n",
    "gezeichnet wird."
   ]
  },
  {
   "cell_type": "code",
   "execution_count": null,
   "id": "46d1b949-f6e3-416a-b754-e31ade790e96",
   "metadata": {},
   "outputs": [],
   "source": [
    "from widgets_helpers import new_mcanvas\n",
    "\n",
    "\n",
    "mcanvas = new_mcanvas(3, width=200, height=200)\n",
    "bg, fg, top = mcanvas\n",
    "for i in (0, 1):\n",
    "    top.stroke_style = 'yellow'\n",
    "    top.line_width = 5\n",
    "    top.stroke_lines([(100, 0), (100, 200)])\n",
    "    top.stroke_lines([(0, 100), (200, 100)])\n",
    "\n",
    "bg.fill_rect(0, 0, 200)"
   ]
  },
  {
   "cell_type": "code",
   "execution_count": null,
   "id": "be8b3ba5-7ba3-481b-908d-0255c4b275c4",
   "metadata": {},
   "outputs": [],
   "source": [
    "mcanvas"
   ]
  },
  {
   "cell_type": "code",
   "execution_count": null,
   "id": "c9c65656-e94a-4467-9ff5-d09e62422488",
   "metadata": {},
   "outputs": [],
   "source": [
    "from ipywidgets import Image\n",
    "\n",
    "\n",
    "img1 = Image.from_file('image.png')\n",
    "img2 = Image.from_file('red_circle.png')\n",
    "\n",
    "fg.draw_image(img1, 100, 0, width=100)\n",
    "fg.draw_image(img2, 0, 100, width=100)"
   ]
  },
  {
   "cell_type": "code",
   "execution_count": null,
   "id": "ecfc3797-580f-44ca-aaf1-83ddfdb55997",
   "metadata": {},
   "outputs": [],
   "source": []
  }
 ],
 "metadata": {
  "author": "dieter.probst@gmail.com",
  "kernelspec": {
   "display_name": "Python 3 (ipykernel)",
   "language": "python",
   "name": "python3"
  },
  "language_info": {
   "codemirror_mode": {
    "name": "ipython",
    "version": 3
   },
   "file_extension": ".py",
   "mimetype": "text/x-python",
   "name": "python",
   "nbconvert_exporter": "python",
   "pygments_lexer": "ipython3",
   "version": "3.13.0"
  }
 },
 "nbformat": 4,
 "nbformat_minor": 5
}
