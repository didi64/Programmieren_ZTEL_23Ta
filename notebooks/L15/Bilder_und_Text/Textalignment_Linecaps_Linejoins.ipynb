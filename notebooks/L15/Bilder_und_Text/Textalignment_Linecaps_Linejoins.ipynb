{
 "cells": [
  {
   "cell_type": "markdown",
   "id": "0fe33ffe-ea44-4e86-822d-988c7c51b5ec",
   "metadata": {},
   "source": [
    "**Klicke**: Run -> Run All Cells"
   ]
  },
  {
   "cell_type": "markdown",
   "id": "675068d7-40e0-45d2-b2d5-1922b44a5cb7",
   "metadata": {},
   "source": [
    "### Textalignment, Line-Caps und Line-Joins \n",
    "(siehe auch Canvas-Doku, [Styles](https://ipycanvas.readthedocs.io/en/latest/styles_and_colors.html) und [Text](https://ipycanvas.readthedocs.io/en/latest/drawing_text.html)).\n",
    "Neben `line_width`, `stroke_style` und `fill_style` gibt es noch weitere Canvas-Attribute, welche die Darstellung von Linien und Text beeinflussen.\n",
    "\n",
    "- `font`: Legt den Font fest, z.B. `canvas.font = '15px serif'`.\n",
    "- `line_cap`: Bestimmt die Form der Linienenden, `'butt'`, `'round'` oder `'square'`. Default ist `'butt'`.\n",
    "- `line_join`: Bestimmt wie Linien aneinandergef&uuml;gt werden, \n",
    "`'miter'`, `'round'` oder `'bevel'`. Default ist `'miter'`.\n",
    "- ``text_baseline``: Bestimmt vertikales Aligment des Texts, \n",
    "`'alphabetic'`, `'bottom'`, `'hanging'`, `'ideographic'`, `'middle'` oder `'top'`. Default ist `'alphabetic'`.\n",
    "- `text_align`: Bestimmt horizontales Aligment des Texts,\n",
    "`'start'`, `'end'`, `'left'`, `'right'` oder `'center'`. Default ist `'start'`.\n",
    "- `global_alpha`: Wert zwischen 0 und 1. Default ist 1.  Bestimmt ob Farben transparent (0) oder deckend (1) sind."
   ]
  },
  {
   "cell_type": "markdown",
   "id": "6584fa10-fade-476e-bd00-64082c199004",
   "metadata": {},
   "source": [
    "***\n",
    "**Line-Caps**\n",
    "***"
   ]
  },
  {
   "cell_type": "code",
   "execution_count": null,
   "id": "d8795cc7-4f0d-4227-a98e-cbc3f415b27c",
   "metadata": {},
   "outputs": [],
   "source": [
    "from ipycanvas import Canvas\n",
    "from IPython.display import display\n",
    "\n",
    "\n",
    "canvas1 = Canvas(width=400, height=200,\n",
    "                 layout={'border': '2px solid black'}\n",
    "                 )\n",
    "display(canvas1)"
   ]
  },
  {
   "cell_type": "code",
   "execution_count": null,
   "id": "ff71c2d6-682b-4996-b7c6-555d594fe2ba",
   "metadata": {},
   "outputs": [],
   "source": [
    "# show default\n",
    "canvas1.line_cap"
   ]
  },
  {
   "cell_type": "code",
   "execution_count": null,
   "id": "ab28d270-94e7-471f-a535-473c1f57d2cd",
   "metadata": {
    "tags": []
   },
   "outputs": [],
   "source": [
    "# draw line caps\n",
    "linewidth = 30\n",
    "length = 75  # length o linesegment\n",
    "y_header = 30\n",
    "x0, y0 = (30, 100)  # upper left corner of first line segment\n",
    "dx = 120  # distance between linesegments\n",
    "dy = 50   # vertical distance of text\n",
    "\n",
    "linecaps = ['butt', 'round', 'square']\n",
    "\n",
    "attr_value = {'stroke_style': 'blue',\n",
    "              'fill_style': 'black',\n",
    "              'line_width': linewidth,\n",
    "              'font': '25px serif',\n",
    "              }\n",
    "\n",
    "\n",
    "canvas1.clear()\n",
    "# set canvas attributes\n",
    "for k, v in attr_value.items():\n",
    "    setattr(canvas1, k, v)\n",
    "\n",
    "canvas1.fill_text('canvas.line_cap = ...', x0 , y_header)\n",
    "\n",
    "# draw linesegments\n",
    "for i, linecap in enumerate(linecaps):\n",
    "    canvas1.line_cap = linecap\n",
    "    pts = [(x0 + i*dx, y0), (x0 + i*dx + length, y0)]\n",
    "\n",
    "    canvas1.stroke_lines(pts)\n",
    "    canvas1.fill_text(linecap, x0 + i*dx, y0 + dy)\n",
    "\n",
    "# draw border of linesegment without caps\n",
    "canvas1.stroke_style = 'black'\n",
    "canvas1.line_width = 2\n",
    "\n",
    "for i, _ in enumerate(linecaps):\n",
    "    canvas1.stroke_rect(x0 + i * dx, y0 - linewidth/2, length, linewidth)"
   ]
  },
  {
   "cell_type": "markdown",
   "id": "5814c39b-5d71-42c9-a12e-486ab90a05d8",
   "metadata": {},
   "source": [
    "***\n",
    "**Line-joins**\n",
    "***"
   ]
  },
  {
   "cell_type": "code",
   "execution_count": null,
   "id": "3599f66d-c91c-4015-bb20-324e2a3cd61e",
   "metadata": {},
   "outputs": [],
   "source": [
    "canvas2 = Canvas(width=400, height=250,\n",
    "                 layout={'border': '2px solid black'},\n",
    "                 )\n",
    "display(canvas2)"
   ]
  },
  {
   "cell_type": "code",
   "execution_count": null,
   "id": "5d24284b-573a-4493-8c18-62f7bc22517d",
   "metadata": {},
   "outputs": [],
   "source": [
    "# show default\n",
    "canvas2.line_join"
   ]
  },
  {
   "cell_type": "code",
   "execution_count": null,
   "id": "a578c9dd-d30d-4e67-bd60-f6768fd3c61d",
   "metadata": {
    "tags": []
   },
   "outputs": [],
   "source": [
    "# draw different line joins\n",
    "y_header = 30\n",
    "x0, y0 = (30, 80)\n",
    "dx = 50\n",
    "dy = 50\n",
    "linewidth = 30\n",
    "\n",
    "linejoins = ['miter', 'round', 'bevel']\n",
    "\n",
    "canvas2.fill_style = 'blue'\n",
    "canvas2.line_width = linewidth\n",
    "canvas2.font = '25px serif'\n",
    "\n",
    "\n",
    "canvas2.clear()\n",
    "canvas2.fill_text('canvas.line_join = ...', x0, y_header)\n",
    "for i, linejoin in enumerate(linejoins):\n",
    "    y = y0 + i * dy\n",
    "    canvas2.line_join = linejoin\n",
    "    canvas2.stroke_lines([(x0, y), (x0 + dx, y + 50), (x0 + 2*dx, y)])\n",
    "    canvas2.fill_circle(x0 + dx, y + 50, 2)\n",
    "    canvas2.fill_text(linejoin, x0 + 2*dx +50, y)"
   ]
  },
  {
   "cell_type": "markdown",
   "id": "e496d12a-d80b-4963-9c14-f425bfe533e0",
   "metadata": {},
   "source": [
    "***\n",
    "**Text: vertical alignment**\n",
    "***"
   ]
  },
  {
   "cell_type": "code",
   "execution_count": null,
   "id": "80d0a68c-b44a-4453-a160-6cd140fa835c",
   "metadata": {},
   "outputs": [],
   "source": [
    "canvas3 = Canvas(width=400, height=250,\n",
    "                 layout={'border': '2px solid black'}\n",
    "                 )\n",
    "display(canvas3)"
   ]
  },
  {
   "cell_type": "code",
   "execution_count": null,
   "id": "225ed973-abe3-4dc2-8a57-efd84df9aceb",
   "metadata": {},
   "outputs": [],
   "source": [
    "# show default\n",
    "canvas3.text_baseline"
   ]
  },
  {
   "cell_type": "code",
   "execution_count": null,
   "id": "332444f9-d087-460a-ad52-ccdb3bfefd38",
   "metadata": {
    "tags": []
   },
   "outputs": [],
   "source": [
    "# text_baseline\n",
    "y_header = 30\n",
    "x0, y0 = (20, 80)\n",
    "dy = 50\n",
    "font_size = 25\n",
    "baselines = ['alphabetic', 'bottom', 'hanging', 'ideographic', 'middle', 'top']\n",
    "\n",
    "canvas3.stroke_style = 'blue'\n",
    "canvas3.line_width = 2\n",
    "canvas3.font = '{}px serif'.format(font_size)\n",
    "\n",
    "canvas3.clear()\n",
    "canvas3.fill_text('canvas.text_baseline= ...', x0, y_header)\n",
    "\n",
    "# draw blue baseline\n",
    "canvas3.stroke_lines([(0, y0), (canvas3.width, y0)])\n",
    "canvas3.stroke_style = 'red'\n",
    "\n",
    "# draw red lines one font_size above and below\n",
    "canvas3.stroke_lines([(0, y0 + font_size), (canvas3.width, y0 + font_size)])\n",
    "canvas3.stroke_lines([(0, y0 - font_size), (canvas3.width, y0 - font_size)])\n",
    "\n",
    "# add text\n",
    "for i, baseline in enumerate(baselines):\n",
    "    canvas3.text_baseline = baseline\n",
    "    canvas3.fill_text('Ape', x0 + i * dy, y0)\n",
    "\n",
    "# add labels\n",
    "canvas3.font = '15px serif'\n",
    "for i, baseline in enumerate(baselines):\n",
    "    canvas3.fill_text(baseline, x0 + i*dy, y0 + dy + (i % 2) * dy)"
   ]
  },
  {
   "cell_type": "markdown",
   "id": "681a77fa-a871-4a0f-b4bc-046e02400929",
   "metadata": {},
   "source": [
    "***\n",
    "**Text: horizontal alignment**  \n",
    "`canvas.text_align = ...`\n",
    "***"
   ]
  },
  {
   "cell_type": "code",
   "execution_count": null,
   "id": "aed7d129-01d8-4414-a953-41d5a5a303b3",
   "metadata": {},
   "outputs": [],
   "source": [
    "canvas4 = Canvas(width=400, height=200,\n",
    "                 layout={'border': '2px solid black'}\n",
    "                 )\n",
    "display(canvas4)"
   ]
  },
  {
   "cell_type": "code",
   "execution_count": null,
   "id": "c9619aad-0036-481d-972f-21ebc1cdf508",
   "metadata": {},
   "outputs": [],
   "source": [
    "# show default\n",
    "canvas4.text_align"
   ]
  },
  {
   "cell_type": "code",
   "execution_count": null,
   "id": "52b69cc4-22e9-480d-b5cb-8c67115607a5",
   "metadata": {},
   "outputs": [],
   "source": [
    "# text_align\n",
    "x0, y0 = (200, 20)\n",
    "dy = 40\n",
    "text_aligns = ['start', 'end', 'left', 'right', 'center']\n",
    "\n",
    "canvas4.text_baseline = 'alphabetic'\n",
    "canvas4.font = '25px serif'\n",
    "\n",
    "\n",
    "canvas4.clear()\n",
    "canvas4.stroke_lines([(x0, 0), (x0, canvas4.height)])\n",
    "\n",
    "for i, text_align in enumerate(text_aligns):\n",
    "    canvas4.text_align = text_align\n",
    "    canvas4.fill_text(text_align, x0, y0 + i * dy)"
   ]
  },
  {
   "cell_type": "markdown",
   "id": "3b083a47-02bf-4bb5-9243-628854fb565c",
   "metadata": {},
   "source": [
    "***\n",
    "**global alpha**  \n",
    "`canvas.global_alpha = ...`\n",
    "***"
   ]
  },
  {
   "cell_type": "code",
   "execution_count": null,
   "id": "66375316-80a7-4683-8c38-ae70b08f8a9d",
   "metadata": {},
   "outputs": [],
   "source": [
    "canvas5 = Canvas(width=400, height=200,\n",
    "                 layout={'border': '2px solid black'}\n",
    "                 )\n",
    "display(canvas5)"
   ]
  },
  {
   "cell_type": "code",
   "execution_count": null,
   "id": "38eebac0-d43f-4f45-9f22-8677f7a11fb0",
   "metadata": {},
   "outputs": [],
   "source": [
    "# show default\n",
    "canvas5.global_alpha"
   ]
  },
  {
   "cell_type": "code",
   "execution_count": null,
   "id": "1574fc6c-b7a2-4dd8-ba2c-71913d1d05d5",
   "metadata": {},
   "outputs": [],
   "source": [
    "# global_alpha\n",
    "colors = ['red', 'orange', 'yellow']\n",
    "N = len(colors)\n",
    "global_alphas = [0.3, 0.6]\n",
    "\n",
    "xs = [50, 250]\n",
    "label_heights = [100, 150]\n",
    "width = 120\n",
    "\n",
    "\n",
    "canvas5.clear()\n",
    "# stack rectangles\n",
    "for x, global_alpha in zip(xs, global_alphas):\n",
    "    canvas5.global_alpha = global_alpha\n",
    "    for i, color in enumerate(colors):\n",
    "        canvas5.fill_style = color\n",
    "        y = (i/3) * canvas5.height\n",
    "        width = (N-i)/N * width\n",
    "        height = (N-i)/N * canvas5.height\n",
    "        canvas5.fill_rect(x, y, width, height)\n",
    "\n",
    "# add labels\n",
    "canvas5.global_alpha = 1\n",
    "canvas5.fill_style = 'black'\n",
    "for x, global_alpha in zip(xs, global_alphas):\n",
    "    canvas5.fill_text('global_alpha={}'.format(global_alpha), x, label_heights[0])\n",
    "    canvas5.fill_text('gelb auf orange auf rot', x, label_heights[1])"
   ]
  },
  {
   "cell_type": "code",
   "execution_count": null,
   "id": "cd154bd3-f524-4fa6-925f-f818d3e916e7",
   "metadata": {},
   "outputs": [],
   "source": []
  }
 ],
 "metadata": {
  "author": "dieter.probst@gmail.com",
  "kernelspec": {
   "display_name": "Python 3 (ipykernel)",
   "language": "python",
   "name": "python3"
  },
  "language_info": {
   "codemirror_mode": {
    "name": "ipython",
    "version": 3
   },
   "file_extension": ".py",
   "mimetype": "text/x-python",
   "name": "python",
   "nbconvert_exporter": "python",
   "pygments_lexer": "ipython3",
   "version": "3.13.0"
  }
 },
 "nbformat": 4,
 "nbformat_minor": 5
}
