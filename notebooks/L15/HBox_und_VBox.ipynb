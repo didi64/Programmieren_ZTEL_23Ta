{
 "cells": [
  {
   "cell_type": "markdown",
   "id": "07fe34f9-d987-4644-80a1-b7ebc00fd612",
   "metadata": {},
   "source": [
    "### HBox und VBox\n",
    "Die Widgets HBox und VBox sind Container-Widgets, die\n",
    "andere Widgets enthalten k&ouml;nnen (auch HBoxes und VBoxes). \n",
    "Siehe auch [hier](https://ipywidgets.readthedocs.io/en/stable/examples/Widget%20List.html#hbox).\n",
    "\n",
    "Mit HBox und VBox l&auml;sst sich das Layout einer simplen Applikation auf einfache Weise gestalten.\n",
    "\n",
    "\n",
    "Nachstehend platzieren wir einmal 3 Buttons **&uuml;ber** einem Output-Widget (das &uuml;ber einem\n",
    "anderen Output-Widget liegt), und einmal 3 Buttons **neben** einem Output-Widget."
   ]
  },
  {
   "cell_type": "code",
   "execution_count": null,
   "id": "77425501-2cb0-4a9f-8d58-ad9fc35e05b6",
   "metadata": {},
   "outputs": [],
   "source": [
    "from ipywidgets import  VBox, HBox\n",
    "from widgets_helpers import new_button, new_output\n",
    "from IPython.display import display\n",
    "\n",
    "\n",
    "err_out = new_output()\n",
    "out = new_output(layout={'border': '1px solid blue', 'height': '200px'})\n",
    "\n",
    "button_1 = new_button(description='Action 1')\n",
    "button_2 = new_button(description='Action 2')\n",
    "button_3 = new_button(description='clear')\n",
    "\n",
    "# Buttons uebereinander stapeln\n",
    "buttons_h = HBox(children=[button_1, button_2, button_3])\n",
    "\n",
    "# Buttons nebeneinander legen\n",
    "buttons_v = VBox(children=[button_1, button_2, button_3])\n",
    "\n",
    "@err_out.capture()\n",
    "def action1(bt):\n",
    "    with out:\n",
    "        print('Action 1')\n",
    "\n",
    "\n",
    "@err_out.capture()\n",
    "def action2(bt):\n",
    "    with out:\n",
    "        print('Action 2')\n",
    "\n",
    "\n",
    "@err_out.capture()\n",
    "def action3(bt):\n",
    "    out.clear_output()\n",
    "\n",
    "\n",
    "button_1.on_click(action1)\n",
    "button_2.on_click(action2)\n",
    "button_3.on_click(action3)\n",
    "\n",
    "\n",
    "display(buttons, out, err_out)"
   ]
  },
  {
   "cell_type": "code",
   "execution_count": null,
   "id": "ff2ff2d3-de9c-46e0-a68a-31848eeefb31",
   "metadata": {},
   "outputs": [],
   "source": [
    "app = HBox(children=[buttons_v, out])\n",
    "display(app, err_out)"
   ]
  },
  {
   "cell_type": "code",
   "execution_count": null,
   "id": "ede30deb-8254-4b35-ab13-eebb60eb6c38",
   "metadata": {},
   "outputs": [],
   "source": []
  }
 ],
 "metadata": {
  "author": "dieter.probst@gmail.com",
  "kernelspec": {
   "display_name": "Python 3 (ipykernel)",
   "language": "python",
   "name": "python3"
  },
  "language_info": {
   "codemirror_mode": {
    "name": "ipython",
    "version": 3
   },
   "file_extension": ".py",
   "mimetype": "text/x-python",
   "name": "python",
   "nbconvert_exporter": "python",
   "pygments_lexer": "ipython3",
   "version": "3.13.0"
  }
 },
 "nbformat": 4,
 "nbformat_minor": 5
}
