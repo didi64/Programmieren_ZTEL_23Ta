{
 "cells": [
  {
   "cell_type": "markdown",
   "id": "5864b4c9-889c-4a1b-a794-9162dc23cdff",
   "metadata": {},
   "source": [
    "### N&auml;chster Punkt finden\n",
    "Gegeben seien x- und y-Koordinate einer Punktes `pt = (0, 6)` und eine Liste `pts` mit Punkten,  \n",
    "`pts = [(0, 0), (0, 5), (0, 10)]`.  \n",
    "Finde den Punkt in `pts`, der am n&auml;chsten bei `pt` liegt.  \n",
    "\n",
    "1. Erstelle eine Liste mit Paaren der Form `(dist, idx)`,\n",
    "   wobei `idx` der Index eines Punktes in der Liste ist und `dist` die Distanz von diesem Punkt zum Punkt `pt`.  \n",
    "   Z.B. `dist_idx = [(6, 0), (1, 1), (4, 2)]` \n",
    "1. Finde mit  `min(dist_idx)` das kleinste Tuple dieser Liste (das Tuple `(1, 1)`).  \n",
    "   Tuple werden in erster Priorit&auml;t nach dem ersten Element (hier die Distanz) sortiert.\n",
    "1. Das zweite Element dieses Tupels ist der Index des gesuchten Punktes.\n",
    "   Also der Punkt `pts[1]`, bez. `(0, 5)`.\n",
    "\n",
    "Oft d&uuml;nnt man die Liste `dist_idx` aus und beh&auml;lt nur Punkte, welche im Umkreis einer Distanz `err` von `pt` liegen.\n"
   ]
  },
  {
   "cell_type": "code",
   "execution_count": null,
   "id": "e9c2cfbc-3f30-4f3a-ac72-5d6d2d1bac17",
   "metadata": {},
   "outputs": [],
   "source": [
    "#%%file get_closest.py\n",
    "def distance(p, q):\n",
    "    return ((p[0] - q[0])**2 + (p[1] - q[1])**2)**0.5\n",
    "\n",
    "\n",
    "def get_closest(pts, pt0, err=10):\n",
    "    dist_idx = []\n",
    "    for i, pt in enumerate(pts):\n",
    "        dist = distance(pt, pt0)\n",
    "        if dist < err:\n",
    "            dist_idx.append((dist, i))\n",
    "\n",
    "    dist, idx = min(dist_idx, default=(None, None))\n",
    "    return idx"
   ]
  },
  {
   "cell_type": "code",
   "execution_count": null,
   "id": "6c791b9c-23f4-418d-8b61-7b53f1163798",
   "metadata": {},
   "outputs": [],
   "source": [
    "pts = [(0, 0), (0, 5), (0, 10)]\n",
    "pt = (0, 6)\n",
    "idx = get_closest(pts, pt, err=2)\n",
    "pts[idx]"
   ]
  },
  {
   "cell_type": "markdown",
   "id": "f7181a92-57cc-4f63-9ab0-7a0696e80000",
   "metadata": {},
   "source": [
    "### Anwendung: Steine auf Leinwand setzen und verschieben\n",
    "Siehe auch `MoveStone.ipynb`"
   ]
  },
  {
   "cell_type": "code",
   "execution_count": null,
   "id": "7a761319-6c8b-4f20-bd77-44c37994b607",
   "metadata": {},
   "outputs": [],
   "source": [
    "def place_stone(canvas, idx, color='black'):\n",
    "    x, y = pts[idx]\n",
    "    canvas.fill_style = color\n",
    "    canvas.fill_circle(x, y, radius)\n",
    "\n",
    "\n",
    "def remove_stone(canvas, idx):\n",
    "    x, y = pts[idx]\n",
    "    canvas.clear_rect(x-radius-0.5, y-radius-0.5, 2*radius+1)\n",
    "\n",
    "\n",
    "def move_stone(canvas, src, target, color='black'):\n",
    "    remove_stone(canvas, src)\n",
    "    place_stone(canvas, target, color)"
   ]
  },
  {
   "cell_type": "code",
   "execution_count": null,
   "id": "8cd0c2d0-33bd-4dfc-90ff-572c4f960ddd",
   "metadata": {},
   "outputs": [],
   "source": [
    "from widgets_helpers import new_output\n",
    "\n",
    "\n",
    "clicked_point = idx\n",
    "err_out = new_output()\n",
    "\n",
    "\n",
    "@err_out.capture()\n",
    "def on_mouse_down(x, y, canvas):\n",
    "    global clicked_point\n",
    "    idx = get_closest(pts, (x, y))\n",
    "    if idx is not None:\n",
    "        clicked_point = idx\n",
    "        place_stone(canvas, idx, colors[idx])\n",
    "\n",
    "\n",
    "@err_out.capture()\n",
    "def on_mouse_up(x, y, canvas):\n",
    "    global clicked_point\n",
    "    if clicked_point is None:\n",
    "        return\n",
    "    target = get_closest(pts, (x, y))\n",
    "    if target is not None:\n",
    "        move_stone(canvas, clicked_point, target, colors[target])\n",
    "        clicked_point = None"
   ]
  },
  {
   "cell_type": "code",
   "execution_count": null,
   "id": "4139cffb-1218-405e-a5d3-28d4ac9b4eda",
   "metadata": {},
   "outputs": [],
   "source": [
    "from widgets_helpers import new_mcanvas\n",
    "from IPython.display import display\n",
    "\n",
    "\n",
    "pts = [(180, 100), (140, 30), (60, 30), (20, 100), (60, 170), (140, 170)]\n",
    "colors = ['LightSalmon', 'Salmon', 'Red', 'Crimson', 'FireBrick', 'DarkRed']\n",
    "radius = 10\n",
    "\n",
    "\n",
    "mcanvas = new_mcanvas(2, width=200, height=200)\n",
    "bg, fg = mcanvas\n",
    "\n",
    "mcanvas.on_mouse_down(lambda x, y, canvas=fg: on_mouse_down(x, y, canvas))\n",
    "mcanvas.on_mouse_up(lambda x, y, canvas=fg: on_mouse_up(x, y, canvas))\n",
    "\n",
    "\n",
    "for pt in pts:\n",
    "    bg.fill_style = 'blue'\n",
    "    bg.fill_circle(*pt, 3)\n",
    "\n",
    "display(mcanvas, err_out)"
   ]
  },
  {
   "cell_type": "code",
   "execution_count": null,
   "id": "c8128073-6e6c-42b5-aebc-5e3787dbd331",
   "metadata": {},
   "outputs": [],
   "source": []
  },
  {
   "cell_type": "code",
   "execution_count": null,
   "id": "f6fd8eb9-096c-418c-a01f-2e4241f2feeb",
   "metadata": {},
   "outputs": [],
   "source": []
  }
 ],
 "metadata": {
  "author": "dieter.probst@gmail.com",
  "kernelspec": {
   "display_name": "Python 3 (ipykernel)",
   "language": "python",
   "name": "python3"
  },
  "language_info": {
   "codemirror_mode": {
    "name": "ipython",
    "version": 3
   },
   "file_extension": ".py",
   "mimetype": "text/x-python",
   "name": "python",
   "nbconvert_exporter": "python",
   "pygments_lexer": "ipython3",
   "version": "3.13.0"
  }
 },
 "nbformat": 4,
 "nbformat_minor": 5
}
