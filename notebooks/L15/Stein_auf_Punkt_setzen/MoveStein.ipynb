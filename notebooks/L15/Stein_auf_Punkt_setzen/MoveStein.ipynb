{
 "cells": [
  {
   "cell_type": "markdown",
   "id": "fe6ecd52-d4b8-4f2a-85ef-c1522fc52dbe",
   "metadata": {},
   "source": [
    "### Die Klasse Game\n",
    "Ein Stein kann auf einem der drei Positionen 0, 1 oder 2 liegen.\n",
    "Der Spielzustand wird durch eine Zahl repr&auml;sentiert, die Position auf welcher der Stein liegt.\n",
    "- `new_game()` legt den Stein auf Position 0,\n",
    "- `move(<target>)` verschiebt den Stein auf Position `<target>`."
   ]
  },
  {
   "cell_type": "code",
   "execution_count": 33,
   "id": "3689fcab-6d09-4dfb-8bd6-8ceceb3a13e5",
   "metadata": {},
   "outputs": [],
   "source": [
    "class Game:\n",
    "\n",
    "    positions = (0, 1, 2)\n",
    "\n",
    "    def __init__(self):\n",
    "        self.position = None\n",
    "        self.event_handler = print\n",
    "\n",
    "    def new_game(self):\n",
    "        self.position = 0\n",
    "        self.event_handler('new_game', self.position)\n",
    "\n",
    "    def move(self, target):\n",
    "        if target in self.positions and self.position != target:\n",
    "            self.position = target\n",
    "            self.event_handler('move_stone', target)\n",
    "\n",
    "    def __repr__(self):\n",
    "        return str(self.position)"
   ]
  },
  {
   "cell_type": "code",
   "execution_count": 34,
   "id": "21ad70c4-03ad-49bc-99d3-e9717f2b9dc3",
   "metadata": {},
   "outputs": [
    {
     "data": {
      "text/plain": [
       "None"
      ]
     },
     "execution_count": 34,
     "metadata": {},
     "output_type": "execute_result"
    }
   ],
   "source": [
    "game = Game()\n",
    "game"
   ]
  },
  {
   "cell_type": "code",
   "execution_count": 35,
   "id": "605f9e2a-0c56-4f3f-9d29-cbea6f1eddd8",
   "metadata": {},
   "outputs": [
    {
     "name": "stdout",
     "output_type": "stream",
     "text": [
      "new_game 0\n"
     ]
    },
    {
     "data": {
      "text/plain": [
       "0"
      ]
     },
     "execution_count": 35,
     "metadata": {},
     "output_type": "execute_result"
    }
   ],
   "source": [
    "game.new_game()\n",
    "game"
   ]
  },
  {
   "cell_type": "code",
   "execution_count": 36,
   "id": "b40b4c93-26f5-407f-b4ce-965557ac75a1",
   "metadata": {},
   "outputs": [
    {
     "data": {
      "text/plain": [
       "0"
      ]
     },
     "execution_count": 36,
     "metadata": {},
     "output_type": "execute_result"
    }
   ],
   "source": [
    "game.move(4)\n",
    "game"
   ]
  },
  {
   "cell_type": "markdown",
   "id": "a2c0ec6a-ea3a-4d45-8f77-84eb28a65e09",
   "metadata": {},
   "source": [
    "### Die Klasse View\n",
    "Der Spielzustand wird dargestellt, indem\n",
    "auf der Leinwand der Stein an einer der Positionen\n",
    "> `[(20, 40), (50, 50), (80, 50)]`\n",
    "\n",
    "gezeichnet wird.\n",
    "Diese Positionen sind durch kleine blaue Kreise markiert.\n",
    "\n",
    "Die Methode `event_handler(event, idx)` aktuallisiert den Spielzustand.\n",
    "Ist `event` gleich `'new game'` wird der Text 'New Game' angezeigt, \n",
    "sonst (falls  `event` gleich `'move'` ist) wird der Stein an der\n",
    "Position `idx` gezeichnet.  \n",
    "\n",
    "Ein View-Object wird mit dem Aufruf `View(game)` erstellt, wobei `game` ein Game-Objekt ist.\n",
    "Die `init`-Methode der View setzt `game.event_handler` gleich\n",
    "der Methode `event_handler` der View, welche den\n",
    "Spielzustand auf der Leinwand aktuallisiert."
   ]
  },
  {
   "cell_type": "code",
   "execution_count": 37,
   "id": "ab39b2a6-5834-4553-8ff5-9fbb0c18f4ae",
   "metadata": {},
   "outputs": [],
   "source": [
    "import widgets_helpers\n",
    "from IPython.display import display\n",
    "\n",
    "\n",
    "class View:\n",
    "    positions = [(20, 40), (50, 50), (80, 50)]\n",
    "    pt_size = 2\n",
    "    stone_size = 10\n",
    "\n",
    "    def __init__(self, game):\n",
    "        game.event_handler = self.event_handler\n",
    "\n",
    "        self.mcanvas = widgets_helpers.new_mcanvas(2, 100, 100)\n",
    "        self.bg, self.fg = self.mcanvas\n",
    "        self.fg.fill_style = 'blue'\n",
    "        for x, y in self.positions:\n",
    "            self.bg.fill_circle(x, y, self.pt_size)\n",
    "\n",
    "    def place_stone(self, idx):\n",
    "        self.fg.clear()\n",
    "        x, y = self.positions[idx]\n",
    "        self.fg.fill_circle(x, y, self.stone_size)\n",
    "\n",
    "    def event_handler(self, event, idx):\n",
    "        self.fg.clear()\n",
    "        self.place_stone(idx)\n",
    "        if event == 'new_game':\n",
    "            self.fg.fill_text('New Game', 20, 20)\n",
    "\n",
    "    def _ipython_display_(self):\n",
    "        display(self.mcanvas)"
   ]
  },
  {
   "cell_type": "code",
   "execution_count": 38,
   "id": "b6c2545e-32f9-4c86-8293-6e50f2fa87fb",
   "metadata": {},
   "outputs": [
    {
     "data": {
      "application/vnd.jupyter.widget-view+json": {
       "model_id": "82f63cd72226473c8967003b674ed476",
       "version_major": 2,
       "version_minor": 0
      },
      "text/plain": [
       "MultiCanvas(height=100, layout=Layout(border_bottom='1px solid black', border_left='1px solid black', border_r…"
      ]
     },
     "metadata": {},
     "output_type": "display_data"
    }
   ],
   "source": [
    "view = View(game)\n",
    "view"
   ]
  },
  {
   "cell_type": "code",
   "execution_count": null,
   "id": "f49653ca-2329-464b-b1c4-69db986e4fcc",
   "metadata": {},
   "outputs": [],
   "source": []
  },
  {
   "cell_type": "code",
   "execution_count": 44,
   "id": "56e05680-487a-47e6-8bee-555d3f784481",
   "metadata": {},
   "outputs": [],
   "source": [
    "# Methode place_stone testen\n",
    "view.place_stone(1)"
   ]
  },
  {
   "cell_type": "code",
   "execution_count": 45,
   "id": "d285397f-754b-4cbd-a3d3-fe73919166ab",
   "metadata": {},
   "outputs": [],
   "source": [
    "# da game.event_handler nun view.event_handler ist,\n",
    "# wird der Spielzustand auf der Leinwand aktuallisiert\n",
    "game.new_game()"
   ]
  },
  {
   "cell_type": "code",
   "execution_count": 46,
   "id": "8a2907fe-ffac-48d4-a672-fa2029df36c0",
   "metadata": {},
   "outputs": [],
   "source": [
    "game.move(2)"
   ]
  },
  {
   "cell_type": "code",
   "execution_count": null,
   "id": "26a96fb8-6a24-43ae-a99b-b0753f5d3f70",
   "metadata": {},
   "outputs": [],
   "source": []
  },
  {
   "cell_type": "markdown",
   "id": "99e2da5b-cb8f-4f6e-ba38-6646f5aa8c9b",
   "metadata": {},
   "source": [
    "### Die Klasse Controller\n",
    "Der Controller benutzt die Leinwand der View um auf Tastendr&uuml;cke und\n",
    "Mausklicks zu h&ouml;ren.  \n",
    "Ein Controller-Objekt wird mit dem Aufruf `Controller(game, view)` erstellt, wobei\n",
    "`game` und `view` Game- bez View-Objekte sind.\n",
    "\n",
    "\n",
    "- Wird 'n' gedr&uuml;ckt, wird `game.new_game()` aufgerufen.\n",
    "- Wird auf die Leinwand geklickt, so wird geschaut, ob blaue Punkte in der N&auml;he liegen, und\n",
    "  gegebenenfalls auf dem n&auml;chsten Punkt ein Stein platziert. "
   ]
  },
  {
   "cell_type": "code",
   "execution_count": 55,
   "id": "f0f663d6-d518-465a-938d-de622586b615",
   "metadata": {},
   "outputs": [],
   "source": [
    "from get_closest import get_closest\n",
    "\n",
    "\n",
    "class Controller:\n",
    "    err_out = widgets_helpers.new_output()\n",
    "\n",
    "    def __init__(self, game, view):\n",
    "        self.game = game\n",
    "\n",
    "        self.view = view\n",
    "        self.canvas = view.mcanvas\n",
    "        self.canvas.on_key_down(self.on_key_down)\n",
    "        self.canvas.on_mouse_down(self.on_mouse_down)\n",
    "\n",
    "    @err_out.capture()\n",
    "    def on_key_down(self, key, *flags):\n",
    "        if key == 'n':\n",
    "            self.game.new_game()\n",
    "\n",
    "    @err_out.capture()\n",
    "    def on_mouse_down(self, x, y):\n",
    "        idx = get_closest(self.view.positions, (x, y), err=10)\n",
    "        if idx is not None and idx != self.game.position:\n",
    "            self.game.move(idx)\n",
    "\n",
    "    def _ipython_display_(self):\n",
    "        display(self.view, self.err_out)"
   ]
  },
  {
   "cell_type": "code",
   "execution_count": 56,
   "id": "ad8b365a-f190-4a56-8d8f-492a91755c27",
   "metadata": {},
   "outputs": [
    {
     "data": {
      "application/vnd.jupyter.widget-view+json": {
       "model_id": "82f63cd72226473c8967003b674ed476",
       "version_major": 2,
       "version_minor": 0
      },
      "text/plain": [
       "MultiCanvas(height=100, layout=Layout(border_bottom='1px solid black', border_left='1px solid black', border_r…"
      ]
     },
     "metadata": {},
     "output_type": "display_data"
    },
    {
     "data": {
      "application/vnd.jupyter.widget-view+json": {
       "model_id": "306f81ad8f10446dbfd5ac071d964371",
       "version_major": 2,
       "version_minor": 0
      },
      "text/plain": [
       "Output(layout=Layout(border_bottom='1px solid black', border_left='1px solid black', border_right='1px solid b…"
      ]
     },
     "metadata": {},
     "output_type": "display_data"
    }
   ],
   "source": [
    "controller = Controller(game, view)\n",
    "controller"
   ]
  },
  {
   "cell_type": "code",
   "execution_count": null,
   "id": "b266a168-2898-4e07-b4dd-b18f5c0eb95c",
   "metadata": {},
   "outputs": [],
   "source": []
  }
 ],
 "metadata": {
  "kernelspec": {
   "display_name": "Python 3 (ipykernel)",
   "language": "python",
   "name": "python3"
  },
  "language_info": {
   "codemirror_mode": {
    "name": "ipython",
    "version": 3
   },
   "file_extension": ".py",
   "mimetype": "text/x-python",
   "name": "python",
   "nbconvert_exporter": "python",
   "pygments_lexer": "ipython3",
   "version": "3.13.0"
  }
 },
 "nbformat": 4,
 "nbformat_minor": 5
}
