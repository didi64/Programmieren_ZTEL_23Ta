{
 "cells": [
  {
   "cell_type": "code",
   "execution_count": null,
   "id": "e9fa28a7-e7f1-43ff-abd0-509c1f7086da",
   "metadata": {},
   "outputs": [],
   "source": []
  },
  {
   "cell_type": "code",
   "execution_count": 9,
   "id": "ca6e2a34-e57d-49da-84d5-29897320e306",
   "metadata": {},
   "outputs": [],
   "source": [
    "import warnings\n",
    "from IPython.display import display\n",
    "from ipywidgets import Text\n",
    "from widgets_helpers import new_output\n",
    "\n",
    "\n",
    "class TextController:\n",
    "    err_out = new_output()\n",
    "\n",
    "    def __init__(self, game, prompt='Your move: '):\n",
    "        self.game = game\n",
    "        self.prompt = prompt\n",
    "        self.text = Text(value=prompt)\n",
    "        self.text.on_submit(self.on_press_enter)\n",
    "\n",
    "    @err_out.capture()\n",
    "    def on_press_enter(self, text):\n",
    "        value = self.text.value.removeprefix(self.prompt)\n",
    "        if value == 'c':\n",
    "            self.err_out.clear_output()\n",
    "        if value == 's':\n",
    "            self.game.event_handler('show state', self.game.stacks)\n",
    "        if value == 'n':\n",
    "            self.game.new_game()\n",
    "        if len(value) == 2 and value.isdigit():\n",
    "            src, dst = (int(s)-1 for s in value)\n",
    "            self.game.move_disk(src, dst)\n",
    "        self.text.value = self.prompt\n",
    "\n",
    "    def _ipython_display_(self):\n",
    "        display(self.text, self.err_out)\n",
    "\n",
    "\n",
    "warnings.filterwarnings('ignore', category=DeprecationWarning)"
   ]
  },
  {
   "cell_type": "code",
   "execution_count": 10,
   "id": "0d1c22ae-a92d-4ea3-85dc-7d968f621c91",
   "metadata": {},
   "outputs": [],
   "source": [
    "from game import Game"
   ]
  },
  {
   "cell_type": "code",
   "execution_count": 11,
   "id": "f2c95a07-f44a-40c1-9a10-bb968b9bd444",
   "metadata": {},
   "outputs": [],
   "source": [
    "game = Game()"
   ]
  },
  {
   "cell_type": "code",
   "execution_count": 12,
   "id": "e1861974-5fc0-4d43-b4a8-a222150f4335",
   "metadata": {},
   "outputs": [
    {
     "data": {
      "application/vnd.jupyter.widget-view+json": {
       "model_id": "9f15e943a52f4aebbaad05476279fa44",
       "version_major": 2,
       "version_minor": 0
      },
      "text/plain": [
       "Text(value='Your move: ')"
      ]
     },
     "metadata": {},
     "output_type": "display_data"
    },
    {
     "data": {
      "application/vnd.jupyter.widget-view+json": {
       "model_id": "84a2b29bdff34c0facd038262698633a",
       "version_major": 2,
       "version_minor": 0
      },
      "text/plain": [
       "Output(layout=Layout(border_bottom='1px solid black', border_left='1px solid black', border_right='1px solid b…"
      ]
     },
     "metadata": {},
     "output_type": "display_data"
    }
   ],
   "source": [
    "controller = TextController(game)\n",
    "controller"
   ]
  },
  {
   "cell_type": "code",
   "execution_count": 13,
   "id": "cd1ad27d-23c4-4375-9269-8aeb1f481b69",
   "metadata": {},
   "outputs": [
    {
     "data": {
      "application/vnd.jupyter.widget-view+json": {
       "model_id": "ac97c57575144c54a183a8ea81f13738",
       "version_major": 2,
       "version_minor": 0
      },
      "text/plain": [
       "Canvas(height=200, layout=Layout(border_bottom='1px solid black', border_left='1px solid black', border_right=…"
      ]
     },
     "metadata": {},
     "output_type": "display_data"
    }
   ],
   "source": [
    "from view import CanvasView\n",
    "\n",
    "\n",
    "view = CanvasView(game)\n",
    "view"
   ]
  },
  {
   "cell_type": "code",
   "execution_count": 30,
   "id": "ae8a90d3-dfb6-473b-8043-5b0265b68c67",
   "metadata": {},
   "outputs": [],
   "source": [
    "game.new_game()"
   ]
  },
  {
   "cell_type": "code",
   "execution_count": 20,
   "id": "b9eb1893-14ba-481a-af2f-867adab1ee30",
   "metadata": {},
   "outputs": [],
   "source": [
    "game.move_disk(0, 1)"
   ]
  },
  {
   "cell_type": "code",
   "execution_count": 21,
   "id": "69456309-6f5c-4295-af0c-1c90a341863e",
   "metadata": {},
   "outputs": [],
   "source": [
    "def show_stacks(stacks):\n",
    "    lines = []\n",
    "    for h in range(game.ndisks):\n",
    "        line = ''.join(' '*7 if len(stack) <= h else f'{'*' * (2*stack[h]+1):^7}'\n",
    "                       for stack in stacks)\n",
    "        lines.append(line)\n",
    "    print('\\n'.join(lines[::-1]))"
   ]
  },
  {
   "cell_type": "code",
   "execution_count": 27,
   "id": "a6416d67-6175-4e3c-a504-c9675b3ddf36",
   "metadata": {},
   "outputs": [
    {
     "name": "stdout",
     "output_type": "stream",
     "text": [
      "   *                 \n",
      "  ***                \n",
      " *****    *          \n",
      "*******  ***     *   \n"
     ]
    }
   ],
   "source": [
    "stacks = [[3, 2, 1, 0], [1,0], [0]]\n",
    "show_stacks(stacks)"
   ]
  },
  {
   "cell_type": "code",
   "execution_count": 28,
   "id": "e632cba5-776f-4ccf-ba55-19407c1a7c8c",
   "metadata": {},
   "outputs": [],
   "source": [
    "from widgets_helpers import new_output\n",
    "\n",
    "\n",
    "class TextView:\n",
    "    def __init__(self, game, debug=True):\n",
    "        self.game = game\n",
    "        self.out = new_output()\n",
    "        self.game.event_handler = self.callback\n",
    "\n",
    "    def print_stacks(self, event, stacks):\n",
    "        self.out.clear_output()\n",
    "        with self.out:\n",
    "            lines = []\n",
    "            for h in range(self.game.ndisks):\n",
    "                line = ''.join(' '*7 if len(stack) <= h else f'{'*' * (2*stack[h]+1):^7}'\n",
    "                               for stack in stacks)\n",
    "                lines.append(line)\n",
    "            print('\\n'.join(lines[::-1]))\n",
    "\n",
    "    def callback(self, event, data):\n",
    "        self.print_stacks(event, data)\n",
    "\n",
    "    def _ipython_display_(self):\n",
    "        display(self.out)"
   ]
  },
  {
   "cell_type": "code",
   "execution_count": 29,
   "id": "5d8e715c-49b7-4106-b161-9c528d4c1553",
   "metadata": {},
   "outputs": [
    {
     "data": {
      "application/vnd.jupyter.widget-view+json": {
       "model_id": "ff8aaf3894df4baa8aded543e8642d26",
       "version_major": 2,
       "version_minor": 0
      },
      "text/plain": [
       "Output(layout=Layout(border_bottom='1px solid black', border_left='1px solid black', border_right='1px solid b…"
      ]
     },
     "metadata": {},
     "output_type": "display_data"
    },
    {
     "data": {
      "application/vnd.jupyter.widget-view+json": {
       "model_id": "d26577d972bc439aaf5c35ce056c08c8",
       "version_major": 2,
       "version_minor": 0
      },
      "text/plain": [
       "Text(value='Your move: ')"
      ]
     },
     "metadata": {},
     "output_type": "display_data"
    },
    {
     "data": {
      "application/vnd.jupyter.widget-view+json": {
       "model_id": "84a2b29bdff34c0facd038262698633a",
       "version_major": 2,
       "version_minor": 0
      },
      "text/plain": [
       "Output(layout=Layout(border_bottom='1px solid black', border_left='1px solid black', border_right='1px solid b…"
      ]
     },
     "metadata": {},
     "output_type": "display_data"
    }
   ],
   "source": [
    "textview = TextView(game)\n",
    "controller = TextController(game)\n",
    "display(textview, controller)"
   ]
  },
  {
   "cell_type": "code",
   "execution_count": null,
   "id": "04f75a19-6b20-484d-94d6-7f6e28fc5d8e",
   "metadata": {},
   "outputs": [],
   "source": []
  }
 ],
 "metadata": {
  "kernelspec": {
   "display_name": "Python 3 (ipykernel)",
   "language": "python",
   "name": "python3"
  },
  "language_info": {
   "codemirror_mode": {
    "name": "ipython",
    "version": 3
   },
   "file_extension": ".py",
   "mimetype": "text/x-python",
   "name": "python",
   "nbconvert_exporter": "python",
   "pygments_lexer": "ipython3",
   "version": "3.13.0"
  }
 },
 "nbformat": 4,
 "nbformat_minor": 5
}
