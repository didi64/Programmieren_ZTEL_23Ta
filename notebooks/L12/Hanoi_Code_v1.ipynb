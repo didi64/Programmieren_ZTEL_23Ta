{
 "cells": [
  {
   "cell_type": "markdown",
   "id": "3d7a4800-85d7-4f21-aede-f4b625399a91",
   "metadata": {},
   "source": [
    "### T&uuml;rme von Hanoi, Callback Variante  \n",
    "\n",
    "Der Controller sollte sich nur um das &Uuml;bermitteln eines Befehls an die Game-Komponente k&uuml;mmern m&uuml;ssen, nicht auch noch um die Darstellung. Zu diesem Zweck kommuniziert die\n",
    "Game-Komponente via Callbacks mit der View:\n",
    "\n",
    "- Je nach Tastatureingabe ruft der Controller die Funktion `new_game()` oder `move_disk(i, j)` der Game-Komponente auf.  \n",
    "- Nach getaner Arbeit rufen dann `new_game` bez. `move_disk` das von der View registrierte Callback mit den Argumenten `event` und `data` auf, was zur Darstellung des Spielzustandes f&uuml;hrt.\n",
    "\n",
    "Die Kommunikation l&auml;uft aber auch noch &uuml;ber die globalen Variablen `stacks`, `callbacks`, `canvas` und `src`."
   ]
  },
  {
   "cell_type": "code",
   "execution_count": 1,
   "id": "8ba3473f-db31-40b1-8696-7153a29d4b53",
   "metadata": {},
   "outputs": [],
   "source": [
    "# Game\n",
    "ndisks = 4\n",
    "stacks = []\n",
    "callback = lambda event, data: print(event, data)\n",
    "\n",
    "\n",
    "def notify(event, data):\n",
    "    callback(event, data)\n",
    "\n",
    "\n",
    "def new_game():\n",
    "    stacks[:] = [list(range(ndisks))[::-1], [], []]\n",
    "    notify('new_game', stacks)\n",
    "\n",
    "\n",
    "def move_disk(i, j):\n",
    "    x = stacks[i].pop()\n",
    "    stacks[j].append(x)\n",
    "    notify('update_stacks', stacks)"
   ]
  },
  {
   "cell_type": "code",
   "execution_count": 2,
   "id": "7305b2b1-3513-486c-91e9-bb83a2222f83",
   "metadata": {},
   "outputs": [],
   "source": [
    "# View\n",
    "from ipycanvas import Canvas\n",
    "\n",
    "\n",
    "def draw_stack(stack, x):\n",
    "    h = disk_height\n",
    "    for i, disk in enumerate(stack):\n",
    "        canvas.fill_style = colors[disk]\n",
    "        w = disk_widths[disk]\n",
    "        canvas.fill_rect(x - w/2, canvas.height-(i+1)*h, w, h)\n",
    "\n",
    "\n",
    "def draw_stacks(stacks):\n",
    "    canvas.clear()\n",
    "    for x, stack in zip(positions, stacks):\n",
    "        draw_stack(stack, x)\n",
    "\n",
    "\n",
    "canvas_config = {\n",
    "    'width': 300,\n",
    "    'height': 100,\n",
    "    'layout': {'border': '1px solid black'},\n",
    "}\n",
    "\n",
    "positions = [50, 150, 250]\n",
    "disk_widths = [30, 50, 70, 90]\n",
    "disk_height = 10\n",
    "stack_width = 100\n",
    "colors = ['brown', 'teal', 'blue', 'purple']\n",
    "\n",
    "canvas = Canvas(**canvas_config)"
   ]
  },
  {
   "cell_type": "code",
   "execution_count": null,
   "id": "7fd3fd71-f27a-4a92-81b9-a52604d5ff10",
   "metadata": {},
   "outputs": [],
   "source": []
  },
  {
   "cell_type": "code",
   "execution_count": null,
   "id": "cda3ee6c-a642-423c-920e-fb16fb136be5",
   "metadata": {},
   "outputs": [],
   "source": []
  },
  {
   "cell_type": "code",
   "execution_count": null,
   "id": "10f5488b-d234-489a-b23a-44a202f82c14",
   "metadata": {},
   "outputs": [],
   "source": []
  },
  {
   "cell_type": "code",
   "execution_count": null,
   "id": "6891552c-b279-47a1-b670-faa2c97a9acc",
   "metadata": {},
   "outputs": [],
   "source": []
  },
  {
   "cell_type": "code",
   "execution_count": 3,
   "id": "caca8e35-2e9b-43ff-a300-c89ac1baa3b2",
   "metadata": {},
   "outputs": [],
   "source": [
    "# Controller\n",
    "src = None\n",
    "\n",
    "def on_key_down(key, *flags):\n",
    "    global src\n",
    "  \n",
    "    if key in '123' and src is None:\n",
    "        src = int(key) - 1\n",
    "    elif key in '123' and src is not None:\n",
    "        dst = int(key) - 1\n",
    "        move_disk(src, dst)\n",
    "        src = None\n",
    "    elif key == 'n':\n",
    "        new_game()\n",
    "        src = None    \n",
    "    else:\n",
    "        src = None        "
   ]
  },
  {
   "cell_type": "code",
   "execution_count": 4,
   "id": "ff176b10-f4a0-4296-96a0-40904d5572e4",
   "metadata": {},
   "outputs": [
    {
     "data": {
      "application/vnd.jupyter.widget-view+json": {
       "model_id": "12931873e7d548ccb2431fe50b16a03f",
       "version_major": 2,
       "version_minor": 0
      },
      "text/plain": [
       "Canvas(height=100, layout=Layout(border_bottom='1px solid black', border_left='1px solid black', border_right=…"
      ]
     },
     "execution_count": 4,
     "metadata": {},
     "output_type": "execute_result"
    }
   ],
   "source": [
    "canvas.on_key_down(on_key_down)\n",
    "canvas"
   ]
  },
  {
   "cell_type": "code",
   "execution_count": null,
   "id": "06d16043-bf2a-4aff-af4a-9d4646fd7e60",
   "metadata": {},
   "outputs": [],
   "source": []
  }
 ],
 "metadata": {
  "author": "dieter.probst@gmail.com",
  "kernelspec": {
   "display_name": "Python 3 (ipykernel)",
   "language": "python",
   "name": "python3"
  },
  "language_info": {
   "codemirror_mode": {
    "name": "ipython",
    "version": 3
   },
   "file_extension": ".py",
   "mimetype": "text/x-python",
   "name": "python",
   "nbconvert_exporter": "python",
   "pygments_lexer": "ipython3",
   "version": "3.13.0"
  }
 },
 "nbformat": 4,
 "nbformat_minor": 5
}
