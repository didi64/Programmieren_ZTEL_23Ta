{
 "cells": [
  {
   "cell_type": "markdown",
   "id": "8c8475fc-1f97-405c-8fe0-e96347601d17",
   "metadata": {},
   "source": [
    "### Widget Helpers\n",
    "Im Folgenden werden wir das Output- und Canvas/MultiCanvas-Widgets st&auml;ndig brauchen.\n",
    "Deshalb stellen wir ein paar einfache Funktionen bereit, welche diese Widgets erstellen.\n",
    "Wir speichern diese Funktionen im File `widgets_helpers.py`. Verschiebe dann dieses File in den Ordner `modules`.\n",
    "Wir werden dieses File aktualisieren, wenn wir mehr Widgets kennenlernen."
   ]
  },
  {
   "cell_type": "code",
   "execution_count": 4,
   "id": "818b4e2f-4554-445a-922b-d6ea9e6a997a",
   "metadata": {},
   "outputs": [],
   "source": [
    "#%%file widgets_helpers.py\n",
    "from ipywidgets import Output\n",
    "from ipycanvas import Canvas, MultiCanvas\n",
    "\n",
    "\n",
    "LAYOUT_DF = {'border': '1px solid black'}\n",
    "\n",
    "\n",
    "def new_output(layout=None):\n",
    "    '''returns an Output-Widget'''\n",
    "    if layout is None:\n",
    "        layout = LAYOUT_DF\n",
    "    out = Output(layout=layout)\n",
    "    return out\n",
    "\n",
    "\n",
    "def new_canvas(width=300, height=200, layout=None):\n",
    "    '''returns an Canvas-Widget'''\n",
    "    if layout is None:\n",
    "        layout = LAYOUT_DF\n",
    "    canvas = Canvas(width=width, height=height, layout=layout)\n",
    "    return canvas\n",
    "\n",
    "\n",
    "def new_mcanvas(n=2, width=300, height=200, layout=None):\n",
    "    '''returns an MultiCanvas-Widget'''\n",
    "    if layout is None:\n",
    "        layout = LAYOUT_DF\n",
    "    mcanvas = MultiCanvas(n, width=width, height=height, layout=layout)\n",
    "    return mcanvas"
   ]
  },
  {
   "cell_type": "markdown",
   "id": "fe9dc741-2042-4284-aa29-c999ee9f42b5",
   "metadata": {},
   "source": [
    "### Obige Funktionen testen"
   ]
  },
  {
   "cell_type": "code",
   "execution_count": 5,
   "id": "320611da-0a86-44db-8a58-96381dac3793",
   "metadata": {},
   "outputs": [
    {
     "data": {
      "application/vnd.jupyter.widget-view+json": {
       "model_id": "fb40a88c3c924f0ab966ddc5acdf2931",
       "version_major": 2,
       "version_minor": 0
      },
      "text/plain": [
       "Output(layout=Layout(border_bottom='1px solid black', border_left='1px solid black', border_right='1px solid b…"
      ]
     },
     "execution_count": 5,
     "metadata": {},
     "output_type": "execute_result"
    }
   ],
   "source": [
    "# Output-Widget\n",
    "out = new_output()\n",
    "with out:\n",
    "    print('test')\n",
    "out"
   ]
  },
  {
   "cell_type": "code",
   "execution_count": 6,
   "id": "c458d1e3-e8e7-4123-80c5-b50ab7a9d79a",
   "metadata": {},
   "outputs": [
    {
     "data": {
      "application/vnd.jupyter.widget-view+json": {
       "model_id": "295a98773d804f29a0d62058453aa268",
       "version_major": 2,
       "version_minor": 0
      },
      "text/plain": [
       "Canvas(height=200, layout=Layout(border_bottom='1px solid black', border_left='1px solid black', border_right=…"
      ]
     },
     "execution_count": 6,
     "metadata": {},
     "output_type": "execute_result"
    }
   ],
   "source": [
    "# Canvas-Widget\n",
    "canvas = new_canvas()\n",
    "canvas.fill_style = 'blue'\n",
    "canvas.fill_rect(0, 0, canvas.width, canvas.height)\n",
    "canvas"
   ]
  },
  {
   "cell_type": "code",
   "execution_count": 8,
   "id": "d270f2e5-39f6-4960-acb5-5d0e8d54f13a",
   "metadata": {},
   "outputs": [
    {
     "data": {
      "application/vnd.jupyter.widget-view+json": {
       "model_id": "3f3ea8d1641a451790157274dd03f8a4",
       "version_major": 2,
       "version_minor": 0
      },
      "text/plain": [
       "MultiCanvas(height=200, layout=Layout(border_bottom='1px solid black', border_left='1px solid black', border_r…"
      ]
     },
     "execution_count": 8,
     "metadata": {},
     "output_type": "execute_result"
    }
   ],
   "source": [
    "# MultiCanvas-Widget\n",
    "mcanvas = new_mcanvas()\n",
    "bg, fg = mcanvas\n",
    "bg.fill_style = 'grey'\n",
    "fg.fill_style = 'yellow'\n",
    "bg.fill_rect(0, 0, mcanvas.width, mcanvas.height)\n",
    "fg.fill_circle(mcanvas.width/2, mcanvas.height/2, 20)\n",
    "\n",
    "mcanvas"
   ]
  },
  {
   "cell_type": "code",
   "execution_count": 9,
   "id": "0ac7c15e-1ddd-4cac-8cdb-75b928f1fd1b",
   "metadata": {},
   "outputs": [],
   "source": [
    "fg.clear()"
   ]
  },
  {
   "cell_type": "code",
   "execution_count": null,
   "id": "5224d951-ab07-4a60-8d6b-4950b31c27e1",
   "metadata": {},
   "outputs": [],
   "source": []
  }
 ],
 "metadata": {
  "kernelspec": {
   "display_name": "Python 3 (ipykernel)",
   "language": "python",
   "name": "python3"
  },
  "language_info": {
   "codemirror_mode": {
    "name": "ipython",
    "version": 3
   },
   "file_extension": ".py",
   "mimetype": "text/x-python",
   "name": "python",
   "nbconvert_exporter": "python",
   "pygments_lexer": "ipython3",
   "version": "3.13.0"
  }
 },
 "nbformat": 4,
 "nbformat_minor": 5
}
