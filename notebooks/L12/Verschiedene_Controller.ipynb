{
 "cells": [
  {
   "cell_type": "markdown",
   "id": "479c7d1d-4956-43fc-925a-9766b13cfe55",
   "metadata": {},
   "source": [
    "### Test der verschiendenen Controller\n",
    "Beachte: Alle steuern das gleiche Game und zeichnen auf dieselbe Leinwand."
   ]
  },
  {
   "cell_type": "code",
   "execution_count": 1,
   "id": "9cbdcf95-948e-4f5d-9b33-e759f5a2a566",
   "metadata": {},
   "outputs": [
    {
     "data": {
      "application/vnd.jupyter.widget-view+json": {
       "model_id": "a96953303f134d48bf8869b575e2d50e",
       "version_major": 2,
       "version_minor": 0
      },
      "text/plain": [
       "Canvas(height=100, layout=Layout(border_bottom='1px solid black', border_left='1px solid black', border_right=…"
      ]
     },
     "metadata": {},
     "output_type": "display_data"
    }
   ],
   "source": [
    "import tastatur_controller\n",
    "\n",
    "\n",
    "tastatur_controller.start()"
   ]
  },
  {
   "cell_type": "code",
   "execution_count": null,
   "id": "2bf373d4-c248-4412-af26-768f72e93e05",
   "metadata": {},
   "outputs": [],
   "source": []
  },
  {
   "cell_type": "code",
   "execution_count": 2,
   "id": "996943de-c784-4323-a229-99ccbf13b96a",
   "metadata": {},
   "outputs": [
    {
     "data": {
      "application/vnd.jupyter.widget-view+json": {
       "model_id": "a96953303f134d48bf8869b575e2d50e",
       "version_major": 2,
       "version_minor": 0
      },
      "text/plain": [
       "Canvas(height=100, layout=Layout(border_bottom='1px solid black', border_left='1px solid black', border_right=…"
      ]
     },
     "metadata": {},
     "output_type": "display_data"
    }
   ],
   "source": [
    "import mouse_controller\n",
    "\n",
    "\n",
    "mouse_controller.start()"
   ]
  },
  {
   "cell_type": "code",
   "execution_count": null,
   "id": "13866567-d4ea-4169-a9c6-5382466050c2",
   "metadata": {},
   "outputs": [],
   "source": []
  },
  {
   "cell_type": "code",
   "execution_count": 3,
   "id": "88386f1c-56a1-4d4e-99b2-74ddac720962",
   "metadata": {},
   "outputs": [
    {
     "data": {
      "application/vnd.jupyter.widget-view+json": {
       "model_id": "a96953303f134d48bf8869b575e2d50e",
       "version_major": 2,
       "version_minor": 0
      },
      "text/plain": [
       "Canvas(height=100, layout=Layout(border_bottom='1px solid black', border_left='1px solid black', border_right=…"
      ]
     },
     "metadata": {},
     "output_type": "display_data"
    },
    {
     "data": {
      "application/vnd.jupyter.widget-view+json": {
       "model_id": "2f4498f361ad4689856072069264a08e",
       "version_major": 2,
       "version_minor": 0
      },
      "text/plain": [
       "Text(value='Move ? ')"
      ]
     },
     "metadata": {},
     "output_type": "display_data"
    }
   ],
   "source": [
    "import text_controller\n",
    "\n",
    "\n",
    "text_controller.start()"
   ]
  },
  {
   "cell_type": "code",
   "execution_count": null,
   "id": "03163462-39a9-4342-8cb5-133473037850",
   "metadata": {},
   "outputs": [],
   "source": []
  }
 ],
 "metadata": {
  "kernelspec": {
   "display_name": "Python 3 (ipykernel)",
   "language": "python",
   "name": "python3"
  },
  "language_info": {
   "codemirror_mode": {
    "name": "ipython",
    "version": 3
   },
   "file_extension": ".py",
   "mimetype": "text/x-python",
   "name": "python",
   "nbconvert_exporter": "python",
   "pygments_lexer": "ipython3",
   "version": "3.13.0"
  }
 },
 "nbformat": 4,
 "nbformat_minor": 5
}
