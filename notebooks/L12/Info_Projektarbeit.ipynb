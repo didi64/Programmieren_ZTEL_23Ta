{
 "cells": [
  {
   "cell_type": "markdown",
   "id": "86175b30-0602-4c3e-bbc0-782a05ecf47a",
   "metadata": {},
   "source": [
    "### Projektarbeit \n",
    "\n",
    "Ziel ist es, in 3x4 Lektionen (17.2, 24.2, 3.3) plus Hausarbeit ein einfaches Spiel im Jupyterlab zu programmieren, welches\n",
    "im Canvas-Widget graphisch darstellt und mit der \n",
    "Maus und/oder Tastatur gesteuert werden kann. \n",
    "euer eigener Code/ muesst aLLEN CODE IM DETAIL VERSTEHEN.\n",
    "Quellenhinweis auf Codefragmente von Stackexchange, \n",
    "Chat-GPT Codefragment.\n",
    "\n",
    "\n",
    "Der Programmcode ist zu dokumentieren: \n",
    "- Es sind beschreibende Variablen- und Funktionsnamen zu w&auml;hlen,\n",
    "- Funktionen sind mit Doc-Strings zu versehenen,\n",
    "- wo sinnvoll sind inline Kommentare anzubringen.  \n",
    "\n",
    "Weiter ist eine **Dokumentation** zu verfassen (2-3 Seiten):\n",
    "- Einleitung\n",
    "- Beschreibung des Spiels und der (geplanten) Implementation.\n",
    "- Spezifikation eures Spiels\n",
    "  Pr&auml;zise Spielregeln. Legale Z&uuml;ge, wof&uuml;r gibt es Punkte, wann hat jemand gewonnen, ...\n",
    "- Implementation\n",
    "  - Wie wird der Spielzustand im Code repr&auml;sentiert. Wie  &uuml;berpr&uuml;ft das Programm das Einhalten der Regeln.\n",
    "  - Wie wird das Spiel graphisch dargestellt?\n",
    "  - Wie wird das Spiel gesteuert?  \n",
    "- &Uuml;berblick &uuml;ber den Code\n",
    "  - Welche Komponenten Module/Klassen/Funktionen erf&uuml;llen welche Aufgaben,\n",
    "  wie spielen die verschiedenen Komponenten zusammen. Beschreibung der wichtigsten Funktionen.\n",
    "- Diskussion\n",
    "  - Erf&uuml;llt das Programm die Spezifikation? Wo/Wieso gibt es Abweichungen? \n",
    "  - Gr&ouml;sste Schwierigkeiten\n",
    "  - M&ouml;gliche Verbesserungen und Erweiterungen. \n",
    "  - Schlussfolgerungen und Lehren\n",
    "\n",
    "###  Timeline  \n",
    "- Montag, 17.2. Wahl eines **Themas** und Abgabe einer kurzen **Projektskizze** (halbe Seite):\n",
    "   - Formulierung einer Zielvorstellung. Was soll das Programm tun, wie wird es gesteuert, was wird wie dargestellt.\n",
    "   - Beschreibung eines Prototypes, der sich rasch realisieren l&auml;sst.\n",
    "     Der Prototyp sollte die wichtigste Aspekte der Programmlogik (ev. vereinfacht) umsetzen.\n",
    "     Steuerung und Darstellung k&ouml;nnen noch sehr rudiment&auml;r sein.  \n",
    "  \n",
    "- Sonntag, 9.3.2025, 24h. **Abgabe** von **Dokumentation** und **Code** (als .pdf und/oder Notebooks).\n",
    "  \n",
    "- Montag 10.3.2025. **Pr&auml;sentation**: Dauer: 15' \n",
    "  - Programm vorf&uuml;hren\n",
    "  - Beschreibt euren Weg zum fertigen Programm: Designentscheidungen, anf&auml;ngliche Probleme, gew&auml;hlte L&ouml;sungen, ..."
   ]
  },
  {
   "cell_type": "markdown",
   "id": "038e5dbb-0e19-4733-84f6-e91e00e6b246",
   "metadata": {},
   "source": [
    "### M&ouml;gliche Themen\n",
    "\n",
    "- Ein einfaches Brettspiel f&uuml;r 2 Spieler (ev. mit vereinfachten Regeln). Mensch gegen Mensch, ev. Mensch gegen Computer:  \n",
    "TikTakToe, [Wolf und Schafe](https://de.wikipedia.org/wiki/Wolf_und_Schafe), [Reversi](https://en.wikipedia.org/wiki/Reversi), [Fuchs und G&auml;nse](https://de.wikipedia.org/wiki/Fuchs_und_G%C3%A4nse), Vier gewinnt, Leiterlispiel, Eile mit Weile, ...\n",
    "\n",
    "- Einfaches Karten(ablege)spiel:  \n",
    "  Uno, Tschau Sepp, Elfer raus!, 6 nimm!, Blackjack, Poker, Memory, ...\n",
    "\n",
    "- Einfaches W&uuml;rfelspiel zum Punkte sammeln:  \n",
    "  Yatzy, 12er Jagd, Zehntausend, Shut the Box, Knister, ...\n",
    "      \n",
    "- Einfache Spiele f&uuml;r einen Spieler:  \n",
    "Wordle, Mastermind, [14/15 Schiebepuzzle](https://de.wikipedia.org/wiki/15-Puzzle), [Solit&auml;r](https://de.wikipedia.org/wiki/Solit%C3%A4r_(Brettspiel)), Minesweeper, [Sokoban](https://www.mathsisfun.com/games/sokoban.html), ..."
   ]
  },
  {
   "cell_type": "code",
   "execution_count": null,
   "id": "8525cee7-bf26-47cc-92de-c3487d901762",
   "metadata": {},
   "outputs": [],
   "source": []
  }
 ],
 "metadata": {
  "author": "dieter.probst@gmail.com",
  "kernelspec": {
   "display_name": "Python 3 (ipykernel)",
   "language": "python",
   "name": "python3"
  },
  "language_info": {
   "codemirror_mode": {
    "name": "ipython",
    "version": 3
   },
   "file_extension": ".py",
   "mimetype": "text/x-python",
   "name": "python",
   "nbconvert_exporter": "python",
   "pygments_lexer": "ipython3",
   "version": "3.13.0"
  }
 },
 "nbformat": 4,
 "nbformat_minor": 5
}
