{
 "cells": [
  {
   "cell_type": "markdown",
   "id": "5d16d60f-5cad-4655-9f1f-62c58be315f8",
   "metadata": {},
   "source": [
    "### Minimal Drawing App\n",
    "\n",
    "Es wird eine Line gezeichnet von A nach B.\n",
    "Die Startposition A ist die Position, bei der\n",
    "der Mausknopf gedr&uuml;ckt wurde. \n",
    "Die Zielposition B ist die Position, bei der\n",
    "der Mausknopf wieder losgelassen wurde.\n",
    "\n",
    "\n",
    "Tastenbefehle\n",
    "1. Falls Mausknopf nicht gedr&uuml;ckt:\n",
    "   - c: clear\n",
    "   - 1-9: Linienbreite setzen\n",
    "   - Kleinbuchstabe: stroke-color setzen, falls Buchstabe im Dictionary `colors`\n",
    "   - Grossbuchstabe: fill-color setzen, falls Buchstabe im Dictionary `colors`\n",
    "     \n",
    "<br>\n",
    "     \n",
    "2. Falls Mausknopf gedr&uuml;ckt:\n",
    "   - ESC: Abbruch (beim Loslassen des Mausknopfs wird nichts gezeichnet)\n",
    "   - r/R: stroke/fill Rechteck, A und B snd gegen&uuml;berliegende Ecken \n",
    "   - c/C: stroke/fill Kreis durch B mit Zentrum A "
   ]
  },
  {
   "cell_type": "markdown",
   "id": "59d2bf7e-1b90-47e8-a082-64c40fe03725",
   "metadata": {},
   "source": [
    "### 1. Callbacks dekorieren und registrieren"
   ]
  },
  {
   "cell_type": "code",
   "execution_count": null,
   "id": "77edf976-0d09-4ef9-9f75-c59fe63e5051",
   "metadata": {},
   "outputs": [],
   "source": [
    "from widgets_helpers import new_canvas, new_mcanvas, new_output\n",
    "from IPython.display import display\n",
    "\n",
    "err_out = new_output()"
   ]
  },
  {
   "cell_type": "code",
   "execution_count": null,
   "id": "7530f7e7-ed9f-481a-beea-9fdf475d9965",
   "metadata": {},
   "outputs": [],
   "source": [
    "@err_out.capture()\n",
    "def on_mouse_down(x, y):\n",
    "    print('on_mouse_down', x, y)\n",
    "\n",
    "\n",
    "@err_out.capture()\n",
    "def on_mouse_up(x, y):\n",
    "    print('on_mouse_up', x, y)\n",
    "\n",
    "\n",
    "@err_out.capture()\n",
    "def on_key_down(key, *flags):\n",
    "    print('on_key_down', key, flags)"
   ]
  },
  {
   "cell_type": "code",
   "execution_count": null,
   "id": "d0ee9e03-069e-4158-9757-71b65ffa5663",
   "metadata": {},
   "outputs": [],
   "source": [
    "mcanvas = new_mcanvas(2, 300, 200)\n",
    "bg, fg = mcanvas\n",
    "\n",
    "mcanvas.on_mouse_down(on_mouse_down)\n",
    "mcanvas.on_mouse_up(on_mouse_up)\n",
    "mcanvas.on_key_down(on_key_down)\n",
    "\n",
    "display(mcanvas, err_out)"
   ]
  },
  {
   "cell_type": "raw",
   "id": "950dbb41-e1e2-4aea-8faa-74559aa9192d",
   "metadata": {},
   "source": []
  }
 ],
 "metadata": {
  "kernelspec": {
   "display_name": "Python 3 (ipykernel)",
   "language": "python",
   "name": "python3"
  },
  "language_info": {
   "codemirror_mode": {
    "name": "ipython",
    "version": 3
   },
   "file_extension": ".py",
   "mimetype": "text/x-python",
   "name": "python",
   "nbconvert_exporter": "python",
   "pygments_lexer": "ipython3",
   "version": "3.13.0"
  }
 },
 "nbformat": 4,
 "nbformat_minor": 5
}
