{
 "cells": [
  {
   "cell_type": "markdown",
   "id": "5d16d60f-5cad-4655-9f1f-62c58be315f8",
   "metadata": {},
   "source": [
    "### Minimal Drawing App"
   ]
  },
  {
   "cell_type": "code",
   "execution_count": 5,
   "id": "77edf976-0d09-4ef9-9f75-c59fe63e5051",
   "metadata": {},
   "outputs": [],
   "source": [
    "from ipycanvas import MultiCanvas\n",
    "from ipywidgets import Output\n",
    "\n",
    "\n",
    "err_out = Output(layout={'border': '1px solid black'})"
   ]
  },
  {
   "cell_type": "code",
   "execution_count": 6,
   "id": "7530f7e7-ed9f-481a-beea-9fdf475d9965",
   "metadata": {},
   "outputs": [],
   "source": [
    "@err_out.capture()\n",
    "def on_mouse_down(x, y):\n",
    "    print('on_mouse_down', x, y)\n",
    "\n",
    "\n",
    "@err_out.capture()\n",
    "def on_mouse_up(x, y):\n",
    "    print('on_mouse_up', x, y)\n",
    "\n",
    "\n",
    "\n",
    "# @err_out.capture()\n",
    "def on_key_down(key, *flags):\n",
    "    print('on_key_down', x, y)"
   ]
  },
  {
   "cell_type": "code",
   "execution_count": 7,
   "id": "d0ee9e03-069e-4158-9757-71b65ffa5663",
   "metadata": {},
   "outputs": [
    {
     "data": {
      "application/vnd.jupyter.widget-view+json": {
       "model_id": "cf5002cfd66142acbd957df5faa3308b",
       "version_major": 2,
       "version_minor": 0
      },
      "text/plain": [
       "MultiCanvas(height=200, layout=Layout(border_bottom='1px solid black', border_left='1px solid black', border_r…"
      ]
     },
     "metadata": {},
     "output_type": "display_data"
    },
    {
     "data": {
      "application/vnd.jupyter.widget-view+json": {
       "model_id": "9dcfd1d50f9841f8b26e420ce2a6c511",
       "version_major": 2,
       "version_minor": 0
      },
      "text/plain": [
       "Output(layout=Layout(border_bottom='1px solid black', border_left='1px solid black', border_right='1px solid b…"
      ]
     },
     "metadata": {},
     "output_type": "display_data"
    }
   ],
   "source": [
    "canvas_config = {\n",
    "    'width': 300,\n",
    "    'height': 200,\n",
    "    'layout': {'border': '1px solid black'},\n",
    "}\n",
    "\n",
    "mcanvas = MultiCanvas(2, **canvas_config)\n",
    "mcanvas.on_mouse_down(on_mouse_down)\n",
    "mcanvas.on_mouse_up(on_mouse_up)\n",
    "mcanvas.on_key_down(on_key_down)\n",
    "\n",
    "bg, fg = mcanvas\n",
    "\n",
    "\n",
    "display(mcanvas, err_out)"
   ]
  },
  {
   "cell_type": "raw",
   "id": "950dbb41-e1e2-4aea-8faa-74559aa9192d",
   "metadata": {},
   "source": []
  },
  {
   "cell_type": "code",
   "execution_count": null,
   "id": "dbd6c13a-d639-47e4-a8ec-d01c3e9d7728",
   "metadata": {},
   "outputs": [],
   "source": []
  }
 ],
 "metadata": {
  "kernelspec": {
   "display_name": "Python 3 (ipykernel)",
   "language": "python",
   "name": "python3"
  },
  "language_info": {
   "codemirror_mode": {
    "name": "ipython",
    "version": 3
   },
   "file_extension": ".py",
   "mimetype": "text/x-python",
   "name": "python",
   "nbconvert_exporter": "python",
   "pygments_lexer": "ipython3",
   "version": "3.13.0"
  }
 },
 "nbformat": 4,
 "nbformat_minor": 5
}
