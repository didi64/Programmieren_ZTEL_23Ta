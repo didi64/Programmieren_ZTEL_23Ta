{
 "cells": [
  {
   "cell_type": "markdown",
   "id": "5d16d60f-5cad-4655-9f1f-62c58be315f8",
   "metadata": {},
   "source": [
    "### Minimal Drawing App\n",
    "\n",
    "Es wird eine Line gezeichnet von A nach B.\n",
    "Die Startposition A ist die Position, bei der\n",
    "der Mausknopf gedr&uuml;ckt wurde. \n",
    "Die Zielposition B ist die Position, bei der\n",
    "der Mausknopf wieder losgelassen wurde.\n",
    "\n",
    "\n",
    "Tastenbefehle\n",
    "1. Falls Mausknopf nicht gedr&uuml;ckt:\n",
    "   - c: clear\n",
    "   - 1-9: Linienbreite setzen\n",
    "   - Kleinbuchstabe: stroke-color setzen, falls Buchstabe im Dictionary `colors`\n",
    "   - Grossbuchstabe: fill-color setzen, falls Buchstabe im Dictionary `colors`\n",
    "     \n",
    "<br>\n",
    "     \n",
    "2. Falls Mausknopf gedr&uuml;ckt:\n",
    "   - ESC: Abbruch (beim Loslassen des Mausknopfs wird nichts gezeichnet)\n",
    "   - r/R: stroke/fill Rechteck, A und B snd gegen&uuml;berliegende Ecken \n",
    "   - c/C: stroke/fill Kreis durch B mit Zentrum A "
   ]
  },
  {
   "cell_type": "markdown",
   "id": "2d2feafd-d0ee-46ee-b2ff-a4cc0746bfb5",
   "metadata": {},
   "source": [
    "### 3. App weiter ausbauen"
   ]
  },
  {
   "cell_type": "code",
   "execution_count": null,
   "id": "77edf976-0d09-4ef9-9f75-c59fe63e5051",
   "metadata": {},
   "outputs": [],
   "source": [
    "from widgets_helpers import new_canvas, new_mcanvas, new_output\n",
    "from IPython.display import display\n",
    "\n",
    "err_out = new_output()"
   ]
  },
  {
   "cell_type": "code",
   "execution_count": null,
   "id": "7530f7e7-ed9f-481a-beea-9fdf475d9965",
   "metadata": {},
   "outputs": [],
   "source": [
    "@err_out.capture()\n",
    "def on_mouse_down(x, y):\n",
    "    state['pt_clicked'] = (x, y)\n",
    "    state['mouse_down'] = True\n",
    "    fg.fill_circle(x, y, radius=bg.line_width/2)\n",
    "    fg.stroke_circle(x, y, radius=bg.line_width/2 + 3)\n",
    "\n",
    "\n",
    "@err_out.capture()\n",
    "def on_mouse_up(x, y):\n",
    "    state['mouse_down'] = False\n",
    "\n",
    "    pt_current = (x, y)\n",
    "    pt_clicked = state['pt_clicked']\n",
    "\n",
    "    if state['key_pressed'] == 'Escape':\n",
    "        pass\n",
    "    elif state['key_pressed'] == 'r':\n",
    "        w = pt_current[0] - pt_clicked[0]\n",
    "        h = pt_current[1] - pt_clicked[1]\n",
    "        bg.stroke_rect(*pt_clicked, w, h)\n",
    "    elif state['key_pressed'] == 'c':\n",
    "        w = pt_current[0] - pt_clicked[0]\n",
    "        h = pt_current[1] - pt_clicked[1]\n",
    "        bg.stroke_circle(*pt_clicked, radius=(w**2+h**2)**.5)\n",
    "    elif state['key_pressed'] == 'R':\n",
    "        w = pt_current[0] - pt_clicked[0]\n",
    "        h = pt_current[1] - pt_clicked[1]\n",
    "        bg.fill_rect(*pt_clicked, w, h)\n",
    "    elif state['key_pressed'] == 'C':\n",
    "        w = pt_current[0] - pt_clicked[0]\n",
    "        h = pt_current[1] - pt_clicked[1]\n",
    "        bg.fill_circle(*pt_clicked, radius=(w**2+h**2)**.5)\n",
    "\n",
    "    else:\n",
    "        line = [pt_clicked,  pt_current]\n",
    "        bg.stroke_lines(line)\n",
    "\n",
    "    state['key_pressed'] = None\n",
    "    fg.clear()\n",
    "\n",
    "\n",
    "@err_out.capture()\n",
    "def on_key_down(key, *flags):\n",
    "    if state['mouse_down']:\n",
    "        state['key_pressed'] = key\n",
    "        return\n",
    "\n",
    "    if key == 'c':\n",
    "        bg.clear()\n",
    "    elif key.lower() in colors:\n",
    "        if key.islower():\n",
    "            fg.stroke_style = colors[key]\n",
    "            bg.stroke_style = colors[key]\n",
    "        else:\n",
    "            key = key.lower()\n",
    "            fg.fill_style = colors[key]\n",
    "            bg.fill_style = colors[key]\n",
    "\n",
    "    elif key in '123456789':\n",
    "        bg.line_width = int(key)"
   ]
  },
  {
   "cell_type": "code",
   "execution_count": null,
   "id": "d0ee9e03-069e-4158-9757-71b65ffa5663",
   "metadata": {},
   "outputs": [],
   "source": [
    "state = {'pt_clicked': None,\n",
    "         'mouse_down': False,\n",
    "         'key_pressed': None,\n",
    "         }\n",
    "\n",
    "colors = {'r': 'red',  'o': 'orange', 'b': 'blue', 'g': 'green',\n",
    "          'y': 'yellow', 'k': 'black', 'p': 'pink', 't': 'teal'}\n",
    "\n",
    "\n",
    "mcanvas = new_mcanvas(2, 300, 200)\n",
    "bg, fg = mcanvas\n",
    "\n",
    "mcanvas.on_mouse_down(on_mouse_down)\n",
    "mcanvas.on_mouse_up(on_mouse_up)\n",
    "mcanvas.on_key_down(on_key_down)\n",
    "\n",
    "display(mcanvas, err_out)"
   ]
  },
  {
   "cell_type": "code",
   "execution_count": null,
   "id": "042e156a-0436-40b6-9fb0-24219c20ad3a",
   "metadata": {},
   "outputs": [],
   "source": []
  }
 ],
 "metadata": {
  "kernelspec": {
   "display_name": "Python 3 (ipykernel)",
   "language": "python",
   "name": "python3"
  },
  "language_info": {
   "codemirror_mode": {
    "name": "ipython",
    "version": 3
   },
   "file_extension": ".py",
   "mimetype": "text/x-python",
   "name": "python",
   "nbconvert_exporter": "python",
   "pygments_lexer": "ipython3",
   "version": "3.13.0"
  }
 },
 "nbformat": 4,
 "nbformat_minor": 5
}
