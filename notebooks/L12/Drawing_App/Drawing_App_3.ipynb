{
 "cells": [
  {
   "cell_type": "markdown",
   "id": "5d16d60f-5cad-4655-9f1f-62c58be315f8",
   "metadata": {},
   "source": [
    "### Minimal Drawing App"
   ]
  },
  {
   "cell_type": "code",
   "execution_count": 5,
   "id": "77edf976-0d09-4ef9-9f75-c59fe63e5051",
   "metadata": {},
   "outputs": [],
   "source": [
    "from ipycanvas import MultiCanvas\n",
    "from ipywidgets import Output\n",
    "\n",
    "\n",
    "err_out = Output(layout={'border': '1px solid black'})"
   ]
  },
  {
   "cell_type": "code",
   "execution_count": 11,
   "id": "7530f7e7-ed9f-481a-beea-9fdf475d9965",
   "metadata": {},
   "outputs": [],
   "source": [
    "@err_out.capture()\n",
    "def on_mouse_down(x, y):\n",
    "    state['pt_clicked'] = (x, y)\n",
    "    state['mouse_down'] = True\n",
    "    fg.fill_circle(x, y, radius=bg.line_width/2)\n",
    "\n",
    "\n",
    "@err_out.capture()\n",
    "def on_mouse_up(x, y):\n",
    "    state['mouse_down'] = False\n",
    "\n",
    "    pt_current = (x, y)\n",
    "    pt_clicked = state['pt_clicked']\n",
    "\n",
    "    line = [pt_clicked,  pt_current]\n",
    "    bg.stroke_lines(line)\n",
    "    fg.clear()\n",
    "\n",
    "\n",
    "@err_out.capture()\n",
    "def on_key_down(key, *flags):\n",
    "    if key == 'c':\n",
    "        bg.clear()\n",
    "    elif key in colors:\n",
    "        fg.fill_style = colors[key]\n",
    "        bg.stroke_style = colors[key]\n",
    "    elif key in '123456789':\n",
    "        bg.line_width = int(key)"
   ]
  },
  {
   "cell_type": "code",
   "execution_count": 12,
   "id": "d0ee9e03-069e-4158-9757-71b65ffa5663",
   "metadata": {},
   "outputs": [
    {
     "data": {
      "application/vnd.jupyter.widget-view+json": {
       "model_id": "3a2fd009e1f842d68eecf793e168561f",
       "version_major": 2,
       "version_minor": 0
      },
      "text/plain": [
       "MultiCanvas(height=200, layout=Layout(border_bottom='1px solid black', border_left='1px solid black', border_r…"
      ]
     },
     "metadata": {},
     "output_type": "display_data"
    },
    {
     "data": {
      "application/vnd.jupyter.widget-view+json": {
       "model_id": "b6c92d805fe44d87b5b20d88f4bcb8a3",
       "version_major": 2,
       "version_minor": 0
      },
      "text/plain": [
       "Output(layout=Layout(border_bottom='1px solid black', border_left='1px solid black', border_right='1px solid b…"
      ]
     },
     "metadata": {},
     "output_type": "display_data"
    }
   ],
   "source": [
    "state = {'pt_clicked': None,\n",
    "         'mouse_down': False,\n",
    "         }\n",
    "\n",
    "colors = {'r': 'red',  'o': 'orange', 'b': 'blue'}\n",
    "\n",
    "\n",
    "canvas_config = {\n",
    "    'width': 300,\n",
    "    'height': 200,\n",
    "    'layout': {'border': '1px solid black'},\n",
    "}\n",
    "\n",
    "mcanvas = MultiCanvas(2, **canvas_config)\n",
    "mcanvas.on_mouse_down(on_mouse_down)\n",
    "mcanvas.on_mouse_up(on_mouse_up)\n",
    "mcanvas.on_key_down(on_key_down)\n",
    "\n",
    "bg, fg = mcanvas\n",
    "\n",
    "err_out.clear_output()\n",
    "display(mcanvas, err_out)"
   ]
  },
  {
   "cell_type": "code",
   "execution_count": 8,
   "id": "10882eb8-25c3-4ff6-adbc-a413a558c9d9",
   "metadata": {},
   "outputs": [
    {
     "data": {
      "text/plain": [
       "{'pt_clicked': (159.46318379179115, 32.64289774507197), 'mouse_down': False}"
      ]
     },
     "execution_count": 8,
     "metadata": {},
     "output_type": "execute_result"
    }
   ],
   "source": [
    "state"
   ]
  },
  {
   "cell_type": "code",
   "execution_count": 10,
   "id": "dbd6c13a-d639-47e4-a8ec-d01c3e9d7728",
   "metadata": {},
   "outputs": [
    {
     "data": {
      "text/plain": [
       "5.0"
      ]
     },
     "execution_count": 10,
     "metadata": {},
     "output_type": "execute_result"
    }
   ],
   "source": [
    "bg.line_width"
   ]
  },
  {
   "cell_type": "code",
   "execution_count": null,
   "id": "189adda2-9106-4eda-b4df-61fc511cab7b",
   "metadata": {},
   "outputs": [],
   "source": []
  }
 ],
 "metadata": {
  "kernelspec": {
   "display_name": "Python 3 (ipykernel)",
   "language": "python",
   "name": "python3"
  },
  "language_info": {
   "codemirror_mode": {
    "name": "ipython",
    "version": 3
   },
   "file_extension": ".py",
   "mimetype": "text/x-python",
   "name": "python",
   "nbconvert_exporter": "python",
   "pygments_lexer": "ipython3",
   "version": "3.13.0"
  }
 },
 "nbformat": 4,
 "nbformat_minor": 5
}
