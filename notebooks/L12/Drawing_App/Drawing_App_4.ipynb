{
 "cells": [
  {
   "cell_type": "markdown",
   "id": "5d16d60f-5cad-4655-9f1f-62c58be315f8",
   "metadata": {},
   "source": [
    "### Minimal Drawing App"
   ]
  },
  {
   "cell_type": "code",
   "execution_count": 4,
   "id": "77edf976-0d09-4ef9-9f75-c59fe63e5051",
   "metadata": {},
   "outputs": [],
   "source": [
    "from ipycanvas import MultiCanvas\n",
    "from ipywidgets import Output\n",
    "\n",
    "\n",
    "err_out = Output(layout={'border': '1px solid black'})"
   ]
  },
  {
   "cell_type": "code",
   "execution_count": 18,
   "id": "7530f7e7-ed9f-481a-beea-9fdf475d9965",
   "metadata": {},
   "outputs": [],
   "source": [
    "@err_out.capture()\n",
    "def on_mouse_down(x, y):\n",
    "    state['pt_clicked'] = (x, y)\n",
    "    state['mouse_down'] = True\n",
    "    fg.fill_circle(x, y, radius=bg.line_width/2)\n",
    "    fg.stroke_circle(x, y, radius=bg.line_width/2 + 3)\n",
    "\n",
    "\n",
    "@err_out.capture()\n",
    "def on_mouse_up(x, y):\n",
    "    state['mouse_down'] = False\n",
    "\n",
    "    pt_current = (x, y)\n",
    "    pt_clicked = state['pt_clicked']\n",
    "\n",
    "    if state['key_pressed'] == 'Escape':\n",
    "        pass\n",
    "    elif state['key_pressed'] == 'r':\n",
    "        w = pt_current[0] - pt_clicked[0]\n",
    "        h = pt_current[1] - pt_clicked[1]\n",
    "        bg.stroke_rect(*pt_clicked, w, h)\n",
    "    elif state['key_pressed'] == 'c':\n",
    "        w = pt_current[0] - pt_clicked[0]\n",
    "        h = pt_current[1] - pt_clicked[1]\n",
    "        bg.stroke_circle(*pt_clicked, radius=(w**2+h**2)**.5)\n",
    "    elif state['key_pressed'] == 'R':\n",
    "        w = pt_current[0] - pt_clicked[0]\n",
    "        h = pt_current[1] - pt_clicked[1]\n",
    "        bg.fill_rect(*pt_clicked, w, h)\n",
    "    elif state['key_pressed'] == 'C':\n",
    "        w = pt_current[0] - pt_clicked[0]\n",
    "        h = pt_current[1] - pt_clicked[1]\n",
    "        bg.fill_circle(*pt_clicked, radius=(w**2+h**2)**.5)\n",
    "\n",
    "\n",
    "    else:\n",
    "        line = [pt_clicked,  pt_current]\n",
    "        bg.stroke_lines(line)\n",
    "\n",
    "    state['key_pressed'] = None\n",
    "    fg.clear()\n",
    "\n",
    "\n",
    "@err_out.capture()\n",
    "def on_key_down(key, *flags):\n",
    "    if state['mouse_down']:\n",
    "        state['key_pressed'] = key\n",
    "        return\n",
    "    if key == 'c':\n",
    "        bg.clear()\n",
    "    elif key.lower() in colors:\n",
    "        if key.islower():\n",
    "            fg.stroke_style = colors[key]\n",
    "            bg.stroke_style = colors[key]\n",
    "        else:\n",
    "            key = key.lower()\n",
    "            fg.fill_style = colors[key]\n",
    "            bg.fill_style = colors[key]\n",
    "\n",
    "    elif key in '123456789':\n",
    "        bg.line_width = int(key)"
   ]
  },
  {
   "cell_type": "code",
   "execution_count": 20,
   "id": "d0ee9e03-069e-4158-9757-71b65ffa5663",
   "metadata": {},
   "outputs": [
    {
     "data": {
      "application/vnd.jupyter.widget-view+json": {
       "model_id": "76684769557e400b9f9cf81968642965",
       "version_major": 2,
       "version_minor": 0
      },
      "text/plain": [
       "MultiCanvas(height=200, layout=Layout(border_bottom='1px solid black', border_left='1px solid black', border_r…"
      ]
     },
     "metadata": {},
     "output_type": "display_data"
    },
    {
     "data": {
      "application/vnd.jupyter.widget-view+json": {
       "model_id": "a025e3b6487e45c6a50205fd9872b99d",
       "version_major": 2,
       "version_minor": 0
      },
      "text/plain": [
       "Output(layout=Layout(border_bottom='1px solid black', border_left='1px solid black', border_right='1px solid b…"
      ]
     },
     "metadata": {},
     "output_type": "display_data"
    }
   ],
   "source": [
    "state = {'pt_clicked': None,\n",
    "         'mouse_down': False,\n",
    "         'key_pressed': None,\n",
    "         }\n",
    "\n",
    "colors = {'r': 'red',  'o': 'orange', 'b': 'blue', 'g': 'green',\n",
    "          'y': 'yellow', 'k': 'black', 'p': 'pink', 't': 'teal'}\n",
    "\n",
    "canvas_config = {\n",
    "    'width': 300,\n",
    "    'height': 200,\n",
    "    'layout': {'border': '1px solid black'},\n",
    "}\n",
    "\n",
    "mcanvas = MultiCanvas(2, **canvas_config)\n",
    "mcanvas.on_mouse_down(on_mouse_down)\n",
    "mcanvas.on_mouse_up(on_mouse_up)\n",
    "mcanvas.on_key_down(on_key_down)\n",
    "\n",
    "bg, fg = mcanvas\n",
    "\n",
    "err_out.clear_output()\n",
    "display(mcanvas, err_out)"
   ]
  },
  {
   "cell_type": "code",
   "execution_count": null,
   "id": "042e156a-0436-40b6-9fb0-24219c20ad3a",
   "metadata": {},
   "outputs": [],
   "source": []
  }
 ],
 "metadata": {
  "kernelspec": {
   "display_name": "Python 3 (ipykernel)",
   "language": "python",
   "name": "python3"
  },
  "language_info": {
   "codemirror_mode": {
    "name": "ipython",
    "version": 3
   },
   "file_extension": ".py",
   "mimetype": "text/x-python",
   "name": "python",
   "nbconvert_exporter": "python",
   "pygments_lexer": "ipython3",
   "version": "3.13.0"
  }
 },
 "nbformat": 4,
 "nbformat_minor": 5
}
