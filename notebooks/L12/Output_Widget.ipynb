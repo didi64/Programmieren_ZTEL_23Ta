{
 "cells": [
  {
   "cell_type": "markdown",
   "id": "f6227053-46b2-4e2c-a87b-704f6ebfaf18",
   "metadata": {},
   "source": [
    "### Das Output-Widget\n",
    "Siehe auch [Doku zum Output-Widget](https://ipywidgets.readthedocs.io/en/latest/examples/Output%20Widget.html).  \n",
    "\n",
    "Das Output-Widget ist ein Fenster, in das sich Output, meist Text, umleiten l&auml;sst.\n",
    "```python\n",
    "# Widget erstellen\n",
    "out = Output(layout={'border': '1px solid black'})\n",
    "\n",
    "# aller vom Codeblock ... produzierter Output,\n",
    "# inkl. Fehlermeldungen nach out umleiten\n",
    "with out:\n",
    "    ...\n",
    "\n",
    "# aller von f(...) produzierter Output nach out umgeleiten\n",
    "@out.capture()\n",
    "def f(...):\n",
    "    ...\n",
    "\n",
    "# vor jedem Aufruf von f(...) wird der Inhalt von out geloescht\n",
    "@out.capture(clear_output=True)\n",
    "def f(...):\n",
    "    ...\n",
    "```"
   ]
  },
  {
   "cell_type": "code",
   "execution_count": null,
   "id": "db038198-709b-4b55-9fe1-e182511497af",
   "metadata": {},
   "outputs": [],
   "source": [
    "from ipywidgets import Output"
   ]
  },
  {
   "cell_type": "code",
   "execution_count": null,
   "id": "2426a7ce-15b5-477f-a6c2-56e0b83f3d88",
   "metadata": {},
   "outputs": [],
   "source": [
    "# ohne den schwarzen Rand ist ein leeres Output-Widget unsichtbar\n",
    "layout = {'border': '1px solid black'}\n",
    "out = Output(layout=layout)\n",
    "out"
   ]
  },
  {
   "cell_type": "code",
   "execution_count": null,
   "id": "1a9351fe-0b05-4f85-bcc5-eeeedfe570dd",
   "metadata": {},
   "outputs": [],
   "source": [
    "# Output in out loeschen\n",
    "out.clear_output()"
   ]
  },
  {
   "cell_type": "code",
   "execution_count": null,
   "id": "6cbd0997-60f4-42ce-a4a9-0a59d93ff750",
   "metadata": {},
   "outputs": [],
   "source": [
    "with out:\n",
    "    print('Hello!')"
   ]
  },
  {
   "cell_type": "code",
   "execution_count": null,
   "id": "5d7328be-9343-4139-a9b4-8320b364d6a6",
   "metadata": {},
   "outputs": [],
   "source": [
    "with out:\n",
    "    # Fehlermeldung wird nach out umgeleitet\n",
    "    print(foo)"
   ]
  },
  {
   "cell_type": "code",
   "execution_count": null,
   "id": "bee5563e-dcb4-4d9b-94a2-56db8257e2a2",
   "metadata": {},
   "outputs": [],
   "source": [
    "# aller Output von f wird nach out umgeleitet\n",
    "@out.capture()\n",
    "def f():\n",
    "    print('Hello from f')\n",
    "\n",
    "\n",
    "# aller Output von f wird nach out umgeleitet, vorher wird out geleert\n",
    "@out.capture(clear_output=True)\n",
    "def g():\n",
    "    print('Hello from g')"
   ]
  },
  {
   "cell_type": "code",
   "execution_count": null,
   "id": "a490f19b-5848-4878-9f57-382638e8cb6f",
   "metadata": {},
   "outputs": [],
   "source": [
    "f()"
   ]
  },
  {
   "cell_type": "code",
   "execution_count": null,
   "id": "41eb5c13-1fd1-4736-b42f-9702914a10bd",
   "metadata": {},
   "outputs": [],
   "source": [
    "g()"
   ]
  },
  {
   "cell_type": "code",
   "execution_count": null,
   "id": "913a8995-f5dd-44e5-8d75-71c8fa3d7729",
   "metadata": {},
   "outputs": [],
   "source": []
  },
  {
   "cell_type": "markdown",
   "id": "496cf023-43e6-40bd-9651-832ad3d6ce95",
   "metadata": {},
   "source": [
    "### Fehlermeldungen von Callbacks in ein Output-Widget umleiten\n",
    "\n",
    "Ruft ein Jupyterlab-Widget eine Callback-Funktion auf,\n",
    "so wird deren Output (inkl.Fehlermeldugen) nicht direkt ins \n",
    "Notebook geschreiben, sondern (wenn man Gl&uuml;ck hat) in die Log-Console. Ruft z.B. ein Button-Widget beim \n",
    "Draufklicken ein fehlerhaftes Callback auf, passiert oft einfach gar nichts, was das auffinden des Fehlers sehr schwierig macht.\n",
    "\n",
    "Aus diesem Grund empfiehlt es sich,\n",
    "ein Output-Widget f&uuml;r die Ausgabe der Fehler zu erstellen und allen Output der Callbacks dorthin umzuleiten.\n",
    "\n",
    "```python\n",
    "err_out = new_out()\n",
    "\n",
    "@err_out.capture()\n",
    "def some_callback():\n",
    "    ...\n",
    "```"
   ]
  },
  {
   "cell_type": "code",
   "execution_count": null,
   "id": "38242d43-324f-47da-a5e0-9e19b657d75b",
   "metadata": {},
   "outputs": [],
   "source": [
    "err_out = Output(layout=layout)"
   ]
  },
  {
   "cell_type": "code",
   "execution_count": null,
   "id": "e6f0ad01-b7bf-42d3-a5ba-b679e9d5d5e2",
   "metadata": {},
   "outputs": [],
   "source": [
    "@err_out.capture()\n",
    "def on_key_down(key, *flags):\n",
    "    print(key, flag)\n",
    "\n",
    "\n",
    "@err_out.capture()\n",
    "def on_mouse_down(x, y):\n",
    "    print('on_mouse_down', x, y)\n",
    "\n",
    "\n",
    "@err_out.capture()\n",
    "def on_mouse_up(x, y):\n",
    "    print('on_mouse_up', x, y)"
   ]
  },
  {
   "cell_type": "code",
   "execution_count": null,
   "id": "8a8996fa-f0dd-431c-aeb5-81e360336189",
   "metadata": {},
   "outputs": [],
   "source": [
    "from ipycanvas import Canvas\n",
    "\n",
    "\n",
    "canvas_config = {\n",
    "    'width': 300,\n",
    "    'height': 200,\n",
    "    'layout': layout,\n",
    "}\n",
    "\n",
    "canvas = Canvas(**canvas_config)\n",
    "\n",
    "canvas.on_key_down(on_key_down)\n",
    "canvas.on_mouse_down(on_mouse_down)\n",
    "canvas.on_mouse_up(on_mouse_up)\n",
    "\n",
    "display(canvas, err_out)"
   ]
  },
  {
   "cell_type": "code",
   "execution_count": null,
   "id": "e6466fd8-d6c4-44cb-8b75-110af6fbf113",
   "metadata": {},
   "outputs": [],
   "source": [
    "err_out.clear_output()"
   ]
  },
  {
   "cell_type": "code",
   "execution_count": null,
   "id": "e15b5b5b-0ba8-4989-bcbc-564d4e072e13",
   "metadata": {},
   "outputs": [],
   "source": []
  }
 ],
 "metadata": {
  "kernelspec": {
   "display_name": "Python 3 (ipykernel)",
   "language": "python",
   "name": "python3"
  },
  "language_info": {
   "codemirror_mode": {
    "name": "ipython",
    "version": 3
   },
   "file_extension": ".py",
   "mimetype": "text/x-python",
   "name": "python",
   "nbconvert_exporter": "python",
   "pygments_lexer": "ipython3",
   "version": "3.13.0"
  }
 },
 "nbformat": 4,
 "nbformat_minor": 5
}
