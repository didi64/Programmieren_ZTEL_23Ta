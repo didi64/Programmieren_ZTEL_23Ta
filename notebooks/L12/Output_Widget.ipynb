{
 "cells": [
  {
   "cell_type": "code",
   "execution_count": null,
   "id": "c31407af-4ad4-4451-ac4a-45e781c9ddea",
   "metadata": {},
   "outputs": [],
   "source": [
    "# Outputwidget zum Debuggen von Callbacks\n",
    "# SPlite, behandle auch canvas Events\n",
    "# copy ev. allg text zu widgets"
   ]
  },
  {
   "cell_type": "markdown",
   "id": "f6227053-46b2-4e2c-a87b-704f6ebfaf18",
   "metadata": {},
   "source": [
    "### Das Output-Widget\n",
    "Siehe auch [Doku zum Output-Widget](https://ipywidgets.readthedocs.io/en/latest/examples/Output%20Widget.html).  \n",
    "\n",
    "Das Output-Widget ist ein Fenster, in das sich Output, meist Text, umleiten l&auml;sst.\n",
    "```python\n",
    "# Widget erstellen\n",
    "out = Output(layout={'border': '1px solid black'})\n",
    "\n",
    "# aller vom Codeblock ... produzierter Output,\n",
    "# inkl. Fehlermeldungen nach out umleiten\n",
    "with out:\n",
    "    ...\n",
    "\n",
    "# aller von f(...) produzierter Output nach out umgeleiten\n",
    "@out.capture()\n",
    "def f(...):\n",
    "    ...\n",
    "\n",
    "# vor jedem Aufruf von f(...) wird der Inhalt von out geloescht\n",
    "@out.capture(clear_output=True)\n",
    "def f(...):\n",
    "    ...\n",
    "```"
   ]
  },
  {
   "cell_type": "code",
   "execution_count": 16,
   "id": "db038198-709b-4b55-9fe1-e182511497af",
   "metadata": {},
   "outputs": [],
   "source": [
    "from ipywidgets import Output"
   ]
  },
  {
   "cell_type": "code",
   "execution_count": null,
   "id": "869d515c-a0f4-497e-8bdb-f6015787e74e",
   "metadata": {},
   "outputs": [],
   "source": []
  },
  {
   "cell_type": "code",
   "execution_count": null,
   "id": "2426a7ce-15b5-477f-a6c2-56e0b83f3d88",
   "metadata": {},
   "outputs": [],
   "source": [
    "# ohne den schwarzen Rand ist ein leeres Output-Widget unsichtbar\n",
    "layout = {'border': '1px solid black'}\n",
    "out = Output(layout=layout)\n",
    "out"
   ]
  },
  {
   "cell_type": "code",
   "execution_count": null,
   "id": "1a9351fe-0b05-4f85-bcc5-eeeedfe570dd",
   "metadata": {},
   "outputs": [],
   "source": [
    "# Output in out loeschen\n",
    "out.clear_output()"
   ]
  },
  {
   "cell_type": "code",
   "execution_count": null,
   "id": "23c54789-ceb7-4d24-bb31-fec50dcb0cfa",
   "metadata": {},
   "outputs": [],
   "source": []
  },
  {
   "cell_type": "code",
   "execution_count": 14,
   "id": "3ef0c54d-967d-4234-a893-68689b1c05e6",
   "metadata": {},
   "outputs": [],
   "source": [
    "def new_out(**kwargs):\n",
    "    layout = {'border': '1px solid black'}\n",
    "    for k, v in kwargs.items():\n",
    "        layout[k] = v\n",
    "    out = Output(layout=layout)\n",
    "    return out"
   ]
  },
  {
   "cell_type": "code",
   "execution_count": null,
   "id": "8257b670-c664-45ef-ba5b-ff94eb56e7dd",
   "metadata": {},
   "outputs": [],
   "source": []
  },
  {
   "cell_type": "code",
   "execution_count": null,
   "id": "6cbd0997-60f4-42ce-a4a9-0a59d93ff750",
   "metadata": {},
   "outputs": [],
   "source": [
    "with out:\n",
    "    print('Hello!')"
   ]
  },
  {
   "cell_type": "code",
   "execution_count": null,
   "id": "5d7328be-9343-4139-a9b4-8320b364d6a6",
   "metadata": {},
   "outputs": [],
   "source": [
    "with out:\n",
    "    # Fehlermeldung wird nach out umgeleitet\n",
    "    print(foo)"
   ]
  },
  {
   "cell_type": "code",
   "execution_count": null,
   "id": "30f8ee06-f809-41a8-b87a-df5a72bec3ae",
   "metadata": {},
   "outputs": [],
   "source": []
  },
  {
   "cell_type": "code",
   "execution_count": null,
   "id": "bee5563e-dcb4-4d9b-94a2-56db8257e2a2",
   "metadata": {},
   "outputs": [],
   "source": [
    "# aller Output von f wird nach out umgeleitet\n",
    "@out.capture()\n",
    "def f():\n",
    "    print('Hello from f')\n",
    "\n",
    "\n",
    "# aller Output von f wird nach out umgeleitet, vorher wird out geleert\n",
    "@out.capture(clear_output=True)\n",
    "def g():\n",
    "    print('Hello from g')"
   ]
  },
  {
   "cell_type": "code",
   "execution_count": null,
   "id": "a490f19b-5848-4878-9f57-382638e8cb6f",
   "metadata": {},
   "outputs": [],
   "source": [
    "f()"
   ]
  },
  {
   "cell_type": "code",
   "execution_count": null,
   "id": "41eb5c13-1fd1-4736-b42f-9702914a10bd",
   "metadata": {},
   "outputs": [],
   "source": [
    "g()"
   ]
  },
  {
   "cell_type": "code",
   "execution_count": null,
   "id": "913a8995-f5dd-44e5-8d75-71c8fa3d7729",
   "metadata": {},
   "outputs": [],
   "source": []
  },
  {
   "cell_type": "code",
   "execution_count": null,
   "id": "249077bb-4ee4-4ffa-8e6e-d8c75834a6f9",
   "metadata": {},
   "outputs": [],
   "source": []
  },
  {
   "cell_type": "markdown",
   "id": "496cf023-43e6-40bd-9651-832ad3d6ce95",
   "metadata": {},
   "source": [
    "### Fehlermeldungen von Callbacks in ein Output-Widget umleiten\n",
    "\n",
    "Ruft ein Jupyterlab-Widget eine Callback-Funktion auf,\n",
    "so wird deren Output (inkl.Fehlermeldugen) nicht direkt ins \n",
    "Notebook geschreiben, sondern (wenn man Gl&uuml;ck hat) in die Log-Console. Ruft z.B. ein Button-Widget beim \n",
    "Draufklicken ein fehlerhaftes Callback auf, passiert oft einfach gar nichts, was das auffinden des Fehlers sehr schwierig macht.\n",
    "\n",
    "Aus diesem Grund empfiehlt es sich,\n",
    "ein Output-Widget f&uuml;r die Ausgabe der Fehler zu erstellen und allen Output der Callbacks dorthin umzuleiten.\n",
    "\n",
    "```python\n",
    "err_out = new_out()\n",
    "\n",
    "@err_out.capture()\n",
    "def some_callback():\n",
    "    ...\n",
    "```"
   ]
  },
  {
   "cell_type": "code",
   "execution_count": null,
   "id": "38242d43-324f-47da-a5e0-9e19b657d75b",
   "metadata": {},
   "outputs": [],
   "source": [
    "err_out = Output(layout=layout)"
   ]
  },
  {
   "cell_type": "code",
   "execution_count": null,
   "id": "e6f0ad01-b7bf-42d3-a5ba-b679e9d5d5e2",
   "metadata": {},
   "outputs": [],
   "source": [
    "@err_out.capture()\n",
    "def on_key_down(key, *flags):\n",
    "    print(key, flag)\n",
    "\n",
    "\n",
    "@err_out.capture()\n",
    "def on_mouse_down(x, y):\n",
    "    print('on_mouse_down', x, y)\n",
    "\n",
    "\n",
    "@err_out.capture()\n",
    "def on_mouse_up(x, y):\n",
    "    print('on_mouse_up', x, y)"
   ]
  },
  {
   "cell_type": "code",
   "execution_count": null,
   "id": "8a8996fa-f0dd-431c-aeb5-81e360336189",
   "metadata": {},
   "outputs": [],
   "source": [
    "from ipycanvas import Canvas\n",
    "\n",
    "\n",
    "canvas_config = {\n",
    "    'width': 300,\n",
    "    'height': 200,\n",
    "    'layout': layout,\n",
    "}\n",
    "\n",
    "canvas = Canvas(**canvas_config)\n",
    "\n",
    "canvas.on_key_down(on_key_down)\n",
    "canvas.on_mouse_down(on_mouse_down)\n",
    "canvas.on_mouse_up(on_mouse_up)\n",
    "\n",
    "display(canvas, err_out)"
   ]
  },
  {
   "cell_type": "code",
   "execution_count": null,
   "id": "e6466fd8-d6c4-44cb-8b75-110af6fbf113",
   "metadata": {},
   "outputs": [],
   "source": [
    "err_out.clear_output()"
   ]
  },
  {
   "cell_type": "code",
   "execution_count": null,
   "id": "e15b5b5b-0ba8-4989-bcbc-564d4e072e13",
   "metadata": {},
   "outputs": [],
   "source": []
  },
  {
   "cell_type": "code",
   "execution_count": 9,
   "id": "ec57c280-b890-43c6-8226-b58abf5db506",
   "metadata": {},
   "outputs": [],
   "source": [
    "# NIM Game\n",
    "\n",
    "heaps = [9, 10, 11]\n",
    "\n",
    "\n",
    "def print_heaps(heaps):\n",
    "    for i, n in enumerate(heaps):\n",
    "        s = '***** ' * (n // 5) + '*' * (n % 5)\n",
    "        print('{}) {}'.format(i, s))\n",
    "    print()\n",
    "\n",
    "\n",
    "def update(heaps, idx, n):\n",
    "    heaps[idx] = max(0, heaps[idx]-n)\n",
    "\n",
    "\n",
    "def best_nim_move(heaps):\n",
    "    tot = sum(heaps)\n",
    "    for i, heap in enumerate(heaps):\n",
    "        if heap:\n",
    "            nonempty = i\n",
    "        n = heap ^ tot\n",
    "        if n < heap:\n",
    "            move = (i, heap - n)\n",
    "            break\n",
    "    else:\n",
    "        move = (nonempty, 1)\n",
    "    return move\n",
    "\n",
    "\n",
    "def move(idx, n):\n",
    "    update(heaps, idx, n)\n",
    "    print(f'You removed {n} from heap {idx}')\n",
    "    print_heaps(heaps)\n",
    "    if sum(heaps) == 0:\n",
    "        print('You won!')\n",
    "\n",
    "    idx, n = best_nim_move(heaps)\n",
    "    print(f'Compi removed {n} from heap {idx}')\n",
    "    update(heaps, idx, n)\n",
    "    print_heaps(heaps)\n",
    "    if sum(heaps) == 0:\n",
    "        print('You lost!')"
   ]
  },
  {
   "cell_type": "code",
   "execution_count": 10,
   "id": "c7b65304-e45e-4f9c-9221-1d24e2a4fc2c",
   "metadata": {},
   "outputs": [
    {
     "name": "stdout",
     "output_type": "stream",
     "text": [
      "0) ***** ***** **\n",
      "1) ***\n",
      "2) ***** \n",
      "\n"
     ]
    }
   ],
   "source": [
    "print_heaps([12, 3, 5])"
   ]
  },
  {
   "cell_type": "code",
   "execution_count": 11,
   "id": "dc35247e-25ef-463b-85a6-c73adc7456e1",
   "metadata": {},
   "outputs": [
    {
     "name": "stdout",
     "output_type": "stream",
     "text": [
      "You removed 10 from heap 0\n",
      "0) \n",
      "1) ***** ***** \n",
      "2) ***** ***** *\n",
      "\n",
      "Compi removed 1 from heap 2\n",
      "0) \n",
      "1) ***** ***** \n",
      "2) ***** ***** \n",
      "\n"
     ]
    }
   ],
   "source": [
    "move(0, 10)"
   ]
  },
  {
   "cell_type": "code",
   "execution_count": null,
   "id": "84ff1a5b-43f3-4db9-9bf8-ce4fdbf7683f",
   "metadata": {},
   "outputs": [],
   "source": []
  },
  {
   "cell_type": "code",
   "execution_count": 12,
   "id": "7cb0d3c1-ff1f-422b-a890-735c742fdf74",
   "metadata": {},
   "outputs": [],
   "source": [
    "from ipywidgets import Text\n",
    "\n",
    "\n",
    "# Deprecation Warnings unterdruecken\n",
    "import warnings\n",
    "warnings.filterwarnings('ignore', category=DeprecationWarning)"
   ]
  },
  {
   "cell_type": "code",
   "execution_count": 17,
   "id": "8dac3f37-9279-4f4e-a942-a9b031d0b704",
   "metadata": {},
   "outputs": [],
   "source": [
    "out_main = new_out(height='200px')\n",
    "out_err = new_out()\n",
    "\n",
    "heaps = [9, 10, 11]\n",
    "prompt = 'Haufen, wieviele: '\n",
    "\n",
    "\n",
    "@out_err.capture()\n",
    "def on_press_enter(text):\n",
    "    idx, n = [int(s) for s in text.value.removeprefix(prompt).split(',')]\n",
    "    out_main.clear_output()\n",
    "    with out_main:\n",
    "        move(idx, n)\n",
    "\n",
    "    text.value = prompt\n",
    "\n",
    "\n",
    "text = Text(value=prompt)\n",
    "text.on_submit(on_press_enter)"
   ]
  },
  {
   "cell_type": "code",
   "execution_count": 18,
   "id": "be633b25-86a1-46b1-9e53-a5d5a01eacfe",
   "metadata": {},
   "outputs": [
    {
     "data": {
      "application/vnd.jupyter.widget-view+json": {
       "model_id": "228f6779829d41ce8237f10f22c671d2",
       "version_major": 2,
       "version_minor": 0
      },
      "text/plain": [
       "Text(value='Haufen, wieviele: ')"
      ]
     },
     "metadata": {},
     "output_type": "display_data"
    },
    {
     "data": {
      "application/vnd.jupyter.widget-view+json": {
       "model_id": "5a74b58e385148b5b7e401e5bea3a9f6",
       "version_major": 2,
       "version_minor": 0
      },
      "text/plain": [
       "Output(layout=Layout(border_bottom='1px solid black', border_left='1px solid black', border_right='1px solid b…"
      ]
     },
     "metadata": {},
     "output_type": "display_data"
    },
    {
     "data": {
      "application/vnd.jupyter.widget-view+json": {
       "model_id": "a697f9157f7549598662f3b4eea15528",
       "version_major": 2,
       "version_minor": 0
      },
      "text/plain": [
       "Output(layout=Layout(border_bottom='1px solid black', border_left='1px solid black', border_right='1px solid b…"
      ]
     },
     "metadata": {},
     "output_type": "display_data"
    }
   ],
   "source": [
    "with out_main:\n",
    "    print_heaps(heaps)\n",
    "\n",
    "display(text, out_main, out_err)\n",
    "text.focus()"
   ]
  },
  {
   "cell_type": "code",
   "execution_count": null,
   "id": "67a1b786-51b0-4273-b20f-6b1fdf783237",
   "metadata": {},
   "outputs": [],
   "source": []
  },
  {
   "cell_type": "code",
   "execution_count": 90,
   "id": "f988f160-14aa-4be5-8cfc-f411dbb7e31c",
   "metadata": {},
   "outputs": [
    {
     "data": {
      "application/vnd.jupyter.widget-view+json": {
       "model_id": "455afc056d2a4e67acc1a2afacf7a31b",
       "version_major": 2,
       "version_minor": 0
      },
      "text/plain": [
       "Text(value='Haufen, wieviele: ')"
      ]
     },
     "metadata": {},
     "output_type": "display_data"
    },
    {
     "data": {
      "application/vnd.jupyter.widget-view+json": {
       "model_id": "406816c3969742c8bb0c1a356d43bf8d",
       "version_major": 2,
       "version_minor": 0
      },
      "text/plain": [
       "Output(layout=Layout(border_bottom='1px solid black', border_left='1px solid black', border_right='1px solid b…"
      ]
     },
     "metadata": {},
     "output_type": "display_data"
    }
   ],
   "source": [
    "out_main = new_out(height='200px')\n",
    "out_err = new_out()\n",
    "\n",
    "heaps = [9, 10, 11]\n",
    "prompt = 'Haufen, wieviele: '\n",
    "out_main = new_out(height='200px')\n",
    "\n",
    "\n",
    "@out_err\n",
    "def on_press_enter(text):\n",
    "    idx, n = [int(s) for s in text.value.removeprefix(prompt).split(',')]\n",
    "\n",
    "    update(heaps, idx, n)\n",
    "    print(f'You removed {idx} from heap {n}')\n",
    "    print_heaps(heaps)\n",
    "\n",
    "    print('Compi')\n",
    "    idx, n = ask_compi(heaps)\n",
    "    update(heaps, idx, n)\n",
    "    print_heaps(heaps)\n",
    "\n",
    "    text.value = prompt\n",
    "\n",
    "\n",
    "text = Text(value=prompt)\n",
    "text.on_submit(on_press_enter)\n",
    "\n",
    "with out_main:\n",
    "    print_heaps(heaps)\n",
    "\n",
    "display(text, out_main)\n",
    "text.focus()"
   ]
  },
  {
   "cell_type": "code",
   "execution_count": null,
   "id": "754c8fb8-05e7-4d6d-b616-3803c8b2ff09",
   "metadata": {},
   "outputs": [],
   "source": []
  },
  {
   "cell_type": "code",
   "execution_count": null,
   "id": "78dfdaec-6570-4dd9-8ac4-95134b629be2",
   "metadata": {},
   "outputs": [],
   "source": []
  }
 ],
 "metadata": {
  "kernelspec": {
   "display_name": "Python 3 (ipykernel)",
   "language": "python",
   "name": "python3"
  },
  "language_info": {
   "codemirror_mode": {
    "name": "ipython",
    "version": 3
   },
   "file_extension": ".py",
   "mimetype": "text/x-python",
   "name": "python",
   "nbconvert_exporter": "python",
   "pygments_lexer": "ipython3",
   "version": "3.13.0"
  }
 },
 "nbformat": 4,
 "nbformat_minor": 5
}
