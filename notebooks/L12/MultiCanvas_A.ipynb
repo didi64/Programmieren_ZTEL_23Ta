{
 "cells": [
  {
   "cell_type": "markdown",
   "id": "01efa5e5-5252-4777-a391-98395da1954e",
   "metadata": {},
   "source": [
    "### MultiCanvas, mit L&ouml;sungen\n",
    "\n",
    "Eine MultiCanvas besteht aus mehreren Canvas-Layern, die sich unabh&auml;ngig voneinander bearbeiten lassen. Das MultiCanvas-Objekt selber hat keine Methoden zum Zeichnen, nur seine Layers.\n",
    "\n",
    "Ein MultiCanvas-Objekt mit 2 Layern `bg` (Hintergrund) und\n",
    "`fg` (Vordergund) l&auml;sst sich z.B. so erstellen:\n",
    "\n",
    "```python\n",
    "mcanvas = MultiCanvas(n_canvases=2, width=200, height=100)\n",
    "bg, fg = mcanvas  # einzelne Layers auspacken, bg: background, fg: foreground\n",
    "```\n",
    "\n",
    "\n"
   ]
  },
  {
   "cell_type": "code",
   "execution_count": null,
   "id": "c08770c9-6514-4ea8-b3fb-120d0d4e5935",
   "metadata": {},
   "outputs": [],
   "source": [
    "from ipycanvas import MultiCanvas\n",
    "\n",
    "\n",
    "# sonst ist display (zu unrecht) mit einer roten Wellenlinie unterlegt\n",
    "from IPython.display import display"
   ]
  },
  {
   "cell_type": "code",
   "execution_count": null,
   "id": "1c42c273-0855-48e7-8416-1d0566ed19fd",
   "metadata": {},
   "outputs": [],
   "source": [
    "mcanvas_config = {\n",
    "    'n_canvases': 2,\n",
    "    'width': 200,\n",
    "    'height': 200,\n",
    "    'layout': {'border': '1px solid black'},\n",
    "}\n",
    "\n",
    "mcanvas = MultiCanvas(**mcanvas_config)\n",
    "bg, fg = mcanvas  # die beiden Layer, background und foreground\n",
    "\n",
    "mcanvas"
   ]
  },
  {
   "cell_type": "code",
   "execution_count": null,
   "id": "29379522-a970-46c7-a4d0-bd8c80cc564a",
   "metadata": {},
   "outputs": [],
   "source": [
    "bg.fill_style = 'grey'\n",
    "bg.fill_rect(0, 0, bg.width, bg.height)\n",
    "fg.fill_style = 'blue'\n",
    "fg.fill_circle(100, 100, radius=25)"
   ]
  },
  {
   "cell_type": "code",
   "execution_count": null,
   "id": "b4a5f5a4-a36d-43b0-b3a2-9e66472236ab",
   "metadata": {},
   "outputs": [],
   "source": [
    "fg.clear()"
   ]
  },
  {
   "cell_type": "code",
   "execution_count": null,
   "id": "b7bf8c1f-15e5-4b6c-9593-945de1ed829c",
   "metadata": {},
   "outputs": [],
   "source": [
    "# Schachbrett auf Hintergrund zeichnen\n",
    "from Canvas_Aufgaben_A import draw_chessboard\n",
    "\n",
    "\n",
    "draw_chessboard(bg)"
   ]
  },
  {
   "cell_type": "code",
   "execution_count": null,
   "id": "83398215-1b76-40e4-80f5-180641f3f9af",
   "metadata": {},
   "outputs": [],
   "source": [
    "fg.fill_style = 'black'\n",
    "fg.fill_circle(60, 120, radius=20)"
   ]
  },
  {
   "cell_type": "code",
   "execution_count": null,
   "id": "2926da08-52ba-4e6e-90e6-dddd4020b564",
   "metadata": {},
   "outputs": [],
   "source": [
    "fg.clear()"
   ]
  },
  {
   "cell_type": "code",
   "execution_count": null,
   "id": "ed64a20a-aaed-434b-a831-41e632641f4e",
   "metadata": {},
   "outputs": [],
   "source": []
  },
  {
   "cell_type": "markdown",
   "id": "a57791e1-83eb-429c-80f4-d05f06cf82f7",
   "metadata": {},
   "source": [
    "### Aufgabe\n",
    "\n",
    "Der Code in der n&auml;chsten Zelle definiert zuerst eine\n",
    "Funktion `update_postion`. Mit\n",
    "```python\n",
    "mcanvas.on_mouse_down(update_postion)\n",
    "```\n",
    "\n",
    "wird diese Funktion als sog. Callback f&uuml;r das *on_mouse_down* registriert.\n",
    "Das bedeutet, dass diese Funktion aufgerufen wird, wenn  auf die Leinwand geklickt wird.\n",
    "Die $x$ und $y$ Koordinate der Klickposition werden der\n",
    "Funktion als Argumente &uuml;bergeben. Die Funktion speicher dann die Klickposition im Dictionary `position`.\n",
    "\n",
    "\n",
    "Auf welches Feld des Schachbretts (Spalte, Reihe) wurde geklickt? Zeichne einen schwarzen Kreis in die Mitte dieses Feldes.  \n",
    "**Hint**: Spalte und Reihe sind gegeben durch `x // dw` und `y // dh`, wobei\n",
    "`dw` und `dh` die Breite und H&ouml;he eines Feldes ist.\n",
    "   \n",
    "Schreibe eine Funktion, `draw_circle(canvas, x, y, color='black')`, \n",
    "die einen Kreis der Farbe `color` in die mitte des Feldes bei (x, y) zeichnet."
   ]
  },
  {
   "cell_type": "code",
   "execution_count": null,
   "id": "230f4bde-5c44-4609-8c32-86abacefdcef",
   "metadata": {},
   "outputs": [],
   "source": [
    "position = {'x': 100, 'y': 100}\n",
    "\n",
    "\n",
    "def update_postion(x, y):\n",
    "    position['x'] = x\n",
    "    position['y'] = y\n",
    "\n",
    "\n",
    "mcanvas.on_mouse_down(update_postion)"
   ]
  },
  {
   "cell_type": "code",
   "execution_count": null,
   "id": "f88cc715-8bec-40c1-ad60-3ebe77220761",
   "metadata": {},
   "outputs": [],
   "source": [
    "display(mcanvas)"
   ]
  },
  {
   "cell_type": "code",
   "execution_count": null,
   "id": "b15e4a63-e0c3-4cfd-a945-556d4d45ebae",
   "metadata": {},
   "outputs": [],
   "source": [
    "# klicke auf ein Feld und fuehre Zelle erneut aus\n",
    "position"
   ]
  },
  {
   "cell_type": "code",
   "execution_count": null,
   "id": "bb024500-d87b-4281-b68d-36c4265dd7bf",
   "metadata": {},
   "outputs": [],
   "source": [
    "from Canvas_Aufgaben_A import draw_circle\n",
    "\n",
    "# lambda x, y: draw_circle(fg, x, y, color='orange')\n",
    "# Funktion mit Argumenten x und y,\n",
    "# und Rueckgabewert draw_circle(fg, x, y, color='orange')\n",
    "mcanvas.on_mouse_down(lambda x, y: draw_circle(fg, x, y, color='orange'))"
   ]
  },
  {
   "cell_type": "code",
   "execution_count": null,
   "id": "5ec309b1-9e4d-4c30-952f-f9120294afa0",
   "metadata": {},
   "outputs": [],
   "source": [
    "draw_circle(fg, 0, 0)"
   ]
  },
  {
   "cell_type": "code",
   "execution_count": null,
   "id": "2d87f792-a0cc-44d1-9c4c-eb515b8d320f",
   "metadata": {},
   "outputs": [],
   "source": [
    "fg.clear()"
   ]
  },
  {
   "cell_type": "code",
   "execution_count": null,
   "id": "4c5860ac-96c1-4314-b194-dd1465b0aecc",
   "metadata": {},
   "outputs": [],
   "source": [
    "# wird immer noch aktuallisert\n",
    "# beide Callbacks, update_position und draw_circle werden aufgerufen\n",
    "position"
   ]
  },
  {
   "cell_type": "code",
   "execution_count": null,
   "id": "b6f265fc-02a5-41fe-a6f4-af503c362fc9",
   "metadata": {},
   "outputs": [],
   "source": []
  }
 ],
 "metadata": {
  "author": "dieter.probst@gmail.com",
  "kernelspec": {
   "display_name": "Python 3 (ipykernel)",
   "language": "python",
   "name": "python3"
  },
  "language_info": {
   "codemirror_mode": {
    "name": "ipython",
    "version": 3
   },
   "file_extension": ".py",
   "mimetype": "text/x-python",
   "name": "python",
   "nbconvert_exporter": "python",
   "pygments_lexer": "ipython3",
   "version": "3.13.0"
  }
 },
 "nbformat": 4,
 "nbformat_minor": 5
}
