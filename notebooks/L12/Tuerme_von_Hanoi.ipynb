{
 "cells": [
  {
   "cell_type": "markdown",
   "id": "82a401da-d65e-4ae7-ba22-3c508462ce78",
   "metadata": {},
   "source": [
    "### [T&uuml;rme von Hanoi](https://de.wikipedia.org/wiki/T%C3%BCrme_von_Hanoi)\n",
    "Ein Scheibenstapel soll verschoben werden. Dabei sind folgende Regeln einzuhalten:\n",
    "- Es darf jeweils nur eine Scheibe verschoben werden.\n",
    "- Auf eine Scheibe darf nur eine kleinere Scheibe gelegt werden.\n",
    "- Es d&uuml;rfen max. 3 Stapel vorhanden sein.\n",
    "\n",
    "Wir programmieren eine einfache, aber ausbauf&auml;hige Variante dieses Spiels.  \n",
    "- Verschoben wird ein Stabel mit 4 Scheiben,\n",
    "  repr&auml;sentiert durch die Zahlen 0, 1, 2 und 3. \n",
    "  Je gr&ouml;sser die Zahl,\n",
    "  desto gr&ouml;sser die Scheibe.\n",
    "- Eine absteigend sortierte Liste `[3, 2, 1, 0]` entspricht einem Stapel.\n",
    "  Die letzte Zahl entspricht der obersten und kleinsten Scheibe."
   ]
  },
  {
   "cell_type": "markdown",
   "id": "f552a074-7613-43da-8e4c-2495fa12371f",
   "metadata": {},
   "source": [
    "### Der Kern des Spiels\n",
    "Der Spielzustand wird in der Variable `stacks` gespeichert.\n",
    "Diese enth&auml;lt eine Liste mit 3 Listen, den Stapeln.\n",
    "Die Funktion `new_game()` startet ein neues Spiel, indem die Liste `stacks` modifiziert wird, so dass sie die 3 Stapel\n",
    "`[3, 2, 1, 0]`, `[]` und `[]` enth&auml;lt.\n",
    "\n",
    "Die Funktion `move_disk(src, dst)` verschiebt eine Scheibe von Stapel `src` (source) auf den Stapel `dst` (destination), falls regelkonform."
   ]
  },
  {
   "cell_type": "code",
   "execution_count": null,
   "id": "0963c65f-2b89-4e79-9f8d-c44093199d2d",
   "metadata": {},
   "outputs": [],
   "source": [
    "ndisks = 4\n",
    "stacks = []\n",
    "\n",
    "\n",
    "def new_game():\n",
    "    stacks[:] = [list(range(ndisks))[::-1], [], []]\n",
    "\n",
    "\n",
    "def move_disk(src, dst):\n",
    "    if not stacks[src] or (stacks[dst] and stacks[dst][-1] < stacks[src][-1]):\n",
    "        return\n",
    "    disk = stacks[src].pop()\n",
    "    stacks[dst].append(disk)"
   ]
  },
  {
   "cell_type": "code",
   "execution_count": null,
   "id": "9a5e3fa5-1d21-4bad-a773-1e694bb16258",
   "metadata": {},
   "outputs": [],
   "source": [
    "new_game()\n",
    "stacks"
   ]
  },
  {
   "cell_type": "code",
   "execution_count": null,
   "id": "760e04f1-551b-4377-8c82-5d4a6be3c6ec",
   "metadata": {},
   "outputs": [],
   "source": [
    "move_disk(0, 2)\n",
    "stacks"
   ]
  },
  {
   "cell_type": "code",
   "execution_count": null,
   "id": "23c96af9-f7cd-4fc1-ad07-2acd312972e0",
   "metadata": {},
   "outputs": [],
   "source": [
    "move_disk(0, 1)\n",
    "stacks"
   ]
  },
  {
   "cell_type": "code",
   "execution_count": null,
   "id": "de4fd817-cc2b-47b8-9c32-52c1046a42a9",
   "metadata": {},
   "outputs": [],
   "source": [
    "move_disk(2, 1)\n",
    "stacks"
   ]
  },
  {
   "cell_type": "markdown",
   "id": "16d37da3-71bc-45f3-865c-746bef02333f",
   "metadata": {},
   "source": [
    "### Spielbeginn und Scheibenverschiebungen als Events\n",
    "Wir k&ouml;nnen bereits ein neues Spiel starten, Scheiben verschieben und dann\n",
    "die neue Stabelkonfiguration betrachten, indem wir die Liste `stacks` ausgeben.\n",
    "Wir m&ouml;chten jedoch, dass der Spielzustand automatisch nach einem Neustart des Spiels und nach jeder Stapelverschiebung ausgegeben wird.  \n",
    "\n",
    "Diese Aufgabe &uuml;bertragen wir einem Eventhandler.\n",
    "Der Eventhandler ist eine Funktion, die mit den Argumenten `event` und `data`\n",
    "aufgerufen wird. `event` ist dabei der Name des Events und `data` sind die \n",
    "f&uuml;r die Bearbeitung des Events relevanten Daten.\n",
    "\n",
    "\n",
    "Im vorliegenden Fall haben wir 2 Events, Neustart und Stapelverschiebung.\n",
    "Wir behandeln beide gleich. F&uuml;rs erste geben wir jeweils eine textiche Darstellung der Stapelkonfiguration aus."
   ]
  },
  {
   "cell_type": "code",
   "execution_count": null,
   "id": "8ba3473f-db31-40b1-8696-7153a29d4b53",
   "metadata": {},
   "outputs": [],
   "source": [
    "ndisks = 4\n",
    "stacks = []\n",
    "\n",
    "\n",
    "def print_event(event, data):\n",
    "    print(event, data)\n",
    "\n",
    "\n",
    "event_handler = print_event\n",
    "\n",
    "\n",
    "def new_game():\n",
    "    stacks[:] = [list(range(ndisks))[::-1], [], []]\n",
    "    event_handler('new game', stacks)\n",
    "\n",
    "\n",
    "def move_disk(src, dst):\n",
    "    if not stacks[src] or (stacks[dst] and stacks[dst][-1] < stacks[src][-1]):\n",
    "        return\n",
    "    disk = stacks[src].pop()\n",
    "    stacks[dst].append(disk)\n",
    "    event_handler('update stacks', stacks)"
   ]
  },
  {
   "cell_type": "code",
   "execution_count": null,
   "id": "caec2b38-3c44-4139-891a-818ea57be671",
   "metadata": {},
   "outputs": [],
   "source": [
    "new_game()"
   ]
  },
  {
   "cell_type": "code",
   "execution_count": null,
   "id": "2120cb90-8c4b-42d3-ac01-722ebfb7fa77",
   "metadata": {},
   "outputs": [],
   "source": [
    "move_disk(0, 2)"
   ]
  },
  {
   "cell_type": "code",
   "execution_count": null,
   "id": "2389329a-538f-4d40-8f38-c11c0aea0a5d",
   "metadata": {},
   "outputs": [],
   "source": [
    "move_disk(0, 1)"
   ]
  },
  {
   "cell_type": "code",
   "execution_count": null,
   "id": "0e6037d3-4dc1-4bda-9d03-26dd9d7eb12e",
   "metadata": {},
   "outputs": [],
   "source": [
    "move_disk(2, 1)"
   ]
  },
  {
   "cell_type": "code",
   "execution_count": null,
   "id": "f9e31eb1-d7b7-44eb-a23b-d3a00f8d0e1b",
   "metadata": {},
   "outputs": [],
   "source": []
  },
  {
   "cell_type": "markdown",
   "id": "5bb6dc1e-e634-4fe9-b31d-91e761976b1e",
   "metadata": {},
   "source": [
    "### Textliche Darstellung der Stapel in einem Output-Widget"
   ]
  },
  {
   "cell_type": "code",
   "execution_count": 51,
   "id": "f27059e8-73af-4440-b84b-39c8f1e1071f",
   "metadata": {},
   "outputs": [],
   "source": [
    "from ipywidgets import Output\n",
    "\n",
    "\n",
    "layout = {'border': '1px solid black', 'height': '75px'}\n",
    "out = Output(layout=layout)\n",
    "\n",
    "\n",
    "@out.capture(clear_output=True)\n",
    "def print_stacks(event, stacks):\n",
    "    lines = []\n",
    "    for h in range(ndisks):\n",
    "        line = ''.join(' '*7 if len(stack) <= h else f'{'*' * (2*stack[h]+1):^7}'\n",
    "                       for stack in stacks)\n",
    "        lines.append(line)\n",
    "    print('\\n'.join(lines[::-1]))"
   ]
  },
  {
   "cell_type": "code",
   "execution_count": 52,
   "id": "49e8d3a2-93e8-475d-9a94-185edb289933",
   "metadata": {},
   "outputs": [],
   "source": [
    "out.clear_output()"
   ]
  },
  {
   "cell_type": "code",
   "execution_count": 53,
   "id": "fb741a89-f0d7-4c5b-a8a5-fac7f3c62416",
   "metadata": {},
   "outputs": [
    {
     "data": {
      "application/vnd.jupyter.widget-view+json": {
       "model_id": "6a1e376de66c4574ab599c0628927c1e",
       "version_major": 2,
       "version_minor": 0
      },
      "text/plain": [
       "Output(layout=Layout(border_bottom='1px solid black', border_left='1px solid black', border_right='1px solid b…"
      ]
     },
     "execution_count": 53,
     "metadata": {},
     "output_type": "execute_result"
    }
   ],
   "source": [
    "out"
   ]
  },
  {
   "cell_type": "code",
   "execution_count": 54,
   "id": "8ed511d4-d229-4515-b1d5-98f3ac403da0",
   "metadata": {},
   "outputs": [],
   "source": [
    "event_handler = print_stacks"
   ]
  },
  {
   "cell_type": "code",
   "execution_count": 55,
   "id": "f9dc841a-eb6f-428f-92d2-deb7561b7ec9",
   "metadata": {},
   "outputs": [],
   "source": [
    "new_game()"
   ]
  },
  {
   "cell_type": "code",
   "execution_count": 56,
   "id": "bcdd7552-7ae8-49da-b147-9a1e98436806",
   "metadata": {},
   "outputs": [],
   "source": [
    "move_disk(0, 2)"
   ]
  },
  {
   "cell_type": "code",
   "execution_count": 57,
   "id": "1e1d19d4-b219-4e2f-85de-63a42c53c2f3",
   "metadata": {},
   "outputs": [],
   "source": [
    "move_disk(0, 1)"
   ]
  },
  {
   "cell_type": "code",
   "execution_count": 58,
   "id": "6649272d-3726-419f-9c2b-1834f61d7622",
   "metadata": {},
   "outputs": [],
   "source": [
    "move_disk(2, 1)"
   ]
  },
  {
   "cell_type": "markdown",
   "id": "49843601-c062-4fb5-9cf6-00c7b3d6f5c1",
   "metadata": {},
   "source": [
    "### Output-Widget zum debuggen von Fehlermeldungen der Callbacks"
   ]
  },
  {
   "cell_type": "code",
   "execution_count": null,
   "id": "c4971a50-80e4-4975-8175-a96bffdcaa24",
   "metadata": {},
   "outputs": [],
   "source": [
    "err_out = Output(layout={'border': '1px solid black'})"
   ]
  },
  {
   "cell_type": "markdown",
   "id": "63d4cbcf-0ad0-4f13-b682-bef4b1e33226",
   "metadata": {},
   "source": [
    "### Steuerung mit Text-Widget"
   ]
  },
  {
   "cell_type": "code",
   "execution_count": 70,
   "id": "a5da79ff-9af4-4ac1-84aa-e71e7a7bee53",
   "metadata": {},
   "outputs": [],
   "source": [
    "import warnings\n",
    "from IPython.display import display\n",
    "from ipywidgets import Text\n",
    "\n",
    "\n",
    "prompt = 'Move ? '\n",
    "\n",
    "\n",
    "@err_out.capture()  # zum debuggen\n",
    "def on_press_enter(text):\n",
    "    value = text.value.removeprefix(prompt)\n",
    "    if value == 'n':\n",
    "        new_game()\n",
    "    if len(value) == 2 and value.isdigit():\n",
    "        src, dst = (int(s)-1 for s in value)\n",
    "        move_disk(src, dst)\n",
    "    text.value = prompt\n",
    "\n",
    "\n",
    "warnings.filterwarnings('ignore', category=DeprecationWarning)\n",
    "\n",
    "text = Text(value=prompt)\n",
    "text.on_submit(on_press_enter)"
   ]
  },
  {
   "cell_type": "code",
   "execution_count": 71,
   "id": "8d36f7e9-9611-4724-a945-5f6c9ca0ec46",
   "metadata": {},
   "outputs": [],
   "source": [
    "err_out.clear_output()"
   ]
  },
  {
   "cell_type": "code",
   "execution_count": 72,
   "id": "75fcffe0-feab-45eb-a5bc-c3328b5e3c5c",
   "metadata": {},
   "outputs": [
    {
     "data": {
      "application/vnd.jupyter.widget-view+json": {
       "model_id": "6a1e376de66c4574ab599c0628927c1e",
       "version_major": 2,
       "version_minor": 0
      },
      "text/plain": [
       "Output(layout=Layout(border_bottom='1px solid black', border_left='1px solid black', border_right='1px solid b…"
      ]
     },
     "metadata": {},
     "output_type": "display_data"
    },
    {
     "data": {
      "application/vnd.jupyter.widget-view+json": {
       "model_id": "1b0b6ca12aad467883915cb9fc16b406",
       "version_major": 2,
       "version_minor": 0
      },
      "text/plain": [
       "Text(value='Move ? ')"
      ]
     },
     "metadata": {},
     "output_type": "display_data"
    },
    {
     "data": {
      "application/vnd.jupyter.widget-view+json": {
       "model_id": "85d811a4bf374bae891f70c28f4f726b",
       "version_major": 2,
       "version_minor": 0
      },
      "text/plain": [
       "Output(layout=Layout(border_bottom='1px solid black', border_left='1px solid black', border_right='1px solid b…"
      ]
     },
     "metadata": {},
     "output_type": "display_data"
    }
   ],
   "source": [
    "display(out, text, err_out)"
   ]
  },
  {
   "cell_type": "code",
   "execution_count": null,
   "id": "5232012d-2a10-4a9f-89d6-9ead6a9e5b88",
   "metadata": {},
   "outputs": [],
   "source": []
  },
  {
   "cell_type": "code",
   "execution_count": null,
   "id": "593e075e-5668-4d82-a152-eba5b1d8e02c",
   "metadata": {},
   "outputs": [],
   "source": []
  },
  {
   "cell_type": "markdown",
   "id": "11f7e873-ae3b-49ee-8e2a-fb01f738b643",
   "metadata": {},
   "source": [
    "### Bildliche Darstellung der Stapelkonfiguration\n",
    "Statt einer textlichen Darstellung der Stapelkonfiguration\n",
    "soll der Eventhandler ein Bildliche Darstellung liefern.\n",
    "Dazu weisen wir der Variable `event_handler` eine Funktion zu, welche\n",
    "die Scheibenstapel unter Verwendung des Canvas-Objekts zeichnet.\n"
   ]
  },
  {
   "cell_type": "code",
   "execution_count": 95,
   "id": "7305b2b1-3513-486c-91e9-bb83a2222f83",
   "metadata": {},
   "outputs": [],
   "source": [
    "from ipycanvas import Canvas\n",
    "\n",
    "\n",
    "def draw_stack(stack, pos):\n",
    "    h = disk_height\n",
    "    for i, disk in enumerate(stack):\n",
    "        canvas.fill_style = colors[disk]\n",
    "        w = disk_widths[disk]\n",
    "        canvas.fill_rect(pos - w/2, canvas.height-(i+1)*h, w, h)\n",
    "\n",
    "\n",
    "@err_out.capture()  # zum debuggen\n",
    "def draw_stacks(event, stacks):\n",
    "    canvas.clear(1)\n",
    "    for pos, stack in zip(stack_positions, stacks):\n",
    "        draw_stack(stack, pos)\n",
    "\n",
    "\n",
    "canvas_config = {\n",
    "    'width': 300,\n",
    "    'height': 100,\n",
    "    'layout': {'border': '1px solid black'},\n",
    "}\n",
    "\n",
    "stack_positions = [50, 150, 250]\n",
    "disk_widths = [30, 50, 70, 90]\n",
    "disk_height = 10\n",
    "colors = ['brown', 'teal', 'blue', 'purple']\n",
    "\n",
    "canvas = Canvas(**canvas_config)"
   ]
  },
  {
   "cell_type": "code",
   "execution_count": 100,
   "id": "e500708c-988c-44f7-9c02-e983c6a077db",
   "metadata": {},
   "outputs": [],
   "source": [
    "err_out.clear_output()"
   ]
  },
  {
   "cell_type": "code",
   "execution_count": 97,
   "id": "0958fcfc-1f21-4167-9e25-53a384fba4de",
   "metadata": {},
   "outputs": [
    {
     "data": {
      "application/vnd.jupyter.widget-view+json": {
       "model_id": "4165d1683650468287db1d6cd6b6f09d",
       "version_major": 2,
       "version_minor": 0
      },
      "text/plain": [
       "Canvas(height=100, layout=Layout(border_bottom='1px solid black', border_left='1px solid black', border_right=…"
      ]
     },
     "metadata": {},
     "output_type": "display_data"
    },
    {
     "data": {
      "application/vnd.jupyter.widget-view+json": {
       "model_id": "85d811a4bf374bae891f70c28f4f726b",
       "version_major": 2,
       "version_minor": 0
      },
      "text/plain": [
       "Output(layout=Layout(border_bottom='1px solid black', border_left='1px solid black', border_right='1px solid b…"
      ]
     },
     "metadata": {},
     "output_type": "display_data"
    }
   ],
   "source": [
    "display(canvas, err_out)"
   ]
  },
  {
   "cell_type": "code",
   "execution_count": 98,
   "id": "cda3ee6c-a642-423c-920e-fb16fb136be5",
   "metadata": {},
   "outputs": [],
   "source": [
    "event_handler = draw_stacks"
   ]
  },
  {
   "cell_type": "code",
   "execution_count": null,
   "id": "10f5488b-d234-489a-b23a-44a202f82c14",
   "metadata": {},
   "outputs": [],
   "source": [
    "new_game()"
   ]
  },
  {
   "cell_type": "code",
   "execution_count": 89,
   "id": "6891552c-b279-47a1-b670-faa2c97a9acc",
   "metadata": {},
   "outputs": [],
   "source": [
    "move_disk(0, 2)"
   ]
  },
  {
   "cell_type": "code",
   "execution_count": 90,
   "id": "00fd7c5a-2403-45ef-80db-1d3d6ab947a2",
   "metadata": {},
   "outputs": [],
   "source": [
    "move_disk(0, 1)"
   ]
  },
  {
   "cell_type": "code",
   "execution_count": 91,
   "id": "3b397ccf-24a9-42bd-b5cb-5b505d80f925",
   "metadata": {},
   "outputs": [],
   "source": [
    "move_disk(2, 1)"
   ]
  },
  {
   "cell_type": "code",
   "execution_count": null,
   "id": "47275cd8-0f22-4545-ab19-74e4fe39cee9",
   "metadata": {},
   "outputs": [],
   "source": []
  },
  {
   "cell_type": "code",
   "execution_count": 25,
   "id": "4cfb7e42-e223-45c4-bbd1-b8e7e8439b20",
   "metadata": {},
   "outputs": [
    {
     "data": {
      "application/vnd.jupyter.widget-view+json": {
       "model_id": "4c66552b9e1c414c82c743e5c1861eea",
       "version_major": 2,
       "version_minor": 0
      },
      "text/plain": [
       "Text(value='Move ? ')"
      ]
     },
     "execution_count": 25,
     "metadata": {},
     "output_type": "execute_result"
    }
   ],
   "source": [
    "text"
   ]
  },
  {
   "cell_type": "code",
   "execution_count": null,
   "id": "0b87bb5a-3ace-43ec-8758-88ae026f8a86",
   "metadata": {},
   "outputs": [],
   "source": []
  },
  {
   "cell_type": "code",
   "execution_count": null,
   "id": "b6e5a7d1-e3b3-48bc-bff6-baf85c98a087",
   "metadata": {},
   "outputs": [],
   "source": []
  },
  {
   "cell_type": "markdown",
   "id": "ffaabc62-e17b-4241-8f43-b580e7c41166",
   "metadata": {},
   "source": [
    "### Spiel mit der Tastatur steuern\n",
    "Statt Spielstart und Scheibenverschiebung durch direkten Aufruf der Funktionen\n",
    "`new_game()` und `move_disk(src, dst)` auszul&ouml;sen, m&ouml;chten wir\n",
    "dies durch Dr&uuml;cken von `'n'`, bez. durch aufeinanderfolgendes Dr&uuml;cken \n",
    "zweier Stapelnummern erreichen. Die Zahlen 1, 2 und 3 stehen f&uuml;r die Stapel 0,1 und 2.\n",
    "\n",
    "Dazu nutzen wir die F&auml;higkeit des Canvas-Widget auf Tastendr&uuml;cke zu h&ouml;ren.\n",
    "Ist das Canvas-Widget aktive (passiert wenn man darauf klickt)\n",
    "und wurde eine Funktion zum bearbeiten des Events `on_key_down` \n",
    "mit der Methode `on_key_down` registriert, wird beim Dr&uuml;cken einer Taste\n",
    "diese Funktion aufgerufen. Das erste Argument ist der Tastennamen.\n",
    "\n",
    "Zur Bearbeitung des Events `on_key_down` registrieren wir eine\n",
    "Funktion `on_key_down`. Diese merkt sich in der globalen Variable `src` den Ausgangsstapel. Wird mit dem n&auml;chsten Tastendruck ein Zielstapel `dst` selektiert, so wird  `move_disk(src, dst)` aufgerufen."
   ]
  },
  {
   "cell_type": "code",
   "execution_count": 26,
   "id": "ef5bacbe-4933-4d8e-b92b-f5f4f5290b7d",
   "metadata": {},
   "outputs": [
    {
     "data": {
      "application/vnd.jupyter.widget-view+json": {
       "model_id": "fe54f565cba5494ba72e5acb26c26a22",
       "version_major": 2,
       "version_minor": 0
      },
      "text/plain": [
       "Output(layout=Layout(border_bottom='1px solid black', border_left='1px solid black', border_right='1px solid b…"
      ]
     },
     "execution_count": 26,
     "metadata": {},
     "output_type": "execute_result"
    }
   ],
   "source": [
    "# nur zum Debuggen\n",
    "from canvas_callbacks import remove_callbacks"
   ]
  },
  {
   "cell_type": "code",
   "execution_count": 28,
   "id": "1088c341-0eb0-4fd9-8cc2-04810ceb5a1b",
   "metadata": {},
   "outputs": [],
   "source": [
    "src = None\n",
    "\n",
    "\n",
    "@err_out.capture()\n",
    "def on_key_down(key, *flags):\n",
    "    global src\n",
    "\n",
    "    if key in '123' and src is None:\n",
    "        src = int(key) - 1\n",
    "        return\n",
    "    elif key in '123':\n",
    "        dst = int(key) - 1\n",
    "        move_disk(src, dst)\n",
    "    if key == 'n':\n",
    "        new_game()\n",
    "    src = None\n",
    "\n",
    "\n",
    "remove_callbacks('on_key_down', canvas)\n",
    "canvas.on_key_down(on_key_down)"
   ]
  },
  {
   "cell_type": "code",
   "execution_count": 29,
   "id": "807a23c5-eff9-4de8-b8cc-59a90336ef6f",
   "metadata": {},
   "outputs": [],
   "source": [
    "err_out.clear_output()"
   ]
  },
  {
   "cell_type": "code",
   "execution_count": 30,
   "id": "a3781ece-94e3-4a69-9942-ce570019f403",
   "metadata": {},
   "outputs": [
    {
     "data": {
      "application/vnd.jupyter.widget-view+json": {
       "model_id": "c17df9db6f9a49ec848ade10961eeeb3",
       "version_major": 2,
       "version_minor": 0
      },
      "text/plain": [
       "Canvas(height=100, layout=Layout(border_bottom='1px solid black', border_left='1px solid black', border_right=…"
      ]
     },
     "metadata": {},
     "output_type": "display_data"
    },
    {
     "data": {
      "application/vnd.jupyter.widget-view+json": {
       "model_id": "fe54f565cba5494ba72e5acb26c26a22",
       "version_major": 2,
       "version_minor": 0
      },
      "text/plain": [
       "Output(layout=Layout(border_bottom='1px solid black', border_left='1px solid black', border_right='1px solid b…"
      ]
     },
     "metadata": {},
     "output_type": "display_data"
    }
   ],
   "source": [
    "display(canvas, err_out)"
   ]
  },
  {
   "cell_type": "code",
   "execution_count": null,
   "id": "ff2f1fce-3f5c-40d0-9a63-2003d7a56584",
   "metadata": {},
   "outputs": [],
   "source": []
  },
  {
   "cell_type": "markdown",
   "id": "010844ce-4347-4cdf-a30a-fc40d90d689e",
   "metadata": {},
   "source": [
    "### Maussteuerung hinzuf&uuml;gen"
   ]
  },
  {
   "cell_type": "code",
   "execution_count": 31,
   "id": "bad3f4fe-14dd-4ba2-9288-71f941574599",
   "metadata": {},
   "outputs": [],
   "source": [
    "@err_out.capture()\n",
    "def on_mouse_down(x, y):\n",
    "    global src\n",
    "    stack_width = canvas.width / 3\n",
    "    src = int(x // stack_width)\n",
    "\n",
    "\n",
    "@err_out.capture()\n",
    "def on_mouse_up(x, y):\n",
    "    global src\n",
    "\n",
    "    if src is None:\n",
    "        return\n",
    "\n",
    "    stack_width = canvas.width / 3\n",
    "    dst = int(x // stack_width)\n",
    "    move_disk(src, dst)\n",
    "    src = None\n",
    "\n",
    "\n",
    "remove_callbacks('on_mouse_down', canvas)\n",
    "remove_callbacks('on_mouse_up', canvas)\n",
    "canvas.on_mouse_down(on_mouse_down)\n",
    "canvas.on_mouse_up(on_mouse_up)"
   ]
  },
  {
   "cell_type": "code",
   "execution_count": 48,
   "id": "3ba1a43d-159d-45b7-a973-352f93e17ee3",
   "metadata": {},
   "outputs": [],
   "source": [
    "err_out.clear_output()\n",
    "out.clear_output()"
   ]
  },
  {
   "cell_type": "code",
   "execution_count": 50,
   "id": "4b15a0c1-3055-43bd-b753-ff1f976dcc64",
   "metadata": {},
   "outputs": [
    {
     "data": {
      "application/vnd.jupyter.widget-view+json": {
       "model_id": "c17df9db6f9a49ec848ade10961eeeb3",
       "version_major": 2,
       "version_minor": 0
      },
      "text/plain": [
       "Canvas(height=100, layout=Layout(border_bottom='1px solid black', border_left='1px solid black', border_right=…"
      ]
     },
     "metadata": {},
     "output_type": "display_data"
    },
    {
     "data": {
      "application/vnd.jupyter.widget-view+json": {
       "model_id": "3debabc2b6cb45bf87ce50d6ff3696c3",
       "version_major": 2,
       "version_minor": 0
      },
      "text/plain": [
       "Output(layout=Layout(border_bottom='1px solid black', border_left='1px solid black', border_right='1px solid b…"
      ]
     },
     "metadata": {},
     "output_type": "display_data"
    },
    {
     "data": {
      "application/vnd.jupyter.widget-view+json": {
       "model_id": "4c66552b9e1c414c82c743e5c1861eea",
       "version_major": 2,
       "version_minor": 0
      },
      "text/plain": [
       "Text(value='Move ? ')"
      ]
     },
     "metadata": {},
     "output_type": "display_data"
    },
    {
     "data": {
      "application/vnd.jupyter.widget-view+json": {
       "model_id": "fe54f565cba5494ba72e5acb26c26a22",
       "version_major": 2,
       "version_minor": 0
      },
      "text/plain": [
       "Output(layout=Layout(border_bottom='1px solid black', border_left='1px solid black', border_right='1px solid b…"
      ]
     },
     "metadata": {},
     "output_type": "display_data"
    }
   ],
   "source": [
    "display(canvas, out, text, err_out)"
   ]
  },
  {
   "cell_type": "code",
   "execution_count": null,
   "id": "2fd73d64-215c-40e2-8f2b-0c6cbddee0e9",
   "metadata": {},
   "outputs": [],
   "source": []
  },
  {
   "cell_type": "code",
   "execution_count": 47,
   "id": "aeab4022-573d-4ed6-bf9f-24c850e1ed15",
   "metadata": {},
   "outputs": [],
   "source": [
    "def show_both(event, data):\n",
    "    draw_stacks(event, data)\n",
    "    print_stacks(event, data)\n",
    "    # print(event, data)  # debug info, show_both wird von on_... aufgerufen,\n",
    "                        # output wir nach err_out umgeleitet\n",
    "\n",
    "\n",
    "event_handler = show_both"
   ]
  },
  {
   "cell_type": "code",
   "execution_count": null,
   "id": "4418dfa4-894b-4d0f-8257-716c35148029",
   "metadata": {},
   "outputs": [],
   "source": []
  },
  {
   "cell_type": "code",
   "execution_count": null,
   "id": "e476d28f-865e-4848-9ac6-94dbdbe38d20",
   "metadata": {},
   "outputs": [],
   "source": []
  }
 ],
 "metadata": {
  "author": "dieter.probst@gmail.com",
  "kernelspec": {
   "display_name": "Python 3 (ipykernel)",
   "language": "python",
   "name": "python3"
  },
  "language_info": {
   "codemirror_mode": {
    "name": "ipython",
    "version": 3
   },
   "file_extension": ".py",
   "mimetype": "text/x-python",
   "name": "python",
   "nbconvert_exporter": "python",
   "pygments_lexer": "ipython3",
   "version": "3.13.0"
  }
 },
 "nbformat": 4,
 "nbformat_minor": 5
}
