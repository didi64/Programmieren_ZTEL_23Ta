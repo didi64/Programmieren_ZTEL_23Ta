{
 "cells": [
  {
   "cell_type": "markdown",
   "id": "82a401da-d65e-4ae7-ba22-3c508462ce78",
   "metadata": {},
   "source": [
    "### [T&uuml;rme von Hanoi](https://de.wikipedia.org/wiki/T%C3%BCrme_von_Hanoi)\n",
    "Ein Scheibenstapel soll verschoben werden. Dabei sind folgende Regeln einzuhalten:\n",
    "- Es darf jeweils nur eine Scheibe verschoben werden.\n",
    "- Auf eine Scheibe darf nur eine kleinere Scheibe gelegt werden.\n",
    "- Es d&uuml;rfen max. 3 Stapel vorhanden sein.\n",
    "\n",
    "Wir programmieren eine einfache, aber ausbauf&auml;hige Variante dieses Spiels.  \n",
    "- Verschoben wird ein Stabel mit 4 Scheiben,\n",
    "  repr&auml;sentiert durch die Zahlen 0, 1, 2 und 3. \n",
    "  Je gr&ouml;sser die Zahl,\n",
    "  desto gr&ouml;sser die Scheibe.\n",
    "- Eine absteigend sortierte Liste `[3, 2, 1, 0]` entspricht einem Stapel.\n",
    "  Die letzte Zahl entspricht der obersten und kleinsten Scheibe."
   ]
  },
  {
   "cell_type": "markdown",
   "id": "f552a074-7613-43da-8e4c-2495fa12371f",
   "metadata": {},
   "source": [
    "### Der Kern des Spiels\n",
    "Der Spielzustand wird in der Variable `stacks` gespeichert.\n",
    "Diese enth&auml;lt eine Liste mit 3 Listen, den Stapeln.\n",
    "Die Funktion `new_game()` startet ein neues Spiel, indem die 3 Stapel\n",
    "`[3, 2, 1, 0]`, `[]`, und `[]` in die Liste\n",
    "`stacks` eingef&uuml;gt werden.\n",
    "\n",
    "Die Funktion `move_disk(src, dst)` verschiebt eine Scheibe von Stapel `src` (source) auf Stapel `dst` (destination), falls regelkonform."
   ]
  },
  {
   "cell_type": "code",
   "execution_count": null,
   "id": "0963c65f-2b89-4e79-9f8d-c44093199d2d",
   "metadata": {},
   "outputs": [],
   "source": [
    "ndisks = 4\n",
    "stacks = []\n",
    "\n",
    "\n",
    "def new_game():\n",
    "    stacks[:] = [list(range(ndisks))[::-1], [], []]\n",
    "\n",
    "\n",
    "def move_disk(src, dst):\n",
    "    if not stacks[src] or (stacks[dst] and stacks[dst][-1] < stacks[src][-1]):\n",
    "        return\n",
    "    disk = stacks[src].pop()\n",
    "    stacks[dst].append(disk)"
   ]
  },
  {
   "cell_type": "code",
   "execution_count": null,
   "id": "9a5e3fa5-1d21-4bad-a773-1e694bb16258",
   "metadata": {},
   "outputs": [],
   "source": [
    "new_game()\n",
    "stacks"
   ]
  },
  {
   "cell_type": "code",
   "execution_count": null,
   "id": "760e04f1-551b-4377-8c82-5d4a6be3c6ec",
   "metadata": {},
   "outputs": [],
   "source": [
    "move_disk(0, 2)\n",
    "stacks"
   ]
  },
  {
   "cell_type": "code",
   "execution_count": null,
   "id": "23c96af9-f7cd-4fc1-ad07-2acd312972e0",
   "metadata": {},
   "outputs": [],
   "source": [
    "move_disk(0, 1)\n",
    "stacks"
   ]
  },
  {
   "cell_type": "code",
   "execution_count": null,
   "id": "de4fd817-cc2b-47b8-9c32-52c1046a42a9",
   "metadata": {},
   "outputs": [],
   "source": [
    "move_disk(2, 1)\n",
    "stacks"
   ]
  },
  {
   "cell_type": "markdown",
   "id": "16d37da3-71bc-45f3-865c-746bef02333f",
   "metadata": {},
   "source": [
    "### Spielbeginn und Scheibenverschiebungen als Events\n",
    "Wir k&ouml;nnen bereits ein neues Spiel starten, Scheiben verschieben und dann\n",
    "die neue Stabelkonfiguration betrachten, indem wir die Liste `stacks` ausgeben.\n",
    "Wir m&ouml;chten jedoch, dass der Spielzustand automatisch nach einem Neustart des Spiels und nach jeder Stapelverschiebung ausgegeben wird.  \n",
    "\n",
    "Diese Aufgabe &uuml;bertragen wir einem Eventhandler.\n",
    "Der Eventhandler ist eine Funktion, die mit den Argumenten `event` und `data`\n",
    "aufgerufen wird. `event` ist dabei der Name des Events und `data` sind die \n",
    "f&uuml;r die Bearbeitung des Events relevanten Daten.\n",
    "\n",
    "\n",
    "Im vorliegenden Fall haben wir 2 Events, Neustart und Stapelverschiebung.\n",
    "Wir behandeln beide gleich. F&uuml;rs erste geben wir jeweils eine textiche Darstellung der Stapelkonfiguration aus."
   ]
  },
  {
   "cell_type": "code",
   "execution_count": 1,
   "id": "8ba3473f-db31-40b1-8696-7153a29d4b53",
   "metadata": {},
   "outputs": [],
   "source": [
    "#%%file game.py\n",
    "ndisks = 4\n",
    "stacks = []\n",
    "event_handler = lambda event, data: print(event, data)\n",
    "\n",
    "\n",
    "def new_game():\n",
    "    stacks[:] = [list(range(ndisks))[::-1], [], []]\n",
    "    event_handler('new game', stacks)\n",
    "\n",
    "\n",
    "def move_disk(src, dst):\n",
    "    if not stacks[src] or (stacks[dst] and stacks[dst][-1] < stacks[src][-1]):\n",
    "        return\n",
    "    disk = stacks[src].pop()\n",
    "    stacks[dst].append(disk)\n",
    "    event_handler('update stacks', stacks)"
   ]
  },
  {
   "cell_type": "code",
   "execution_count": 2,
   "id": "caec2b38-3c44-4139-891a-818ea57be671",
   "metadata": {},
   "outputs": [
    {
     "name": "stdout",
     "output_type": "stream",
     "text": [
      "new game [[3, 2, 1, 0], [], []]\n"
     ]
    }
   ],
   "source": [
    "new_game()"
   ]
  },
  {
   "cell_type": "code",
   "execution_count": 3,
   "id": "2120cb90-8c4b-42d3-ac01-722ebfb7fa77",
   "metadata": {},
   "outputs": [
    {
     "name": "stdout",
     "output_type": "stream",
     "text": [
      "update stacks [[3, 2, 1], [], [0]]\n"
     ]
    }
   ],
   "source": [
    "move_disk(0, 2)"
   ]
  },
  {
   "cell_type": "code",
   "execution_count": 4,
   "id": "2389329a-538f-4d40-8f38-c11c0aea0a5d",
   "metadata": {},
   "outputs": [
    {
     "name": "stdout",
     "output_type": "stream",
     "text": [
      "update stacks [[3, 2], [1], [0]]\n"
     ]
    }
   ],
   "source": [
    "move_disk(0, 1)"
   ]
  },
  {
   "cell_type": "code",
   "execution_count": 5,
   "id": "0e6037d3-4dc1-4bda-9d03-26dd9d7eb12e",
   "metadata": {},
   "outputs": [
    {
     "name": "stdout",
     "output_type": "stream",
     "text": [
      "update stacks [[3, 2], [1, 0], []]\n"
     ]
    }
   ],
   "source": [
    "move_disk(2, 1)"
   ]
  },
  {
   "cell_type": "markdown",
   "id": "11f7e873-ae3b-49ee-8e2a-fb01f738b643",
   "metadata": {},
   "source": [
    "### Bildliche Darstellung der Stapelkonfiguration\n",
    "Statt einer textlichen Darstellung der Stapelkonfiguration\n",
    "soll der Eventhandler ein Bildliche Darstellung liefern.\n",
    "Dazu weisen wir der Variable `event_handler` eine Funktion zu, welche\n",
    "die Scheibenstapel unter Verwendung des Canvas-Objekts zeichnet.\n"
   ]
  },
  {
   "cell_type": "code",
   "execution_count": 6,
   "id": "7305b2b1-3513-486c-91e9-bb83a2222f83",
   "metadata": {},
   "outputs": [],
   "source": [
    "#%%file view.py\n",
    "from ipycanvas import Canvas\n",
    "\n",
    "\n",
    "def draw_stack(stack, pos):\n",
    "    h = disk_height\n",
    "    for i, disk in enumerate(stack):\n",
    "        canvas.fill_style = colors[disk]\n",
    "        w = disk_widths[disk]\n",
    "        canvas.fill_rect(pos - w/2, canvas.height-(i+1)*h, w, h)\n",
    "\n",
    "\n",
    "def draw_stacks(stacks):\n",
    "    canvas.clear()\n",
    "    for pos, stack in zip(stack_positions, stacks):\n",
    "        draw_stack(stack, pos)\n",
    "\n",
    "\n",
    "canvas_config = {\n",
    "    'width': 300,\n",
    "    'height': 100,\n",
    "    'layout': {'border': '1px solid black'},\n",
    "}\n",
    "\n",
    "stack_positions = [50, 150, 250]\n",
    "disk_widths = [30, 50, 70, 90]\n",
    "disk_height = 10\n",
    "colors = ['brown', 'teal', 'blue', 'purple']\n",
    "\n",
    "canvas = Canvas(**canvas_config)"
   ]
  },
  {
   "cell_type": "code",
   "execution_count": 7,
   "id": "0958fcfc-1f21-4167-9e25-53a384fba4de",
   "metadata": {},
   "outputs": [
    {
     "data": {
      "application/vnd.jupyter.widget-view+json": {
       "model_id": "d24fcfd64e064a3dbc37b4ffa8ae2225",
       "version_major": 2,
       "version_minor": 0
      },
      "text/plain": [
       "Canvas(height=100, layout=Layout(border_bottom='1px solid black', border_left='1px solid black', border_right=…"
      ]
     },
     "execution_count": 7,
     "metadata": {},
     "output_type": "execute_result"
    }
   ],
   "source": [
    "canvas"
   ]
  },
  {
   "cell_type": "code",
   "execution_count": 8,
   "id": "cda3ee6c-a642-423c-920e-fb16fb136be5",
   "metadata": {},
   "outputs": [],
   "source": [
    "event_handler = lambda event, data: draw_stacks(data)"
   ]
  },
  {
   "cell_type": "code",
   "execution_count": 9,
   "id": "10f5488b-d234-489a-b23a-44a202f82c14",
   "metadata": {},
   "outputs": [],
   "source": [
    "new_game()"
   ]
  },
  {
   "cell_type": "code",
   "execution_count": 10,
   "id": "6891552c-b279-47a1-b670-faa2c97a9acc",
   "metadata": {},
   "outputs": [],
   "source": [
    "move_disk(0, 2)"
   ]
  },
  {
   "cell_type": "code",
   "execution_count": 11,
   "id": "00fd7c5a-2403-45ef-80db-1d3d6ab947a2",
   "metadata": {},
   "outputs": [],
   "source": [
    "move_disk(0, 1)"
   ]
  },
  {
   "cell_type": "code",
   "execution_count": 12,
   "id": "3b397ccf-24a9-42bd-b5cb-5b505d80f925",
   "metadata": {},
   "outputs": [],
   "source": [
    "move_disk(2, 1)"
   ]
  },
  {
   "cell_type": "code",
   "execution_count": null,
   "id": "47275cd8-0f22-4545-ab19-74e4fe39cee9",
   "metadata": {},
   "outputs": [],
   "source": []
  },
  {
   "cell_type": "markdown",
   "id": "ffaabc62-e17b-4241-8f43-b580e7c41166",
   "metadata": {},
   "source": [
    "### Spiel mit der Tastatur steuern\n",
    "Statt Spielstart und Scheibenverschiebung durch direkten Aufruf der Funktionen\n",
    "`new_game()` und `move_disk(src, dst)` auszul&ouml;sen, m&ouml;chten wir\n",
    "dies durch Dr&uuml;cken von `'n'`, bez. durch aufeinanderfolgendes Dr&uuml;cken \n",
    "zweier Stapelnummern erreichen. Die Zahlen 1, 2 und 3 stehen f&uuml;r die Stapel 0,1 und 2.\n",
    "\n",
    "Dazu nutzen wir die F&auml;higkeit des Canvas-Widget auf Tastendr&uuml;cke zu h&ouml;ren.\n",
    "Ist das Canvas-Widget aktive (passiert wenn man darauf klickt)\n",
    "und wurde eine Funktion zum bearbeiten des Events `on_key_down` \n",
    "mit der Methode `on_key_down` registriert, wird beim Dr&uuml;cken einer Taste\n",
    "diese Funktion aufgerufen. Das erste Argument ist der Tastennamen.\n",
    "\n",
    "Zur Bearbeitung des Events `on_key_down` registrieren wir eine\n",
    "Funktion `on_key_down`. Diese merkt sich in der globalen Variable `src` den Ausgangsstapel. Wird mit dem n&auml;chsten Tastendruck ein Zielstapel `dst` selektiert, so wird  `move_disk(src, dst)` aufgerufen."
   ]
  },
  {
   "cell_type": "code",
   "execution_count": 13,
   "id": "ef5bacbe-4933-4d8e-b92b-f5f4f5290b7d",
   "metadata": {},
   "outputs": [
    {
     "data": {
      "application/vnd.jupyter.widget-view+json": {
       "model_id": "1286ba6dc0f5457fa1eb8c0537257929",
       "version_major": 2,
       "version_minor": 0
      },
      "text/plain": [
       "Output(layout=Layout(border_bottom='1px solid black', border_left='1px solid black', border_right='1px solid b…"
      ]
     },
     "execution_count": 13,
     "metadata": {},
     "output_type": "execute_result"
    }
   ],
   "source": [
    "# nur zum Debuggen\n",
    "from ipywidgets import Output\n",
    "from canvas_callbacks import remove_callbacks\n",
    "err_out = Output(layout={'border': '1px solid black'})\n",
    "err_out"
   ]
  },
  {
   "cell_type": "code",
   "execution_count": 14,
   "id": "1088c341-0eb0-4fd9-8cc2-04810ceb5a1b",
   "metadata": {},
   "outputs": [],
   "source": [
    "#%%file controller.py\n",
    "src = None\n",
    "\n",
    "\n",
    "@err_out.capture()\n",
    "def on_key_down(key, *flags):\n",
    "    global src\n",
    "\n",
    "    if key in '123' and src is None:\n",
    "        src = int(key) - 1\n",
    "        return\n",
    "    elif key in '123':\n",
    "        dst = int(key) - 1\n",
    "        move_disk(src, dst)\n",
    "    if key == 'n':\n",
    "        new_game()\n",
    "    src = None\n",
    "\n",
    "\n",
    "def start():\n",
    "    remove_callbacks('on_key_down', canvas)\n",
    "    canvas.on_key_down(on_key_down)"
   ]
  },
  {
   "cell_type": "code",
   "execution_count": 15,
   "id": "88210f81-993e-4550-85f7-2edce5da50c9",
   "metadata": {},
   "outputs": [],
   "source": [
    "start()"
   ]
  },
  {
   "cell_type": "code",
   "execution_count": null,
   "id": "bad3f4fe-14dd-4ba2-9288-71f941574599",
   "metadata": {},
   "outputs": [],
   "source": []
  }
 ],
 "metadata": {
  "author": "dieter.probst@gmail.com",
  "kernelspec": {
   "display_name": "Python 3 (ipykernel)",
   "language": "python",
   "name": "python3"
  },
  "language_info": {
   "codemirror_mode": {
    "name": "ipython",
    "version": 3
   },
   "file_extension": ".py",
   "mimetype": "text/x-python",
   "name": "python",
   "nbconvert_exporter": "python",
   "pygments_lexer": "ipython3",
   "version": "3.13.0"
  }
 },
 "nbformat": 4,
 "nbformat_minor": 5
}
