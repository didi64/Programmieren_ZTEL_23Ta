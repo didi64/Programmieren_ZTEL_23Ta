{
 "cells": [
  {
   "cell_type": "code",
   "execution_count": null,
   "id": "c9ed289a-da74-4ccc-9004-aad0505f2289",
   "metadata": {},
   "outputs": [],
   "source": []
  },
  {
   "cell_type": "code",
   "execution_count": 5,
   "id": "860ce562-b562-428b-9736-b795d0405279",
   "metadata": {},
   "outputs": [],
   "source": [
    "rot13 = {chr(ord('a')+i): chr(ord('a')+(i+13) % 26) for i in range(26)}\n",
    "\n",
    "s = 'klartext'\n",
    "encoded = [\n",
    "    rot13[char.lower()].upper() if char.isupper() else rot13[char]\n",
    "    if char.lower() in rot13\n",
    "    else char\n",
    "    for char in s\n",
    "]"
   ]
  },
  {
   "cell_type": "code",
   "execution_count": 6,
   "id": "cb39a83d-3f07-4083-a4c8-e154c37678f7",
   "metadata": {},
   "outputs": [
    {
     "data": {
      "text/plain": [
       "['x', 'y', 'n', 'e', 'g', 'r', 'k', 'g']"
      ]
     },
     "execution_count": 6,
     "metadata": {},
     "output_type": "execute_result"
    }
   ],
   "source": [
    "encoded"
   ]
  },
  {
   "cell_type": "code",
   "execution_count": null,
   "id": "c8ae5045-56fd-4c76-8857-7ce082aa995f",
   "metadata": {},
   "outputs": [],
   "source": []
  }
 ],
 "metadata": {
  "kernelspec": {
   "display_name": "Python 3 (ipykernel)",
   "language": "python",
   "name": "python3"
  },
  "language_info": {
   "codemirror_mode": {
    "name": "ipython",
    "version": 3
   },
   "file_extension": ".py",
   "mimetype": "text/x-python",
   "name": "python",
   "nbconvert_exporter": "python",
   "pygments_lexer": "ipython3",
   "version": "3.13.0"
  }
 },
 "nbformat": 4,
 "nbformat_minor": 5
}
