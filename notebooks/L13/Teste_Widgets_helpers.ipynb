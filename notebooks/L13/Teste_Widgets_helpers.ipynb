{
 "cells": [
  {
   "cell_type": "markdown",
   "id": "3c7a6bad-3b73-49a1-b298-c904b95b3fde",
   "metadata": {},
   "source": [
    "### Widget-Helpers testen\n",
    "Das Modul `widgets_helpers` (**kopiere** `widgets_helpers` in den Ordner `modules`)\n",
    "enth&auml;lt  Funtionen zum Erstellen von Widgets.\n",
    "Deprecation-Warnings werden unterdr&uuml;ckt.\n",
    "- `new_output()`: Output-Widget mit Rand,\n",
    "- `new_canvas(width=300, height=200)`: Canvas-Widget mit Rand,\n",
    "- `new_canvas(n_canvases=2, width=300, height=200)`: MultiCanvas-Widget mit Rand,\n",
    "- `new_button(description=description)`: Button mit dem Text `description`,\n",
    "- `new_text(value=value)`: Text-Widget mit dem Text `value`."
   ]
  },
  {
   "cell_type": "code",
   "execution_count": 25,
   "id": "5443bf19-3ed0-4e1b-98d1-63af0392f5c7",
   "metadata": {},
   "outputs": [],
   "source": [
    "import widgets_helpers\n",
    "from IPython.display import display"
   ]
  },
  {
   "cell_type": "code",
   "execution_count": 26,
   "id": "9dbc20b2-0f98-4341-8e59-08b3f49a3723",
   "metadata": {},
   "outputs": [
    {
     "data": {
      "application/vnd.jupyter.widget-view+json": {
       "model_id": "3ba6867aac7a4212a5c881c20af7a2ff",
       "version_major": 2,
       "version_minor": 0
      },
      "text/plain": [
       "Output(layout=Layout(border_bottom='1px solid black', border_left='1px solid black', border_right='1px solid b…"
      ]
     },
     "execution_count": 26,
     "metadata": {},
     "output_type": "execute_result"
    }
   ],
   "source": [
    "out = widgets_helpers.new_output()\n",
    "with out:\n",
    "    print('test')\n",
    "out"
   ]
  },
  {
   "cell_type": "code",
   "execution_count": 27,
   "id": "3032c11d-058a-4dfd-9870-57a3cc63207e",
   "metadata": {},
   "outputs": [
    {
     "data": {
      "application/vnd.jupyter.widget-view+json": {
       "model_id": "d5a18e17951d4799a30d96178a499d5a",
       "version_major": 2,
       "version_minor": 0
      },
      "text/plain": [
       "Canvas(height=200, layout=Layout(border_bottom='1px solid black', border_left='1px solid black', border_right=…"
      ]
     },
     "execution_count": 27,
     "metadata": {},
     "output_type": "execute_result"
    }
   ],
   "source": [
    "canvas = widgets_helpers.new_canvas()\n",
    "canvas.fill_style = 'blue'\n",
    "canvas.fill_rect(0, 0, canvas.width, canvas.height)\n",
    "canvas"
   ]
  },
  {
   "cell_type": "code",
   "execution_count": 28,
   "id": "d49ea4be-7fa5-4831-be69-a2b8256a6a59",
   "metadata": {},
   "outputs": [],
   "source": [
    "mcanvas = widgets_helpers.new_mcanvas()\n",
    "bg, fg = mcanvas\n",
    "bg.fill_style = 'grey'\n",
    "fg.fill_style = 'yellow'\n",
    "bg.fill_rect(0, 0, mcanvas.width, mcanvas.height)\n",
    "fg.fill_circle(mcanvas.width/2, mcanvas.height/2, 20)"
   ]
  },
  {
   "cell_type": "code",
   "execution_count": 29,
   "id": "3f99c107-4fec-4ffb-81d1-52ed6c02b7aa",
   "metadata": {},
   "outputs": [
    {
     "data": {
      "application/vnd.jupyter.widget-view+json": {
       "model_id": "ae3c8ec3c39648de837213dc505d258b",
       "version_major": 2,
       "version_minor": 0
      },
      "text/plain": [
       "MultiCanvas(height=200, layout=Layout(border_bottom='1px solid black', border_left='1px solid black', border_r…"
      ]
     },
     "execution_count": 29,
     "metadata": {},
     "output_type": "execute_result"
    }
   ],
   "source": [
    "mcanvas"
   ]
  },
  {
   "cell_type": "code",
   "execution_count": 30,
   "id": "8a2adb1b-5dae-4236-b9f5-7e3bb19abbf7",
   "metadata": {},
   "outputs": [],
   "source": [
    "fg.clear()"
   ]
  },
  {
   "cell_type": "code",
   "execution_count": null,
   "id": "b4404506-a03a-42f2-8ea5-8d9b53e1f642",
   "metadata": {},
   "outputs": [],
   "source": []
  },
  {
   "cell_type": "code",
   "execution_count": 31,
   "id": "cb10d691-642c-46a9-a5af-c62e787d2eac",
   "metadata": {},
   "outputs": [
    {
     "data": {
      "application/vnd.jupyter.widget-view+json": {
       "model_id": "84f1665400e440c29fe290099db6e62b",
       "version_major": 2,
       "version_minor": 0
      },
      "text/plain": [
       "Button(description='click me!', layout=Layout(border_bottom='2px solid blue', border_left='2px solid blue', bo…"
      ]
     },
     "metadata": {},
     "output_type": "display_data"
    },
    {
     "data": {
      "application/vnd.jupyter.widget-view+json": {
       "model_id": "1f160957e189468582e939efb3d1a775",
       "version_major": 2,
       "version_minor": 0
      },
      "text/plain": [
       "Output(layout=Layout(border_bottom='1px solid black', border_left='1px solid black', border_right='1px solid b…"
      ]
     },
     "metadata": {},
     "output_type": "display_data"
    }
   ],
   "source": [
    "out = widgets_helpers.new_output()\n",
    "description = 'click me!'\n",
    "button = widgets_helpers.new_button(description=description)\n",
    "\n",
    "\n",
    "@out.capture()\n",
    "def on_click(button):\n",
    "    print('clicked!')\n",
    "\n",
    "\n",
    "button.on_click(on_click)\n",
    "display(button, out)"
   ]
  },
  {
   "cell_type": "code",
   "execution_count": 32,
   "id": "9873acee-0cc2-4089-b70f-79d628aa06fe",
   "metadata": {},
   "outputs": [],
   "source": [
    "out.clear_output()"
   ]
  },
  {
   "cell_type": "code",
   "execution_count": 41,
   "id": "7eec418c-d350-494e-9bf7-215493de8df3",
   "metadata": {},
   "outputs": [
    {
     "data": {
      "application/vnd.jupyter.widget-view+json": {
       "model_id": "eed765b7bf234c878b18f611c8ea2c91",
       "version_major": 2,
       "version_minor": 0
      },
      "text/plain": [
       "Text(value='Viel Text ........................................................................................…"
      ]
     },
     "metadata": {},
     "output_type": "display_data"
    },
    {
     "data": {
      "application/vnd.jupyter.widget-view+json": {
       "model_id": "d7c372fb858045978ef6559b387305f2",
       "version_major": 2,
       "version_minor": 0
      },
      "text/plain": [
       "Output(layout=Layout(border_bottom='1px solid black', border_left='1px solid black', border_right='1px solid b…"
      ]
     },
     "metadata": {},
     "output_type": "display_data"
    }
   ],
   "source": [
    "out = widgets_helpers.new_output()\n",
    "value = 'Viel Text ' + '...' * 30\n",
    "text = widgets_helpers.new_text(value=value, layout={'width': '400px'})\n",
    "\n",
    "\n",
    "@out.capture()\n",
    "def on_submit(text):\n",
    "    move = text.value.removeprefix(value)\n",
    "    text.value = ''\n",
    "    print(move)\n",
    "\n",
    "\n",
    "text.on_submit(on_submit)\n",
    "display(text, out)"
   ]
  },
  {
   "cell_type": "code",
   "execution_count": 34,
   "id": "d9260922-6f1e-4334-947e-f95d18f1b25c",
   "metadata": {},
   "outputs": [],
   "source": [
    "out.clear_output()"
   ]
  },
  {
   "cell_type": "code",
   "execution_count": null,
   "id": "e9b924c8-ec37-4e4d-a424-d717824e2579",
   "metadata": {},
   "outputs": [],
   "source": []
  },
  {
   "cell_type": "code",
   "execution_count": null,
   "id": "5db019b1-3c76-4ea6-bff9-63adfc99ae17",
   "metadata": {},
   "outputs": [],
   "source": []
  }
 ],
 "metadata": {
  "kernelspec": {
   "display_name": "Python 3 (ipykernel)",
   "language": "python",
   "name": "python3"
  },
  "language_info": {
   "codemirror_mode": {
    "name": "ipython",
    "version": 3
   },
   "file_extension": ".py",
   "mimetype": "text/x-python",
   "name": "python",
   "nbconvert_exporter": "python",
   "pygments_lexer": "ipython3",
   "version": "3.13.0"
  }
 },
 "nbformat": 4,
 "nbformat_minor": 5
}
