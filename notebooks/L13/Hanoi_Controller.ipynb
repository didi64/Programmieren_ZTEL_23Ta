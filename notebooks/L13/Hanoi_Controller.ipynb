{
 "cells": [
  {
   "cell_type": "code",
   "execution_count": null,
   "id": "2b71e6a2-4592-40f3-b9fc-2109c317f68f",
   "metadata": {},
   "outputs": [],
   "source": []
  },
  {
   "cell_type": "code",
   "execution_count": 5,
   "id": "f5182fd9-7fe9-4e26-bd3d-32d428e4445c",
   "metadata": {},
   "outputs": [
    {
     "data": {
      "application/vnd.jupyter.widget-view+json": {
       "model_id": "60da7067782e40e1bfb62c5b14938403",
       "version_major": 2,
       "version_minor": 0
      },
      "text/plain": [
       "Canvas(height=100, layout=Layout(border_bottom='1px solid black', border_left='1px solid black', border_right=…"
      ]
     },
     "metadata": {},
     "output_type": "display_data"
    }
   ],
   "source": [
    "from game import Game\n",
    "from view import View\n",
    "\n",
    "\n",
    "game = Game()\n",
    "view = View()\n",
    "game.event_handler = lambda event, data: view.draw_stacks(data)\n",
    "game.new_game()\n",
    "view"
   ]
  },
  {
   "cell_type": "code",
   "execution_count": 8,
   "id": "5fe01991-89c9-4892-a1a5-7184c338a7a3",
   "metadata": {},
   "outputs": [
    {
     "name": "stdout",
     "output_type": "stream",
     "text": [
      "Overwriting controller.py\n"
     ]
    }
   ],
   "source": [
    "#%%file controller.py\n",
    "class Controller:\n",
    "    def __init__(self, game, view):\n",
    "        view.canvas.on_key_down(self.on_key_down)\n",
    "        self.game = game\n",
    "        self.src = None\n",
    "\n",
    "    def on_key_down(self, key, *flags):\n",
    "        if key in '123' and self.src is None:\n",
    "            self.src = int(key) - 1\n",
    "            return\n",
    "        elif key in '123':\n",
    "            dst = int(key) - 1\n",
    "            self.game.move_disk(self.src, dst)\n",
    "        if key == 'n':\n",
    "            self.game.new_game()\n",
    "        self.src = None"
   ]
  },
  {
   "cell_type": "code",
   "execution_count": 7,
   "id": "e5030e15-74d2-4182-8a2d-2db3a2634a5d",
   "metadata": {},
   "outputs": [],
   "source": [
    "# use c?\n",
    "c = Controller(game, view)"
   ]
  },
  {
   "cell_type": "code",
   "execution_count": 18,
   "id": "7e1fd92d-46ff-465c-978b-f6d43c240bc5",
   "metadata": {},
   "outputs": [
    {
     "data": {
      "application/vnd.jupyter.widget-view+json": {
       "model_id": "4e2d44f4bcf74b3fba63aea854b2e625",
       "version_major": 2,
       "version_minor": 0
      },
      "text/plain": [
       "Canvas(height=100, layout=Layout(border_bottom='1px solid black', border_left='1px solid black', border_right=…"
      ]
     },
     "metadata": {},
     "output_type": "display_data"
    },
    {
     "data": {
      "application/vnd.jupyter.widget-view+json": {
       "model_id": "8d7abcc532604992b204dbf09cbc97de",
       "version_major": 2,
       "version_minor": 0
      },
      "text/plain": [
       "Output(layout=Layout(border_bottom='1px solid black', border_left='1px solid black', border_right='1px solid b…"
      ]
     },
     "metadata": {},
     "output_type": "display_data"
    },
    {
     "name": "stdin",
     "output_type": "stream",
     "text": [
      "Your move? 112\n",
      "Your move? 12\n",
      "Your move? 13\n",
      "Your move? 12\n",
      "Your move? q\n"
     ]
    }
   ],
   "source": [
    "from IPython.display import display\n",
    "from ipywidgets import Output\n",
    "from game import Game\n",
    "from view import View\n",
    "\n",
    "\n",
    "layout = {'border': '1px solid black'}\n",
    "out = Output(layout=layout)\n",
    "game = Game()\n",
    "view = View()\n",
    "game.event_handler = lambda event, data: view.draw_stacks(data)\n",
    "game.new_game()\n",
    "\n",
    "display(view, out)\n",
    "\n",
    "\n",
    "while True:\n",
    "    move = input('Your move?')\n",
    "    if move == 'q':\n",
    "        break\n",
    "    if move == 'n':\n",
    "        game.new_game()\n",
    "    if len(move) == 2 and move.isdigit():\n",
    "        src, dst = (int(s)-1 for s in move)\n",
    "        game.move_disk(src, dst)"
   ]
  },
  {
   "cell_type": "code",
   "execution_count": 26,
   "id": "6cb39cde-2e0a-4253-b597-00d9c6250480",
   "metadata": {},
   "outputs": [],
   "source": [
    "import warnings\n",
    "from IPython.display import display\n",
    "from ipywidgets import Output\n",
    "from ipywidgets import Text\n",
    "\n",
    "warnings.filterwarnings('ignore', category=DeprecationWarning)\n",
    "layout = {'border': '1px solid black'}\n",
    "out = Output(layout=layout)\n",
    "\n",
    "\n",
    "@out.capture(clear_output=True)\n",
    "def on_press_enter(text):\n",
    "    value = text.value.removeprefix(prompt)\n",
    "    if value == 'n':\n",
    "        print('new_game()')\n",
    "    if len(value) == 2 and value.isdigit():\n",
    "        src, dst = (int(s)-1 for s in value)\n",
    "        print('game.move_disk({}, {})'.format(src, dst))\n",
    "    text.value = prompt\n",
    "\n",
    "\n",
    "\n",
    "prompt = 'Move ? '\n",
    "text = Text(value=prompt)\n",
    "text.on_submit(on_press_enter)\n",
    "display(text, out)"
   ]
  },
  {
   "cell_type": "code",
   "execution_count": 27,
   "id": "850fb780-f0b0-4a7b-bf71-6aef1a1dae44",
   "metadata": {},
   "outputs": [
    {
     "data": {
      "application/vnd.jupyter.widget-view+json": {
       "model_id": "e9dd4829285246739de4576edaf0b57a",
       "version_major": 2,
       "version_minor": 0
      },
      "text/plain": [
       "Text(value='Move ? ')"
      ]
     },
     "metadata": {},
     "output_type": "display_data"
    },
    {
     "data": {
      "application/vnd.jupyter.widget-view+json": {
       "model_id": "c40746a838fe4c48a184395c2879a255",
       "version_major": 2,
       "version_minor": 0
      },
      "text/plain": [
       "Output(layout=Layout(border_bottom='1px solid black', border_left='1px solid black', border_right='1px solid b…"
      ]
     },
     "metadata": {},
     "output_type": "display_data"
    }
   ],
   "source": [
    "prompt = 'Move ? '\n",
    "text = Text(value=prompt)\n",
    "text.on_submit(on_press_enter)\n",
    "display(text, out)"
   ]
  },
  {
   "cell_type": "code",
   "execution_count": null,
   "id": "bba1b6fd-6a4a-4fe5-9168-44dbb81c6833",
   "metadata": {},
   "outputs": [],
   "source": []
  }
 ],
 "metadata": {
  "kernelspec": {
   "display_name": "Python 3 (ipykernel)",
   "language": "python",
   "name": "python3"
  },
  "language_info": {
   "codemirror_mode": {
    "name": "ipython",
    "version": 3
   },
   "file_extension": ".py",
   "mimetype": "text/x-python",
   "name": "python",
   "nbconvert_exporter": "python",
   "pygments_lexer": "ipython3",
   "version": "3.13.0"
  }
 },
 "nbformat": 4,
 "nbformat_minor": 5
}
