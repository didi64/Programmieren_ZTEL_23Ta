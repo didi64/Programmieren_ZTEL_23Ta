{
 "cells": [
  {
   "cell_type": "code",
   "execution_count": null,
   "id": "2b71e6a2-4592-40f3-b9fc-2109c317f68f",
   "metadata": {},
   "outputs": [],
   "source": []
  },
  {
   "cell_type": "code",
   "execution_count": 14,
   "id": "f5182fd9-7fe9-4e26-bd3d-32d428e4445c",
   "metadata": {},
   "outputs": [
    {
     "data": {
      "application/vnd.jupyter.widget-view+json": {
       "model_id": "d7a0cbe7cfb84b1a8bd4ec7f565b9ec8",
       "version_major": 2,
       "version_minor": 0
      },
      "text/plain": [
       "Canvas(height=100, layout=Layout(border_bottom='1px solid black', border_left='1px solid black', border_right=…"
      ]
     },
     "metadata": {},
     "output_type": "display_data"
    }
   ],
   "source": [
    "from game import Game\n",
    "from view import View\n",
    "\n",
    "\n",
    "game = Game()\n",
    "view = View()\n",
    "game.callback = lambda event, data: view.draw_stacks(data)\n",
    "game.new_game()\n",
    "view"
   ]
  },
  {
   "cell_type": "code",
   "execution_count": 18,
   "id": "5fe01991-89c9-4892-a1a5-7184c338a7a3",
   "metadata": {},
   "outputs": [
    {
     "name": "stdout",
     "output_type": "stream",
     "text": [
      "Writing controller.py\n"
     ]
    }
   ],
   "source": [
    "#%%file controller.py\n",
    "class Controller:\n",
    "    def __init__(self, game, view):\n",
    "        view.canvas.on_key_down(self.on_key_down)\n",
    "        self.game = game\n",
    "        self.src = None\n",
    "\n",
    "    def on_key_down(self, key, *flags):\n",
    "        if key in '123' and self.src is None:\n",
    "            self.src = int(key) - 1\n",
    "            return\n",
    "        elif key in '123':\n",
    "            dst = int(key) - 1\n",
    "            self.game.move_disk(self.src, dst)\n",
    "        if key == 'n':\n",
    "            self.game.new_game()\n",
    "        self.src = None"
   ]
  },
  {
   "cell_type": "code",
   "execution_count": 16,
   "id": "e5030e15-74d2-4182-8a2d-2db3a2634a5d",
   "metadata": {},
   "outputs": [],
   "source": [
    "c = Controller(game, view)"
   ]
  },
  {
   "cell_type": "code",
   "execution_count": 17,
   "id": "4b80e304-857b-491a-b8ad-98c878f274f4",
   "metadata": {},
   "outputs": [
    {
     "data": {
      "text/plain": [
       "0"
      ]
     },
     "execution_count": 17,
     "metadata": {},
     "output_type": "execute_result"
    }
   ],
   "source": [
    "c.src"
   ]
  },
  {
   "cell_type": "code",
   "execution_count": null,
   "id": "7e1fd92d-46ff-465c-978b-f6d43c240bc5",
   "metadata": {},
   "outputs": [],
   "source": []
  }
 ],
 "metadata": {
  "kernelspec": {
   "display_name": "Python 3 (ipykernel)",
   "language": "python",
   "name": "python3"
  },
  "language_info": {
   "codemirror_mode": {
    "name": "ipython",
    "version": 3
   },
   "file_extension": ".py",
   "mimetype": "text/x-python",
   "name": "python",
   "nbconvert_exporter": "python",
   "pygments_lexer": "ipython3",
   "version": "3.13.0"
  }
 },
 "nbformat": 4,
 "nbformat_minor": 5
}
