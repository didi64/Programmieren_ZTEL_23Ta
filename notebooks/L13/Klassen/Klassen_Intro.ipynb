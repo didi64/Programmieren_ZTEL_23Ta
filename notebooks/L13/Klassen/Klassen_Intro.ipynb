{
 "cells": [
  {
   "cell_type": "markdown",
   "id": "10ca3598-ae3d-4ff7-a8d0-2dc5dc90c600",
   "metadata": {},
   "source": [
    "### Klassen und Objekte (Instanzen von Klassen)\n",
    "\n",
    "Wir haben schon viele Beispiele von Klassen gesehen.\n",
    "Die Bezeichnung **Typ** f&uuml;r Integers, Strings, ... ist eigentlich veraltet.\n",
    "Die Typen `int`, `str`, `list`,... sind als Klassen implementiert.\n",
    "Der Typ/Klasse eine Objektes legt u.a. fest, was beim Addieren zweier Objekte mit `+` geschieht, und was f&uuml;r Methoden ein Objekt aufrufen kann. \n",
    "\n",
    "Klassen sind selbstgemachte und bedarfsgerecht gestaltete Typen. \n",
    "Die Klasse definiert die Methoden, welche Objekte dieses Types (bez. Instanzen dieser Klasse) aufrufen k&ouml;nnen. \n",
    "Objekte/Instanzen k&ouml;nnen zudem eigene Attribute (Daten) enthalten. So hat z.B. jede Instanz der `Canvas`-Klasse eine Attribute wie Breite H&ouml;he, line_width,..., aber\n",
    "alle Canvas-Objekte verwenden die selbe Methode `fill_circle`.  \n",
    "\n",
    "Klassen dienen dazu, den Code in unabh&auml;ngige Komponenten zu unterteilen, die separate getestet und weiterentwickelt werden k&ouml;nnen.\n",
    "\n",
    "- `type(x)` liefert die Klasse/Typ von `x` (`x` ist eine Instanz dieser Klasse)\n",
    "- `isinstance(x, y)` gibt `True` zur&uuml;ck, falls `x` Instanz der Klasse `y` (oder einer Elternklasse von `y`) ist.  \n",
    "  Vererbung werden wir jedoch nicht behandeln."
   ]
  },
  {
   "cell_type": "code",
   "execution_count": null,
   "id": "0b26d0dd-6b25-40ac-a134-2523550c4eee",
   "metadata": {},
   "outputs": [],
   "source": [
    "print(type(str))"
   ]
  },
  {
   "cell_type": "code",
   "execution_count": null,
   "id": "d7aa860b-abd0-4d4d-98c9-ea3dfc49dac7",
   "metadata": {},
   "outputs": [],
   "source": [
    "isinstance('foo', str)"
   ]
  },
  {
   "cell_type": "markdown",
   "id": "150e2ffb-4399-4632-8979-5c0580fd5525",
   "metadata": {},
   "source": [
    "### Klasse als Namensraum\n",
    "Eine Klassendefinition hat die Form\n",
    "```python\n",
    "class <Klassenname>:\n",
    "    <Code>\n",
    "```\n",
    "\n",
    "Der Klassenname ist &uuml;blicherweise in *CamelCase*.\n",
    "Beim Ausf&uuml;hren einer Zelle oder eines Files mit einer Klassendefinition wird der Code\n",
    "im Klassenbody **ausgef&uuml;hrt**.\n",
    "\n",
    "- Eine im Klassenbody definierte Variable `x` oder Funktion `f` ist\n",
    "von ausserhalb der Klasse nur mit `<Klassenname>.x` bez. `<Klassenname>.f` ansprechbar.\n",
    "- Wird innerhalb einer Klassen eine Funktion definiert,\n",
    "  so muss auf eine in der Klasse definierten Variable `x`\n",
    "  ebenfalls mit `<Klassenname>.x` zugegriffen werden.\n",
    "  Ohne den Klassenprefix wird zuerst nach einer lokalen, dann nach einer globalen Variable mit Namen `x` gesucht.\n",
    "  Insbesondere: ruft die Funktion eine andere Funktion `f` der Klasse aufruft, so kann dies nicht mit `f()` geschehen.\n",
    "  Mehr dazu weiter unten im Abschnitt Methodenaufruf.\n",
    "  \n",
    "  \n",
    "  "
   ]
  },
  {
   "cell_type": "code",
   "execution_count": null,
   "id": "7f459fb3-e45e-4fa0-aded-f68dc14e1fcf",
   "metadata": {},
   "outputs": [],
   "source": [
    "%reset -f\n",
    "\n",
    "x = 'globales x'\n",
    "y = 'globales y'\n",
    "z = 'globales z'\n",
    "\n",
    "\n",
    "class A:\n",
    "    x = 2  # Klassenvariable\n",
    "    y = x + 1\n",
    "    print('y:', y)  # Klassenvariable y\n",
    "    print('z:', z)  # globale Variable z\n",
    "\n",
    "    def f(x):\n",
    "        print('x in Funktion:', x)    # lokales x\n",
    "        print('A.y in Funktion:', A.y)  # Klassenvariable x\n",
    "        print('y in Funktion:', y)        # globales y"
   ]
  },
  {
   "cell_type": "code",
   "execution_count": null,
   "id": "f341bf53-ef2e-46ba-9dbd-75233c8a0019",
   "metadata": {},
   "outputs": [],
   "source": [
    "A.x, A.y"
   ]
  },
  {
   "cell_type": "code",
   "execution_count": null,
   "id": "2347fd7e-47cb-4953-89f6-d721d19627eb",
   "metadata": {},
   "outputs": [],
   "source": [
    "A.f('test')"
   ]
  },
  {
   "cell_type": "markdown",
   "id": "e8fba6dd-392c-4d62-82e1-27447ebb9e15",
   "metadata": {},
   "source": [
    "### Klassenattribute\n",
    "Die in der Klasse definierten Variabeln (und Funktionen) nennt man auch **Attribute**. \n",
    "Attribute die mit `__` beginnen und enden sind sog. **Magic** oder **dunder**-Methoden und\n",
    "haben ein spezielles Verhalten.  \n",
    "Alle Attribute einer Klasse `A` sind im Dicionary `A.__dict__` gespeichert. Dieser Dictionary wird kann auch mit `vars(A)`\n",
    "erhalten werden."
   ]
  },
  {
   "cell_type": "code",
   "execution_count": null,
   "id": "da12e904-8f46-463d-b84f-09031d3201b9",
   "metadata": {},
   "outputs": [],
   "source": [
    "vars(A) == A.__dict__"
   ]
  },
  {
   "cell_type": "code",
   "execution_count": null,
   "id": "6cb94a85-8e82-4e06-9b56-e45eddd654da",
   "metadata": {},
   "outputs": [],
   "source": [
    "vars(A)"
   ]
  },
  {
   "cell_type": "code",
   "execution_count": null,
   "id": "4979b002-1813-41a7-983e-ebf86122a303",
   "metadata": {},
   "outputs": [],
   "source": [
    "{k: v for k, v in vars(A).items() if k[:2] != '__'}"
   ]
  },
  {
   "cell_type": "markdown",
   "id": "e8a5d3c8-9857-4324-8d06-b590cc068ee2",
   "metadata": {},
   "source": [
    "### Instanz einer Klasse  und  ihre Attribute\n",
    "\n",
    "\n",
    "- Mit `a = A()` wird eine **Instanz** von `A` erstellt.  \n",
    "- `a` kann eigene Attribute haben, welche im Dictionary `a.__dict__` (`vars(a)`) gespeichert sind.  \n",
    "  Eine frisch erstellte Instanz hat noch keine Attribute.  \n",
    "  Mit `a.x = 2` kann man dem Attribut `x` von `a` der Wert 2 zuweisen.  \n",
    "- Hat `a` ein Attribut `y` so liefert `a.y` den Wert dieses Attributes. \n",
    "- Ist `A.y` **keine Funktion**  und hat `a` **kein** Attribut `y`, so liefert `a.y` den Wert `A.y`."
   ]
  },
  {
   "cell_type": "code",
   "execution_count": null,
   "id": "8a11a407-8016-404b-87d6-5cd7c58b21ae",
   "metadata": {},
   "outputs": [],
   "source": [
    "a = A()"
   ]
  },
  {
   "cell_type": "code",
   "execution_count": null,
   "id": "32cfec06-440b-4401-a0c5-558d4d76cb19",
   "metadata": {},
   "outputs": [],
   "source": [
    "vars(a)  # a hat noch keine Attribute"
   ]
  },
  {
   "cell_type": "code",
   "execution_count": null,
   "id": "16d6a994-bd25-46d1-a4f0-80379e13c0be",
   "metadata": {},
   "outputs": [],
   "source": [
    "a.x  # liefert Wert von A.x, da 'x' not in vars(a)"
   ]
  },
  {
   "cell_type": "code",
   "execution_count": null,
   "id": "f9668275-4868-4433-aa31-a5965a2e52e2",
   "metadata": {},
   "outputs": [],
   "source": [
    "a.x = 0\n",
    "vars(a)"
   ]
  },
  {
   "cell_type": "code",
   "execution_count": null,
   "id": "70e2fb11-63a3-4c66-b16b-189243503c8d",
   "metadata": {},
   "outputs": [],
   "source": [
    "A.x  # immer nach 2"
   ]
  },
  {
   "cell_type": "code",
   "execution_count": null,
   "id": "fa2b040a-434c-4ff3-90cf-e517b34b4af2",
   "metadata": {},
   "outputs": [],
   "source": [
    "A.x = 3  # Klassenvariable aendern\n",
    "a.x, A.x"
   ]
  },
  {
   "cell_type": "markdown",
   "id": "ebd13250-fc21-44d2-8b32-ad565bea35c2",
   "metadata": {},
   "source": [
    "### Methodenaufruf\n",
    "Ist `a` eine **Instanz** der Klasse `A` und `A.f` eine **Funktion**, so hat\n",
    "`a.f(*args, **kwargs)` den gleichen Effekt wie `A.f(a, *args, **kwargs)`: Es wird die Klassenfunktion aufgerufen mit \n",
    "der Instanz als zus&auml;tzliches erstes Argument!\n",
    "Wir haben das schon oft gesehen, z.B. ist `str.upper('foo')` gleich `'foo'.upper()`.  \n",
    "\n",
    "**Genauer**:  \n",
    "Ist `A.f(...)` **eine** Funktion und hat `a` **kein** Attribut `f`,  \n",
    "so liefert `a.f`  nicht `A.f`, sondern die Funktion `lambda ..., self=a: A.f(self, ...)`, wo nun das erste Argument den Wert `a` hat. Den Aufruf `a.f(...)` bezeichnet man als **Methodenaufruf**.\n",
    " \n",
    "  \n",
    "Ruft eine Instanz `a` eine Methode auf, so wird das erste Argument von `A.f` an die Instanz `a` gebunden. Deshalb w&auml;hlt man `self` als Namen f&uuml;r das erste Argument einer Funktion einer Klasse. Dies ist jedoch **nur** eine **Konvention**.   \n",
    "\n",
    "\n",
    "**Wichtig**:\n",
    "Ruft eine Funktion `g(self, ...)` eine andere Funktion `f` der Klasse auf, so geschieht dies ***immer** mit\n",
    "`self.f()`! Wird das `self` weggelassen, so wird die Funktion `f` nicht gefunden. **Dieses vergessene `self` ist einer der h&auml;ufigsten Fehler im Klassencode**."
   ]
  },
  {
   "cell_type": "code",
   "execution_count": null,
   "id": "1d60664c-01a3-450b-8887-dc237c4b0426",
   "metadata": {},
   "outputs": [],
   "source": [
    "class B:\n",
    "    def f(self):\n",
    "        print('hallo von f')\n",
    "\n",
    "    def g(self):\n",
    "        self.f()\n",
    "        B.f(self)  # bei Vererbung nicht das selbe! Nicht verwenden!"
   ]
  },
  {
   "cell_type": "markdown",
   "id": "f163f57a-90a9-40ea-985f-f9031878acaf",
   "metadata": {},
   "source": [
    "### Instanz initialisieren\n",
    "Definiert eine Klasse `A` eine Funktion `__init__(self, ...)`, so passiert beim Aufruf von \n",
    "`a = A(...)` folgendes:  \n",
    "- eine Instanz `a` von `A` wird erstellt.\n",
    "- `A.__init__(a, ...)` wird ausgef&uuml;hrt.  \n",
    "  In der Regel werden hier Attribute von def Instanz initialisiert.\n",
    "\n",
    "**Bemerkung**:\n",
    "Die Funktion `__init__(self, ...)` darf keinen Wert (ausser `None`) zur&uuml;ckgeben.\n"
   ]
  },
  {
   "cell_type": "markdown",
   "id": "b5dfc833-356d-4e2b-8cff-cc8409b892bd",
   "metadata": {},
   "source": [
    "### Attribute und Methoden einer Klasse beschreiben\n",
    "Wenn wir eine Klasse beschreiben, geben wir die **Attribute** der Instanz und ihren **Typ** an.\n",
    "Ist ein Klassenattribut gemeint, so ist das explizit zu erw&auml;hnen.\n",
    "Weiter gibt man die (wichtigsten) **Methoden** an.\n",
    "Bei der Angabe der Signatur wird das `self` weggelassen. Man gibt die Signatur der Methode an.\n",
    "\n",
    "**Beschreibung der Klasse `Student`**:  \n",
    "Attribute:\n",
    "- `name: str` (Name des Studenten)\n",
    "- `grades: dict[str, list]` (Schl&uuml;ssel sind F&auml;cher, Werte Listen mit Noten)\n",
    "\n",
    "Methode:\n",
    "- `add_grade(subject: str, grade: float)`  \n",
    "  F&uuml;gt Note f&uuml;r ein Fach hinzu\n"
   ]
  },
  {
   "cell_type": "code",
   "execution_count": null,
   "id": "c23c4116-b192-4bc5-9ecb-c9124603cc21",
   "metadata": {},
   "outputs": [],
   "source": [
    "class Student:\n",
    "    def __init__(self, name):\n",
    "        self.name = name\n",
    "        self.grades = {}\n",
    "\n",
    "    def add_grade(self, subject, grade):\n",
    "        '''Key-Value-Paar (subject, grade) in den() geschehen Dictionary grades aufnehmen'''\n",
    "        self.grades.setdefault(subject, []).append(grade)"
   ]
  },
  {
   "cell_type": "code",
   "execution_count": null,
   "id": "704a5053-531b-445b-9924-d14447ba0eed",
   "metadata": {},
   "outputs": [],
   "source": [
    "alice = Student('Alice')\n",
    "alice"
   ]
  },
  {
   "cell_type": "code",
   "execution_count": null,
   "id": "8c40a5e7-52e6-4f58-9dc5-64687f3809d4",
   "metadata": {},
   "outputs": [],
   "source": [
    "alice.name"
   ]
  },
  {
   "cell_type": "code",
   "execution_count": null,
   "id": "066d86f0-b18b-4b1a-aa36-7e3d8cc719cf",
   "metadata": {},
   "outputs": [],
   "source": [
    "alice.grades"
   ]
  },
  {
   "cell_type": "code",
   "execution_count": null,
   "id": "6ce15d48-10b0-4bcc-9f9c-959108caeaae",
   "metadata": {},
   "outputs": [],
   "source": [
    "alice.add_grade('Math', 5.5)\n",
    "alice.add_grade('Math', 6)\n",
    "alice.grades"
   ]
  },
  {
   "cell_type": "markdown",
   "id": "e992f7f4-3a81-46cd-9d58-9fd492fc1de7",
   "metadata": {},
   "source": [
    "### Dunder/Magic-Methoden\n",
    "- Ist `x` eine Instanz von `A`, dann ruft `x + y` die Funktion `A.__add__(x, y)` auf. \n",
    "  Ist keine Funktion `A.__add__` definiert, wir ein TypeError erzeugt.  \n",
    "  Siehe [docs.python.org](https://docs.python.org/3/reference/datamodel.html#emulating-numeric-types) f&uuml;r `__sub__`,\n",
    "`__mul__`, ...\n",
    "- Wird eine String-Repr&auml;sentation einer Instanz `a`, ben&ouml;tigt, z.B. bei `print(a)`, so wird der\n",
    "R&uuml;ckgabewert von `A.__repr__(self)` verwendent, sofern `A.__repr__` definiert ist.\n",
    "Es **lohnt sich** sich dies Magic-Methode zu definierten!\n",
    "- Wird `display(a)` aufgerufen oder ist `a` der letzte Ausdruck einer Codezelle, so wird\n",
    "  `a._ipython_display()` ausgef&uuml;hrt, falls definiert."
   ]
  },
  {
   "cell_type": "code",
   "execution_count": null,
   "id": "a78bd18b-54bc-4fd0-81d0-68f4e360a620",
   "metadata": {},
   "outputs": [],
   "source": [
    "class A:\n",
    "    def __repr__(self):\n",
    "        return 'Instanz der Klasse A'\n",
    "\n",
    "\n",
    "a = A()\n",
    "display(a)"
   ]
  },
  {
   "cell_type": "code",
   "execution_count": null,
   "id": "454234d6-3c8f-4a67-82f1-994bb5da8ae5",
   "metadata": {},
   "outputs": [],
   "source": [
    "class A:\n",
    "    def __repr__(self):\n",
    "        return 'Klasse A'\n",
    "\n",
    "    def _ipython_display_(self):\n",
    "        print('_ipython_display_(self) wird ausgefuehrt')\n",
    "\n",
    "A()"
   ]
  },
  {
   "cell_type": "markdown",
   "id": "8c459b42-2ad0-4a0c-8ca3-f711cedaa3b0",
   "metadata": {},
   "source": [
    "### Klasse Student mit `__repr__`-Methode"
   ]
  },
  {
   "cell_type": "code",
   "execution_count": null,
   "id": "148d4944-1e43-48fa-97ef-76e6e41ec8aa",
   "metadata": {},
   "outputs": [],
   "source": [
    "class Student:\n",
    "    def __init__(self, name):\n",
    "        '''initialisiert eine Instanz der Klasse Student'''\n",
    "        self.name = name\n",
    "        self.grades = {}\n",
    "\n",
    "    def add_grade(self, subject, grade):\n",
    "        '''Key-Value-Paar (subject, grade) in den Dictionary grades aufnehmen'''\n",
    "        self.grades.setdefault(subject, []).append(grade)\n",
    "\n",
    "    def __repr__(self):\n",
    "        return 'Student({})\\nNoten: {}'.format(self.name,  self.grades)"
   ]
  },
  {
   "cell_type": "code",
   "execution_count": null,
   "id": "d2b38a7a-e0c6-4aab-9035-3cc15fef24bf",
   "metadata": {},
   "outputs": [],
   "source": [
    "alice = Student('Alice')\n",
    "alice.add_grade('Math', 5.5)\n",
    "alice.add_grade('Math', 6)\n",
    "alice()"
   ]
  },
  {
   "cell_type": "code",
   "execution_count": null,
   "id": "98242495-881c-47a2-a091-03169b1a8b85",
   "metadata": {},
   "outputs": [],
   "source": [
    "bob = Student('Bob')\n",
    "bob.add_grade('Programmieren', 5.5)\n",
    "bob.add_grade('Programmieren', 4)\n",
    "bob.add_grade('Math', 4.5)\n",
    "\n",
    "bob"
   ]
  },
  {
   "cell_type": "markdown",
   "id": "cbd5d261-5c60-4822-87af-569dbfe004ac",
   "metadata": {},
   "source": [
    "### Einfache Vektor-Klasse mit Elementaren Vektor-Operationen"
   ]
  },
  {
   "cell_type": "code",
   "execution_count": null,
   "id": "6dfd7f73-cf8c-43bb-9825-eb24de3808d9",
   "metadata": {},
   "outputs": [],
   "source": [
    "class Vec2d:\n",
    "    def __init__(self, x, y):\n",
    "        self.x = x\n",
    "        self.y = y\n",
    "\n",
    "    def __add__(self, other):\n",
    "        return Vec2d(self.x + other.x, self.y + other.y)\n",
    "\n",
    "    def __neg__(self):\n",
    "        return Vec2d(-self.x, -self.y)()\n",
    "\n",
    "    def __sub__(self, other):\n",
    "        return self + -other\n",
    "\n",
    "    def __repr__(self):\n",
    "        return 'Vec({}, {})'.format(self.x, self.y)"
   ]
  },
  {
   "cell_type": "code",
   "execution_count": null,
   "id": "74ff8861-8e42-4cd7-b9e4-3715e4f0589e",
   "metadata": {},
   "outputs": [],
   "source": [
    "v = Vec2d(2, 3)\n",
    "w = Vec2d(4, 7)\n",
    "v + w"
   ]
  },
  {
   "cell_type": "code",
   "execution_count": null,
   "id": "6d5cdee1-fdc1-4346-aab1-cf19a678f161",
   "metadata": {},
   "outputs": [],
   "source": []
  }
 ],
 "metadata": {
  "author": "dieter.probst@gmail.com",
  "kernelspec": {
   "display_name": "Python 3 (ipykernel)",
   "language": "python",
   "name": "python3"
  },
  "language_info": {
   "codemirror_mode": {
    "name": "ipython",
    "version": 3
   },
   "file_extension": ".py",
   "mimetype": "text/x-python",
   "name": "python",
   "nbconvert_exporter": "python",
   "pygments_lexer": "ipython3",
   "version": "3.13.0"
  }
 },
 "nbformat": 4,
 "nbformat_minor": 5
}
