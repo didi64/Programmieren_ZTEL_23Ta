{
 "cells": [
  {
   "cell_type": "markdown",
   "id": "57703e84-c576-471f-ae0b-ed3f3f3133ba",
   "metadata": {},
   "source": [
    "### Klassen: Einige Beispiele"
   ]
  },
  {
   "cell_type": "markdown",
   "id": "1b24edd0-4e33-49cc-bfbb-ce47a01ffa9e",
   "metadata": {},
   "source": [
    "### Student\n",
    "Ein Student hat einen Namen und einen Dictionary, der\n",
    "f&uuml;r jedes Fach eine Liste mit Noten enth&auml;t.\n",
    "Die Methode `add_grade(subject, grade)` f&uuml;gt eine Note hinzu (siehe unten).  \n",
    "\n",
    "**Aufgabe**:\n",
    "\n",
    "F&uuml;ge eine Methode \n",
    "```python\n",
    "    def get_grades(self):\n",
    "        ...\n",
    "```\n",
    "hinzu, die einen Dictionary zur&uuml;ckgibt mit den F&auml;chern als Schl&uuml;ssel und den Durchschnittsnoten als Werte. Teste diese Methode."
   ]
  },
  {
   "cell_type": "code",
   "execution_count": null,
   "id": "a12f6766-88aa-4aef-a87b-3f33368c36db",
   "metadata": {},
   "outputs": [],
   "source": [
    "class Student:\n",
    "    def __init__(self, name):\n",
    "        '''initialisiert eine Instanz der Klasse Student'''\n",
    "        self.name = name\n",
    "        self.grades = {}\n",
    "\n",
    "    def add_grade(self, subject, grade):\n",
    "        '''Key-Value-Paar (subject, grade) in den Dictionary grades aufnehmen'''\n",
    "        self.grades.setdefault(subject, []).append(grade)\n",
    "\n",
    "    def __repr__(self):\n",
    "        '''gibt String-Representation der Klasse zurueck'''\n",
    "        return 'Student({})\\nNoten: {}'.format(self.name,  self.grades)"
   ]
  },
  {
   "cell_type": "code",
   "execution_count": null,
   "id": "bf05b098-bc40-4b8f-a443-f2f7b7d55d54",
   "metadata": {},
   "outputs": [],
   "source": []
  },
  {
   "cell_type": "code",
   "execution_count": null,
   "id": "06ea2dcd-92dc-4d86-ac9e-0ca44a188d44",
   "metadata": {},
   "outputs": [],
   "source": [
    "alice = Student('Alice')\n",
    "alice.add_grade('Math', 5.5)\n",
    "alice.add_grade('Math', 6)\n",
    "\n",
    "alice"
   ]
  },
  {
   "cell_type": "code",
   "execution_count": null,
   "id": "6096e45c-603c-4b82-8cc1-99855b062058",
   "metadata": {},
   "outputs": [],
   "source": [
    "bob = Student('Bob')\n",
    "bob.add_grade('Programmieren', 5.5)\n",
    "bob.add_grade('Programmieren', 4)\n",
    "bob.add_grade('Math', 4.5)\n",
    "\n",
    "bob"
   ]
  },
  {
   "cell_type": "code",
   "execution_count": null,
   "id": "90b4d91c-7368-41c9-b714-79492e77e4c3",
   "metadata": {},
   "outputs": [],
   "source": []
  },
  {
   "cell_type": "markdown",
   "id": "65770ffa-b9ec-4037-9ae6-6542bb43974f",
   "metadata": {},
   "source": [
    "### Hanoi\n",
    "\n",
    "Eine Instanz von Hanoi hat die Attribute `ndisks` (Anzahl Scheiben) und eine Liste `stacks` mit den Scheibenstapeln.\n",
    "Die Methode `move_disk(src, dst)` verschiebt eine Scheibe vom Stapel `src` auf den Stapel `dst` , falls\n",
    "regelkonform.  `move_stack(src, dst)` verschiebt einen ganzen Stapel.\n",
    "\n",
    "\n",
    "**Aufgabe**:\n",
    "Erweitere die `__init__` Methode, so dass jede Instanz von Hanoi auch ein Attribut `history` (eine Liste, zu beginn leer) hat.\n",
    "Modifiziere dann die Methode `move_disk(src, dst)` so, dass das Paar `(src, dst)` an die Liste `history`\n",
    "angeh&auml;ngt wird. \n",
    "\n",
    "Verschiebe nun einen Stack mit `move_stack(src, dst)` und gib die gemachten Z&uuml;ge aus."
   ]
  },
  {
   "cell_type": "code",
   "execution_count": null,
   "id": "c9f608af-119d-43c1-806e-6e614564b17d",
   "metadata": {},
   "outputs": [],
   "source": [
    "class Hanoi:\n",
    "    def __init__(self, ndisks=4):\n",
    "        self.ndisks = 4\n",
    "        self.stacks = [list(range(self.ndisks))[::-1], [], []]\n",
    "\n",
    "    def move_disk(self, src, dst):\n",
    "        if (not self.stacks[src] or\n",
    "           (self.stacks[dst] and self.stacks[dst][-1] < self.stacks[src][-1])):\n",
    "            return\n",
    "        disk = self.stacks[src].pop()\n",
    "        self.stacks[dst].append(disk)\n",
    "\n",
    "    def move_stack(self, src, dst):\n",
    "        if self.stacks[dst]:\n",
    "            print('Target stack must be empty!')\n",
    "        elif len(self.stacks[src]) < self.ndisks:\n",
    "            print('Source stack must be only stack!')\n",
    "        else:\n",
    "            self._move_stack(self.ndisks, src, dst)\n",
    "\n",
    "    def _move_stack(self, n, src, dst):\n",
    "        if n == 1:\n",
    "            self.move_disk(src, dst)\n",
    "        else:\n",
    "            aux = ({0, 1, 2} - {src, dst}).pop()\n",
    "            self._move_stack(n-1, src, aux)\n",
    "            self.move_disk(src, dst)\n",
    "            self._move_stack(n-1, aux, dst)\n",
    "\n",
    "    def __repr__(self):\n",
    "        return str(self.stacks)"
   ]
  },
  {
   "cell_type": "code",
   "execution_count": null,
   "id": "ef929bbf-d2c9-4517-a763-9b7ac24cf870",
   "metadata": {},
   "outputs": [],
   "source": [
    "hanoi = Hanoi(4)\n",
    "hanoi"
   ]
  },
  {
   "cell_type": "code",
   "execution_count": null,
   "id": "a033a0b5-2257-4e66-9d8a-e7f49cdc0d0b",
   "metadata": {},
   "outputs": [],
   "source": [
    "hanoi.move_stack(0,2)\n",
    "hanoi"
   ]
  },
  {
   "cell_type": "code",
   "execution_count": null,
   "id": "fe5e6819-70e9-46d8-998f-fc208d05b5b1",
   "metadata": {},
   "outputs": [],
   "source": [
    "# hanoi.history"
   ]
  },
  {
   "cell_type": "markdown",
   "id": "30057e93-4248-4a70-ae81-07e9221218d4",
   "metadata": {},
   "source": [
    "### Vector\n",
    "Ein 2-dimensionaler Vector hat die Attribute `x` und `y` (Koordinaten).\n",
    "Die Methoden `__add__(v, w)`, `__neg__(v)`  und `__sub__(v, w)` werden aufgerufen, wenn\n",
    "`v+w`, `-v` und `v-w` ausgewertet werden soll und `v` eine Instanz von Vec2d` ist.  \n",
    "\n",
    "**Aufgabe**:\n",
    "F&uuml;ge  Methoden\n",
    "```python\n",
    "def __mul__(self, other):\n",
    "    '''gibt das Skalarprodukt zurueck, falls other ein Vektor ist. Sonst\n",
    "       wird angenommen, other sei eine Zahl und self wird damit gestreckt.\n",
    "    ''' \n",
    "    ...\n",
    "\n",
    "def norm(self):\n",
    "    '''gibt die Laenge des Vektors zurueck'''\n",
    "    ...\n",
    "\n",
    "```\n",
    "\n",
    "Teste die Methoden."
   ]
  },
  {
   "cell_type": "code",
   "execution_count": null,
   "id": "ab437aad-ad4c-4595-a276-285c1fb99391",
   "metadata": {},
   "outputs": [],
   "source": [
    "class Vec2d:\n",
    "    def __init__(self, x, y):\n",
    "        self.x = x\n",
    "        self.y = y\n",
    "\n",
    "    def __add__(self, other):\n",
    "        return Vec2d(self.x + other.x, self.y + other.y)\n",
    "\n",
    "    def __neg__(self):\n",
    "        return Vec2d(-self.x, -self.y)()\n",
    "\n",
    "    def __sub__(self, other):\n",
    "        return self + -other\n",
    "\n",
    "    def __repr__(self):\n",
    "        return 'Vec({}, {})'.format(self.x, self.y)"
   ]
  },
  {
   "cell_type": "code",
   "execution_count": null,
   "id": "d0d02ec7-d89f-43cd-a6c5-ca6b60afa772",
   "metadata": {},
   "outputs": [],
   "source": [
    "v = Vec2d(1, 2)\n",
    "w = Vec2d(3, 4)\n",
    "v + w"
   ]
  },
  {
   "cell_type": "code",
   "execution_count": null,
   "id": "3d63741f-569e-4a27-97d3-682634941c10",
   "metadata": {},
   "outputs": [],
   "source": []
  }
 ],
 "metadata": {
  "kernelspec": {
   "display_name": "Python 3 (ipykernel)",
   "language": "python",
   "name": "python3"
  },
  "language_info": {
   "codemirror_mode": {
    "name": "ipython",
    "version": 3
   },
   "file_extension": ".py",
   "mimetype": "text/x-python",
   "name": "python",
   "nbconvert_exporter": "python",
   "pygments_lexer": "ipython3",
   "version": "3.13.0"
  }
 },
 "nbformat": 4,
 "nbformat_minor": 5
}
