{
 "cells": [
  {
   "cell_type": "markdown",
   "id": "86e447a5-9dc1-4804-9eb8-c9880c03e40f",
   "metadata": {},
   "source": [
    "# Playing with the vector class"
   ]
  },
  {
   "cell_type": "code",
   "execution_count": 3,
   "id": "8650d18e-9e1b-4077-b9ca-185f7f5ee417",
   "metadata": {},
   "outputs": [],
   "source": [
    "class Triangle:\n",
    "    def __init__(self):\n",
    "        self.name_color = {'A': 'red', 'B': 'blue', 'C': 'orange', 'H': 'grey'}\n",
    "        self.event_handler = print\n",
    "\n",
    "    def find_H(self, pts):\n",
    "        A, B, C = pts\n",
    "        # finde Hoehenfusspunkt auf der Seite c\n",
    "        # fuer den Moment sei H immer (100, 100)\n",
    "        H = (100, 100)\n",
    "        pts.append(H)\n",
    "        self.event_handler('result', (pts, self.name_color))"
   ]
  },
  {
   "cell_type": "code",
   "execution_count": 4,
   "id": "6d2180d7-23d0-4ec6-99e8-42a325b5edcc",
   "metadata": {},
   "outputs": [
    {
     "name": "stdout",
     "output_type": "stream",
     "text": [
      "result ([(10, 20), (170, 30), (90, 180), (100, 100)], {'A': 'red', 'B': 'blue', 'C': 'orange', 'H': 'grey'})\n"
     ]
    }
   ],
   "source": [
    "tri = Triangle()\n",
    "pts = [(10, 20), (170, 30), (90, 180)]\n",
    "tri.find_H(pts)"
   ]
  },
  {
   "cell_type": "code",
   "execution_count": 5,
   "id": "90a99c05-0825-4316-976b-a26668e9e9f2",
   "metadata": {},
   "outputs": [],
   "source": [
    "import widgets_helpers\n",
    "\n",
    "\n",
    "class View:\n",
    "    def __init__(self, triangle):\n",
    "        triangle.event_handler = self.callback\n",
    "\n",
    "        self.mcanvas = widgets_helpers.new_mcanvas()\n",
    "        self.bg, self.fg = self.mcanvas\n",
    "        self.bg.font = '20px sans-serif'\n",
    "\n",
    "    def clear(self):\n",
    "        self.mcanvas.clear()\n",
    "\n",
    "    def draw_ABCH(self, pts, name_color):\n",
    "        self.bg.clear()\n",
    "        self.bg.stroke_polygon(pts[:3])\n",
    "        for (x, y), (name, color) in zip(pts, name_color.items()):\n",
    "            self.bg.fill_style = color\n",
    "            self.bg.fill_circle(x, y, radius=5)\n",
    "            self.bg.fill_style = 'black'\n",
    "            self.bg.fill_text(name, x, y)\n",
    "\n",
    "    def callback(self, event, data):\n",
    "        pts, name_color = data\n",
    "        self.draw_ABCH(pts, name_color)\n",
    "\n",
    "    def _ipython_display_(self):\n",
    "        display(self.mcanvas)"
   ]
  },
  {
   "cell_type": "code",
   "execution_count": 6,
   "id": "8bbe425e-aef1-412e-8ad9-0191bd9bef57",
   "metadata": {},
   "outputs": [
    {
     "data": {
      "application/vnd.jupyter.widget-view+json": {
       "model_id": "e8e3573a2df04cd19ef4cec1ae16f4ef",
       "version_major": 2,
       "version_minor": 0
      },
      "text/plain": [
       "MultiCanvas(height=200, layout=Layout(border_bottom='1px solid black', border_left='1px solid black', border_r…"
      ]
     },
     "metadata": {},
     "output_type": "display_data"
    }
   ],
   "source": [
    "view = View(tri)\n",
    "view"
   ]
  },
  {
   "cell_type": "code",
   "execution_count": 7,
   "id": "dfee5c05-f75d-4b5f-a92e-4c73967f43d9",
   "metadata": {},
   "outputs": [],
   "source": [
    "name_color = {'A': 'red', 'B': 'blue', 'C': 'orange', 'H': 'grey'}\n",
    "pts = [(10, 20), (170, 30), (90, 180)]\n",
    "view.draw_ABCH(pts, name_color)"
   ]
  },
  {
   "cell_type": "code",
   "execution_count": 8,
   "id": "4b4f0890-d2ac-441c-839c-e3d9fcde594c",
   "metadata": {},
   "outputs": [],
   "source": [
    "view.clear()"
   ]
  },
  {
   "cell_type": "code",
   "execution_count": 9,
   "id": "04a97a74-20bb-424d-93ab-43b0b181642d",
   "metadata": {},
   "outputs": [],
   "source": [
    "tri.find_H(pts)"
   ]
  },
  {
   "cell_type": "code",
   "execution_count": null,
   "id": "16df6daf-5869-485d-9cac-8804932bb64f",
   "metadata": {},
   "outputs": [],
   "source": []
  },
  {
   "cell_type": "code",
   "execution_count": 23,
   "id": "217c9eb1-3d0f-421e-b7f3-481c4eebb9dd",
   "metadata": {},
   "outputs": [],
   "source": [
    "from canvas_callbacks import remove_all_callbacks\n",
    "\n",
    "\n",
    "class Controller:\n",
    "    err_out = widgets_helpers.new_output()\n",
    "\n",
    "    def __init__(self, triangle, view):\n",
    "        self.pts = []\n",
    "        self.triangle = triangle\n",
    "        self.view = view\n",
    "        remove_all_callbacks(self.view.mcanvas)\n",
    "        self.view.mcanvas.on_mouse_down(self.on_mouse_down)\n",
    "\n",
    "    @err_out.capture()\n",
    "    def on_mouse_down(self, x, y):\n",
    "        self.view.fg.fill_circle(x, y, radius=2)\n",
    "        self.pts.append((x, y))\n",
    "        if len(self.pts) == 3:\n",
    "            # print(self.pts)\n",
    "            self.triangle.find_H(self.pts)\n",
    "            self.pts.clear()\n",
    "            self.view.fg.clear()\n",
    "\n",
    "    def _ipython_display_(self):\n",
    "        display(self.view.mcanvas, self.err_out)"
   ]
  },
  {
   "cell_type": "code",
   "execution_count": 24,
   "id": "1bc2bddc-00bc-45a6-900a-07a112a60ede",
   "metadata": {},
   "outputs": [
    {
     "data": {
      "application/vnd.jupyter.widget-view+json": {
       "model_id": "e8e3573a2df04cd19ef4cec1ae16f4ef",
       "version_major": 2,
       "version_minor": 0
      },
      "text/plain": [
       "MultiCanvas(height=200, layout=Layout(border_bottom='1px solid black', border_left='1px solid black', border_r…"
      ]
     },
     "metadata": {},
     "output_type": "display_data"
    },
    {
     "data": {
      "application/vnd.jupyter.widget-view+json": {
       "model_id": "9cdcc6b5e2684c1888580ed5535eaba4",
       "version_major": 2,
       "version_minor": 0
      },
      "text/plain": [
       "Output(layout=Layout(border_bottom='1px solid black', border_left='1px solid black', border_right='1px solid b…"
      ]
     },
     "metadata": {},
     "output_type": "display_data"
    }
   ],
   "source": [
    "controller = Controller(tri, view)\n",
    "controller"
   ]
  },
  {
   "cell_type": "code",
   "execution_count": 25,
   "id": "1a5f0345-d963-405f-a3d6-f1f799941571",
   "metadata": {},
   "outputs": [],
   "source": [
    "view.clear()"
   ]
  },
  {
   "cell_type": "code",
   "execution_count": null,
   "id": "8fb6c28e-70d1-4a99-a765-64d1cd98aab7",
   "metadata": {},
   "outputs": [],
   "source": []
  },
  {
   "cell_type": "code",
   "execution_count": null,
   "id": "ff60c42f-f803-4404-9411-f827bd38e32c",
   "metadata": {},
   "outputs": [],
   "source": [
    "\n"
   ]
  },
  {
   "cell_type": "code",
   "execution_count": 31,
   "id": "366ccd29-c23f-4245-8607-13ed770e3d74",
   "metadata": {},
   "outputs": [],
   "source": [
    "from vector import Vec2d\n",
    "\n",
    "\n",
    "def find_H(self, pts):\n",
    "    A, B, C = pts\n",
    "    ab = Vec2d(*B) - Vec2d(*A)\n",
    "    ac = Vec2d(*C) - Vec2d(*A)\n",
    "    length = ac * ab.unit()\n",
    "    ah = ab.unit()*length\n",
    "    H = (Vec2d(*A) + ah).as_tuple()\n",
    "\n",
    "    pts.append(H)\n",
    "    self.event_handler('result', (pts, self.name_color))\n",
    "\n",
    "Triangle.find_H = find_H"
   ]
  },
  {
   "cell_type": "code",
   "execution_count": 32,
   "id": "bf731bff-558f-4ee2-9727-e065707f34e1",
   "metadata": {},
   "outputs": [],
   "source": [
    "tri = Triangle()"
   ]
  },
  {
   "cell_type": "code",
   "execution_count": 33,
   "id": "9445874f-5370-446c-acd4-3b6bcf1f74d9",
   "metadata": {},
   "outputs": [
    {
     "name": "stdout",
     "output_type": "stream",
     "text": [
      "result ([(10, 20), (170, 30), (90, 180), (99.64980544747081, 25.603112840466927)], {'A': 'red', 'B': 'blue', 'C': 'orange', 'H': 'grey'})\n"
     ]
    }
   ],
   "source": [
    "pts = [(10, 20), (170, 30), (90, 180)]\n",
    "tri.find_H(pts)"
   ]
  },
  {
   "cell_type": "code",
   "execution_count": null,
   "id": "c8a4b4ee-c4fd-4fea-aa8a-288448c0c839",
   "metadata": {},
   "outputs": [],
   "source": []
  },
  {
   "cell_type": "code",
   "execution_count": 34,
   "id": "c02b0ed0-83a0-4a4a-a753-a4941cd795b5",
   "metadata": {},
   "outputs": [
    {
     "data": {
      "application/vnd.jupyter.widget-view+json": {
       "model_id": "4d0150d8cca94617869d2cc54e6d600b",
       "version_major": 2,
       "version_minor": 0
      },
      "text/plain": [
       "MultiCanvas(height=200, layout=Layout(border_bottom='1px solid black', border_left='1px solid black', border_r…"
      ]
     },
     "metadata": {},
     "output_type": "display_data"
    },
    {
     "data": {
      "application/vnd.jupyter.widget-view+json": {
       "model_id": "9cdcc6b5e2684c1888580ed5535eaba4",
       "version_major": 2,
       "version_minor": 0
      },
      "text/plain": [
       "Output(layout=Layout(border_bottom='1px solid black', border_left='1px solid black', border_right='1px solid b…"
      ]
     },
     "metadata": {},
     "output_type": "display_data"
    }
   ],
   "source": [
    "view = View(tri)\n",
    "controller = Controller(tri, view)\n",
    "controller"
   ]
  },
  {
   "cell_type": "code",
   "execution_count": 36,
   "id": "9d3ecf30-0d5b-48d5-863c-5135207fda35",
   "metadata": {},
   "outputs": [],
   "source": [
    "controller.err_out.clear_output()"
   ]
  },
  {
   "cell_type": "code",
   "execution_count": null,
   "id": "1abcfb05-1dc4-497d-b73e-7a1493c7e3af",
   "metadata": {},
   "outputs": [],
   "source": []
  }
 ],
 "metadata": {
  "kernelspec": {
   "display_name": "Python 3 (ipykernel)",
   "language": "python",
   "name": "python3"
  },
  "language_info": {
   "codemirror_mode": {
    "name": "ipython",
    "version": 3
   },
   "file_extension": ".py",
   "mimetype": "text/x-python",
   "name": "python",
   "nbconvert_exporter": "python",
   "pygments_lexer": "ipython3",
   "version": "3.13.0"
  }
 },
 "nbformat": 4,
 "nbformat_minor": 5
}
