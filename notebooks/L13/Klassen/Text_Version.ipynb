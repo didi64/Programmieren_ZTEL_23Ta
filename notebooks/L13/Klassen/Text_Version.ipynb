{
 "cells": [
  {
   "cell_type": "code",
   "execution_count": null,
   "id": "889019d4-2f85-4dc1-9071-97d5b23c6e89",
   "metadata": {},
   "outputs": [],
   "source": []
  },
  {
   "cell_type": "code",
   "execution_count": 3,
   "id": "78e04cc1-943a-452c-8cb5-d1a138938fa5",
   "metadata": {},
   "outputs": [
    {
     "data": {
      "application/vnd.jupyter.widget-view+json": {
       "model_id": "31f2132972ca498280cad9270311b5f4",
       "version_major": 2,
       "version_minor": 0
      },
      "text/plain": [
       "Output(layout=Layout(border_bottom='1px solid black', border_left='1px solid black', border_right='1px solid b…"
      ]
     },
     "metadata": {},
     "output_type": "display_data"
    },
    {
     "data": {
      "application/vnd.jupyter.widget-view+json": {
       "model_id": "b2f47bafe220426abf2a38505ee5df9e",
       "version_major": 2,
       "version_minor": 0
      },
      "text/plain": [
       "Text(value='Your move: ')"
      ]
     },
     "metadata": {},
     "output_type": "display_data"
    },
    {
     "data": {
      "application/vnd.jupyter.widget-view+json": {
       "model_id": "a12e8ced7c2947a6bacb08ed69250778",
       "version_major": 2,
       "version_minor": 0
      },
      "text/plain": [
       "Output(layout=Layout(border_bottom='1px solid black', border_left='1px solid black', border_right='1px solid b…"
      ]
     },
     "metadata": {},
     "output_type": "display_data"
    }
   ],
   "source": [
    "from game import Game\n",
    "import views\n",
    "import controllers\n",
    "from IPython.display import display\n",
    "\n",
    "\n",
    "game = Game()\n",
    "view = views.DebugView(game)\n",
    "# view = views.TextView(game)\n",
    "controller = controllers.TextController(game)\n",
    "display(view, controller)"
   ]
  },
  {
   "cell_type": "code",
   "execution_count": 2,
   "id": "2845ac18-dcd8-42f5-8047-5414a686b132",
   "metadata": {},
   "outputs": [],
   "source": [
    "view.out.clear_output()"
   ]
  },
  {
   "cell_type": "code",
   "execution_count": null,
   "id": "0597a843-b319-47fb-bc32-e85c36749c9c",
   "metadata": {},
   "outputs": [],
   "source": []
  }
 ],
 "metadata": {
  "kernelspec": {
   "display_name": "Python 3 (ipykernel)",
   "language": "python",
   "name": "python3"
  },
  "language_info": {
   "codemirror_mode": {
    "name": "ipython",
    "version": 3
   },
   "file_extension": ".py",
   "mimetype": "text/x-python",
   "name": "python",
   "nbconvert_exporter": "python",
   "pygments_lexer": "ipython3",
   "version": "3.13.0"
  }
 },
 "nbformat": 4,
 "nbformat_minor": 5
}
