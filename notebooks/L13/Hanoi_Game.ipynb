{
 "cells": [
  {
   "cell_type": "code",
   "execution_count": null,
   "id": "776753c3-2f68-48e0-b6f0-84bc151a3b4d",
   "metadata": {},
   "outputs": [],
   "source": []
  },
  {
   "cell_type": "code",
   "execution_count": 7,
   "id": "1a70d9b7-a5db-49fa-bbe0-bfcd011d467d",
   "metadata": {},
   "outputs": [
    {
     "name": "stdout",
     "output_type": "stream",
     "text": [
      "Overwriting game.py\n"
     ]
    }
   ],
   "source": [
    "#%%file game.py\n",
    "class Game:\n",
    "    def __init__(self):\n",
    "        self.ndisks = 4\n",
    "        self.stacks = None\n",
    "        self.event_handler = lambda *args: print(*args)\n",
    "\n",
    "    def new_game(self):\n",
    "        self.stacks = [list(range(self.ndisks))[::-1], [], []]\n",
    "        self.event_handler('new_game', self.stacks)\n",
    "\n",
    "    def move_disk(self, src, dst):\n",
    "        if (not self.stacks[src] or\n",
    "           (self.stacks[dst] and self.stacks[dst][-1] < self.stacks[src][-1])):\n",
    "            return\n",
    "        disk = self.stacks[src].pop()\n",
    "        self.stacks[dst].append(disk)\n",
    "        self.event_handler('update_stacks', self.stacks)\n",
    "\n",
    "    def __repr__(self):\n",
    "        return self.stacks.__repr__()"
   ]
  },
  {
   "cell_type": "code",
   "execution_count": 3,
   "id": "43a3494a-ac8e-450d-8f36-5c21605cc9aa",
   "metadata": {},
   "outputs": [
    {
     "data": {
      "text/plain": [
       "None"
      ]
     },
     "execution_count": 3,
     "metadata": {},
     "output_type": "execute_result"
    }
   ],
   "source": [
    "game = Game()\n",
    "game"
   ]
  },
  {
   "cell_type": "code",
   "execution_count": 4,
   "id": "b07944d4-6fba-464f-afc1-7de93f0ad29c",
   "metadata": {},
   "outputs": [
    {
     "name": "stdout",
     "output_type": "stream",
     "text": [
      "new_game [[3, 2, 1, 0], [], []]\n"
     ]
    }
   ],
   "source": [
    "game.new_game()"
   ]
  },
  {
   "cell_type": "code",
   "execution_count": 5,
   "id": "19f5cddf-9280-4e9f-8267-da1c7fdfba02",
   "metadata": {},
   "outputs": [
    {
     "name": "stdout",
     "output_type": "stream",
     "text": [
      "update_stacks [[3, 2, 1], [], [0]]\n"
     ]
    }
   ],
   "source": [
    "game.move_disk(0, 2)"
   ]
  },
  {
   "cell_type": "code",
   "execution_count": 6,
   "id": "cce4da58-5d69-435c-80a7-30dc9c72cade",
   "metadata": {},
   "outputs": [
    {
     "data": {
      "text/plain": [
       "[[3, 2, 1], [], [0]]"
      ]
     },
     "execution_count": 6,
     "metadata": {},
     "output_type": "execute_result"
    }
   ],
   "source": [
    "game"
   ]
  },
  {
   "cell_type": "code",
   "execution_count": 8,
   "id": "b60d52ee-2c8e-4bda-ae7b-f5f748bd97d2",
   "metadata": {},
   "outputs": [],
   "source": [
    "#%%file view.py\n",
    "from ipycanvas import Canvas\n",
    "from IPython.display import display\n",
    "\n",
    "\n",
    "class View:\n",
    "    positions = [50, 150, 250]\n",
    "    disk_widths = [30, 50, 70, 90]\n",
    "    disk_height = 10\n",
    "    colors = ['brown', 'teal', 'blue', 'purple']\n",
    "\n",
    "    canvas_config = {\n",
    "        'width': 300,\n",
    "        'height': 100,\n",
    "        'layout': {'border': '1px solid black'},\n",
    "    }\n",
    "\n",
    "    def __init__(self, game=None):\n",
    "        self.canvas = Canvas(**View.canvas_config)\n",
    "\n",
    "    def draw_stack(self, stack, pos):\n",
    "        h = self.disk_height\n",
    "        for i, disk in enumerate(stack):\n",
    "            self.canvas.fill_style = self.colors[disk]\n",
    "            w = self.disk_widths[disk]\n",
    "            self.canvas.fill_rect(pos - w/2,\n",
    "                                  self.canvas.height-(i+1)*h,\n",
    "                                  w,\n",
    "                                  h)\n",
    "\n",
    "    def draw_stacks(self, stacks):\n",
    "        self.canvas.clear()\n",
    "        for pos, stack in zip(self.positions, stacks):\n",
    "            self.draw_stack(stack, pos)\n",
    "\n",
    "    def callback(self, event, data):\n",
    "        self.draw_stacks(data)\n",
    "\n",
    "    def _ipython_display_(self):\n",
    "        display(self.canvas)"
   ]
  },
  {
   "cell_type": "code",
   "execution_count": 9,
   "id": "61b3fb6c-c6e1-4fb9-b0c2-d478876fe02f",
   "metadata": {},
   "outputs": [
    {
     "data": {
      "application/vnd.jupyter.widget-view+json": {
       "model_id": "b68b56a92df6411da6ba88ff614df997",
       "version_major": 2,
       "version_minor": 0
      },
      "text/plain": [
       "Canvas(height=100, layout=Layout(border_bottom='1px solid black', border_left='1px solid black', border_right=…"
      ]
     },
     "metadata": {},
     "output_type": "display_data"
    }
   ],
   "source": [
    "view = View()\n",
    "view"
   ]
  },
  {
   "cell_type": "code",
   "execution_count": 10,
   "id": "c95738e3-88a0-4ccd-9a19-38f64aed66c2",
   "metadata": {},
   "outputs": [],
   "source": [
    "view.draw_stacks(game.stacks)"
   ]
  },
  {
   "cell_type": "code",
   "execution_count": null,
   "id": "3ed4c49d-1254-4ea1-8ca6-2556c35ea90e",
   "metadata": {},
   "outputs": [],
   "source": []
  }
 ],
 "metadata": {
  "kernelspec": {
   "display_name": "Python 3 (ipykernel)",
   "language": "python",
   "name": "python3"
  },
  "language_info": {
   "codemirror_mode": {
    "name": "ipython",
    "version": 3
   },
   "file_extension": ".py",
   "mimetype": "text/x-python",
   "name": "python",
   "nbconvert_exporter": "python",
   "pygments_lexer": "ipython3",
   "version": "3.13.0"
  }
 },
 "nbformat": 4,
 "nbformat_minor": 5
}
