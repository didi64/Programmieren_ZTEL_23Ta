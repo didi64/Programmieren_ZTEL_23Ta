{
 "cells": [
  {
   "cell_type": "code",
   "execution_count": null,
   "id": "da49e3bd-5db6-43e7-8a33-c7bea31159af",
   "metadata": {},
   "outputs": [],
   "source": [
    "###"
   ]
  },
  {
   "cell_type": "code",
   "execution_count": 56,
   "id": "cf057f65-7fe2-422f-be9f-0c912c72a4ac",
   "metadata": {},
   "outputs": [],
   "source": [
    "from widgets_helpers import new_output, new_canvas, new_mcanvas\n",
    "\n",
    "# sonst ist display (zu unrecht) mit einer roten Wellenlinie unterlegt\n",
    "from IPython.display import display"
   ]
  },
  {
   "cell_type": "code",
   "execution_count": null,
   "id": "d9260922-6f1e-4334-947e-f95d18f1b25c",
   "metadata": {},
   "outputs": [],
   "source": []
  },
  {
   "cell_type": "markdown",
   "id": "fb11fc97-424b-41a3-a3b7-b690b299d28d",
   "metadata": {},
   "source": [
    "### Canvas Beispiel"
   ]
  },
  {
   "cell_type": "code",
   "execution_count": 54,
   "id": "7d35ea2a-cd6d-4985-85d3-1e485f0e043b",
   "metadata": {},
   "outputs": [
    {
     "data": {
      "application/vnd.jupyter.widget-view+json": {
       "model_id": "97eb89203b324296ab471825c6750996",
       "version_major": 2,
       "version_minor": 0
      },
      "text/plain": [
       "Canvas(height=200, layout=Layout(border_bottom='1px solid black', border_left='1px solid black', border_right=…"
      ]
     },
     "metadata": {},
     "output_type": "display_data"
    },
    {
     "data": {
      "application/vnd.jupyter.widget-view+json": {
       "model_id": "676177107b1b4c60a6bd3a91d3f754f0",
       "version_major": 2,
       "version_minor": 0
      },
      "text/plain": [
       "Output(layout=Layout(border_bottom='1px solid black', border_left='1px solid black', border_right='1px solid b…"
      ]
     },
     "metadata": {},
     "output_type": "display_data"
    }
   ],
   "source": [
    "err_out = new_output()\n",
    "canvas = new_canvas()\n",
    "dw, dh = canvas.width/10, canvas.height/10\n",
    "\n",
    "\n",
    "def xy2colrow(x, y):\n",
    "    col = x // dw\n",
    "    row = y // dh\n",
    "    return col, row\n",
    "\n",
    "\n",
    "def colrow2xy(col, row):\n",
    "    col = dw * (col + .5)\n",
    "    row = dh * (row + .5)\n",
    "    return col, row\n",
    "\n",
    "\n",
    "@err_out.capture()\n",
    "def on_mouse_down(x, y):\n",
    "    col, row = xy2colrow(x, y)\n",
    "    canvas.fill_circle(dw * (col + .5), dh * (row + .5), 5)\n",
    "\n",
    "\n",
    "canvas.on_mouse_down(on_mouse_down)\n",
    "display(canvas, err_out)"
   ]
  },
  {
   "cell_type": "markdown",
   "id": "091739b5-92f9-4d08-b7c8-ec1cb50d2748",
   "metadata": {},
   "source": [
    "### MultiCanvas Beispiel"
   ]
  },
  {
   "cell_type": "code",
   "execution_count": 24,
   "id": "8c84abbd-50ca-4503-b698-021771aaa8dc",
   "metadata": {},
   "outputs": [
    {
     "data": {
      "application/vnd.jupyter.widget-view+json": {
       "model_id": "960e9e9b74124626846fa9d71c5d0c2b",
       "version_major": 2,
       "version_minor": 0
      },
      "text/plain": [
       "MultiCanvas(height=200, layout=Layout(border_bottom='1px solid black', border_left='1px solid black', border_r…"
      ]
     },
     "metadata": {},
     "output_type": "display_data"
    },
    {
     "data": {
      "application/vnd.jupyter.widget-view+json": {
       "model_id": "162e09b5379743cd909394ba0b92cf93",
       "version_major": 2,
       "version_minor": 0
      },
      "text/plain": [
       "Output(layout=Layout(border_bottom='1px solid black', border_left='1px solid black', border_right='1px solid b…"
      ]
     },
     "metadata": {},
     "output_type": "display_data"
    }
   ],
   "source": [
    "err_out = new_output()\n",
    "mcanvas = new_mcanvas(2)\n",
    "dw, dh = mcanvas.width/11, mcanvas.height/11\n",
    "center = (5.5*dw, 5.5*dh)\n",
    "bg, fg = mcanvas\n",
    "bg.fill_style = 'red'\n",
    "\n",
    "\n",
    "@err_out.capture()\n",
    "def on_mouse_move(x, y):\n",
    "    col, row = xy2colrow(x, y)\n",
    "    pos = (dw * (col + .5), dh * (row + .5))\n",
    "    fg.clear()\n",
    "    fg.stroke_lines([center, pos])\n",
    "\n",
    "\n",
    "for i in range(11*11):\n",
    "    row = i // 11\n",
    "    col = i % 11\n",
    "    x, y = colrow2xy(col, row)\n",
    "    bg.fill_circle(x, y, 5)\n",
    "\n",
    "\n",
    "mcanvas.on_mouse_move(on_mouse_move)\n",
    "display(mcanvas, err_out)"
   ]
  },
  {
   "cell_type": "code",
   "execution_count": null,
   "id": "df91bb30-eb5b-4ad0-af8f-6f338368783b",
   "metadata": {},
   "outputs": [],
   "source": []
  }
 ],
 "metadata": {
  "kernelspec": {
   "display_name": "Python 3 (ipykernel)",
   "language": "python",
   "name": "python3"
  },
  "language_info": {
   "codemirror_mode": {
    "name": "ipython",
    "version": 3
   },
   "file_extension": ".py",
   "mimetype": "text/x-python",
   "name": "python",
   "nbconvert_exporter": "python",
   "pygments_lexer": "ipython3",
   "version": "3.13.0"
  }
 },
 "nbformat": 4,
 "nbformat_minor": 5
}
