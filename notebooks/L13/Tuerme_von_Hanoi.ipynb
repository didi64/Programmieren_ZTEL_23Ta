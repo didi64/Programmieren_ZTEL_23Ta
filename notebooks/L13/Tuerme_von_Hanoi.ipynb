{
 "cells": [
  {
   "cell_type": "markdown",
   "id": "82a401da-d65e-4ae7-ba22-3c508462ce78",
   "metadata": {},
   "source": [
    "### [T&uuml;rme von Hanoi](https://de.wikipedia.org/wiki/T%C3%BCrme_von_Hanoi)\n",
    "Ein Scheibenstapel soll verschoben werden. Dabei sind folgende Regeln einzuhalten:\n",
    "- Es darf jeweils nur eine Scheibe verschoben werden.\n",
    "- Auf eine Scheibe darf nur eine kleinere Scheibe gelegt werden.\n",
    "- Es d&uuml;rfen max. 3 Stapel vorhanden sein.\n",
    "\n",
    "Wir programmieren eine einfache, aber ausbauf&auml;hige Variante dieses Spiels.  \n",
    "- Verschoben wird ein Stabel mit 4 Scheiben,\n",
    "  repr&auml;sentiert durch die Zahlen 0, 1, 2 und 3. \n",
    "  Je gr&ouml;sser die Zahl,\n",
    "  desto gr&ouml;sser die Scheibe.\n",
    "- Eine absteigend sortierte Liste `[3, 2, 1, 0]` entspricht einem Stapel.\n",
    "  Die letzte Zahl entspricht der obersten und kleinsten Scheibe."
   ]
  },
  {
   "cell_type": "markdown",
   "id": "f552a074-7613-43da-8e4c-2495fa12371f",
   "metadata": {},
   "source": [
    "### Der Kern des Spiels\n",
    "Der Spielzustand wird in der Variable `stacks` gespeichert.\n",
    "Diese enth&auml;lt eine Liste mit 3 Listen, den Stapeln.\n",
    "Die Funktion `new_game()` startet ein neues Spiel, indem die Liste `stacks` modifiziert wird, so dass sie die 3 Stapel\n",
    "`[3, 2, 1, 0]`, `[]` und `[]` enth&auml;lt.\n",
    "\n",
    "Die Funktion `move_disk(src, dst)` verschiebt eine Scheibe von Stapel `src` (source) auf den Stapel `dst` (destination), falls regelkonform."
   ]
  },
  {
   "cell_type": "code",
   "execution_count": null,
   "id": "0963c65f-2b89-4e79-9f8d-c44093199d2d",
   "metadata": {},
   "outputs": [],
   "source": [
    "ndisks = 4\n",
    "stacks = []\n",
    "\n",
    "\n",
    "def new_game():\n",
    "    stack1 = list(range(ndisks))[::-1]\n",
    "    stacks[:] = [stack1, [], []]\n",
    "\n",
    "\n",
    "def move_disk(src, dst):\n",
    "    # falls stacks[src] leer oder stacks[dst] leer oder Scheibenbed. verletzt, mache nichts\n",
    "    if not stacks[src] or (stacks[dst] and stacks[dst][-1] < stacks[src][-1]):\n",
    "        return\n",
    "    disk = stacks[src].pop()\n",
    "    stacks[dst].append(disk)"
   ]
  },
  {
   "cell_type": "code",
   "execution_count": null,
   "id": "9a5e3fa5-1d21-4bad-a773-1e694bb16258",
   "metadata": {},
   "outputs": [],
   "source": [
    "new_game()\n",
    "stacks"
   ]
  },
  {
   "cell_type": "code",
   "execution_count": null,
   "id": "760e04f1-551b-4377-8c82-5d4a6be3c6ec",
   "metadata": {},
   "outputs": [],
   "source": [
    "move_disk(0, 2)\n",
    "stacks"
   ]
  },
  {
   "cell_type": "code",
   "execution_count": null,
   "id": "23c96af9-f7cd-4fc1-ad07-2acd312972e0",
   "metadata": {},
   "outputs": [],
   "source": [
    "move_disk(0, 1)\n",
    "stacks"
   ]
  },
  {
   "cell_type": "code",
   "execution_count": null,
   "id": "de4fd817-cc2b-47b8-9c32-52c1046a42a9",
   "metadata": {},
   "outputs": [],
   "source": [
    "move_disk(2, 1)\n",
    "stacks"
   ]
  },
  {
   "cell_type": "markdown",
   "id": "16d37da3-71bc-45f3-865c-746bef02333f",
   "metadata": {},
   "source": [
    "### Darstellung des Spielzustands an einen Eventhandler delegieren \n",
    "Wir k&ouml;nnen bereits ein neues Spiel starten, Scheiben verschieben und dann\n",
    "die neue Stabelkonfiguration betrachten, indem wir die Liste `stacks` ausgeben.\n",
    "Wir m&ouml;chten jedoch, dass der Spielzustand automatisch nach einem Neustart des Spiels und nach jeder Stapelverschiebung ausgegeben wird.  \n",
    "\n",
    "Diese Aufgabe &uuml;bertragen wir einem **Eventhandler**.\n",
    "Der Eventhandler ist eine Funktion, die mit den Argumenten `event` und `data`\n",
    "aufgerufen wird. `event` ist dabei der Name des Events und `data` sind die \n",
    "f&uuml;r die Bearbeitung des Events relevanten Daten.\n",
    "\n",
    "\n",
    "Im vorliegenden Fall haben wir 2 Events, Neustart und Stapelverschiebung.\n",
    "Wir behandeln beide gleich. F&uuml;rs Erste geben wir jeweils eine textliche Darstellung der Stapelkonfiguration aus."
   ]
  },
  {
   "cell_type": "code",
   "execution_count": null,
   "id": "8ba3473f-db31-40b1-8696-7153a29d4b53",
   "metadata": {},
   "outputs": [],
   "source": [
    "ndisks = 4\n",
    "stacks = []\n",
    "\n",
    "\n",
    "# ein einfacher Eventhandler\n",
    "event_handler = print\n",
    "\n",
    "\n",
    "def new_game():\n",
    "    stack1 = list(range(ndisks))[::-1]\n",
    "    stacks[:] = [stack1, [], []]\n",
    "    event_handler('new game', stacks)\n",
    "\n",
    "\n",
    "def move_disk(src, dst):\n",
    "    if not stacks[src] or (stacks[dst] and stacks[dst][-1] < stacks[src][-1]):\n",
    "        return\n",
    "    disk = stacks[src].pop()\n",
    "    stacks[dst].append(disk)\n",
    "    event_handler('update stacks', stacks)"
   ]
  },
  {
   "cell_type": "code",
   "execution_count": null,
   "id": "caec2b38-3c44-4139-891a-818ea57be671",
   "metadata": {},
   "outputs": [],
   "source": [
    "new_game()"
   ]
  },
  {
   "cell_type": "code",
   "execution_count": null,
   "id": "2120cb90-8c4b-42d3-ac01-722ebfb7fa77",
   "metadata": {},
   "outputs": [],
   "source": [
    "move_disk(0, 2)"
   ]
  },
  {
   "cell_type": "code",
   "execution_count": null,
   "id": "2389329a-538f-4d40-8f38-c11c0aea0a5d",
   "metadata": {},
   "outputs": [],
   "source": [
    "move_disk(0, 1)"
   ]
  },
  {
   "cell_type": "code",
   "execution_count": null,
   "id": "0e6037d3-4dc1-4bda-9d03-26dd9d7eb12e",
   "metadata": {},
   "outputs": [],
   "source": [
    "move_disk(2, 1)"
   ]
  },
  {
   "cell_type": "code",
   "execution_count": null,
   "id": "f9e31eb1-d7b7-44eb-a23b-d3a00f8d0e1b",
   "metadata": {},
   "outputs": [],
   "source": []
  },
  {
   "cell_type": "markdown",
   "id": "11f7e873-ae3b-49ee-8e2a-fb01f738b643",
   "metadata": {},
   "source": [
    "### Bildliche Darstellung der Stapelkonfiguration\n",
    "Statt einer textlichen Darstellung der Stapelkonfiguration\n",
    "soll der Eventhandler ein bildliche Darstellung liefern.\n",
    "Dazu weisen wir der Variable `event_handler` eine Funktion zu, welche\n",
    "die Scheibenstapel auf eine Canvas zeichnet.\n"
   ]
  },
  {
   "cell_type": "code",
   "execution_count": null,
   "id": "7305b2b1-3513-486c-91e9-bb83a2222f83",
   "metadata": {},
   "outputs": [],
   "source": [
    "from IPython.display import display\n",
    "from widgets_helpers import new_canvas\n",
    "\n",
    "\n",
    "def draw_stack(canvas, stack, pos):\n",
    "    h = disk_height\n",
    "    for i, disk in enumerate(stack):\n",
    "        canvas.fill_style = colors[disk]\n",
    "        w = disk_widths[disk]\n",
    "        canvas.fill_rect(pos - w/2, canvas.height-(i+1)*h, w, h)\n",
    "\n",
    "\n",
    "def draw_stacks(canvas, event, stacks):\n",
    "    canvas.clear()\n",
    "    for pos, stack in zip(stack_positions, stacks):\n",
    "        draw_stack(canvas, stack, pos)\n",
    "\n",
    "\n",
    "stack_positions = [50, 150, 250]\n",
    "disk_widths = [30, 50, 70, 90]\n",
    "disk_height = 10\n",
    "colors = ['brown', 'teal', 'blue', 'purple']\n",
    "\n",
    "\n",
    "event_handler = lambda event, data: draw_stacks(canvas, event, data)\n",
    "canvas = new_canvas(300, 100)"
   ]
  },
  {
   "cell_type": "code",
   "execution_count": null,
   "id": "0958fcfc-1f21-4167-9e25-53a384fba4de",
   "metadata": {},
   "outputs": [],
   "source": [
    "canvas"
   ]
  },
  {
   "cell_type": "code",
   "execution_count": null,
   "id": "10f5488b-d234-489a-b23a-44a202f82c14",
   "metadata": {},
   "outputs": [],
   "source": [
    "new_game()"
   ]
  },
  {
   "cell_type": "code",
   "execution_count": null,
   "id": "6891552c-b279-47a1-b670-faa2c97a9acc",
   "metadata": {},
   "outputs": [],
   "source": [
    "move_disk(0, 2)"
   ]
  },
  {
   "cell_type": "code",
   "execution_count": null,
   "id": "00fd7c5a-2403-45ef-80db-1d3d6ab947a2",
   "metadata": {},
   "outputs": [],
   "source": [
    "move_disk(0, 1)"
   ]
  },
  {
   "cell_type": "code",
   "execution_count": null,
   "id": "3b397ccf-24a9-42bd-b5cb-5b505d80f925",
   "metadata": {},
   "outputs": [],
   "source": [
    "move_disk(2, 1)"
   ]
  },
  {
   "cell_type": "code",
   "execution_count": null,
   "id": "47275cd8-0f22-4545-ab19-74e4fe39cee9",
   "metadata": {},
   "outputs": [],
   "source": []
  },
  {
   "cell_type": "code",
   "execution_count": null,
   "id": "b6e5a7d1-e3b3-48bc-bff6-baf85c98a087",
   "metadata": {},
   "outputs": [],
   "source": []
  },
  {
   "cell_type": "markdown",
   "id": "ffaabc62-e17b-4241-8f43-b580e7c41166",
   "metadata": {},
   "source": [
    "### Spiel mit der Tastatur steuern\n",
    "Statt Spielstart und Scheibenverschiebung durch manuellen Aufruf der Funktionen\n",
    "`new_game()` und `move_disk(src, dst)` auszul&ouml;sen, m&ouml;chten wir\n",
    "dies durch Dr&uuml;cken von `'n'`, bez. durch aufeinanderfolgendes Dr&uuml;cken \n",
    "zweier Stapelnummern erreichen. Die Zahlen 1, 2 und 3 stehen f&uuml;r die Stapel 0,1 und 2.\n",
    "\n",
    "Dazu nutzen wir die F&auml;higkeit des Canvas-Widget auf Tastendr&uuml;cke zu h&ouml;ren.\n",
    "Ist das Canvas-Widget aktive (passiert wenn man darauf klickt)\n",
    "und wurde eine Funktion zum bearbeiten des Events `on_key_down` \n",
    "mit der Methode `on_key_down` registriert, wird beim Dr&uuml;cken einer Taste\n",
    "diese Funktion aufgerufen. Das erste Argument ist der Tastennamen.\n",
    "\n",
    "Zur Bearbeitung des Events `on_key_down` registrieren wir eine\n",
    "Funktion `on_key_down`. Diese merkt sich in der globalen Variable `src` den Ausgangsstapel. Wird mit dem n&auml;chsten Tastendruck ein Zielstapel `dst` selektiert, so wird  `move_disk(src, dst)` aufgerufen.  \n",
    "\n",
    "**Bemerkung**:  \n",
    "W&auml;hrend der Entwicklungsphase m&ouml;chte man die Callbacks editieren und wieder registrieren k&ouml;nnen.\n",
    "Um zu verhindern, dass mehrere (ev. fehlerhafte) Callbacks f&uuml;r ein Event registriert sind, entfernen wir jeweils alle\n",
    "registrierten Callbacks, hier f&uuml;r das on_key_down Event mit der Funktion\n",
    "```python\n",
    "remove_callbacks('on_key_down', canvas)\n",
    "```\n",
    "\n",
    "aus dem modul `canvas_helpers` (File in den Ordner `modules` verschieben!)."
   ]
  },
  {
   "cell_type": "code",
   "execution_count": null,
   "id": "110815b6-60af-4555-aeab-553826801dc9",
   "metadata": {},
   "outputs": [],
   "source": [
    "# nur zum Debuggen\n",
    "from widgets_helpers import new_output\n",
    "from canvas_helpers import remove_callbacks"
   ]
  },
  {
   "cell_type": "code",
   "execution_count": null,
   "id": "1088c341-0eb0-4fd9-8cc2-04810ceb5a1b",
   "metadata": {},
   "outputs": [],
   "source": [
    "src = None\n",
    "err_out = new_output()\n",
    "\n",
    "\n",
    "@err_out.capture()\n",
    "def on_key_down(key, *flags):\n",
    "    global src\n",
    "\n",
    "    if key in '123' and src is None:\n",
    "        src = int(key) - 1\n",
    "        return\n",
    "    elif key in '123':\n",
    "        dst = int(key) - 1\n",
    "        move_disk(src, dst)\n",
    "    if key == 'n':\n",
    "        new_game()\n",
    "    src = None\n",
    "\n",
    "\n",
    "remove_callbacks('on_key_down', canvas)\n",
    "canvas.on_key_down(on_key_down)"
   ]
  },
  {
   "cell_type": "code",
   "execution_count": null,
   "id": "807a23c5-eff9-4de8-b8cc-59a90336ef6f",
   "metadata": {},
   "outputs": [],
   "source": [
    "err_out.clear_output()"
   ]
  },
  {
   "cell_type": "code",
   "execution_count": null,
   "id": "a3781ece-94e3-4a69-9942-ce570019f403",
   "metadata": {},
   "outputs": [],
   "source": [
    "display(canvas, err_out)"
   ]
  },
  {
   "cell_type": "code",
   "execution_count": null,
   "id": "ff2f1fce-3f5c-40d0-9a63-2003d7a56584",
   "metadata": {},
   "outputs": [],
   "source": []
  },
  {
   "cell_type": "markdown",
   "id": "010844ce-4347-4cdf-a30a-fc40d90d689e",
   "metadata": {},
   "source": [
    "### Maussteuerung hinzuf&uuml;gen"
   ]
  },
  {
   "cell_type": "code",
   "execution_count": null,
   "id": "bad3f4fe-14dd-4ba2-9288-71f941574599",
   "metadata": {},
   "outputs": [],
   "source": [
    "@err_out.capture()\n",
    "def on_mouse_down(x, y):\n",
    "    global src\n",
    "    stack_width = canvas.width / 3\n",
    "    src = int(x // stack_width)\n",
    "\n",
    "\n",
    "@err_out.capture()\n",
    "def on_mouse_up(x, y):\n",
    "    global src\n",
    "\n",
    "    if src is None:\n",
    "        return\n",
    "\n",
    "    stack_width = canvas.width / 3\n",
    "    dst = int(x // stack_width)\n",
    "    move_disk(src, dst)\n",
    "    src = None\n",
    "\n",
    "\n",
    "remove_callbacks('on_mouse_down', canvas)\n",
    "remove_callbacks('on_mouse_up', canvas)\n",
    "canvas.on_mouse_down(on_mouse_down)\n",
    "canvas.on_mouse_up(on_mouse_up)"
   ]
  },
  {
   "cell_type": "code",
   "execution_count": null,
   "id": "3ba1a43d-159d-45b7-a973-352f93e17ee3",
   "metadata": {},
   "outputs": [],
   "source": [
    "err_out.clear_output()"
   ]
  },
  {
   "cell_type": "code",
   "execution_count": null,
   "id": "4b15a0c1-3055-43bd-b753-ff1f976dcc64",
   "metadata": {},
   "outputs": [],
   "source": [
    "display(canvas, err_out)"
   ]
  },
  {
   "cell_type": "code",
   "execution_count": null,
   "id": "2fd73d64-215c-40e2-8f2b-0c6cbddee0e9",
   "metadata": {},
   "outputs": [],
   "source": []
  }
 ],
 "metadata": {
  "author": "dieter.probst@gmail.com",
  "kernelspec": {
   "display_name": "Python 3 (ipykernel)",
   "language": "python",
   "name": "python3"
  },
  "language_info": {
   "codemirror_mode": {
    "name": "ipython",
    "version": 3
   },
   "file_extension": ".py",
   "mimetype": "text/x-python",
   "name": "python",
   "nbconvert_exporter": "python",
   "pygments_lexer": "ipython3",
   "version": "3.13.0"
  }
 },
 "nbformat": 4,
 "nbformat_minor": 5
}
