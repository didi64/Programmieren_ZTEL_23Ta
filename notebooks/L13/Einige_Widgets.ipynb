{
 "cells": [
  {
   "cell_type": "markdown",
   "id": "7b6f0adf-2edf-4b39-9893-de6658a27e9b",
   "metadata": {},
   "source": [
    "### Widgets\n",
    "Ein [Widget](https://de.wikipedia.org/wiki/Widget) ist eine Komponente eines grafischen Fenstersystems, z.B. ein\n",
    "Button, ein Ausgabefester, eine Leinwand u.s.w.\n",
    "Viele Widgets erlauben das Registrieren von Funktionen (**Callbacks**), die beim Eintreffen bestimmter Ereignisse (**Events**) aufgerufen werden, wie z.B.\n",
    "das Klicken auf den Button oder die Leinwand. Die Widgets f&uuml;r Jupyterlab sind [hier](https://ipywidgets.readthedocs.io/en/latest/examples/Widget%20List.html) dokumentiert.\n",
    "\n",
    "\n",
    "**Bemerkung**:\n",
    "Mit `print` gemachte Ausgaben von Callbacks werden oft in die\n",
    "Log-Console umgeleitet (oder manchmal unterdr&uuml;ckt). \n",
    "Callbacks **sollten** Ausgaben in ein Output-Widget umleiten.\n",
    "W&auml;hrend der Entwicklungsphase empfielt es sich,\n",
    "allen Output eines Callback (inkl. Fehlermeldungen) in ein Output-Widget umzuleiten.  "
   ]
  },
  {
   "cell_type": "markdown",
   "id": "a62c6de3-a2c3-47be-99f9-cf7b3cec6e35",
   "metadata": {},
   "source": [
    "### Die wichtigsten Widgets\n",
    "Siehe auch [Ipywidgets](https://ipywidgets.readthedocs.io/en/latest/examples/Widget%20List.html)\n",
    "\n",
    "**Bemerkung**:  \n",
    "Benutzt man die `on_submit` Methode des Textwidgets wird eine\n",
    "`Deprecation Warning` ausgegeben. \n",
    "Das bedeutet, das in zuk&uuml;nftigen Versionen die `on_submit`\n",
    "Methode ev. nicht mehr zur Verf&uuml;gung steht. \n",
    "Der vorgeschlagene Workaround ist jedoch umst&auml;ndlich und bietet nicht die gleiche Funktionalit&auml;t.\n",
    "\n"
   ]
  },
  {
   "cell_type": "code",
   "execution_count": null,
   "id": "1c6b44d1-6122-428a-a6d7-ff78cc5970fa",
   "metadata": {},
   "outputs": [],
   "source": [
    "# Deprecation Warnings unterdruecken\n",
    "# import warnings\n",
    "# warnings.filterwarnings('ignore', category=DeprecationWarning)"
   ]
  },
  {
   "cell_type": "code",
   "execution_count": null,
   "id": "9c83dd36-ed1a-45ef-b111-aa09085d1dcd",
   "metadata": {},
   "outputs": [],
   "source": [
    "import ipywidgets as W\n",
    "from out import new_out, print_to_out\n",
    "from IPython.display import display"
   ]
  },
  {
   "cell_type": "code",
   "execution_count": null,
   "id": "655e0d3e-aca8-4008-8d6c-7c4c4b53caaa",
   "metadata": {},
   "outputs": [],
   "source": [
    "out = new_out()\n",
    "out"
   ]
  },
  {
   "cell_type": "code",
   "execution_count": null,
   "id": "f4b67810-2543-403b-93ef-91943e10b159",
   "metadata": {},
   "outputs": [],
   "source": [
    "print_to_out(out, 'test')"
   ]
  },
  {
   "cell_type": "code",
   "execution_count": null,
   "id": "2b3bf42d-ddb9-4ee2-8113-22a816c28456",
   "metadata": {},
   "outputs": [],
   "source": [
    "print_to_out(out, 'neuer Text', clear_output=True)"
   ]
  },
  {
   "cell_type": "markdown",
   "id": "42e194bc-7841-4c98-9659-77971c6e86ca",
   "metadata": {},
   "source": [
    "***\n",
    "**Text-Widget**  \n",
    "***"
   ]
  },
  {
   "cell_type": "code",
   "execution_count": null,
   "id": "be9d27b1-2d81-44b2-acde-4e9afc04b65c",
   "metadata": {},
   "outputs": [],
   "source": [
    "def on_press_enter(tb, out):\n",
    "    '''gib text im Textwidget in out aus'''\n",
    "    print_to_out(out, tb.value)\n",
    "    tb.value = ''"
   ]
  },
  {
   "cell_type": "code",
   "execution_count": null,
   "id": "dc8a4363-53eb-464e-904a-e9162b4390da",
   "metadata": {},
   "outputs": [],
   "source": [
    "out1 = new_out()\n",
    "\n",
    "textbox = W.Text(value='', placeholder='Type something')\n",
    "textbox.on_submit(lambda x, out=out1: on_press_enter(x, out))\n",
    "display(textbox, out1)"
   ]
  },
  {
   "cell_type": "code",
   "execution_count": null,
   "id": "86640874-81dc-4129-ba57-8390cbdebf6d",
   "metadata": {},
   "outputs": [],
   "source": [
    "textbox.value"
   ]
  },
  {
   "cell_type": "markdown",
   "id": "203422ec-b2b2-4645-bc74-c183deb80a19",
   "metadata": {},
   "source": [
    "***\n",
    "**Das Select-Widget**  \n",
    "Das Select-Widget hat keine `on_sumbit` Methode, aber wie bei allen Widget, k&ouml;nnen Attribute beobachtet werden werden.  \n",
    "\n",
    "Die Methode `observe(callback, names=name)`\n",
    "registriert ein Callback, welches aufgerufen wird, falls das Attribute mit\n",
    "Namen `name` ge&auml;ndert wird. \n",
    "Dem Callback wird als Argument ein `Change-Objekt` &uuml;bergeben.  \n",
    "\n",
    "\n",
    "\n",
    "Das `Change-Objekt` is ein Dicionary, auf dessen Schl&uuml;ssel mit\n",
    "der dot-Notation zugegriffen werden kann.\n",
    "Es u.a. ein Attribut `owner`, welches eine Referenz auf das\n",
    "ge&auml;nderte Widget enth&auml;lt, sowie Attribute `old` und `new`,\n",
    "welche den alten, bez, den neuen Wert des Attributes enthalten.\n",
    "***"
   ]
  },
  {
   "cell_type": "code",
   "execution_count": null,
   "id": "88741eef-18bf-4c70-9315-3733aef523c3",
   "metadata": {},
   "outputs": [],
   "source": [
    "def on_change(change, out):\n",
    "    fmsg = 'old value: {}, new value: {}'\n",
    "    msg = fmsg.format(change.old, change.new)\n",
    "    print_to_out(out, msg)"
   ]
  },
  {
   "cell_type": "code",
   "execution_count": null,
   "id": "9d14f247-62f3-4530-aa37-c40ce6b1c43e",
   "metadata": {},
   "outputs": [],
   "source": [
    "out2 = new_out()\n",
    "\n",
    "opts = ('foo', 'bar', 'baz')\n",
    "selection = W.Select(options=opts, value='foo', rows=5)\n",
    "selection.observe(lambda x, out=out2: on_change(x, out),\n",
    "                  names='value')\n",
    "display(selection, out2)"
   ]
  },
  {
   "cell_type": "code",
   "execution_count": null,
   "id": "fa832e85-f12e-4116-b120-63b7a2bfffd5",
   "metadata": {},
   "outputs": [],
   "source": [
    "selection.options, selection.value"
   ]
  },
  {
   "cell_type": "code",
   "execution_count": null,
   "id": "692299b8-9703-4137-bf91-09e4e61752ac",
   "metadata": {},
   "outputs": [],
   "source": [
    "out.clear_output()"
   ]
  },
  {
   "cell_type": "code",
   "execution_count": null,
   "id": "711c60db-eb9c-4878-afaa-f301b3f20e5a",
   "metadata": {},
   "outputs": [],
   "source": [
    "selection.index"
   ]
  },
  {
   "cell_type": "markdown",
   "id": "fc32732a-7ba6-4716-950a-5f5d306a3062",
   "metadata": {},
   "source": [
    "***\n",
    "**Buttons**  \n",
    "***"
   ]
  },
  {
   "cell_type": "code",
   "execution_count": null,
   "id": "2f404da9-2636-44be-ac56-91602e11e347",
   "metadata": {},
   "outputs": [],
   "source": [
    "out3 = new_out()\n",
    "\n",
    "layout_bt = {'border': '2px solid blue',\n",
    "             'width': '80px',\n",
    "             'height': '30px',\n",
    "             }\n",
    "\n",
    "bt = W.Button(description='click me', layout=layout_bt)\n",
    "bt.on_click(lambda bt: print_to_out(out3, 'Button wurde geklickt!'))\n",
    "display(bt, out3)"
   ]
  },
  {
   "cell_type": "code",
   "execution_count": null,
   "id": "c85fe110-2e9b-41bc-aa57-fb6154fad62c",
   "metadata": {},
   "outputs": [],
   "source": [
    "out3.clear_output()"
   ]
  },
  {
   "cell_type": "code",
   "execution_count": null,
   "id": "c7161f05-b355-424b-b2fd-cfdc332ea43b",
   "metadata": {},
   "outputs": [],
   "source": [
    "bt.description"
   ]
  },
  {
   "cell_type": "markdown",
   "id": "25f7c236-c3fc-4788-8167-bff13fe453da",
   "metadata": {},
   "source": [
    "***\n",
    "Bordercolor obigen Buttons mit Hilfe des **Colorpicker**-Widgets &auml;ndern\n",
    "***"
   ]
  },
  {
   "cell_type": "code",
   "execution_count": null,
   "id": "61a68c68-9af1-456a-99f9-7ece9e75c463",
   "metadata": {},
   "outputs": [],
   "source": [
    "def set_button_color(change):\n",
    "    color = change.owner.value\n",
    "    bt.layout.border = '2px solid {}'.format(color)\n",
    "\n",
    "\n",
    "colorpicker = W.ColorPicker(description='Pick a color', value='blue')\n",
    "colorpicker.observe(set_button_color, names='value')\n",
    "display(colorpicker)"
   ]
  },
  {
   "cell_type": "markdown",
   "id": "1d22e108-41ce-42ee-ae84-6859cfd9656d",
   "metadata": {},
   "source": [
    "***\n",
    "**Dropdown-Widget**\n",
    "***"
   ]
  },
  {
   "cell_type": "code",
   "execution_count": null,
   "id": "6df7321d-8810-4bd8-8fa0-d3e35c6d197d",
   "metadata": {},
   "outputs": [],
   "source": [
    "opts = ('foo', 'bar', 'baz')\n",
    "dp = W.Dropdown(options=opts, value=opts[0], description='Pick a word:')\n",
    "dp"
   ]
  },
  {
   "cell_type": "code",
   "execution_count": null,
   "id": "e9a7507f-8118-45b7-ac75-7cf3725bcea2",
   "metadata": {},
   "outputs": [],
   "source": [
    "dp.value"
   ]
  },
  {
   "cell_type": "markdown",
   "id": "9d0dcb4e-4ba8-47b2-b3ac-05807cee033a",
   "metadata": {},
   "source": [
    "***\n",
    "**RadioButtons**\n",
    "***"
   ]
  },
  {
   "cell_type": "code",
   "execution_count": null,
   "id": "98fc7ddb-6a88-4f70-b972-2b2f604e0cb1",
   "metadata": {},
   "outputs": [],
   "source": [
    "opts = ('foo', 'bar', 'baz')\n",
    "rbts = W.RadioButtons(options=opts)\n",
    "rbts"
   ]
  },
  {
   "cell_type": "code",
   "execution_count": null,
   "id": "9f2401c4-cf31-4263-aabb-afacd2d9c6be",
   "metadata": {},
   "outputs": [],
   "source": [
    "rbts.value"
   ]
  },
  {
   "cell_type": "markdown",
   "id": "be475be9-99e2-4294-81b2-33a4cb78402b",
   "metadata": {},
   "source": [
    "***\n",
    "**IntSlider**\n",
    "***"
   ]
  },
  {
   "cell_type": "code",
   "execution_count": null,
   "id": "93d25b6c-fe94-4ea8-9b0d-0e7fdebbd557",
   "metadata": {},
   "outputs": [],
   "source": [
    "slider = W.IntSlider(\n",
    "    value=7,\n",
    "    min=1,\n",
    "    max=10,\n",
    "    step=1,\n",
    "    description='Pick a value:',\n",
    "    continuous_update=False,\n",
    "    orientation='horizontal',\n",
    ")\n",
    "slider"
   ]
  },
  {
   "cell_type": "code",
   "execution_count": null,
   "id": "f9a4e9a0-628b-47bc-b1fe-771bc3db2eda",
   "metadata": {},
   "outputs": [],
   "source": [
    "slider.value"
   ]
  }
 ],
 "metadata": {
  "author": "dieter.probst@gmail.com",
  "kernelspec": {
   "display_name": "Python 3 (ipykernel)",
   "language": "python",
   "name": "python3"
  },
  "language_info": {
   "codemirror_mode": {
    "name": "ipython",
    "version": 3
   },
   "file_extension": ".py",
   "mimetype": "text/x-python",
   "name": "python",
   "nbconvert_exporter": "python",
   "pygments_lexer": "ipython3",
   "version": "3.13.0"
  }
 },
 "nbformat": 4,
 "nbformat_minor": 5
}
