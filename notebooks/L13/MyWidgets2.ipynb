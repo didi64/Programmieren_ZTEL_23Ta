{
 "cells": [
  {
   "cell_type": "markdown",
   "id": "3c7a6bad-3b73-49a1-b298-c904b95b3fde",
   "metadata": {},
   "source": [
    "### Die wichtigsten Widgets"
   ]
  },
  {
   "cell_type": "code",
   "execution_count": 1,
   "id": "881021ff-06ea-4d3c-a73d-a9ce81fd019f",
   "metadata": {},
   "outputs": [
    {
     "name": "stdout",
     "output_type": "stream",
     "text": [
      "Overwriting mywidgets.py\n"
     ]
    }
   ],
   "source": [
    "#%%file mywidgets.py\n",
    "import warnings\n",
    "warnings.filterwarnings('ignore', category=DeprecationWarning)\n",
    "from ipywidgets import Output, Text, Button\n",
    "from ipycanvas import Canvas, MultiCanvas\n",
    "\n",
    "\n",
    "# Deprecation Warnings unterdruecken\n",
    "warnings.filterwarnings('ignore', category=DeprecationWarning)\n",
    "\n",
    "\n",
    "LAYOUT_DFT = {'border': '1px solid black'}\n",
    "\n",
    "LAYOUT_BT = {'border': '2px solid blue',\n",
    "             'width': '80px',\n",
    "             'height': '30px',\n",
    "             }\n",
    "\n",
    "LAYOUT_TEXT = {}\n",
    "\n",
    "\n",
    "def new_output(layout=None):\n",
    "    if layout is None:\n",
    "        layout = LAYOUT_DFT\n",
    "    out = Output(layout=layout)\n",
    "    return out\n",
    "\n",
    "\n",
    "def new_canvas(width=300, height=200, layout=None):\n",
    "    if layout is None:\n",
    "        layout = LAYOUT_DFT\n",
    "    canvas = Canvas(width=width, height=height, layout=layout)\n",
    "    return canvas\n",
    "\n",
    "\n",
    "def new_mcanvas(n=2, width=300, height=200, layout=None):\n",
    "    if layout is None:\n",
    "        layout = LAYOUT_DFT\n",
    "    mcanvas = MultiCanvas(n, width=width, height=height, layout=layout)\n",
    "    return mcanvas\n",
    "\n",
    "\n",
    "def new_button(description, layout=None):\n",
    "    if layout is None:\n",
    "        layout = LAYOUT_BT\n",
    "    button = Button(description=description, layout=layout)\n",
    "    return button\n",
    "\n",
    "\n",
    "def new_text(value='', layout=None):\n",
    "    if layout is None:\n",
    "        layout = LAYOUT_TEXT\n",
    "    text = Text(value=value, layout=layout)\n",
    "    return text"
   ]
  },
  {
   "cell_type": "code",
   "execution_count": 35,
   "id": "9dbc20b2-0f98-4341-8e59-08b3f49a3723",
   "metadata": {},
   "outputs": [
    {
     "data": {
      "application/vnd.jupyter.widget-view+json": {
       "model_id": "1aca8e96bdf94c2fae86220a849beffb",
       "version_major": 2,
       "version_minor": 0
      },
      "text/plain": [
       "Output(layout=Layout(border_bottom='1px solid black', border_left='1px solid black', border_right='1px solid b…"
      ]
     },
     "execution_count": 35,
     "metadata": {},
     "output_type": "execute_result"
    }
   ],
   "source": [
    "out = new_output()\n",
    "with out:\n",
    "    print('test')\n",
    "out"
   ]
  },
  {
   "cell_type": "code",
   "execution_count": 38,
   "id": "3032c11d-058a-4dfd-9870-57a3cc63207e",
   "metadata": {},
   "outputs": [
    {
     "data": {
      "application/vnd.jupyter.widget-view+json": {
       "model_id": "e7657e9fa3134cbeb4e7f279e6cc4825",
       "version_major": 2,
       "version_minor": 0
      },
      "text/plain": [
       "Canvas(height=200, layout=Layout(border_bottom='1px solid black', border_left='1px solid black', border_right=…"
      ]
     },
     "execution_count": 38,
     "metadata": {},
     "output_type": "execute_result"
    }
   ],
   "source": [
    "canvas = new_canvas()\n",
    "canvas.fill_style = 'blue'\n",
    "canvas.fill_rect(0, 0, canvas.width, canvas.height)\n",
    "canvas"
   ]
  },
  {
   "cell_type": "code",
   "execution_count": 41,
   "id": "d49ea4be-7fa5-4831-be69-a2b8256a6a59",
   "metadata": {},
   "outputs": [],
   "source": [
    "mcanvas = new_mcanvas()\n",
    "bg, fg = mcanvas\n",
    "bg.fill_style = 'grey'\n",
    "fg.fill_style = 'yellow'\n",
    "bg.fill_rect(0, 0, mcanvas.width, mcanvas.height)\n",
    "fg.fill_circle(mcanvas.width/2, mcanvas.height/2, 20)\n"
   ]
  },
  {
   "cell_type": "code",
   "execution_count": 43,
   "id": "3f99c107-4fec-4ffb-81d1-52ed6c02b7aa",
   "metadata": {},
   "outputs": [
    {
     "data": {
      "application/vnd.jupyter.widget-view+json": {
       "model_id": "f4a00efd3a08447f8ce2eec91536fede",
       "version_major": 2,
       "version_minor": 0
      },
      "text/plain": [
       "MultiCanvas(height=200, layout=Layout(border_bottom='1px solid black', border_left='1px solid black', border_r…"
      ]
     },
     "execution_count": 43,
     "metadata": {},
     "output_type": "execute_result"
    }
   ],
   "source": [
    "mcanvas"
   ]
  },
  {
   "cell_type": "code",
   "execution_count": 44,
   "id": "8a2adb1b-5dae-4236-b9f5-7e3bb19abbf7",
   "metadata": {},
   "outputs": [],
   "source": [
    "fg.clear()"
   ]
  },
  {
   "cell_type": "code",
   "execution_count": null,
   "id": "b4404506-a03a-42f2-8ea5-8d9b53e1f642",
   "metadata": {},
   "outputs": [],
   "source": []
  },
  {
   "cell_type": "code",
   "execution_count": 45,
   "id": "cb10d691-642c-46a9-a5af-c62e787d2eac",
   "metadata": {},
   "outputs": [
    {
     "data": {
      "application/vnd.jupyter.widget-view+json": {
       "model_id": "fbe8f8b44c3c445887f9703b8311183d",
       "version_major": 2,
       "version_minor": 0
      },
      "text/plain": [
       "Button(description='click me!', layout=Layout(border_bottom='2px solid blue', border_left='2px solid blue', bo…"
      ]
     },
     "metadata": {},
     "output_type": "display_data"
    },
    {
     "data": {
      "application/vnd.jupyter.widget-view+json": {
       "model_id": "95c1e92fd7334ea69bf164a36b0d0d37",
       "version_major": 2,
       "version_minor": 0
      },
      "text/plain": [
       "Output(layout=Layout(border_bottom='1px solid black', border_left='1px solid black', border_right='1px solid b…"
      ]
     },
     "metadata": {},
     "output_type": "display_data"
    }
   ],
   "source": [
    "out = new_output()\n",
    "button = new_button('click me!')\n",
    "\n",
    "\n",
    "@out.capture()\n",
    "def on_click(button):\n",
    "    print('clicked!')\n",
    "\n",
    "\n",
    "button.on_click(on_click)\n",
    "display(button, out)"
   ]
  },
  {
   "cell_type": "code",
   "execution_count": 46,
   "id": "9873acee-0cc2-4089-b70f-79d628aa06fe",
   "metadata": {},
   "outputs": [],
   "source": [
    "out.clear_output()"
   ]
  },
  {
   "cell_type": "code",
   "execution_count": null,
   "id": "4343dea7-bb4d-4ee8-87bb-ff6667633bb8",
   "metadata": {},
   "outputs": [],
   "source": []
  },
  {
   "cell_type": "code",
   "execution_count": 47,
   "id": "7eec418c-d350-494e-9bf7-215493de8df3",
   "metadata": {},
   "outputs": [
    {
     "data": {
      "application/vnd.jupyter.widget-view+json": {
       "model_id": "bbd50d9260c844a18c326bc85808ea76",
       "version_major": 2,
       "version_minor": 0
      },
      "text/plain": [
       "Text(value='Your move: ')"
      ]
     },
     "metadata": {},
     "output_type": "display_data"
    },
    {
     "data": {
      "application/vnd.jupyter.widget-view+json": {
       "model_id": "bcd4095c55304d0aa9a354a9e1f77920",
       "version_major": 2,
       "version_minor": 0
      },
      "text/plain": [
       "Output(layout=Layout(border_bottom='1px solid black', border_left='1px solid black', border_right='1px solid b…"
      ]
     },
     "metadata": {},
     "output_type": "display_data"
    }
   ],
   "source": [
    "out = new_output()\n",
    "prompt = 'Your move: '\n",
    "text = new_text(prompt)\n",
    "\n",
    "\n",
    "@out.capture()\n",
    "def on_submit(text):\n",
    "    move = text.value.removeprefix(prompt)\n",
    "    text.value = ''\n",
    "    print(move)\n",
    "\n",
    "\n",
    "text.on_submit(on_submit)\n",
    "display(text, out)"
   ]
  },
  {
   "cell_type": "code",
   "execution_count": null,
   "id": "d9260922-6f1e-4334-947e-f95d18f1b25c",
   "metadata": {},
   "outputs": [],
   "source": [
    "out.clear_output()"
   ]
  },
  {
   "cell_type": "code",
   "execution_count": null,
   "id": "e9b924c8-ec37-4e4d-a424-d717824e2579",
   "metadata": {},
   "outputs": [],
   "source": []
  }
 ],
 "metadata": {
  "kernelspec": {
   "display_name": "Python 3 (ipykernel)",
   "language": "python",
   "name": "python3"
  },
  "language_info": {
   "codemirror_mode": {
    "name": "ipython",
    "version": 3
   },
   "file_extension": ".py",
   "mimetype": "text/x-python",
   "name": "python",
   "nbconvert_exporter": "python",
   "pygments_lexer": "ipython3",
   "version": "3.13.0"
  }
 },
 "nbformat": 4,
 "nbformat_minor": 5
}
