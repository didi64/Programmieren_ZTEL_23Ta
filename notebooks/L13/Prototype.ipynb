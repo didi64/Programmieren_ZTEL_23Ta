{
 "cells": [
  {
   "cell_type": "markdown",
   "id": "80447686-417b-4ad6-9f8a-9948774d6c20",
   "metadata": {},
   "source": [
    "### Prototyping"
   ]
  },
  {
   "cell_type": "code",
   "execution_count": null,
   "id": "8f958378-fb65-4217-bbc2-9fe39d33d68f",
   "metadata": {},
   "outputs": [],
   "source": []
  },
  {
   "cell_type": "code",
   "execution_count": 1,
   "id": "4d6c05b5-1beb-4eef-8d60-089a6651d5ae",
   "metadata": {},
   "outputs": [],
   "source": [
    "class Game:\n",
    "    def __init__(self):\n",
    "        self.ndisks = 4\n",
    "        self.stacks = None\n",
    "        self.event_handler = lambda *args: print(*args)\n",
    "\n",
    "    def new_game(self):\n",
    "        self.stacks = [list(range(self.ndisks))[::-1], [], []]\n",
    "        self.event_handler('new_game', self.stacks)\n",
    "\n",
    "    def move_disk(self, src, dst):\n",
    "        if (not self.stacks[src] or\n",
    "           (self.stacks[dst] and self.stacks[dst][-1] < self.stacks[src][-1])):\n",
    "            return\n",
    "        disk = self.stacks[src].pop()\n",
    "        self.stacks[dst].append(disk)\n",
    "        self.event_handler('update_stacks', self.stacks)\n",
    "\n",
    "    def __repr__(self):\n",
    "        return str(self.stacks)"
   ]
  },
  {
   "cell_type": "code",
   "execution_count": 2,
   "id": "e2580a0f-f649-491a-8cce-d280bc03d1e4",
   "metadata": {},
   "outputs": [
    {
     "data": {
      "text/plain": [
       "None"
      ]
     },
     "execution_count": 2,
     "metadata": {},
     "output_type": "execute_result"
    }
   ],
   "source": [
    "# Game Instanz erstellen und anzeigen\n",
    "game = Game()\n",
    "game"
   ]
  },
  {
   "cell_type": "code",
   "execution_count": 3,
   "id": "0d5f6dbd-a5de-47ab-8e36-36e63ca8ae3f",
   "metadata": {},
   "outputs": [
    {
     "name": "stdout",
     "output_type": "stream",
     "text": [
      "new_game [[3, 2, 1, 0], [], []]\n"
     ]
    }
   ],
   "source": [
    "game.new_game()"
   ]
  },
  {
   "cell_type": "code",
   "execution_count": 4,
   "id": "f0b6bf05-b71c-4d18-bb7d-ea60bd6ff526",
   "metadata": {},
   "outputs": [
    {
     "name": "stdout",
     "output_type": "stream",
     "text": [
      "update_stacks [[3, 2, 1], [0], []]\n"
     ]
    }
   ],
   "source": [
    "game.move_disk(0, 1)"
   ]
  },
  {
   "cell_type": "code",
   "execution_count": null,
   "id": "89d97685-75a8-415c-9c7b-544207195f2c",
   "metadata": {},
   "outputs": [],
   "source": []
  },
  {
   "cell_type": "code",
   "execution_count": null,
   "id": "7eacd820-2812-42a7-8d27-f99a50092f7d",
   "metadata": {},
   "outputs": [],
   "source": []
  },
  {
   "cell_type": "code",
   "execution_count": 5,
   "id": "8a63b0b9-49b3-4b28-b31d-1e0126a7e1fc",
   "metadata": {},
   "outputs": [],
   "source": [
    "import widgets_helpers\n",
    "from ipycanvas import Canvas\n",
    "from IPython.display import display\n",
    "\n",
    "\n",
    "class DebugView:\n",
    "    out = widgets_helpers.new_output()\n",
    "\n",
    "    def __init__(self, game):\n",
    "        game.event_handler = self.callback\n",
    "\n",
    "    @out.capture()\n",
    "    def callback(self, event, data):\n",
    "        print(event, data)\n",
    "\n",
    "    def _ipython_display_(self):\n",
    "        display(self.out)"
   ]
  },
  {
   "cell_type": "code",
   "execution_count": 6,
   "id": "95e111cb-03a3-41c4-8dcf-b1c3be5e1557",
   "metadata": {},
   "outputs": [
    {
     "data": {
      "application/vnd.jupyter.widget-view+json": {
       "model_id": "3ac6caf33c544033a24c87f4ba8a42de",
       "version_major": 2,
       "version_minor": 0
      },
      "text/plain": [
       "Output(layout=Layout(border_bottom='1px solid black', border_left='1px solid black', border_right='1px solid b…"
      ]
     },
     "metadata": {},
     "output_type": "display_data"
    }
   ],
   "source": [
    "view = DebugView(game)\n",
    "view"
   ]
  },
  {
   "cell_type": "code",
   "execution_count": 7,
   "id": "a3ec919e-aa12-41a0-a3a4-4b72f8230b5b",
   "metadata": {},
   "outputs": [],
   "source": [
    "game.new_game()"
   ]
  },
  {
   "cell_type": "code",
   "execution_count": 8,
   "id": "1ea07a11-f25e-40ac-9818-0b96e2608220",
   "metadata": {},
   "outputs": [],
   "source": [
    "game.move_disk(0, 1)"
   ]
  },
  {
   "cell_type": "code",
   "execution_count": 9,
   "id": "710b05c2-75c6-400e-b670-71b8eb6f5583",
   "metadata": {},
   "outputs": [],
   "source": [
    "view.out.clear_output()"
   ]
  },
  {
   "cell_type": "code",
   "execution_count": null,
   "id": "e686aaa6-82c4-4e3e-9fd1-6836462f61e5",
   "metadata": {},
   "outputs": [],
   "source": []
  },
  {
   "cell_type": "code",
   "execution_count": 21,
   "id": "f0ad212e-19ae-4c5f-9690-4013a509578b",
   "metadata": {},
   "outputs": [],
   "source": [
    "class TextController:\n",
    "    err_out = widgets_helpers.new_output()\n",
    "\n",
    "    def __init__(self, game, prompt='Your move: '):\n",
    "        self.game = game\n",
    "        self.prompt = prompt\n",
    "        self.text = widgets_helpers.new_text(value=prompt)\n",
    "        self.text.on_submit(self.on_press_enter)\n",
    "\n",
    "    @err_out.capture()\n",
    "    def on_press_enter(self, text):\n",
    "        value = self.text.value.removeprefix(self.prompt)\n",
    "\n",
    "        if value == 'c':\n",
    "            self.err_out.clear_output()\n",
    "        elif value == 'p':\n",
    "            print('stacks:', self.game.stacks)\n",
    "        elif value == 'n':\n",
    "            self.game.new_game()\n",
    "        elif len(value) == 2 and value.isdigit():\n",
    "            src, dst = value\n",
    "            self.game.move_disk(int(src)-1, int(dst)-1)\n",
    "\n",
    "        self.text.value = self.prompt\n",
    "\n",
    "    def _ipython_display_(self):\n",
    "        display(self.text, self.err_out)"
   ]
  },
  {
   "cell_type": "code",
   "execution_count": 22,
   "id": "0d90cb22-cc91-4dc1-b021-4fb29ab46fba",
   "metadata": {},
   "outputs": [
    {
     "data": {
      "application/vnd.jupyter.widget-view+json": {
       "model_id": "3ac6caf33c544033a24c87f4ba8a42de",
       "version_major": 2,
       "version_minor": 0
      },
      "text/plain": [
       "Output(layout=Layout(border_bottom='1px solid black', border_left='1px solid black', border_right='1px solid b…"
      ]
     },
     "metadata": {},
     "output_type": "display_data"
    },
    {
     "data": {
      "application/vnd.jupyter.widget-view+json": {
       "model_id": "ca32a4616ff14e9299e30c079a2a74ff",
       "version_major": 2,
       "version_minor": 0
      },
      "text/plain": [
       "Text(value='Your move: ')"
      ]
     },
     "metadata": {},
     "output_type": "display_data"
    },
    {
     "data": {
      "application/vnd.jupyter.widget-view+json": {
       "model_id": "3b30a05c997a446c955fea5d3637e7da",
       "version_major": 2,
       "version_minor": 0
      },
      "text/plain": [
       "Output(layout=Layout(border_bottom='1px solid black', border_left='1px solid black', border_right='1px solid b…"
      ]
     },
     "metadata": {},
     "output_type": "display_data"
    }
   ],
   "source": [
    "tc = TextController(game)\n",
    "display(view, tc)"
   ]
  },
  {
   "cell_type": "code",
   "execution_count": 18,
   "id": "91109afc-eaa4-4eb4-9eb5-c7acee3e92b8",
   "metadata": {},
   "outputs": [
    {
     "data": {
      "text/plain": [
       "[[3, 2, 1], [0], []]"
      ]
     },
     "execution_count": 18,
     "metadata": {},
     "output_type": "execute_result"
    }
   ],
   "source": [
    "game.stacks"
   ]
  },
  {
   "cell_type": "code",
   "execution_count": 19,
   "id": "5e706c9d-fced-4332-89de-63927970af47",
   "metadata": {},
   "outputs": [],
   "source": [
    "game.move_disk(0, 1)"
   ]
  },
  {
   "cell_type": "code",
   "execution_count": 24,
   "id": "4f90163e-22e6-497b-8fd7-c45596444789",
   "metadata": {},
   "outputs": [],
   "source": [
    "view.out.clear_output()"
   ]
  }
 ],
 "metadata": {
  "kernelspec": {
   "display_name": "Python 3 (ipykernel)",
   "language": "python",
   "name": "python3"
  },
  "language_info": {
   "codemirror_mode": {
    "name": "ipython",
    "version": 3
   },
   "file_extension": ".py",
   "mimetype": "text/x-python",
   "name": "python",
   "nbconvert_exporter": "python",
   "pygments_lexer": "ipython3",
   "version": "3.13.0"
  }
 },
 "nbformat": 4,
 "nbformat_minor": 5
}
