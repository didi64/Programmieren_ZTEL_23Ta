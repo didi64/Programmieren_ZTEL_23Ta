{
 "cells": [
  {
   "cell_type": "markdown",
   "id": "31de92f6-19c8-4b54-9bd5-2fa10b213f7e",
   "metadata": {},
   "source": [
    "### Teste die verschiedenen Kontroller"
   ]
  },
  {
   "cell_type": "code",
   "execution_count": 8,
   "id": "79b65bfe-b2bc-4e3a-be82-45a4ed41e748",
   "metadata": {},
   "outputs": [
    {
     "data": {
      "application/vnd.jupyter.widget-view+json": {
       "model_id": "25df1c4b495c4586a321ad8c0793a674",
       "version_major": 2,
       "version_minor": 0
      },
      "text/plain": [
       "Canvas(height=200, layout=Layout(border_bottom='1px solid black', border_left='1px solid black', border_right=…"
      ]
     },
     "metadata": {},
     "output_type": "display_data"
    },
    {
     "data": {
      "application/vnd.jupyter.widget-view+json": {
       "model_id": "be88181cdf8147ba9400f5b1686a5a80",
       "version_major": 2,
       "version_minor": 0
      },
      "text/plain": [
       "Text(value='Your move: ')"
      ]
     },
     "metadata": {},
     "output_type": "display_data"
    },
    {
     "data": {
      "application/vnd.jupyter.widget-view+json": {
       "model_id": "0edf5b595b0c4a81b9bf0cd3edd758d1",
       "version_major": 2,
       "version_minor": 0
      },
      "text/plain": [
       "Output(layout=Layout(border_bottom='1px solid black', border_left='1px solid black', border_right='1px solid b…"
      ]
     },
     "metadata": {},
     "output_type": "display_data"
    }
   ],
   "source": [
    "import views\n",
    "import controllers\n",
    "from game import Game\n",
    "\n",
    "\n",
    "game = Game()\n",
    "view = views.CanvasView(game)\n",
    "tc = controllers.TextController(game, prompt='Your move: ')\n",
    "display(view, tc)"
   ]
  },
  {
   "cell_type": "code",
   "execution_count": null,
   "id": "ed629f2c-3cba-40cc-8a9e-5e20f6fc706c",
   "metadata": {},
   "outputs": [],
   "source": []
  },
  {
   "cell_type": "code",
   "execution_count": null,
   "id": "fea341d1-acc5-496c-a8eb-3e18f92d80ad",
   "metadata": {},
   "outputs": [],
   "source": []
  },
  {
   "cell_type": "code",
   "execution_count": 11,
   "id": "b8966f2f-92d1-4499-833d-45118aea4e44",
   "metadata": {},
   "outputs": [
    {
     "data": {
      "application/vnd.jupyter.widget-view+json": {
       "model_id": "25df1c4b495c4586a321ad8c0793a674",
       "version_major": 2,
       "version_minor": 0
      },
      "text/plain": [
       "Canvas(height=200, layout=Layout(border_bottom='1px solid black', border_left='1px solid black', border_right=…"
      ]
     },
     "metadata": {},
     "output_type": "display_data"
    },
    {
     "data": {
      "application/vnd.jupyter.widget-view+json": {
       "model_id": "ec09f957539246cfaf972bb2ef33a1ad",
       "version_major": 2,
       "version_minor": 0
      },
      "text/plain": [
       "Output(layout=Layout(border_bottom='1px solid black', border_left='1px solid black', border_right='1px solid b…"
      ]
     },
     "metadata": {},
     "output_type": "display_data"
    }
   ],
   "source": [
    "kc = controllers.KeyController(game, view.canvas)\n",
    "kc"
   ]
  },
  {
   "cell_type": "code",
   "execution_count": null,
   "id": "0425e1f2-c48a-40dd-89e2-796f342ac3b8",
   "metadata": {},
   "outputs": [],
   "source": []
  },
  {
   "cell_type": "code",
   "execution_count": 12,
   "id": "6c830f98-577b-45b6-bc55-6905dbfcd66f",
   "metadata": {},
   "outputs": [
    {
     "data": {
      "application/vnd.jupyter.widget-view+json": {
       "model_id": "25df1c4b495c4586a321ad8c0793a674",
       "version_major": 2,
       "version_minor": 0
      },
      "text/plain": [
       "Canvas(height=200, layout=Layout(border_bottom='1px solid black', border_left='1px solid black', border_right=…"
      ]
     },
     "metadata": {},
     "output_type": "display_data"
    },
    {
     "data": {
      "application/vnd.jupyter.widget-view+json": {
       "model_id": "a7fd930f281b48f7bb67850341981feb",
       "version_major": 2,
       "version_minor": 0
      },
      "text/plain": [
       "Output(layout=Layout(border_bottom='1px solid black', border_left='1px solid black', border_right='1px solid b…"
      ]
     },
     "metadata": {},
     "output_type": "display_data"
    }
   ],
   "source": [
    "kmc = controllers.KeyMouseController(game, view.canvas)\n",
    "kmc"
   ]
  },
  {
   "cell_type": "code",
   "execution_count": null,
   "id": "d416b71b-b0bf-4c75-834c-abfdb0335b17",
   "metadata": {},
   "outputs": [],
   "source": []
  }
 ],
 "metadata": {
  "kernelspec": {
   "display_name": "Python 3 (ipykernel)",
   "language": "python",
   "name": "python3"
  },
  "language_info": {
   "codemirror_mode": {
    "name": "ipython",
    "version": 3
   },
   "file_extension": ".py",
   "mimetype": "text/x-python",
   "name": "python",
   "nbconvert_exporter": "python",
   "pygments_lexer": "ipython3",
   "version": "3.13.0"
  }
 },
 "nbformat": 4,
 "nbformat_minor": 5
}
