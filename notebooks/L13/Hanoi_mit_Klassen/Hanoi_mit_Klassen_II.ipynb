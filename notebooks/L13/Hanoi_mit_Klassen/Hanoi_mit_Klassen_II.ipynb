{
 "cells": [
  {
   "cell_type": "markdown",
   "id": "ecb5334b-bc7a-4f38-9b86-fe3eb960335a",
   "metadata": {},
   "source": [
    "### Hanoi mit Klassen II\n",
    "Fortseztung von `Hanoi_mit_Klassen_I.ipynb`. Nachstehend importieren wir\n",
    "die dort geschriebenen Klassen `Game`  und `View` aus den Files `game.py` und `views.py`."
   ]
  },
  {
   "cell_type": "code",
   "execution_count": null,
   "id": "319dec64-f38a-47e5-90c0-bfd4a92fb9a9",
   "metadata": {},
   "outputs": [],
   "source": [
    "from game import Game\n",
    "from views import CanvasView\n",
    "\n",
    "game = Game()\n",
    "view = CanvasView(game)\n",
    "game.new_game()\n",
    "view"
   ]
  },
  {
   "cell_type": "code",
   "execution_count": null,
   "id": "af409899-ce67-4085-9b26-bc29022f36fd",
   "metadata": {},
   "outputs": [],
   "source": [
    "game.move_disk(0, 2)"
   ]
  },
  {
   "cell_type": "code",
   "execution_count": null,
   "id": "3a02747a-8252-4f47-a927-81f63f9b1849",
   "metadata": {},
   "outputs": [],
   "source": []
  },
  {
   "cell_type": "markdown",
   "id": "8e7d9de9-2026-4ace-a618-d8bb2effe419",
   "metadata": {},
   "source": [
    "### Die Klasse Controller\n",
    "Wir wollen das Spiel mit der Tastatur steuern k&ouml;nnen ('n': neues Spiel, '13': Scheibe von Stapel 1 auf 3 verschieben).\n",
    "Wir benutzen das Canvas-Objekt der View um auf Tastendr&uuml;cke zu h&ouml;ren.\n",
    "\n",
    "Der Controller hat ein Klassenattribut `err_out`, welches ein\n",
    "Output-Widget enth&auml;lt. Um Fehlermeldungen der Methode `on_key_down` dorhin umleiten zu k&ouml;nnen,\n",
    "muss `err_out` zum Zeitpunkt der Funktionsdefinition bereits definiert sein.  \n",
    "Der `__init__` Methode des Controllers muss nat&uuml;rlich das Canvas-Objekt der View &uuml;bergeben werden, \n",
    "damit auf Tastendr&uuml;cke geh&ouml;rt werden kann, und ebenso eine Game-Instanz, damit die\n",
    "via Tastatur erhaltenen Befehle an die Game-Instanz weitergegeben werden k&ouml;nnen.\n",
    "\n",
    "**Beachte**: Verschiedene Controller-Instanzen benutzen das gleiche Output-Widget.\n",
    "Das ist kein Problem, wir brauchen das Output-Widget ja nur zum Debuggen.\n",
    "\n",
    "\n",
    "Man k&ouml;nnte den Controller auch direkt in die View integrieren (siehe Aufgabe unten)."
   ]
  },
  {
   "cell_type": "code",
   "execution_count": null,
   "id": "13dcca4a-80aa-4318-8745-9333f23456d7",
   "metadata": {},
   "outputs": [],
   "source": [
    "import widgets_helpers\n",
    "import canvas_helpers\n",
    "from IPython.display import display\n",
    "\n",
    "\n",
    "class Controller:\n",
    "\n",
    "    err_out = widgets_helpers.new_output()\n",
    "\n",
    "    def __init__(self, game, canvas):\n",
    "        self.game = game\n",
    "        self.canvas = canvas\n",
    "        self.src = None\n",
    "\n",
    "        canvas_helpers.remove_all_callbacks(self.canvas)\n",
    "        self.canvas.on_key_down(self.on_key_down)\n",
    "\n",
    "    @err_out.capture()\n",
    "    def on_key_down(self, key, *flags):\n",
    "        # print(key)\n",
    "        if key in '123' and self.src is None:\n",
    "            self.src = int(key) - 1\n",
    "            return\n",
    "        elif key in '123':\n",
    "            dst = int(key) - 1\n",
    "            self.game.move_disk(self.src, dst)\n",
    "        elif key == 'n':\n",
    "            self.game.new_game()\n",
    "        self.src = None\n",
    "\n",
    "    def _ipython_display_(self):\n",
    "        display(self.canvas, self.err_out)"
   ]
  },
  {
   "cell_type": "code",
   "execution_count": null,
   "id": "d7841eba-ca5c-4eff-adb4-d70134a4f5d3",
   "metadata": {},
   "outputs": [],
   "source": [
    "# Scheiben lassen sich mit Tastatur ('12', ...) verschieben\n",
    "controller = Controller(game, view.canvas)\n",
    "controller"
   ]
  },
  {
   "cell_type": "code",
   "execution_count": null,
   "id": "76999479-ac61-4a03-8464-03261d2b6af7",
   "metadata": {},
   "outputs": [],
   "source": []
  },
  {
   "cell_type": "code",
   "execution_count": null,
   "id": "b1f54f53-5f9c-404b-bf47-207b823a198f",
   "metadata": {},
   "outputs": [],
   "source": [
    "# Error triggern\n",
    "controller.on_key_down()"
   ]
  },
  {
   "cell_type": "code",
   "execution_count": null,
   "id": "7bdb2fb3-6eae-4628-8b05-2f8d4690078a",
   "metadata": {},
   "outputs": [],
   "source": [
    "# err_out des Controllers loeschen\n",
    "Controller.err_out.clear_output()"
   ]
  },
  {
   "cell_type": "code",
   "execution_count": null,
   "id": "0c4b276a-2f9f-4264-89c6-34bf3f8a9df5",
   "metadata": {},
   "outputs": [],
   "source": []
  },
  {
   "cell_type": "markdown",
   "id": "343fd06c-891f-473e-ae4a-a1c6e941c3ba",
   "metadata": {},
   "source": [
    "### Direkte Verwendung der Funktion `Controller.on_key_down` als Callback\n",
    "Die Funktion  \n",
    "`Controller.on_key_down(self, key, *flags)`  \n",
    "ist eine normale Funktion mit 3 Argumenten.\n",
    "Wir wollen daraus eine Funktion\n",
    "\n",
    "```python\n",
    "def on_key_down(key, *flags):\n",
    "    ...\n",
    "```\n",
    "\n",
    "fabrizieren, die wir als Callback f&uuml;r das `on_key_down` Event registrieren k&ouml;nnen.\n",
    "Die Funktion  \n",
    "`Controller.on_key_down(self, key, *flags)`  \n",
    "benutzt das `self` Argument um mit `self.game` auf die Game-Instanz zuzugreifen und um\n",
    "den Ausgangsstapel in `self.src` zu speichern.\n",
    "Unsere Funktion `on_key_down(key, *flags)` benutzt statt `self` eine Klasse `C`,\n",
    "welche den Zugriff auf die Game-Instanz und eine Variable `src` erlaubt."
   ]
  },
  {
   "cell_type": "code",
   "execution_count": null,
   "id": "070017f3-946e-46e7-ad18-f1d8928e671b",
   "metadata": {},
   "outputs": [],
   "source": [
    "class C:\n",
    "    src = None\n",
    "    game = game\n",
    "\n",
    "\n",
    "def on_key_down(key, *flags):\n",
    "    Controller.on_key_down(C, key, *flags)"
   ]
  },
  {
   "cell_type": "code",
   "execution_count": null,
   "id": "b404c722-5dda-4634-98cd-1fc54574e4d6",
   "metadata": {},
   "outputs": [],
   "source": [
    "# canvas Attribut der View und err_out des Controllers anzeigen\n",
    "display(view.canvas, Controller.err_out)"
   ]
  },
  {
   "cell_type": "code",
   "execution_count": null,
   "id": "2259fb9c-d95a-4488-9c67-a3d788a78e64",
   "metadata": {},
   "outputs": [],
   "source": [
    "# oben definierte Funktion als Callback registrieren\n",
    "canvas_helpers.remove_all_callbacks(view.canvas)\n",
    "view.canvas.on_key_down(on_key_down)"
   ]
  },
  {
   "cell_type": "code",
   "execution_count": null,
   "id": "00c6b1d3-4177-4b6b-bf49-2441aae3c018",
   "metadata": {},
   "outputs": [],
   "source": []
  },
  {
   "cell_type": "markdown",
   "id": "5badee28-681a-4648-88b0-76b27c348987",
   "metadata": {},
   "source": [
    "### Aufgabe: Integriere den Controller in die View\n",
    "Copy/paste die Methode `on_mouse_down` des Controllers in die View.\n",
    "Damit die Dekoration funktioniert, muss die View &uuml;ber ein\n",
    "Klassenattribut `err_out` verf&uuml;gen.\n",
    "Weiter brauchen View-Instanzen ein Attribut `src`.\n",
    "\n",
    "Registriere nun das Callback `on_mouse_down`  in  `__init__`."
   ]
  },
  {
   "cell_type": "code",
   "execution_count": null,
   "id": "6f09ade0-888f-4694-8b6f-1d4cde815d47",
   "metadata": {},
   "outputs": [],
   "source": []
  },
  {
   "cell_type": "code",
   "execution_count": null,
   "id": "7063b33d-c9fc-4c03-b66b-01bf0f894d39",
   "metadata": {},
   "outputs": [],
   "source": []
  },
  {
   "cell_type": "markdown",
   "id": "6401e89e-93cc-4618-b159-a713175d8fcf",
   "metadata": {},
   "source": [
    "### Aufgabe: Erweitere den Controller\n",
    "Erweitere die Klasse `Controller` um Methoden\n",
    "`on_mouse_down` und `on_mouse_up`, welche das Verschieben der Scheiben mit der Maus \n",
    "m&ouml;glich machen sollen. Orientiere dich an der Maussteuerung im Notebook `Tuerme_von_Hanoi.ipynb` der Lektion 12.\n",
    "Passe dann die `__init__`-Methode entsprechend an, um die neuen Eventhandlers zu registrieren.\n",
    "\n",
    "\n",
    "\n",
    "```python\n",
    "\n",
    "    def __init__(self, game, canvas):\n",
    "        ...\n",
    "        self.canvas.on_key_down(self.on_key_down)\n",
    "        self.canvas.on_mouse_down(self.on_mouse_down)\n",
    "        self.canvas.on_mouse_up(self.on_mouse_up)\n",
    "        ...\n",
    "\n",
    "    @err_out.capture()\n",
    "    def on_mouse_down(self, x, y):\n",
    "        ...\n",
    "\n",
    "    @err_out.capture()\n",
    "    def on_mouse_up(self, x, y):\n",
    "        ...\n",
    "```"
   ]
  },
  {
   "cell_type": "code",
   "execution_count": null,
   "id": "4e1339c3-01e2-47ba-a8be-906de3e142b6",
   "metadata": {},
   "outputs": [],
   "source": []
  },
  {
   "cell_type": "code",
   "execution_count": null,
   "id": "36bda8f6-a0b2-4d40-b802-0fdba8cda34a",
   "metadata": {},
   "outputs": [],
   "source": [
    "from Loesungen_13.KeyMouseController import KeyMouseController\n",
    "\n",
    "\n",
    "controller = KeyMouseController(game, view.canvas)\n",
    "game.new_game()\n",
    "controller"
   ]
  },
  {
   "cell_type": "code",
   "execution_count": null,
   "id": "c1433af4-a20e-4af6-b5ba-66f2717fdb25",
   "metadata": {},
   "outputs": [],
   "source": []
  },
  {
   "cell_type": "code",
   "execution_count": null,
   "id": "7a1213fe-c1c6-4a38-9cd2-560a448939f8",
   "metadata": {},
   "outputs": [],
   "source": []
  }
 ],
 "metadata": {
  "kernelspec": {
   "display_name": "Python 3 (ipykernel)",
   "language": "python",
   "name": "python3"
  },
  "language_info": {
   "codemirror_mode": {
    "name": "ipython",
    "version": 3
   },
   "file_extension": ".py",
   "mimetype": "text/x-python",
   "name": "python",
   "nbconvert_exporter": "python",
   "pygments_lexer": "ipython3",
   "version": "3.13.0"
  }
 },
 "nbformat": 4,
 "nbformat_minor": 5
}
