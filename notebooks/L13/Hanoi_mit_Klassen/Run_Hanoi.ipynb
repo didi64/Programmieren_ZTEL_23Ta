{
 "cells": [
  {
   "cell_type": "markdown",
   "id": "7484c0f6-9d61-4cc0-8028-8b75f7122a27",
   "metadata": {},
   "source": [
    "### Python Programm in Jupyterlab ausf&uuml;hren"
   ]
  },
  {
   "cell_type": "code",
   "execution_count": null,
   "id": "96cd6ff2-aacd-4c36-9c12-e7dcf1d20c78",
   "metadata": {},
   "outputs": [],
   "source": [
    "%run hanoi.py"
   ]
  },
  {
   "cell_type": "code",
   "execution_count": null,
   "id": "e7fd6342-5388-42d0-af27-695ab436fefd",
   "metadata": {},
   "outputs": [],
   "source": []
  }
 ],
 "metadata": {
  "kernelspec": {
   "display_name": "Python 3 (ipykernel)",
   "language": "python",
   "name": "python3"
  },
  "language_info": {
   "codemirror_mode": {
    "name": "ipython",
    "version": 3
   },
   "file_extension": ".py",
   "mimetype": "text/x-python",
   "name": "python",
   "nbconvert_exporter": "python",
   "pygments_lexer": "ipython3",
   "version": "3.13.0"
  }
 },
 "nbformat": 4,
 "nbformat_minor": 5
}
