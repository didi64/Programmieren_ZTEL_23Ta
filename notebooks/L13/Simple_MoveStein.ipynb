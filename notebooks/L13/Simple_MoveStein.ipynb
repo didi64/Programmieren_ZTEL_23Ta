{
 "cells": [
  {
   "cell_type": "code",
   "execution_count": null,
   "id": "28a1b3ba-444d-44b2-bdfc-34beaf3d608b",
   "metadata": {},
   "outputs": [],
   "source": []
  },
  {
   "cell_type": "code",
   "execution_count": 136,
   "id": "3689fcab-6d09-4dfb-8bd6-8ceceb3a13e5",
   "metadata": {},
   "outputs": [],
   "source": [
    "class Game:\n",
    "\n",
    "    def __init__(self):\n",
    "        self.position = None\n",
    "        self.event_handler = lambda *args: print(*args)\n",
    "\n",
    "    def new_game(self):\n",
    "        self.position = 0\n",
    "        self.event_handler('new_game', self.position)\n",
    "\n",
    "    def move(self, target):\n",
    "        if self.position != target:\n",
    "            self.position = target\n",
    "            self.event_handler('move_stone', target)\n",
    "\n",
    "    def __repr__(self):\n",
    "        return str(self.position)"
   ]
  },
  {
   "cell_type": "code",
   "execution_count": 137,
   "id": "21ad70c4-03ad-49bc-99d3-e9717f2b9dc3",
   "metadata": {},
   "outputs": [
    {
     "data": {
      "text/plain": [
       "None"
      ]
     },
     "execution_count": 137,
     "metadata": {},
     "output_type": "execute_result"
    }
   ],
   "source": [
    "game = Game()\n",
    "game"
   ]
  },
  {
   "cell_type": "code",
   "execution_count": 138,
   "id": "605f9e2a-0c56-4f3f-9d29-cbea6f1eddd8",
   "metadata": {},
   "outputs": [
    {
     "name": "stdout",
     "output_type": "stream",
     "text": [
      "new_game 0\n"
     ]
    },
    {
     "data": {
      "text/plain": [
       "0"
      ]
     },
     "execution_count": 138,
     "metadata": {},
     "output_type": "execute_result"
    }
   ],
   "source": [
    "game.new_game()\n",
    "game"
   ]
  },
  {
   "cell_type": "code",
   "execution_count": 139,
   "id": "b40b4c93-26f5-407f-b4ce-965557ac75a1",
   "metadata": {},
   "outputs": [
    {
     "name": "stdout",
     "output_type": "stream",
     "text": [
      "move_stone 1\n"
     ]
    },
    {
     "data": {
      "text/plain": [
       "1"
      ]
     },
     "execution_count": 139,
     "metadata": {},
     "output_type": "execute_result"
    }
   ],
   "source": [
    "game.move(1)\n",
    "game"
   ]
  },
  {
   "cell_type": "code",
   "execution_count": null,
   "id": "bc04d743-9e20-446d-b986-073d4047703f",
   "metadata": {},
   "outputs": [],
   "source": []
  },
  {
   "cell_type": "code",
   "execution_count": 140,
   "id": "ab39b2a6-5834-4553-8ff5-9fbb0c18f4ae",
   "metadata": {},
   "outputs": [],
   "source": [
    "import widgets_helpers\n",
    "\n",
    "\n",
    "class View:\n",
    "    positions = [(20, 40), (50, 50), (80, 50)]\n",
    "    pt_size = 2\n",
    "    stone_size = 10\n",
    "\n",
    "    def __init__(self, game):\n",
    "        game.event_handler = self.callback\n",
    "\n",
    "        self.mcanvas = widgets_helpers.new_mcanvas(2, 100, 100)\n",
    "        self.bg, self.fg = self.mcanvas\n",
    "        self.fg.fill_style = 'blue'\n",
    "        for x, y in self.positions:\n",
    "            self.bg.fill_circle(x, y, self.pt_size)\n",
    "\n",
    "    def place_stone(self, idx):\n",
    "        self.fg.clear()\n",
    "        x, y = self.positions[idx]\n",
    "        self.fg.fill_circle(x, y, self.stone_size)\n",
    "\n",
    "    def callback(self, event, idx):\n",
    "        self.place_stone(idx)\n",
    "        if event == 'new_game':\n",
    "            self.fg.fill_text('New Game', 20, 20)\n",
    "\n",
    "    def distance(self, src, target):\n",
    "        return (src[0]-target[0])**2 + (src[1]-target[1])**2\n",
    "\n",
    "    def get_closest(self, pos, err=20):\n",
    "        dists = [(self.distance(pos, p), i) for i, p in enumerate(self.positions)]\n",
    "        dist, idx = min(dists)\n",
    "        if dist < err**2:\n",
    "            return idx\n",
    "\n",
    "    def _ipython_display_(self):\n",
    "        display(self.mcanvas)"
   ]
  },
  {
   "cell_type": "code",
   "execution_count": 141,
   "id": "b6c2545e-32f9-4c86-8293-6e50f2fa87fb",
   "metadata": {},
   "outputs": [
    {
     "data": {
      "application/vnd.jupyter.widget-view+json": {
       "model_id": "6502d87e91034ac18cccc455ab04a942",
       "version_major": 2,
       "version_minor": 0
      },
      "text/plain": [
       "MultiCanvas(height=100, layout=Layout(border_bottom='1px solid black', border_left='1px solid black', border_r…"
      ]
     },
     "metadata": {},
     "output_type": "display_data"
    }
   ],
   "source": [
    "view = View(game)\n",
    "view"
   ]
  },
  {
   "cell_type": "code",
   "execution_count": 142,
   "id": "56e05680-487a-47e6-8bee-555d3f784481",
   "metadata": {},
   "outputs": [],
   "source": [
    "view.place_stone(2)"
   ]
  },
  {
   "cell_type": "code",
   "execution_count": 143,
   "id": "2dbecc64-6db4-4d74-8b5b-d89860df6db4",
   "metadata": {},
   "outputs": [],
   "source": [
    "view.place_stone(1)"
   ]
  },
  {
   "cell_type": "code",
   "execution_count": 144,
   "id": "7253b70e-a26e-490e-ab48-1a95e0245a8a",
   "metadata": {},
   "outputs": [
    {
     "data": {
      "text/plain": [
       "2"
      ]
     },
     "execution_count": 144,
     "metadata": {},
     "output_type": "execute_result"
    }
   ],
   "source": [
    "pos = (85, 45)\n",
    "view.get_closest(pos)"
   ]
  },
  {
   "cell_type": "code",
   "execution_count": 145,
   "id": "d285397f-754b-4cbd-a3d3-fe73919166ab",
   "metadata": {},
   "outputs": [],
   "source": [
    "game.new_game()"
   ]
  },
  {
   "cell_type": "code",
   "execution_count": 146,
   "id": "8a2907fe-ffac-48d4-a672-fa2029df36c0",
   "metadata": {},
   "outputs": [],
   "source": [
    "game.move(2)"
   ]
  },
  {
   "cell_type": "code",
   "execution_count": null,
   "id": "26a96fb8-6a24-43ae-a99b-b0753f5d3f70",
   "metadata": {},
   "outputs": [],
   "source": []
  },
  {
   "cell_type": "code",
   "execution_count": null,
   "id": "f7e1baa7-d536-4a0e-a14c-7e1505d05518",
   "metadata": {},
   "outputs": [],
   "source": []
  },
  {
   "cell_type": "code",
   "execution_count": 147,
   "id": "f0f663d6-d518-465a-938d-de622586b615",
   "metadata": {},
   "outputs": [],
   "source": [
    "from canvas_callbacks import remove_all_callbacks\n",
    "\n",
    "\n",
    "class Controller:\n",
    "    err_out = widgets_helpers.new_output()\n",
    "\n",
    "    def __init__(self, game, view):\n",
    "        self.game = game\n",
    "        self.view = view\n",
    "        self.canvas = view.mcanvas\n",
    "\n",
    "        remove_all_callbacks(self.view.mcanvas)\n",
    "        self.canvas.on_key_down(self.on_key_down)\n",
    "        self.canvas.on_mouse_down(self.on_mouse_down)\n",
    "\n",
    "    @err_out.capture()\n",
    "    def on_key_down(self, key, *flags):\n",
    "        if key == 'n':\n",
    "            self.game.new_game()\n",
    "\n",
    "    @err_out.capture()\n",
    "    def on_mouse_down(self, x, y):\n",
    "        idx = self.view.get_closest((x, y))\n",
    "        if idx is not None and idx != self.game.position:\n",
    "            self.game.move(idx)\n",
    "\n",
    "    def _ipython_display_(self):\n",
    "        display(self.view, self.err_out)"
   ]
  },
  {
   "cell_type": "code",
   "execution_count": 148,
   "id": "ad8b365a-f190-4a56-8d8f-492a91755c27",
   "metadata": {},
   "outputs": [
    {
     "data": {
      "application/vnd.jupyter.widget-view+json": {
       "model_id": "6502d87e91034ac18cccc455ab04a942",
       "version_major": 2,
       "version_minor": 0
      },
      "text/plain": [
       "MultiCanvas(height=100, layout=Layout(border_bottom='1px solid black', border_left='1px solid black', border_r…"
      ]
     },
     "metadata": {},
     "output_type": "display_data"
    },
    {
     "data": {
      "application/vnd.jupyter.widget-view+json": {
       "model_id": "91ded599e38a4aaf9de9802a32279299",
       "version_major": 2,
       "version_minor": 0
      },
      "text/plain": [
       "Output(layout=Layout(border_bottom='1px solid black', border_left='1px solid black', border_right='1px solid b…"
      ]
     },
     "metadata": {},
     "output_type": "display_data"
    }
   ],
   "source": [
    "controller = Controller(game, view)\n",
    "controller"
   ]
  },
  {
   "cell_type": "code",
   "execution_count": null,
   "id": "b266a168-2898-4e07-b4dd-b18f5c0eb95c",
   "metadata": {},
   "outputs": [],
   "source": []
  }
 ],
 "metadata": {
  "kernelspec": {
   "display_name": "Python 3 (ipykernel)",
   "language": "python",
   "name": "python3"
  },
  "language_info": {
   "codemirror_mode": {
    "name": "ipython",
    "version": 3
   },
   "file_extension": ".py",
   "mimetype": "text/x-python",
   "name": "python",
   "nbconvert_exporter": "python",
   "pygments_lexer": "ipython3",
   "version": "3.13.0"
  }
 },
 "nbformat": 4,
 "nbformat_minor": 5
}
