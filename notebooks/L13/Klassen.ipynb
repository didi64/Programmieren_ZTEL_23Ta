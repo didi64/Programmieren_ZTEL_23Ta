{
 "cells": [
  {
   "cell_type": "markdown",
   "id": "10ca3598-ae3d-4ff7-a8d0-2dc5dc90c600",
   "metadata": {},
   "source": [
    "### Klassen und Objekte (Instanzen von Klassen)\n",
    "In Python ist jedes **Objekt** von einem bestimmten **Typ**. \n",
    "Z.B. ist `0` ein Objekt vom Typ `int` und `'foo'` ein Objekt  vom Typ `str`. \n",
    "Der Typ eine Objektes legt u.a. fest, was beim Addieren zweier Objekte mit `+` geschieht, und was f&uuml;r Methoden ein Objekt aufrufen kann. Die Bezeichnung **Typ** f&uuml;r Integers, Strings, ... ist eigentlich veraltet.\n",
    "Heute sind die Basic Types als Klassen implementiert.\n",
    "\n",
    "\n",
    "Eine Funktion eines Typs (z.B. `str.index(string, teilstring)`) kann dabei von einem Objekt \n",
    "(z.B. `abc`) mit der dot-Notation  aufgerufen werden (`'abc'.index('b')`),\n",
    "was den gleichen Effekt hat, wie wenn die Funktion des Typs mit\n",
    "dem Objekt als erstes Argument aufgerufen wird `str.index('abc','b')`.\n",
    "Genau gleich verh&auml;t es sich bei Klassen."
   ]
  },
  {
   "cell_type": "code",
   "execution_count": null,
   "id": "0b26d0dd-6b25-40ac-a134-2523550c4eee",
   "metadata": {},
   "outputs": [],
   "source": [
    "print(type(str))"
   ]
  },
  {
   "cell_type": "code",
   "execution_count": 49,
   "id": "d7aa860b-abd0-4d4d-98c9-ea3dfc49dac7",
   "metadata": {},
   "outputs": [
    {
     "data": {
      "text/plain": [
       "True"
      ]
     },
     "execution_count": 49,
     "metadata": {},
     "output_type": "execute_result"
    }
   ],
   "source": [
    "isinstance('foo', str)"
   ]
  },
  {
   "cell_type": "code",
   "execution_count": 44,
   "id": "6dfd7f73-cf8c-43bb-9825-eb24de3808d9",
   "metadata": {},
   "outputs": [],
   "source": [
    "class Vec2d:\n",
    "    def __add__(self, other):\n",
    "        v = Vec2d()\n",
    "        v.x = self.x + other.x\n",
    "        v.y = self.y + other.y\n",
    "        return v\n",
    "\n",
    "    def __repr__(self):\n",
    "        return 'Vec({}, {})'.format(self.x, self.y)"
   ]
  },
  {
   "cell_type": "code",
   "execution_count": 116,
   "id": "80bb5014-2988-476d-9f40-d8c61af2ca92",
   "metadata": {},
   "outputs": [
    {
     "data": {
      "text/plain": [
       "Vec(5, 8)"
      ]
     },
     "execution_count": 116,
     "metadata": {},
     "output_type": "execute_result"
    }
   ],
   "source": [
    "A = Vec2d()\n",
    "A.x = 5\n",
    "A.y = 8\n",
    "A"
   ]
  },
  {
   "cell_type": "code",
   "execution_count": 117,
   "id": "864e3ca4-cdc0-40c3-942f-22fd58fad894",
   "metadata": {},
   "outputs": [
    {
     "data": {
      "text/plain": [
       "(True, True)"
      ]
     },
     "execution_count": 117,
     "metadata": {},
     "output_type": "execute_result"
    }
   ],
   "source": [
    "# Unterschiedliches Verhalten bei Vererbung\n",
    "# benutze isinstance(A, Vec2d)\n",
    "isinstance(A, Vec2d), type(A) is Vec2d"
   ]
  },
  {
   "cell_type": "code",
   "execution_count": 118,
   "id": "f616b0ed-5ad5-46c5-b595-c4262d0a48ef",
   "metadata": {},
   "outputs": [
    {
     "data": {
      "text/plain": [
       "Vec(9, 11)"
      ]
     },
     "execution_count": 118,
     "metadata": {},
     "output_type": "execute_result"
    }
   ],
   "source": [
    "B = Vec2d()\n",
    "B.x = 9\n",
    "B.y = 11\n",
    "B"
   ]
  },
  {
   "cell_type": "code",
   "execution_count": 119,
   "id": "f1ea9e1d-f90d-4d26-a08e-76a7864e345b",
   "metadata": {},
   "outputs": [
    {
     "data": {
      "text/plain": [
       "Vec(14, 19)"
      ]
     },
     "execution_count": 119,
     "metadata": {},
     "output_type": "execute_result"
    }
   ],
   "source": [
    "A + B"
   ]
  },
  {
   "cell_type": "code",
   "execution_count": 120,
   "id": "5cb09512-2e96-47f0-ac3b-1e4296cae7c8",
   "metadata": {},
   "outputs": [
    {
     "data": {
      "text/plain": [
       "(Vec(14, 19), Vec(14, 19))"
      ]
     },
     "execution_count": 120,
     "metadata": {},
     "output_type": "execute_result"
    }
   ],
   "source": [
    "Vec2d.__add__(A, B), A.__add__(B)"
   ]
  },
  {
   "cell_type": "code",
   "execution_count": null,
   "id": "74ff8861-8e42-4cd7-b9e4-3715e4f0589e",
   "metadata": {},
   "outputs": [],
   "source": []
  },
  {
   "cell_type": "code",
   "execution_count": 64,
   "id": "ed15c081-72c0-4813-ba3f-1dd6b1185af0",
   "metadata": {},
   "outputs": [],
   "source": [
    "class Vec2d:\n",
    "    def __add__(self, other):\n",
    "        v = Vec2d()\n",
    "        v.x = self.x + other.x\n",
    "        v.y = self.y + other.y\n",
    "        return v\n",
    "\n",
    "    def __sub__(self, other):\n",
    "        v = Vec2d()\n",
    "        v.x = self.x - other.x\n",
    "        v.y = self.y - other.y\n",
    "        return v\n",
    "\n",
    "    def norm(self):\n",
    "        return (self.x**2 + self.y**2)**.5\n",
    "\n",
    "    def __repr__(self):\n",
    "        return 'Vec({}, {})'.format(self.x, self.y)"
   ]
  },
  {
   "cell_type": "code",
   "execution_count": 65,
   "id": "c166d0c1-7e83-4264-a546-c5c13014f739",
   "metadata": {},
   "outputs": [
    {
     "data": {
      "text/plain": [
       "Vec(5, 8)"
      ]
     },
     "execution_count": 65,
     "metadata": {},
     "output_type": "execute_result"
    }
   ],
   "source": [
    "A = Vec2d()\n",
    "A.x = 5\n",
    "A.y = 8\n",
    "A"
   ]
  },
  {
   "cell_type": "code",
   "execution_count": 66,
   "id": "33807269-c5e8-4a11-afca-316972ea8efb",
   "metadata": {},
   "outputs": [
    {
     "data": {
      "text/plain": [
       "Vec(9, 11)"
      ]
     },
     "execution_count": 66,
     "metadata": {},
     "output_type": "execute_result"
    }
   ],
   "source": [
    "B = Vec2d()\n",
    "B.x = 9\n",
    "B.y = 11\n",
    "B"
   ]
  },
  {
   "cell_type": "code",
   "execution_count": 67,
   "id": "564a4b4c-49ed-4bf6-993b-bc3a4f657604",
   "metadata": {},
   "outputs": [
    {
     "data": {
      "text/plain": [
       "5.0"
      ]
     },
     "execution_count": 67,
     "metadata": {},
     "output_type": "execute_result"
    }
   ],
   "source": [
    "(A-B).norm()"
   ]
  },
  {
   "cell_type": "code",
   "execution_count": 68,
   "id": "953cfe47-4789-4452-a4b1-4b7205c8f0b8",
   "metadata": {},
   "outputs": [],
   "source": [
    "class Vec2d:\n",
    "    def __init__(self, x=0, y=0):\n",
    "        self.x = x\n",
    "        self.y = y\n",
    "\n",
    "    def __add__(self, other):\n",
    "        v = Vec2d()\n",
    "        v.x = self.x + other.x\n",
    "        v.y = self.y + other.y\n",
    "        return v\n",
    "\n",
    "    def __sub__(self, other):\n",
    "        v = Vec2d()\n",
    "        v.x = self.x - other.x\n",
    "        v.y = self.y - other.y\n",
    "        return v\n",
    "\n",
    "    def __mul__(self, other):\n",
    "        \n",
    "        \n",
    "    def norm(self):\n",
    "        return (self.x**2 + self.y**2)**.5\n",
    "\n",
    "    def unit(self, err=1E-10):\n",
    "        if self.norm err:\n",
    "            return Vec2d(1, 0)\n",
    "\n",
    "        return self * (1/ self.norm())\n",
    "\n",
    "    def __repr__(self):\n",
    "        return 'Vec({}, {})'.format(self.x, self.y)"
   ]
  },
  {
   "cell_type": "code",
   "execution_count": 69,
   "id": "ce0d8ad7-f0cd-49db-9132-14d5c6cfae68",
   "metadata": {},
   "outputs": [
    {
     "data": {
      "text/plain": [
       "5.0"
      ]
     },
     "execution_count": 69,
     "metadata": {},
     "output_type": "execute_result"
    }
   ],
   "source": [
    "A = Vec2d(5, 8)\n",
    "B = Vec2d(9, 11)\n",
    "(A-B).norm()"
   ]
  },
  {
   "cell_type": "code",
   "execution_count": 132,
   "id": "3304a84c-fb70-485d-a78d-dc91a1c3a38d",
   "metadata": {},
   "outputs": [],
   "source": [
    "import math\n",
    "\n",
    "\n",
    "class Vec2d:\n",
    "    def __init__(self, x=0, y=0):\n",
    "        self.x = x\n",
    "        self.y = y\n",
    "    \n",
    "    def __add__(self, other):\n",
    "        v = Vec2d()\n",
    "        v.x = self.x + other.x\n",
    "        v.y = self.y + other.y\n",
    "        return v\n",
    "\n",
    "    def __sub__(self, other):\n",
    "        v = Vec2d()\n",
    "        v.x = self.x - other.x\n",
    "        v.y = self.y - other.y\n",
    "        return v\n",
    "\n",
    "    def __mul__(self, other):\n",
    "        if isinstance(other, Vec2d):\n",
    "            return self.x * other.x + self.y * other.y\n",
    "        else:\n",
    "            return Vec2d(other*self.x, other*self.y)\n",
    "\n",
    "    def norm(self):\n",
    "        return (self.x**2 + self.y**2)**.5\n",
    "\n",
    "    def unit(self, err=1E-10):\n",
    "        if self.norm() < err:\n",
    "            return Vec2d(1, 0)\n",
    "\n",
    "        return self * (1/ self.norm())\n",
    "\n",
    "    def angle(self, other, signed=True):\n",
    "        deg = 180 / math.pi\n",
    "        alpha = deg * math.acos(self.unit() * other.unit())\n",
    "        if signed:\n",
    "            sign = -1 if self.area(other, signed=True) < 0 else 1\n",
    "        return sign * alpha\n",
    "\n",
    "    def perp(self):\n",
    "        return Vec2d(-self.y, self.x)\n",
    "\n",
    "    def area(self, other, signed=True):\n",
    "        a = self.perp() * other\n",
    "        return a if signed else abs(a)\n",
    "\n",
    "    def closest(self, vecs):\n",
    "        return min(vecs, key=lambda v: (v-self).norm())\n",
    "\n",
    "    def __repr__(self):\n",
    "        return 'Vec({}, {})'.format(self.x, self.y)"
   ]
  },
  {
   "cell_type": "code",
   "execution_count": null,
   "id": "408c7c04-05e8-4e28-8390-98faf96642e6",
   "metadata": {},
   "outputs": [],
   "source": []
  },
  {
   "cell_type": "code",
   "execution_count": 133,
   "id": "43feaeee-24a0-4dc9-bbf7-a17a2e7669d3",
   "metadata": {},
   "outputs": [
    {
     "data": {
      "text/plain": [
       "(90.0, -90.0)"
      ]
     },
     "execution_count": 133,
     "metadata": {},
     "output_type": "execute_result"
    }
   ],
   "source": [
    "e1 = Vec2d(1, 0)\n",
    "e2 = Vec2d(0, 1)\n",
    "e1.angle(e2), e2.angle(e1)"
   ]
  },
  {
   "cell_type": "code",
   "execution_count": 134,
   "id": "e19c64c6-9e34-4b44-b1ab-c192d8538152",
   "metadata": {},
   "outputs": [
    {
     "data": {
      "text/plain": [
       "(-2, 2)"
      ]
     },
     "execution_count": 134,
     "metadata": {},
     "output_type": "execute_result"
    }
   ],
   "source": [
    "O = Vec2d(0, 0)\n",
    "A = e1 + e2\n",
    "B = e1 - e2\n",
    "A.area(B), B.area(A)"
   ]
  },
  {
   "cell_type": "code",
   "execution_count": 129,
   "id": "c6413ce5-0042-44ab-bd43-bcc94a4fa129",
   "metadata": {},
   "outputs": [],
   "source": [
    "import random\n",
    "\n",
    "\n",
    "def random_vec(lower=-50, upper=50):\n",
    "    x = random.uniform(lower, upper)\n",
    "    y = random.uniform(lower, upper)\n",
    "    return Vec2d(x, y)"
   ]
  },
  {
   "cell_type": "code",
   "execution_count": 130,
   "id": "67cb9f35-0e3f-424e-a193-2c720d09f610",
   "metadata": {},
   "outputs": [
    {
     "data": {
      "text/plain": [
       "Vec(14.927035354195255, -4.8104205623061915)"
      ]
     },
     "execution_count": 130,
     "metadata": {},
     "output_type": "execute_result"
    }
   ],
   "source": [
    "vecs = [random_vec() for _ in range(20)]\n",
    "O.closest(vecs)"
   ]
  },
  {
   "cell_type": "code",
   "execution_count": 114,
   "id": "76883ebe-5091-45a0-a069-cdc9ecffff60",
   "metadata": {},
   "outputs": [
    {
     "data": {
      "text/plain": [
       "[Vec(-41.12993274945088, 8.44495961518632),\n",
       " Vec(-5.756175050020786, -5.590231502024409),\n",
       " Vec(36.7014559489585, 35.9496760386255),\n",
       " Vec(-0.7657715702061196, 44.85012243542842),\n",
       " Vec(32.78793540105359, 15.971774160251002),\n",
       " Vec(40.397951562717466, -0.1179393170553169),\n",
       " Vec(30.749227323869704, -10.177774782571802),\n",
       " Vec(40.85635435151511, -6.365844500074672),\n",
       " Vec(-11.452051591270596, -32.3414254901215),\n",
       " Vec(26.250779025652562, 15.24108241045063),\n",
       " Vec(-8.394563813862, -47.51135842868028),\n",
       " Vec(43.81857140660543, -23.495527557491346),\n",
       " Vec(-45.64010422687159, -27.74607858262703),\n",
       " Vec(-45.39822243337321, 47.68315164276399),\n",
       " Vec(-13.917253255872389, -13.748540608784765),\n",
       " Vec(-7.879085785585502, 37.825517315177365),\n",
       " Vec(-22.03743381880069, -1.093538021292531),\n",
       " Vec(-14.57762219543666, -15.482430111937418),\n",
       " Vec(-26.57451560527637, -3.5053695210838143),\n",
       " Vec(8.554171551065828, -1.0292835741117088)]"
      ]
     },
     "execution_count": 114,
     "metadata": {},
     "output_type": "execute_result"
    }
   ],
   "source": [
    "vecs"
   ]
  },
  {
   "cell_type": "code",
   "execution_count": null,
   "id": "d48b7715-9d8e-4633-bcb0-a3adc6cfba47",
   "metadata": {},
   "outputs": [],
   "source": []
  },
  {
   "cell_type": "markdown",
   "id": "b7998cc7-51cb-4f87-855b-33d23892a88f",
   "metadata": {},
   "source": [
    "Eine Funktion eines Typs (z.B. `str.index(string, teilstring)`) kann dabei von einem Objekt \n",
    "(z.B. `abc`) mit der dot-Notation  aufgerufen werden (`'abc'.index('b')`),\n",
    "was den gleichen Effekt hat, wie wenn die Funktion des Typs mit\n",
    "dem Objekt als erstes Argument aufgerufen wird `str.index('abc','b')`.\n",
    "\n",
    "Klassen sind selbstgemachte und bedarfsgerecht gestaltete Typen. \n",
    "Die Klasse definiert die Methoden, die  Objekte dieses Types aufrufen k&ouml;nnen. \n",
    "Objekte k&ouml;nnen zudem eigene Attribute (Daten) enthalten.\n",
    "Man sagt nun auch *ein **Objekt** ist  **Instanz** einer  **Klasse***, anstelle\n",
    "von *ein **Objekt** ist von einem bestimmten **Typ***.  \n",
    "Wenn eine Instanz eine Funktion der Klasse mit der dot-Syntax aufruft, spricht man von einem Methodenaufruf.\n",
    "\n",
    "\n",
    "\n",
    "- `type(x)` liefert die Klasse/Typ von `x` (`x` ist eine Instanz dieser Klasse)\n",
    "- Ist `A` eine Klasse, so liefert `A.__name__` den Namen dieser Klasse (ein String)\n",
    "- `isinstance(x, y)` gibt `True` zur&uuml;ck, falls `x` Instanz der Klasse `y` ist (`x` hat Typ `y`)"
   ]
  },
  {
   "cell_type": "code",
   "execution_count": null,
   "id": "8ea72ced-89b3-48e7-b7cf-04dd06446763",
   "metadata": {},
   "outputs": [],
   "source": [
    "# Objekt von Typ str erstellen, bez. Instanz der Klasse str erstellen\n",
    "s = str('abc') # umstaendlich fuer s='abc'\n",
    "type(s) == str"
   ]
  },
  {
   "cell_type": "code",
   "execution_count": null,
   "id": "59af497a-681b-4e4e-b9b7-fac5cf26c9e0",
   "metadata": {},
   "outputs": [],
   "source": [
    "isinstance(s, str)"
   ]
  },
  {
   "cell_type": "code",
   "execution_count": null,
   "id": "f43c2cc9-906f-49d4-9343-93bf3d76fc2d",
   "metadata": {},
   "outputs": [],
   "source": [
    "s.index('b') == str.index(s, 'b')"
   ]
  },
  {
   "cell_type": "markdown",
   "id": "1c77d329-6f8a-459d-b1ee-6f57b0268f65",
   "metadata": {},
   "source": [
    "### Klasse als Namensraum\n",
    "Eine Klasse verh&auml;lt sich einerseits &auml;hnlich  wie ein Modul, als **Namensraum**:  \n",
    "- Beim Import eines Moduls `foo` wird der Code des Moduls ausgef&uuml;hrt. \n",
    "Nach dem Import ist eine in diesem Module definierte Variable `x` bez. Funktion `f` mit `foo.x` bez. `foo.f` ansprechbar.  \n",
    "\n",
    "- Beim Ausf&uuml;hren einer Zelle oder eines Files mit einer Klassendefinition wird der Code\n",
    "im Klassenbody ausgef&uuml;hrt. Danach ist eine in dieser Klasse definierte Variable `x` bez. Funktion `f` mit `A.x` bez. `A.f` ansprechbar. "
   ]
  },
  {
   "cell_type": "code",
   "execution_count": null,
   "id": "e02e55b5-217b-4097-a373-53317726138e",
   "metadata": {},
   "outputs": [],
   "source": [
    "# Klassendefinition (ohne Initialisierung)\n",
    "class A:\n",
    "    x = 'A.x' # Klassenvariable\n",
    "   \n",
    "    def f(x):\n",
    "        print('An f uebergebenes Argument: {}'.format(x))\n",
    "        print('Im Klassenbody definiere Variable x: {}'.format(A.x)) \n",
    "        \n",
    "    print(x)\n",
    "    print('Code der Klasse A wurde ausgefuehrt')"
   ]
  },
  {
   "cell_type": "markdown",
   "id": "a96c7d23-ab88-4f1e-8f2d-fee85d7d9e02",
   "metadata": {},
   "source": [
    "***\n",
    "Die im Klassenbody definierten Variablen `x` und `f` lassen sich nun mit\n",
    "`A.x` und `A.f` ansprechen.\n",
    "***"
   ]
  },
  {
   "cell_type": "code",
   "execution_count": null,
   "id": "5bff44ac-d29f-47a3-9476-48eebafdcd61",
   "metadata": {},
   "outputs": [],
   "source": [
    "print(A.x)\n",
    "A.f('test')"
   ]
  },
  {
   "cell_type": "markdown",
   "id": "0ce6e6d5-c191-48f9-acb4-2ad6807f3151",
   "metadata": {},
   "source": [
    "***\n",
    "Die Werte von Klassenvariablen kann man &auml;ndern und neue Klassenvariablen k&ouml;nnen definiert werden.\n",
    "***"
   ]
  },
  {
   "cell_type": "code",
   "execution_count": null,
   "id": "f6ef799a-5e9d-4428-ab29-7af7da6eb292",
   "metadata": {},
   "outputs": [],
   "source": [
    "A.x = 'neuer Wert von A.x'\n",
    "A.y = 'neue Klassenvariable A.y'\n",
    "print('A.x: {}\\nA.y: {}'.format(A.x, A.y))"
   ]
  },
  {
   "cell_type": "markdown",
   "id": "ac064e90-6b9c-4814-b550-a82470794757",
   "metadata": {},
   "source": [
    "### Klassenattribute\n",
    "Die in der Klasse definierten Variabeln und Funktionen nennt man auch **Attribute** von `A`. \n",
    "Attribute die mit `__` beginnen und enden sind sog. **Magic** oder **dunder**-Methoden und\n",
    "haben ein spezielles Verhalten.  \n",
    "Alle Attribute von `A` sind im Dicionary `A.__dict__` gespeichert. \n",
    "\n",
    "**Methoden zum Lesen und Setzen von Attributen**:\n",
    "- `getattr(A, 'x')` ist &auml;quivalent zu `A.x`\n",
    "- `hasattr(A, 'x')` gibt `True` zur&uuml;ck falls, `A.x`  keinen Fehler (AttributError) verursacht, sonst `False`. \n",
    "- `setattr(A, 'x', v)` ist &auml;quivalent zu `A.x = v`."
   ]
  },
  {
   "cell_type": "markdown",
   "id": "ebcc8d3f-79a2-4194-a8e4-98816f948e3d",
   "metadata": {},
   "source": [
    "***\n",
    "Normale Attribute von `A`:\n",
    "***"
   ]
  },
  {
   "cell_type": "code",
   "execution_count": null,
   "id": "68a53303-3e81-4ce1-bf77-fad5b196cb01",
   "metadata": {},
   "outputs": [],
   "source": [
    "{k:v for k,v in A.__dict__.items() if k[:2] != '__'}"
   ]
  },
  {
   "cell_type": "code",
   "execution_count": null,
   "id": "3a7a60a5-8a64-4c28-a63f-29a7a8572781",
   "metadata": {},
   "outputs": [],
   "source": [
    "hasattr(A, 'x'), getattr(A, 'x')"
   ]
  },
  {
   "cell_type": "markdown",
   "id": "67de12f4-416c-49b8-9ddf-c6570c0767e5",
   "metadata": {},
   "source": [
    "### Instanz einer Klasse und ihr Zugriff auf eine Funktion der Klasse\n",
    "Der **Mechanismus**  wie eine **Instanz** `a` der Klasse `A` auf eine in der **Klasse** definierte **Funktion** `A.f` zugreift, ist was eine Klasse ausmacht! \n",
    "\n",
    "- Mit `a = A()` wird eine Instanz von `A` erstellt.  \n",
    "- `a` kann eigene Attribute haben, welche im Dictionary `a.__dict__` gespeichert sind.  \n",
    "  Eine frisch erstellte Instanz hat noch keine eigenen Attribute.  \n",
    "  Mit `a.x = 2` kann man dem Attribut `x` von `a` der Wert 2 zuweisen.  \n",
    "- Hat `a` ein Attribut `y` so liefert `a.y` den Wert dieses Attributes. \n",
    "- Ist `A.y` **keine** Funktion und hat `a` **kein** Attribut `y`, so liefert `a.y` den Wert `A.y`.\n",
    "- Ist `A.f(x, y)` **eine** Funktion und hat `a` **kein** Attribut `f`,  \n",
    "  so liefert `a.f` den Wert `lambda y: A.f(a, y)`.    \n",
    "  **Das heisst**, `a.f(y)` hat den gleichen Effekt wie `A.f(a, y)`  \n",
    "  (vgl. `str.index('abc', 'b')` mach das gleiche wie `'abc'.index('b')`).\n",
    "  \n",
    "Ruft eine Instanz `a` eine Methode auf, so wird das erste Argument von `A.f` an die Instanz `a` gebunden. Deshalb w&auml;hlt man `self` als Namen f&uuml;r das erste Argument einer Funktion einer Klasse. Dies ist jedoch **nur** eine **Konvention**.  "
   ]
  },
  {
   "cell_type": "code",
   "execution_count": null,
   "id": "aef04a93-a161-45ef-9262-95cc4064160d",
   "metadata": {},
   "outputs": [],
   "source": [
    "# Klassendefinition\n",
    "class A:\n",
    "    def f(*args):\n",
    "        print(args)\n",
    "\n",
    "# Instanz erzeugen        \n",
    "a = A()  \n",
    "\n",
    "print('Klasse: {}\\nInstanz: {}'.format(A, a))\n",
    "isinstance(a, A), type(a) is A"
   ]
  },
  {
   "cell_type": "markdown",
   "id": "9ac87c06-80ed-49cf-8f21-ce2d4f5db4a6",
   "metadata": {},
   "source": [
    "***\n",
    "Attribute der Instanz `a`:\n",
    "***"
   ]
  },
  {
   "cell_type": "code",
   "execution_count": null,
   "id": "b8116311-23b2-48de-aad9-558058c6c934",
   "metadata": {},
   "outputs": [],
   "source": [
    "a.__dict__"
   ]
  },
  {
   "cell_type": "code",
   "execution_count": null,
   "id": "32b486b8-ee39-4e48-8495-2c8d2ba6e8a7",
   "metadata": {},
   "outputs": [],
   "source": [
    "a.x = 2\n",
    "print(a.__dict__)\n",
    "print(a.x)"
   ]
  },
  {
   "cell_type": "markdown",
   "id": "13e20622-eef2-48a6-a51f-08fbae06870d",
   "metadata": {},
   "source": [
    "***\n",
    "`A.f` ist eine Funktion und `A.f(1, 2)` ruft diese Funktion auf. Alles ganz normal.\n",
    "***"
   ]
  },
  {
   "cell_type": "code",
   "execution_count": null,
   "id": "fb84c8a6-6ebe-46ea-bd7f-60fa32869a98",
   "metadata": {},
   "outputs": [],
   "source": [
    "A.f"
   ]
  },
  {
   "cell_type": "code",
   "execution_count": null,
   "id": "0b0a4342-271c-41ad-bc0c-8c5bf59610e6",
   "metadata": {},
   "outputs": [],
   "source": [
    "A.f(1, 2)"
   ]
  },
  {
   "cell_type": "markdown",
   "id": "cf00040d-46aa-4320-932d-90dda480e3be",
   "metadata": {},
   "source": [
    "***\n",
    "`a.f` hingegen ist eine Methode! `a.f` wird `lambda x: A.f(a, x)` zugewiesen (falls `a` kein eigenes Attribut `f` hat).\n",
    "***"
   ]
  },
  {
   "cell_type": "code",
   "execution_count": null,
   "id": "3a15a466-0c54-4dd9-b919-6319c00ba475",
   "metadata": {},
   "outputs": [],
   "source": [
    "a.f"
   ]
  },
  {
   "cell_type": "code",
   "execution_count": null,
   "id": "604f5479-ad52-4430-8c25-58835a48fdeb",
   "metadata": {},
   "outputs": [],
   "source": [
    "a.f(2)"
   ]
  },
  {
   "cell_type": "code",
   "execution_count": null,
   "id": "fae283ae-c26a-457d-a25d-0631c413078a",
   "metadata": {},
   "outputs": [],
   "source": [
    "fun = lambda x: A.f(a, x)\n",
    "fun(2)"
   ]
  },
  {
   "cell_type": "markdown",
   "id": "e403c138-10a2-4d35-9b05-8974aac2243e",
   "metadata": {},
   "source": [
    "### Instanz initialisieren\n",
    "Definiert eine Klasse `A` eine Funktion `__init__(self, ...)`, so passiert beim Aufruf von \n",
    "`A(...)` folgendes:  \n",
    "- eine Instanz `a` von `A` wird erstellt.\n",
    "- `A.__init__(a, ...)` wird ausgef&uuml;hrt.  \n",
    "  In der Regel werden hier Attribute von `a` definiert (sog. Instanz-Attribute von `A`).\n",
    "- Das modifizierte/initialisierte `a` wird zur&uuml;ckgegeben."
   ]
  },
  {
   "cell_type": "code",
   "execution_count": null,
   "id": "8cd12f87-eddb-4cad-a389-967872085103",
   "metadata": {},
   "outputs": [],
   "source": [
    "class A:\n",
    "    def __init__(self, name):\n",
    "        self.name = name\n",
    "        \n",
    "a = A('foo')\n",
    "a.name"
   ]
  },
  {
   "cell_type": "markdown",
   "id": "b8b85085-833f-4513-874a-55db46b5c9d7",
   "metadata": {},
   "source": [
    "### Dunder/Magic-Methoden\n",
    "- Ist `x` eine Instanz von `A`, dann ruft `x + y` die Funktion `A.__add__(x, y)` auf. \n",
    "  Ist keine Funktion `A.__add__` definiert, wir ein TypeError erzeugt.  \n",
    "  Siehe [docs.python.org](https://docs.python.org/3/reference/datamodel.html#emulating-numeric-types) f&uuml;r `__sub__`,\n",
    "`__mul__`, ...\n",
    "- Wird eine String-Repr&auml;sentation einer Instanz `a`, ben&ouml;tigt, z.B. bei `print(a)`, so wird der\n",
    "R&uuml;ckgabewert von `A.__repr__(self)` verwendent, sofern `A.__repr__` definiert ist."
   ]
  },
  {
   "cell_type": "code",
   "execution_count": null,
   "id": "24443420-0841-4d69-99c9-079e0cf888c9",
   "metadata": {},
   "outputs": [],
   "source": [
    "class Position:\n",
    "    def __init__(self, x, y):\n",
    "        self.x = x\n",
    "        self.y = y\n",
    "      \n",
    "    def norm(self):\n",
    "        return (self.x**2 + self.y**2)**0.5\n",
    "    \n",
    "    def __add__(self, other):\n",
    "        return Position(self.x + other.x, self.y + other.y)\n",
    "    \n",
    "    def __repr__(self):\n",
    "        return 'Position({}, {})'.format(self.x, self.y)"
   ]
  },
  {
   "cell_type": "code",
   "execution_count": null,
   "id": "032d210e-537f-4050-8657-398a11d73ce8",
   "metadata": {},
   "outputs": [],
   "source": [
    "p = Position(1, 2)\n",
    "q = Position(2, 2)\n",
    "r = q + p\n",
    "print('|r| = {}'.format(r.norm()))\n",
    "r"
   ]
  },
  {
   "cell_type": "code",
   "execution_count": null,
   "id": "a430937b-b551-4a21-b5af-497e371725d6",
   "metadata": {},
   "outputs": [],
   "source": [
    "class Student:\n",
    "    def __init__(self, name):\n",
    "        '''initialisiert eine Instanz der Klasse Student'''   \n",
    "        self.name = name\n",
    "        self.noten = {}\n",
    "        \n",
    "    def add_grade(self, fach, note):\n",
    "        '''Key-Value-Paar (fach, note) in den Dictionary noten aufnehmen'''\n",
    "        self.noten.setdefault(fach, []).append(note)\n",
    "      \n",
    "    def __repr__(self):\n",
    "        return 'Student({})\\nNoten: {}'.format(self.name,  self.noten)"
   ]
  },
  {
   "cell_type": "code",
   "execution_count": null,
   "id": "876e370e-b4d1-47aa-a3ed-a9772a57faf4",
   "metadata": {},
   "outputs": [],
   "source": [
    "alice = Student('Alice')    \n",
    "alice"
   ]
  },
  {
   "cell_type": "code",
   "execution_count": null,
   "id": "f6473ccc-7d9a-4ae5-9237-7220dc44e00d",
   "metadata": {},
   "outputs": [],
   "source": [
    "bob = Student('Bob')    \n",
    "bob"
   ]
  },
  {
   "cell_type": "code",
   "execution_count": null,
   "id": "5f9107fc-77bd-4998-a255-0342a975aa11",
   "metadata": {},
   "outputs": [],
   "source": [
    "alice.add_grade(fach='Programmieren', note = 5)\n",
    "alice.add_grade(fach='Programmieren', note = 6)\n",
    "alice"
   ]
  },
  {
   "cell_type": "code",
   "execution_count": null,
   "id": "3101836e-3013-499e-a1fe-b1d368880d62",
   "metadata": {},
   "outputs": [],
   "source": [
    "bob.add_grade(fach='Programmieren', note = 5.5)\n",
    "bob.add_grade(fach='Programmieren', note = 4)\n",
    "bob.add_grade(fach='Math', note = 4.5)\n",
    "\n",
    "bob"
   ]
  },
  {
   "cell_type": "code",
   "execution_count": null,
   "id": "4287d33b-2cc8-46ea-bd9d-86408b5bf3e4",
   "metadata": {},
   "outputs": [],
   "source": []
  }
 ],
 "metadata": {
  "author": "dieter.probst@gmail.com",
  "kernelspec": {
   "display_name": "Python 3 (ipykernel)",
   "language": "python",
   "name": "python3"
  },
  "language_info": {
   "codemirror_mode": {
    "name": "ipython",
    "version": 3
   },
   "file_extension": ".py",
   "mimetype": "text/x-python",
   "name": "python",
   "nbconvert_exporter": "python",
   "pygments_lexer": "ipython3",
   "version": "3.13.0"
  }
 },
 "nbformat": 4,
 "nbformat_minor": 5
}
