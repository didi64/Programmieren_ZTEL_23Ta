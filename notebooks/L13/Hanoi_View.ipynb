{
 "cells": [
  {
   "cell_type": "code",
   "execution_count": null,
   "id": "776753c3-2f68-48e0-b6f0-84bc151a3b4d",
   "metadata": {},
   "outputs": [],
   "source": []
  },
  {
   "cell_type": "code",
   "execution_count": 89,
   "id": "32edd63f-3573-4e27-ac9d-5eb17a65d176",
   "metadata": {},
   "outputs": [
    {
     "name": "stdout",
     "output_type": "stream",
     "text": [
      "Overwriting view.py\n"
     ]
    }
   ],
   "source": [
    "#%%file view.py\n",
    "from ipycanvas import Canvas\n",
    "from IPython.display import display\n",
    "\n",
    "\n",
    "class View:\n",
    "    positions = [50, 150, 250]\n",
    "    disk_widths = [30, 50, 70, 90]\n",
    "    disk_height = 10\n",
    "    colors = ['brown', 'teal', 'blue', 'purple']\n",
    "\n",
    "    canvas_config = {\n",
    "        'width': 300,\n",
    "        'height': 100,\n",
    "        'layout': {'border': '1px solid black'},\n",
    "    }\n",
    "\n",
    "    def __init__(self, game=None):\n",
    "        self.canvas = Canvas(**View.canvas_config)\n",
    "\n",
    "    def draw_stack(self, stack, pos):\n",
    "        h = self.disk_height\n",
    "        for i, disk in enumerate(stack):\n",
    "            self.canvas.fill_style = self.colors[disk]\n",
    "            w = self.disk_widths[disk]\n",
    "            self.canvas.fill_rect(pos - w/2,\n",
    "                                  self.canvas.height-(i+1)*h,\n",
    "                                  w,\n",
    "                                  h)\n",
    "\n",
    "    def draw_stacks(self, stacks):\n",
    "        self.canvas.clear()\n",
    "        for pos, stack in zip(self.positions, stacks):\n",
    "            self.draw_stack(stack, pos)\n",
    "\n",
    "    def _ipython_display_(self):\n",
    "        display(self.canvas)"
   ]
  },
  {
   "cell_type": "code",
   "execution_count": 80,
   "id": "61b3fb6c-c6e1-4fb9-b0c2-d478876fe02f",
   "metadata": {},
   "outputs": [
    {
     "data": {
      "application/vnd.jupyter.widget-view+json": {
       "model_id": "93f7ee0801b14e449ad852c2fc3f7046",
       "version_major": 2,
       "version_minor": 0
      },
      "text/plain": [
       "Canvas(height=100, layout=Layout(border_bottom='1px solid black', border_left='1px solid black', border_right=…"
      ]
     },
     "metadata": {},
     "output_type": "display_data"
    }
   ],
   "source": [
    "view = View()\n",
    "view"
   ]
  },
  {
   "cell_type": "code",
   "execution_count": 81,
   "id": "c95738e3-88a0-4ccd-9a19-38f64aed66c2",
   "metadata": {},
   "outputs": [],
   "source": [
    "stacks = [[3, 2, 1, 0], [], []]\n",
    "view.draw_stacks(stacks)"
   ]
  },
  {
   "cell_type": "code",
   "execution_count": 82,
   "id": "3ed4c49d-1254-4ea1-8ca6-2556c35ea90e",
   "metadata": {},
   "outputs": [],
   "source": [
    "stacks = [[1, 0], [2], [3]]\n",
    "view.draw_stacks(stacks)"
   ]
  },
  {
   "cell_type": "code",
   "execution_count": 83,
   "id": "a86a09d6-6c99-4a4f-a85c-1a18f4f36bcd",
   "metadata": {},
   "outputs": [],
   "source": [
    "from game import Game"
   ]
  },
  {
   "cell_type": "code",
   "execution_count": 84,
   "id": "92a37463-e93f-4f6c-b789-5d68af3b9a18",
   "metadata": {},
   "outputs": [],
   "source": [
    "game = Game()\n",
    "game.callback = lambda event, data: view.draw_stacks(data)\n",
    "game.new_game()"
   ]
  },
  {
   "cell_type": "code",
   "execution_count": 85,
   "id": "8ac12abb-628d-4731-b29a-fe42fdf1b233",
   "metadata": {},
   "outputs": [],
   "source": [
    "game.move_disk(0, 2)"
   ]
  },
  {
   "cell_type": "code",
   "execution_count": 86,
   "id": "bd51d177-cab9-4a9a-9581-013a657631aa",
   "metadata": {},
   "outputs": [],
   "source": [
    "game.move_disk(0, 1)"
   ]
  },
  {
   "cell_type": "code",
   "execution_count": 87,
   "id": "1c2cd95f-394b-4757-8bb2-84255d214820",
   "metadata": {},
   "outputs": [],
   "source": [
    "game.move_disk(2, 1)"
   ]
  },
  {
   "cell_type": "code",
   "execution_count": 88,
   "id": "7f803755-6db6-46d6-a4ca-c0bf344d161a",
   "metadata": {},
   "outputs": [],
   "source": [
    "game.new_game()"
   ]
  },
  {
   "cell_type": "code",
   "execution_count": null,
   "id": "d74981a4-4f6a-4e63-9159-34216688c6fd",
   "metadata": {},
   "outputs": [],
   "source": []
  }
 ],
 "metadata": {
  "kernelspec": {
   "display_name": "Python 3 (ipykernel)",
   "language": "python",
   "name": "python3"
  },
  "language_info": {
   "codemirror_mode": {
    "name": "ipython",
    "version": 3
   },
   "file_extension": ".py",
   "mimetype": "text/x-python",
   "name": "python",
   "nbconvert_exporter": "python",
   "pygments_lexer": "ipython3",
   "version": "3.13.0"
  }
 },
 "nbformat": 4,
 "nbformat_minor": 5
}
