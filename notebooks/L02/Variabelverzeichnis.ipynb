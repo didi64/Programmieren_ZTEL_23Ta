{
 "cells": [
  {
   "cell_type": "markdown",
   "id": "38ce9c59-3632-47d6-b1fc-4111d1f0c924",
   "metadata": {},
   "source": [
    "### Variabelnamen und Werte\n",
    "Um Berechnungen oder Datenmanipulationen durchf&uuml;hren zu k&ouml;nnen, m&uuml;ssen Werte gespeichert werden. Werte werden in Variabeln gespeichert.  \n",
    "<!--\n",
    "**Variabelnamen**:  \n",
    "Jede Zeichenkette aus Buchstaben, Ziffern und `_`, die nicht mit einer Zahl beginnt, ist ein Variabelname (mit Ausnahme einiger sog. reservierten Wörtern).  \n",
    "Beispiele: `x`, `name`, `is_even`, `y_10`, `MyClass`.  \n",
    "Bemerkung: Variabeln, die mit `_` beginnen sind f&uuml;r spezielle Zwecke reserviert.\n",
    "Benutze solche Namen nur, falls du weisst was du tust.  \n",
    "<Die Variable '_' speichert den Wert des zuletzt ausgewerteten Ausdrucks. \n",
    "-->  \n",
    "\n",
    "**Variabelnamen / (Identifier, Names)**\n",
    "\n",
    "- g&uuml;ltige Variabelnamen enthalten folgende Zeichen:\n",
    "  - ```_``` (underscore)\n",
    "  - ```0..9```  (Ziffern)\n",
    "  - ```A..Za..z``` (Klein- und Grossbuchstaben)  \n",
    "- g&uuml;ltige Variabelnamen d&uuml;rfen **nicht  mit einer Ziffer beginnen** \n",
    "- g&uuml;ltige Variabelnamen d&uuml;rfen **keine reserviertes Wort** (keyword) sein: ```False, None, True, ..., def, for, if, then, ...``` sein.  \n",
    "Es ist **nicht ratsam**,\n",
    " <span style=\"color:green\"><b>gr&uuml;n</b></span>\n",
    " gef&auml;rbte W&ouml;rter als **Variabelnamen** zu verwenden.\n",
    "```python\n",
    "foo = 'bar'  # foo ist legaler Variabelname\n",
    "for = 'var'  # for ist kein legaler Variabelname\n",
    "print = 0    # print ist ein legaler Variabelname, aber\n",
    "             # durch diese Zuweisung wird die print Funktion ueberschreiben\n",
    "```\n",
    "\n",
    "**Werte**:  \n",
    "Wir werden sp&auml;ter noch mehr zu Werten sagen. Werte sind u.a.  \n",
    "- ganze Zahlen: `0`, `42`, `-100`,\n",
    "- Stringliterale: jeder in Anf&uuml;hrungszeichen gesetzter Text, der dieses Anf&uuml;hrungszeichen nicht enth&auml;lt.\n",
    "  Die Anf&uuml;hrungszeichen sind n&ouml;tig, damit der Interpreter Strings von Variabelnamen unterscheiden kann.  \n",
    "  `'hallo`', `'42'`,\n",
    "- `True`, `False`, `None`.\n",
    "\n",
    "**Zuweisung**:  \n",
    "Einer Variable kann mit dem der **Zuweisungsoperator** `=` ein Wert zugewiesen werden.  \n",
    "  Eine Variable, der ein Wert zugewiesen wurde heisst **definiert**. \n",
    "\n",
    "Steht in der letzten nicht leeren (oder die einzigen) Zeile einer Code-Zelle ein Variabelnamen, so wird\n",
    "der Wert angezeigt, falls die Variable definiert ist, anderfalls ein NameError erzeugt.\n",
    "\n",
    "  "
   ]
  },
  {
   "cell_type": "code",
   "execution_count": null,
   "id": "902f8123-8888-43f5-95c9-32b294c6da71",
   "metadata": {},
   "outputs": [],
   "source": [
    "#  weise einigen Variabeln Werte zu\n",
    "is_even = False\n",
    "is_odd = True\n",
    "uninitialized_variable = None\n",
    "number = 42\n",
    "text = 'hello, world!'"
   ]
  },
  {
   "cell_type": "code",
   "execution_count": null,
   "id": "daf34ba3-6887-43f5-aedf-28292e10ce4b",
   "metadata": {},
   "outputs": [],
   "source": []
  },
  {
   "cell_type": "markdown",
   "id": "3a228384-5f93-4391-868b-b6ffc7c77692",
   "metadata": {},
   "source": [
    "**Aufgabe**:  \n",
    "Gib den Wert obiger Variablen aus:  \n",
    "- Tippe nur den Variabelnamen in eine Code-Zelle\n",
    "- benutze `print`.\n",
    "  \n",
    "Was ist der Unterschied?"
   ]
  },
  {
   "cell_type": "code",
   "execution_count": null,
   "id": "d1a315fa-9b51-4817-b8f3-5d65e8718be6",
   "metadata": {},
   "outputs": [],
   "source": [
    "uninitialized_variable  # definiert, Wert ist None, nichts wird angezeigt"
   ]
  },
  {
   "cell_type": "code",
   "execution_count": null,
   "id": "f8a73637-f142-491f-ad56-3ff756b2eaf6",
   "metadata": {},
   "outputs": [],
   "source": [
    "print(uninitialized_variable)"
   ]
  },
  {
   "cell_type": "code",
   "execution_count": null,
   "id": "e042bb2c-939b-4591-959b-b3395d9f5c25",
   "metadata": {},
   "outputs": [],
   "source": [
    "foo  # undefinierte Variable"
   ]
  },
  {
   "cell_type": "code",
   "execution_count": null,
   "id": "42880674-a003-4c0d-a9e1-ea024970b468",
   "metadata": {},
   "outputs": [],
   "source": []
  },
  {
   "cell_type": "markdown",
   "id": "87aeaf28-d5aa-43a0-9712-da9884310965",
   "metadata": {},
   "source": [
    "### Wie weiss der Python-Interpreter welche Variabeln definiert sind?  \n",
    "\n",
    "Der Python-Interpreter speicher alle  definierter Variabeln in einem Verzeichnis/Dictionary.\n",
    "Ein Dictionary sieht so aus.\n",
    "```python\n",
    "d = {'number': 42,  \n",
    "     'text': 'hello, world!',\n",
    "     'is_even': False,\n",
    "     'is_odd': True,\n",
    "     'uninitialized_variable': None,\n",
    "     }\n",
    "```\n",
    "Vor dem `:` steht der Variabelnamen in Anf&uuml;hrungszeichen, nach dem `:` der Wert, gefolgt von einem Komma.\n",
    "Ist `d` ein Dictionary, kann mit `'foo' in d` getestet werden, ob `'foo'` mit einem zugeh&ouml;rigen Wert in `d` gespeichert ist.\n",
    "\n",
    "\n",
    "\n",
    "\n",
    "```python\n",
    "'number' in d  # True\n",
    "```\n",
    "\n",
    "Das aktuelle Variabelverzeichnis kann mit Funktionsaufruf `vars()` generiert werden.\n",
    "Man w&uuml;rde erwarten, dass dieses Verzeichnis leer ist, falls der Jupyterlab-Benutzer noch keine Variabeln definiert hat.\n",
    "Dem ist aber nicht so. Jupyterlab hat bereits einige Variabeln definiert.\n",
    "Die meisten Namen dieser Variabeln beginnen mit `__` oder `_`.\n",
    "Solche Variabeln sind f&uuml;r spezielle Zwecke gedacht und sollten nicht als Variabelnamen gew&auml;hlt werden.\n",
    "\n",
    "**Variabelverzeichnis l&ouml;schen**:\n",
    "Bei einem Kernel Restart wird das Variabelverzeichnis komplett gel&ouml;scht.  \n",
    "Mit dem Line-Magic Befehl\n",
    "\n",
    ">%resest -f\n",
    "\n",
    "wird das Variabelverzeichnis (nahezu) gel&ouml;scht (das -f steht f&uuml;r *force*, andernfalls muss\n",
    "das L&ouml;schen best&auml;tigt werden). \n",
    "\n",
    "Einzelne definierte Variablen, z.B. x und y kann man mit\n",
    "> del x, y\n",
    "\n",
    "aus dem Verzeichnis l&ouml;schen. Erzeut einen NameError falls eine\n",
    "der angegebenen Variabeln nicht definiert ist.\n",
    "\n",
    "**Aufgabe**:  \n",
    "- F&uuml;hre den Code in der n&auml;chsten Zelle aus, um die Funktion `myvars` zu definieren (ignoriere den Code). Danach gibt `myvars()`\n",
    "  die vom Benutzer definierten Variabeln aus.\n",
    "- Zeige das Variableverzeichnis an, mit vars() und myvars().\n",
    "- Restarte den Kernel (oder benutze die Line-Magic `%reset -f`), f&uuml;hre nachstehende Zelle erneut aus und zeige das Verzeichnis nochmals an. Was ist der Unterschied?  \n",
    "- Weise einer Variable einen Wert zu.\n",
    "- Teste, dass die Variable im Verzeichnis ist und l&ouml;sche sie dann aus dem Verzeichnis."
   ]
  },
  {
   "cell_type": "code",
   "execution_count": 15,
   "id": "b6faadfb-588d-4590-bdc1-0fc1b8359a91",
   "metadata": {},
   "outputs": [],
   "source": [
    "def myvars():\n",
    "    '''gibt die vom Benutzer definierten Variabeln aus'''\n",
    "    jupyterlab_vars = ('In', 'Out', 'quit', 'exit', 'open', 'get_ipython')\n",
    "    vs = {k: v for k, v in globals().items() \n",
    "          if not k.startswith('_') and not k in jupyterlab_vars\n",
    "         }\n",
    "    return vs"
   ]
  },
  {
   "cell_type": "code",
   "execution_count": null,
   "id": "9088347c-0f39-49bd-b682-de3ebe572886",
   "metadata": {},
   "outputs": [],
   "source": []
  }
 ],
 "metadata": {
  "author": "dieter.probst@gmail.com",
  "kernelspec": {
   "display_name": "Python 3 (ipykernel)",
   "language": "python",
   "name": "python3"
  },
  "language_info": {
   "codemirror_mode": {
    "name": "ipython",
    "version": 3
   },
   "file_extension": ".py",
   "mimetype": "text/x-python",
   "name": "python",
   "nbconvert_exporter": "python",
   "pygments_lexer": "ipython3",
   "version": "3.13.0"
  }
 },
 "nbformat": 4,
 "nbformat_minor": 5
}
