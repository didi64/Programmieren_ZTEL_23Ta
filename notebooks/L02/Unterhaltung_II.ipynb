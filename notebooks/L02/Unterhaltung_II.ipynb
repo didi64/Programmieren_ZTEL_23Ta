{
 "cells": [
  {
   "cell_type": "markdown",
   "id": "abd636b6-8208-42d4-9bcf-2854b3009d82",
   "metadata": {},
   "source": [
    "### Die Funktionen `print` und `input`\n",
    "\n",
    "Die Namen/Variabelnamen/Variabeln `print` und `input` sind in `vars(__builtin__)` und\n",
    "ihre Werte vom Typ 'builtin_function_or_method' und 'method'.\n",
    "\n",
    "\n",
    "\n",
    "Funktion\n",
    "Argumente (einer Funktion)\n",
    "wie koennen argumente uebergeben werden (by position, als key-word argumente)\n",
    "Rueckgabewert.\n",
    "\n",
    "reine Funktion:\n",
    "nimmt argumente\n",
    "gibt wert zurueck\n",
    "keine Nebeneffekte: keine Ausgabe, keine Variablen werden werandert, keine Files geschrieben,...\n",
    " ein Funktionsaufruf ist eine Anweisung **und** ein Ausdruck. Der Wert dieses AUsdrucks ist der R&uuml;ckgabewert (return value) der Funktion.  \n",
    "\n",
    " \n",
    "**Hilfstext zu `print`** (klicke auf `print` in Code-Zelle, dann shift-tab)  \n",
    "```python'''\n",
    "Signature: print(*args, sep=' ', end='\\n', file=None, flush=False)\n",
    "Docstring:\n",
    "Prints the values to a stream, or to sys.stdout by default.\n",
    "\n",
    "sep\n",
    "  string inserted between values, default a space.\n",
    "end\n",
    "  string appended after the last value, default a newline.\n",
    "file\n",
    "  a file-like object (stream); defaults to the current sys.stdout.\n",
    "flush\n",
    "  whether to forcibly flush the stream.\n",
    "Type:      builtin_function_or_method'''\n",
    "```\n",
    "\n",
    "**Hilfstext zu `print`** (klicke auf `print` in Code-Zelle, dann shift-tab)  \n",
    "```python'''\n",
    "Signature: input(prompt='', /)\n",
    "Docstring:\n",
    "Read a string from standard input.  The trailing newline is stripped.\n",
    "\n",
    "The prompt string, if given, is printed to standard output without a\n",
    "trailing newline before reading input.\n",
    "\n",
    "If the user hits EOF (*nix: Ctrl-D, Windows: Ctrl-Z+Return), raise EOFError.\n",
    "On *nix systems, readline is used if available.\n",
    "Type:      builtin_function_or_method\n",
    "```\n"
   ]
  },
  {
   "cell_type": "code",
   "execution_count": 3,
   "id": "eb09ace9-f684-4033-8383-00134e44472e",
   "metadata": {},
   "outputs": [
    {
     "data": {
      "text/plain": [
       "(True, True)"
      ]
     },
     "execution_count": 3,
     "metadata": {},
     "output_type": "execute_result"
    }
   ],
   "source": [
    "'print' in vars(__builtin__), 'input' in vars(__builtin__)"
   ]
  },
  {
   "cell_type": "code",
   "execution_count": 12,
   "id": "20c5af99-2429-47bc-9bad-8e8f01594f77",
   "metadata": {},
   "outputs": [
    {
     "name": "stdout",
     "output_type": "stream",
     "text": [
      "<class 'builtin_function_or_method'>\n",
      "<class 'method'>\n"
     ]
    }
   ],
   "source": [
    "print(type(print))\n",
    "print(type(input))"
   ]
  },
  {
   "cell_type": "code",
   "execution_count": 13,
   "id": "8ed53d65-b5a9-4626-89a5-466b6ea376a7",
   "metadata": {},
   "outputs": [
    {
     "data": {
      "text/plain": [
       "(True, True)"
      ]
     },
     "execution_count": 13,
     "metadata": {},
     "output_type": "execute_result"
    }
   ],
   "source": [
    "callable(print), callable(input)"
   ]
  },
  {
   "cell_type": "code",
   "execution_count": null,
   "id": "6bb04ac8-9b94-45ea-a2fe-33156a32359f",
   "metadata": {},
   "outputs": [],
   "source": []
  },
  {
   "cell_type": "code",
   "execution_count": 7,
   "id": "ade1d4d4-9be8-466b-af8e-819ba51aecad",
   "metadata": {},
   "outputs": [
    {
     "name": "stdout",
     "output_type": "stream",
     "text": [
      "hallo\n",
      "None\n"
     ]
    }
   ],
   "source": [
    "return_value = print('hallo')\n",
    "print(return_value)"
   ]
  },
  {
   "cell_type": "code",
   "execution_count": 10,
   "id": "e2d9208d-d260-451e-9aac-b0af9379c679",
   "metadata": {},
   "outputs": [
    {
     "name": "stdin",
     "output_type": "stream",
     "text": [
      "Name:  fsgd\n"
     ]
    },
    {
     "data": {
      "text/plain": [
       "'fsgd'"
      ]
     },
     "execution_count": 10,
     "metadata": {},
     "output_type": "execute_result"
    }
   ],
   "source": [
    "input('Name:')"
   ]
  },
  {
   "cell_type": "code",
   "execution_count": 11,
   "id": "d680393e-ab8b-47c3-983c-3012569c2b6a",
   "metadata": {},
   "outputs": [
    {
     "name": "stdin",
     "output_type": "stream",
     "text": [
      "Name: \n"
     ]
    },
    {
     "name": "stdout",
     "output_type": "stream",
     "text": [
      "\n"
     ]
    }
   ],
   "source": [
    "name = input('Name:')\n",
    "print(name)"
   ]
  },
  {
   "cell_type": "code",
   "execution_count": null,
   "id": "c8e75d12-f04c-46a6-ae2d-24cbbca4295d",
   "metadata": {},
   "outputs": [],
   "source": [
    "input"
   ]
  },
  {
   "cell_type": "code",
   "execution_count": null,
   "id": "de5fb3be-819a-4b4c-a0f6-af52f37c4553",
   "metadata": {},
   "outputs": [],
   "source": []
  },
  {
   "cell_type": "code",
   "execution_count": 30,
   "id": "2d8361cb-e90a-4857-958e-0f377e43479d",
   "metadata": {},
   "outputs": [
    {
     "ename": "SyntaxError",
     "evalue": "positional argument follows keyword argument (1696761775.py, line 1)",
     "output_type": "error",
     "traceback": [
      "\u001b[0;36m  Cell \u001b[0;32mIn[30], line 1\u001b[0;36m\u001b[0m\n\u001b[0;31m    print(1, 2, sep='', 3)\u001b[0m\n\u001b[0m                         ^\u001b[0m\n\u001b[0;31mSyntaxError\u001b[0m\u001b[0;31m:\u001b[0m positional argument follows keyword argument\n"
     ]
    }
   ],
   "source": [
    "print(1, 2, sep='', 3)"
   ]
  },
  {
   "cell_type": "markdown",
   "id": "7891a1e9-c021-4997-91fe-f2d92d418bea",
   "metadata": {},
   "source": [
    "show pendign input probem"
   ]
  },
  {
   "cell_type": "code",
   "execution_count": 10,
   "id": "e9983c5e-5b9d-4b1e-a304-8555e5621fcf",
   "metadata": {},
   "outputs": [
    {
     "name": "stdin",
     "output_type": "stream",
     "text": [
      "> \n"
     ]
    },
    {
     "data": {
      "text/plain": [
       "''"
      ]
     },
     "execution_count": 10,
     "metadata": {},
     "output_type": "execute_result"
    }
   ],
   "source": [
    "input('>')"
   ]
  },
  {
   "cell_type": "code",
   "execution_count": null,
   "id": "6535d002-9eb7-406a-a6ec-d16997346be4",
   "metadata": {},
   "outputs": [],
   "source": [
    "1+2"
   ]
  },
  {
   "cell_type": "code",
   "execution_count": 9,
   "id": "3b2395ab-a8fe-47dd-bd1c-808366654ee1",
   "metadata": {},
   "outputs": [],
   "source": [
    "del line, lines"
   ]
  },
  {
   "cell_type": "code",
   "execution_count": 23,
   "id": "bf893438-6607-4ec5-b7fc-7a75e81f44db",
   "metadata": {},
   "outputs": [],
   "source": [
    "import ast"
   ]
  },
  {
   "cell_type": "code",
   "execution_count": 25,
   "id": "705b6e5c-0706-486e-923d-fcac4481926c",
   "metadata": {},
   "outputs": [
    {
     "name": "stderr",
     "output_type": "stream",
     "text": [
      "/tmp/ipykernel_292/560826814.py:1: DeprecationWarning: ast.Num is deprecated and will be removed in Python 3.14; use ast.Constant instead\n",
      "  ast.Num\n"
     ]
    },
    {
     "data": {
      "text/plain": [
       "ast.Num"
      ]
     },
     "execution_count": 25,
     "metadata": {},
     "output_type": "execute_result"
    }
   ],
   "source": [
    "ast.Num"
   ]
  },
  {
   "cell_type": "code",
   "execution_count": 16,
   "id": "8737b05d-3edb-417d-9730-7e5cdd7dae14",
   "metadata": {},
   "outputs": [],
   "source": [
    "from myast import show_ast"
   ]
  },
  {
   "cell_type": "code",
   "execution_count": 17,
   "id": "5a0799b7-254c-4271-b743-7e198a98ee33",
   "metadata": {},
   "outputs": [
    {
     "name": "stdout",
     "output_type": "stream",
     "text": [
      "Hallo, Hans\n"
     ]
    }
   ],
   "source": [
    "name = 'Hans'\n",
    "print('Hallo', name, sep=', ')"
   ]
  },
  {
   "cell_type": "code",
   "execution_count": 18,
   "id": "03ecdf8a-57e3-452e-bb6e-9e9d7c4cf3cb",
   "metadata": {},
   "outputs": [
    {
     "name": "stdout",
     "output_type": "stream",
     "text": [
      "Assign(\n",
      "    targets=[Name(id='name')],\n",
      "    value=Constant(value='Hans'),\n",
      ")\n",
      "Expr(\n",
      "    value=Call(\n",
      "        func=Name(id='print'),\n",
      "        args=[\n",
      "            Constant(value='Hallo'),\n",
      "            Name(id='name'),\n",
      "        ],\n",
      "        keywords=[\n",
      "            keyword(\n",
      "                arg='sep',\n",
      "                value=Constant(value=', '),\n",
      "            ),\n",
      "        ],\n",
      "    ),\n",
      ")\n"
     ]
    }
   ],
   "source": [
    "code = '''\\\n",
    "name = 'Hans'\n",
    "print('Hallo', name, sep=', ')\n",
    "'''\n",
    "show_ast(code)"
   ]
  },
  {
   "cell_type": "code",
   "execution_count": 19,
   "id": "64e4d23a-6a7b-4204-97e2-6805fa8dab27",
   "metadata": {},
   "outputs": [
    {
     "name": "stdout",
     "output_type": "stream",
     "text": [
      "Hallo, Hans\n"
     ]
    }
   ],
   "source": [
    "exec(code)"
   ]
  },
  {
   "cell_type": "markdown",
   "id": "7ae018f5-1438-45b1-993b-10ed3b8e6ea1",
   "metadata": {},
   "source": [
    "Exec f&uuml;hrt denn als String &uuml;bergebenen Code aus.\n"
   ]
  },
  {
   "cell_type": "code",
   "execution_count": 20,
   "id": "7c195dc4-c5fc-42d6-8da0-f9929ce46ee6",
   "metadata": {},
   "outputs": [
    {
     "name": "stdout",
     "output_type": "stream",
     "text": [
      "42\n"
     ]
    }
   ],
   "source": [
    "exec('x=42')\n",
    "print(x)"
   ]
  },
  {
   "cell_type": "code",
   "execution_count": 24,
   "id": "5f3d1824-8574-47c6-9d5f-7e37e28703a3",
   "metadata": {},
   "outputs": [
    {
     "ename": "NameError",
     "evalue": "name 'x' is not defined",
     "output_type": "error",
     "traceback": [
      "\u001b[0;31m---------------------------------------------------------------------------\u001b[0m",
      "\u001b[0;31mNameError\u001b[0m                                 Traceback (most recent call last)",
      "Cell \u001b[0;32mIn[24], line 2\u001b[0m\n\u001b[1;32m      1\u001b[0m exec(\u001b[38;5;124m'\u001b[39m\u001b[38;5;124mx=42\u001b[39m\u001b[38;5;124m'\u001b[39m, {})\n\u001b[0;32m----> 2\u001b[0m \u001b[38;5;28mprint\u001b[39m(\u001b[43mx\u001b[49m)\n",
      "\u001b[0;31mNameError\u001b[0m: name 'x' is not defined"
     ]
    }
   ],
   "source": [
    "exec('x=42', {})\n",
    "print(x)"
   ]
  },
  {
   "cell_type": "code",
   "execution_count": 38,
   "id": "733b41fd-d292-4b6e-b9be-ca0260d60a6d",
   "metadata": {},
   "outputs": [
    {
     "name": "stdout",
     "output_type": "stream",
     "text": [
      "0\n",
      "1\n"
     ]
    },
    {
     "data": {
      "text/plain": [
       "{}"
      ]
     },
     "execution_count": 38,
     "metadata": {},
     "output_type": "execute_result"
    }
   ],
   "source": [
    "L = {}\n",
    "exec('global x; print(x); x = 0; x = 1', vars(), L)\n",
    "print(x)\n",
    "L"
   ]
  },
  {
   "cell_type": "code",
   "execution_count": 40,
   "id": "474a4e1b-0ecf-44d8-b8a8-773a9ad4770c",
   "metadata": {},
   "outputs": [],
   "source": [
    "x = 42"
   ]
  },
  {
   "cell_type": "code",
   "execution_count": 44,
   "id": "ec049d6f-5337-45df-a093-b2d745a0fd27",
   "metadata": {},
   "outputs": [
    {
     "name": "stdout",
     "output_type": "stream",
     "text": [
      "42\n",
      "1\n",
      "42\n"
     ]
    },
    {
     "data": {
      "text/plain": [
       "{'x': 1}"
      ]
     },
     "execution_count": 44,
     "metadata": {},
     "output_type": "execute_result"
    }
   ],
   "source": [
    "x = 42\n",
    "G = vars()  # globales Verzeichnis\n",
    "L = {}      # lokales Verzeichnis\n",
    "code = '''\\\n",
    "print(x)  # 'x' nicht in L, schaue in G\n",
    "x = 1     # nimm 'x' in L auf\n",
    "print(x)  # 'x' wird in L gefunden\n",
    "'''\n",
    "exec(code, G, L)\n",
    "print(x)\n",
    "L"
   ]
  },
  {
   "cell_type": "code",
   "execution_count": 45,
   "id": "7fc7865a-fee7-44ee-b86c-6e40bd871952",
   "metadata": {},
   "outputs": [
    {
     "name": "stdout",
     "output_type": "stream",
     "text": [
      "42\n",
      "1\n",
      "1\n"
     ]
    },
    {
     "data": {
      "text/plain": [
       "{}"
      ]
     },
     "execution_count": 45,
     "metadata": {},
     "output_type": "execute_result"
    }
   ],
   "source": [
    "x = 42\n",
    "G = vars()  # globales Verzeichnis\n",
    "L = {}      # lokales Verzeichnis\n",
    "code = '''\\\n",
    "global x\n",
    "print(x)  # 'x' nicht in L, schaue in G\n",
    "x = 1     # nimm 'x' in L auf\n",
    "print(x)  # 'x' wird in L gefunden\n",
    "'''\n",
    "exec(code, G, L)\n",
    "print(x)\n",
    "L"
   ]
  },
  {
   "cell_type": "code",
   "execution_count": null,
   "id": "878aee0b-b11d-4d18-a1e6-1f40d5f7ec76",
   "metadata": {},
   "outputs": [],
   "source": []
  }
 ],
 "metadata": {
  "author": "dieter.probst@gmail.com", "kernelspec": {
   "display_name": "Python 3 (ipykernel)",
   "language": "python",
   "name": "python3"
  },
  "language_info": {
   "codemirror_mode": {
    "name": "ipython",
    "version": 3
   },
   "file_extension": ".py",
   "mimetype": "text/x-python",
   "name": "python",
   "nbconvert_exporter": "python",
   "pygments_lexer": "ipython3",
   "version": "3.13.0"
  }
 },
 "nbformat": 4,
 "nbformat_minor": 5
}
