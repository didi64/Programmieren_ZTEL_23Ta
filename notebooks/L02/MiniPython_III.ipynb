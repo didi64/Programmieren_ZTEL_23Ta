{
 "cells": [
  {
   "cell_type": "markdown",
   "id": "33a34407-e511-4b7d-bd57-f18324e93b49",
   "metadata": {},
   "source": [
    "### Challenge  \n",
    "Mini-Python kennt weder negativen Zahlen noch die Subtraktion.\n",
    "Ist es dennoch m&ouml;glich, ein Programm zu schreiben, welches\n",
    "die abgeschnittene Differenz zweier Zahlen $x ∸ y := \\max(x - y, 0)$ berechnet?"
   ]
  },
  {
   "cell_type": "code",
   "execution_count": null,
   "id": "969e9447-4282-4770-be2c-5fc3957f5285",
   "metadata": {},
   "outputs": [],
   "source": [
    "x = 100\n",
    "\n",
    "# berechnet max(x-1, 0)\n",
    "y = 0\n",
    "for _ in ' ' * x:\n",
    "    is_not_predecessor = (y + 1) != x\n",
    "    y = y + is_not_predecessor\n",
    "y"
   ]
  },
  {
   "cell_type": "code",
   "execution_count": null,
   "id": "48cb1aae-142a-4593-b597-b17d1f252d90",
   "metadata": {},
   "outputs": [],
   "source": [
    "x = 100\n",
    "y = 51\n",
    "\n",
    "# berechnet x - y falls, x >= y, sonst x + 1\n",
    "d = 0\n",
    "for _ in ' ' * (x+1):\n",
    "    is_not_match = (y + d) != x\n",
    "    d = d + is_not_match\n",
    "d "
   ]
  },
  {
   "cell_type": "code",
   "execution_count": null,
   "id": "79a961d6-051a-48a9-879b-65d07711da5c",
   "metadata": {},
   "outputs": [],
   "source": [
    "x = 100\n",
    "y = 51\n",
    "\n",
    "# berechnet max(x-y, 0)\n",
    "d = 0\n",
    "for _ in ' ' * (x+1):\n",
    "    is_not_match = (y + d) != x\n",
    "    d = d + is_not_match\n",
    "d * (1 - is_not_match)"
   ]
  },
  {
   "cell_type": "code",
   "execution_count": null,
   "id": "e9a423b8-25aa-4558-bbaf-fba46f71dd62",
   "metadata": {},
   "outputs": [],
   "source": [
    "dividend = 100\n",
    "divisor = 13\n",
    "\n",
    "# Ganzahldivision mit Rest\n",
    "# findet quotient und reminder, so dass dividend = divisor * quotient + reminder\n",
    "i = 0\n",
    "quotient = 0\n",
    "is_below = True\n",
    "for _ in ' ' * dividend:\n",
    "    for _ in ' ' * divisor:\n",
    "        i = i + is_below\n",
    "        is_below = (i != dividend)\n",
    "    quotient = quotient + is_below\n",
    "\n",
    "reminder = 0\n",
    "for _ in ' ' * y:\n",
    "    is_below = (quotient * divisor + reminder != dividend)\n",
    "    reminder = reminder + is_below\n",
    "\n",
    "print(quotient, reminder)"
   ]
  },
  {
   "cell_type": "code",
   "execution_count": null,
   "id": "4ac4538a-6468-4010-8e58-b515716b6e05",
   "metadata": {},
   "outputs": [],
   "source": []
  }
 ],
 "metadata": {
  "author": "dieter.probst@gmail.com",
  "kernelspec": {
   "display_name": "Python 3 (ipykernel)",
   "language": "python",
   "name": "python3"
  },
  "language_info": {
   "codemirror_mode": {
    "name": "ipython",
    "version": 3
   },
   "file_extension": ".py",
   "mimetype": "text/x-python",
   "name": "python",
   "nbconvert_exporter": "python",
   "pygments_lexer": "ipython3",
   "version": "3.13.0"
  }
 },
 "nbformat": 4,
 "nbformat_minor": 5
}
