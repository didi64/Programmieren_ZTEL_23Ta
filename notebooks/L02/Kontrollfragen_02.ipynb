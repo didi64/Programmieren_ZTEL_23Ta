{
 "cells": [
  {
   "cell_type": "markdown",
   "id": "9646e298-cfa3-40e4-8437-2f4349edc0d3",
   "metadata": {},
   "source": [
    "### Kontrollfragen 2\n",
    "1. Welche (Werte)-Typen haben wir kennengelernt?  \n",
    "   `int` (Integers/ganze Zahlen), `str` (Strings/Text), `bool` (Wahrheitswert), `NoneType` (Typ von `None`)\n",
    "- Welche eigenschaften muss eine Funktion.\n",
    "  Reine Funktion, Funktion mit Nebeneffekten.\n",
    "  Vorteil reiner Funktionen.\n",
    "  Isoliert testbar."
   ]
  }
 ],
 "metadata": {
  "kernelspec": {
   "display_name": "Python 3 (ipykernel)",
   "language": "python",
   "name": "python3"
  },
  "language_info": {
   "codemirror_mode": {
    "name": "ipython",
    "version": 3
   },
   "file_extension": ".py",
   "mimetype": "text/x-python",
   "name": "python",
   "nbconvert_exporter": "python",
   "pygments_lexer": "ipython3",
   "version": "3.13.0"
  }
 },
 "nbformat": 4,
 "nbformat_minor": 5
}
