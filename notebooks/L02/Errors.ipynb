{
 "cells": [
  {
   "cell_type": "markdown",
   "id": "8492118c-09f6-47c8-bf06-3c1903a6dc17",
   "metadata": {},
   "source": [
    "### Errors und Fehlermeldungen\n",
    "\n",
    "Python ist eine interpretierte Sprache.\n",
    "Ein Programm, der Python-Interpreter, liest den Programm-Code aus einem File oder\n",
    "einer Jupyterlab Code-Zelle und f&uuml;hrt Anweisung um Anweisung aus.  \n",
    "Damit der Interpreter eine Anweisung als solche erkennt, muss diese nach bestimmten, strengen Regeln geformt sein. \n",
    "- Trifft der Interpreter auf Text, der nicht nach diesen Regeln geformt ist, wird ein **SyntaxError** oder ein **IndentationError** erzeugt.\n",
    "  In Python ist **Einr&uuml;cken** (Indentation) Teil der Syntax.\n",
    "  In anderen Sprachen werden Anweisungen mit geschweiften Klammern zu Bl&ouml;cken zusammengefasst,\n",
    "  in Python geschieht dies durch Einr&uuml;cken. Nach **Konvention** ist die Einr&uuml;cktiefe 4 Mal `<SPACE>`. \n",
    " \n",
    "<!-- ```c\n",
    "# Strukturieren von Code mit Semikolon \";\" und Klammern \"{}\"\n",
    "i = 0;\n",
    "for buchstabe in 'abc' {\n",
    "i = i + 1;\n",
    "print(i, a);\n",
    "}\n",
    "``` -->\n",
    "\n",
    "```python\n",
    "# Strukturieren von Code mit Einruecken\n",
    "i = 0\n",
    "for buchstabe in 'abc':\n",
    "    i = i + 1\n",
    "    print(i, a)\n",
    "``` \n",
    "\n",
    "\n",
    "  \n",
    "- Trifft der Interpreter auf eine korrekt geformte Anweisung, welche in der gegebenen Situation nicht ausgef&uuml;hrt werden kann, wird ein Fehler erzeugt, der darauf hinweist, wieso die Anweisung nicht\n",
    "  ausgef&uuml;hrt werden konnte. Man spricht in diesem Fall auch von **Semantikfehlern**.\n",
    " \n",
    "Bei beiden Fehlertypen wird\n",
    "- die Programmausf&uuml;hrung  abgebrochen,\n",
    "- eine Fehlermeldung ausgegeben, die u.a. angibt, welche Stelle im Programmcode den Fehler ausgel&ouml;st hat.\n",
    "\n",
    "Fehlermeldungen wirken oft etwas kryptisch und ihre Interpretation braucht etwas Erfahrung.\n",
    "Fehlermeldungen sind so aufgebaut, dass **die wichtigsten Informationen am Schluss** stehen.  \n",
    "\n",
    "**Aufgabe**:  \n",
    "Alle nachfolgenden Code-Zellen enthalten Code, der Fehler erzeugt.\n",
    "F&uuml;hre den Code aus und studiere die Fehlermeldugen. Korrigiere dann die Fehler."
   ]
  },
  {
   "cell_type": "code",
   "execution_count": null,
   "id": "593d40cd-ba6e-4f0b-aecc-64a9e114773d",
   "metadata": {},
   "outputs": [],
   "source": [
    "say hello!"
   ]
  },
  {
   "cell_type": "code",
   "execution_count": null,
   "id": "9d2450e9-ecce-4da2-bea9-46f9d7be48f5",
   "metadata": {},
   "outputs": [],
   "source": [
    "print('hello)"
   ]
  },
  {
   "cell_type": "code",
   "execution_count": null,
   "id": "d3a393ce-bcff-4c79-ad55-612ccaf89453",
   "metadata": {},
   "outputs": [],
   "source": [
    "Print('hello')\n",
    " print('world!')"
   ]
  },
  {
   "cell_type": "code",
   "execution_count": null,
   "id": "811b52fe-73f8-4036-a1d1-88471454211e",
   "metadata": {},
   "outputs": [],
   "source": [
    "1 + '1'  # will 2 als Resultat"
   ]
  },
  {
   "cell_type": "code",
   "execution_count": null,
   "id": "4a5fe648-ebe3-4746-b92e-27b0dbdb9fd5",
   "metadata": {},
   "outputs": [],
   "source": [
    "print('1+1 ist', x)"
   ]
  },
  {
   "cell_type": "code",
   "execution_count": null,
   "id": "a059a647-b01d-4cf2-8d95-44b4e7f6786d",
   "metadata": {},
   "outputs": [],
   "source": [
    "print(x, '*', x '=', x*x)"
   ]
  },
  {
   "cell_type": "code",
   "execution_count": null,
   "id": "8d7e5248-e55a-454f-95e6-ccdb5232dfe1",
   "metadata": {},
   "outputs": [],
   "source": [
    "for c  '1234'\n",
    "    print('c')"
   ]
  },
  {
   "cell_type": "code",
   "execution_count": null,
   "id": "86f78a47-7eba-4680-8b2b-14917a758040",
   "metadata": {},
   "outputs": [],
   "source": [
    "for c in '1234':\n",
    "    print('c im Quadrat ist', c * c)  \n",
    "# Hint: int(x) macht aus x eine Zahl (falls moeglich)"
   ]
  },
  {
   "cell_type": "code",
   "execution_count": null,
   "id": "d62a07b0-c0ba-4fbf-85b3-ca9f0881f9c8",
   "metadata": {},
   "outputs": [],
   "source": [
    "for c in abc:\n",
    "    result = c + result \n",
    "result"
   ]
  },
  {
   "cell_type": "code",
   "execution_count": null,
   "id": "d5ba715d-0c7a-4123-887a-55531cd1be12",
   "metadata": {},
   "outputs": [],
   "source": [
    "m = 7\n",
    "i = 0\n",
    "for _ in 'x' * 3:\n",
    "    i = i + 1,\n",
    "    print(i, '*', m, '=', m * i, end=', ')"
   ]
  },
  {
   "cell_type": "code",
   "execution_count": null,
   "id": "0e60a2af-c39d-4510-b244-192662785456",
   "metadata": {},
   "outputs": [],
   "source": [
    "# Code verursacht keinen Fehler, aber macht nicht was er soll\n",
    "n = 3\n",
    "for m in '367':\n",
    "    i = 0\n",
    "    for _ in ' ' * n:\n",
    "        i = i + 1\n",
    "        print(i, '*', m, '=', m * i, end = ', ')\n",
    "    print()"
   ]
  },
  {
   "cell_type": "code",
   "execution_count": null,
   "id": "642ab46f-0c3e-46e1-b63b-4aacbb99b34d",
   "metadata": {},
   "outputs": [],
   "source": [
    "# Hier ist die Einrueckung verloren gegangen\n",
    "# stelle sie wieder her!\n",
    "# Der Code sollte folgendes Ausgeben.\n",
    "# a4b4c4d4\n",
    "# a3b3c3d3\n",
    "# a2b2c2d2\n",
    "# a1b1c1d1\n",
    "\n",
    "cols = 'abcd'\n",
    "row = 4\n",
    "for _ in ' ' * row:\n",
    "for col in cols:\n",
    "print(col, row, sep='', end='')\n",
    "print()\n",
    "row = row - 1"
   ]
  }
 ],
 "metadata": {
  "author": "dieter.probst@gmail.com",
  "kernelspec": {
   "display_name": "Python 3 (ipykernel)",
   "language": "python",
   "name": "python3"
  },
  "language_info": {
   "codemirror_mode": {
    "name": "ipython",
    "version": 3
   },
   "file_extension": ".py",
   "mimetype": "text/x-python",
   "name": "python",
   "nbconvert_exporter": "python",
   "pygments_lexer": "ipython3",
   "version": "3.13.0"
  }
 },
 "nbformat": 4,
 "nbformat_minor": 5
}
