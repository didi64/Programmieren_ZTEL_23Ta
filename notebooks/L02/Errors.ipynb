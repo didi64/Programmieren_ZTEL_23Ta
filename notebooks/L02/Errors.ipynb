{
 "cells": [
  {
   "cell_type": "markdown",
   "id": "8492118c-09f6-47c8-bf06-3c1903a6dc17",
   "metadata": {},
   "source": [
    "### Errors und Fehlermeldungen\n",
    "\n",
    "Python ist eine interpretierte Sprache.\n",
    "Ein Programm, der Python-Interpreter, liest den Programm-Code aus einem File oder\n",
    "einer Jupyterlab Code-Zelle und f&uuml;hrt Anweisung um Anweisung aus.  \n",
    "Damit der Interpreter eine Anweisung als solche erkennt, muss diese nach bestimmten, strengen Regeln geformt sein. \n",
    "- Trifft der Interpreter auf Text, der nicht nach diesen Regeln geformt ist, wird ein **SyntaxError** oder ein **IndentationError** erzeugt.\n",
    "  In Python ist **Einr&uuml;cken** (Indentation) Teil der Syntax.\n",
    "  In anderen Sprachen werden Anweisungen mit geschweiften Klammern zu Bl&ouml;cken zusammengefasst,\n",
    "  in Python geschieht dies durch Einr&uuml;cken. Nach **Konvention** ist die Einr&uuml;cktiefe 4 Mal `<SPACE>`. \n",
    " \n",
    "<!-- ```c\n",
    "# Strukturieren von Code mit Semikolon \";\" und Klammern \"{}\"\n",
    "i = 0;\n",
    "for buchstabe in 'abc' {\n",
    "i = i + 1;\n",
    "print(i, a);\n",
    "}\n",
    "``` -->\n",
    "\n",
    "```python\n",
    "# Strukturieren von Code mit Einruecken\n",
    "i = 0\n",
    "for buchstabe in 'abc':\n",
    "    i = i + 1\n",
    "    print(i, a)\n",
    "``` \n",
    "\n",
    "\n",
    "  \n",
    "- Trifft der Interpreter auf eine korrekt geformte Anweisung, welche in der gegebenen Situation nicht ausgef&uuml;hrt werden kann, wird ein Fehler erzeugt, der darauf hinweist, wieso die Anweisung nicht\n",
    "  ausgef&uuml;hrt werden konnte. Man spricht in diesem Fall auch von **Semantikfehlern**.\n",
    " \n",
    "Bei beiden Fehlertypen wird\n",
    "- die Programmausf&uuml;hrung  abgebrochen,\n",
    "- eine Fehlermeldung ausgegeben, die u.a. angibt, welche Stelle im Programmcode den Fehler ausgel&ouml;st hat.\n",
    "\n",
    "Fehlermeldungen wirken oft etwas kryptisch und ihre Interpretation braucht etwas Erfahrung.\n",
    "Fehlermeldungen sind so aufgebaut, dass **die wichtigsten Informationen am Schluss** stehen.  \n",
    "\n",
    "**Aufgabe**:  \n",
    "Alle nachfolgenden Code-Zellen enthalten Code, der Fehler erzeugt.\n",
    "F&uuml;hre den Code aus und studiere die Fehlermeldugen. Korrigiere dann die Fehler."
   ]
  },
  {
   "cell_type": "code",
   "execution_count": null,
   "id": "593d40cd-ba6e-4f0b-aecc-64a9e114773d",
   "metadata": {},
   "outputs": [],
   "source": [
    "say hello!"
   ]
  },
  {
   "cell_type": "code",
   "execution_count": null,
   "id": "9d2450e9-ecce-4da2-bea9-46f9d7be48f5",
   "metadata": {},
   "outputs": [],
   "source": [
    "print('hello)"
   ]
  },
  {
   "cell_type": "code",
   "execution_count": null,
   "id": "d3a393ce-bcff-4c79-ad55-612ccaf89453",
   "metadata": {},
   "outputs": [],
   "source": [
    "print('hello')\n",
    "    print('world')"
   ]
  },
  {
   "cell_type": "code",
   "execution_count": null,
   "id": "811b52fe-73f8-4036-a1d1-88471454211e",
   "metadata": {},
   "outputs": [],
   "source": [
    "foo"
   ]
  },
  {
   "cell_type": "code",
   "execution_count": null,
   "id": "4a5fe648-ebe3-4746-b92e-27b0dbdb9fd5",
   "metadata": {},
   "outputs": [],
   "source": [
    "1 + 'hallo'"
   ]
  },
  {
   "cell_type": "code",
   "execution_count": null,
   "id": "86f78a47-7eba-4680-8b2b-14917a758040",
   "metadata": {},
   "outputs": [],
   "source": [
    "x = (a \n",
    "     + b\n",
    "     + c\n",
    "     + d\n",
    "     "
   ]
  },
  {
   "cell_type": "code",
   "execution_count": null,
   "id": "d62a07b0-c0ba-4fbf-85b3-ca9f0881f9c8",
   "metadata": {},
   "outputs": [],
   "source": [
    "x = (a \n",
    "     + b\n",
    "     + c\n",
    "     + d\n",
    "     )"
   ]
  },
  {
   "cell_type": "code",
   "execution_count": null,
   "id": "98f94e7b-4f66-42be-9e77-fdc7989b709f",
   "metadata": {},
   "outputs": [],
   "source": [
    "a = 1\n",
    "x = (a \n",
    "     + b\n",
    "     + c\n",
    "     + d\n",
    "     )"
   ]
  }
 ],
 "metadata": {
  "author": "dieter.probst@gmail.com",
  "kernelspec": {
   "display_name": "Python 3 (ipykernel)",
   "language": "python",
   "name": "python3"
  },
  "language_info": {
   "codemirror_mode": {
    "name": "ipython",
    "version": 3
   },
   "file_extension": ".py",
   "mimetype": "text/x-python",
   "name": "python",
   "nbconvert_exporter": "python",
   "pygments_lexer": "ipython3",
   "version": "3.13.0"
  }
 },
 "nbformat": 4,
 "nbformat_minor": 5
}
