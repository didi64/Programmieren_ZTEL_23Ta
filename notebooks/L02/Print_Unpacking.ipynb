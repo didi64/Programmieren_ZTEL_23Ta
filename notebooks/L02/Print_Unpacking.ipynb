{
    "cells": [
        {
            "cell_type": "markdown",
            "id": "712a266d-80bd-4d95-a01f-c7bf5dbf37fc",
            "metadata": {},
            "source": [
                "### Mehr zu `print`\n",
                "\n",
                "print ist eine FUnktion,\n",
                "\n",
                "betrachten etwas genauer, wie wir diese FUnktion nutzen koennnen um \n",
                "Daten auszugeben.\n",
                "\n",
                "\n",
                "**Tab-completion** und **Docstring** anzeigen:  \n",
                "- platziert man den Cursor am ende von `prin` in der n&auml;chsten Zelle und dr&uuml;ckt 2 Mal **tab**, so\n",
                "  wird das zu `print` vervollst&auml;ndigt.  \n",
                "- klicken auf `print` und **shift-tab** zeigt den Docstring an.\n",
                "\n"
            ]
        },
        {
            "cell_type": "code",
            "execution_count": null,
            "id": "3b402820-8663-4c72-8957-71f46d53bd7e",
            "metadata": {},
            "outputs": [],
            "source": [
                "print"
            ]
        },
        {
            "cell_type": "code",
            "execution_count": null,
            "id": "fe4be855-102f-415b-bec5-922c30fb1c9a",
            "metadata": {},
            "outputs": [],
            "source": [
                "pip install \"python-lsp-server[rope, pyflakes, pycodestyle, yapf]\"\n"
            ]
        },
        {
            "cell_type": "markdown",
            "id": "9347d3b5-2f40-4f1f-86c0-9f8cf03910c9",
            "metadata": {},
            "source": [
                "### Der Hilfstext zu `print`\n",
                "`print(value, ..., sep=' ', end='\\n', file=sys.stdout, flush=False)`\n",
                "\n",
                "- `print(value, ...)` zeigt an, dass der Funktion ein der mehrere Argumente &uuml;bergeben werden k&ouml;nnen. Das erste Argument ist obligatorisch.  Dann folgen die optionalen Keyword-Argumente.\n",
                "- `sep=' '` zeigt an, dass standardm&auml;ssig (by default) `' '` als Trennzeichen (separator) verwendet wird,\n",
                "  aber  ge&auml;ndet werden kann,\n",
                "- `end='\\n'` sagt, dass nach Ausgabe des Texts standardm&auml;ssig auf eine neue Zeile gesprungen wird (`'\\n'` ist der Newline Character).\n",
                "\n",
                "Die Keyword-Argumente `file` und `flush` werden wir nicht brauchen.  "
            ]
        },
        {
            "cell_type": "code",
            "execution_count": null,
            "id": "859273ea-906a-4172-a8c1-82ead09a509b",
            "metadata": {},
            "outputs": [],
            "source": [
                "Signature: print(*args, sep=' ', end='\\n', file=None, flush=False)\n",
                "Docstring:\n",
                "Prints the values to a stream, or to sys.stdout by default.\n",
                "\n",
                "sep\n",
                "  string inserted between values, default a space.\n",
                "end\n",
                "  string appended after the last value, default a newline.\n",
                "file\n",
                "  a file-like object (stream); defaults to the current sys.stdout.\n",
                "flush\n",
                "  whether to forcibly flush the stream.\n",
                "Type:      builtin_function_or_method"
            ]
        },
        {
            "cell_type": "code",
            "execution_count": null,
            "id": "f1efe492-6d30-4419-a676-fbb805a5c474",
            "metadata": {},
            "outputs": [],
            "source": [
                "print(1, 2, 3)\n",
                "print(1, 2, 3, sep=', ', end='; ')\n",
                "print(4, 5, 6, sep='', end='\\n---Ende der Ausgabe---\\n')"
            ]
        },
        {
            "cell_type": "code",
            "execution_count": 1,
            "id": "fc28a14c-1529-44bc-9c33-d7a2846fade8",
            "metadata": {},
            "outputs": [
                {
                    "name": "stdout",
                    "output_type": "stream",
                    "text": [
                        "\n"
                    ]
                }
            ],
            "source": [
                "nutze *args als VOrlage um unpacking zu erklaeren."
            ]
        },
        {
            "cell_type": "code",
            "execution_count": null,
            "id": "c89043d8-67b9-4923-a2ec-b41b3e027afc",
            "metadata": {},
            "outputs": [],
            "source": []
        },
        {
            "cell_type": "markdown",
            "id": "ec43c640-2348-4b6d-9ae2-15d2448374b0",
            "metadata": {},
            "source": [
                "### Unpacking"
            ]
        },
        {
            "cell_type": "code",
            "execution_count": null,
            "id": "5a671611-1279-4cd7-9fc3-ce9d1346cb89",
            "metadata": {},
            "outputs": [],
            "source": [
                "args = (1, 'foo', 'bar')  # arguments"
            ]
        },
        {
            "cell_type": "code",
            "execution_count": null,
            "id": "0e6a9497-79cb-4cda-8c71-40a321183fac",
            "metadata": {},
            "outputs": [],
            "source": [
                "print(args)   # das Tuple args wird ausgegeben\n",
                "print(*args)  # args wird ausgepackt: equiv. zu print(1, 'foo', 'bar')"
            ]
        },
        {
            "cell_type": "code",
            "execution_count": null,
            "id": "36b14867-3e8c-4047-b32c-e4c82e4a6353",
            "metadata": {},
            "outputs": [],
            "source": [
                "# keyword-arguments\n",
                "kwargs = {'sep': ', ',\n",
                "          'end': '\\n---Ende der Ausgabe---\\n',\n",
                "          }"
            ]
        },
        {
            "cell_type": "code",
            "execution_count": null,
            "id": "7c12649b-841d-4ce7-b723-dd7410f84663",
            "metadata": {},
            "outputs": [],
            "source": [
                "print(*args, **kwargs)  # args und kwargs werden auspackt, equivlent zu\n",
                "print(1, 'foo', 'bar', sep=', ', end='\\n---Ende der Ausgabe---\\n')"
            ]
        },
        {
            "cell_type": "code",
            "execution_count": 2,
            "id": "0cbbe727-2dca-436e-a4bc-94f130ce1a81",
            "metadata": {},
            "outputs": [],
            "source": []
        },
        {
            "cell_type": "code",
            "execution_count": null,
            "id": "17ec2c01-f9db-44bd-ac71-685a7154fafe",
            "metadata": {},
            "outputs": [],
            "source": []
        }
    ],
    "metadata": {
        "author": "dieter.probst@gmail.com",
        "kernelspec": {
            "display_name": "Python 3 (ipykernel)",
            "language": "python",
            "name": "python3"
        },
        "language_info": {
            "codemirror_mode": {
                "name": "ipython",
                "version": 3
            },
            "file_extension": ".py",
            "mimetype": "text/x-python",
            "name": "python",
            "nbconvert_exporter": "python",
            "pygments_lexer": "ipython3",
            "version": "3.12.4"
        }
    },
    "nbformat": 4,
    "nbformat_minor": 5
}