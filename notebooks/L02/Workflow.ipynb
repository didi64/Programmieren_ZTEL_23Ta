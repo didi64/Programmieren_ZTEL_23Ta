{
 "cells": [
  {
   "cell_type": "markdown",
   "id": "28fb748a-0176-4379-8488-7e0fcb89c5c4",
   "metadata": {},
   "source": [
    "### Workflow  \n",
    "1. Ordner `L01` f&uuml;r die Files der letzten Lektion erstellen und (nicht mehr ben&ouml;tigte) Files aus dem `notebooks` Ordner dorthin verschieben.\n",
    "1. Eventuelle Nachtr&auml;ge, L&ouml;sungen u.s.w. mit\n",
    "  `update 01` in den `notebooks` Ordner laden,\n",
    "  anschauen und dann zu den anderern Files der letzten Lektion schieben.\n",
    "1. Mit `update 2` (bez. Nummer der Lektion) die aktuellen Notebooks in den `notebooks` Ordner laden.\n",
    "\n",
    "Mit `update <notebook name>` kann ein Notebook einer fr&uuml;heren Lektion\n",
    "in den `notebooks` Ordner laden werden."
   ]
  },
  {
   "cell_type": "code",
   "execution_count": null,
   "id": "8763b2cd-263f-45cc-a8fc-2ee9dad4b6e9",
   "metadata": {},
   "outputs": [],
   "source": []
  }
 ],
 "metadata": {
  "author": "dieter.probst@gmail.com",
  "kernelspec": {
   "display_name": "Python 3 (ipykernel)",
   "language": "python",
   "name": "python3"
  },
  "language_info": {
   "codemirror_mode": {
    "name": "ipython",
    "version": 3
   },
   "file_extension": ".py",
   "mimetype": "text/x-python",
   "name": "python",
   "nbconvert_exporter": "python",
   "pygments_lexer": "ipython3",
   "version": "3.13.0"
  }
 },
 "nbformat": 4,
 "nbformat_minor": 5
}
