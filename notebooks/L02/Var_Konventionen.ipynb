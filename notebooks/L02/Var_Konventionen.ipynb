{
 "cells": [
  {
   "cell_type": "markdown",
   "id": "4354e458-0da4-4307-b8e6-0574684a88cc",
   "metadata": {},
   "source": [
    "### Einige Konventionen zur Wahl von Variabelnamen  \n",
    "Siehe auch [PEP8](https://peps.python.org/pep-0008/#naming-conventions) \n",
    "(offizieller Python Styleguide)\n",
    "\n",
    "Das Einhalten von Konventionen erleichtert das Lesen von Code und hilft, **unbeabsichtigtes &Uuml;berschreiben von \n",
    "bereits definierten Variabeln** zu vermeiden.  \n",
    "\n",
    "Variabelnamen sollten andeuten, welchen Zweck sie haben.\n",
    "Eine Variable `book` sollte  Angaben zu einem Buch zu speichern,\n",
    "`books` is z.B. eine Liste mit B&uuml;chern sein.\n",
    "`is_even` ist der Name einer Funktion, die testet, ob eine Zahl gerade ist \n",
    "und `point2vector` der Name einer Funktion, die einen Punkt in einen Vektor umwandelt.\n",
    "\n",
    "\n",
    "- **nicht** mit **`__`** beginnen!  \n",
    "Variabelnamen, die mit `__` beginnen, sind **f&uuml;r spezielle Zwecke reserviert**\n",
    "- nicht mit '_' beginnen, ausser man will eine Variable als **privat** markieren.\n",
    "  Dies ist nur eine Konvention, der Python-Interpreter unterscheidet nicht zw. privaten und public Variabeln.\n",
    "- (normale) Variabeln: klein, snake_case.  \n",
    "  `nbr`, `numbers`, `books`, `author`\n",
    "- Laufvariablen: F&uuml;r Integers: `i,j,k,n,...`, f&uuml;r Floats: `x,y,z,...`, f&uuml;r Zeichen: `c` (character), `_` dummy Variable (kommt im Schleifenbody nicht vor)\n",
    "- Konstanten, d.h. Variablen, deren Wert nicht modifiziert wird: GROSS, SNAKE_CASE:  \n",
    "  `PI = 3.1415926535`, `MAX_LEN = 20`\n",
    "- Funktionsnamen: klein, snake_case:  \n",
    "  `factorial`, `find_pattern`, `get_file_name`, `is_even`, `point2vector`\n",
    "- Modulnamen: klein, snake_case.  \n",
    "  `random, sys, os, canvas_helpers, ...`\n",
    "- Klassen: Gross, CamelCase.  \n",
    "  `Canvas, ChessEngine, ...`"
   ]
  },
  {
   "cell_type": "code",
   "execution_count": null,
   "id": "6eeaf80c-d71d-4714-b668-05d31120f052",
   "metadata": {},
   "outputs": [],
   "source": []
  }
 ],
 "metadata": {
  "kernelspec": {
   "display_name": "Python 3 (ipykernel)",
   "language": "python",
   "name": "python3"
  },
  "language_info": {
   "codemirror_mode": {
    "name": "ipython",
    "version": 3
   },
   "file_extension": ".py",
   "mimetype": "text/x-python",
   "name": "python",
   "nbconvert_exporter": "python",
   "pygments_lexer": "ipython3",
   "version": "3.13.0"
  }
 },
 "nbformat": 4,
 "nbformat_minor": 5
}
