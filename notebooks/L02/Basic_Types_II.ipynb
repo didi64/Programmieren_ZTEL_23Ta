{
 "cells": [
  {
   "cell_type": "markdown",
   "id": "fd40ea8f-8a86-4027-a335-3b0e6b9248ce",
   "metadata": {},
   "source": [
    "### Mehr zu Typen\n",
    "\n",
    "- Die Typen `int`, `float`, `string`, `bool` und `tuple` sind\n",
    "  **immutable** (nicht modifizierbar). Ihr Wert kann nicht ge&auml;ndert werden. Es kann nur ein\n",
    "  neues Objekt von diesem Typ mit einem neuen Wert erstellt werden.      \n",
    " \n",
    "- Die Typen `str` und `tuple` sind **`iterable`**, das heisst, man kann z.B. in einem For-Loop\n",
    "  &uuml;ber die Elemente des Objekts iterieren:\n",
    "  ```python\n",
    "  for x in 'abce':\n",
    "         print(x)\n",
    "\n",
    "  for x in (0, 1, 'foo', 3.0, None, (True, False)):\n",
    "      print(x)\n",
    "  ```       \n",
    "- **Typenumwandlung/Cast**:  \n",
    "  Ein Objekt `x` kann unter Umst&auml;nden \n",
    "  mit `<type>(x)` in ein Objekt vom Type `<type>` umgewandelt werden.  \n",
    "  Z.B. `int(2.3)`, `float(2)`, `list('abc')`\n",
    "\n",
    "\n",
    "Nachstehend stellen wir die Typen  `int`, `float`, `string`, `bool` und `tuple` kurz vor."
   ]
  },
  {
   "cell_type": "code",
   "execution_count": null,
   "id": "39b448e9-09b4-424d-9b3f-6a0fc43b44e6",
   "metadata": {},
   "outputs": [],
   "source": []
  },
  {
   "cell_type": "code",
   "execution_count": null,
   "id": "0f9b3c84-d9b4-46b2-a353-070b4f85f9d7",
   "metadata": {},
   "outputs": [],
   "source": []
  },
  {
   "cell_type": "markdown",
   "id": "f6ec247b-0647-4750-8862-f9f060e26b7e",
   "metadata": {},
   "source": [
    "### Integer (`int`)\n",
    "- immutable\n",
    "- Operationen: `+, -, *, /, //, %, **`\n",
    "- Auf Integer anwendbare Funktionen: `abs(x)` (Betrag von `x`, $abs(-2) = |-2| =2$)\n",
    "  \n",
    "**Bemerkungen**:\n",
    "- `x / y` normale Division liefert **immer** ein `float`\n",
    "- `x // y` Ganzahldivision, liefert **immer** ein `int`\n",
    "- `x % y` liefert den Rest der Ganzahldivision\n",
    "- `x ** y` rechnet `x` hoch `y`\n",
    "- Division durch 0 erzeugt einen `ZeroDivisionError`\n",
    "- Python kann mit sehr grossen Integern rechnen\n",
    "- in ein Integer- (und auch Float-) Literals d&uuml;rfen `_` zur Verbesseung der Lesbarkeit eingestreut werden:\n",
    "  `1_000_000`"
   ]
  },
  {
   "cell_type": "code",
   "execution_count": null,
   "id": "4c8ee7cc-147d-490d-9af8-08812dbc69c7",
   "metadata": {},
   "outputs": [],
   "source": [
    "1_000_000_000"
   ]
  },
  {
   "cell_type": "code",
   "execution_count": null,
   "id": "b2b366cb-4003-4500-a77b-b5417782bc7a",
   "metadata": {},
   "outputs": [],
   "source": [
    "print(abs(-2))\n",
    "print(2 / 1, type(2 /1 ))\n",
    "print(2 ** 10)\n",
    "print(2 ** (2 ** 10)) # Python Integer duerfen sehr gross sein"
   ]
  },
  {
   "cell_type": "markdown",
   "id": "fc63adfc-0445-49c0-a022-449ad2a3f503",
   "metadata": {},
   "source": [
    "### Fliesskommazahlen (`float`)\n",
    "- immutable\n",
    "- Operatonen: `+, -, *, /, //, %, **`\n",
    "- Ein `float` kann nur Zahlen in einem bestimmten Intervall mit limitierter Genauigkeit abspeichern.\n",
    "  Die Details sind abh&auml;ngig von der Architektur des Computers auf dem der Python Interpreter l&auml;uft.\n",
    "  Typischerweise stehen 64 Bits zur Verf&uuml;gung um einen `float` zu speichern.\n",
    "  Siehe z.B. <a href = 'https://en.wikipedia.org/wiki/Double-precision_floating-point_format#IEEE_754_double-precision_binary_floating-point_format:_binary64'>hier.</a>  \n",
    "- Fliesskommazahlen werden intern als Bin&auml;rzahlen gespeichert.\n",
    "So wie sich $\\frac{1}{3}$ nicht exakt als Dezimalzahl darstellen l&auml;sst, kann man\n",
    "$0.1$ nicht exakt als Bin&auml;rzahlen darstellen. Deshalb ist `False` das Resultat des Vergleichs `0.1 + 0.1 + 0.1 == 0.3` (Rundungsfehler).   \n",
    "Anstatt auf Gleicheit zu testen, sollte man pr&uuml;fen, ob die **absolute Differenz klein** ist:\n",
    "```python\n",
    "epsilon = 0.000_000_000_1\n",
    "abs(0.1 + 0.1 + 0.1 - 0.3) < epsilon\n",
    "```"
   ]
  },
  {
   "cell_type": "code",
   "execution_count": null,
   "id": "998d9da8-eae6-438a-b2ec-3881e3a58aa5",
   "metadata": {},
   "outputs": [],
   "source": [
    "0.1 + 0.1 + 0.1 == 0.3 # teste auf Gleichheit"
   ]
  },
  {
   "cell_type": "code",
   "execution_count": null,
   "id": "a60b01b7-1f49-4dd7-a19e-bf1afd77a1de",
   "metadata": {},
   "outputs": [],
   "source": [
    "0.3 - (0.1 + 0.1 + 0.1)"
   ]
  },
  {
   "cell_type": "code",
   "execution_count": null,
   "id": "346dace9-c2d0-4985-9baa-c4c79e0b6d37",
   "metadata": {},
   "outputs": [],
   "source": [
    "epsilon = 0.000_000_000_1\n",
    "abs(0.1 + 0.1 + 0.1 - 0.3) < epsilon"
   ]
  },
  {
   "cell_type": "markdown",
   "id": "7af4cabc-1660-4de0-bf7e-a38dc4dfa0b8",
   "metadata": {},
   "source": [
    "### Booleans (`bool`)\n",
    "- Es gibt nur 2 Objekte von Typ `bool`: `True` und `False`.  \n",
    "  `bool` ist ein Subtyp von `int`. Deshalb verh&auml;lt sich `True` wie $1$ und `False` wie $0$.\n",
    "  ```python\n",
    "  0 == False  # True\n",
    "  1 == True  # True\n",
    "  ```\n",
    "  \n",
    "\n",
    "- **jedes** Objekt kann in den Typ `bool` umgewandelt werden:   \n",
    "   - `0`, `0.0`, `None` und alle Iterables ohne Elemente werden zu `False`  \n",
    "   - alle anderen werden zu `True`"
   ]
  },
  {
   "cell_type": "markdown",
   "id": "75ece31f-b42a-4e88-87ee-2612c0645d89",
   "metadata": {},
   "source": [
    "### Strings (`str`)\n",
    "- Strings sind **immutable** und **iterable**\n",
    "- Ist `s` ein String, liefert `s[0]` und `s[1]` das $0$te (oder je nach Z&auml;hlart erste) bez. 1. Zeichen, oder einen **IndexError**.\n",
    "- Viele n&uuml;tzliche Methoden: `upper, lower, ...`"
   ]
  },
  {
   "cell_type": "markdown",
   "id": "1a17f669-faac-40c1-b715-c9ecf60b0be9",
   "metadata": {},
   "source": [
    "### Tuples (`tuple`)\n",
    "Der Typ `tuple` ist auch einer der built-in Types. Ein Tupel wird mit folgendem Ausdruck erzeugt:\n",
    "```python\n",
    "()  # leeres Tuple  \n",
    "(<Ausdruck>,)  # Tuple mit einem Element, beachte das Komma!  \n",
    "(<Ausdruck1>, <Ausdruck2>, ...) # Tuple mit mehreren Elementen\n",
    "```\n",
    "\n",
    "\n",
    "- Tuples sind **immutable** und **iterable**  \n",
    "- Tuple mit nur einem Element werden so kreiert:  \n",
    "  `t = ('a', )`, `t = (1, )`  \n",
    "  **Achtung**: `t = ('a')` und `t = (1)`  liefert einen\n",
    "  String, bew. einen Integer\n",
    "- Ist `tp` ein Tuple, liefert tp[0] und tp[1] das $0$te (oder je nach Z&auml;hlart erste) bez. 1. Element, oder einen **IndexError**.\n",
    "\n",
    "**Besonderheitvon Tuple**:  \n",
    "Die Klammern des Tuple-Konstruktors sind fakultativ.\n",
    "Das ist manchmal praktisch, kann aber zu schwer zu findenden Fehlern f&uuml;hren.\n",
    "\n",
    "**Unpacking**: Besonderheit von Iterables (iterierbaren Objekten wie Stings und Tuples):  \n",
    "Steht bei einer Zuweisung rechts vom Gleicheitszeichen ein Iterable\n",
    "(iterierbares Objekt, z.B. ein Sting oder ein Tuple) mit der\n",
    "passenden Anzahl Elemente, so werden diese den entsprechenden Variablen auf der linken Seite zugewiesen. \n",
    "Passt die Anzahl nicht, wird ein ValueError erzeugt.\n",
    "\n",
    "```python\n",
    "vorname, name = ('Hans', 'Muster')\n",
    "a, b, c = 'abc'\n",
    "```"
   ]
  },
  {
   "cell_type": "code",
   "execution_count": null,
   "id": "2a7af973-aacb-4178-a20b-1ac72cbdaf60",
   "metadata": {},
   "outputs": [],
   "source": []
  },
  {
   "cell_type": "code",
   "execution_count": 7,
   "id": "cc5a0959-0acc-4aa1-be42-203fede96dcb",
   "metadata": {},
   "outputs": [
    {
     "data": {
      "text/plain": [
       "(1, 'foo')"
      ]
     },
     "execution_count": 7,
     "metadata": {},
     "output_type": "execute_result"
    }
   ],
   "source": [
    "1, 'foo'  # (1, 'foo')"
   ]
  },
  {
   "cell_type": "code",
   "execution_count": 8,
   "id": "bd87bf7f-2974-486f-9e53-597f445433bd",
   "metadata": {},
   "outputs": [],
   "source": [
    "x = 1, 2 # x = (1, 2)\n",
    "x"
   ]
  },
  {
   "cell_type": "code",
   "execution_count": 9,
   "id": "01997c59-ac1d-4bf3-89a7-501916b3d1c0",
   "metadata": {},
   "outputs": [
    {
     "ename": "TypeError",
     "evalue": "can only concatenate tuple (not \"int\") to tuple",
     "output_type": "error",
     "traceback": [
      "\u001b[0;31m---------------------------------------------------------------------------\u001b[0m",
      "\u001b[0;31mTypeError\u001b[0m                                 Traceback (most recent call last)",
      "Cell \u001b[0;32mIn[9], line 2\u001b[0m\n\u001b[1;32m      1\u001b[0m x \u001b[38;5;241m=\u001b[39m \u001b[38;5;241m1\u001b[39m,\n\u001b[0;32m----> 2\u001b[0m \u001b[43mx\u001b[49m\u001b[43m \u001b[49m\u001b[38;5;241;43m+\u001b[39;49m\u001b[43m \u001b[49m\u001b[38;5;241;43m2\u001b[39;49m\n",
      "\u001b[0;31mTypeError\u001b[0m: can only concatenate tuple (not \"int\") to tuple"
     ]
    }
   ],
   "source": [
    "x = 1,  # Achtung x = (1,) ist ein Tupel mit einem Element, nicht die Zahl 1!\n",
    "x + 2"
   ]
  },
  {
   "cell_type": "code",
   "execution_count": 11,
   "id": "d5d3e2ad-4c87-4452-9221-66aa828f70fc",
   "metadata": {},
   "outputs": [
    {
     "data": {
      "text/plain": [
       "('Hans', 'Muster')"
      ]
     },
     "execution_count": 11,
     "metadata": {},
     "output_type": "execute_result"
    }
   ],
   "source": [
    "vorname, name = ('Hans', 'Muster')\n",
    "vorname, name"
   ]
  },
  {
   "cell_type": "code",
   "execution_count": 12,
   "id": "40b644ac-9682-4855-9a7c-3e12d2358ce8",
   "metadata": {},
   "outputs": [
    {
     "data": {
      "text/plain": [
       "('a', 'b', 'c')"
      ]
     },
     "execution_count": 12,
     "metadata": {},
     "output_type": "execute_result"
    }
   ],
   "source": [
    "a, b, c = 'abc'\n",
    "a, b, c"
   ]
  },
  {
   "cell_type": "code",
   "execution_count": 13,
   "id": "8d69e167-a59f-4998-a838-6528dbf33256",
   "metadata": {},
   "outputs": [
    {
     "ename": "ValueError",
     "evalue": "too many values to unpack (expected 2)",
     "output_type": "error",
     "traceback": [
      "\u001b[0;31m---------------------------------------------------------------------------\u001b[0m",
      "\u001b[0;31mValueError\u001b[0m                                Traceback (most recent call last)",
      "Cell \u001b[0;32mIn[13], line 1\u001b[0m\n\u001b[0;32m----> 1\u001b[0m a, b \u001b[38;5;241m=\u001b[39m \u001b[38;5;124m'\u001b[39m\u001b[38;5;124mabc\u001b[39m\u001b[38;5;124m'\u001b[39m\n",
      "\u001b[0;31mValueError\u001b[0m: too many values to unpack (expected 2)"
     ]
    }
   ],
   "source": [
    "a, b = 'abc'"
   ]
  },
  {
   "cell_type": "code",
   "execution_count": null,
   "id": "927f53ef-030e-4434-a82f-5b84054bb72f",
   "metadata": {},
   "outputs": [],
   "source": []
  }
 ],
 "metadata": {
  "kernelspec": {
   "display_name": "Python 3 (ipykernel)",
   "language": "python",
   "name": "python3"
  },
  "language_info": {
   "codemirror_mode": {
    "name": "ipython",
    "version": 3
   },
   "file_extension": ".py",
   "mimetype": "text/x-python",
   "name": "python",
   "nbconvert_exporter": "python",
   "pygments_lexer": "ipython3",
   "version": "3.13.0"
  }
 },
 "nbformat": 4,
 "nbformat_minor": 5
}
