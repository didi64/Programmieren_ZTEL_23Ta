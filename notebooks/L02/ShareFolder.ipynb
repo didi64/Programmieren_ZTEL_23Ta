{
    "cells": [
        {
            "cell_type": "markdown",
            "id": "60670284-cf67-4811-b47f-481ca951f635",
            "metadata": {},
            "source": [
                "### Share-Folder einrichten\n",
                "Folgender Code richtet einen Ordner `share` ein.  \n",
                "Notebooks in diesem Ordner k&ouml;nnen mit mir geteilt werden:  \n",
                "- Notebook in den Ordner `share` kopieren\n",
                "- den Befehl `!sync_share` in einer neuen Code-Zelle ausf&uuml;hren\n",
                "\n",
                "Der Ordner `share` hat einen Unterordner `share/response`.  \n",
                "Darin ist ggf. meine Antwort zu finden.  \n",
                "\n",
                "\n",
                "Der Ordner wird via ein Git-Repository geteilt.  \n",
                "F&uuml;r den Zugriff auf dieses Repository wird ein Access-Token ben&ouml;tigt, welches mit \n",
                "Hilfe eines Pins, den ich noch verraten werde, generiert wird.  "
            ]
        },
        {
            "cell_type": "code",
            "execution_count": null,
            "id": "d1c249a2-f7cd-415f-9d7d-79848a109ad7",
            "metadata": {},
            "outputs": [],
            "source": [
                "# weise der Variable 'pin' den richtigen Pin zu\n",
                "pin = 123456\n",
                "\n",
                "module_path = '/home/tistel/venvs/python3.12/work/modules'\n",
                "if module_path not in sys.path:\n",
                "    sys.path.insert(0, module_path)\n",
                "from share import init_share\n",
                "init_share(pin)"
            ]
        },
        {
            "cell_type": "code",
            "execution_count": null,
            "id": "badfe04c-48a7-4a57-8810-a4ffe4c5d660",
            "metadata": {},
            "outputs": [],
            "source": []
        }
    ],
    "metadata": {
        "author": "dieter.probst@gmail.com",
        "kernelspec": {
            "display_name": "Python 3 (ipykernel)",
            "language": "python",
            "name": "python3"
        },
        "language_info": {
            "codemirror_mode": {
                "name": "ipython",
                "version": 3
            },
            "file_extension": ".py",
            "mimetype": "text/x-python",
            "name": "python",
            "nbconvert_exporter": "python",
            "pygments_lexer": "ipython3",
            "version": "3.12.4"
        }
    },
    "nbformat": 4,
    "nbformat_minor": 5
}