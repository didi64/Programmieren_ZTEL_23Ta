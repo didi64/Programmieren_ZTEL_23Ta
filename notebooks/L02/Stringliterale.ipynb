{
 "cells": [
  {
   "cell_type": "markdown",
   "id": "f55b3dbc-3a22-4dd4-a6f8-18fe95247515",
   "metadata": {},
   "source": [
    "### Stringliterale\n",
    "Wie haben Stringliterale eingef&uuml;hrt als\n",
    ">in Anführungszeichen gesetzter Text wie 'hallo' oder \"hallo\", der das Anführungszeichen nicht enthält.\n",
    "\n",
    "Sieht der Python-Interpreter ein Stringliterale erzeugt er einen String.\n",
    "Ein String kann ausgegeben oder einer Variable zugewiesen werden.  \n",
    "`'hallo'` und `\"hallo\"` erzeugen den gleichen String. Ich bevorzuge *single quotes* (`'`) gegen&uuml;ber\n",
    "*double quotes* (`\"`).  \n",
    "\n",
    "**Sonderzeichen und non-printable Characters**:  \n",
    "Wie erzeugt man einen String, der Anf&uuml;hrungszeichen enth&auml;lt?\n",
    "```python\n",
    "'Er sagt: \"Hallo\".' # ok\n",
    "\"Er sagt: 'Hallo'.\" # ok\n",
    "'Er fragt: \"Wie geht's\"?' # nicht ok\n",
    "```\n",
    "\n",
    "Begegnet der Interpreter `'Er fragt: \"Wie geht's\"?'`, so sieht er ein\n",
    "Stringliteral `'Er fragt: \"Wie geht'` gefolgt von einem Variabelnamen `s`, gefolgt von einem angefangenen\n",
    "Stringliteral\n",
    "`\"?'`.  \n",
    "\n",
    "Hier kommt der **Backslash `\\`** als **Escape-Charakter** ins Spiel.  \n",
    "Ein Backslash gefolgt von einem weitere Zeichen wird als ein einziges Zeichen interpretiert. \n",
    "Jupyterlab weist auf ung&uuml;ltige Kombinationen hin.\n",
    "Auf diese Weise kann man Strings erzeugen, die Anf&uuml;hrungszeichen und Backslashes und\n",
    "weitere non-printable Characters wie newline, tab, backspace usw. enthalten:  \n",
    "\n",
    "- `\\'` single quote,\n",
    "- `\\\"` double quote,\n",
    "- `\\\\` Backslash,\n",
    "- `\\n` newline (Zeilenumbruch)\n",
    "- `\\t` Tabulator\n",
    "- `\\r` (Carriage return) Cursor kehrt an den Anfang der Zeile zur&uuml;ck, keine neue Zeile\n",
    "***"
   ]
  },
  {
   "cell_type": "code",
   "execution_count": null,
   "id": "c4d4b053-233f-4e2b-9e91-db08cc3ae979",
   "metadata": {},
   "outputs": [],
   "source": [
    "print('\\'\\\"\\\\')  #'\"\\"
   ]
  },
  {
   "cell_type": "code",
   "execution_count": null,
   "id": "cd4f3cca-99e4-4089-bb6a-172c8e7ef5fd",
   "metadata": {},
   "outputs": [],
   "source": [
    "s = 'a\\nb'\n",
    "len(s)"
   ]
  },
  {
   "cell_type": "code",
   "execution_count": null,
   "id": "bda58d54-7483-4fb8-b68e-41be5b069e92",
   "metadata": {},
   "outputs": [],
   "source": [
    "# tab character \\t\n",
    "line_1 = 'Alice\\tAlison'\n",
    "line_2 = 'Bob\\tBabagge'\n",
    "line_3 = 'Carl\\tCooper'\n",
    "print(line_1)\n",
    "print(line_2)\n",
    "print(line_3)"
   ]
  },
  {
   "cell_type": "code",
   "execution_count": null,
   "id": "4618ae2c-9db3-427e-b8f9-b909689d094b",
   "metadata": {},
   "outputs": [],
   "source": [
    "text = line_1 + '\\n' + line_2 + '\\n' +line_3\n",
    "text"
   ]
  },
  {
   "cell_type": "code",
   "execution_count": null,
   "id": "7e586f39-6387-48e9-a879-6a59e97a5320",
   "metadata": {},
   "outputs": [],
   "source": [
    "print(text)"
   ]
  },
  {
   "cell_type": "code",
   "execution_count": null,
   "id": "5c4f51d5-d6ab-4195-bf6b-bb3386da7a78",
   "metadata": {},
   "outputs": [],
   "source": [
    "# charriage return und backspace\n",
    "s = '123456789'\n",
    "t = 'abc'\n",
    "print(s)\n",
    "print(s + '\\r' + t)\n",
    "print(s + '\\b')"
   ]
  },
  {
   "cell_type": "code",
   "execution_count": null,
   "id": "a7e42817-93e2-4968-a1c2-0800aef1212a",
   "metadata": {},
   "outputs": [],
   "source": []
  },
  {
   "cell_type": "code",
   "execution_count": null,
   "id": "46d7f0dd-3779-4085-8ab0-1c0f8d95ff4a",
   "metadata": {},
   "outputs": [],
   "source": [
    "# beachte den line-continuation Backslash \\\n",
    "# \\\\ ist ein Backslash\n",
    "s1 = '''\\\n",
    "-----------------------------\n",
    "backslash: \\\\\n",
    "single quote: '\n",
    "double quote: \"\n",
    "-----------------------------\\\n",
    "'''\n",
    "s1"
   ]
  },
  {
   "cell_type": "code",
   "execution_count": null,
   "id": "8fcc9822-04cf-429f-af86-9b3ab38a6011",
   "metadata": {},
   "outputs": [],
   "source": [
    "print(s1)"
   ]
  },
  {
   "cell_type": "markdown",
   "id": "d6c597c3-dba2-49b4-a2d0-aaf2d2529572",
   "metadata": {},
   "source": [
    "**Aufgabe**:  \n",
    "Weise einer Variable einen (triple-quoted) String zu, so dass bei der Ausgabe dieser Variable mit print folgender Output produziert wird.\n",
    "\n",
    "```\n",
    "Anfuehrungszeichen (\" und ') und Backslashes (\\) sind tricky zum Ausgeben.\n",
    "\n",
    "double backslash: \\\\\n",
    "triple backslash: \\\\\\\n",
    "quadruple backslash: \\\\\\\\\n",
    "\n",
    "double single and double quotes: '' und \"\"\n",
    "triple single and double quotes: ''' und \"\"\"\n",
    "quadruple single and double quotes: '''' und \"\"\"\"\n",
    "\n",
    "newline character: \\n\n",
    "tab: \\t\n",
    "```"
   ]
  },
  {
   "cell_type": "code",
   "execution_count": null,
   "id": "7f71c683-5e8f-45a8-9a00-ef97a3986f1d",
   "metadata": {},
   "outputs": [],
   "source": []
  }
 ],
 "metadata": {
  "kernelspec": {
   "display_name": "Python 3 (ipykernel)",
   "language": "python",
   "name": "python3"
  },
  "language_info": {
   "codemirror_mode": {
    "name": "ipython",
    "version": 3
   },
   "file_extension": ".py",
   "mimetype": "text/x-python",
   "name": "python",
   "nbconvert_exporter": "python",
   "pygments_lexer": "ipython3",
   "version": "3.13.0"
  }
 },
 "nbformat": 4,
 "nbformat_minor": 5
}
