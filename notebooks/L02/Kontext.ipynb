{
 "cells": [
  {
   "cell_type": "markdown",
   "id": "e60f4da3-d5a9-42f7-a4a8-3ab5ab12adec",
   "metadata": {},
   "source": [
    "### Der Kontext eines Programms/ Folge von Anweisungen\n",
    "Begegnet der Python-Interpreter einem (Variabel)Namen, so \n",
    "schaut er im Verzeichnis `vars()` nach, ob dieser Namen definiert ist, und falls \n",
    "der Name nicht in `vars()` zu finden ist, wird noch im Verzeichnis `vars(__builtin__)` nachgeschaut.  \n",
    "Der Name `print` ist z.B. nicht in `vars()` sondern erst in `vars(__builtin__)` zu finden. \n",
    "Wird einem Namen ein Wert zugewiesen, wird dieser Name ins Verzeichnis `vars()` aufgenommen. \n",
    "Die Verzeichnisse `vars()` und `vars(__builtin__)` sind der **Kontext** in dem Anweisungen ausgef&uuml;hrt werden. \n",
    "\n",
    "\n",
    "Manchmal m&ouml;chte man Code in einem eigenen Kontext ausf&uuml;hren, beispielsweise, wenn man\n",
    "nicht m&oumll;chte, dass das aktuelle Variabelverzeichnis ver&auml;nder wird, oder wenn man\n",
    "dem auszuf&uuml;hrenden Code keinen Zugriff auf das aktuelle Variabelverzeichnis geben will. \n",
    "\n",
    "\n",
    "\n",
    "Die Funktion `exec(code, G, L)` erlaubt es, Python-Code in enem bestimmten Kontext auszuf&uuml;hren.\n",
    "Code ist dabei ein String mit Python-Code, $G$ das globale Variabelverzeichnis und $L$ das lokale Variabelverzeichnis.\n",
    "- Ist ein Name in `vars(__builtin__)` aber **nicht bereits in** $G$, wird dieser Name und der zugeh&ouml;rige Wert noch in $G$ aufgenommen.\n",
    "- Namen werden nun zuerst im lokalen Verzeichnis, dann im gloalen Verzeichnis gesucht.\n",
    "- Wird einer Variable ein Wert zugewiesen oder ge&auml;ndert, wird  der Variabelname und zugeh&ouml;riger Wert **immer** ins lokale Verzeichnis augenommen, auch wenn der Variabelname im globalen Verzeichnis ist.\n",
    "  Ausser falls die erste Zeile das Codes diese Variable als **global** deklariert.\n",
    "```python\n",
    "globals x, y, z  # Deklariert die Variablen x, y, z als global.\n",
    "                 # Diese Variabeln werden nun nur im globalen Verzeichniz gesucht und\n",
    "                 # nur im globalen Verzeichnis geaendert\n",
    "...\n",
    "  "
   ]
  },
  {
   "cell_type": "code",
   "execution_count": 22,
   "id": "5065ab81-dbeb-460e-82d5-9de07c68837b",
   "metadata": {},
   "outputs": [
    {
     "data": {
      "text/plain": [
       "(False, True)"
      ]
     },
     "execution_count": 22,
     "metadata": {},
     "output_type": "execute_result"
    }
   ],
   "source": [
    "%reset -f\n",
    "'print' in vars(), 'print' in vars(__builtin__)"
   ]
  },
  {
   "cell_type": "code",
   "execution_count": 23,
   "id": "b86a9ace-9d93-4606-a721-df2f6f9f117e",
   "metadata": {},
   "outputs": [
    {
     "data": {
      "text/plain": [
       "True"
      ]
     },
     "execution_count": 23,
     "metadata": {},
     "output_type": "execute_result"
    }
   ],
   "source": [
    "x = 0\n",
    "'x' in vars()"
   ]
  },
  {
   "cell_type": "code",
   "execution_count": 42,
   "id": "aa4b475e-ab1f-49ad-a1b0-dd1a6611c6d4",
   "metadata": {},
   "outputs": [
    {
     "name": "stdout",
     "output_type": "stream",
     "text": [
      "0; 42\n",
      "0\n"
     ]
    },
    {
     "data": {
      "text/plain": [
       "42"
      ]
     },
     "execution_count": 42,
     "metadata": {},
     "output_type": "execute_result"
    }
   ],
   "source": [
    "%reset -f\n",
    "x = 0\n",
    "code = '''\\\n",
    "print(x, end='; ')\n",
    "x = 42\n",
    "print(x)\n",
    "'''\n",
    "\n",
    "G = vars()\n",
    "L = {}\n",
    "exec(code, G, L)\n",
    "print(x)  # x in G/vars() immer noch 2\n",
    "L['x']  # x wurde ins lokale Verzeichnis aufgenommen"
   ]
  },
  {
   "cell_type": "code",
   "execution_count": 43,
   "id": "05913bc3-028f-45fc-8f21-2cf7f6fc7f40",
   "metadata": {},
   "outputs": [
    {
     "ename": "NameError",
     "evalue": "name 'x' is not defined",
     "output_type": "error",
     "traceback": [
      "\u001b[0;31m---------------------------------------------------------------------------\u001b[0m",
      "\u001b[0;31mNameError\u001b[0m                                 Traceback (most recent call last)",
      "Cell \u001b[0;32mIn[43], line 5\u001b[0m\n\u001b[1;32m      3\u001b[0m G \u001b[38;5;241m=\u001b[39m {}\n\u001b[1;32m      4\u001b[0m L \u001b[38;5;241m=\u001b[39m {}\n\u001b[0;32m----> 5\u001b[0m \u001b[43mexec\u001b[49m\u001b[43m(\u001b[49m\u001b[38;5;124;43m'\u001b[39;49m\u001b[38;5;124;43mprint(x)\u001b[39;49m\u001b[38;5;124;43m'\u001b[39;49m\u001b[43m,\u001b[49m\u001b[43m \u001b[49m\u001b[43mG\u001b[49m\u001b[43m,\u001b[49m\u001b[43m \u001b[49m\u001b[43mL\u001b[49m\u001b[43m)\u001b[49m  \u001b[38;5;66;03m# x ist weder in L noch in G ->NameError\u001b[39;00m\n",
      "File \u001b[0;32m<string>:1\u001b[0m\n",
      "\u001b[0;31mNameError\u001b[0m: name 'x' is not defined"
     ]
    }
   ],
   "source": [
    "x = 0  \n",
    "G = {}\n",
    "L = {}\n",
    "exec('print(x)', G, L)  # x ist weder in L noch in G ->NameError"
   ]
  },
  {
   "cell_type": "code",
   "execution_count": 44,
   "id": "d16571a0-2458-4ac8-a25e-fe981d6c4290",
   "metadata": {},
   "outputs": [
    {
     "name": "stdout",
     "output_type": "stream",
     "text": [
      "0; 42\n",
      "42\n"
     ]
    },
    {
     "data": {
      "text/plain": [
       "False"
      ]
     },
     "execution_count": 44,
     "metadata": {},
     "output_type": "execute_result"
    }
   ],
   "source": [
    "code = '''\\\n",
    "global x\n",
    "print(x, end='; ')\n",
    "x = 42\n",
    "print(x)\n",
    "'''\n",
    "\n",
    "x = 0\n",
    "G = vars()\n",
    "L = {}\n",
    "exec(code, G, L)\n",
    "print(x)  # x wurde im globalen Verzeichnis G/vars() geaendert\n",
    "'x' in L  # x wurde nicht ins lokale Verzeichnis aufgenomen"
   ]
  },
  {
   "cell_type": "code",
   "execution_count": 39,
   "id": "592a368c-cfba-4ed1-bd0f-23bc8235015f",
   "metadata": {},
   "outputs": [
    {
     "name": "stdout",
     "output_type": "stream",
     "text": [
      "2\n"
     ]
    },
    {
     "data": {
      "text/plain": [
       "(False, 3)"
      ]
     },
     "execution_count": 39,
     "metadata": {},
     "output_type": "execute_result"
    }
   ],
   "source": [
    "%reset -f\n",
    "code = '''\\\n",
    "global x, y\n",
    "print(x)\n",
    "y = 2\n",
    "z = 3\n",
    "'''\n",
    "\n",
    "G = {'x': 2}\n",
    "L = {'x': 0}\n",
    "exec(code, G, L)\n",
    "'y' in L, L['z']"
   ]
  },
  {
   "cell_type": "code",
   "execution_count": null,
   "id": "005bf92c-d0f7-4582-a1e4-2edc6483cc42",
   "metadata": {},
   "outputs": [],
   "source": []
  }
 ],
 "metadata": {
  "author": "dieter.probst@gmail.com",
  "kernelspec": {
   "display_name": "Python 3 (ipykernel)",
   "language": "python",
   "name": "python3"
  },
  "language_info": {
   "codemirror_mode": {
    "name": "ipython",
    "version": 3
   },
   "file_extension": ".py",
   "mimetype": "text/x-python",
   "name": "python",
   "nbconvert_exporter": "python",
   "pygments_lexer": "ipython3",
   "version": "3.13.0"
  }
 },
 "nbformat": 4,
 "nbformat_minor": 5
}
