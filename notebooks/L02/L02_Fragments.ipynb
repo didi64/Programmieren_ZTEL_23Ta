{
 "cells": [
  {
   "cell_type": "code",
   "execution_count": null,
   "id": "a9ba5884-a98b-4b5c-8dde-591c97664955",
   "metadata": {},
   "outputs": [],
   "source": [
    "Thema fuer heute: Funktionen.\n",
    "Werden einen ersten BLick auf Funktionen werden, \n",
    "dann fuer ein besseres Verstaendnis von Funktionen noetige\n",
    "Dinge anschauen.\n",
    "\n",
    "Workflow\n",
    "\n",
    "\n",
    "Mit Besprechung der Kontrollfragen starten:"
   ]
  },
  {
   "cell_type": "code",
   "execution_count": null,
   "id": "d87b357e-a53a-4cac-835d-26ac8840d84e",
   "metadata": {},
   "outputs": [],
   "source": [
    "# Code Analysieren:\n",
    "# Hypothese formulieren und dann teseten.\n",
    "\n",
    "# 7) Erlaeutere, Wert von c am Schluss?\n",
    "# Schreibe Programm und erlkaere Anatomie.\n",
    "word = '123' # String, joennte auch 123, oder _123 zuweisen\n",
    "             # Programm macht genau was man im sagt!\n",
    "for c in word:\n",
    "    word = '456'\n",
    "    print(c)\n",
    "print(c)"
   ]
  },
  {
   "cell_type": "code",
   "execution_count": null,
   "id": "e7e98be6-2550-4d78-be55-4661a20df6f0",
   "metadata": {},
   "outputs": [],
   "source": [
    "#  7) Das Programm ist aequivalent zu folgedem Code:\n",
    "# die Werte von c und word sind '3' und '456'\n",
    "word = '123'\n",
    "c = '1'\n",
    "word = '456'\n",
    "print(c)\n",
    "\n",
    "c = '2'\n",
    "word = '456'\n",
    "print(c)\n",
    "\n",
    "c = '3'\n",
    "word = '456'\n",
    "print(c)"
   ]
  },
  {
   "cell_type": "code",
   "execution_count": null,
   "id": "faf86258-93b2-44ad-a961-3fedab1fb997",
   "metadata": {},
   "outputs": [],
   "source": [
    "# nun konnen wir nachchauen\n",
    "print(c)\n",
    "#vergesst type"
   ]
  },
  {
   "cell_type": "code",
   "execution_count": null,
   "id": "7e7bf404-28b7-4e2f-aa26-5fb595dbc876",
   "metadata": {},
   "outputs": [],
   "source": []
  },
  {
   "cell_type": "code",
   "execution_count": null,
   "id": "34ccf06e-5ab1-43b1-b5af-b5a68fe633d9",
   "metadata": {},
   "outputs": [],
   "source": [
    "# 8 Lenge Wort, len(word)\n",
    "word = 'test'\n",
    "length = 0\n",
    "for i in word: # i typischer Name fuer For-Loop Variable, oder\n",
    "               # oder c fuer character\n",
    "               # in diesem speciellen Fall _ \n",
    "    length = length + 1\n",
    "length"
   ]
  },
  {
   "cell_type": "code",
   "execution_count": 5,
   "id": "866e4e36-de4b-453f-8619-10d392c7894f",
   "metadata": {},
   "outputs": [
    {
     "name": "stdout",
     "output_type": "stream",
     "text": [
      "c: t drow: t\n",
      "c: e drow: et\n",
      "c: s drow: set\n",
      "c: t drow: tset\n"
     ]
    },
    {
     "data": {
      "text/plain": [
       "'tset'"
      ]
     },
     "execution_count": 5,
     "metadata": {},
     "output_type": "execute_result"
    }
   ],
   "source": [
    "#9\n",
    "word = 'test'\n",
    "drow = ''  # word umgedreht: reversed_word =\n",
    "           # started mit leerem Word, haengt jeweils auf\n",
    "           # der linken Seite neuen Buchstaben an\n",
    "for c in word:\n",
    "    drow = c + drow\n",
    "    print('c:', c, 'drow:', drow)\n",
    "drow"
   ]
  },
  {
   "cell_type": "code",
   "execution_count": null,
   "id": "24f7891e-9ac8-49c6-89ab-93a8508c7c3c",
   "metadata": {},
   "outputs": [],
   "source": [
    "# 10\n",
    "word = 'ROTOR'\n",
    "drow = ''\n",
    "for c in word:\n",
    "    drow = c + drow # fuege nun Test hinzu, word == drow"
   ]
  },
  {
   "cell_type": "raw",
   "id": "0a9b31c5-799f-45bd-8a92-c248074246d6",
   "metadata": {},
   "source": [
    "Funktion\n",
    "kann einem Codeblock einen einen Namen\n",
    "zuweisen,\n",
    "Variabeln initialisiere, Codeblock ausf&uuml;hern und\n",
    "optional einen Wert zur&uuml;ckgeben.\n",
    "\n",
    "Funktionen haben ihre eigenen Variabeln:\n",
    "koennen ausserhalb der Funktion definierte Variabeln lesen\n",
    "innerhalb der Funktion definierte Variabeln sind \n",
    "nur innerhalb der Funktion sichtbar."
   ]
  },
  {
   "cell_type": "code",
   "execution_count": 12,
   "id": "4594b17b-0938-4c29-8dba-36b3de875bb7",
   "metadata": {},
   "outputs": [],
   "source": [
    "#%%file my_functions.py\n",
    "def reverse_word(word):\n",
    "    '''gibt word umgedreht zurueck\n",
    "       word: str\n",
    "    '''\n",
    "    drow = ''\n",
    "    for c in word:\n",
    "        drow = c + drow\n",
    "    return drow"
   ]
  },
  {
   "cell_type": "code",
   "execution_count": 13,
   "id": "480857ce-f17d-4ee7-9266-5c35e2419921",
   "metadata": {},
   "outputs": [
    {
     "data": {
      "text/plain": [
       "'21!@Edc bA'"
      ]
     },
     "execution_count": 13,
     "metadata": {},
     "output_type": "execute_result"
    }
   ],
   "source": [
    "# ungetesteter Code funktioniert nicht!\n",
    "word = 'Ab cdE@!12'\n",
    "reverse_word(word)"
   ]
  },
  {
   "cell_type": "raw",
   "id": "5aa76fdb-31ca-408f-b397-9170af2ab568",
   "metadata": {},
   "source": []
  }
 ],
 "metadata": {
  "kernelspec": {
   "display_name": "Python 3 (ipykernel)",
   "language": "python",
   "name": "python3"
  },
  "language_info": {
   "codemirror_mode": {
    "name": "ipython",
    "version": 3
   },
   "file_extension": ".py",
   "mimetype": "text/x-python",
   "name": "python",
   "nbconvert_exporter": "python",
   "pygments_lexer": "ipython3",
   "version": "3.13.0"
  }
 },
 "nbformat": 4,
 "nbformat_minor": 5
}
