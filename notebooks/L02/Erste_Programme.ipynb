{
 "cells": [
  {
   "cell_type": "markdown",
   "id": "34b46be8-9e93-4e3d-9782-3d0e215da554",
   "metadata": {},
   "source": [
    "### Schreiben erste PRogramme\n",
    "Nicht alles wird erkl&auml;rt, das wird spa&auml;ter nachgeholt.\n",
    "Probiere aus, was geht und was nicht.\n",
    "\n",
    "Zuweisungen\n",
    "x = 2\n",
    "x= 'hallo'\n",
    "\n",
    "\n",
    "2 + 3\n",
    "'hallo, '  + 'world'\n",
    "\n",
    "hline = '-' * 80\n",
    "\n",
    "Vergleichsoperatoren: geben True oder False zurueck\n",
    "2 == 2\n",
    "2 !== 2\n",
    "'foo' == 'foo'\n",
    "\n",
    "rechnen mit True und False\n",
    "\n",
    "True und False verhalten sich genau with 1 und 0.\n",
    "\n",
    "True + False\n",
    "1 - True\n",
    "\n",
    "True == 1\n",
    "False == 0\n",
    "\n",
    "for buchstabe in 'abc':\n",
    "    print(buchstabe)\n",
    "\n",
    "\n",
    "buchstabe = 'a'\n",
    "print(buchstabe)\n",
    "c = 'b'\n",
    "print(buchstabe)\n",
    "buchstabe = 'buchstabe'\n",
    "print(buchstabe)\n",
    "\n",
    "\n",
    "for b in 'abc':\n",
    "    print(b)\n",
    "\n",
    "for b in '':\n",
    "    print('test')\n",
    "\n",
    "for b in ''*3:\n",
    "    print('test')\n",
    "\n",
    "Add programms that do stuff\n"
   ]
  },
  {
   "cell_type": "code",
   "execution_count": null,
   "id": "6291bdb9-73d6-446b-a477-3259fc9de38e",
   "metadata": {},
   "outputs": [],
   "source": []
  },
  {
   "cell_type": "code",
   "execution_count": null,
   "id": "447cc33d-ebb0-41d0-8521-97ad4c9e8456",
   "metadata": {},
   "outputs": [],
   "source": []
  },
  {
   "cell_type": "code",
   "execution_count": 3,
   "id": "ee17ea69-3fa9-4426-a013-bd47a070b2c9",
   "metadata": {},
   "outputs": [
    {
     "name": "stdout",
     "output_type": "stream",
     "text": [
      "Alice\n"
     ]
    }
   ],
   "source": [
    "name = 'Alice'\n",
    "print(name)"
   ]
  },
  {
   "cell_type": "code",
   "execution_count": 4,
   "id": "b73e0300-9fde-4bfd-afda-0de206f67ba2",
   "metadata": {},
   "outputs": [
    {
     "name": "stdout",
     "output_type": "stream",
     "text": [
      "Hallo Alice\n"
     ]
    }
   ],
   "source": [
    "print('Hallo', name)"
   ]
  },
  {
   "cell_type": "code",
   "execution_count": 6,
   "id": "60de5192-60ff-46ea-940a-a91a7dbeebdf",
   "metadata": {},
   "outputs": [
    {
     "name": "stdout",
     "output_type": "stream",
     "text": [
      "Hallo,Alice\n",
      "Hallo,Bob\n"
     ]
    }
   ],
   "source": [
    "print('Hallo', name, sep=',')\n",
    "print('Hallo', 'Bob', sep=',')"
   ]
  },
  {
   "cell_type": "code",
   "execution_count": 7,
   "id": "350efd2a-502f-4f32-bda7-3a1739985327",
   "metadata": {},
   "outputs": [
    {
     "name": "stdout",
     "output_type": "stream",
     "text": [
      "Hallo, Alice; Hallo, Bob\n"
     ]
    }
   ],
   "source": [
    "print('Hallo', name, sep=', ', end='; ')\n",
    "print('Hallo', 'Bob', sep=', ')"
   ]
  },
  {
   "cell_type": "code",
   "execution_count": null,
   "id": "5989935e-30ae-41c9-9f12-b1e18aff2d5c",
   "metadata": {},
   "outputs": [],
   "source": [
    "print('Hallo', name, sep=', ', end='\\n')\n",
    "print('Hallo', 'Bob', sep=', ')"
   ]
  },
  {
   "cell_type": "code",
   "execution_count": 8,
   "id": "652d8948-4202-46b6-bfd7-933605e4f154",
   "metadata": {},
   "outputs": [
    {
     "name": "stdout",
     "output_type": "stream",
     "text": [
      "1. Zeile\n",
      "2. Zeile\n",
      "3. Zeile\n"
     ]
    }
   ],
   "source": [
    "text = '1. Zeile\\n2. Zeile\\n3. Zeile'\n",
    "print(text)"
   ]
  },
  {
   "cell_type": "code",
   "execution_count": 9,
   "id": "4cfa33dd-d3c7-4f45-98da-cb3d21dba86e",
   "metadata": {},
   "outputs": [
    {
     "data": {
      "text/plain": [
       "'1. Zeile\\n2. Zeile\\n3. Zeile'"
      ]
     },
     "execution_count": 9,
     "metadata": {},
     "output_type": "execute_result"
    }
   ],
   "source": [
    "text"
   ]
  },
  {
   "cell_type": "code",
   "execution_count": 12,
   "id": "06c7da3a-177a-4a35-aaf4-f31a8a97afe4",
   "metadata": {},
   "outputs": [
    {
     "name": "stdin",
     "output_type": "stream",
     "text": [
      " \n"
     ]
    },
    {
     "name": "stdout",
     "output_type": "stream",
     "text": [
      "Hallo, !\n"
     ]
    }
   ],
   "source": [
    "name = input()\n",
    "print('Hallo, ', name, '!', sep='')"
   ]
  },
  {
   "cell_type": "markdown",
   "id": "b47deb70-ddaf-41c0-bb33-3a978af4c4d8",
   "metadata": {},
   "source": [
    "### Pending Input  \n",
    "Wird die Anweisung `input()` ausgef&uuml;hrt, wartet der Interpreter auf den Benutzerinput.  \n",
    "Die Ausf&uuml;hrung weiteren Codes ist blockert. Wird versucht, mit shift-enter Code in einer anderen Code-Zelle auszuf&uuml;hren, wird diese Meldung angezeig:\n",
    "\n",
    "**Cell not executed due to pending input**.  \n",
    "The cell has not been executed to avoid kernel deadlock as there is another pending input! Submit your pending input and try again.\n"
   ]
  },
  {
   "cell_type": "code",
   "execution_count": 13,
   "id": "ad545d69-891b-4f59-88a5-b0ee0c069b0d",
   "metadata": {},
   "outputs": [
    {
     "name": "stdin",
     "output_type": "stream",
     "text": [
      "Name: Bob\n"
     ]
    },
    {
     "name": "stdout",
     "output_type": "stream",
     "text": [
      "Hallo Bob!\n"
     ]
    },
    {
     "name": "stdin",
     "output_type": "stream",
     "text": [
      "Name: Alice\n"
     ]
    },
    {
     "name": "stdout",
     "output_type": "stream",
     "text": [
      "Hallo Alice!\n"
     ]
    },
    {
     "name": "stdin",
     "output_type": "stream",
     "text": [
      "Name: Carl\n"
     ]
    },
    {
     "name": "stdout",
     "output_type": "stream",
     "text": [
      "Hallo Carl!\n"
     ]
    }
   ],
   "source": [
    "for i in range(3):\n",
    "    name =  input('Name:')\n",
    "    print('Hallo ', name, '!', sep='')"
   ]
  },
  {
   "cell_type": "code",
   "execution_count": 15,
   "id": "4792fca6-6f8f-43a7-8779-2dfd27fc4dc9",
   "metadata": {},
   "outputs": [
    {
     "data": {
      "text/plain": [
       "<function IPython.core.display_functions.clear_output(wait=False)>"
      ]
     },
     "execution_count": 15,
     "metadata": {},
     "output_type": "execute_result"
    }
   ],
   "source": [
    "from IPython.display import clear_output\n",
    "clear_output"
   ]
  },
  {
   "cell_type": "code",
   "execution_count": 21,
   "id": "b1381907-0537-434a-af2a-5cee97663480",
   "metadata": {},
   "outputs": [
    {
     "name": "stdout",
     "output_type": "stream",
     "text": [
      "Hallo asdf!\n",
      "Hallo asdf!\n"
     ]
    }
   ],
   "source": [
    "names = ()\n",
    "for i in range(2):\n",
    "    name = input('Name:')\n",
    "    names = names + (name, )\n",
    "clear_output()\n",
    "for name in names:\n",
    "    print('Hallo ', name, '!', sep='')"
   ]
  },
  {
   "cell_type": "code",
   "execution_count": 19,
   "id": "3e9527a8-d517-4fb0-96dc-3e696cd22cf2",
   "metadata": {},
   "outputs": [
    {
     "data": {
      "text/plain": [
       "()"
      ]
     },
     "execution_count": 19,
     "metadata": {},
     "output_type": "execute_result"
    }
   ],
   "source": [
    "names"
   ]
  },
  {
   "cell_type": "code",
   "execution_count": 22,
   "id": "c717f9e4-249f-4cbe-b3e6-f89cf698be61",
   "metadata": {},
   "outputs": [
    {
     "name": "stdin",
     "output_type": "stream",
     "text": [
      "Name: alice\n",
      "Name: bob\n",
      "Name: \n"
     ]
    },
    {
     "name": "stdout",
     "output_type": "stream",
     "text": [
      "Hallo alice!\n",
      "Hallo bob!\n"
     ]
    }
   ],
   "source": [
    "MAX_NAMES = 10\n",
    "names = ()\n",
    "for i in range(MAX_NAMES):\n",
    "    name = input('Name:')\n",
    "    if name == '':\n",
    "        break\n",
    "    names = names + (name, )\n",
    "\n",
    "for name in names:\n",
    "    print('Hallo', name + '!')"
   ]
  },
  {
   "cell_type": "code",
   "execution_count": 2,
   "id": "3f047056-2399-4480-b234-d910d43df7d5",
   "metadata": {},
   "outputs": [
    {
     "name": "stderr",
     "output_type": "stream",
     "text": [
      "/tmp/ipykernel_11593/896852019.py:7: DeprecationWarning: on_submit is deprecated. Instead, set the .continuous_update attribute to False and observe the value changing with: mywidget.observe(callback, 'value').\n",
      "  t.on_submit(lambda *args: print(args))\n"
     ]
    },
    {
     "data": {
      "application/vnd.jupyter.widget-view+json": {
       "model_id": "6066f42ae89b49a6aedcefd5e6d98d58",
       "version_major": 2,
       "version_minor": 0
      },
      "text/plain": [
       "Text(value='')"
      ]
     },
     "execution_count": 2,
     "metadata": {},
     "output_type": "execute_result"
    }
   ],
   "source": [
    "#from ipywidgets import Text\n",
    "import ipywidgets\n",
    "import warnings\n",
    "warnings.filterwarnings(\"ignore\", module='ipywidgets', category=DeprecationWarning)\n",
    "#warnings.filterwarnings(\"ignore\", category=DeprecationWarning)\n",
    "t = ipywidgets.Text()\n",
    "t.on_submit(lambda *args: print(args))\n",
    "t"
   ]
  },
  {
   "cell_type": "code",
   "execution_count": null,
   "id": "91742814-8886-4a85-ade5-9f6135e56625",
   "metadata": {},
   "outputs": [],
   "source": [
    "widgets.Textarea(\n",
    "    value='Hello World',\n",
    "    placeholder='Type something',\n",
    "    description='String:',\n",
    "    disabled=False\n",
    ")\n",
    "\n"
   ]
  }
 ],
 "metadata": {
  "author": "dieter.probst@gmail.com", "kernelspec": {
   "display_name": "Python 3 (ipykernel)",
   "language": "python",
   "name": "python3"
  },
  "language_info": {
   "codemirror_mode": {
    "name": "ipython",
    "version": 3
   },
   "file_extension": ".py",
   "mimetype": "text/x-python",
   "name": "python",
   "nbconvert_exporter": "python",
   "pygments_lexer": "ipython3",
   "version": "3.13.0"
  }
 },
 "nbformat": 4,
 "nbformat_minor": 5
}
