{
 "cells": [
  {
   "cell_type": "markdown",
   "id": "9646e298-cfa3-40e4-8437-2f4349edc0d3",
   "metadata": {},
   "source": [
    "### Kontrollfragen zur Lektion 2 mit Antworten\n",
    "1. Erstelle auf Verschiedene Arten einen Strings\n",
    "  die, falls mit *print* ausgebeben, so aussehen:\n",
    "  > Die Zeichen \", ' und \\ haben eine spezielle Bedeutung innerhalb eines String.\n",
    "\n",
    "  > 1. Zeile  \n",
    "2. Zeile\n",
    "   \n",
    "2. Wie erh&auml;lt man das Verzeichnis aller definierten Variabeln?\n",
    "  Wie kann man testen ob eine Variable definiert ist?\n",
    "  Wie l&auml;sst sich eine definierte Variable aus dem Verzeichnis l&ouml;schen?\n",
    "3. Wie kann man alle vom Benutzer definierten Variabeln aus dem\n",
    "  Verzeichnis entfernen (2 M&ouml;glichkeiten)?\n",
    "4. Wozu dienen Funktionen?\n",
    "5. Welche der folgenden Namen sind gute Namen f&uuml;r Funktionen? Gib einige syntaktisch korrekte und inkorrekte Varianten an.\n",
    "   `f`, `FindFile`, `game_coords2canvas_coords`, `is_legal`, `xyz`.\n",
    "6. Wie kann man nachstehende Funktion aufrufen, um\n",
    "   $2*3 + 5$ zu berechnen?\n",
    "   ```python\n",
    "    def f(factor1, factor2, summand=5):\n",
    "        return factor1 * factor2 + summand\n",
    "    ```\n",
    "7. Schreibe eine Funktion `factorial`, die die Fakult&auml;t einer Zahl berechnet (4 Fakult&auml;t ist $1*2*3*4$).\n",
    "8. Schreibe eine Funktion, welche `factorial` mit den Werten\n",
    "   $0$ bis $9$ aufruft. Benutzt eine For-Schleife.  \n",
    "   **Hint**: `int('5')` wandelt den String `'5'` in die Zahl `5` um.\n",
    "9. Schreibe eine Funktion `sum_upto(n)`, welche\n",
    "   die Summe 1+2+...+n zur&uuml;ck gibt. Teste die Funktion!\n",
    "10. Schreibe eine Funktion `f(n)`, welche mit den Zeichen `O` und `X`\n",
    "    Rechteck mit n Zeilen und n+1 Spalten wie folgt darstellt:\n",
    "```\n",
    "f(0) f(1) f(2) f(3)  f(4)\n",
    "--------------------------\n",
    "     OX   OXX  OXXX   OXXXX       \n",
    "          OOX  OOXX   OOXXX    \n",
    "               OOOX   OOOXX   \n",
    "                      OOOOX\n",
    "```"
   ]
  },
  {
   "cell_type": "code",
   "execution_count": 5,
   "id": "46fd13d0-463d-4ad0-bb38-198938dc415d",
   "metadata": {},
   "outputs": [
    {
     "name": "stdout",
     "output_type": "stream",
     "text": [
      "Die Zeichen \", ' und \\ haben eine spezielle Bedeutung innerhalb eines String.\n",
      "1. Zeile   \n",
      "2. Zeile\n"
     ]
    }
   ],
   "source": [
    "#1\n",
    "s1 = '''\\\n",
    "Die Zeichen \", ' und \\\\ haben eine spezielle Bedeutung \\\n",
    "innerhalb eines String.'''\n",
    "\n",
    "s2 = '''\\\n",
    "1. Zeile   \n",
    "2. Zeile'''\n",
    "print(s1)\n",
    "print(s2)"
   ]
  },
  {
   "cell_type": "code",
   "execution_count": 6,
   "id": "2eaa5431-1fc0-4252-85b0-540e660087d6",
   "metadata": {},
   "outputs": [],
   "source": [
    "def f(factor1, factor2, summand=5):\n",
    "     return factor1 * factor2 + summand"
   ]
  },
  {
   "cell_type": "code",
   "execution_count": 10,
   "id": "29dd96b9-cc22-4ad8-bbeb-65b7fb6221a4",
   "metadata": {},
   "outputs": [
    {
     "data": {
      "text/plain": [
       "(11, 11, 11, 11, 11, 11, 11, 11, 11, 11, 11, 11, 11)"
      ]
     },
     "execution_count": 10,
     "metadata": {},
     "output_type": "execute_result"
    }
   ],
   "source": [
    "( f(2, 3),\n",
    "  f(2, factor2=3),\n",
    "  f(factor1=2, factor2=3),\n",
    "  f(factor2=2, factor1=3),\n",
    "  \n",
    "  f(2, 3, 5),\n",
    "  f(2, 3, summand=5),\n",
    "  f(2, factor2=3, summand=5),\n",
    "  \n",
    "  f(factor1=2, factor2=3, summand=5),\n",
    "  f(factor1=2, summand=5, factor2=3),\n",
    "  f(factor2=3, factor1=2, summand=5),\n",
    "  f(factor2=3, summand=5, factor1=2),\n",
    "  \n",
    "  f(summand=5, factor2=3, factor1=2),\n",
    "  f(summand=5, factor1=2, factor2=3),\n",
    ")"
   ]
  },
  {
   "cell_type": "code",
   "execution_count": 11,
   "id": "3bf55714-d96f-42bc-a049-4ed6f57fc52e",
   "metadata": {},
   "outputs": [],
   "source": [
    "def factorial(n):\n",
    "    resultat = 1\n",
    "    i = 0\n",
    "    for _ in ' ' * n:\n",
    "        i = i + 1\n",
    "        resultat = resultat * i\n",
    "    return resultat"
   ]
  },
  {
   "cell_type": "code",
   "execution_count": 14,
   "id": "cf24fc95-3b22-469f-9e31-d971aa74815a",
   "metadata": {},
   "outputs": [
    {
     "name": "stdout",
     "output_type": "stream",
     "text": [
      "1\n",
      "1\n",
      "2\n",
      "6\n",
      "24\n",
      "120\n",
      "720\n",
      "5040\n",
      "40320\n",
      "362880\n"
     ]
    }
   ],
   "source": [
    "i = -1\n",
    "for _ in ' ' * 10:\n",
    "    i = i + 1\n",
    "    x = factorial(i)\n",
    "    print(x)"
   ]
  },
  {
   "cell_type": "code",
   "execution_count": 13,
   "id": "da972af6-8a7b-46d7-a9c0-b7fb6753ffc4",
   "metadata": {},
   "outputs": [
    {
     "name": "stdout",
     "output_type": "stream",
     "text": [
      "1\n",
      "1\n",
      "2\n",
      "6\n",
      "24\n",
      "120\n",
      "720\n",
      "5040\n",
      "40320\n",
      "362880\n"
     ]
    }
   ],
   "source": [
    "for n in '0123456789':\n",
    "    x = factorial(int(n))\n",
    "    print(x)"
   ]
  },
  {
   "cell_type": "code",
   "execution_count": 17,
   "id": "20f95ea5-5c48-4ae3-93cc-3156401f0ac4",
   "metadata": {},
   "outputs": [],
   "source": [
    "def f(n):\n",
    "    i = 0\n",
    "    for _ in ' ' * n:\n",
    "        i = i + 1\n",
    "        stars = 'O' * i\n",
    "        pluses = 'X' * (n + 1 - i)\n",
    "        line = stars + pluses\n",
    "        print(line)\n",
    "    "
   ]
  },
  {
   "cell_type": "code",
   "execution_count": 21,
   "id": "4586360e-558d-4b8f-9914-56032049a3ec",
   "metadata": {},
   "outputs": [
    {
     "name": "stdout",
     "output_type": "stream",
     "text": [
      "OXXXX\n",
      "OOXXX\n",
      "OOOXX\n",
      "OOOOX\n"
     ]
    }
   ],
   "source": [
    "f(4)"
   ]
  },
  {
   "cell_type": "code",
   "execution_count": null,
   "id": "de5afc8f-70b8-4810-9cb8-7c56b61cc234",
   "metadata": {},
   "outputs": [],
   "source": []
  }
 ],
 "metadata": {
  "kernelspec": {
   "display_name": "Python 3 (ipykernel)",
   "language": "python",
   "name": "python3"
  },
  "language_info": {
   "codemirror_mode": {
    "name": "ipython",
    "version": 3
   },
   "file_extension": ".py",
   "mimetype": "text/x-python",
   "name": "python",
   "nbconvert_exporter": "python",
   "pygments_lexer": "ipython3",
   "version": "3.13.0"
  }
 },
 "nbformat": 4,
 "nbformat_minor": 5
}
