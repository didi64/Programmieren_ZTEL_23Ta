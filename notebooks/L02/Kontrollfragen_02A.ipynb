{
 "cells": [
  {
   "cell_type": "markdown",
   "id": "460d4fab-805d-40a3-980a-0ef769ae8d5c",
   "metadata": {},
   "source": [
    "### Kontrollfragen zur Lektion 2\n",
    "1. Erstelle auf zwei verschiedene Arten jeweils Strings, die\n",
    "   mit *print* ausgebeben so aussehen.  \n",
    "   *1. String*:  \n",
    "  `Die Zeichen \", ' und \\ haben eine spezielle Bedeutung innerhalb eines String.`  \n",
    "  *2. String*:  \n",
    "  `1. Zeile`    \n",
    "  `2. Zeile`  \n",
    "2. Wie erh&auml;lt man das Verzeichnis aller definierten Variabeln?\n",
    "  Wie kann man testen ob eine Variable definiert ist?\n",
    "  Wie l&auml;sst sich eine definierte Variable aus dem Verzeichnis l&ouml;schen?\n",
    "3. Wie kann man alle vom Benutzer definierten Variabeln aus dem\n",
    "  Verzeichnis entfernen (2 M&ouml;glichkeiten)?\n",
    "4. Wozu dienen Funktionen?\n",
    "5. Welche der folgenden Namen sind gute Namen f&uuml;r Funktionen? \n",
    "   `f`, `FindFile`, `game_coords2canvas_coords`, `is_legal`, `xyz`.\n",
    "6. Auf wieviele verschiedene Arten kann man nachstehende Funktion aufrufen, um\n",
    "   $2*3 + 5$ zu berechnen? Gib einige davon an.\n",
    "   ```python\n",
    "    def f(factor1, factor2, summand=5):\n",
    "        return factor1 * factor2 + summand\n",
    "    ```\n",
    "7. Schreibe eine Funktion `factorial`, die die Fakult&auml;t einer Zahl berechnet (4 Fakult&auml;t ist $1*2*3*4$).\n",
    "8. Schreibe eine Funktion, welche `factorial` mit den Werten\n",
    "   $0$ bis $9$ aufruft. Benutzt eine For-Schleife.  \n",
    "9. Schreibe eine Funktion `sum_upto(n)`, welche\n",
    "   die Summe 1+2+...+n zur&uuml;ck gibt. Teste die Funktion!\n",
    "10. Schreibe eine Funktion `f(n)`, welche mit den Zeichen `O` und `X` ein\n",
    "    Rechteck mit n Zeilen und n+1 Spalten formt:\n",
    "```\n",
    "f(0) f(1) f(2) f(3)  f(4)\n",
    "--------------------------\n",
    "     OX   OXX  OXXX   OXXXX       \n",
    "          OOX  OOXX   OOXXX    \n",
    "               OOOX   OOOXX   \n",
    "                      OOOOX\n",
    "```"
   ]
  },
  {
   "cell_type": "code",
   "execution_count": null,
   "id": "46fd13d0-463d-4ad0-bb38-198938dc415d",
   "metadata": {},
   "outputs": [],
   "source": [
    "#1a\n",
    "s1 = '''\\\n",
    "Die Zeichen \", ' und \\\\ haben eine spezielle Bedeutung \\\n",
    "innerhalb eines String.'''\n",
    "\n",
    "s2 = '''\\\n",
    "1. Zeile   \n",
    "2. Zeile'''\n",
    "print(s1)\n",
    "print(s2)"
   ]
  },
  {
   "cell_type": "code",
   "execution_count": null,
   "id": "f07cf194-ec50-4372-b837-7d2dd57d027e",
   "metadata": {},
   "outputs": [],
   "source": [
    "#1b \n",
    "s1 = 'Die Zeichen \", \\' und \\\\ haben eine spezielle Bedeutung ' + \\\n",
    "     'innerhalb eines String.'\n",
    "\n",
    "s2 = '1. Zeile' + '\\n' + '2. Zeile'\n",
    "print(s1)\n",
    "print(s2)"
   ]
  },
  {
   "cell_type": "code",
   "execution_count": null,
   "id": "9ba9fade-1c73-4767-81ba-40945e20056a",
   "metadata": {},
   "outputs": [],
   "source": [
    "#2 \n",
    "# x = 2\n",
    "'x' in vars()  # testen ob Variable x definiert ist"
   ]
  },
  {
   "cell_type": "code",
   "execution_count": null,
   "id": "50d96911-d4a0-4967-992a-7e76192ebb32",
   "metadata": {},
   "outputs": [],
   "source": [
    "del x  # Variable x loeschen"
   ]
  },
  {
   "cell_type": "code",
   "execution_count": null,
   "id": "930955c1-a908-4af5-9cd3-0b842b46af25",
   "metadata": {},
   "outputs": [],
   "source": [
    "#3 Kernel restart oder  \n",
    "%reset -f"
   ]
  },
  {
   "cell_type": "markdown",
   "id": "2b778104-c0fe-4304-9986-3ef941930f9e",
   "metadata": {},
   "source": [
    "4. **Wozu Funktionen**?\n",
    "- komplexes Problem in kleinere Teilaufgaben zerlegen,\n",
    "- bestehender und getesteter Programmcode wiederverwenden."
   ]
  },
  {
   "cell_type": "markdown",
   "id": "01310806-006b-4a4f-be8b-a737dc12ee08",
   "metadata": {},
   "source": [
    "5. **Gute Namen f&uuml;r Funktionen**?\n",
    "- `f`: Typischer Name einer Funktionen, falls irrelevant ist, was diese tut.\n",
    "- `FindFile`: CamelCase ist f&uuml;r Klassen.\n",
    "- `game_coords2canvas_coords`: guter Name f&uuml;r Funktion, die Koordinaten umrechnet.\n",
    "- `is_legal`: guter Name f&uuml;r Funktion, die z.B. testet, ob ein Zug legal/regelkonform ist.\n",
    "-  `xyz`: kein informativer Name."
   ]
  },
  {
   "cell_type": "markdown",
   "id": "013f58c0-3463-4b8f-9595-73e67a35a66d",
   "metadata": {},
   "source": [
    "6. **M&ouml;glichkeiten, `f` aufzurufen, um 2*3+5 zu berechnen**?"
   ]
  },
  {
   "cell_type": "code",
   "execution_count": null,
   "id": "29dd96b9-cc22-4ad8-bbeb-65b7fb6221a4",
   "metadata": {},
   "outputs": [],
   "source": [
    "def f(factor1, factor2, summand=5):\n",
    "     return factor1 * factor2 + summand\n",
    "    \n",
    "( f(2, 3),\n",
    "  f(2, factor2=3),\n",
    "  f(factor1=2, factor2=3),\n",
    "  f(factor2=2, factor1=3),\n",
    "  \n",
    "  f(2, 3, 5),\n",
    "  f(2, 3, summand=5),\n",
    "  f(2, factor2=3, summand=5),\n",
    "  \n",
    "  f(factor1=2, factor2=3, summand=5),\n",
    "  f(factor1=2, summand=5, factor2=3),\n",
    "  f(factor2=3, factor1=2, summand=5),\n",
    "  f(factor2=3, summand=5, factor1=2),\n",
    "  \n",
    "  f(summand=5, factor2=3, factor1=2),\n",
    "  f(summand=5, factor1=2, factor2=3),\n",
    ")\n",
    "\n",
    "#  f(factor1=2, 3 , 5)  # nicht erlaubt."
   ]
  },
  {
   "cell_type": "code",
   "execution_count": null,
   "id": "3bf55714-d96f-42bc-a049-4ed6f57fc52e",
   "metadata": {},
   "outputs": [],
   "source": [
    "#7\n",
    "def factorial(n):\n",
    "    resultat = 1\n",
    "    i = 0\n",
    "    for _ in ' ' * n:\n",
    "        i = i + 1\n",
    "        resultat = resultat * i\n",
    "    return resultat"
   ]
  },
  {
   "cell_type": "code",
   "execution_count": null,
   "id": "cf24fc95-3b22-469f-9e31-d971aa74815a",
   "metadata": {},
   "outputs": [],
   "source": [
    "#8 factorial testen: f(0),..., f(9) ausgeben\n",
    "i = -1\n",
    "for _ in ' ' * 10:\n",
    "    i = i + 1\n",
    "    x = factorial(i)\n",
    "    print(str(i) + '!', '=', x)"
   ]
  },
  {
   "cell_type": "code",
   "execution_count": null,
   "id": "da972af6-8a7b-46d7-a9c0-b7fb6753ffc4",
   "metadata": {},
   "outputs": [],
   "source": [
    "#8 factorial testen\n",
    "for n in '0123456789':\n",
    "    x = factorial(int(n))\n",
    "    print(x, end = ', ')"
   ]
  },
  {
   "cell_type": "code",
   "execution_count": null,
   "id": "da25d0cd-8298-4b80-ba1a-e44548d43761",
   "metadata": {},
   "outputs": [],
   "source": [
    "#9\n",
    "def sum_upto(n):\n",
    "    tot = 0\n",
    "    i = 0\n",
    "    for _ in ' ' * n:\n",
    "        i = i + 1\n",
    "        tot = tot + i\n",
    "    return tot\n",
    "\n",
    "for n in '0123456789':\n",
    "    x = sum_upto(int(n))\n",
    "    print(x, end = ', ')"
   ]
  },
  {
   "cell_type": "code",
   "execution_count": null,
   "id": "20f95ea5-5c48-4ae3-93cc-3156401f0ac4",
   "metadata": {},
   "outputs": [],
   "source": [
    "#10\n",
    "def ox_rect(n):\n",
    "    i = 0\n",
    "    for _ in ' ' * n:\n",
    "        i = i + 1\n",
    "        os = 'O' * i\n",
    "        xs = 'X' * (n + 1 - i)\n",
    "        line = os + xs\n",
    "        print(line)\n",
    "\n",
    "for n in '01234':\n",
    "    print('f(' + n +'):')\n",
    "    ox_rect(int(n))\n",
    "    print('-' * 60)"
   ]
  },
  {
   "cell_type": "code",
   "execution_count": null,
   "id": "de5afc8f-70b8-4810-9cb8-7c56b61cc234",
   "metadata": {},
   "outputs": [],
   "source": []
  }
 ],
 "metadata": {
  "kernelspec": {
   "display_name": "Python 3 (ipykernel)",
   "language": "python",
   "name": "python3"
  },
  "language_info": {
   "codemirror_mode": {
    "name": "ipython",
    "version": 3
   },
   "file_extension": ".py",
   "mimetype": "text/x-python",
   "name": "python",
   "nbconvert_exporter": "python",
   "pygments_lexer": "ipython3",
   "version": "3.13.0"
  }
 },
 "nbformat": 4,
 "nbformat_minor": 5
}
