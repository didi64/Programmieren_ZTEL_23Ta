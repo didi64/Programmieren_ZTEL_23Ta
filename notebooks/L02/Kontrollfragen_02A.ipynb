{
 "cells": [
  {
   "cell_type": "markdown",
   "id": "9646e298-cfa3-40e4-8437-2f4349edc0d3",
   "metadata": {},
   "source": [
    "### Kontrollfragen zur Lektion 2 mit Antworten\n",
    "1. Erstelle auf Verschiedene Arten einen Strings\n",
    "  die, falls mit *print* ausgebeben, so aussehen:\n",
    "  - Die Zeichen \",' und \\ haben eine spezielle Bedeutung innerhalb eines String.\n",
    "  - 1. Zeile   \n",
    "     2. Zeile\n",
    "2. Wie erh&auml;lt man das Verzeichnis aller definierten Variabeln?\n",
    "  Wie kann man testen ob eine Variable definiert ist?\n",
    "  Wie l&auml;sst sich eine definierte Variable aus dem Verzeichnis l&ouml;schen?\n",
    "3. Wie kann man alle vom Benutzer definierten Variabeln aus dem\n",
    "  Verzeichnis entfernen (2 M&ouml;glichkeiten)?\n",
    "4. Wozu dienen Funktionen?\n",
    "5. Welche der folgenden Namen sind gute Namen f&uuml;r Funktionen? Gib einige syntaktisch korrekte und inkorrekte Varianten an.\n",
    "   `f`, `FindFile`, `game_coords2canvas_coords`, `is_legal`, `xyz`.\n",
    "6. Wie kann man nachstehende Funktion aufrufen, um\n",
    "   $2*3 + 5$ zu berechnen?\n",
    "   ```python\n",
    "    def f(factor1, factor2, summand=5):\n",
    "        return factor1 * factor2 + summand\n",
    "    ```\n",
    "7. Schreibe eine Funktion `factorial`, die die Fakult&auml;t einer Zahl berechnet (4 Fakult&auml;t ist $1*2*3*4$).\n",
    "8. Schreibe eine Funktion, welche `factorial` mit den Werten\n",
    "   $0$ bis $9$ aufruft. Benutzt eine For-Schleife.  \n",
    "   **Hint**: `int('5')` wandelt den String `'5'` in die Zahl `5` um.\n",
    "9. Schreibe eine Funktion `sum_upto(n)`, welche\n",
    "   die Summe 1+2+...+n zur&uuml;ck gibt. Teste die Funktion!\n",
    "10. Schreibe eine Funktion `f(n)`, welche mit den Zeichen `O` und `X`\n",
    "    Rechteck mit n Zeilen und n+1 Spalten wie folgt darstellt:\n",
    "```\n",
    "f(0) f(1) f(2) f(3)  f(4)\n",
    "--------------------------\n",
    "     OX   OXX  OXXX   OXXXX       \n",
    "          OOX  OOXX   OOXXX    \n",
    "               OOOX   OOOXX   \n",
    "                      OOOOX\n",
    "```"
   ]
  },
  {
   "cell_type": "code",
   "execution_count": 1,
   "id": "46fd13d0-463d-4ad0-bb38-198938dc415d",
   "metadata": {},
   "outputs": [],
   "source": []
  },
  {
   "cell_type": "code",
   "execution_count": 3,
   "id": "2eaa5431-1fc0-4252-85b0-540e660087d6",
   "metadata": {},
   "outputs": [],
   "source": []
  },
  {
   "cell_type": "code",
   "execution_count": 17,
   "id": "20f95ea5-5c48-4ae3-93cc-3156401f0ac4",
   "metadata": {},
   "outputs": [],
   "source": [
    "def f(n):\n",
    "    i = 0\n",
    "    for _ in ' ' * n:\n",
    "        i = i + 1\n",
    "        stars = 'O' * i\n",
    "        pluses = 'X' * (n + 1 - i)\n",
    "        line = stars + pluses\n",
    "        print(line)\n",
    "    "
   ]
  },
  {
   "cell_type": "code",
   "execution_count": 21,
   "id": "4586360e-558d-4b8f-9914-56032049a3ec",
   "metadata": {},
   "outputs": [
    {
     "name": "stdout",
     "output_type": "stream",
     "text": [
      "OXXXX\n",
      "OOXXX\n",
      "OOOXX\n",
      "OOOOX\n"
     ]
    }
   ],
   "source": [
    "f(4)"
   ]
  },
  {
   "cell_type": "code",
   "execution_count": null,
   "id": "de5afc8f-70b8-4810-9cb8-7c56b61cc234",
   "metadata": {},
   "outputs": [],
   "source": []
  }
 ],
 "metadata": {
  "kernelspec": {
   "display_name": "Python 3 (ipykernel)",
   "language": "python",
   "name": "python3"
  },
  "language_info": {
   "codemirror_mode": {
    "name": "ipython",
    "version": 3
   },
   "file_extension": ".py",
   "mimetype": "text/x-python",
   "name": "python",
   "nbconvert_exporter": "python",
   "pygments_lexer": "ipython3",
   "version": "3.13.0"
  }
 },
 "nbformat": 4,
 "nbformat_minor": 5
}
