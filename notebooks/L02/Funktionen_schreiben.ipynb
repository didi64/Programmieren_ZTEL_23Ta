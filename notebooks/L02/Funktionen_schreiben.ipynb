{
 "cells": [
  {
   "cell_type": "markdown",
   "id": "87794d8d-07ac-4fe7-9514-c378e8efce2a",
   "metadata": {},
   "source": [
    "### Vorgehen zum Schreiben einer Funktion\n",
    "Code ist schnell geschrieben, die Fehlersuche dagegen ist oft sher zeitintensiv.\n",
    "Deshalb versucht man oft, den **Funktionsbody** aus bereits **getesteten** Codefragmenten zusammenzusetzen.  \n",
    "\n",
    "Exemplarisch erstellen wir eine Funktion\n",
    "```python\n",
    "def reverse_word(word):\n",
    "    '''returns the reversed word\n",
    "       word: str\n",
    "    '''\n",
    "    ...\n",
    "```"
   ]
  },
  {
   "cell_type": "markdown",
   "id": "93d9df8b-a87b-4d43-8221-e25c26e2bc0a",
   "metadata": {},
   "source": [
    "**1. Schritt**: Ein kurzes Wort umdrehen. "
   ]
  },
  {
   "cell_type": "code",
   "execution_count": null,
   "id": "c2bea3cb-5546-4200-a3f4-96af8a9b720b",
   "metadata": {},
   "outputs": [],
   "source": [
    "word = 'abc'\n",
    "\n",
    "\n",
    "drow = ''  # reverse word\n",
    "drow"
   ]
  },
  {
   "cell_type": "code",
   "execution_count": null,
   "id": "a4dc7c16-7712-4b0b-9709-cb5b41754eb2",
   "metadata": {},
   "outputs": [],
   "source": [
    "drow = word[0] + drow\n",
    "drow"
   ]
  },
  {
   "cell_type": "code",
   "execution_count": null,
   "id": "e28b9367-6a77-4b89-9177-a8611e466ff6",
   "metadata": {},
   "outputs": [],
   "source": [
    "drow = word[1] + drow\n",
    "drow"
   ]
  },
  {
   "cell_type": "code",
   "execution_count": null,
   "id": "9553df8b-faba-4deb-9f7d-359320e57a34",
   "metadata": {},
   "outputs": [],
   "source": [
    "drow = word[2] + drow\n",
    "drow"
   ]
  },
  {
   "cell_type": "markdown",
   "id": "63827fa4-0730-4d19-b193-d2d1673f3c25",
   "metadata": {},
   "source": [
    "**2. Schritt**: Mit einer For-Schleife &uuml;ber Buchstaben des Worts iterieren"
   ]
  },
  {
   "cell_type": "code",
   "execution_count": null,
   "id": "9f6acae8-06e8-4499-a89c-2c9adcdbabd4",
   "metadata": {},
   "outputs": [],
   "source": [
    "word = 'foobar'\n",
    "\n",
    "drow = ''\n",
    "for c in word:\n",
    "    drow = c + drow\n",
    "drow"
   ]
  },
  {
   "cell_type": "markdown",
   "id": "a6b40c29-cede-4388-bcda-4c5817c17832",
   "metadata": {},
   "source": [
    "**3. Schritt**: Code als Funktionsboy verwenden"
   ]
  },
  {
   "cell_type": "code",
   "execution_count": null,
   "id": "56e922a8-968f-4392-a85d-b86afb37202d",
   "metadata": {},
   "outputs": [],
   "source": [
    "def reverse_word(word):\n",
    "    '''returns the reversed word\n",
    "       word: str\n",
    "    '''\n",
    "    drow = ''\n",
    "    for c in word:\n",
    "        drow = c + drow\n",
    "    return drow"
   ]
  },
  {
   "cell_type": "markdown",
   "id": "484345a0-1b21-4aef-8fed-bc9a2888dba0",
   "metadata": {},
   "source": [
    "**4. Schritt**: Funktion testen"
   ]
  },
  {
   "cell_type": "code",
   "execution_count": null,
   "id": "46649749-7a59-48cc-aa2d-ceda45b9a0d2",
   "metadata": {},
   "outputs": [],
   "source": [
    "word = 'sugus'\n",
    "reverse_word(word)"
   ]
  },
  {
   "cell_type": "code",
   "execution_count": null,
   "id": "dd952aad-df74-4143-8ed5-e6b34e3c251c",
   "metadata": {},
   "outputs": [],
   "source": [
    "words = ('Sugus', 'foo', '@234', 'blabla')\n",
    "for word in words:\n",
    "    drow = reverse_word(word)\n",
    "    print(word, drow, sep=' | ')"
   ]
  },
  {
   "cell_type": "markdown",
   "id": "2e87b820-7d3e-4564-b689-d4a9129de2e0",
   "metadata": {},
   "source": [
    "**5. Schritt**: Funktions in.py File speichern  \n",
    "Wir wollen einige unserer Funktionen in einem File\n",
    "`my_functions.py` im Verzeichnis `notebooks` speichern,\n",
    "damit wir die Funktion sp&auml;ter wiederverwenden k&ouml;nnen.  \n",
    "- Die Zellen-Magic `%%file filename` schreibt die Zellen in ein neues File.\n",
    "- Die Zellen-Magic `%%writefile -a filename` h&auml;ngt  die Zellen an ein bestehendes File an.\n",
    "\n",
    "Es empfiehlt sich, nun das geschrieben File zu &ouml;ffnen und ev.\n",
    "zu editieren.\n",
    "\n"
   ]
  },
  {
   "cell_type": "code",
   "execution_count": null,
   "id": "c21986ca-f151-44f1-9356-a3167426c694",
   "metadata": {},
   "outputs": [],
   "source": [
    "%%file my_functions.py\n",
    "def reverse_word(word):\n",
    "    '''returns the reversed word\n",
    "       word: str\n",
    "    '''\n",
    "    drow = ''\n",
    "    for c in word:\n",
    "        drow = c + drow\n",
    "    return drow"
   ]
  },
  {
   "cell_type": "code",
   "execution_count": 7,
   "id": "117af102-9739-49e2-aab4-58c6a9c2e595",
   "metadata": {},
   "outputs": [
    {
     "name": "stdout",
     "output_type": "stream",
     "text": [
      "Appending to my_functions.py\n"
     ]
    }
   ],
   "source": [
    "%%writefile -a my_functions.py\n",
    "def test():\n",
    "    '''gibt 'Test' aus'''\n",
    "     print('Test')"
   ]
  },
  {
   "cell_type": "markdown",
   "id": "b4a9090c-86cf-49f7-b14b-5edce6b0ff13",
   "metadata": {},
   "source": [
    "**6. Schritt**: Funktion wiederverwenden\n",
    "1. Nur die Funktion `reverse_word` aus dem File `my_functions.py`\n",
    "   importieren. Dann kann die Funktion direkt mit\n",
    "   `reverse_word(word)` aufgerufen werden.  \n",
    "2. Das ganze File/Modul `my_functions.py` importieren.\n",
    "   Dann muss die Funktion mit\n",
    "   `my_functions.reverse_word(word)` aufgerufen werden.\n",
    "\n",
    "Vorteil von Variante 2: Es ist klar, wo die Funktion\n",
    "`reverse_word` definiert ist. "
   ]
  },
  {
   "cell_type": "code",
   "execution_count": null,
   "id": "973237e9-1e0b-4023-8866-0f7237067aba",
   "metadata": {},
   "outputs": [],
   "source": [
    "%reset -f\n",
    "from my_functions import reverse_word"
   ]
  },
  {
   "cell_type": "code",
   "execution_count": null,
   "id": "dac6a87b-9f50-42ec-a9a0-b43378d9ebad",
   "metadata": {},
   "outputs": [],
   "source": [
    "reverse_word('abcd')"
   ]
  },
  {
   "cell_type": "code",
   "execution_count": null,
   "id": "2daf8d76-cec8-4f0c-9c58-cff49ed99a34",
   "metadata": {},
   "outputs": [],
   "source": [
    "import my_functions"
   ]
  },
  {
   "cell_type": "code",
   "execution_count": null,
   "id": "47d0f147-b430-4fd7-9d7c-0b8ca53f4534",
   "metadata": {},
   "outputs": [],
   "source": [
    "my_functions.reverse_word('abcd')\n",
    "my_functions.test()"
   ]
  }
 ],
 "metadata": {
  "kernelspec": {
   "display_name": "Python 3 (ipykernel)",
   "language": "python",
   "name": "python3"
  },
  "language_info": {
   "codemirror_mode": {
    "name": "ipython",
    "version": 3
   },
   "file_extension": ".py",
   "mimetype": "text/x-python",
   "name": "python",
   "nbconvert_exporter": "python",
   "pygments_lexer": "ipython3",
   "version": "3.13.0"
  }
 },
 "nbformat": 4,
 "nbformat_minor": 5
}
