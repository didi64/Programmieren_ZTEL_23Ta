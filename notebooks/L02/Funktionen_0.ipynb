{
 "cells": [
  {
   "cell_type": "markdown",
   "id": "87794d8d-07ac-4fe7-9514-c378e8efce2a",
   "metadata": {},
   "source": [
    "### Funktionen I\n",
    "Damit eine Programmiersprache von praktischem Nutzen ist, muss es m&ouml;glich sein,\n",
    "bestehenden und getesteten Programmcode einfach wiederverwenden zu k&ouml;nnen. \n",
    "**Funktionen** erm&ouml;glichen genau das.  \n",
    "Funktionen m&uuml;ssen  **definiert** werden, bevor sie **aufgerufen** werden k&ouml;nnen.\n",
    "\n",
    "```python\n",
    "# Funktionsdefinition\n",
    "def say_hello(name, anrede='Hello'):\n",
    "    '''gibt anrede gefolgt von name aus\n",
    "       name: str\n",
    "       anrede: str \n",
    "    '''\n",
    "    print(anrede, name)\n",
    "```\n",
    "\n",
    "Eine **Funktionsdefinition** ist eine **Anweisung** und hat folgende Form.\n",
    "\n",
    "```python\n",
    "def <Funktionsname>(<Argumente>, <Default-Argumente>):  \n",
    "    <Docstring>\n",
    "    <Anweisungen>  # Funkionsbody\n",
    "```\n",
    "\n",
    "- Der Funktionsname ist ein Variabelname.\n",
    "- Die **Argumente** sind eine m&ouml;glicherweise leere, kommaseparierte Liste von\n",
    "  **Variabelnamen**.\n",
    "- Die **Default-Argumente** eine m&ouml;glicherweise leere, kommaseparierte Liste von\n",
    "**Zuweisungen** von Defaultwerten an Variabelnamen.\n",
    "- Der Docstring (optional) ist ein Stringliteral, typischerweise triple-quoted, das beschreibt, was die Funktion tut.\n",
    "- Der Funktionsbody muss **min. eine Anweisung** enthalten.\n",
    "  Im Funktionsbody k&ouml;nnen zudem **return**-Anweisungen stehen.\n",
    "  Eine return-Anweisung hat die Form\n",
    "  >return `<Ausdruck>`\n",
    "  \n",
    "Der Funktionsname zusammen mit den Argumenten nennt man auch **Signatur der Funktion**.  \n",
    "\n",
    "\n",
    "\n",
    "Ein **Funktionsaufruf** ist eine **Anweisung** und ein **Ausdruck**. Der Wert dieses Ausdrucks\n",
    "ist der Wert des Ausdruck nach dem `return` keyword.\n",
    "Hat die Funktion keine return-Anweisung ist der Wert des Funktionsaufrufs `None`.  \n",
    "\n",
    "```python\n",
    "# Funktionsaufrufe\n",
    "say_hello('Anna')\n",
    "say_hello(name='Bob')\n",
    "say_hello('Cindy', 'Hi')\n",
    "say_hello('Cindy', anrede='Hi')\n",
    "say_hello(name='Cindy', anrede='Hi')\n",
    "say_hello(anrede='Hi',  name='Cindy')\n",
    "```\n",
    "\n",
    "Ein Funktionsaufruf hat folgende Form.\n",
    "\n",
    "```python\n",
    "<Funktionsname>(<positional Argumente>, <Keyword-Argumente>)  \n",
    "```\n",
    "\n",
    "- Die positional Argumente sind eine kommaseparierte Liste von Ausdr&uuml;cken.\n",
    "- Die Keyword-Argumente eine kommaseparierte Liste von Zuweisungen von Ausdr&uuml;cken an Variabelnamen.\n",
    "\n",
    "Eine Funktion hat ihr **eigenes** lokales Variabelverzeichnis.\n",
    "- Beim Funktionsaufruf werden die &uuml;bergebenen Argumente in lokale Verzeichnis aufgenommen.\n",
    "- Alle Namen, die links von einer Zuweisung stehen, werden als lokale Namen markiert.\n",
    "- Wird einer Variable ein Wert zugewiesen, so\n",
    "wird diese Variable ins lokale Variablenverzeichnis aufgenommen, bez. der Wert im lokalen Verzeichnis wird ge&auml;ndert.\n",
    "- Kommt in einem Ausdruck ein nicht-lokaler Name vor, der noch nicht im lokalen Verzeichnis ist,\n",
    "  wird im globalen Verzeichnis gesucht, anderfalls ein UnboundLocalError erzeugt."
   ]
  },
  {
   "cell_type": "code",
   "execution_count": null,
   "id": "96371af6-c286-44b0-be54-1f47a5473a26",
   "metadata": {},
   "outputs": [],
   "source": [
    "x = 2  # globales x\n",
    "def f():\n",
    "    print(x)  # dem lokalen Namen ist kein Wert zugeordnet\n",
    "    x = 2     # das macht x zu einem lokalen Namen \n",
    "\n",
    "f()"
   ]
  },
  {
   "cell_type": "code",
   "execution_count": null,
   "id": "2a380767-b9c3-42be-8c19-3a673a146857",
   "metadata": {},
   "outputs": [],
   "source": [
    "def say_hello(name, anrede='Hello'):\n",
    "    '''gibt anrede gefolgt von name aus'''\n",
    "    print(anrede, name)\n",
    "\n",
    "\n",
    "say_hello('Anna')\n",
    "say_hello(name='Bob')\n",
    "say_hello('Cindy', 'Hi')\n",
    "say_hello('Cindy', anrede='Hi')\n",
    "say_hello(name='Cindy', anrede='Hi')\n",
    "say_hello(anrede='Hi',  name='Cindy')"
   ]
  },
  {
   "cell_type": "code",
   "execution_count": null,
   "id": "8c47850b-4438-407e-9bc3-88d58edc0751",
   "metadata": {},
   "outputs": [],
   "source": [
    "# nicht erlaubt\n",
    "say_hello(name='Cindy', 'Hi')"
   ]
  },
  {
   "cell_type": "code",
   "execution_count": null,
   "id": "508b7b6b-6492-4d48-9826-6e0b8a859271",
   "metadata": {},
   "outputs": [],
   "source": [
    "# erzeugt enen TypeError, der Variabelname gruss kommt in der\n",
    "# Signatur der Funktion nicht vor.\n",
    "say_hello(name='Cindy', gruss='Hi')"
   ]
  },
  {
   "cell_type": "code",
   "execution_count": null,
   "id": "b83030fb-bf17-4c41-abe5-627168480fa8",
   "metadata": {},
   "outputs": [],
   "source": [
    "# Funktion mit Rueckgabewert\n",
    "def is_even(nbr):\n",
    "    '''returns True iff nbr is even\n",
    "       nbr: int\n",
    "    '''\n",
    "    return nbr % 2 == 0\n",
    "\n",
    "is_even(5)"
   ]
  }
 ],
 "metadata": {
  "kernelspec": {
   "display_name": "Python 3 (ipykernel)",
   "language": "python",
   "name": "python3"
  },
  "language_info": {
   "codemirror_mode": {
    "name": "ipython",
    "version": 3
   },
   "file_extension": ".py",
   "mimetype": "text/x-python",
   "name": "python",
   "nbconvert_exporter": "python",
   "pygments_lexer": "ipython3",
   "version": "3.13.0"
  }
 },
 "nbformat": 4,
 "nbformat_minor": 5
}
