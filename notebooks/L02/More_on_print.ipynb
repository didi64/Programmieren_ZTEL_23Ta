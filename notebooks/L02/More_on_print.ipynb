{
    "cells": [
        {
            "cell_type": "markdown",
            "id": "8187e71b-8cad-4e32-851d-dea860a693ce",
            "metadata": {},
            "source": [
                "### More on `print`"
            ]
        },
        {
            "cell_type": "code",
            "execution_count": 41,
            "id": "e92574fa-b8e4-4158-bf04-35b10181bbea",
            "metadata": {},
            "outputs": [
                {
                    "ename": "NameError",
                    "evalue": "name 'foo' is not defined",
                    "output_type": "error",
                    "traceback": [
                        "\u001b[0;31m---------------------------------------------------------------------------\u001b[0m",
                        "\u001b[0;31mNameError\u001b[0m                                 Traceback (most recent call last)",
                        "Cell \u001b[0;32mIn[41], line 1\u001b[0m\n\u001b[0;32m----> 1\u001b[0m \u001b[43mfoo\u001b[49m\n",
                        "\u001b[0;31mNameError\u001b[0m: name 'foo' is not defined"
                    ]
                }
            ],
            "source": [
                "# Fehlermeldung provozieren\n",
                "foo"
            ]
        },
        {
            "cell_type": "code",
            "execution_count": 3,
            "id": "e3339346-da14-4b93-8f56-c7da296aa491",
            "metadata": {},
            "outputs": [
                {
                    "name": "stderr",
                    "output_type": "stream",
                    "text": [
                        "Eine Fehlermeldung!\n"
                    ]
                }
            ],
            "source": [
                "import sys\n",
                "print('Eine Fehlermeldung!', file=sys.stderr)"
            ]
        },
        {
            "cell_type": "markdown",
            "id": "326d8402-64eb-4411-98fe-e74960fe4fa1",
            "metadata": {},
            "source": [
                "**Ansi Color Escape Sequences**  \n",
                "See e.g. https://stackoverflow.com/a/33206814"
            ]
        },
        {
            "cell_type": "code",
            "execution_count": 51,
            "id": "42d09fb5-3291-431e-bcc7-2a521d4176ea",
            "metadata": {},
            "outputs": [
                {
                    "name": "stderr",
                    "output_type": "stream",
                    "text": [
                        "\u001b[22;31m---------------------------------------------------------------------------\n",
                        "NameError\u001b[0m                                 Traceback (most recent call last)\n",
                        "Cell\u001b[22;32m In[14], line 1\n",
                        "----> 1\u001b[0m \u001b[22;43mfoo\u001b[0m\n",
                        "\n",
                        "\u001b[22;31mNameError\u001b[0m: name 'foo' ist not defined\n"
                    ]
                }
            ],
            "source": [
                "reset = chr(27) + '[0m'\n",
                "red = chr(27) + '[22;31m'\n",
                "green = chr(27) + '[22;32m'\n",
                "Yellow = chr(27) + '[22;43m'\n",
                "\n",
                "err_msg = f'''{red}\\\n",
                "---------------------------------------------------------------------------\n",
                "NameError{reset}                                 Traceback (most recent call last)\n",
                "Cell{green} In[14], line 1\n",
                "----> 1{reset} {Yellow}foo{reset}\n",
                "\n",
                "{red}NameError{reset}: name 'foo' ist not defined\\\n",
                "'''\n",
                "\n",
                "print(err_msg, file=sys.stderr)"
            ]
        },
        {
            "cell_type": "code",
            "execution_count": null,
            "id": "5bd9e4c2-7498-409e-95e1-7e82a9ed6ac8",
            "metadata": {},
            "outputs": [],
            "source": []
        },
        {
            "cell_type": "code",
            "execution_count": 52,
            "id": "f0a0bfb3-8ed1-4fd2-a5c3-9429fdaaacfc",
            "metadata": {},
            "outputs": [
                {
                    "name": "stdout",
                    "output_type": "stream",
                    "text": [
                        "  *** HALLO, WELT! ***                                                  \r"
                    ]
                }
            ],
            "source": [
                "# soll Einfluss von flush illustrieren\n",
                "# flush=False heisst, dass die Ausgabe zuerst in einem Buffer aggregiert wird, \n",
                "# und bei Gelegenheit ausgegeben wird.\n",
                "\n",
                "import time\n",
                "flush = True  # setze flush = False, was aendert?\n",
                "lauttext = '*** HALLO, WELT! ***'\n",
                "text = ' {} '.format(lauttext)\n",
                "\n",
                "for _ in range(5):\n",
                "    for i in range(50):\n",
                "        print(text, end='', flush=flush)\n",
                "        time.sleep(1/25)\n",
                "        print('\\r{}'.format(' ' * i), end='')\n",
                "\n",
                "    for i in range(50, -1, -1):\n",
                "        print(text, end='', flush=flush)\n",
                "        time.sleep(1/25)\n",
                "        print('\\r{}'.format(' ' * i), end='')"
            ]
        },
        {
            "cell_type": "code",
            "execution_count": null,
            "id": "de822974-d3c4-4268-b70a-a9aca3f3646d",
            "metadata": {},
            "outputs": [],
            "source": []
        },
        {
            "cell_type": "code",
            "execution_count": 19,
            "id": "5bb9e274-52db-409c-aff9-8e98f59883dc",
            "metadata": {},
            "outputs": [
                {
                    "name": "stdout",
                    "output_type": "stream",
                    "text": [
                        "hallo"
                    ]
                }
            ],
            "source": [
                "import time\n",
                "#print('action!')\n",
                "print('hallo', end='', flush=False)\n",
                "time.sleep(3)"
            ]
        },
        {
            "cell_type": "code",
            "execution_count": 20,
            "id": "2b401729-1bc1-44a0-9bc6-491962db57bb",
            "metadata": {},
            "outputs": [
                {
                    "name": "stderr",
                    "output_type": "stream",
                    "text": [
                        "<cell>2: \u001b[1m\u001b[31merror:\u001b[m \u001b[m\u001b[1m\"str\"\u001b[m has no attribute \u001b[m\u001b[1m\"foo\"\u001b[m  \u001b[m\u001b[33m[attr-defined]\u001b[m\n"
                    ]
                },
                {
                    "ename": "AttributeError",
                    "evalue": "'str' object has no attribute 'foo'",
                    "output_type": "error",
                    "traceback": [
                        "\u001b[0;31m---------------------------------------------------------------------------\u001b[0m",
                        "\u001b[0;31mAttributeError\u001b[0m                            Traceback (most recent call last)",
                        "Cell \u001b[0;32mIn[20], line 2\u001b[0m\n\u001b[1;32m      1\u001b[0m s \u001b[38;5;241m=\u001b[39m \u001b[38;5;124m'\u001b[39m\u001b[38;5;124ms\u001b[39m\u001b[38;5;124m'\u001b[39m\n\u001b[0;32m----> 2\u001b[0m \u001b[43ms\u001b[49m\u001b[38;5;241;43m.\u001b[39;49m\u001b[43mfoo\u001b[49m \u001b[38;5;241m=\u001b[39m \u001b[38;5;241m2\u001b[39m\n",
                        "\u001b[0;31mAttributeError\u001b[0m: 'str' object has no attribute 'foo'"
                    ]
                }
            ],
            "source": [
                "s = 's'\n",
                "s.foo = 2"
            ]
        },
        {
            "cell_type": "code",
            "execution_count": null,
            "id": "516658d2-c5ae-44c3-ad74-0ac1e882d621",
            "metadata": {},
            "outputs": [],
            "source": []
        }
    ],
    "metadata": {
        "author": "dieter.probst@gmail.com",
        "kernelspec": {
            "display_name": "Python 3 (ipykernel)",
            "language": "python",
            "name": "python3"
        },
        "language_info": {
            "codemirror_mode": {
                "name": "ipython",
                "version": 3
            },
            "file_extension": ".py",
            "mimetype": "text/x-python",
            "name": "python",
            "nbconvert_exporter": "python",
            "pygments_lexer": "ipython3",
            "version": "3.12.4"
        }
    },
    "nbformat": 4,
    "nbformat_minor": 5
}