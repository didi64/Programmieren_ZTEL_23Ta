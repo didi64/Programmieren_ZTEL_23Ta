{
 "cells": [
  {
   "cell_type": "markdown",
   "id": "b731a7a3-5baf-42be-9b1b-f4b9a4448ccd",
   "metadata": {
    "editable": true,
    "slideshow": {
     "slide_type": ""
    },
    "tags": []
   },
   "source": [
    "### Funktionen\n",
    "Damit eine Programmiersprache von praktischem Nutzen ist, muss es m&ouml;glich sein,\n",
    "bestehenden und getesteten Programmcode einfach wiederverwenden zu k&ouml;nnen. \n",
    "**Funktionen** erm&ouml;glichen genau das.\n",
    "\n",
    "\n",
    "Bevor wir erkl&auml;ren wie Funktionen in Python definiert werden, wollen wir uns &uuml;berlegen, \n",
    "welche Eigenschaften eine Funktion haben sollte. Um zu verdeutlichen, was beim Funktionsaufruf passiert, versuchen wir Code zu schreiben, der &auml;hnliches leistet.\n",
    "\n",
    "Betrachte folgenden Code, der ein Wort umdreht und ausgibt."
   ]
  },
  {
   "cell_type": "code",
   "execution_count": 44,
   "id": "de8e10f4-ebdd-481e-b700-c50d85296af9",
   "metadata": {},
   "outputs": [
    {
     "name": "stderr",
     "output_type": "stream",
     "text": [
      "<cell>6: \u001b[1m\u001b[31merror:\u001b[m Trying to read deleted variable \u001b[m\u001b[1m\"drow\"\u001b[m  \u001b[m\u001b[33m[misc]\u001b[m\n"
     ]
    },
    {
     "name": "stdout",
     "output_type": "stream",
     "text": [
      "raboof\n"
     ]
    }
   ],
   "source": [
    "word = 'foobar'\n",
    "\n",
    "# Wort word gespiegeln ausgeben\n",
    "drow = ''\n",
    "for c in word:\n",
    "    drow = c + drow\n",
    "print(drow)"
   ]
  },
  {
   "cell_type": "markdown",
   "id": "31c4ed5c-7b05-451b-88e5-00534fd86591",
   "metadata": {},
   "source": [
    "Wir m&ouml;chten eine Anweisung `printGespiegelt_word` zur Verf&uuml;gung haben, welche\n",
    "ein in der Variable *word* gespeichertes Wort gespiegelt ausgibt. \n",
    "**Diese Anweisung sollte aber keine Variabeln &auml;ndern**!\n",
    "Andernfalls w&uuml;rde ev. der Ablauf unseres Programms beeinflusst!"
   ]
  },
  {
   "cell_type": "code",
   "execution_count": 45,
   "id": "0677c50b-df77-4361-ac4e-ee3f2be01482",
   "metadata": {},
   "outputs": [],
   "source": [
    "printGespiegelt_word = '''\\\n",
    "# in Variable word gespeicherter Text gespiegeln ausgeben\n",
    "\n",
    "drow = ''\n",
    "for c in word:\n",
    "    drow = c + drow\n",
    "print(drow)'''"
   ]
  },
  {
   "cell_type": "code",
   "execution_count": 46,
   "id": "649e49f2-af0f-494c-9636-759c8b494ea3",
   "metadata": {},
   "outputs": [],
   "source": [
    "del c, drow"
   ]
  },
  {
   "cell_type": "code",
   "execution_count": 47,
   "id": "a985f4a0-65af-466c-bf98-6f3b58aaf9c5",
   "metadata": {},
   "outputs": [
    {
     "name": "stderr",
     "output_type": "stream",
     "text": [
      "<cell>2: \u001b[1m\u001b[31merror:\u001b[m Need type annotation for \u001b[m\u001b[1m\"G\"\u001b[m (hint: \u001b[m\u001b[1m\"G: dict[<type>, <type>] = ...\"\u001b[m)  \u001b[m\u001b[33m[var-annotated]\u001b[m\n"
     ]
    },
    {
     "name": "stdout",
     "output_type": "stream",
     "text": [
      "raboof\n"
     ]
    }
   ],
   "source": [
    "word = 'foobar'\n",
    "G = {}  # globales Variabelverzeichnis\n",
    "L = {'word': word}  # lokales Variabelverzeichnis\n",
    "exec(printGespiegelt_word, G, L)"
   ]
  },
  {
   "cell_type": "code",
   "execution_count": 48,
   "id": "0584b819-5db9-4f5f-b822-df2b9db63df6",
   "metadata": {},
   "outputs": [
    {
     "data": {
      "text/plain": [
       "False"
      ]
     },
     "execution_count": 48,
     "metadata": {},
     "output_type": "execute_result"
    }
   ],
   "source": [
    "'drow' in vars()"
   ]
  },
  {
   "cell_type": "code",
   "execution_count": 7,
   "id": "bd91803c-ab9d-4d1e-8997-bc3dde0a5098",
   "metadata": {},
   "outputs": [
    {
     "data": {
      "text/plain": [
       "False"
      ]
     },
     "execution_count": 7,
     "metadata": {},
     "output_type": "execute_result"
    }
   ],
   "source": [
    "'c' in vars()"
   ]
  },
  {
   "cell_type": "code",
   "execution_count": 49,
   "id": "0a4f0dd9-e049-4dfc-b603-25baba2dfe90",
   "metadata": {},
   "outputs": [],
   "source": [
    "dmin_x_y__z = '''\\\n",
    "# berechnet max(x-y, 0), Resultat wird in Variable z gespeichert\n",
    "\n",
    "d = 0\n",
    "for _ in ' ' * (x+1):\n",
    "    is_not_match = (y + d) != x\n",
    "    d = d + is_not_match\n",
    "z = d * (1 - is_not_match)'''"
   ]
  },
  {
   "cell_type": "code",
   "execution_count": null,
   "id": "412d6f49-068c-4cc2-9cff-4daf0b01b10f",
   "metadata": {},
   "outputs": [],
   "source": []
  },
  {
   "cell_type": "code",
   "execution_count": 50,
   "id": "527bd2b7-03ac-424d-b42f-16f8e47f4f8c",
   "metadata": {},
   "outputs": [
    {
     "name": "stderr",
     "output_type": "stream",
     "text": [
      "<cell>3: \u001b[1m\u001b[31merror:\u001b[m Need type annotation for \u001b[m\u001b[1m\"G\"\u001b[m (hint: \u001b[m\u001b[1m\"G: dict[<type>, <type>] = ...\"\u001b[m)  \u001b[m\u001b[33m[var-annotated]\u001b[m\n"
     ]
    },
    {
     "data": {
      "text/plain": [
       "13"
      ]
     },
     "execution_count": 50,
     "metadata": {},
     "output_type": "execute_result"
    }
   ],
   "source": [
    "d = 42  # darf sich nicht aendern\n",
    "\n",
    "G = {}\n",
    "L = {'x': 20, 'y': 7}\n",
    "exec(dmin_x_y__z, G, L)\n",
    "L['z']"
   ]
  },
  {
   "cell_type": "code",
   "execution_count": 19,
   "id": "c0331d65-9663-4d8f-8a59-f5ff1fee77c0",
   "metadata": {},
   "outputs": [],
   "source": [
    "sayHello_name = '''\\\n",
    "# stellt name anrede voran\n",
    "\n",
    "opening = anrede + ' ' + name + '!'\n",
    "print(opening)'''"
   ]
  },
  {
   "cell_type": "code",
   "execution_count": 22,
   "id": "691d13d8-3473-45f2-b8df-dc8aed9216b9",
   "metadata": {},
   "outputs": [
    {
     "name": "stdout",
     "output_type": "stream",
     "text": [
      "Hallo Anna!\n",
      "The Queens's Gambit\n"
     ]
    }
   ],
   "source": [
    "anrede = 'Hallo'\n",
    "opening = \"The Queens's Gambit\"  # darf sich nicht aeandern!\n",
    "\n",
    "G = {'anrede': anrede}\n",
    "L = {'name': 'Anna'}\n",
    "exec(sayHello_name, G, L)\n",
    "print(opening)"
   ]
  },
  {
   "cell_type": "markdown",
   "id": "0b289f5b-f45e-4f76-89e5-e7f9a121fbfb",
   "metadata": {},
   "source": [
    "***\n",
    "Um Funktionsaufrufe zu emulieren k&ouml;nnten wir nun mit dem Python-Interpreter aushandeln, dass er\n",
    "Anweisungen der Form\n",
    "\n",
    "`@bar_x(a)`\n",
    "\n",
    "und\n",
    "\n",
    "`c = @foo_x_y__z(a, b)`\n",
    "\n",
    "\n",
    "ersetzt durch\n",
    "\n",
    "```\n",
    "L = {'x': a}\n",
    "eval(bar_x, vars(), L)\n",
    "```\n",
    "\n",
    "bez.\n",
    "\n",
    "```\n",
    "L = {'x': a}\n",
    "exec(foo_x_y__z, vars(), {})\n",
    "c = L['z']\n",
    "```\n",
    "***"
   ]
  },
  {
   "cell_type": "code",
   "execution_count": null,
   "id": "61ea15e6-50e9-41ff-b98f-f492595ff44e",
   "metadata": {},
   "outputs": [],
   "source": [
    "# @printGespiegelt_word('abcd')\n",
    "L = {'word': 'abcd'}\n",
    "exec(printGespiegelt_word, vars(), L)\n",
    "\n",
    "# @dmin_x_y__resultat(100, 1)\n",
    "L = {'x': 100 , 'y': 1}\n",
    "exec(dmin, vars(), L)\n",
    "d = L['resultat']\n",
    "\n",
    "print(x, 'minus', y, 'ist', d)\n",
    "\n",
    "\n",
    "anrede = 'Hoi'\n",
    "\n",
    "# @sayHello_name('Diana')\n",
    "exec(o, vars(), L={'name': 'Diana'})"
   ]
  },
  {
   "cell_type": "code",
   "execution_count": null,
   "id": "e1b5ca54-6ac2-4560-8d5e-55beb3e12f4a",
   "metadata": {},
   "outputs": [],
   "source": []
  },
  {
   "cell_type": "code",
   "execution_count": 55,
   "id": "c1fd393c-6d26-4e3c-a17f-5f8f0409e42e",
   "metadata": {},
   "outputs": [],
   "source": [
    "def print_gespiegelt(word):\n",
    "    '''Wort word gespiegeln ausgeben'''\n",
    "    drow = ''\n",
    "    for c in word:\n",
    "        drow = c + drow\n",
    "    print(drow)\n",
    "\n",
    "\n",
    "def dmin(x, y):\n",
    "    '''berechnet max(x-y, 0)'''\n",
    "    d = 0\n",
    "    for _ in ' ' * (x+1):\n",
    "        is_not_match = (y + d) != x\n",
    "        d = d + is_not_match\n",
    "    d = d * (1 - is_not_match)\n",
    "    return d\n",
    "\n",
    "\n",
    "def say_hello(name):\n",
    "    '''gibt anrede + name aus'''\n",
    "    opening = anrede + ' ' + name + '!'\n",
    "    print(opening)"
   ]
  },
  {
   "cell_type": "code",
   "execution_count": 56,
   "id": "f625fed1-6ac9-43d0-b962-dbbac60c21e6",
   "metadata": {},
   "outputs": [
    {
     "name": "stdout",
     "output_type": "stream",
     "text": [
      "raboof\n"
     ]
    }
   ],
   "source": [
    "print_gespiegelt(word)"
   ]
  },
  {
   "cell_type": "code",
   "execution_count": 57,
   "id": "4b45b0ce-be0c-466b-93bf-529cb27fbfac",
   "metadata": {},
   "outputs": [
    {
     "data": {
      "text/plain": [
       "2"
      ]
     },
     "execution_count": 57,
     "metadata": {},
     "output_type": "execute_result"
    }
   ],
   "source": [
    "diff = dmin(5, 3)\n",
    "diff"
   ]
  },
  {
   "cell_type": "code",
   "execution_count": 58,
   "id": "f5760a6d-68f5-44e2-bdc1-f40555c6cb9e",
   "metadata": {},
   "outputs": [
    {
     "name": "stdout",
     "output_type": "stream",
     "text": [
      "guten Tag Bob!\n"
     ]
    }
   ],
   "source": [
    "anrede = 'guten Tag'\n",
    "say_hello('Bob')"
   ]
  },
  {
   "cell_type": "markdown",
   "id": "dd5e8bc5-6046-4a23-ac3e-448e3dc90533",
   "metadata": {},
   "source": [
    "Wird einer Variable ein Wert zugewiesen, so\n",
    "wird diese Variable ins lokale Variablenverzeichnis aufgenommen, bez. der Wert im lokalen Verzeichnis wird ge&auml;ndert.\n",
    "Kommt in einem Ausdruck ein Name vor, der nicht im lokalen Verzeichnis ist, wird im\n",
    "globalen Verzeichnis gesucht. Wird der Wert auch dort nicht gefunden, wird ein NameError erzeugt. "
   ]
  },
  {
   "cell_type": "code",
   "execution_count": 23,
   "id": "9756a2c2-4422-447b-be72-6caa049671fa",
   "metadata": {},
   "outputs": [
    {
     "name": "stdout",
     "output_type": "stream",
     "text": [
      "Anna\n",
      "Bob\n",
      "Charlie\n"
     ]
    }
   ],
   "source": [
    "names = 'Anna,Bob,Charlie,Diana'\n",
    "name = ''\n",
    "for c in names:\n",
    "    # falls c gleich ',' ist ' ' * (c == ',') gleich ' ', sonst ''\n",
    "    # die For-Schleife wird 1-Mal ausgefuehrt, falls c == ','\n",
    "    for _ in ' ' * (c == ','):\n",
    "        print(name)\n",
    "        name = ''\n",
    "        c = ''\n",
    "    name = name + c"
   ]
  },
  {
   "cell_type": "code",
   "execution_count": 25,
   "id": "0729f69a-6656-40bd-92ff-356fe35b8c2a",
   "metadata": {},
   "outputs": [
    {
     "name": "stdout",
     "output_type": "stream",
     "text": [
      "Hallo Anna!\n",
      "Hallo Bob!\n",
      "Hallo Charlie!\n",
      "Hallo Diana!\n"
     ]
    }
   ],
   "source": [
    "names = 'Anna,Bob,Charlie,Diana'\n",
    "name = ''\n",
    "for c in names:\n",
    "    for _ in ' ' * (c == ','):\n",
    "        exec(say_hello, vars(), {name: name})\n",
    "        name = ''\n",
    "        c = ''\n",
    "    name = name + c\n",
    "exec(say_hello, vars(), {name: name})    "
   ]
  },
  {
   "cell_type": "code",
   "execution_count": null,
   "id": "f3e8e9be-c8e8-4798-804e-df6377ddf2d5",
   "metadata": {},
   "outputs": [],
   "source": []
  },
  {
   "cell_type": "code",
   "execution_count": null,
   "id": "a26ceb66-d8ae-4d18-bfd5-96ce8d151cee",
   "metadata": {},
   "outputs": [],
   "source": []
  },
  {
   "cell_type": "code",
   "execution_count": null,
   "id": "71f75f58-fe3c-4e2b-bb86-453997117855",
   "metadata": {},
   "outputs": [],
   "source": []
  },
  {
   "cell_type": "code",
   "execution_count": null,
   "id": "b1493663-5587-4677-99ee-39c1c4695ace",
   "metadata": {},
   "outputs": [],
   "source": []
  },
  {
   "cell_type": "markdown",
   "id": "93e981e9-85d1-46b9-94a3-074d30e10fee",
   "metadata": {},
   "source": [
    "Die Funktion hat ihre eigenen **lokalen** Variabeln.\n",
    "- Wird innerhalb der Funktion der Variable `x` ein Wert zugewiesen,\n",
    "so &auml;ndert das nicht den Wert der allenfalls ausserhalb der Funktion existierenden Variable `x`.  \n",
    "\n",
    "- Ist einer Variable `y` ausserhalb der Funktion ein Wert zugewiesen, \n",
    "so kann innerhalb der Funktion darauf Zugegriffen werden, falls `y` nur als\n",
    "globale Variable auftritt, also nur falls `y` **innerhalb der Funktion kein Wert augewiesen wird**."
   ]
  },
  {
   "cell_type": "code",
   "execution_count": null,
   "id": "9e6e39e5-48e9-4f76-9ee8-468c2469a8d0",
   "metadata": {},
   "outputs": [],
   "source": []
  },
  {
   "cell_type": "code",
   "execution_count": 88,
   "id": "507f92e3-a125-49b4-bc72-44381f1f2887",
   "metadata": {},
   "outputs": [
    {
     "name": "stdout",
     "output_type": "stream",
     "text": [
      "Hallo Anna!\n"
     ]
    }
   ],
   "source": [
    "def say_hello(name):\n",
    "    opening = anrede + name + '!'\n",
    "    print(opening)\n",
    "\n",
    "\n",
    "anrede = 'Hallo '\n",
    "name = 'Anna'\n",
    "say_hello(name)"
   ]
  },
  {
   "cell_type": "markdown",
   "id": "f0de65a7-64d2-4e6e-8aee-5a6a4b027f8c",
   "metadata": {},
   "source": [
    "In n&auml;chsten Beispiel wird innerhalb der Funktion der Variable\n",
    "`anrede` ein Wert zugewiesen.  \n",
    "Damit ist `anrede` eine lokale, nur innerhalb der Funktion sichtbare Variable.  \n",
    "Der Python-Interpreter weiss das.  \n",
    "In der Zeile `opening = anrede + name + '!'` hat die lokale Variable `anrede` noch keinen Wert.  \n",
    "Das verursacht  einen *UnboundLocalError*. "
   ]
  },
  {
   "cell_type": "code",
   "execution_count": 96,
   "id": "445237a7-39a1-4d78-b496-77a4f312ce72",
   "metadata": {
    "editable": true,
    "slideshow": {
     "slide_type": ""
    },
    "tags": []
   },
   "outputs": [
    {
     "ename": "UnboundLocalError",
     "evalue": "cannot access local variable 'anrede' where it is not associated with a value",
     "output_type": "error",
     "traceback": [
      "\u001b[0;31m---------------------------------------------------------------------------\u001b[0m",
      "\u001b[0;31mUnboundLocalError\u001b[0m                         Traceback (most recent call last)",
      "Cell \u001b[0;32mIn[96], line 6\u001b[0m\n\u001b[1;32m      3\u001b[0m     \u001b[38;5;28mprint\u001b[39m(opening)\n\u001b[1;32m      4\u001b[0m     anrede \u001b[38;5;241m=\u001b[39m \u001b[38;5;124m'\u001b[39m\u001b[38;5;124mGuten Tag \u001b[39m\u001b[38;5;124m'\u001b[39m\n\u001b[0;32m----> 6\u001b[0m \u001b[43msay_hello\u001b[49m\u001b[43m(\u001b[49m\u001b[38;5;124;43m'\u001b[39;49m\u001b[38;5;124;43mAnna\u001b[39;49m\u001b[38;5;124;43m'\u001b[39;49m\u001b[43m)\u001b[49m\n",
      "Cell \u001b[0;32mIn[96], line 2\u001b[0m, in \u001b[0;36msay_hello\u001b[0;34m(name)\u001b[0m\n\u001b[1;32m      1\u001b[0m \u001b[38;5;28;01mdef\u001b[39;00m \u001b[38;5;21msay_hello\u001b[39m(name):\n\u001b[0;32m----> 2\u001b[0m     opening \u001b[38;5;241m=\u001b[39m \u001b[43manrede\u001b[49m \u001b[38;5;241m+\u001b[39m name \u001b[38;5;241m+\u001b[39m \u001b[38;5;124m'\u001b[39m\u001b[38;5;124m!\u001b[39m\u001b[38;5;124m'\u001b[39m\n\u001b[1;32m      3\u001b[0m     \u001b[38;5;28mprint\u001b[39m(opening)\n\u001b[1;32m      4\u001b[0m     anrede \u001b[38;5;241m=\u001b[39m \u001b[38;5;124m'\u001b[39m\u001b[38;5;124mGuten Tag \u001b[39m\u001b[38;5;124m'\u001b[39m\n",
      "\u001b[0;31mUnboundLocalError\u001b[0m: cannot access local variable 'anrede' where it is not associated with a value"
     ]
    }
   ],
   "source": [
    "def say_hello(name):\n",
    "    opening = anrede + name + '!'\n",
    "    print(opening)\n",
    "    anrede = 'Guten Tag '\n",
    "\n",
    "say_hello('Anna')"
   ]
  },
  {
   "cell_type": "code",
   "execution_count": 26,
   "id": "df080a0d-cddc-4f66-9ac3-4667f013ee2e",
   "metadata": {},
   "outputs": [],
   "source": [
    "import random"
   ]
  },
  {
   "cell_type": "code",
   "execution_count": 29,
   "id": "2efcebb5-f2a8-4c70-ae44-d0229e43a2e9",
   "metadata": {},
   "outputs": [
    {
     "data": {
      "text/plain": [
       "<bound method Random.choice of <random.Random object at 0x15459a0>>"
      ]
     },
     "execution_count": 29,
     "metadata": {},
     "output_type": "execute_result"
    }
   ],
   "source": [
    "random.__dict__['choice']"
   ]
  },
  {
   "cell_type": "code",
   "execution_count": null,
   "id": "6d8d37e5-2792-4868-9fa4-5a2e78dbe9f2",
   "metadata": {},
   "outputs": [],
   "source": []
  }
 ],
 "metadata": {
  "author": "dieter.probst@gmail.com",
  "kernelspec": {
   "display_name": "Python 3 (ipykernel)",
   "language": "python",
   "name": "python3"
  },
  "language_info": {
   "codemirror_mode": {
    "name": "ipython",
    "version": 3
   },
   "file_extension": ".py",
   "mimetype": "text/x-python",
   "name": "python",
   "nbconvert_exporter": "python",
   "pygments_lexer": "ipython3",
   "version": "3.12.4"
  }
 },
 "nbformat": 4,
 "nbformat_minor": 5
}
