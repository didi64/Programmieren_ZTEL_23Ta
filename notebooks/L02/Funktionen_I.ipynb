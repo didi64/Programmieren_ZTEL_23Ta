{
 "cells": [
  {
   "cell_type": "markdown",
   "id": "723c74b5-9169-4f8b-b998-929a5ed25754",
   "metadata": {},
   "source": [
    "### Funktionen I\n",
    "Damit eine Programmiersprache von praktischem Nutzen ist, muss es m&ouml;glich sein,\n",
    "bestehenden und getesteten Programmcode einfach wiederverwenden zu k&ouml;nnen. \n",
    "**Funktionen** erm&ouml;glichen genau das. Funktionen erm&ouml;glichen es, eine komplexe Programmieraufgabe in kleine Teilaufgaben zu zerlegen.\n",
    "\n",
    "\n",
    "Funktionen m&uuml;ssen  **definiert** werden, bevor sie **aufgerufen** werden k&ouml;nnen.\n",
    "\n",
    "- Eine Funktionsdefinition weist einem Codeblock einen Namen zu und gibt an, welche Variabeln beim Funktionsaufruf initialisiert werden sollen. Der Codeblock kann **return**-Anweisungen enthalten.\n",
    "- Beim Funktionsaufruf werden dann die Werte f&uuml;r die zu initialisierenden Variabeln angegeben.\n",
    "  Der Codeblock wird dann mit diesen Werten ausgef&uuml;hrt.\n",
    "- Funktionen haben ihre **eigenen** Variabeln.\n",
    "  Innerhalb der Funktion definierte Variabeln sind nur innerhalb der Funktion sichtbar.\n",
    "Ausserhalb der Funktion definierte Variabeln k&ouml;nnen nur gelesen werden.\n",
    "***"
   ]
  },
  {
   "cell_type": "markdown",
   "id": "bcc35f7f-725f-4618-b0ee-e954e18769d7",
   "metadata": {},
   "source": [
    "### Funktionsdefinition\n",
    "```python\n",
    "# Funktionsdefinition\n",
    "def say_hello(name, anrede='Hello'):\n",
    "    '''gibt anrede gefolgt von name aus\n",
    "       name: str\n",
    "       anrede: str \n",
    "    '''\n",
    "    print(anrede, name)\n",
    "```\n",
    "\n",
    "Eine **Funktionsdefinition** ist eine **Anweisung** und hat folgende Form.\n",
    "\n",
    "```python\n",
    "def <Funktionsname>(<Argumente>, <Default-Argumente>):  \n",
    "    <Docstring>\n",
    "    <Anweisungen>  # Funkionsbody\n",
    "```\n",
    "\n",
    "- Der Funktionsname ist ein Variabelname.\n",
    "- Die **Argumente** sind eine m&ouml;glicherweise leere, kommaseparierte Liste von\n",
    "  **Variabelnamen**.\n",
    "- Die **Default-Argumente** eine m&ouml;glicherweise leere, kommaseparierte Liste von\n",
    "**Zuweisungen** von Defaultwerten an Variabelnamen.\n",
    "- Der Docstring (optional) ist ein Stringliteral, typischerweise triple-quoted, das beschreibt, was die Funktion tut.\n",
    "- Der Funktionsbody muss **min. eine Anweisung** enthalten.\n",
    "  Im Funktionsbody k&ouml;nnen zudem **return**-Anweisungen stehen.\n",
    "  Eine return-Anweisung hat die Form\n",
    "  >return `<Ausdruck>`\n",
    "  \n",
    "Der Funktionsname zusammen mit den Argumenten nennt man auch **Signatur der Funktion**. Klickt man auf den Namen einer Funktion\n",
    "und dr&uuml;ckt shift-tab, so wird die Signatur und der DocString anezeigt.\n",
    "***"
   ]
  },
  {
   "cell_type": "markdown",
   "id": "87794d8d-07ac-4fe7-9514-c378e8efce2a",
   "metadata": {},
   "source": [
    "### Funktionsaufruf\n",
    "Ein **Funktionsaufruf** ist eine **Anweisung** und ein **Ausdruck**. Der Wert dieses Ausdrucks\n",
    "ist der Wert des Ausdruck nach dem `return` keyword.\n",
    "Hat die Funktion keine return-Anweisung , dann ist der Wert des Funktionsaufrufs `None`.  \n",
    "\n",
    "```python\n",
    "# Funktionsaufrufe von say_hello(name, anrede='Hello'))\n",
    "say_hello('Anna')\n",
    "say_hello(name='Bob')\n",
    "say_hello('Cindy', 'Hi')\n",
    "say_hello('Cindy', anrede='Hi')\n",
    "say_hello(name='Cindy', anrede='Hi')\n",
    "say_hello(anrede='Hi',  name='Cindy')\n",
    "```\n",
    "\n",
    "Ein Funktionsaufruf hat folgende Form.\n",
    "\n",
    "```python\n",
    "<Funktionsname>(<positionale Argumente>, <Keyword-Argumente>)  \n",
    "```\n",
    "\n",
    "- Die positionalen Argumente sind eine kommaseparierte Liste von Ausdr&uuml;cken.\n",
    "- Die Keyword-Argumente sind eine kommaseparierte Liste von Zuweisungen von Ausdr&uuml;cken an Variabelnamen.\n",
    "\n",
    "Eine Funktion hat ihr **eigenes** lokales Variabelverzeichnis.  \n",
    "- Die Namen in der Signatur und alle Namen, die auf der linken Seite einer Zuweisung stehen, werden als lokale Namen markiert.\n",
    "- Beim Funktionsaufruf werden die &uuml;bergebenen Argumente in lokale Verzeichnis aufgenommen.\n",
    "- Wird einer Variable ein Wert zugewiesen, so\n",
    "wird diese Variable ins lokale Variablenverzeichnis aufgenommen, bez. der Wert im lokalen Verzeichnis wird ge&auml;ndert.\n",
    "- Kommt in einem Ausdruck ein nicht-lokaler Name vor,\n",
    "  wird im globalen Verzeichnis gesucht.\n",
    "- Kommt in einem Ausdruck ein undefinierter lokaler Name vor,\n",
    "  wird ein UnboundLocalError erzeugt.\n",
    "\n",
    "***"
   ]
  },
  {
   "cell_type": "markdown",
   "id": "ac173bf4-94ef-430b-a39f-7a0e966e8798",
   "metadata": {},
   "source": [
    "**Zugriff** auf globale und lokale Variabeln"
   ]
  },
  {
   "cell_type": "code",
   "execution_count": null,
   "id": "96371af6-c286-44b0-be54-1f47a5473a26",
   "metadata": {},
   "outputs": [],
   "source": [
    "# ok\n",
    "def f():\n",
    "    # Zuweisung macht x zu einer lokalen Variable\n",
    "    x = 'x: \"ich bin eine LOKALE Variable\"'\n",
    "    print(x)   \n",
    "\n",
    "\n",
    "# ok\n",
    "def g():\n",
    "    print(x)  # sucht globales x und gibt es aus\n",
    "\n",
    "\n",
    "# nicht ok, Rolle von x nicht klar\n",
    "def h():\n",
    "    print(x)  \n",
    "    # Zuweisung macht x zu einer lokalen Variable\n",
    "    x = 'x: \"ich bin eine LOKALE Variable\"' "
   ]
  },
  {
   "cell_type": "code",
   "execution_count": null,
   "id": "ac15de15-4905-4e9b-806c-923591031cbb",
   "metadata": {},
   "outputs": [],
   "source": [
    "x = 'x: \"Ich bin eine GLOBALE Variable\"'\n",
    "f()"
   ]
  },
  {
   "cell_type": "code",
   "execution_count": null,
   "id": "07a76785-56fc-4899-8ed4-f65da5617ba0",
   "metadata": {},
   "outputs": [],
   "source": [
    "g()"
   ]
  },
  {
   "cell_type": "code",
   "execution_count": null,
   "id": "819cf520-d86a-4da2-9200-611e632812dd",
   "metadata": {},
   "outputs": [],
   "source": [
    "h()"
   ]
  },
  {
   "cell_type": "code",
   "execution_count": null,
   "id": "f61577d7-2835-4d48-9d35-dff075043d73",
   "metadata": {},
   "outputs": [],
   "source": []
  },
  {
   "cell_type": "markdown",
   "id": "95bc2436-9e02-4164-9737-c99a853de6c9",
   "metadata": {},
   "source": [
    "**Funktionsdefition und Aufrufe**"
   ]
  },
  {
   "cell_type": "code",
   "execution_count": null,
   "id": "dbc37a2d-a5d4-4415-a869-c44907c4d172",
   "metadata": {},
   "outputs": [],
   "source": [
    "def say_hello(name, anrede='Hello'):\n",
    "    '''gibt anrede gefolgt von name aus'''\n",
    "    print(anrede, name)"
   ]
  },
  {
   "cell_type": "code",
   "execution_count": null,
   "id": "05ee0bcf-5d33-4169-9e46-2043a12d4aa6",
   "metadata": {},
   "outputs": [],
   "source": [
    "# say_hello gibt None zurueck\n",
    "rueckgabewert = say_hello('Anna')\n",
    "print(rueckgabewert)"
   ]
  },
  {
   "cell_type": "code",
   "execution_count": null,
   "id": "2a380767-b9c3-42be-8c19-3a673a146857",
   "metadata": {},
   "outputs": [],
   "source": [
    "# so kann say_hello aufgerufen werden\n",
    "say_hello('Anna')\n",
    "say_hello(name='Bob')\n",
    "say_hello('Cindy', 'Hi')\n",
    "say_hello('Cindy', anrede='Hi')\n",
    "say_hello(name='Cindy', anrede='Hi')\n",
    "say_hello(anrede='Hi',  name='Cindy')"
   ]
  },
  {
   "cell_type": "code",
   "execution_count": null,
   "id": "8c47850b-4438-407e-9bc3-88d58edc0751",
   "metadata": {},
   "outputs": [],
   "source": [
    "# nicht erlaubt\n",
    "say_hello(name='Cindy', 'Hi')"
   ]
  },
  {
   "cell_type": "code",
   "execution_count": null,
   "id": "508b7b6b-6492-4d48-9826-6e0b8a859271",
   "metadata": {},
   "outputs": [],
   "source": [
    "# erzeugt enen TypeError, der Variabelname gruss kommt in der\n",
    "# Signatur der Funktion nicht vor.\n",
    "say_hello(name='Cindy', gruss='Hi')"
   ]
  },
  {
   "cell_type": "code",
   "execution_count": null,
   "id": "b83030fb-bf17-4c41-abe5-627168480fa8",
   "metadata": {},
   "outputs": [],
   "source": [
    "# Funktion mit Rueckgabewert\n",
    "def greet(name, anrede='Hello'):\n",
    "    '''gibt anrede gefolgt von name aus\n",
    "       gibt anrede zurueck\n",
    "    '''\n",
    "    print(anrede, name)\n",
    "    return anrede"
   ]
  },
  {
   "cell_type": "code",
   "execution_count": null,
   "id": "0eeb2d18-2d7f-4dd6-8702-610b9052ea84",
   "metadata": {},
   "outputs": [],
   "source": [
    "rueckgabewert = greet('Bob')\n",
    "print('Anrede:', rueckgabewert)"
   ]
  },
  {
   "cell_type": "code",
   "execution_count": null,
   "id": "e9b18e59-1fac-4adf-9c8a-6d2fce618721",
   "metadata": {},
   "outputs": [],
   "source": []
  }
 ],
 "metadata": {
  "kernelspec": {
   "display_name": "Python 3 (ipykernel)",
   "language": "python",
   "name": "python3"
  },
  "language_info": {
   "codemirror_mode": {
    "name": "ipython",
    "version": 3
   },
   "file_extension": ".py",
   "mimetype": "text/x-python",
   "name": "python",
   "nbconvert_exporter": "python",
   "pygments_lexer": "ipython3",
   "version": "3.13.0"
  }
 },
 "nbformat": 4,
 "nbformat_minor": 5
}
