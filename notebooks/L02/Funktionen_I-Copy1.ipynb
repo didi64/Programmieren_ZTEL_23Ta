{
 "cells": [
  {
   "cell_type": "markdown",
   "id": "b768fa49-f920-4ede-a1dc-0dc655920813",
   "metadata": {
    "editable": true,
    "jp-MarkdownHeadingCollapsed": true,
    "slideshow": {
     "slide_type": ""
    },
    "tags": []
   },
   "source": [
    "### Funktionen\n",
    "- Eine Funktion erlaubt es,  einer Variable (eine Referenz auf einen) Codeblock (Folge von Anweisungen) zuzuweisen und bei Bedarf auszuf&uuml;hren. Der Funktion k&ouml;nnen \n",
    "(Referenzen auf) Objekte &uuml;bergeben werden, auf welche die Funktion Zugriff hat.\n",
    "- Eine Funktion `f(...)` gibt immer ein Objekt zur&uuml;ck. \n",
    "  Dieser R&uuml;ckgabewert kann einer Variable zugewiesen werden, oder kann in einem     Ausdruck verwendet werden. Der R&uuml;ckgabewert der Funktion ist `None`, falls\n",
    "  sie keine `return`-Anweisung hat.\n",
    "  \n",
    "- Funktionen erm&ouml;glichen es, ein Programm zu strukturieren, z.B.\n",
    "```python\n",
    "data = read_data_from_file('mydata.csv')\n",
    "clean_data(data)\n",
    "plot_data(data)\n",
    "```\n",
    " \n",
    " \n",
    "  \n",
    "- Eine **Funktionsdefinition** hat die Form  \n",
    "\n",
    "```python\n",
    "def <Funktionname>(<Variabeln>, ...):\n",
    "    '''Hilfstext zur Funktion\n",
    "       Kann mehrere Zeilen lang sein und\n",
    "       wird \"docstring\" genannt.\n",
    "       \n",
    "       help(<functionname>) gibt den docstring aus\n",
    "    '''\n",
    "    <Anweisungen> \n",
    "    return <Ausdruck>  # optional\n",
    "\n",
    "```\n",
    "\n",
    "> Der einger&uuml;ckte Codeblock wird auch **Body** der Funktion genannt.\n",
    "- Ein **Funktionsaufruf** hat die Form  \n",
    "\n",
    "```python\n",
    "<Funktionsname>(<Ausdruck>,...)\n",
    "```  \n",
    "> Die Werte der  Ausdr&uuml;cke werden den Variabeln an den entsprechenden Positionen in der Funktionsdefinition zugewiesen.\n",
    "\n",
    "\n",
    "- Der Docstring wird z.B. durch ```help(<Funktionsname>)``` ausgegeben.\n",
    "Er soll die Funktion kurz dokumentieren.\n",
    "\n",
    "\n",
    "**Bemerkungen**\n",
    "- Funktionen sind Objekte wie alle anderen und k&ouml;nnen z.B. einer anderen Funktion als Argument &uuml;ergeben werden (**functions** are **first class citizens**)\n",
    "- Die Funktion hat ihre eigenen lokalen (**local**) Variabeln.   \n",
    "  Variabeln, die im Funktionsbody definiert werden, &uuml;berschreiben \n",
    "  ausserhalb der Funktion definierte Variablen nicht.\n",
    "  Nach der Ausf&uuml;hrung der Funktion werden die lokalen Variabeln wieder gel&ouml;scht (**garbage collection**)\n",
    "\n",
    "- Im Funktionsbody hat man **Lesezugriff** auf ausserhalb der Funktion definierte Variabeln, sofern diese nicht durch lokale Variabeln verdeckt (**shadowed**) sind."
   ]
  },
  {
   "cell_type": "markdown",
   "id": "25d409db-6899-4bab-bd3a-7109ba0c8980",
   "metadata": {},
   "source": [
    "### Beispiele"
   ]
  },
  {
   "cell_type": "code",
   "execution_count": 5,
   "id": "8850e9c6-2bec-4cf8-a211-eece93bb4e9c",
   "metadata": {},
   "outputs": [
    {
     "name": "stdout",
     "output_type": "stream",
     "text": [
      "None\n"
     ]
    }
   ],
   "source": [
    "def do_nothing():\n",
    "    '''tut nichts, gibt None zurueck'''\n",
    "    pass  # tut nichts, aber im Funktionsbody muss mind. 1 Anweisung stehen\n",
    "\n",
    "print(do_nothing())"
   ]
  },
  {
   "cell_type": "markdown",
   "id": "d9161a48-56d8-4b74-a611-446ad37e69c3",
   "metadata": {},
   "source": [
    "**Tab-completion** und **Docstring** anzeigen:  \n",
    "- platziert man den Cursor am ende von `do_nothi` und dr&uuml;ckt 2 Mal **tab**, so\n",
    "  wird das zu `do_nothing` vervollst&auml;ndigt.  \n",
    "- klicken auf `do_nothi` und `shift-tab` liefert den Docstring.    "
   ]
  },
  {
   "cell_type": "code",
   "execution_count": null,
   "id": "899e802a-8735-4890-8ab8-cb75f54b722d",
   "metadata": {},
   "outputs": [],
   "source": [
    "do_nothi"
   ]
  },
  {
   "cell_type": "code",
   "execution_count": null,
   "id": "e8a08880-5e2d-478c-b450-7264839491c5",
   "metadata": {},
   "outputs": [],
   "source": [
    "def return_args(x, y):\n",
    "    '''gibt eine Liste mit den Elementen \n",
    "       x und y zurueck\n",
    "    '''\n",
    "    return [x, y]"
   ]
  },
  {
   "cell_type": "markdown",
   "id": "8939f46c-3758-42ca-9938-501291237161",
   "metadata": {},
   "source": [
    "`help(return_args)` gibt ebenfalls den Docstring aus."
   ]
  },
  {
   "cell_type": "code",
   "execution_count": null,
   "id": "ee0315d7-7cc1-4e4f-a3d9-5075fc47af42",
   "metadata": {},
   "outputs": [],
   "source": [
    "# gib Docstring von return_args aus"
   ]
  },
  {
   "cell_type": "code",
   "execution_count": null,
   "id": "741f998f-a1d7-4d15-a7e2-72249b65c87d",
   "metadata": {},
   "outputs": [],
   "source": [
    "def say_hello(name):\n",
    "    print('Hello ' + name)"
   ]
  },
  {
   "cell_type": "code",
   "execution_count": null,
   "id": "69e93272-18c7-4896-b6ff-38b7cf08c775",
   "metadata": {},
   "outputs": [],
   "source": [
    "say_hello('Bob')"
   ]
  },
  {
   "cell_type": "markdown",
   "id": "5837dec2-c85e-4359-9d2f-dee5e9eb6d01",
   "metadata": {},
   "source": [
    "***\n",
    "Functions are first class citizens\n",
    "***"
   ]
  },
  {
   "cell_type": "code",
   "execution_count": null,
   "id": "0a6b396e-2364-4dcd-b967-740d15c3e4a6",
   "metadata": {},
   "outputs": [],
   "source": [
    "def apply_fun(f, x):\n",
    "    '''wendet f auf x an'''\n",
    "    f(x)"
   ]
  },
  {
   "cell_type": "code",
   "execution_count": null,
   "id": "f1ca4ed0-8f91-4fa6-a573-bf57297810c7",
   "metadata": {},
   "outputs": [],
   "source": [
    "apply_fun(say_hello, 'Alice')"
   ]
  },
  {
   "cell_type": "markdown",
   "id": "fad43bbe-f6f2-4ed5-878f-3825200a75da",
   "metadata": {},
   "source": [
    "### Vorgehen zum Schreiben einer Funktion\n",
    "Code ist schnell geschrieben, die Fehlersuche dagegen ist oft zeitintensiv.\n",
    "Deshalb versucht man oft, den **Funktionsbody** aus bereits **getesteten Codefragmenten zusammenzusetzen**.  \n",
    "\n",
    "Exemplarisch erstellen wir eine Funktion\n",
    "```python\n",
    "def compute_age_from_birthyear():\n",
    "    '''fragt nach Geburtsjahr und gibt\n",
    "       das Alter zurueck\n",
    "    '''   \n",
    "```"
   ]
  },
  {
   "cell_type": "code",
   "execution_count": null,
   "id": "03e68fc6-c656-4079-9f41-d5188160a2e4",
   "metadata": {},
   "outputs": [],
   "source": [
    "# Input fordert den Benutzer auf, Text einzugeben.\n",
    "# Diese Eingabe wird hier einer Variable zugewiesen werden.\n",
    "# Diese Variable enthaelt dann einen String und nicht einen Integer.\n",
    "\n",
    "jahrgang = input('Jahrgang ?')\n",
    "jahrgang"
   ]
  },
  {
   "cell_type": "code",
   "execution_count": null,
   "id": "d81a880f-100a-4c46-9cb7-108f87804573",
   "metadata": {},
   "outputs": [],
   "source": [
    "alter = 2023 - jahrgang"
   ]
  },
  {
   "cell_type": "markdown",
   "id": "e9778bf6-aaa2-4ee6-8cff-ddb860433318",
   "metadata": {},
   "source": [
    "Der Interpreter teilt uns mit, dass die Subtraktion eines Strings von einer Zahl nicht unterst&uuml;tzt wird.\n",
    "**L&ouml;sung**: `int(s)` wandelt einen String in einen Integer um, falls m&ouml;glich."
   ]
  },
  {
   "cell_type": "code",
   "execution_count": null,
   "id": "a42fb489-68c4-41f5-af42-32c18786e2ab",
   "metadata": {},
   "outputs": [],
   "source": [
    "int(jahrgang)"
   ]
  },
  {
   "cell_type": "code",
   "execution_count": null,
   "id": "312c9831-508c-4c7d-ab19-369e456916ce",
   "metadata": {},
   "outputs": [],
   "source": [
    "int(8.01)"
   ]
  },
  {
   "cell_type": "code",
   "execution_count": null,
   "id": "285b3591-faec-4345-a72b-166a8cd9cae2",
   "metadata": {},
   "outputs": [],
   "source": [
    "int('IO')"
   ]
  },
  {
   "cell_type": "markdown",
   "id": "d7385692-178e-49cf-8874-ae7599bfe768",
   "metadata": {},
   "source": [
    "Nun **kopieren** wir den **Funktionsbody** in nachstehender Zelle **zusammen** und testen den Code"
   ]
  },
  {
   "cell_type": "code",
   "execution_count": null,
   "id": "9cc8dc49-f49d-4e8f-a1e2-dda83a9476fb",
   "metadata": {},
   "outputs": [],
   "source": [
    "jahrgang = input('Jahrgang ?')\n",
    "alter = 2023 - int(jahrgang)\n",
    "print(alter)"
   ]
  },
  {
   "cell_type": "markdown",
   "id": "9d3b1f0e-a443-4cd6-b841-995a780a015c",
   "metadata": {},
   "source": [
    "Dann f&uuml;gen wir die Funktionsdefinition hinzu und **ersetzen** die `print`-Anweisung durch ein `return`.  \n",
    "Nat&uuml;rlich testen wir die Funktion anschliessend."
   ]
  },
  {
   "cell_type": "code",
   "execution_count": null,
   "id": "dbaea883-6653-41a9-b95d-8150eb256f04",
   "metadata": {},
   "outputs": [],
   "source": [
    "def compute_age_from_birthyear():\n",
    "    '''fragt nach Geburtsjahr und gibt\n",
    "       das Alter zurueck\n",
    "    '''  \n",
    "    jahrgang = input('Jahrgang ?')\n",
    "    alter = 2023 - int(jahrgang)\n",
    "    \n",
    "    return alter"
   ]
  },
  {
   "cell_type": "code",
   "execution_count": null,
   "id": "de1eee63-fdc2-4df7-b09a-1ebf7a09819f",
   "metadata": {},
   "outputs": [],
   "source": [
    "compute_age_from_birthyear()"
   ]
  },
  {
   "cell_type": "markdown",
   "id": "8e2d7588-f433-4a47-9262-c971c4fdfb9a",
   "metadata": {},
   "source": [
    "### Nerd Facts\n",
    "> Hat eine Funktion kein return-Statement, so f&uuml;gt der Pyhton-Interpreter\n",
    "`return None` als letzte Anweisung ein.  \n",
    "\n",
    "Der Python-Interpreter f&uuml;hrt Python-Code nicht direkt aus, sondern &uuml;bersetzt diesen zuerst in sog. Bytecode, welcher dann auf der Python-Virtual-Machine ausgef&uuml;hrt wird.  \n",
    "Mit Hilfe der Funktion `dis` aus dem Modul `dis`\n",
    "kann der Bytecode einer Funktion angezeigt werden.  \n",
    "Wir sehen, dass der Bytecode nachstehender Funktionen `f` und `g` identisch ist."
   ]
  },
  {
   "cell_type": "code",
   "execution_count": 1,
   "id": "f5e1414d-b3e2-4e5f-8f05-46a23730b8d0",
   "metadata": {},
   "outputs": [],
   "source": [
    "def f():\n",
    "    print('hello')\n",
    "\n",
    "def g():\n",
    "    print('hello')\n",
    "    return None"
   ]
  },
  {
   "cell_type": "code",
   "execution_count": 2,
   "id": "b54ddaab-c526-4395-8c01-8f99c38755fa",
   "metadata": {},
   "outputs": [],
   "source": [
    "from dis import dis"
   ]
  },
  {
   "cell_type": "code",
   "execution_count": 3,
   "id": "bb068d61-e521-4ad6-b6f1-a557a2c13eba",
   "metadata": {},
   "outputs": [
    {
     "name": "stdout",
     "output_type": "stream",
     "text": [
      "  1           0 RESUME                   0\n",
      "\n",
      "  2           2 LOAD_GLOBAL              1 (NULL + print)\n",
      "             12 LOAD_CONST               1 ('hello')\n",
      "             14 CALL                     1\n",
      "             22 POP_TOP\n",
      "             24 RETURN_CONST             0 (None)\n"
     ]
    }
   ],
   "source": [
    "dis(f)"
   ]
  },
  {
   "cell_type": "code",
   "execution_count": 4,
   "id": "933bd822-b597-4c0a-8bd8-1371abb9e5a5",
   "metadata": {},
   "outputs": [
    {
     "name": "stdout",
     "output_type": "stream",
     "text": [
      "  4           0 RESUME                   0\n",
      "\n",
      "  5           2 LOAD_GLOBAL              1 (NULL + print)\n",
      "             12 LOAD_CONST               1 ('hello')\n",
      "             14 CALL                     1\n",
      "             22 POP_TOP\n",
      "\n",
      "  6          24 RETURN_CONST             0 (None)\n"
     ]
    }
   ],
   "source": [
    "dis(g)"
   ]
  },
  {
   "cell_type": "code",
   "execution_count": 1,
   "id": "ccbb59e4-3b68-4ac2-9aed-d49e064d5b14",
   "metadata": {
    "editable": true,
    "slideshow": {
     "slide_type": ""
    },
    "tags": []
   },
   "outputs": [
    {
     "data": {
      "application/vnd.jupyter.widget-view+json": {
       "model_id": "3067f7c430dc4fabbd80d4d71bd7f719",
       "version_major": 2,
       "version_minor": 0
      },
      "text/plain": [
       "VBox(children=(HBox(children=(Select(options=('⬆️ .', '  📁 Abgaben24', '  📁 CanvasGames', '  📁 Canvas__Lessons…"
      ]
     },
     "metadata": {},
     "output_type": "display_data"
    },
    {
     "data": {
      "application/vnd.jupyter.widget-view+json": {
       "model_id": "385de8f260ec4dc88e137e0afa86405e",
       "version_major": 2,
       "version_minor": 0
      },
      "text/plain": [
       "Output(layout=Layout(border_bottom='1px solid black', border_left='1px solid black', border_right='1px solid b…"
      ]
     },
     "metadata": {},
     "output_type": "display_data"
    }
   ],
   "source": [
    "%run -m nbf"
   ]
  },
  {
   "cell_type": "code",
   "execution_count": null,
   "id": "19c222fe-724f-479d-ad30-a87b870148ab",
   "metadata": {},
   "outputs": [],
   "source": []
  }
 ],
 "metadata": {
  "author": "dieter.probst@gmail.com",
  "kernelspec": {
   "display_name": "Python 3 (ipykernel)",
   "language": "python",
   "name": "python3"
  },
  "language_info": {
   "codemirror_mode": {
    "name": "ipython",
    "version": 3
   },
   "file_extension": ".py",
   "mimetype": "text/x-python",
   "name": "python",
   "nbconvert_exporter": "python",
   "pygments_lexer": "ipython3",
   "version": "3.13.0"
  }
 },
 "nbformat": 4,
 "nbformat_minor": 5
}
