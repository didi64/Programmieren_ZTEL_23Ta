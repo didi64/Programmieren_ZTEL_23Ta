{
 "cells": [
  {
   "cell_type": "code",
   "execution_count": null,
   "id": "26f676d8-79e0-43f1-8ca8-26cfa783f113",
   "metadata": {},
   "outputs": [],
   "source": []
  },
  {
   "cell_type": "code",
   "execution_count": null,
   "id": "e7171071-dc52-47cc-803c-51cdb438dc66",
   "metadata": {},
   "outputs": [],
   "source": [
    "# L02 Stringliterale\n",
    "s = '''\n",
    "Anfuehrungszeichen (\" und ') und Backslashes (\\\\) sind tricky zum Ausgeben.\n",
    "\n",
    "double backslash: \\\\\\\\\n",
    "triple backslash: \\\\\\\\\\\\\n",
    "quadruple backslash: \\\\\\\\\\\\\\\\\n",
    "\n",
    "double single and double quotes: '' und \"\"\n",
    "triple single and double quotes: ''\\' und \"\"\"\n",
    "quadruple single and double quotes: ''\\'' und \"\"\"\"\n",
    "\n",
    "newline character: \\\\n\n",
    "tab: \\\\t\n",
    "'''\n",
    "print(s)"
   ]
  },
  {
   "cell_type": "code",
   "execution_count": 4,
   "id": "69430211-ca0d-4f29-b0c1-515b00754cc3",
   "metadata": {},
   "outputs": [
    {
     "name": "stdout",
     "output_type": "stream",
     "text": [
      "(1, 'foo', 'bar')\n",
      "1 foo bar\n"
     ]
    }
   ],
   "source": [
    "args = (1, 'foo', 'bar')  # arguments\n",
    "print(args)   # das Tuple args wird ausgegeben\n",
    "print(*args)  # args wird ausgepackt: equiv. zu print(1, 'foo', 'bar')"
   ]
  },
  {
   "cell_type": "code",
   "execution_count": 5,
   "id": "e7294394-bd99-4b68-b4ff-40bcedf8b0a3",
   "metadata": {},
   "outputs": [
    {
     "name": "stdout",
     "output_type": "stream",
     "text": [
      "1, foo, bar\n",
      "---Ende der Ausgabe---\n",
      "1, foo, bar\n",
      "---Ende der Ausgabe---\n"
     ]
    }
   ],
   "source": [
    "# keyword-arguments\n",
    "kwargs = {'sep': ', ',\n",
    "          'end': '\\n---Ende der Ausgabe---\\n',\n",
    "          }\n",
    "print(*args, **kwargs)  # args und kwargs werden auspackt, equivlent zu\n",
    "print(1, 'foo', 'bar', sep=', ', end='\\n---Ende der Ausgabe---\\n')"
   ]
  },
  {
   "cell_type": "code",
   "execution_count": null,
   "id": "55f90e89-3d4a-4522-929b-24623c3a0e62",
   "metadata": {},
   "outputs": [],
   "source": [
    "Links von / koennen nur Positional-only arguments stehen\n",
    "rechts von * koennen nur Keyword-only arguments stehen"
   ]
  },
  {
   "cell_type": "code",
   "execution_count": 8,
   "id": "65bf8eac-200d-482b-8fcb-478822a22ba3",
   "metadata": {},
   "outputs": [],
   "source": [
    "def f(a, b, /, c, d, *, e, f=6):\n",
    "    '''gibt a, b, c, d, e und f aus'''\n",
    "    print(a,b,c,d,e,f)"
   ]
  },
  {
   "cell_type": "code",
   "execution_count": 9,
   "id": "ad72f831-c0c5-41fd-9b6e-4ac5636449ad",
   "metadata": {},
   "outputs": [
    {
     "ename": "TypeError",
     "evalue": "f() takes 4 positional arguments but 5 were given",
     "output_type": "error",
     "traceback": [
      "\u001b[0;31m---------------------------------------------------------------------------\u001b[0m",
      "\u001b[0;31mTypeError\u001b[0m                                 Traceback (most recent call last)",
      "Cell \u001b[0;32mIn[9], line 1\u001b[0m\n\u001b[0;32m----> 1\u001b[0m \u001b[43mf\u001b[49m\u001b[43m(\u001b[49m\u001b[38;5;241;43m1\u001b[39;49m\u001b[43m,\u001b[49m\u001b[38;5;241;43m2\u001b[39;49m\u001b[43m,\u001b[49m\u001b[38;5;241;43m3\u001b[39;49m\u001b[43m,\u001b[49m\u001b[38;5;241;43m4\u001b[39;49m\u001b[43m,\u001b[49m\u001b[38;5;241;43m5\u001b[39;49m\u001b[43m)\u001b[49m\n",
      "\u001b[0;31mTypeError\u001b[0m: f() takes 4 positional arguments but 5 were given"
     ]
    }
   ],
   "source": [
    "f(1,2,3,4,5)"
   ]
  },
  {
   "cell_type": "code",
   "execution_count": 10,
   "id": "69b3755a-9734-4d11-9037-c3624618cb02",
   "metadata": {},
   "outputs": [
    {
     "name": "stdout",
     "output_type": "stream",
     "text": [
      "1 2 3 4 5 6\n"
     ]
    }
   ],
   "source": [
    "f(1,2,3,4,e=5)"
   ]
  },
  {
   "cell_type": "code",
   "execution_count": 11,
   "id": "3071c729-1e7c-49f9-b0eb-2d24937724b5",
   "metadata": {},
   "outputs": [
    {
     "name": "stdout",
     "output_type": "stream",
     "text": [
      "1 2 3 4 5 6\n"
     ]
    }
   ],
   "source": [
    "f(1,2,c=3,d=4,e=5)"
   ]
  },
  {
   "cell_type": "code",
   "execution_count": 12,
   "id": "d1dad6c6-47ca-46c0-8418-0771008dc720",
   "metadata": {},
   "outputs": [
    {
     "ename": "TypeError",
     "evalue": "f() got some positional-only arguments passed as keyword arguments: 'b'",
     "output_type": "error",
     "traceback": [
      "\u001b[0;31m---------------------------------------------------------------------------\u001b[0m",
      "\u001b[0;31mTypeError\u001b[0m                                 Traceback (most recent call last)",
      "Cell \u001b[0;32mIn[12], line 1\u001b[0m\n\u001b[0;32m----> 1\u001b[0m \u001b[43mf\u001b[49m\u001b[43m(\u001b[49m\u001b[38;5;241;43m1\u001b[39;49m\u001b[43m,\u001b[49m\u001b[43mb\u001b[49m\u001b[38;5;241;43m=\u001b[39;49m\u001b[38;5;241;43m2\u001b[39;49m\u001b[43m,\u001b[49m\u001b[43mc\u001b[49m\u001b[38;5;241;43m=\u001b[39;49m\u001b[38;5;241;43m3\u001b[39;49m\u001b[43m,\u001b[49m\u001b[43md\u001b[49m\u001b[38;5;241;43m=\u001b[39;49m\u001b[38;5;241;43m4\u001b[39;49m\u001b[43m,\u001b[49m\u001b[43me\u001b[49m\u001b[38;5;241;43m=\u001b[39;49m\u001b[38;5;241;43m5\u001b[39;49m\u001b[43m)\u001b[49m\n",
      "\u001b[0;31mTypeError\u001b[0m: f() got some positional-only arguments passed as keyword arguments: 'b'"
     ]
    }
   ],
   "source": [
    "f(1,b=2,c=3,d=4,e=5)"
   ]
  },
  {
   "cell_type": "code",
   "execution_count": 13,
   "id": "c9eb9ca2-34f9-49ca-a2a7-5b4d6411ba63",
   "metadata": {},
   "outputs": [],
   "source": [
    "def g(a=2,/):\n",
    "    print(a)"
   ]
  },
  {
   "cell_type": "code",
   "execution_count": 16,
   "id": "82ae1e0c-811b-469a-bc58-a508ee71e968",
   "metadata": {},
   "outputs": [
    {
     "ename": "TypeError",
     "evalue": "g() got some positional-only arguments passed as keyword arguments: 'a'",
     "output_type": "error",
     "traceback": [
      "\u001b[0;31m---------------------------------------------------------------------------\u001b[0m",
      "\u001b[0;31mTypeError\u001b[0m                                 Traceback (most recent call last)",
      "Cell \u001b[0;32mIn[16], line 1\u001b[0m\n\u001b[0;32m----> 1\u001b[0m \u001b[43mg\u001b[49m\u001b[43m(\u001b[49m\u001b[43ma\u001b[49m\u001b[38;5;241;43m=\u001b[39;49m\u001b[38;5;241;43m3\u001b[39;49m\u001b[43m)\u001b[49m\n",
      "\u001b[0;31mTypeError\u001b[0m: g() got some positional-only arguments passed as keyword arguments: 'a'"
     ]
    }
   ],
   "source": [
    "g(a=3)"
   ]
  },
  {
   "cell_type": "code",
   "execution_count": null,
   "id": "fd3c5ee7-e76d-47c0-ad42-c8bc1504428d",
   "metadata": {},
   "outputs": [],
   "source": [
    "input"
   ]
  }
 ],
 "metadata": {
  "kernelspec": {
   "display_name": "Python 3 (ipykernel)",
   "language": "python",
   "name": "python3"
  },
  "language_info": {
   "codemirror_mode": {
    "name": "ipython",
    "version": 3
   },
   "file_extension": ".py",
   "mimetype": "text/x-python",
   "name": "python",
   "nbconvert_exporter": "python",
   "pygments_lexer": "ipython3",
   "version": "3.13.0"
  }
 },
 "nbformat": 4,
 "nbformat_minor": 5
}
