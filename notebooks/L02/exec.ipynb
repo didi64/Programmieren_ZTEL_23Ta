{
 "cells": [
  {
   "cell_type": "markdown",
   "id": "e60f4da3-d5a9-42f7-a4a8-3ab5ab12adec",
   "metadata": {},
   "source": [
    "Der PYthone interpreter/Exec/V, dict\n",
    "\n",
    "\n",
    "\n"
   ]
  },
  {
   "cell_type": "code",
   "execution_count": 3,
   "id": "a97ed95a-2d36-4cc6-bda0-8fdcbb6ded48",
   "metadata": {},
   "outputs": [],
   "source": [
    "def f(): \n",
    "    x= 5\n",
    "    def g():\n",
    "        return x\n",
    "    return g"
   ]
  },
  {
   "cell_type": "code",
   "execution_count": 4,
   "id": "02b4415b-bfd4-4e59-aaf1-352f3bd9262b",
   "metadata": {},
   "outputs": [],
   "source": [
    "g = f()"
   ]
  },
  {
   "cell_type": "code",
   "execution_count": 5,
   "id": "fdfee3d5-e600-4491-a977-7383fab04aea",
   "metadata": {},
   "outputs": [],
   "source": [
    "closure = type(g.__closure__[0])"
   ]
  },
  {
   "cell_type": "code",
   "execution_count": 6,
   "id": "cd7866df-6f79-48cb-94f5-1571197c25aa",
   "metadata": {},
   "outputs": [
    {
     "data": {
      "text/plain": [
       "<cell at 0x7f28b6a69390: int object at 0xb9df48>"
      ]
     },
     "execution_count": 6,
     "metadata": {},
     "output_type": "execute_result"
    }
   ],
   "source": [
    "closure(1)"
   ]
  },
  {
   "cell_type": "code",
   "execution_count": 14,
   "id": "d36d251c-c7f7-4fcf-8f52-b60f3d61ec60",
   "metadata": {},
   "outputs": [
    {
     "name": "stderr",
     "output_type": "stream",
     "text": [
      "<cell>1: \u001b[1m\u001b[31merror:\u001b[m Name \u001b[m\u001b[1m\"cell\"\u001b[m is not defined  \u001b[m\u001b[33m[name-defined]\u001b[m\n"
     ]
    },
    {
     "ename": "NameError",
     "evalue": "name 'cell' is not defined",
     "output_type": "error",
     "traceback": [
      "\u001b[0;31m---------------------------------------------------------------------------\u001b[0m",
      "\u001b[0;31mNameError\u001b[0m                                 Traceback (most recent call last)",
      "Cell \u001b[0;32mIn[14], line 1\u001b[0m\n\u001b[0;32m----> 1\u001b[0m \u001b[43mcell\u001b[49m\n",
      "\u001b[0;31mNameError\u001b[0m: name 'cell' is not defined"
     ]
    }
   ],
   "source": [
    "cell"
   ]
  },
  {
   "cell_type": "code",
   "execution_count": 8,
   "id": "592a368c-cfba-4ed1-bd0f-23bc8235015f",
   "metadata": {},
   "outputs": [
    {
     "name": "stderr",
     "output_type": "stream",
     "text": [
      "<cell>1: \u001b[1m\u001b[31merror:\u001b[m Name \u001b[m\u001b[1m\"cell\"\u001b[m is not defined  \u001b[m\u001b[33m[name-defined]\u001b[m\n"
     ]
    },
    {
     "ename": "NameError",
     "evalue": "name 'cell' is not defined",
     "output_type": "error",
     "traceback": [
      "\u001b[0;31m---------------------------------------------------------------------------\u001b[0m",
      "\u001b[0;31mNameError\u001b[0m                                 Traceback (most recent call last)",
      "Cell \u001b[0;32mIn[8], line 1\u001b[0m\n\u001b[0;32m----> 1\u001b[0m \u001b[43mcell\u001b[49m\n",
      "\u001b[0;31mNameError\u001b[0m: name 'cell' is not defined"
     ]
    }
   ],
   "source": [
    "cell"
   ]
  },
  {
   "cell_type": "code",
   "execution_count": 15,
   "id": "c86caed5-be57-432d-bba8-18dd0f881de5",
   "metadata": {},
   "outputs": [
    {
     "data": {
      "text/plain": [
       "mappingproxy({'__new__': <function cell.__new__(*args, **kwargs)>,\n",
       "              '__repr__': <slot wrapper '__repr__' of 'cell' objects>,\n",
       "              '__getattribute__': <slot wrapper '__getattribute__' of 'cell' objects>,\n",
       "              '__lt__': <slot wrapper '__lt__' of 'cell' objects>,\n",
       "              '__le__': <slot wrapper '__le__' of 'cell' objects>,\n",
       "              '__eq__': <slot wrapper '__eq__' of 'cell' objects>,\n",
       "              '__ne__': <slot wrapper '__ne__' of 'cell' objects>,\n",
       "              '__gt__': <slot wrapper '__gt__' of 'cell' objects>,\n",
       "              '__ge__': <slot wrapper '__ge__' of 'cell' objects>,\n",
       "              'cell_contents': <attribute 'cell_contents' of 'cell' objects>,\n",
       "              '__doc__': 'Create a new cell object.\\n\\n  contents\\n    the contents of the cell. If not specified, the cell will be empty,\\n    and \\n further attempts to access its cell_contents attribute will\\n    raise a ValueError.',\n",
       "              '__hash__': None})"
      ]
     },
     "execution_count": 15,
     "metadata": {},
     "output_type": "execute_result"
    }
   ],
   "source": [
    "closure.__dict__"
   ]
  },
  {
   "cell_type": "code",
   "execution_count": 11,
   "id": "75d2e53e-6754-4539-8e80-0935456ef967",
   "metadata": {},
   "outputs": [],
   "source": [
    "import types"
   ]
  },
  {
   "cell_type": "code",
   "execution_count": 14,
   "id": "19c5b30b-329d-4762-ab5f-753f7203a381",
   "metadata": {},
   "outputs": [
    {
     "data": {
      "text/plain": [
       "<cell at 0x7f28ac6372b0: int object at 0xb9df48>"
      ]
     },
     "execution_count": 14,
     "metadata": {},
     "output_type": "execute_result"
    }
   ],
   "source": [
    "types.CellType(1)"
   ]
  },
  {
   "cell_type": "code",
   "execution_count": 16,
   "id": "fa31dc6a-26fb-415a-858d-a1361b5a23d9",
   "metadata": {},
   "outputs": [],
   "source": [
    "code  = '''\\\n",
    "nonlocal x\n",
    "print(x)'''"
   ]
  },
  {
   "cell_type": "code",
   "execution_count": null,
   "id": "005bf92c-d0f7-4582-a1e4-2edc6483cc42",
   "metadata": {},
   "outputs": [],
   "source": []
  }
 ],
 "metadata": {
  "author": "dieter.probst@gmail.com",
  "kernelspec": {
   "display_name": "Python 3 (ipykernel)",
   "language": "python",
   "name": "python3"
  },
  "language_info": {
   "codemirror_mode": {
    "name": "ipython",
    "version": 3
   },
   "file_extension": ".py",
   "mimetype": "text/x-python",
   "name": "python",
   "nbconvert_exporter": "python",
   "pygments_lexer": "ipython3",
   "version": "3.13.0"
  }
 },
 "nbformat": 4,
 "nbformat_minor": 5
}
