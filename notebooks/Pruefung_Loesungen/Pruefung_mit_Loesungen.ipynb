{
 "cells": [
  {
   "cell_type": "markdown",
   "id": "93ceb2c0-6741-4459-aaed-87eeaa658e2d",
   "metadata": {},
   "source": [
    "### Pr&uuml;fung vom 13. Januar 2025\n",
    "\n",
    "**Allgemeines**\n",
    "- Zeit: 90 Minuten.\n",
    "- Hilfsmittel: Unterrichtunterlagen, Notizen, ...\n",
    "- **Vorboten** ist die Kommunikation mit anderen Personen in jeglicher Form, Chat-GPT.\n",
    "\n",
    "**Vorbereitung**\n",
    "- Mache Kopien der Notebooks `Aufgaben1.ipynb` und `Aufgaben2.ipynb` und nenne sie dann `Aufgaben1_<Vorname>_<Nachname>.ipynb`\n",
    "  und  `Aufgaben2_<Vorname>_<Nachname>.ipynb`. L&ouml;se die Aufgaben in den kopierten Notebooks.\n",
    "\n",
    "**Allgemeine Hinweise**\n",
    "- Bei manchen Aufgaben ist eine Funktion zu programmieren, die sp&auml;ter verwendet wird. \n",
    "Falls deine Funktion nicht wie gew&uuml;nscht funktioniert, kannst du \n",
    "statt dessen die gleichnamige Funktion aus dem Modul `loesungen` verwenden. \n",
    "- Teste den Code mit den Beispielen aus der Aufgabenstellung.\n",
    "- Ist die Implementation einer Funktion verlangen,\n",
    "so schreibe zuerst Code, der das Problem l&ouml;st.\n",
    "Der sp&auml;tere R&uuml;ckgabewert der Funktion ist in einer \n",
    "Variable (z.B. `result`) zu speichern und am Ende der Zelle auszugeben.\n",
    "\n",
    "**Abgabe**\n",
    "- Kopiere die Notebooks mit deinen L&ouml;sungen in deinen `share`-Ordner.  \n",
    "  F&uuml;hre dann in einer Code-Zelle den Befehl `!sync_share` aus, oder \n",
    "  f&uuml;hre im Jupyterlab-Terminal den Befehl `sync_share` aus.  \n",
    "  Falls das nicht klappen sollte: Schicke die Notebooks mit deinen L&ouml;sungen per Email an `dieter.probst@edu.teko.ch`.\n",
    "\n",
    "\n",
    "**Viel Erfolg!**"
   ]
  },
  {
   "cell_type": "code",
   "execution_count": null,
   "id": "c4a70e2b-8ca0-4776-a046-8f0ae2dc4021",
   "metadata": {},
   "outputs": [],
   "source": []
  }
 ],
 "metadata": {
  "kernelspec": {
   "display_name": "Python 3 (ipykernel)",
   "language": "python",
   "name": "python3"
  },
  "language_info": {
   "codemirror_mode": {
    "name": "ipython",
    "version": 3
   },
   "file_extension": ".py",
   "mimetype": "text/x-python",
   "name": "python",
   "nbconvert_exporter": "python",
   "pygments_lexer": "ipython3",
   "version": "3.13.0"
  }
 },
 "nbformat": 4,
 "nbformat_minor": 5
}
