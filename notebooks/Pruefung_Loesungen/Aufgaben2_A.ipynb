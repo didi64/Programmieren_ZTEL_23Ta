{
 "cells": [
  {
   "cell_type": "markdown",
   "id": "a5e9c245-c4bd-4c83-96b0-afb937edfdfe",
   "metadata": {},
   "source": [
    "### Aufgabe B1\n",
    "Schreibe eine Funktion `rumpelstilz()`, die solange  fragt \"Wie heisse ich?\",\n",
    "bis **dein Vorname** eingegeben wird, und dann gratuliert und ausgibt, wieviele Versuche gebraucht wurden.  \n",
    "```\n",
    "Gratuliere, du hast meinen Namen in 3 Versuchen erraten.\n",
    "```"
   ]
  },
  {
   "cell_type": "code",
   "execution_count": 2,
   "id": "4dae2738-2f12-4951-845c-1885b282b694",
   "metadata": {},
   "outputs": [],
   "source": [
    "def rumpelstilz():\n",
    "    name = 'rumpelstilz'\n",
    "    prompt = 'Wie heisst du?'\n",
    "    fmsg = 'Gratuliere, du hast meinen Namen in {} Versuchen erraten.'\n",
    "    n = 1\n",
    "    guess = input(prompt)\n",
    "    while guess != name:\n",
    "        guess = input(prompt)\n",
    "        n += 1\n",
    "    print(fmsg.format(n))"
   ]
  },
  {
   "cell_type": "markdown",
   "id": "b0627093-15bf-4d98-91b6-82c93d8d3cfb",
   "metadata": {},
   "source": [
    "### Aufgabe 2 (5 Punkte)\n",
    "\n",
    "Wirf einen Blick auf das File `lines.txt`.\n",
    "Jede Zeile ent&auml;t durch ein Komma getrennte W&ouml;rter. Ev. ist vor und noch dem Komma noch Whitespace.\n",
    "\n",
    "Schreibe eine Funktion `file2list(filename)`, die\n",
    "aus jeder Zeile des Files mit Namen `filename`  ein Tuple mit den\n",
    "einzelnen Eintr&auml;gen der Zeile macht, und\n",
    "eine Liste mit diesen Tupeln zur&uuml;ck gibt.\n",
    "**Whitepace am Anfang und Ende** der Strings in den Tupeln ist zu entfernen."
   ]
  },
  {
   "cell_type": "code",
   "execution_count": 3,
   "id": "01a390ed-9f2f-46c8-9d30-9e64e45eb17b",
   "metadata": {},
   "outputs": [
    {
     "data": {
      "text/plain": [
       "[('foo', 'bar', 'baz'), ('foo', 'bar')]"
      ]
     },
     "execution_count": 3,
     "metadata": {},
     "output_type": "execute_result"
    }
   ],
   "source": [
    "filename = 'lines.txt'\n",
    "sep = ','\n",
    "\n",
    "rows = []\n",
    "with open(filename, 'r') as f:\n",
    "    for line in f:\n",
    "        cols = [col for col in line.split(sep)]\n",
    "        row = tuple(col.strip() for col in cols)\n",
    "        rows.append(row)\n",
    "rows"
   ]
  },
  {
   "cell_type": "code",
   "execution_count": 4,
   "id": "20f46886-6908-462c-b641-557590690d5e",
   "metadata": {},
   "outputs": [],
   "source": [
    "def file2list(filename):\n",
    "    sep = ','\n",
    "    rows = []\n",
    "    with open(filename, 'r') as f:\n",
    "        for line in f:\n",
    "            cols = tuple(col.strip() for col in line.split(sep))\n",
    "            rows.append(cols)\n",
    "    return rows"
   ]
  },
  {
   "cell_type": "code",
   "execution_count": 5,
   "id": "010aeb25-fde3-46ae-8730-f7471d958b33",
   "metadata": {},
   "outputs": [
    {
     "data": {
      "text/plain": [
       "[('foo', 'bar', 'baz'), ('foo', 'bar')]"
      ]
     },
     "execution_count": 5,
     "metadata": {},
     "output_type": "execute_result"
    }
   ],
   "source": [
    "file2list('lines.txt')"
   ]
  },
  {
   "cell_type": "markdown",
   "id": "e81bd16e-cb30-4741-b1ba-8d4bdab5fbe7",
   "metadata": {},
   "source": [
    "### Aufgabe 3 (2+2+2=6 Punkte)\n",
    "\n",
    "1. Implementiere zum w&uuml;rfeln eine  Funktion `wuerfle(n)`, die eine Liste mit $n$\n",
    "Zufallszahlen zwischen 1 und 6 zur&uuml;ck gibt (benutze `randint` aus dem Modul `random`). \n",
    "\n",
    "1. Schreibe eine Funktion `count_dict(numbers)`, die aus der Liste mit den gew&uuml;rfelten Zahlen einen\n",
    "Dictionary erstellt, der angibt, wie oft jede Zahl gew&uuml;rfelt wurde.\n",
    "\n",
    "1. Schreibe eine Funktion `count_dict(numbers)`,\n",
    "die `True` zur&uuml;ckgibt, falls in der Liste `numbers` eine Zahl genau 4 Mal vorkommt."
   ]
  },
  {
   "cell_type": "code",
   "execution_count": 6,
   "id": "571d7e34-2f07-47d8-b700-133946f09ea2",
   "metadata": {},
   "outputs": [],
   "source": [
    "import random\n",
    "\n",
    "\n",
    "def wuerfle(n):\n",
    "    return [random.randint(1, 6) for i in range(n)]"
   ]
  },
  {
   "cell_type": "code",
   "execution_count": 7,
   "id": "81b9678b-f29b-486b-858c-31d45c77113f",
   "metadata": {},
   "outputs": [],
   "source": [
    "def count_dict(items):\n",
    "    d = {}\n",
    "    for item in items:\n",
    "        d[item] = d.get(item, 0) + 1\n",
    "    return d"
   ]
  },
  {
   "cell_type": "code",
   "execution_count": 8,
   "id": "82721b1e-c303-4980-aceb-944e533bc6e9",
   "metadata": {},
   "outputs": [],
   "source": [
    "def has_quads(numbers):\n",
    "    return 4 in count_dict(numbers).values()"
   ]
  },
  {
   "cell_type": "code",
   "execution_count": 9,
   "id": "5cd22a70-4611-4ec8-afd6-e51042e4d845",
   "metadata": {},
   "outputs": [
    {
     "data": {
      "text/plain": [
       "[5, 3, 3]"
      ]
     },
     "execution_count": 9,
     "metadata": {},
     "output_type": "execute_result"
    }
   ],
   "source": [
    "wuerfle(3)"
   ]
  },
  {
   "cell_type": "code",
   "execution_count": 10,
   "id": "47314366-8f51-4d27-8f55-170c8d434380",
   "metadata": {},
   "outputs": [
    {
     "data": {
      "text/plain": [
       "{1: 2, 2: 4, 3: 2}"
      ]
     },
     "execution_count": 10,
     "metadata": {},
     "output_type": "execute_result"
    }
   ],
   "source": [
    "numbers = [1, 2, 1,  2, 2, 3, 3, 2]\n",
    "count_dict(numbers)"
   ]
  },
  {
   "cell_type": "code",
   "execution_count": 11,
   "id": "1728e22a-74fe-491c-b01f-c509048a1bd6",
   "metadata": {},
   "outputs": [
    {
     "data": {
      "text/plain": [
       "True"
      ]
     },
     "execution_count": 11,
     "metadata": {},
     "output_type": "execute_result"
    }
   ],
   "source": [
    "has_quads(numbers)"
   ]
  },
  {
   "cell_type": "markdown",
   "id": "14f394cb-f1b5-4cb1-a81c-485da7f5188c",
   "metadata": {},
   "source": [
    "### Aufgabe (4 Punkte)\n",
    "Jemand schl&auml;gt dir ein Spiel vor. Der Einsatz betr&auml;gt 1 Franken.  \n",
    "Du bekommst 50 Franken, falls du mit 5 Würfeln genau 4 gleiche Zahlen w&uuml;rfelst.\n",
    "\n",
    "Simuliere 100'000 mal spielen. Wie gross ist der durchschnittliche Gewinn?\n",
    "(Sollte zwischen -10 Rappen und 3 Rappen liegen. Erwarteter durchschnittlicher Gewinn: -3.5 Rappen)"
   ]
  },
  {
   "cell_type": "code",
   "execution_count": 12,
   "id": "c132b0ae-3575-46c6-92f9-803ff20d5267",
   "metadata": {},
   "outputs": [],
   "source": [
    "N = 100_000\n",
    "nwuerfel = 5\n",
    "einsatz = 1\n",
    "auszahlung = 50"
   ]
  },
  {
   "cell_type": "code",
   "execution_count": 17,
   "id": "811b3a39-4de8-4e44-bdb2-0ff57ed0e508",
   "metadata": {},
   "outputs": [
    {
     "data": {
      "text/plain": [
       "-0.0375"
      ]
     },
     "execution_count": 17,
     "metadata": {},
     "output_type": "execute_result"
    }
   ],
   "source": [
    "balance = 0\n",
    "\n",
    "for i in range(N):\n",
    "    balance -= einsatz\n",
    "    wurf = wuerfle(nwuerfel)\n",
    "    if has_quads(wurf):\n",
    "        balance += auszahlung\n",
    "\n",
    "balance / N"
   ]
  }
 ],
 "metadata": {
  "kernelspec": {
   "display_name": "Python 3 (ipykernel)",
   "language": "python",
   "name": "python3"
  },
  "language_info": {
   "codemirror_mode": {
    "name": "ipython",
    "version": 3
   },
   "file_extension": ".py",
   "mimetype": "text/x-python",
   "name": "python",
   "nbconvert_exporter": "python",
   "pygments_lexer": "ipython3",
   "version": "3.13.0"
  }
 },
 "nbformat": 4,
 "nbformat_minor": 5
}
