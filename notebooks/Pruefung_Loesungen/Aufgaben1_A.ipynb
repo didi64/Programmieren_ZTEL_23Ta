{
 "cells": [
  {
   "cell_type": "markdown",
   "id": "2640cb81-495f-4af2-ab70-757b46e38b48",
   "metadata": {},
   "source": [
    "### Aufgaben 1 (2+1+1=4 Punkte)\n",
    "1. Erstellen eine Liste mit den ersten 100 Kubikzahlen\n",
    "   ($1^3,2^2,3^3,\\ldots,100^3$).\n",
    "   Gib zur Kontrolle die ersten und letzten beiden Elemente diese Liste aus.\n",
    "1.  Berechne die Summe den ersten 100 Kubikzahlen ($25\\,502\\,500$).\n",
    "1.  Berechne das Quadrat der Summe der ersten 100 Zahlen  \n",
    "    $(1+2+\\ldots+100)^2 = 25\\,502'500$."
   ]
  },
  {
   "cell_type": "code",
   "execution_count": 2,
   "id": "b175e71e-e6d7-4c84-8dc8-9e5af566f210",
   "metadata": {},
   "outputs": [
    {
     "data": {
      "text/plain": [
       "([1, 8], [970299, 1000000])"
      ]
     },
     "execution_count": 2,
     "metadata": {},
     "output_type": "execute_result"
    }
   ],
   "source": [
    "cubes = [i**3 for i in range(1, 101)]\n",
    "cubes[:2], cubes[-2:]"
   ]
  },
  {
   "cell_type": "code",
   "execution_count": 3,
   "id": "b02972d9-c54f-4392-8983-0236adef45a5",
   "metadata": {},
   "outputs": [
    {
     "data": {
      "text/plain": [
       "25502500"
      ]
     },
     "execution_count": 3,
     "metadata": {},
     "output_type": "execute_result"
    }
   ],
   "source": [
    "sum(cubes)"
   ]
  },
  {
   "cell_type": "code",
   "execution_count": 4,
   "id": "93b59303-0da6-4c5f-9f99-17a64ef73026",
   "metadata": {},
   "outputs": [
    {
     "data": {
      "text/plain": [
       "25502500"
      ]
     },
     "execution_count": 4,
     "metadata": {},
     "output_type": "execute_result"
    }
   ],
   "source": [
    "sum(i for i in range(1, 101))**2"
   ]
  },
  {
   "cell_type": "code",
   "execution_count": null,
   "id": "7a613451-d967-4293-b172-03e11c6bbb5a",
   "metadata": {},
   "outputs": [],
   "source": []
  },
  {
   "cell_type": "code",
   "execution_count": null,
   "id": "70027ce5-4b5f-4e2a-a036-59fb2fd5bfa5",
   "metadata": {},
   "outputs": [],
   "source": []
  },
  {
   "cell_type": "markdown",
   "id": "2bd0b41e-5415-4d10-9663-b739265e93ee",
   "metadata": {},
   "source": [
    "### Aufgabe 2 (1+2+3=6 Punkte)\n",
    "1. Erstelle aus dem String `abc` einen Strings `am` mit den\n",
    " ersten 13 Buchstaben des Alphabets und einen String `nz` letzten 13 Buchstaben des Alphabets.\n",
    "1. H&auml;nge die Strings `nz` und `am` aneinander (neuer String `nzam`) und\n",
    "   erstelle aus `abc` und `nzam` eine  Liste  \n",
    "   `pairs = [('a', 'n'), ..., ('m','z'), ('n', 'a'), ..., ('z', 'm')]`  \n",
    "   mit den Paaren entsprechender Buchstaben der Strings `abc` und  `nzam`.  \n",
    "   Benutze eine For-Schleife, um das erste, 13., 14. und letzte\n",
    "Element von `pairs` zu printen.  \n",
    "( Diese Elemente: `('a', 'n'), ('n', 'a'), ('o', 'b'), ('z', 'm')`).\n",
    "1. Erstelle aus den Schl&uuml;ssel-Wert Paaren `pairs` einen Dictionary `rot13 = {'a': 'n', ..., 'z': 'm'}`. Benutze eine For-Schleife, um zur Kontrolle die Werte zu den  Schl&uuml;sseln a,b,y und z wie folgt auszugeben:\n",
    "```\n",
    "Schlüssel: a, Wert: n\n",
    "Schlüssel: b, Wert: o\n",
    "Schlüssel: y, Wert: l\n",
    "Schlüssel: z, Wert: m\n",
    "```"
   ]
  },
  {
   "cell_type": "code",
   "execution_count": 26,
   "id": "d97e3d2b-b9c2-472c-95b0-750321602722",
   "metadata": {},
   "outputs": [],
   "source": [
    "abc = 'abcdefghijklmnopqrstuvwxyz'"
   ]
  },
  {
   "cell_type": "code",
   "execution_count": null,
   "id": "bde56bb5-2561-4a5e-87e8-7e89951e6489",
   "metadata": {},
   "outputs": [],
   "source": []
  },
  {
   "cell_type": "code",
   "execution_count": null,
   "id": "dd92de10-9a9b-49fd-8fd6-2bf669aff99f",
   "metadata": {},
   "outputs": [],
   "source": []
  },
  {
   "cell_type": "code",
   "execution_count": 27,
   "id": "a9a842ba-29c3-4286-a49a-b70d4e3ce897",
   "metadata": {},
   "outputs": [
    {
     "data": {
      "text/plain": [
       "('abcdefghijklm', 'nopqrstuvwxyz')"
      ]
     },
     "execution_count": 27,
     "metadata": {},
     "output_type": "execute_result"
    }
   ],
   "source": [
    "am = abc[:13]\n",
    "nz = abc[13:]\n",
    "am, nz"
   ]
  },
  {
   "cell_type": "code",
   "execution_count": 32,
   "id": "bb53d876-cf8c-4a79-9d4e-5f2b2ce6db34",
   "metadata": {},
   "outputs": [
    {
     "name": "stdout",
     "output_type": "stream",
     "text": [
      "('a', 'n'), ('n', 'a'), ('o', 'b'), ('z', 'm'), "
     ]
    }
   ],
   "source": [
    "pairs = list(zip(abc, nz+am))\n",
    "for i in (0, 12, 13, -1):\n",
    "    print(pairs[i], end=', ')"
   ]
  },
  {
   "cell_type": "code",
   "execution_count": 38,
   "id": "2598a654-b3b7-43fc-b0c7-46e7d39ed643",
   "metadata": {},
   "outputs": [],
   "source": [
    "rot13 = {c: i for i, c in pairs}"
   ]
  },
  {
   "cell_type": "code",
   "execution_count": 44,
   "id": "1d584d1f-082f-4f7b-b95d-c671146d1e5b",
   "metadata": {},
   "outputs": [
    {
     "name": "stdout",
     "output_type": "stream",
     "text": [
      "Schlüssel: a, Wert: n\n",
      "Schlüssel: b, Wert: o\n",
      "Schlüssel: y, Wert: l\n",
      "Schlüssel: z, Wert: m\n"
     ]
    }
   ],
   "source": [
    "for c in 'abyz':\n",
    "    print('Schlüssel: {}, Wert: {}'.format(c, rot13[c]))"
   ]
  },
  {
   "cell_type": "code",
   "execution_count": null,
   "id": "1e70b252-685b-43f0-bfb0-009d51f8620d",
   "metadata": {},
   "outputs": [],
   "source": []
  },
  {
   "cell_type": "code",
   "execution_count": null,
   "id": "7dfb75d5-9318-4f61-b35d-dd19d5773c26",
   "metadata": {},
   "outputs": [],
   "source": []
  },
  {
   "cell_type": "code",
   "execution_count": 36,
   "id": "ae82c9b3-c622-458e-9d16-07bb05463457",
   "metadata": {},
   "outputs": [
    {
     "data": {
      "text/plain": [
       "'xynegrkg'"
      ]
     },
     "execution_count": 36,
     "metadata": {},
     "output_type": "execute_result"
    }
   ],
   "source": [
    "s = 'klartext'\n",
    "''.join(rot13[c] for c in s)"
   ]
  },
  {
   "cell_type": "code",
   "execution_count": 35,
   "id": "f901c5d2-7d49-48e5-91cb-ae84712f6e4f",
   "metadata": {},
   "outputs": [
    {
     "data": {
      "text/plain": [
       "'xynegrkg'"
      ]
     },
     "execution_count": 35,
     "metadata": {},
     "output_type": "execute_result"
    }
   ],
   "source": [
    "rot13 = {c: i for i, c in pairs}\n",
    "codes = []\n",
    "for c in 'klartext':\n",
    "    codes.append(rot13[c])\n",
    "ciphertext = ''.join(codes)\n",
    "ciphertext"
   ]
  },
  {
   "cell_type": "code",
   "execution_count": null,
   "id": "59db04d8-fdcc-4b79-8bc6-ed8c65fd7e9e",
   "metadata": {},
   "outputs": [],
   "source": []
  },
  {
   "cell_type": "markdown",
   "id": "734e412b-d46a-48f9-84ed-10705fe0507f",
   "metadata": {},
   "source": [
    "### Aufgabe 3 (3+2+2=7 Punkte)\n",
    "1. Sei `s = 'klartext'`. Erstelle eine Liste\n",
    "mit den Buchstaben, welche `rot13` den Buchstaben in `s` zuordnet, und\n",
    "forme dann aus diesen Buchstaben einen String (`'xynegrkg'`).\n",
    "2. Schreibe eine Funktion `encode1(klartext)`, die\n",
    "   einen String `klartext`, **der nur Kleinbuchstaben enth&auml;lt** auf diese Art verschl&uuml;sselt und diesen String zur&uuml;ck gibt.  \n",
    "   Z.B. `encode1('hallo')` -> `'unyyb'`.\n",
    "   \n",
    "3. Schreibe nun eine Variante `encode` von der Funktion `encode1`, bei der das Argument `klartext` auch Zeichen enthalten darf, die nicht Schl&uuml;ssel im Dictionary `rot13` sind.\n",
    "   Solche Zeichen sollen nicht ver&auml;ndert werden.\n",
    "    `encode1('Hallo!')` -> `'Hnyyb!'`."
   ]
  },
  {
   "cell_type": "code",
   "execution_count": null,
   "id": "a5e2726b-c5dd-4b08-91ca-18305daaf415",
   "metadata": {},
   "outputs": [],
   "source": [
    "s = 'klartext'"
   ]
  },
  {
   "cell_type": "code",
   "execution_count": 46,
   "id": "ba6a3cd3-7855-4830-b018-94c51bb050c5",
   "metadata": {},
   "outputs": [
    {
     "data": {
      "text/plain": [
       "'xynegrkg'"
      ]
     },
     "execution_count": 46,
     "metadata": {},
     "output_type": "execute_result"
    }
   ],
   "source": [
    "letters = []\n",
    "for c in s:\n",
    "    letters.append(rot13[c])\n",
    "''.join(letters)"
   ]
  },
  {
   "cell_type": "code",
   "execution_count": null,
   "id": "02b85d0c-4f26-4e90-ab02-fd7582e87963",
   "metadata": {},
   "outputs": [],
   "source": [
    "''.join(rot13[c] for c in s)"
   ]
  },
  {
   "cell_type": "code",
   "execution_count": 49,
   "id": "3646edad-e45c-49eb-8063-48aaab4d6946",
   "metadata": {},
   "outputs": [],
   "source": [
    "def encode1(klartext):\n",
    "    letters = []\n",
    "    for c in klartext:\n",
    "        letters.append(rot13[c])\n",
    "    return ''.join(letters)"
   ]
  },
  {
   "cell_type": "code",
   "execution_count": 51,
   "id": "8f186bd6-8d7a-4596-abe2-b281c593b237",
   "metadata": {},
   "outputs": [
    {
     "data": {
      "text/plain": [
       "'unyyb'"
      ]
     },
     "execution_count": 51,
     "metadata": {},
     "output_type": "execute_result"
    }
   ],
   "source": [
    "encode1('hallo')"
   ]
  },
  {
   "cell_type": "code",
   "execution_count": 52,
   "id": "f46227da-3b37-45f5-8826-797e918e62f0",
   "metadata": {},
   "outputs": [],
   "source": [
    "def encode(klartext):\n",
    "    return ''.join(rot13.get(c, c) for c in klartext)"
   ]
  },
  {
   "cell_type": "code",
   "execution_count": 54,
   "id": "929cccf3-3c72-4900-8a6e-6ff9765fda8d",
   "metadata": {},
   "outputs": [
    {
     "data": {
      "text/plain": [
       "'Hnyyb!'"
      ]
     },
     "execution_count": 54,
     "metadata": {},
     "output_type": "execute_result"
    }
   ],
   "source": [
    "encode('Hallo!')"
   ]
  },
  {
   "cell_type": "code",
   "execution_count": null,
   "id": "eb7ac4ff-1bde-405e-bcc2-829c5e151935",
   "metadata": {},
   "outputs": [],
   "source": []
  },
  {
   "cell_type": "code",
   "execution_count": null,
   "id": "ba506b14-2dc4-45fb-875b-34565c2a6448",
   "metadata": {},
   "outputs": [],
   "source": []
  },
  {
   "cell_type": "markdown",
   "id": "d0301a03-c94d-49b1-9706-12c00ff2ec16",
   "metadata": {},
   "source": [
    "### Aufgaben 4 (1+2+2+3=8 Punkte)\n",
    "\n",
    "\n",
    "   \n",
    "Gegeben ist die Liste `numbers = [12, 7, 3, 20, 2]` und der Dictionary `d = {'c': 2, 'a': 1, 'b': 3}`.  \n",
    "\n",
    "\n",
    "1. Sortiere die Liste `numbers` aufsteigend und absteigend.\n",
    "1. Sortiere die Liste `numbers` alphabetisch (`[12, 2, 20, 3, 7]`).\n",
    "1. Betrachte die Funktion `sorted_dict` (siehe unten). Ersetzte die Kommentare `...` jeweils durch eine kurze Erkl&auml;rung, was in dieser Zeile passiert.\n",
    "1. Benutze die Funktion `sorted_dict`, um den Dictionary `d`\n",
    "   a) alphabetisch nach Sch&uuml;ssel,\n",
    "   b) aufsteigend nach Werten, c) absteigend nach Werten zu sortieren."
   ]
  },
  {
   "cell_type": "code",
   "execution_count": 60,
   "id": "09499717-e455-4aa6-b1ee-839be1c04edc",
   "metadata": {},
   "outputs": [],
   "source": [
    "numbers = [12, 7, 3, 20, 2]\n",
    "d = {'c': 2, 'a': 1, 'b': 3}"
   ]
  },
  {
   "cell_type": "code",
   "execution_count": null,
   "id": "d4427c31-4775-451b-8a2e-d93fc1865d13",
   "metadata": {},
   "outputs": [],
   "source": []
  },
  {
   "cell_type": "code",
   "execution_count": null,
   "id": "4cfa8afc-41f0-419c-9974-0e4fa7284077",
   "metadata": {},
   "outputs": [],
   "source": []
  },
  {
   "cell_type": "code",
   "execution_count": 62,
   "id": "de42a6c1-0baa-41c7-9995-57bdd6f7a7f3",
   "metadata": {},
   "outputs": [
    {
     "data": {
      "text/plain": [
       "([2, 3, 7, 12, 20], [20, 12, 7, 3, 2])"
      ]
     },
     "execution_count": 62,
     "metadata": {},
     "output_type": "execute_result"
    }
   ],
   "source": [
    "sorted(numbers), sorted(numbers, reverse=True)"
   ]
  },
  {
   "cell_type": "code",
   "execution_count": 3,
   "id": "b65ab52f-7cc9-4d85-9b14-63192245a3a4",
   "metadata": {},
   "outputs": [
    {
     "data": {
      "text/plain": [
       "[12, 2, 20, 3, 7]"
      ]
     },
     "execution_count": 3,
     "metadata": {},
     "output_type": "execute_result"
    }
   ],
   "source": [
    "sorted(numbers, key=lambda x: str(x))"
   ]
  },
  {
   "cell_type": "code",
   "execution_count": null,
   "id": "d4ca5fe1-183e-4314-8e00-c336ed759f8f",
   "metadata": {},
   "outputs": [],
   "source": [
    "def sorted_dict(d, key=None):\n",
    "    # ...\n",
    "    kwpairs = list(d.items())\n",
    "\n",
    "    if key is None:\n",
    "        # ...\n",
    "        kwpairs_sorted = sorted(kwpairs, key=lambda x: x[0])\n",
    "    else:\n",
    "        # ...\n",
    "        kwpairs_sorted = sorted(kwpairs, key=key)\n",
    "\n",
    "    # ...\n",
    "    res = dict(kwpairs_sorted)\n",
    "    return res"
   ]
  },
  {
   "cell_type": "code",
   "execution_count": null,
   "id": "d17c9736-b930-426d-8a74-800a6e16ef61",
   "metadata": {},
   "outputs": [],
   "source": []
  },
  {
   "cell_type": "code",
   "execution_count": 63,
   "id": "46fd6e68-df09-40e0-b059-f40df951d823",
   "metadata": {},
   "outputs": [],
   "source": [
    "def sorted_dict(d, key=None):\n",
    "    # Liste mit den Schluessel-Wert Paaren von d erstellen\n",
    "    kwpairs = list(d.items())\n",
    "\n",
    "    if key is None:\n",
    "        # sortiert Schluessel-Wert Paaren nach key\n",
    "        kwpairs_sorted = sorted(kwpairs, key=lambda x: x[0])\n",
    "    else:\n",
    "        # sortiert Schluessel-Wert Paaren  nach Sortierwert\n",
    "        # key((Schluessel, Wert))\n",
    "        kwpairs_sorted = sorted(kwpairs, key=key)\n",
    "\n",
    "    # erstellt aus sortierten Schluessel-Wert Paaren einen Dictinoary\n",
    "    # und gibt diesen zurueck\n",
    "    res = dict(kwpairs_sorted)\n",
    "    return res"
   ]
  },
  {
   "cell_type": "code",
   "execution_count": null,
   "id": "3130fcee-9215-4102-8536-d335cc369914",
   "metadata": {},
   "outputs": [],
   "source": []
  },
  {
   "cell_type": "code",
   "execution_count": 72,
   "id": "df7bdf36-f45c-437f-b804-651830b29a37",
   "metadata": {},
   "outputs": [
    {
     "data": {
      "text/plain": [
       "({'a': 1, 'b': 3, 'c': 2}, {'a': 1, 'c': 2, 'b': 3}, {'b': 3, 'c': 2, 'a': 1})"
      ]
     },
     "execution_count": 72,
     "metadata": {},
     "output_type": "execute_result"
    }
   ],
   "source": [
    "(sorted_dict(d),\n",
    " sorted_dict(d, key=lambda x: x[1]),\n",
    " sorted_dict(d, key=lambda x: -x[1]))"
   ]
  },
  {
   "cell_type": "code",
   "execution_count": null,
   "id": "80b4826b-686f-40c0-8c5f-bc3bd9cc84c4",
   "metadata": {},
   "outputs": [],
   "source": []
  }
 ],
 "metadata": {
  "kernelspec": {
   "display_name": "Python 3 (ipykernel)",
   "language": "python",
   "name": "python3"
  },
  "language_info": {
   "codemirror_mode": {
    "name": "ipython",
    "version": 3
   },
   "file_extension": ".py",
   "mimetype": "text/x-python",
   "name": "python",
   "nbconvert_exporter": "python",
   "pygments_lexer": "ipython3",
   "version": "3.13.0"
  }
 },
 "nbformat": 4,
 "nbformat_minor": 5
}
