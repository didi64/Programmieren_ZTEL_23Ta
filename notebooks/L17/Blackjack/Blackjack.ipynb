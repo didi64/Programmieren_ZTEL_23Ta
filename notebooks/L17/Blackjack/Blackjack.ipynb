{
 "cells": [
  {
   "cell_type": "markdown",
   "id": "49aeabe1-7af7-4867-a815-88b1df2d74b5",
   "metadata": {},
   "source": [
    "### Blackjack programmieren\n",
    "(&Auml;hnliches Beispiel, siehe `Tuerme_von_Hanoi.ipynb` aus Lektion 11)  \n",
    "**Karten und Deck**  \n",
    "Eine Karte wird durch 2 Zeichen repr&auml;sentiert, das 1. Zeichen gibt den Rang (rank) an,\n",
    "das 2. die Farbe (suits). Der Rang einer Karte bestimmt den Wert der Karte.\n",
    "Ein Deck ist eine Liste `deck` mit allen 52 Karten. Diese Liste wird mit der Methode `shuffle` des Moduls `random` gemischt.\n",
    "Mit `deck.pop()` wird eine Karte gezogen, d.h. das letzte Element der Liste `deck` wird entfernt und zur&uuml;ckgegeben.\n",
    "Die Funktion `handwert(<Liste von Karten>)` berechnet den Handwert einer Liste von Karten.\n",
    "Dabei z&auml;hlt ein Ass nur einen statt elf Punkte, falls andernfalls der Handwert 21 &uuml;bersteigt. \n",
    "\n",
    "```python\n",
    "SUITS = '♥♠♦♣'\n",
    "RANKS = '23456789TJQKA'\n",
    "rank_points = {'2': 2,\n",
    "               '3': 3,\n",
    "               '4': 4,\n",
    "               '5': 5,\n",
    "               '6': 6,\n",
    "               '7': 7,\n",
    "               '8': 8,\n",
    "               '9': 9,\n",
    "               'T': 10,\n",
    "               'J': 10,\n",
    "               'Q': 10,\n",
    "               'K': 10,\n",
    "               'A': 11,\n",
    "}              \n",
    "```"
   ]
  },
  {
   "cell_type": "code",
   "execution_count": null,
   "id": "6183588c-aace-43b2-a90d-76a676eedf3e",
   "metadata": {},
   "outputs": [],
   "source": [
    "import cards"
   ]
  },
  {
   "cell_type": "code",
   "execution_count": null,
   "id": "73131aec-4f28-46c4-bfee-6382abce491b",
   "metadata": {},
   "outputs": [],
   "source": [
    "deck = cards.new_deck(shuffle=False)\n",
    "deck[:9]"
   ]
  },
  {
   "cell_type": "code",
   "execution_count": null,
   "id": "de29425a-d2f9-4b66-94c2-5562838305d2",
   "metadata": {},
   "outputs": [],
   "source": [
    "deck = cards.new_deck(shuffle=True)\n",
    "deck[:9], len(deck)"
   ]
  },
  {
   "cell_type": "code",
   "execution_count": null,
   "id": "bf4bc438-d596-47c4-9507-546f00a316f5",
   "metadata": {},
   "outputs": [],
   "source": [
    "# 2 Karten aus Deck ziehen\n",
    "hand = [deck.pop() for _ in range(2)]\n",
    "hand, len(deck)"
   ]
  },
  {
   "cell_type": "code",
   "execution_count": null,
   "id": "21b76e5b-0b49-4e3f-9149-b06d33840daf",
   "metadata": {},
   "outputs": [],
   "source": [
    "# Handwert berechnen\n",
    "hand = ['6♠', 'A♦', '3♠', 'A♠']\n",
    "cards.handwert(hand)"
   ]
  },
  {
   "cell_type": "code",
   "execution_count": null,
   "id": "4dd1b44d-0ab3-42b5-9b9b-bb343dc7d0d5",
   "metadata": {},
   "outputs": [],
   "source": []
  },
  {
   "cell_type": "markdown",
   "id": "64d673a4-9a69-4acc-ba77-f8adafb541db",
   "metadata": {},
   "source": [
    "### Klasse BlackJack mit der Spiellogik, erste Version\n",
    "Das Spiel soll mit folgenden Befehlen vorangebracht werden. Der Befehl wird **nur ausgef&uuml;hrt**, falls das\n",
    "**regelkonform** ist.\n",
    "\n",
    "\n",
    "- `register(name, amount)`: Ein Spieler registriert sich mit seinem Namen und einem Geldbetrag. Verliert der Spieler all sein Geld,\n",
    "  muss er sich erneut registrieren.\n",
    "- `play(name, betsize)`: Der Spieler startet eine Runde Blackjack mit dem Dealer. Dabei setzt er\n",
    "  den Betrag `betsize` ein. Spieler und Dealer erhalten je 2 Karten.\n",
    "  Die View Kompenente des Programms wird dann nur die 1. Karte des Dealer offenlegen.\n",
    "- `hit()`: Der Spieler zieht eine Karte. &Uuml;bersteigt sein Handwert 21, verliert er seinen Einsatz.\n",
    "  Hat er noch Geld &uuml;brig, kann er eine weitere Runde spielen.\n",
    "- `stay()`: Der Spieler verzichet auf eine weitere Karte und l&auml;sst den Dealer Karten ziehen. Der Dealer zieht\n",
    "  solange sein Handwert unter 17 liegt. &Uuml;bersteigt sein Handwert 21, gewinnt der Spieler, andernfalls die\n",
    "  Hand mit dem h&ouml;heren Handwert.\n",
    "\n",
    "Hat der Dealer seine Karten gezogen, rufen wir ein Hilfsfunktion `_end_play` auf, die\n",
    "feststellt wer gewinnt und den Gewinn auszahlt. Um das Testen der Klasse BlackJack zu erleichtern,\n",
    "schreiben wir eine Methode `__repr__`, die den Wert der relevanten Variabeln ausgibt.\n",
    "\n",
    "\n",
    "```python\n",
    "class BlackJack:\n",
    "    def __init__(self):\n",
    "        self.player = None\n",
    "        self.bankroll = 0\n",
    "        \n",
    "        self.hand_player = []\n",
    "        self.hand_dealer = []\n",
    "        \n",
    "        self.betsize = 0\n",
    "        self.result = None\n",
    "        self.game_on = False\n",
    "        \n",
    "        self.deck = cards.new_deck()\n",
    "        \n",
    "    def register(self, name, bankroll):\n",
    "        '''Spieler registriert sich'''\n",
    "        \n",
    "    def play(self, betsize=10):\n",
    "        '''Eine Runde BlackJack um 10 Franken spielen'''\n",
    "        \n",
    "    def hit(self):\n",
    "        '''noch eine Karte ziehen'''\n",
    "        \n",
    "    def stay(self):\n",
    "        '''Dealer kommt an die Reihe''' \n",
    "       \n",
    "    def _end_play(self):\n",
    "        '''Gewinner ermitteln und Wetten auszahlen'''\n",
    "        \n",
    "    def __repr__(self):\n",
    "        '''String mit relevanten Variabeln und ihren Werten erstellen'''\n",
    "```"
   ]
  },
  {
   "cell_type": "code",
   "execution_count": null,
   "id": "47a7f474-69ec-42ea-a8ba-4c2bfc9f279f",
   "metadata": {},
   "outputs": [],
   "source": [
    "from blackjack0 import BlackJack"
   ]
  },
  {
   "cell_type": "code",
   "execution_count": null,
   "id": "9b0a446d-61de-43bf-8e5d-e347bfd73855",
   "metadata": {},
   "outputs": [],
   "source": [
    "# Instanz der der Klasse BlackJack erstellen und ausgeben\n",
    "bj = BlackJack()\n",
    "bj"
   ]
  },
  {
   "cell_type": "code",
   "execution_count": null,
   "id": "7a5140cd-2740-4b88-afe7-6171821c61f6",
   "metadata": {},
   "outputs": [],
   "source": [
    "# Spieler registrieren\n",
    "bj.register('Bob', 100)\n",
    "bj"
   ]
  },
  {
   "cell_type": "code",
   "execution_count": null,
   "id": "5acbbffe-8355-4df8-a21b-95bb1cd5058c",
   "metadata": {},
   "outputs": [],
   "source": [
    "# Runde starten\n",
    "bj.play()\n",
    "bj"
   ]
  },
  {
   "cell_type": "code",
   "execution_count": null,
   "id": "0f706000-bcbd-42a2-bfc4-2e06ac168df8",
   "metadata": {},
   "outputs": [],
   "source": [
    "# noch eine Karte ziehen\n",
    "bj.hit()\n",
    "bj"
   ]
  },
  {
   "cell_type": "code",
   "execution_count": null,
   "id": "fe770f03-acc0-4aa7-ab87-92a342eb3ee8",
   "metadata": {},
   "outputs": [],
   "source": [
    "# Zugrecht an Dealer weiterreichen\n",
    "bj.stay()\n",
    "bj"
   ]
  },
  {
   "cell_type": "code",
   "execution_count": null,
   "id": "62d939f9-9884-45d8-9aac-8af5f12d2b3f",
   "metadata": {},
   "outputs": [],
   "source": []
  },
  {
   "cell_type": "markdown",
   "id": "a247267c-6de7-4836-a839-5db06a523c19",
   "metadata": {},
   "source": [
    "### Klasse BlackJack mit der Spiellogik und einer Funktion `event_handler`\n",
    "\n",
    "Nach jedem Befehl `register`, `play`,... wird eine in der Variable `event_handler` gespeicherte Funktion\n",
    "aufgerufen. Sp&auml;ter wird dieser Variable eine Funktion der View-Komponente augewiesen,\n",
    "welche die graphische Darstellung des Spielzustandes updatet.\n",
    "Die Funktion erwartet die Argumente `event` und `data`. Dabei ist `event` der Name des Befehls und\n",
    "`data` relevante Information f&uuml;r das Update. \n",
    "\n",
    "\n",
    "Im Moment haben wir noch keine View-Komponente und die Variable `event_handler` speichert die Funktion `print`.\n",
    "So k&ouml;nnen wir testen, ob diese Funktion in den richtigen Momenten und sinnvollen Argumenten aufgerufen wird."
   ]
  },
  {
   "cell_type": "code",
   "execution_count": null,
   "id": "0c486efe-7b16-4e10-9275-4dea6e38c6e4",
   "metadata": {},
   "outputs": [],
   "source": [
    "from blackjack1 import BlackJack"
   ]
  },
  {
   "cell_type": "code",
   "execution_count": null,
   "id": "52cf17a8-b32e-4f66-aa88-aea19018479d",
   "metadata": {},
   "outputs": [],
   "source": [
    "bj = BlackJack()\n",
    "bj"
   ]
  },
  {
   "cell_type": "code",
   "execution_count": null,
   "id": "c03c8db7-b1a1-4b28-8a6e-cb3400d87642",
   "metadata": {},
   "outputs": [],
   "source": [
    "bj.register('Bob', 100)"
   ]
  },
  {
   "cell_type": "code",
   "execution_count": null,
   "id": "d297b051-443f-42a6-91c0-8eec4661bf72",
   "metadata": {},
   "outputs": [],
   "source": [
    "bj.play()"
   ]
  },
  {
   "cell_type": "code",
   "execution_count": null,
   "id": "87b77d40-c2fd-461d-9c85-522f20ad2c21",
   "metadata": {},
   "outputs": [],
   "source": [
    "bj.hit()"
   ]
  },
  {
   "cell_type": "code",
   "execution_count": null,
   "id": "b8735fe4-530d-4b03-b666-9c895b0fc5db",
   "metadata": {},
   "outputs": [],
   "source": [
    "bj.stay()"
   ]
  },
  {
   "cell_type": "code",
   "execution_count": null,
   "id": "26e58e45-3c7c-4244-ba7d-fca0a1453f64",
   "metadata": {},
   "outputs": [],
   "source": []
  },
  {
   "cell_type": "markdown",
   "id": "3d0d7b98-9935-40b0-96fe-49dab75d3746",
   "metadata": {},
   "source": [
    "### Kontrollelemente \n",
    "Ein Spieler registriert sich durch Eingabe von Name und Betrag in einem Textfeld.\n",
    "Der Wetteinsatz kann mit einem Slider eingestellt werden, die anderen Befehle durch Dr&uuml;cken von Buttons ausgef&uuml;hrt werden (siehe z.B. Notebook `Einige_Widgets.ipynb` der Lektion 13).\n",
    "Zur Anordnung der Kontrollwidgets benutzen wir die Container-Widgets HBox und VBox (siehe Notebook `HBox_und_VBox.ipynb` der Lektion 15).  \n",
    "\n",
    "\n",
    "Damit die Fehlermeldungen f&uuml;r die Buttons registrieten Callbacks \n",
    "nicht unterdr&uuml;ckt werden, leiten wir diese in ein Output-Widget `err_out` um.\n",
    "Das geschieht durch Dekoration des Callbacks (siehe z.B. `Output_Widget.ipynb`, Lektion 11). \n",
    "Dies erlaubt es weiter, den Controller zu testen.\n",
    "Die Ausgeben der `event_handler` Funktion der Game-Instanz (im Moment `print`) werden ebenfalls nach\n",
    "`err_out` umgeleitet.  \n",
    "`err_out` und die Umleitung der Fehlermeldungen wird nur w&auml;hrend der Entwicklungsphase ben&ouml;tigt.\n",
    "\n",
    "\n",
    "```python\n",
    "@err_out.capture()\n",
    "def play(self, bt):\n",
    "    ...\n",
    "```\n",
    "\n",
    "Die Klasse `Controller` hat ein Attribut f&uuml;r die Game-Instanz, die sie steuert.\n",
    "Weiter haben wir Attribute `name` und `betsize`, um die \n",
    "im Textfeld entgegengenommenen Daten zu speichern.\n",
    "\n",
    "Weiter werden in der `__init__`-Methode des Controllers die\n",
    "Widgets erstellt, angeordner und mit Callbacks verkn&uuml;pft.\n",
    "\n",
    "```python\n",
    "class Controller:\n",
    "    err_out = new_output()\n",
    "\n",
    "    def __init__(self, game):\n",
    "        self.game = game\n",
    "        self.betsize = 10\n",
    "        self.name = None\n",
    "\n",
    "\n",
    "    @err_out.capture()\n",
    "    def update_betsize(self, change):\n",
    "        '''update betsize and description of play-Button'''\n",
    "       \n",
    "    @err_out.capture()\n",
    "    def register(self, text):\n",
    "        '''leite im Textfeld eingegebener Name und Betrag and game weiter'''\n",
    "        self.game.register(self.name, self.bankroll)\n",
    "    \n",
    "    @err_out.capture()\n",
    "    def play(self, bt):\n",
    "        '''rufe play Methode der game-Instanz auf'''\n",
    "        self.game.play(self.betsize)\n",
    "    \n",
    "    @err_out.capture()\n",
    "    def hit(self, bt):\n",
    "        '''rufe hit Methode der game-Instanz auf'''\n",
    "        self.game.hit()\n",
    "    \n",
    "    @err_out.capture()\n",
    "    def stay(self, bt):\n",
    "        '''rufe stay Methode der game-Instanz auf'''\n",
    "        self.game.stay()\n",
    "\n",
    "    def _ipython_display_(self):\n",
    "        '''wird aufgerufen um Controller darzustellen'''\n",
    "        display(self.controls, self.err_out)\n",
    "```"
   ]
  },
  {
   "cell_type": "code",
   "execution_count": null,
   "id": "09cae475-dff1-4f49-8998-a56fdf7a427c",
   "metadata": {},
   "outputs": [],
   "source": [
    "from controller_bj import Controller\n",
    "\n",
    "\n",
    "bj = BlackJack()\n",
    "controller = Controller(bj)\n",
    "display(controller)"
   ]
  },
  {
   "cell_type": "code",
   "execution_count": null,
   "id": "179d0106-02ea-4de6-a059-f681b83aa1e2",
   "metadata": {},
   "outputs": [],
   "source": [
    "Controller.err_out.clear_output()"
   ]
  },
  {
   "cell_type": "code",
   "execution_count": null,
   "id": "bdd57659-b2d2-43a7-aa0f-def3af35b375",
   "metadata": {},
   "outputs": [],
   "source": []
  },
  {
   "cell_type": "markdown",
   "id": "4abdb32f-b2f4-41d7-8eb5-10ea1e2a7a94",
   "metadata": {},
   "source": [
    "### Die Klasse View\n",
    "Die Klasse View gibt lediglich die relevanten Attribute der Gameinstanz in\n",
    "ein Outut-Widget aus. Dies wird von der Methode `update` der View erledigt, welche\n",
    "der Game-Instanz als Eventhandler zugewiesen wird.\n",
    "\n",
    "```python\n",
    "class View:\n",
    "    def __init__(self, game):\n",
    "       \n",
    "        self.game = game\n",
    "        self.game.event_handler = self.update\n",
    "        self.out = new_output()\n",
    "\n",
    "    def update(self, event, data):\n",
    "        '''gibt relevante Info zum Spielzustand im Output-Widget out aus'''\n",
    "        with self.out:\n",
    "             ...\n",
    "\n",
    "    def _ipython_display_(self):\n",
    "        display(self.out)        \n",
    "```"
   ]
  },
  {
   "cell_type": "code",
   "execution_count": null,
   "id": "ea03c2b2-1763-4e2d-ab1e-5548adc8de24",
   "metadata": {},
   "outputs": [],
   "source": [
    "# View testen\n",
    "from view_bj import View\n",
    "\n",
    "bj = BlackJack()\n",
    "view = View(bj)\n",
    "view"
   ]
  },
  {
   "cell_type": "code",
   "execution_count": null,
   "id": "80b35035-4800-4742-9288-b65d599be603",
   "metadata": {},
   "outputs": [],
   "source": [
    "# eine Ausgabe im obigem Output-Widget sollte geschehen\n",
    "bj.register('Bob', 100)"
   ]
  },
  {
   "cell_type": "code",
   "execution_count": null,
   "id": "55303749-2cc1-48fc-a569-bdc3e38863eb",
   "metadata": {},
   "outputs": [],
   "source": [
    "# Update sollte im obigem Output-Widget sollte geschehen\n",
    "bj.play()"
   ]
  },
  {
   "cell_type": "code",
   "execution_count": null,
   "id": "74a03a4f-b985-4204-bdfe-f6477bd6619e",
   "metadata": {},
   "outputs": [],
   "source": []
  },
  {
   "cell_type": "code",
   "execution_count": null,
   "id": "7cb0614e-01a7-4459-8bf1-7e43eaeedaeb",
   "metadata": {},
   "outputs": [],
   "source": [
    "# Alle Komponenten zusammensetzen\n",
    "game = BlackJack()\n",
    "controller = Controller(game)\n",
    "view = View(game)\n",
    "\n",
    "game.event_handler = view.update\n",
    "display(controller, view)"
   ]
  },
  {
   "cell_type": "code",
   "execution_count": null,
   "id": "5f409f10-1e89-4f0b-9e2e-acd7e9f630c7",
   "metadata": {},
   "outputs": [],
   "source": []
  }
 ],
 "metadata": {
  "kernelspec": {
   "display_name": "Python 3 (ipykernel)",
   "language": "python",
   "name": "python3"
  },
  "language_info": {
   "codemirror_mode": {
    "name": "ipython",
    "version": 3
   },
   "file_extension": ".py",
   "mimetype": "text/x-python",
   "name": "python",
   "nbconvert_exporter": "python",
   "pygments_lexer": "ipython3",
   "version": "3.13.0"
  }
 },
 "nbformat": 4,
 "nbformat_minor": 5
}
