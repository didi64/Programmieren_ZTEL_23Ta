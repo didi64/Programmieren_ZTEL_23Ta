{
 "cells": [
  {
   "cell_type": "markdown",
   "id": "e5d77a38-f3ab-498e-8515-e2efb8970393",
   "metadata": {},
   "source": [
    "### Blackjack mit Canvas-View"
   ]
  },
  {
   "cell_type": "code",
   "execution_count": null,
   "id": "5c06e8b6-a572-4e83-9c79-74b41bdae516",
   "metadata": {},
   "outputs": [],
   "source": []
  },
  {
   "cell_type": "code",
   "execution_count": null,
   "id": "2a2c1ef6-3333-434d-8832-7319993b8b23",
   "metadata": {},
   "outputs": [],
   "source": [
    "from blackjack1 import BlackJack\n",
    "from canvasview_bj import View\n",
    "\n",
    "game = BlackJack()\n",
    "view = View(game)\n",
    "view"
   ]
  },
  {
   "cell_type": "code",
   "execution_count": null,
   "id": "9437ab0b-9d8e-4e70-9a51-808192a87558",
   "metadata": {},
   "outputs": [],
   "source": [
    "game.register('Bob', 100)"
   ]
  },
  {
   "cell_type": "code",
   "execution_count": null,
   "id": "d22af761-133c-4226-87ca-fe457732712c",
   "metadata": {},
   "outputs": [],
   "source": [
    "game.play(20)"
   ]
  },
  {
   "cell_type": "code",
   "execution_count": null,
   "id": "b0a9b07e-020f-4595-b9c9-87546fc255a5",
   "metadata": {},
   "outputs": [],
   "source": [
    "game._end_play()"
   ]
  },
  {
   "cell_type": "code",
   "execution_count": null,
   "id": "f3afe9bf-7f4c-4f3a-9099-5425c626ff1c",
   "metadata": {},
   "outputs": [],
   "source": [
    "from controller_bj import Controller\n",
    "from canvasview_bj import View\n",
    "\n",
    "game = BlackJack()\n",
    "controller = Controller(game)\n",
    "view = View(game)\n",
    "\n",
    "display(controller, view)"
   ]
  },
  {
   "cell_type": "code",
   "execution_count": null,
   "id": "8b60ab7b-5ae6-4fa1-bc49-b55e3c703012",
   "metadata": {},
   "outputs": [],
   "source": []
  }
 ],
 "metadata": {
  "kernelspec": {
   "display_name": "Python 3 (ipykernel)",
   "language": "python",
   "name": "python3"
  },
  "language_info": {
   "codemirror_mode": {
    "name": "ipython",
    "version": 3
   },
   "file_extension": ".py",
   "mimetype": "text/x-python",
   "name": "python",
   "nbconvert_exporter": "python",
   "pygments_lexer": "ipython3",
   "version": "3.13.0"
  }
 },
 "nbformat": 4,
 "nbformat_minor": 5
}
