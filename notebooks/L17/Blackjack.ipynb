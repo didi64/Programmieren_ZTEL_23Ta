{
 "cells": [
  {
   "cell_type": "markdown",
   "id": "49aeabe1-7af7-4867-a815-88b1df2d74b5",
   "metadata": {},
   "source": []
  },
  {
   "cell_type": "code",
   "execution_count": 1,
   "id": "0c486efe-7b16-4e10-9275-4dea6e38c6e4",
   "metadata": {},
   "outputs": [],
   "source": [
    "from blackjack1 import BlackJack"
   ]
  },
  {
   "cell_type": "code",
   "execution_count": 3,
   "id": "52cf17a8-b32e-4f66-aa88-aea19018479d",
   "metadata": {},
   "outputs": [
    {
     "ename": "NameError",
     "evalue": "name 'new_deck' is not defined",
     "output_type": "error",
     "traceback": [
      "\u001b[0;31m---------------------------------------------------------------------------\u001b[0m",
      "\u001b[0;31mNameError\u001b[0m                                 Traceback (most recent call last)",
      "Cell \u001b[0;32mIn[3], line 1\u001b[0m\n\u001b[0;32m----> 1\u001b[0m bj \u001b[38;5;241m=\u001b[39m \u001b[43mBlackJack\u001b[49m\u001b[43m(\u001b[49m\u001b[43m)\u001b[49m\n\u001b[1;32m      2\u001b[0m bj\n",
      "File \u001b[0;32m~/Projects/JupyterNotebooks/Programmieren_ZTel_23Ta/notebooks/L17/blackjack1.py:17\u001b[0m, in \u001b[0;36mBlackJack.__init__\u001b[0;34m(self)\u001b[0m\n\u001b[1;32m     14\u001b[0m \u001b[38;5;28mself\u001b[39m\u001b[38;5;241m.\u001b[39mresult \u001b[38;5;241m=\u001b[39m \u001b[38;5;28;01mNone\u001b[39;00m\n\u001b[1;32m     15\u001b[0m \u001b[38;5;28mself\u001b[39m\u001b[38;5;241m.\u001b[39mgame_on \u001b[38;5;241m=\u001b[39m \u001b[38;5;28;01mFalse\u001b[39;00m\n\u001b[0;32m---> 17\u001b[0m \u001b[38;5;28mself\u001b[39m\u001b[38;5;241m.\u001b[39mdeck \u001b[38;5;241m=\u001b[39m \u001b[43mnew_deck\u001b[49m()\n\u001b[1;32m     18\u001b[0m \u001b[38;5;28mself\u001b[39m\u001b[38;5;241m.\u001b[39mevent_handler \u001b[38;5;241m=\u001b[39m \u001b[38;5;28mprint\u001b[39m\n",
      "\u001b[0;31mNameError\u001b[0m: name 'new_deck' is not defined"
     ]
    }
   ],
   "source": [
    "bj = BlackJack()\n",
    "bj"
   ]
  },
  {
   "cell_type": "code",
   "execution_count": 209,
   "id": "c03c8db7-b1a1-4b28-8a6e-cb3400d87642",
   "metadata": {},
   "outputs": [
    {
     "name": "stdout",
     "output_type": "stream",
     "text": [
      "register ('Bob', 100)\n"
     ]
    }
   ],
   "source": [
    "bj.register('Bob', 100)"
   ]
  },
  {
   "cell_type": "code",
   "execution_count": 210,
   "id": "d297b051-443f-42a6-91c0-8eec4661bf72",
   "metadata": {},
   "outputs": [
    {
     "name": "stdout",
     "output_type": "stream",
     "text": [
      "play (10, ['6♣', '9♣'], ['2♥', 'J♥'])\n"
     ]
    }
   ],
   "source": [
    "bj.play()"
   ]
  },
  {
   "cell_type": "code",
   "execution_count": 211,
   "id": "87b77d40-c2fd-461d-9c85-522f20ad2c21",
   "metadata": {},
   "outputs": [
    {
     "name": "stdout",
     "output_type": "stream",
     "text": [
      "hit ['6♣', '9♣', '4♦']\n"
     ]
    }
   ],
   "source": [
    "bj.hit()"
   ]
  },
  {
   "cell_type": "code",
   "execution_count": 212,
   "id": "b8735fe4-530d-4b03-b666-9c895b0fc5db",
   "metadata": {},
   "outputs": [
    {
     "name": "stdout",
     "output_type": "stream",
     "text": [
      "stay None\n",
      "end play (['3♣', 'A♥', 'A♠'], 2, 120)\n"
     ]
    }
   ],
   "source": [
    "bj.stay()"
   ]
  },
  {
   "cell_type": "code",
   "execution_count": null,
   "id": "26e58e45-3c7c-4244-ba7d-fca0a1453f64",
   "metadata": {},
   "outputs": [],
   "source": []
  },
  {
   "cell_type": "code",
   "execution_count": 2,
   "id": "0d21cfdc-b87f-4e1d-befb-f2d0af5dd937",
   "metadata": {},
   "outputs": [
    {
     "name": "stdout",
     "output_type": "stream",
     "text": [
      "Writing controller_bj.py\n"
     ]
    }
   ],
   "source": [
    "%%file controller_bj.py\n",
    "import warnings\n",
    "warnings.filterwarnings('ignore', category=DeprecationWarning)\n",
    "\n",
    "from ipywidgets import  HBox, VBox, IntSlider, Text\n",
    "from widgets_helpers import new_button, new_output\n",
    "from IPython.display import display\n",
    "\n",
    "\n",
    "class Controller:\n",
    "    err_out = new_output()\n",
    "\n",
    "    def __init__(self, game):\n",
    "        self.game = game\n",
    "        self.betsize = 10\n",
    "        self.name = None\n",
    "\n",
    "        self.text = Text(description='register:', placeholder='Name, bankroll')\n",
    "        self.text.on_submit(self.register)\n",
    "        \n",
    "        self.intslider = IntSlider(10, min=10, max=50, step=10)\n",
    "        self.intslider.observe(self.update_betsize, names='value')\n",
    "        self.err_out.clear_output()\n",
    "        \n",
    "        #self.button_register = new_button(description='register')\n",
    "        self.button_play = new_button(description=f'play ({self.name}, {self.betsize})')\n",
    "        self.button_play.layout.width = 'auto'\n",
    "        self.button_hit = new_button(description='hit')\n",
    "        self.button_stay = new_button(description='stay')\n",
    "        \n",
    "        self.intslider = IntSlider(10, min=10, max=50, step=10)\n",
    "        self.intslider.observe(self.update_betsize, names='value')\n",
    "\n",
    "\n",
    "        # Buttons und Slider nebeneinander legen\n",
    "        self.hbox = HBox(children=[self.button_play,\n",
    "                                   self.intslider,\n",
    "                                   self.button_hit,\n",
    "                                   self.button_stay]\n",
    "                         )\n",
    "\n",
    "        self.app = VBox([self.text, self.hbox])\n",
    "                                   \n",
    "        #self.button_register.on_click(self.register)\n",
    "        self.button_play.on_click(self.play)\n",
    "        self.button_hit.on_click(self.hit)\n",
    "        self.button_stay.on_click(self.stay)\n",
    "\n",
    "    @err_out.capture()\n",
    "    def update_betsize(self, change):\n",
    "        self.betsize = change.new\n",
    "        self.button_play.description = f'play ({self.name}, {self.betsize})'\n",
    "    \n",
    "    @err_out.capture()\n",
    "    def register(self, text):\n",
    "        self.name, bankroll = text.value.split(',')\n",
    "        self.bankroll = int(bankroll) if bankroll.strip().isdigit() else None\n",
    "        self.button_play.description=f'play ({self.name}, {self.betsize})'\n",
    "        self.game.register(self.name, self.bankroll)\n",
    "    \n",
    "    @err_out.capture()\n",
    "    def play(self, bt):\n",
    "        self.game.play(self.betsize)\n",
    "    \n",
    "    \n",
    "    @err_out.capture()\n",
    "    def hit(self, bt):\n",
    "        self.game.hit()\n",
    "    \n",
    "    \n",
    "    @err_out.capture()\n",
    "    def stay(self, bt):\n",
    "        self.game.stay()\n",
    "\n",
    "    def _ipython_display_(self):\n",
    "        display(self.app, self.err_out)"
   ]
  },
  {
   "cell_type": "code",
   "execution_count": 241,
   "id": "09cae475-dff1-4f49-8998-a56fdf7a427c",
   "metadata": {},
   "outputs": [
    {
     "data": {
      "application/vnd.jupyter.widget-view+json": {
       "model_id": "022a752495464bd39b29b0185c1a8f61",
       "version_major": 2,
       "version_minor": 0
      },
      "text/plain": [
       "VBox(children=(Text(value='', description='register:', placeholder='Name, bankroll'), HBox(children=(Button(de…"
      ]
     },
     "metadata": {},
     "output_type": "display_data"
    },
    {
     "data": {
      "application/vnd.jupyter.widget-view+json": {
       "model_id": "655077e217d94bf693a062d41cafeea8",
       "version_major": 2,
       "version_minor": 0
      },
      "text/plain": [
       "Output(layout=Layout(border_bottom='1px solid black', border_left='1px solid black', border_right='1px solid b…"
      ]
     },
     "metadata": {},
     "output_type": "display_data"
    },
    {
     "data": {
      "application/vnd.jupyter.widget-view+json": {
       "model_id": "90352b8011a74ed09d6fb90c0feaff34",
       "version_major": 2,
       "version_minor": 0
      },
      "text/plain": [
       "Output(layout=Layout(border_bottom='1px solid black', border_left='1px solid black', border_right='1px solid b…"
      ]
     },
     "metadata": {},
     "output_type": "display_data"
    }
   ],
   "source": [
    "controller = Controller(bj)\n",
    "view = new_output(layout={'border': '1px solid black', 'height': '100px'})\n",
    "display(controller, view)"
   ]
  },
  {
   "cell_type": "code",
   "execution_count": 242,
   "id": "bdd57659-b2d2-43a7-aa0f-def3af35b375",
   "metadata": {},
   "outputs": [],
   "source": [
    "bj.play()"
   ]
  },
  {
   "cell_type": "code",
   "execution_count": 3,
   "id": "7130e5d1-5859-40fa-b798-e024f7142ec1",
   "metadata": {},
   "outputs": [
    {
     "name": "stdout",
     "output_type": "stream",
     "text": [
      "Writing view_bj.py\n"
     ]
    }
   ],
   "source": [
    "%%file view_bj.py\n",
    "class View:\n",
    "    err_out = new_output()\n",
    "\n",
    "    \n",
    "    def __init__(self, game):\n",
    "        self.err_out.clear_output()\n",
    "        self.game = game\n",
    "        layout = {'border': '1px solid black', 'height': '100px'}\n",
    "        self.out = new_output(layout=layout)\n",
    "\n",
    "    @err_out.capture()\n",
    "    def update(self, event, data):\n",
    "        self.out.clear_output()\n",
    "        pd = handwert(self.game.hand_player)\n",
    "        pp = handwert(self.game.hand_dealer)\n",
    "        with self.out:\n",
    "            print((f'Name: {self.game.player}, '\n",
    "                   + f'Bankroll: {self.game.bankroll}, '\n",
    "                   + f'Betsize: {self.game.betsize}'))\n",
    "            print(f'Hand Player: {self.game.hand_player} ({'bust!' if pp > 21 else pp})')\n",
    "            print(f'Hand dealer: {self.game.hand_dealer} ({'bust!' if pd > 21 else pd})')\n",
    "            print(f'Result: {self.game.result}')\n",
    "\n",
    "    def _ipython_display_(self):\n",
    "        display(self.out, err_out)        "
   ]
  },
  {
   "cell_type": "code",
   "execution_count": 244,
   "id": "ea03c2b2-1763-4e2d-ab1e-5548adc8de24",
   "metadata": {},
   "outputs": [
    {
     "data": {
      "application/vnd.jupyter.widget-view+json": {
       "model_id": "938584eceb44464397d28fe67ea642e0",
       "version_major": 2,
       "version_minor": 0
      },
      "text/plain": [
       "Output(layout=Layout(border_bottom='1px solid black', border_left='1px solid black', border_right='1px solid b…"
      ]
     },
     "metadata": {},
     "output_type": "display_data"
    },
    {
     "data": {
      "application/vnd.jupyter.widget-view+json": {
       "model_id": "9949051af7c5402fa280f8a432b77751",
       "version_major": 2,
       "version_minor": 0
      },
      "text/plain": [
       "Output(layout=Layout(border_bottom='1px solid black', border_left='1px solid black', border_right='1px solid b…"
      ]
     },
     "metadata": {},
     "output_type": "display_data"
    }
   ],
   "source": [
    "\n",
    "\n",
    "view = View(bj)\n",
    "bj.event_handler = view.update\n",
    "view"
   ]
  },
  {
   "cell_type": "code",
   "execution_count": 245,
   "id": "7cb0614e-01a7-4459-8bf1-7e43eaeedaeb",
   "metadata": {},
   "outputs": [
    {
     "data": {
      "application/vnd.jupyter.widget-view+json": {
       "model_id": "bbe81735844c4f93831e95487735fd90",
       "version_major": 2,
       "version_minor": 0
      },
      "text/plain": [
       "VBox(children=(Text(value='', description='register:', placeholder='Name, bankroll'), HBox(children=(Button(de…"
      ]
     },
     "metadata": {},
     "output_type": "display_data"
    },
    {
     "data": {
      "application/vnd.jupyter.widget-view+json": {
       "model_id": "655077e217d94bf693a062d41cafeea8",
       "version_major": 2,
       "version_minor": 0
      },
      "text/plain": [
       "Output(layout=Layout(border_bottom='1px solid black', border_left='1px solid black', border_right='1px solid b…"
      ]
     },
     "metadata": {},
     "output_type": "display_data"
    },
    {
     "data": {
      "application/vnd.jupyter.widget-view+json": {
       "model_id": "3059dd44c936454fa3b750056979a2eb",
       "version_major": 2,
       "version_minor": 0
      },
      "text/plain": [
       "Output(layout=Layout(border_bottom='1px solid black', border_left='1px solid black', border_right='1px solid b…"
      ]
     },
     "metadata": {},
     "output_type": "display_data"
    },
    {
     "data": {
      "application/vnd.jupyter.widget-view+json": {
       "model_id": "9949051af7c5402fa280f8a432b77751",
       "version_major": 2,
       "version_minor": 0
      },
      "text/plain": [
       "Output(layout=Layout(border_bottom='1px solid black', border_left='1px solid black', border_right='1px solid b…"
      ]
     },
     "metadata": {},
     "output_type": "display_data"
    }
   ],
   "source": [
    "game = BlackJack()\n",
    "controller = Controller(game)\n",
    "view = View(game)\n",
    "game.event_handler = view.update\n",
    "display(controller, view)"
   ]
  },
  {
   "cell_type": "code",
   "execution_count": null,
   "id": "5f409f10-1e89-4f0b-9e2e-acd7e9f630c7",
   "metadata": {},
   "outputs": [],
   "source": []
  }
 ],
 "metadata": {
  "kernelspec": {
   "display_name": "Python 3 (ipykernel)",
   "language": "python",
   "name": "python3"
  },
  "language_info": {
   "codemirror_mode": {
    "name": "ipython",
    "version": 3
   },
   "file_extension": ".py",
   "mimetype": "text/x-python",
   "name": "python",
   "nbconvert_exporter": "python",
   "pygments_lexer": "ipython3",
   "version": "3.13.0"
  }
 },
 "nbformat": 4,
 "nbformat_minor": 5
}
