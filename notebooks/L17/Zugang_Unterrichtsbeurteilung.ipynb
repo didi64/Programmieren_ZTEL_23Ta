{
 "cells": [
  {
   "cell_type": "markdown",
   "id": "f7f68887-08be-4ccc-accb-f91b4d61a357",
   "metadata": {},
   "source": [
    "### Zugang Unterrichtsbeurteilung\n",
    "\n",
    "URL: [https://umfrage-zuerich.y4ms.net/](https://umfrage-zuerich.y4ms.net/)  \n",
    "Benutzer: zhstud  \n",
    "Passwort: ready-for-feedback  \n",
    "Freigabecode: 3438"
   ]
  },
  {
   "cell_type": "code",
   "execution_count": null,
   "id": "a037f584-18e9-4419-80d2-60cb1063b5b9",
   "metadata": {},
   "outputs": [],
   "source": []
  }
 ],
 "metadata": {
  "author": "dieter.probst@gmail.com",
  "kernelspec": {
   "display_name": "Python 3 (ipykernel)",
   "language": "python",
   "name": "python3"
  },
  "language_info": {
   "codemirror_mode": {
    "name": "ipython",
    "version": 3
   },
   "file_extension": ".py",
   "mimetype": "text/x-python",
   "name": "python",
   "nbconvert_exporter": "python",
   "pygments_lexer": "ipython3",
   "version": "3.13.0"
  }
 },
 "nbformat": 4,
 "nbformat_minor": 5
}
