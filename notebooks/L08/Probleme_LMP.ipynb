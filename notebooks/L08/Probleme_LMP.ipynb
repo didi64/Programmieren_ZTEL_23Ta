{
 "cells": [
  {
   "cell_type": "markdown",
   "id": "ed2f0e03-f33d-43d7-b119-4d81ed38cc9a",
   "metadata": {},
   "source": [
    "### Einige Probleme und ihre L&ouml;sungen in Mini-Python\n",
    "- Mini-Python:  \n",
    "  keine Methoden, kein range, zip, enumerate, keine Listen\n",
    "- Mini-Python plus:\n",
    "  Listen mit den Methoden list.append, list.pop\n",
    "\n"
   ]
  },
  {
   "cell_type": "code",
   "execution_count": null,
   "id": "f4e2b6e6-010e-4825-93a0-5099bee4fd7d",
   "metadata": {},
   "outputs": [],
   "source": []
  }
 ],
 "metadata": {
  "kernelspec": {
   "display_name": "Python 3 (ipykernel)",
   "language": "python",
   "name": "python3"
  },
  "language_info": {
   "codemirror_mode": {
    "name": "ipython",
    "version": 3
   },
   "file_extension": ".py",
   "mimetype": "text/x-python",
   "name": "python",
   "nbconvert_exporter": "python",
   "pygments_lexer": "ipython3",
   "version": "3.13.0"
  }
 },
 "nbformat": 4,
 "nbformat_minor": 5
}
