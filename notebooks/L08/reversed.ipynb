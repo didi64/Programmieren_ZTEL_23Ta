{
 "cells": [
  {
   "cell_type": "markdown",
   "id": "acbfa762-d5e5-490b-bf22-2ad478466e96",
   "metadata": {},
   "source": [
    "### Iterables und die Funktion `reversed`\n",
    "F&uuml;r uns ist ein **Iterable** ein Pythonobjekt &uuml;ber das man mit einem For-Loop iterieren kann, bez.  mit `list` in eine Liste umwandeln kann, wie z.B. Strings, Listen, Tuples, Mengen, Dictionaries,\n",
    "aber auch die R&uuml;ckgabewerte der Funktionen `range`, `enumerate`, `zip`,\n",
    "`dict.keys`, `dict.values`, `dict.items`, ...  \n",
    "Auf viele Iterables kann man die Funktion `reversed` anwenden, welche ein\n",
    "Iterable zur&uuml;ckgibt. Wie bei `range` werden die Elemente dieses Iterable erst bei Bedarf geliefert. Iteriert man mit einem For-Loop dar&uuml;ber,\n",
    "erh&auml;lt man die Elemente in der umgekehrten Reihenfolge,\n",
    "d.h.  \n",
    "```python\n",
    "items1 = [x for x in <Iterable>][::-1]\n",
    "items2 = [x for x in reversed(<Iterable>)]\n",
    "items1 == items2  # True\n",
    "```\n",
    "\n"
   ]
  },
  {
   "cell_type": "code",
   "execution_count": 52,
   "id": "4850a1b8-8f9a-4038-8561-6e1f784e3595",
   "metadata": {},
   "outputs": [
    {
     "name": "stdout",
     "output_type": "stream",
     "text": [
      "['a', 'b', 'c']\n",
      "a, b, c, "
     ]
    },
    {
     "data": {
      "text/plain": [
       "True"
      ]
     },
     "execution_count": 52,
     "metadata": {},
     "output_type": "execute_result"
    }
   ],
   "source": [
    "s = 'abc'\n",
    "print(list(s))\n",
    "for c in s:\n",
    "    print(c, end=', ')\n",
    "\n",
    "[c for c in s][::-1] == [c for c in reversed(s)]"
   ]
  },
  {
   "cell_type": "code",
   "execution_count": 53,
   "id": "c5f80b8d-e088-4fe2-a015-036476d54e67",
   "metadata": {},
   "outputs": [
    {
     "name": "stdout",
     "output_type": "stream",
     "text": [
      "[6, 7, 8, 9]\n",
      "6, 7, 8, 9, "
     ]
    },
    {
     "data": {
      "text/plain": [
       "True"
      ]
     },
     "execution_count": 53,
     "metadata": {},
     "output_type": "execute_result"
    }
   ],
   "source": [
    "r = range(6, 10)\n",
    "print(list(r))\n",
    "for n in r:\n",
    "    print(n, end=', ')\n",
    "\n",
    "[n for n in r][::-1] == [n for n in reversed(r)]"
   ]
  },
  {
   "cell_type": "code",
   "execution_count": 48,
   "id": "2910582a-390e-468e-a41e-48b0ae9248f5",
   "metadata": {},
   "outputs": [
    {
     "data": {
      "text/plain": [
       "(dict_items, dict_reverseitemiterator)"
      ]
     },
     "execution_count": 48,
     "metadata": {},
     "output_type": "execute_result"
    }
   ],
   "source": [
    "# d = {1: 1, 2: 4, 3: 9, 4: 16, 5: 25, 6: 36, 7: 49, 8: 64, 9: 81}\n",
    "d = {i: i*i for i in range(1, 10)}\n",
    "it = d.items()\n",
    "it_reversed = reversed(it)\n",
    "type(it), type(it_reversed)"
   ]
  },
  {
   "cell_type": "code",
   "execution_count": 49,
   "id": "90cbf437-c3be-46b5-9a5a-b0ed8dcd38d3",
   "metadata": {},
   "outputs": [
    {
     "name": "stdout",
     "output_type": "stream",
     "text": [
      "0 1 1\n",
      "1 2 4\n",
      "2 3 9\n"
     ]
    }
   ],
   "source": [
    "for i, (k, v) in enumerate(it):\n",
    "    if i == 3:\n",
    "        break\n",
    "    print(i, k, v)"
   ]
  },
  {
   "cell_type": "code",
   "execution_count": 50,
   "id": "bc3b3ae7-459f-4bbc-9cd2-f7899adcb030",
   "metadata": {},
   "outputs": [
    {
     "name": "stdout",
     "output_type": "stream",
     "text": [
      "0 9 81\n",
      "1 8 64\n",
      "2 7 49\n"
     ]
    }
   ],
   "source": [
    "it = reversed(it)\n",
    "for i, (k, v) in enumerate(it):\n",
    "    if i == 3:\n",
    "        break\n",
    "    print(i, k, v)"
   ]
  },
  {
   "cell_type": "markdown",
   "id": "75673f50-d0ff-4933-b752-7a2ef65e4b25",
   "metadata": {},
   "source": [
    "***\n",
    "Die Zellen-Magic `%%timeit` f&uuml;hrt den Code in dieser Zelle viele Male aus und bestimmt die durchschnittliche Laufzeit.  \n",
    "Greifen wir mit Hilfe von `reversed` auf die letzten Elemente einer langen Liste zu, so ist das viel schneller, als wenn wird diese Liste zuerst erstellen und dann die letzten Elemente herausgreifen.\n",
    "***"
   ]
  },
  {
   "cell_type": "code",
   "execution_count": null,
   "id": "b7e4f46c-35bf-40a1-8b9a-95b148dfb409",
   "metadata": {},
   "outputs": [],
   "source": [
    "%%timeit\n",
    "list(range(1_000_000))[-2:]"
   ]
  },
  {
   "cell_type": "code",
   "execution_count": null,
   "id": "00cc9420-278f-4f14-a297-9f8524c47a1d",
   "metadata": {},
   "outputs": [],
   "source": [
    "%%timeit \n",
    "items = []\n",
    "it = reversed(range(1_000_000))\n",
    "for i, item in enumerate(it):\n",
    "    if i == 2:\n",
    "        break\n",
    "    items.append(item)\n",
    "items = items[::-1]"
   ]
  }
 ],
 "metadata": {
  "kernelspec": {
   "display_name": "Python 3 (ipykernel)",
   "language": "python",
   "name": "python3"
  },
  "language_info": {
   "codemirror_mode": {
    "name": "ipython",
    "version": 3
   },
   "file_extension": ".py",
   "mimetype": "text/x-python",
   "name": "python",
   "nbconvert_exporter": "python",
   "pygments_lexer": "ipython3",
   "version": "3.13.0"
  }
 },
 "nbformat": 4,
 "nbformat_minor": 5
}
