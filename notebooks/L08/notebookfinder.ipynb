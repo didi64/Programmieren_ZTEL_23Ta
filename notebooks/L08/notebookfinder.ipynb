{
 "cells": [
  {
   "cell_type": "markdown",
   "id": "61d44420-f395-4439-9498-8277da92dd28",
   "metadata": {},
   "source": [
    "### Notebooks suchen\n",
    "Die Zellen-Magic\n",
    ">%run -m nbf  \n",
    "\n",
    "startet den Notebook-Finder.  \n",
    "Links kann der Ordner ausgew&auml;hlt werden, der nach\n",
    "Notebooks und Pythonfiles (`.ipynb` und `.py` Files) durchsucht werden soll, welche die\n",
    "auf der rechten Seite angegebenen Stichworte enthalten.  \n",
    "Verschiedene Stichworte werden mit `' '` getrennt.\n",
    "`\\ ` wird als zum Stichwort geh&ouml;rendes Leerzeichen interpretiert.\n",
    "\n",
    "- *Alle*: Alle Stickworte m&uuml;ssen vorkommen.\n",
    "- *Manche*: Mind. eines der Stichworte muss vorkommen.\n",
    "- *Case egal*: Gross- und Kleinschreibung wird ignoriert.\n",
    "- *Resultate*: Maximale Anzahl angezeigter Resultate.\n",
    "- *Regex*: Die Eingabe wird als [regul&auml;rer Ausdruck](https://docs.python.org/3/library/re.html) interpretiert.\n",
    "\n",
    "Eine erfolgreiche suche liefert Links zu den\n",
    "Notebooks, welche am besten zum Suchmuster passen.\n",
    "\n",
    "**Beispiele**:\n",
    "- *Alle*: `import\\ random` findet alle Notebooks/Pythonfiles, die `import random` enthalten.\n",
    "- *Alle*: `import for` findet alle Notebooks/Pythonfiles, die die W&ouml;rter\n",
    "  `import` und `for` enthalten."
   ]
  },
  {
   "cell_type": "code",
   "execution_count": null,
   "id": "99fbf12c-d1c0-48fc-b63a-c8b31ac87f01",
   "metadata": {},
   "outputs": [],
   "source": [
    "%run -m nbf"
   ]
  },
  {
   "cell_type": "code",
   "execution_count": null,
   "id": "f907cf15-796e-4e55-ba9d-6ada2fd858e1",
   "metadata": {},
   "outputs": [],
   "source": []
  }
 ],
 "metadata": {
  "kernelspec": {
   "display_name": "Python 3 (ipykernel)",
   "language": "python",
   "name": "python3"
  },
  "language_info": {
   "codemirror_mode": {
    "name": "ipython",
    "version": 3
   },
   "file_extension": ".py",
   "mimetype": "text/x-python",
   "name": "python",
   "nbconvert_exporter": "python",
   "pygments_lexer": "ipython3",
   "version": "3.13.0"
  }
 },
 "nbformat": 4,
 "nbformat_minor": 5
}
