{
 "cells": [
  {
   "cell_type": "code",
   "execution_count": null,
   "id": "dfe83f8f-f5f7-455f-9859-cc2ba709b1dc",
   "metadata": {},
   "outputs": [],
   "source": []
  },
  {
   "cell_type": "code",
   "execution_count": null,
   "id": "580b9c58-5612-4140-b504-5200a40e3612",
   "metadata": {},
   "outputs": [],
   "source": [
    "#Kontrollfragen 06 und 07"
   ]
  },
  {
   "cell_type": "code",
   "execution_count": null,
   "id": "e03aed1c-7566-4520-b69b-61f3b31ded76",
   "metadata": {},
   "outputs": [],
   "source": []
  },
  {
   "cell_type": "code",
   "execution_count": 3,
   "id": "38869893-9b53-4fe8-88c0-0cc7f36f4059",
   "metadata": {},
   "outputs": [],
   "source": [
    "xs = list(range(5))\n",
    "\n",
    "ys = [x for x in xs]\n",
    "zs = xs[:]\n",
    "ws = xs.copy()"
   ]
  },
  {
   "cell_type": "code",
   "execution_count": 5,
   "id": "7d51280f-6ca0-4aab-9b23-a6c682aa9084",
   "metadata": {},
   "outputs": [
    {
     "data": {
      "text/plain": [
       "['Foo', 'Bar', 'Baz']"
      ]
     },
     "execution_count": 5,
     "metadata": {},
     "output_type": "execute_result"
    }
   ],
   "source": [
    "words = ['foo', 'bar', 'baz']\n",
    "[w.capitalize() for w in words]"
   ]
  },
  {
   "cell_type": "code",
   "execution_count": 6,
   "id": "ac58c351-ef6e-4427-8fff-0b4351045d48",
   "metadata": {},
   "outputs": [
    {
     "data": {
      "text/plain": [
       "['FOO', 'BAZ']"
      ]
     },
     "execution_count": 6,
     "metadata": {},
     "output_type": "execute_result"
    }
   ],
   "source": [
    "[w.upper() for i, w in enumerate(words) if i != 1]"
   ]
  },
  {
   "cell_type": "code",
   "execution_count": 7,
   "id": "9c77288c-67a1-423c-89db-5a332fded07c",
   "metadata": {},
   "outputs": [
    {
     "data": {
      "text/plain": [
       "['oof', 'rab', 'zab']"
      ]
     },
     "execution_count": 7,
     "metadata": {},
     "output_type": "execute_result"
    }
   ],
   "source": [
    "for i, w in enumerate(words):\n",
    "    words[i]=w[::-1]\n",
    "words"
   ]
  },
  {
   "cell_type": "code",
   "execution_count": 8,
   "id": "0ff798a5-81a2-4959-b965-df9a349afd72",
   "metadata": {},
   "outputs": [
    {
     "data": {
      "text/plain": [
       "['oof', 'rab', 'zab', 'asdf', 'aga']"
      ]
     },
     "execution_count": 8,
     "metadata": {},
     "output_type": "execute_result"
    }
   ],
   "source": [
    "words += ['asdf', 'aga']\n",
    "words"
   ]
  },
  {
   "cell_type": "code",
   "execution_count": 9,
   "id": "4fee7f55-ea45-4af7-aedf-3e8425bd3539",
   "metadata": {},
   "outputs": [
    {
     "data": {
      "text/plain": [
       "['oof', 'rab', 'zab', 'asdf', 'aga']"
      ]
     },
     "execution_count": 9,
     "metadata": {},
     "output_type": "execute_result"
    }
   ],
   "source": [
    "words + ['asdf', 'aga']\n",
    "words"
   ]
  },
  {
   "cell_type": "code",
   "execution_count": 10,
   "id": "db719f14-b587-42c2-ab75-e9bf7af0f134",
   "metadata": {},
   "outputs": [
    {
     "data": {
      "text/plain": [
       "['oof', 'rab', 'zab', 'asdf', 'aga', 'asdf', 'aga']"
      ]
     },
     "execution_count": 10,
     "metadata": {},
     "output_type": "execute_result"
    }
   ],
   "source": [
    "words.extend(['asdf', 'aga'])\n",
    "words"
   ]
  },
  {
   "cell_type": "code",
   "execution_count": 12,
   "id": "1be580b3-cc88-47fa-9c38-49f0dbf06f41",
   "metadata": {},
   "outputs": [
    {
     "data": {
      "text/plain": [
       "['asdf', 'df', 'asdfas', 'asf', 'asfasdf']"
      ]
     },
     "execution_count": 12,
     "metadata": {},
     "output_type": "execute_result"
    }
   ],
   "source": [
    "text = ' asdf  df asdfas  asf  asfasdf  '\n",
    "text.split()"
   ]
  },
  {
   "cell_type": "code",
   "execution_count": 13,
   "id": "e66e8069-cce4-4024-8bb3-a42eeb6d3468",
   "metadata": {},
   "outputs": [
    {
     "data": {
      "text/plain": [
       "'asdf df asdfas asf asfasdf'"
      ]
     },
     "execution_count": 13,
     "metadata": {},
     "output_type": "execute_result"
    }
   ],
   "source": [
    "text = ' asdf  df asdfas  asf  asfasdf  '\n",
    "' '.join(text.split())"
   ]
  },
  {
   "cell_type": "code",
   "execution_count": 15,
   "id": "88fc390e-ac8d-41d6-90ba-e5795a9d6c5d",
   "metadata": {},
   "outputs": [
    {
     "data": {
      "text/plain": [
       "['1-Mal',\n",
       " '2-Mal',\n",
       " '3-Mal',\n",
       " '4-Mal',\n",
       " '5-Mal',\n",
       " '6-Mal',\n",
       " '7-Mal',\n",
       " '8-Mal',\n",
       " '9-Mal']"
      ]
     },
     "execution_count": 15,
     "metadata": {},
     "output_type": "execute_result"
    }
   ],
   "source": [
    "['{}-Mal'.format(str(i)) for i in range(1, 10)]\n"
   ]
  },
  {
   "cell_type": "code",
   "execution_count": null,
   "id": "d12e4ac9-57a9-4bb8-82b6-120c3b3ca325",
   "metadata": {},
   "outputs": [],
   "source": []
  },
  {
   "cell_type": "code",
   "execution_count": 16,
   "id": "993dc220-64d5-495f-ac99-039e3f4d537e",
   "metadata": {},
   "outputs": [],
   "source": [
    "def make_row(n):\n",
    "    return ','.join(str(i*n) for i in range(1, 10))\n",
    "\n",
    "rows = [make_row(n) for n in range(2, 10)]\n",
    "table = [row + '\\n' for row in [header] + rows]"
   ]
  },
  {
   "cell_type": "code",
   "execution_count": 18,
   "id": "c0c4ac06-8eb1-4930-9ca7-5c3ab3d6d7f5",
   "metadata": {},
   "outputs": [],
   "source": [
    "fn = 'mult_table.csv'\n",
    "with open(fn, 'w') as f:\n",
    "    f.writelines(table)"
   ]
  },
  {
   "cell_type": "code",
   "execution_count": 20,
   "id": "7448f094-e46f-4c14-8a59-c6867bb06cb9",
   "metadata": {},
   "outputs": [],
   "source": [
    "with open(fn, 'r') as f:\n",
    "    lines = [line.strip() for line in f]"
   ]
  },
  {
   "cell_type": "code",
   "execution_count": null,
   "id": "cdb87d1a-a301-4b83-8051-d33a9fec678f",
   "metadata": {},
   "outputs": [],
   "source": [
    "fmt = '{:>6}' * 9\n",
    "header = fmt.format(*lines[0].split(','))\n",
    "print(header)"
   ]
  },
  {
   "cell_type": "code",
   "execution_count": 21,
   "id": "15ac14d3-01a0-4595-a65a-44ea8cd52d41",
   "metadata": {},
   "outputs": [
    {
     "name": "stdout",
     "output_type": "stream",
     "text": [
      " 1-Mal 2-Mal 3-Mal 4-Mal 5-Mal 6-Mal 7-Mal 8-Mal 9-Mal\n",
      "     2     4     6     8    10    12    14    16    18\n",
      "     3     6     9    12    15    18    21    24    27\n",
      "     4     8    12    16    20    24    28    32    36\n",
      "     5    10    15    20    25    30    35    40    45\n",
      "     6    12    18    24    30    36    42    48    54\n",
      "     7    14    21    28    35    42    49    56    63\n",
      "     8    16    24    32    40    48    56    64    72\n",
      "     9    18    27    36    45    54    63    72    81\n"
     ]
    }
   ],
   "source": [
    "for line in lines[1:]:\n",
    "    print(fmt.format(*line.split(',')))"
   ]
  },
  {
   "cell_type": "code",
   "execution_count": null,
   "id": "4f3a08e6-a3fd-400f-93b9-9c5d93de340b",
   "metadata": {},
   "outputs": [],
   "source": []
  },
  {
   "cell_type": "code",
   "execution_count": 22,
   "id": "4be52e45-39a8-4207-96b5-9e0b2b29433f",
   "metadata": {},
   "outputs": [
    {
     "data": {
      "text/plain": [
       "{1, 2, 3, 4, 5}"
      ]
     },
     "execution_count": 22,
     "metadata": {},
     "output_type": "execute_result"
    }
   ],
   "source": [
    "xs = (1, 2, 3)\n",
    "ys = (3, 4, 5)\n",
    "set(xs) | set(ys)  # Verein"
   ]
  },
  {
   "cell_type": "code",
   "execution_count": 23,
   "id": "fa4edcd0-902b-4aa3-a3cd-1c141a1e7856",
   "metadata": {},
   "outputs": [
    {
     "data": {
      "text/plain": [
       "{3}"
      ]
     },
     "execution_count": 23,
     "metadata": {},
     "output_type": "execute_result"
    }
   ],
   "source": [
    "set(xs) & set(ys)  # Schnitt"
   ]
  },
  {
   "cell_type": "code",
   "execution_count": 25,
   "id": "c6adc477-e153-4f58-b37d-8ea77360178d",
   "metadata": {},
   "outputs": [],
   "source": [
    "from kz_kt import d"
   ]
  },
  {
   "cell_type": "code",
   "execution_count": 26,
   "id": "b56bb2e8-3068-4670-9a10-e831cc265b11",
   "metadata": {},
   "outputs": [
    {
     "data": {
      "text/plain": [
       "['AG',\n",
       " 'AI',\n",
       " 'AR',\n",
       " 'BE',\n",
       " 'BL',\n",
       " 'BS',\n",
       " 'FR',\n",
       " 'GE',\n",
       " 'GL',\n",
       " 'GR',\n",
       " 'JU',\n",
       " 'LU',\n",
       " 'NE',\n",
       " 'NW',\n",
       " 'OW',\n",
       " 'SG',\n",
       " 'SH',\n",
       " 'SO',\n",
       " 'SZ',\n",
       " 'TG',\n",
       " 'TI',\n",
       " 'UR',\n",
       " 'VD',\n",
       " 'VS',\n",
       " 'ZG',\n",
       " 'ZH']"
      ]
     },
     "execution_count": 26,
     "metadata": {},
     "output_type": "execute_result"
    }
   ],
   "source": [
    "list(d)"
   ]
  },
  {
   "cell_type": "code",
   "execution_count": 27,
   "id": "c3e00f5d-c939-4495-9ac0-03da3cda69a5",
   "metadata": {},
   "outputs": [
    {
     "data": {
      "text/plain": [
       "True"
      ]
     },
     "execution_count": 27,
     "metadata": {},
     "output_type": "execute_result"
    }
   ],
   "source": [
    "xs = [2, 4, 6, 7]\n",
    "any(x % 2 == 1 for x in xs)"
   ]
  },
  {
   "cell_type": "code",
   "execution_count": null,
   "id": "ddb81cd9-f7cf-4c7d-a51c-a58fc6635201",
   "metadata": {},
   "outputs": [],
   "source": []
  }
 ],
 "metadata": {
  "kernelspec": {
   "display_name": "Python 3 (ipykernel)",
   "language": "python",
   "name": "python3"
  },
  "language_info": {
   "codemirror_mode": {
    "name": "ipython",
    "version": 3
   },
   "file_extension": ".py",
   "mimetype": "text/x-python",
   "name": "python",
   "nbconvert_exporter": "python",
   "pygments_lexer": "ipython3",
   "version": "3.13.0"
  }
 },
 "nbformat": 4,
 "nbformat_minor": 5
}
