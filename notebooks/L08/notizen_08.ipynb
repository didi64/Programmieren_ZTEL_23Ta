{
 "cells": [
  {
   "cell_type": "code",
   "execution_count": null,
   "id": "580b9c58-5612-4140-b504-5200a40e3612",
   "metadata": {},
   "outputs": [],
   "source": [
    "#Kontrollfragen 06 und 07"
   ]
  },
  {
   "cell_type": "code",
   "execution_count": 73,
   "id": "187aab6d-7976-45ec-ad75-6d4f6d985253",
   "metadata": {},
   "outputs": [],
   "source": [
    "\n"
   ]
  },
  {
   "cell_type": "code",
   "execution_count": 74,
   "id": "fc4eeb8d-b3c0-4060-a1ac-d0ff1b9e1782",
   "metadata": {},
   "outputs": [
    {
     "data": {
      "text/plain": [
       "[1, 1]"
      ]
     },
     "execution_count": 74,
     "metadata": {},
     "output_type": "execute_result"
    }
   ],
   "source": [
    "x"
   ]
  },
  {
   "cell_type": "code",
   "execution_count": null,
   "id": "e03aed1c-7566-4520-b69b-61f3b31ded76",
   "metadata": {},
   "outputs": [],
   "source": [
    "abc = ''.join(chr(65+i) for i in range(26))\n",
    "abc"
   ]
  },
  {
   "cell_type": "code",
   "execution_count": null,
   "id": "a559b3b8-a6d1-443d-8d8a-866789d39b07",
   "metadata": {},
   "outputs": [],
   "source": [
    "xs = set(range(5))\n",
    "xs.remove(3)\n",
    "xs.add(6)\n",
    "xs"
   ]
  },
  {
   "cell_type": "code",
   "execution_count": null,
   "id": "38869893-9b53-4fe8-88c0-0cc7f36f4059",
   "metadata": {},
   "outputs": [],
   "source": [
    "xs = list(range(5))\n",
    "\n",
    "ys = [x for x in xs]\n",
    "zs = xs[:]\n",
    "ws = xs.copy()"
   ]
  },
  {
   "cell_type": "code",
   "execution_count": null,
   "id": "7d51280f-6ca0-4aab-9b23-a6c682aa9084",
   "metadata": {},
   "outputs": [],
   "source": [
    "words = ['foo', 'bar', 'baz']\n",
    "[w.capitalize() for w in words]"
   ]
  },
  {
   "cell_type": "code",
   "execution_count": null,
   "id": "ac58c351-ef6e-4427-8fff-0b4351045d48",
   "metadata": {},
   "outputs": [],
   "source": [
    "[w.upper() for i, w in enumerate(words) if i != 1]"
   ]
  },
  {
   "cell_type": "code",
   "execution_count": null,
   "id": "9c77288c-67a1-423c-89db-5a332fded07c",
   "metadata": {},
   "outputs": [],
   "source": [
    "for i, w in enumerate(words):\n",
    "    words[i]=w[::-1]\n",
    "words"
   ]
  },
  {
   "cell_type": "code",
   "execution_count": null,
   "id": "0ff798a5-81a2-4959-b965-df9a349afd72",
   "metadata": {},
   "outputs": [],
   "source": [
    "words += ['asdf', 'aga']\n",
    "words"
   ]
  },
  {
   "cell_type": "code",
   "execution_count": null,
   "id": "4fee7f55-ea45-4af7-aedf-3e8425bd3539",
   "metadata": {},
   "outputs": [],
   "source": [
    "words + ['asdf', 'aga']\n",
    "words"
   ]
  },
  {
   "cell_type": "code",
   "execution_count": null,
   "id": "db719f14-b587-42c2-ab75-e9bf7af0f134",
   "metadata": {},
   "outputs": [],
   "source": [
    "words.extend(['asdf', 'aga'])\n",
    "words"
   ]
  },
  {
   "cell_type": "code",
   "execution_count": null,
   "id": "1be580b3-cc88-47fa-9c38-49f0dbf06f41",
   "metadata": {},
   "outputs": [],
   "source": [
    "text = ' asdf  df asdfas  asf  asfasdf  '\n",
    "text.split()"
   ]
  },
  {
   "cell_type": "code",
   "execution_count": null,
   "id": "e66e8069-cce4-4024-8bb3-a42eeb6d3468",
   "metadata": {},
   "outputs": [],
   "source": [
    "text = ' asdf  df asdfas  asf  asfasdf  '\n",
    "' '.join(text.split())"
   ]
  },
  {
   "cell_type": "code",
   "execution_count": null,
   "id": "88fc390e-ac8d-41d6-90ba-e5795a9d6c5d",
   "metadata": {},
   "outputs": [],
   "source": [
    "['{}-Mal'.format(str(i)) for i in range(1, 10)]\n"
   ]
  },
  {
   "cell_type": "code",
   "execution_count": null,
   "id": "d12e4ac9-57a9-4bb8-82b6-120c3b3ca325",
   "metadata": {},
   "outputs": [],
   "source": []
  },
  {
   "cell_type": "code",
   "execution_count": null,
   "id": "993dc220-64d5-495f-ac99-039e3f4d537e",
   "metadata": {},
   "outputs": [],
   "source": [
    "def make_row(n):\n",
    "    return ','.join(str(i*n) for i in range(1, 10))\n",
    "\n",
    "rows = [make_row(n) for n in range(2, 10)]\n",
    "table = [row + '\\n' for row in [header] + rows]"
   ]
  },
  {
   "cell_type": "code",
   "execution_count": null,
   "id": "c0c4ac06-8eb1-4930-9ca7-5c3ab3d6d7f5",
   "metadata": {},
   "outputs": [],
   "source": [
    "fn = 'mult_table.csv'\n",
    "with open(fn, 'w') as f:\n",
    "    f.writelines(table)"
   ]
  },
  {
   "cell_type": "code",
   "execution_count": null,
   "id": "7448f094-e46f-4c14-8a59-c6867bb06cb9",
   "metadata": {},
   "outputs": [],
   "source": [
    "with open(fn, 'r') as f:\n",
    "    lines = [line.strip() for line in f]"
   ]
  },
  {
   "cell_type": "code",
   "execution_count": null,
   "id": "cdb87d1a-a301-4b83-8051-d33a9fec678f",
   "metadata": {},
   "outputs": [],
   "source": [
    "fmt = '{:>6}' * 9\n",
    "header = fmt.format(*lines[0].split(','))\n",
    "print(header)"
   ]
  },
  {
   "cell_type": "code",
   "execution_count": null,
   "id": "15ac14d3-01a0-4595-a65a-44ea8cd52d41",
   "metadata": {},
   "outputs": [],
   "source": [
    "for line in lines[1:]:\n",
    "    print(fmt.format(*line.split(',')))"
   ]
  },
  {
   "cell_type": "code",
   "execution_count": null,
   "id": "4f3a08e6-a3fd-400f-93b9-9c5d93de340b",
   "metadata": {},
   "outputs": [],
   "source": []
  },
  {
   "cell_type": "code",
   "execution_count": null,
   "id": "4be52e45-39a8-4207-96b5-9e0b2b29433f",
   "metadata": {},
   "outputs": [],
   "source": [
    "xs = (1, 2, 3)\n",
    "ys = (3, 4, 5)\n",
    "set(xs) | set(ys)  # Verein"
   ]
  },
  {
   "cell_type": "code",
   "execution_count": null,
   "id": "fa4edcd0-902b-4aa3-a3cd-1c141a1e7856",
   "metadata": {},
   "outputs": [],
   "source": [
    "set(xs) & set(ys)  # Schnitt"
   ]
  },
  {
   "cell_type": "code",
   "execution_count": null,
   "id": "c6adc477-e153-4f58-b37d-8ea77360178d",
   "metadata": {},
   "outputs": [],
   "source": [
    "from kz_kt import d"
   ]
  },
  {
   "cell_type": "code",
   "execution_count": null,
   "id": "b56bb2e8-3068-4670-9a10-e831cc265b11",
   "metadata": {},
   "outputs": [],
   "source": [
    "list(d)"
   ]
  },
  {
   "cell_type": "code",
   "execution_count": null,
   "id": "c3e00f5d-c939-4495-9ac0-03da3cda69a5",
   "metadata": {},
   "outputs": [],
   "source": [
    "xs = [2, 4, 6, 7]\n",
    "any(x % 2 == 1 for x in xs)"
   ]
  },
  {
   "cell_type": "code",
   "execution_count": 66,
   "id": "ddb81cd9-f7cf-4c7d-a51c-a58fc6635201",
   "metadata": {},
   "outputs": [],
   "source": [
    "def peek(d, n=2):\n",
    "    if n >= 0:\n",
    "        keys = []\n",
    "        for i, key in enumerate(d):\n",
    "            if i == n:\n",
    "                break\n",
    "            keys.append(key)\n",
    "    else:\n",
    "        keys = []\n",
    "        for i, key in enumerate(reversed(d)):\n",
    "            if i == -n:\n",
    "                break\n",
    "            keys.append(key) \n",
    "        keys = keys[::-1]\n",
    "    return {k: d[k] for k in keys}"
   ]
  },
  {
   "cell_type": "code",
   "execution_count": 67,
   "id": "8f650580-a1e3-417c-b4c3-b97238259658",
   "metadata": {},
   "outputs": [],
   "source": [
    "d = {i:i*2 for i in range(100)}"
   ]
  },
  {
   "cell_type": "code",
   "execution_count": 68,
   "id": "c3fafd74-77a3-472a-ad35-8331b0f86035",
   "metadata": {},
   "outputs": [
    {
     "data": {
      "text/plain": [
       "{98: 196, 99: 198}"
      ]
     },
     "execution_count": 68,
     "metadata": {},
     "output_type": "execute_result"
    }
   ],
   "source": [
    "peek(d,-2)"
   ]
  },
  {
   "cell_type": "code",
   "execution_count": null,
   "id": "de0cdcea-6976-48ab-86e2-7f29886bfbfd",
   "metadata": {},
   "outputs": [],
   "source": []
  }
 ],
 "metadata": {
  "kernelspec": {
   "display_name": "Python 3 (ipykernel)",
   "language": "python",
   "name": "python3"
  },
  "language_info": {
   "codemirror_mode": {
    "name": "ipython",
    "version": 3
   },
   "file_extension": ".py",
   "mimetype": "text/x-python",
   "name": "python",
   "nbconvert_exporter": "python",
   "pygments_lexer": "ipython3",
   "version": "3.13.0"
  }
 },
 "nbformat": 4,
 "nbformat_minor": 5
}
