{
 "cells": [
  {
   "cell_type": "markdown",
   "id": "146e0727-6551-4cd3-9956-ea0222e4ca32",
   "metadata": {},
   "source": [
    "### Kontrollfragen Lektion 8\n",
    "1. Erstellen einen kleinen Dictionary durch\n",
    "   a) explizite Angabe der Key-Value Paare,\n",
    "   b) aus Listen mit Keys und Values,\n",
    "   c) mit Dictionary-Comprehension.\n",
    "1. Schreibe eine Funktion, die einen Dictionary `d` umdreht, der jeden Wert nur einmal enth&auml;lt. `{'a': 1, 'b': 2})` wird zu `{1: 'a', 2: 'b'}`.   \n",
    "   Schreibe eine Funktion, die einen Dictionary `d` umdreht, der Werte mehrmals enth&auml;lt.  \n",
    "   `{'a': 1, 'b': 2, 'c': 1})` wird zu `{1: ['a', 'c'], 2: ['b']}`.  \n",
    "   Modifiziere die Funktion, so dass anstelle von Listen der L&auml;nge 1 nur das\n",
    "   Element der Liste angegeben wird.  \n",
    "  `{'a': 1, 'b': 2, 'c': 1})` wird zu `{1: ['a', 'c'], 2: 'b'}`.  \n",
    "\n",
    "\n",
    "1. Schreibe Funktionen `sorted_by_key(d, reverse=None)` und\n",
    "   `sorted_by_value(d, reverse=None)`, welche einen Dictionary nach Keys bez. Werten sortiert, absteigend falls `reverse=False`.\n",
    "1. Schreibe eine Funktion `peek(d, n)`, welche die ersten n Key-Value Paare ausgibt\n",
    "   falls n > 0, und die letzten |n| falls n < 0.\n",
    "1. Schreibe eine Funktion `count_dict(items)`, welche eine Dictionary erstellt, der\n",
    "   angibt, wie oft jedes Element von `items` vorkommt.\n",
    "1. Schreibe eine Funktion `occurrence_dict(items)`, welche eine Dictionary erstellt, der angibt, an welchen Positionen ein Element von `items` auftritt.\n",
    "   `occurrence_dict('abba')` liefert `{'a': [0, 3], 'b': [1, 2]}`.\n",
    "1. Benutze die Funktion `randint` aus dem Modul `random` um eine Funktion\n",
    "   `wuerfle(n)` zu schreiben, welche eine Liste mit n Zufallszahlen von 1 bis 6 zur&uuml;ckgibt.\n",
    "1. `wurf` sei der R&uuml;ckgabewert von `wuerfle(5)`.\n",
    "   Schreibe eine Funktion `is_straight(wurf)`, die `True` zur&uuml;ckgibt, falls\n",
    "   `wurf` entweder alle Zahlen von 1 bis 5, oder alle Zahlen von 2 bis 6 enth&auml;lt.\n",
    "1. Das Wurfbild eines Wurfs mit 5 W&uuml;rfeln ist entweder der String\n",
    "   `'straight` falls eine Strasse gew&uuml;rfelt wurde, andernfalls\n",
    "   ein String der Form `'221'`, der anzeigt, dass 2 Paare gew&uuml;rfelt wurden.\n",
    "   Das Wurfbild von `[6, 3, 6, 6, 1]` ist `'311'` und das\n",
    "   Wurfbild von `[6, 3, 6, 6, 6]` ist `'41'`. \n",
    "   Schreibe eine Funktion, das Wurfbild zur&uuml;ckgibt. Benutze `count_dict`.\n",
    "1. W&uuml;rfle 100_000 Mal und erstellen einen Dictionary, der angibt, wie oft jedes Wurfbild gew&uuml;rfelt wurde. Sortiere den Dictionary absteigend nach den Werten."
   ]
  },
  {
   "cell_type": "code",
   "execution_count": null,
   "id": "1915ae70-36b7-42f8-b6b1-d0a5b57978b3",
   "metadata": {},
   "outputs": [],
   "source": []
  }
 ],
 "metadata": {
  "kernelspec": {
   "display_name": "Python 3 (ipykernel)",
   "language": "python",
   "name": "python3"
  },
  "language_info": {
   "codemirror_mode": {
    "name": "ipython",
    "version": 3
   },
   "file_extension": ".py",
   "mimetype": "text/x-python",
   "name": "python",
   "nbconvert_exporter": "python",
   "pygments_lexer": "ipython3",
   "version": "3.13.0"
  }
 },
 "nbformat": 4,
 "nbformat_minor": 5
}
