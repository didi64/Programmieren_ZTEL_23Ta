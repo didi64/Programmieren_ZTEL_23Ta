{
 "cells": [
  {
   "cell_type": "markdown",
   "id": "0a1011ca-da94-4ba5-a118-c86a991556a8",
   "metadata": {},
   "source": [
    "### Module `cards` testen"
   ]
  },
  {
   "cell_type": "code",
   "execution_count": null,
   "id": "6832430b-a935-42a8-801f-9dbf914e6b75",
   "metadata": {},
   "outputs": [],
   "source": [
    "import cards"
   ]
  },
  {
   "cell_type": "code",
   "execution_count": null,
   "id": "f3b5badd-ccb5-430f-958a-ebaf8792794f",
   "metadata": {},
   "outputs": [],
   "source": [
    "cards.sort_ranks('22113543')"
   ]
  },
  {
   "cell_type": "code",
   "execution_count": null,
   "id": "686024f3-b66f-4a07-9b49-ec499d964c18",
   "metadata": {},
   "outputs": [],
   "source": [
    "deck = cards.new_deck(shuffle=False)\n",
    "deck[:13]"
   ]
  },
  {
   "cell_type": "code",
   "execution_count": null,
   "id": "1f4c8fdd-fd4b-4173-9778-8a8c8aef08df",
   "metadata": {},
   "outputs": [],
   "source": [
    "deck = cards.new_deck(shuffle=False)\n",
    "deck[:13]"
   ]
  },
  {
   "cell_type": "code",
   "execution_count": null,
   "id": "17209b7a-d27e-4ae6-82b9-3bffeab3bbfe",
   "metadata": {},
   "outputs": [],
   "source": [
    "hand = cards.draw(deck, 5)\n",
    "hand"
   ]
  },
  {
   "cell_type": "code",
   "execution_count": null,
   "id": "ede42f19-054f-4c5b-ad4e-69a9739a66dc",
   "metadata": {},
   "outputs": [],
   "source": [
    "hands = [['A♣', 'K♣', 'Q♣', 'J♣', 'T♣'],\n",
    "         ['A♣', 'K♣', 'Q♣', 'J♣', 'T♥'],\n",
    "         ['A♣', 'K♣', 'Q♣', 'J♣', '9♥'],\n",
    "         ]\n",
    "\n",
    "for hand in hands:\n",
    "    print('values: {}, suits: {}'\n",
    "          .format(cards.get_values(hand), cards.get_suits(hand)))\n",
    "    print('is flush: {}, is straight: {}'\n",
    "          .format(cards.is_flush(hand), cards.is_straight(hand)))"
   ]
  },
  {
   "cell_type": "code",
   "execution_count": null,
   "id": "cd357a04-ff00-44a0-82a2-ddfefd91219b",
   "metadata": {},
   "outputs": [],
   "source": [
    "deck = cards.new_deck()\n",
    "for i in range(5):\n",
    "    hand = cards.draw(deck, 5)\n",
    "    print(hand)\n",
    "    print('type: {}, name: {}, '\n",
    "          .format(cards.handtype(hand), cards.handname(hand)))"
   ]
  },
  {
   "cell_type": "code",
   "execution_count": null,
   "id": "38dcf942-0c87-4af2-bcfa-fede67cb4c55",
   "metadata": {},
   "outputs": [],
   "source": [
    "tt = {1: 'first hand wins',\n",
    "      0: 'it\\'s a tie',\n",
    "      -1: 'second hand wins',\n",
    "      }\n",
    "\n",
    "hand1 = ('8♥', '3♦', '9♦', '3♠', 'A♥')\n",
    "hand2 = ('3♥', 'A♦', 'K♣', 'A♠', '7♣')\n",
    "sign = cards.rank_hands(hand1, hand2)\n",
    "print(tt[sign])"
   ]
  },
  {
   "cell_type": "code",
   "execution_count": null,
   "id": "d5ec27e8-ec9f-48e9-aa15-939190b159d7",
   "metadata": {},
   "outputs": [],
   "source": [
    "# Wieviele Haende eines bestimmten Types\n",
    "# erhaelt man bei 100_000 Mal ziehen\n",
    "d = {}\n",
    "for i in range(100_000):\n",
    "    deck = cards.new_deck(shuffle=True)\n",
    "    hand = cards.draw(deck, n=5)\n",
    "    key = cards.handname(hand)\n",
    "    d[key] = d.get(key, 0) + 1\n",
    "d = dict(sorted(d.items(), key=lambda x: x[::-1]))\n",
    "d"
   ]
  },
  {
   "cell_type": "code",
   "execution_count": null,
   "id": "2499eee1-bf20-4622-ae54-660f78ea1625",
   "metadata": {},
   "outputs": [],
   "source": []
  }
 ],
 "metadata": {
  "kernelspec": {
   "display_name": "Python 3 (ipykernel)",
   "language": "python",
   "name": "python3"
  },
  "language_info": {
   "codemirror_mode": {
    "name": "ipython",
    "version": 3
   },
   "file_extension": ".py",
   "mimetype": "text/x-python",
   "name": "python",
   "nbconvert_exporter": "python",
   "pygments_lexer": "ipython3",
   "version": "3.13.0"
  }
 },
 "nbformat": 4,
 "nbformat_minor": 5
}
