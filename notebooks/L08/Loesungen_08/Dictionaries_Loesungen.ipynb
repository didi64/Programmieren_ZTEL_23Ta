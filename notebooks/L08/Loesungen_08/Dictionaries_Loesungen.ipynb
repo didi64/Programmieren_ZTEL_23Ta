{
 "cells": [
  {
   "cell_type": "markdown",
   "id": "2b1fe2ff-609d-4543-ab97-d2b079b220ff",
   "metadata": {},
   "source": [
    "### Dictionary: Aufgaben mit L&ouml;sungen\n",
    "1. Importiere den Dictionary `d` aus dem File `kz_kt.py`. \n",
    "   Die Schl&uuml;ssel sind Kantonsk&uuml;rzel, die Werte sind die Namen der\n",
    "   entsprechenden Kantone.\n",
    "   Erstelle nun einen Dictionary `kt_kz`, dessen Schl&uuml;ssel die Kantone und die zugeh&ouml;rigen Werte die K&uuml;rzel sind (`{'Aargau': 'AG', ... }`).\n",
    "\n",
    "1. Erstellen einen Dictionary, der zu jedem Anfansbuchstaben eines Kantons angibt, wieviele Kantone mit diesem Buchstaben beginnen (`{'A': 3, 'B': 3, ...}`).\n",
    "\n",
    "1. Erstellen einen Dictionary, der zu jedem Anfangsbuchstaben eines Kantons angibt, welche Kantone mit diesem Buchstaben beginnen\n",
    "(`{'A': ['Aargau', 'Appenzell Innerrhoden', 'Appenzell Ausserrhoden'],...}`).\n",
    "\n",
    "1. Schreibe eine Funktion `count_dict(items)`, die einen Dictionary zur&uuml;ckgibt, dessen Schl&uuml;ssel die verschiedenen Elemente in `items` sind. Die Werte sind die Anzahl Vorkommen des Schl&uuml;ssels.\n",
    "\n",
    "1. Schreibe eine Funktion `peek(d, n)`, welche eine Liste mit den ersten n \n",
    "   Key-Value Paaren zur&uuml;ck gibt.  \n",
    "   **Hint**: Erstelle eine Liste  mit den ersten n Schl&uuml;sseln.\n",
    "   Benutze diese Liste um den gew&uuml;nschten Dictionary zu erstellen.\n",
    "1. Erweitere obige Funktion, so dass f&uuml;r negative Werte von n die letzten\n",
    "n Key-Value Paaren zur&uuml;ckgegeben werden."
   ]
  },
  {
   "cell_type": "code",
   "execution_count": null,
   "id": "196f5aba-829f-4cb2-bb29-37ff159e8077",
   "metadata": {},
   "outputs": [],
   "source": [
    "# 1a) Dictionary kz_kt importieren\n",
    "from kz_kt import d\n",
    "d"
   ]
  },
  {
   "cell_type": "code",
   "execution_count": null,
   "id": "c697cf11-e7a1-45b3-828e-18ba87e0e515",
   "metadata": {},
   "outputs": [],
   "source": [
    "# 1b) Dictionary umdrehen\n",
    "kt_kz = {}\n",
    "for kz, kt in d.items():\n",
    "    kt_kz[kt] = kz\n",
    "\n",
    "kt_kz"
   ]
  },
  {
   "cell_type": "code",
   "execution_count": null,
   "id": "4da81b30-3c06-4700-9f0c-f953e4815bae",
   "metadata": {},
   "outputs": [],
   "source": [
    "# 2) Anzahl Kantone mit best. Anfangsbuchstaben\n",
    "letter_n = {}\n",
    "for kt in d.values():\n",
    "    first_letter = kt[0]\n",
    "    letter_n[first_letter] = letter_n.get(first_letter, 0) + 1\n",
    "\n",
    "letter_n"
   ]
  },
  {
   "cell_type": "code",
   "execution_count": null,
   "id": "f181aae5-4717-4f1c-a808-ea6f3dc260a0",
   "metadata": {},
   "outputs": [],
   "source": [
    "# 3) Kantonsliste zu Anfangsbuchstaben\n",
    "letter_kts = {}\n",
    "for kt in d.values():\n",
    "    letter_kts.setdefault(kt[0], []).append(kt)\n",
    "\n",
    "letter_kts"
   ]
  },
  {
   "cell_type": "code",
   "execution_count": null,
   "id": "da5872a1-b86e-412f-89b5-0d2f4aa67d17",
   "metadata": {},
   "outputs": [],
   "source": [
    "# 4\n",
    "def count_dict(items):\n",
    "    d = {}\n",
    "    for item in items:\n",
    "        d[item] = d.get(item, 0) + 1\n",
    "    return d"
   ]
  },
  {
   "cell_type": "code",
   "execution_count": null,
   "id": "bac33766-c54e-4d20-ae48-a6180422d685",
   "metadata": {},
   "outputs": [],
   "source": [
    "# 5)\n",
    "def peek(d, n=2):\n",
    "    keys = list(d)[:n]\n",
    "    return {k: d[k] for k in keys}"
   ]
  },
  {
   "cell_type": "code",
   "execution_count": null,
   "id": "1720ca40-9d90-4808-8ec5-ddd64e035884",
   "metadata": {},
   "outputs": [],
   "source": [
    "peek(d)"
   ]
  },
  {
   "cell_type": "code",
   "execution_count": null,
   "id": "59f67e74-7f47-47b7-a943-e15eedea79b6",
   "metadata": {},
   "outputs": [],
   "source": [
    "# 6)\n",
    "def peek(d, n=2):\n",
    "    if n >= 0:\n",
    "        keys = list(d)[:n]\n",
    "    else:\n",
    "        keys = list(d)[n:]\n",
    "    return {k: d[k] for k in keys}"
   ]
  },
  {
   "cell_type": "code",
   "execution_count": null,
   "id": "bcd230a6-e32a-4c2a-87f5-1b0eadf3fc99",
   "metadata": {},
   "outputs": [],
   "source": [
    "peek(d, -2)"
   ]
  },
  {
   "cell_type": "code",
   "execution_count": null,
   "id": "e97b7769-b107-42c3-a2f8-2a12731be8e2",
   "metadata": {},
   "outputs": [],
   "source": []
  }
 ],
 "metadata": {
  "author": "dieter.probst@gmail.com",
  "kernelspec": {
   "display_name": "Python 3 (ipykernel)",
   "language": "python",
   "name": "python3"
  },
  "language_info": {
   "codemirror_mode": {
    "name": "ipython",
    "version": 3
   },
   "file_extension": ".py",
   "mimetype": "text/x-python",
   "name": "python",
   "nbconvert_exporter": "python",
   "pygments_lexer": "ipython3",
   "version": "3.13.0"
  }
 },
 "nbformat": 4,
 "nbformat_minor": 5
}
