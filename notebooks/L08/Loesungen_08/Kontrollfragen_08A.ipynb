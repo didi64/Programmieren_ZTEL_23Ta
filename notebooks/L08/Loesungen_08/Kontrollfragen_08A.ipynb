{
 "cells": [
  {
   "cell_type": "markdown",
   "id": "146e0727-6551-4cd3-9956-ea0222e4ca32",
   "metadata": {},
   "source": [
    "### Kontrollfragen Lektion 8 mit L&ouml;sungen\n",
    "1. Erstellen einen kleinen Dictionary durch\n",
    "   a) explizite Angabe der Key-Value Paare,\n",
    "   b) aus Listen mit Keys und Values,\n",
    "   c) mit Dictionary-Comprehension.\n",
    "1. Schreibe eine Funktion, die einen Dictionary `d` umdreht, der jeden Wert nur einmal enth&auml;lt. `{'a': 1, 'b': 2})` wird zu `{1: 'a', 2: 'b'}`.   \n",
    "   Schreibe eine Funktion, die einen Dictionary `d` umdreht, der Werte mehrmals enth&auml;lt.  \n",
    "   `{'a': 1, 'b': 2, 'c': 1})` wird zu `{1: ['a', 'c'], 2: ['b']}`.  \n",
    "   Modifiziere die Funktion, so dass anstelle von Listen der L&auml;nge 1 nur das\n",
    "   Element der Liste angegeben wird.  \n",
    "  `{'a': 1, 'b': 2, 'c': 1})` wird zu `{1: ['a', 'c'], 2: 'b'}`.  \n",
    "\n",
    "\n",
    "1. Schreibe Funktionen `sorted_by_key(d, reverse=None)` und\n",
    "   `sorted_by_value(d, reverse=None)`, welche einen Dictionary nach Keys bez. Werten sortiert, absteigend falls `reverse=False`.\n",
    "1. Schreibe eine Funktion `peek(d, n)`, welche die ersten n Key-Value Paare ausgibt\n",
    "   falls n > 0, und die letzten |n| falls n < 0.\n",
    "1. Schreibe eine Funktion `count_dict(items)`, welche eine Dictionary erstellt, der\n",
    "   angibt, wie oft jedes Element von `items` vorkommt.\n",
    "1. Schreibe eine Funktion `occurrence_dict(items)`, welche eine Dictionary erstellt, der angibt, an welchen Positionen ein Element von `items` auftritt.\n",
    "   `occurrence_dict('abba')` liefert `{'a': [0, 3], 'b': [1, 2]}`.\n",
    "1. Benutze die Funktion `randint` aus dem Modul `random` um eine Funktion\n",
    "   `wuerfle(n)` zu schreiben, welche eine Liste mit n Zufallszahlen von 1 bis 6 zur&uuml;ckgibt.\n",
    "1. `wurf` sei der R&uuml;ckgabewert von `wuerfle(5)`.\n",
    "   Schreibe eine Funktion `is_straight(wurf)`, die `True` zur&uuml;ckgibt, falls\n",
    "   `wurf` entweder alle Zahlen von 1 bis 5, oder alle Zahlen von 2 bis 6 enth&auml;lt.\n",
    "1. Das Wurfbild eines Wurfs mit 5 W&uuml;rfeln ist entweder der String\n",
    "   `'straight` falls eine Strasse gew&uuml;rfelt wurde, andernfalls\n",
    "   ein String der Form `'221'`, der anzeigt, dass 2 Paare gew&uuml;rfelt wurden.\n",
    "   Das Wurfbild von `[6, 3, 6, 6, 1]` ist `'311'` und das\n",
    "   Wurfbild von `[6, 3, 6, 6, 6]` ist `'41'`. \n",
    "   Schreibe eine Funktion, das Wurfbild zur&uuml;ckgibt.\n",
    "1. W&uuml;rfle 100_000 Mal und erstellen einen Dictionary, der angibt, wie oft jedes Wurfbild gew&uuml;rfelt wurde. Sortiere den Dictionary absteigend nach den Werten."
   ]
  },
  {
   "cell_type": "code",
   "execution_count": null,
   "id": "cd6100af-b139-4bbb-a8cc-5d4bf095706c",
   "metadata": {},
   "outputs": [],
   "source": [
    "import random"
   ]
  },
  {
   "cell_type": "code",
   "execution_count": null,
   "id": "d3625eb1-8e1b-4485-aeab-f213df7a2a3e",
   "metadata": {},
   "outputs": [],
   "source": [
    "# 1a)\n",
    "en_de = {'cat': 'Katze', 'dog': 'Hund', 'bird': 'Vogel'}\n",
    "en_de"
   ]
  },
  {
   "cell_type": "code",
   "execution_count": null,
   "id": "9eaabc6e-29eb-4bf9-8343-ae73d2fc27ea",
   "metadata": {},
   "outputs": [],
   "source": [
    "# 1b)\n",
    "en = ['cat', 'dog', 'bird']\n",
    "de = ['Katze', 'Hund', 'Vogel']\n",
    "\n",
    "en_de = dict(zip(en, de))\n",
    "en_de"
   ]
  },
  {
   "cell_type": "code",
   "execution_count": null,
   "id": "b30be17d-d73d-4692-b856-031196dbdad6",
   "metadata": {},
   "outputs": [],
   "source": [
    "# 1c)\n",
    "en_de = {k: v for k, v in zip(en, de)}\n",
    "en_de"
   ]
  },
  {
   "cell_type": "code",
   "execution_count": null,
   "id": "5847e8a6-abe3-4c4a-a1ee-05ef3f022c41",
   "metadata": {},
   "outputs": [],
   "source": [
    "# 2)\n",
    "def reverse_dict1(d):\n",
    "    return {v: k for k, v in d.items()}\n",
    "\n",
    "\n",
    "def reverse_dict2(d):\n",
    "    inv_d = {}\n",
    "    for k, v in d.items():\n",
    "        inv_d.setdefault(v, []).append(k)\n",
    "    return inv_d\n",
    "\n",
    "\n",
    "def reverse_dict(d):\n",
    "    inv_d = {}\n",
    "    for k, v in d.items():\n",
    "        inv_d.setdefault(v, []).append(k)\n",
    "    return {k: v[0] if len(v) == 1 else v for k, v in inv_d.items()}"
   ]
  },
  {
   "cell_type": "code",
   "execution_count": null,
   "id": "f91787d8-6f75-4b5c-8168-fd048a020d4d",
   "metadata": {},
   "outputs": [],
   "source": [
    "reverse_dict(en_de)"
   ]
  },
  {
   "cell_type": "code",
   "execution_count": null,
   "id": "3d89fdcb-05c7-4bbf-9fc1-93a07070b702",
   "metadata": {},
   "outputs": [],
   "source": [
    "d = {1: 1, 2: 1, 3: 3}\n",
    "reverse_dict(d)"
   ]
  },
  {
   "cell_type": "code",
   "execution_count": null,
   "id": "9fe413de-8c9e-4ed2-95ca-908e8f524982",
   "metadata": {},
   "outputs": [],
   "source": [
    "# 3)\n",
    "def sorted_by_key(d, reverse=None):\n",
    "    return dict(sorted(d.items()), reverse=reverse)\n",
    "\n",
    "\n",
    "def sorted_by_val(d, reverse=None):\n",
    "    return dict(sorted(d.items(), key=lambda x: x[1], reverse=reverse))"
   ]
  },
  {
   "cell_type": "code",
   "execution_count": null,
   "id": "d229cbab-b2db-4bf1-aea2-3ce926686703",
   "metadata": {},
   "outputs": [],
   "source": [
    "sorted_by_key(en_de)"
   ]
  },
  {
   "cell_type": "code",
   "execution_count": null,
   "id": "c5d120ff-6e57-4cee-91e6-1b6aad1637c8",
   "metadata": {},
   "outputs": [],
   "source": [
    "sorted_by_val(en_de)"
   ]
  },
  {
   "cell_type": "code",
   "execution_count": null,
   "id": "978b8550-b324-495a-9871-7779df137ce1",
   "metadata": {},
   "outputs": [],
   "source": [
    "# 4)\n",
    "def peek(d, n):\n",
    "    it = d.items()\n",
    "    if n < 0:\n",
    "        it = reversed(it)\n",
    "    n = abs(n)\n",
    "    for i, (k, v) in enumerate(it):\n",
    "        if i == n:\n",
    "            break\n",
    "        print('{}: {}'.format(k, v))"
   ]
  },
  {
   "cell_type": "code",
   "execution_count": 4,
   "id": "7a8c97db-6993-4f29-9ea9-8a0831243645",
   "metadata": {},
   "outputs": [],
   "source": [
    "d = {i: i*i for i in range(1000)}\n",
    "peek(d, 3)\n",
    "peek(d, -2)"
   ]
  },
  {
   "cell_type": "code",
   "execution_count": 5,
   "id": "314376bd-9428-47dd-837b-4adcdf2620a0",
   "metadata": {},
   "outputs": [
    {
     "data": {
      "text/plain": [
       "{0: 0, 1: 1}"
      ]
     },
     "execution_count": 5,
     "metadata": {},
     "output_type": "execute_result"
    }
   ],
   "source": [
    "keys = list(d)[:2]\n",
    "{k: d[k] for k in keys}"
   ]
  },
  {
   "cell_type": "code",
   "execution_count": null,
   "id": "f85e0a8b-be6d-499e-8cfb-8720a66fc5ee",
   "metadata": {},
   "outputs": [],
   "source": [
    "# 5)\n",
    "def count_dict(items):\n",
    "    d = {}\n",
    "    for item in items:\n",
    "        d[item] = d.get(item, 0) + 1\n",
    "    return d "
   ]
  },
  {
   "cell_type": "code",
   "execution_count": null,
   "id": "db8dd9bb-27cf-44e3-9df4-c1f40f89bc44",
   "metadata": {},
   "outputs": [],
   "source": [
    "d = count_dict([1, 2, 1, 1, 3, 5, 2])\n",
    "d"
   ]
  },
  {
   "cell_type": "code",
   "execution_count": 6,
   "id": "d564531d-106e-49f0-aa0a-955c071087b4",
   "metadata": {},
   "outputs": [],
   "source": [
    "# 6)\n",
    "def occurrence_dict(items):\n",
    "    d = {}\n",
    "    for i, item in enumerate(items):\n",
    "        d.setdefault(item, []).append(i)\n",
    "    return d"
   ]
  },
  {
   "cell_type": "code",
   "execution_count": 7,
   "id": "19475623-ac5f-4bbe-80e6-5e5bdcca323a",
   "metadata": {},
   "outputs": [
    {
     "data": {
      "text/plain": [
       "{1: [0, 2, 3], 2: [1, 6], 3: [4], 5: [5]}"
      ]
     },
     "execution_count": 7,
     "metadata": {},
     "output_type": "execute_result"
    }
   ],
   "source": [
    "d = occurrence_dict([1, 2, 1, 1, 3, 5, 2])\n",
    "d"
   ]
  },
  {
   "cell_type": "code",
   "execution_count": 9,
   "id": "ecbe3d82-fba2-49de-9091-7f76f5adba00",
   "metadata": {},
   "outputs": [
    {
     "data": {
      "text/plain": [
       "{'a': [0, 2, 4, 6, 9], 'b': [1, 7], 'k': [3], 'd': [5], 'r': [8]}"
      ]
     },
     "execution_count": 9,
     "metadata": {},
     "output_type": "execute_result"
    }
   ],
   "source": [
    "occurrence_dict('abakadabra')"
   ]
  },
  {
   "cell_type": "code",
   "execution_count": 10,
   "id": "767b7427-3dec-46f2-89a3-4b365e1c7c1e",
   "metadata": {},
   "outputs": [],
   "source": [
    "# 7)\n",
    "def wuerfle(n):\n",
    "    return [random.randint(1, 6) for _ in range(n)]"
   ]
  },
  {
   "cell_type": "code",
   "execution_count": null,
   "id": "d1bc15dd-521c-40fa-b501-3df9d9e6ad88",
   "metadata": {},
   "outputs": [],
   "source": [
    "# 8)\n",
    "def is_straight(wurf):\n",
    "    wurf = set(wurf)\n",
    "    n = len(wurf)\n",
    "    return n == 5 and (1 not in wurf or 6 not in wurf)"
   ]
  },
  {
   "cell_type": "code",
   "execution_count": null,
   "id": "f5cf83da-4de9-42d1-8044-d8df0a861b37",
   "metadata": {},
   "outputs": [],
   "source": [
    "is_straight([6, 2, 6, 4, 5])"
   ]
  },
  {
   "cell_type": "code",
   "execution_count": null,
   "id": "5c0bb40c-91ce-4927-9eea-95e2d71ba08d",
   "metadata": {},
   "outputs": [],
   "source": [
    "# 9)\n",
    "def wurfbild(wurf):\n",
    "    counts = count_dict(wurf).values()\n",
    "    counts = sorted(counts, reverse=True)\n",
    "    return ''.join(str(x) for x in counts)"
   ]
  },
  {
   "cell_type": "code",
   "execution_count": null,
   "id": "22fc2a00-1477-42b2-b5d3-325d2d97fab0",
   "metadata": {},
   "outputs": [],
   "source": [
    "wurfbild((2, 3, 2, 5, 5))"
   ]
  },
  {
   "cell_type": "code",
   "execution_count": null,
   "id": "d73baa0d-a223-4876-8aa5-3f38654297be",
   "metadata": {},
   "outputs": [],
   "source": [
    "# 10)\n",
    "d = {}\n",
    "for i in range(100_000):\n",
    "    wurf = [random.randint(1, 6) for _ in range(5)]\n",
    "    key = 'straight' if is_straight(wurf) else wurfbild(wurf)\n",
    "    d[key] = d.get(key, 0) + 1\n",
    "sorted_by_val(d)"
   ]
  },
  {
   "cell_type": "code",
   "execution_count": null,
   "id": "1915ae70-36b7-42f8-b6b1-d0a5b57978b3",
   "metadata": {},
   "outputs": [],
   "source": []
  }
 ],
 "metadata": {
  "kernelspec": {
   "display_name": "Python 3 (ipykernel)",
   "language": "python",
   "name": "python3"
  },
  "language_info": {
   "codemirror_mode": {
    "name": "ipython",
    "version": 3
   },
   "file_extension": ".py",
   "mimetype": "text/x-python",
   "name": "python",
   "nbconvert_exporter": "python",
   "pygments_lexer": "ipython3",
   "version": "3.13.0"
  }
 },
 "nbformat": 4,
 "nbformat_minor": 5
}
