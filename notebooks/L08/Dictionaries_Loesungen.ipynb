{
    "cells": [
        {
            "cell_type": "markdown",
            "id": "6754a1fc-37b1-45bf-880e-f3d770945cc6",
            "metadata": {},
            "source": [
                "### Dictionaries, L&ouml;sungen\n",
                "### Aufgabe 1\n",
                "Warm-up: Erstellen eine kleinen Dictionary. Iteriere mit einem For-Loop &uuml;ger alle\n",
                "key-Value Paare und gib diese aus.\n",
                "\n",
                "Implementiere folgende Funktionen:\n",
                "\n",
                "```python\n",
                "def count_dict(text):\n",
                "    '''gib einen Dictionary der Form \n",
                "       `{<Buchstabe>: <Anzahl Auftreten des Buchstabens im Text>, ...  }`\n",
                "        zurueck\n",
                "    '''\n",
                "    ...\n",
                "    \n",
                "def pos_dict(text): \n",
                "    '''gib einen Dictionary der Form \n",
                "       `{<Buchstabe>: <Liste mit Positionen, an denen Buchstabens im Text auftritt>, ...  }`\n",
                "        zurueck\n",
                "    '''\n",
                "    ...\n",
                "    \n",
                "def peek(d, n):\n",
                "    '''peek(d,  2) liefert die ersten 2 Eintraege'''      \n",
                "    # erstelle eine Liste keys mit den ersten n Schluesseln\n",
                "    # benutze die Liste keys um den gewuenschten Dict zu erstellen\n",
                "```    "
            ]
        },
        {
            "cell_type": "markdown",
            "id": "b98f9274-a057-493b-85da-c427460c2dda",
            "metadata": {},
            "source": [
                "***\n",
                "Warm-up\n",
                "***"
            ]
        },
        {
            "cell_type": "code",
            "execution_count": null,
            "id": "5c2cc59c-d58e-49d6-af4d-5dcbebdae7a8",
            "metadata": {},
            "outputs": [],
            "source": [
                "d = {4: 'left', 6: 'right', 8: 'up', 2: 'down'}\n",
                "for k,v in d.items():\n",
                "    print('Schluessel: {}, Wert: {}'.format(k, v))"
            ]
        },
        {
            "cell_type": "markdown",
            "id": "0427c3c4-bbc1-441b-b4cb-2ffe75838558",
            "metadata": {},
            "source": [
                "***\n",
                "Die Funktion `count_dict`\n",
                "***"
            ]
        },
        {
            "cell_type": "code",
            "execution_count": null,
            "id": "e7c7a210-d2e8-4a98-b188-fe2aa0767a7b",
            "metadata": {},
            "outputs": [],
            "source": [
                "def count_dict1(text):\n",
                "    d = {}\n",
                "    for ch in text:\n",
                "        d[ch] = d.get(ch, 0) + 1\n",
                "    return d"
            ]
        },
        {
            "cell_type": "code",
            "execution_count": null,
            "id": "50237004-3628-43c6-b1a1-387b5bf35d77",
            "metadata": {},
            "outputs": [],
            "source": [
                "def count_dict2(text):\n",
                "    d = {}\n",
                "    for b in text:\n",
                "        if b in d:\n",
                "            d[b] += 1\n",
                "        # Buchstabe noch nicht im Dict: setzte Wert auf 1\n",
                "        else:\n",
                "            d[b] = 1\n",
                "    return d     "
            ]
        },
        {
            "cell_type": "code",
            "execution_count": null,
            "id": "eb614ada-aa7e-48dc-968e-60a3eb197a4b",
            "metadata": {},
            "outputs": [],
            "source": [
                "# Funktionen Testen:\n",
                "words = ['hallo', 'foo']\n",
                "for word in words:\n",
                "    d1 = count_dict1(word)\n",
                "    d2 = count_dict2(word)\n",
                "    print(d1, d2)\n",
                "    print('Dicts sind gleich? {}'.format(d1 == d2))"
            ]
        },
        {
            "cell_type": "markdown",
            "id": "d9c2b5c8-3de2-4ab0-b585-c2fd8a779c1a",
            "metadata": {},
            "source": [
                "***\n",
                "Die Funktion `pos_dict`\n",
                "***"
            ]
        },
        {
            "cell_type": "code",
            "execution_count": null,
            "id": "9dba51bc-9961-4e41-a8d0-e3bd34d79297",
            "metadata": {},
            "outputs": [],
            "source": [
                "def pos_dict1(text):\n",
                "    d = {}\n",
                "    for i, ch in enumerate(word):\n",
                "        d.setdefault(ch, []).append(i)\n",
                "    return d    "
            ]
        },
        {
            "cell_type": "code",
            "execution_count": null,
            "id": "02f77297-7f7e-437e-809d-5d6961156aeb",
            "metadata": {},
            "outputs": [],
            "source": [
                "def pos_dict2(text):\n",
                "    d = {}\n",
                "    for i, b in enumerate(wort):\n",
                "        if b in d:\n",
                "            d[b].append(i)\n",
                "        else:\n",
                "            d[b] = [i]\n",
                "            \n",
                "    return d   "
            ]
        },
        {
            "cell_type": "code",
            "execution_count": null,
            "id": "5c89c670-0d51-468f-857b-3e69ec7367dd",
            "metadata": {},
            "outputs": [],
            "source": [
                "# Funktion testen\n",
                "word = 'abakadabra'\n",
                "pd = pos_dict1(word)\n",
                "pd"
            ]
        },
        {
            "cell_type": "markdown",
            "id": "8879f997-04c0-4d5f-8780-1e07670a8c0c",
            "metadata": {},
            "source": [
                "***\n",
                "Die Funktion `peek`\n",
                "***"
            ]
        },
        {
            "cell_type": "code",
            "execution_count": null,
            "id": "2e14e49c-af61-4cf5-ae45-fedc22114c3f",
            "metadata": {},
            "outputs": [],
            "source": [
                "# peek\n",
                "def peek(d, n):\n",
                "    keys = list(d)[:n]\n",
                "    d_peek = {}\n",
                "        \n",
                "    for k in keys:\n",
                "        d_peek[k] = d[k]\n",
                "        \n",
                "    return d_peek"
            ]
        },
        {
            "cell_type": "code",
            "execution_count": null,
            "id": "05dbe85d-824a-43b2-a4f3-7f4dfd793786",
            "metadata": {},
            "outputs": [],
            "source": [
                "d = {i:chr(65+i) for i in range(26)}\n",
                "peek(d,3)"
            ]
        },
        {
            "cell_type": "markdown",
            "id": "64ef5d36-e237-43fc-8cfd-3c70149d8f87",
            "metadata": {},
            "source": [
                "### Weitere Aufgaben\n",
                "1. Importiere den Kantonsk&uuml;rzel-Kanton Dictionary mit\n",
                "```python\n",
                "from kz_kt import d\n",
                "```\n",
                "Erstelle nun einen Dictionary `kt_kz`, dessen Schl&uuml;ssel die Kantone und die zugeh&ouml;rigen Werte die K&uuml;rzel sind (`{'Aargau': 'AG', ... }`).\n",
                "\n",
                "2. Erstellen einen Dictionary, der zu jedem Anfansbuchstaben eines Kantons angibt, wieviele Kantone mit diesem Buchstaben beginnen (`{'A': 3, 'B': 3, ...}`).\n",
                "\n",
                "3. Erstellen einen Dictionary, der zu jedem Anfansbuchstaben eines Kantons angibt, welche Kantone mit diesem Buchstaben beginnen\n",
                "(`{'A': ['Aargau', 'Appenzell Innerrhoden', 'Appenzell Ausserrhoden'],...}`)."
            ]
        },
        {
            "cell_type": "code",
            "execution_count": null,
            "id": "196f5aba-829f-4cb2-bb29-37ff159e8077",
            "metadata": {},
            "outputs": [],
            "source": [
                "# Dictionary kz_kt umdrehen\n",
                "from kz_kt import d\n",
                "# d"
            ]
        },
        {
            "cell_type": "code",
            "execution_count": null,
            "id": "c697cf11-e7a1-45b3-828e-18ba87e0e515",
            "metadata": {},
            "outputs": [],
            "source": [
                "kt_kz = {}\n",
                "for kz,kt in d.items():\n",
                "    kt_kz[kt] = kz\n",
                "    \n",
                "# kt_kz   "
            ]
        },
        {
            "cell_type": "code",
            "execution_count": null,
            "id": "4da81b30-3c06-4700-9f0c-f953e4815bae",
            "metadata": {},
            "outputs": [],
            "source": [
                "# Anzahl Kantone pro Anfangsbuchstaben\n",
                "d1 = {}\n",
                "for kt in d.values():\n",
                "    # kt[0] ist erster Buchstabe des Kantons\n",
                "    d1[kt[0]] = d1.get(kt[0], 0) +1\n",
                "\n",
                "d1"
            ]
        },
        {
            "cell_type": "code",
            "execution_count": null,
            "id": "f181aae5-4717-4f1c-a808-ea6f3dc260a0",
            "metadata": {},
            "outputs": [],
            "source": [
                "# Kantonsliste zu Anfangsbuchstaben\n",
                "d2 = {}\n",
                "for kt in d.values():\n",
                "    d2.setdefault(kt[0], []).append(kt) \n",
                "\n",
                "d2"
            ]
        }
    ],
    "metadata": {
        "author": "dieter.probst@gmail.com",
        "kernelspec": {
            "display_name": "Python 3 (ipykernel)",
            "language": "python",
            "name": "python3"
        },
        "language_info": {
            "codemirror_mode": {
                "name": "ipython",
                "version": 3
            },
            "file_extension": ".py",
            "mimetype": "text/x-python",
            "name": "python",
            "nbconvert_exporter": "python",
            "pygments_lexer": "ipython3",
            "version": "3.12.0"
        }
    },
    "nbformat": 4,
    "nbformat_minor": 5
}