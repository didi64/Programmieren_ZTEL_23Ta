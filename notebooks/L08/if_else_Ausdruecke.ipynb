{
 "cells": [
  {
   "cell_type": "markdown",
   "id": "1350333e-d439-407b-8cf0-07a44c3c16c9",
   "metadata": {},
   "source": [
    "### `if-else`-Ausdr&uuml;cke  \n",
    "Ein if-else Ausdruck ist ein Ausdruck der Form   \n",
    "`<Ausdruck1> if <Ausdruck> else <Ausdruck2>`.  \n",
    "Der Wert dieses Ausdrucks ist der Wert von `<Ausdruck1>`, falls\n",
    "`<Ausdruck>` *truthy* ist (d.h. `bool(<Ausdruck>)` ist `True`), sonst der Wert von `<Ausdruck2>`.  "
   ]
  },
  {
   "cell_type": "code",
   "execution_count": null,
   "id": "3f02e71f-45d0-4ccd-9d4e-85c3c03fac5a",
   "metadata": {},
   "outputs": [],
   "source": [
    "# Finde i so dass s[i] == s[index]\n",
    "s = 'abcdefgh'\n",
    "n = len(s)\n",
    "index = -2"
   ]
  },
  {
   "cell_type": "code",
   "execution_count": null,
   "id": "afa71951-07ae-4348-a5aa-71bad43f50c1",
   "metadata": {},
   "outputs": [],
   "source": [
    "i = index if index >= 0 else n+index\n",
    "i, s[index] == s[i]"
   ]
  },
  {
   "cell_type": "code",
   "execution_count": null,
   "id": "8b565f41-3f91-4b54-9572-80d0ac731a84",
   "metadata": {},
   "outputs": [],
   "source": [
    "# gleicher Effekt wie\n",
    "if index >= 0:\n",
    "    i = index\n",
    "else:\n",
    "    i = n+index\n",
    "\n",
    "i, s[index] == s[i]"
   ]
  },
  {
   "cell_type": "code",
   "execution_count": null,
   "id": "69b4f8ca-4a8b-40a4-b4e9-4b1791b81d80",
   "metadata": {},
   "outputs": [],
   "source": []
  }
 ],
 "metadata": {
  "kernelspec": {
   "display_name": "Python 3 (ipykernel)",
   "language": "python",
   "name": "python3"
  },
  "language_info": {
   "codemirror_mode": {
    "name": "ipython",
    "version": 3
   },
   "file_extension": ".py",
   "mimetype": "text/x-python",
   "name": "python",
   "nbconvert_exporter": "python",
   "pygments_lexer": "ipython3",
   "version": "3.13.0"
  }
 },
 "nbformat": 4,
 "nbformat_minor": 5
}
