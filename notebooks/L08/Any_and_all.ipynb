{
    "cells": [
        {
            "cell_type": "markdown",
            "id": "a42d94e7-ef6b-4ad7-acd3-5d1c5d529200",
            "metadata": {},
            "source": [
                "### Die Funktionen `any` und `all`"
            ]
        },
        {
            "cell_type": "code",
            "execution_count": 2,
            "id": "9e396d88-8ff2-4192-a547-fdd69ca50def",
            "metadata": {},
            "outputs": [
                {
                    "name": "stdout",
                    "output_type": "stream",
                    "text": [
                        "Help on built-in function any in module builtins:\n",
                        "\n",
                        "any(iterable, /)\n",
                        "    Return True if bool(x) is True for any x in the iterable.\n",
                        "\n",
                        "    If the iterable is empty, return False.\n",
                        "\n"
                    ]
                }
            ],
            "source": [
                "help(any)"
            ]
        },
        {
            "cell_type": "code",
            "execution_count": 3,
            "id": "2b83077b-a92d-4e52-95bb-4ba8f85fce17",
            "metadata": {},
            "outputs": [
                {
                    "name": "stdout",
                    "output_type": "stream",
                    "text": [
                        "Help on built-in function all in module builtins:\n",
                        "\n",
                        "all(iterable, /)\n",
                        "    Return True if bool(x) is True for all values x in the iterable.\n",
                        "\n",
                        "    If the iterable is empty, return True.\n",
                        "\n"
                    ]
                }
            ],
            "source": [
                "help(all)"
            ]
        },
        {
            "cell_type": "code",
            "execution_count": 1,
            "id": "f0b494ae-1a1b-44d5-90c1-fbf47e70a4fd",
            "metadata": {},
            "outputs": [
                {
                    "name": "stdout",
                    "output_type": "stream",
                    "text": [
                        "all(booleans) False\n",
                        "any(booleans) True\n",
                        "all(values) False\n",
                        "any(values) False\n",
                        "any(x for x in values) False\n"
                    ]
                }
            ],
            "source": [
                "booleans = [True, True, False]\n",
                "values = [0, '', None]\n",
                "\n",
                "print('all(booleans)', all(booleans))\n",
                "print('any(booleans)', any(booleans))\n",
                "print('all(values)', all(values))\n",
                "print('any(values)', any(values))"
            ]
        },
        {
            "cell_type": "markdown",
            "id": "e3f2af14-f3af-4fc8-9cb4-28d0de9bc809",
            "metadata": {},
            "source": [
                "**Beachte**: `any` und `all` lassen sich auch so aufrufen:"
            ]
        },
        {
            "cell_type": "code",
            "execution_count": 4,
            "id": "ff5bf4cf-ec07-4267-bf6b-f01c81c09a6c",
            "metadata": {},
            "outputs": [
                {
                    "data": {
                        "text/plain": [
                            "False"
                        ]
                    },
                    "execution_count": 4,
                    "metadata": {},
                    "output_type": "execute_result"
                }
            ],
            "source": [
                "any(x for x in values)"
            ]
        },
        {
            "cell_type": "code",
            "execution_count": 5,
            "id": "a975cdb9-0daf-48d6-8f44-0f10c69bcfcb",
            "metadata": {},
            "outputs": [
                {
                    "data": {
                        "text/plain": [
                            "False"
                        ]
                    },
                    "execution_count": 5,
                    "metadata": {},
                    "output_type": "execute_result"
                }
            ],
            "source": [
                "all(x for x in values)"
            ]
        },
        {
            "cell_type": "code",
            "execution_count": null,
            "id": "6a19dbb4-2938-46db-86ca-776dacd51f97",
            "metadata": {},
            "outputs": [],
            "source": []
        }
    ],
    "metadata": {
        "author": "dieter.probst@gmail.com",
        "kernelspec": {
            "display_name": "Python 3 (ipykernel)",
            "language": "python",
            "name": "python3"
        },
        "language_info": {
            "codemirror_mode": {
                "name": "ipython",
                "version": 3
            },
            "file_extension": ".py",
            "mimetype": "text/x-python",
            "name": "python",
            "nbconvert_exporter": "python",
            "pygments_lexer": "ipython3",
            "version": "3.12.0"
        }
    },
    "nbformat": 4,
    "nbformat_minor": 5
}