{
 "cells": [
  {
   "cell_type": "markdown",
   "id": "0e7a0fca-44a6-4adf-ad58-b8a0c0006bfc",
   "metadata": {},
   "source": [
    "# Dictionaries\n",
    "Eine __Zuordnungstabelle__ oder **assoziierte Liste**, auf Englisch ein __Dictionary__, ist eine der wichtigsten und n&uuml;tzlichsten Datenstrukturen &uuml;berhaupt.\n",
    "- Dictionaries sind **mutable** und **iterable**\n",
    "- Dictionaries enthalten sog. Key-Value (Schl&uuml;ssel-Wert)  Paare:    \n",
    "  jedes [**hashable**](https://docs.python.org/3/glossary.html#term-hashable) Objekt ist ein g&uuml;ltiger Key (die Typen `list`, `set` und `dict` sind nicht hashable)  \n",
    "  **jedes** Objekt ist ein g&uuml;ltiger Value\n",
    "- Derselbe `Key` kann **nur einmal** im Dictionary vorkommen \n",
    "- Seit der Version 3.8 sind Dictionaries geordnet:\n",
    "  Die Schl&uuml;ssel bleiben immer in der Reihenfolge, in welcher sie in den Dictionary eingef&uuml;gt wurden."
   ]
  },
  {
   "cell_type": "markdown",
   "id": "33ae6b03-546c-4bac-a491-174dca0ce322",
   "metadata": {},
   "source": [
    "### Dictionary erzeugen"
   ]
  },
  {
   "cell_type": "markdown",
   "id": "63a0790b-17e4-44ec-ad8d-3dc847b8416e",
   "metadata": {},
   "source": [
    "***\n",
    "1) `d = {<key>: <value>, ...}`\n",
    "***"
   ]
  },
  {
   "cell_type": "code",
   "execution_count": null,
   "id": "c12c594d-9fe5-4fa6-b6da-f5cbabc99391",
   "metadata": {},
   "outputs": [],
   "source": [
    "d = {'example': 'Beispiel',  # Komma obligatorisch, Zeilenumbruch optional\n",
    "     'house':   'Haus',      # Komma obligatorisch,\n",
    "     'three':   'drei',      # Komma optional\n",
    "     }\n",
    "d"
   ]
  },
  {
   "cell_type": "markdown",
   "id": "ab2401b6-bf4c-4524-a412-9821f6da02c8",
   "metadata": {},
   "source": [
    "***\n",
    "2) Key-Value Paare zu Dictionary hinzuf&uuml;gen:  \n",
    "   `d = {}`, `d[<key>] = <value>`\n",
    "***"
   ]
  },
  {
   "cell_type": "code",
   "execution_count": null,
   "id": "b6f02760-f162-418f-831b-89e44a0a2802",
   "metadata": {},
   "outputs": [],
   "source": [
    "d = {}\n",
    "d['house'] = 'House'\n",
    "d"
   ]
  },
  {
   "cell_type": "markdown",
   "id": "e57fc692-3f1e-4b11-a991-c45d1a884c2d",
   "metadata": {},
   "source": [
    "***\n",
    "3) Iterable mit  Key-Value Paaren in Dictionary umwandeln:  \n",
    "   `d = dict(<key-value Paare>)`\n",
    "***"
   ]
  },
  {
   "cell_type": "code",
   "execution_count": null,
   "id": "6b719a5c-7b36-4b8a-8994-fb0589ec6833",
   "metadata": {},
   "outputs": [],
   "source": [
    "kv_pairs = [('example', 'Beispiel'), ('house', 'Haus'), ('three', 'drei')]\n",
    "d = dict(kv_pairs)\n",
    "d"
   ]
  },
  {
   "cell_type": "markdown",
   "id": "43636a82-f2b8-45d4-9841-8c8f5c4d9580",
   "metadata": {},
   "source": [
    "***\n",
    "4) Mit `zip` aus zwei Iterables mit Keys und Values ein\n",
    "   Iterable mit Key-Value Paaren formen und dann mit `dict` umwandeln:  \n",
    "   `d = dict(zip(<keys>, <values>))`\n",
    "***"
   ]
  },
  {
   "cell_type": "code",
   "execution_count": null,
   "id": "c036cc3a-bc22-4544-9f35-dd77378ec093",
   "metadata": {},
   "outputs": [],
   "source": [
    "keys = ['example', 'house', 'three']\n",
    "values = ['Beispiel', 'Haus', 'drei']\n",
    "\n",
    "d = dict(zip(keys, values))\n",
    "d"
   ]
  },
  {
   "cell_type": "markdown",
   "id": "1d00b177-ab34-4f10-9579-9cf15cdf4291",
   "metadata": {},
   "source": [
    "***\n",
    "5) Dictionary-Comprehension\n",
    "***"
   ]
  },
  {
   "cell_type": "code",
   "execution_count": null,
   "id": "ee2d6493-33e7-449a-8c7a-e35554b75998",
   "metadata": {},
   "outputs": [],
   "source": [
    "d = {i+1: chr(65+i) for i in range(3)}\n",
    "d"
   ]
  },
  {
   "cell_type": "code",
   "execution_count": null,
   "id": "fa82a0cb-23c8-4fc0-891a-eba554a874b8",
   "metadata": {},
   "outputs": [],
   "source": [
    "# Obiger Code hat den gleichen Effekt wie der nachstehende\n",
    "# (abgesehen von der Modifikation der Variable i)\n",
    "d = {}\n",
    "for i in range(3):\n",
    "    d[i+1] = chr(65+i)\n",
    "d"
   ]
  },
  {
   "cell_type": "markdown",
   "id": "17da8568-d98c-402c-b8d9-5f5bf9974e61",
   "metadata": {},
   "source": [
    "### Key-Value Paar hinzuf&uuml;gen/updaten"
   ]
  },
  {
   "cell_type": "code",
   "execution_count": null,
   "id": "996f3c4c-8890-45dd-b386-9d3bb10d6c1a",
   "metadata": {},
   "outputs": [],
   "source": [
    "d = {}\n",
    "d['foo'] = 'bar'\n",
    "d"
   ]
  },
  {
   "cell_type": "code",
   "execution_count": null,
   "id": "be73e4a7-60cd-4070-9b04-91ebd051dced",
   "metadata": {},
   "outputs": [],
   "source": [
    "d['foo'] = 'foobar'\n",
    "d"
   ]
  },
  {
   "cell_type": "markdown",
   "id": "984d7bb5-0e5c-4049-8cae-82ce4ffdafba",
   "metadata": {},
   "source": [
    "### Testen, ob Dictionary einen Key enth&auml;lt"
   ]
  },
  {
   "cell_type": "code",
   "execution_count": null,
   "id": "eefede5c-73ad-406b-910f-c5385f0fcdd2",
   "metadata": {},
   "outputs": [],
   "source": [
    "d = {'house': 'Haus'}\n",
    "'house' in d, 'cat' in d"
   ]
  },
  {
   "cell_type": "markdown",
   "id": "a9bf4d1c-1709-4ac3-a351-ad11210dc37b",
   "metadata": {},
   "source": [
    "### Existierenden Key und zugeh&ouml;rigen Wert entfernen"
   ]
  },
  {
   "cell_type": "code",
   "execution_count": null,
   "id": "cea118ba-82e7-4ae0-960e-06baec60013c",
   "metadata": {},
   "outputs": [],
   "source": [
    "d = {'house': 'Haus'}\n",
    "v = d.pop('house')\n",
    "# d.pop('cat')\n",
    "d, v"
   ]
  },
  {
   "cell_type": "markdown",
   "id": "6cf92322-e076-4091-ab67-fef80f027092",
   "metadata": {},
   "source": [
    "###  Keys, Values und Key-Value Paare extrahieren  \n",
    "- Mit `list(d)`, `tuple(d)` und `set(d)` erstellt man aus den Keys von `d` eine\n",
    "Liste, Tuple oder Menge.\n",
    "- `d.keys()`, `d.values()` und `d.items()` liefern Objekte, die man z.B. in eine Liste\n",
    "mit den Keys, den Values bez. den Key-Value Paaren umwandeln kann."
   ]
  },
  {
   "cell_type": "code",
   "execution_count": null,
   "id": "5203707a-1aaa-486a-8511-2f781472c5e9",
   "metadata": {},
   "outputs": [],
   "source": [
    "d = {'house': 'Haus', 'cat': 'Katze'}\n",
    "print(list(d))\n",
    "print(tuple(d))\n",
    "print(set(d))"
   ]
  },
  {
   "cell_type": "code",
   "execution_count": null,
   "id": "c6965017-fc04-4f7a-b36f-4d4559327fe2",
   "metadata": {},
   "outputs": [],
   "source": [
    "print('d.keys():', tuple(d.keys()))\n",
    "print('d.values():', tuple(d.values()))\n",
    "print('d.items():', tuple(d.items()))"
   ]
  },
  {
   "cell_type": "markdown",
   "id": "5c43414f-5102-4497-9adb-384bf2924117",
   "metadata": {},
   "source": [
    "### Iterieren &uuml;ber Keys, Values und Key-Value Paare  \n",
    "`d.keys()`, `d.values()` und `d.items()` liefern Objekte, \n",
    "&uuml;ber deren Elemente man mit einem For-Loop iterieren kann."
   ]
  },
  {
   "cell_type": "code",
   "execution_count": null,
   "id": "3e881d67-ebb5-4989-8813-62678d47cc16",
   "metadata": {},
   "outputs": [],
   "source": [
    "# ueber keys iterieren\n",
    "for key in d:\n",
    "    print(key, end=', ')"
   ]
  },
  {
   "cell_type": "code",
   "execution_count": null,
   "id": "25ecc5d2-b68c-4c1e-8671-76c23bab4107",
   "metadata": {},
   "outputs": [],
   "source": [
    "# ueber keys iterieren\n",
    "for key in d.keys():\n",
    "    print(key, end=', ')"
   ]
  },
  {
   "cell_type": "code",
   "execution_count": null,
   "id": "e58a5657-8ef8-41c1-b981-3285f7eef685",
   "metadata": {},
   "outputs": [],
   "source": [
    "# ueber values iterieren\n",
    "for val in d.values():\n",
    "    print(val, end=', ')"
   ]
  },
  {
   "cell_type": "code",
   "execution_count": null,
   "id": "e2fcc551-e50e-4b08-8b27-adc9564deb4e",
   "metadata": {},
   "outputs": [],
   "source": [
    "# ueber key-value Paare iterieren\n",
    "for key, val in d.items():\n",
    "    print('{}-->{}'.format(key, val), end=', ')"
   ]
  },
  {
   "cell_type": "markdown",
   "id": "addbb2eb-e71d-4136-8600-c8339083e282",
   "metadata": {},
   "source": [
    "### 2 wichtige Anwendungen\n",
    "Gegeben sei ein Wort, z.B. `'abakadabra'`.\n",
    "- Erstelle einen Dictionary, der angibt, wie oft ein Buchstabe vorkommt.\n",
    "- Erstelle einen Dictionary, der anzeigt, an welchen Positionen ein Buchstabe vorkommt."
   ]
  },
  {
   "cell_type": "code",
   "execution_count": null,
   "id": "c14d9d5c-95cf-4830-b2e5-bb2054f1eed5",
   "metadata": {},
   "outputs": [],
   "source": [
    "# Dictionary mit Buchstabencounts erstellen\n",
    "word = 'abakadabra'\n",
    "d = {}\n",
    "for c in word:\n",
    "    # Buchstabe ist bereits Scluessel: erhoehe Wert\n",
    "    if c in d:\n",
    "        d[c] += 1\n",
    "    # Buchstabe noch nicht im Dict: setze Wert auf 1\n",
    "    else:\n",
    "        d[c] = 1\n",
    "d"
   ]
  },
  {
   "cell_type": "code",
   "execution_count": null,
   "id": "03872b90-4577-4dd2-a8ec-a76a53a35e14",
   "metadata": {},
   "outputs": [],
   "source": [
    "# Dictionary mit Tuple der Vorkommen erstellen\n",
    "word = 'abakadabra'\n",
    "d = {}\n",
    "for i, c in enumerate(word):\n",
    "    # Buchstabe ist bereits Scluessel: fuege Position zu Positionsliste hinzu\n",
    "    if c in d:\n",
    "        d[c].append(i)\n",
    "    # Buchstabe noch nicht im Dict: setzte Wert auf [i] (Liste)\n",
    "    else:\n",
    "        d[c] = [i]\n",
    "d"
   ]
  },
  {
   "cell_type": "markdown",
   "id": "47a6b20e-acb0-4391-aa29-a33d01c30c09",
   "metadata": {},
   "source": [
    "### Die Methoden `dict.get` und `dict.setdefault`\n",
    "**Die sichere Art, Key-Werte Paare nachzuschlagen oder zu &auml;ndern** (im Sinne der Fehlervermeidung).  \n",
    "- `d.get(key, default=None)` liefert den Wert d[key] falls `key in d`, anderfalls `default`.  \n",
    "- `d.setdefault(key, default=None)` macht Folgendes:\n",
    "    - ist `key in d`, so wird `d[key]` zur&uuml;ckgegeben,\n",
    "    - ist `key not in d`, so wird `d[key]=val` ausgef&uuml;hrt und dann  \n",
    "      `d[key]` zur&uuml;ckgegeben.\n",
    "      \n",
    "   **`d.setdefault(key, val)`** f&uuml;gt nur neue Key-Value Paare hinzu, **nie** wird der Wert eines existierenden Keys **&uuml;berschrieben**!\n",
    "      \n",
    "**Bemerkung**:  \n",
    "`setdefault` ist ev. nicht der beste Namen f&uuml;r diese Methode. Beschreibender w&auml;re z.B.\n",
    "`get_if_exists_else_set_and_get`."
   ]
  },
  {
   "cell_type": "markdown",
   "id": "8e42bfb2-8afd-43ae-9abc-214d7f9a6476",
   "metadata": {},
   "source": [
    "***\n",
    "`dict.get`\n",
    "***"
   ]
  },
  {
   "cell_type": "code",
   "execution_count": null,
   "id": "628107d8-f051-45b5-ae54-91f9335ec468",
   "metadata": {},
   "outputs": [],
   "source": [
    "d = {'cat': 'Katze',\n",
    "     'dog': 'Hund',\n",
    "     }\n",
    "print(d.get('mouse'))\n",
    "print(d.get('mouse', 'Maus'))"
   ]
  },
  {
   "cell_type": "code",
   "execution_count": null,
   "id": "0e7eab3a-9c54-4b1b-a80e-6284b7169579",
   "metadata": {},
   "outputs": [],
   "source": [
    "d['mouse']"
   ]
  },
  {
   "cell_type": "markdown",
   "id": "40f24c6c-8fca-4f48-b0ac-8fcaf1da5101",
   "metadata": {},
   "source": [
    "***\n",
    "dict.setdefault\n",
    "***"
   ]
  },
  {
   "cell_type": "code",
   "execution_count": null,
   "id": "5bea15dd-4a9a-4f18-9e2f-ed2e895a05ab",
   "metadata": {},
   "outputs": [],
   "source": [
    "d = {}\n",
    "val = d.setdefault('mouse', 'maus')\n",
    "d, val"
   ]
  },
  {
   "cell_type": "code",
   "execution_count": null,
   "id": "f5a5101c-2203-471b-a84d-5530ed2b267b",
   "metadata": {},
   "outputs": [],
   "source": [
    "val = d.setdefault('mouse', 'Maus')  # bestehender Wert wird nicht ueberschreiben\n",
    "d, val"
   ]
  },
  {
   "cell_type": "markdown",
   "id": "1e6e610c-d876-4a58-83fb-24de83bffd5b",
   "metadata": {},
   "source": [
    "### 2 typische Anwendungen von `dict.get` und `dict.setdefault`. "
   ]
  },
  {
   "cell_type": "code",
   "execution_count": null,
   "id": "07a408cb-0fe8-481c-ad7b-28004cf8bb30",
   "metadata": {},
   "outputs": [],
   "source": [
    "# Count-Dict erstellen\n",
    "word = 'abakadabra'\n",
    "d = {}\n",
    "for c in word:\n",
    "    d[c] = d.get(c, 0) + 1\n",
    "d"
   ]
  },
  {
   "cell_type": "code",
   "execution_count": null,
   "id": "e8c9a2e4-f2dd-4473-8c2d-89c46a127a32",
   "metadata": {},
   "outputs": [],
   "source": [
    "# Occurrence-Dict erstellen\n",
    "word = 'abakadabra'\n",
    "d = {}\n",
    "for i, c in enumerate(word):\n",
    "    d.setdefault(c, []).append(i)\n",
    "d"
   ]
  },
  {
   "cell_type": "markdown",
   "id": "98c937d3-8958-430c-ac87-e80941fb4a51",
   "metadata": {},
   "source": [
    "### Aufgaben\n",
    "1. Importiere den Dictionary `d` aus dem File `kz_kt.py`. \n",
    "   Die Schl&uuml;ssel sind Kantonsk&uuml;rzel, die Werte sind die Namen der\n",
    "   entsprechenden Kantone.\n",
    "\n",
    "1.   Erstelle nun einen Dictionary `kt_kz`, dessen Schl&uuml;ssel die Kantone und die zugeh&ouml;rigen Werte die K&uuml;rzel sind (`{'Aargau': 'AG', ... }`).\n",
    "\n",
    "3. Erstellen einen Dictionary, der zu jedem Anfansbuchstaben eines Kantons angibt, wieviele Kantone mit diesem Buchstaben beginnen (`{'A': 3, 'B': 3, ...}`).\n",
    "\n",
    "4. Erstellen einen Dictionary, der zu jedem Anfangsbuchstaben eines Kantons angibt, welche Kantone mit diesem Buchstaben beginnen\n",
    "(`{'A': ['Aargau', 'Appenzell Innerrhoden', 'Appenzell Ausserrhoden'],...}`).\n",
    "\n",
    "5. Schreibe eine Funktion `peek(d, n)`, welche eine Liste mit den ersten n \n",
    "   Key-Value Paaren zur&uuml;ck gibt.  \n",
    "   **Hint**: Erstelle eine Liste  mit den ersten n Schl&uuml;sseln.\n",
    "   Benutze diese Liste um den gew&uuml;nschten Dictionary zu erstellen.\n",
    "6. Erweitere obige Funktion, so dass f&uuml;r negative Werte von n die letzten\n",
    "n Key-Value Paaren zur&uuml;ckgegeben werden.  "
   ]
  },
  {
   "cell_type": "code",
   "execution_count": null,
   "id": "355adfe5-3dcc-4d33-9ba0-88acecb10951",
   "metadata": {},
   "outputs": [],
   "source": []
  }
 ],
 "metadata": {
  "author": "dieter.probst@gmail.com",
  "kernelspec": {
   "display_name": "Python 3 (ipykernel)",
   "language": "python",
   "name": "python3"
  },
  "language_info": {
   "codemirror_mode": {
    "name": "ipython",
    "version": 3
   },
   "file_extension": ".py",
   "mimetype": "text/x-python",
   "name": "python",
   "nbconvert_exporter": "python",
   "pygments_lexer": "ipython3",
   "version": "3.13.0"
  }
 },
 "nbformat": 4,
 "nbformat_minor": 5
}
