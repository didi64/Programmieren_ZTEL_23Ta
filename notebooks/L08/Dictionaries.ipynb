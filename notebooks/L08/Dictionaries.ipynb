{
 "cells": [
  {
   "cell_type": "markdown",
   "id": "0e7a0fca-44a6-4adf-ad58-b8a0c0006bfc",
   "metadata": {},
   "source": [
    "# Dictionaries\n",
    "Eine __Zuordnungstabelle__ oder **assoziierte Liste**, auf Englisch ein __Dictionary__, ist eine der wichtigsten und n&uuml;tzlichsten Datenstrukturen &uuml;berhaupt.\n",
    "- Dictionaires sind **mutable** und **iterable**\n",
    "- Dictionaries enthalten sog. Key-Value (Schl&uuml;ssel-Wert)  Paare:    \n",
    "  jedes [**hashable**](https://docs.python.org/3/glossary.html#term-hashable) Objekt ist ein g&uuml;ltiger Key,  \n",
    "  **jedes** Objekt ist ein g&uuml;ltiger Value\n",
    "- Derselbe `Key` kann **nur einmal** im Dictionary vorkommen \n",
    "- Seit der Version 3.8 sind Dictionaries geordnet:\n",
    "  Die Schl&uuml;ssel bleiben immer in der Reihenfolge, in welcher sie in den Dictionary eingef&uuml;gt wurden."
   ]
  },
  {
   "cell_type": "markdown",
   "id": "33ae6b03-546c-4bac-a491-174dca0ce322",
   "metadata": {},
   "source": [
    "### Dictionary erzeugen"
   ]
  },
  {
   "cell_type": "markdown",
   "id": "ab2401b6-bf4c-4524-a412-9821f6da02c8",
   "metadata": {},
   "source": [
    "***\n",
    "1) Mit Key-Value Paaren: \n",
    "***"
   ]
  },
  {
   "cell_type": "code",
   "execution_count": null,
   "id": "b6f02760-f162-418f-831b-89e44a0a2802",
   "metadata": {},
   "outputs": [],
   "source": [
    "d = {'example': 'Beispiel', # Komma obligatorisch, Zeilenumbruch optional\n",
    "     'house':   'Haus',     # Komma obligatorisch,\n",
    "     'three':   'drei',     # Komma optional\n",
    "    }\n",
    "d"
   ]
  },
  {
   "cell_type": "markdown",
   "id": "e57fc692-3f1e-4b11-a991-c45d1a884c2d",
   "metadata": {},
   "source": [
    "***\n",
    "2) Aus einer Liste von Key-Value Tupeln\n",
    "***"
   ]
  },
  {
   "cell_type": "code",
   "execution_count": null,
   "id": "6b719a5c-7b36-4b8a-8994-fb0589ec6833",
   "metadata": {},
   "outputs": [],
   "source": [
    "lst = [('example', 'Beispiel'), ('house', 'Haus'), ('three', 'drei')]\n",
    "d = dict(lst)\n",
    "d"
   ]
  },
  {
   "cell_type": "markdown",
   "id": "43636a82-f2b8-45d4-9841-8c8f5c4d9580",
   "metadata": {},
   "source": [
    "***\n",
    "3) Aus Listen (oder Tuplen) mit Keys und Values\n",
    "***"
   ]
  },
  {
   "cell_type": "code",
   "execution_count": null,
   "id": "c036cc3a-bc22-4544-9f35-dd77378ec093",
   "metadata": {},
   "outputs": [],
   "source": [
    "keys = ['example', 'house', 'three']\n",
    "values = ['Beispiel', 'Haus', 'drei']\n",
    "\n",
    "d = dict(zip(keys, values))\n",
    "d"
   ]
  },
  {
   "cell_type": "markdown",
   "id": "17da8568-d98c-402c-b8d9-5f5bf9974e61",
   "metadata": {},
   "source": [
    "### Key-Value Paar hinzuf&uuml;gen Value eines Keys updaten"
   ]
  },
  {
   "cell_type": "code",
   "execution_count": null,
   "id": "996f3c4c-8890-45dd-b386-9d3bb10d6c1a",
   "metadata": {},
   "outputs": [],
   "source": [
    "d = {}\n",
    "d['foo'] = 'bar'\n",
    "d"
   ]
  },
  {
   "cell_type": "code",
   "execution_count": null,
   "id": "be73e4a7-60cd-4070-9b04-91ebd051dced",
   "metadata": {},
   "outputs": [],
   "source": [
    "d['foo'] = 'foobar'\n",
    "d"
   ]
  },
  {
   "cell_type": "markdown",
   "id": "984d7bb5-0e5c-4049-8cae-82ce4ffdafba",
   "metadata": {},
   "source": [
    "### Testen, ob Dictionary einen Key enth&auml;lt"
   ]
  },
  {
   "cell_type": "code",
   "execution_count": null,
   "id": "eefede5c-73ad-406b-910f-c5385f0fcdd2",
   "metadata": {},
   "outputs": [],
   "source": [
    "d = {'key': 'value'}\n",
    "'key' in d"
   ]
  },
  {
   "cell_type": "code",
   "execution_count": null,
   "id": "55b056ed-9832-4f3d-9857-db01d7ddd050",
   "metadata": {},
   "outputs": [],
   "source": [
    "d = {'key': 'value'}\n",
    "'foo' in d"
   ]
  },
  {
   "cell_type": "markdown",
   "id": "a9bf4d1c-1709-4ac3-a351-ad11210dc37b",
   "metadata": {},
   "source": [
    "### Existierenden Key und zugeh&ouml;rigen Wert entfernen"
   ]
  },
  {
   "cell_type": "code",
   "execution_count": null,
   "id": "cea118ba-82e7-4ae0-960e-06baec60013c",
   "metadata": {},
   "outputs": [],
   "source": [
    "d = dict(zip(range(5), 'abcde'))\n",
    "d"
   ]
  },
  {
   "cell_type": "code",
   "execution_count": null,
   "id": "2d15f399-a270-4369-a8e9-c19f20e1a469",
   "metadata": {},
   "outputs": [],
   "source": [
    "# Schluessel 0 und zugehoeriger Wert aus Dict entfernen\n",
    "val = d.pop(0)\n",
    "print(val)\n",
    "d"
   ]
  },
  {
   "cell_type": "code",
   "execution_count": null,
   "id": "1df8c5d5-d127-4e13-b055-1c75af300c7b",
   "metadata": {},
   "outputs": [],
   "source": [
    "# Falls key nicht im Dictionary wird ein Fehler erzeugt\n",
    "val = d.pop(0)"
   ]
  },
  {
   "cell_type": "markdown",
   "id": "5c43414f-5102-4497-9adb-384bf2924117",
   "metadata": {},
   "source": [
    "### Iterieren &uuml;ber eine Dictionary `d`\n",
    "- Iterieren &uuml;ber **`keys`**: \n",
    "  - `for key in d:` **oder**  `for key in d.keys():`\n",
    "- Iterieren &uuml;ber **`values`**: `for val in d.values():`\n",
    "- Iterieren &uuml;ber **key-value Paare**: `for k,v in d.items():`"
   ]
  },
  {
   "cell_type": "code",
   "execution_count": null,
   "id": "3e881d67-ebb5-4989-8813-62678d47cc16",
   "metadata": {},
   "outputs": [],
   "source": [
    "# Variante, iteriert auch ueber Keys\n",
    "for key in d:\n",
    "    print(key, end = ', ')"
   ]
  },
  {
   "cell_type": "code",
   "execution_count": null,
   "id": "25ecc5d2-b68c-4c1e-8671-76c23bab4107",
   "metadata": {},
   "outputs": [],
   "source": [
    "# ueber Keys iterieren\n",
    "for key in d.keys():\n",
    "    print(key, end = ', ')"
   ]
  },
  {
   "cell_type": "code",
   "execution_count": null,
   "id": "e58a5657-8ef8-41c1-b981-3285f7eef685",
   "metadata": {},
   "outputs": [],
   "source": [
    "# ueber Values (Werte) iterieren\n",
    "for val in d.values():\n",
    "    print(val, end = ', ')"
   ]
  },
  {
   "cell_type": "code",
   "execution_count": null,
   "id": "e2fcc551-e50e-4b08-8b27-adc9564deb4e",
   "metadata": {},
   "outputs": [],
   "source": [
    "# ueber Key-Value Paare iterieren\n",
    "for key, val in d.items():\n",
    "    print(key, '-->', val, end = ', ')"
   ]
  },
  {
   "cell_type": "markdown",
   "id": "be1a6da4-eb28-4abc-abc1-399103b9bfe0",
   "metadata": {},
   "source": [
    "### Schl&uuml;ssel und Werte als Listen "
   ]
  },
  {
   "cell_type": "code",
   "execution_count": null,
   "id": "80b1b205-a9cd-4cd7-ade6-71d02f1ed779",
   "metadata": {},
   "outputs": [],
   "source": [
    "# Liste mit allen Keys\n",
    "print('Liste mit Schluessel:', list(d))\n",
    "print('Liste mit Schluessel:', list(d.keys()))\n",
    "\n",
    "# Liste mit allen Values\n",
    "print('Liste mit Werten:', list(d.values()))"
   ]
  },
  {
   "cell_type": "markdown",
   "id": "addbb2eb-e71d-4136-8600-c8339083e282",
   "metadata": {},
   "source": [
    "### 2 wichtige Aufgaben \n",
    "Gegeben sei ein Wort, z.B. `'abakadabra'`.\n",
    "- Erstelle einen Dictionary, der angibt, wie oft ein Buchstabe vorkommt.\n",
    "- Erstelle einen Dictionary erstellen, der anzeigt, an welchen Positionen ein Buchstabe vorkommt."
   ]
  },
  {
   "cell_type": "markdown",
   "id": "24678b71-e08e-418a-8765-83d3c4879ce0",
   "metadata": {},
   "source": [
    "***\n",
    "Erstellen zum Wort `'abakadabra'` einen Dictionary der Form  \n",
    "`{'a': 5, 'b': 2, 'k': 1, 'd': 1, 'r': 1}`  \n",
    "(Wie oft kommt ein Buchstabe im Wort vor)\n",
    "***"
   ]
  },
  {
   "cell_type": "code",
   "execution_count": null,
   "id": "c14d9d5c-95cf-4830-b2e5-bb2054f1eed5",
   "metadata": {},
   "outputs": [],
   "source": [
    "wort = 'abakadabra'\n",
    "d = {}\n",
    "for buchstabe in wort:\n",
    "    # Buchstabe ist bereits Scluessel: erhoehe Wert\n",
    "    if buchstabe in d:\n",
    "        d[buchstabe] += 1\n",
    "    # Buchstabe noch nicht im Dict: setzte Wert auf 1\n",
    "    else:\n",
    "        d[buchstabe] = 1\n",
    "        \n",
    "d        "
   ]
  },
  {
   "cell_type": "markdown",
   "id": "4b517e4f-9f1b-48e8-9272-6763d9dd2708",
   "metadata": {},
   "source": [
    "***\n",
    "Erstellen zum Wort `'abakadabra'` einen Dictionary der Form  \n",
    "`{'a': [0, 2, 4, 6, 9], 'b': [1, 7], 'k': [3], 'd': [5], 'r': [8]}`  \n",
    "(Positionen, an denen der Buchstabe im Wort vorkommt)\n",
    "***"
   ]
  },
  {
   "cell_type": "code",
   "execution_count": null,
   "id": "03872b90-4577-4dd2-a8ec-a76a53a35e14",
   "metadata": {},
   "outputs": [],
   "source": [
    "wort = 'abakadabra'\n",
    "d = {}\n",
    "for i, buchstabe in enumerate(wort):\n",
    "    # Buchstabe ist bereits Scluessel: fuege Position zu Positionsliste hinzu\n",
    "    if buchstabe in d:\n",
    "        d[buchstabe].append(i)\n",
    "    # Buchstabe noch nicht im Dict: setzte Wert auf 1\n",
    "    else:\n",
    "        d[buchstabe] = [i]\n",
    "        \n",
    "d        "
   ]
  },
  {
   "cell_type": "markdown",
   "id": "47a6b20e-acb0-4391-aa29-a33d01c30c09",
   "metadata": {},
   "source": [
    "### Die Methoden `dict.get` und `dict.setdefault`\n",
    "**Die sichere Art, Key-Werte Paare nachzuschlagen oder zu &auml;ndern** (im Sinne der Fehlervermeidung).  \n",
    "Sei `d` ein `dict`.\n",
    "  - `d.get(key)` liefert den Wert d[key] falls `key in d`, anderfalls `None`.  \n",
    "  - `d.get(key, value)` liefert den Wert d[key] falls `key in d`, anderfalls `value`.  \n",
    "  - `d.setdefault(key, val)` macht folgendes:\n",
    "    - ist `key in d`, so wird `d[key]` zur&uuml;ckgegeben\n",
    "    - ist `key not in d`, so wird `d[key]=val` ausgef&uuml;hrt und dann  \n",
    "      `d[key]` zur&uuml;ckgegeben (also `val`)  \n",
    "      **`d.setdefault(key, val)`** f&uuml;gt nur neue Key-Wert Paare hinzu, **nie** wird der Wert eines existierenden Keys **&uuml;berschrieben**!\n",
    "      \n",
    "**Bemerkung**:  \n",
    "`setdefault` ist ev. nicht der beste Namen f&uuml;r diese Methode. Beschreibender w&auml;re z.B.\n",
    "`get_if_exists_else_set_and_get`."
   ]
  },
  {
   "cell_type": "markdown",
   "id": "8e42bfb2-8afd-43ae-9abc-214d7f9a6476",
   "metadata": {},
   "source": [
    "***\n",
    "`dict.get`\n",
    "***"
   ]
  },
  {
   "cell_type": "code",
   "execution_count": null,
   "id": "628107d8-f051-45b5-ae54-91f9335ec468",
   "metadata": {},
   "outputs": [],
   "source": [
    "d = {}\n",
    "print(d.get('foo'))\n",
    "print(d.get('foo', 'bar'))"
   ]
  },
  {
   "cell_type": "code",
   "execution_count": null,
   "id": "0e7eab3a-9c54-4b1b-a80e-6284b7169579",
   "metadata": {},
   "outputs": [],
   "source": [
    "d['foo']"
   ]
  },
  {
   "cell_type": "markdown",
   "id": "40f24c6c-8fca-4f48-b0ac-8fcaf1da5101",
   "metadata": {},
   "source": [
    "***\n",
    "dict.setdefault\n",
    "***"
   ]
  },
  {
   "cell_type": "code",
   "execution_count": null,
   "id": "5bea15dd-4a9a-4f18-9e2f-ed2e895a05ab",
   "metadata": {},
   "outputs": [],
   "source": [
    "# gibt immer einen Wert zurueck, \n",
    "# nimmt key-Wert Paar in d auf, falls Schluessel noch nicht im d\n",
    "d = {}\n",
    "val = d.setdefault('foo', 'bar')\n",
    "print(val)\n",
    "d"
   ]
  },
  {
   "cell_type": "code",
   "execution_count": null,
   "id": "54aed827-2ae5-4790-8fc4-03c3d8f2e946",
   "metadata": {},
   "outputs": [],
   "source": [
    " # Wert wird nicht ueberschrieben, aktueller Wert wird zurueckgegeben. \n",
    "val = d.setdefault('foo', 'baz') \n",
    "print(val)\n",
    "d"
   ]
  },
  {
   "cell_type": "markdown",
   "id": "1e6e610c-d876-4a58-83fb-24de83bffd5b",
   "metadata": {},
   "source": [
    "### 2 typische Anwendungen von `dict.get` und `dict.setdefault`. \n",
    "Gegeben sei ein Wort, z.B. `'abakadabra'`.\n",
    "- Erstelle einen Dictionary, der angibt, wie oft ein Buchstabe vorkommt.\n",
    "- Erstelle einen Dictionary erstellen, der anzeigt, an welchen Positionen ein Buchstabe vorkommt."
   ]
  },
  {
   "cell_type": "code",
   "execution_count": null,
   "id": "07a408cb-0fe8-481c-ad7b-28004cf8bb30",
   "metadata": {},
   "outputs": [],
   "source": [
    "word = 'abakadabra'\n",
    "d = {}\n",
    "for ch in word:\n",
    "    d[ch] = d.get(ch, 0) + 1\n",
    "d    "
   ]
  },
  {
   "cell_type": "code",
   "execution_count": null,
   "id": "e8c9a2e4-f2dd-4473-8c2d-89c46a127a32",
   "metadata": {},
   "outputs": [],
   "source": [
    "word = 'abakadabra'\n",
    "d = {}\n",
    "for i, ch in enumerate(word):\n",
    "    d.setdefault(ch, []).append(i)\n",
    "d    "
   ]
  },
  {
   "cell_type": "markdown",
   "id": "b231d303-d814-48b1-b097-158c3c9f70e8",
   "metadata": {},
   "source": [
    "### Aufgabe 1\n",
    "Warm-up: Erstellen eine kleinen Dictionary. Iteriere mit einem For-Loop &uuml;ger alle\n",
    "key-Value Paare und gib diese aus.\n",
    "\n",
    "Implementiere folgende Funktionen:\n",
    "\n",
    "```python\n",
    "def count_dict(text):\n",
    "    '''gib einen Dictionary der Form \n",
    "       `{<Buchstabe>: <Anzahl Auftreten des Buchstabens im Text>, ...  }`\n",
    "        zurueck\n",
    "    '''\n",
    "    ...\n",
    "    \n",
    "def pos_dict(text): \n",
    "    '''gib einen Dictionary der Form \n",
    "       `{<Buchstabe>: <Liste mit Positionen, an denen Buchstabens im Text auftritt>, ...  }`\n",
    "        zurueck\n",
    "    '''\n",
    "    ...\n",
    "    \n",
    "def peek(d, n):\n",
    "    '''peek(d,  2) gibt einen Dict zurueck, der nur die ersten 2 Eintraege enthaelt'''      \n",
    "    # erstelle eine Liste keys mit den ersten n Schluesseln\n",
    "    # benutze die Liste keys um den gewuenschten Dict zu erstellen\n",
    "```    "
   ]
  },
  {
   "cell_type": "markdown",
   "id": "98c937d3-8958-430c-ac87-e80941fb4a51",
   "metadata": {},
   "source": [
    "### Weitere Aufgaben\n",
    "1. Importiere den Kantonsk&uuml;rzel-Kanton Dictionary mit\n",
    "```python\n",
    "from kz_kt import d\n",
    "```\n",
    "Erstelle nun einen Dictionary `kt_kz`, dessen Schl&uuml;ssel die Kantone und die zugeh&ouml;rigen Werte die K&uuml;rzel sind (`{'Aargau': 'AG', ... }`).\n",
    "\n",
    "2. Erstellen einen Dictionary, der zu jedem Anfansbuchstaben eines Kantons angibt, wieviele Kantone mit diesem Buchstaben beginnen (`{'A': 3, 'B': 3, ...}`).\n",
    "\n",
    "3. Erstellen einen Dictionary, der zu jedem Anfansbuchstaben eines Kantons angibt, welche Kantone mit diesem Buchstaben beginnen\n",
    "(`{'A': ['Aargau', 'Appenzell Innerrhoden', 'Appenzell Ausserrhoden'],...}`).\n"
   ]
  },
  {
   "cell_type": "code",
   "execution_count": null,
   "id": "4d7d275d-9960-4a03-9ceb-18fb546b6d65",
   "metadata": {},
   "outputs": [],
   "source": []
  }
 ],
 "metadata": {
  "author": "dieter.probst@gmail.com",
  "kernelspec": {
   "display_name": "Python 3 (ipykernel)",
   "language": "python",
   "name": "python3"
  },
  "language_info": {
   "codemirror_mode": {
    "name": "ipython",
    "version": 3
   },
   "file_extension": ".py",
   "mimetype": "text/x-python",
   "name": "python",
   "nbconvert_exporter": "python",
   "pygments_lexer": "ipython3",
   "version": "3.13.0"
  }
 },
 "nbformat": 4,
 "nbformat_minor": 5
}
