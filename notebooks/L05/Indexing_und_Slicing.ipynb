{
 "cells": [
  {
   "cell_type": "markdown",
   "id": "ac25f6f0-f79b-48e5-820c-8b223e3d09e2",
   "metadata": {
    "tags": []
   },
   "source": [
    "### Indexing und Slicing\n",
    "**Indexing**: **Zugriff** auf ein **Zeichen** eines Strings oder **Element** eines Tupels oder Liste\n",
    "(siehe auch [w3schools.com, lists_access](https://www.w3schools.com/python/python_lists_access.asp), \n",
    "[docs.python, lists](https://docs.python.org/3/tutorial/introduction.html#lists)).  \n",
    "Sei `s` ein String, Tuple oder Liste der L&auml;nge $n$.\n",
    "\n",
    "- Ist $0\\leq i < n$, so liefert `s[i]` das i-te Zeichen von `s`.\n",
    "- Ist $1 \\leq i \\leq n$, so liefert `s[-i]` das ($n-i$)-te Zeichen. `s[-1]` ist das letzte, `s[-2]` das 2.-letzte und `s[-n]` das erste Zeichen.\n",
    "- F&uuml;r alle anderen Werte von i wird ein  `IndexError` ausgel&ouml;st.  \n",
    "  "
   ]
  },
  {
   "cell_type": "code",
   "execution_count": 2,
   "id": "07d77aab-7d38-49bc-8b8f-3d3d35cff473",
   "metadata": {},
   "outputs": [
    {
     "data": {
      "text/plain": [
       "('a', 'h')"
      ]
     },
     "execution_count": 2,
     "metadata": {},
     "output_type": "execute_result"
    }
   ],
   "source": [
    "# erster und letzer Buchstabe herausgreifen\n",
    "s = 'abcdefgh'\n",
    "s[0], s[-1] "
   ]
  },
  {
   "cell_type": "code",
   "execution_count": 3,
   "id": "c4045ffd-a3d2-41d3-8567-9a60c7aee2f0",
   "metadata": {},
   "outputs": [
    {
     "data": {
      "text/plain": [
       "('b', 'g')"
      ]
     },
     "execution_count": 3,
     "metadata": {},
     "output_type": "execute_result"
    }
   ],
   "source": [
    "# zweiter und zweitletzter Buchstabe herausgreifen\n",
    "s[1], s[-2] "
   ]
  },
  {
   "cell_type": "markdown",
   "id": "f35b8453-e927-4fad-8ce1-116a1709b9e9",
   "metadata": {},
   "source": [
    "**Slicing**: **Erstellen** eines neuen **Teilstrings**\n",
    "  (**Teiltuple**, **Teilliste**):  \n",
    "   (siehe auch [w3schools.com, lists_access](https://www.w3schools.com/python/python_lists_access.asp), \n",
    "[docs.python, lists](https://docs.python.org/3/tutorial/introduction.html#lists))  \n",
    "- `s[start:stop]` und `s[start:stop:step]`  \n",
    "liefert einen **neuen** String (Tupel oder Liste) bestehend aus den selektierten Elementen.\n",
    "Ist `step` positiv, kann $0$ als Startindex und $n$ als Stopindex weggelassen werden.  \n",
    "Ist `step` negativ, kann $n$ als Startindex und $0$ als Stopindex weggelassen werden."
   ]
  },
  {
   "cell_type": "code",
   "execution_count": 8,
   "id": "bdd9934f-4dcb-4c4e-874a-3a039bdc57e9",
   "metadata": {},
   "outputs": [],
   "source": [
    "digits = '0123456789'\n",
    "n = len(digits)"
   ]
  },
  {
   "cell_type": "code",
   "execution_count": 9,
   "id": "5697291e-98e0-4916-820a-cef2e60525ce",
   "metadata": {},
   "outputs": [
    {
     "data": {
      "text/plain": [
       "('0123456789', '0123456789')"
      ]
     },
     "execution_count": 9,
     "metadata": {},
     "output_type": "execute_result"
    }
   ],
   "source": [
    "# alles\n",
    "# digits[0:n]\n",
    "digits[:]"
   ]
  },
  {
   "cell_type": "code",
   "execution_count": 11,
   "id": "a16d7c13-4519-469b-9f03-c02ff74fffdf",
   "metadata": {},
   "outputs": [
    {
     "data": {
      "text/plain": [
       "'3456789'"
      ]
     },
     "execution_count": 11,
     "metadata": {},
     "output_type": "execute_result"
    }
   ],
   "source": [
    "# digits[3:n]\n",
    "digits[3:]  # ab 3"
   ]
  },
  {
   "cell_type": "code",
   "execution_count": 12,
   "id": "06cb8c1b-a389-4498-9528-39a8441728fc",
   "metadata": {},
   "outputs": [
    {
     "data": {
      "text/plain": [
       "'1357'"
      ]
     },
     "execution_count": 12,
     "metadata": {},
     "output_type": "execute_result"
    }
   ],
   "source": [
    "digits[1:9:2]"
   ]
  },
  {
   "cell_type": "markdown",
   "id": "c253a1a6-97b7-45bb-8df2-a908ff4f94b0",
   "metadata": {},
   "source": [
    "**wichtig**: Wort od. Liste umdrehen"
   ]
  },
  {
   "cell_type": "code",
   "execution_count": null,
   "id": "549bc65b-cc61-4359-80a6-4be4badd8e69",
   "metadata": {},
   "outputs": [],
   "source": [
    "'abcde'[::-1]"
   ]
  },
  {
   "cell_type": "code",
   "execution_count": null,
   "id": "a36fbfc9-e195-490f-8b60-4f0219804f11",
   "metadata": {},
   "outputs": [],
   "source": []
  },
  {
   "cell_type": "markdown",
   "id": "0d24c9cc-28d6-40d2-8b97-45cbff85f05d",
   "metadata": {},
   "source": [
    "**Slice-Zuweisungen** bei Listen    \n",
    "- `lst[von:] = <Iterable>`  \n",
    "    Die Elemente im Endst&uuml;ck `lst[von:]` der Liste werden durch die Elemente des   Iterables **ersetzt**.\n",
    "- `lst[von:bis] = <Iterable>`  \n",
    "   Die Teilliste `lst[von:bis]` wird durch `list(<iterable>)` **ersetzt**.\n",
    "- `lst[von:bis:schrittweite] = <Iterable>`  \n",
    "- `schrittweite` gleich 1, siehe oben.\n",
    "- `schrittweite` gr&ouml;sser 1:  \n",
    "   haben `lst[von:bis:schrittweite]` und `list(<Iterable>)` gleichviele Elemente, so\n",
    "   wird `lst[von:bis:schrittweite]` mit den Elementen des Iterables **ersetzt**,\n",
    "   anderfalls wird ein `ValueError` erzeugt."
   ]
  },
  {
   "cell_type": "markdown",
   "id": "cf08475f-e4e7-4441-8042-a7a3b32b71fd",
   "metadata": {},
   "source": [
    "### Zuweisungen mit Slice-Notation"
   ]
  },
  {
   "cell_type": "code",
   "execution_count": null,
   "id": "346cdc4c-7297-4c61-9652-92dd13661134",
   "metadata": {},
   "outputs": [],
   "source": [
    "# Anfangsstueck [0, 1] ersetzen\n",
    "nbrs = [0, 1, 2, 3, 4]\n",
    "nbrs[:2] = ['minus eins', 'null', 'eins']      \n",
    "nbrs"
   ]
  },
  {
   "cell_type": "code",
   "execution_count": null,
   "id": "bf32a813-ac1b-4177-a7dc-de35dc21c81e",
   "metadata": {},
   "outputs": [],
   "source": [
    "# Mittelstueck [2, 3] ersetzen\n",
    "nbrs = [0, 1, 2, 3, 4]\n",
    "nbrs[2:3] = []      \n",
    "nbrs"
   ]
  },
  {
   "cell_type": "code",
   "execution_count": null,
   "id": "f828c2c7-06cc-4cde-affd-428597f1de41",
   "metadata": {},
   "outputs": [],
   "source": [
    "# Endstueck [2, 3, 4] ersetzen\n",
    "nbrs = [0, 1, 2, 3, 4]\n",
    "nbrs[2:] = ['zwei', 'drei']      \n",
    "nbrs"
   ]
  },
  {
   "cell_type": "markdown",
   "id": "59896a09-bb7e-41a2-9028-827747f653b3",
   "metadata": {},
   "source": [
    "### Typische Anwendungen\n",
    "Benutze Slice-Notation um\n",
    "- aus dem String `'einszwei'` den String\n",
    "`'eins-zwei'` zu erstellen (Zeichen '-' einf&uuml;gen).  \n",
    "\n",
    "- aus dem String `'eins-zwei'` den String\n",
    "`'einszwei'` zu erstellen (Zeichen '-' entfernen).\n",
    "- zu testen, ob ein Wort ein Palindrom ist (z.B. 'Radar', vorw&auml;rts gleich r&uuml;ckw&auml;rts, ignoriere gross, klein).  \n",
    "- Die ersten und letzten 2 Elmente einer Liste Ausgeben.\n",
    "- (alle geraden Zahlen in der Liste `[1, 2, 3, 4, 5, 6]` durch `0` zu ersetzen)."
   ]
  },
  {
   "cell_type": "markdown",
   "id": "0f02877f-f9bf-450b-97ea-09d02f8b18c2",
   "metadata": {},
   "source": [
    "***\n",
    "Indexing und Slicing:\n",
    "***"
   ]
  },
  {
   "cell_type": "code",
   "execution_count": null,
   "id": "8a95be98-5c72-449d-9bc4-a154a4781fbe",
   "metadata": {},
   "outputs": [],
   "source": [
    "word = 'einszwei'\n",
    "idx = word.index('z') # Position von 'z' in word\n",
    "print(idx)\n",
    "print(word[:idx] + '-' + word[idx:])"
   ]
  },
  {
   "cell_type": "code",
   "execution_count": null,
   "id": "fdb05756-7db0-4d55-938d-147b98d5cb3f",
   "metadata": {},
   "outputs": [],
   "source": [
    "word = 'eins-zwei'\n",
    "idx = word.index('-')\n",
    "print(idx)\n",
    "print(word[:idx] +  word[idx + 1:])"
   ]
  },
  {
   "cell_type": "code",
   "execution_count": null,
   "id": "8f9cceb8-a816-4c35-ba6c-8e0a1a578a89",
   "metadata": {},
   "outputs": [],
   "source": [
    "def is_palindrom(s):\n",
    "    s = s.upper()\n",
    "    return s == s[::-1]\n",
    "\n",
    "words = ['Radar', 'Foo']\n",
    "for word in words:\n",
    "    print('{} ist ein Palindrom: {}'.format(word, is_palindrom(word)))"
   ]
  },
  {
   "cell_type": "code",
   "execution_count": null,
   "id": "eb119f49-9bed-44f7-8ce9-6db8baa28ff7",
   "metadata": {},
   "outputs": [],
   "source": [
    "lst = [1, 2, 3, 4, 5, 6]\n",
    "\n",
    "# die ersten beiden Elemente\n",
    "print(lst[:2])\n",
    "\n",
    "# die letzten beiden Elemente\n",
    "print(lst[-2:])\n",
    "\n",
    "# z.B 2 Elemente ab 3.Element\n",
    "print(lst[3:3+2])"
   ]
  },
  {
   "cell_type": "code",
   "execution_count": null,
   "id": "afadabf1-ef51-4d22-bead-8918c69de78e",
   "metadata": {},
   "outputs": [],
   "source": [
    "# ungerade Zahlen ersetzen\n",
    "lst = [1, 2, 3, 4, 5, 6]\n",
    "# ungerade Zahlen\n",
    "lst[::2] "
   ]
  },
  {
   "cell_type": "code",
   "execution_count": null,
   "id": "f47ba2e7-83ac-4af6-a193-b3b56bbcd738",
   "metadata": {},
   "outputs": [],
   "source": [
    "# mit Slicezuweisung ersetzen\n",
    "lst[::2] = [0, 0, 0]\n",
    "lst"
   ]
  },
  {
   "cell_type": "markdown",
   "id": "58047ab9-5cf1-4201-97d4-eb41eaaa6b09",
   "metadata": {},
   "source": [
    "### Aufgaben\n",
    "1. Finde alle W&ouml;rter in der Liste `words`, die auf `ung` enden.\n",
    "2. Erstelle eine Kopie der liste `rows`, aber entferne jeweils den Zeilenumbruch am Ende der Zeile."
   ]
  },
  {
   "cell_type": "code",
   "execution_count": null,
   "id": "e5a129f7-367f-42a8-a7f8-4567622d8409",
   "metadata": {},
   "outputs": [],
   "source": [
    "words = ['Übung', 'Haus', 'Atmung', 'TV', 'Begrüssung', 'Hund', 'Ehrung', 'Einigung', 'Endung']\n",
    "rows = ['Zeile 1\\n',\n",
    "        'Zeile 2\\n',\n",
    "        'Zeile 3\\n',\n",
    "       ]\n",
    "print(''.join(rows))"
   ]
  }
 ],
 "metadata": {
  "author": "dieter.probst@gmail.com",
  "kernelspec": {
   "display_name": "Python 3 (ipykernel)",
   "language": "python",
   "name": "python3"
  },
  "language_info": {
   "codemirror_mode": {
    "name": "ipython",
    "version": 3
   },
   "file_extension": ".py",
   "mimetype": "text/x-python",
   "name": "python",
   "nbconvert_exporter": "python",
   "pygments_lexer": "ipython3",
   "version": "3.13.0"
  }
 },
 "nbformat": 4,
 "nbformat_minor": 5
}
