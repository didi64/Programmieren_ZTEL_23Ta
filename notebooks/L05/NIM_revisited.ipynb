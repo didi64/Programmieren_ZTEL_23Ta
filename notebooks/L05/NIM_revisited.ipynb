{
 "cells": [
  {
   "cell_type": "markdown",
   "id": "e06170ae-d056-44c1-96ca-473e0bbbc395",
   "metadata": {},
   "source": [
    "### Ein weiterer Blick auf NIM\n",
    "Gegeben sind Haufen mit Steinen, gespeichert in einer Liste\n",
    "`heaps = [2, 3, 4]`, wobei `heaps[i]` die Anzahl Steine auf Haufen\n",
    "$i+1$ ist.\n",
    "\n",
    "Solange noch Steine da sind,\n",
    "werden die Spieler abwechselnd gefragt, von welchem Haufen wieviele Steine entfernt werden sollen. Die Liste `heaps` wird entsprechend modifiziert und angezeigt. Wer den letzten Haufen abr&auml;umt hat gewonnen."
   ]
  },
  {
   "cell_type": "code",
   "execution_count": null,
   "id": "44329e06-fa33-454b-b7cb-b7c7d4bcb476",
   "metadata": {},
   "outputs": [],
   "source": [
    "# Einfachste Implementation, \n",
    "# Programm weiss nicht, welcher Spieler am Zug ist\n",
    "# Regeln werden nicht geprueft\n",
    "\n",
    "heaps = [2, 3, 4]\n",
    "print(heaps)\n",
    "\n",
    "while sum(heaps) > 0:\n",
    "    heap = int(input('Haufen?')) - 1\n",
    "    n = int(input('Wieviele?'))\n",
    "    heaps[heap] = max(0, heaps[heap] - n)\n",
    "    print(heaps)\n",
    "print('Du hast gewonnen!')"
   ]
  },
  {
   "cell_type": "markdown",
   "id": "ff762e49-aba1-491e-8fcc-a1780c32366e",
   "metadata": {},
   "source": [
    "### Spieler hinzuf&uuml;gen\n",
    "Im Tuple `players = ('Alice', 'Bob')` speichern wir die Namen der Spieler. Die Variable `ptm` speichert, welcher Spieler am Zug ist (0 oder 1).\n",
    "Die Anweisung `ptm = 1 - ptm` veranlasst den Spielerwechsel (0 -> 1 bez. 1 -> 0).\n",
    "***"
   ]
  },
  {
   "cell_type": "code",
   "execution_count": null,
   "id": "74aafc61-a15d-4d94-b821-b26309fc7c8c",
   "metadata": {},
   "outputs": [],
   "source": [
    "ptm = 0"
   ]
  },
  {
   "cell_type": "code",
   "execution_count": null,
   "id": "d61d1175-3bd0-4787-87e1-a40801f42859",
   "metadata": {},
   "outputs": [],
   "source": [
    "ptm = 1 - ptm\n",
    "ptm"
   ]
  },
  {
   "cell_type": "code",
   "execution_count": null,
   "id": "96104875-a70b-4d7f-a401-d92f318615fc",
   "metadata": {},
   "outputs": [],
   "source": [
    "heaps = [2, 3, 4]\n",
    "players = ('Alice', 'Bob')\n",
    "ptm = 0  # player to move (Spieler am Zug) 0 oder 1\n",
    "print(heaps)\n",
    "\n",
    "while sum(heaps) > 0:\n",
    "    player = players[ptm]\n",
    "    print(player)\n",
    "    heap = int(input('Haufen?')) - 1\n",
    "    n = int(input('Wieviele?'))\n",
    "    heaps[heap] = max(0, heaps[heap] - n)\n",
    "    print(heaps)\n",
    "    ptm = 1 - ptm\n",
    "print(player, 'ist der Gewinner!')"
   ]
  },
  {
   "cell_type": "markdown",
   "id": "1e7e56d9-f24a-47c8-b897-f756b4059ba5",
   "metadata": {},
   "source": [
    "### Weitere Verbesserungen  \n",
    "Naheliegende weitere Verbesserungen sind z.B. die\n",
    "Entgegennahme des Zuges und die Darstellung des Spielzustandes.\n",
    "Z.B. k&ouml;nnte man dem Spieler sagen,\n",
    "welche Eingaben g&uuml;ltig sind und das dann auch &uuml;berpr&uuml;fen.\n",
    "\n",
    "Um den Code &uuml;bersichtlich zu halten, lagern wir\n",
    "die Nachfrage nach dem Zug und die Aktualisierung und Darstellung des Spielzustandes in separate Funktionen aus und speichern diese in einem eigenen Modul."
   ]
  },
  {
   "cell_type": "code",
   "execution_count": null,
   "id": "f3a16cce-0417-4a81-8832-8139e1d00910",
   "metadata": {},
   "outputs": [],
   "source": [
    "%%file nim_helpers.py\n",
    "def ask_for_move(player, heaps):\n",
    "    print(player)\n",
    "    heap = int(input('Haufen?')) - 1\n",
    "    n = int(input('Wieviele?'))\n",
    "    return (heap, n)\n",
    "\n",
    "def update_state(move, heaps):\n",
    "    heap, n = move\n",
    "    heaps[heap] = max(0, heaps[heap] - n)\n",
    "    print(heaps)"
   ]
  },
  {
   "cell_type": "code",
   "execution_count": null,
   "id": "7ddb5fd3-4de8-4678-8853-c6abb5fef252",
   "metadata": {},
   "outputs": [],
   "source": [
    "%reset -f --aggressive\n",
    "from nim_helpers import ask_for_move, update_state\n",
    "\n",
    "heaps = [2, 3, 4]\n",
    "players = ('Alice', 'Bob')\n",
    "ptm = 0  # player to move (Spieler am Zug) 0 oder 1\n",
    "print(heaps)\n",
    "\n",
    "while sum(heaps) > 0:\n",
    "    player = players[ptm]\n",
    "    move = ask_for_move(player, heaps)\n",
    "    update_state(move, heaps)\n",
    "    ptm = 1 - ptm\n",
    "print(player, 'ist der Gewinner!')"
   ]
  },
  {
   "cell_type": "code",
   "execution_count": null,
   "id": "1b0781cd-105f-4ea9-a78c-33fa24d9da10",
   "metadata": {},
   "outputs": [],
   "source": []
  }
 ],
 "metadata": {
  "kernelspec": {
   "display_name": "Python 3 (ipykernel)",
   "language": "python",
   "name": "python3"
  },
  "language_info": {
   "codemirror_mode": {
    "name": "ipython",
    "version": 3
   },
   "file_extension": ".py",
   "mimetype": "text/x-python",
   "name": "python",
   "nbconvert_exporter": "python",
   "pygments_lexer": "ipython3",
   "version": "3.13.0"
  }
 },
 "nbformat": 4,
 "nbformat_minor": 5
}
