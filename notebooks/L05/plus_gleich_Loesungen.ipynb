{
 "cells": [
  {
   "cell_type": "markdown",
   "id": "0415b9b8-e733-48a5-9f4e-d1b0f49d261b",
   "metadata": {},
   "source": [
    "### L&ouml;sungen der Aufgabe zu `+=`"
   ]
  },
  {
   "cell_type": "markdown",
   "id": "18019bd7-089e-4edd-8531-24979e85fd32",
   "metadata": {},
   "source": [
    "**Aufgabe**:\n",
    "Was machen die Funktionen `f` und `g`?  \n",
    "Illustriere anhand von Beispielen, dass die Funktionen `f` und `g` unterschiedliche Dinge tun.\n",
    "\n",
    "```python\n",
    "def f(lst):\n",
    "    lst = lst + ['neues Element']\n",
    "    return lst\n",
    "\n",
    "def g(lst):\n",
    "    lst += ['neues Element']\n",
    "    return lst\n",
    "\n",
    "```\n",
    "\n",
    "Und was machen diese beiden Funktionen? \n",
    "Illustriere ihr unterschiedliches Verhalten ebenfalls mit einem Beispiel.\n",
    "```python\n",
    "def f_1(lst):\n",
    "    lst = lst + ['neues Element']\n",
    "    \n",
    "def g_1(lst):\n",
    "    lst += ['neues Element']\n",
    "   \n",
    "```"
   ]
  },
  {
   "cell_type": "code",
   "execution_count": 1,
   "id": "10000c09-81cc-450b-b5f8-814136f8743b",
   "metadata": {},
   "outputs": [],
   "source": [
    "def f(lst):\n",
    "    '''gibt eine neue Liste zurueck.\n",
    "       Diese Liste enthaelt die Elemente der uebergebenen Liste und\n",
    "       noch das neue Element 'neues Element'.\n",
    "    '''   \n",
    "    lst = lst + ['neues Element']\n",
    "    return lst\n",
    "\n",
    "def g(lst):\n",
    "    '''modifiziert die Liste lst und gibt sie zurueck'''\n",
    "    lst += ['neues Element']\n",
    "    return lst"
   ]
  },
  {
   "cell_type": "code",
   "execution_count": 5,
   "id": "ab88021d-945c-4390-8103-950743a70891",
   "metadata": {},
   "outputs": [
    {
     "name": "stdout",
     "output_type": "stream",
     "text": [
      "x = [1, 2]\n",
      "y = [1, 2, 'neues Element']\n"
     ]
    }
   ],
   "source": [
    "# f(x) gibt eine neue Liste zurueck\n",
    "x = [1,2]\n",
    "y = f(x)\n",
    "\n",
    "print('x = {}'.format(x))\n",
    "print('y = {}'.format(y))"
   ]
  },
  {
   "cell_type": "code",
   "execution_count": 6,
   "id": "592577fb-fc5d-4d3a-99d6-ed757fd6efa6",
   "metadata": {},
   "outputs": [
    {
     "name": "stdout",
     "output_type": "stream",
     "text": [
      "x = [1, 2, 'neues Element']\n",
      "y = [1, 2, 'neues Element']\n"
     ]
    }
   ],
   "source": [
    "# g(x) modifiziert die Liste x und gibt sie zurueck\n",
    "\n",
    "x = [1,2]\n",
    "y = g(x)\n",
    "print('x = {}'.format(x))\n",
    "print('y = {}'.format(y))"
   ]
  },
  {
   "cell_type": "code",
   "execution_count": 7,
   "id": "5fdd81b8-5bbd-4f20-981c-d7dedab098a2",
   "metadata": {},
   "outputs": [
    {
     "name": "stdout",
     "output_type": "stream",
     "text": [
      "x = [1, 2, 'neues Element', 3]\n",
      "y = [1, 2, 'neues Element', 3]\n"
     ]
    }
   ],
   "source": [
    "# x und y referenzieren die gleiche Liste\n",
    "x.append(3)\n",
    "print('x = {}'.format(x))\n",
    "print('y = {}'.format(y))"
   ]
  },
  {
   "cell_type": "code",
   "execution_count": 8,
   "id": "19ca05ef-83f3-4f7a-8294-1360cad21feb",
   "metadata": {},
   "outputs": [],
   "source": [
    "def f_1(lst):\n",
    "    '''kreiert eine lokale Variable lst und gibt 'None'\n",
    "       zurueck\n",
    "       \n",
    "       Aufruf der Funktion hat keinen Effekt\n",
    "       Nach der Funktionsausfuehrung existiert die lokale Varialbe nicht mehr\n",
    "    '''   \n",
    "    lst = lst + ['neues Element']\n",
    "    \n",
    "def g_1(lst):\n",
    "    '''modifiziert die Liste lst'''\n",
    "    lst += ['neues Element']"
   ]
  },
  {
   "cell_type": "code",
   "execution_count": 9,
   "id": "7230ee05-6990-4c8f-9e00-03ba4f183c76",
   "metadata": {},
   "outputs": [
    {
     "name": "stdout",
     "output_type": "stream",
     "text": [
      "['Element 1']\n"
     ]
    }
   ],
   "source": [
    "y = ['Element 1']\n",
    "f_1(y)\n",
    "print(y)"
   ]
  },
  {
   "cell_type": "code",
   "execution_count": 10,
   "id": "71847169-a3b2-4800-aff2-9a27a11ed13a",
   "metadata": {},
   "outputs": [
    {
     "name": "stdout",
     "output_type": "stream",
     "text": [
      "['Element 1', 'neues Element']\n"
     ]
    }
   ],
   "source": [
    "y = ['Element 1']\n",
    "g_1(y)\n",
    "print(y)"
   ]
  },
  {
   "cell_type": "code",
   "execution_count": null,
   "id": "8cc47295-d1ae-40bf-9847-d4ac7a34301a",
   "metadata": {},
   "outputs": [],
   "source": []
  }
 ],
 "metadata": {
  "author": "dieter.probst@gmail.com",
  "kernelspec": {
   "display_name": "Python 3 (ipykernel)",
   "language": "python",
   "name": "python3"
  },
  "language_info": {
   "codemirror_mode": {
    "name": "ipython",
    "version": 3
   },
   "file_extension": ".py",
   "mimetype": "text/x-python",
   "name": "python",
   "nbconvert_exporter": "python",
   "pygments_lexer": "ipython3",
   "version": "3.12.4"
  }
 },
 "nbformat": 4,
 "nbformat_minor": 5
}
