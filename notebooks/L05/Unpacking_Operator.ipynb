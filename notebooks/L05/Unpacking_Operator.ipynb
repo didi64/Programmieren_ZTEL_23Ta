{
 "cells": [
  {
   "cell_type": "markdown",
   "id": "20b56db1-676a-4db4-ae01-3e907830467b",
   "metadata": {},
   "source": [
    "### Der unpacking Operator `*`  \n",
    "Haben wir eine Funktion wie `print`, \n",
    "welche mit einer variablen Anzahl Argumente aufgerufen werden kann,\n",
    "kann dies auf 2 Arten geschehen:  \n",
    "```python\n",
    "print(fname, lname, email)  # Argumente explizit uebergeben\n",
    "\n",
    "customer = (fname, lname, email)  # Argumente in Tuple/Liste speichern\n",
    "print(*customer)  # Liste auspacken\n",
    "```\n",
    "\n",
    "Das gleiche gilt f&uuml;r die Funktion `str.format`.\n",
    "Typischerweise werden in diesem Fall die Platzhalter in einem\n",
    "Tuple/Liste gespeichert und ausgepackt.  \n",
    "\n",
    "```python\n",
    "fstring = 'Produkt: {:<12}, Preis: {:4.2f}'\n",
    "article = ('Bleistift', 1.95)\n",
    "# str.format(fstring, 'Bleistift', 1.95)\n",
    "str.format(fstring, *article)\n",
    "```  \n",
    "Der unpacking Operator `*` packt das Tuple `article` aus. "
   ]
  },
  {
   "cell_type": "code",
   "execution_count": 2,
   "id": "d5404994-38cc-4263-b07a-209e09ff9d4a",
   "metadata": {},
   "outputs": [
    {
     "name": "stdout",
     "output_type": "stream",
     "text": [
      "Hans Muster hans.muster@edu.teko.ch\n"
     ]
    }
   ],
   "source": [
    "fname = 'Hans'\n",
    "lname = 'Muster'\n",
    "email = 'hans.muster@edu.teko.ch'\n",
    "\n",
    "# Argumente explizit uebergeben\n",
    "print(fname, lname, email)  "
   ]
  },
  {
   "cell_type": "code",
   "execution_count": 3,
   "id": "4c2be5e7-311a-4db0-9457-8f918e561dae",
   "metadata": {},
   "outputs": [
    {
     "name": "stdout",
     "output_type": "stream",
     "text": [
      "Hans Muster hans.muster@edu.teko.ch\n"
     ]
    }
   ],
   "source": [
    "# Argumente in Tuple/Liste speichern und mit * auspacken\n",
    "customer = (fname, lname, email)  \n",
    "print(*customer)  # Liste auspacken"
   ]
  },
  {
   "cell_type": "markdown",
   "id": "b346ae9b-a948-476f-be4f-fc0cddab336c",
   "metadata": {},
   "source": [
    "### Beispiel: Tabelle formatiert ausgeben  \n",
    "Eine Tabelle der Form\n",
    "\n",
    "| Vorname | Name | Email |  \n",
    "| --- | --- | --- |  \n",
    "| Max | Mueller | max.mueller@gmail.com |  \n",
    "| Betty | Bossi | betty.bossi@gmail.com |  \n",
    "\n",
    "k&ouml;nnen wir als Liste von Zeilen auffassen. Unsere Tabelle soll aus\n",
    "den Zeilen der im File/Modul `students.py` definierten Liste `students` bestehen."
   ]
  },
  {
   "cell_type": "code",
   "execution_count": 4,
   "id": "86ba9dd3-f473-4606-be3c-3b37b4be2b75",
   "metadata": {},
   "outputs": [
    {
     "data": {
      "text/plain": [
       "'|Vorname     |Name        |Email                         |'"
      ]
     },
     "execution_count": 4,
     "metadata": {},
     "output_type": "execute_result"
    }
   ],
   "source": [
    "fstring= '|{:<12}|{:<12}|{:<30}|'\n",
    "col_names = ('Vorname', 'Name', 'Email')\n",
    "header = fstring.format(*col_names)\n",
    "header"
   ]
  },
  {
   "cell_type": "code",
   "execution_count": 6,
   "id": "5619666f-54c6-49fb-b412-3b9ea1863e19",
   "metadata": {},
   "outputs": [
    {
     "name": "stdout",
     "output_type": "stream",
     "text": [
      "|Vorname     |Name        |Email                         |\n",
      "----------------------------------------------------------\n",
      "|Mike        |Blättler    |mike.blaettler@edu.teko.ch    |\n",
      "|Antonio     |Fernandes   |antonio.fernandes@edu.teko.ch |\n",
      "|Steve       |Kluser      |steve.kluser@edu.teko.ch      |\n",
      "|Eric        |Lechmann    |eric.lechmann@edu.teko.ch     |\n",
      "|Jean        |Leutwyler   |jean.leutwyler@edu.teko.ch    |\n",
      "|Steve       |Kluser      |steve.kluser@edu.teko.ch      |\n",
      "|Marko       |Stamenkovic |marko.stamenkovic@edu.teko.ch |\n"
     ]
    }
   ],
   "source": [
    "from students import students\n",
    "\n",
    "print(header)\n",
    "print('-' * len(header))\n",
    "\n",
    "for student in students:\n",
    "    print(fstring.format(*student))"
   ]
  },
  {
   "cell_type": "markdown",
   "id": "234b81c7-4a18-43dc-95bb-2e8b501412ff",
   "metadata": {},
   "source": [
    "### Definition von Funktionen mit einer variablen Anzahl Argumente\n",
    "Funktionen wie `print` mit einer variablen Anzahl Argumente nennt man auch **variadic functions**. Solche Funktionen k&ouml;nnen wie Folgt definiert werden:\n",
    "\n",
    "\n",
    "\n",
    "```python\n",
    "def f(*<Variabelname>, <Argumente>, <Default-Argumente>):\n",
    "    <Code>\n",
    "```\n",
    "\n",
    "Beim Funktionsaufruf werden alle Argumente vor dem ersten Keyword-Argument in ein Tuple gepackt und der Variable `<Variabelname>` zugewiesen. \n",
    "Diese Variable nennt man typischerweise `args` (kurz f&uuml;r `arguments`)."
   ]
  },
  {
   "cell_type": "code",
   "execution_count": 7,
   "id": "728d0d23-52e0-4c05-a4a4-e710a69db937",
   "metadata": {},
   "outputs": [],
   "source": [
    "def f(*args, x, y=0):\n",
    "    print('Das Tuple args:', args)\n",
    "    print('x:', x)\n",
    "    print('y:', y)\n",
    "    print('-' * 60)"
   ]
  },
  {
   "cell_type": "code",
   "execution_count": 8,
   "id": "4c14a6c8-931a-48c6-8825-1d67818566a0",
   "metadata": {},
   "outputs": [
    {
     "name": "stdout",
     "output_type": "stream",
     "text": [
      "Das Tuple args: (1, 2, 3)\n",
      "x: 4\n",
      "y: 0\n",
      "------------------------------------------------------------\n",
      "Das Tuple args: ('Max', 'Muster')\n",
      "x: foo\n",
      "y: bar\n",
      "------------------------------------------------------------\n",
      "Das Tuple args: ()\n",
      "x: 1\n",
      "y: 2\n",
      "------------------------------------------------------------\n"
     ]
    }
   ],
   "source": [
    "f(1, 2, 3, x=4)\n",
    "f('Max', 'Muster', x='foo', y='bar')\n",
    "f(x=1, y=2)"
   ]
  },
  {
   "cell_type": "markdown",
   "id": "4eddaaf5-99ac-4749-85a6-8b835e81ea38",
   "metadata": {},
   "source": [
    "### Aufgabe\n",
    "Schreibe eine Funktion `f` die sich mit 0 oder meheren Argumenten aufrufen l&auml;sst und Folgendes tut:\n",
    "- wird die Funktion mit keinem oder mehr als 3 Argumenten aufgerufen,\n",
    "  wird '1 bis 3 Argumente erwartet' ausgegeben,\n",
    "- f(100) gibt 'start=0, stop=100, step=1' aus,\n",
    "- f(20, 100) gibt 'start=20, stop=100, step=1' aus,\n",
    "- f(20, 100, 5) gibt 'start=20, stop=100, step=5' aus."
   ]
  },
  {
   "cell_type": "code",
   "execution_count": null,
   "id": "9a8e0b87-2a44-4c1f-9ca5-37af7615413e",
   "metadata": {},
   "outputs": [],
   "source": []
  }
 ],
 "metadata": {
  "kernelspec": {
   "display_name": "Python 3 (ipykernel)",
   "language": "python",
   "name": "python3"
  },
  "language_info": {
   "codemirror_mode": {
    "name": "ipython",
    "version": 3
   },
   "file_extension": ".py",
   "mimetype": "text/x-python",
   "name": "python",
   "nbconvert_exporter": "python",
   "pygments_lexer": "ipython3",
   "version": "3.13.0"
  }
 },
 "nbformat": 4,
 "nbformat_minor": 5
}
