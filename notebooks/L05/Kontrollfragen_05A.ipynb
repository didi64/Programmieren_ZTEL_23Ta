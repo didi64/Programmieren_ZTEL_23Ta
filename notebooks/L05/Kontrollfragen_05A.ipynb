{
 "cells": [
  {
   "cell_type": "markdown",
   "id": "f6cbcec7-777a-4cbc-b646-92836bf551d9",
   "metadata": {},
   "source": [
    "### Kontrollfragen Lektion 5\n",
    "\n",
    "1. Benutze `range`, um die Tuples `(-25, -20, ..., 20, 25)`,\n",
    "   und `(25, 20, ..., -20, -25)` zu erstellen.\n",
    "   Gib zur Kontrolle jeweils die ersten und letzten beiden Elemente aus (benutze Slicenotation).\n",
    "1. Benutze Slicenotation, um aus dem String `s = '0123456789'`\n",
    "   die Teilstrings `'0369'`, `'48'` und `'86420'` herauszugreifen, sowie den String umzudrehen.\n",
    "1. Erstellen einen Platzhalterstring `ffrac` mit Formatierung,\n",
    "   so dass `str.format(ffract, i, n)` ein String der L&auml;nge $6$ ist, der\n",
    "   den Wert von $i/n$ auf 3 Stellen gerundet enth&auml;lt.\n",
    "1. Schreibe eine Funktion `show_fractions(n)`, welche die Werte $1/n,\\ldots, 10/n$ wie folgt auf 3 Stellen gerundet tabellarisch ausgibt.\n",
    "   Z.B. `show_fractions(7)` produziert folgenden Output:\n",
    "```python\n",
    "1/7  =  0.143\n",
    "2/7  =  0.286\n",
    "3/7  =  0.429\n",
    "4/7  =  0.571\n",
    "5/7  =  0.714\n",
    "6/7  =  0.857\n",
    "7/7  =  1.000\n",
    "8/7  =  1.143\n",
    "9/7  =  1.286\n",
    "10/7 =  1.429\n",
    "```\n",
    "5. Schreibe eine Funktion `maxlen(items)`, welche die L&auml;nge des\n",
    "   l&auml;ngsten Strings in der Liste `items` zur&uuml;ckgibt.\n",
    "   Die Liste `items` enth&auml;lt nur Strings.\n",
    "1. Schreibe eine Funktion `count(items, item)`, die zur&uuml;ckgibt, wie oft\n",
    "`item` in `items` vorkommt. Implementiere 2 Varianten, eine mit `continue` und eine ohne.\n",
    "\n",
    "1. Schreibe eine Funktion `find_first(items, item)`, die in einer Liste/Tuple/String `items` nach dem ersten Vorkommen von `item` sucht. Wird `item` gefunden, wird sein Index zur&uuml;ckgegeben, andernfalls -1.\n",
    "\n",
    "1. Schreibe eine Funktion `find_all(items, item)`, die ein Tuple mit allen Positionen $i$ zur&uuml;ckgibt, wo `item` in `items` auftritt.\n",
    "Benutze `continue` nicht.\n",
    "1. Schreibe eine Funktion `replace(items, item, new)`,\n",
    "   welche alle Vorkommen von `item` in `items` durch `new` ersetzt.\n",
    "1. Importiere die Liste `students` aus dem File `students.py`.\n",
    "   Erstelle eine Liste mit allen Nachnamen und finde mit Hilfe von\n",
    "   `maxlen` die L&auml;nge des l&auml;ngsten.\n",
    "   Produziere dann mit Hilfe eines Platzhalterstrings und einer For-Schleife folgenden Output.\n",
    "   \n",
    "```python   \n",
    "M. Blättler    mike.blaettler@edu.teko.ch\n",
    "A. Fernandes   antonio.fernandes@edu.teko.ch\n",
    "S. Kluser      steve.kluser@edu.teko.ch\n",
    "E. Lechmann    eric.lechmann@edu.teko.ch\n",
    "J. Leutwyler   jean.leutwyler@edu.teko.ch\n",
    "S. Kluser      steve.kluser@edu.teko.ch\n",
    "M. Stamenkovic marko.stamenkovic@edu.teko.ch\n",
    "```"
   ]
  },
  {
   "cell_type": "code",
   "execution_count": 1,
   "id": "2fb60d05-7870-4aa0-b9d3-4dd58e8671a1",
   "metadata": {},
   "outputs": [
    {
     "data": {
      "text/plain": [
       "((-25, -20), (20, 25), (25, 20), (-20, -25))"
      ]
     },
     "execution_count": 1,
     "metadata": {},
     "output_type": "execute_result"
    }
   ],
   "source": [
    "# 1) range\n",
    "asc = tuple(range(-25, 26, 5))\n",
    "dsc = tuple(range(25, -26, -5))\n",
    "asc[:2], asc[-2:], dsc[:2], dsc[-2:]"
   ]
  },
  {
   "cell_type": "code",
   "execution_count": 2,
   "id": "b57a22eb-e992-4bcc-9ca5-c55399c58c49",
   "metadata": {},
   "outputs": [
    {
     "data": {
      "text/plain": [
       "('0369', '48', '86420', '9876543210')"
      ]
     },
     "execution_count": 2,
     "metadata": {},
     "output_type": "execute_result"
    }
   ],
   "source": [
    "# 2) Slicenotation\n",
    "s = '0123456789'\n",
    "s[::3], s[4::4], s[-2::-2], s[::-1]"
   ]
  },
  {
   "cell_type": "code",
   "execution_count": 3,
   "id": "9d020194-a7f3-4307-8752-f461d8391ed0",
   "metadata": {},
   "outputs": [
    {
     "data": {
      "text/plain": [
       "' 0.143'"
      ]
     },
     "execution_count": 3,
     "metadata": {},
     "output_type": "execute_result"
    }
   ],
   "source": [
    "# 3) Platzhalterstring, Formatierung\n",
    "ffrac = '{:6.3f}'\n",
    "str.format(ffrac, 1/7)"
   ]
  },
  {
   "cell_type": "code",
   "execution_count": 4,
   "id": "944e5145-3d26-4bf7-b3ce-aa522fd04860",
   "metadata": {},
   "outputs": [],
   "source": [
    "# 4) Platzhalterstring, Formatierung\n",
    "def show_fraction(n):\n",
    "    fstring = '{:<4} = {:6.3f}'\n",
    "    for i in range(1, 11):\n",
    "        fract = str.format('{}/{}', i, n)\n",
    "        msg = str.format(fstring, fract, i/n)\n",
    "        print(msg)"
   ]
  },
  {
   "cell_type": "code",
   "execution_count": 5,
   "id": "92b73a12-d08f-4aaf-be29-0caccb28ba35",
   "metadata": {},
   "outputs": [
    {
     "name": "stdout",
     "output_type": "stream",
     "text": [
      "1/7  =  0.143\n",
      "2/7  =  0.286\n",
      "3/7  =  0.429\n",
      "4/7  =  0.571\n",
      "5/7  =  0.714\n",
      "6/7  =  0.857\n",
      "7/7  =  1.000\n",
      "8/7  =  1.143\n",
      "9/7  =  1.286\n",
      "10/7 =  1.429\n"
     ]
    }
   ],
   "source": [
    "show_fraction(7)"
   ]
  },
  {
   "cell_type": "code",
   "execution_count": 6,
   "id": "89963fb5-3689-4b26-8435-5573579c61aa",
   "metadata": {},
   "outputs": [],
   "source": [
    "# 5)\n",
    "def maxlen(items):\n",
    "    ''' returns the length of the longest\n",
    "        string in the list items\n",
    "        items: list[str]\n",
    "    '''\n",
    "    length = 0\n",
    "    for item in items:\n",
    "        length = max(length, len(item))\n",
    "    return length"
   ]
  },
  {
   "cell_type": "code",
   "execution_count": 7,
   "id": "a8b6f92e-118f-41e4-b1ce-d97cbb20bf30",
   "metadata": {},
   "outputs": [
    {
     "data": {
      "text/plain": [
       "10"
      ]
     },
     "execution_count": 7,
     "metadata": {},
     "output_type": "execute_result"
    }
   ],
   "source": [
    "words = ['Übung', 'Haus', 'Atmung', 'Begrüssung', \n",
    "          'Hund', 'Ehrung', 'Einigung','Endung',\n",
    "        ]\n",
    "maxlen(words)"
   ]
  },
  {
   "cell_type": "code",
   "execution_count": 8,
   "id": "d6ea15df-9ced-4bd3-9cf9-b3acf3adeb28",
   "metadata": {},
   "outputs": [],
   "source": [
    "# 6)\n",
    "def count1(items, item):\n",
    "    '''returns how often item occurs in items\n",
    "       items: Sequence\n",
    "       item: any\n",
    "    '''     \n",
    "    cnt = 0\n",
    "    for obj in items:\n",
    "        if obj == item:\n",
    "            cnt = cnt + 1\n",
    "    return cnt\n",
    "\n",
    "\n",
    "def count2(items, item):\n",
    "    '''returns how often item occurs in items\n",
    "       items: Sequence\n",
    "       item: any\n",
    "    '''     \n",
    "    cnt = 0\n",
    "    for obj in items:\n",
    "        if obj != item:\n",
    "            continue\n",
    "        cnt = cnt + 1\n",
    "    return cnt"
   ]
  },
  {
   "cell_type": "code",
   "execution_count": 9,
   "id": "50976670-a5f5-4118-85f0-0a5f4720c0fe",
   "metadata": {},
   "outputs": [
    {
     "data": {
      "text/plain": [
       "(5, 5)"
      ]
     },
     "execution_count": 9,
     "metadata": {},
     "output_type": "execute_result"
    }
   ],
   "source": [
    "word = 'abakadabra'\n",
    "count1(word, 'a'), \\\n",
    "count2(word, 'a')"
   ]
  },
  {
   "cell_type": "code",
   "execution_count": 10,
   "id": "e96d7745-66eb-44b9-bc82-841c146b750e",
   "metadata": {},
   "outputs": [],
   "source": [
    "# 7)\n",
    "def find_first(items, item):\n",
    "    '''returns the smallest i so that \n",
    "       items[i] == item or -1\n",
    "       items: Sequence\n",
    "       item: any\n",
    "    '''     \n",
    "    i = 0\n",
    "    for obj in items:\n",
    "        if obj == item:\n",
    "            break\n",
    "        i = i + 1  \n",
    "\n",
    "    if i == len(items):\n",
    "        i = -1\n",
    "    return i"
   ]
  },
  {
   "cell_type": "code",
   "execution_count": 11,
   "id": "34e505a7-1e66-4ec5-a3ce-419f200ac633",
   "metadata": {},
   "outputs": [
    {
     "data": {
      "text/plain": [
       "(-1, 2)"
      ]
     },
     "execution_count": 11,
     "metadata": {},
     "output_type": "execute_result"
    }
   ],
   "source": [
    "numbers = (4, 2, 6, 8, 9, 6, 3, 4, 6)\n",
    "find_first(numbers, 7), \\\n",
    "find_first(numbers, 6)"
   ]
  },
  {
   "cell_type": "code",
   "execution_count": 12,
   "id": "ea464042-e9f5-49a9-af9e-e0f1459b37f8",
   "metadata": {},
   "outputs": [],
   "source": [
    "# 8)\n",
    "def find_all(items, item):\n",
    "    '''returns a tuple with all the positions\n",
    "       where item occurs in items\n",
    "       items: Sequence\n",
    "       item: any\n",
    "    '''   \n",
    "    indices = ()\n",
    "    i = -1\n",
    "    for obj in items:\n",
    "        i = i + 1  \n",
    "        if obj == item:\n",
    "            indices = indices + (i,)\n",
    "    return indices"
   ]
  },
  {
   "cell_type": "code",
   "execution_count": 13,
   "id": "cfd0576c-6266-423b-b909-a464eea9a0ba",
   "metadata": {},
   "outputs": [
    {
     "data": {
      "text/plain": [
       "(0, 2, 4, 6, 9)"
      ]
     },
     "execution_count": 13,
     "metadata": {},
     "output_type": "execute_result"
    }
   ],
   "source": [
    "find_all('abakadabra','a')"
   ]
  },
  {
   "cell_type": "code",
   "execution_count": 14,
   "id": "8305d9b4-5b09-41d8-9da7-adc4d6a946de",
   "metadata": {},
   "outputs": [],
   "source": [
    "# 9)\n",
    "def replace(items, item, new):\n",
    "    '''replace all occurrences of item in items \n",
    "       with new\n",
    "       items: list\n",
    "       item: any\n",
    "       new: any\n",
    "    '''   \n",
    "    n = len(items)\n",
    "    for i in range(n):\n",
    "        if items[i] == item:\n",
    "            items[i] = new"
   ]
  },
  {
   "cell_type": "code",
   "execution_count": 15,
   "id": "ad16162e-c40e-4974-b183-c24072c8d158",
   "metadata": {},
   "outputs": [
    {
     "data": {
      "text/plain": [
       "['A', 'b', 'A', 'k', 'A', 'd', 'A', 'b', 'r', 'A']"
      ]
     },
     "execution_count": 15,
     "metadata": {},
     "output_type": "execute_result"
    }
   ],
   "source": [
    "items = list('abakadabra')\n",
    "replace(items, 'a', 'A')\n",
    "items"
   ]
  },
  {
   "cell_type": "code",
   "execution_count": 16,
   "id": "cf152af2-a258-4829-a22d-1126f9726882",
   "metadata": {},
   "outputs": [
    {
     "data": {
      "text/plain": [
       "('Blättler', 'Stamenkovic', 11)"
      ]
     },
     "execution_count": 16,
     "metadata": {},
     "output_type": "execute_result"
    }
   ],
   "source": [
    "# 10)\n",
    "from students import students\n",
    "\n",
    "names = []\n",
    "for fname, lname, email in students:\n",
    "    names = names + [(lname)]\n",
    "\n",
    "\n",
    "names[0],names[-1], maxlen(names)"
   ]
  },
  {
   "cell_type": "code",
   "execution_count": 17,
   "id": "1d4fccbf-da76-439a-bb25-33609ceb2514",
   "metadata": {},
   "outputs": [
    {
     "name": "stdout",
     "output_type": "stream",
     "text": [
      "M. Blättler    mike.blaettler@edu.teko.ch\n",
      "A. Fernandes   antonio.fernandes@edu.teko.ch\n",
      "S. Kluser      steve.kluser@edu.teko.ch\n",
      "E. Lechmann    eric.lechmann@edu.teko.ch\n",
      "J. Leutwyler   jean.leutwyler@edu.teko.ch\n",
      "S. Kluser      steve.kluser@edu.teko.ch\n",
      "M. Stamenkovic marko.stamenkovic@edu.teko.ch\n"
     ]
    }
   ],
   "source": [
    "fstring = '{:<14} {}'\n",
    "for fname, lname, email in students:\n",
    "    name = str.format('{}. {}', fname[0], lname)\n",
    "    msg = str.format(fstring, name, email)\n",
    "    print(msg)"
   ]
  },
  {
   "cell_type": "code",
   "execution_count": null,
   "id": "16155c9b-8a61-478d-af18-369e23600cbc",
   "metadata": {},
   "outputs": [],
   "source": []
  }
 ],
 "metadata": {
  "kernelspec": {
   "display_name": "Python 3 (ipykernel)",
   "language": "python",
   "name": "python3"
  },
  "language_info": {
   "codemirror_mode": {
    "name": "ipython",
    "version": 3
   },
   "file_extension": ".py",
   "mimetype": "text/x-python",
   "name": "python",
   "nbconvert_exporter": "python",
   "pygments_lexer": "ipython3",
   "version": "3.13.0"
  }
 },
 "nbformat": 4,
 "nbformat_minor": 5
}
