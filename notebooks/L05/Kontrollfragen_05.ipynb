{
 "cells": [
  {
   "cell_type": "markdown",
   "id": "f6cbcec7-777a-4cbc-b646-92836bf551d9",
   "metadata": {},
   "source": [
    "### Kontrollfragen Lektion 5\n",
    "\n",
    "1. Benutze `range`, um die Tuples `(-25, -20, ..., 20, 25)`,\n",
    "   und `(25, 20, ..., -20, -25)` zu erstellen.\n",
    "   Gib zur Kontrolle jeweils die ersten und letzten beiden Elemente aus (benutze Slicenotation).\n",
    "1. Benutze Slicenotation, um aus dem String `s = '0123456789'`\n",
    "   die Teilstrings `'0369'`, `'48'` und `'86420'` herauszugreifen, sowie den String umzudrehen.\n",
    "1. Erstellen einen Platzhalterstring `ffrac` mit Formatierung,\n",
    "   so dass `str.format(ffract, i, n)` ein String der L&auml;nge $6$ ist, der\n",
    "   den Wert von $i/n$ auf 3 Stellen gerundet enth&auml;lt.\n",
    "1. Schreibe eine Funktion `show_fractions(n)`, welche die Werte $1/n,\\ldots, 10/n$ wie folgt auf 3 Stellen gerundet tabellarisch ausgibt.\n",
    "   Z.B. `show_fractions(7)` produziert folgenden Output:\n",
    "```python\n",
    "1/7  =  0.143\n",
    "2/7  =  0.286\n",
    "3/7  =  0.429\n",
    "4/7  =  0.571\n",
    "5/7  =  0.714\n",
    "6/7  =  0.857\n",
    "7/7  =  1.000\n",
    "8/7  =  1.143\n",
    "9/7  =  1.286\n",
    "10/7 =  1.429\n",
    "```\n",
    "5. Schreibe eine Funktion `maxlen(items)`, welche die L&auml;nge des\n",
    "   l&auml;ngsten Strings in der Liste `items` zur&uuml;ckgibt.\n",
    "   Die Liste `items` enth&auml;lt nur Strings.\n",
    "1. Schreibe eine Funktion `count(items, item)`, die zur&uuml;ckgibt, wie oft\n",
    "`item` in `items` vorkommt. Implementiere 2 Varianten, eine mit `continue` und eine ohne.\n",
    "\n",
    "1. Schreibe eine Funktion `find_first(items, item)`, die in einer Liste/Tuple/String `items` nach dem ersten Vorkommen von `item` sucht. Wird `item` gefunden, wird sein Index zur&uuml;ckgegeben, andernfalls -1.\n",
    "\n",
    "1. Schreibe eine Funktion `find_all(items, item)`, die ein Tuple mit allen Positionen $i$ zur&uuml;ckgibt, wo `item` in `items` auftritt.\n",
    "Benutze `continue` nicht.\n",
    "1. Schreibe eine Funktion `replace(items, item, new)`,\n",
    "   welche alle Vorkommen von `item` in `items` durch `new` ersetzt.\n",
    "1. Importiere die Liste `students` aus dem File `students.py`.\n",
    "   Erstelle eine Liste mit allen Nachnamen und finde mit Hilfe von\n",
    "   `maxlen` die L&auml;nge des l&auml;ngsten.\n",
    "   Produziere dann mit Hilfe eines Platzhalterstrings und einer For-Schleife folgenden Output.\n",
    "   \n",
    "```python   \n",
    "M. Blättler    mike.blaettler@edu.teko.ch\n",
    "A. Fernandes   antonio.fernandes@edu.teko.ch\n",
    "S. Kluser      steve.kluser@edu.teko.ch\n",
    "E. Lechmann    eric.lechmann@edu.teko.ch\n",
    "J. Leutwyler   jean.leutwyler@edu.teko.ch\n",
    "S. Kluser      steve.kluser@edu.teko.ch\n",
    "M. Stamenkovic marko.stamenkovic@edu.teko.ch\n",
    "```"
   ]
  },
  {
   "cell_type": "code",
   "execution_count": null,
   "id": "16155c9b-8a61-478d-af18-369e23600cbc",
   "metadata": {},
   "outputs": [],
   "source": []
  }
 ],
 "metadata": {
  "kernelspec": {
   "display_name": "Python 3 (ipykernel)",
   "language": "python",
   "name": "python3"
  },
  "language_info": {
   "codemirror_mode": {
    "name": "ipython",
    "version": 3
   },
   "file_extension": ".py",
   "mimetype": "text/x-python",
   "name": "python",
   "nbconvert_exporter": "python",
   "pygments_lexer": "ipython3",
   "version": "3.13.0"
  }
 },
 "nbformat": 4,
 "nbformat_minor": 5
}
