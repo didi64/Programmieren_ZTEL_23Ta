{
 "cells": [
  {
   "cell_type": "markdown",
   "id": "583317e4-a086-4f66-83b8-88c8ede02270",
   "metadata": {},
   "source": [
    "### Kontrollfragen Lektion 03\n",
    "1. Welche Typen (int, str, ...) haben wir kennengelernt?\n",
    "  Erstelle ein Objekt von jedem dieser Typen und speichere es in einer Variable.\n",
    "  Demonstriere, wie sich die Addition auf diesem Typ verh&auml;lt.\n",
    "  \n",
    "1. Erstelle eine Tabelle, die zeigt, welche Typen sich in welche anderen Typen umwandeln lassen.\n",
    "  Ein **I** in einer Zeile zeigt an, dass die Umwandlung immer,  m&ouml;glich ist,\n",
    "ein **M** steht f&uuml;r  manchmal und ein **N** f&uuml;r nie.  \n",
    "**Beachte**: Jeder Typ l&auml;sst sich in einen String und einen Boolean umwandeln. \n",
    "\n",
    "\n",
    "|  von\\nach       |int|float|str|bool|tuple|list| \n",
    "| :-:     |:-:|:-:  |:-:|:-: |:-:  |:-: |\n",
    "|**int**  |*    |I  |I   |I  |N    |N   |\n",
    "|**float**|I    |*  |I   |I  |N    |N   |  \n",
    "|**str**  |M    |M  |*   |I  |I    |I   |  \n",
    "|**bool** |I    |I  |I   |*  |N    |N   |   \n",
    "|**tuple**|N    |N  |I   |I  |*    |I   |  \n",
    "|**list** |N    |N  |I   |I  |I    |*   |  \n",
    "\n",
    "3. Was ist der wichtigste Unterschied der Typen *tuple* und *list*?\n",
    "  Demonstriere diesen Unterschied anhand eines Beispiels.\n",
    "1. Folgender Code erzeugt einen Fehler. Erkl&auml;re den Fehler.\n",
    "   Repariere den Code durch\n",
    "   1. eine kleine &Auml;nderung der 1. Zeile,\n",
    "   1. eine kleine &Auml;nderung der 2. Zeile,\n",
    "   1. eine kleine &Auml;nderung der 3. Zeile.\n",
    "      \n",
    "  \n",
    "   ```python\n",
    "   \n",
    "    x = 2\n",
    "    y = 3,\n",
    "    print(x + y)\n",
    "    ```\n",
    "    <br>  \n",
    "    \n",
    "1. Definiere eine Funktion und eine Konstante in einem File `stuff.py`.\n",
    "   Importiere dann das Modul `stuff` und zeige, wie sich die darin gespeicherten\n",
    "   Variabeln verwenden lassen k&ouml;nnen.\n",
    "1. Sammle die Funktionen aus den Notebooks `Funktionen_schreiben` (L02) und `Kontrollfragen_A02` und speichere diese in einem File `L02_functions.py` im Ordner `modules`. F&uuml;ge sinnvolle DocStrings ein.\n",
    "1. Erstelle ein Tuple mit W&ouml;rtern.\n",
    "   Schreibe Code, der 2 Tuples erstellt, eines mit den W&ouml;rtern, die den Buchstaben `a`\n",
    "   enthalten, und eines mit den W&ouml;rtern ohne `a`.\n",
    "1. Schreibe Code, der eine Zufallszahl zwischen 0 und 10 erzeugt, den Benutzer auffordert, diese Zahl zu erraten und ausgibt, ob zu klein, zu gross oder richtig geraten wurde.\n",
    "\n",
    "1. Implementiere folgende Funktion:\n",
    "   ```python\n",
    "   def get_and_eval_guess(secret):\n",
    "       '''fragt nach einer Zahl und gibt True zurueck, falls richtig geraten wurde.\n",
    "          gibt zudem aus, ob zu klein, zu gross oder richtig geraten wurde.\n",
    "          secret: int (Geheimzahl)\n",
    "       '''\n",
    "       ...\n",
    "   ```\n",
    " \n",
    "   \n",
    "1. Schreibe Code, der eine Zufallszahl zwischen 0 und 10 erzeugt, und dann\n",
    "   mit einem While-Loop *get_and_eval_guess* solange aufruft, bis die Zahl erraten wurde.\n",
    "   Die Anzahl Versuche wird ausgegeben."
   ]
  },
  {
   "cell_type": "code",
   "execution_count": null,
   "id": "7f1c18ba-ec95-4886-bef1-b6229f09e114",
   "metadata": {},
   "outputs": [],
   "source": [
    "# 1) Typen\n",
    "_int = 123\n",
    "_float = 1.23\n",
    "_str = 'abc'\n",
    "_bool = True\n",
    "_tuple = ('Max', 'Muster')\n",
    "_list = [1, 2, 3]\n",
    "objects = (_int, _float, _str, _bool, _tuple, _list)"
   ]
  },
  {
   "cell_type": "code",
   "execution_count": null,
   "id": "42ea97ba-1a3f-4975-a67d-041fff9457d9",
   "metadata": {},
   "outputs": [],
   "source": [
    "# Addition der versch. Typen\n",
    "for obj in objects:\n",
    "    print(type(obj))\n",
    "    print(obj, '+', obj, '=', obj + obj)\n",
    "    print('-' * 60)"
   ]
  },
  {
   "cell_type": "code",
   "execution_count": null,
   "id": "6f6397b9-78ef-4664-a430-07a5609d3312",
   "metadata": {},
   "outputs": [],
   "source": [
    "#2) siehe oben"
   ]
  },
  {
   "cell_type": "code",
   "execution_count": null,
   "id": "0fd9a287-3613-4b41-b6a5-38024c7c3657",
   "metadata": {},
   "outputs": [],
   "source": [
    "# 3) Strings und Tuples sind immutable,\n",
    "# nur Listen kann man modifizieren\n",
    "\n",
    "s = 'abc'\n",
    "tp = tuple(s)\n",
    "lst = list(s)\n",
    "\n",
    "# s[1] = 'x'  # TypeError: 'str' object does not support item assignment\n",
    "# tp[1] = 'x'  # TypeError: 'tuple' object does not support item assignment\n",
    "lst[1] = 'x'\n",
    "lst"
   ]
  },
  {
   "cell_type": "code",
   "execution_count": null,
   "id": "80b89123-eb92-49cb-b185-8fc5fe9d15c9",
   "metadata": {},
   "outputs": [],
   "source": [
    "# zu korrigierender Code\n",
    "x = 2\n",
    "y = 3,\n",
    "print(x + y)"
   ]
  },
  {
   "cell_type": "code",
   "execution_count": null,
   "id": "483b650e-cba8-48a9-9e10-69cf9f94ba5a",
   "metadata": {},
   "outputs": [],
   "source": [
    "# 4) 3, ist (3,), also ein tuple, kein int\n",
    "\n",
    "# x und y, beides int\n",
    "x = 2\n",
    "y = 3\n",
    "print(x + y)\n",
    "\n",
    "# x und y, beides tuple\n",
    "x = 2,\n",
    "y = 3,\n",
    "print(x + y)"
   ]
  },
  {
   "cell_type": "code",
   "execution_count": null,
   "id": "39053e1d-29e9-4067-9c91-0b9f84168af5",
   "metadata": {},
   "outputs": [],
   "source": [
    "%%file stuff.py  # 5) Modul erstellen\n",
    "x = 123\n",
    "\n",
    "\n",
    "def f(x):\n",
    "    print(x)"
   ]
  },
  {
   "cell_type": "code",
   "execution_count": null,
   "id": "fc9a0dc9-5166-455f-8780-56b89e68b846",
   "metadata": {},
   "outputs": [],
   "source": [
    "%reset -f --aggressive  # Modul stuff als ganzes importieren\n",
    "import stuff\n",
    "\n",
    "print(stuff.x)\n",
    "stuff.f('test')"
   ]
  },
  {
   "cell_type": "code",
   "execution_count": null,
   "id": "9626d7e8-781b-49d1-b3d3-759d554212a2",
   "metadata": {},
   "outputs": [],
   "source": [
    "%reset -f --aggressive  # x und f aus Modul stuff importieren\n",
    "from stuff import x, f\n",
    "print(x)\n",
    "f('test')"
   ]
  },
  {
   "cell_type": "code",
   "execution_count": null,
   "id": "3641f89d-1294-459f-bb5f-511b524ee9f9",
   "metadata": {},
   "outputs": [],
   "source": [
    "%reset -f --aggressive  # x und f aus Modul importieren und umbenennen\n",
    "from stuff import x as my_x\n",
    "from stuff import f as my_f\n",
    "print(my_x)\n",
    "my_f('test')"
   ]
  },
  {
   "cell_type": "code",
   "execution_count": null,
   "id": "c045c3a5-a33d-4076-ad15-5c2010e8f39d",
   "metadata": {},
   "outputs": [],
   "source": [
    "#6) L02_function.py"
   ]
  },
  {
   "cell_type": "code",
   "execution_count": null,
   "id": "8ec05d5b-e1f5-46fa-b872-5d3ce5a1bc4b",
   "metadata": {},
   "outputs": [],
   "source": [
    "# 7)\n",
    "words = ['abde', 'asfxasd','asfas','asfasf','asfxas','asdfas']\n",
    "\n",
    "words_with_x = []\n",
    "words_without_x = []\n",
    "\n",
    "for word in words:\n",
    "    if 'x' in word:\n",
    "        words_with_x += [word]\n",
    "    else:\n",
    "        words_without_x += [word]\n",
    "        \n",
    "words_with_x, words_without_x"
   ]
  },
  {
   "cell_type": "code",
   "execution_count": null,
   "id": "200c198d-1eac-476c-b025-757d9801958a",
   "metadata": {},
   "outputs": [],
   "source": [
    "# 8\n",
    "import random\n",
    "nbr = random.randint(0, 10)\n",
    "guess = int(input('Errate Zufallszahl zw. 0 und 10:'))\n",
    "if guess < nbr:\n",
    "    print('zu klein!')\n",
    "elif guess == nbr:\n",
    "    print('korrekt!')\n",
    "else:\n",
    "    print('zu gross!')"
   ]
  },
  {
   "cell_type": "code",
   "execution_count": null,
   "id": "cd9b29f1-6625-4bd2-8e25-3a73c2f371ae",
   "metadata": {},
   "outputs": [],
   "source": [
    "# 9\n",
    "def get_and_eval_guess(secret):\n",
    "    guess = int(input('Errate Zufallszahl zw. 1 und 10:'))\n",
    "    if guess < secret:\n",
    "        print('zu klein!')\n",
    "    elif guess == secret:\n",
    "        print('korrekt!')\n",
    "        return True\n",
    "    else:\n",
    "        print('zu gross!')"
   ]
  },
  {
   "cell_type": "code",
   "execution_count": null,
   "id": "172d69e7-97fb-46df-95ed-862015688665",
   "metadata": {},
   "outputs": [],
   "source": [
    "secret = 7\n",
    "get_and_eval_guess(secret)"
   ]
  },
  {
   "cell_type": "code",
   "execution_count": null,
   "id": "f2ddda06-aa30-4bf0-8e60-0037d07c4a62",
   "metadata": {},
   "outputs": [],
   "source": [
    "# 10\n",
    "secret = random.randint(0, 10)\n",
    "attempts = 1\n",
    "\n",
    "while not get_and_eval_guess(secret):\n",
    "    attempts = attempts + 1\n",
    "print('Anzahl Versuche:', attempts)"
   ]
  },
  {
   "cell_type": "code",
   "execution_count": null,
   "id": "69a6285a-4ff9-480c-9a35-2f2ef4f4cba4",
   "metadata": {},
   "outputs": [],
   "source": []
  }
 ],
 "metadata": {
  "kernelspec": {
   "display_name": "Python 3 (ipykernel)",
   "language": "python",
   "name": "python3"
  },
  "language_info": {
   "codemirror_mode": {
    "name": "ipython",
    "version": 3
   },
   "file_extension": ".py",
   "mimetype": "text/x-python",
   "name": "python",
   "nbconvert_exporter": "python",
   "pygments_lexer": "ipython3",
   "version": "3.13.0"
  }
 },
 "nbformat": 4,
 "nbformat_minor": 5
}
