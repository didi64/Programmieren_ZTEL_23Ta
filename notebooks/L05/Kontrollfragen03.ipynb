{
 "cells": [
  {
   "cell_type": "markdown",
   "id": "583317e4-a086-4f66-83b8-88c8ede02270",
   "metadata": {},
   "source": [
    "### Kontrollfragen Lektion 03\n",
    "1. Welche Typen (int, str, ...) haben wir kennengelernt?\n",
    "  Erstelle ein Objekt von jedem dieser Typen und speichere es in einer Variable.\n",
    "  Demonstriere, wie sich die Addition auf diesem Typ verh&auml;lt.\n",
    "  \n",
    "1. Erstelle eine Tabelle, die zeigt, welche Typen sich in welche anderen Typen umwandeln lassen.\n",
    "  Ein **I** in einer Zeile zeigt an, dass die Umwandlung immer,  m&ouml;glich ist,\n",
    "ein **M** steht f&uuml;r  manchmal und ein **N** f&uuml;r nie.\n",
    "\n",
    "| von\\nach        |int|float|str|bool|tuple|list| \n",
    "| :-:     |:-:|:-:  |:-:|:-: |:-:  |:-: |\n",
    "|**int**  |*    |?  |?   |?  |?    |?   |\n",
    "|**float**|?    |*  |?   |?  |?    |?   |  \n",
    "|**str**  |M    |M  |*   |?  |?    |?   |  \n",
    "|**bool** |?    |?  |?   |*  |?    |?   |   \n",
    "|**tuple**|?    |?  |?   |?  |*    |?   |  \n",
    "|**list** |?    |?  |?   |?  |?    |*   |  \n",
    "\n",
    "3. Was ist der wichtigste Unterschied der Typen *tuple* und *list*?\n",
    "  Demonstriere diesen Unterschied anhand eines Beispiels.\n",
    "1. Folgender Code erzeugt einen Fehler. Erkl&auml;re den Fehler.\n",
    "   Repariere den Code durch\n",
    "   1. eine kleine &Auml;nderung der 1. Zeile,\n",
    "   1. eine kleine &Auml;nderung der 2. Zeile,\n",
    "   1. eine kleine &Auml;nderung der 3. Zeile.\n",
    "      \n",
    "  \n",
    "   ```python\n",
    "   \n",
    "    x = 2\n",
    "    y = 3,\n",
    "    print(x + y)\n",
    "    ```\n",
    "    <br>  \n",
    "    \n",
    "1. Definiere eine Funktion und eine Konstante in einem File `stuff.py`.\n",
    "   Importiere dann das Modul `stuff` und zeige, wie sich die darin gespeicherten\n",
    "   Variabeln verwenden lassen k&ouml;nnen.\n",
    "1. Sammle die Funktionen aus den Notebooks `Funktionen_schreiben` (L02) und `Kontrollfragen_A02` und speichere diese in einem File `L02_functions.py` im Ordner `modules`. F&uuml;ge sinnvolle DocStrings ein.\n",
    "1. Erstelle ein Tuple mit W&ouml;rtern.\n",
    "   Schreibe Code, der 2 Tuples erstellt, eines mit den W&ouml;rtern, die den Buchstaben `a`\n",
    "   enthalten, und eines mit den W&ouml;rtern ohne `a`.\n",
    "1. Schreibe Code, der eine Zufallszahl zwischen 0 und 10 erzeugt, den Benutzer auffordert, diese Zahl zu erraten und ausgibt, ob zu klein, zu gross oder richtig geraten wurde.\n",
    "\n",
    "1. Implementiere folgende Funktion:\n",
    "   ```python\n",
    "   def get_and_eval_guess(secret):\n",
    "       '''fragt nach einer Zahl und gibt True zurueck, falls richtig geraten wurde.\n",
    "          gibt zudem aus, ob zu klein, zu gross oder richtig geraten wurde.\n",
    "          secret: int (Geheimzahl)\n",
    "       '''\n",
    "       ...\n",
    "   ```\n",
    " \n",
    "   \n",
    "1. Schreibe Code, der eine Zufallszahl zwischen 0 und 10 erzeugt, und dann\n",
    "   mit einem While-Loop *get_and_eval_guess* solange aufruft, bis die Zahl erraten wurde.\n",
    "   Die Anzahl Versuche wird ausgegeben."
   ]
  },
  {
   "cell_type": "code",
   "execution_count": null,
   "id": "a9bc8be3-25f4-4623-958d-a7fb0015f7ff",
   "metadata": {},
   "outputs": [],
   "source": []
  }
 ],
 "metadata": {
  "kernelspec": {
   "display_name": "Python 3 (ipykernel)",
   "language": "python",
   "name": "python3"
  },
  "language_info": {
   "codemirror_mode": {
    "name": "ipython",
    "version": 3
   },
   "file_extension": ".py",
   "mimetype": "text/x-python",
   "name": "python",
   "nbconvert_exporter": "python",
   "pygments_lexer": "ipython3",
   "version": "3.13.0"
  }
 },
 "nbformat": 4,
 "nbformat_minor": 5
}
