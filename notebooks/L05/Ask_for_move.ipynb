{
 "cells": [
  {
   "cell_type": "markdown",
   "id": "b52f3fb4-d619-4d00-a0d0-a2511b9be324",
   "metadata": {},
   "source": [
    "### NIM-Spieler nach Zug fragen  \n",
    "Wir wollen einen NIM-Spieler nach einem Zug fragen (\n",
    "von welchem Haufen sollen wieviele Steine entfernt werden). \n",
    "Dem Spieler sollen die g&uuml;ltigen Optionen angezeigt werden.\n",
    "Es soll solange nachgefragt werden, bis eine g&uuml;ltige Eingabe erhalten wird.  \n",
    "\n",
    "- Steine k&ouml;nnen nur von nicht-leeren Haufen entfernt werden.\n",
    "  Eine Funktion `get_options(heaps)` soll ein Tuple mit den\n",
    "  m&ouml;glichen Eingaben f&uuml;r die Frage nach dem Haufen zur&uuml;ckgeben.\n",
    "- Es muss mind. ein Stein entfernt werden.\n",
    "  Von einem nicht-leeren Haufen mit $n$ Steinen k&ouml;nnen\n",
    "  $1$ bis $n$ Steine entfernt werden.\n",
    "  Eine g&uuml;ltige Antwort auf die Frage 'Wieviele?' muss in\n",
    "  `range(1, n+1)` liegen.\n"
   ]
  },
  {
   "cell_type": "code",
   "execution_count": null,
   "id": "4460fdd6-b2f3-48c1-8b8a-be8dd76adbc9",
   "metadata": {},
   "outputs": [],
   "source": [
    "# Mitgliedschaft in range testen\n",
    "0 in range(1, 4), \\\n",
    "1 in range(1, 4), \\\n",
    "3 in range(1, 4), \\\n",
    "4 in range(1, 4)"
   ]
  },
  {
   "cell_type": "code",
   "execution_count": null,
   "id": "6c4cef68-84ac-47ed-82ba-240f61c8f6bd",
   "metadata": {},
   "outputs": [],
   "source": [
    "# Ausgangspunkt\n",
    "def ask_for_move(player, heaps):\n",
    "    print(player)\n",
    "    heap = int(input('Haufen?')) - 1\n",
    "    n = int(input('Wieviele?'))\n",
    "    return (heap, n)"
   ]
  },
  {
   "cell_type": "code",
   "execution_count": null,
   "id": "b0328544-32bd-4c1e-9fd3-4ca5916bd2b7",
   "metadata": {},
   "outputs": [],
   "source": [
    "def get_options(heaps):\n",
    "    options = ()\n",
    "    i = 1\n",
    "    for n in heaps:\n",
    "        if n > 0:\n",
    "            options = options + (i,)\n",
    "        i = i + 1\n",
    "    return options"
   ]
  },
  {
   "cell_type": "code",
   "execution_count": null,
   "id": "504b4426-43e1-412b-acfe-089225c6c280",
   "metadata": {},
   "outputs": [],
   "source": [
    "heaps = [0, 2, 0, 5]\n",
    "get_options(heaps)"
   ]
  },
  {
   "cell_type": "code",
   "execution_count": null,
   "id": "d3ea1b63-9196-45ec-828f-2cedd27ce032",
   "metadata": {},
   "outputs": [],
   "source": [
    "# prompt String zusammensetzen\n",
    "i = 3\n",
    "prompt = 'Wieviele (1 - ' + str(heaps[i]) + ')?'\n",
    "prompt"
   ]
  },
  {
   "cell_type": "code",
   "execution_count": null,
   "id": "fdd4829c-76bc-41c8-9a6f-d0490570d894",
   "metadata": {},
   "outputs": [],
   "source": [
    "def ask_for_move(player, heaps):\n",
    "    print(player)\n",
    "    options = get_options(heaps)\n",
    "    prompt = 'Haufen ' + str(options) + '?'\n",
    "    i = int(input(prompt)) - 1\n",
    "    prompt = 'Wieviele (1 - ' + str(heaps[i]) + ')?'\n",
    "    n = int(input(prompt))\n",
    "    return (i, n)"
   ]
  },
  {
   "cell_type": "code",
   "execution_count": null,
   "id": "0c9c714a-a0c3-44dc-821a-652b94e208f5",
   "metadata": {},
   "outputs": [],
   "source": [
    "ask_for_move('X', [2, 0, 5])"
   ]
  },
  {
   "cell_type": "markdown",
   "id": "5e364c3b-d865-458c-bd95-ea825f08c520",
   "metadata": {},
   "source": [
    "**Solange fragen, bis g&uuml;tige Antwort erhalten wird**"
   ]
  },
  {
   "cell_type": "code",
   "execution_count": null,
   "id": "92e95a86-2876-4328-be80-f497d15126f4",
   "metadata": {},
   "outputs": [],
   "source": [
    "options = (1, 3, 5)\n",
    "while True:\n",
    "    i = int(input('Option')) \n",
    "    if i in options:\n",
    "        break\n",
    "print('Gueltige Eingabe:', i)  "
   ]
  },
  {
   "cell_type": "code",
   "execution_count": null,
   "id": "7455a8a0-a398-4c7a-bb83-6d0091d64429",
   "metadata": {},
   "outputs": [],
   "source": [
    "def ask_for_option(prompt, options):\n",
    "    while True:\n",
    "        opt = int(input(prompt)) \n",
    "        if opt in options:\n",
    "            return opt"
   ]
  },
  {
   "cell_type": "code",
   "execution_count": null,
   "id": "75d73f41-0ec8-4009-8f4a-1a7bee8537b5",
   "metadata": {},
   "outputs": [],
   "source": [
    "options = (2, 6, 8)\n",
    "prompt = str(options)\n",
    "ask_for_option(prompt, options)"
   ]
  },
  {
   "cell_type": "code",
   "execution_count": null,
   "id": "3afae8da-14de-4758-8173-8a7b3195f912",
   "metadata": {},
   "outputs": [],
   "source": [
    "def ask_for_move(player, heaps):\n",
    "    print(player)\n",
    "    options = get_options(heaps)\n",
    "    prompt = 'Haufen ' + str(options) + '?'\n",
    "    heap = ask_for_option(prompt, options) - 1\n",
    "    options = range(1, heaps[heap] +1)\n",
    "    prompt = 'Wieviele ' + str(options) + '?'\n",
    "    n = ask_for_option(prompt, options)\n",
    "    return (heap, n)"
   ]
  },
  {
   "cell_type": "code",
   "execution_count": null,
   "id": "a5ea355e-5aa7-4113-aa7a-7aa979ad61ee",
   "metadata": {},
   "outputs": [],
   "source": [
    "ask_for_move('X', (1, 0, 3, 0, 0, 4))"
   ]
  },
  {
   "cell_type": "code",
   "execution_count": null,
   "id": "8c98a5cc-1a5e-417c-a1f4-799db4cc6591",
   "metadata": {},
   "outputs": [],
   "source": []
  },
  {
   "cell_type": "markdown",
   "id": "0d38381f-130a-41b8-89d8-1cf45bdd7842",
   "metadata": {},
   "source": [
    "**Funktionen im Modul `nim_helpers` speichern**"
   ]
  },
  {
   "cell_type": "code",
   "execution_count": null,
   "id": "5d1caf71-2409-4bc3-b1cb-832591dda452",
   "metadata": {},
   "outputs": [],
   "source": [
    "%%file nim_helpers.py\n",
    "def get_options(heaps):\n",
    "    options = ()\n",
    "    i = 1\n",
    "    for n in heaps:\n",
    "        if n > 0:\n",
    "            options = options + (i,)\n",
    "        i = i + 1\n",
    "    return options\n",
    "\n",
    "\n",
    "def ask_for_option(prompt, options):\n",
    "    while True:\n",
    "        opt = int(input(prompt)) \n",
    "        if opt in options:\n",
    "            return opt\n",
    "\n",
    "\n",
    "def ask_for_move(player, heaps):\n",
    "    print(player)\n",
    "    options = get_options(heaps)\n",
    "    prompt = 'Haufen ' + str(options) + '?'\n",
    "    heap = ask_for_option(prompt, options) - 1\n",
    "    options = range(1, heaps[heap] +1)\n",
    "    prompt = 'Wieviele ' + str(options) + '?'\n",
    "    n = ask_for_option(prompt, options)\n",
    "    return (heap, n)\n",
    "\n",
    "\n",
    "def update_state(move, heaps):\n",
    "    heap, n = move\n",
    "    heaps[heap] = max(0, heaps[heap] - n)\n",
    "    print(heaps)"
   ]
  },
  {
   "cell_type": "code",
   "execution_count": null,
   "id": "5fa37e1c-467c-47f6-b121-0e173e33a6fd",
   "metadata": {},
   "outputs": [],
   "source": []
  }
 ],
 "metadata": {
  "kernelspec": {
   "display_name": "Python 3 (ipykernel)",
   "language": "python",
   "name": "python3"
  },
  "language_info": {
   "codemirror_mode": {
    "name": "ipython",
    "version": 3
   },
   "file_extension": ".py",
   "mimetype": "text/x-python",
   "name": "python",
   "nbconvert_exporter": "python",
   "pygments_lexer": "ipython3",
   "version": "3.13.0"
  }
 },
 "nbformat": 4,
 "nbformat_minor": 5
}
