{
 "cells": [
  {
   "cell_type": "markdown",
   "id": "bf67eda0-3551-4c66-9e42-2e52e51b0f3a",
   "metadata": {},
   "source": [
    "### Die Operatoren `+=` und `*=`\n",
    "Oft will man den Wert einer Variable erh&ouml;hen oder z.B. verdoppeln.\n",
    "```python\n",
    "x = x + 5\n",
    "y = y * 2\n",
    "```\n",
    "Dies kann kompakter wie folgt ausgedr&uuml;ckt werden:\n",
    "```python\n",
    "x  += 5\n",
    "y  *= 2\n",
    "```\n",
    "\n",
    "**Achtung**: Ist `x` **mutable** (z.B. eine Liste), dann macht `x = x + y` **nicht** \n",
    "das Selbe wie `x += y`!"
   ]
  },
  {
   "cell_type": "markdown",
   "id": "f3bcb25a-86b6-4068-b4cf-8fce2e87448e",
   "metadata": {},
   "source": [
    "***\n",
    "Bei **immutable** Objekten wie Integers und Strings hat `x +=y` den gleichen Effekt wie\n",
    "`x = x + y`."
   ]
  },
  {
   "cell_type": "code",
   "execution_count": 26,
   "id": "e39bde22-da53-4384-aae8-36ecb9f9762d",
   "metadata": {},
   "outputs": [
    {
     "name": "stdout",
     "output_type": "stream",
     "text": [
      "10\n"
     ]
    }
   ],
   "source": [
    "# += mit int\n",
    "tot = 0\n",
    "for i in range(5):\n",
    "    # Kurzform fuer tot = tot + i \n",
    "    tot += i \n",
    "print(tot)    "
   ]
  },
  {
   "cell_type": "code",
   "execution_count": 27,
   "id": "9fabad78-428d-4946-8d2a-f5dcea902504",
   "metadata": {},
   "outputs": [
    {
     "name": "stdout",
     "output_type": "stream",
     "text": [
      "01234\n"
     ]
    }
   ],
   "source": [
    "# += mit str\n",
    "word = ''\n",
    "for i in range(5):\n",
    "    # Kurzform fuer word = word + str(i) \n",
    "    word += str(i) \n",
    "print(word)  "
   ]
  },
  {
   "cell_type": "markdown",
   "id": "fbdf4a16-274b-4956-89fd-64802d3c3736",
   "metadata": {},
   "source": [
    "***\n",
    "Bei mutable Objekten wie Listen hat  `x +=y` **nicht** den gleichen Effekt wie\n",
    "`x = x + y`.  \n",
    "\n",
    "**Addition** `+` von Listen:"
   ]
  },
  {
   "cell_type": "code",
   "execution_count": 47,
   "id": "b0055057-9ada-4e4c-87df-fd7847614658",
   "metadata": {},
   "outputs": [
    {
     "name": "stdout",
     "output_type": "stream",
     "text": [
      "lst_1 = [1, 2, 3]\n",
      "lst_2 = [1, 2, 3]\n"
     ]
    }
   ],
   "source": [
    "lst_1 = [1, 2]\n",
    "lst_2 = lst_1\n",
    "\n",
    "# Fuegt Element zu lst_1 hinzu\n",
    "# Beachte: lst_1 und lst_2 referenzieren die gleiche Liste!\n",
    "lst_1.append(3)\n",
    "\n",
    "print('lst_1 = {}'.format(lst_1))\n",
    "print('lst_2 = {}'.format(lst_2))"
   ]
  },
  {
   "cell_type": "markdown",
   "id": "5a098c03-054d-42a2-a92b-0296c4fb9da3",
   "metadata": {},
   "source": [
    "***\n",
    "Die **Addition** von Listen mit `+`  erzeugt einen neue Liste\n",
    "***"
   ]
  },
  {
   "cell_type": "code",
   "execution_count": 40,
   "id": "6f3ad646-4a08-44fb-9d76-61604fdbcbdd",
   "metadata": {},
   "outputs": [
    {
     "name": "stdout",
     "output_type": "stream",
     "text": [
      "lst = [1, 2, 3, 4, 5]\n",
      "lst_1 = [1, 2, 3]\n",
      "lst_2 = [1, 2, 3]\n"
     ]
    }
   ],
   "source": [
    "lst = lst_1 + [4, 5]\n",
    "\n",
    "# die Addition + gibt eine NEUE Liste zurueck!\n",
    "# lst_1 wird nicht modifiziert\n",
    "\n",
    "print('lst = {}'.format(lst))\n",
    "print('lst_1 = {}'.format(lst_1))\n",
    "print('lst_2 = {}'.format(lst_2))"
   ]
  },
  {
   "cell_type": "code",
   "execution_count": 48,
   "id": "3c405547-75e7-4752-a6e8-5572df0e9226",
   "metadata": {},
   "outputs": [
    {
     "name": "stdout",
     "output_type": "stream",
     "text": [
      "lst_1 = [1, 2, 3, 'vier', 'fuenf']\n",
      "lst_2 = [1, 2, 3]\n"
     ]
    }
   ],
   "source": [
    "# lst_1 ist nun eine neue Liste, \n",
    "# lst_1 und lst_2 referenzieren nicht mehr die gleiche Liste\n",
    "lst_1 = lst_1 + ['vier', 'fuenf']\n",
    "\n",
    "# lst_1 ist eine neue Liste\n",
    "print('lst_1 = {}'.format(lst_1))\n",
    "\n",
    "# lst_2 ist unveraendert!\n",
    "print('lst_2 = {}'.format(lst_2))"
   ]
  },
  {
   "cell_type": "markdown",
   "id": "4fe48ba4-2317-4ff9-8b08-8f1879dd138b",
   "metadata": {},
   "source": [
    "***\n",
    "`+=` **verl&auml;ngert** (extends) eine Liste (vgl. `list.extend`):"
   ]
  },
  {
   "cell_type": "code",
   "execution_count": 44,
   "id": "dddb11c0-c99f-4b42-a402-c2311003d618",
   "metadata": {},
   "outputs": [
    {
     "name": "stdout",
     "output_type": "stream",
     "text": [
      "lst_1 = [1, 2, 3, 4, 5]\n",
      "lst_2 = [1, 2, 3, 4, 5]\n"
     ]
    }
   ],
   "source": [
    "lst_1 = [1, 2]\n",
    "lst_2 = lst_1\n",
    "\n",
    "# modifiziert die Liste lst_1\n",
    "# Beachte: lst_1 und lst_2 referenzieren die gleiche Liste!\n",
    "lst_1 += [3, 4, 5]\n",
    "\n",
    "print('lst_1 = {}'.format(lst_1))\n",
    "print('lst_2 = {}'.format(lst_2))"
   ]
  },
  {
   "cell_type": "code",
   "execution_count": 45,
   "id": "d12f0177-a4e9-4eea-913e-dd2e6ea33283",
   "metadata": {},
   "outputs": [
    {
     "name": "stdout",
     "output_type": "stream",
     "text": [
      "lst_1 = [1, 2, 3, 4, 5]\n",
      "lst_2 = [1, 2, 3, 4, 5]\n"
     ]
    }
   ],
   "source": [
    "lst_1 = [1, 2]\n",
    "lst_2 = lst_1\n",
    "\n",
    "# lst_1 += [3, 4, 5] hat den gleichen Effekt wie\n",
    "lst_1.extend([3, 4, 5])\n",
    "\n",
    "print('lst_1 = {}'.format(lst_1))\n",
    "print('lst_2 = {}'.format(lst_2))"
   ]
  },
  {
   "cell_type": "markdown",
   "id": "d9e3f055-3c31-40d9-87e5-ad036209f78f",
   "metadata": {},
   "source": [
    "***\n",
    "**Aufgabe**:\n",
    "Was machen die Funktionen `f` und `g`?  \n",
    "Illustriere anhand von Beispielen, dass die Funktionen `f` und `g` unterschiedliche Dinge tun.\n",
    "Visuallisiere di\n",
    "auf [Pythontutor](https://pythontutor.com/render.html#mode=display).\n",
    "\n",
    "\n",
    "```python\n",
    "def f(lst):\n",
    "    lst = lst + ['neues Element']\n",
    "    return lst\n",
    "\n",
    "def g(lst):\n",
    "    lst += ['neues Element']\n",
    "    return lst\n",
    "\n",
    "```\n",
    "Visuallisiere die Ausf&uuml;hrung dieser Funktionen\n",
    "auf [Pythontutor](https://pythontutor.com/render.html#mode=display)  \n",
    "(Copy-Paste folgenden Code und klicke `Visualize Execution`)\n",
    "\n",
    "```python\n",
    "def f(lst):\n",
    "    lst = lst + ['neues Element']\n",
    "    return lst\n",
    "\n",
    "x = [1, 2, 3]\n",
    "y = f(x)\n",
    "```\n",
    "\n",
    "\n",
    "Und was machen diese beiden Funktionen (obige Funktionen ohne `return`-Anweisung)? \n",
    "Illustriere ihr unterschiedliches Verhalten ebenfalls mit einem Beispiel.\n",
    "```python\n",
    "def f_1(lst):\n",
    "    lst = lst + ['neues Element']\n",
    "    \n",
    "def g_1(lst):\n",
    "    lst += ['neues Element']\n",
    "   \n",
    "```"
   ]
  },
  {
   "cell_type": "code",
   "execution_count": null,
   "id": "e5b44489-c1d7-4856-85c2-b62e41c009ad",
   "metadata": {},
   "outputs": [],
   "source": []
  }
 ],
 "metadata": {
  "author": "dieter.probst@gmail.com",
  "kernelspec": {
   "display_name": "Python 3 (ipykernel)",
   "language": "python",
   "name": "python3"
  },
  "language_info": {
   "codemirror_mode": {
    "name": "ipython",
    "version": 3
   },
   "file_extension": ".py",
   "mimetype": "text/x-python",
   "name": "python",
   "nbconvert_exporter": "python",
   "pygments_lexer": "ipython3",
   "version": "3.8.10"
  }
 },
 "nbformat": 4,
 "nbformat_minor": 5
}
