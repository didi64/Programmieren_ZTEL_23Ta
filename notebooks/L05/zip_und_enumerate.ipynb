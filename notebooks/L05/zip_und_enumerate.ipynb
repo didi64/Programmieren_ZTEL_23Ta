{
 "cells": [
  {
   "cell_type": "markdown",
   "id": "2713f052-8b02-4423-a8c7-615f2a80db14",
   "metadata": {},
   "source": [
    "# enumerate ( aufz&auml;hlen) und zip (reissverschlussartig kombinieren)\n",
    "Oft kommt es vor, dass man beim Iterieren &uuml;ber eine Liste sowohl das Element braucht, wie auch die Position an welcher das Element in der Liste auftritt.  \n",
    "Oft will man auch &uuml;ber entsprechende Elemente zweier oder mehrerer Listen iterieren.\n"
   ]
  },
  {
   "cell_type": "code",
   "execution_count": 3,
   "id": "0aad3083-e568-40e2-b47e-cb8a4eee4fc2",
   "metadata": {},
   "outputs": [
    {
     "data": {
      "text/plain": [
       "['a', 'b', 'c', 'd', 'e']"
      ]
     },
     "execution_count": 3,
     "metadata": {},
     "output_type": "execute_result"
    }
   ],
   "source": [
    "letters  = list('abcde')\n",
    "letters"
   ]
  },
  {
   "cell_type": "markdown",
   "id": "a6b8a362-d0a9-4bc7-b9b5-5abca844900c",
   "metadata": {},
   "source": [
    "***\n",
    "&Uuml;ber Index und Element iterieren.  \n",
    "In vielen Sprachen macht man das so:\n",
    "***"
   ]
  },
  {
   "cell_type": "code",
   "execution_count": 27,
   "id": "8483aeb9-a970-4fc3-8bbb-3554e18ba4f5",
   "metadata": {},
   "outputs": [
    {
     "name": "stdout",
     "output_type": "stream",
     "text": [
      "0ter Buchstabe: a\n",
      "1ter Buchstabe: b\n",
      "2ter Buchstabe: c\n",
      "3ter Buchstabe: d\n"
     ]
    }
   ],
   "source": [
    "n = len(letters)\n",
    "for i in range(n):\n",
    "    letter = letters[i]\n",
    "    print('{}ter Buchstabe: {}'.format(i, letter))"
   ]
  },
  {
   "cell_type": "markdown",
   "id": "be00cf96-103d-4b22-992f-a741594f7142",
   "metadata": {},
   "source": [
    "***\n",
    "In **Python** macht man das **besser** mit Hilfe von `enumerate`:\n",
    "***"
   ]
  },
  {
   "cell_type": "code",
   "execution_count": 11,
   "id": "e6e42fa5-e727-4184-8b06-b4656d75d912",
   "metadata": {},
   "outputs": [
    {
     "name": "stdout",
     "output_type": "stream",
     "text": [
      "0ter Buchstabe: a\n",
      "1ter Buchstabe: b\n",
      "2ter Buchstabe: c\n",
      "3ter Buchstabe: d\n",
      "4ter Buchstabe: e\n"
     ]
    }
   ],
   "source": [
    "for i,letter in enumerate(letters):\n",
    "    print('{}ter Buchstabe: {}'.format(i, letter))"
   ]
  },
  {
   "cell_type": "markdown",
   "id": "e48caafc-068c-45ef-a31f-c59d28c712a1",
   "metadata": {},
   "source": [
    "***\n",
    "Oft muss man simultan &uuml;ber mehrere Listen iterieren.  \n",
    "In vielen Sprachen macht man das so:\n",
    "***"
   ]
  },
  {
   "cell_type": "code",
   "execution_count": 14,
   "id": "a6649fb6-181f-45f5-a7a5-8957da5ca848",
   "metadata": {},
   "outputs": [
    {
     "name": "stdout",
     "output_type": "stream",
     "text": [
      "Zahl: 1, Buchstabe: a\n",
      "Zahl: 2, Buchstabe: b\n",
      "Zahl: 3, Buchstabe: c\n",
      "Zahl: 4, Buchstabe: d\n"
     ]
    }
   ],
   "source": [
    "numbers = [1, 2, 3, 4, 5]\n",
    "letters = list('abcd')\n",
    "\n",
    "n1 = len(numbers)\n",
    "n2 = len(letters)\n",
    "n = min(n1, n2)\n",
    "\n",
    "for i in range(n):\n",
    "    number  = numbers[i]\n",
    "    letter = letters[i]\n",
    "    print('Zahl: {}, Buchstabe: {}'.format(number, letter))"
   ]
  },
  {
   "cell_type": "markdown",
   "id": "96c1069c-9ef3-4d7e-be3d-2cdcf5587a90",
   "metadata": {},
   "source": [
    "***\n",
    "In **Python** macht man das **besser** mit Hilfe von `zip`:\n",
    "***"
   ]
  },
  {
   "cell_type": "code",
   "execution_count": 16,
   "id": "4afc84e5-5100-48bc-bc7e-8f85169fa97a",
   "metadata": {},
   "outputs": [
    {
     "name": "stdout",
     "output_type": "stream",
     "text": [
      "Zahl: 1, Buchstabe: a\n",
      "Zahl: 2, Buchstabe: b\n",
      "Zahl: 3, Buchstabe: c\n",
      "Zahl: 4, Buchstabe: d\n"
     ]
    }
   ],
   "source": [
    "numbers = [1, 2, 3, 4, 5]\n",
    "letters = list('abcd')\n",
    "\n",
    "for number, letter in zip(numbers, letters):\n",
    "    print('Zahl: {}, Buchstabe: {}'.format(number, letter))"
   ]
  },
  {
   "cell_type": "markdown",
   "id": "f9bcdbfa-708e-408a-b059-eccfebfeeb6e",
   "metadata": {},
   "source": [
    "***\n",
    "Das geht auch f&uuml;r mehr als zwei Listen:\n",
    "***"
   ]
  },
  {
   "cell_type": "code",
   "execution_count": 19,
   "id": "5406f2b2-949e-46e5-acbe-c0d5aabb6968",
   "metadata": {},
   "outputs": [
    {
     "name": "stdout",
     "output_type": "stream",
     "text": [
      "Zahl: 1, Buchstabe: a, BUCHSTABE: A\n",
      "Zahl: 2, Buchstabe: b, BUCHSTABE: B\n",
      "Zahl: 3, Buchstabe: c, BUCHSTABE: C\n",
      "Zahl: 4, Buchstabe: d, BUCHSTABE: D\n"
     ]
    }
   ],
   "source": [
    "numbers = [1, 2, 3, 4]\n",
    "letters = list('abcd')\n",
    "LETTERS = list('ABCD')\n",
    "\n",
    "\n",
    "for number, letter, LETTER in zip(numbers, letters, LETTERS): \n",
    "    print('Zahl: {}, Buchstabe: {}, BUCHSTABE: {}'\\\n",
    "          .format(number, letter, LETTER))"
   ]
  },
  {
   "cell_type": "markdown",
   "id": "7d2a445e-3dfc-429a-8a0e-073b30107d76",
   "metadata": {},
   "source": [
    "***\n",
    "zip und enumerate lassen sich kombinieren:\n",
    "***"
   ]
  },
  {
   "cell_type": "code",
   "execution_count": 21,
   "id": "db8f3b82-c997-4dc4-a584-daa3cf2aef8d",
   "metadata": {},
   "outputs": [
    {
     "name": "stdout",
     "output_type": "stream",
     "text": [
      "1. Max Muster\n",
      "2. Bossy Betty\n"
     ]
    }
   ],
   "source": [
    "vornamen = ['Max', 'Bossy']\n",
    "namen = ['Muster', 'Betty']\n",
    "\n",
    "for i, (vorname, name) in enumerate(zip(vornamen, namen)):\n",
    "    print('{}. {} {}'.format(i+1, vorname, name))\n",
    "\n",
    "\n"
   ]
  },
  {
   "cell_type": "markdown",
   "id": "bfad5d09-3c0a-4b68-a435-75420cd2c20e",
   "metadata": {},
   "source": [
    "**Erl&auml;uterung**: `zip` packt entprechende Werte in ein Tuple und\n",
    "`enumerate` formt ein Tuple mit dem Index und dem Wert. Steht links von `in` die passende Anzahl Variabeln, so wird dieses Tuple ausgepackt und auf die Variabeln verteilt."
   ]
  },
  {
   "cell_type": "code",
   "execution_count": 22,
   "id": "8d6d1fa1-46b0-4178-838c-974a7c1358e8",
   "metadata": {},
   "outputs": [
    {
     "name": "stdout",
     "output_type": "stream",
     "text": [
      "(0, ('Max', 'Muster'))\n",
      "(1, ('Bossy', 'Betty'))\n"
     ]
    }
   ],
   "source": [
    "for x in enumerate(zip(vornamen, namen)):\n",
    "    print(x)"
   ]
  },
  {
   "cell_type": "code",
   "execution_count": 24,
   "id": "3975cbd3-383d-4a47-89c2-2184e808c28c",
   "metadata": {},
   "outputs": [
    {
     "name": "stdout",
     "output_type": "stream",
     "text": [
      "0 ('Max', 'Muster')\n"
     ]
    }
   ],
   "source": [
    "i, tpl = (0, ('Max', 'Muster'))\n",
    "print(i, tpl)"
   ]
  },
  {
   "cell_type": "code",
   "execution_count": 25,
   "id": "5326137b-3cec-4406-84ca-c7e84d4ee3e3",
   "metadata": {},
   "outputs": [
    {
     "name": "stdout",
     "output_type": "stream",
     "text": [
      "0 Max Muster\n"
     ]
    }
   ],
   "source": [
    "i, (vorname, name) = (0, ('Max', 'Muster'))\n",
    "print(i, vorname, name)"
   ]
  },
  {
   "cell_type": "code",
   "execution_count": null,
   "id": "41bbbe6d-2e7b-4556-aa5b-98ff47dc9ffe",
   "metadata": {},
   "outputs": [],
   "source": []
  }
 ],
 "metadata": {
  "author": "dieter.probst@gmail.com",
  "kernelspec": {
   "display_name": "Python 3 (ipykernel)",
   "language": "python",
   "name": "python3"
  },
  "language_info": {
   "codemirror_mode": {
    "name": "ipython",
    "version": 3
   },
   "file_extension": ".py",
   "mimetype": "text/x-python",
   "name": "python",
   "nbconvert_exporter": "python",
   "pygments_lexer": "ipython3",
   "version": "3.13.0"
  }
 },
 "nbformat": 4,
 "nbformat_minor": 5
}
