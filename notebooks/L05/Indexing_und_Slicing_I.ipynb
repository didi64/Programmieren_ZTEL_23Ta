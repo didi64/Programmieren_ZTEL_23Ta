{
 "cells": [
  {
   "cell_type": "markdown",
   "id": "ac25f6f0-f79b-48e5-820c-8b223e3d09e2",
   "metadata": {
    "tags": []
   },
   "source": [
    "### Indexing und Slicing\n",
    "**Indexing**: Zugriff auf ein Zeichen eines Strings oder Element eines Tupels oder Liste\n",
    "(siehe auch [w3schools.com, lists_access](https://www.w3schools.com/python/python_lists_access.asp), \n",
    "[docs.python, lists](https://docs.python.org/3/tutorial/introduction.html#lists)).  \n",
    "Sei `s` ein String, Tuple oder Liste der L&auml;nge $n$.\n",
    "\n",
    "- Ist $0\\leq i < n$, so liefert `s[i]` das i-te Zeichen von `s`.\n",
    "- Ist $1 \\leq i \\leq n$, so liefert `s[-i]` das ($n-i$)-te Zeichen. `s[-1]` ist das letzte, `s[-2]` das 2.-letzte und `s[-n]` das erste Zeichen.\n",
    "- F&uuml;r alle anderen Werte von i wird ein  `IndexError` ausgel&ouml;st.  \n",
    "  "
   ]
  },
  {
   "cell_type": "code",
   "execution_count": 2,
   "id": "07d77aab-7d38-49bc-8b8f-3d3d35cff473",
   "metadata": {},
   "outputs": [
    {
     "data": {
      "text/plain": [
       "('a', 'h')"
      ]
     },
     "execution_count": 2,
     "metadata": {},
     "output_type": "execute_result"
    }
   ],
   "source": [
    "# erster und letzer Buchstabe herausgreifen\n",
    "s = 'abcdefgh'\n",
    "s[0], s[-1] "
   ]
  },
  {
   "cell_type": "code",
   "execution_count": 3,
   "id": "c4045ffd-a3d2-41d3-8567-9a60c7aee2f0",
   "metadata": {},
   "outputs": [
    {
     "data": {
      "text/plain": [
       "('b', 'g')"
      ]
     },
     "execution_count": 3,
     "metadata": {},
     "output_type": "execute_result"
    }
   ],
   "source": [
    "# zweiter und zweitletzter Buchstabe herausgreifen\n",
    "s[1], s[-2] "
   ]
  },
  {
   "cell_type": "markdown",
   "id": "f35b8453-e927-4fad-8ce1-116a1709b9e9",
   "metadata": {},
   "source": [
    "**Slicing**: **Erstellen** eines neuen **Teilstrings**\n",
    "  (**Teiltuple**, **Teilliste**):  \n",
    "   (siehe auch [w3schools.com, lists_access](https://www.w3schools.com/python/python_lists_access.asp), \n",
    "[docs.python, lists](https://docs.python.org/3/tutorial/introduction.html#lists))  \n",
    "- `s[start:stop]` und `s[start:stop:step]`  \n",
    "liefert einen **neuen** String (Tupel oder Liste) bestehend aus den selektierten Elementen.\n",
    "Ist `step` positiv, kann $0$ als Startindex und $n$ als Stopindex weggelassen werden.  \n",
    "Ist `step` negativ, kann $n$ als Startindex und $0$ als Stopindex weggelassen werden."
   ]
  },
  {
   "cell_type": "code",
   "execution_count": 8,
   "id": "bdd9934f-4dcb-4c4e-874a-3a039bdc57e9",
   "metadata": {},
   "outputs": [],
   "source": [
    "digits = '0123456789'\n",
    "n = len(digits)"
   ]
  },
  {
   "cell_type": "code",
   "execution_count": 9,
   "id": "5697291e-98e0-4916-820a-cef2e60525ce",
   "metadata": {},
   "outputs": [
    {
     "data": {
      "text/plain": [
       "('0123456789', '0123456789')"
      ]
     },
     "execution_count": 9,
     "metadata": {},
     "output_type": "execute_result"
    }
   ],
   "source": [
    "# alles\n",
    "# digits[0:n]\n",
    "digits[:]"
   ]
  },
  {
   "cell_type": "code",
   "execution_count": 11,
   "id": "a16d7c13-4519-469b-9f03-c02ff74fffdf",
   "metadata": {},
   "outputs": [
    {
     "data": {
      "text/plain": [
       "'3456789'"
      ]
     },
     "execution_count": 11,
     "metadata": {},
     "output_type": "execute_result"
    }
   ],
   "source": [
    "# digits[3:n]\n",
    "digits[3:]  # ab 3"
   ]
  },
  {
   "cell_type": "code",
   "execution_count": 12,
   "id": "06cb8c1b-a389-4498-9528-39a8441728fc",
   "metadata": {},
   "outputs": [
    {
     "data": {
      "text/plain": [
       "'1357'"
      ]
     },
     "execution_count": 12,
     "metadata": {},
     "output_type": "execute_result"
    }
   ],
   "source": [
    "digits[1:9:2]"
   ]
  },
  {
   "cell_type": "markdown",
   "id": "c253a1a6-97b7-45bb-8df2-a908ff4f94b0",
   "metadata": {},
   "source": [
    "**wichtiger** Spezialfall: Wort od. Liste umdrehen"
   ]
  },
  {
   "cell_type": "code",
   "execution_count": null,
   "id": "549bc65b-cc61-4359-80a6-4be4badd8e69",
   "metadata": {},
   "outputs": [],
   "source": [
    "'abcde'[::-1]"
   ]
  },
  {
   "cell_type": "markdown",
   "id": "59896a09-bb7e-41a2-9028-827747f653b3",
   "metadata": {},
   "source": [
    "### Typische Anwendungen\n",
    "Benutze Slice-Notation um\n",
    "- die ersten und letzten 2 Elemente einer Liste auszugeben,\n",
    "- Zeichen in String einf&uuml;gen oder entfernen,\n",
    "- zu testen, ob ein Wort ein Palindrom ist."
   ]
  },
  {
   "cell_type": "code",
   "execution_count": 1,
   "id": "4f181a64-c377-414c-be58-986e9f35006b",
   "metadata": {},
   "outputs": [
    {
     "data": {
      "text/plain": [
       "((0, 1), (98, 99))"
      ]
     },
     "execution_count": 1,
     "metadata": {},
     "output_type": "execute_result"
    }
   ],
   "source": [
    "numbers = tuple(range(100))\n",
    "numbers[:2], numbers[-2:]"
   ]
  },
  {
   "cell_type": "code",
   "execution_count": 2,
   "id": "8a95be98-5c72-449d-9bc4-a154a4781fbe",
   "metadata": {},
   "outputs": [
    {
     "data": {
      "text/plain": [
       "'eins-zwei'"
      ]
     },
     "execution_count": 2,
     "metadata": {},
     "output_type": "execute_result"
    }
   ],
   "source": [
    "word = 'einszwei'\n",
    "idx = 4 # Position von 'z' in word\n",
    "word[:idx] + '-' + word[idx:]"
   ]
  },
  {
   "cell_type": "code",
   "execution_count": 3,
   "id": "fdb05756-7db0-4d55-938d-147b98d5cb3f",
   "metadata": {},
   "outputs": [
    {
     "data": {
      "text/plain": [
       "'einszwei'"
      ]
     },
     "execution_count": 3,
     "metadata": {},
     "output_type": "execute_result"
    }
   ],
   "source": [
    "word = 'eins-zwei'\n",
    "idx = 4 # Position von '-' in word\n",
    "word[:idx] +  word[idx + 1:]"
   ]
  },
  {
   "cell_type": "code",
   "execution_count": 4,
   "id": "8f9cceb8-a816-4c35-ba6c-8e0a1a578a89",
   "metadata": {},
   "outputs": [
    {
     "name": "stdout",
     "output_type": "stream",
     "text": [
      "RADAR ist ein Palindrom? True\n",
      "FOO ist ein Palindrom? False\n"
     ]
    }
   ],
   "source": [
    "def is_palindrom(s):\n",
    "    return s == s[::-1]\n",
    "\n",
    "words = ['RADAR', 'FOO']\n",
    "for word in words:\n",
    "    print(word, 'ist ein Palindrom?', is_palindrom(word))"
   ]
  },
  {
   "cell_type": "markdown",
   "id": "58047ab9-5cf1-4201-97d4-eb41eaaa6b09",
   "metadata": {},
   "source": [
    "**Aufgaben**: Erstelle eine Liste mit allen W&ouml;rter in der Liste `words`, die auf `ung` enden."
   ]
  },
  {
   "cell_type": "code",
   "execution_count": 16,
   "id": "e5a129f7-367f-42a8-a7f8-4567622d8409",
   "metadata": {},
   "outputs": [],
   "source": [
    "words = ['Übung', \n",
    "         'Haus', \n",
    "         'Atmung', \n",
    "         'Begrüssung', \n",
    "         'Hund', \n",
    "         'Ehrung', \n",
    "         'Einigung', \n",
    "         'Endung',\n",
    "         ]"
   ]
  },
  {
   "cell_type": "code",
   "execution_count": null,
   "id": "83783571-8074-4277-9dac-1873bca5f5d0",
   "metadata": {},
   "outputs": [],
   "source": []
  }
 ],
 "metadata": {
  "author": "dieter.probst@gmail.com",
  "kernelspec": {
   "display_name": "Python 3 (ipykernel)",
   "language": "python",
   "name": "python3"
  },
  "language_info": {
   "codemirror_mode": {
    "name": "ipython",
    "version": 3
   },
   "file_extension": ".py",
   "mimetype": "text/x-python",
   "name": "python",
   "nbconvert_exporter": "python",
   "pygments_lexer": "ipython3",
   "version": "3.13.0"
  }
 },
 "nbformat": 4,
 "nbformat_minor": 5
}
