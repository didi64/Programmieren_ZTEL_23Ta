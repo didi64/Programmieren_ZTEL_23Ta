{
 "cells": [
  {
   "cell_type": "code",
   "execution_count": null,
   "id": "4cfbf47d-14db-49ff-9025-1acca531716e",
   "metadata": {},
   "outputs": [],
   "source": [
    "def bisect(words, subword):\n",
    "    '''returns the tuples words_with, words_without\n",
    "       words_with contains all words from words that contain subword\n",
    "       word: str\n",
    "       subword: str\n",
    "    '''\n",
    "    words_with = ()\n",
    "    words_without = ()\n",
    "    for word in words:\n",
    "        if subword in word:\n",
    "            words_with += (word,)\n",
    "        else:\n",
    "            words_without += (word,)\n",
    "            \n",
    "    return words_with, words_without"
   ]
  },
  {
   "cell_type": "code",
   "execution_count": null,
   "id": "d4190518-075d-43cd-a34b-42dd3f40b2f8",
   "metadata": {},
   "outputs": [],
   "source": [
    "words = ['outlook', 'smoking', 'booking', 'test', 'foo', 'bar']\n",
    "with_ok, without_ok = bisect(words, 'ok') \n",
    "print('words with ok:', with_ok)\n",
    "print('words without ok:', without_ok)"
   ]
  },
  {
   "cell_type": "code",
   "execution_count": 51,
   "id": "9ee1477e-4044-42a0-a313-a97cd381e1bb",
   "metadata": {},
   "outputs": [
    {
     "name": "stdout",
     "output_type": "stream",
     "text": [
      "0, 1, 2, 3, 4, 5, 6, 7, 8, 9, \n",
      "--------------------------------------------------\n",
      "2, 3, 4, 5, 6, 7, 8, 9, \n",
      "--------------------------------------------------\n",
      "2, 5, 8, \n",
      "--------------------------------------------------\n"
     ]
    }
   ],
   "source": [
    "# Range\n",
    "\n",
    "stop = 10\n",
    "for i in range(stop):\n",
    "    print(i, end=', ')\n",
    "print('\\n' + '-'* 50)\n",
    "\n",
    "start = 2\n",
    "for i in range(start, stop):\n",
    "    print(i, end=', ')\n",
    "print('\\n' + '-'* 50)\n",
    "\n",
    "step = 3\n",
    "for i in range(start, stop, step):\n",
    "    print(i, end=', ')\n",
    "print('\\n' + '-'* 50)"
   ]
  },
  {
   "cell_type": "code",
   "execution_count": 52,
   "id": "a9bb3349-b572-4996-add6-20f17a1e3ffa",
   "metadata": {},
   "outputs": [
    {
     "data": {
      "text/plain": [
       "(2, 100)"
      ]
     },
     "execution_count": 52,
     "metadata": {},
     "output_type": "execute_result"
    }
   ],
   "source": [
    "# gerade Zahlen von 2 bis und mit 100\n",
    "even_nbrs = tuple(range(2, 101, 2))\n",
    "even_nbrs[0], even_nbrs[-1]"
   ]
  },
  {
   "cell_type": "code",
   "execution_count": 53,
   "id": "f068e4c4-50b7-4112-9076-954de87a9f2f",
   "metadata": {},
   "outputs": [
    {
     "data": {
      "text/plain": [
       "(1, 99)"
      ]
     },
     "execution_count": 53,
     "metadata": {},
     "output_type": "execute_result"
    }
   ],
   "source": [
    "# ungerade Zahlen von 1 bis  100\n",
    "odd_nbrs = tuple(range(1, 100, 2))\n",
    "odd_nbrs[0], odd_nbrs[-1]"
   ]
  },
  {
   "cell_type": "code",
   "execution_count": 54,
   "id": "62a6eff5-4e5a-4145-8110-c243a8ab449d",
   "metadata": {},
   "outputs": [
    {
     "data": {
      "text/plain": [
       "(2550, 2500)"
      ]
     },
     "execution_count": 54,
     "metadata": {},
     "output_type": "execute_result"
    }
   ],
   "source": [
    "sum(even_nbrs), sum(odd_nbrs)"
   ]
  },
  {
   "cell_type": "code",
   "execution_count": 56,
   "id": "31ce96cb-41b7-4342-92d0-3b3385da4d66",
   "metadata": {},
   "outputs": [],
   "source": [
    "def total(numbers):\n",
    "    tot = 0\n",
    "    for n in numbers:\n",
    "        tot = tot + n\n",
    "    return tot"
   ]
  },
  {
   "cell_type": "code",
   "execution_count": 58,
   "id": "b651eb9f-0982-4a33-8f0c-78258ef654e6",
   "metadata": {},
   "outputs": [
    {
     "data": {
      "text/plain": [
       "(True, True)"
      ]
     },
     "execution_count": 58,
     "metadata": {},
     "output_type": "execute_result"
    }
   ],
   "source": [
    "total(even_nbrs) == sum(even_nbrs), \\\n",
    "total(odd_nbrs) == sum(odd_nbrs)"
   ]
  },
  {
   "cell_type": "code",
   "execution_count": 59,
   "id": "c384fdcc-d663-4327-84df-832ece16c1da",
   "metadata": {},
   "outputs": [
    {
     "data": {
      "text/plain": [
       "(0, 1, 99, 98)"
      ]
     },
     "execution_count": 59,
     "metadata": {},
     "output_type": "execute_result"
    }
   ],
   "source": [
    "# Indexing\n",
    "numbers = tuple(range(100))\n",
    "numbers[0], numbers[1], numbers[-1], numbers[-2]"
   ]
  },
  {
   "cell_type": "code",
   "execution_count": 60,
   "id": "2508c537-6b63-4247-be61-19d28d3b626b",
   "metadata": {},
   "outputs": [
    {
     "data": {
      "text/plain": [
       "(3, 4, 5, 6, 7, 8, 9)"
      ]
     },
     "execution_count": 60,
     "metadata": {},
     "output_type": "execute_result"
    }
   ],
   "source": [
    "start = 3\n",
    "stop = 10\n",
    "numbers[start:stop]"
   ]
  },
  {
   "cell_type": "code",
   "execution_count": 62,
   "id": "f6bb0ee0-70e4-4063-9df8-2cd35aba0353",
   "metadata": {},
   "outputs": [
    {
     "data": {
      "text/plain": [
       "(3, 13, 23, 33, 43, 53, 63, 73, 83, 93)"
      ]
     },
     "execution_count": 62,
     "metadata": {},
     "output_type": "execute_result"
    }
   ],
   "source": [
    "step = 10\n",
    "numbers[start:99:step]"
   ]
  },
  {
   "cell_type": "code",
   "execution_count": 65,
   "id": "22a1beb8-c1ff-4076-a21a-9eeb36b82375",
   "metadata": {},
   "outputs": [
    {
     "data": {
      "text/plain": [
       "(9, 8, 7, 6, 5, 4, 3, 2, 1, 0)"
      ]
     },
     "execution_count": 65,
     "metadata": {},
     "output_type": "execute_result"
    }
   ],
   "source": [
    "# Fehlt step ist step=1\n",
    "# fehlt start und/oder stop wir der entsprechende \n",
    "# Index eingesetzt (0 oder Laenge des Tuples/Liste)\n",
    "numbers = tuple(range(10))\n",
    "numbers[::-1]"
   ]
  },
  {
   "cell_type": "code",
   "execution_count": 66,
   "id": "0e2a3543-eac2-463b-9b20-7e6a172def7d",
   "metadata": {},
   "outputs": [
    {
     "data": {
      "text/plain": [
       "'oof'"
      ]
     },
     "execution_count": 66,
     "metadata": {},
     "output_type": "execute_result"
    }
   ],
   "source": [
    "word = 'foo'\n",
    "word[::-1]"
   ]
  },
  {
   "cell_type": "code",
   "execution_count": 67,
   "id": "fcaf6f0d-3f03-4705-bf3e-38e28287fe1b",
   "metadata": {},
   "outputs": [
    {
     "data": {
      "text/plain": [
       "['Übung', 'Atmung', 'Begrüssung', 'Ehrung', 'Einigung', 'Endung']"
      ]
     },
     "execution_count": 67,
     "metadata": {},
     "output_type": "execute_result"
    }
   ],
   "source": [
    "words = ['Übung', 'Haus', 'Atmung', 'Begrüssung', \n",
    "         'Hund', 'Ehrung', 'Einigung','Endung']\n",
    "\n",
    "ung_words = []\n",
    "for word in words:\n",
    "    if word[-3:] == 'ung':\n",
    "        ung_words = ung_words + [word]\n",
    "ung_words"
   ]
  },
  {
   "cell_type": "code",
   "execution_count": 69,
   "id": "f54cd744-7265-4b0a-9693-939fb149efd9",
   "metadata": {},
   "outputs": [
    {
     "data": {
      "text/plain": [
       "(2, 'd')"
      ]
     },
     "execution_count": 69,
     "metadata": {},
     "output_type": "execute_result"
    }
   ],
   "source": [
    "# erstes Auftreten finden\n",
    "char = 'd'\n",
    "word = 'index'\n",
    "i = 0\n",
    "for c in word:\n",
    "    if c == 'd':\n",
    "        break\n",
    "    i = i + 1\n",
    "i, word[i]"
   ]
  },
  {
   "cell_type": "code",
   "execution_count": 71,
   "id": "487dfb50-10f9-45a9-987c-a32bea1675da",
   "metadata": {},
   "outputs": [
    {
     "data": {
      "text/plain": [
       "(0, 3, 5, 7, 10)"
      ]
     },
     "execution_count": 71,
     "metadata": {},
     "output_type": "execute_result"
    }
   ],
   "source": [
    "# alle Vorkommen finden\n",
    "word = 'abracadabra'\n",
    "char = 'a'\n",
    "indices = ()\n",
    "   \n",
    "i = -1\n",
    "for c in word:\n",
    "    i = i + 1  \n",
    "    if c != char:\n",
    "        continue\n",
    "    indices = indices + (i,)\n",
    "\n",
    "indices"
   ]
  },
  {
   "cell_type": "code",
   "execution_count": 72,
   "id": "c321f854-ee43-484b-9710-1013caff5e91",
   "metadata": {},
   "outputs": [
    {
     "name": "stdout",
     "output_type": "stream",
     "text": [
      "a, a, a, a, a, "
     ]
    }
   ],
   "source": [
    "for i in indices:\n",
    "    print(word[i], end = ', ')"
   ]
  },
  {
   "cell_type": "code",
   "execution_count": null,
   "id": "4d9cb8e6-a6b6-4f42-bbb4-4b9729e16c89",
   "metadata": {},
   "outputs": [],
   "source": [
    "def eval_guess(guess, secret):\n",
    "    '''returns a tuple (ok, i),\n",
    "       ok is guess == secret, and i is -1,0 or 1 depending on whether\n",
    "       guess is too small, correct or too big\n",
    "       guess: int\n",
    "       secret: int\n",
    "    '''\n",
    "    if guess == secret:\n",
    "        return (True, 0)\n",
    "    if guess < secret:\n",
    "        return (False, -1)\n",
    "    if guess > secret:\n",
    "       return (False, 1)"
   ]
  },
  {
   "cell_type": "code",
   "execution_count": 77,
   "id": "79f226a9-36d7-4816-b664-e1d28c7fc4a8",
   "metadata": {},
   "outputs": [
    {
     "data": {
      "text/plain": [
       "'zu klein'"
      ]
     },
     "execution_count": 77,
     "metadata": {},
     "output_type": "execute_result"
    }
   ],
   "source": [
    "comments = ['richtig', 'zu gross', 'zu klein']\n",
    "comments[-1]"
   ]
  },
  {
   "cell_type": "code",
   "execution_count": 76,
   "id": "691f934e-196a-4d9f-af83-8becfe840efe",
   "metadata": {},
   "outputs": [
    {
     "data": {
      "text/plain": [
       "(False, 'zu klein')"
      ]
     },
     "execution_count": 76,
     "metadata": {},
     "output_type": "execute_result"
    }
   ],
   "source": [
    "secret = 3\n",
    "guess = 1\n",
    "comments = ['richtig', 'zu gross', 'zu klein']\n",
    "ok, i = eval_guess(guess, secret)\n",
    "ok, comments[i]"
   ]
  },
  {
   "cell_type": "code",
   "execution_count": null,
   "id": "decb2c0e-1f99-4504-9de8-33fe91ff0d65",
   "metadata": {},
   "outputs": [],
   "source": [
    "secret = 3\n",
    "comments = ['richtig', 'zu gross', 'zu klein']\n",
    "while True:\n",
    "    guess = int(input('Zahl:'))\n",
    "    ok, i = eval_guess(guess, secret)\n",
    "    print(comments[i])\n",
    "    if ok:\n",
    "        break"
   ]
  },
  {
   "cell_type": "code",
   "execution_count": 38,
   "id": "e1c34254-9f0c-4177-b163-7c8a645905df",
   "metadata": {},
   "outputs": [],
   "source": [
    "def next_guess(guess, evaluation, lower, upper):\n",
    "    ''' returns a triple (next_guess, lower, upper)\n",
    "            so that lower <= secret <= upper\n",
    "        guess: int\n",
    "        evaluation: -1 (too small) or 1 (too big)\n",
    "        lower: int (lower <= secret)\n",
    "        upper: int (secret <= upper)\n",
    "    '''\n",
    "    if evaluation == 1:\n",
    "        upper = guess - 1\n",
    "    else:\n",
    "        lower = guess + 1\n",
    "    n = (lower + upper) // 2\n",
    "    return n, lower, upper"
   ]
  },
  {
   "cell_type": "code",
   "execution_count": 98,
   "id": "4899a71a-0870-401b-8831-38247441f1f0",
   "metadata": {},
   "outputs": [],
   "source": [
    "lower, upper = 0, 10\n",
    "secret = 2\n",
    "guess = 7"
   ]
  },
  {
   "cell_type": "code",
   "execution_count": 101,
   "id": "9590ac85-7f4e-40d2-8445-762d548af2b1",
   "metadata": {},
   "outputs": [
    {
     "data": {
      "text/plain": [
       "(False, 2, 2, 2)"
      ]
     },
     "execution_count": 101,
     "metadata": {},
     "output_type": "execute_result"
    }
   ],
   "source": [
    "ok, e = eval_guess(guess, secret)\n",
    "if not ok:\n",
    "    guess, lower, upper = next_guess(guess, e, lower, upper)\n",
    "ok, guess, lower, upper    "
   ]
  },
  {
   "cell_type": "code",
   "execution_count": 37,
   "id": "c52a8a08-2ce1-42b6-802f-613a376a5fb4",
   "metadata": {},
   "outputs": [
    {
     "name": "stdout",
     "output_type": "stream",
     "text": [
      "500 ist zu klein\n",
      "750 ist zu gross\n",
      "625 ist zu gross\n",
      "562 ist zu klein\n",
      "593 ist zu klein\n",
      "609 ist zu klein\n",
      "617 ist zu klein\n",
      "621 ist zu gross\n",
      "619 ist zu klein\n",
      "620 ist richtig\n",
      "Versuche: 10\n"
     ]
    }
   ],
   "source": [
    "import random\n",
    "lower = 0 \n",
    "upper = 1000\n",
    "secret = random.randint(lower, upper)\n",
    "comments = ['richtig', 'zu gross', 'zu klein']\n",
    "\n",
    "guess = (lower + upper) // 2\n",
    "attempts = 0\n",
    "while True:\n",
    "    attempts = attempts + 1\n",
    "    ok, e = eval_guess(guess, secret)\n",
    "    msg = str.format('{} ist {}', guess, comments[e])\n",
    "    print(msg)\n",
    "    if ok:\n",
    "        print('Versuche:', attempts)\n",
    "        break\n",
    "    guess, lower, upper = next_guess(guess, e, lower, upper)"
   ]
  },
  {
   "cell_type": "code",
   "execution_count": 102,
   "id": "5f73c302-84b8-457a-84bd-a2654a7ee168",
   "metadata": {},
   "outputs": [
    {
     "data": {
      "text/plain": [
       "'Artikel: Velo, Preis 1999.99'"
      ]
     },
     "execution_count": 102,
     "metadata": {},
     "output_type": "execute_result"
    }
   ],
   "source": [
    "fstring = 'Artikel: {}, Preis {}'\n",
    "str.format(fstring, 'Velo', 1999.99)"
   ]
  },
  {
   "cell_type": "code",
   "execution_count": null,
   "id": "d0530d4b-e585-4e71-816e-5aa11413a908",
   "metadata": {},
   "outputs": [],
   "source": []
  },
  {
   "cell_type": "code",
   "execution_count": null,
   "id": "2738c874-80b8-4cac-b5f9-ea366f48fb84",
   "metadata": {},
   "outputs": [],
   "source": [
    "fstring = 'Artikel: {:<10}, Preis {:10.2f}'\n",
    "print(str.format(fstring, 'Velo', 1999.99))\n",
    "print(str.format(fstring, 'Skateboard', 499.99))\n"
   ]
  },
  {
   "cell_type": "code",
   "execution_count": 116,
   "id": "8e754072-844f-4b74-b7c2-3afb69aa11cb",
   "metadata": {},
   "outputs": [],
   "source": [
    "def make_tuple(*args):\n",
    "    start = 0\n",
    "    step = 1\n",
    "    if len(args) == 1:\n",
    "        stop, = args\n",
    "    elif len(args) == 2:\n",
    "        start, stop =  args\n",
    "    elif len(args) == 3:  \n",
    "        start, stop, step =  args\n",
    "    else:\n",
    "        raise Exception('at most 3 arguments expected')\n",
    "    \n",
    "    items = ()\n",
    "    i = start\n",
    "    while i < stop:\n",
    "        items = items + (i,)\n",
    "        i = i + step\n",
    "    return items"
   ]
  },
  {
   "cell_type": "code",
   "execution_count": 118,
   "id": "5c83590f-b378-4bd6-a011-bc67fe25ffa6",
   "metadata": {},
   "outputs": [
    {
     "data": {
      "text/plain": [
       "()"
      ]
     },
     "execution_count": 118,
     "metadata": {},
     "output_type": "execute_result"
    }
   ],
   "source": [
    "make_tuple(5,1,-2)"
   ]
  },
  {
   "cell_type": "code",
   "execution_count": 143,
   "id": "812cbd42-885a-4069-ba69-d1ecd2b05c32",
   "metadata": {},
   "outputs": [],
   "source": [
    "def make_tuple(*args):\n",
    "    start = 0\n",
    "    step = 1\n",
    "    if len(args) == 1:\n",
    "        stop, = args\n",
    "    elif len(args) == 2:\n",
    "        start, stop =  args\n",
    "    elif len(args) == 3:  \n",
    "        start, stop, step =  args\n",
    "    else:\n",
    "        raise Exception('at most 3 arguments expected')\n",
    "\n",
    "    if step > 0:\n",
    "        items = ()\n",
    "        i = start\n",
    "        while i < stop:\n",
    "            items = items + (i,)\n",
    "            i = i + step\n",
    "    else:\n",
    "        items = ()\n",
    "        i = start\n",
    "        while i > stop:\n",
    "            items = items + (i,)\n",
    "            i = i + step\n",
    "    return items"
   ]
  },
  {
   "cell_type": "code",
   "execution_count": null,
   "id": "02040314-b014-485d-820a-db8b51e59ae7",
   "metadata": {},
   "outputs": [],
   "source": []
  },
  {
   "cell_type": "code",
   "execution_count": null,
   "id": "4f4609f6-6dbe-4533-b190-85d0572c25e9",
   "metadata": {},
   "outputs": [],
   "source": []
  },
  {
   "cell_type": "code",
   "execution_count": 127,
   "id": "41efd12d-5a22-4ace-b308-420f698227a2",
   "metadata": {},
   "outputs": [
    {
     "data": {
      "text/plain": [
       "-1"
      ]
     },
     "execution_count": 127,
     "metadata": {},
     "output_type": "execute_result"
    }
   ],
   "source": [
    "step = -2\n",
    "(-1)**(step < 0)"
   ]
  },
  {
   "cell_type": "code",
   "execution_count": 138,
   "id": "30e4b7ed-872d-4e0a-99bc-4b859281bacd",
   "metadata": {},
   "outputs": [],
   "source": [
    "def make_tuple(*args):\n",
    "    start = 0\n",
    "    step = 1\n",
    "    if len(args) == 1:\n",
    "        stop, = args\n",
    "    elif len(args) == 2:\n",
    "        start, stop =  args\n",
    "    elif len(args) == 3:  \n",
    "        start, stop, step =  args\n",
    "    else:\n",
    "        raise Exception('at most 3 arguments expected')    \n",
    "\n",
    "    items = ()\n",
    "    sign = (-1)**(step < 0)\n",
    "    i = start\n",
    "    while sign*i < sign*stop:\n",
    "        items = items + (i,)\n",
    "        i = i + step\n",
    "    return items"
   ]
  },
  {
   "cell_type": "code",
   "execution_count": 139,
   "id": "1a3a3c43-4ff0-4dc4-a85b-8e4cee0190a3",
   "metadata": {},
   "outputs": [
    {
     "data": {
      "text/plain": [
       "(0, 1, 2, 3)"
      ]
     },
     "execution_count": 139,
     "metadata": {},
     "output_type": "execute_result"
    }
   ],
   "source": [
    "make_tuple(4)"
   ]
  },
  {
   "cell_type": "code",
   "execution_count": 140,
   "id": "6a12c9c0-b637-4f80-bb50-cf3d92a888d0",
   "metadata": {},
   "outputs": [
    {
     "data": {
      "text/plain": [
       "(2, 3)"
      ]
     },
     "execution_count": 140,
     "metadata": {},
     "output_type": "execute_result"
    }
   ],
   "source": [
    "make_tuple(2, 4)"
   ]
  },
  {
   "cell_type": "code",
   "execution_count": 141,
   "id": "0f9afcec-e563-4338-b005-8f1e9282f196",
   "metadata": {},
   "outputs": [
    {
     "data": {
      "text/plain": [
       "(4, 6, 8, 10)"
      ]
     },
     "execution_count": 141,
     "metadata": {},
     "output_type": "execute_result"
    }
   ],
   "source": [
    "make_tuple(4, 11, 2)"
   ]
  },
  {
   "cell_type": "code",
   "execution_count": 142,
   "id": "ee161354-41ce-49ad-b0fb-9b6cdfcebd9e",
   "metadata": {},
   "outputs": [
    {
     "data": {
      "text/plain": [
       "(50, 45, 40, 35, 30, 25)"
      ]
     },
     "execution_count": 142,
     "metadata": {},
     "output_type": "execute_result"
    }
   ],
   "source": [
    "make_tuple(50, 24, -5)"
   ]
  }
 ],
 "metadata": {
  "kernelspec": {
   "display_name": "Python 3 (ipykernel)",
   "language": "python",
   "name": "python3"
  },
  "language_info": {
   "codemirror_mode": {
    "name": "ipython",
    "version": 3
   },
   "file_extension": ".py",
   "mimetype": "text/x-python",
   "name": "python",
   "nbconvert_exporter": "python",
   "pygments_lexer": "ipython3",
   "version": "3.13.0"
  }
 },
 "nbformat": 4,
 "nbformat_minor": 5
}
