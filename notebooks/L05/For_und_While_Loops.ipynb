{
 "cells": [
  {
   "cell_type": "markdown",
   "id": "15f73f92-5efb-4822-9277-effc5fbe7538",
   "metadata": {},
   "source": [
    "### For-Schleifen\n",
    "\n",
    "  \n",
    "\n",
    "```python\n",
    "for <Variabelliste> in <Iterable>:\n",
    "    <Anweisungen>\n",
    "```\n",
    "**Erl&auml;uterung**: \n",
    "Ein `<Iterable>` ist ein tupleartiges Objekt,\n",
    "bei dem nach einem n&auml;chsten Element gefragt werden kann. Die For-Schleife ist &auml;quivalent zu folgendem Code:\n",
    "```python\n",
    "<Variabelliste> = erstes Element von <Iterable>\n",
    "<Anweisungen>\n",
    "\n",
    "<Variabelliste> = naechstes Element von <Iterable>\n",
    "<Anweisungen>\n",
    "\n",
    "...\n",
    "\n",
    "<Variabelliste> = letztes Element von <Iterable>\n",
    "<Anweisungen>\n",
    "```\n",
    "\n",
    "**Beispiel**:  \n",
    "```python\n",
    "for i, name in [(1, 'Anna'), (2, 'Bob'), (3, 'Cathy')]:\n",
    "    print(i, name)\n",
    "```\n",
    "\n",
    "macht das gleiche wie\n",
    "```python\n",
    "i, name = (1, 'Anna')\n",
    "print(i, name)\n",
    "\n",
    "i, name = (2, 'Bob')\n",
    "print(i, name)\n",
    "\n",
    "i, name = (3, 'Cathy')\n",
    "print(i, name)\n",
    "```\n"
   ]
  },
  {
   "cell_type": "markdown",
   "id": "32bbdc77-5063-4c23-9463-cfbd4f1faf02",
   "metadata": {},
   "source": [
    "### While-Schleifen\n",
    "\n",
    "**Bemerkungen**:\n",
    "- While-Schleifen k&ouml;nnen (oft unbeabsichtigt) **Endlosschleifen** sein!  \n",
    "\n",
    "```python\n",
    "while <Ausdruck>:\n",
    "    <Anweisungen>\n",
    "```\n",
    "**Erl&auml;uterung**:  \n",
    "Die `<Anweisungen>` im Codeblock werden wiederholt, solange `<Ausdruck>` wahr/truthy (d.h. `bool(<Ausdruck>) == True`) ist.  "
   ]
  },
  {
   "cell_type": "markdown",
   "id": "7109e25d-def8-40b5-83b8-8a1c1921366f",
   "metadata": {},
   "source": [
    "### Schleife **vorzeitig verlassen** oder **wiederholen**\n",
    "For- und While-Schleifen kann man \n",
    "- mit `break` vorzeitig verlassen,\n",
    "- mit `continue` sofort den n&auml;chsten Schleifendurchlauf starten"
   ]
  },
  {
   "cell_type": "markdown",
   "id": "8e841d19-0229-4a95-a382-b84db7638d11",
   "metadata": {},
   "source": [
    "***\n",
    "**Beispiele** zu `break` und `continue`  \n",
    "- `break`: erstes Auftreten eines Zeichen in einem Wort finden,\n",
    "- `continue`: alle Auftreten eines Zeichen in einem Wort finden,   \n",
    "              bestimmte Zeichen aus einem Wort entfernen.\n",
    "***"
   ]
  },
  {
   "cell_type": "code",
   "execution_count": null,
   "id": "affea8ba-0943-4eeb-a518-ca2dc1449831",
   "metadata": {},
   "outputs": [],
   "source": [
    "# Erstes Auftretens eines Zeichen in einem String finden\n",
    "\n",
    "char = 'X'\n",
    "word = 'fooXbar'\n",
    "\n",
    "i = 0\n",
    "for c in word:\n",
    "    if c == char:\n",
    "        break\n",
    "    i = i + 1  \n",
    "\n",
    "i"
   ]
  },
  {
   "cell_type": "code",
   "execution_count": null,
   "id": "edbd0e6e-0a63-4d80-ac9e-4fc8b2ebdf17",
   "metadata": {},
   "outputs": [],
   "source": [
    "# wurde das Zeichen gefunden?\n",
    "if i == len(word):\n",
    "    fstring = '{} kommt in {} nicht vor.'\n",
    "    msg = str.format(fstring, char, word)\n",
    "    print(msg)\n",
    "else:\n",
    "    fstring = '{} kommt in {} zum ersten Mal an Position {} vor.'\n",
    "    msg = str.format(fstring, char, word, i)\n",
    "    print(msg) "
   ]
  },
  {
   "cell_type": "code",
   "execution_count": null,
   "id": "e5aad43f-8dd6-4633-8d5f-acde58e6ab08",
   "metadata": {},
   "outputs": [],
   "source": [
    "def find_first(word, char):\n",
    "    '''returns the position of the first occurrence of\n",
    "       the letter char in word.\n",
    "       returns -1 if char does not occur in word\n",
    "       word: str\n",
    "       char: str of length 1\n",
    "    '''\n",
    "    i = 0\n",
    "    for c in word:\n",
    "        if c == char:\n",
    "            break\n",
    "        i = i + 1  \n",
    "\n",
    "    if i == len(word):\n",
    "        i = -1\n",
    "    return i"
   ]
  },
  {
   "cell_type": "code",
   "execution_count": null,
   "id": "302c9139-d5f2-4840-a4d5-56b2cfe89005",
   "metadata": {},
   "outputs": [],
   "source": [
    "find_first('abcde', 'd')"
   ]
  },
  {
   "cell_type": "code",
   "execution_count": null,
   "id": "5a310d03-c7ac-479f-8e37-34d4ca8a457d",
   "metadata": {},
   "outputs": [],
   "source": []
  },
  {
   "cell_type": "code",
   "execution_count": null,
   "id": "3e3bbb9c-193a-483e-95f7-71ccf6d49ba4",
   "metadata": {},
   "outputs": [],
   "source": [
    "def find_all(word, char):\n",
    "    '''returns the position of the first occurrence of\n",
    "       the letter char in word.\n",
    "       returns -1 if char does not occur in word\n",
    "       word: str\n",
    "       char: str of length 1\n",
    "    '''\n",
    "    indices = ()\n",
    "    i = -1\n",
    "    for c in word:\n",
    "        i = i + 1  \n",
    "        if c != char:\n",
    "            continue\n",
    "        indices = indices + (i,)\n",
    "    return indices"
   ]
  },
  {
   "cell_type": "code",
   "execution_count": null,
   "id": "b5f776d9-711c-4d2d-a8b3-1e5ffa4574db",
   "metadata": {},
   "outputs": [],
   "source": [
    "# Alle Zahlen aus einem Wort entfernen\n",
    "\n",
    "digits = '0123456789'\n",
    "word = 'fo1o b2ar3'\n",
    "clean_word = ''\n",
    "\n",
    "for c in word:\n",
    "    # falls c eine Zahl ist, gehe zum naechsten Zeichen\n",
    "    if c in digits:\n",
    "        continue\n",
    "    clean_word = clean_word + c\n",
    "\n",
    "print(clean_word)"
   ]
  },
  {
   "cell_type": "code",
   "execution_count": null,
   "id": "8720e512-bd0a-4751-b2b2-75c4cd553f24",
   "metadata": {},
   "outputs": [],
   "source": [
    "def remove_chars(word, chars):\n",
    "    '''remove the characers in chars from word\n",
    "       and return the resulting word\n",
    "       word: str\n",
    "       chars: str\n",
    "    '''\n",
    "    clean_word = ''\n",
    "    for c in word:\n",
    "        if c in chars:\n",
    "            continue\n",
    "        clean_word = clean_word + c\n",
    "    return clean_word"
   ]
  },
  {
   "cell_type": "code",
   "execution_count": null,
   "id": "af8a0dfd-952f-4274-aff1-2e2ed13274d3",
   "metadata": {},
   "outputs": [],
   "source": [
    "text = '''\\\n",
    "Entferne \n",
    "die \n",
    "Zeilenumbrueche.\n",
    "'''\n",
    "remove_chars(text, '\\n')"
   ]
  },
  {
   "cell_type": "markdown",
   "id": "519c20a4-ba09-4058-8a6c-c974dea55d31",
   "metadata": {},
   "source": [
    "### Aufgabe\n",
    "- Wirf einen Blick auf die Funktion `eval_guess(guess, secret)` im Modul `L05_functions`.\n",
    "Diese Funktion gibt ein Paar `(ok, i)` zur&uuml;ck, wobei\n",
    "`ok` True oder False ist und `i` entweder 0, 1 oder -1, je nachdem ob\n",
    "richtig, zu gross oder zu klein geraten wurde.  \n",
    "Teste was passiert, wenn richtig, zu gross oder zu klein geraten wird.\n",
    "- Schreibe Code, der solange nach einer Zahl fragt, bis die Geheimzahl erraten wurde. \n",
    "- Wirf einen Blick auf die Funktion\n",
    "  `next_guess(guess, e, lower, upper)`.\n",
    "  Dieser Funktion wird ein inkorrekter Rateversuch `guess`\n",
    "  &uuml;bergeben sowie die Evaluation `e` (1 falls zu gross sonst -1) und eine untere und obere Grenze f&uuml;r die Geheimzahl  (Grenzen eingeschlossen).\n",
    "  Zur&uuml;ckgeben wird ein neuer Rateversuch und neue Grenzen f&uuml;r die Geheimzahl.\n",
    "- Schreibe Code, der diese beiden Funktionen innerhalb einer While-Schleife nutzt, um die Geheimzahl herauszufinden."
   ]
  },
  {
   "cell_type": "code",
   "execution_count": null,
   "id": "0165ab96-8584-4299-b05d-bdc5041e4932",
   "metadata": {},
   "outputs": [],
   "source": [
    "# Die Evaluation e ist 0, 1 oder -1, \n",
    "# je nachdem ob richtig, zu gross oder zu klein geraten wurde\n",
    "# e wird als Index verwendet, um den richtigen Kommentar herauszugreifen\n",
    "comments = ['richtig', 'zu gross', 'zu klein']\n",
    "comments[0], comments[1], comments[-1]"
   ]
  },
  {
   "cell_type": "code",
   "execution_count": null,
   "id": "a1d2976b-a233-4bcb-9914-56f674cf0060",
   "metadata": {},
   "outputs": [],
   "source": [
    "from L05_functions import eval_guess\n",
    "\n",
    "\n",
    "secret = 4\n",
    "guess = 5\n",
    "comments = ['richtig', 'zu gross', 'zu klein']\n",
    "ok, i = eval_guess(guess, secret)\n",
    "ok, comments[i]"
   ]
  },
  {
   "cell_type": "code",
   "execution_count": null,
   "id": "28d71029-cb39-4e04-8865-748b8c3f8743",
   "metadata": {},
   "outputs": [],
   "source": [
    "# Aufgabe, Frage nach Zahl, Ansatz\n",
    "secret = 3\n",
    "comments = ['richtig', 'zu gross', 'zu klein']\n",
    "while True:\n",
    "    guess = ...\n",
    "    ok, i = eval_guess(...)\n",
    "    print(comments[i])\n",
    "    ..."
   ]
  },
  {
   "cell_type": "code",
   "execution_count": null,
   "id": "1a3113f1-4217-47fc-b8d2-fd0ea58ea81f",
   "metadata": {},
   "outputs": [],
   "source": [
    "from L05_functions import next_guess\n",
    "\n",
    "\n",
    "lower = 0\n",
    "upper = 10\n",
    "guess = 7\n",
    "e = 1\n",
    "next_guess(guess, e, lower, upper)"
   ]
  },
  {
   "cell_type": "code",
   "execution_count": null,
   "id": "ba46acb5-706f-4559-b96a-a8f8659e130b",
   "metadata": {},
   "outputs": [],
   "source": [
    "lower, upper = 0, 10\n",
    "secret = 4\n",
    "guess = 7"
   ]
  },
  {
   "cell_type": "code",
   "execution_count": null,
   "id": "4acd9a84-2c68-46b4-afbb-089e6d362023",
   "metadata": {},
   "outputs": [],
   "source": [
    "# fuehre die Zelle mehrmals aus und\n",
    "# beobachte, wie sich guess zum secret konvergiert.\n",
    "guess, lower, upper = next_guess(guess, e, lower, upper)\n",
    "ok, e = eval_guess(guess, secret)\n",
    "str.format('guess={}, lower={}, upper={}', guess, lower, upper)"
   ]
  },
  {
   "cell_type": "code",
   "execution_count": null,
   "id": "a3d45eec-40f9-4df0-a77b-921336301933",
   "metadata": {},
   "outputs": [],
   "source": []
  },
  {
   "cell_type": "code",
   "execution_count": null,
   "id": "c7d094c1-e903-49e9-a8b8-b374cb2fc739",
   "metadata": {},
   "outputs": [],
   "source": []
  }
 ],
 "metadata": {
  "author": "dieter.probst@gmail.com",
  "kernelspec": {
   "display_name": "Python 3 (ipykernel)",
   "language": "python",
   "name": "python3"
  },
  "language_info": {
   "codemirror_mode": {
    "name": "ipython",
    "version": 3
   },
   "file_extension": ".py",
   "mimetype": "text/x-python",
   "name": "python",
   "nbconvert_exporter": "python",
   "pygments_lexer": "ipython3",
   "version": "3.13.0"
  }
 },
 "nbformat": 4,
 "nbformat_minor": 5
}
