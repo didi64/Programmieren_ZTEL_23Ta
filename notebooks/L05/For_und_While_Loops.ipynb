{
 "cells": [
  {
   "cell_type": "markdown",
   "id": "15f73f92-5efb-4822-9277-effc5fbe7538",
   "metadata": {},
   "source": [
    "### For-Schleifen\n",
    "\n",
    "  \n",
    "\n",
    "```python\n",
    "for <Variabelliste> in <Iterable>:\n",
    "    <Anweisungen>\n",
    "```\n",
    "**Erl&auml;uterung**: \n",
    "Ein `<Iterable>` ist ein tupleartiges Objekt,\n",
    "bei dem nach einem n&auml;chsten Element gefragt werden kann.\n",
    "```python\n",
    "<Variabelliste> = erstes Element von <Iterable>\n",
    "<Anweisungen>\n",
    "\n",
    "<Variabelliste> = naechstes Element von <Iterable>\n",
    "<Anweisungen>\n",
    "\n",
    "...\n",
    "\n",
    "<Variabelliste> = letztes Element von <Iterable>\n",
    "<Anweisungen>\n",
    "```\n",
    "\n",
    "**Beispiel**:  \n",
    "```python\n",
    "for i, name in [(1, 'Anna'), (2, 'Bob'), (3, 'Cathy')]:\n",
    "    print(i, name)\n",
    "```\n",
    "\n",
    "macht das gleiche wie\n",
    "```python\n",
    "i, name = (1, 'Anna')\n",
    "print(i, name)\n",
    "\n",
    "i, name = (2, 'Bob')\n",
    "print(i, name)\n",
    "\n",
    "i, name = (3, 'Cathy')\n",
    "print(i, name)\n",
    "```\n"
   ]
  },
  {
   "cell_type": "markdown",
   "id": "32bbdc77-5063-4c23-9463-cfbd4f1faf02",
   "metadata": {},
   "source": [
    "### While-Schleifen\n",
    "\n",
    "**Bemerkungen**:\n",
    "- While-Schleifen k&ouml;nnen (oft unbeabsichtigt) **Endlosschleifen** sein!  \n",
    "  (Mit Interrupt Kernel im Kernel Menu ist die Zelle zu stoppen)  \n",
    "\n",
    "```python\n",
    "while <Ausdruck>:\n",
    "    <Anweisungen>\n",
    "```\n",
    "**Erl&auml;uterung**:  \n",
    "Die `<Anweisungen>` im Codeblock werden wiederholt, solange `<Ausdruck>` wahr/truthy (d.h. `bool(<Ausdruck>) == True`) ist.  "
   ]
  },
  {
   "cell_type": "code",
   "execution_count": null,
   "id": "db5421b1-6210-4178-b01c-d84e9df4bd4f",
   "metadata": {},
   "outputs": [],
   "source": []
  },
  {
   "cell_type": "markdown",
   "id": "7109e25d-def8-40b5-83b8-8a1c1921366f",
   "metadata": {},
   "source": [
    "### Schleife **vorzeitig verlassen** oder **wiederholen**\n",
    "For- und While-Schleifen kann man \n",
    "- mit `break` vorzeitig verlassen,\n",
    "- mit `continue` sofort den n&auml;chsten Schleifendurchlauf starten"
   ]
  },
  {
   "cell_type": "markdown",
   "id": "8e841d19-0229-4a95-a382-b84db7638d11",
   "metadata": {},
   "source": [
    "***\n",
    "**Beispiele** zu `break` und `continue`  \n",
    "- `break`: erstes Auftreten eines Zeichen in einem Wort finden,\n",
    "- `continue`: alle Auftreten eines Zeichen in einem Wort finden,   \n",
    "              bestimmte Zeichen aus einem Wort entfernen.\n",
    "***"
   ]
  },
  {
   "cell_type": "code",
   "execution_count": 7,
   "id": "affea8ba-0943-4eeb-a518-ca2dc1449831",
   "metadata": {},
   "outputs": [
    {
     "name": "stdout",
     "output_type": "stream",
     "text": [
      "X kommt in fooxbar nicht vor.\n"
     ]
    }
   ],
   "source": [
    "# Erstes Auftretens eines Zeichen in einem String finden\n",
    "\n",
    "char = 'X'\n",
    "word = 'fooxbar'\n",
    "\n",
    "i = 0\n",
    "for c in word:\n",
    "    if c == char:\n",
    "        break\n",
    "    i = i + 1  \n",
    "\n",
    "if i == len(word):\n",
    "    fstring = '{} kommt in {} nicht vor.'\n",
    "    print(fstring.format(char, word))\n",
    "else:\n",
    "    fstring = '{} kommt in {} zum ersten Mal an Position {} vor.'\n",
    "    print(fstring.format(char, word, i)) "
   ]
  },
  {
   "cell_type": "code",
   "execution_count": 9,
   "id": "e5aad43f-8dd6-4633-8d5f-acde58e6ab08",
   "metadata": {},
   "outputs": [],
   "source": [
    "def find_first(word, char):\n",
    "    '''returns the position of the first occurrence of\n",
    "       the letter char in word.\n",
    "       returns -1 if char does not occur in word\n",
    "       word: str\n",
    "       char: str of length 1\n",
    "    '''\n",
    "    i = 0\n",
    "    for c in word:\n",
    "        if c == char:\n",
    "            break\n",
    "        i = i + 1  \n",
    "\n",
    "    if i == len(word):\n",
    "        i = -1\n",
    "    return i"
   ]
  },
  {
   "cell_type": "code",
   "execution_count": 12,
   "id": "302c9139-d5f2-4840-a4d5-56b2cfe89005",
   "metadata": {},
   "outputs": [
    {
     "data": {
      "text/plain": [
       "3"
      ]
     },
     "execution_count": 12,
     "metadata": {},
     "output_type": "execute_result"
    }
   ],
   "source": [
    "find_first('abcde', 'd')"
   ]
  },
  {
   "cell_type": "code",
   "execution_count": null,
   "id": "5a310d03-c7ac-479f-8e37-34d4ca8a457d",
   "metadata": {},
   "outputs": [],
   "source": []
  },
  {
   "cell_type": "code",
   "execution_count": null,
   "id": "3e3bbb9c-193a-483e-95f7-71ccf6d49ba4",
   "metadata": {},
   "outputs": [],
   "source": [
    "def find_all(word, char):\n",
    "    '''returns the position of the first occurrence of\n",
    "       the letter char in word.\n",
    "       returns -1 if char does not occur in word\n",
    "       word: str\n",
    "       char: str of length 1\n",
    "    '''\n",
    "    indices = ()\n",
    "    i = -1\n",
    "    for c in word:\n",
    "        i = i + 1  \n",
    "        if c != char:\n",
    "            continue\n",
    "        indices = indices + (i,)\n",
    "    return indices"
   ]
  },
  {
   "cell_type": "code",
   "execution_count": 13,
   "id": "b5f776d9-711c-4d2d-a8b3-1e5ffa4574db",
   "metadata": {},
   "outputs": [
    {
     "name": "stdout",
     "output_type": "stream",
     "text": [
      "foo bar\n"
     ]
    }
   ],
   "source": [
    "# Alle Zahlen aus einem Wort entfernen\n",
    "\n",
    "digits = '0123456789'\n",
    "word = 'fo1o b2ar3'\n",
    "clean_word = ''\n",
    "\n",
    "for c in word:\n",
    "    # falls c eine Zahl ist, gehe zum naechsten Zeichen\n",
    "    if c in digits:\n",
    "        continue\n",
    "    clean_word = clean_word + c\n",
    "\n",
    "print(clean_word)"
   ]
  },
  {
   "cell_type": "code",
   "execution_count": 14,
   "id": "8720e512-bd0a-4751-b2b2-75c4cd553f24",
   "metadata": {},
   "outputs": [],
   "source": [
    "def remove_chars(word, chars):\n",
    "    '''remove the characers in chars from word\n",
    "       and return the resulting word\n",
    "       word: str\n",
    "       chars: str\n",
    "    '''\n",
    "    clean_word = ''\n",
    "    for c in word:\n",
    "        if c in chars:\n",
    "            continue\n",
    "        clean_word = clean_word + c\n",
    "    return clean_word"
   ]
  },
  {
   "cell_type": "code",
   "execution_count": 17,
   "id": "af8a0dfd-952f-4274-aff1-2e2ed13274d3",
   "metadata": {},
   "outputs": [
    {
     "data": {
      "text/plain": [
       "'Entferne die Zeilenumbrueche.'"
      ]
     },
     "execution_count": 17,
     "metadata": {},
     "output_type": "execute_result"
    }
   ],
   "source": [
    "text = '''\\\n",
    "Entferne \n",
    "die \n",
    "Zeilenumbrueche.\n",
    "'''\n",
    "remove_chars(text, '\\n')"
   ]
  },
  {
   "cell_type": "markdown",
   "id": "519c20a4-ba09-4058-8a6c-c974dea55d31",
   "metadata": {},
   "source": [
    "### Aufgabe\n",
    "- Wirf einen BLick auf die Funktion `eval_guess(guess, secret)` im Modul XXX.\n",
    "Diese Funktion gibt ein Paar `(ok, i)` zur&uuml;ck, wobei\n",
    "`ok` True oder False ist und `i` entweder 0, 1 oder -1, je nachdem ob\n",
    "richtig, zu gross oder zu klein geraten wurde.  \n",
    "Teste was passiert, wenn richtig, zu gross oder zu klein geraten wird.\n",
    "- Schreibe Code der solange nach einer Zal fragt, bis die Geheimzahl erraten wurde. \n",
    "- Wirf einen BLick auf die Funktion\n",
    "  `next_guess(guess, e, lower, upper)` im Modul XXX.\n",
    "  Die Geheimzahl liegt zwischen `lower` und `upper` (Grenzen eingeschlossen), `e` ist 1 oder -1 (zu gross, zu klein) und guess der Rateversuch.\n",
    "  Zurueckgeben wird ein neuer Rateversuch und neue Grenzen f&uuml;r die Geheimzahl.\n",
    "- Schreibe Code, der diese beiden Funktionen innerhalb einer Whileschleife nutzt, um die Geheimzahl herauszufinden."
   ]
  },
  {
   "cell_type": "code",
   "execution_count": 19,
   "id": "0165ab96-8584-4299-b05d-bdc5041e4932",
   "metadata": {},
   "outputs": [
    {
     "data": {
      "text/plain": [
       "'zu klein'"
      ]
     },
     "execution_count": 19,
     "metadata": {},
     "output_type": "execute_result"
    }
   ],
   "source": [
    "comments = ['richtig', 'zu gross', 'zu klein']\n",
    "comments[-1]"
   ]
  },
  {
   "cell_type": "code",
   "execution_count": null,
   "id": "a1d2976b-a233-4bcb-9914-56f674cf0060",
   "metadata": {},
   "outputs": [],
   "source": [
    "from XXX import eval_guess\n",
    "\n",
    "\n",
    "secret = ...\n",
    "guess = ...\n",
    "comments = ['richtig', 'zu gross', 'zu klein']\n",
    "ok, i = eval_guess(guess, secret)\n",
    "print(ok, comments[i])"
   ]
  },
  {
   "cell_type": "code",
   "execution_count": null,
   "id": "28d71029-cb39-4e04-8865-748b8c3f8743",
   "metadata": {},
   "outputs": [],
   "source": []
  },
  {
   "cell_type": "code",
   "execution_count": 18,
   "id": "1a3113f1-4217-47fc-b8d2-fd0ea58ea81f",
   "metadata": {},
   "outputs": [
    {
     "ename": "ModuleNotFoundError",
     "evalue": "No module named 'XXX'",
     "output_type": "error",
     "traceback": [
      "\u001b[0;31m---------------------------------------------------------------------------\u001b[0m",
      "\u001b[0;31mModuleNotFoundError\u001b[0m                       Traceback (most recent call last)",
      "Cell \u001b[0;32mIn[18], line 1\u001b[0m\n\u001b[0;32m----> 1\u001b[0m \u001b[38;5;28;01mfrom\u001b[39;00m \u001b[38;5;21;01mXXX\u001b[39;00m \u001b[38;5;28;01mimport\u001b[39;00m next_guess\n\u001b[1;32m      3\u001b[0m lower \u001b[38;5;241m=\u001b[39m \u001b[38;5;241m0\u001b[39m\n\u001b[1;32m      4\u001b[0m upper \u001b[38;5;241m=\u001b[39m \u001b[38;5;241m10\u001b[39m\n",
      "\u001b[0;31mModuleNotFoundError\u001b[0m: No module named 'XXX'"
     ]
    }
   ],
   "source": [
    "from XXX import next_guess\n",
    "\n",
    "lower = 0\n",
    "upper = 10\n",
    "guess = ...\n",
    "e = ...\n",
    "next_guess(guess, e, lower, upper)"
   ]
  },
  {
   "cell_type": "code",
   "execution_count": null,
   "id": "ba46acb5-706f-4559-b96a-a8f8659e130b",
   "metadata": {},
   "outputs": [],
   "source": [
    "lower, upper = 0, 10\n",
    "secet = 3\n",
    "guess = 7"
   ]
  },
  {
   "cell_type": "code",
   "execution_count": 20,
   "id": "4acd9a84-2c68-46b4-afbb-089e6d362023",
   "metadata": {},
   "outputs": [
    {
     "ename": "NameError",
     "evalue": "name 'eval_guess' is not defined",
     "output_type": "error",
     "traceback": [
      "\u001b[0;31m---------------------------------------------------------------------------\u001b[0m",
      "\u001b[0;31mNameError\u001b[0m                                 Traceback (most recent call last)",
      "Cell \u001b[0;32mIn[20], line 1\u001b[0m\n\u001b[0;32m----> 1\u001b[0m ok, e \u001b[38;5;241m=\u001b[39m \u001b[43meval_guess\u001b[49m(guess, secret)\n\u001b[1;32m      2\u001b[0m \u001b[38;5;28;01mif\u001b[39;00m \u001b[38;5;129;01mnot\u001b[39;00m ok:\n\u001b[1;32m      3\u001b[0m     guess, lower, upper \u001b[38;5;241m=\u001b[39m next_guess(guess, e, lower, upper)\n",
      "\u001b[0;31mNameError\u001b[0m: name 'eval_guess' is not defined"
     ]
    }
   ],
   "source": [
    "ok, e = eval_guess(guess, secret)\n",
    "if not ok:\n",
    "    guess, lower, upper = next_guess(guess, e, lower, upper)\n",
    "ok, guess, lower, upper "
   ]
  },
  {
   "cell_type": "code",
   "execution_count": null,
   "id": "7067d6c1-025d-43f5-bc5f-138355e500bc",
   "metadata": {},
   "outputs": [],
   "source": []
  }
 ],
 "metadata": {
  "author": "dieter.probst@gmail.com",
  "kernelspec": {
   "display_name": "Python 3 (ipykernel)",
   "language": "python",
   "name": "python3"
  },
  "language_info": {
   "codemirror_mode": {
    "name": "ipython",
    "version": 3
   },
   "file_extension": ".py",
   "mimetype": "text/x-python",
   "name": "python",
   "nbconvert_exporter": "python",
   "pygments_lexer": "ipython3",
   "version": "3.13.0"
  }
 },
 "nbformat": 4,
 "nbformat_minor": 5
}
