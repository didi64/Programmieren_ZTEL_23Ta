{
 "cells": [
  {
   "cell_type": "markdown",
   "id": "7a202cc7-8b74-4ae0-8d21-500139ad3284",
   "metadata": {},
   "source": [
    "## Testing"
   ]
  },
  {
   "cell_type": "code",
   "execution_count": 1,
   "id": "4dff579c-bf80-4b48-9648-59a433805441",
   "metadata": {},
   "outputs": [],
   "source": [
    "import math\n",
    "from testing import testing"
   ]
  },
  {
   "cell_type": "code",
   "execution_count": 2,
   "id": "1671e461-9ea2-40d9-b089-7faebce28c49",
   "metadata": {},
   "outputs": [],
   "source": [
    "def ceil_with_errors(x):\n",
    "    if x == int(x):\n",
    "        return x  # int(x)\n",
    "    if x > 0:\n",
    "        return int(x)  # int(x) + 1\n",
    "    else:\n",
    "        return int(x)"
   ]
  },
  {
   "cell_type": "code",
   "execution_count": 3,
   "id": "671ca0b6-4e28-4336-bc9c-0bca31a85477",
   "metadata": {},
   "outputs": [
    {
     "name": "stdout",
     "output_type": "stream",
     "text": [
      "\u001b[22;32m4/8 tests passed.\u001b[0m\n"
     ]
    },
    {
     "name": "stderr",
     "output_type": "stream",
     "text": [
      "\u001b[22;31m4/8 tests failed.\u001b[0m\n",
      "\u001b[22;94mtest 4: args: 0.0 got: 0.0 expected: 0\u001b[0m\n",
      "\u001b[22;94mtest 5: args: 0.1 got: 0 expected: 1\u001b[0m\n",
      "\u001b[22;94mtest 6: args: 1.1 got: 1 expected: 2\u001b[0m\n",
      "\u001b[22;94mtest 7: args: 1.9 got: 1 expected: 2\u001b[0m\n"
     ]
    }
   ],
   "source": [
    "xs = [-1.9, -0.9, -0.1, 0, 0.0, 0.1, 1.1, 1.9]\n",
    "ys = [-1, 0, 0, 0, 0, 1, 2, 2]\n",
    "testing(ceil_with_errors, xs, ys)"
   ]
  },
  {
   "cell_type": "code",
   "execution_count": 4,
   "id": "3582fe08-fe4c-449d-a074-97507a46333e",
   "metadata": {},
   "outputs": [
    {
     "name": "stdout",
     "output_type": "stream",
     "text": [
      "\u001b[22;32m5/8 tests passed.\u001b[0m\n"
     ]
    },
    {
     "name": "stderr",
     "output_type": "stream",
     "text": [
      "\u001b[22;31m3/8 tests failed.\u001b[0m\n",
      "\u001b[22;94mtest 5: args: 0.1 got: 0 expected: 1\u001b[0m\n",
      "\u001b[22;94mtest 6: args: 1.1 got: 1 expected: 2\u001b[0m\n",
      "\u001b[22;94mtest 7: args: 1.9 got: 1 expected: 2\u001b[0m\n"
     ]
    }
   ],
   "source": [
    "testing(ceil_with_errors, xs, ys, check_types=False)"
   ]
  },
  {
   "cell_type": "code",
   "execution_count": 5,
   "id": "ae132eae-574b-4731-8862-5df94988e2d6",
   "metadata": {},
   "outputs": [
    {
     "name": "stdout",
     "output_type": "stream",
     "text": [
      "\u001b[22;32m4/8 tests passed.\u001b[0m\n"
     ]
    },
    {
     "name": "stderr",
     "output_type": "stream",
     "text": [
      "\u001b[22;31m4/8 tests failed.\u001b[0m\n",
      "\u001b[22;94mtest 4: args: 0.0 got: 0.0 expected: 0\u001b[0m\n",
      "\u001b[22;94mtest 5: args: 0.1 got: 0 expected: 1\u001b[0m\n",
      "\u001b[22;94mtest 6: args: 1.1 got: 1 expected: 2\u001b[0m\n",
      "\u001b[22;94mtest 7: args: 1.9 got: 1 expected: 2\u001b[0m\n"
     ]
    }
   ],
   "source": [
    "testing(ceil_with_errors, xs, math.ceil)"
   ]
  },
  {
   "cell_type": "code",
   "execution_count": 6,
   "id": "6dcd35e5-0423-4bb0-ac14-ea549a87dca8",
   "metadata": {},
   "outputs": [
    {
     "name": "stdout",
     "output_type": "stream",
     "text": [
      "\u001b[22;32m5/8 tests passed.\u001b[0m\n"
     ]
    },
    {
     "name": "stderr",
     "output_type": "stream",
     "text": [
      "\u001b[22;31m3/8 tests failed.\u001b[0m\n",
      "\u001b[22;94mtest 5: args: 0.1 got: 0 expected: 1\u001b[0m\n",
      "\u001b[22;94mtest 6: args: 1.1 got: 1 expected: 2\u001b[0m\n",
      "\u001b[22;94mtest 7: args: 1.9 got: 1 expected: 2\u001b[0m\n"
     ]
    }
   ],
   "source": [
    "testing(ceil_with_errors, xs, math.ceil, check_types=False)"
   ]
  },
  {
   "cell_type": "code",
   "execution_count": 7,
   "id": "fd593d7b-7c13-46ae-97ea-5cea0ff70808",
   "metadata": {},
   "outputs": [],
   "source": [
    "def ceil(x):\n",
    "    if x == int(x):\n",
    "        return int(x)\n",
    "    if x > 0:\n",
    "        return int(x) + 1 \n",
    "    else:\n",
    "        return int(x)"
   ]
  },
  {
   "cell_type": "code",
   "execution_count": 8,
   "id": "20bafc9c-f7ab-4f8d-bf39-a931ceca063c",
   "metadata": {},
   "outputs": [
    {
     "name": "stdout",
     "output_type": "stream",
     "text": [
      "\u001b[22;32m8/8 tests passed.\u001b[0m\n"
     ]
    }
   ],
   "source": [
    "testing(ceil, xs, math.ceil)"
   ]
  },
  {
   "cell_type": "code",
   "execution_count": null,
   "id": "0641998e-1ae6-4450-829f-da5b05420d8b",
   "metadata": {},
   "outputs": [],
   "source": []
  }
 ],
 "metadata": {
  "kernelspec": {
   "display_name": "Python 3 (ipykernel)",
   "language": "python",
   "name": "python3"
  },
  "language_info": {
   "codemirror_mode": {
    "name": "ipython",
    "version": 3
   },
   "file_extension": ".py",
   "mimetype": "text/x-python",
   "name": "python",
   "nbconvert_exporter": "python",
   "pygments_lexer": "ipython3",
   "version": "3.13.0"
  }
 },
 "nbformat": 4,
 "nbformat_minor": 5
}
