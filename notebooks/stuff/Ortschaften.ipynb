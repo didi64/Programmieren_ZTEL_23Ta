{
 "cells": [
  {
   "cell_type": "markdown",
   "id": "1c996f4a-c594-4d48-bc74-2c67d10a914d",
   "metadata": {},
   "source": [
    "### Ortschaften der Schweiz und Liechtenstein\n",
    "Orte, die zu mehren Kantonen gehoeren\n",
    "Orte, die zu mehren Gemeinden gehoeren Shilbrugg"
   ]
  },
  {
   "cell_type": "code",
   "execution_count": null,
   "id": "436e0374-605d-4d73-ab1e-3ab8d48fedab",
   "metadata": {},
   "outputs": [],
   "source": []
  },
  {
   "cell_type": "code",
   "execution_count": null,
   "id": "e2a7e043-c9ba-447c-b008-f0d2fdccc668",
   "metadata": {},
   "outputs": [],
   "source": [
    "SEP = ';'\n",
    "\n",
    "with open('ortschaften.csv', 'r') as f:\n",
    "    lines = [line.strip() for line in f]\n",
    "    \n",
    "len(lines)"
   ]
  },
  {
   "cell_type": "code",
   "execution_count": null,
   "id": "8234b223-ef7f-4424-bd7f-3c07d183df3f",
   "metadata": {},
   "outputs": [],
   "source": [
    "lines[0], lines[1], lines[-1]"
   ]
  },
  {
   "cell_type": "code",
   "execution_count": null,
   "id": "56e2f66a-9550-418e-a068-613149806c1f",
   "metadata": {},
   "outputs": [],
   "source": [
    "header = lines[0].split(SEP)\n",
    "for i, col in enumerate(header):\n",
    "    print(i, col)"
   ]
  },
  {
   "cell_type": "code",
   "execution_count": null,
   "id": "7323b54f-7a2b-4512-8652-813659f5c79f",
   "metadata": {},
   "outputs": [],
   "source": [
    "cols = (1, 0, 3, 5, 8)\n",
    "PLZ = 0\n",
    "ORT = 1\n",
    "GDE = 2\n",
    "KT = 3\n",
    "LANG = 4\n",
    "\n",
    "rows = []\n",
    "for line in lines[1:]:\n",
    "    row = line.split(SEP)\n",
    "    row = [row[i] for i in cols]\n",
    "    rows.append(row)\n",
    "rows[0]   "
   ]
  },
  {
   "cell_type": "code",
   "execution_count": null,
   "id": "c223335d-8672-4f7f-a2f1-e22ae902d963",
   "metadata": {},
   "outputs": [],
   "source": [
    "rows[1000][ORT]"
   ]
  },
  {
   "cell_type": "code",
   "execution_count": null,
   "id": "67746996-41c2-41b1-ba9b-88c262d9c64a",
   "metadata": {},
   "outputs": [],
   "source": [
    "incomplete_rows = [row for row in rows if not all(row)]\n",
    "incomplete_rows"
   ]
  },
  {
   "cell_type": "code",
   "execution_count": null,
   "id": "80295b3d-be53-4d6f-a1b3-e8ec816f9c2f",
   "metadata": {},
   "outputs": [],
   "source": [
    "orte = sorted(set(row[1] for row in rows))\n",
    "orte[:10], orte[-10:]"
   ]
  },
  {
   "cell_type": "code",
   "execution_count": null,
   "id": "ae468838-6726-4c06-ae03-71ad724c22c9",
   "metadata": {},
   "outputs": [],
   "source": [
    "alphabet = set()\n",
    "for row in rows:\n",
    "    alphabet |= set(row[1])\n",
    "''.join(sorted(alphabet))"
   ]
  },
  {
   "cell_type": "code",
   "execution_count": null,
   "id": "050baa2e-a64e-477f-88d6-d441b8597f56",
   "metadata": {},
   "outputs": [],
   "source": [
    "orte_1 = [ort for ort in orte if any(d in ort for d in '0123456789')]\n",
    "orte_1"
   ]
  },
  {
   "cell_type": "code",
   "execution_count": null,
   "id": "29694e6c-b334-4b5a-9216-4fcec626c6ee",
   "metadata": {},
   "outputs": [],
   "source": [
    "[row for row in rows if row[ORT].startswith('Laax')]"
   ]
  },
  {
   "cell_type": "code",
   "execution_count": null,
   "id": "401c5982-960e-4815-a116-a3b6ee6bbee2",
   "metadata": {},
   "outputs": [],
   "source": [
    "orte_2 = [ort for ort in orte if '.' in ort]\n",
    "orte_2[:10]"
   ]
  },
  {
   "cell_type": "code",
   "execution_count": null,
   "id": "d9d8109a-cfa4-46ee-ad4a-b4f679afdc63",
   "metadata": {},
   "outputs": [],
   "source": [
    "orte_3 = [ort for ort in orte if '/' in ort]\n",
    "orte_3"
   ]
  },
  {
   "cell_type": "code",
   "execution_count": 165,
   "id": "5400b2fb-fcc8-44f8-a669-747303a79fe3",
   "metadata": {},
   "outputs": [
    {
     "data": {
      "text/plain": [
       "['Aarberg',\n",
       " 'Allerheiligenberg',\n",
       " 'Ausserberg',\n",
       " 'Balm b. Günsberg',\n",
       " 'Balmberg',\n",
       " 'Beatenberg',\n",
       " 'Belpberg',\n",
       " 'Berg (Dägerlen)',\n",
       " 'Berg SG',\n",
       " 'Berg TG']"
      ]
     },
     "execution_count": 165,
     "metadata": {},
     "output_type": "execute_result"
    }
   ],
   "source": [
    "berg_orte = [ort for ort in orte if 'berg' in ort.lower()]\n",
    "berg_orte[:10]"
   ]
  },
  {
   "cell_type": "code",
   "execution_count": 166,
   "id": "6f5272bd-e9f0-4fe1-a719-9999d4c5b020",
   "metadata": {},
   "outputs": [
    {
     "data": {
      "text/plain": [
       "['Schönenbaumgarten',\n",
       " 'Schönenberg ZH',\n",
       " 'Schönenberg an der Thur',\n",
       " 'Schönenbuch',\n",
       " 'Schönengrund',\n",
       " 'Schönenwerd',\n",
       " 'Schönholzerswilen',\n",
       " 'Schönried',\n",
       " 'Urtenen-Schönbühl']"
      ]
     },
     "execution_count": 166,
     "metadata": {},
     "output_type": "execute_result"
    }
   ],
   "source": [
    "berg_orte = [ort for ort in orte if 'schön' in ort.lower()]\n",
    "berg_orte[:10]"
   ]
  },
  {
   "cell_type": "code",
   "execution_count": null,
   "id": "d6ff84e8-0d59-4850-a3a7-2706861b5bd1",
   "metadata": {},
   "outputs": [],
   "source": []
  }
 ],
 "metadata": {
  "author": "dieter.probst@gmail.com",
  "kernelspec": {
   "display_name": "Python 3 (ipykernel)",
   "language": "python",
   "name": "python3"
  },
  "language_info": {
   "codemirror_mode": {
    "name": "ipython",
    "version": 3
   },
   "file_extension": ".py",
   "mimetype": "text/x-python",
   "name": "python",
   "nbconvert_exporter": "python",
   "pygments_lexer": "ipython3",
   "version": "3.13.0"
  }
 },
 "nbformat": 4,
 "nbformat_minor": 5
}
