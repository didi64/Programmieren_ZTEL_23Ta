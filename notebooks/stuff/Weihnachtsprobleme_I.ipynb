{
 "cells": [
  {
   "cell_type": "markdown",
   "id": "e81614a5-4cf6-44ba-8bbd-107c4b8dedcf",
   "metadata": {},
   "source": [
    "### Minipython Probleme\n",
    "Benutze nur die Typen int, floats, str. \n",
    "Keine String-Methoden (ausser `len`, `+` und `*`).\n",
    "Kein `range`. Kein While."
   ]
  },
  {
   "cell_type": "code",
   "execution_count": null,
   "id": "a3f8727c-0359-497e-8c9b-1f9528b53930",
   "metadata": {},
   "outputs": [],
   "source": []
  },
  {
   "cell_type": "code",
   "execution_count": 39,
   "id": "26744730-65a0-4e2b-888e-dbbb64431bc5",
   "metadata": {},
   "outputs": [],
   "source": [
    "from testing import validate\n",
    "tests = {\n",
    "\n",
    "\n",
    "}"
   ]
  },
  {
   "cell_type": "code",
   "execution_count": null,
   "id": "910e9e46-bddd-422a-a03d-5b03228fad48",
   "metadata": {},
   "outputs": [],
   "source": [
    "def insert(s, i, word):\n",
    "    return s[:i] + word + s[i:]"
   ]
  },
  {
   "cell_type": "code",
   "execution_count": null,
   "id": "c07c4d18-1c3b-4ce5-bb92-589a994c03f3",
   "metadata": {},
   "outputs": [],
   "source": []
  },
  {
   "cell_type": "markdown",
   "id": "7ad0b654-efb0-4712-8c85-e40109c6b286",
   "metadata": {},
   "source": [
    "Sie 0<i <=j <= len(s).\n",
    "Wie lang ist der s[i:j]"
   ]
  },
  {
   "cell_type": "code",
   "execution_count": 73,
   "id": "aa3089ff-3b95-4d8f-9492-e113e6866701",
   "metadata": {},
   "outputs": [],
   "source": [
    "def head(s, n):\n",
    "    '''return s[:n]'''\n",
    "    word = ''\n",
    "    i = 0\n",
    "    for _ in ' ' * n:\n",
    "        word += s[i]\n",
    "        i += 1\n",
    "    return word"
   ]
  },
  {
   "cell_type": "code",
   "execution_count": 75,
   "id": "f47d3e87-2a67-4001-965d-affe2cd26418",
   "metadata": {},
   "outputs": [
    {
     "data": {
      "text/plain": [
       "'foob'"
      ]
     },
     "execution_count": 75,
     "metadata": {},
     "output_type": "execute_result"
    }
   ],
   "source": [
    "head('foobar', 4)"
   ]
  },
  {
   "cell_type": "code",
   "execution_count": 69,
   "id": "96b75a08-42ae-4abf-b0d5-41bc01483c8c",
   "metadata": {},
   "outputs": [],
   "source": [
    "def tail(s, n):\n",
    "    '''return s[-n:]'''\n",
    "    word = ''\n",
    "    i = len(s) - n\n",
    "    for _ in ' ' * n:\n",
    "        word += s[i]\n",
    "        i += 1\n",
    "    return word"
   ]
  },
  {
   "cell_type": "code",
   "execution_count": null,
   "id": "b98f351b-2a6b-4dd0-b830-e6333895e19b",
   "metadata": {},
   "outputs": [],
   "source": [
    "tail('foobar', 5)"
   ]
  },
  {
   "cell_type": "code",
   "execution_count": 76,
   "id": "699056f9-73ff-4935-ae6f-69005b2d78e6",
   "metadata": {},
   "outputs": [],
   "source": [
    "def get_slice(s, i, j):\n",
    "    '''return s[i:j]'''\n",
    "    word = ''\n",
    "    n = j-i\n",
    "    for _ in ' ' * n:\n",
    "        word += s[i]\n",
    "        i += 1\n",
    "    return word"
   ]
  },
  {
   "cell_type": "code",
   "execution_count": 78,
   "id": "4e4e946f-59fd-40c7-8315-515aa69d753b",
   "metadata": {},
   "outputs": [
    {
     "data": {
      "text/plain": [
       "'ba'"
      ]
     },
     "execution_count": 78,
     "metadata": {},
     "output_type": "execute_result"
    }
   ],
   "source": [
    "get_slice('foobar', 3, 5)"
   ]
  },
  {
   "cell_type": "code",
   "execution_count": 81,
   "id": "33d9c81a-b354-4c48-afe1-538b36ddc433",
   "metadata": {},
   "outputs": [],
   "source": [
    "\n",
    "def get_slice1(s, i, j):\n",
    "    '''return s[i:j]'''\n",
    "    n= len(s)\n",
    "    s = tail(s, len(s)-i)\n",
    "    return head(s, j-i)"
   ]
  },
  {
   "cell_type": "code",
   "execution_count": 82,
   "id": "f5a95d35-c337-4b67-bf56-68c413cb4ac1",
   "metadata": {},
   "outputs": [
    {
     "data": {
      "text/plain": [
       "'bcd'"
      ]
     },
     "execution_count": 82,
     "metadata": {},
     "output_type": "execute_result"
    }
   ],
   "source": [
    "get_slice('abcd', 1,4)"
   ]
  },
  {
   "cell_type": "code",
   "execution_count": 83,
   "id": "67323fe3-c315-4b50-b6d9-dea59c277cc1",
   "metadata": {},
   "outputs": [
    {
     "data": {
      "text/plain": [
       "'bcd'"
      ]
     },
     "execution_count": 83,
     "metadata": {},
     "output_type": "execute_result"
    }
   ],
   "source": [
    "get_slice1('abcd', 1,4)"
   ]
  },
  {
   "cell_type": "code",
   "execution_count": 84,
   "id": "271cd92f-ed9b-4ea6-a93f-e98ba6e068d9",
   "metadata": {},
   "outputs": [],
   "source": [
    "def insert(s, i, word):\n",
    "    return get_slice(s, 0, i) + word + get_slice(s, i, len(s))"
   ]
  },
  {
   "cell_type": "code",
   "execution_count": 85,
   "id": "a8829d2e-5bce-44ed-aafd-a89edeba632d",
   "metadata": {},
   "outputs": [
    {
     "data": {
      "text/plain": [
       "'fooxxxbar'"
      ]
     },
     "execution_count": 85,
     "metadata": {},
     "output_type": "execute_result"
    }
   ],
   "source": [
    "insert('foobar',3, 'xxx')"
   ]
  },
  {
   "cell_type": "code",
   "execution_count": null,
   "id": "5214bea2-75ac-4bbc-9168-553869d59d60",
   "metadata": {},
   "outputs": [],
   "source": [
    "def get_slice(s, i, j):\n",
    "    result = ''\n",
    "    index = 0\n",
    "    while index < len(s):\n",
    "        if i <= index < j:\n",
    "            result += s[index]\n",
    "        index += 1\n",
    "    return result"
   ]
  },
  {
   "cell_type": "code",
   "execution_count": 86,
   "id": "83990aee-b7af-4d02-ae02-a53da914b1c4",
   "metadata": {},
   "outputs": [],
   "source": [
    "def get_slice(s, i, j):\n",
    "    result = ''\n",
    "    j = min(j, len(s))\n",
    "    while i < j:\n",
    "        result += s[i]\n",
    "        i += 1\n",
    "    return result"
   ]
  },
  {
   "cell_type": "code",
   "execution_count": 90,
   "id": "79320ccc-220f-4517-957c-bfa292d732d9",
   "metadata": {},
   "outputs": [
    {
     "data": {
      "text/plain": [
       "'oba'"
      ]
     },
     "execution_count": 90,
     "metadata": {},
     "output_type": "execute_result"
    }
   ],
   "source": [
    "get_slice('foobar', 2, 5)"
   ]
  },
  {
   "cell_type": "code",
   "execution_count": null,
   "id": "d3decf33-7835-42a3-b38f-8c2fc218edbd",
   "metadata": {},
   "outputs": [],
   "source": [
    "def get_slice(s, i, j, current=0, result=\"\"):\n",
    "    if current >= len(s):  # Base case: End of the string\n",
    "        return result\n",
    "    if i <= current < j:   # Include the character in the result if in range\n",
    "        result += s[current]\n",
    "    return get_slice(s, i, j, current + 1, result)  # Recursive call"
   ]
  },
  {
   "cell_type": "code",
   "execution_count": null,
   "id": "9167e2ef-cce0-4930-a0e2-4b80df32fc81",
   "metadata": {},
   "outputs": [],
   "source": [
    "def find(s, word, start=0):\n",
    "    '''returns the index of the first occurrence\n",
    "       of word in s[start:] or -1\n",
    "       s: str\n",
    "       word: str\n",
    "       start: int\n",
    "    '''\n",
    "    n = len(s)\n",
    "    m = len(word)\n",
    "\n",
    "    i = start\n",
    "    for _ in ' ' * n - start - m + 1\n",
    "        if s[i:i+m] == word:\n",
    "            return i\n",
    "        i += 1\n",
    "    return -1"
   ]
  },
  {
   "cell_type": "code",
   "execution_count": 36,
   "id": "14b2befb-ddd4-421a-9565-0f63725e460b",
   "metadata": {},
   "outputs": [],
   "source": [
    "def replace(s, old, new):\n",
    "    '''Return a copy with all occurrences \n",
    "       of substring old replaced by new.\n",
    "    '''\n",
    "    m = len(old)\n",
    "    n = len(new)\n",
    "    i = 0\n",
    "    \n",
    "    while i < len(s):\n",
    "        if s[i:i+m] == old:\n",
    "            s = s[:i] + new + s[i+m:]\n",
    "            i += len(new)\n",
    "        else:\n",
    "            i += 1\n",
    "    return s  "
   ]
  },
  {
   "cell_type": "code",
   "execution_count": null,
   "id": "420a8757-d709-4611-bc74-1c8cca4e6e8d",
   "metadata": {},
   "outputs": [],
   "source": []
  },
  {
   "cell_type": "code",
   "execution_count": 37,
   "id": "c2312878-be53-469b-869e-c37f93fcf507",
   "metadata": {},
   "outputs": [
    {
     "data": {
      "text/plain": [
       "'fooBBAABBAAraraBBAAr'"
      ]
     },
     "execution_count": 37,
     "metadata": {},
     "output_type": "execute_result"
    }
   ],
   "source": [
    "s = 'foobabararabar'\n",
    "old = 'ba'\n",
    "new= 'BBAA'\n",
    "replace(s, old, new)"
   ]
  },
  {
   "cell_type": "code",
   "execution_count": null,
   "id": "ffe00602-358c-436b-bff9-4455067f41ed",
   "metadata": {},
   "outputs": [],
   "source": []
  }
 ],
 "metadata": {
  "kernelspec": {
   "display_name": "Python 3 (ipykernel)",
   "language": "python",
   "name": "python3"
  },
  "language_info": {
   "codemirror_mode": {
    "name": "ipython",
    "version": 3
   },
   "file_extension": ".py",
   "mimetype": "text/x-python",
   "name": "python",
   "nbconvert_exporter": "python",
   "pygments_lexer": "ipython3",
   "version": "3.13.0"
  }
 },
 "nbformat": 4,
 "nbformat_minor": 5
}
