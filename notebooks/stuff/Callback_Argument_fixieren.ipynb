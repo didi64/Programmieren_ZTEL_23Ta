{
 "cells": [
  {
   "cell_type": "code",
   "execution_count": null,
   "id": "e2c3238a-6b02-4324-83bb-d13047561ced",
   "metadata": {},
   "outputs": [],
   "source": [
    "from ipywidgets import Text\n",
    "from out import new_out, print_to_out\n",
    "\n",
    "from IPython.display import display\n",
    "\n",
    "# Deprecation Warnings unterdruecken\n",
    "import warnings\n",
    "warnings.filterwarnings('ignore', category=DeprecationWarning)"
   ]
  },
  {
   "cell_type": "markdown",
   "id": "66e542c1-aee1-4adb-bf92-87308521e3ca",
   "metadata": {},
   "source": [
    "### Argument einer Funktion fixieren\n",
    "\n",
    "\n"
   ]
  },
  {
   "cell_type": "code",
   "execution_count": null,
   "id": "51fe7c2d-7855-44e0-ac2c-854231862011",
   "metadata": {},
   "outputs": [],
   "source": []
  },
  {
   "cell_type": "code",
   "execution_count": 28,
   "id": "14d8939b-fbcb-43a8-a15b-ece85325af98",
   "metadata": {},
   "outputs": [],
   "source": [
    "z = 42  # Wert des 2. Arguments\n",
    "\n",
    "\n",
    "def f(x, y):\n",
    "    print(x, y)\n",
    "\n",
    "\n",
    "def g(x, y=z):\n",
    "    '''y erhalt den Wert den z jetzt hat'''\n",
    "    f(x, y)\n",
    "\n",
    "\n",
    "def h(x):\n",
    "    '''Wert von z zum Zeitpunkt des Funktionsaufrufs ist relvant'''\n",
    "    f(x, z)"
   ]
  },
  {
   "cell_type": "code",
   "execution_count": 27,
   "id": "44a8592c-5e43-4ae7-98fa-970eafd75ed0",
   "metadata": {},
   "outputs": [
    {
     "name": "stdout",
     "output_type": "stream",
     "text": [
      "1 42\n",
      "1 7\n"
     ]
    }
   ],
   "source": [
    "z = 7\n",
    "g(1)\n",
    "h(1)"
   ]
  },
  {
   "cell_type": "markdown",
   "id": "129df9f6-ed92-4c59-8340-cebdb50f7572",
   "metadata": {},
   "source": [
    "### Argument einer Funktion fixieren\n",
    "Nachstehend erstellen wir ein Text-Widget.\n",
    "Beim Dr&uuml;cken von Enter soll der Text im Widget\n",
    "in ein Output-Widget geschreiben werden.\n",
    "Der Text im Text-Widget soll gel&ouml;scht werden.\n",
    "\n",
    "Dazu registrieren wir ein Callback `on_press_enter(textbox)` (siehe unten), welche die Textumleitung vornimmt.\n",
    "\n",
    "Wir m&ouml;chten jedoch angeben k&ouml;nnen, in welches Output-Widget der Text geschreiben werden soll. \n",
    "\n",
    "```python\n",
    "def on_press_enter_2(out, textbox):\n",
    "    with out:\n",
    "        print(textbox.value)\n",
    "    textbox.value = ''\n",
    "```\n",
    "\n",
    "Nun k&ouml;nnen wir aber `on_press_enter` nicht  direkt `on_submit` als Callback &uuml;bergeben, da die Callback Funktion mit nur einem Argument aufgerufen wird.\n",
    "\n",
    "Wir l&ouml;sen dieses Problem indem wir eine\n",
    "Lambda-Funktion &uuml;bergeben, die\n",
    "ein Default-Argument hat, welches das Output_Widget festlegt.\n",
    "\n",
    "```python\n",
    "lambda x, out=my_out: on_press_enter2(x, out)\n",
    "```\n",
    "\n",
    "Diese Funktion kann mit einem Argument aufrufen.\n",
    "Deshalb k&ouml;nnen wir sie als Callback &uuml;bergeben."
   ]
  },
  {
   "cell_type": "code",
   "execution_count": null,
   "id": "031ca74d-a3a0-40c6-b1d7-47cfc1352383",
   "metadata": {},
   "outputs": [],
   "source": []
  },
  {
   "cell_type": "code",
   "execution_count": null,
   "id": "c9634a3c-a7bd-4898-88c6-ee6175d265cd",
   "metadata": {},
   "outputs": [],
   "source": [
    "def fun_mit_2_args(x, y):\n",
    "    print(x, y)\n",
    "\n",
    "\n",
    "def fun_mit_fixiertem_zweiten_arg(x, y='bar'):\n",
    "    fun_mit_2_args(x, y)\n",
    "\n",
    "\n",
    "# Lambda-Definition obiger Funktion\n",
    "lambda_fun_mit_fixiertem_zweiten_arg = \\\n",
    "    lambda x, y='bar': fun_mit_2_args(x, y)"
   ]
  },
  {
   "cell_type": "code",
   "execution_count": null,
   "id": "d4cbe6ac-648b-4f20-b255-bf3e5badb4c1",
   "metadata": {},
   "outputs": [],
   "source": [
    "fun_mit_2_args('foo', 'bar')\n",
    "fun_mit_fixiertem_zweiten_arg('foo')\n",
    "lambda_fun_mit_fixiertem_zweiten_arg('foo')"
   ]
  },
  {
   "cell_type": "code",
   "execution_count": null,
   "id": "e5939a2e-5892-4a8d-bc9d-fc9dc070ddc4",
   "metadata": {},
   "outputs": [],
   "source": [
    "# Output Widget fuer Fehlermeldungen\n",
    "err_out = new_out()\n",
    "err_out"
   ]
  },
  {
   "cell_type": "code",
   "execution_count": null,
   "id": "8a3dec50-7ced-40f2-9082-2f0b7c6b3246",
   "metadata": {},
   "outputs": [],
   "source": [
    "err_out.clear_output()"
   ]
  },
  {
   "cell_type": "code",
   "execution_count": null,
   "id": "1bc076cf-f383-4976-a0a4-5984c6c096e0",
   "metadata": {},
   "outputs": [],
   "source": [
    "@err_out.capture()\n",
    "def on_press_enter(textbox):\n",
    "    '''gib text im globalen Textwidget in out aus'''\n",
    "    with out:\n",
    "        print(textbox.value)\n",
    "    textbox.value = ''"
   ]
  },
  {
   "cell_type": "code",
   "execution_count": null,
   "id": "6d01716e-ea3a-4acf-8fe9-299ee9e34ae0",
   "metadata": {},
   "outputs": [],
   "source": [
    "out = new_out()\n",
    "\n",
    "textbox = Text(value='', placeholder='Type something')\n",
    "textbox.on_submit(on_press_enter)\n",
    "display(textbox, out)"
   ]
  },
  {
   "cell_type": "code",
   "execution_count": null,
   "id": "cb0134cb-da83-43f5-8d8b-1f776d1c31e4",
   "metadata": {},
   "outputs": [],
   "source": []
  },
  {
   "cell_type": "code",
   "execution_count": null,
   "id": "eac143ca-2b92-48e4-9b2b-0c36156caaa3",
   "metadata": {},
   "outputs": [],
   "source": [
    "@err_out.capture()\n",
    "def on_press_enter_2(tb, out):\n",
    "    '''gib text im Textwidget in out aus'''\n",
    "    print_to_out(out, tb.value)\n",
    "    tb.value = ''"
   ]
  },
  {
   "cell_type": "code",
   "execution_count": null,
   "id": "bd5ba00f-a9d4-428a-a796-46b86b7e8e9e",
   "metadata": {},
   "outputs": [],
   "source": [
    "out1 = new_out()\n",
    "\n",
    "textbox = Text(value='', placeholder='Type something')\n",
    "textbox.on_submit(on_press_enter_2)\n",
    "display(textbox, out1)"
   ]
  },
  {
   "cell_type": "code",
   "execution_count": null,
   "id": "08250c1f-b337-4b2c-acb9-1fd44102a596",
   "metadata": {},
   "outputs": [],
   "source": [
    "textbox = Text(value='', placeholder='Type something')\n",
    "\n",
    "\n",
    "def on_press_enter(tb, out=out1):\n",
    "    print_to_out(out, tb.value)\n",
    "    tb.value = ''\n",
    "\n",
    "\n",
    "textbox.on_submit(on_press_enter)\n",
    "display(textbox, out1)"
   ]
  },
  {
   "cell_type": "code",
   "execution_count": null,
   "id": "99372ccd-56cf-494a-a9ba-14a13060a2b6",
   "metadata": {},
   "outputs": [],
   "source": [
    "textbox = Text(value='', placeholder='Type something')\n",
    "textbox.on_submit(lambda x, out=out1: on_press_enter_2(x, out))\n",
    "display(textbox, out1)"
   ]
  },
  {
   "cell_type": "code",
   "execution_count": null,
   "id": "1b98839d-be14-4848-8224-289928304378",
   "metadata": {},
   "outputs": [],
   "source": []
  }
 ],
 "metadata": {
  "kernelspec": {
   "display_name": "Python 3 (ipykernel)",
   "language": "python",
   "name": "python3"
  },
  "language_info": {
   "codemirror_mode": {
    "name": "ipython",
    "version": 3
   },
   "file_extension": ".py",
   "mimetype": "text/x-python",
   "name": "python",
   "nbconvert_exporter": "python",
   "pygments_lexer": "ipython3",
   "version": "3.13.0"
  }
 },
 "nbformat": 4,
 "nbformat_minor": 5
}
