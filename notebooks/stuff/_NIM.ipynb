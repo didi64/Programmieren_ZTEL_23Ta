{
 "cells": [
  {
   "cell_type": "markdown",
   "id": "3266ca56-a35c-456c-a196-9a9a299f4a24",
   "metadata": {},
   "source": [
    "<img style=\"float: right\" src=\"/files/images/nim.png\">\n",
    "\n",
    "### Das Spiel **NIM**:\n",
    "Gegeben sind Haufen mit Steinen.\n",
    "- 2 Spieler entfernen abwechselnd ein oder mehrere Steine von einem der Haufen.\n",
    "- Wer den letzten Haufen abr&auml;umt hat gewonnen."
   ]
  },
  {
   "cell_type": "markdown",
   "id": "f5109fbe-e62c-45c6-a25d-85798412f683",
   "metadata": {},
   "source": [
    "Wir wollen Nimausbauen\n",
    "verschiedene Views, verschiedene Controller\n",
    "gutes Beispiel: Controller leistet tatsaechlich arbeit.\n",
    "Kann solange Steine von Haufen wegklicken bis done,\n",
    "kann mit undo zuletzt weggenommenen stein wieder hinzufuegen.\n",
    "\n",
    "use\n",
    "from IPython.display import clear_output ?\n",
    "\n",
    "use MultiCanvas\n",
    "bg, fg\n",
    "bg fill circle\n",
    "fg stroke circle\n",
    "\n",
    "introduce draw_circle, remove_circle\n",
    "\n",
    "Tastensteuerung Head, n <Enter> or Backspace"
   ]
  },
  {
   "cell_type": "markdown",
   "id": "80eee8e7-7968-4d59-b2bc-13b87d0d525b",
   "metadata": {},
   "source": [
    "Der Spielzustand wird in einer Liste\n",
    "```python\n",
    "heaps = [3, 4, 5, 6]\n",
    "```\n",
    "gespeichert. $3,4,5$ und $6$ sind die Anzahl Steinen auf den Haufen.\n",
    "\n",
    "- Solange noch Steine da sind, fragt das Programm abwechselnd die Spieler, von welchem Haufen wieviele Steine entfernt werden sollen.\n",
    "Der Spielzustand wird aktuallisiert und der neue Spielzustand dargestellt.\n",
    "- Sind alle Steine weg, wird der Gewinner ausgegeben.\n",
    "\n",
    "Eine erste Version unseres Programms k&ouml;nnte etwa so aussehen.\n",
    "```python\n",
    "heaps = [3, 4, 5, 6]  # Sielzustand\n",
    "players = ['Alice', 'Bob']\n",
    "ptm = 0  # Player to move, 0 oder 1\n",
    "\n",
    "show(heaps)\n",
    "while count(heaps) != 0:\n",
    "    player = players[ptm]\n",
    "    move = ask_for_move(player)\n",
    "    update_state(move)\n",
    "    show(heaps)\n",
    "    ptm = 1 - ptm\n",
    "winner = players[1-ptm]\n",
    "print(winner, 'ist der Gewinner!')\n",
    "```\n",
    "\n",
    "Dabei sind `show`, `count`, `ask_for_move` und `update_state` Funktionen, die folgendes tun sollen:\n",
    "\n",
    "```python\n",
    "def show(heaps):\n",
    "    '''stellt den Spielzustand textlich dar'''\n",
    "    ...\n",
    "\n",
    "def count(heaps):\n",
    "    '''gibt die Summe der Listenelemente von heaps\n",
    "       zuruck\n",
    "       heaps: list[int]\n",
    "    '''\n",
    "    ...\n",
    "\n",
    "def ask_for_move():\n",
    "    '''fragt von welchem Haufer  wieviele Steine\n",
    "       weggenommen werden sollen\n",
    "       gibt ein Tuple move = (Haufen, Anzahl Steine zurueck)\n",
    "    '''\n",
    "    ...\n",
    "\n",
    "def update_state(move):\n",
    "    '''updated die Liste heaps\n",
    "       gemaess dem move\n",
    "    '''\n",
    "    ...\n",
    "```"
   ]
  },
  {
   "cell_type": "code",
   "execution_count": null,
   "id": "1cc9c589-7ae7-4a4e-acfb-c5b580e4dbbd",
   "metadata": {},
   "outputs": [],
   "source": [
    "# Off by one-error"
   ]
  },
  {
   "cell_type": "code",
   "execution_count": null,
   "id": "a4ffea2c-c6db-45e4-be17-fbafcf437d00",
   "metadata": {},
   "outputs": [],
   "source": [
    "def show(heaps):\n",
    "    i = 0\n",
    "    for head in heaps:\n",
    "        i = i + 1\n",
    "        line = '*' * head\n",
    "        mark = str(i) + ') '\n",
    "        print(mark + line)"
   ]
  },
  {
   "cell_type": "code",
   "execution_count": null,
   "id": "5d0b09d5-4da9-4727-812c-c2cf6ed0a2a8",
   "metadata": {},
   "outputs": [],
   "source": [
    "heaps = [3, 4, 5, 6]\n",
    "show(heaps)"
   ]
  },
  {
   "cell_type": "code",
   "execution_count": null,
   "id": "fa8e5ade-07d0-4f0c-8431-26b7689f8cd1",
   "metadata": {},
   "outputs": [],
   "source": [
    "def count(heaps):\n",
    "    tot = 0\n",
    "    for heap in heaps:\n",
    "        tot = tot + heap\n",
    "    return tot"
   ]
  },
  {
   "cell_type": "code",
   "execution_count": null,
   "id": "0c761986-ffe4-4bbf-8a11-eaa9cfed4b08",
   "metadata": {},
   "outputs": [],
   "source": [
    "heaps = [3, 4, 5, 6]\n",
    "count(heaps)"
   ]
  },
  {
   "cell_type": "code",
   "execution_count": null,
   "id": "e33f4535-6d0a-4f55-b2a8-5e84117efe7b",
   "metadata": {},
   "outputs": [],
   "source": [
    "def ask_for_move():\n",
    "    heap = input('Von welchem Haufen?')\n",
    "    n = input('Wieviele?')\n",
    "    move = (int(heap) - 1, int(n))\n",
    "    return move"
   ]
  },
  {
   "cell_type": "code",
   "execution_count": null,
   "id": "fa00b099-c253-48a4-86c5-47ca070ddab9",
   "metadata": {},
   "outputs": [],
   "source": [
    "ask_for_move()"
   ]
  },
  {
   "cell_type": "code",
   "execution_count": null,
   "id": "a2050f88-f02b-4062-93e2-35ac760d6b7c",
   "metadata": {},
   "outputs": [],
   "source": [
    "def update_state(move):\n",
    "    heap = move[0]\n",
    "    n = move[1]\n",
    "    old = heaps[heap]\n",
    "    new = max(old - n, 0)\n",
    "    heaps[heap] = new"
   ]
  },
  {
   "cell_type": "code",
   "execution_count": null,
   "id": "74a6b1af-775d-4a30-905d-d1eb3de0a702",
   "metadata": {},
   "outputs": [],
   "source": [
    "heaps = [3, 4, 5, 6]\n",
    "move = (2, 3)\n",
    "print(heaps)\n",
    "update_state(move)\n",
    "heaps"
   ]
  },
  {
   "cell_type": "code",
   "execution_count": null,
   "id": "c0c38acb-a466-460e-bf9b-89593ac61a0c",
   "metadata": {},
   "outputs": [],
   "source": [
    "heaps = [1, 2, 3, 4]  # Sielzustand\n",
    "players = ['Alice', 'Bob']\n",
    "ptm = 0  # Player to move, 0 oder 1\n",
    "\n",
    "show(heaps)\n",
    "while count(heaps) != 0:\n",
    "    player = players[ptm]\n",
    "    print(player)\n",
    "    move = ask_for_move()\n",
    "    update_state(move)\n",
    "    show(heaps)\n",
    "    ptm = 1 - ptm\n",
    "winner = players[1-ptm]\n",
    "print(winner, 'ist der Gewinner!')"
   ]
  },
  {
   "cell_type": "code",
   "execution_count": null,
   "id": "1383ec01-1105-4a11-883a-942237485ee4",
   "metadata": {},
   "outputs": [],
   "source": []
  },
  {
   "cell_type": "code",
   "execution_count": null,
   "id": "d098bd7c-9162-4c92-8184-68a91a8cdf67",
   "metadata": {},
   "outputs": [],
   "source": []
  },
  {
   "cell_type": "code",
   "execution_count": null,
   "id": "ee938804-6739-4ba7-88ee-d0d56906ba14",
   "metadata": {},
   "outputs": [],
   "source": [
    "def ask_for_move(heaps):\n",
    "    heap = input('Von welchem Haufen?')\n",
    "    n = input('Wieviele?')\n",
    "    move = (int(heap) - 1, int(n))\n",
    "    return move"
   ]
  },
  {
   "cell_type": "code",
   "execution_count": null,
   "id": "cec36024-9ecb-481d-90e7-e1e3aee03d40",
   "metadata": {},
   "outputs": [],
   "source": [
    "from nim_strategies import ask_compi\n",
    "\n",
    "\n",
    "heaps = [3, 4, 5, 6]\n",
    "ptm = 0  # Player to move 0 oder 1\n",
    "players = ['Dieter', 'Compi']\n",
    "strategies = [ask_for_move, ask_compi]\n",
    "\n",
    "show(heaps)\n",
    "while count(heaps) != 0:\n",
    "    strategy = strategies[ptm]\n",
    "    print(players[ptm] + ':')\n",
    "    move = strategy(heaps)\n",
    "    make_move(move)\n",
    "    show(heaps)\n",
    "    ptm = 1 - ptm\n",
    "    print(60 * '-')\n",
    "print(players[1-ptm], 'ist der Gewinner!')"
   ]
  },
  {
   "cell_type": "code",
   "execution_count": null,
   "id": "2a7bf81a-3997-4eb7-9142-604e827333ef",
   "metadata": {},
   "outputs": [],
   "source": []
  },
  {
   "cell_type": "code",
   "execution_count": null,
   "id": "6c11aeb4-374b-4861-8361-1b8dc6bc6993",
   "metadata": {},
   "outputs": [],
   "source": [
    "import sys\n",
    "sys.path"
   ]
  },
  {
   "cell_type": "code",
   "execution_count": null,
   "id": "8f706cd9-fc92-4a53-8500-c55673f01001",
   "metadata": {},
   "outputs": [],
   "source": [
    "root = '/home/probst/Projects/JupyterNotebooks/Programmieren_ZTel_23Ta/'\n",
    "sys.path.insert(0, root + 'modules') "
   ]
  },
  {
   "cell_type": "code",
   "execution_count": 4,
   "id": "4249331f-a8e2-460e-b817-94a7f0eee26e",
   "metadata": {},
   "outputs": [],
   "source": [
    "from IPython.display import clear_output"
   ]
  },
  {
   "cell_type": "code",
   "execution_count": 6,
   "id": "9150a85e-9527-4ad3-b763-2aa2a82428ff",
   "metadata": {},
   "outputs": [
    {
     "name": "stdout",
     "output_type": "stream",
     "text": [
      "asfa\n"
     ]
    }
   ],
   "source": [
    "x = input('dd')\n",
    "clear_output()\n",
    "print(x)\n"
   ]
  },
  {
   "cell_type": "code",
   "execution_count": null,
   "id": "2bb19f38-f180-4f7d-8d2f-28321e3e7a9b",
   "metadata": {},
   "outputs": [],
   "source": []
  }
 ],
 "metadata": {
  "kernelspec": {
   "display_name": "Python 3 (ipykernel)",
   "language": "python",
   "name": "python3"
  },
  "language_info": {
   "codemirror_mode": {
    "name": "ipython",
    "version": 3
   },
   "file_extension": ".py",
   "mimetype": "text/x-python",
   "name": "python",
   "nbconvert_exporter": "python",
   "pygments_lexer": "ipython3",
   "version": "3.13.0"
  }
 },
 "nbformat": 4,
 "nbformat_minor": 5
}
