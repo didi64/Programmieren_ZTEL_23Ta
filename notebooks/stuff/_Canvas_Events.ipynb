{
 "cells": [
  {
   "cell_type": "code",
   "execution_count": null,
   "id": "5b2e3445-56b9-469b-950a-0dd61b1456cd",
   "metadata": {},
   "outputs": [],
   "source": []
  },
  {
   "cell_type": "code",
   "execution_count": null,
   "id": "a6a148f9-c9cc-4921-a7ff-4687546fe758",
   "metadata": {},
   "outputs": [],
   "source": [
    "#%%file out.py\n",
    "from ipywidgets import Output\n",
    "\n",
    "\n",
    "def new_out(layout=None):\n",
    "    '''gibt ein Output-Widget zurueck'''\n",
    "    if layout is None:\n",
    "        layout = {'border': '1px solid black'}\n",
    "    out = Output(layout=layout)\n",
    "    return out\n",
    "\n",
    "\n",
    "def print_to_out(out, *args, clear_output=False, **kwargs):\n",
    "    '''wie print, Ausgabe erfolgt in out'''\n",
    "    if clear_output:\n",
    "        out.clear_output()\n",
    "    with out:\n",
    "        print(*args, **kwargs)"
   ]
  },
  {
   "cell_type": "code",
   "execution_count": 62,
   "id": "738ac5cd-25ec-4b1b-9342-d3678e4408cb",
   "metadata": {},
   "outputs": [],
   "source": [
    "#from out import new_out, print_to_out\n",
    "from ipycanvas import Canvas\n",
    "from canvas_callbacks import remove_all_callbacks\n",
    "from IPython.display import display"
   ]
  },
  {
   "cell_type": "code",
   "execution_count": 63,
   "id": "466cfae3-82a6-404c-b296-41daddd1d693",
   "metadata": {},
   "outputs": [],
   "source": [
    "out = new_out()\n",
    "\n",
    "WIDTH = 200\n",
    "HEIGHT = 200\n",
    "layout = {'border': '2px solid black'}\n",
    "canvas = Canvas(width=WIDTH, height=HEIGHT, layout=layout)\n",
    "canvas.text_baseline = 'top'"
   ]
  },
  {
   "cell_type": "code",
   "execution_count": 64,
   "id": "e687b7c9-a79c-43e7-8a7d-cd8822c885d1",
   "metadata": {},
   "outputs": [],
   "source": [
    "args_list = []\n",
    "\n",
    "\n",
    "def print_args_list():\n",
    "    out.clear_output()\n",
    "    text = '\\n'.join([str(args) for args in args_list[-10:]])\n",
    "    with out:\n",
    "        print(text)\n",
    "\n",
    "\n",
    "@out.capture()\n",
    "def on_key_down(*args):\n",
    "    args_list.append(args)\n",
    "    print_args_list()\n",
    "\n",
    "\n",
    "@out.capture()\n",
    "def on_mouse_down(*args):\n",
    "    args_list.append(args)\n",
    "    print_args_list()\n",
    "\n",
    "\n",
    "@out.capture()\n",
    "def on_mouse_up(*args):\n",
    "    args_list.append(args)\n",
    "    print_args_list()\n",
    "\n",
    "\n",
    "@out.capture()\n",
    "def on_mouse_out(*args):\n",
    "    args_list.append(args)\n",
    "    print_args_list()"
   ]
  },
  {
   "cell_type": "code",
   "execution_count": 65,
   "id": "af5e347f-76ed-4663-b8fd-aa26a5b87b35",
   "metadata": {},
   "outputs": [],
   "source": [
    "DOT = '⋅'\n",
    "\n",
    "\n",
    "state = {\n",
    "    'dx': 8,\n",
    "    'dy': 12,\n",
    "    'x': 100,\n",
    "    'y': 100,\n",
    "}\n",
    "\n",
    "directions = {\n",
    "    'ArrowUp': (0, -1),\n",
    "    'ArrowDown': (0, 1),\n",
    "    'ArrowLeft': (-1, 0),\n",
    "    'ArrowRight': (1, 0),\n",
    "}\n",
    "\n",
    "\n",
    "def move(d):\n",
    "    dx, dy = directions[d]\n",
    "    state['x'] += dx * state['dx']\n",
    "    state['y'] += dy * state['dy']\n",
    "\n",
    "\n",
    "def text_pos():\n",
    "    pos = (state['x'], state['y'])\n",
    "    return pos\n",
    "\n",
    "\n",
    "def delete_char():\n",
    "    canvas.clear_rect(state['x'], state['y'], state['dx'], state['dy'])\n",
    "\n",
    "\n",
    "@out.capture()\n",
    "def on_key_down(key, *flags):\n",
    "    delete_char()\n",
    "    if key in directions:\n",
    "        move(key)\n",
    "        delete_char()\n",
    "    if len(key) == 1:\n",
    "        canvas.fill_text(key, *text_pos())\n",
    "        move('ArrowRight')\n",
    "    canvas.fill_text(DOT, *text_pos())"
   ]
  },
  {
   "cell_type": "code",
   "execution_count": 66,
   "id": "5e29398f-7a2b-4504-924f-2b7fb018a6b2",
   "metadata": {},
   "outputs": [],
   "source": [
    "remove_all_callbacks(canvas)\n",
    "canvas.on_key_down(on_key_down)\n",
    "# canvas.on_mouse_down(on_mouse_down)\n",
    "# canvas.on_mouse_up(on_mouse_up)\n",
    "# canvas.on_mouse_out(on_mouse_out)"
   ]
  },
  {
   "cell_type": "code",
   "execution_count": 67,
   "id": "2e05b9fd-4fda-4973-b53a-439f30eded16",
   "metadata": {},
   "outputs": [],
   "source": [
    "out.clear_output()\n",
    "canvas.clear()"
   ]
  },
  {
   "cell_type": "code",
   "execution_count": 68,
   "id": "98ab9dff-9337-484c-91ec-4ddc95295b23",
   "metadata": {},
   "outputs": [
    {
     "data": {
      "application/vnd.jupyter.widget-view+json": {
       "model_id": "8d7c54ca32184dc7ac7d3c522e9b2513",
       "version_major": 2,
       "version_minor": 0
      },
      "text/plain": [
       "Canvas(height=200, layout=Layout(border_bottom='2px solid black', border_left='2px solid black', border_right=…"
      ]
     },
     "metadata": {},
     "output_type": "display_data"
    },
    {
     "data": {
      "application/vnd.jupyter.widget-view+json": {
       "model_id": "effb9d3eaa3245aca77b1aad6f917aa9",
       "version_major": 2,
       "version_minor": 0
      },
      "text/plain": [
       "Output(layout=Layout(border_bottom='1px solid black', border_left='1px solid black', border_right='1px solid b…"
      ]
     },
     "metadata": {},
     "output_type": "display_data"
    }
   ],
   "source": [
    "display(canvas, out)"
   ]
  },
  {
   "cell_type": "code",
   "execution_count": null,
   "id": "94411d90-5238-4bda-b396-a03bb358c25e",
   "metadata": {},
   "outputs": [],
   "source": []
  }
 ],
 "metadata": {
  "kernelspec": {
   "display_name": "Python 3 (ipykernel)",
   "language": "python",
   "name": "python3"
  },
  "language_info": {
   "codemirror_mode": {
    "name": "ipython",
    "version": 3
   },
   "file_extension": ".py",
   "mimetype": "text/x-python",
   "name": "python",
   "nbconvert_exporter": "python",
   "pygments_lexer": "ipython3",
   "version": "3.13.0"
  }
 },
 "nbformat": 4,
 "nbformat_minor": 5
}
