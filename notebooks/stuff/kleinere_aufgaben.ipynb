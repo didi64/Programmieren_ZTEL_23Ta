{
 "cells": [
  {
   "cell_type": "code",
   "execution_count": null,
   "id": "d92691cf-743f-4711-98e6-4f65c02d385c",
   "metadata": {},
   "outputs": [],
   "source": []
  },
  {
   "cell_type": "code",
   "execution_count": null,
   "id": "51da73f5-f23c-4734-9c65-5ae0694a40cf",
   "metadata": {},
   "outputs": [],
   "source": [
    "def find_doublettes(items):\n",
    "    d = {}\n",
    "    for x in items:\n",
    "        d[x] = d.get(x, 0) + 1\n",
    "    doublettes = [x for x in d if d[x] > 1]\n",
    "    return doublettes"
   ]
  },
  {
   "cell_type": "code",
   "execution_count": null,
   "id": "fb3a8af8-2e87-4c75-89e1-465a3c7f95cd",
   "metadata": {},
   "outputs": [],
   "source": [
    "find_doublettes('asfasfbar')"
   ]
  },
  {
   "cell_type": "code",
   "execution_count": null,
   "id": "4f6867a4-2189-49c3-9170-ab22801f8d98",
   "metadata": {},
   "outputs": [],
   "source": [
    "Wir nennen einen Ausruck balanciert, falls er korrekt geklammert ist."
   ]
  },
  {
   "cell_type": "code",
   "execution_count": null,
   "id": "ce31cc3f-942a-48f3-8038-7c2afd562802",
   "metadata": {},
   "outputs": [],
   "source": [
    "def is_balanced(s, opening ='([{', closing=')]}'):\n",
    "    stack = []\n",
    "    for i, c in enumerate(s):\n",
    "        if c in opening:\n",
    "            stack.append(c)\n",
    "        elif c in closing:\n",
    "            opening_bra = opening[closing.index(c)]\n",
    "            if not stack or stack.pop() != opening_bra:\n",
    "                return False, i\n",
    "    return not stack, i+1\n",
    "\n",
    "\n",
    "def check_exp(exp):\n",
    "    ok, i = is_balanced(exp)\n",
    "    print('{}: is {} balanced'.format(exp, '' if ok else 'not'))\n",
    "    if not ok:\n",
    "        print(' '*i+'^')\n",
    "\n",
    "\n",
    "exps = [\n",
    "    '(1 + (2 // 3))',\n",
    "    'a[1:3}', \n",
    "    'b(1 + 2) | {c: d}',\n",
    "    'e[1][(2 + 3})',\n",
    "    'lambda x: (x[2] + [f, g])',\n",
    "    '{h}.pop() + i(j[1:])',\n",
    "]"
   ]
  }
 ],
 "metadata": {
  "kernelspec": {
   "display_name": "Python 3 (ipykernel)",
   "language": "python",
   "name": "python3"
  },
  "language_info": {
   "codemirror_mode": {
    "name": "ipython",
    "version": 3
   },
   "file_extension": ".py",
   "mimetype": "text/x-python",
   "name": "python",
   "nbconvert_exporter": "python",
   "pygments_lexer": "ipython3",
   "version": "3.13.0"
  }
 },
 "nbformat": 4,
 "nbformat_minor": 5
}
