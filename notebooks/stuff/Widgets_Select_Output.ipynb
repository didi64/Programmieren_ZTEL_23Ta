{
 "cells": [
  {
   "cell_type": "markdown",
   "id": "a242bb6d-a337-4e7f-ac62-d4ebca4694ae",
   "metadata": {},
   "source": [
    "### Widgets\n",
    "\n",
    "Ein Widget ist eine Komponente eines grafischen Fenstersystems.  \n",
    "Das Widget besteht zum einen aus dem Fenster, einem sichtbaren Bereich, der Maus- und/oder Tastaturereignisse empfängt.  \n",
    "Widgets erlauben das Registrieren von Funktionen (**Callbacks**), die beim Eintreffen bestimmter Ereignisse (**Events**) (Auswahl einer Option, Klick auf einen Button, ...) aufgerufen werden.\n",
    "\n",
    "**Beachte**:  \n",
    "Wird die Callback-Funktion vom Widget aufgerufen,\n",
    "dann weiss Jupyterlab oft nicht, in welche Zelle Output (z.B. von `print`) geschrieben werden soll.  \n",
    "Der Output wird dann in die **Log-Console** umgeleitet.  \n",
    "Log-Console anzeigen: View --> Show Log Console (Log Level: Warning)"
   ]
  },
  {
   "cell_type": "markdown",
   "id": "97d9b540-18b9-4554-8e8f-3c2884319004",
   "metadata": {},
   "source": [
    "### Das Select-Widget\n",
    "Doku zum  [Select-Widget](https://ipywidgets.readthedocs.io/en/latest/examples/Widget%20List.html#select)  \n",
    "\n",
    "Die wichtigsten Attribute des Select-Widgets sind\n",
    "- `value`: ausgew&auml;hlter Wert\n",
    "- `options`: Tuple mit ausw&auml;hlbaren Optionen\n",
    "- `index`: Index der ausgew&auml;hlten Option"
   ]
  },
  {
   "cell_type": "code",
   "execution_count": 2,
   "id": "7cffbf5f-1464-4eb2-a7e3-05ef9a7c9c68",
   "metadata": {},
   "outputs": [],
   "source": [
    "# nicht noetig, aber anderfalls ist\n",
    "# display jeweils mit einer roten Wellenlinie unterstrichen\n",
    "from IPython.display import display"
   ]
  },
  {
   "cell_type": "code",
   "execution_count": 3,
   "id": "3d770b97-ec89-47b4-bcc5-2a2422a86d92",
   "metadata": {},
   "outputs": [],
   "source": [
    "# Select Widget importieren\n",
    "from ipywidgets import Select"
   ]
  },
  {
   "cell_type": "code",
   "execution_count": 6,
   "id": "da3e3f77-032f-45aa-816d-4b57d28e4d1d",
   "metadata": {},
   "outputs": [
    {
     "data": {
      "application/vnd.jupyter.widget-view+json": {
       "model_id": "7d1d2128dee54699a742142439621ee9",
       "version_major": 2,
       "version_minor": 0
      },
      "text/plain": [
       "Select(options=('AAA', 'BBB', 'CCC'), value=None)"
      ]
     },
     "metadata": {},
     "output_type": "display_data"
    }
   ],
   "source": [
    "# Select Widget erstellen und anzeigen\n",
    "selection = Select(\n",
    "    options=('AAA', 'BBB', 'CCC'),\n",
    "    value=None,  # value: None oder ein Element von options\n",
    "    row=5,\n",
    ")\n",
    "\n",
    "display(selection)  # oder auch nur selection am Ende der Zelle"
   ]
  },
  {
   "cell_type": "code",
   "execution_count": 7,
   "id": "bff3c71f-f84b-45cf-b506-ad2e2bec70e4",
   "metadata": {},
   "outputs": [
    {
     "data": {
      "text/plain": [
       "'BBB'"
      ]
     },
     "execution_count": 7,
     "metadata": {},
     "output_type": "execute_result"
    }
   ],
   "source": [
    "# angeklickter/selektierter Wert, laesst sich aendern\n",
    "selection.value"
   ]
  },
  {
   "cell_type": "code",
   "execution_count": 9,
   "id": "8e7ed737-4e28-47b2-8f05-3a1f76e21e5e",
   "metadata": {},
   "outputs": [],
   "source": [
    "# selektierter Wert, laesst sich aendern\n",
    "selection.value = 'CCC'"
   ]
  },
  {
   "cell_type": "code",
   "execution_count": 10,
   "id": "e9fea988-80df-4ca3-a4ec-99ed714fc042",
   "metadata": {},
   "outputs": [
    {
     "data": {
      "text/plain": [
       "2"
      ]
     },
     "execution_count": 10,
     "metadata": {},
     "output_type": "execute_result"
    }
   ],
   "source": [
    "# index der ausgewaehlten Option\n",
    "selection.index"
   ]
  },
  {
   "cell_type": "code",
   "execution_count": 11,
   "id": "f46051f6-ddb3-4949-a87d-2298491ca321",
   "metadata": {},
   "outputs": [
    {
     "data": {
      "text/plain": [
       "('AAA', 'BBB', 'CCC')"
      ]
     },
     "execution_count": 11,
     "metadata": {},
     "output_type": "execute_result"
    }
   ],
   "source": [
    "# Optionen anzeigen, lassen sich auch aendern\n",
    "selection.options"
   ]
  },
  {
   "cell_type": "code",
   "execution_count": 12,
   "id": "d63d9f1c-bca9-48c4-9b5c-445fcb98b3e1",
   "metadata": {},
   "outputs": [],
   "source": [
    "# Optionen lassen sich auch aendern\n",
    "selection.options = ('DDD', 'EEE', 'FFF', 'even', 'more', 'choices')"
   ]
  },
  {
   "cell_type": "markdown",
   "id": "0aedaba5-537d-40a1-8436-bafeccc4c955",
   "metadata": {},
   "source": [
    "### Attribute beobachten\n",
    "Beim Select-Widget k&ouml;nnen (wie bei allen Widgets) Attribute beobachtet werden.  \n",
    "- `observe(callback, names = name)`  \n",
    "Das Attribute mit Namen `name` wird nun beobachtet.\n",
    "Wird sein Wert ge&auml;dert, wird die Funktion  `callback` aufgerufen.  \n",
    "Dem Callback (d.h. der Funktion `callback`) wird als Argument ein `Change-Objekt` &uuml;bergeben.  \n",
    "- `unobserve(callback, names = name)`  \n",
    "beendent die Beobachtung des Attributs `name`.\n",
    "\n",
    "Das Change-Objekt `change` ist ein spezieller Dictionary, dessen Schl&uuml;ssel (Attribute) sich auch mittels der `.`-Syntax ansprechen lassen:\n",
    "> `change.new` statt `change['new']`  \n",
    "\n",
    "Blick auf ein Change-Objekt:  \n",
    "`{'name': 'value', 'old': None, 'new': 'BBB', 'owner':  Select(...), 'type': 'change'}`\n",
    "\n",
    "Das Change-Objekt hat u.a. ein Attribut `owner`, welches eine Referenz auf das\n",
    "Select-Widget enth&auml;lt. "
   ]
  },
  {
   "cell_type": "code",
   "execution_count": 14,
   "id": "ee2cc525-c5af-41d7-8e47-8d9e10d030d2",
   "metadata": {},
   "outputs": [],
   "source": [
    "# callback Funktion\n",
    "def on_select(change):\n",
    "    print('Mitteilung vom Callback:')\n",
    "    print(change)\n",
    "    print(change.owner.options)\n",
    "    print('alter Wert: {}, neuer Wert: {}'.format(change['old'], change.new))\n",
    "    print('---------------')"
   ]
  },
  {
   "cell_type": "code",
   "execution_count": 15,
   "id": "0a5dc600-aed0-44db-8acf-ae383d713aa8",
   "metadata": {},
   "outputs": [
    {
     "data": {
      "application/vnd.jupyter.widget-view+json": {
       "model_id": "1e76421d81934db788409fb9c350e633",
       "version_major": 2,
       "version_minor": 0
      },
      "text/plain": [
       "Select(options=('AAA', 'BBB', 'CCC'), value=None)"
      ]
     },
     "metadata": {},
     "output_type": "display_data"
    }
   ],
   "source": [
    "selection = Select(\n",
    "    options=('AAA', 'BBB', 'CCC'),\n",
    "    value=None,\n",
    "    rows=5,\n",
    ")\n",
    "\n",
    "# aendert selection.value, dann wird on_select aufgerufen\n",
    "selection.observe(on_select, names='value')\n",
    "display(selection)"
   ]
  },
  {
   "cell_type": "code",
   "execution_count": null,
   "id": "3e464842-a0dd-4b02-867b-2e1c09865655",
   "metadata": {},
   "outputs": [],
   "source": [
    "# callback triggern\n",
    "selection.value = selection.options[1]"
   ]
  },
  {
   "cell_type": "code",
   "execution_count": null,
   "id": "54bf5ac2-6456-49e8-9298-849fdb23a991",
   "metadata": {},
   "outputs": [],
   "source": [
    "selection.options"
   ]
  },
  {
   "cell_type": "code",
   "execution_count": null,
   "id": "7fc2f7c3-448c-45a7-9dd1-c30c1a08ac9f",
   "metadata": {},
   "outputs": [],
   "source": [
    "selection.options = ('DDD', 'EEE', 'FFF', 'even', 'more', 'choices')"
   ]
  },
  {
   "cell_type": "code",
   "execution_count": null,
   "id": "f489c283-7b22-4c5e-8ad3-185f320f5d7b",
   "metadata": {},
   "outputs": [],
   "source": [
    "def update_options(options):\n",
    "    # selection.unobserve(on_select, names = 'value')\n",
    "    selection.options = options\n",
    "    selection.value = None\n",
    "    # selection.observe(on_select, names = 'value')"
   ]
  },
  {
   "cell_type": "code",
   "execution_count": null,
   "id": "494af047-945e-4957-b7cf-7c207b5167c0",
   "metadata": {},
   "outputs": [],
   "source": [
    "update_options(('DDD', 'EEE', 'FFF!'))"
   ]
  },
  {
   "cell_type": "code",
   "execution_count": null,
   "id": "d69c9314-4d6b-45d8-9ad5-986f93166c0c",
   "metadata": {},
   "outputs": [],
   "source": []
  },
  {
   "cell_type": "markdown",
   "id": "2d3a3456-b439-4079-8a59-ba4a4ced8587",
   "metadata": {},
   "source": [
    "### Das Output-Widget\n",
    "[Doku zum Output-Widget](https://ipywidgets.readthedocs.io/en/latest/examples/Output%20Widget.html)"
   ]
  },
  {
   "cell_type": "code",
   "execution_count": 17,
   "id": "8584a8d0-51b2-4edb-aad1-3fccbc7a2568",
   "metadata": {},
   "outputs": [],
   "source": [
    "from ipywidgets import Output"
   ]
  },
  {
   "cell_type": "code",
   "execution_count": 18,
   "id": "07110299-4cac-4151-8765-a2617965fdbe",
   "metadata": {},
   "outputs": [
    {
     "data": {
      "application/vnd.jupyter.widget-view+json": {
       "model_id": "ca4de1bc3da343a69c4a83c73240d96b",
       "version_major": 2,
       "version_minor": 0
      },
      "text/plain": [
       "Output(layout=Layout(border_bottom='1px solid black', border_left='1px solid black', border_right='1px solid b…"
      ]
     },
     "execution_count": 18,
     "metadata": {},
     "output_type": "execute_result"
    }
   ],
   "source": [
    "# Output Widget mit schwarzem Rand, damit auch sichtbar falls leer.\n",
    "out = Output(layout={'border': '1px solid black'})\n",
    "out  # display(out)"
   ]
  },
  {
   "cell_type": "code",
   "execution_count": 19,
   "id": "cfacaf95-7220-4b5c-8e74-c0e381202d36",
   "metadata": {},
   "outputs": [],
   "source": [
    "# Schreibe ins Output-Widget\n",
    "with out:\n",
    "    print('Hello\\nWorld!')"
   ]
  },
  {
   "cell_type": "code",
   "execution_count": 20,
   "id": "54c455b2-4ffe-427c-8a2f-27e662860e83",
   "metadata": {},
   "outputs": [],
   "source": [
    "# Loesche Inhalt vom Output-Widget\n",
    "out.clear_output()"
   ]
  },
  {
   "cell_type": "markdown",
   "id": "72371931-827a-4e84-a872-b9d1d62472dc",
   "metadata": {},
   "source": [
    "### Select Beispiel, `on_select` schreibt in Output-Widget"
   ]
  },
  {
   "cell_type": "code",
   "execution_count": 22,
   "id": "c8a86c11-74db-4022-9c82-a03a25693a17",
   "metadata": {},
   "outputs": [
    {
     "data": {
      "application/vnd.jupyter.widget-view+json": {
       "model_id": "f67af8fac11545b4bdb0d0cb7afcdc8a",
       "version_major": 2,
       "version_minor": 0
      },
      "text/plain": [
       "Output(layout=Layout(border_bottom='1px solid black', border_left='1px solid black', border_right='1px solid b…"
      ]
     },
     "execution_count": 22,
     "metadata": {},
     "output_type": "execute_result"
    }
   ],
   "source": [
    "out = Output(layout={'border': '1px solid black'})\n",
    "out"
   ]
  },
  {
   "cell_type": "code",
   "execution_count": 34,
   "id": "7f3b47ad-2341-4923-a0e9-aec3feed7b78",
   "metadata": {},
   "outputs": [],
   "source": [
    "# callback Funktion, schreibt in out\n",
    "def on_select(change):\n",
    "    out.clear_output()\n",
    "    with out:\n",
    "        fmt = 'alter Wert: {}, neuer Wert: {}'\n",
    "        print(fmt.format(change.old, change.new))"
   ]
  },
  {
   "cell_type": "code",
   "execution_count": 35,
   "id": "fa74700c-0008-4eca-a450-823b3fad8f1a",
   "metadata": {},
   "outputs": [],
   "source": [
    "# um on_select zu testen, brauchen wir ein Objekt,\n",
    "# das die dot-Syntax (change.old) unterstuetzt\n",
    "class D:\n",
    "    old = 'old'\n",
    "    new = 'new'"
   ]
  },
  {
   "cell_type": "code",
   "execution_count": 36,
   "id": "3f5f5cc6-ccb5-4acf-9281-9280c54bdab0",
   "metadata": {},
   "outputs": [
    {
     "data": {
      "text/plain": [
       "('old', 'new')"
      ]
     },
     "execution_count": 36,
     "metadata": {},
     "output_type": "execute_result"
    }
   ],
   "source": [
    "D.old, D.new"
   ]
  },
  {
   "cell_type": "code",
   "execution_count": 37,
   "id": "05633378-41b3-4edd-8f5d-c70de0c72344",
   "metadata": {},
   "outputs": [],
   "source": [
    "on_select(D)"
   ]
  },
  {
   "cell_type": "code",
   "execution_count": 38,
   "id": "b46ab724-4969-4ce6-af32-553520f038b4",
   "metadata": {},
   "outputs": [
    {
     "data": {
      "application/vnd.jupyter.widget-view+json": {
       "model_id": "86855ab30c3d47c4b88f4b6fdf4ffe0a",
       "version_major": 2,
       "version_minor": 0
      },
      "text/plain": [
       "Select(options=('AAA', 'BBB', 'CCC'), rows=3, value='AAA')"
      ]
     },
     "metadata": {},
     "output_type": "display_data"
    },
    {
     "data": {
      "application/vnd.jupyter.widget-view+json": {
       "model_id": "f67af8fac11545b4bdb0d0cb7afcdc8a",
       "version_major": 2,
       "version_minor": 0
      },
      "text/plain": [
       "Output(layout=Layout(border_bottom='1px solid black', border_left='1px solid black', border_right='1px solid b…"
      ]
     },
     "metadata": {},
     "output_type": "display_data"
    }
   ],
   "source": [
    "opts = ('AAA', 'BBB', 'CCC')\n",
    "selection = Select(options=opts, rows=3)\n",
    "selection.observe(on_select, names='value')\n",
    "display(selection, out)"
   ]
  },
  {
   "cell_type": "code",
   "execution_count": 39,
   "id": "0497ce08-321d-4c2d-b28c-54f2639f4a33",
   "metadata": {},
   "outputs": [],
   "source": [
    "out.clear_output()"
   ]
  },
  {
   "cell_type": "code",
   "execution_count": null,
   "id": "598b8664-a5dd-458d-95b0-fc17123f3fda",
   "metadata": {},
   "outputs": [],
   "source": []
  }
 ],
 "metadata": {
  "author": "dieter.probst@gmail.com",
  "kernelspec": {
   "display_name": "Python 3 (ipykernel)",
   "language": "python",
   "name": "python3"
  },
  "language_info": {
   "codemirror_mode": {
    "name": "ipython",
    "version": 3
   },
   "file_extension": ".py",
   "mimetype": "text/x-python",
   "name": "python",
   "nbconvert_exporter": "python",
   "pygments_lexer": "ipython3",
   "version": "3.13.0"
  }
 },
 "nbformat": 4,
 "nbformat_minor": 5
}
