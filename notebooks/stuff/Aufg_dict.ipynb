{
 "cells": [
  {
   "cell_type": "code",
   "execution_count": null,
   "id": "cec0e92b-0e9f-4f16-8fdc-da31308f3e01",
   "metadata": {},
   "outputs": [],
   "source": []
  },
  {
   "cell_type": "markdown",
   "id": "3025cfe8-5ea6-4c9f-9c1e-fbacc19e3505",
   "metadata": {},
   "source": [
    "### Aufgaben\n",
    "Beim Spiel Scrabble hat jeder Buchstabe einen bestimmten Buchstabenwert.  \n",
    "Der Wortwert ist die Summe aller Buchstabenwerte.  \n",
    "Ziel ist es, W&ouml;rter nach ihrem Wortwert zu sortieren.  \n",
    "Nachstehender Dictionary zeigt den Wert der Buchstaben an.\n",
    "\n",
    "\n",
    "```python\n",
    "wert_buchstaben = {1: 'ENSIRTUAD',\n",
    "                   2: 'HGLO',\n",
    "                   3: 'MBWZ',\n",
    "                   4: 'CFKP',\n",
    "                   6: 'ÄJÜV',\n",
    "                   8: 'ÖX',\n",
    "                  10:'QY', \n",
    "                 }\n",
    "\n",
    "scrabble_words = ['diesen', 'Form', 'wird', 'typischerweise', 'benutzt']\n",
    "```\n",
    "\n",
    "1. Erstelle einen Dictionary `buchstabe_wert`, dessen Schl&uuml;ssel die Grossbuchstaben des Alphabets sind\n",
    "und der zugeh&ouml;rige Wert der entsprechende Buchstabenwert  \n",
    "(`buchstabe_wert = {'E': 1, 'N': 1,...}`).\n",
    "2. Schreibe eine Funktion `wortwert(wort)`, welche den Wortwert des Arguments `wort` zur&uuml;ck gibt.\n",
    "3. Sortiere die Liste `scrabble_words` nach Buchstabenwert, aufsteigend und absteigend.\n",
    "4. Sortiere die Liste `scrabble_words` nach Buchstabenwert und verwende jeweils das Wort als Tiebreaker."
   ]
  },
  {
   "cell_type": "code",
   "execution_count": null,
   "id": "f0c0927c-2ccc-4576-b884-3492f7849aee",
   "metadata": {},
   "outputs": [],
   "source": []
  }
 ],
 "metadata": {
  "kernelspec": {
   "display_name": "Python 3 (ipykernel)",
   "language": "python",
   "name": "python3"
  },
  "language_info": {
   "codemirror_mode": {
    "name": "ipython",
    "version": 3
   },
   "file_extension": ".py",
   "mimetype": "text/x-python",
   "name": "python",
   "nbconvert_exporter": "python",
   "pygments_lexer": "ipython3",
   "version": "3.13.0"
  }
 },
 "nbformat": 4,
 "nbformat_minor": 5
}
