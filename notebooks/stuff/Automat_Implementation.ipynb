{
 "cells": [
  {
   "cell_type": "code",
   "execution_count": null,
   "id": "24ab88e2-59d6-453c-9eeb-35079587adf9",
   "metadata": {},
   "outputs": [],
   "source": [
    "# write Python Code that produces scripts for Drawingautomaton"
   ]
  },
  {
   "cell_type": "markdown",
   "id": "2485a40a-30a6-49ab-9e35-c974c1ee0c6d",
   "metadata": {},
   "source": [
    "### Simulation des Automaten in Python\n",
    "  \n"
   ]
  },
  {
   "cell_type": "markdown",
   "id": "88af1aae-488f-43f3-9a3c-534b02b629d9",
   "metadata": {},
   "source": [
    "### Implementation der Simulation"
   ]
  },
  {
   "cell_type": "markdown",
   "id": "35912b53-e512-483c-87ee-11bbfed5bb1b",
   "metadata": {},
   "source": [
    "Er hat 2 Zust&auml;nde, $0$ und $1$, der initiale Zustand ist $0$, markiert mit dem eingehende Pfeil.  \n",
    "- Liest der Automat im Zustand $0$ eines der **Aktionszeichen** $\\texttt{u}$ (Pen up), $\\texttt{d}$ (Pen down), $\\texttt{E}$ (Erase),\n",
    "  wird die entsprechende Aktion ausgef&uuml;hrt. Der Automat bleibt im Zustand $0$.\n",
    "- Liest der Automat im Zustand $0$ eines der **Befehlszeichen**\n",
    "  - $\\texttt{l}$ `set_linewidth(width)`,  \n",
    "  - $\\texttt{f}$ `set_fillstyle(color)`,  \n",
    "  - $\\texttt{s}$ `set_strokestyle(color)`,  \n",
    "  - $\\texttt{g}$ `goto(x, y)`,  \n",
    "  - $\\texttt{G}$ `shift(dx, dy)`,  \n",
    "  - $\\texttt{r}$ `stroke_rectangle(width, height)`,  \n",
    "  - $\\texttt{R}$ `fill_rectangle(width, height)`,  \n",
    "  - $\\texttt{c}$ `stroke_circle(radius)`,  \n",
    "  - $\\texttt{C}$ `fill_circle(radius)`,  \n",
    "  - $\\texttt{e}$ `clear_rect(width, height)`,  \n",
    "\n",
    "  wird dieses Zeichen ins Befehlsbuffer kopiert. Der Automat wechselt in den Zustand $1$.\n",
    "- Liest der Automat im Zustand $1$ ein Symbol ungleich `;` wird das Zeichen ins\n",
    "  Befehlsbuffer kopiert. Der Automat bleibt im Zustand $1$.\n",
    "- Liest der Automat im Zustand $1$ das Symbol `;` wird der Befehl im Befehlsbuffer ausgef&uuml;hrt.\n",
    "  Das Befehlsbuffer wird gel&ouml;scht und der Automat wechselt in den Zustand $0$.\n",
    "- In allen anderen F&auml;llen wird ein Fehler ausgel&ouml;st."
   ]
  },
  {
   "cell_type": "code",
   "execution_count": null,
   "id": "cb890cb2-8405-40c2-bcb2-fb9af41c659e",
   "metadata": {},
   "outputs": [],
   "source": []
  }
 ],
 "metadata": {
  "author": "dieter.probst@gmail.com",
  "kernelspec": {
   "display_name": "Python 3 (ipykernel)",
   "language": "python",
   "name": "python3"
  },
  "language_info": {
   "codemirror_mode": {
    "name": "ipython",
    "version": 3
   },
   "file_extension": ".py",
   "mimetype": "text/x-python",
   "name": "python",
   "nbconvert_exporter": "python",
   "pygments_lexer": "ipython3",
   "version": "3.13.0"
  }
 },
 "nbformat": 4,
 "nbformat_minor": 5
}
