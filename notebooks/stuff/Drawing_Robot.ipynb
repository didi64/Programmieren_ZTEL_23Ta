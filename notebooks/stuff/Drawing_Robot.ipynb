{
 "cells": [
  {
   "cell_type": "markdown",
   "id": "ff7475ea-fdd8-42df-8534-f13b606476d4",
   "metadata": {},
   "source": [
    "### Zeichnungsroboter\n",
    "The input alphabet\n",
    "consists of all alphanumeric characters, the decimal point `.` and the argument separator `,`.\n",
    "\n",
    "The automaton has two states. State $0$ is the *normal* state, where each read symbol is immediately executed as a command. \n",
    "State $1$ is the\n",
    "*command-reading* state. While being in this state, input is copied into a command buffer. Upon reading a semicolon, the command buffer is executed and cleared, and\n",
    "the state switches back to $0$."
   ]
  },
  {
   "cell_type": "code",
   "execution_count": 1,
   "id": "d57e078f-1209-4d0a-963b-553843b59ffa",
   "metadata": {},
   "outputs": [
    {
     "data": {
      "application/vnd.jupyter.widget-view+json": {
       "model_id": "4c96836fc1f6491bbe4ae52df7f348eb",
       "version_major": 2,
       "version_minor": 0
      },
      "text/plain": [
       "Canvas(height=200, layout=Layout(border_bottom='1px solid black', border_left='1px solid black', border_right=…"
      ]
     },
     "metadata": {},
     "output_type": "display_data"
    }
   ],
   "source": [
    "import zeichnungsautomat as ZA\n",
    "WIDTH = 300\n",
    "HEIGHT = 200\n",
    "automat, dm = ZA.get_automat_and_dm(width=WIDTH, height=HEIGHT)\n",
    "dm"
   ]
  },
  {
   "cell_type": "code",
   "execution_count": 3,
   "id": "5f7f578e-4506-44ec-9721-18c91f2fc8e8",
   "metadata": {},
   "outputs": [
    {
     "name": "stdout",
     "output_type": "stream",
     "text": [
      "reset (0, 0)\n"
     ]
    }
   ],
   "source": [
    "dm.reset()  # clear canvas, and buffer, set state of automat to 0\n",
    "eingabewort = 'l6;sred;ug100,100;dg200,100;'\n",
    "automat.read(eingabewort) # feed input to the automaton"
   ]
  },
  {
   "cell_type": "code",
   "execution_count": null,
   "id": "e9b01965-0f4b-4020-8bfe-9424f478554b",
   "metadata": {},
   "outputs": [],
   "source": []
  },
  {
   "cell_type": "code",
   "execution_count": 85,
   "id": "16144a4c-7c0e-44da-9d50-284f9e2b8e83",
   "metadata": {},
   "outputs": [],
   "source": [
    "def draw_chessboard(pos, width, height):\n",
    "    cmds = []\n",
    "    colors = ['grey', 'blue']\n",
    "    x0, y0 = pos\n",
    "    dx, dy = width/8, height/8\n",
    "    \n",
    "    cmds.append('g{},{};'.format(x0, y0))\n",
    "    for row in range(8):\n",
    "        for col in range(8):\n",
    "            cidx = (row + col) % 2\n",
    "            color = colors[cidx]\n",
    "            cmds.append('f{};'.format(color))\n",
    "            cmds.append('R{},{};'.format(dx, dy))\n",
    "            cmds.append('G{},{};'.format(dx, 0))\n",
    "        cmds.append('G{},{};'.format(-width, dy))\n",
    "    return ''.join(cmds)"
   ]
  },
  {
   "cell_type": "code",
   "execution_count": 86,
   "id": "557ed1c4-4061-4f64-92c4-e459cd5f71b1",
   "metadata": {},
   "outputs": [
    {
     "data": {
      "text/plain": [
       "'g50,50;fgrey;R12.5,12.5;G12.5,0;fblue;R12.5,12.5;G12.5,0;fgrey;R12.5,12.5;G12.5,0;fblue;R12.5,12.5;G12.5,0;fgrey;R12.5,12.5;G12.5,0;fblue;R12.5,12.5;G12.5,0;fgrey;R12.5,12.5;G12.5,0;fblue;R12.5,12.5;G12.5,0;G-100,12.5;fblue;R12.5,12.5;G12.5,0;fgrey;R12.5,12.5;G12.5,0;fblue;R12.5,12.5;G12.5,0;fgrey;R12.5,12.5;G12.5,0;fblue;R12.5,12.5;G12.5,0;fgrey;R12.5,12.5;G12.5,0;fblue;R12.5,12.5;G12.5,0;fgrey;R12.5,12.5;G12.5,0;G-100,12.5;fgrey;R12.5,12.5;G12.5,0;fblue;R12.5,12.5;G12.5,0;fgrey;R12.5,12.5;G12.5,0;fblue;R12.5,12.5;G12.5,0;fgrey;R12.5,12.5;G12.5,0;fblue;R12.5,12.5;G12.5,0;fgrey;R12.5,12.5;G12.5,0;fblue;R12.5,12.5;G12.5,0;G-100,12.5;fblue;R12.5,12.5;G12.5,0;fgrey;R12.5,12.5;G12.5,0;fblue;R12.5,12.5;G12.5,0;fgrey;R12.5,12.5;G12.5,0;fblue;R12.5,12.5;G12.5,0;fgrey;R12.5,12.5;G12.5,0;fblue;R12.5,12.5;G12.5,0;fgrey;R12.5,12.5;G12.5,0;G-100,12.5;fgrey;R12.5,12.5;G12.5,0;fblue;R12.5,12.5;G12.5,0;fgrey;R12.5,12.5;G12.5,0;fblue;R12.5,12.5;G12.5,0;fgrey;R12.5,12.5;G12.5,0;fblue;R12.5,12.5;G12.5,0;fgrey;R12.5,12.5;G12.5,0;fblue;R12.5,12.5;G12.5,0;G-100,12.5;fblue;R12.5,12.5;G12.5,0;fgrey;R12.5,12.5;G12.5,0;fblue;R12.5,12.5;G12.5,0;fgrey;R12.5,12.5;G12.5,0;fblue;R12.5,12.5;G12.5,0;fgrey;R12.5,12.5;G12.5,0;fblue;R12.5,12.5;G12.5,0;fgrey;R12.5,12.5;G12.5,0;G-100,12.5;fgrey;R12.5,12.5;G12.5,0;fblue;R12.5,12.5;G12.5,0;fgrey;R12.5,12.5;G12.5,0;fblue;R12.5,12.5;G12.5,0;fgrey;R12.5,12.5;G12.5,0;fblue;R12.5,12.5;G12.5,0;fgrey;R12.5,12.5;G12.5,0;fblue;R12.5,12.5;G12.5,0;G-100,12.5;fblue;R12.5,12.5;G12.5,0;fgrey;R12.5,12.5;G12.5,0;fblue;R12.5,12.5;G12.5,0;fgrey;R12.5,12.5;G12.5,0;fblue;R12.5,12.5;G12.5,0;fgrey;R12.5,12.5;G12.5,0;fblue;R12.5,12.5;G12.5,0;fgrey;R12.5,12.5;G12.5,0;G-100,12.5;'"
      ]
     },
     "execution_count": 86,
     "metadata": {},
     "output_type": "execute_result"
    }
   ],
   "source": [
    "cmds = draw_chessboard((50,50), 100, 100)\n",
    "cmds"
   ]
  },
  {
   "cell_type": "code",
   "execution_count": 87,
   "id": "99b1d5af-6def-4855-aa46-adcab8ff7ecb",
   "metadata": {},
   "outputs": [
    {
     "data": {
      "application/vnd.jupyter.widget-view+json": {
       "model_id": "4c96836fc1f6491bbe4ae52df7f348eb",
       "version_major": 2,
       "version_minor": 0
      },
      "text/plain": [
       "Canvas(height=200, layout=Layout(border_bottom='1px solid black', border_left='1px solid black', border_right=…"
      ]
     },
     "metadata": {},
     "output_type": "display_data"
    }
   ],
   "source": [
    "dm"
   ]
  },
  {
   "cell_type": "code",
   "execution_count": 88,
   "id": "cba658e1-d37a-46b0-932c-b4949479eec8",
   "metadata": {},
   "outputs": [
    {
     "name": "stdout",
     "output_type": "stream",
     "text": [
      "reset (0, 0)\n"
     ]
    }
   ],
   "source": [
    "dm.reset()\n",
    "automat.read(cmds)"
   ]
  },
  {
   "cell_type": "code",
   "execution_count": 83,
   "id": "d34f47df-8af7-44a6-8d5f-e4f316100504",
   "metadata": {},
   "outputs": [],
   "source": [
    "# automat.read(cmds2)\n",
    "automat.read(cmds3)"
   ]
  },
  {
   "cell_type": "code",
   "execution_count": 73,
   "id": "c4c6087e-639c-4416-8a9b-04b8c9676e04",
   "metadata": {},
   "outputs": [],
   "source": [
    "def draw_grid(grid):\n",
    "    ncol, nrow, lw, color = grid\n",
    "    cmds = []\n",
    "    x0, y0 = (25, 25)\n",
    "    width = WIDTH-50\n",
    "    height = HEIGHT-50\n",
    "    dx, dy = width / ncol, height / nrow\n",
    "    cmds.append('u')\n",
    "    cmds.append('l{};'.format(lw))\n",
    "    cmds.append('s{};'.format(color))\n",
    "    \n",
    "    for i in range(nrow+1):\n",
    "        cmds.append('u')\n",
    "        cmds.append('g{},{};'.format(x0, y0 + i*dy))\n",
    "        cmds.append('d')\n",
    "        cmds.append('G{},{};'.format(width, 0))\n",
    "        cmds.append('u')\n",
    "        \n",
    "    for i in range(ncol+1):\n",
    "        cmds.append('u')\n",
    "        cmds.append('g{},{};'.format(x0 + i*dx, y0))\n",
    "        cmds.append('d')\n",
    "        cmds.append('G{},{};'.format(0, height))\n",
    "        cmds.append('u')\n",
    "    \n",
    "    return ''.join(cmds)\n",
    "\n",
    "\n",
    "def place_stone(grid, pos, color):\n",
    "    ncol, nrow, lw, _ = grid\n",
    "    cmds = []\n",
    "    x0, y0 = (25, 25)\n",
    "    width = WIDTH-50\n",
    "    height = HEIGHT-50\n",
    "    dx, dy = width/ncol, height/nrow\n",
    "    col, row = pos\n",
    "    radius = min(dx,dy)/4\n",
    "   \n",
    "    cmds.append('f{};'.format(color))\n",
    "    cmds.append('u')\n",
    "    cmds.append('g{},{};'.format(x0, y0))\n",
    "    cmds.append('G{},{};'.format((col+0.5)*dx,  (row+0.5)*dy))\n",
    "    cmds.append('d')\n",
    "    cmds.append('C{};'.format(radius))\n",
    "    cmds.append('u')\n",
    "    \n",
    "    return ''.join(cmds)\n",
    "\n",
    "\n",
    "def clear_field(grid, pos):\n",
    "    ncol, nrow, lw, _ = grid\n",
    "    cmds = []\n",
    "    x0, y0 = (25, 25)\n",
    "    width = WIDTH-50\n",
    "    height = HEIGHT-50\n",
    "    dx, dy = width/ncol, height/nrow\n",
    "    col, row = pos\n",
    "    \n",
    "    cmds.append('g{},{};'.format(x0, y0))\n",
    "    cmds.append('G{},{};'.format(col*dx+lw/2+1, row*dy+lw/2+1))\n",
    "    cmds.append('e{},{};'.format(dx-lw-2, dy-lw-2))\n",
    "    \n",
    "    return ''.join(cmds)"
   ]
  },
  {
   "cell_type": "code",
   "execution_count": 74,
   "id": "906facf3-8e9d-4356-8b4d-fa46c416e547",
   "metadata": {},
   "outputs": [],
   "source": [
    "grid = (7, 6, 2, 'blue')  # (ncol, nrow, lw, color)"
   ]
  },
  {
   "cell_type": "code",
   "execution_count": 75,
   "id": "0822abe7-131c-4bea-b32c-4989ed645314",
   "metadata": {},
   "outputs": [
    {
     "data": {
      "text/plain": [
       "'ul2;sblue;ug25,25.0;dG250,0;uug25,50.0;dG250,0;uug25,75.0;dG250,0;uug25,100.0;dG250,0;uug25,125.0;dG250,0;uug25,150.0;dG250,0;uug25,175.0;dG250,0;uug25.0,25;dG0,150;uug60.714285714285715,25;dG0,150;uug96.42857142857143,25;dG0,150;uug132.14285714285714,25;dG0,150;uug167.85714285714286,25;dG0,150;uug203.57142857142858,25;dG0,150;uug239.28571428571428,25;dG0,150;uug275.0,25;dG0,150;u'"
      ]
     },
     "execution_count": 75,
     "metadata": {},
     "output_type": "execute_result"
    }
   ],
   "source": [
    "cmds1 = draw_grid(grid)\n",
    "cmds1"
   ]
  },
  {
   "cell_type": "code",
   "execution_count": 78,
   "id": "75d170b7-61cb-4e41-8d3b-2c62e8aafe0f",
   "metadata": {},
   "outputs": [
    {
     "data": {
      "text/plain": [
       "'forange;ug25,25;G89.28571428571429,87.5;dC6.25;u'"
      ]
     },
     "execution_count": 78,
     "metadata": {},
     "output_type": "execute_result"
    }
   ],
   "source": [
    "cmds2 = place_stone(grid, pos=(2, 3), color='orange')\n",
    "cmds2"
   ]
  },
  {
   "cell_type": "code",
   "execution_count": 79,
   "id": "96141b9d-7f0f-437b-b7ac-d86d44f0cfac",
   "metadata": {},
   "outputs": [
    {
     "data": {
      "text/plain": [
       "'g25,25;G73.42857142857143,77.0;e31.714285714285715,21.0;'"
      ]
     },
     "execution_count": 79,
     "metadata": {},
     "output_type": "execute_result"
    }
   ],
   "source": [
    "cmds3 = clear_field(grid, pos=(2, 3))\n",
    "cmds3"
   ]
  },
  {
   "cell_type": "code",
   "execution_count": null,
   "id": "c3971957-683e-4f35-9c1f-73908987d3e0",
   "metadata": {},
   "outputs": [],
   "source": []
  }
 ],
 "metadata": {
  "kernelspec": {
   "display_name": "Python 3 (ipykernel)",
   "language": "python",
   "name": "python3"
  },
  "language_info": {
   "codemirror_mode": {
    "name": "ipython",
    "version": 3
   },
   "file_extension": ".py",
   "mimetype": "text/x-python",
   "name": "python",
   "nbconvert_exporter": "python",
   "pygments_lexer": "ipython3",
   "version": "3.13.0"
  }
 },
 "nbformat": 4,
 "nbformat_minor": 5
}
