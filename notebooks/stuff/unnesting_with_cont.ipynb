{
 "cells": [
  {
   "cell_type": "markdown",
   "id": "16702968-83d6-4b8c-9a3a-75b823d39519",
   "metadata": {},
   "source": [
    "### Continue\n",
    "Die Funktion `extract_coords(items)` erh&auml;lt als Input eine Liste mit Strings. Hat ein String die Form '3, 6', wird\n",
    "   `(3, 6)` zur Liste `pts` hinzugef&uuml;gt. Am Schluss wird die Liste `pts` zur&uuml;ckgegeben.\n",
    "   \n",
    "\n",
    "Verringere die Verschachtelungstiefe durch verwendung von continue."
   ]
  },
  {
   "cell_type": "code",
   "execution_count": null,
   "id": "75511a24-79ed-44a1-88c8-e4ee94ef3e3a",
   "metadata": {},
   "outputs": [],
   "source": []
  },
  {
   "cell_type": "code",
   "execution_count": 77,
   "id": "e8a018b1-17de-41b1-b086-3380d1415804",
   "metadata": {},
   "outputs": [],
   "source": [
    "def extract_coords(items):\n",
    "    pts = []\n",
    "    for s in items:\n",
    "        if type(s) is str:\n",
    "            if s.count(',') == 1:\n",
    "                xs = s.split(',')\n",
    "                xs = [x.strip() for x in xs]\n",
    "                if all(x.isdigit() for x in xs):\n",
    "                    pt = tuple(int(x) for x in xs)\n",
    "                    pts.append(pt)\n",
    "    return pts"
   ]
  },
  {
   "cell_type": "code",
   "execution_count": 78,
   "id": "67ee6446-b022-4910-9ccc-9f73eb065dc0",
   "metadata": {},
   "outputs": [
    {
     "data": {
      "text/plain": [
       "[(3, 4)]"
      ]
     },
     "execution_count": 78,
     "metadata": {},
     "output_type": "execute_result"
    }
   ],
   "source": [
    "items = ['1,2,3', 'x,3', '3, 4']\n",
    "extract_coords(items)"
   ]
  },
  {
   "cell_type": "code",
   "execution_count": 56,
   "id": "f83e1ff2-52e0-4b98-aca3-18e0d2f36e3c",
   "metadata": {},
   "outputs": [
    {
     "data": {
      "text/plain": [
       "[(3, 4)]"
      ]
     },
     "execution_count": 56,
     "metadata": {},
     "output_type": "execute_result"
    }
   ],
   "source": [
    "items = ['1,2,3', 'x,3', '3, 4']\n",
    "extract_coords(items)"
   ]
  },
  {
   "cell_type": "code",
   "execution_count": 41,
   "id": "88925b43-63de-45bb-a0d6-8173d0391e81",
   "metadata": {},
   "outputs": [],
   "source": [
    "def extract_coords(items):\n",
    "    pts = []\n",
    "    for s in items:\n",
    "        if type(s) is not str:\n",
    "            continue\n",
    "        if s.count(',') != 1:\n",
    "            continue\n",
    "        xs = s.split(',')\n",
    "        xs = [x.strip() for x in xs]\n",
    "        if not all(x.isdigit() for x in xs):\n",
    "            continue\n",
    "        \n",
    "        pt = tuple(int(x) for x in xs)\n",
    "        pts.append(pt)\n",
    "    return pts"
   ]
  },
  {
   "cell_type": "code",
   "execution_count": 42,
   "id": "4b68c54c-eb4d-4b1f-8b16-b0328793f1e5",
   "metadata": {},
   "outputs": [
    {
     "data": {
      "text/plain": [
       "[(3, 4)]"
      ]
     },
     "execution_count": 42,
     "metadata": {},
     "output_type": "execute_result"
    }
   ],
   "source": [
    "items = ['1, 2, 3', 'x,3', '3, 4']\n",
    "extract_coords(items)"
   ]
  }
 ],
 "metadata": {
  "kernelspec": {
   "display_name": "Python 3 (ipykernel)",
   "language": "python",
   "name": "python3"
  },
  "language_info": {
   "codemirror_mode": {
    "name": "ipython",
    "version": 3
   },
   "file_extension": ".py",
   "mimetype": "text/x-python",
   "name": "python",
   "nbconvert_exporter": "python",
   "pygments_lexer": "ipython3",
   "version": "3.13.0"
  }
 },
 "nbformat": 4,
 "nbformat_minor": 5
}
