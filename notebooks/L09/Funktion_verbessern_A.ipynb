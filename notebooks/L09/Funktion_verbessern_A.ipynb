{
 "cells": [
  {
   "cell_type": "markdown",
   "id": "830d8322-a639-40f2-ac63-eefffeaf1964",
   "metadata": {},
   "source": [
    "### Implementation einer Funktion verbessern\n",
    "Oft hat man eine Funktion, die macht was sie soll.\n",
    "Die Implementation l&auml;sst sich aber noch verbessern in Bezug auf Performance, Lesbarkeit, Einfachheit,...  \n",
    "\n",
    "Um rasch testen zu k&ouml;nnen, dass sich die \"verbesserte\" Funktion noch gleich verh&auml;lt wie die urspr&uuml;ngliche\n",
    "stellt man eine Reihe von Test bereit. Dazu w&auml;hlt man ein repr&auml;sentative Menge von Argumenten. Man testet dann, ob die\n",
    "neue Funktion f&uuml;r alle diese Argumente noch das gleiche Resultat liefert wie die alte.  \n",
    "\n",
    "Wir spielen das anhand eines Beispiels durch. Dabei sind\n",
    "\n",
    "- `inputs`: Liste von Tupeln mit den Funktionsargumenten,\n",
    "- `io_pairs`: Liste mit Input-Output Paaren `(args, result)`,\n",
    "  wobei `args` ein Argumenttupel ist und `result` der R&uuml;ckgabewert `f(*args)` der Funktion,\n",
    "- `validate(f, io_pairs)`: Funktion, die testet, ob f&uuml;r alle Input-Output Paare `(args, result)` tats&auml;chlich\n",
    "`f(*args) == result` gilt.\n",
    "\n",
    "\n",
    "\n"
   ]
  },
  {
   "cell_type": "code",
   "execution_count": null,
   "id": "e2621841-922a-4cc7-b7f0-42ce09fc0eca",
   "metadata": {},
   "outputs": [],
   "source": [
    "def fib_org(n):\n",
    "    '''gibt die n-te Fibonacci Zahl zurueck, \n",
    "       d.h. die n-te Zahl der Folge 0,1,1,2,3,4,8,13,21,...\n",
    "       jede Zahl ist die Summe ihere beiden Vorgaenger\n",
    "    '''\n",
    "    sqrt5 = 5**.5\n",
    "    phi = (1+sqrt5)/2\n",
    "    return int((phi**n-(-phi)**-n)/sqrt5)"
   ]
  },
  {
   "cell_type": "code",
   "execution_count": null,
   "id": "20d4c860-2b5c-4a07-960a-ea74817b73c1",
   "metadata": {},
   "outputs": [],
   "source": [
    "inputs = [(i,) for i in range(15)]\n",
    "io_pairs = [(args, fib_org(*args)) for args in inputs]\n",
    "io_pairs[0], io_pairs[-1]"
   ]
  },
  {
   "cell_type": "code",
   "execution_count": null,
   "id": "f1e33b17-6a6f-4527-9505-2ef615bbc070",
   "metadata": {},
   "outputs": [],
   "source": [
    "def validate(f, io_pairs):\n",
    "    '''testet, ob f(*args) == result\n",
    "       fuer alle Paare (args, result) \n",
    "       in der Liste io_pairs\n",
    "    '''\n",
    "    failures = []\n",
    "    for i, (args, result) in enumerate(io_pairs):\n",
    "        got = f(*args)\n",
    "        if got != result:\n",
    "            failures.append((i, args, got, result))\n",
    "\n",
    "    n = len(failures)\n",
    "    m = len(io_pairs)\n",
    "    if n == 0:\n",
    "        print('all tests passed')\n",
    "    else:\n",
    "        print('{}/{} tests failed'.format(n, m))\n",
    "        for (i, args, got, expected) in failures:\n",
    "            fmsg = 'test {}: args: {} got: {} expected: {}'\n",
    "            print(fmsg.format(i, args, got, expected))"
   ]
  },
  {
   "cell_type": "code",
   "execution_count": null,
   "id": "edb3d2ae-ec23-43c5-9982-d143d4dd30dc",
   "metadata": {},
   "outputs": [],
   "source": [
    "validate(fib_org, io_pairs)"
   ]
  },
  {
   "cell_type": "code",
   "execution_count": null,
   "id": "f8db66d7-afeb-444f-8af1-f9f566b83fb6",
   "metadata": {},
   "outputs": [],
   "source": [
    "def fib(n):\n",
    "    a, b = 0, 1\n",
    "    for i in range(n):\n",
    "        a, b = b, a+b\n",
    "    return a"
   ]
  },
  {
   "cell_type": "code",
   "execution_count": null,
   "id": "4e7352eb-6c57-4bdf-aceb-3148f75151d0",
   "metadata": {},
   "outputs": [],
   "source": [
    "validate(fib, io_pairs)"
   ]
  },
  {
   "cell_type": "markdown",
   "id": "1d8a8166-0d51-45e7-ae74-f48ac99cccc7",
   "metadata": {},
   "source": [
    "### Aufgabe\n",
    "Die Funktion `srange_org(end, start=0, step=1)` gibt einen\n",
    "kommaseparierten String mit Zahlen zur&uuml;ck.\n",
    "Die Zahlen sind die Elemente von `range(start, end, step)`.  \n",
    "\n",
    "Implementiere `srange` ohne `range` zu benutzen.\n"
   ]
  },
  {
   "cell_type": "code",
   "execution_count": null,
   "id": "7cc929e5-a1c0-42bc-9187-66e53ebca76a",
   "metadata": {},
   "outputs": [],
   "source": [
    "def srange_org(end, start=0, step=1):\n",
    "    return ','.join(str(i) for i in range(start, end, step))"
   ]
  },
  {
   "cell_type": "code",
   "execution_count": null,
   "id": "a12e4b78-f489-4678-a42f-5389dd363855",
   "metadata": {},
   "outputs": [],
   "source": [
    "# Test inputs, io_pairs erstellen\n",
    "inputs = [(3,), (5, 2), (10, 1, 3), (1, 10, -3)]\n",
    "io_pairs = [(args, srange_org(*args)) for args in inputs]"
   ]
  },
  {
   "cell_type": "code",
   "execution_count": null,
   "id": "fb1b8909-4064-4fc3-a664-46c0bfb7cb40",
   "metadata": {},
   "outputs": [],
   "source": [
    "# io_pairs ausgeben\n",
    "for i, o in io_pairs:\n",
    "    print('input: {:<12} output: {}'.format(str(i), o))"
   ]
  },
  {
   "cell_type": "code",
   "execution_count": null,
   "id": "727237c5-92df-4da1-bfe6-3d93346799ce",
   "metadata": {},
   "outputs": [],
   "source": []
  },
  {
   "cell_type": "code",
   "execution_count": null,
   "id": "273e21f4-44dd-4f4a-9ce5-29dbed5b1a43",
   "metadata": {},
   "outputs": [],
   "source": [
    "def srange(end, start=0, step=1):\n",
    "    i = start\n",
    "    s = ''\n",
    "    while i < end:\n",
    "        s = s + str(i) + ','\n",
    "        i += step\n",
    "    return s[:-1]"
   ]
  },
  {
   "cell_type": "code",
   "execution_count": null,
   "id": "e1d2860a-d0dd-4265-8adb-b20d9f3497f8",
   "metadata": {},
   "outputs": [],
   "source": [
    "validate(srange, io_pairs)"
   ]
  },
  {
   "cell_type": "code",
   "execution_count": null,
   "id": "9d0dd43b-61d2-4796-940e-a32d155302f6",
   "metadata": {},
   "outputs": [],
   "source": [
    "def srange(end, start=0, step=1):\n",
    "    i = start\n",
    "    sign = 1 if step > 0 else -1\n",
    "    s = ''\n",
    "    while sign*i < sign*end:\n",
    "        s = s + str(i) + ','\n",
    "        i += step\n",
    "    return s[:-1]"
   ]
  },
  {
   "cell_type": "code",
   "execution_count": null,
   "id": "724f9859-6c41-43cf-b741-3d406db683e5",
   "metadata": {},
   "outputs": [],
   "source": [
    "validate(srange, io_pairs)"
   ]
  },
  {
   "cell_type": "code",
   "execution_count": null,
   "id": "70151269-402e-47e2-a800-9a98dd952434",
   "metadata": {},
   "outputs": [],
   "source": []
  }
 ],
 "metadata": {
  "kernelspec": {
   "display_name": "Python 3 (ipykernel)",
   "language": "python",
   "name": "python3"
  },
  "language_info": {
   "codemirror_mode": {
    "name": "ipython",
    "version": 3
   },
   "file_extension": ".py",
   "mimetype": "text/x-python",
   "name": "python",
   "nbconvert_exporter": "python",
   "pygments_lexer": "ipython3",
   "version": "3.13.0"
  }
 },
 "nbformat": 4,
 "nbformat_minor": 5
}
