{
 "cells": [
  {
   "cell_type": "markdown",
   "id": "caaedc4d-d8f8-4755-9282-11b579fb96e6",
   "metadata": {},
   "source": [
    "### Sortieralgorithmen\n",
    "Eine lange Liste effizient zu sortieren ist ein anspruchsvolles Problem.\n",
    "Die Effizient (time complexity) wird gemessen in den Anzahl gemachter Vergleichsoperationen von Listenelementen. Man betrachtet die durchschnittliche Effizenz (average-case) und die Effizienz im ung&uuml;nstigsten Fall (worst-case).  \n",
    "\n",
    "Effiziente Sortieralgorithmen wie \n",
    "[quicksort](https://en.wikipedia.org/wiki/Quicksort), \n",
    "[mergesort](https://en.wikipedia.org/wiki/Merge_sort) und\n",
    "[heapsort](https://en.wikipedia.org/wiki/Heapsort)\n",
    "sortieren eine Liste der L&auml;nge $n$\n",
    "auch im ung&uuml;nstigsten Fall mit max. $n\\cdot\\log_2(n)$ Vergleichen.\n",
    "\n",
    "Python's Sortierfunktion `sorted` benutzt (seit Version 3.11)\n",
    "powersort, eine verbesserte Variante des fr&uuml;her verwendeten\n",
    "timsort (Entwickelt von Tim Peters) ([Python's sorting method & Powersort (Video)](https://www.youtube.com/watch?v=exbuZQpWkQ0)).\n",
    "\n",
    "Einfachere Algorithmen wie \n",
    "[insertsort](https://en.wikipedia.org/wiki/Insertion_sort) und \n",
    "[bubblesort](https://en.wikipedia.org/wiki/Bubble_sort) brauchen im mittel\n",
    "etwa  $n^2$ Vergleiche.\n",
    "\n",
    "**Beachte**: Ist die Lange der Liste $1\\,000\\,000$, so ist\n",
    "$n^2 = 1\\,000\\,000\\,000\\,000$ und $n\\cdot\\log_2(n)$ ungef&auml;hr $20\\,000\\,000$, also etwa $50\\,000$ Mal kleiner."
   ]
  },
  {
   "cell_type": "markdown",
   "id": "7afa4a80-1a56-49b7-84e5-bbff691a5eb8",
   "metadata": {},
   "source": [
    "### Testbasierte Entwicklung\n",
    "Oft hat man eine Funktion, die macht was sie soll.\n",
    "Die Implementation l&auml;sst sich aber noch verbessern in Bezug auf Performance, Lesbarkeit, Einfachheit,...  \n",
    "\n",
    "Um rasch testen zu k&ouml;nnen, dass sich die \"verbesserte\" Funktion noch gleich verh&auml;lt wie die urspr&uuml;ngliche\n",
    "stellt man eine Reihe von Test bereit. \n",
    "Im vorliegend Fall erstellen wir eine Liste mit den\n",
    "Zahlen von $0$ bis $9$ und mischen sie dann mit der Funktion `random.shuffle`.\n",
    "Dann testen wir, ob unsere Sortierfunktion das gleiche Resultat liefert wie\n",
    "die Funktion `sorted`. Um die Aussagekraft des Test zu verbessern, k&ouml;nnte man diesen z.B. automatisch 1000 Mal durchf&uuml;hren."
   ]
  },
  {
   "cell_type": "code",
   "execution_count": null,
   "id": "2ebbd161-4ace-429d-bfc8-052d14d91d95",
   "metadata": {},
   "outputs": [],
   "source": [
    "import random\n",
    "\n",
    "\n",
    "def test_sortfun(f):\n",
    "    items = list(range(10))\n",
    "    random.shuffle(items)\n",
    "    items_sorted = f(items)\n",
    "    \n",
    "    ok = items_sorted == sorted(items)\n",
    "    print('items:', items)\n",
    "    print('sorted items:', items_sorted)\n",
    "    print('richtig sortiert?', ok)"
   ]
  },
  {
   "cell_type": "code",
   "execution_count": null,
   "id": "01e573e1-123a-4d27-883b-9a85f1b253c9",
   "metadata": {},
   "outputs": [],
   "source": [
    "test_sortfun(sorted)"
   ]
  },
  {
   "cell_type": "markdown",
   "id": "cfbccad3-1504-4518-9a26-916210781427",
   "metadata": {},
   "source": [
    "### Insertsort  \n",
    "Konzeptionell einer der einfachsten Methoden um eine Liste `items` zu sortieren.\n",
    "1. Erstellt eine leere Liste `items_sorted`.\n",
    "2. Entferne ein Element aus `items` und \n",
    "f&uuml;ge es an der richtigen Position in `items_sorted` ein.\n",
    "Wiederhole diesen Schritt bis `items` leer ist."
   ]
  },
  {
   "cell_type": "code",
   "execution_count": null,
   "id": "12f5764c-b9fa-48e6-83d1-9657dcdc8fab",
   "metadata": {},
   "outputs": [],
   "source": [
    "def insert_in_sorted(new, xs):\n",
    "    '''fuege das Element new an der korrekten Position\n",
    "       in die aufsteigend sortierte Liste xs ein\n",
    "    '''\n",
    "    for i, x  in enumerate(xs):\n",
    "        if new < x:\n",
    "            xs.insert(i, new)\n",
    "            break\n",
    "    else:\n",
    "        xs.append(new)"
   ]
  },
  {
   "cell_type": "code",
   "execution_count": null,
   "id": "ff329f70-13f4-4e48-8882-8525e224c508",
   "metadata": {},
   "outputs": [],
   "source": [
    "items = list(range(10))\n",
    "insert_in_sorted(2.5, items)\n",
    "items"
   ]
  },
  {
   "cell_type": "code",
   "execution_count": null,
   "id": "06c48784-cdf8-4a97-a994-d1a3f2b35a36",
   "metadata": {},
   "outputs": [],
   "source": [
    "def insertsort(items):\n",
    "    '''gibt eine aufsteigen sortierte Liste zurueck'''\n",
    "    items_sorted = []\n",
    "    for item in items:\n",
    "        insert_in_sorted(item, items_sorted)\n",
    "    return items_sorted"
   ]
  },
  {
   "cell_type": "code",
   "execution_count": null,
   "id": "40860a67-da5d-4123-92c2-219bde60793f",
   "metadata": {},
   "outputs": [],
   "source": [
    "test_sortfun(insertsort)"
   ]
  },
  {
   "cell_type": "markdown",
   "id": "3ada1325-6fe4-46fe-ac72-ff60dc1fde6b",
   "metadata": {},
   "source": [
    "### Bubblesort\n",
    "Geht die zu sortierende Liste von links nach rechts durch und\n",
    "tausche das aktuelle mit dem n&auml;chsten Element, falls n&ouml;tig.\n",
    "Wiederhole diesen Vorgang bis die Liste sortiert ist (bis keine Elemente getauscht werden).  \n",
    "**Beachte**: Nach dem nach 1. Durchgang ist das\n",
    "gr&ouml;sste Element am Schluss. Man braucht nun nur noch die\n",
    "um 1 verk&uuml;rzte Liste zu sortieren!"
   ]
  },
  {
   "cell_type": "code",
   "execution_count": null,
   "id": "5c97994f-c07a-40ca-98e0-930e342efc15",
   "metadata": {},
   "outputs": [],
   "source": [
    "def bubblesort(items):\n",
    "    n = len(items)\n",
    "    done = False\n",
    "    xs = items.copy()\n",
    "    \n",
    "    while not done:\n",
    "        done = True\n",
    "        for i in range(n-1):\n",
    "            if xs[i] > xs[i+1]:\n",
    "                xs[i+1], xs[i] = xs[i], xs[i+1]\n",
    "                done = False\n",
    "        n -= 1\n",
    "    return xs"
   ]
  },
  {
   "cell_type": "code",
   "execution_count": null,
   "id": "c2fbbc57-6071-428a-9758-62428bb50ce9",
   "metadata": {},
   "outputs": [],
   "source": [
    "test_sortfun(bubblesort)"
   ]
  },
  {
   "cell_type": "markdown",
   "id": "82c2008d-e09b-4eb8-ace5-3d12bcceb21b",
   "metadata": {},
   "source": [
    "### Quicksort  \n",
    "**Beachte**: Hat eine Liste weniger als 2 Elementte ist sie sortiert.  \n",
    "Sei `x0` das erste Element der zu sortierende Liste `xs`.\n",
    "Man teilt nun die Liste `xs[1:]` in 2 Listen, eine mit den Elementen, die kleiner als `x0` sind, und eine mit den Elementen, die gr&ouml;sser oder gleich `x0` sind:\n",
    "- `lefts = [x for x in xs[1:] if x < x0]`,\n",
    "- `rights = [x for x in xs[1:] if x >= x0]`.\n",
    "  \n",
    "Diese k&uuml;rzeren Listen sortiert man nun auf die gleiche Art und f&uuml;gt sie dann zusammen:\n",
    "`quicksort(lefts) + [x0] + quicksort(rights)`."
   ]
  },
  {
   "cell_type": "code",
   "execution_count": null,
   "id": "cb9ac0ef-0e45-4753-84dc-dff924d697aa",
   "metadata": {},
   "outputs": [],
   "source": [
    "def quicksort(items):\n",
    "    if len(items) < 2:\n",
    "        return items\n",
    "    x0 = items[0]\n",
    "    lefts = [x for x in items[1:] if x < x0]\n",
    "    rights = [x for x in items[1:] if x >= x0]\n",
    "    return quicksort(lefts) + [x0] + quicksort(rights)"
   ]
  },
  {
   "cell_type": "code",
   "execution_count": null,
   "id": "2b2d50f4-43a2-47eb-805a-3969037bb220",
   "metadata": {},
   "outputs": [],
   "source": [
    "test_sortfun(quicksort)"
   ]
  },
  {
   "cell_type": "code",
   "execution_count": null,
   "id": "4b5115b2-3133-466e-8cdd-6e48aa191704",
   "metadata": {},
   "outputs": [],
   "source": []
  }
 ],
 "metadata": {
  "kernelspec": {
   "display_name": "Python 3 (ipykernel)",
   "language": "python",
   "name": "python3"
  },
  "language_info": {
   "codemirror_mode": {
    "name": "ipython",
    "version": 3
   },
   "file_extension": ".py",
   "mimetype": "text/x-python",
   "name": "python",
   "nbconvert_exporter": "python",
   "pygments_lexer": "ipython3",
   "version": "3.13.0"
  }
 },
 "nbformat": 4,
 "nbformat_minor": 5
}
