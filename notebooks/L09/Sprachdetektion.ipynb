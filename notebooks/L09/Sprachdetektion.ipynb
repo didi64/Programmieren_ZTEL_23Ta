{
 "cells": [
  {
   "cell_type": "markdown",
   "id": "04466a2f-e127-4695-b15f-73a11434ee44",
   "metadata": {
    "tags": []
   },
   "source": [
    "### Welche Sprache: Deutsch oder Englisch?\n",
    "Das Modul `letterfrequencies` enth&auml;lt einen Dictionary\n",
    "`lang_ldf` der L&auml;nge 2. `lang_lfd['en']` und `lang_lfd['de']` sind ebenfalls\n",
    "Dictionaries, die jedem Grossbuchstaben seine durchschnittliche relative H&auml;ufigkeit in der jeweiligen Sprache zuordnen (ldf steht f&uml;r letter-frequency-dictionary). Die Keys dieser Dictionaries sind die Grossbuchstaben.\n",
    "Die Konstante `LETTERS` des Moduls enth&auml;lt diese Buchstaben als String.\n",
    "\n",
    "\n",
    "\n",
    "\n",
    "Wir ermitteln die relativen H&auml;ufigkeiten der Buchstaben eines Texts und wollen daraus auf die Sprache schliessen. Dazu testen wir, ob\n",
    "die relativen H&auml;ufigkeiten n&auml;her bei denen der deutschen oder englischen Sprache liegen. Als Distanzmass verwenden wir die Wurzel der Summe der quadratischen Abweichungen der H&auml;ufigkeiten:  \n",
    "$$\n",
    "\\text{distance}(d, e) := \\sqrt{(d[A]-e[A])^2+\\ldots+(d[Z]-e[Z])^2}.\n",
    "$$\n",
    "`d` und `e` sind Dictionaries. In obiger Formel steht $d[A]$ f&uuml;r `d['A']`.\n",
    "Die Funktion `distance` im Modul `letterfrequencies` berechnet diese Distanz."
   ]
  },
  {
   "cell_type": "code",
   "execution_count": 4,
   "id": "51107c54-f8c1-4c41-aafd-ae6f3f0cda5d",
   "metadata": {},
   "outputs": [],
   "source": [
    "import letterfrequencies as lf\n",
    "from dict_helpers import peek"
   ]
  },
  {
   "cell_type": "code",
   "execution_count": 5,
   "id": "2e29a024-a137-4f0d-8941-e8b6ffbf28be",
   "metadata": {},
   "outputs": [
    {
     "data": {
      "text/plain": [
       "'ABCDEFGHIJKLMNOPQRSTUVWXYZ'"
      ]
     },
     "execution_count": 5,
     "metadata": {},
     "output_type": "execute_result"
    }
   ],
   "source": [
    "lf.LETTERS"
   ]
  },
  {
   "cell_type": "code",
   "execution_count": 8,
   "id": "f67cac42-1f81-4d28-a905-e6f0c475f704",
   "metadata": {},
   "outputs": [
    {
     "data": {
      "text/plain": [
       "{'A': 0.06469886702444841, 'B': 0.01878354203935599}"
      ]
     },
     "execution_count": 8,
     "metadata": {},
     "output_type": "execute_result"
    }
   ],
   "source": [
    "peek(lf.lang_lfd['de'], 2)"
   ]
  },
  {
   "cell_type": "code",
   "execution_count": 3,
   "id": "3406f5d5-0bc2-4205-9f27-db879e824113",
   "metadata": {},
   "outputs": [
    {
     "data": {
      "text/plain": [
       "3.0"
      ]
     },
     "execution_count": 3,
     "metadata": {},
     "output_type": "execute_result"
    }
   ],
   "source": [
    "d = {'A' : 1, 'B': 2}\n",
    "e = {'B': 4, 'C': 2}\n",
    "lf.distance(d, e)  # sqrt(1 + (-2)^2 + 2^2)"
   ]
  },
  {
   "cell_type": "markdown",
   "id": "85607555-ef00-4e69-9c91-1f4f759351b6",
   "metadata": {},
   "source": [
    "### Relative Buchstabenh&auml;ufigkeit eines Texts bestimmen\n",
    "- Alle Buchstaben des Texts zu Grossbuchstaben machen,\n",
    "- Ä, Ö und Ü durch : AE, OE und 'UE' ersetzen:\n",
    "  Verwende eine Funktion, die nacheinander in einem String `s` Ersetzungen vornimmt mit `s = s.replace(old, new)`, wobei `old` und `new`\n",
    "  &uuml;ber die Key-Value Paare des Dictionaries `{'Ä': 'AE', 'Ö': 'OE', 'Ü': 'UE'}`\n",
    "  laufen.\n",
    "- Verwende eine Funktion, die\n",
    "  einen Dictionary erstellt, der angibt, wie oft jeder der Buchstaben in `lf.LETTERS` vorkommt (ignoriere die anderen Zeichen).\n",
    "- Um die relativen H&auml;ufigkeiten zu erhalten,\n",
    "  bestimmen wir die totale Anzahl der Buchstaben (die Summe aller Werte im Dictionary) und dividieren alle Werte durch dieses Total.\n",
    "\n",
    "Teste den Code mit den Texten in den Files `text_1.txt` und `text_2.txt`."
   ]
  },
  {
   "cell_type": "code",
   "execution_count": 1,
   "id": "7d7927c7-0310-447a-94dc-8ea1b4b32c27",
   "metadata": {
    "tags": []
   },
   "outputs": [],
   "source": [
    "def apply_subst(s, substitutions):\n",
    "    '''Nimmt nacheinander im  String s die\n",
    "       im Dict substitutions angeg. Ersetzungen vor:\n",
    "       der Key wird jeweils durch den Value ersetzt\n",
    "    '''\n",
    "    ...\n",
    "    return s\n",
    "\n",
    "\n",
    "def count_dict(items, domain=None):\n",
    "    '''gibt einen dict zurueck, der zu jedem item in items\n",
    "       angibt, wie oft es vorkommt.\n",
    "       Falls domain nicht None ist, wird ein item nur gezaehlt, \n",
    "       falls es im domain (Iterable) vorkommt\n",
    "    '''\n",
    "    d = {}\n",
    "    ...\n",
    "    return d    \n",
    "\n",
    "\n",
    "def cd2fd(d):\n",
    "    '''d ist ein count-dict\n",
    "       gibt einen neuen frequency-dict zurueck,\n",
    "       der zu jedem key die relative Haeufigkeit (frequency) angibt\n",
    "    '''\n",
    "    ...\n",
    "    return fd\n",
    "\n",
    "\n",
    "def english_or_german(text):\n",
    "    '''testet ob die Buchstabenhaeufigkeiten des Texts\n",
    "       naeher bei den durchschnittlichen Haeufigkeiten eines \n",
    "       englischen oder deutschen Texts liegen.\n",
    "\n",
    "       Gibt ein Tuple (Sprache, Konfidenz) zurueck, wobei\n",
    "       Konfidenz angibt, wieviel Mal naeher man bei \n",
    "       der detektierten Sprache liegt als bei der anderen.\n",
    "    '''\n",
    "    subs = {'Ä': 'AE', 'Ö': 'OE', 'Ü': 'UE'}\n",
    "    text = apply_subst(text.upper(), subs)\n",
    "    cd = count_dict(text, domain=lf.LETTERS)\n",
    "    fd = cd2fd(cd)\n",
    "    \n",
    "    dist_en = lf.distance(fd, lf.lang_lfd['en'])\n",
    "    dist_de = lf.distance(fd, lf.lang_lfd['de'])\n",
    "  \n",
    "    if dist_de <= dist_en:\n",
    "        return 'german', dist_en/dist_de\n",
    "    else:\n",
    "        return 'english', dist_de/dist_en"
   ]
  }
 ],
 "metadata": {
  "author": "dieter.probst@gmail.com",
  "kernelspec": {
   "display_name": "Python 3 (ipykernel)",
   "language": "python",
   "name": "python3"
  },
  "language_info": {
   "codemirror_mode": {
    "name": "ipython",
    "version": 3
   },
   "file_extension": ".py",
   "mimetype": "text/x-python",
   "name": "python",
   "nbconvert_exporter": "python",
   "pygments_lexer": "ipython3",
   "version": "3.13.0"
  }
 },
 "nbformat": 4,
 "nbformat_minor": 5
}
