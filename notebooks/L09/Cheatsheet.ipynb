{
 "cells": [
  {
   "cell_type": "markdown",
   "id": "b82dec56-6c10-441a-aba1-391180efead6",
   "metadata": {},
   "source": [
    "### Cheatsheet"
   ]
  },
  {
   "cell_type": "markdown",
   "id": "493451ab-4ef0-474d-a4e7-f15d18250ef3",
   "metadata": {},
   "source": [
    "**int**: Integer/ ganze Zahlen.   \n",
    "Operationen: `+, -, *, /, **, //, %` (plus, minus, mal, durch, hoch, Ganzzahldivision,\n",
    "  modulo)  \n",
    "**float**: Floats/Fliesskommazahlen  \n",
    "Operationen: `+, -, *, /, **, //, %`.  \n",
    "Funktionen: `abs(x), min(x, y), max(x, y), round(x, anzahl_stellen)`  \n",
    "**str**: String  \n",
    "Operationen: `+` Multiplikation mit pos. Integer.  \n",
    "Funktionen: `len`.  \n",
    "Methoden: `format(items)`, `split(sep)`, `join(items)`, `index(item)`, `find(item)`, `replace(old, new)`, `lstrip()`, `rstrip()`, `strip()`  \n",
    "**bool**: `True` und `False`  \n",
    "Operationen: `and`, `or`, `not`  \n",
    "**tuple**: Tuple `x = ('Max', 'Muster')`.  \n",
    "Operationen: `+`, Multiplikation mit pos. Integer.  \n",
    "Funktionen: `len`  \n",
    "**list**: Liste `x = ['Max', 'Muster']`.  \n",
    "Operationen: `+`, Multiplikation mit pos. Integer.  \n",
    "Funktionen: `len`  \n",
    "Methoden: `append(item)`, `extend(items)`, `insert(index, item)`, `remove(item)`, `pop(index=-1)`  \n",
    "**set**: Menge `x = set()`, `x = set(iterable)`\n",
    "Operationen: `|` (Verein), `&` (Schnitt), `-` \n",
    "Funktionen: `len`     \n",
    "Methoden: `add()`, `remove()`, `pop()` (liefert und entfernt ein Element)  \n",
    "**dict**: Dictionary: `d = {}`, `d = dict(zip(keys, values))`  \n",
    "Operationen: `|` (Verein)  \n",
    "Funktionen: `len`  \n",
    "Methoden: `keys()`, `values()`, `items()`, `pop(key)`, `get(key, default=None)`,\n",
    "`setdefault(key, default=None)`\n",
    "\n",
    "\n",
    "Auf Iterables anwendbare Funktionen:  \n",
    "- `max`, `min`, `len`, `any`, `all`  \n",
    "  `any(items)` gibt `True` zur&uuml;ck, falls mind. ein Element in `items` *truthy*\n",
    "  ist.\n",
    "  `all(items)` gibt `True` zur&uuml;ck, falls alle Element in `items` *truthy*\n",
    "  sind. \n",
    "- `sorted(iterable, key=lambda x: x, reverse=False)`: sortiert das Iterable.\n",
    "`key` ist eine Funktion, sortiert wird nach dem Sortierwert `key(item)`, aufsteigend oder absteiend falls `reverse=True`\n",
    "\n",
    "Platzhalter mit Formatierungsspezifikation:\n",
    "- `{:<10}`, `{:^10}`, `{:>10}`: String mit L&auml;nge mind. 10,\n",
    "  linksb&uuml;ndig, zentriert oder rechtsb&uuml;ndig\n",
    "- `{:6.2f}`: verwandelt einen `int` oder `float` in einen String der\n",
    "   L&auml;nge mind. 6 (aufgef&uuml;llt wird von rechts mit Leerzeichen)\n",
    "  gerundet wird auf 2 Stellen.\n",
    "\n",
    "if-else Ausdr&uuml;cke: `<Ausdruck1> if <Ausdruck> else <Ausdruck2>`  \n",
    "Der Wert dieses Ausdrucks ist der Wert von `<Ausdruck1>` falls\n",
    "`Ausdruck` truthy ist, sonst der Wert von `<Ausdruck2>`.  \n",
    "\n",
    "**Iterables und Dictionaries auspacken**:  \n",
    "Ist `args=[1, 2]`, so hat `f(*args)` den gleichen Effekt wie `f(1, 2)`.\n",
    "Die Elemente des Iterable `args` werden ausgepackt.  \n",
    "Ist `kwargs={'sep': ' ', 'end': '\\n'}`, so hat \n",
    "`print('foo', 'bar', **kwargs)` den gleichen Effekt wie `print('foo', 'bar', sep=' ', end='\\')`. Der Dictionary `kwargs` wird ausgepackt.\n",
    "\n",
    "**Funktionen definieren**:\n",
    "```python\n",
    "def insert(items, item, idx=0):\n",
    "    ...\n",
    "\n",
    "def my_print(*args, sep=' ', end='\\'):\n",
    "    ...\n",
    "\n",
    "def pretty_print(fmt, *args, **kwargs):\n",
    "    ...\n",
    "\n",
    "```"
   ]
  },
  {
   "cell_type": "code",
   "execution_count": null,
   "id": "e129d1e1-93cc-4cf5-8558-43b7ae0af926",
   "metadata": {},
   "outputs": [],
   "source": []
  }
 ],
 "metadata": {
  "kernelspec": {
   "display_name": "Python 3 (ipykernel)",
   "language": "python",
   "name": "python3"
  },
  "language_info": {
   "codemirror_mode": {
    "name": "ipython",
    "version": 3
   },
   "file_extension": ".py",
   "mimetype": "text/x-python",
   "name": "python",
   "nbconvert_exporter": "python",
   "pygments_lexer": "ipython3",
   "version": "3.13.0"
  }
 },
 "nbformat": 4,
 "nbformat_minor": 5
}
