{
 "cells": [
  {
   "cell_type": "markdown",
   "id": "877e6d75-f8bb-4d70-96ac-57aba0eb77a9",
   "metadata": {},
   "source": [
    "### Fallunterscheidung mit einem Dictionary\n",
    "Eine weitere typische Anwendung eines Dictionary ist die\n",
    "Aufl&ouml;sung einer Fallunterscheidung.  \n",
    "Im folgende Beispiel soll ein Objekt (ein Integer, Float, Boolean oder String)\n",
    "als String mit mind. L&auml;nge `minlen` ausgegeben werden, wobei die Formatierung vom Typ des Objekts abh&auml;ngt. F&uuml;r jeden Typ haben wir eine Funktion\n",
    "`f_<type>`, welche die Ausgabe vornimmt. \n",
    "Statt die passende Funktion mittels `if`, `elif` und `else` zu bestimmen,\n",
    "ist es oft einfacher, die passende Funktion aus einem Dictionary zu lesen."
   ]
  },
  {
   "cell_type": "code",
   "execution_count": null,
   "id": "cf834d75-3aa4-4e38-838b-b3e0da5a3c17",
   "metadata": {},
   "outputs": [],
   "source": [
    "# Funktionen fuer die Ausgabe abh. vom Typ\n",
    "def f_int(x,  minlen):\n",
    "    fmt = '{{:{}d}}'.format(minlen)\n",
    "    print(fmt.format(x))\n",
    "\n",
    "\n",
    "def f_float(x,  minlen):\n",
    "    fmt = '{{:{}.2f}}'.format(minlen)\n",
    "    print(fmt.format(x))\n",
    "\n",
    "\n",
    "def f_str(x,  minlen):\n",
    "    fmt = '{{:<{}s}}'.format(minlen)\n",
    "    print(fmt.format(x))\n",
    "\n",
    "\n",
    "def f_bool(x, minlen):\n",
    "    fmt = '{{:<{}s}}'.format(minlen)\n",
    "    print(fmt.format(str(x)))"
   ]
  },
  {
   "cell_type": "code",
   "execution_count": null,
   "id": "35cfa97e-9314-408e-b908-37064790a4d8",
   "metadata": {},
   "outputs": [],
   "source": [
    "# mit if-elif-else Konstrukt\n",
    "def pretty_print(s, minlen=10):\n",
    "    if type(s) is int:\n",
    "        f_int(s, minlen)\n",
    "    elif type(s) is float:\n",
    "        f_float(s, minlen)\n",
    "    elif type(s) is str:\n",
    "        f_str(s, minlen)\n",
    "    elif type(s) is bool:\n",
    "        f_bool(s, minlen)\n",
    "    else:\n",
    "        fmsg = 'no print-function for type {} implemented'\n",
    "        raise NotImplementedError(fmsg.format(type(s)))"
   ]
  },
  {
   "cell_type": "code",
   "execution_count": null,
   "id": "1adf9728-454d-4ab4-891f-c33325a90410",
   "metadata": {},
   "outputs": [],
   "source": [
    "values = (True, 42, 3.141, 'foo')\n",
    "for v in values:\n",
    "    pretty_print(v)"
   ]
  },
  {
   "cell_type": "code",
   "execution_count": null,
   "id": "afaa0274-30b5-4664-be43-95249fd6e9a2",
   "metadata": {},
   "outputs": [],
   "source": [
    "# mit Dictionary\n",
    "def pretty_print(s, minlen=10):\n",
    "    type_fun = {int: f_int,\n",
    "                float: f_float,\n",
    "                str: f_str,\n",
    "                bool: f_bool,\n",
    "                }\n",
    "\n",
    "    t = type(s)\n",
    "    if t not in type_fun:\n",
    "        fmsg = 'no print-function for type {} implemented'\n",
    "        raise NotImplementedError(fmsg.format(t))\n",
    "\n",
    "    return type_fun[t](s, minlen)"
   ]
  },
  {
   "cell_type": "code",
   "execution_count": null,
   "id": "762c0597-c352-4a24-b0b9-565194cb5d32",
   "metadata": {},
   "outputs": [],
   "source": [
    "values = (True, 42, 3.141, 'foo')\n",
    "for v in values:\n",
    "    pretty_print(v)"
   ]
  }
 ],
 "metadata": {
  "kernelspec": {
   "display_name": "Python 3 (ipykernel)",
   "language": "python",
   "name": "python3"
  },
  "language_info": {
   "codemirror_mode": {
    "name": "ipython",
    "version": 3
   },
   "file_extension": ".py",
   "mimetype": "text/x-python",
   "name": "python",
   "nbconvert_exporter": "python",
   "pygments_lexer": "ipython3",
   "version": "3.13.0"
  }
 },
 "nbformat": 4,
 "nbformat_minor": 5
}
