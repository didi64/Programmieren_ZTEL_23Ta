{
 "cells": [
  {
   "cell_type": "markdown",
   "id": "f0aaac16-a563-4766-9e9c-75e6e68b0bbb",
   "metadata": {},
   "source": [
    "### Wie gross ist der durchschnittliche Gewinn?\n",
    "Jemand schl&auml;gt dir 3 Varianten eines Spiels vor.  \n",
    "Der Einsatz betr&auml;gt 3 Franken.  \n",
    "Du bekommst 5 Franken, falls du mit\n",
    "\n",
    "\n",
    "\n",
    "- 6  Würfeln  mindestens eine 6 w&uuml;rfelst,\n",
    "- 12 Würfeln  mindestens zwei 6er w&uuml;rfelst,\n",
    "- 18 Würfeln  mindestens drei 6er w&uuml;rfelst.\n",
    "\n",
    "Spiele jede Variante  100'000-mal. Wie gross ist der durchschnittliche Gewinn?  \n",
    "Spiele jede Variante  100'000-mal. Wie gross ist der durchschnittliche Gewinn?  \n",
    "Implementiere zum w&uuml;rfeln die  Funktion `wuerfle(n)`. Die Funktion\n",
    "`randint` im Modul `random` liefert eine Zufallszahl.\n",
    "\n",
    "```python\n",
    "def wuerfle(n):  \n",
    "    '''gibt eine Liste mit n Zufallszahlen zw.1 und 6 zurueck'''\n",
    "    ...\n",
    "```"
   ]
  },
  {
   "cell_type": "code",
   "execution_count": null,
   "id": "9a16ab19-081a-47d4-bf0c-86bc40357651",
   "metadata": {},
   "outputs": [],
   "source": []
  }
 ],
 "metadata": {
  "kernelspec": {
   "display_name": "Python 3 (ipykernel)",
   "language": "python",
   "name": "python3"
  },
  "language_info": {
   "codemirror_mode": {
    "name": "ipython",
    "version": 3
   },
   "file_extension": ".py",
   "mimetype": "text/x-python",
   "name": "python",
   "nbconvert_exporter": "python",
   "pygments_lexer": "ipython3",
   "version": "3.13.0"
  }
 },
 "nbformat": 4,
 "nbformat_minor": 5
}
