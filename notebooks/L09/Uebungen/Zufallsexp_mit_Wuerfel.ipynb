{
 "cells": [
  {
   "cell_type": "markdown",
   "id": "f0aaac16-a563-4766-9e9c-75e6e68b0bbb",
   "metadata": {},
   "source": [
    "### Wie gross ist der durchschnittliche Gewinn?\n",
    "Jemand schl&auml;gt dir 3 Varianten eines Spiels vor.  \n",
    "Der Einsatz betr&auml;gt 3 Franken.  \n",
    "Du bekommst 5 Franken, falls du mit\n",
    "\n",
    "\n",
    "\n",
    "- mit 6  Würfeln  mindestens eine 6 w&uuml;rfelst,\n",
    "- mit 12 Würfeln  mindestens zwei 6er w&uuml;rfelst,\n",
    "- mit 18 Würfeln  mindestens drei 6er w&uuml;rfelst.\n",
    "\n",
    "Spiele jede Variante  100'000-mal. Wie gross ist der durchschnittliche Gewinn?  \n",
    "Benutze zum w&uuml;rfeln die Funktion `wuerfle` von obiger Aufgabe."
   ]
  },
  {
   "cell_type": "code",
   "execution_count": null,
   "id": "9a16ab19-081a-47d4-bf0c-86bc40357651",
   "metadata": {},
   "outputs": [],
   "source": []
  }
 ],
 "metadata": {
  "kernelspec": {
   "display_name": "Python 3 (ipykernel)",
   "language": "python",
   "name": "python3"
  },
  "language_info": {
   "codemirror_mode": {
    "name": "ipython",
    "version": 3
   },
   "file_extension": ".py",
   "mimetype": "text/x-python",
   "name": "python",
   "nbconvert_exporter": "python",
   "pygments_lexer": "ipython3",
   "version": "3.13.0"
  }
 },
 "nbformat": 4,
 "nbformat_minor": 5
}
