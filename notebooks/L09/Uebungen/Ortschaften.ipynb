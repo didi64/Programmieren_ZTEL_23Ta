{
 "cells": [
  {
   "cell_type": "markdown",
   "id": "2c41d44c-8695-48cd-8e04-552c10a66657",
   "metadata": {},
   "source": [
    "### Ortschaften\n",
    "Das File `ortschafen.txt` enth&auml;lt Zeilen mit den Ortschaftsnamen der Schweiz und Liechtenstein.\n",
    "1. Gib alle Ortschaften aus, die nur aus einem Wort bestehen (kein `' '` enthalten) und auf `tal` enden.\n",
    "2. Zu welchem Anfangsbuchstaben gibt es am meisten bez. am wenigsten Ortschaften?\n",
    "Zu welchem Anfangsbuchstaben gibt es keine Ortschaften?"
   ]
  },
  {
   "cell_type": "code",
   "execution_count": null,
   "id": "37e74d23-446c-4349-b14f-8e0338ae94a4",
   "metadata": {},
   "outputs": [],
   "source": []
  }
 ],
 "metadata": {
  "kernelspec": {
   "display_name": "Python 3 (ipykernel)",
   "language": "python",
   "name": "python3"
  },
  "language_info": {
   "codemirror_mode": {
    "name": "ipython",
    "version": 3
   },
   "file_extension": ".py",
   "mimetype": "text/x-python",
   "name": "python",
   "nbconvert_exporter": "python",
   "pygments_lexer": "ipython3",
   "version": "3.13.0"
  }
 },
 "nbformat": 4,
 "nbformat_minor": 5
}
