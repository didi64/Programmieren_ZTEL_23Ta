{
 "cells": [
  {
   "cell_type": "markdown",
   "id": "23f4dd68-1a7f-4ab0-acf3-58a344f251ec",
   "metadata": {},
   "source": [
    "### Iterierte Quersumme, Neunerprobe\n",
    "1. Berechne die Quersumme einer grossen positiven ganzen Zahl. \n",
    "**Hint**: Wandle zuerst die Zahl in einen String um, erstellen dann eine Liste mit den\n",
    "einzelnen Ziffern und summiere diese.\n",
    "2. Schreibe eine Funktion `quersumme(n)`, die die Quersumme einer Zahl berechnet.\n",
    "3. Schreibe eine Funktion `it_quersumme(n)`, die die iterierte Quersumme einer Zahl berechnet: Falls die Quersumme einer Zahl mehr als eine Stelle hat, berechne die Quersumme der Quersumme. Wiederhole diesen Prozess solange, bis das Resultat 1-stellig ist.\n",
    "4. Erstelle eine Liste mit 100 Zufallszahlen zw. $1\\,000\\,000\\,000$ und    $10\\,000\\,000\\,000$. &Uuml;berpr&uuml;fe, dass f&uuml;r alle diese Zahlen $n$ in der Liste gilt: `it_quersumme(n) - n % 9` is gleich $0$ oder $9$."
   ]
  },
  {
   "cell_type": "code",
   "execution_count": null,
   "id": "660189b3-f71e-4723-a202-453c68817d47",
   "metadata": {},
   "outputs": [],
   "source": []
  }
 ],
 "metadata": {
  "kernelspec": {
   "display_name": "Python 3 (ipykernel)",
   "language": "python",
   "name": "python3"
  },
  "language_info": {
   "codemirror_mode": {
    "name": "ipython",
    "version": 3
   },
   "file_extension": ".py",
   "mimetype": "text/x-python",
   "name": "python",
   "nbconvert_exporter": "python",
   "pygments_lexer": "ipython3",
   "version": "3.13.0"
  }
 },
 "nbformat": 4,
 "nbformat_minor": 5
}
