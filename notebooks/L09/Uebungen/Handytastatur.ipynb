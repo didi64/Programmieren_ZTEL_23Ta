{
 "cells": [
  {
   "cell_type": "markdown",
   "id": "907503ef-20cd-4c8e-9b7a-c4c8d4ede6ff",
   "metadata": {},
   "source": [
    "### Telephonnummern als W&ouml;rter\n",
    "<img width=\"200\" align=\"right\" src=\"/files/images/telephone_keypad.png\">\n",
    "\n",
    "Bei alten Handytastaturen sind auf den Zifferntasten 2-9 auch noch \n",
    "die Buchstaben des Alphabets zu finden. Der Dictionary\n",
    "`digit_letters` ordnet jeder dieser Ziffern Buchstaben zu.  \n",
    "\n",
    "1. Erstelle einen Dictionary `letter_digit`, der jedem Buchstaben die\n",
    "   entsprechende Ziffer (als String) zuordnet.\n",
    "1. Schreibe eine Funktion `word2phonenumbers(word)`, \n",
    "die die zu `word` geh&ouml;rende Nummer als String zur&uuml;ck gibt.\n",
    "1. Wir wollen alle W&ouml;rter finden, die beim Tippen eine bestimmte Nummer ergeben.\n",
    "   1. Gegeben sei eine Liste mit W&ouml;rtern und ein String `chars` mit Buchstaben.\n",
    "      Schreibe eine Funktion `extend(words, chars)`, welche die Liste aller W&ouml;rter\n",
    "      zur&uuml;ckgibt, die man erh&auml;lt indem man ein Wort aus\n",
    "      der Liste `words` mit einem Buchstaben aus `chars` verl&auml;ngert.\n",
    "      Z.B. `extend(['foo', 'bar'], 'xy')` liefert `['foox', 'fooy', 'barx', 'bary']`.\n",
    "   1. Schreibe eine Funktion `phonenumber2words(number)`, die die Liste aller\n",
    "      W&ouml;rter zur&uuml;ckgibt, die beim Tippen `number` ergeben.\n",
    "1. Das File `WORDS_CH5_umlautfrei.txt` enth&auml;lt umlautfreie W&ouml;rter der L&auml;nge 5. Erstelle eine Menge `wordpool` mit allen W&ouml;rtern dieses Files\n",
    "   (in Kleinbuchstaben). Finde alle W&ouml;rter in dieser Menge, die\n",
    "   den Nummern $74663$, $43436$ und $53463$ entsprechen. "
   ]
  },
  {
   "cell_type": "code",
   "execution_count": null,
   "id": "8594034e-01f3-46f6-9d33-9163143a4059",
   "metadata": {},
   "outputs": [],
   "source": [
    "digit_letters = {\n",
    "    '2': 'abc',\n",
    "    '3': 'def',\n",
    "    '4': 'ghi',\n",
    "    '5': 'jkl',\n",
    "    '6': 'mno',\n",
    "    '7': 'pqrs',\n",
    "    '8': 'tuv',\n",
    "    '9': 'wxyz',\n",
    "}"
   ]
  }
 ],
 "metadata": {
  "kernelspec": {
   "display_name": "Python 3 (ipykernel)",
   "language": "python",
   "name": "python3"
  },
  "language_info": {
   "codemirror_mode": {
    "name": "ipython",
    "version": 3
   },
   "file_extension": ".py",
   "mimetype": "text/x-python",
   "name": "python",
   "nbconvert_exporter": "python",
   "pygments_lexer": "ipython3",
   "version": "3.13.0"
  }
 },
 "nbformat": 4,
 "nbformat_minor": 5
}
