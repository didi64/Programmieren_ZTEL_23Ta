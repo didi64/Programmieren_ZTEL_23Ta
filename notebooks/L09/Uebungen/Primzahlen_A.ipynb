{
 "cells": [
  {
   "cell_type": "markdown",
   "id": "251725e9-bc2f-466b-9273-b5a313382666",
   "metadata": {},
   "source": [
    "### Primzahlen\n",
    "1. Erstelle eine Liste `numbers` mit den Zahlen 2 bis und mit 30.\n",
    "Erstelle mit Listcomprehension eine neue Liste,\n",
    "die nur noch die Zahlen $n$ aus `numbers` enthält, die nicht durch 3 teilbar sind \n",
    "(`n % 3 != 0`).\n",
    "1. Erstelle eine leere Liste `primes` und eine Liste `numbers = [30, ..., 2]`.\n",
    "1. Entferne das letzte Element $p$ aus `numbers` und nimm es in die Liste\n",
    "   `primes` auf. Mache eine neue Liste `numbers` mit den Zahlen aus der alten Liste, die nicht durch $p$ teilbar sind.\n",
    "1.  Wiederhole obigen Schritt solange, bis die Liste `numbers` leer ist.\n",
    "    Die Liste `primes` sollte nun alle Primzahlen kleiner 30 enthalten.  \n",
    "1. Schreibe eine Funktion `find_primes(n)`, die mit dieser Methode alle\n",
    "   Primzahlen kleiner $n$ findet. Benuzte diese Funktion, um die\n",
    "   3 gr&ouml;ssten Primzahler kleiner als 1000 zu finden (983, 991, 997)."
   ]
  },
  {
   "cell_type": "code",
   "execution_count": null,
   "id": "02be6b06-77ae-47d7-9e78-0ab7c57b8d0b",
   "metadata": {},
   "outputs": [],
   "source": [
    "numbers = list(range(2, 31))\n",
    "numbers[:3], numbers[-3:]"
   ]
  },
  {
   "cell_type": "code",
   "execution_count": null,
   "id": "861ad1a3-6257-41a3-a1dc-89dd63f1a610",
   "metadata": {},
   "outputs": [],
   "source": [
    "numbers1 = [n for n in numbers if n % 3 != 0]\n",
    "numbers1"
   ]
  },
  {
   "cell_type": "code",
   "execution_count": null,
   "id": "4642ad27-f2aa-4445-a81a-fe7c5e130c34",
   "metadata": {},
   "outputs": [],
   "source": [
    "primes = []\n",
    "numbers = list(range(30, 1, -1))\n",
    "numbers[:3], numbers[-3:]"
   ]
  },
  {
   "cell_type": "code",
   "execution_count": null,
   "id": "73278082-2e08-42c2-bbc5-b716cbdb071b",
   "metadata": {},
   "outputs": [],
   "source": [
    "# fuehre diese Zelle sooft aus, bis numbers leer ist\n",
    "p = numbers.pop()\n",
    "primes.append(p)\n",
    "numbers = [n for n in numbers if n % p != 0]\n",
    "primes, numbers"
   ]
  },
  {
   "cell_type": "code",
   "execution_count": null,
   "id": "b8cfe83b-6f28-4e85-8cac-d5ed360c45ad",
   "metadata": {},
   "outputs": [],
   "source": [
    "def find_primes(n):\n",
    "    primes = []\n",
    "    numbers = list(range(n, 1, -1))\n",
    "    while numbers:\n",
    "        p = numbers.pop()\n",
    "        primes.append(p)\n",
    "        numbers = [n for n in numbers if n % p != 0]\n",
    "    return primes   "
   ]
  },
  {
   "cell_type": "code",
   "execution_count": null,
   "id": "2b8908e5-fbbe-4700-92bd-4ae23e0d7de1",
   "metadata": {},
   "outputs": [],
   "source": [
    "find_primes(1000)[-3:]"
   ]
  }
 ],
 "metadata": {
  "kernelspec": {
   "display_name": "Python 3 (ipykernel)",
   "language": "python",
   "name": "python3"
  },
  "language_info": {
   "codemirror_mode": {
    "name": "ipython",
    "version": 3
   },
   "file_extension": ".py",
   "mimetype": "text/x-python",
   "name": "python",
   "nbconvert_exporter": "python",
   "pygments_lexer": "ipython3",
   "version": "3.13.0"
  }
 },
 "nbformat": 4,
 "nbformat_minor": 5
}
