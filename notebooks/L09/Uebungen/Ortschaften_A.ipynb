{
 "cells": [
  {
   "cell_type": "markdown",
   "id": "41e62a22-686b-4019-a486-abac5bc27be2",
   "metadata": {},
   "source": [
    "### Ortschaften\n",
    "Das File `ortsnamen.txt` enth&auml;lt Zeilen mit den Ortschaftsnamen der Schweiz und Liechtenstein.\n",
    "1. Gib alle Ortschaften aus, die nur aus einem Wort bestehen (kein `' '` enthalten) und auf `tal` enden.\n",
    "2. Zu welchem Anfangsbuchstaben gibt es am meisten bez. am wenigsten Ortschaften?\n",
    "Zu welchem Anfangsbuchstaben gibt es keine Ortschaften?"
   ]
  },
  {
   "cell_type": "code",
   "execution_count": null,
   "id": "574d8baf-5656-4d93-b3cc-392176dfd26a",
   "metadata": {},
   "outputs": [],
   "source": [
    "fn = 'ortsnamen.txt'\n",
    "with open(fn, 'r') as f:\n",
    "    orte = [line.strip() for line in f]\n",
    "len(orte)"
   ]
  },
  {
   "cell_type": "code",
   "execution_count": null,
   "id": "82cbfe80-73bd-47fe-9034-69ebd7fd830d",
   "metadata": {},
   "outputs": [],
   "source": [
    "[ort for ort in orte if ' ' not in ort and ort[-3:] == 'tal']"
   ]
  },
  {
   "cell_type": "code",
   "execution_count": null,
   "id": "8aa82510-7a7d-40c7-b201-8a35d9514eb7",
   "metadata": {},
   "outputs": [],
   "source": [
    "d = {}\n",
    "for ort in orte:\n",
    "    k = ort[0]\n",
    "    d[k] = d.get(k, 0) + 1\n",
    "sorted([(v, k) for k, v in d.items()])    "
   ]
  },
  {
   "cell_type": "code",
   "execution_count": null,
   "id": "07a687fb-74a9-4faf-bcd2-1c5b8bce2a73",
   "metadata": {},
   "outputs": [],
   "source": [
    "[ort for ort in orte if ort[0] == 'Q']"
   ]
  },
  {
   "cell_type": "code",
   "execution_count": null,
   "id": "84bf0735-6699-42bf-b5bb-132abf98139a",
   "metadata": {},
   "outputs": [],
   "source": [
    "[ort for ort in orte if ort[0] == 'Y']"
   ]
  },
  {
   "cell_type": "code",
   "execution_count": null,
   "id": "a30dd4e2-95d5-43e4-b8fe-590bdf17b54f",
   "metadata": {},
   "outputs": [],
   "source": [
    "''.join(sorted(d))  # 'X' fehlt"
   ]
  },
  {
   "cell_type": "code",
   "execution_count": null,
   "id": "c45a6541-bf5a-4544-9da9-b87a8aae059e",
   "metadata": {},
   "outputs": [],
   "source": []
  }
 ],
 "metadata": {
  "kernelspec": {
   "display_name": "Python 3 (ipykernel)",
   "language": "python",
   "name": "python3"
  },
  "language_info": {
   "codemirror_mode": {
    "name": "ipython",
    "version": 3
   },
   "file_extension": ".py",
   "mimetype": "text/x-python",
   "name": "python",
   "nbconvert_exporter": "python",
   "pygments_lexer": "ipython3",
   "version": "3.13.0"
  }
 },
 "nbformat": 4,
 "nbformat_minor": 5
}
