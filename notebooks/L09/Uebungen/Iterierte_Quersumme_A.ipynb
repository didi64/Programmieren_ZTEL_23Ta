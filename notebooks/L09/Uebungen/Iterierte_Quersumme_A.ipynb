{
 "cells": [
  {
   "cell_type": "markdown",
   "id": "23f4dd68-1a7f-4ab0-acf3-58a344f251ec",
   "metadata": {},
   "source": [
    "### Iterierte Quersumme, Neunerprobe\n",
    "1. Berechne die Quersumme einer grossen positiven ganzen Zahl. \n",
    "**Hint**: Wandle zuerst die Zahl in einen String um, erstellen dann eine Liste mit den\n",
    "einzelnen Ziffern und summiere diese.\n",
    "2. Schreibe eine Funktion `quersumme(n)`, die die Quersumme einer Zahl berechnet.\n",
    "3. Schreibe eine Funktion `it_quersumme(n)`, die die iterierte Quersumme einer Zahl berechnet: Falls die Quersumme einer Zahl mehr als eine Stelle hat, berechne die Quersumme der Quersumme. Wiederhole diesen Prozess solange, bis das Resultat 1-stellig ist.\n",
    "4. Erstelle eine Liste mit 100 Zufallszahlen zw. $1\\,000\\,000\\,000$ und    $10\\,000\\,000\\,000$. &Uuml;berpr&uuml;fe, dass f&uuml;r alle diese Zahlen $n$ in der Liste gilt: `it_quersumme(n) - n % 9` is gleich $0$ oder $9$."
   ]
  },
  {
   "cell_type": "code",
   "execution_count": null,
   "id": "660189b3-f71e-4723-a202-453c68817d47",
   "metadata": {},
   "outputs": [],
   "source": [
    "n = 735973295\n",
    "sum(int(x) for x in  str(n))"
   ]
  },
  {
   "cell_type": "code",
   "execution_count": null,
   "id": "b0dbd878-36d9-4c98-be04-4f9b7f32e13d",
   "metadata": {},
   "outputs": [],
   "source": [
    "def quersumme(n):\n",
    "    qs = sum(int(c) for c in  str(n))\n",
    "    return qs"
   ]
  },
  {
   "cell_type": "code",
   "execution_count": null,
   "id": "f722514d-4cfb-4ca1-9f9c-398263a4568d",
   "metadata": {},
   "outputs": [],
   "source": [
    "quersumme(1245)"
   ]
  },
  {
   "cell_type": "code",
   "execution_count": null,
   "id": "93fae278-476f-465b-99ac-08c9cde10455",
   "metadata": {},
   "outputs": [],
   "source": [
    "def it_quersumme(n):\n",
    "    while len(str(n)) > 1:\n",
    "        n = quersumme(n)\n",
    "    return n"
   ]
  },
  {
   "cell_type": "code",
   "execution_count": null,
   "id": "4cd2d8cc-6486-490b-ad04-f713ffa2ebeb",
   "metadata": {},
   "outputs": [],
   "source": [
    "it_quersumme(2352345)"
   ]
  },
  {
   "cell_type": "code",
   "execution_count": null,
   "id": "7bcb6f99-7f35-4760-9b95-18c5a23f4b50",
   "metadata": {},
   "outputs": [],
   "source": [
    "import random\n",
    "\n",
    "N = 100\n",
    "lower = 1_000_000_000\n",
    "upper = 10_000_000_000\n",
    "numbers = [random.randint(lower, upper) for _ in range(N)]\n",
    "all(it_quersumme(n) - n % 9 in (0, 9) for n in numbers)"
   ]
  }
 ],
 "metadata": {
  "kernelspec": {
   "display_name": "Python 3 (ipykernel)",
   "language": "python",
   "name": "python3"
  },
  "language_info": {
   "codemirror_mode": {
    "name": "ipython",
    "version": 3
   },
   "file_extension": ".py",
   "mimetype": "text/x-python",
   "name": "python",
   "nbconvert_exporter": "python",
   "pygments_lexer": "ipython3",
   "version": "3.13.0"
  }
 },
 "nbformat": 4,
 "nbformat_minor": 5
}
