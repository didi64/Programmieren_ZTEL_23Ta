{
 "cells": [
  {
   "cell_type": "markdown",
   "id": "907503ef-20cd-4c8e-9b7a-c4c8d4ede6ff",
   "metadata": {},
   "source": [
    "### Telephonnummern als W&ouml;rter\n",
    "<img width=\"200\" align=\"right\" src=\"/files/images/telephone_keypad.png\">\n",
    "\n",
    "Bei alten Handytastaturen sind auf den Zifferntasten 2-9 auch noch \n",
    "die Buchstaben des Alphabets zu finden. Der Dictionary\n",
    "`digit_letters` ordnet jeder dieser Ziffern Buchstaben zu.  \n",
    "\n",
    "1. Erstelle einen Dictionary `letter_digit`, der jedem Buchstaben die\n",
    "   entsprechende Ziffer (als String) zuordnet.\n",
    "1. Schreibe eine Funktion `word2phonenumbers(word)`, \n",
    "die die zu `word` geh&ouml;rende Nummer als String zur&uuml;ck gibt.\n",
    "1. Wir wollen alle W&ouml;rter finden, die beim Tippen eine bestimmte Nummer ergeben.\n",
    "   1. Gegeben sei eine Liste mit W&ouml;rtern und ein String `chars` mit Buchstaben.\n",
    "      Schreibe eine Funktion `extend(words, chars)`, welche die Liste aller W&ouml;rter\n",
    "      zur&uuml;ckgibt, die man erh&auml;lt indem man ein Wort aus\n",
    "      der Liste `words` mit einen Buchstaben aus `chars` verl&auml;ngert.\n",
    "      Z.B. `extend(['foo', 'bar'], 'xy')` liefert `['foox', 'fooy', 'barx', 'bary']`.\n",
    "   1. Schreibe eine Funktion `phonenumber2words(number)`, die die Liste aller\n",
    "      W&ouml;rter zur&uuml;ckgibt, die beim Tippen `number` ergeben.\n",
    "1. Das File `WORDS_CH5_umlautfrei.txt` enth&auml;lt umlautfreie W&ouml;rter der L&auml;nge 5. Erstelle eine Menge `wordpool` mit allen W&ouml;rtern dieses Files\n",
    "   (in Kleinbuchstaben). Finde alle W&ouml;rter in dieser Menge, die\n",
    "   den Nummern $74663$, $43436$ und $53463$ entsprechen. "
   ]
  },
  {
   "cell_type": "code",
   "execution_count": null,
   "id": "8594034e-01f3-46f6-9d33-9163143a4059",
   "metadata": {},
   "outputs": [],
   "source": [
    "digit_letters = {\n",
    "    '2': 'abc',\n",
    "    '3': 'def',\n",
    "    '4': 'ghi',\n",
    "    '5': 'jkl',\n",
    "    '6': 'mno',\n",
    "    '7': 'pqrs',\n",
    "    '8': 'tuv',\n",
    "    '9': 'wxyz',\n",
    "}"
   ]
  },
  {
   "cell_type": "code",
   "execution_count": null,
   "id": "5ed4f285-4fa7-4ce9-a3b1-6413c18c4d19",
   "metadata": {},
   "outputs": [],
   "source": [
    "letter_digit = {}\n",
    "for digit, letters in digit_letters.items():\n",
    "    for c in letters:\n",
    "        letter_digit[c] = digit\n",
    "letter_digit"
   ]
  },
  {
   "cell_type": "code",
   "execution_count": null,
   "id": "8003ed0e-7135-41a4-8d6e-8aca0b62c680",
   "metadata": {},
   "outputs": [],
   "source": [
    "def word2phonenumber(word):\n",
    "    number = ''.join(letter_digit[c] for c in word)\n",
    "    return number  "
   ]
  },
  {
   "cell_type": "code",
   "execution_count": null,
   "id": "2b9605a3-ed32-4f87-84d6-f7b089ec9217",
   "metadata": {},
   "outputs": [],
   "source": [
    "word2phonenumber('bei')"
   ]
  },
  {
   "cell_type": "code",
   "execution_count": null,
   "id": "83caf60e-1578-4321-b0b6-eec7681319e2",
   "metadata": {},
   "outputs": [],
   "source": [
    "def extend(words, opts):\n",
    "    new_words = []\n",
    "    for word in words:\n",
    "        for c in opts:\n",
    "            new_words.append(word+c)\n",
    "    return new_words"
   ]
  },
  {
   "cell_type": "code",
   "execution_count": null,
   "id": "fddfd601-8966-438d-9aa6-28c251dd4a71",
   "metadata": {},
   "outputs": [],
   "source": [
    "words = ['foo', 'bar','baz']\n",
    "extend(words, 'xyz')"
   ]
  },
  {
   "cell_type": "code",
   "execution_count": null,
   "id": "1748c4dc-7847-4e27-9c89-b03487280b5e",
   "metadata": {},
   "outputs": [],
   "source": [
    "def extend1(words, opts):\n",
    "    return [word+c for word in words for c in opts]"
   ]
  },
  {
   "cell_type": "code",
   "execution_count": null,
   "id": "fc884ac0-973e-4977-b6dc-ad149d64705b",
   "metadata": {},
   "outputs": [],
   "source": [
    "words = ['foo', 'bar','baz']\n",
    "extend(words, 'xyz')"
   ]
  },
  {
   "cell_type": "code",
   "execution_count": null,
   "id": "26b119e2-d7b6-4ee6-aeaa-1699124b0ba2",
   "metadata": {},
   "outputs": [],
   "source": [
    "def phonenumber2words(number):\n",
    "    words = ['']\n",
    "    for digit in number:\n",
    "        opts = digit_letters[digit]\n",
    "        words = extend(words, opts)\n",
    "    return words   "
   ]
  },
  {
   "cell_type": "code",
   "execution_count": null,
   "id": "569f396f-276c-468b-852f-ef5217ccf6d7",
   "metadata": {},
   "outputs": [],
   "source": [
    "phonenumber2words('268')"
   ]
  },
  {
   "cell_type": "code",
   "execution_count": null,
   "id": "91efa219-f442-4f1c-83f8-3f2a10e63327",
   "metadata": {},
   "outputs": [],
   "source": [
    "fn = 'WORDS_CH5_umlautfrei.txt'\n",
    "with open(fn, 'r') as f:\n",
    "    words_5 = [line.strip().lower() for line in f]\n",
    "words_5[:5], words_5[-5:]"
   ]
  },
  {
   "cell_type": "code",
   "execution_count": null,
   "id": "d4a3a5cb-67ad-4658-9027-0d08bc70862e",
   "metadata": {},
   "outputs": [],
   "source": [
    "wordpool = set(words_5)\n",
    "len(wordpool)"
   ]
  },
  {
   "cell_type": "code",
   "execution_count": null,
   "id": "f09b1f08-ce98-467a-a8fb-14a67c771dbf",
   "metadata": {},
   "outputs": [],
   "source": [
    "numbers = ['74663', '43436', '53463']\n",
    "for number in numbers:\n",
    "    words = phonenumber2words(number)\n",
    "    good_words = [word for word in words if word in wordpool]\n",
    "    print(good_words)"
   ]
  }
 ],
 "metadata": {
  "kernelspec": {
   "display_name": "Python 3 (ipykernel)",
   "language": "python",
   "name": "python3"
  },
  "language_info": {
   "codemirror_mode": {
    "name": "ipython",
    "version": 3
   },
   "file_extension": ".py",
   "mimetype": "text/x-python",
   "name": "python",
   "nbconvert_exporter": "python",
   "pygments_lexer": "ipython3",
   "version": "3.13.0"
  }
 },
 "nbformat": 4,
 "nbformat_minor": 5
}
