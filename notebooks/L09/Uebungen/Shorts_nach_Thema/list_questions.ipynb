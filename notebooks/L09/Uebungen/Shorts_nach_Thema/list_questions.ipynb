{
 "cells": [
  {
   "cell_type": "markdown",
   "id": "5701e5f1-2c2a-48ad-92bf-fcac8fd35749",
   "metadata": {},
   "source": [
    "### Kleine Aufgaben zum Typ list\n",
    "Implementiere folgende Funktionen. \n",
    "Der Doc-String beschreibt, was die Funktion tun soll. \n",
    "Bei korrekter Implementation ergibt das Ausf&uuml;hren der  nächsten Zelle(n) jeweils `True`."
   ]
  },
  {
   "cell_type": "code",
   "execution_count": null,
   "id": "af76dc60-2781-4670-bd44-b23e9b4e04de",
   "metadata": {},
   "outputs": [],
   "source": [
    "def square(xs):\n",
    "    '''xs ist eine Liste mit Zahlen.\n",
    "       gib eine Liste mit den Quadraten dieser Zahlen zurueck\n",
    "    '''\n",
    "    ..."
   ]
  },
  {
   "cell_type": "code",
   "execution_count": null,
   "id": "2c63eff7-52a5-4c0b-9a38-831faa675437",
   "metadata": {},
   "outputs": [],
   "source": [
    "square([2, 4, 7]) == [4, 16, 49]"
   ]
  },
  {
   "cell_type": "code",
   "execution_count": null,
   "id": "6f323f25-547c-4c35-bf1e-589c94f248c8",
   "metadata": {},
   "outputs": [],
   "source": [
    "def inverse(xs):\n",
    "    '''xs ist eine Liste mit Zahlen.\n",
    "       gib eine Liste mit den reziproken Werten (1/x) dieser Zahlen zurueck.\n",
    "       Ignoriere 0.\n",
    "       \n",
    "    '''\n",
    "    ..."
   ]
  },
  {
   "cell_type": "code",
   "execution_count": null,
   "id": "a8149a72-9026-4164-bc87-bcf47a96c291",
   "metadata": {},
   "outputs": [],
   "source": [
    "inverse([2, 0, 7]) == [0.5, 0.14]"
   ]
  },
  {
   "cell_type": "code",
   "execution_count": null,
   "id": "65d653d9-0407-4ca6-8727-44160e5ce1d8",
   "metadata": {},
   "outputs": [],
   "source": [
    "def inverse_or_0(xs):\n",
    "    '''xs ist eine Liste mit Zahlen.\n",
    "       gib eine Liste mit den reziproken Werten oder 0 zurueck.\n",
    "    '''\n",
    "    ..."
   ]
  },
  {
   "cell_type": "code",
   "execution_count": null,
   "id": "2297dc99-eb0e-4162-b957-6784803e28ce",
   "metadata": {},
   "outputs": [],
   "source": [
    "inverse_or_0([2, 0, 7]) == [0.5, 0, 0.14]"
   ]
  },
  {
   "cell_type": "code",
   "execution_count": null,
   "id": "25b8f72e-ef96-449a-9462-2634a6060f20",
   "metadata": {},
   "outputs": [],
   "source": [
    "def double_in_place(xs):\n",
    "    '''Verdopple alle Zahlen in der Liste xs\n",
    "       (modifiziere die Liste xs, gib nichts zurueck)\n",
    "       xs: list[int]\n",
    "    '''\n",
    "    ..."
   ]
  },
  {
   "cell_type": "code",
   "execution_count": null,
   "id": "c7ffc346-5659-478d-b699-d48df6ed5223",
   "metadata": {},
   "outputs": [],
   "source": [
    "xs = [2, 4, 7]\n",
    "double_in_place(xs)\n",
    "xs == [4, 8, 14]"
   ]
  },
  {
   "cell_type": "code",
   "execution_count": null,
   "id": "2fdd2ee0-9173-4bbe-a196-21c30785f59f",
   "metadata": {},
   "outputs": [],
   "source": [
    "def mul(xs):\n",
    "    '''multipliziere alle Zahlen in der Liste xs \n",
    "       und gib das Resultat zurueck.\n",
    "       xs: list[int]\n",
    "    '''\n",
    "    ..."
   ]
  },
  {
   "cell_type": "code",
   "execution_count": null,
   "id": "34dab00c-a347-4d9f-b3ff-f83420f29915",
   "metadata": {},
   "outputs": [],
   "source": [
    "mul([2, 3, 5, 8]) == 240"
   ]
  },
  {
   "cell_type": "code",
   "execution_count": null,
   "id": "e1a024d9-1759-4053-801d-bdc5591cfbe5",
   "metadata": {},
   "outputs": [],
   "source": [
    "def popn(xs, n):\n",
    "    '''Entferne die letzten n Elemente aus der Liste\n",
    "       (stoppe, wenn die Liste leer ist) \n",
    "       und gib diese zurueck.\n",
    "    '''\n",
    "    ..."
   ]
  },
  {
   "cell_type": "code",
   "execution_count": null,
   "id": "23fd82fd-c7a4-439f-8afb-36bca999f034",
   "metadata": {},
   "outputs": [],
   "source": [
    "xs = [1, 2, 3]\n",
    "ys = popn(xs, 2) \n",
    "xs == [1] and ys == [3, 2]"
   ]
  },
  {
   "cell_type": "code",
   "execution_count": null,
   "id": "8d2abd94-f9ba-496c-a903-2fdfc413cbd5",
   "metadata": {},
   "outputs": [],
   "source": [
    "xs = [1, 2, 3]\n",
    "ys = popn(xs, 5) \n",
    "xs == [] and ys == [3, 2, 1]"
   ]
  },
  {
   "cell_type": "code",
   "execution_count": null,
   "id": "c06933f4-e659-4009-b1a3-70cce5a52939",
   "metadata": {},
   "outputs": [],
   "source": [
    "def sort_by_second(items):\n",
    "    '''items ist eine Liste von Tupeln de Laenge 2.\n",
    "       Sortiere die Liste nach dem 2. Element der Tuple\n",
    "    '''\n",
    "    ..."
   ]
  },
  {
   "cell_type": "code",
   "execution_count": null,
   "id": "4b20f55c-ad03-4294-9cf7-421f6fb1d473",
   "metadata": {},
   "outputs": [],
   "source": [
    "sort_by_second([('foo', 1), ('bar', 3), ('baz', 2)]) == \\\n",
    "[('foo', 1), ('baz', 2), ('bar', 3)]"
   ]
  },
  {
   "cell_type": "code",
   "execution_count": null,
   "id": "b3bba8dd-ad96-443d-8f34-cefced380b80",
   "metadata": {},
   "outputs": [],
   "source": [
    "def closest_to(xs, n):\n",
    "    '''xs ist eine Liste von Zahlen.\n",
    "       Sortiere die Liste nach dem Abstand der Zahlen zur Zahl n\n",
    "    '''   \n",
    "    ..."
   ]
  },
  {
   "cell_type": "code",
   "execution_count": null,
   "id": "9378367c-dbe7-4310-ac69-be1c16f6d663",
   "metadata": {},
   "outputs": [],
   "source": [
    "closest_to([2, 15, 9], 10) == [9, 15, 2]"
   ]
  },
  {
   "cell_type": "code",
   "execution_count": null,
   "id": "f3914815-e02c-4d43-929a-cd7a04d08659",
   "metadata": {},
   "outputs": [],
   "source": [
    "def form_pairs(xs):\n",
    "    '''xs ist eine Liste\n",
    "       git eine Liste mit Paaren (Tupeln der Laenge 2)\n",
    "       aufeinanderfolgender Elemente zurueck.\n",
    "       Das letzte Tuple hat ev. nur Laenge 1.\n",
    "    '''\n",
    "    ..."
   ]
  },
  {
   "cell_type": "code",
   "execution_count": null,
   "id": "7f02350f-6361-4124-8f89-92162426f944",
   "metadata": {},
   "outputs": [],
   "source": [
    "form_pairs([1, 2, 3, 4, 5]) == [(1, 2), (3, 4), (5,)]"
   ]
  },
  {
   "cell_type": "code",
   "execution_count": null,
   "id": "6a732b8a-d2e8-4864-8ca7-02952be1a958",
   "metadata": {},
   "outputs": [],
   "source": [
    "def flatten(tuples):\n",
    "    '''tuples ist eine Liste von Tuple\n",
    "       mache daraus eine flache Liste\n",
    "    '''\n",
    "    ..."
   ]
  },
  {
   "cell_type": "code",
   "execution_count": null,
   "id": "4b602903-5991-4f70-9ef5-b550c1b0321f",
   "metadata": {},
   "outputs": [],
   "source": [
    "flatten([(1, 2), (3, 4), (5,)]) == [1, 2, 3, 4, 5]"
   ]
  },
  {
   "cell_type": "code",
   "execution_count": null,
   "id": "8fc49e28-d244-47ce-bd65-cfe25feac8df",
   "metadata": {},
   "outputs": [],
   "source": [
    "def minimum(xs):\n",
    "    '''gib die kleinste Zahl der Liste xs zurueck\n",
    "       ohne die Funktion min zu benutzen.\n",
    "       xs: list[int]\n",
    "    '''\n",
    "    ..."
   ]
  },
  {
   "cell_type": "code",
   "execution_count": null,
   "id": "4f1b3284-f134-4478-9d76-40dda02b4973",
   "metadata": {},
   "outputs": [],
   "source": [
    "minimum([3, 2, 1, 4, 1, 6]) == 1"
   ]
  },
  {
   "cell_type": "code",
   "execution_count": null,
   "id": "b4897e0f-654c-4f36-84f1-f7ff925508a5",
   "metadata": {},
   "outputs": [],
   "source": []
  }
 ],
 "metadata": {
  "kernelspec": {
   "display_name": "Python 3 (ipykernel)",
   "language": "python",
   "name": "python3"
  },
  "language_info": {
   "codemirror_mode": {
    "name": "ipython",
    "version": 3
   },
   "file_extension": ".py",
   "mimetype": "text/x-python",
   "name": "python",
   "nbconvert_exporter": "python",
   "pygments_lexer": "ipython3",
   "version": "3.13.0"
  }
 },
 "nbformat": 4,
 "nbformat_minor": 5
}
