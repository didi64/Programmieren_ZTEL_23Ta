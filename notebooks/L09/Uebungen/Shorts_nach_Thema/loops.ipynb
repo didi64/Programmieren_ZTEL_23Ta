{
 "cells": [
  {
   "cell_type": "markdown",
   "id": "16702968-83d6-4b8c-9a3a-75b823d39519",
   "metadata": {},
   "source": [
    "### Kleine Aufgaben zu For und While\n",
    "1. Implementiere die Funktion `get_number(lower, upper)` unter Verwendung der Funktion `is_between(s, lower, upper)`.\n",
    "2. Schreibe alternative Implementationen der Funktion `find_first(items, item)`:\n",
    "   1. Verwende nur eine einzige return Anweisung am Schluss der Funktion. Hint: Verwende `break` und `else`.\n",
    "   2. Benutze eine While-Schliefe anstelle der For-Schleife.\n",
    "      \n",
    "3. Implementiere die Funktion `find_all(items, item)`."
   ]
  },
  {
   "cell_type": "code",
   "execution_count": null,
   "id": "7d82bba0-f463-43a9-9546-401102f4394b",
   "metadata": {},
   "outputs": [],
   "source": [
    "def is_between(s, lower, upper):\n",
    "    '''gibt True zurueck falls s eine Zahl zw.\n",
    "       lower und upper ist\n",
    "       s: str\n",
    "    '''\n",
    "    return s.isdigit() and (lower <= int(s) < upper)"
   ]
  },
  {
   "cell_type": "code",
   "execution_count": null,
   "id": "7efede26-fae7-4363-b74c-1f28639e7581",
   "metadata": {},
   "outputs": [],
   "source": [
    "[is_between(s, 2, 7) for s in ('x', '2', '7', '6')]"
   ]
  },
  {
   "cell_type": "code",
   "execution_count": null,
   "id": "6cbb7013-4600-4e8f-ade1-34b97a645d3f",
   "metadata": {},
   "outputs": [],
   "source": [
    "# 1)\n",
    "def get_number(lower, upper):\n",
    "    '''frage den Benutzer solange nach einem Input s,\n",
    "       bis s eine Zahl zw. lower und upper ist.\n",
    "       lower:int\n",
    "       upper: int\n",
    "    '''\n",
    "    ..."
   ]
  },
  {
   "cell_type": "code",
   "execution_count": null,
   "id": "3047e489-e8d1-40a5-8403-b534495587ad",
   "metadata": {},
   "outputs": [],
   "source": []
  },
  {
   "cell_type": "code",
   "execution_count": null,
   "id": "145046c3-9edf-4d00-a13c-4a3071a3e11e",
   "metadata": {},
   "outputs": [],
   "source": []
  },
  {
   "cell_type": "code",
   "execution_count": null,
   "id": "a7ae38c4-72e0-4eee-b5e1-e001dfcde686",
   "metadata": {},
   "outputs": [],
   "source": []
  },
  {
   "cell_type": "code",
   "execution_count": null,
   "id": "1b77f460-1e18-4c83-a64d-25b87516ec84",
   "metadata": {},
   "outputs": [],
   "source": [
    "#3)\n",
    "def find_all(items, item):\n",
    "    '''gibt eine Liste zurueck mit den \n",
    "       Positionen, wo item in items auftritt\n",
    "       items: list\n",
    "    '''"
   ]
  },
  {
   "cell_type": "code",
   "execution_count": null,
   "id": "84adb243-163a-44e2-ba40-0974f0368931",
   "metadata": {},
   "outputs": [],
   "source": [
    "# 3) test\n",
    "find_all('abakadabra', 'a') == [0, 2, 4, 6, 9]"
   ]
  }
 ],
 "metadata": {
  "kernelspec": {
   "display_name": "Python 3 (ipykernel)",
   "language": "python",
   "name": "python3"
  },
  "language_info": {
   "codemirror_mode": {
    "name": "ipython",
    "version": 3
   },
   "file_extension": ".py",
   "mimetype": "text/x-python",
   "name": "python",
   "nbconvert_exporter": "python",
   "pygments_lexer": "ipython3",
   "version": "3.13.0"
  }
 },
 "nbformat": 4,
 "nbformat_minor": 5
}
