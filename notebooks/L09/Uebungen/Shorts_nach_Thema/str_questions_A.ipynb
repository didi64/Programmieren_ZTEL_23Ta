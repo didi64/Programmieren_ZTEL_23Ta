{
 "cells": [
  {
   "cell_type": "markdown",
   "id": "5701e5f1-2c2a-48ad-92bf-fcac8fd35749",
   "metadata": {},
   "source": [
    "### Kleine Aufgaben zum Typ `str` (L&ouml;sungen)\n",
    "Implementiere folgende Funktionen.\n",
    "Der Doc-String beschreibt, was die Funktion tun soll.\n",
    "Bei korrekter Implementation ist der Ausdruck in der\n",
    "n&auml;chsten Zelle jeweils `True`."
   ]
  },
  {
   "cell_type": "code",
   "execution_count": null,
   "id": "5ff9109e-7b7f-4bd8-8766-88f1c15f58da",
   "metadata": {},
   "outputs": [],
   "source": [
    "def digits(lower, upper, sep=','):\n",
    "    '''gibt einen String mit durch sep getrennten Zahlen \n",
    "       von lower bis vor upper zurueck\n",
    "    '''   \n",
    "    return sep.join(str(i) for i in range(lower, upper))"
   ]
  },
  {
   "cell_type": "code",
   "execution_count": null,
   "id": "cc73d96d-7ece-4917-bd18-afa3a9e47ff1",
   "metadata": {},
   "outputs": [],
   "source": [
    "digits(5, 15, sep=':') == '5:6:7:8:9:10:11:12:13:14'"
   ]
  },
  {
   "cell_type": "code",
   "execution_count": null,
   "id": "ebe86333-0f7b-447b-98b3-c9c891c8170f",
   "metadata": {},
   "outputs": [],
   "source": [
    "def merge_two_words(v, w):\n",
    "    '''fuege die Buchstaben der Woerter v und w\n",
    "       reissverschlussmaessig zusammen bis dem kuerzeren Wort\n",
    "       die Buchstaben ausgehen\n",
    "    '''\n",
    "    result = ''\n",
    "    for x, y in zip(v, w):\n",
    "        result = result + x + y\n",
    "    return result"
   ]
  },
  {
   "cell_type": "code",
   "execution_count": 41,
   "id": "6dddb5a3-137a-4285-888a-7c5391e973ae",
   "metadata": {},
   "outputs": [
    {
     "data": {
      "text/plain": [
       "True"
      ]
     },
     "execution_count": 41,
     "metadata": {},
     "output_type": "execute_result"
    }
   ],
   "source": [
    "merge_two_words('foo', 'barr') == 'fboaor'"
   ]
  },
  {
   "cell_type": "code",
   "execution_count": 42,
   "id": "887b4611-89e4-4d7b-9d15-78059c8d6261",
   "metadata": {},
   "outputs": [],
   "source": [
    "def unmerge2(s):\n",
    "    '''macht merge_two_words(v, w) rueckgaengig\n",
    "       (falls v und v gleich lang)\n",
    "    '''\n",
    "    n = len(s)\n",
    "    v = s[::2]\n",
    "    w = s[1::2]\n",
    "    return v, w"
   ]
  },
  {
   "cell_type": "code",
   "execution_count": 43,
   "id": "770f0123-61e2-43b0-97e1-f0c381d5bb1e",
   "metadata": {},
   "outputs": [
    {
     "data": {
      "text/plain": [
       "True"
      ]
     },
     "execution_count": 43,
     "metadata": {},
     "output_type": "execute_result"
    }
   ],
   "source": [
    "unmerge2('fboaor') == ('foo', 'bar')"
   ]
  },
  {
   "cell_type": "code",
   "execution_count": null,
   "id": "71466546-69d5-47ca-acaa-aebc97911293",
   "metadata": {},
   "outputs": [],
   "source": [
    "def merge_words(words):\n",
    "    '''fuege die Buchstaben der Woerter der Liste words\n",
    "       reissverschlussmaessig zusammen bis dem kuerzesten Wort\n",
    "       die Buchstaben ausgehen\n",
    "    '''\n",
    "    result = ''\n",
    "    for chars in zip(*words):\n",
    "        result += ''.join(chars)\n",
    "    return result"
   ]
  },
  {
   "cell_type": "code",
   "execution_count": null,
   "id": "4c7f0ecf-847e-4bb1-b9e4-e1660c12908c",
   "metadata": {},
   "outputs": [],
   "source": [
    "merge_words(['ABC', 'abc', '123']) == 'Aa1Bb2Cc3'"
   ]
  },
  {
   "cell_type": "code",
   "execution_count": null,
   "id": "29264e20-8da6-4070-86a6-42602f37da7f",
   "metadata": {},
   "outputs": [],
   "source": [
    "def unmerge(s, n=2):\n",
    "    '''macht merge_words(words) rueckgaengig, wobei\n",
    "       n ist Anzahl Woerter in words ist\n",
    "       (und falls alle Woerter die gleiche Laenge hatten)\n",
    "    '''\n",
    "    words = []\n",
    "    for i in range(n):\n",
    "        word = s[i::n]\n",
    "        words.append(word)\n",
    "    return words"
   ]
  },
  {
   "cell_type": "code",
   "execution_count": null,
   "id": "3cd0b2d4-9b2e-479d-b439-5cad80e0f410",
   "metadata": {},
   "outputs": [],
   "source": [
    "unmerge('Aa1Bb2Cc3', 3) == ['ABC', 'abc', '123']"
   ]
  },
  {
   "cell_type": "code",
   "execution_count": null,
   "id": "05184c02-3f0d-49ba-a4fd-6aa2bd1a00e4",
   "metadata": {},
   "outputs": [],
   "source": [
    "def alphabet(n, lower=True):\n",
    "    '''gibt einen String mit den ersten n Buchstaben des\n",
    "       Alphabets zurueck (Kleinbuchstaben falls lower=True, sonst\n",
    "       Grossbuchstaben)\n",
    "    '''\n",
    "    s = ''.join(chr(65+i) for i in range(n))\n",
    "    if lower:\n",
    "        s = s.lower()\n",
    "    return s"
   ]
  },
  {
   "cell_type": "code",
   "execution_count": null,
   "id": "62b7a5a4-4865-4148-a125-d65ecc68e96f",
   "metadata": {},
   "outputs": [],
   "source": [
    "alphabet(5) == 'abcde'\\\n",
    "and alphabet(5, False) == 'ABCDE'"
   ]
  },
  {
   "cell_type": "code",
   "execution_count": 44,
   "id": "33776e11-c631-4fe9-ad2e-61da147702e8",
   "metadata": {},
   "outputs": [],
   "source": [
    "def insert(s, i, word):\n",
    "    '''fuege word an Position i in den String s ein'''\n",
    "    return s[:i] + word + s[i:]"
   ]
  },
  {
   "cell_type": "code",
   "execution_count": 45,
   "id": "ac441b19-8141-481e-9f1d-c3206881610c",
   "metadata": {},
   "outputs": [
    {
     "data": {
      "text/plain": [
       "True"
      ]
     },
     "execution_count": 45,
     "metadata": {},
     "output_type": "execute_result"
    }
   ],
   "source": [
    "insert('foobar', 3, 'xx') == 'fooxxbar'"
   ]
  },
  {
   "cell_type": "code",
   "execution_count": null,
   "id": "6c2ca8a4-9c7b-41b2-8eef-5f3eb74c1962",
   "metadata": {},
   "outputs": [],
   "source": [
    "def delete_char(s, char):\n",
    "    '''loesche alle Vorkommen des Zeichens char aus dem String s'''\n",
    "    cs = [c for c in s if c != char]\n",
    "    return ''.join(cs)"
   ]
  },
  {
   "cell_type": "code",
   "execution_count": null,
   "id": "db2c2925-711e-45a1-87e7-25525404405d",
   "metadata": {},
   "outputs": [],
   "source": [
    "delete_char('abakadabra','a') == 'bkdbr'"
   ]
  },
  {
   "cell_type": "code",
   "execution_count": 46,
   "id": "22228d53-1a0a-4218-92df-16626ed8a750",
   "metadata": {},
   "outputs": [],
   "source": [
    "def delete_chars(s, chars):\n",
    "    '''loesche alle Vorkommen der Zeichen chars aus dem String s'''\n",
    "    cs = [c for c in s if c not in chars]\n",
    "    return ''.join(cs)"
   ]
  },
  {
   "cell_type": "code",
   "execution_count": 47,
   "id": "0fa2304f-4157-4531-ae2b-f543ef6dcca6",
   "metadata": {},
   "outputs": [
    {
     "data": {
      "text/plain": [
       "True"
      ]
     },
     "execution_count": 47,
     "metadata": {},
     "output_type": "execute_result"
    }
   ],
   "source": [
    "delete_chars('A1B2C3', '123') == 'ABC'"
   ]
  },
  {
   "cell_type": "code",
   "execution_count": null,
   "id": "28f38692-f5be-4f1d-8484-4d8a921bb818",
   "metadata": {},
   "outputs": [],
   "source": [
    "def find_palindroms(words):\n",
    "    '''gib eine Liste mit den Woertern in words\n",
    "       zurueck, die Palindrome sind. \n",
    "       Unterscheide nicht zw. Gross- und Kleinbuchstaben\n",
    "    '''\n",
    "    return [w for w in words if w.lower() == w.lower()[::-1]]"
   ]
  },
  {
   "cell_type": "code",
   "execution_count": null,
   "id": "910c1e1f-89f4-45f8-b5e8-50eb636a6926",
   "metadata": {},
   "outputs": [],
   "source": [
    "find_palindroms(['Sugus', 'rotor', 'foo']) == ['Sugus', 'rotor']"
   ]
  },
  {
   "cell_type": "code",
   "execution_count": 48,
   "id": "5eb61e5f-0709-437e-89a0-304c3729d569",
   "metadata": {},
   "outputs": [],
   "source": [
    "def one_space_breaks(s):\n",
    "    '''entferne Whitespace am Anfang und Ende und\n",
    "       reduziere Whitespace zw. Woertern zu ' '\n",
    "    '''\n",
    "    return ' '.join(s.split())"
   ]
  },
  {
   "cell_type": "code",
   "execution_count": null,
   "id": "01267758-3312-4324-8558-0ee180b7da98",
   "metadata": {},
   "outputs": [],
   "source": [
    "one_space_breaks(' foo  bar   baz  ') == 'foo bar baz'"
   ]
  }
 ],
 "metadata": {
  "kernelspec": {
   "display_name": "Python 3 (ipykernel)",
   "language": "python",
   "name": "python3"
  },
  "language_info": {
   "codemirror_mode": {
    "name": "ipython",
    "version": 3
   },
   "file_extension": ".py",
   "mimetype": "text/x-python",
   "name": "python",
   "nbconvert_exporter": "python",
   "pygments_lexer": "ipython3",
   "version": "3.13.0"
  }
 },
 "nbformat": 4,
 "nbformat_minor": 5
}
