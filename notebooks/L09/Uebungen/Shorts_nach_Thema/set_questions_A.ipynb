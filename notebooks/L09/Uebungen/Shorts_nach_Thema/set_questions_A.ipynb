{
 "cells": [
  {
   "cell_type": "markdown",
   "id": "d06bf5f7-6a1c-4f79-9ca1-ac572c0404b0",
   "metadata": {},
   "source": [
    "### Kleine Aufgaben zum Typ `set`  \n",
    "Der Kommentar zu Beginn der Zelle\n",
    "oder der Doc-String, der zu implementierenden Funktion beschreibt die Aufgabe.\n",
    "Bei korrekter Implementation ergibt das Ausführen der nächsten Zelle(n) jeweils True.  \n",
    "\n",
    "**Hint** zur Implementation der Funktion \n",
    "```python\n",
    "def unique(xs):\n",
    "    '''gib eine Liste zurueck, die jedes Element von xs\n",
    "       in der gleichen Reihenfolge enthaelt, aber nur einmal.\n",
    "       xs: list\n",
    "    '''\n",
    "    unique_xs = []  \n",
    "    seen = set()\n",
    "    for x in xs:\n",
    "        ...\n",
    "    return unique_xs\n",
    "```\n",
    "Die Menge `seen` enth&auml;lt die bereits besuchten Elemente der Liste `xs`.\n",
    "Im For-Loop wird getestet, ob `x in xs`. Falls ja, ist nicht s zu tun.\n",
    "Falls nein, f&uuml;gen wir x zur Liste `unique_xs` hinzu und nehmen `x` in die Liste `seen` auf.\n"
   ]
  },
  {
   "cell_type": "code",
   "execution_count": null,
   "id": "16d748c1-62d3-491b-b8d0-f62b64f11b75",
   "metadata": {},
   "outputs": [],
   "source": [
    "# erstelle mit Mengencomprehension Mengen \n",
    "# x2, x3 und x5 mit den Vielfachen von 2, 3 bez. 5 kleiner gleich 30\n",
    "x2 = set(x for x in range(0, 31, 2))\n",
    "x3 = set(x for x in range(0, 31, 3))\n",
    "x5 = set(x for x in range(0, 31, 5))"
   ]
  },
  {
   "cell_type": "code",
   "execution_count": null,
   "id": "d25fddfe-74bf-4f26-b849-312706b4046a",
   "metadata": {},
   "outputs": [],
   "source": [
    "(x2 == {2, 4, 6, 8, 10, 12, 14, 16, 18, 20, 22, 24, 26, 28, 30} and\n",
    " x3 == {0, 3, 6, 9, 12, 15, 18, 21, 24, 27, 30} and\n",
    " x5 == {0, 5, 10, 15, 20, 25, 30})"
   ]
  },
  {
   "cell_type": "code",
   "execution_count": null,
   "id": "ae8227fd-c3c3-43b8-b216-f6ddd9acda3f",
   "metadata": {},
   "outputs": [],
   "source": [
    "# Schneide die Menge x3 mit der Differenzmenge von x2 mit x5.\n",
    "y = (x2 - x5) & x3"
   ]
  },
  {
   "cell_type": "code",
   "execution_count": null,
   "id": "651fb42d-9214-4cb9-b0e9-097673ba17ab",
   "metadata": {},
   "outputs": [],
   "source": [
    "y == {6, 12, 18, 24}"
   ]
  },
  {
   "cell_type": "code",
   "execution_count": null,
   "id": "b98546dc-a174-493c-bc9e-49913b441716",
   "metadata": {},
   "outputs": [],
   "source": [
    "# entferne 18 aus der Menge y und fuege 18 und 20 hinzu\n",
    "y.remove(18)\n",
    "y.add(19)\n",
    "y.add(20)"
   ]
  },
  {
   "cell_type": "code",
   "execution_count": null,
   "id": "7a26423e-e4f0-4971-b5ea-aa0a5294970b",
   "metadata": {},
   "outputs": [],
   "source": [
    "y == {6, 12, 19, 20, 24}"
   ]
  },
  {
   "cell_type": "code",
   "execution_count": null,
   "id": "5fbb233e-24fe-4ee1-ac96-7b664f4e9c8c",
   "metadata": {},
   "outputs": [],
   "source": [
    "def set_diff(xs, ys):\n",
    "    '''gib die Menge xs - ys zurueck\n",
    "       (dein Code darf Mengen nicht mit - subtrahieren)\n",
    "    '''  \n",
    "    return set(x for x in xs if x not in ys) "
   ]
  },
  {
   "cell_type": "code",
   "execution_count": null,
   "id": "130e63fa-17c7-4360-843a-e1f48e1a111f",
   "metadata": {},
   "outputs": [],
   "source": [
    "set_diff({1, 2, 3}, {2, 4}) == {1, 3}"
   ]
  },
  {
   "cell_type": "code",
   "execution_count": null,
   "id": "77df4855-ae7d-4c11-9129-b7f4934f2061",
   "metadata": {},
   "outputs": [],
   "source": [
    "def set_intersection(xs, ys):\n",
    "    '''gib die Menge xs & ys zurueck\n",
    "       (dein Code darf Mengen nicht direkt schneiden)\n",
    "    '''  \n",
    "    return set(x for x in xs if x in xs and x in ys) "
   ]
  },
  {
   "cell_type": "code",
   "execution_count": null,
   "id": "8f832ac0-95c5-4ae2-b500-7ada8bb68d86",
   "metadata": {},
   "outputs": [],
   "source": [
    "set_intersection({1, 2, 3}, {2, 4}) == {2}"
   ]
  },
  {
   "cell_type": "code",
   "execution_count": null,
   "id": "8bbe5ce7-ca8b-4401-a8b1-0f93534bedec",
   "metadata": {},
   "outputs": [],
   "source": [
    "def set_union(xs, ys):\n",
    "    '''gib die Menge xs | ys zurueck\n",
    "       (dein Code darf Mengen nicht direkt vereinen)\n",
    "    '''  \n",
    "    result = set()\n",
    "    for x in xs:\n",
    "        result.add(x)\n",
    "    for y in ys:\n",
    "        result.add(y)\n",
    "    return result"
   ]
  },
  {
   "cell_type": "code",
   "execution_count": null,
   "id": "5e6886de-a012-4473-bd29-ceec8d5ef60a",
   "metadata": {},
   "outputs": [],
   "source": [
    "set_union({1, 2, 3}, {2, 4}) == {1, 2, 3, 4}"
   ]
  },
  {
   "cell_type": "code",
   "execution_count": null,
   "id": "d18d4e5e-daaf-4530-bb3e-39700493fa55",
   "metadata": {},
   "outputs": [],
   "source": [
    "def unique(xs):\n",
    "    '''gib eine Liste zurueck, die jedes Element von xs\n",
    "       in der gleichen Reihenfolge enthalt, aber nur einmal.\n",
    "       xs: list\n",
    "    '''\n",
    "    unique_xs = []\n",
    "    seen = set()\n",
    "    for x in xs:\n",
    "        if x not in seen:\n",
    "            unique_xs.append(x)\n",
    "            seen.add(x)\n",
    "    return unique_xs"
   ]
  },
  {
   "cell_type": "code",
   "execution_count": null,
   "id": "4c86c44a-09d4-4e03-90e8-3de3af8af89e",
   "metadata": {},
   "outputs": [],
   "source": [
    "unique([1, 4, 3, 2, 1, 2, 1]) == [1, 4, 3, 2]"
   ]
  },
  {
   "cell_type": "code",
   "execution_count": null,
   "id": "a7c1a326-37c5-4e10-9ac6-77fd1ac28a1a",
   "metadata": {},
   "outputs": [],
   "source": []
  }
 ],
 "metadata": {
  "kernelspec": {
   "display_name": "Python 3 (ipykernel)",
   "language": "python",
   "name": "python3"
  },
  "language_info": {
   "codemirror_mode": {
    "name": "ipython",
    "version": 3
   },
   "file_extension": ".py",
   "mimetype": "text/x-python",
   "name": "python",
   "nbconvert_exporter": "python",
   "pygments_lexer": "ipython3",
   "version": "3.13.0"
  }
 },
 "nbformat": 4,
 "nbformat_minor": 5
}
