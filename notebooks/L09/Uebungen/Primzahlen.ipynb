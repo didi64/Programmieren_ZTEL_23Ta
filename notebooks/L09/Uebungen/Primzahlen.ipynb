{
 "cells": [
  {
   "cell_type": "markdown",
   "id": "251725e9-bc2f-466b-9273-b5a313382666",
   "metadata": {},
   "source": [
    "### Primzahlen\n",
    "1. Erstelle eine Liste `numbers` mit den Zahlen 2 bis und mit 30.\n",
    "Erstelle mit Listcomprehension eine neue Liste,\n",
    "die nur noch die Zahlen $n$ aus `numbers` enthält, die nicht durch 3 teilbar sind \n",
    "(`n % 3 != 0`).\n",
    "1. Erstelle eine leere Liste `primes` und eine Liste `numbers = [30, ..., 2]`.\n",
    "1. Entferne das letzte Element $p$ aus `numbers` und nimm es in die Liste\n",
    "   `primes` auf. Mache eine neue Liste `numbers` mit den Zahlen aus der alten Liste, die nicht durch $p$ teilbar sind.\n",
    "1.  Wiederhole obigen Schritt solange, bis die Liste `numbers` leer ist.\n",
    "    Die Liste `primes` sollte nun alle Primzahlen kleiner 30 enthalten.  \n",
    "1. Schreibe eine Funktion `find_primes(n)`, die mit dieser Methode alle\n",
    "   Primzahlen kleiner $n$ findet. Benuzte diese Funktion, um die\n",
    "   3 gr&ouml;ssten Primzahler kleiner als 1000 zu finden (983, 991, 997)."
   ]
  }
 ],
 "metadata": {
  "kernelspec": {
   "display_name": "Python 3 (ipykernel)",
   "language": "python",
   "name": "python3"
  },
  "language_info": {
   "codemirror_mode": {
    "name": "ipython",
    "version": 3
   },
   "file_extension": ".py",
   "mimetype": "text/x-python",
   "name": "python",
   "nbconvert_exporter": "python",
   "pygments_lexer": "ipython3",
   "version": "3.13.0"
  }
 },
 "nbformat": 4,
 "nbformat_minor": 5
}
