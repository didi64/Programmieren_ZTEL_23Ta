{
 "cells": [
  {
   "cell_type": "markdown",
   "id": "f0aaac16-a563-4766-9e9c-75e6e68b0bbb",
   "metadata": {},
   "source": [
    "### Wie gross ist der durchschnittliche Gewinn?\n",
    "Jemand schl&auml;gt dir 3 Varianten eines Spiels vor.  \n",
    "Der Einsatz betr&auml;gt 3 Franken.  \n",
    "Du bekommst 5 Franken, falls du mit\n",
    "\n",
    "\n",
    "\n",
    "- 6  Würfeln  mindestens eine 6 w&uuml;rfelst,\n",
    "- 12 Würfeln  mindestens zwei 6er w&uuml;rfelst,\n",
    "- 18 Würfeln  mindestens drei 6er w&uuml;rfelst.\n",
    "\n",
    "Spiele jede Variante  100'000-mal. Wie gross ist der durchschnittliche Gewinn?  \n",
    "Implementiere zum w&uuml;rfeln die  Funktion `wuerfle(n)`. Die Funktion\n",
    "`randint` im Modul `random` liefert eine Zufallszahl.\n",
    "\n",
    "```python\n",
    "def wuerfle(n):  \n",
    "    '''gibt eine Liste mit n Zufallszahlen zw.1 und 6 zurueck'''\n",
    "    ...\n",
    "```"
   ]
  },
  {
   "cell_type": "code",
   "execution_count": 1,
   "id": "9a16ab19-081a-47d4-bf0c-86bc40357651",
   "metadata": {},
   "outputs": [],
   "source": [
    "import random\n",
    "\n",
    "\n",
    "def wuerfle(n):\n",
    "    return [random.randint(1, 6) for i in range(n)]"
   ]
  },
  {
   "cell_type": "code",
   "execution_count": null,
   "id": "2f3436a0-e0eb-415e-8956-37a217f73aa5",
   "metadata": {},
   "outputs": [],
   "source": [
    "N = 100_000\n",
    "einsatz = 3\n",
    "auszahlung = 5\n",
    "n = 3  # Variante: mit 6*n Wuerfeln mind. n 6er wuerfeln (teste mit n=1,2,3)\n",
    "balance = 0\n",
    "\n",
    "for _ in range(N):\n",
    "    balance -= einsatz\n",
    "    wurf = wuerfle(n * 6)\n",
    "    if wurf.count(6) >= n:\n",
    "        balance += auszahlung\n",
    "\n",
    "'{:.3f}'.format(balance/N)"
   ]
  },
  {
   "cell_type": "code",
   "execution_count": null,
   "id": "8cb95b11-a0d2-49f6-81a5-90c17fd0e5ea",
   "metadata": {},
   "outputs": [],
   "source": []
  }
 ],
 "metadata": {
  "kernelspec": {
   "display_name": "Python 3 (ipykernel)",
   "language": "python",
   "name": "python3"
  },
  "language_info": {
   "codemirror_mode": {
    "name": "ipython",
    "version": 3
   },
   "file_extension": ".py",
   "mimetype": "text/x-python",
   "name": "python",
   "nbconvert_exporter": "python",
   "pygments_lexer": "ipython3",
   "version": "3.13.0"
  }
 },
 "nbformat": 4,
 "nbformat_minor": 5
}
