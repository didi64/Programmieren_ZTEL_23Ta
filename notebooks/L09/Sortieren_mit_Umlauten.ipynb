{
 "cells": [
  {
   "cell_type": "markdown",
   "id": "8dd9804d-f440-4ae0-90ae-5f62e3e54e02",
   "metadata": {},
   "source": [
    "### Sortieren von W&ouml;rtern mit Gross- und Kleinbuchstaben und Umlauten  \n",
    "Betrachte die Liste\n",
    "```python\n",
    "words = ['aber', 'Alter', 'alter', 'älter', 'Äsen', 'zahm', 'Zucker']\n",
    "```\n",
    "\n",
    "Sortieren wir diese Liste mit `sorted(words)` erhalten wir\n",
    "\n",
    "```python\n",
    "['Alter', 'Zucker', 'aber', 'alter', 'zahm', 'Äsen', 'älter']\n",
    "```\n",
    "\n",
    "Grossbuchstaben kommen also vor Kleinbuchstaben und diese kommen vor Umlauten.  \n",
    "\n",
    "Wir m&ouml;chten aber A, Ä, a und ä in erster Linie gleich behandeln, und\n",
    "nur bei Gleichstand A vor Ä vor a vor ä sortieren. \n",
    "Die Sortiere Liste sollte so aussehen:  \n",
    "```python\n",
    "['aber', 'Alter', 'alter', 'älter', 'Äsen', 'zahm', 'Zucker']\n",
    "```\n"
   ]
  },
  {
   "cell_type": "code",
   "execution_count": 31,
   "id": "9c8401d8-4afb-488f-aa14-ea1a660617d7",
   "metadata": {},
   "outputs": [
    {
     "data": {
      "text/plain": [
       "['Alter', 'Zucker', 'aber', 'alter', 'zahm', 'Äsen', 'älter']"
      ]
     },
     "execution_count": 31,
     "metadata": {},
     "output_type": "execute_result"
    }
   ],
   "source": [
    "umlauts = 'äöü'\n",
    "vowels = 'aou'\n",
    "\n",
    "words = ['aber', 'Alter', 'alter', 'älter', 'Äsen', 'zahm', 'Zucker']\n",
    "sorted(words)"
   ]
  },
  {
   "cell_type": "markdown",
   "id": "6a68322e-5363-4411-bc69-898433055dd7",
   "metadata": {},
   "source": [
    "Statt dem Wort sortieren wir in erster Linie das\n",
    "kleinbuchstabige Wort ohne die Umlautpunkte (uberschusse statt  Überschüsse).\n",
    "\n",
    "Als **Tiebreakerstring** verwenden wir das Wort, dass wir\n",
    "durch folgende Ersetzungen erhalten:  \n",
    "normaler Grossbuchstabe -> '0',    \n",
    "grosser Umlaut -> '1',    \n",
    "normaler Kleinbuchstabe -> '2',    \n",
    "kleiner Umlaut -> '3'.  \n",
    "\n",
    "Der Sortierwert von `'Überschüsse'` ist also das Tupel \n",
    "`('uberschusse', '12222223222')`."
   ]
  },
  {
   "cell_type": "code",
   "execution_count": 40,
   "id": "bd65efb4-baaa-47c9-b95b-d1ac40e91123",
   "metadata": {},
   "outputs": [
    {
     "data": {
      "text/plain": [
       "'uberschusse'"
      ]
     },
     "execution_count": 40,
     "metadata": {},
     "output_type": "execute_result"
    }
   ],
   "source": [
    "# word wird in erster Linie wir word_ sortiert\n",
    "word = 'Überschüsse'\n",
    "\n",
    "word_ = word.lower()\n",
    "for old, new in zip(umlauts, vowels):\n",
    "    word_ = s.replace(old, new)\n",
    "word_"
   ]
  },
  {
   "cell_type": "code",
   "execution_count": 43,
   "id": "5164d2d4-400f-411d-838a-bd5bd424b0ee",
   "metadata": {},
   "outputs": [
    {
     "data": {
      "text/plain": [
       "'000111222333'"
      ]
     },
     "execution_count": 43,
     "metadata": {},
     "output_type": "execute_result"
    }
   ],
   "source": [
    "# Tiebreaker-String fuer word \n",
    "word = 'AOUÄÖÜaouäöü'\n",
    "''.join(str((c.lower() in umlauts) + 2*c.islower())\n",
    "        for c in word)"
   ]
  },
  {
   "cell_type": "code",
   "execution_count": 38,
   "id": "4c551868-9588-49a8-ab4c-b87d987f97ad",
   "metadata": {},
   "outputs": [],
   "source": [
    "def sortvalue(word):\n",
    "    tiebreaker = ''.join(str((c.lower() in umlauts) + 2*c.islower()) \n",
    "                         for c in word)\n",
    "    word = word.lower()\n",
    "    for old, new in zip(umlauts, vowels):\n",
    "        word = word.replace(old, new)\n",
    "\n",
    "    return word, tiebreaker "
   ]
  },
  {
   "cell_type": "code",
   "execution_count": 39,
   "id": "7781aa6b-f633-4551-9cda-f8ab3fe79d8d",
   "metadata": {},
   "outputs": [
    {
     "data": {
      "text/plain": [
       "['aber', 'Alter', 'alter', 'älter', 'Äsen', 'zahm', 'Zucker']"
      ]
     },
     "execution_count": 39,
     "metadata": {},
     "output_type": "execute_result"
    }
   ],
   "source": [
    "sorted(words, key=sortvalue)"
   ]
  },
  {
   "cell_type": "code",
   "execution_count": null,
   "id": "4e3de766-3c78-478b-8854-b4d3eb74dcc3",
   "metadata": {},
   "outputs": [],
   "source": []
  }
 ],
 "metadata": {
  "kernelspec": {
   "display_name": "Python 3 (ipykernel)",
   "language": "python",
   "name": "python3"
  },
  "language_info": {
   "codemirror_mode": {
    "name": "ipython",
    "version": 3
   },
   "file_extension": ".py",
   "mimetype": "text/x-python",
   "name": "python",
   "nbconvert_exporter": "python",
   "pygments_lexer": "ipython3",
   "version": "3.13.0"
  }
 },
 "nbformat": 4,
 "nbformat_minor": 5
}
