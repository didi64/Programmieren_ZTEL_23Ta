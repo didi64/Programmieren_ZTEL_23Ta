{
 "cells": [
  {
   "cell_type": "code",
   "execution_count": 7,
   "id": "18b37972-226b-4e93-a4b6-cea19797d5d1",
   "metadata": {},
   "outputs": [
    {
     "data": {
      "text/plain": [
       "[('b', 2), ('a', 2), ('c', 3)]"
      ]
     },
     "execution_count": 7,
     "metadata": {},
     "output_type": "execute_result"
    }
   ],
   "source": [
    "items = [('b', 2), ('a', 2), ('c', 3)]\n",
    "items"
   ]
  },
  {
   "cell_type": "code",
   "execution_count": 9,
   "id": "6cc6374e-1692-4299-b167-e50dbe9762b5",
   "metadata": {},
   "outputs": [
    {
     "data": {
      "text/plain": [
       "[('c', 3), ('b', 2), ('a', 2)]"
      ]
     },
     "execution_count": 9,
     "metadata": {},
     "output_type": "execute_result"
    }
   ],
   "source": [
    "sorted(items, key=lambda x: x[1], reverse=True)"
   ]
  },
  {
   "cell_type": "code",
   "execution_count": 10,
   "id": "20481d13-db03-43a8-9c6e-e654e0af7129",
   "metadata": {},
   "outputs": [
    {
     "data": {
      "text/plain": [
       "[('c', 3), ('b', 2), ('a', 2)]"
      ]
     },
     "execution_count": 10,
     "metadata": {},
     "output_type": "execute_result"
    }
   ],
   "source": [
    "sorted(items, key=lambda x: -x[1])"
   ]
  },
  {
   "cell_type": "code",
   "execution_count": 11,
   "id": "4f6c1e88-60d2-45a7-bc7f-2daf34060bed",
   "metadata": {},
   "outputs": [
    {
     "data": {
      "text/plain": [
       "[('c', 3), ('b', 2), ('a', 2)]"
      ]
     },
     "execution_count": 11,
     "metadata": {},
     "output_type": "execute_result"
    }
   ],
   "source": [
    "sorted(items, key=lambda x: (x[1], x[0]), reverse=True)"
   ]
  },
  {
   "cell_type": "code",
   "execution_count": 12,
   "id": "76535458-842d-4766-a8e7-943e1323604f",
   "metadata": {},
   "outputs": [
    {
     "data": {
      "text/plain": [
       "[('c', 3), ('a', 2), ('b', 2)]"
      ]
     },
     "execution_count": 12,
     "metadata": {},
     "output_type": "execute_result"
    }
   ],
   "source": [
    "sorted(items, key=lambda x: (-x[1], x[0]))"
   ]
  },
  {
   "cell_type": "code",
   "execution_count": 14,
   "id": "766f007c-08a3-4ee0-94dc-1350c0020855",
   "metadata": {},
   "outputs": [
    {
     "data": {
      "text/plain": [
       "[('a', 2), ('b', 2), ('c', 3)]"
      ]
     },
     "execution_count": 14,
     "metadata": {},
     "output_type": "execute_result"
    }
   ],
   "source": [
    "# 2-mal sortieren\n",
    "items_sorted = sorted(items)\n",
    "items_sorted"
   ]
  },
  {
   "cell_type": "code",
   "execution_count": 15,
   "id": "787050c6-7634-4ff1-a20b-371797cd8c6d",
   "metadata": {},
   "outputs": [
    {
     "data": {
      "text/plain": [
       "[('c', 3), ('a', 2), ('b', 2)]"
      ]
     },
     "execution_count": 15,
     "metadata": {},
     "output_type": "execute_result"
    }
   ],
   "source": [
    "sorted(items_sorted, key=lambda x: x[1], reverse=True)"
   ]
  },
  {
   "cell_type": "code",
   "execution_count": 19,
   "id": "c1930486-98c7-4c56-9081-e5f661d1e60d",
   "metadata": {},
   "outputs": [
    {
     "data": {
      "text/plain": [
       "{'A': 0.7222222222222222, 'B': 0.2777777777777778}"
      ]
     },
     "execution_count": 19,
     "metadata": {},
     "output_type": "execute_result"
    }
   ],
   "source": [
    "cd = {'A': 13, 'B': 5}\n",
    "tot = sum(cd.values())\n",
    "fd = {k: v/tot for k, v in cd.items()}\n",
    "fd"
   ]
  },
  {
   "cell_type": "code",
   "execution_count": 20,
   "id": "dd091877-0d41-44aa-9d4f-cfa164e9d506",
   "metadata": {},
   "outputs": [
    {
     "data": {
      "text/plain": [
       "1.0"
      ]
     },
     "execution_count": 20,
     "metadata": {},
     "output_type": "execute_result"
    }
   ],
   "source": [
    "sum(fd.values())"
   ]
  },
  {
   "cell_type": "code",
   "execution_count": 21,
   "id": "53b563e3-d94b-4b22-a337-a572a6c96d89",
   "metadata": {},
   "outputs": [
    {
     "data": {
      "text/plain": [
       "'x=1, y=2, z=3'"
      ]
     },
     "execution_count": 21,
     "metadata": {},
     "output_type": "execute_result"
    }
   ],
   "source": [
    "args = (1, 2, 3)\n",
    "'x={}, y={}, z={}'.format(*args)"
   ]
  },
  {
   "cell_type": "code",
   "execution_count": 23,
   "id": "25d721f6-236d-4beb-9ba4-74c1a95fe824",
   "metadata": {},
   "outputs": [
    {
     "name": "stdout",
     "output_type": "stream",
     "text": [
      "1; 2; 3\n",
      "\n",
      "1; 2; 3\n",
      "\n"
     ]
    }
   ],
   "source": [
    "kwargs = {'sep': '; ', 'end': '\\n\\n'}\n",
    "print(*args, **kwargs)\n",
    "print(*args, **kwargs)"
   ]
  },
  {
   "cell_type": "code",
   "execution_count": 24,
   "id": "5eaa32a1-b1a3-40e9-b2a0-23784550f37b",
   "metadata": {},
   "outputs": [
    {
     "name": "stdout",
     "output_type": "stream",
     "text": [
      "1; 2; 3\n",
      "\n"
     ]
    }
   ],
   "source": [
    "print(1, 2, 3, sep='; ', end='\\n\\n')"
   ]
  },
  {
   "cell_type": "code",
   "execution_count": 27,
   "id": "ac1b688e-f4f6-4e9e-8773-1112e360e04d",
   "metadata": {},
   "outputs": [
    {
     "data": {
      "text/plain": [
       "'Breite=200, Hoehe=100'"
      ]
     },
     "execution_count": 27,
     "metadata": {},
     "output_type": "execute_result"
    }
   ],
   "source": [
    "kwargs = {'width': 200, 'height': 100}\n",
    "'Breite={width}, Hoehe={height}'.format(**kwargs)"
   ]
  },
  {
   "cell_type": "code",
   "execution_count": null,
   "id": "29c140c1-f2fc-4cf7-bf15-b3a34630e014",
   "metadata": {},
   "outputs": [],
   "source": []
  }
 ],
 "metadata": {
  "kernelspec": {
   "display_name": "Python 3 (ipykernel)",
   "language": "python",
   "name": "python3"
  },
  "language_info": {
   "codemirror_mode": {
    "name": "ipython",
    "version": 3
   },
   "file_extension": ".py",
   "mimetype": "text/x-python",
   "name": "python",
   "nbconvert_exporter": "python",
   "pygments_lexer": "ipython3",
   "version": "3.13.0"
  }
 },
 "nbformat": 4,
 "nbformat_minor": 5
}
