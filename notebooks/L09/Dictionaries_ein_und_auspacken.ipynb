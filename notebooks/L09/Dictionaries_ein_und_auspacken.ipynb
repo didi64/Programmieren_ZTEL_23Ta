{
 "cells": [
  {
   "cell_type": "markdown",
   "id": "c0c2a16b-8454-4d61-9436-5252771a925a",
   "metadata": {},
   "source": [
    "### Dictionaries ein- und auspacken, benamste Platzhalter\n",
    "**Iterables und Dictionaries einpacken**:\n",
    "Wird eine Funktion mit  \n",
    "```python\n",
    "def f(*args):\n",
    "    ...\n",
    "```\n",
    "definiert, werden beim Aufruf mit `f(1, 2, 3)` alle Argumente in das\n",
    "Tuple `args=(1, 2, 3)` gepackt. Entsprechendes gilt, falls eine Funktion mit  \n",
    "```python\n",
    "def f(**kwargs):\n",
    "    ...\n",
    "```\n",
    "definiert wird. Beim Aufruf mit `f(width=200, height = 100)` werden die\n",
    "Keyword-Argumente in den Dictionary \n",
    "`kwargs = {'width': 200, 'height': 100}` gepackt.\n",
    "\n",
    "**Iterables und Dictionaries auspacken**:  \n",
    "Ist `args=[1, 2, 3]`, so hat `f(*args)` den gleichen Effekt wie `f(1, 2, 3)`.\n",
    "Die Elemente des Iterable `args` werden mit dem Operator `*` ausgepackt.  \n",
    "&Auml;hnlich kann man einen Dictionary mit dem Operator `**` auspacken:\n",
    "Ist `kwargs = {'width': 200, 'height': 100}`, so hat \n",
    "`f(**kwargs)` den gleichen Effekt wie `f(width=200, height = 100)`.  \n",
    "\n",
    "**Benamste Platzhalter**:  \n",
    "Die Platzhalter in einem Platzhalterstring `'Schluessel: {} Wert: {}'`\n",
    "k&ouml;nnen auch benamst werden. Dazu schreibt man einfach einen Variabelname\n",
    "in die Klammer: `'Schluessel: {key} Wert: {value}'`.\n",
    "\n",
    "Zum bef&uuml;llen der Platzhalter ist dann die Stringmethode `format` mit\n",
    "den entsprechenden key-word Argumenten aufzurufen. Alternativ kann ein\n",
    "Dictionary ausgepackt werden.  \n",
    "```python\n",
    "'Schluessel: {key} Wert: {value}'.format(key='cat', value='Katze')\n",
    "\n",
    "d = {'key': 'cat', 'value': 'Katze'}\n",
    "'Schluessel: {key} Wert: {value}'.format(**d)\n",
    "```"
   ]
  },
  {
   "cell_type": "markdown",
   "id": "3fac22b3-5606-4f3d-b6ff-ad0aa01f5227",
   "metadata": {},
   "source": [
    "***\n",
    "Einpacken\n",
    "***"
   ]
  },
  {
   "cell_type": "code",
   "execution_count": null,
   "id": "7c536ebc-5112-4beb-8edf-1839381f33e1",
   "metadata": {},
   "outputs": [],
   "source": [
    "def args_in_tuple_packen(*args):\n",
    "    print(args)\n",
    "\n",
    "\n",
    "def kwargs_in_dict_packen(**kwargs):\n",
    "    print(kwargs)\n",
    "\n",
    "\n",
    "def args_in_tuple_packen_und_kwargs_in_dict_packen(*args, **kwargs):\n",
    "    print(args, kwargs)"
   ]
  },
  {
   "cell_type": "code",
   "execution_count": null,
   "id": "36ff647f-e550-47d5-b5f2-d68e0f15f99f",
   "metadata": {},
   "outputs": [],
   "source": [
    "args_in_tuple_packen(1, 2, 3)\n",
    "kwargs_in_dict_packen(width=200, height=200)\n",
    "args_in_tuple_packen_und_kwargs_in_dict_packen(1, 2, 3, width=200, height=200)"
   ]
  },
  {
   "cell_type": "markdown",
   "id": "dbea7095-1dd6-49d7-970e-5884e0265ceb",
   "metadata": {},
   "source": [
    "***\n",
    "Auspacken\n",
    "***"
   ]
  },
  {
   "cell_type": "code",
   "execution_count": null,
   "id": "18dfdaf8-a759-4554-876e-df692950be63",
   "metadata": {},
   "outputs": [],
   "source": [
    "args = (1, 2, 3)\n",
    "kwargs = {'width': 200, 'height': 200}\n",
    "\n",
    "args_in_tuple_packen(*args)\n",
    "kwargs_in_dict_packen(**kwargs)\n",
    "args_in_tuple_packen_und_kwargs_in_dict_packen(*args, **kwargs)"
   ]
  },
  {
   "cell_type": "markdown",
   "id": "ab7801f7-8b36-43ba-ac7e-24d1691e170a",
   "metadata": {},
   "source": [
    "***\n",
    "Benamste Platzhalter\n",
    "***"
   ]
  },
  {
   "cell_type": "code",
   "execution_count": null,
   "id": "e249b5fd-47b0-493f-9b05-f7f0c2ef4b69",
   "metadata": {},
   "outputs": [],
   "source": [
    "fstring = 'Schluessel: {key}, Wert: {value}'\n",
    "fstring.format(key='cat', value='Katze')"
   ]
  },
  {
   "cell_type": "code",
   "execution_count": null,
   "id": "354b1074-00c7-423a-ab56-6126729d8d75",
   "metadata": {},
   "outputs": [],
   "source": [
    "d = {'key': 'cat', 'value': 'Katze'}\n",
    "fstring.format(**d)"
   ]
  },
  {
   "cell_type": "code",
   "execution_count": null,
   "id": "f08f3361-74ea-4942-be6d-25f7a8e7ec60",
   "metadata": {},
   "outputs": [],
   "source": [
    "customers = [\n",
    "    {'vorname': 'Hans',\n",
    "     'name': 'Muster',\n",
    "     'anrede': 'Hi Hans',\n",
    "     'gruss': 'Bis spaeter',\n",
    "     },\n",
    "    {'vorname': 'Albert',\n",
    "     'name': 'Einstein', \n",
    "     'anrede': 'Sehr geehrter Herr Prof. Dr. Einstein',\n",
    "     'gruss': 'Hochachtungsvoll',\n",
    "     },\n",
    "    {'vorname': 'Anna',\n",
    "     'name': 'Meier', \n",
    "     'anrede': 'Liebe Anna',\n",
    "     'gruss': 'Beste Gruesse',\n",
    "     },\n",
    "]\n",
    "\n",
    "template = '''\\\n",
    "{anrede},\n",
    "\n",
    "{msg}\n",
    "\n",
    "{gruss},\n",
    "{signature}\\\n",
    "'''"
   ]
  },
  {
   "cell_type": "code",
   "execution_count": null,
   "id": "82543632-7f89-4aef-a65f-ec757c641f58",
   "metadata": {},
   "outputs": [],
   "source": [
    "def send_emails(template, msg, customers, signature='Dieter Probst'):\n",
    "    for customer in customers:\n",
    "        print(template.format(msg=msg, signature=signature, **customer))\n",
    "        print('-' * 80)"
   ]
  },
  {
   "cell_type": "code",
   "execution_count": null,
   "id": "258b226b-f26d-4258-b4a8-1e220aca0688",
   "metadata": {},
   "outputs": [],
   "source": [
    "msg = 'vielen Dank fuer die rasche Antwort.'\n",
    "send_emails(template, msg, customers)"
   ]
  },
  {
   "cell_type": "code",
   "execution_count": null,
   "id": "6cb4ee11-93df-4a8f-af2b-90ad8a5b30ef",
   "metadata": {},
   "outputs": [],
   "source": [
    "def print_kwargs(**kwargs):\n",
    "    print(kwargs)\n",
    "    for k, v in kwargs.items():\n",
    "        print('key: \"{}\" value: \"{}\"'.format(k, v))"
   ]
  },
  {
   "cell_type": "code",
   "execution_count": null,
   "id": "777d89e3-6559-4560-82a5-6a7b3d347b56",
   "metadata": {},
   "outputs": [],
   "source": [
    "# key-word argumente in Dictionary kwargs einpacken\n",
    "print_kwargs(vorname='Hans', name='Muster')"
   ]
  },
  {
   "cell_type": "code",
   "execution_count": null,
   "id": "7edf3855-564f-4769-b07e-cd4062c5e6b5",
   "metadata": {},
   "outputs": [],
   "source": []
  }
 ],
 "metadata": {
  "kernelspec": {
   "display_name": "Python 3 (ipykernel)",
   "language": "python",
   "name": "python3"
  },
  "language_info": {
   "codemirror_mode": {
    "name": "ipython",
    "version": 3
   },
   "file_extension": ".py",
   "mimetype": "text/x-python",
   "name": "python",
   "nbconvert_exporter": "python",
   "pygments_lexer": "ipython3",
   "version": "3.13.0"
  }
 },
 "nbformat": 4,
 "nbformat_minor": 5
}
