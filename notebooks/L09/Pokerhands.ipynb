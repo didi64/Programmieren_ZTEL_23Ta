{
 "cells": [
  {
   "cell_type": "markdown",
   "id": "c89e50f6-c1bc-4ff9-a065-1954184caf72",
   "metadata": {},
   "source": [
    "### Pokerh&auml;nde\n",
    "Eine Karte wird als String der L&auml;nge 2 repr&auml;sentiert, z.B. 'A♣'.\n",
    "Das 1. Zeichen steht f&uuml;r den Rang/rank der Karte und ist eines der Zeichen\n",
    "in '23456789TJQKA' (zwei,...,neun, ten, jack, queen, king und ace), \n",
    "das 2. Zeichen steht f&uuml;r die Farbe/suit der Karte und ist eines der Zeichen in '♥♠♦♣' (hearts, spades, diamonds, clubs).\n",
    "\n",
    "Der Kartenstapel/deck ist eine Liste mit 52 Karten, eine Hand ist eine Liste mit\n",
    "5 Karten. Zum mischen des Decks verwenden wir die Funktion `random.shuffle(deck)`,\n",
    "welche eine Liste mischt.   \n",
    "\n",
    "Nachstehend definieren wir einige Konstanten, die wir im ganzen Notebook nutzen,\n",
    "sowie die Funktionen `deal(deck)`, welche die 5 obersten Karten des Decks `deck`\n",
    "entfernt und als Liste zur&uuml;ck gibt (die gedealte Hand), sowie\n",
    "`get_ranks(hand)` und `get_suits(hand)`, welche jeweils nur die die Ranks bez. die Suits unserer Handkarten herausgreift (siehe unten)."
   ]
  },
  {
   "cell_type": "code",
   "execution_count": null,
   "id": "c30134e4-9533-4a14-9de3-3bb338b2097d",
   "metadata": {},
   "outputs": [],
   "source": [
    "import random\n",
    "\n",
    "\n",
    "RANK = 0\n",
    "SUIT = 1\n",
    "SUITS = '♥♠♦♣'\n",
    "RANKS = '23456789TJQKA'\n",
    "\n",
    "deck = [value+suit for suit in SUITS for value in RANKS]\n",
    "card = deck[-1]\n",
    "card, card[RANK], card[SUIT]"
   ]
  },
  {
   "cell_type": "code",
   "execution_count": null,
   "id": "6fda591a-d4b9-4601-b079-efbc49502130",
   "metadata": {},
   "outputs": [],
   "source": [
    "deck[-13:]"
   ]
  },
  {
   "cell_type": "code",
   "execution_count": null,
   "id": "a6734c51-e5be-42ff-9032-292d00b47490",
   "metadata": {},
   "outputs": [],
   "source": [
    "random.shuffle(deck)\n",
    "deck[-13:]"
   ]
  },
  {
   "cell_type": "code",
   "execution_count": null,
   "id": "c6b034f7-fef9-4640-b883-0a8fe6f7befd",
   "metadata": {},
   "outputs": [],
   "source": [
    "def draw(deck, n=5):\n",
    "    '''die letzten n Karten vom deck entfernen und\n",
    "       als Liste zurueckgeben\n",
    "    '''\n",
    "    hand = []\n",
    "    for _ in range(5):\n",
    "        hand.append(deck.pop())\n",
    "    return hand"
   ]
  },
  {
   "cell_type": "code",
   "execution_count": null,
   "id": "f74e027c-777c-4c7c-80b6-30cf2c6b02af",
   "metadata": {},
   "outputs": [],
   "source": [
    "hand = draw(deck)\n",
    "hand"
   ]
  },
  {
   "cell_type": "code",
   "execution_count": null,
   "id": "2f9d56c2-0093-4abd-99de-966bf733dab9",
   "metadata": {},
   "outputs": [],
   "source": [
    "def get_ranks(hand):\n",
    "    return [card[RANK] for card in hand]\n",
    "\n",
    "\n",
    "def get_suits(hand):\n",
    "    return [card[SUIT] for card in hand]"
   ]
  },
  {
   "cell_type": "code",
   "execution_count": null,
   "id": "30c6e0d8-7f85-4b65-a292-fe6175179d89",
   "metadata": {},
   "outputs": [],
   "source": [
    "ranks = get_ranks(hand)\n",
    "suits = get_suits(hand)\n",
    "ranks, suits"
   ]
  },
  {
   "cell_type": "code",
   "execution_count": null,
   "id": "fe51d525-8e55-427c-bde3-ae0f563580b1",
   "metadata": {},
   "outputs": [],
   "source": [
    "# ranks Ordnen bez. \n",
    "# der rank einer Karte ist umso besser, je weiter rechts\n",
    "# er in der Liste RANKS steht, d.h. je groesser RANK.index(rank) ist\n",
    "sorted(ranks, key=lambda x: RANKS.index(x))"
   ]
  },
  {
   "cell_type": "markdown",
   "id": "cd97e65c-1b6e-4c0d-b316-be73e5fb3add",
   "metadata": {},
   "source": [
    "### Handtyp feststellen\n",
    "\n",
    "Ziel ist es, eine Funktion zu schreiben, die den [Handtyp](https://en.wikipedia.org/wiki/List_of_poker_hands)\n",
    "(four of a kind, full house, flush, straight, ...) erkennt.\n",
    "Dann nehmen wir 100_000 Mal die obersten 5 Karten eines gemischten Decks und schauen, wie oft die einzelnen Handtypen vorkommen.  \n",
    "\n",
    "- flush: falls alle Karten die gleiche Suit haben,\n",
    "- straight: wir sortieren die Ranks der Handkarten, machen daraus einen String und schauen ob dieser in der Liste STRAIGHTS vorkommt (siehe unten).\n",
    "\n",
    "Ist eine Hand kein flush oder straight, erstellen wir einen Dictionary, der zu jedem Rank angibt, wieviele Karten mit diesem Rank in der Hand sind.\n",
    "F&uuml;r eine Hand `['5♠', '4♠', 'A♥', '5♥', '7♥']` sieht dieser Dictionary so aus:\n",
    "`{'5': 2, 4: '1', 'A': 1, '7': 1}`. Die absteigend sortierten Werte, hier\n",
    "'2111', nennen wir dann den CTYPE dieser Hand. So eine Hand nennt man auch pair."
   ]
  },
  {
   "cell_type": "code",
   "execution_count": null,
   "id": "9420f1dd-fbdd-4c43-b69c-0109938c2d3b",
   "metadata": {},
   "outputs": [],
   "source": [
    "STRAIGHTS = ['2345A', '23456', '34567', '45678', '56789', '6789T',\n",
    "             '789TJ', '89TJQ', '9TJQK', 'TJQKA',\n",
    "             ]\n",
    "\n",
    "CTYPE_NAME = {\n",
    "    '11111': 'high card',\n",
    "    '2111': 'pair',\n",
    "    '221': 'pairs',\n",
    "    '311': 'trips',\n",
    "    '32': 'fullhouse',\n",
    "    '41': 'quads',\n",
    "}"
   ]
  },
  {
   "cell_type": "markdown",
   "id": "3d60671d-c480-41e7-bc96-1d197244d30b",
   "metadata": {},
   "source": [
    "### Aufgaben"
   ]
  },
  {
   "cell_type": "code",
   "execution_count": null,
   "id": "0e020463-85d0-4741-8201-1c4b81ed42f3",
   "metadata": {},
   "outputs": [],
   "source": [
    "def is_flush(hand):\n",
    "    '''True falls die hand ein flush ist'''   \n",
    "    return len(set(get_suits(hand))) == 1"
   ]
  },
  {
   "cell_type": "code",
   "execution_count": null,
   "id": "e6843c53-d0dc-49f3-abd8-8c7d2d1d98a7",
   "metadata": {},
   "outputs": [],
   "source": [
    "hand = ['A♣', '7♣', 'Q♣', '6♣', 'T♣']\n",
    "is_flush(hand)"
   ]
  },
  {
   "cell_type": "code",
   "execution_count": null,
   "id": "266fd8ee-cc53-4859-a1ac-9f2dbfe3faf8",
   "metadata": {},
   "outputs": [],
   "source": [
    "def is_straight(hand):\n",
    "    '''True falls die hand ein straight ist'''\n",
    "    ranks = get_ranks(hand)\n",
    "    ranks_sorted = sorted(ranks, key=lambda x: RANKS.index(x))\n",
    "    return ''.join(ranks_sorted) in STRAIGHTS"
   ]
  },
  {
   "cell_type": "code",
   "execution_count": null,
   "id": "7aaf687b-f314-4845-9535-f0b27036ad7c",
   "metadata": {},
   "outputs": [],
   "source": [
    "hands = [['3♣', 'A♥', '2♣', '5♣', '4♣'],\n",
    "         ['K♣', 'A♣', 'Q♥', 'T♣', 'J♣'],\n",
    "         ['8♣', 'T♣', 'T♥', '9♥', 'Q♣'],\n",
    "        ]\n",
    "\n",
    "[is_straight(h) for h in hands]"
   ]
  },
  {
   "cell_type": "code",
   "execution_count": null,
   "id": "2ba6b505-29aa-44ba-8e53-17a861c7f07d",
   "metadata": {},
   "outputs": [],
   "source": [
    "def count_dict(items):\n",
    "    d = {}\n",
    "    for item in items:\n",
    "        d[item] = d.get(item, 0) + 1\n",
    "    return d\n",
    "\n",
    "\n",
    "def count_type(hand):\n",
    "    '''gibt den CTYPE der Hand zur&uuml;ck'''\n",
    "    ranks = get_ranks(hand)\n",
    "    d = count_dict(ranks)\n",
    "    counts = sorted(d.values(), reverse=True)\n",
    "    return ''.join(str(x) for x in counts)"
   ]
  },
  {
   "cell_type": "code",
   "execution_count": null,
   "id": "a7f0d6d5-dc2a-4e1a-bec1-52216adc21ca",
   "metadata": {},
   "outputs": [],
   "source": [
    "hands = [['3♣', 'A♥', '2♥', '5♣', '4♣'],\n",
    "         ['K♣', 'A♣', 'J♥', 'A♥', 'J♣'],\n",
    "         ['9♣', 'T♣', 'T♥', '9♥', '9♦'],\n",
    "        ]\n",
    "\n",
    "[count_type(h) for h in hands]"
   ]
  },
  {
   "cell_type": "code",
   "execution_count": null,
   "id": "7bcd40b6-7715-4eb7-b334-403066b80da3",
   "metadata": {},
   "outputs": [],
   "source": [
    "def handname(hand):\n",
    "    '''gibt den Handnamen der Hand zurueck'''\n",
    "    if is_straight(hand) and is_flush(hand):\n",
    "        return 'straightflush'\n",
    "    elif is_flush(hand):\n",
    "        return 'flush'\n",
    "    elif is_straight(hand):\n",
    "        return 'straight'\n",
    "    else:\n",
    "        ct = count_type(hand)\n",
    "        return CTYPE_NAME[ct]"
   ]
  },
  {
   "cell_type": "code",
   "execution_count": null,
   "id": "17499d99-3fa0-4f3e-947f-364ab5fbd389",
   "metadata": {},
   "outputs": [],
   "source": [
    "hands = [['3♣', 'A♥', '2♥', '5♣', '4♣'],\n",
    "         ['K♣', 'A♣', 'J♥', 'A♥', 'J♣'],\n",
    "         ['9♣', 'T♣', 'T♥', '9♥', '9♦'],\n",
    "        ]\n",
    "\n",
    "[handname(h) for h in hands]"
   ]
  },
  {
   "cell_type": "code",
   "execution_count": null,
   "id": "08a97acd-ca4a-40ba-a1d6-30f209a65c8f",
   "metadata": {},
   "outputs": [],
   "source": [
    "# Wieviele Haende eines bestimmten Types\n",
    "# erhaelt man bei 100_000 Mal ziehen\n",
    "d = {}\n",
    "for i in range(100_000):\n",
    "    deck = new_deck(shuffle=True)\n",
    "    hand = draw(deck, n=5)\n",
    "    key = handname(hand)\n",
    "    d[key] = d.get(key, 0) + 1\n",
    "d = dict(sorted(d.items(), key=lambda x: x[::-1]))\n",
    "d"
   ]
  },
  {
   "cell_type": "code",
   "execution_count": null,
   "id": "bd8da741-1f2f-4c65-9c8d-2c904b146e66",
   "metadata": {},
   "outputs": [],
   "source": []
  }
 ],
 "metadata": {
  "kernelspec": {
   "display_name": "Python 3 (ipykernel)",
   "language": "python",
   "name": "python3"
  },
  "language_info": {
   "codemirror_mode": {
    "name": "ipython",
    "version": 3
   },
   "file_extension": ".py",
   "mimetype": "text/x-python",
   "name": "python",
   "nbconvert_exporter": "python",
   "pygments_lexer": "ipython3",
   "version": "3.13.0"
  }
 },
 "nbformat": 4,
 "nbformat_minor": 5
}
