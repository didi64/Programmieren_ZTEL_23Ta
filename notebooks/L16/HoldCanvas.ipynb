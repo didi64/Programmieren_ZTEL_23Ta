{
 "cells": [
  {
   "cell_type": "markdown",
   "id": "8dac55b2-c2f5-415a-b21c-bb0a6517a277",
   "metadata": {},
   "source": [
    "### Canvas-Widget, Optimierung mit `hold_canvas()`\n",
    "Wir z.B. mit `fill_circle` ein Punkt auf die Leinwand gemalt, so wird dieser sofort dargestellt.\n",
    "Das macht das Zeichen vieler Punkte langsam. Der Kontext-Manager `hold_canvas` des Moduls `ipycanvas` sorgt daf&uuml;r, dass\n",
    "alle Ausgaben  gebuffert werden. Das Leinwand-Update erfolgt erst am Schluss. \n",
    "\n",
    "```python\n",
    "from ipycanvas import hold_canvas\n",
    "\n",
    "with hold_canvas():\n",
    "    <zeiche viele Dinge auf die Leinwand>\n",
    "```\n",
    "\n",
    "[Doku zu `hold_canvas()`](https://ipycanvas.readthedocs.io/en/latest/basic_usage.html#optimizing-drawings).  \n",
    "\n",
    "Nachstehende Beispiele illustrieren die Verwendung von `hold_canvas`."
   ]
  },
  {
   "cell_type": "code",
   "execution_count": 1,
   "id": "43ef8771-c308-4a26-ac3e-eb5d0a6b2479",
   "metadata": {},
   "outputs": [],
   "source": [
    "# ohne hold_canvas, langsam\n",
    "def draw_slow(canvas):\n",
    "    for i in range(50):\n",
    "        for j in range(50):\n",
    "            x = (i+0.5)*4\n",
    "            y = (j+0.5)*4\n",
    "            canvas.fill_circle(x, y, 2)\n",
    "\n",
    "\n",
    "# mit hold_canvas, schnell\n",
    "def draw_fast(canvas):\n",
    "    '''platziere allen Code der auf die Leinwand zeichnet innerhalb des\n",
    "       Contexts \"with hold_canvas():\"\n",
    "    '''\n",
    "    with hold_canvas():\n",
    "        for i in range(50):\n",
    "            for j in range(50):\n",
    "                x = (i+0.5)*4\n",
    "                y = (j+0.5)*4\n",
    "                canvas.fill_circle(x, y, 2)"
   ]
  },
  {
   "cell_type": "code",
   "execution_count": 2,
   "id": "16386511-284c-46bb-81e4-beb4759e6137",
   "metadata": {},
   "outputs": [
    {
     "data": {
      "application/vnd.jupyter.widget-view+json": {
       "model_id": "0b451b58b6d34f27a7f54e7b73794550",
       "version_major": 2,
       "version_minor": 0
      },
      "text/plain": [
       "Canvas(height=200, layout=Layout(border_bottom='1px solid black', border_left='1px solid black', border_right=…"
      ]
     },
     "execution_count": 2,
     "metadata": {},
     "output_type": "execute_result"
    }
   ],
   "source": [
    "from ipycanvas import Canvas, hold_canvas\n",
    "canvas = Canvas(width=200, height=200, layout={'border': '1px solid black'})\n",
    "canvas.fill_style = 'red'\n",
    "canvas"
   ]
  },
  {
   "cell_type": "code",
   "execution_count": 6,
   "id": "975f17c7-f2b1-4b4b-a582-c3feb529bc01",
   "metadata": {},
   "outputs": [],
   "source": [
    "canvas.fill_style = 'red'\n",
    "canvas.clear()\n",
    "draw_slow(canvas)"
   ]
  },
  {
   "cell_type": "code",
   "execution_count": 7,
   "id": "5fc688ef-8bff-4b4a-8bc9-abe2278241db",
   "metadata": {},
   "outputs": [],
   "source": [
    "canvas.fill_style = 'blue'\n",
    "canvas.clear()\n",
    "draw_fast(canvas)"
   ]
  },
  {
   "cell_type": "code",
   "execution_count": null,
   "id": "3ab18371-1e3b-4c05-820d-d96633b586af",
   "metadata": {},
   "outputs": [],
   "source": []
  },
  {
   "cell_type": "code",
   "execution_count": 8,
   "id": "f7f8f139-cafb-4bfc-b3f0-9e382f053e41",
   "metadata": {},
   "outputs": [
    {
     "data": {
      "application/vnd.jupyter.widget-view+json": {
       "model_id": "70c4ba0000944baeade0e2a21c088bcc",
       "version_major": 2,
       "version_minor": 0
      },
      "text/plain": [
       "MultiCanvas(height=200, layout=Layout(border_bottom='1px solid black', border_left='1px solid black', border_r…"
      ]
     },
     "execution_count": 8,
     "metadata": {},
     "output_type": "execute_result"
    }
   ],
   "source": [
    "# with hold_canvas mit Layers\n",
    "from ipycanvas import MultiCanvas\n",
    "mcanvas = MultiCanvas(2, width=200, height=200, layout={'border': '1px solid black'})\n",
    "bg, fg = mcanvas\n",
    "bg.fill_style = 'red'\n",
    "fg.fill_style = 'blue'\n",
    "mcanvas"
   ]
  },
  {
   "cell_type": "code",
   "execution_count": 13,
   "id": "e0c72ea5-fe63-4362-94b1-6a69de290bb4",
   "metadata": {},
   "outputs": [],
   "source": [
    "mcanvas.clear()\n",
    "draw_slow(fg)"
   ]
  },
  {
   "cell_type": "code",
   "execution_count": 12,
   "id": "d1ff2538-4e5f-460c-9f63-c141a8f6bb5d",
   "metadata": {},
   "outputs": [],
   "source": [
    "mcanvas.clear()\n",
    "draw_fast(bg)"
   ]
  },
  {
   "cell_type": "code",
   "execution_count": null,
   "id": "59e52260-9caa-4bdf-8e83-052955fff974",
   "metadata": {},
   "outputs": [],
   "source": []
  }
 ],
 "metadata": {
  "author": "dieter.probst@gmail.com",
  "kernelspec": {
   "display_name": "Python 3 (ipykernel)",
   "language": "python",
   "name": "python3"
  },
  "language_info": {
   "codemirror_mode": {
    "name": "ipython",
    "version": 3
   },
   "file_extension": ".py",
   "mimetype": "text/x-python",
   "name": "python",
   "nbconvert_exporter": "python",
   "pygments_lexer": "ipython3",
   "version": "3.13.0"
  }
 },
 "nbformat": 4,
 "nbformat_minor": 5
}
