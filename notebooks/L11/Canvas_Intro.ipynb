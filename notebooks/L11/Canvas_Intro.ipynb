{
 "cells": [
  {
   "cell_type": "markdown",
   "id": "01efa5e5-5252-4777-a391-98395da1954e",
   "metadata": {},
   "source": [
    "### Das Canvas-Widget\n",
    "[Offizielle Dokumentation zum Canvas-Widget](https://ipycanvas.readthedocs.io/en/latest/)  \n",
    "Ein Canvas-Objekt wird z.B. mit  \n",
    "```python\n",
    "canvas = Canvas(width = 200, height=200)\n",
    "display(canvas)\n",
    "```  \n",
    "erzeugt und dargestellt. \n",
    "Wie alle Widgets f&uuml;r Jupyterlab \n",
    "akzeptiert `Canvas` ein Keyword-Argument [layout](https://ipywidgets.readthedocs.io/en/stable/examples/Widget%20Layout.html), womit die Darstellung der\n",
    "Canvas beeinflusst werden kann.  \n",
    "\n",
    "Einige **Attribute**:\n",
    "- `stroke_style`: Farbe zum Zeichnen\n",
    "- `fill_style`:   Farbe zum F&uuml;llen\n",
    "- `line_width`:   Linienbreite\n",
    "- `font`:         Font und Fontsize (z.B. `'12px serif'`)\n",
    "  \n",
    "Einige **Methoden**:  \n",
    "- `canvas.stroke_lines([(0, 0), (20, 10), (100, 100),...])`\n",
    "- `canvas.stroke_circle(x, y, radius)`\n",
    "- `canvas.stroke_polygon([(0, 0), (20, 10), (100, 100),...])`  \n",
    "  Ist der letzte Punkt verschieden von ersten, wird das Polygon automatisch geschlossen\n",
    "- `canvas.stroke_rect(upperleft_x, upper_left_y, width, height)`  \n",
    "- `canvas.fill_text(text, x, y)`\n",
    "- `canvas.clear()`  \n",
    "- `canvas.clear_rect(upperleft_x, upper_left_y, width, height)`  \n",
    "   rechteckiges Gebiet wird von Canvas gel&ouml;scht\n",
    "\n",
    "F&uuml;r viele `stroke`-Methoden gibt es eine entsprechende `fill`-Methoden."
   ]
  },
  {
   "cell_type": "code",
   "execution_count": null,
   "id": "c08770c9-6514-4ea8-b3fb-120d0d4e5935",
   "metadata": {},
   "outputs": [],
   "source": [
    "from ipycanvas import Canvas"
   ]
  },
  {
   "cell_type": "code",
   "execution_count": null,
   "id": "1c42c273-0855-48e7-8416-1d0566ed19fd",
   "metadata": {},
   "outputs": [],
   "source": [
    "WIDTH = 200\n",
    "HEIGHT = 200\n",
    "\n",
    "# Zeichne Rand, sonst ist die leere Leinwand kaum sichtbar\n",
    "layout = {'border': '2px solid black'}\n",
    "canvas = Canvas(width=WIDTH, height=HEIGHT, layout=layout)\n",
    "canvas"
   ]
  },
  {
   "cell_type": "code",
   "execution_count": null,
   "id": "89e0be70-912a-4879-bb8a-1a0d497b8f63",
   "metadata": {},
   "outputs": [],
   "source": [
    "# Farben zum zeichnen und fuellen, Linienbreite\n",
    "canvas.stroke_style, canvas.fill_style, canvas.line_width"
   ]
  },
  {
   "cell_type": "code",
   "execution_count": null,
   "id": "a7d0f6bd-5551-400f-b62f-7d9dd0a59067",
   "metadata": {},
   "outputs": [],
   "source": [
    "# Font der mit fill_text verwendet wird\n",
    "canvas.font"
   ]
  },
  {
   "cell_type": "code",
   "execution_count": null,
   "id": "bd1a36ea-4672-4db4-920c-3829f06dee1b",
   "metadata": {},
   "outputs": [],
   "source": [
    "# zeichne Linienzug in rot\n",
    "canvas.stroke_style = 'red'\n",
    "canvas.line_width = 2\n",
    "lines = [(10, 10), (10, 90), (90, 90), (10, 10)]\n",
    "canvas.stroke_lines(lines)"
   ]
  },
  {
   "cell_type": "code",
   "execution_count": null,
   "id": "c0281f13-c3f6-4d6b-84b3-c6d2ffc8d0b7",
   "metadata": {},
   "outputs": [],
   "source": [
    "# zeichne Kreislinie in blau\n",
    "canvas.stroke_style = 'blue'\n",
    "canvas.line_width = 5\n",
    "canvas.stroke_circle(150, 150, radius=20)"
   ]
  },
  {
   "cell_type": "code",
   "execution_count": null,
   "id": "389562d6-8ba6-498b-90fe-d86723015f13",
   "metadata": {},
   "outputs": [],
   "source": [
    "# zeichne gelbe Kreisscheibe\n",
    "canvas.fill_style = 'yellow'\n",
    "canvas.fill_circle(100, 100, 30)"
   ]
  },
  {
   "cell_type": "code",
   "execution_count": null,
   "id": "afedbd5c-6134-4e55-b10b-7479c51abb27",
   "metadata": {},
   "outputs": [],
   "source": [
    "# Polygon in orange\n",
    "canvas.fill_style = 'orange'\n",
    "canvas.fill_polygon([(0, 100), (0, 200), (100, 100)])"
   ]
  },
  {
   "cell_type": "code",
   "execution_count": null,
   "id": "3dfaf94d-9f76-46a1-80b8-b17be5460191",
   "metadata": {},
   "outputs": [],
   "source": [
    "# Leinwand mit blauem Rechteck einfassen\n",
    "canvas.stroke_style = 'blue'\n",
    "canvas.line_width = 10\n",
    "canvas.stroke_rect(0, 0, canvas.width, canvas.height)"
   ]
  },
  {
   "cell_type": "code",
   "execution_count": null,
   "id": "1bbb4a98-6c2a-41ae-80dd-14dcce958709",
   "metadata": {},
   "outputs": [],
   "source": [
    "# Zeichne Canvasdiagonale\n",
    "pts = [(0, 0), (canvas.width, canvas.height)]\n",
    "canvas.stroke_lines(pts)"
   ]
  },
  {
   "cell_type": "code",
   "execution_count": null,
   "id": "0abd81ea-8e86-4a14-bc32-e29de1a38e9e",
   "metadata": {},
   "outputs": [],
   "source": [
    "# Text platzieren\n",
    "canvas.fill_style = 'black'\n",
    "canvas.fill_text('Hallo', 100, 50)"
   ]
  },
  {
   "cell_type": "code",
   "execution_count": null,
   "id": "4286af12-68f0-45c6-8373-ab15f494a3d5",
   "metadata": {},
   "outputs": [],
   "source": [
    "# loesche rechteckigen Teil der Leinwand\n",
    "canvas.clear_rect(50, 100, 50, 20)"
   ]
  },
  {
   "cell_type": "code",
   "execution_count": null,
   "id": "478de100-6f75-43b0-ad4c-7c25d30a373a",
   "metadata": {},
   "outputs": [],
   "source": [
    "# loesche Leinwand\n",
    "canvas.clear()"
   ]
  },
  {
   "cell_type": "markdown",
   "id": "a57791e1-83eb-429c-80f4-d05f06cf82f7",
   "metadata": {},
   "source": [
    "### Aufgaben \n",
    "1. Zeichen ein Schachbrett auf die Leinwand mit Felderfarben grey und blue.  \n",
    "   - zeichne ein gef&uuml;lltes graues Rechteck in Linewandgr&ouml;sse  \n",
    "   - ein einzelnes Feld hat Breite `dw = canvas.width / 8` und\n",
    "     H&ouml;he `dh = canvas.height / 8`. Die rechte obere Ecke des Feld in Spalte 2,\n",
    "     Reihe 4 liegt bei (`2*dw`, `4*dh`). Bei blauen Feldern ist Spalte + Reihe gerade.\n",
    "     Bemutze eine Schleife, um die blauen Felder zu Zeichnen.\n",
    "     \n",
    "   Schreibe dann eine Funktion, die ein Schachbrett auf die Leinwand zeichnet.\n",
    "   \n",
    "1. Gegeben seine Koordinaten (x, y) (z.B. $(71, 28)$).\n",
    "   In welchem Feld des Schachbretts (Spalte, Reihe) liegt dieser Punkt?\n",
    "   Zeichne einen schwarzen Kreis in die Mitte dieses Feldes.  \n",
    "   **Hint**: Spalte und Reihe sind gegeben durch `x // dw` und `y // dh`.\n",
    "   \n",
    "   Schreibe eine Funktion, `draw_circle_in_field(x, y)`, die einen Kreis in die mitte des Feldes \n",
    "   bei (x, y) zeichnet."
   ]
  },
  {
   "cell_type": "code",
   "execution_count": null,
   "id": "1e4e6981-c6e1-405a-80e4-7a9cc301fc4f",
   "metadata": {},
   "outputs": [],
   "source": []
  }
 ],
 "metadata": {
  "author": "dieter.probst@gmail.com",
  "kernelspec": {
   "display_name": "Python 3 (ipykernel)",
   "language": "python",
   "name": "python3"
  },
  "language_info": {
   "codemirror_mode": {
    "name": "ipython",
    "version": 3
   },
   "file_extension": ".py",
   "mimetype": "text/x-python",
   "name": "python",
   "nbconvert_exporter": "python",
   "pygments_lexer": "ipython3",
   "version": "3.13.0"
  }
 },
 "nbformat": 4,
 "nbformat_minor": 5
}
