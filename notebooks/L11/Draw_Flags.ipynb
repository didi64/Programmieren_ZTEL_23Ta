{
 "cells": [
  {
   "cell_type": "markdown",
   "id": "9dd712c7-cab1-413d-ad28-678f0bc16528",
   "metadata": {},
   "source": [
    "### Zeichne Flaggen auf die Leinwand"
   ]
  },
  {
   "cell_type": "code",
   "execution_count": 2,
   "id": "a0476008-bd21-46c4-bfc8-589e40f4529c",
   "metadata": {},
   "outputs": [],
   "source": [
    "from ipycanvas import Canvas\n",
    "import draw_flags"
   ]
  },
  {
   "cell_type": "code",
   "execution_count": 3,
   "id": "861441eb-9fa9-4e2f-bbef-0f7fe311a145",
   "metadata": {},
   "outputs": [
    {
     "data": {
      "application/vnd.jupyter.widget-view+json": {
       "model_id": "6496f6142ca348da8fe5beec54e7aa41",
       "version_major": 2,
       "version_minor": 0
      },
      "text/plain": [
       "Canvas(height=200, layout=Layout(border_bottom='1px solid black', border_left='1px solid black', border_right=…"
      ]
     },
     "execution_count": 3,
     "metadata": {},
     "output_type": "execute_result"
    }
   ],
   "source": [
    "canvas_config = {\n",
    "    'width': 300,\n",
    "    'height': 200,\n",
    "    'layout': {'border': '1px solid black'},\n",
    "}\n",
    "\n",
    "canvas = Canvas(**canvas_config)\n",
    "canvas"
   ]
  },
  {
   "cell_type": "code",
   "execution_count": 4,
   "id": "0862914b-5078-4073-a9e1-62f2383c6ef4",
   "metadata": {},
   "outputs": [],
   "source": [
    "draw_flags.draw_CH_flag(canvas, (10, 10), 80)\n",
    "draw_flags.draw_BRD_flag(canvas, (110, 10), 80)\n",
    "draw_flags.draw_BE_flag(canvas, (210, 10), 80)"
   ]
  },
  {
   "cell_type": "code",
   "execution_count": null,
   "id": "45774443-b166-4448-b6dd-47e236e64e5c",
   "metadata": {},
   "outputs": [],
   "source": []
  }
 ],
 "metadata": {
  "kernelspec": {
   "display_name": "Python 3 (ipykernel)",
   "language": "python",
   "name": "python3"
  },
  "language_info": {
   "codemirror_mode": {
    "name": "ipython",
    "version": 3
   },
   "file_extension": ".py",
   "mimetype": "text/x-python",
   "name": "python",
   "nbconvert_exporter": "python",
   "pygments_lexer": "ipython3",
   "version": "3.13.0"
  }
 },
 "nbformat": 4,
 "nbformat_minor": 5
}
