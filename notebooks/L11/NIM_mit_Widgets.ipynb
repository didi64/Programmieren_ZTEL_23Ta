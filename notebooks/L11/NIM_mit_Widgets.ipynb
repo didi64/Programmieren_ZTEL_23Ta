{
 "cells": [
  {
   "cell_type": "markdown",
   "id": "6da0d18e-fa1b-427e-8d2d-6e6598eca155",
   "metadata": {},
   "source": [
    "### Aufgabe\n",
    "Modifiziere das Spiel Nim aus Lektion 4, so\n",
    "dass der Spielzustand in einem Output-Widget angezeit wird.\n",
    "Pro Haufen gibt es einen Button. Klickt man diesen, wird 1 Stein von diesem Haufen entfernt. Das Zugrecht gibt man durch Klicken auf einen Button 'done' weiter, ein neues Spiel startet beim Klicken auf einen Button 'new'.  \n",
    "\n",
    "Wir speichern den Spielzustand in einer globlen Variable\n",
    "`state` als Dictionary.\n",
    "Der *active_heap* ist der Haufen, von welchem zuletzt ein\n",
    "Stein entfernt wurde. Nur von diesem Haufen d&uuml;rfen weitere Steine entfernt werden."
   ]
  },
  {
   "cell_type": "code",
   "execution_count": null,
   "id": "e5c144ae-5ac6-4026-a071-fbdc39c39d4a",
   "metadata": {},
   "outputs": [],
   "source": [
    "from ipywidgets import Output\n",
    "from ipywidgets import Button\n",
    "from IPython.display import display"
   ]
  },
  {
   "cell_type": "markdown",
   "id": "3cdcec86-b75c-47c5-9d1e-38609b37d780",
   "metadata": {},
   "source": [
    "***\n",
    "Spielzustand in Dictionary speichern und\n",
    "Spielzustand in Output-Widget ausgeben.\n",
    "***"
   ]
  },
  {
   "cell_type": "code",
   "execution_count": null,
   "id": "959e6de0-6aaa-462e-a925-6752e095aa3e",
   "metadata": {},
   "outputs": [],
   "source": [
    "def new_state():\n",
    "    ''' gibt einen neuen Spielzustand zurueck'''\n",
    "    state = {'heaps': [3, 4, 5, 6],\n",
    "             'active_heap': None,\n",
    "             'ptm': 0,\n",
    "             'winner': None,\n",
    "             }\n",
    "    return state"
   ]
  },
  {
   "cell_type": "code",
   "execution_count": null,
   "id": "b0e83513-7cb9-46fa-bc31-47af0805d5ea",
   "metadata": {},
   "outputs": [],
   "source": [
    "state = new_state()\n",
    "state"
   ]
  },
  {
   "cell_type": "code",
   "execution_count": null,
   "id": "377bd587-bfad-469b-8da4-4b240f5f995a",
   "metadata": {},
   "outputs": [],
   "source": [
    "layout_out = {'border': '1px solid black', 'height': '100px'}\n",
    "out = Output(layout=layout_out)"
   ]
  },
  {
   "cell_type": "code",
   "execution_count": null,
   "id": "498aa968-e612-49c3-9599-21a4ce6e26aa",
   "metadata": {},
   "outputs": [],
   "source": [
    "@out.capture(clear_output=True)\n",
    "def show():\n",
    "    '''Spielzustand state in out ausgeben'''\n",
    "    if state['winner'] is not None:\n",
    "        print('Winner: Spieler', state['winner'])\n",
    "    else:\n",
    "        print('Am Zug: Spieler', state['ptm'])\n",
    "\n",
    "    for i, n in enumerate(state['heaps']):\n",
    "        print('{}) {}'.format(i+1, '*' * n))"
   ]
  },
  {
   "cell_type": "code",
   "execution_count": null,
   "id": "748678b4-96b0-4f1a-907f-cda2bab94d3b",
   "metadata": {},
   "outputs": [],
   "source": [
    "out"
   ]
  },
  {
   "cell_type": "code",
   "execution_count": null,
   "id": "159e3812-ea34-4158-9051-86a0882c3ae8",
   "metadata": {},
   "outputs": [],
   "source": [
    "show()"
   ]
  },
  {
   "cell_type": "markdown",
   "id": "7158bb35-0251-41b4-8fdb-a2a44d800e87",
   "metadata": {},
   "source": [
    "***\n",
    "Callbacks definieren, Buttons erstellen und anordnen,\n",
    "Callbacks registrieren.\n",
    "***"
   ]
  },
  {
   "cell_type": "code",
   "execution_count": null,
   "id": "76537f7f-69c8-477a-bf04-492f2a72863a",
   "metadata": {
    "jupyter": {
     "source_hidden": true
    }
   },
   "outputs": [],
   "source": [
    "@out.capture()\n",
    "def on_new(bt):\n",
    "    global state\n",
    "    state = new_state()\n",
    "    show()\n",
    "\n",
    "\n",
    "@out.capture()\n",
    "def on_done(bt):\n",
    "    if state['winner'] is not None:\n",
    "        show()\n",
    "        return\n",
    "\n",
    "    state['ptm'] = 1 - state['ptm']\n",
    "    state['active_heap'] = None\n",
    "    show()\n",
    "\n",
    "\n",
    "@out.capture()\n",
    "def on_click(bt):\n",
    "    if state['winner'] is not None:\n",
    "        show()\n",
    "        return\n",
    "\n",
    "    i = heap_buttons.index(bt)\n",
    "\n",
    "    if state['active_heap'] is None:\n",
    "        state['active_heap'] = i\n",
    "    if state['active_heap'] == i:\n",
    "        state['heaps'][i] = max(0, state['heaps'][i] - 1)\n",
    "\n",
    "    if sum(n for n in state['heaps']) == 0:\n",
    "        state['winner'] = state['ptm']\n",
    "    show()"
   ]
  },
  {
   "cell_type": "code",
   "execution_count": null,
   "id": "4f90b73e-65de-4376-be68-800e3f489160",
   "metadata": {},
   "outputs": [],
   "source": [
    "layout_bt = {'border': '2px solid blue'}\n",
    "\n",
    "done_button = Button(description='done')\n",
    "new_button = Button(description='new')\n",
    "\n",
    "heap_buttons = [Button(description='Heap ' + str(i+1))\n",
    "                for i, _ in enumerate(state['heaps'])]\n",
    "\n",
    "buttons = heap_buttons + [done_button, new_button]\n",
    "display(out, *buttons)"
   ]
  },
  {
   "cell_type": "code",
   "execution_count": null,
   "id": "61fa3865-6e2e-4dd6-88ae-7f4e0793f895",
   "metadata": {},
   "outputs": [],
   "source": [
    "# Callbacks registrieren\n",
    "new_button.on_click(on_new)\n",
    "done_button.on_click(on_done)\n",
    "\n",
    "for bt in heap_buttons:\n",
    "    bt.on_click(on_click)"
   ]
  },
  {
   "cell_type": "code",
   "execution_count": null,
   "id": "937715a8-f657-447d-a5e5-f7822459c782",
   "metadata": {},
   "outputs": [],
   "source": []
  }
 ],
 "metadata": {
  "kernelspec": {
   "display_name": "Python 3 (ipykernel)",
   "language": "python",
   "name": "python3"
  },
  "language_info": {
   "codemirror_mode": {
    "name": "ipython",
    "version": 3
   },
   "file_extension": ".py",
   "mimetype": "text/x-python",
   "name": "python",
   "nbconvert_exporter": "python",
   "pygments_lexer": "ipython3",
   "version": "3.13.0"
  }
 },
 "nbformat": 4,
 "nbformat_minor": 5
}
