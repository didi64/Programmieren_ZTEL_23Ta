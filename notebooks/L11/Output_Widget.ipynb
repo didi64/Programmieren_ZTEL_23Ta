{
 "cells": [
  {
   "cell_type": "markdown",
   "id": "f6227053-46b2-4e2c-a87b-704f6ebfaf18",
   "metadata": {},
   "source": [
    "### Das Output-Widget\n",
    "Siehe auch [Doku zum Output-Widget](https://ipywidgets.readthedocs.io/en/latest/examples/Output%20Widget.html).  \n",
    "\n",
    "Das Output-Widget ist ein Fenster, in das sich Output, meist Text, umleiten l&auml;sst.\n",
    "```python\n",
    "# Widget erstellen\n",
    "out = Output(layout={'border': '1px solid black'})\n",
    "\n",
    "# aller vom Codeblock ... produzierter Output,\n",
    "# inkl. Fehlermeldungen nach out umleiten\n",
    "with out:\n",
    "    ...\n",
    "\n",
    "# aller von f(...) produzierter Output nach out umgeleiten\n",
    "@out.capture()\n",
    "def f(...):\n",
    "    ...\n",
    "\n",
    "# vor jedem Aufruf von f(...) wird der Inhalt von out geloescht\n",
    "@out.capture(clear_output=True)\n",
    "def f(...):\n",
    "    ...\n",
    "```"
   ]
  },
  {
   "cell_type": "code",
   "execution_count": null,
   "id": "2426a7ce-15b5-477f-a6c2-56e0b83f3d88",
   "metadata": {},
   "outputs": [],
   "source": [
    "from ipywidgets import Output\n",
    "\n",
    "\n",
    "# ohne den schwarzen Rand ist ein leeres Output-Widget unsichtbar\n",
    "layout = {'border': '1px solid black'}\n",
    "out = Output(layout=layout)"
   ]
  },
  {
   "cell_type": "code",
   "execution_count": null,
   "id": "34e0ee8f-5e41-41ab-96e3-2f5679ac6dac",
   "metadata": {},
   "outputs": [],
   "source": [
    "# aller Output von f wird nach out umgeleitet\n",
    "@out.capture()\n",
    "def f():\n",
    "    print('Hello from f')\n",
    "\n",
    "\n",
    "# aller Output von f wird nach out umgeleitet, vorher wird out geleert\n",
    "@out.capture(clear_output=True)\n",
    "def g():\n",
    "    print('Hello from g')"
   ]
  },
  {
   "cell_type": "code",
   "execution_count": null,
   "id": "643cb9fe-61fc-491f-930e-cc4b134f5e0a",
   "metadata": {},
   "outputs": [],
   "source": [
    "out"
   ]
  },
  {
   "cell_type": "code",
   "execution_count": null,
   "id": "1a9351fe-0b05-4f85-bcc5-eeeedfe570dd",
   "metadata": {},
   "outputs": [],
   "source": [
    "# Output in out loeschen\n",
    "out.clear_output()"
   ]
  },
  {
   "cell_type": "code",
   "execution_count": null,
   "id": "23c54789-ceb7-4d24-bb31-fec50dcb0cfa",
   "metadata": {},
   "outputs": [],
   "source": []
  },
  {
   "cell_type": "code",
   "execution_count": null,
   "id": "6cbd0997-60f4-42ce-a4a9-0a59d93ff750",
   "metadata": {},
   "outputs": [],
   "source": [
    "with out:\n",
    "    print('Hello!')"
   ]
  },
  {
   "cell_type": "code",
   "execution_count": null,
   "id": "5d7328be-9343-4139-a9b4-8320b364d6a6",
   "metadata": {},
   "outputs": [],
   "source": [
    "with out:\n",
    "    # Fehlermeldung wird nach out umgeleitet\n",
    "    print(foo)"
   ]
  },
  {
   "cell_type": "code",
   "execution_count": null,
   "id": "a490f19b-5848-4878-9f57-382638e8cb6f",
   "metadata": {},
   "outputs": [],
   "source": [
    "f()"
   ]
  },
  {
   "cell_type": "code",
   "execution_count": null,
   "id": "41eb5c13-1fd1-4736-b42f-9702914a10bd",
   "metadata": {},
   "outputs": [],
   "source": [
    "g()"
   ]
  },
  {
   "cell_type": "code",
   "execution_count": null,
   "id": "913a8995-f5dd-44e5-8d75-71c8fa3d7729",
   "metadata": {},
   "outputs": [],
   "source": []
  },
  {
   "cell_type": "code",
   "execution_count": null,
   "id": "249077bb-4ee4-4ffa-8e6e-d8c75834a6f9",
   "metadata": {},
   "outputs": [],
   "source": []
  },
  {
   "cell_type": "markdown",
   "id": "496cf023-43e6-40bd-9651-832ad3d6ce95",
   "metadata": {},
   "source": [
    "### Output und Fehlermeldungen von Callbacks in ein Output-Widget umleiten\n",
    "\n",
    "\n",
    "Das Canvas-Widget erkennt, wenn auf die Leinwand geklickt wird.\n",
    "Ist das Widget aktive erkennt es auch Tastendr&uuml;cke. \n",
    "Das Widget reagiert auf die Events `on_key_down`, `on_mouse_down` und `on_mouse_up`.\n",
    "\n",
    "\n",
    "F&uuml;r ein Canvas-Objekt k&ouml;nnen mit\n",
    "\n",
    "```python\n",
    "canvas.on_key_down(on_key_down)\n",
    "canvas.on_mouse_down(on_mouse_down)\n",
    "canvas.on_mouse_up(on_mouse_up)\n",
    "```\n",
    "\n",
    "Funktionen registiert werden, die\n",
    "beim Eintreffen der Events `on_key_down`, `on_mouse_down` und `on_mouse_up` aufgerufen werden.\n",
    "Die zu registrierenden Funktionen nennt man oft gleich wie das\n",
    "Event, welches sie behandeln. \n",
    "Diese Funktionen nennt man auch Eventhandlers oder Callbacks.\n",
    "\n",
    "Mit was f&uuml;r Argumenten die Callbacks aufgerufen werden ist oft \n",
    "etwas d&uuml;rftig dokumentiert. Um das herauszufinden registriert man am besten \n",
    "als Callback eine Funktion, die nur ihre Argumente ausgibt (siehe unten).\n",
    "\n",
    "Wir werden sehen, dass `on_mouse_down` und `on_mouse_down` mit\n",
    "2 Argumenten aufgerufen werden, der x- und y-Koordinate der Position.\n",
    "`on_key_down` wird mit 4 Argumenten aufgerufen: Dem Tastenname und 3 Booleans, je eins f&uuml;r\n",
    "die Shift, Control und Windows Taste.\n",
    "\n",
    "\n",
    "\n",
    "Ruft ein Jupyterlab-Widget eine Callback-Funktion auf,\n",
    "so wird deren Output (inkl.Fehlermeldugen) nicht direkt ins \n",
    "Notebook geschreiben, sondern (wenn man Gl&uuml;ck hat) in die Log-Console. Ruft z.B. ein Button-Widget beim \n",
    "Draufklicken ein fehlerhaftes Callback auf, passiert oft einfach gar nichts, was das auffinden des Fehlers sehr schwierig macht.\n",
    "\n",
    "Aus diesem Grund empfiehlt es sich,\n",
    "ein Output-Widget f&uuml;r die Ausgabe der Fehler zu erstellen und allen Output der Callbacks dorthin umzuleiten.\n",
    "\n",
    "```python\n",
    "@err_out.capture()\n",
    "def some_callback():\n",
    "    ...\n",
    "```"
   ]
  },
  {
   "cell_type": "code",
   "execution_count": null,
   "id": "38242d43-324f-47da-a5e0-9e19b657d75b",
   "metadata": {},
   "outputs": [],
   "source": [
    "layout = {'border': '1px solid black'}\n",
    "out = Output(layout=layout)\n",
    "err_out = Output(layout=layout)"
   ]
  },
  {
   "cell_type": "code",
   "execution_count": null,
   "id": "e6f0ad01-b7bf-42d3-a5ba-b679e9d5d5e2",
   "metadata": {},
   "outputs": [],
   "source": [
    "@err_out.capture()\n",
    "def on_key_down(*args):\n",
    "    with out:\n",
    "        print('on_key_down, args:', args)\n",
    "\n",
    "\n",
    "@err_out.capture()\n",
    "def on_mouse_down(*args):\n",
    "    print('on_mouse_down, args:', args)\n",
    "\n",
    "\n",
    "@err_out.capture()\n",
    "def on_mouse_up(*args):\n",
    "    print('on_mouse_up, args:', args)"
   ]
  },
  {
   "cell_type": "code",
   "execution_count": null,
   "id": "8a8996fa-f0dd-431c-aeb5-81e360336189",
   "metadata": {},
   "outputs": [],
   "source": [
    "from ipycanvas import Canvas\n",
    "\n",
    "\n",
    "canvas_config = {\n",
    "    'width': 300,\n",
    "    'height': 200,\n",
    "    'layout': layout,\n",
    "}\n",
    "\n",
    "canvas = Canvas(**canvas_config)\n",
    "\n",
    "canvas.on_key_down(on_key_down)\n",
    "canvas.on_mouse_down(on_mouse_down)\n",
    "canvas.on_mouse_up(on_mouse_up)\n",
    "\n",
    "display(canvas, out, err_out)"
   ]
  },
  {
   "cell_type": "code",
   "execution_count": null,
   "id": "e6466fd8-d6c4-44cb-8b75-110af6fbf113",
   "metadata": {},
   "outputs": [],
   "source": [
    "err_out.clear_output()"
   ]
  },
  {
   "cell_type": "code",
   "execution_count": null,
   "id": "3cacc37c-8232-41ea-b7cc-e98100cdc302",
   "metadata": {},
   "outputs": [],
   "source": [
    "out.clear_output()"
   ]
  },
  {
   "cell_type": "code",
   "execution_count": null,
   "id": "e15b5b5b-0ba8-4989-bcbc-564d4e072e13",
   "metadata": {},
   "outputs": [],
   "source": [
    "# Callback von Hand aufrufen, zum testen\n",
    "on_key_down('test')"
   ]
  },
  {
   "cell_type": "code",
   "execution_count": null,
   "id": "35e51735-b0c1-48a2-a5aa-016c4f455700",
   "metadata": {},
   "outputs": [],
   "source": []
  }
 ],
 "metadata": {
  "kernelspec": {
   "display_name": "Python 3 (ipykernel)",
   "language": "python",
   "name": "python3"
  },
  "language_info": {
   "codemirror_mode": {
    "name": "ipython",
    "version": 3
   },
   "file_extension": ".py",
   "mimetype": "text/x-python",
   "name": "python",
   "nbconvert_exporter": "python",
   "pygments_lexer": "ipython3",
   "version": "3.13.0"
  }
 },
 "nbformat": 4,
 "nbformat_minor": 5
}
