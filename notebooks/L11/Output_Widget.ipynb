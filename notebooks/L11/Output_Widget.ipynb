{
 "cells": [
  {
   "cell_type": "markdown",
   "id": "f6227053-46b2-4e2c-a87b-704f6ebfaf18",
   "metadata": {},
   "source": [
    "### Das Output-Widget\n",
    "Siehe auch [Doku zum Output-Widget](https://ipywidgets.readthedocs.io/en/latest/examples/Output%20Widget.html).  \n",
    "\n",
    "Das Output-Widget ist ein Fenster, in das sich Output, meist Text, umleiten l&auml;sst.\n",
    "```python\n",
    "# Widget erstellen\n",
    "out = Output(layout={'border': '1px solid black'})\n",
    "\n",
    "# aller vom Codeblock ... produzierter Output,\n",
    "# inkl. Fehlermeldungen, wird nach out umgeleitet\n",
    "with out:\n",
    "    ...\n",
    "\n",
    "# aller vom f(...) produzierter Output wird nach out umgeleitet\n",
    "@out.capture()\n",
    "def f(...):\n",
    "    ...\n",
    "\n",
    "# vor jedem Aufruf von f(...) wird der INhalt von out geloescht\n",
    "@out.capture(clear_output=True)\n",
    "def f(...):\n",
    "    ...\n",
    "```"
   ]
  },
  {
   "cell_type": "code",
   "execution_count": null,
   "id": "db038198-709b-4b55-9fe1-e182511497af",
   "metadata": {},
   "outputs": [],
   "source": [
    "from ipywidgets import Output"
   ]
  },
  {
   "cell_type": "code",
   "execution_count": null,
   "id": "2426a7ce-15b5-477f-a6c2-56e0b83f3d88",
   "metadata": {},
   "outputs": [],
   "source": [
    "# ohne den schwarzen Rand ist ein leeres Output-Widget unsichtbar\n",
    "out = Output(layout={'border': '1px solid black'})\n",
    "out  # display(out)"
   ]
  },
  {
   "cell_type": "code",
   "execution_count": null,
   "id": "6cbd0997-60f4-42ce-a4a9-0a59d93ff750",
   "metadata": {},
   "outputs": [],
   "source": [
    "with out:\n",
    "    print('Hello!')"
   ]
  },
  {
   "cell_type": "code",
   "execution_count": null,
   "id": "10028604-afcf-4e9c-9fb5-d99ca2c724e8",
   "metadata": {},
   "outputs": [],
   "source": [
    "# Inhalt von out loeschen\n",
    "out.clear_output()"
   ]
  },
  {
   "cell_type": "code",
   "execution_count": null,
   "id": "5d7328be-9343-4139-a9b4-8320b364d6a6",
   "metadata": {},
   "outputs": [],
   "source": [
    "with out:\n",
    "    # Fehlermeldung wird nach out umgeleitet\n",
    "    print(foo)"
   ]
  },
  {
   "cell_type": "code",
   "execution_count": null,
   "id": "bee5563e-dcb4-4d9b-94a2-56db8257e2a2",
   "metadata": {},
   "outputs": [],
   "source": [
    "# aller Output von f wird nach out umgeleitet\n",
    "@out.capture()\n",
    "def f():\n",
    "    print('Hello from f')\n",
    "\n",
    "\n",
    "# aller Output von f wird nach out umgeleitet, vorher wird out geleert\n",
    "@out.capture(clear_output=True)\n",
    "def g():\n",
    "    print('Hello from g')"
   ]
  },
  {
   "cell_type": "code",
   "execution_count": null,
   "id": "5596da9d-429d-4c0f-b9f4-3f24d4887ec4",
   "metadata": {},
   "outputs": [],
   "source": [
    "out"
   ]
  },
  {
   "cell_type": "code",
   "execution_count": null,
   "id": "a490f19b-5848-4878-9f57-382638e8cb6f",
   "metadata": {},
   "outputs": [],
   "source": [
    "f()"
   ]
  },
  {
   "cell_type": "code",
   "execution_count": null,
   "id": "41eb5c13-1fd1-4736-b42f-9702914a10bd",
   "metadata": {},
   "outputs": [],
   "source": [
    "g()"
   ]
  },
  {
   "cell_type": "code",
   "execution_count": null,
   "id": "913a8995-f5dd-44e5-8d75-71c8fa3d7729",
   "metadata": {},
   "outputs": [],
   "source": []
  },
  {
   "cell_type": "markdown",
   "id": "b96e9343-fbd6-4724-a430-1872d0b6866c",
   "metadata": {},
   "source": [
    "### N&uuml;tzliche Hilfsfunktionen zum Arbeiten mit dem Output-Widget\n",
    "\n",
    "Arbeitet man mit Ipywidgets, braucht man das Output-Widget st&auml;ndig.\n",
    "Einerseits um Text auszugeben, andererseits um w&auml;hrend der Entwicklungsphase Fehlermeldungen von Callbacks dorthin umzuleiten.\n",
    "\n",
    "Schreibe die n&auml;chste Zelle in ein File `out.py` und verschiebe dieses File in den Ordner `modules`."
   ]
  },
  {
   "cell_type": "code",
   "execution_count": null,
   "id": "48431185-1d01-4e5e-810a-349bc01efeef",
   "metadata": {},
   "outputs": [],
   "source": [
    "#%%file out.py\n",
    "from ipywidgets import Output\n",
    "\n",
    "\n",
    "def new_out(layout=None):\n",
    "    '''gibt ein Output-Widget zurueck'''\n",
    "    if layout is None:\n",
    "        layout = {'border': '1px solid black'}\n",
    "    out = Output(layout=layout)\n",
    "    return out\n",
    "\n",
    "\n",
    "def print_to_out(out, *args, clear_output=False, **kwargs):\n",
    "    '''wie print, Ausgabe erfolgt in out'''\n",
    "    if clear_output:\n",
    "        out.clear_output()\n",
    "    with out:\n",
    "        print(*args, **kwargs)"
   ]
  },
  {
   "cell_type": "code",
   "execution_count": null,
   "id": "431de8ef-1f3a-4dec-871c-9c02c3062c20",
   "metadata": {},
   "outputs": [],
   "source": [
    "output = new_out()\n",
    "output"
   ]
  },
  {
   "cell_type": "code",
   "execution_count": null,
   "id": "2edf9b8e-03e1-4fca-b18d-aed5007cd18c",
   "metadata": {},
   "outputs": [],
   "source": [
    "print_to_out(output, 'test')"
   ]
  },
  {
   "cell_type": "code",
   "execution_count": null,
   "id": "bac8af99-2b30-4d9d-a16e-5d824afcdc95",
   "metadata": {},
   "outputs": [],
   "source": [
    "print_to_out(output, 'neuer Text', clear_output=True)"
   ]
  },
  {
   "cell_type": "markdown",
   "id": "496cf023-43e6-40bd-9651-832ad3d6ce95",
   "metadata": {},
   "source": [
    "### Fehlermeldungen von Callbacks in ein Output-Widget umleiten\n",
    "\n",
    "Ruft ein Jupyterlab-Widget eine Callback-Funktion auf,\n",
    "so wird deren Output (inkl.Fehlermeldugen) nicht direkt ins \n",
    "Notebook geschreiben, sondern (wenn man Gl&uuml;ck hat) in die Log-Console. Ruft z.B. ein Button-Widget beim \n",
    "Draufklicken ein fehlerhaftes Callback auf, passiert oft einfach gar nichts, was das auffinden des Fehlers sehr schwierig macht.\n",
    "\n",
    "Aus diesem Grund empfiehlt es sich,\n",
    "ein Output-Widget f&uuml;r die Ausgabe der Fehler zu erstellen und allen Output der Callbacks dorthin umzuleiten.\n",
    "\n",
    "```python\n",
    "err_out = new_out()\n",
    "\n",
    "@err_out.capture()\n",
    "def some_callback():\n",
    "    ...\n",
    "```"
   ]
  },
  {
   "cell_type": "markdown",
   "id": "b98afc53-e2ba-43a7-9bfa-1ac68b77809f",
   "metadata": {},
   "source": [
    "### Callback f&uuml;r Button-Klick mit Fehlerumleitung\n",
    "\n",
    "\n",
    "Wir erstellen einen Button und registrieren ein\n",
    "Callback, das beim Klicken auf den Button aufgerufen wird.\n",
    "Fehlermeldungen und Ausgaben leiten wir in ein Output-Widget um.\n",
    "\n",
    "- `button = Button(description=desc, layout=layout)` erstellt ein Button-Objekt\n",
    "- `button.on_click(on_click)` registriert die Funktion `on_click` als Callback.\n",
    "  Der Doc-String zu `button.on_click` verr&auml;t, dass die Funktion `on_click`\n",
    "  den geklickten Button als Argument nimmt.\n",
    "\n",
    "Modifiziert man das Callback und registriert es erneut,\n",
    "wird beim Klicken auf den Button das alte und neue Callback aufgerufen.\n",
    "Das kann unerw&uuml;nschte Effekte haben (Button nochmals erstellen hilft,\n",
    "notfalls Kernel neu starten und Code nochmals ausf&uuml;hren)."
   ]
  },
  {
   "cell_type": "code",
   "execution_count": null,
   "id": "cb4fa058-d7a8-4f7f-b1ec-71d8aade5488",
   "metadata": {},
   "outputs": [],
   "source": [
    "from out import new_out, print_to_out\n",
    "from ipywidgets import Button\n",
    "\n",
    "# nicht noetig, aber anderfalls ist\n",
    "# display jeweils mit einer roten Wellenlinie unterstrichen\n",
    "from IPython.display import display"
   ]
  },
  {
   "cell_type": "code",
   "execution_count": null,
   "id": "34304fcf-973d-4a5f-919e-fbcd5226cc11",
   "metadata": {},
   "outputs": [],
   "source": [
    "# Fehlermeldungen von Callbacks nach err_out umleiten\n",
    "err_out = new_out()\n",
    "err_out"
   ]
  },
  {
   "cell_type": "code",
   "execution_count": null,
   "id": "c0bf1f23-0cfa-475b-bff1-25b5d030fac7",
   "metadata": {},
   "outputs": [],
   "source": [
    "err_out.clear_output()"
   ]
  },
  {
   "cell_type": "code",
   "execution_count": null,
   "id": "6eaf44e4-8c2b-4965-8493-c0a991c45ab3",
   "metadata": {},
   "outputs": [],
   "source": [
    "# Verursacht beim Aufruf einen Fehler\n",
    "# @err_out.capture()\n",
    "def on_click():\n",
    "    with out:\n",
    "        print('Test')"
   ]
  },
  {
   "cell_type": "code",
   "execution_count": null,
   "id": "f899d928-2cf1-434c-8307-fa4172b6b3b9",
   "metadata": {},
   "outputs": [],
   "source": [
    "# Button erstellen\n",
    "desc = 'Click me!'\n",
    "layout = {'border': '2pt solid blue'}\n",
    "\n",
    "# Button Objekt erstellen\n",
    "out = new_out()\n",
    "button = Button(description=desc, layout=layout)\n",
    "\n",
    "# Callback fuer on_click Event registrieren\n",
    "button.on_click(on_click)\n",
    "display(button, out)"
   ]
  },
  {
   "cell_type": "code",
   "execution_count": null,
   "id": "011d7cdc-2c3d-436a-afec-386257b2106c",
   "metadata": {},
   "outputs": [],
   "source": [
    "out.clear_output()"
   ]
  },
  {
   "cell_type": "code",
   "execution_count": null,
   "id": "8314fe56-cc06-4c13-ae19-081b00d3c340",
   "metadata": {},
   "outputs": [],
   "source": []
  }
 ],
 "metadata": {
  "kernelspec": {
   "display_name": "Python 3 (ipykernel)",
   "language": "python",
   "name": "python3"
  },
  "language_info": {
   "codemirror_mode": {
    "name": "ipython",
    "version": 3
   },
   "file_extension": ".py",
   "mimetype": "text/x-python",
   "name": "python",
   "nbconvert_exporter": "python",
   "pygments_lexer": "ipython3",
   "version": "3.13.0"
  }
 },
 "nbformat": 4,
 "nbformat_minor": 5
}
