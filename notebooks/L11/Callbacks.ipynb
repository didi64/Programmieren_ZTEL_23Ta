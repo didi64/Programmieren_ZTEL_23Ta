{
 "cells": [
  {
   "cell_type": "markdown",
   "id": "128e52bf-747f-4c5f-afde-d13cc6fa9520",
   "metadata": {},
   "source": [
    "### Funktionen als *first class citizens*\n",
    "\n",
    "In Python sind Funktionen  **first class citizens**. Eine Funktion ist ein Objekt, wie jedes andere und kann u.a. einer Variablen zugewiesen werden oder einer anderen Funktion als Argument &uuml;bergeben werden.  \n",
    "\n",
    "**Beispiel**:  \n",
    "Die Funktion `apply_to_items(f, items)` nimmt als Argumente eine Funktion `f` und ein Iterable. Die Funktion wird auf jedes Element des Iterable angewandt und die Resultate werden als Liste zur&uuml;ckgebeben.  \n",
    "\n",
    "\n",
    "Die Funktion `apply_to_items(f, items)` macht im wesentlichen das Gleiche wie die built-in Funktion `map(f, items)`. Allerdings kann man der map-Funktion\n",
    "mehrere Iterables &uuml;bergeben.\n",
    "Die Funktion `f` nimmt dann als Argumente von\n",
    "jedem Iterable jeweils das 1., 2., ... Element, solange bis das letzte Element des k&uuml;rzesten Iterable erreicht ist."
   ]
  },
  {
   "cell_type": "code",
   "execution_count": null,
   "id": "23094e1b-eed8-4491-a1fd-162eb800e3bc",
   "metadata": {},
   "outputs": [],
   "source": [
    "def apply_to_items(f, items):\n",
    "    return [f(x) for x in items]"
   ]
  },
  {
   "cell_type": "code",
   "execution_count": null,
   "id": "09fb9e22-54c1-42e9-9083-16f15c8c289d",
   "metadata": {},
   "outputs": [],
   "source": [
    "numbers = [1, 2, 3]\n",
    "apply_to_items(lambda x: x+1, numbers)"
   ]
  },
  {
   "cell_type": "code",
   "execution_count": null,
   "id": "9c12162a-28fd-455f-be0d-cc16282cee77",
   "metadata": {},
   "outputs": [],
   "source": [
    "def successor(x):\n",
    "    return x + 1"
   ]
  },
  {
   "cell_type": "code",
   "execution_count": null,
   "id": "35b114dc-0531-40d6-960a-7edb322b1cee",
   "metadata": {},
   "outputs": [],
   "source": [
    "apply_to_items(successor, numbers)"
   ]
  },
  {
   "cell_type": "code",
   "execution_count": null,
   "id": "03c06f89-48bd-46d5-af82-a4d37ec88143",
   "metadata": {},
   "outputs": [],
   "source": [
    "res = map(successor, numbers)\n",
    "res"
   ]
  },
  {
   "cell_type": "code",
   "execution_count": null,
   "id": "7b2a6d51-4ebf-4495-91ae-04999cedc01e",
   "metadata": {},
   "outputs": [],
   "source": [
    "list(res)"
   ]
  },
  {
   "cell_type": "markdown",
   "id": "c6905329-5e8a-4c47-802f-9940a2e231e3",
   "metadata": {},
   "source": [
    "***\n",
    "`map` mit mehreren Iterables. Wie dasselbe mit\n",
    "`apply_to_items` erreicht werden kann\n",
    "***"
   ]
  },
  {
   "cell_type": "code",
   "execution_count": null,
   "id": "9184bb5d-fc63-4e81-b87e-fd1114a1d30e",
   "metadata": {},
   "outputs": [],
   "source": [
    "def g(x, y, z):\n",
    "    return x*y + z\n",
    "\n",
    "\n",
    "def gs(args):\n",
    "    return g(*args)\n",
    "\n",
    "\n",
    "numberlists = [[1, 2, 3], [4, 5, 6], [7, 8]]\n",
    "list(zip(*numberlists))"
   ]
  },
  {
   "cell_type": "code",
   "execution_count": null,
   "id": "de379bb4-e9d7-4fba-b0e1-1a3816b2da02",
   "metadata": {},
   "outputs": [],
   "source": [
    "res = map(g, [1, 2, 3], [4, 5, 6], [7, 8])\n",
    "list(res)"
   ]
  },
  {
   "cell_type": "code",
   "execution_count": null,
   "id": "076dab9b-2254-4ea9-ac2e-6e003d18b440",
   "metadata": {},
   "outputs": [],
   "source": [
    "res = map(g, *numberlists)\n",
    "list(res)"
   ]
  },
  {
   "cell_type": "code",
   "execution_count": null,
   "id": "71337ba3-1b4a-4db0-b1d1-acee850325c5",
   "metadata": {},
   "outputs": [],
   "source": [
    "apply_to_items(gs, zip([1, 2, 3], [4, 5, 6], [7, 8]))"
   ]
  },
  {
   "cell_type": "code",
   "execution_count": null,
   "id": "6a312f30-20bb-42f1-89ed-bff19439738d",
   "metadata": {},
   "outputs": [],
   "source": [
    "apply_to_items(gs, zip(*numberlists))"
   ]
  },
  {
   "cell_type": "code",
   "execution_count": null,
   "id": "bea6f5de-b97b-47de-a6bb-6d8be9b3d9a2",
   "metadata": {},
   "outputs": [],
   "source": []
  },
  {
   "cell_type": "markdown",
   "id": "24346f47-b586-4875-8677-f774db2402f3",
   "metadata": {},
   "source": [
    "### Callbacks und Event-Handler\n",
    " \n",
    "Eine Funktion, welche einer anderen Funktion als Argument &uuml;bergeben wird, wird **Callback** genannt.\n",
    "Oft wird ein Callback beim Eintreffen eines sog. **Events** \n",
    "(Tastendruck, Mausklick, Mausklick auf Button, Ausw&auml;hlen einer Option in einem Menu,...) aufgerufen.\n",
    "Typischerweise wird der Callback-Funktion ein Objekt \n",
    "&uuml;bergeben, welches relevante Informationen zum eingetroffenen Event \n",
    "enth&auml;lt (gedr&uuml;cket Taste, Position des Mausklicks, ...).\n",
    "DIe Idee ist, dass der Callback dann das Event bearbeitet,\n",
    "weshalb man ihn auch **Event-Handler** nennt.\n",
    "\n",
    "Das Veranlassen, dass der Callback \n",
    "beim Eintreffen eines Events aufgerufen wird, nennt sich auch **Registrierung des Callbacks**.\n",
    "\n",
    "**Beispiel**:  \n",
    "Wir illustrieren hier den Gebrauch eines Callbacks anhand eines Buttons, \n",
    "einem sog. Widget (siehe [ipywidgets](https://ipywidgets.readthedocs.io/en/latest/examples/Widget%20List.html#button)).  \n",
    "\n",
    "**Bemerkung**: Das Hantieren mit Callback f&uuml;r Jupyterlab-Widgets ist mit etlichen T&uuml;cken verbunden:  \n",
    "\n",
    "- Das Callback kann nicht mit `print` Text ausgeben. Jupyterlab weiss nicht,\n",
    "  nach welcher Zelle der Text ausgegeben werden soll.\n",
    "  Deshalb wird der Text in die Log-Console geschreiben (klicke auf ☰ in der Statusleiste, um die Log-Console zu &ouml;ffnen).\n",
    "- Verursacht das Callback einen Fehler, erscheint auf dem Bildschirm keine Fehlermeldung. Es passiert einfach nichts. Hat man Gl&uuml;ck, findet man eine Fehlermeldung in der Log-Console.\n",
    "- Modifiziert man das Callback und registriert es erneut,\n",
    "  werden beim Eintreffen des Events das alte und neue Callback aufgerufen.\n",
    "  Das kann unerw&uuml;nschte Effekte haben (Widget nochmals erstellen hilft,\n",
    "  notfalls Kernel neu starten und Code nochmals ausf&uuml;hren)."
   ]
  },
  {
   "cell_type": "code",
   "execution_count": null,
   "id": "377b6474-aedd-403f-bb0f-dd30fd93bfe5",
   "metadata": {},
   "outputs": [],
   "source": [
    "from ipywidgets import Button\n",
    "\n",
    "# nicht noetig, aber anderfalls ist\n",
    "# display jeweils mit einer roten Wellenlinie unterstrichen\n",
    "from IPython.display import display"
   ]
  },
  {
   "cell_type": "code",
   "execution_count": null,
   "id": "b0f6afa4-13e7-47b2-a354-ca8cf8b5f2d9",
   "metadata": {},
   "outputs": [],
   "source": [
    "desc = 'Click me!'\n",
    "layout = {'border': '2pt solid blue'}\n",
    "\n",
    "# Button Objekt erstellen\n",
    "button = Button(description=desc, layout=layout)\n",
    "button"
   ]
  },
  {
   "cell_type": "code",
   "execution_count": null,
   "id": "0de21c63-f5f3-47a2-8038-239b0f3e6c1e",
   "metadata": {},
   "outputs": [],
   "source": [
    "button.description"
   ]
  },
  {
   "cell_type": "code",
   "execution_count": null,
   "id": "3783947a-08f9-4d0f-8cf3-3d9826f5a69d",
   "metadata": {},
   "outputs": [],
   "source": [
    "# modifizierbar\n",
    "button.description = 'do NOT click'"
   ]
  },
  {
   "cell_type": "markdown",
   "id": "1d728ab1-f052-4749-981f-2a4ca85d73bd",
   "metadata": {},
   "source": [
    "***\n",
    "Callback f&uuml;r das Event *on_click* definieren. Das der Callback mit print nicht ins Notebook schreiben kann &auml;ndern wir den\n",
    "Text auf dem Button.  \n",
    "Wir nennen hier den Callback ebenfalls `on_click`, weil diese Funktion\n",
    "aufgerufen wird, falls auf den Button geklickt wird.\n",
    "Wir k&ouml;nnten den Callback aber auch einfach `f` nennen.\n",
    "***"
   ]
  },
  {
   "cell_type": "code",
   "execution_count": null,
   "id": "421a3288-d0c7-464a-b4da-53e68e1d5a04",
   "metadata": {},
   "outputs": [],
   "source": [
    "def on_click(bt):\n",
    "    s = bt.description\n",
    "    if s.startswith('counter:'):\n",
    "        idx = s.index(':')\n",
    "        count = int(s[idx+1:])\n",
    "        bt.description = 'counter: ' + str(count+1)\n",
    "    else:\n",
    "        bt.description = 'counter: 1'"
   ]
  },
  {
   "cell_type": "code",
   "execution_count": null,
   "id": "83275f22-a964-4d69-b411-0f836e516012",
   "metadata": {},
   "outputs": [],
   "source": [
    "display(button)"
   ]
  },
  {
   "cell_type": "code",
   "execution_count": null,
   "id": "bf1a9b2f-bc45-470f-9daf-b836e457c2b4",
   "metadata": {},
   "outputs": [],
   "source": [
    "# callback zum testen direkt aufrufen\n",
    "on_click(button)"
   ]
  },
  {
   "cell_type": "code",
   "execution_count": null,
   "id": "662687db-5994-4445-b9a8-957660a4e8e6",
   "metadata": {},
   "outputs": [],
   "source": [
    "# Callback fuer on_click Event registrieren\n",
    "# Callback wird nun aufgerufen, falls der Button geklickt wird\n",
    "button.on_click(on_click)"
   ]
  },
  {
   "cell_type": "code",
   "execution_count": null,
   "id": "6f774cd2-f226-460a-b16e-fc1585d934d0",
   "metadata": {},
   "outputs": [],
   "source": []
  }
 ],
 "metadata": {
  "author": "dieter.probst@gmail.com",
  "kernelspec": {
   "display_name": "Python 3 (ipykernel)",
   "language": "python",
   "name": "python3"
  },
  "language_info": {
   "codemirror_mode": {
    "name": "ipython",
    "version": 3
   },
   "file_extension": ".py",
   "mimetype": "text/x-python",
   "name": "python",
   "nbconvert_exporter": "python",
   "pygments_lexer": "ipython3",
   "version": "3.13.0"
  }
 },
 "nbformat": 4,
 "nbformat_minor": 5
}
